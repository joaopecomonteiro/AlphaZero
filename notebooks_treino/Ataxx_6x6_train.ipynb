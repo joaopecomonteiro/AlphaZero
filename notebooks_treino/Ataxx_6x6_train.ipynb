{
  "cells": [
    {
      "cell_type": "markdown",
      "source": [
        "Este notebook serviu para treinar o modelo para o jogo ataxx com o tabuleiro 6x6."
      ],
      "metadata": {
        "id": "qtxRiI0-kFSV"
      }
    },
    {
      "cell_type": "code",
      "execution_count": null,
      "metadata": {
        "colab": {
          "base_uri": "https://localhost:8080/"
        },
        "id": "fArpnnIx5UPW",
        "outputId": "318ef4a3-4f5b-4867-9c83-14384ee2ecf5"
      },
      "outputs": [
        {
          "name": "stdout",
          "output_type": "stream",
          "text": [
            "Mounted at /content/drive\n"
          ]
        }
      ],
      "source": [
        "from google.colab import drive\n",
        "drive.mount('/content/drive')"
      ]
    },
    {
      "cell_type": "code",
      "execution_count": null,
      "metadata": {
        "id": "r2wur4cG5a91"
      },
      "outputs": [],
      "source": [
        "import os\n",
        "import sys\n"
      ]
    },
    {
      "cell_type": "code",
      "execution_count": null,
      "metadata": {
        "id": "YkiXev7T5bAa"
      },
      "outputs": [],
      "source": [
        "os.chdir('/content/drive/MyDrive/trabalho2_liacd')\n",
        "sys.path.append('/content/drive/MyDrive/trabalho2_liacd')"
      ]
    },
    {
      "cell_type": "code",
      "execution_count": null,
      "metadata": {
        "colab": {
          "base_uri": "https://localhost:8080/"
        },
        "id": "aiIsnQ4l5bC4",
        "outputId": "ce05c19f-9573-409f-95cc-f3b7e3c5edc4"
      },
      "outputs": [
        {
          "name": "stdout",
          "output_type": "stream",
          "text": [
            "/content/drive/MyDrive/trabalho2_liacd\n"
          ]
        }
      ],
      "source": [
        "!pwd"
      ]
    },
    {
      "cell_type": "code",
      "execution_count": null,
      "metadata": {
        "colab": {
          "base_uri": "https://localhost:8080/"
        },
        "id": "ArXvPiJy5bFV",
        "outputId": "cd22a8dc-5080-4402-a6e4-0a181f54f253"
      },
      "outputs": [
        {
          "name": "stdout",
          "output_type": "stream",
          "text": [
            "Collecting coloredlogs\n",
            "  Downloading coloredlogs-15.0.1-py2.py3-none-any.whl (46 kB)\n",
            "\u001b[2K     \u001b[90m━━━━━━━━━━━━━━━━━━━━━━━━━━━━━━━━━━━━━━━━\u001b[0m \u001b[32m46.0/46.0 kB\u001b[0m \u001b[31m1.5 MB/s\u001b[0m eta \u001b[36m0:00:00\u001b[0m\n",
            "\u001b[?25hCollecting humanfriendly>=9.1 (from coloredlogs)\n",
            "  Downloading humanfriendly-10.0-py2.py3-none-any.whl (86 kB)\n",
            "\u001b[2K     \u001b[90m━━━━━━━━━━━━━━━━━━━━━━━━━━━━━━━━━━━━━━━━\u001b[0m \u001b[32m86.8/86.8 kB\u001b[0m \u001b[31m4.2 MB/s\u001b[0m eta \u001b[36m0:00:00\u001b[0m\n",
            "\u001b[?25hInstalling collected packages: humanfriendly, coloredlogs\n",
            "Successfully installed coloredlogs-15.0.1 humanfriendly-10.0\n"
          ]
        }
      ],
      "source": [
        "!pip install coloredlogs"
      ]
    },
    {
      "cell_type": "code",
      "execution_count": null,
      "metadata": {
        "colab": {
          "base_uri": "https://localhost:8080/"
        },
        "id": "zVPaSLvZ5bH8",
        "outputId": "f18d5c87-30eb-4676-b652-768f58d292de"
      },
      "outputs": [
        {
          "name": "stdout",
          "output_type": "stream",
          "text": [
            "pygame 2.5.2 (SDL 2.28.2, Python 3.10.12)\n",
            "Hello from the pygame community. https://www.pygame.org/contribute.html\n"
          ]
        }
      ],
      "source": [
        "import logging\n",
        "\n",
        "import coloredlogs\n",
        "from importlib import reload\n",
        "import tensorflow as tf\n",
        "\n",
        "\n",
        "from Coach import Coach\n",
        "from Ataxx.AtaxxGame import AtaxxGame as Game\n",
        "from Ataxx.tensorflow.NNet import NNetWrapper as nn\n",
        "from utils import *\n",
        "\n"
      ]
    },
    {
      "cell_type": "code",
      "execution_count": null,
      "metadata": {
        "id": "SZ2nLK3z5bKR"
      },
      "outputs": [],
      "source": [
        "log = logging.getLogger(__name__)\n",
        "\n",
        "coloredlogs.install(level='INFO')"
      ]
    },
    {
      "cell_type": "code",
      "execution_count": null,
      "metadata": {
        "colab": {
          "base_uri": "https://localhost:8080/"
        },
        "id": "Xvts2nbfXjss",
        "outputId": "6eb5e016-4b27-484f-bd9f-e1edf53860b2"
      },
      "outputs": [
        {
          "data": {
            "text/plain": [
              "1000"
            ]
          },
          "execution_count": 9,
          "metadata": {},
          "output_type": "execute_result"
        }
      ],
      "source": [
        "sys.getrecursionlimit()\n"
      ]
    },
    {
      "cell_type": "code",
      "execution_count": null,
      "metadata": {
        "id": "qdda-REAXk1V"
      },
      "outputs": [],
      "source": [
        "sys.setrecursionlimit(1000000000)\n"
      ]
    },
    {
      "cell_type": "markdown",
      "metadata": {
        "id": "_9aiH-8dhpMb"
      },
      "source": [
        "#Primeiro Treino"
      ]
    },
    {
      "cell_type": "code",
      "execution_count": null,
      "metadata": {
        "id": "l8Q5g6sj5bMt"
      },
      "outputs": [],
      "source": [
        "args = dotdict({\n",
        "    'numIters': 5,\n",
        "    'numEps': 25,              # Number of complete self-play games to simulate during a new iteration.\n",
        "    'tempThreshold': 15,        #\n",
        "    'updateThreshold': 0.6,     # During arena playoff, new neural net will be accepted if threshold or more of games are won.\n",
        "    'maxlenOfQueue': 50000,    # Number of game examples to train the neural networks.\n",
        "    'numMCTSSims': 25,          # Number of games moves for MCTS to simulate.\n",
        "    'arenaCompare': 20,         # Number of games to play during arena play to determine if new net will be accepted.\n",
        "    'cpuct': 1,\n",
        "\n",
        "    'checkpoint': '/content/drive/MyDrive/trabalho2_liacd/models/ataxx/6x6',\n",
        "    'load_model': False,\n",
        "    'load_folder_file': ('/content/drive/MyDrive/trabalho2_liacd/models/ataxx/6x6', 'best.h5'),\n",
        "    'numItersForTrainExamplesHistory': 20,\n",
        "\n",
        "})\n"
      ]
    },
    {
      "cell_type": "code",
      "execution_count": null,
      "metadata": {
        "colab": {
          "base_uri": "https://localhost:8080/"
        },
        "id": "WW1ercjC57O8",
        "outputId": "196b92cc-c210-4b60-e62b-e5e4f135fda8"
      },
      "outputs": [
        {
          "name": "stderr",
          "output_type": "stream",
          "text": [
            "2023-12-24 13:02:30 52a7253b189b __main__[577] INFO Loading AtaxxGame...\n",
            "2023-12-24 13:02:30 52a7253b189b __main__[577] INFO Loading NNetWrapper...\n",
            "2023-12-24 13:02:30 52a7253b189b __main__[577] WARNING Not loading a checkpoint!\n",
            "2023-12-24 13:02:30 52a7253b189b __main__[577] INFO Loading the Coach...\n",
            "2023-12-24 13:02:30 52a7253b189b __main__[577] INFO Starting the learning process 🎉\n",
            "2023-12-24 13:02:30 52a7253b189b Coach[577] INFO Starting Iter #1 ...\n",
            "Self Play: 100%|██████████| 25/25 [15:47<00:00, 37.89s/it]\n"
          ]
        },
        {
          "name": "stdout",
          "output_type": "stream",
          "text": [
            "Checkpoint Directory exists! \n"
          ]
        },
        {
          "name": "stderr",
          "output_type": "stream",
          "text": [
            "/usr/local/lib/python3.10/dist-packages/keras/src/engine/training.py:3103: UserWarning: You are saving your model as an HDF5 file via `model.save()`. This file format is considered legacy. We recommend using instead the native Keras format, e.g. `model.save('my_model.keras')`.\n",
            "  saving_api.save_model(\n"
          ]
        },
        {
          "name": "stdout",
          "output_type": "stream",
          "text": [
            "okok\n",
            "(6160, 6, 6, 1)\n",
            "Epoch 1/10\n",
            "97/97 [==============================] - 12s 114ms/step - loss: 5.2181 - pi_loss: 3.8620 - v_loss: 1.3561\n",
            "Epoch 2/10\n",
            "97/97 [==============================] - 11s 109ms/step - loss: 4.6083 - pi_loss: 3.5353 - v_loss: 1.0730\n",
            "Epoch 3/10\n",
            "97/97 [==============================] - 10s 104ms/step - loss: 4.3063 - pi_loss: 3.3673 - v_loss: 0.9389\n",
            "Epoch 4/10\n",
            "97/97 [==============================] - 10s 105ms/step - loss: 3.9789 - pi_loss: 3.1923 - v_loss: 0.7865\n",
            "Epoch 5/10\n",
            "97/97 [==============================] - 11s 111ms/step - loss: 3.6669 - pi_loss: 2.9861 - v_loss: 0.6808\n",
            "Epoch 6/10\n",
            "97/97 [==============================] - 11s 116ms/step - loss: 3.3594 - pi_loss: 2.7781 - v_loss: 0.5813\n",
            "Epoch 7/10\n",
            "97/97 [==============================] - 12s 121ms/step - loss: 3.0229 - pi_loss: 2.5448 - v_loss: 0.4781\n",
            "Epoch 8/10\n",
            "97/97 [==============================] - 10s 107ms/step - loss: 2.7310 - pi_loss: 2.3217 - v_loss: 0.4093\n",
            "Epoch 9/10\n",
            "97/97 [==============================] - 10s 108ms/step - loss: 2.4723 - pi_loss: 2.1063 - v_loss: 0.3660\n",
            "Epoch 10/10\n",
            "97/97 [==============================] - 11s 109ms/step - loss: 2.2929 - pi_loss: 1.9478 - v_loss: 0.3452\n"
          ]
        },
        {
          "name": "stderr",
          "output_type": "stream",
          "text": [
            "2023-12-24 13:20:42 52a7253b189b Coach[577] INFO PITTING AGAINST PREVIOUS VERSION\n",
            "Arena.playGames (1): 100%|██████████| 10/10 [08:12<00:00, 49.24s/it]\n",
            "Arena.playGames (2): 100%|██████████| 10/10 [05:30<00:00, 33.01s/it]\n",
            "2023-12-24 13:34:24 52a7253b189b Coach[577] INFO NEW/PREV WINS : 13 / 4 ; DRAWS : 3\n",
            "2023-12-24 13:34:24 52a7253b189b Coach[577] INFO ACCEPTING NEW MODEL\n"
          ]
        },
        {
          "name": "stdout",
          "output_type": "stream",
          "text": [
            "Checkpoint Directory exists! \n",
            "Checkpoint Directory exists! \n"
          ]
        },
        {
          "name": "stderr",
          "output_type": "stream",
          "text": [
            "2023-12-24 13:34:25 52a7253b189b Coach[577] INFO Starting Iter #2 ...\n",
            "Self Play: 100%|██████████| 25/25 [19:31<00:00, 46.85s/it]\n"
          ]
        },
        {
          "name": "stdout",
          "output_type": "stream",
          "text": [
            "Checkpoint Directory exists! \n",
            "okok\n",
            "(13688, 6, 6, 1)\n",
            "Epoch 1/10\n",
            "214/214 [==============================] - 25s 118ms/step - loss: 3.1731 - pi_loss: 2.5080 - v_loss: 0.6651\n",
            "Epoch 2/10\n",
            "214/214 [==============================] - 24s 113ms/step - loss: 2.6513 - pi_loss: 2.1355 - v_loss: 0.5159\n",
            "Epoch 3/10\n",
            "214/214 [==============================] - 26s 120ms/step - loss: 2.3360 - pi_loss: 1.9083 - v_loss: 0.4277\n",
            "Epoch 4/10\n",
            "214/214 [==============================] - 24s 111ms/step - loss: 2.0988 - pi_loss: 1.7187 - v_loss: 0.3801\n",
            "Epoch 5/10\n",
            "214/214 [==============================] - 24s 112ms/step - loss: 1.9169 - pi_loss: 1.5753 - v_loss: 0.3417\n",
            "Epoch 6/10\n",
            "214/214 [==============================] - 24s 111ms/step - loss: 1.7592 - pi_loss: 1.4525 - v_loss: 0.3067\n",
            "Epoch 7/10\n",
            "214/214 [==============================] - 25s 116ms/step - loss: 1.6538 - pi_loss: 1.3581 - v_loss: 0.2958\n",
            "Epoch 8/10\n",
            "214/214 [==============================] - 25s 116ms/step - loss: 1.5644 - pi_loss: 1.2943 - v_loss: 0.2700\n",
            "Epoch 9/10\n",
            "214/214 [==============================] - 25s 117ms/step - loss: 1.4778 - pi_loss: 1.2196 - v_loss: 0.2581\n",
            "Epoch 10/10\n",
            "214/214 [==============================] - 24s 114ms/step - loss: 1.4386 - pi_loss: 1.1877 - v_loss: 0.2509\n"
          ]
        },
        {
          "name": "stderr",
          "output_type": "stream",
          "text": [
            "2023-12-24 13:58:21 52a7253b189b Coach[577] INFO PITTING AGAINST PREVIOUS VERSION\n",
            "Arena.playGames (1): 100%|██████████| 10/10 [10:05<00:00, 60.56s/it]\n",
            "Arena.playGames (2): 100%|██████████| 10/10 [11:47<00:00, 70.73s/it]\n",
            "2023-12-24 14:20:14 52a7253b189b Coach[577] INFO NEW/PREV WINS : 14 / 6 ; DRAWS : 0\n",
            "2023-12-24 14:20:14 52a7253b189b Coach[577] INFO ACCEPTING NEW MODEL\n"
          ]
        },
        {
          "name": "stdout",
          "output_type": "stream",
          "text": [
            "Checkpoint Directory exists! \n",
            "Checkpoint Directory exists! \n"
          ]
        },
        {
          "name": "stderr",
          "output_type": "stream",
          "text": [
            "2023-12-24 14:20:15 52a7253b189b Coach[577] INFO Starting Iter #3 ...\n",
            "Self Play: 100%|██████████| 25/25 [20:31<00:00, 49.26s/it]\n"
          ]
        },
        {
          "name": "stdout",
          "output_type": "stream",
          "text": [
            "Checkpoint Directory exists! \n",
            "okok\n",
            "(21800, 6, 6, 1)\n",
            "Epoch 1/10\n",
            "341/341 [==============================] - 38s 111ms/step - loss: 2.5557 - pi_loss: 1.9678 - v_loss: 0.5879\n",
            "Epoch 2/10\n",
            "341/341 [==============================] - 37s 110ms/step - loss: 1.9857 - pi_loss: 1.5467 - v_loss: 0.4390\n",
            "Epoch 3/10\n",
            "341/341 [==============================] - 37s 108ms/step - loss: 1.7240 - pi_loss: 1.3556 - v_loss: 0.3684\n",
            "Epoch 4/10\n",
            "341/341 [==============================] - 37s 108ms/step - loss: 1.5728 - pi_loss: 1.2382 - v_loss: 0.3345\n",
            "Epoch 5/10\n",
            "341/341 [==============================] - 39s 115ms/step - loss: 1.4394 - pi_loss: 1.1484 - v_loss: 0.2910\n",
            "Epoch 6/10\n",
            "341/341 [==============================] - 38s 112ms/step - loss: 1.3777 - pi_loss: 1.1053 - v_loss: 0.2724\n",
            "Epoch 7/10\n",
            "341/341 [==============================] - 39s 116ms/step - loss: 1.3194 - pi_loss: 1.0617 - v_loss: 0.2577\n",
            "Epoch 8/10\n",
            "341/341 [==============================] - 38s 112ms/step - loss: 1.2772 - pi_loss: 1.0293 - v_loss: 0.2479\n",
            "Epoch 9/10\n",
            "341/341 [==============================] - 38s 111ms/step - loss: 1.2498 - pi_loss: 1.0183 - v_loss: 0.2315\n",
            "Epoch 10/10\n",
            "341/341 [==============================] - 38s 111ms/step - loss: 1.2106 - pi_loss: 0.9937 - v_loss: 0.2169\n"
          ]
        },
        {
          "name": "stderr",
          "output_type": "stream",
          "text": [
            "2023-12-24 14:47:11 52a7253b189b Coach[577] INFO PITTING AGAINST PREVIOUS VERSION\n",
            "Arena.playGames (1): 100%|██████████| 10/10 [11:24<00:00, 68.47s/it]\n",
            "Arena.playGames (2): 100%|██████████| 10/10 [10:42<00:00, 64.22s/it]\n",
            "2023-12-24 15:09:18 52a7253b189b Coach[577] INFO NEW/PREV WINS : 11 / 8 ; DRAWS : 1\n",
            "2023-12-24 15:09:18 52a7253b189b Coach[577] INFO REJECTING NEW MODEL\n",
            "2023-12-24 15:09:20 52a7253b189b Coach[577] INFO Starting Iter #4 ...\n",
            "Self Play: 100%|██████████| 25/25 [19:29<00:00, 46.78s/it]\n"
          ]
        },
        {
          "name": "stdout",
          "output_type": "stream",
          "text": [
            "Checkpoint Directory exists! \n",
            "okok\n",
            "(29272, 6, 6, 1)\n",
            "Epoch 1/10\n",
            "458/458 [==============================] - 52s 111ms/step - loss: 2.8375 - pi_loss: 2.1655 - v_loss: 0.6720\n",
            "Epoch 2/10\n",
            "458/458 [==============================] - 51s 112ms/step - loss: 2.2347 - pi_loss: 1.7148 - v_loss: 0.5199\n",
            "Epoch 3/10\n",
            "458/458 [==============================] - 50s 109ms/step - loss: 1.9614 - pi_loss: 1.5190 - v_loss: 0.4425\n",
            "Epoch 4/10\n",
            "458/458 [==============================] - 50s 110ms/step - loss: 1.7659 - pi_loss: 1.3767 - v_loss: 0.3892\n",
            "Epoch 5/10\n",
            "458/458 [==============================] - 50s 109ms/step - loss: 1.6073 - pi_loss: 1.2613 - v_loss: 0.3460\n",
            "Epoch 6/10\n",
            "458/458 [==============================] - 49s 108ms/step - loss: 1.5005 - pi_loss: 1.1805 - v_loss: 0.3200\n",
            "Epoch 7/10\n",
            "458/458 [==============================] - 50s 110ms/step - loss: 1.4058 - pi_loss: 1.1114 - v_loss: 0.2943\n",
            "Epoch 8/10\n",
            "458/458 [==============================] - 49s 107ms/step - loss: 1.3446 - pi_loss: 1.0670 - v_loss: 0.2776\n",
            "Epoch 9/10\n",
            "458/458 [==============================] - 49s 107ms/step - loss: 1.2895 - pi_loss: 1.0323 - v_loss: 0.2572\n",
            "Epoch 10/10\n",
            "458/458 [==============================] - 49s 107ms/step - loss: 1.2434 - pi_loss: 0.9954 - v_loss: 0.2479\n"
          ]
        },
        {
          "name": "stderr",
          "output_type": "stream",
          "text": [
            "2023-12-24 15:37:16 52a7253b189b Coach[577] INFO PITTING AGAINST PREVIOUS VERSION\n",
            "Arena.playGames (1): 100%|██████████| 10/10 [11:16<00:00, 67.62s/it]\n",
            "Arena.playGames (2): 100%|██████████| 10/10 [10:59<00:00, 65.99s/it]\n",
            "2023-12-24 15:59:32 52a7253b189b Coach[577] INFO NEW/PREV WINS : 10 / 7 ; DRAWS : 3\n",
            "2023-12-24 15:59:32 52a7253b189b Coach[577] INFO REJECTING NEW MODEL\n",
            "2023-12-24 15:59:33 52a7253b189b Coach[577] INFO Starting Iter #5 ...\n",
            "Self Play: 100%|██████████| 25/25 [20:30<00:00, 49.22s/it]\n"
          ]
        },
        {
          "name": "stdout",
          "output_type": "stream",
          "text": [
            "Checkpoint Directory exists! \n",
            "okok\n",
            "(37296, 6, 6, 1)\n",
            "Epoch 1/10\n",
            "583/583 [==============================] - 68s 114ms/step - loss: 2.9585 - pi_loss: 2.2492 - v_loss: 0.7093\n",
            "Epoch 2/10\n",
            "583/583 [==============================] - 65s 112ms/step - loss: 2.3927 - pi_loss: 1.8215 - v_loss: 0.5711\n",
            "Epoch 3/10\n",
            "583/583 [==============================] - 65s 112ms/step - loss: 2.1374 - pi_loss: 1.6350 - v_loss: 0.5024\n",
            "Epoch 4/10\n",
            "583/583 [==============================] - 67s 114ms/step - loss: 1.9177 - pi_loss: 1.4770 - v_loss: 0.4407\n",
            "Epoch 5/10\n",
            "583/583 [==============================] - 64s 110ms/step - loss: 1.7296 - pi_loss: 1.3359 - v_loss: 0.3937\n",
            "Epoch 6/10\n",
            "583/583 [==============================] - 64s 110ms/step - loss: 1.5891 - pi_loss: 1.2384 - v_loss: 0.3507\n",
            "Epoch 7/10\n",
            "583/583 [==============================] - 65s 112ms/step - loss: 1.4784 - pi_loss: 1.1536 - v_loss: 0.3248\n",
            "Epoch 8/10\n",
            "583/583 [==============================] - 65s 111ms/step - loss: 1.3929 - pi_loss: 1.0931 - v_loss: 0.2998\n",
            "Epoch 9/10\n",
            "583/583 [==============================] - 66s 113ms/step - loss: 1.3226 - pi_loss: 1.0432 - v_loss: 0.2793\n",
            "Epoch 10/10\n",
            "583/583 [==============================] - 66s 114ms/step - loss: 1.2802 - pi_loss: 1.0102 - v_loss: 0.2700\n"
          ]
        },
        {
          "name": "stderr",
          "output_type": "stream",
          "text": [
            "2023-12-24 16:31:32 52a7253b189b Coach[577] INFO PITTING AGAINST PREVIOUS VERSION\n",
            "Arena.playGames (1): 100%|██████████| 10/10 [11:17<00:00, 67.74s/it]\n",
            "Arena.playGames (2): 100%|██████████| 10/10 [11:28<00:00, 68.82s/it]\n",
            "2023-12-24 16:54:17 52a7253b189b Coach[577] INFO NEW/PREV WINS : 13 / 4 ; DRAWS : 3\n",
            "2023-12-24 16:54:17 52a7253b189b Coach[577] INFO ACCEPTING NEW MODEL\n"
          ]
        },
        {
          "name": "stdout",
          "output_type": "stream",
          "text": [
            "Checkpoint Directory exists! \n",
            "Checkpoint Directory exists! \n"
          ]
        }
      ],
      "source": [
        "log.info('Loading %s...', Game.__name__)\n",
        "g = Game(6)\n",
        "\n",
        "log.info('Loading %s...', nn.__name__)\n",
        "nnet = nn(g)\n",
        "\n",
        "if args.load_model:\n",
        "    log.info('Loading checkpoint \"%s/%s\"...', args.load_folder_file[0], args.load_folder_file[1])\n",
        "    nnet.load_checkpoint(args.load_folder_file[0], args.load_folder_file[1])\n",
        "else:\n",
        "    log.warning('Not loading a checkpoint!')\n",
        "\n",
        "log.info('Loading the Coach...')\n",
        "c = Coach(g, nnet, args)\n",
        "\n",
        "if args.load_model:\n",
        "    log.info(\"Loading 'trainExamples' from file...\")\n",
        "    c.loadTrainExamples()\n",
        "\n",
        "log.info('Starting the learning process 🎉')\n",
        "c.learn()"
      ]
    },
    {
      "cell_type": "markdown",
      "metadata": {
        "id": "2sxLhBy43pvY"
      },
      "source": [
        "##Segundo Treino"
      ]
    },
    {
      "cell_type": "code",
      "execution_count": null,
      "metadata": {
        "id": "ZaXJheyf57RJ"
      },
      "outputs": [],
      "source": [
        "args2 = dotdict({\n",
        "    'numIters':15,\n",
        "    'numEps': 10,              # Number of complete self-play games to simulate during a new iteration.\n",
        "    'tempThreshold': 15,        #\n",
        "    'updateThreshold': 0.6,     # During arena playoff, new neural net will be accepted if threshold or more of games are won.\n",
        "    'maxlenOfQueue': 50000,    # Number of game examples to train the neural networks.\n",
        "    'numMCTSSims': 25,          # Number of games moves for MCTS to simulate.\n",
        "    'arenaCompare': 20,         # Number of games to play during arena play to determine if new net will be accepted.\n",
        "    'cpuct': 1,\n",
        "\n",
        "    'checkpoint': '/content/drive/MyDrive/trabalho2_liacd/models/ataxx/6x6',\n",
        "    'load_model': True,\n",
        "    'load_folder_file': ('/content/drive/MyDrive/trabalho2_liacd/models/ataxx/6x6', 'best.h5'),\n",
        "    'numItersForTrainExamplesHistory': 20,\n",
        "\n",
        "})\n"
      ]
    },
    {
      "cell_type": "code",
      "execution_count": null,
      "metadata": {
        "colab": {
          "background_save": true,
          "base_uri": "https://localhost:8080/"
        },
        "id": "Pd6MKqYp57Tg",
        "outputId": "075103ee-2a0a-49c8-bd6f-bf603d86e90e"
      },
      "outputs": [
        {
          "name": "stderr",
          "output_type": "stream",
          "text": [
            "2023-12-24 17:38:12 52a7253b189b __main__[1292681] INFO Loading AtaxxGame...\n",
            "2023-12-24 17:38:12 52a7253b189b __main__[1292681] INFO Loading NNetWrapper...\n",
            "2023-12-24 17:38:12 52a7253b189b __main__[1292681] INFO Loading checkpoint \"/content/drive/MyDrive/trabalho2_liacd/models/ataxx/6x6/best.h5\"...\n",
            "2023-12-24 17:38:14 52a7253b189b __main__[1292681] INFO Loading the Coach...\n",
            "2023-12-24 17:38:14 52a7253b189b __main__[1292681] INFO Loading 'trainExamples' from file...\n",
            "2023-12-24 17:38:14 52a7253b189b Coach[1292681] WARNING File \"/content/drive/MyDrive/trabalho2_liacd/models/ataxx/6x6/best.h5.examples\" with trainExamples not found!\n",
            "2023-12-24 17:38:15 52a7253b189b __main__[1292681] INFO Starting the learning process 🎉\n",
            "2023-12-24 17:38:15 52a7253b189b Coach[1292681] INFO Starting Iter #1 ...\n",
            "Self Play: 100%|██████████| 10/10 [07:57<00:00, 47.75s/it]\n"
          ]
        },
        {
          "name": "stdout",
          "output_type": "stream",
          "text": [
            "Checkpoint Directory exists! \n"
          ]
        },
        {
          "name": "stderr",
          "output_type": "stream",
          "text": [
            "/usr/local/lib/python3.10/dist-packages/keras/src/engine/training.py:3103: UserWarning: You are saving your model as an HDF5 file via `model.save()`. This file format is considered legacy. We recommend using instead the native Keras format, e.g. `model.save('my_model.keras')`.\n",
            "  saving_api.save_model(\n"
          ]
        },
        {
          "name": "stdout",
          "output_type": "stream",
          "text": [
            "Epoch 1/10\n",
            "49/49 [==============================] - 7s 133ms/step - loss: 3.5957 - pi_loss: 2.7276 - v_loss: 0.8681\n",
            "Epoch 2/10\n",
            "49/49 [==============================] - 5s 110ms/step - loss: 1.7593 - pi_loss: 1.3600 - v_loss: 0.3993\n",
            "Epoch 3/10\n",
            "49/49 [==============================] - 6s 125ms/step - loss: 1.2191 - pi_loss: 0.9562 - v_loss: 0.2628\n",
            "Epoch 4/10\n",
            "49/49 [==============================] - 5s 107ms/step - loss: 1.0421 - pi_loss: 0.8157 - v_loss: 0.2263\n",
            "Epoch 5/10\n",
            "49/49 [==============================] - 6s 120ms/step - loss: 0.9196 - pi_loss: 0.7347 - v_loss: 0.1849\n",
            "Epoch 6/10\n",
            "49/49 [==============================] - 6s 116ms/step - loss: 0.8754 - pi_loss: 0.6998 - v_loss: 0.1756\n",
            "Epoch 7/10\n",
            "49/49 [==============================] - 5s 109ms/step - loss: 0.8275 - pi_loss: 0.6625 - v_loss: 0.1651\n",
            "Epoch 8/10\n",
            "49/49 [==============================] - 6s 123ms/step - loss: 0.8075 - pi_loss: 0.6555 - v_loss: 0.1521\n",
            "Epoch 9/10\n",
            "49/49 [==============================] - 5s 110ms/step - loss: 0.7786 - pi_loss: 0.6341 - v_loss: 0.1445\n",
            "Epoch 10/10\n",
            "49/49 [==============================] - 6s 125ms/step - loss: 0.7671 - pi_loss: 0.6221 - v_loss: 0.1450\n"
          ]
        },
        {
          "name": "stderr",
          "output_type": "stream",
          "text": [
            "2023-12-24 17:47:37 52a7253b189b Coach[1292681] INFO PITTING AGAINST PREVIOUS VERSION\n",
            "Arena.playGames (1): 100%|██████████| 10/10 [10:25<00:00, 62.53s/it]\n",
            "Arena.playGames (2): 100%|██████████| 10/10 [11:13<00:00, 67.31s/it]\n",
            "2023-12-24 18:09:16 52a7253b189b Coach[1292681] INFO NEW/PREV WINS : 14 / 4 ; DRAWS : 2\n",
            "2023-12-24 18:09:16 52a7253b189b Coach[1292681] INFO ACCEPTING NEW MODEL\n"
          ]
        },
        {
          "name": "stdout",
          "output_type": "stream",
          "text": [
            "Checkpoint Directory exists! \n",
            "Checkpoint Directory exists! \n"
          ]
        },
        {
          "name": "stderr",
          "output_type": "stream",
          "text": [
            "2023-12-24 18:09:17 52a7253b189b Coach[1292681] INFO Starting Iter #2 ...\n",
            "Self Play: 100%|██████████| 10/10 [10:24<00:00, 62.41s/it]\n"
          ]
        },
        {
          "name": "stdout",
          "output_type": "stream",
          "text": [
            "Checkpoint Directory exists! \n",
            "Epoch 1/10\n",
            "107/107 [==============================] - 12s 113ms/step - loss: 2.1803 - pi_loss: 1.7123 - v_loss: 0.4681\n",
            "Epoch 2/10\n",
            "107/107 [==============================] - 12s 111ms/step - loss: 1.3412 - pi_loss: 1.0454 - v_loss: 0.2958\n",
            "Epoch 3/10\n",
            "107/107 [==============================] - 12s 111ms/step - loss: 1.0872 - pi_loss: 0.8537 - v_loss: 0.2335\n",
            "Epoch 4/10\n",
            "107/107 [==============================] - 12s 111ms/step - loss: 0.9575 - pi_loss: 0.7524 - v_loss: 0.2050\n",
            "Epoch 5/10\n",
            "107/107 [==============================] - 12s 112ms/step - loss: 0.8741 - pi_loss: 0.6928 - v_loss: 0.1813\n",
            "Epoch 6/10\n",
            "107/107 [==============================] - 12s 111ms/step - loss: 0.8346 - pi_loss: 0.6638 - v_loss: 0.1708\n",
            "Epoch 7/10\n",
            "107/107 [==============================] - 12s 109ms/step - loss: 0.8060 - pi_loss: 0.6393 - v_loss: 0.1667\n",
            "Epoch 8/10\n",
            "107/107 [==============================] - 11s 105ms/step - loss: 0.7798 - pi_loss: 0.6258 - v_loss: 0.1540\n",
            "Epoch 9/10\n",
            "107/107 [==============================] - 11s 107ms/step - loss: 0.7642 - pi_loss: 0.6135 - v_loss: 0.1507\n",
            "Epoch 10/10\n",
            "107/107 [==============================] - 11s 107ms/step - loss: 0.7534 - pi_loss: 0.6025 - v_loss: 0.1508\n"
          ]
        },
        {
          "name": "stderr",
          "output_type": "stream",
          "text": [
            "2023-12-24 18:22:06 52a7253b189b Coach[1292681] INFO PITTING AGAINST PREVIOUS VERSION\n",
            "Arena.playGames (1): 100%|██████████| 10/10 [09:27<00:00, 56.75s/it]\n",
            "Arena.playGames (2): 100%|██████████| 10/10 [09:07<00:00, 54.73s/it]\n",
            "2023-12-24 18:40:40 52a7253b189b Coach[1292681] INFO NEW/PREV WINS : 6 / 7 ; DRAWS : 7\n",
            "2023-12-24 18:40:40 52a7253b189b Coach[1292681] INFO REJECTING NEW MODEL\n",
            "2023-12-24 18:40:41 52a7253b189b Coach[1292681] INFO Starting Iter #3 ...\n",
            "Self Play: 100%|██████████| 10/10 [08:42<00:00, 52.26s/it]\n"
          ]
        },
        {
          "name": "stdout",
          "output_type": "stream",
          "text": [
            "Checkpoint Directory exists! \n",
            "Epoch 1/10\n",
            "161/161 [==============================] - 18s 108ms/step - loss: 2.4880 - pi_loss: 1.9142 - v_loss: 0.5738\n",
            "Epoch 2/10\n",
            "161/161 [==============================] - 19s 116ms/step - loss: 1.6169 - pi_loss: 1.2397 - v_loss: 0.3771\n",
            "Epoch 3/10\n",
            "161/161 [==============================] - 17s 106ms/step - loss: 1.2853 - pi_loss: 0.9864 - v_loss: 0.2989\n",
            "Epoch 4/10\n",
            "161/161 [==============================] - 17s 108ms/step - loss: 1.0925 - pi_loss: 0.8452 - v_loss: 0.2473\n",
            "Epoch 5/10\n",
            "161/161 [==============================] - 17s 107ms/step - loss: 0.9799 - pi_loss: 0.7563 - v_loss: 0.2235\n",
            "Epoch 6/10\n",
            "161/161 [==============================] - 17s 107ms/step - loss: 0.9208 - pi_loss: 0.7190 - v_loss: 0.2018\n",
            "Epoch 7/10\n",
            "161/161 [==============================] - 18s 110ms/step - loss: 0.8752 - pi_loss: 0.6842 - v_loss: 0.1911\n",
            "Epoch 8/10\n",
            "161/161 [==============================] - 17s 106ms/step - loss: 0.8513 - pi_loss: 0.6732 - v_loss: 0.1782\n",
            "Epoch 9/10\n",
            "161/161 [==============================] - 18s 111ms/step - loss: 0.8304 - pi_loss: 0.6514 - v_loss: 0.1790\n",
            "Epoch 10/10\n",
            "161/161 [==============================] - 17s 106ms/step - loss: 0.8068 - pi_loss: 0.6394 - v_loss: 0.1674\n"
          ]
        },
        {
          "name": "stderr",
          "output_type": "stream",
          "text": [
            "2023-12-24 18:52:21 52a7253b189b Coach[1292681] INFO PITTING AGAINST PREVIOUS VERSION\n",
            "Arena.playGames (1): 100%|██████████| 10/10 [08:52<00:00, 53.23s/it]\n",
            "Arena.playGames (2): 100%|██████████| 10/10 [09:34<00:00, 57.50s/it]\n",
            "2023-12-24 19:10:49 52a7253b189b Coach[1292681] INFO NEW/PREV WINS : 10 / 6 ; DRAWS : 4\n",
            "2023-12-24 19:10:49 52a7253b189b Coach[1292681] INFO ACCEPTING NEW MODEL\n"
          ]
        },
        {
          "name": "stdout",
          "output_type": "stream",
          "text": [
            "Checkpoint Directory exists! \n",
            "Checkpoint Directory exists! \n"
          ]
        },
        {
          "name": "stderr",
          "output_type": "stream",
          "text": [
            "2023-12-24 19:10:50 52a7253b189b Coach[1292681] INFO Starting Iter #4 ...\n",
            "Self Play: 100%|██████████| 10/10 [08:54<00:00, 53.45s/it]\n"
          ]
        },
        {
          "name": "stdout",
          "output_type": "stream",
          "text": [
            "Checkpoint Directory exists! \n",
            "Epoch 1/10\n",
            "214/214 [==============================] - 24s 112ms/step - loss: 1.4415 - pi_loss: 1.1673 - v_loss: 0.2742\n",
            "Epoch 2/10\n",
            "214/214 [==============================] - 23s 109ms/step - loss: 1.0551 - pi_loss: 0.8326 - v_loss: 0.2224\n",
            "Epoch 3/10\n",
            "214/214 [==============================] - 23s 109ms/step - loss: 0.9255 - pi_loss: 0.7296 - v_loss: 0.1959\n",
            "Epoch 4/10\n",
            "214/214 [==============================] - 23s 109ms/step - loss: 0.8613 - pi_loss: 0.6814 - v_loss: 0.1799\n",
            "Epoch 5/10\n",
            "214/214 [==============================] - 23s 108ms/step - loss: 0.8239 - pi_loss: 0.6598 - v_loss: 0.1641\n",
            "Epoch 6/10\n",
            "214/214 [==============================] - 23s 109ms/step - loss: 0.8059 - pi_loss: 0.6455 - v_loss: 0.1603\n",
            "Epoch 7/10\n",
            "214/214 [==============================] - 23s 109ms/step - loss: 0.7803 - pi_loss: 0.6299 - v_loss: 0.1503\n",
            "Epoch 8/10\n",
            "214/214 [==============================] - 23s 108ms/step - loss: 0.7757 - pi_loss: 0.6296 - v_loss: 0.1461\n",
            "Epoch 9/10\n",
            "214/214 [==============================] - 23s 108ms/step - loss: 0.7684 - pi_loss: 0.6240 - v_loss: 0.1444\n",
            "Epoch 10/10\n",
            "214/214 [==============================] - 23s 108ms/step - loss: 0.7579 - pi_loss: 0.6199 - v_loss: 0.1381\n"
          ]
        },
        {
          "name": "stderr",
          "output_type": "stream",
          "text": [
            "2023-12-24 19:24:09 52a7253b189b Coach[1292681] INFO PITTING AGAINST PREVIOUS VERSION\n",
            "Arena.playGames (1): 100%|██████████| 10/10 [10:16<00:00, 61.65s/it]\n",
            "Arena.playGames (2): 100%|██████████| 10/10 [11:23<00:00, 68.36s/it]\n",
            "2023-12-24 19:45:49 52a7253b189b Coach[1292681] INFO NEW/PREV WINS : 11 / 6 ; DRAWS : 3\n",
            "2023-12-24 19:45:49 52a7253b189b Coach[1292681] INFO ACCEPTING NEW MODEL\n"
          ]
        },
        {
          "name": "stdout",
          "output_type": "stream",
          "text": [
            "Checkpoint Directory exists! \n",
            "Checkpoint Directory exists! \n"
          ]
        },
        {
          "name": "stderr",
          "output_type": "stream",
          "text": [
            "2023-12-24 19:45:50 52a7253b189b Coach[1292681] INFO Starting Iter #5 ...\n",
            "Self Play: 100%|██████████| 10/10 [10:29<00:00, 62.94s/it]\n"
          ]
        },
        {
          "name": "stdout",
          "output_type": "stream",
          "text": [
            "Checkpoint Directory exists! \n",
            "Epoch 1/10\n",
            "269/269 [==============================] - 31s 116ms/step - loss: 1.3398 - pi_loss: 1.0844 - v_loss: 0.2554\n",
            "Epoch 2/10\n",
            "269/269 [==============================] - 31s 116ms/step - loss: 0.9852 - pi_loss: 0.7878 - v_loss: 0.1975\n",
            "Epoch 3/10\n",
            "269/269 [==============================] - 31s 114ms/step - loss: 0.8718 - pi_loss: 0.6987 - v_loss: 0.1731\n",
            "Epoch 4/10\n",
            "269/269 [==============================] - 30s 113ms/step - loss: 0.8189 - pi_loss: 0.6658 - v_loss: 0.1531\n",
            "Epoch 5/10\n",
            "269/269 [==============================] - 31s 114ms/step - loss: 0.7911 - pi_loss: 0.6456 - v_loss: 0.1454\n",
            "Epoch 6/10\n",
            "269/269 [==============================] - 30s 113ms/step - loss: 0.7772 - pi_loss: 0.6373 - v_loss: 0.1399\n",
            "Epoch 7/10\n",
            "269/269 [==============================] - 31s 114ms/step - loss: 0.7627 - pi_loss: 0.6295 - v_loss: 0.1332\n",
            "Epoch 8/10\n",
            "269/269 [==============================] - 30s 112ms/step - loss: 0.7609 - pi_loss: 0.6288 - v_loss: 0.1321\n",
            "Epoch 9/10\n",
            "269/269 [==============================] - 31s 115ms/step - loss: 0.7528 - pi_loss: 0.6258 - v_loss: 0.1270\n",
            "Epoch 10/10\n",
            "269/269 [==============================] - 31s 116ms/step - loss: 0.7454 - pi_loss: 0.6214 - v_loss: 0.1240\n"
          ]
        },
        {
          "name": "stderr",
          "output_type": "stream",
          "text": [
            "2023-12-24 20:01:44 52a7253b189b Coach[1292681] INFO PITTING AGAINST PREVIOUS VERSION\n",
            "Arena.playGames (1): 100%|██████████| 10/10 [11:40<00:00, 70.08s/it]\n",
            "Arena.playGames (2): 100%|██████████| 10/10 [11:10<00:00, 67.07s/it]\n",
            "2023-12-24 20:24:36 52a7253b189b Coach[1292681] INFO NEW/PREV WINS : 7 / 8 ; DRAWS : 5\n",
            "2023-12-24 20:24:36 52a7253b189b Coach[1292681] INFO REJECTING NEW MODEL\n",
            "2023-12-24 20:24:37 52a7253b189b Coach[1292681] INFO Starting Iter #6 ...\n",
            "Self Play: 100%|██████████| 10/10 [11:30<00:00, 69.05s/it]\n"
          ]
        },
        {
          "name": "stdout",
          "output_type": "stream",
          "text": [
            "Checkpoint Directory exists! \n",
            "Epoch 1/10\n",
            "328/328 [==============================] - 38s 113ms/step - loss: 1.6749 - pi_loss: 1.3405 - v_loss: 0.3344\n",
            "Epoch 2/10\n",
            "328/328 [==============================] - 37s 113ms/step - loss: 1.1893 - pi_loss: 0.9311 - v_loss: 0.2582\n",
            "Epoch 3/10\n",
            "328/328 [==============================] - 37s 112ms/step - loss: 0.9930 - pi_loss: 0.7772 - v_loss: 0.2158\n",
            "Epoch 4/10\n",
            "138/328 [===========>..................] - ETA: 22s - loss: 0.9003 - pi_loss: 0.7136 - v_loss: 0.1867"
          ]
        }
      ],
      "source": [
        "log.info('Loading %s...', Game.__name__)\n",
        "g = Game(6)\n",
        "\n",
        "log.info('Loading %s...', nn.__name__)\n",
        "nnet = nn(g)\n",
        "\n",
        "if args2.load_model:\n",
        "    log.info('Loading checkpoint \"%s/%s\"...', args2.load_folder_file[0], args2.load_folder_file[1])\n",
        "    nnet.load_model(args2.load_folder_file[0], args2.load_folder_file[1])\n",
        "else:\n",
        "    log.warning('Not loading a checkpoint!')\n",
        "\n",
        "log.info('Loading the Coach...')\n",
        "c = Coach(g, nnet, args2)\n",
        "\n",
        "if args2.load_model:\n",
        "    log.info(\"Loading 'trainExamples' from file...\")\n",
        "    c.loadTrainExamples()\n",
        "\n",
        "log.info('Starting the learning process 🎉')\n",
        "c.learn()"
      ]
    },
    {
      "cell_type": "markdown",
      "metadata": {
        "id": "h6FMgdur_M4G"
      },
      "source": [
        "##Terceiro Treino"
      ]
    },
    {
      "cell_type": "code",
      "execution_count": null,
      "metadata": {
        "id": "D6vYOT7u_O3w"
      },
      "outputs": [],
      "source": [
        "args3 = dotdict({\n",
        "    'numIters':10,\n",
        "    'numEps': 10,              # Number of complete self-play games to simulate during a new iteration.\n",
        "    'tempThreshold': 15,        #\n",
        "    'updateThreshold': 0.6,     # During arena playoff, new neural net will be accepted if threshold or more of games are won.\n",
        "    'maxlenOfQueue': 50000,    # Number of game examples to train the neural networks.\n",
        "    'numMCTSSims': 25,          # Number of games moves for MCTS to simulate.\n",
        "    'arenaCompare': 20,         # Number of games to play during arena play to determine if new net will be accepted.\n",
        "    'cpuct': 1,\n",
        "\n",
        "    'checkpoint': '/content/drive/MyDrive/trabalho2_liacd/models/ataxx/6x6',\n",
        "    'load_model': True,\n",
        "    'load_folder_file': ('/content/drive/MyDrive/trabalho2_liacd/models/ataxx/6x6', 'best.h5'),\n",
        "    'numItersForTrainExamplesHistory': 20,\n",
        "\n",
        "})\n"
      ]
    },
    {
      "cell_type": "code",
      "execution_count": null,
      "metadata": {
        "colab": {
          "background_save": true,
          "base_uri": "https://localhost:8080/"
        },
        "id": "zorwSB4-_PcD",
        "outputId": "4b10b337-798a-4e73-b625-b4fac3770d7d"
      },
      "outputs": [
        {
          "name": "stderr",
          "output_type": "stream",
          "text": [
            "2023-12-25 17:21:41 c0c38db7d188 __main__[542] INFO Loading AtaxxGame...\n",
            "2023-12-25 17:21:41 c0c38db7d188 __main__[542] INFO Loading NNetWrapper...\n",
            "2023-12-25 17:21:41 c0c38db7d188 __main__[542] INFO Loading checkpoint \"/content/drive/MyDrive/trabalho2_liacd/models/ataxx/6x6/best.h5\"...\n",
            "2023-12-25 17:21:44 c0c38db7d188 __main__[542] INFO Loading the Coach...\n",
            "2023-12-25 17:21:44 c0c38db7d188 __main__[542] INFO Loading 'trainExamples' from file...\n",
            "2023-12-25 17:21:44 c0c38db7d188 Coach[542] WARNING File \"/content/drive/MyDrive/trabalho2_liacd/models/ataxx/6x6/best.h5.examples\" with trainExamples not found!\n",
            "2023-12-25 17:21:47 c0c38db7d188 __main__[542] INFO Starting the learning process 🎉\n",
            "2023-12-25 17:21:47 c0c38db7d188 Coach[542] INFO Starting Iter #1 ...\n",
            "Self Play: 100%|██████████| 10/10 [12:40<00:00, 76.06s/it]\n"
          ]
        },
        {
          "name": "stdout",
          "output_type": "stream",
          "text": [
            "Checkpoint Directory exists! \n"
          ]
        },
        {
          "name": "stderr",
          "output_type": "stream",
          "text": [
            "/usr/local/lib/python3.10/dist-packages/keras/src/engine/training.py:3103: UserWarning: You are saving your model as an HDF5 file via `model.save()`. This file format is considered legacy. We recommend using instead the native Keras format, e.g. `model.save('my_model.keras')`.\n",
            "  saving_api.save_model(\n"
          ]
        },
        {
          "name": "stdout",
          "output_type": "stream",
          "text": [
            "Epoch 1/10\n",
            "58/58 [==============================] - 10s 142ms/step - loss: 3.2346 - pi_loss: 2.4824 - v_loss: 0.7521\n",
            "Epoch 2/10\n",
            "58/58 [==============================] - 10s 173ms/step - loss: 1.5803 - pi_loss: 1.1686 - v_loss: 0.4117\n",
            "Epoch 3/10\n",
            "58/58 [==============================] - 8s 147ms/step - loss: 1.1438 - pi_loss: 0.8632 - v_loss: 0.2807\n",
            "Epoch 4/10\n",
            "58/58 [==============================] - 9s 160ms/step - loss: 0.9628 - pi_loss: 0.7423 - v_loss: 0.2205\n",
            "Epoch 5/10\n",
            "58/58 [==============================] - 10s 167ms/step - loss: 0.8725 - pi_loss: 0.6972 - v_loss: 0.1753\n",
            "Epoch 6/10\n",
            "58/58 [==============================] - 8s 139ms/step - loss: 0.8127 - pi_loss: 0.6620 - v_loss: 0.1507\n",
            "Epoch 7/10\n",
            "58/58 [==============================] - 10s 171ms/step - loss: 0.7730 - pi_loss: 0.6349 - v_loss: 0.1381\n",
            "Epoch 8/10\n",
            "58/58 [==============================] - 8s 133ms/step - loss: 0.7527 - pi_loss: 0.6212 - v_loss: 0.1315\n",
            "Epoch 9/10\n",
            "58/58 [==============================] - 10s 166ms/step - loss: 0.7350 - pi_loss: 0.6102 - v_loss: 0.1248\n",
            "Epoch 10/10\n",
            "58/58 [==============================] - 9s 151ms/step - loss: 0.7187 - pi_loss: 0.6011 - v_loss: 0.1176\n"
          ]
        },
        {
          "name": "stderr",
          "output_type": "stream",
          "text": [
            "2023-12-25 17:36:02 c0c38db7d188 Coach[542] INFO PITTING AGAINST PREVIOUS VERSION\n",
            "Arena.playGames (1): 100%|██████████| 10/10 [13:23<00:00, 80.31s/it]\n",
            "Arena.playGames (2): 100%|██████████| 10/10 [13:15<00:00, 79.59s/it]\n",
            "2023-12-25 18:02:41 c0c38db7d188 Coach[542] INFO NEW/PREV WINS : 10 / 6 ; DRAWS : 4\n",
            "2023-12-25 18:02:41 c0c38db7d188 Coach[542] INFO ACCEPTING NEW MODEL\n"
          ]
        },
        {
          "name": "stdout",
          "output_type": "stream",
          "text": [
            "Checkpoint Directory exists! \n",
            "Checkpoint Directory exists! \n"
          ]
        },
        {
          "name": "stderr",
          "output_type": "stream",
          "text": [
            "2023-12-25 18:02:44 c0c38db7d188 Coach[542] INFO Starting Iter #2 ...\n",
            "Self Play: 100%|██████████| 10/10 [14:20<00:00, 86.07s/it]\n"
          ]
        },
        {
          "name": "stdout",
          "output_type": "stream",
          "text": [
            "Checkpoint Directory exists! \n",
            "Epoch 1/10\n",
            "121/121 [==============================] - 18s 149ms/step - loss: 2.0085 - pi_loss: 1.5751 - v_loss: 0.4334\n",
            "Epoch 2/10\n",
            "121/121 [==============================] - 18s 146ms/step - loss: 1.2260 - pi_loss: 0.9473 - v_loss: 0.2786\n",
            "Epoch 3/10\n",
            "121/121 [==============================] - 18s 147ms/step - loss: 0.9657 - pi_loss: 0.7563 - v_loss: 0.2094\n",
            "Epoch 4/10\n",
            "121/121 [==============================] - 18s 149ms/step - loss: 0.8367 - pi_loss: 0.6667 - v_loss: 0.1699\n",
            "Epoch 5/10\n",
            "121/121 [==============================] - 19s 154ms/step - loss: 0.7745 - pi_loss: 0.6260 - v_loss: 0.1485\n",
            "Epoch 6/10\n",
            "121/121 [==============================] - 19s 158ms/step - loss: 0.7432 - pi_loss: 0.6047 - v_loss: 0.1385\n",
            "Epoch 7/10\n",
            "121/121 [==============================] - 18s 146ms/step - loss: 0.7125 - pi_loss: 0.5883 - v_loss: 0.1241\n",
            "Epoch 8/10\n",
            "121/121 [==============================] - 18s 146ms/step - loss: 0.6924 - pi_loss: 0.5793 - v_loss: 0.1131\n",
            "Epoch 9/10\n",
            "121/121 [==============================] - 18s 147ms/step - loss: 0.6868 - pi_loss: 0.5722 - v_loss: 0.1145\n",
            "Epoch 10/10\n",
            "121/121 [==============================] - 18s 147ms/step - loss: 0.6639 - pi_loss: 0.5592 - v_loss: 0.1047\n"
          ]
        },
        {
          "name": "stderr",
          "output_type": "stream",
          "text": [
            "2023-12-25 18:20:31 c0c38db7d188 Coach[542] INFO PITTING AGAINST PREVIOUS VERSION\n",
            "Arena.playGames (1): 100%|██████████| 10/10 [13:33<00:00, 81.33s/it]\n",
            "Arena.playGames (2): 100%|██████████| 10/10 [13:27<00:00, 80.77s/it]\n",
            "2023-12-25 18:47:32 c0c38db7d188 Coach[542] INFO NEW/PREV WINS : 8 / 8 ; DRAWS : 4\n",
            "2023-12-25 18:47:32 c0c38db7d188 Coach[542] INFO REJECTING NEW MODEL\n",
            "2023-12-25 18:47:33 c0c38db7d188 Coach[542] INFO Starting Iter #3 ...\n",
            "Self Play: 100%|██████████| 10/10 [12:53<00:00, 77.40s/it]\n"
          ]
        },
        {
          "name": "stdout",
          "output_type": "stream",
          "text": [
            "Checkpoint Directory exists! \n",
            "Epoch 1/10\n",
            "180/180 [==============================] - 28s 148ms/step - loss: 2.2192 - pi_loss: 1.7188 - v_loss: 0.5003\n",
            "Epoch 2/10\n",
            "180/180 [==============================] - 26s 147ms/step - loss: 1.4576 - pi_loss: 1.0998 - v_loss: 0.3578\n",
            "Epoch 3/10\n",
            "180/180 [==============================] - 26s 143ms/step - loss: 1.1426 - pi_loss: 0.8734 - v_loss: 0.2692\n",
            "Epoch 4/10\n",
            "180/180 [==============================] - 25s 140ms/step - loss: 0.9706 - pi_loss: 0.7443 - v_loss: 0.2262\n",
            "Epoch 5/10\n",
            "180/180 [==============================] - 26s 146ms/step - loss: 0.8814 - pi_loss: 0.6847 - v_loss: 0.1967\n",
            "Epoch 6/10\n",
            "180/180 [==============================] - 27s 148ms/step - loss: 0.8182 - pi_loss: 0.6440 - v_loss: 0.1742\n",
            "Epoch 7/10\n",
            "180/180 [==============================] - 27s 148ms/step - loss: 0.7772 - pi_loss: 0.6220 - v_loss: 0.1552\n",
            "Epoch 8/10\n",
            "180/180 [==============================] - 28s 155ms/step - loss: 0.7485 - pi_loss: 0.6058 - v_loss: 0.1427\n",
            "Epoch 9/10\n",
            "180/180 [==============================] - 26s 146ms/step - loss: 0.7289 - pi_loss: 0.5947 - v_loss: 0.1342\n",
            "Epoch 10/10\n",
            "180/180 [==============================] - 25s 139ms/step - loss: 0.7081 - pi_loss: 0.5817 - v_loss: 0.1264\n"
          ]
        },
        {
          "name": "stderr",
          "output_type": "stream",
          "text": [
            "2023-12-25 19:05:54 c0c38db7d188 Coach[542] INFO PITTING AGAINST PREVIOUS VERSION\n",
            "Arena.playGames (1): 100%|██████████| 10/10 [13:13<00:00, 79.31s/it]\n",
            "Arena.playGames (2): 100%|██████████| 10/10 [12:33<00:00, 75.39s/it]\n",
            "2023-12-25 19:31:41 c0c38db7d188 Coach[542] INFO NEW/PREV WINS : 5 / 7 ; DRAWS : 8\n",
            "2023-12-25 19:31:41 c0c38db7d188 Coach[542] INFO REJECTING NEW MODEL\n",
            "2023-12-25 19:31:42 c0c38db7d188 Coach[542] INFO Starting Iter #4 ...\n",
            "Self Play: 100%|██████████| 10/10 [13:24<00:00, 80.41s/it]\n"
          ]
        },
        {
          "name": "stdout",
          "output_type": "stream",
          "text": [
            "Checkpoint Directory exists! \n",
            "Epoch 1/10\n",
            "239/239 [==============================] - 39s 159ms/step - loss: 2.3265 - pi_loss: 1.7891 - v_loss: 0.5374\n",
            "Epoch 2/10\n",
            "239/239 [==============================] - 35s 146ms/step - loss: 1.5984 - pi_loss: 1.2086 - v_loss: 0.3898\n",
            "Epoch 3/10\n",
            "239/239 [==============================] - 38s 158ms/step - loss: 1.2686 - pi_loss: 0.9612 - v_loss: 0.3074\n",
            "Epoch 4/10\n",
            "239/239 [==============================] - 39s 162ms/step - loss: 1.0581 - pi_loss: 0.8063 - v_loss: 0.2518\n",
            "Epoch 5/10\n",
            "239/239 [==============================] - 38s 158ms/step - loss: 0.9327 - pi_loss: 0.7204 - v_loss: 0.2123\n",
            "Epoch 6/10\n",
            "239/239 [==============================] - 37s 155ms/step - loss: 0.8613 - pi_loss: 0.6752 - v_loss: 0.1861\n",
            "Epoch 7/10\n",
            "239/239 [==============================] - 37s 153ms/step - loss: 0.8123 - pi_loss: 0.6398 - v_loss: 0.1725\n",
            "Epoch 8/10\n",
            "239/239 [==============================] - 38s 160ms/step - loss: 0.7838 - pi_loss: 0.6237 - v_loss: 0.1601\n",
            "Epoch 9/10\n",
            "239/239 [==============================] - 36s 151ms/step - loss: 0.7516 - pi_loss: 0.6038 - v_loss: 0.1478\n",
            "Epoch 10/10\n",
            "239/239 [==============================] - 38s 159ms/step - loss: 0.7366 - pi_loss: 0.5967 - v_loss: 0.1400\n"
          ]
        },
        {
          "name": "stderr",
          "output_type": "stream",
          "text": [
            "2023-12-25 19:51:33 c0c38db7d188 Coach[542] INFO PITTING AGAINST PREVIOUS VERSION\n",
            "Arena.playGames (1): 100%|██████████| 10/10 [14:16<00:00, 85.64s/it]\n",
            "Arena.playGames (2): 100%|██████████| 10/10 [12:14<00:00, 73.50s/it]\n",
            "2023-12-25 20:18:04 c0c38db7d188 Coach[542] INFO NEW/PREV WINS : 12 / 6 ; DRAWS : 2\n",
            "2023-12-25 20:18:04 c0c38db7d188 Coach[542] INFO ACCEPTING NEW MODEL\n"
          ]
        },
        {
          "name": "stdout",
          "output_type": "stream",
          "text": [
            "Checkpoint Directory exists! \n",
            "Checkpoint Directory exists! \n"
          ]
        },
        {
          "name": "stderr",
          "output_type": "stream",
          "text": [
            "2023-12-25 20:18:06 c0c38db7d188 Coach[542] INFO Starting Iter #5 ...\n",
            "Self Play: 100%|██████████| 10/10 [12:07<00:00, 72.78s/it]\n"
          ]
        },
        {
          "name": "stdout",
          "output_type": "stream",
          "text": [
            "Checkpoint Directory exists! \n",
            "Epoch 1/10\n",
            "293/293 [==============================] - 44s 152ms/step - loss: 1.1720 - pi_loss: 0.9533 - v_loss: 0.2188\n",
            "Epoch 2/10\n",
            "293/293 [==============================] - 44s 151ms/step - loss: 0.8903 - pi_loss: 0.7164 - v_loss: 0.1739\n",
            "Epoch 3/10\n",
            "293/293 [==============================] - 46s 158ms/step - loss: 0.7969 - pi_loss: 0.6463 - v_loss: 0.1507\n",
            "Epoch 4/10\n",
            "293/293 [==============================] - 44s 151ms/step - loss: 0.7551 - pi_loss: 0.6154 - v_loss: 0.1397\n",
            "Epoch 5/10\n",
            "293/293 [==============================] - 44s 150ms/step - loss: 0.7317 - pi_loss: 0.6004 - v_loss: 0.1313\n",
            "Epoch 6/10\n",
            "293/293 [==============================] - 45s 153ms/step - loss: 0.7197 - pi_loss: 0.5987 - v_loss: 0.1210\n",
            "Epoch 7/10\n",
            "293/293 [==============================] - 45s 152ms/step - loss: 0.7066 - pi_loss: 0.5887 - v_loss: 0.1180\n",
            "Epoch 8/10\n",
            "293/293 [==============================] - 44s 150ms/step - loss: 0.6956 - pi_loss: 0.5853 - v_loss: 0.1104\n",
            "Epoch 9/10\n",
            "293/293 [==============================] - 46s 156ms/step - loss: 0.6879 - pi_loss: 0.5794 - v_loss: 0.1086\n",
            "Epoch 10/10\n",
            "293/293 [==============================] - 44s 149ms/step - loss: 0.6804 - pi_loss: 0.5762 - v_loss: 0.1042\n"
          ]
        },
        {
          "name": "stderr",
          "output_type": "stream",
          "text": [
            "2023-12-25 20:38:42 c0c38db7d188 Coach[542] INFO PITTING AGAINST PREVIOUS VERSION\n",
            "Arena.playGames (1): 100%|██████████| 10/10 [12:16<00:00, 73.66s/it]\n",
            "Arena.playGames (2): 100%|██████████| 10/10 [12:23<00:00, 74.37s/it]\n",
            "2023-12-25 21:03:22 c0c38db7d188 Coach[542] INFO NEW/PREV WINS : 7 / 10 ; DRAWS : 3\n",
            "2023-12-25 21:03:22 c0c38db7d188 Coach[542] INFO REJECTING NEW MODEL\n",
            "2023-12-25 21:03:24 c0c38db7d188 Coach[542] INFO Starting Iter #6 ...\n",
            "Self Play: 100%|██████████| 10/10 [10:55<00:00, 65.58s/it]\n"
          ]
        },
        {
          "name": "stdout",
          "output_type": "stream",
          "text": [
            "Checkpoint Directory exists! \n",
            "Epoch 1/10\n",
            "342/342 [==============================] - 56s 158ms/step - loss: 1.4048 - pi_loss: 1.1426 - v_loss: 0.2621\n",
            "Epoch 2/10\n",
            "342/342 [==============================] - 50s 146ms/step - loss: 1.0154 - pi_loss: 0.8133 - v_loss: 0.2022\n",
            "Epoch 3/10\n",
            "342/342 [==============================] - 52s 153ms/step - loss: 0.8814 - pi_loss: 0.7084 - v_loss: 0.1729\n",
            "Epoch 4/10\n",
            "342/342 [==============================] - 51s 150ms/step - loss: 0.8245 - pi_loss: 0.6672 - v_loss: 0.1573\n",
            "Epoch 5/10\n",
            "342/342 [==============================] - 53s 153ms/step - loss: 0.7947 - pi_loss: 0.6485 - v_loss: 0.1463\n",
            "Epoch 6/10\n",
            "342/342 [==============================] - 54s 158ms/step - loss: 0.7702 - pi_loss: 0.6328 - v_loss: 0.1373\n",
            "Epoch 7/10\n",
            "342/342 [==============================] - 51s 149ms/step - loss: 0.7543 - pi_loss: 0.6245 - v_loss: 0.1298\n",
            "Epoch 8/10\n",
            "342/342 [==============================] - 53s 156ms/step - loss: 0.7460 - pi_loss: 0.6202 - v_loss: 0.1259\n",
            "Epoch 9/10\n",
            "342/342 [==============================] - 52s 153ms/step - loss: 0.7289 - pi_loss: 0.6100 - v_loss: 0.1189\n",
            "Epoch 10/10\n",
            "342/342 [==============================] - 51s 149ms/step - loss: 0.7269 - pi_loss: 0.6101 - v_loss: 0.1168\n"
          ]
        },
        {
          "name": "stderr",
          "output_type": "stream",
          "text": [
            "2023-12-25 21:23:47 c0c38db7d188 Coach[542] INFO PITTING AGAINST PREVIOUS VERSION\n",
            "Arena.playGames (1): 100%|██████████| 10/10 [12:12<00:00, 73.28s/it]\n",
            "Arena.playGames (2): 100%|██████████| 10/10 [12:35<00:00, 75.50s/it]\n",
            "2023-12-25 21:48:35 c0c38db7d188 Coach[542] INFO NEW/PREV WINS : 8 / 6 ; DRAWS : 6\n",
            "2023-12-25 21:48:35 c0c38db7d188 Coach[542] INFO REJECTING NEW MODEL\n",
            "2023-12-25 21:48:36 c0c38db7d188 Coach[542] INFO Starting Iter #7 ...\n",
            "Self Play: 100%|██████████| 10/10 [12:09<00:00, 72.98s/it]\n"
          ]
        },
        {
          "name": "stdout",
          "output_type": "stream",
          "text": [
            "Checkpoint Directory exists! \n",
            "Epoch 1/10\n",
            "398/398 [==============================] - 64s 155ms/step - loss: 1.6186 - pi_loss: 1.2877 - v_loss: 0.3310\n",
            "Epoch 2/10\n",
            "398/398 [==============================] - 59s 147ms/step - loss: 1.1631 - pi_loss: 0.9076 - v_loss: 0.2555\n",
            "Epoch 3/10\n",
            "398/398 [==============================] - 59s 148ms/step - loss: 1.0005 - pi_loss: 0.7824 - v_loss: 0.2181\n",
            "Epoch 4/10\n",
            "398/398 [==============================] - 59s 149ms/step - loss: 0.9037 - pi_loss: 0.7130 - v_loss: 0.1907\n",
            "Epoch 5/10\n",
            "398/398 [==============================] - 63s 158ms/step - loss: 0.8576 - pi_loss: 0.6815 - v_loss: 0.1761\n",
            "Epoch 6/10\n",
            "398/398 [==============================] - 61s 154ms/step - loss: 0.8286 - pi_loss: 0.6647 - v_loss: 0.1639\n",
            "Epoch 7/10\n",
            "398/398 [==============================] - 60s 150ms/step - loss: 0.8001 - pi_loss: 0.6493 - v_loss: 0.1507\n",
            "Epoch 8/10\n",
            "398/398 [==============================] - 62s 155ms/step - loss: 0.7939 - pi_loss: 0.6457 - v_loss: 0.1482\n",
            "Epoch 9/10\n",
            "398/398 [==============================] - 60s 150ms/step - loss: 0.7784 - pi_loss: 0.6372 - v_loss: 0.1411\n",
            "Epoch 10/10\n",
            "398/398 [==============================] - 60s 151ms/step - loss: 0.7678 - pi_loss: 0.6325 - v_loss: 0.1353\n"
          ]
        },
        {
          "name": "stderr",
          "output_type": "stream",
          "text": [
            "2023-12-25 22:11:15 c0c38db7d188 Coach[542] INFO PITTING AGAINST PREVIOUS VERSION\n",
            "Arena.playGames (1): 100%|██████████| 10/10 [13:08<00:00, 78.82s/it]\n",
            "Arena.playGames (2): 100%|██████████| 10/10 [13:14<00:00, 79.41s/it]\n",
            "2023-12-25 22:37:37 c0c38db7d188 Coach[542] INFO NEW/PREV WINS : 11 / 5 ; DRAWS : 4\n",
            "2023-12-25 22:37:37 c0c38db7d188 Coach[542] INFO ACCEPTING NEW MODEL\n"
          ]
        },
        {
          "name": "stdout",
          "output_type": "stream",
          "text": [
            "Checkpoint Directory exists! \n",
            "Checkpoint Directory exists! \n"
          ]
        },
        {
          "name": "stderr",
          "output_type": "stream",
          "text": [
            "2023-12-25 22:37:39 c0c38db7d188 Coach[542] INFO Starting Iter #8 ...\n",
            "Self Play: 100%|██████████| 10/10 [12:15<00:00, 73.57s/it]\n"
          ]
        },
        {
          "name": "stdout",
          "output_type": "stream",
          "text": [
            "Checkpoint Directory exists! \n",
            "Epoch 1/10\n",
            "452/452 [==============================] - 72s 158ms/step - loss: 1.0827 - pi_loss: 0.8739 - v_loss: 0.2088\n",
            "Epoch 2/10\n",
            "452/452 [==============================] - 71s 158ms/step - loss: 0.8644 - pi_loss: 0.6972 - v_loss: 0.1672\n",
            "Epoch 3/10\n",
            "452/452 [==============================] - 70s 155ms/step - loss: 0.7970 - pi_loss: 0.6475 - v_loss: 0.1495\n",
            "Epoch 4/10\n",
            "452/452 [==============================] - 71s 157ms/step - loss: 0.7666 - pi_loss: 0.6292 - v_loss: 0.1374\n",
            "Epoch 5/10\n",
            "452/452 [==============================] - 71s 157ms/step - loss: 0.7469 - pi_loss: 0.6173 - v_loss: 0.1296\n",
            "Epoch 6/10\n",
            "452/452 [==============================] - 71s 157ms/step - loss: 0.7395 - pi_loss: 0.6151 - v_loss: 0.1244\n",
            "Epoch 7/10\n",
            "452/452 [==============================] - 71s 156ms/step - loss: 0.7314 - pi_loss: 0.6099 - v_loss: 0.1215\n",
            "Epoch 8/10\n",
            "452/452 [==============================] - 70s 155ms/step - loss: 0.7300 - pi_loss: 0.6096 - v_loss: 0.1204\n",
            "Epoch 9/10\n",
            "452/452 [==============================] - 73s 161ms/step - loss: 0.7260 - pi_loss: 0.6090 - v_loss: 0.1170\n",
            "Epoch 10/10\n",
            "452/452 [==============================] - 71s 157ms/step - loss: 0.7201 - pi_loss: 0.6078 - v_loss: 0.1123\n"
          ]
        },
        {
          "name": "stderr",
          "output_type": "stream",
          "text": [
            "2023-12-25 23:02:23 c0c38db7d188 Coach[542] INFO PITTING AGAINST PREVIOUS VERSION\n",
            "Arena.playGames (1): 100%|██████████| 10/10 [14:43<00:00, 88.40s/it]\n",
            "Arena.playGames (2): 100%|██████████| 10/10 [11:10<00:00, 67.00s/it]\n",
            "2023-12-25 23:28:17 c0c38db7d188 Coach[542] INFO NEW/PREV WINS : 9 / 8 ; DRAWS : 3\n",
            "2023-12-25 23:28:17 c0c38db7d188 Coach[542] INFO REJECTING NEW MODEL\n",
            "2023-12-25 23:28:18 c0c38db7d188 Coach[542] INFO Starting Iter #9 ...\n",
            "Self Play: 100%|██████████| 10/10 [12:02<00:00, 72.29s/it]\n"
          ]
        },
        {
          "name": "stdout",
          "output_type": "stream",
          "text": [
            "Checkpoint Directory exists! \n",
            "Epoch 1/10\n",
            "507/507 [==============================] - 79s 151ms/step - loss: 1.3040 - pi_loss: 1.0267 - v_loss: 0.2773\n",
            "Epoch 2/10\n",
            "507/507 [==============================] - 76s 150ms/step - loss: 0.9848 - pi_loss: 0.7712 - v_loss: 0.2136\n",
            "Epoch 3/10\n",
            "507/507 [==============================] - 78s 154ms/step - loss: 0.8900 - pi_loss: 0.7004 - v_loss: 0.1896\n",
            "Epoch 4/10\n",
            "507/507 [==============================] - 77s 152ms/step - loss: 0.8345 - pi_loss: 0.6656 - v_loss: 0.1689\n",
            "Epoch 5/10\n",
            "507/507 [==============================] - 78s 155ms/step - loss: 0.8022 - pi_loss: 0.6445 - v_loss: 0.1577\n",
            "Epoch 6/10\n",
            "507/507 [==============================] - 77s 151ms/step - loss: 0.7839 - pi_loss: 0.6367 - v_loss: 0.1471\n",
            "Epoch 7/10\n",
            "507/507 [==============================] - 76s 149ms/step - loss: 0.7753 - pi_loss: 0.6368 - v_loss: 0.1385\n",
            "Epoch 8/10\n",
            "507/507 [==============================] - 75s 148ms/step - loss: 0.7597 - pi_loss: 0.6248 - v_loss: 0.1348\n",
            "Epoch 9/10\n",
            "480/507 [===========================>..] - ETA: 4s - loss: 0.7478 - pi_loss: 0.6173 - v_loss: 0.1304"
          ]
        }
      ],
      "source": [
        "log.info('Loading %s...', Game.__name__)\n",
        "g = Game(6)\n",
        "\n",
        "log.info('Loading %s...', nn.__name__)\n",
        "nnet = nn(g)\n",
        "\n",
        "if args3.load_model:\n",
        "    log.info('Loading checkpoint \"%s/%s\"...', args3.load_folder_file[0], args3.load_folder_file[1])\n",
        "    nnet.load_model(args3.load_folder_file[0], args3.load_folder_file[1])\n",
        "else:\n",
        "    log.warning('Not loading a checkpoint!')\n",
        "\n",
        "log.info('Loading the Coach...')\n",
        "c = Coach(g, nnet, args3)\n",
        "\n",
        "if args3.load_model:\n",
        "    log.info(\"Loading 'trainExamples' from file...\")\n",
        "    c.loadTrainExamples()\n",
        "\n",
        "log.info('Starting the learning process 🎉')\n",
        "c.learn()"
      ]
    },
    {
      "cell_type": "markdown",
      "metadata": {
        "id": "vknP4cYcgemh"
      },
      "source": [
        "#Quarto Treino"
      ]
    },
    {
      "cell_type": "code",
      "execution_count": null,
      "metadata": {
        "colab": {
          "background_save": true,
          "base_uri": "https://localhost:8080/"
        },
        "id": "ZFSqvjxxghqz",
        "outputId": "b6272c81-e7b7-4c18-981f-84335e5ece82"
      },
      "outputs": [
        {
          "name": "stderr",
          "output_type": "stream",
          "text": [
            "2023-12-26 15:43:34 f1b73c517476 __main__[227174] INFO Loading AtaxxGame...\n",
            "2023-12-26 15:43:34 f1b73c517476 __main__[227174] INFO Loading NNetWrapper...\n",
            "2023-12-26 15:43:35 f1b73c517476 __main__[227174] INFO Loading checkpoint \"/content/drive/MyDrive/trabalho2_liacd/models/ataxx/6x6/best.h5\"...\n",
            "2023-12-26 15:43:39 f1b73c517476 __main__[227174] INFO Loading the Coach...\n",
            "2023-12-26 15:43:39 f1b73c517476 __main__[227174] INFO Loading 'trainExamples' from file...\n",
            "2023-12-26 15:43:39 f1b73c517476 Coach[227174] WARNING File \"/content/drive/MyDrive/trabalho2_liacd/models/ataxx/6x6/best.h5.examples\" with trainExamples not found!\n",
            "2023-12-26 15:43:45 f1b73c517476 __main__[227174] INFO Starting the learning process 🎉\n",
            "2023-12-26 15:43:45 f1b73c517476 Coach[227174] INFO Starting Iter #1 ...\n",
            "Self Play: 100%|██████████| 25/25 [32:43<00:00, 78.55s/it]\n"
          ]
        },
        {
          "name": "stdout",
          "output_type": "stream",
          "text": [
            "Checkpoint Directory exists! \n"
          ]
        },
        {
          "name": "stderr",
          "output_type": "stream",
          "text": [
            "/usr/local/lib/python3.10/dist-packages/keras/src/engine/training.py:3103: UserWarning: You are saving your model as an HDF5 file via `model.save()`. This file format is considered legacy. We recommend using instead the native Keras format, e.g. `model.save('my_model.keras')`.\n",
            "  saving_api.save_model(\n"
          ]
        },
        {
          "name": "stdout",
          "output_type": "stream",
          "text": [
            "Epoch 1/10\n",
            "129/129 [==============================] - 25s 185ms/step - loss: 2.5720 - pi_loss: 1.9552 - v_loss: 0.6167\n",
            "Epoch 2/10\n",
            "129/129 [==============================] - 24s 187ms/step - loss: 1.6572 - pi_loss: 1.1829 - v_loss: 0.4743\n",
            "Epoch 3/10\n",
            "129/129 [==============================] - 22s 174ms/step - loss: 1.3158 - pi_loss: 0.9268 - v_loss: 0.3890\n",
            "Epoch 4/10\n",
            "129/129 [==============================] - 25s 192ms/step - loss: 1.0942 - pi_loss: 0.7740 - v_loss: 0.3201\n",
            "Epoch 5/10\n",
            "129/129 [==============================] - 24s 183ms/step - loss: 0.9708 - pi_loss: 0.7096 - v_loss: 0.2612\n",
            "Epoch 6/10\n",
            "129/129 [==============================] - 25s 196ms/step - loss: 0.8937 - pi_loss: 0.6683 - v_loss: 0.2254\n",
            "Epoch 7/10\n",
            "129/129 [==============================] - 24s 188ms/step - loss: 0.8547 - pi_loss: 0.6518 - v_loss: 0.2029\n",
            "Epoch 8/10\n",
            "129/129 [==============================] - 24s 184ms/step - loss: 0.8126 - pi_loss: 0.6287 - v_loss: 0.1839\n",
            "Epoch 9/10\n",
            "129/129 [==============================] - 25s 191ms/step - loss: 0.7890 - pi_loss: 0.6199 - v_loss: 0.1691\n",
            "Epoch 10/10\n",
            "129/129 [==============================] - 23s 180ms/step - loss: 0.7611 - pi_loss: 0.6065 - v_loss: 0.1547\n"
          ]
        },
        {
          "name": "stderr",
          "output_type": "stream",
          "text": [
            "2023-12-26 16:20:34 f1b73c517476 Coach[227174] INFO PITTING AGAINST PREVIOUS VERSION\n",
            "Arena.playGames (1): 100%|██████████| 10/10 [16:46<00:00, 100.69s/it]\n",
            "Arena.playGames (2): 100%|██████████| 10/10 [17:07<00:00, 102.73s/it]\n",
            "2023-12-26 16:54:28 f1b73c517476 Coach[227174] INFO NEW/PREV WINS : 9 / 7 ; DRAWS : 4\n",
            "2023-12-26 16:54:28 f1b73c517476 Coach[227174] INFO REJECTING NEW MODEL\n",
            "2023-12-26 16:54:31 f1b73c517476 Coach[227174] INFO Starting Iter #2 ...\n",
            "Self Play: 100%|██████████| 25/25 [35:37<00:00, 85.49s/it]\n"
          ]
        },
        {
          "name": "stdout",
          "output_type": "stream",
          "text": [
            "Checkpoint Directory exists! \n",
            "Epoch 1/10\n",
            "261/261 [==============================] - 52s 195ms/step - loss: 2.4699 - pi_loss: 1.8729 - v_loss: 0.5970\n",
            "Epoch 2/10\n",
            "261/261 [==============================] - 49s 188ms/step - loss: 1.8038 - pi_loss: 1.2907 - v_loss: 0.5131\n",
            "Epoch 3/10\n",
            "261/261 [==============================] - 49s 189ms/step - loss: 1.4868 - pi_loss: 1.0280 - v_loss: 0.4589\n",
            "Epoch 4/10\n",
            "261/261 [==============================] - 49s 188ms/step - loss: 1.2419 - pi_loss: 0.8503 - v_loss: 0.3916\n",
            "Epoch 5/10\n",
            "261/261 [==============================] - 49s 188ms/step - loss: 1.0915 - pi_loss: 0.7696 - v_loss: 0.3218\n",
            "Epoch 6/10\n",
            "261/261 [==============================] - 48s 184ms/step - loss: 0.9857 - pi_loss: 0.7164 - v_loss: 0.2694\n",
            "Epoch 7/10\n",
            "261/261 [==============================] - 50s 190ms/step - loss: 0.9173 - pi_loss: 0.6826 - v_loss: 0.2347\n",
            "Epoch 8/10\n",
            "261/261 [==============================] - 49s 187ms/step - loss: 0.8739 - pi_loss: 0.6645 - v_loss: 0.2093\n",
            "Epoch 9/10\n",
            "261/261 [==============================] - 50s 192ms/step - loss: 0.8393 - pi_loss: 0.6471 - v_loss: 0.1922\n",
            "Epoch 10/10\n",
            "261/261 [==============================] - 50s 192ms/step - loss: 0.8089 - pi_loss: 0.6319 - v_loss: 0.1770\n"
          ]
        },
        {
          "name": "stderr",
          "output_type": "stream",
          "text": [
            "2023-12-26 17:38:37 f1b73c517476 Coach[227174] INFO PITTING AGAINST PREVIOUS VERSION\n",
            "Arena.playGames (1): 100%|██████████| 10/10 [17:01<00:00, 102.19s/it]\n",
            "Arena.playGames (2): 100%|██████████| 10/10 [15:45<00:00, 94.53s/it]\n",
            "2023-12-26 18:11:25 f1b73c517476 Coach[227174] INFO NEW/PREV WINS : 11 / 3 ; DRAWS : 6\n",
            "2023-12-26 18:11:25 f1b73c517476 Coach[227174] INFO ACCEPTING NEW MODEL\n"
          ]
        },
        {
          "name": "stdout",
          "output_type": "stream",
          "text": [
            "Checkpoint Directory exists! \n",
            "Checkpoint Directory exists! \n"
          ]
        },
        {
          "name": "stderr",
          "output_type": "stream",
          "text": [
            "2023-12-26 18:11:27 f1b73c517476 Coach[227174] INFO Starting Iter #3 ...\n",
            "Self Play: 100%|██████████| 25/25 [34:42<00:00, 83.29s/it]\n"
          ]
        },
        {
          "name": "stdout",
          "output_type": "stream",
          "text": [
            "Checkpoint Directory exists! \n",
            "Epoch 1/10\n",
            "391/391 [==============================] - 72s 183ms/step - loss: 1.4674 - pi_loss: 1.0866 - v_loss: 0.3809\n",
            "Epoch 2/10\n",
            "391/391 [==============================] - 77s 197ms/step - loss: 1.0977 - pi_loss: 0.8031 - v_loss: 0.2945\n",
            "Epoch 3/10\n",
            "391/391 [==============================] - 70s 178ms/step - loss: 0.9664 - pi_loss: 0.7156 - v_loss: 0.2508\n",
            "Epoch 4/10\n",
            "391/391 [==============================] - 70s 179ms/step - loss: 0.8914 - pi_loss: 0.6725 - v_loss: 0.2189\n",
            "Epoch 5/10\n",
            "391/391 [==============================] - 71s 181ms/step - loss: 0.8484 - pi_loss: 0.6495 - v_loss: 0.1989\n",
            "Epoch 6/10\n",
            "391/391 [==============================] - 76s 194ms/step - loss: 0.8203 - pi_loss: 0.6340 - v_loss: 0.1863\n",
            "Epoch 7/10\n",
            "391/391 [==============================] - 73s 187ms/step - loss: 0.8012 - pi_loss: 0.6244 - v_loss: 0.1768\n",
            "Epoch 8/10\n",
            "391/391 [==============================] - 71s 182ms/step - loss: 0.7811 - pi_loss: 0.6171 - v_loss: 0.1640\n",
            "Epoch 9/10\n",
            "391/391 [==============================] - 69s 177ms/step - loss: 0.7721 - pi_loss: 0.6155 - v_loss: 0.1566\n",
            "Epoch 10/10\n",
            "391/391 [==============================] - 71s 181ms/step - loss: 0.7587 - pi_loss: 0.6077 - v_loss: 0.1510\n"
          ]
        },
        {
          "name": "stderr",
          "output_type": "stream",
          "text": [
            "2023-12-26 18:58:38 f1b73c517476 Coach[227174] INFO PITTING AGAINST PREVIOUS VERSION\n",
            "Arena.playGames (1): 100%|██████████| 10/10 [17:22<00:00, 104.23s/it]\n",
            "Arena.playGames (2): 100%|██████████| 10/10 [14:27<00:00, 86.74s/it]\n",
            "2023-12-26 19:30:28 f1b73c517476 Coach[227174] INFO NEW/PREV WINS : 9 / 9 ; DRAWS : 2\n",
            "2023-12-26 19:30:28 f1b73c517476 Coach[227174] INFO REJECTING NEW MODEL\n",
            "2023-12-26 19:30:31 f1b73c517476 Coach[227174] INFO Starting Iter #4 ...\n",
            "Self Play: 100%|██████████| 25/25 [38:42<00:00, 92.91s/it] \n"
          ]
        },
        {
          "name": "stdout",
          "output_type": "stream",
          "text": [
            "Checkpoint Directory exists! \n",
            "Epoch 1/10\n",
            "533/533 [==============================] - 103s 189ms/step - loss: 1.6768 - pi_loss: 1.2474 - v_loss: 0.4294\n",
            "Epoch 2/10\n",
            "533/533 [==============================] - 100s 187ms/step - loss: 1.2817 - pi_loss: 0.9333 - v_loss: 0.3483\n",
            "Epoch 3/10\n",
            "533/533 [==============================] - 101s 189ms/step - loss: 1.0916 - pi_loss: 0.7958 - v_loss: 0.2958\n",
            "Epoch 4/10\n",
            "533/533 [==============================] - 102s 191ms/step - loss: 0.9778 - pi_loss: 0.7206 - v_loss: 0.2572\n",
            "Epoch 5/10\n",
            "533/533 [==============================] - 101s 189ms/step - loss: 0.9149 - pi_loss: 0.6822 - v_loss: 0.2327\n",
            "Epoch 6/10\n",
            "533/533 [==============================] - 105s 198ms/step - loss: 0.8748 - pi_loss: 0.6658 - v_loss: 0.2090\n",
            "Epoch 7/10\n",
            "533/533 [==============================] - 100s 187ms/step - loss: 0.8433 - pi_loss: 0.6492 - v_loss: 0.1941\n",
            "Epoch 8/10\n",
            "533/533 [==============================] - 100s 187ms/step - loss: 0.8227 - pi_loss: 0.6383 - v_loss: 0.1843\n",
            "Epoch 9/10\n",
            "533/533 [==============================] - 102s 191ms/step - loss: 0.8049 - pi_loss: 0.6285 - v_loss: 0.1764\n",
            "Epoch 10/10\n",
            "533/533 [==============================] - 100s 188ms/step - loss: 0.7859 - pi_loss: 0.6192 - v_loss: 0.1667\n"
          ]
        },
        {
          "name": "stderr",
          "output_type": "stream",
          "text": [
            "2023-12-26 20:26:16 f1b73c517476 Coach[227174] INFO PITTING AGAINST PREVIOUS VERSION\n",
            "Arena.playGames (1): 100%|██████████| 10/10 [16:41<00:00, 100.19s/it]\n",
            "Arena.playGames (2): 100%|██████████| 10/10 [16:58<00:00, 101.87s/it]\n",
            "2023-12-26 20:59:56 f1b73c517476 Coach[227174] INFO NEW/PREV WINS : 10 / 7 ; DRAWS : 3\n",
            "2023-12-26 20:59:56 f1b73c517476 Coach[227174] INFO REJECTING NEW MODEL\n",
            "2023-12-26 20:59:59 f1b73c517476 Coach[227174] INFO Starting Iter #5 ...\n",
            "Self Play: 100%|██████████| 25/25 [41:04<00:00, 98.58s/it]\n"
          ]
        },
        {
          "name": "stdout",
          "output_type": "stream",
          "text": [
            "Checkpoint Directory exists! \n",
            "Epoch 1/10\n",
            "681/681 [==============================] - 126s 181ms/step - loss: 1.7990 - pi_loss: 1.3339 - v_loss: 0.4651\n",
            "Epoch 2/10\n",
            "681/681 [==============================] - 119s 175ms/step - loss: 1.4143 - pi_loss: 1.0226 - v_loss: 0.3917\n",
            "Epoch 3/10\n",
            "681/681 [==============================] - 120s 175ms/step - loss: 1.1941 - pi_loss: 0.8561 - v_loss: 0.3380\n",
            "Epoch 4/10\n",
            "681/681 [==============================] - 120s 176ms/step - loss: 1.0632 - pi_loss: 0.7687 - v_loss: 0.2946\n",
            "Epoch 5/10\n",
            "681/681 [==============================] - 119s 175ms/step - loss: 0.9807 - pi_loss: 0.7158 - v_loss: 0.2648\n",
            "Epoch 6/10\n",
            "681/681 [==============================] - 122s 180ms/step - loss: 0.9170 - pi_loss: 0.6784 - v_loss: 0.2386\n",
            "Epoch 7/10\n",
            "681/681 [==============================] - 120s 176ms/step - loss: 0.8783 - pi_loss: 0.6587 - v_loss: 0.2196\n",
            "Epoch 8/10\n",
            "681/681 [==============================] - 119s 175ms/step - loss: 0.8495 - pi_loss: 0.6435 - v_loss: 0.2059\n",
            "Epoch 9/10\n",
            "681/681 [==============================] - 119s 175ms/step - loss: 0.8306 - pi_loss: 0.6354 - v_loss: 0.1952\n",
            "Epoch 10/10\n",
            "681/681 [==============================] - 122s 178ms/step - loss: 0.8076 - pi_loss: 0.6227 - v_loss: 0.1849\n"
          ]
        },
        {
          "name": "stderr",
          "output_type": "stream",
          "text": [
            "2023-12-26 22:01:37 f1b73c517476 Coach[227174] INFO PITTING AGAINST PREVIOUS VERSION\n",
            "Arena.playGames (1): 100%|██████████| 10/10 [16:44<00:00, 100.49s/it]\n",
            "Arena.playGames (2): 100%|██████████| 10/10 [16:56<00:00, 101.67s/it]\n",
            "2023-12-26 22:35:18 f1b73c517476 Coach[227174] INFO NEW/PREV WINS : 10 / 4 ; DRAWS : 6\n",
            "2023-12-26 22:35:18 f1b73c517476 Coach[227174] INFO ACCEPTING NEW MODEL\n"
          ]
        },
        {
          "name": "stdout",
          "output_type": "stream",
          "text": [
            "Checkpoint Directory exists! \n",
            "Checkpoint Directory exists! \n"
          ]
        },
        {
          "name": "stderr",
          "output_type": "stream",
          "text": [
            "2023-12-26 22:35:21 f1b73c517476 Coach[227174] INFO Starting Iter #6 ...\n",
            "Self Play: 100%|██████████| 25/25 [38:30<00:00, 92.41s/it]\n"
          ]
        },
        {
          "name": "stdout",
          "output_type": "stream",
          "text": [
            "Checkpoint Directory exists! \n",
            "Epoch 1/10\n",
            "827/827 [==============================] - 154s 187ms/step - loss: 1.1512 - pi_loss: 0.8910 - v_loss: 0.2601\n",
            "Epoch 2/10\n",
            "827/827 [==============================] - 156s 188ms/step - loss: 0.9359 - pi_loss: 0.7166 - v_loss: 0.2194\n",
            "Epoch 3/10\n",
            "827/827 [==============================] - 158s 191ms/step - loss: 0.8578 - pi_loss: 0.6603 - v_loss: 0.1974\n",
            "Epoch 4/10\n",
            "827/827 [==============================] - 151s 183ms/step - loss: 0.8212 - pi_loss: 0.6371 - v_loss: 0.1841\n",
            "Epoch 5/10\n",
            "827/827 [==============================] - 153s 185ms/step - loss: 0.7971 - pi_loss: 0.6233 - v_loss: 0.1738\n",
            "Epoch 6/10\n",
            "827/827 [==============================] - 151s 183ms/step - loss: 0.7852 - pi_loss: 0.6175 - v_loss: 0.1678\n",
            "Epoch 7/10\n",
            "827/827 [==============================] - 154s 187ms/step - loss: 0.7698 - pi_loss: 0.6090 - v_loss: 0.1608\n",
            "Epoch 8/10\n",
            "827/827 [==============================] - 155s 187ms/step - loss: 0.7588 - pi_loss: 0.6027 - v_loss: 0.1561\n",
            "Epoch 9/10\n",
            "827/827 [==============================] - 154s 187ms/step - loss: 0.7519 - pi_loss: 0.6001 - v_loss: 0.1518\n",
            "Epoch 10/10\n",
            "827/827 [==============================] - 158s 191ms/step - loss: 0.7408 - pi_loss: 0.5942 - v_loss: 0.1466\n"
          ]
        },
        {
          "name": "stderr",
          "output_type": "stream",
          "text": [
            "2023-12-26 23:40:26 f1b73c517476 Coach[227174] INFO PITTING AGAINST PREVIOUS VERSION\n",
            "Arena.playGames (1): 100%|██████████| 10/10 [15:17<00:00, 91.74s/it]\n",
            "Arena.playGames (2): 100%|██████████| 10/10 [13:25<00:00, 80.51s/it]\n",
            "2023-12-27 00:09:08 f1b73c517476 Coach[227174] INFO NEW/PREV WINS : 6 / 9 ; DRAWS : 5\n",
            "2023-12-27 00:09:08 f1b73c517476 Coach[227174] INFO REJECTING NEW MODEL\n",
            "2023-12-27 00:09:11 f1b73c517476 Coach[227174] INFO Starting Iter #7 ...\n",
            "Self Play: 100%|██████████| 25/25 [35:16<00:00, 84.67s/it]\n"
          ]
        },
        {
          "name": "stdout",
          "output_type": "stream",
          "text": [
            "Checkpoint Directory exists! \n",
            "Epoch 1/10\n",
            "957/957 [==============================] - 172s 178ms/step - loss: 1.3356 - pi_loss: 1.0067 - v_loss: 0.3289\n",
            "Epoch 2/10\n",
            "957/957 [==============================] - 173s 180ms/step - loss: 1.0646 - pi_loss: 0.7916 - v_loss: 0.2729\n",
            "Epoch 3/10\n",
            "957/957 [==============================] - 177s 185ms/step - loss: 0.9543 - pi_loss: 0.7116 - v_loss: 0.2427\n",
            "Epoch 4/10\n",
            "957/957 [==============================] - 170s 177ms/step - loss: 0.8932 - pi_loss: 0.6738 - v_loss: 0.2195\n",
            "Epoch 5/10\n",
            "957/957 [==============================] - 171s 178ms/step - loss: 0.8632 - pi_loss: 0.6552 - v_loss: 0.2080\n",
            "Epoch 6/10\n",
            "957/957 [==============================] - 180s 188ms/step - loss: 0.8355 - pi_loss: 0.6400 - v_loss: 0.1955\n",
            "Epoch 7/10\n",
            "957/957 [==============================] - 170s 178ms/step - loss: 0.8122 - pi_loss: 0.6293 - v_loss: 0.1828\n",
            "Epoch 8/10\n",
            "957/957 [==============================] - 184s 193ms/step - loss: 0.8001 - pi_loss: 0.6241 - v_loss: 0.1760\n",
            "Epoch 9/10\n",
            "957/957 [==============================] - 185s 193ms/step - loss: 0.7851 - pi_loss: 0.6142 - v_loss: 0.1709\n",
            "Epoch 10/10\n",
            "957/957 [==============================] - 179s 187ms/step - loss: 0.7724 - pi_loss: 0.6075 - v_loss: 0.1649\n"
          ]
        },
        {
          "name": "stderr",
          "output_type": "stream",
          "text": [
            "2023-12-27 01:14:05 f1b73c517476 Coach[227174] INFO PITTING AGAINST PREVIOUS VERSION\n",
            "Arena.playGames (1): 100%|██████████| 10/10 [15:28<00:00, 92.84s/it]\n",
            "Arena.playGames (2): 100%|██████████| 10/10 [15:44<00:00, 94.46s/it]\n",
            "2023-12-27 01:45:18 f1b73c517476 Coach[227174] INFO NEW/PREV WINS : 9 / 7 ; DRAWS : 4\n",
            "2023-12-27 01:45:18 f1b73c517476 Coach[227174] INFO REJECTING NEW MODEL\n",
            "2023-12-27 01:45:21 f1b73c517476 Coach[227174] INFO Starting Iter #8 ...\n",
            "Self Play: 100%|██████████| 25/25 [32:50<00:00, 78.80s/it]\n"
          ]
        },
        {
          "name": "stdout",
          "output_type": "stream",
          "text": [
            "Checkpoint Directory exists! \n",
            "Epoch 1/10\n",
            "1080/1080 [==============================] - 200s 183ms/step - loss: 1.4564 - pi_loss: 1.0882 - v_loss: 0.3682\n",
            "Epoch 2/10\n",
            "1080/1080 [==============================] - 198s 183ms/step - loss: 1.1662 - pi_loss: 0.8575 - v_loss: 0.3087\n",
            "Epoch 3/10\n",
            "1080/1080 [==============================] - 199s 185ms/step - loss: 1.0353 - pi_loss: 0.7622 - v_loss: 0.2731\n",
            "Epoch 4/10\n",
            "1080/1080 [==============================] - 198s 183ms/step - loss: 0.9592 - pi_loss: 0.7132 - v_loss: 0.2460\n",
            "Epoch 5/10\n",
            "1080/1080 [==============================] - 199s 184ms/step - loss: 0.9133 - pi_loss: 0.6835 - v_loss: 0.2298\n",
            "Epoch 6/10\n",
            "1080/1080 [==============================] - 196s 182ms/step - loss: 0.8818 - pi_loss: 0.6673 - v_loss: 0.2145\n",
            "Epoch 7/10\n",
            "1080/1080 [==============================] - 199s 184ms/step - loss: 0.8540 - pi_loss: 0.6504 - v_loss: 0.2036\n",
            "Epoch 8/10\n",
            "1080/1080 [==============================] - 203s 188ms/step - loss: 0.8367 - pi_loss: 0.6419 - v_loss: 0.1948\n",
            "Epoch 9/10\n",
            "1080/1080 [==============================] - 198s 183ms/step - loss: 0.8205 - pi_loss: 0.6343 - v_loss: 0.1862\n",
            "Epoch 10/10\n",
            "1080/1080 [==============================] - 198s 183ms/step - loss: 0.8085 - pi_loss: 0.6277 - v_loss: 0.1808\n"
          ]
        },
        {
          "name": "stderr",
          "output_type": "stream",
          "text": [
            "2023-12-27 02:51:49 f1b73c517476 Coach[227174] INFO PITTING AGAINST PREVIOUS VERSION\n",
            "Arena.playGames (1): 100%|██████████| 10/10 [18:13<00:00, 109.37s/it]\n",
            "Arena.playGames (2): 100%|██████████| 10/10 [16:48<00:00, 100.80s/it]\n",
            "2023-12-27 03:26:51 f1b73c517476 Coach[227174] INFO NEW/PREV WINS : 8 / 5 ; DRAWS : 7\n",
            "2023-12-27 03:26:51 f1b73c517476 Coach[227174] INFO ACCEPTING NEW MODEL\n"
          ]
        },
        {
          "name": "stdout",
          "output_type": "stream",
          "text": [
            "Checkpoint Directory exists! \n",
            "Checkpoint Directory exists! \n"
          ]
        },
        {
          "name": "stderr",
          "output_type": "stream",
          "text": [
            "2023-12-27 03:26:53 f1b73c517476 Coach[227174] INFO Starting Iter #9 ...\n",
            "Self Play:  44%|████▍     | 11/25 [16:18<19:41, 84.39s/it]"
          ]
        }
      ],
      "source": [
        "args = dotdict({\n",
        "    'numIters':10,\n",
        "    'numEps': 25,              # Number of complete self-play games to simulate during a new iteration.\n",
        "    'tempThreshold': 15,        #\n",
        "    'updateThreshold': 0.6,     # During arena playoff, new neural net will be accepted if threshold or more of games are won.\n",
        "    'maxlenOfQueue': 50000,    # Number of game examples to train the neural networks.\n",
        "    'numMCTSSims': 25,          # Number of games moves for MCTS to simulate.\n",
        "    'arenaCompare': 20,         # Number of games to play during arena play to determine if new net will be accepted.\n",
        "    'cpuct': 1,\n",
        "\n",
        "    'checkpoint': '/content/drive/MyDrive/trabalho2_liacd/models/ataxx/6x6',\n",
        "    'load_model': True,\n",
        "    'load_folder_file': ('/content/drive/MyDrive/trabalho2_liacd/models/ataxx/6x6', 'best.h5'),\n",
        "    'numItersForTrainExamplesHistory': 20,\n",
        "\n",
        "})\n",
        "\n",
        "log.info('Loading %s...', Game.__name__)\n",
        "g = Game(6)\n",
        "\n",
        "log.info('Loading %s...', nn.__name__)\n",
        "nnet = nn(g)\n",
        "\n",
        "if args.load_model:\n",
        "    log.info('Loading checkpoint \"%s/%s\"...', args.load_folder_file[0], args.load_folder_file[1])\n",
        "    nnet.load_model(args.load_folder_file[0], args.load_folder_file[1])\n",
        "else:\n",
        "    log.warning('Not loading a checkpoint!')\n",
        "\n",
        "log.info('Loading the Coach...')\n",
        "c = Coach(g, nnet, args)\n",
        "\n",
        "if args.load_model:\n",
        "    log.info(\"Loading 'trainExamples' from file...\")\n",
        "    c.loadTrainExamples()\n",
        "\n",
        "log.info('Starting the learning process 🎉')\n",
        "c.learn()\n"
      ]
    },
    {
      "cell_type": "markdown",
      "metadata": {
        "id": "wPqkmKIOmXL4"
      },
      "source": [
        "#Quinto Treino"
      ]
    },
    {
      "cell_type": "code",
      "execution_count": null,
      "metadata": {
        "colab": {
          "background_save": true,
          "base_uri": "https://localhost:8080/"
        },
        "id": "UzshkO_agiIZ",
        "outputId": "3acd4563-fbd1-433b-b070-6d363eb4f743"
      },
      "outputs": [
        {
          "name": "stderr",
          "output_type": "stream",
          "text": [
            "2023-12-27 14:07:10 c62a5e1bfd7d __main__[441] INFO Loading AtaxxGame...\n",
            "2023-12-27 14:07:10 c62a5e1bfd7d __main__[441] INFO Loading NNetWrapper...\n",
            "2023-12-27 14:07:10 c62a5e1bfd7d __main__[441] INFO Loading checkpoint \"/content/drive/MyDrive/trabalho2_liacd/models/ataxx/6x6/best.h5\"...\n",
            "2023-12-27 14:07:15 c62a5e1bfd7d __main__[441] INFO Loading the Coach...\n",
            "2023-12-27 14:07:15 c62a5e1bfd7d __main__[441] INFO Loading 'trainExamples' from file...\n",
            "2023-12-27 14:07:15 c62a5e1bfd7d Coach[441] WARNING File \"/content/drive/MyDrive/trabalho2_liacd/models/ataxx/6x6/best.h5.examples\" with trainExamples not found!\n",
            "2023-12-27 14:07:17 c62a5e1bfd7d __main__[441] INFO Starting the learning process 🎉\n",
            "2023-12-27 14:07:17 c62a5e1bfd7d Coach[441] INFO Starting Iter #1 ...\n",
            "Self Play: 100%|██████████| 25/25 [31:29<00:00, 75.59s/it]\n"
          ]
        },
        {
          "name": "stdout",
          "output_type": "stream",
          "text": [
            "Checkpoint Directory exists! \n"
          ]
        },
        {
          "name": "stderr",
          "output_type": "stream",
          "text": [
            "/usr/local/lib/python3.10/dist-packages/keras/src/engine/training.py:3103: UserWarning: You are saving your model as an HDF5 file via `model.save()`. This file format is considered legacy. We recommend using instead the native Keras format, e.g. `model.save('my_model.keras')`.\n",
            "  saving_api.save_model(\n"
          ]
        },
        {
          "name": "stdout",
          "output_type": "stream",
          "text": [
            "Epoch 1/10\n",
            "130/130 [==============================] - 28s 201ms/step - loss: 2.4135 - pi_loss: 1.7854 - v_loss: 0.6281\n",
            "Epoch 2/10\n",
            "130/130 [==============================] - 25s 190ms/step - loss: 1.6633 - pi_loss: 1.1557 - v_loss: 0.5076\n",
            "Epoch 3/10\n",
            "130/130 [==============================] - 26s 197ms/step - loss: 1.3324 - pi_loss: 0.9172 - v_loss: 0.4152\n",
            "Epoch 4/10\n",
            "130/130 [==============================] - 24s 187ms/step - loss: 1.1089 - pi_loss: 0.7734 - v_loss: 0.3355\n",
            "Epoch 5/10\n",
            "130/130 [==============================] - 26s 199ms/step - loss: 0.9689 - pi_loss: 0.6976 - v_loss: 0.2713\n",
            "Epoch 6/10\n",
            "130/130 [==============================] - 33s 253ms/step - loss: 0.8866 - pi_loss: 0.6534 - v_loss: 0.2332\n",
            "Epoch 7/10\n",
            "130/130 [==============================] - 24s 187ms/step - loss: 0.8260 - pi_loss: 0.6242 - v_loss: 0.2019\n",
            "Epoch 8/10\n",
            "130/130 [==============================] - 25s 194ms/step - loss: 0.7850 - pi_loss: 0.6056 - v_loss: 0.1793\n",
            "Epoch 9/10\n",
            "130/130 [==============================] - 25s 192ms/step - loss: 0.7632 - pi_loss: 0.5976 - v_loss: 0.1655\n",
            "Epoch 10/10\n",
            "130/130 [==============================] - 28s 215ms/step - loss: 0.7356 - pi_loss: 0.5814 - v_loss: 0.1543\n"
          ]
        },
        {
          "name": "stderr",
          "output_type": "stream",
          "text": [
            "2023-12-27 14:43:16 c62a5e1bfd7d Coach[441] INFO PITTING AGAINST PREVIOUS VERSION\n",
            "Arena.playGames (1): 100%|██████████| 10/10 [16:42<00:00, 100.29s/it]\n",
            "Arena.playGames (2): 100%|██████████| 10/10 [14:46<00:00, 88.62s/it]\n",
            "2023-12-27 15:14:45 c62a5e1bfd7d Coach[441] INFO NEW/PREV WINS : 5 / 10 ; DRAWS : 5\n",
            "2023-12-27 15:14:45 c62a5e1bfd7d Coach[441] INFO REJECTING NEW MODEL\n",
            "2023-12-27 15:14:49 c62a5e1bfd7d Coach[441] INFO Starting Iter #2 ...\n",
            "Self Play: 100%|██████████| 25/25 [33:40<00:00, 80.82s/it]\n"
          ]
        },
        {
          "name": "stdout",
          "output_type": "stream",
          "text": [
            "Checkpoint Directory exists! \n",
            "Epoch 1/10\n",
            "261/261 [==============================] - 53s 194ms/step - loss: 2.3043 - pi_loss: 1.7291 - v_loss: 0.5752\n",
            "Epoch 2/10\n",
            "261/261 [==============================] - 51s 194ms/step - loss: 1.7510 - pi_loss: 1.2556 - v_loss: 0.4954\n",
            "Epoch 3/10\n",
            "261/261 [==============================] - 49s 190ms/step - loss: 1.4231 - pi_loss: 1.0007 - v_loss: 0.4224\n",
            "Epoch 4/10\n",
            "261/261 [==============================] - 50s 192ms/step - loss: 1.1784 - pi_loss: 0.8280 - v_loss: 0.3504\n",
            "Epoch 5/10\n",
            "261/261 [==============================] - 56s 215ms/step - loss: 1.0384 - pi_loss: 0.7443 - v_loss: 0.2941\n",
            "Epoch 6/10\n",
            "261/261 [==============================] - 52s 200ms/step - loss: 0.9338 - pi_loss: 0.6841 - v_loss: 0.2497\n",
            "Epoch 7/10\n",
            "261/261 [==============================] - 52s 198ms/step - loss: 0.8628 - pi_loss: 0.6456 - v_loss: 0.2172\n",
            "Epoch 8/10\n",
            "261/261 [==============================] - 50s 190ms/step - loss: 0.8284 - pi_loss: 0.6307 - v_loss: 0.1977\n",
            "Epoch 9/10\n",
            "261/261 [==============================] - 50s 190ms/step - loss: 0.7977 - pi_loss: 0.6139 - v_loss: 0.1838\n",
            "Epoch 10/10\n",
            "261/261 [==============================] - 50s 193ms/step - loss: 0.7655 - pi_loss: 0.5984 - v_loss: 0.1670\n"
          ]
        },
        {
          "name": "stderr",
          "output_type": "stream",
          "text": [
            "2023-12-27 15:57:08 c62a5e1bfd7d Coach[441] INFO PITTING AGAINST PREVIOUS VERSION\n",
            "Arena.playGames (1): 100%|██████████| 10/10 [16:46<00:00, 100.63s/it]\n",
            "Arena.playGames (2): 100%|██████████| 10/10 [15:11<00:00, 91.17s/it]\n",
            "2023-12-27 16:29:06 c62a5e1bfd7d Coach[441] INFO NEW/PREV WINS : 12 / 4 ; DRAWS : 4\n",
            "2023-12-27 16:29:06 c62a5e1bfd7d Coach[441] INFO ACCEPTING NEW MODEL\n"
          ]
        },
        {
          "name": "stdout",
          "output_type": "stream",
          "text": [
            "Checkpoint Directory exists! \n",
            "Checkpoint Directory exists! \n"
          ]
        },
        {
          "name": "stderr",
          "output_type": "stream",
          "text": [
            "2023-12-27 16:29:09 c62a5e1bfd7d Coach[441] INFO Starting Iter #3 ...\n",
            "Self Play: 100%|██████████| 25/25 [28:23<00:00, 68.15s/it]\n"
          ]
        },
        {
          "name": "stdout",
          "output_type": "stream",
          "text": [
            "Checkpoint Directory exists! \n",
            "Epoch 1/10\n",
            "368/368 [==============================] - 77s 204ms/step - loss: 1.3177 - pi_loss: 0.9882 - v_loss: 0.3295\n",
            "Epoch 2/10\n",
            "368/368 [==============================] - 73s 199ms/step - loss: 1.0156 - pi_loss: 0.7578 - v_loss: 0.2578\n",
            "Epoch 3/10\n",
            "368/368 [==============================] - 72s 197ms/step - loss: 0.8970 - pi_loss: 0.6783 - v_loss: 0.2187\n",
            "Epoch 4/10\n",
            "368/368 [==============================] - 71s 192ms/step - loss: 0.8422 - pi_loss: 0.6469 - v_loss: 0.1954\n",
            "Epoch 5/10\n",
            "368/368 [==============================] - 73s 197ms/step - loss: 0.8072 - pi_loss: 0.6265 - v_loss: 0.1807\n",
            "Epoch 6/10\n",
            "368/368 [==============================] - 70s 192ms/step - loss: 0.7866 - pi_loss: 0.6170 - v_loss: 0.1696\n",
            "Epoch 7/10\n",
            "368/368 [==============================] - 68s 185ms/step - loss: 0.7656 - pi_loss: 0.6055 - v_loss: 0.1601\n",
            "Epoch 8/10\n",
            "368/368 [==============================] - 68s 184ms/step - loss: 0.7504 - pi_loss: 0.5998 - v_loss: 0.1505\n",
            "Epoch 9/10\n",
            "368/368 [==============================] - 67s 183ms/step - loss: 0.7335 - pi_loss: 0.5919 - v_loss: 0.1416\n",
            "Epoch 10/10\n",
            "368/368 [==============================] - 67s 182ms/step - loss: 0.7241 - pi_loss: 0.5878 - v_loss: 0.1363\n"
          ]
        },
        {
          "name": "stderr",
          "output_type": "stream",
          "text": [
            "2023-12-27 17:10:03 c62a5e1bfd7d Coach[441] INFO PITTING AGAINST PREVIOUS VERSION\n",
            "Arena.playGames (1): 100%|██████████| 10/10 [17:33<00:00, 105.31s/it]\n",
            "Arena.playGames (2): 100%|██████████| 10/10 [15:47<00:00, 94.77s/it]\n",
            "2023-12-27 17:43:24 c62a5e1bfd7d Coach[441] INFO NEW/PREV WINS : 7 / 4 ; DRAWS : 9\n",
            "2023-12-27 17:43:24 c62a5e1bfd7d Coach[441] INFO ACCEPTING NEW MODEL\n"
          ]
        },
        {
          "name": "stdout",
          "output_type": "stream",
          "text": [
            "Checkpoint Directory exists! \n",
            "Checkpoint Directory exists! \n"
          ]
        },
        {
          "name": "stderr",
          "output_type": "stream",
          "text": [
            "2023-12-27 17:43:28 c62a5e1bfd7d Coach[441] INFO Starting Iter #4 ...\n",
            "Self Play: 100%|██████████| 25/25 [33:38<00:00, 80.75s/it]\n"
          ]
        },
        {
          "name": "stdout",
          "output_type": "stream",
          "text": [
            "Checkpoint Directory exists! \n",
            "Epoch 1/10\n",
            "494/494 [==============================] - 103s 207ms/step - loss: 1.2842 - pi_loss: 0.9645 - v_loss: 0.3197\n",
            "Epoch 2/10\n",
            "494/494 [==============================] - 100s 203ms/step - loss: 0.9842 - pi_loss: 0.7335 - v_loss: 0.2507\n",
            "Epoch 3/10\n",
            "494/494 [==============================] - 98s 198ms/step - loss: 0.8815 - pi_loss: 0.6658 - v_loss: 0.2157\n",
            "Epoch 4/10\n",
            "494/494 [==============================] - 95s 192ms/step - loss: 0.8225 - pi_loss: 0.6292 - v_loss: 0.1934\n",
            "Epoch 5/10\n",
            "494/494 [==============================] - 97s 197ms/step - loss: 0.7896 - pi_loss: 0.6137 - v_loss: 0.1758\n",
            "Epoch 6/10\n",
            "494/494 [==============================] - 97s 196ms/step - loss: 0.7658 - pi_loss: 0.6032 - v_loss: 0.1627\n",
            "Epoch 7/10\n",
            "494/494 [==============================] - 98s 199ms/step - loss: 0.7494 - pi_loss: 0.5920 - v_loss: 0.1574\n",
            "Epoch 8/10\n",
            "494/494 [==============================] - 98s 199ms/step - loss: 0.7461 - pi_loss: 0.5937 - v_loss: 0.1524\n",
            "Epoch 9/10\n",
            "494/494 [==============================] - 97s 197ms/step - loss: 0.7282 - pi_loss: 0.5834 - v_loss: 0.1448\n",
            "Epoch 10/10\n",
            "494/494 [==============================] - 94s 190ms/step - loss: 0.7235 - pi_loss: 0.5809 - v_loss: 0.1426\n"
          ]
        },
        {
          "name": "stderr",
          "output_type": "stream",
          "text": [
            "2023-12-27 18:33:37 c62a5e1bfd7d Coach[441] INFO PITTING AGAINST PREVIOUS VERSION\n",
            "Arena.playGames (1): 100%|██████████| 10/10 [18:21<00:00, 110.19s/it]\n",
            "Arena.playGames (2): 100%|██████████| 10/10 [15:16<00:00, 91.69s/it]\n",
            "2023-12-27 19:07:16 c62a5e1bfd7d Coach[441] INFO NEW/PREV WINS : 3 / 13 ; DRAWS : 4\n",
            "2023-12-27 19:07:16 c62a5e1bfd7d Coach[441] INFO REJECTING NEW MODEL\n",
            "2023-12-27 19:07:20 c62a5e1bfd7d Coach[441] INFO Starting Iter #5 ...\n",
            "Self Play: 100%|██████████| 25/25 [24:49<00:00, 59.60s/it]\n"
          ]
        },
        {
          "name": "stdout",
          "output_type": "stream",
          "text": [
            "Checkpoint Directory exists! \n",
            "Epoch 1/10\n",
            "584/584 [==============================] - 117s 198ms/step - loss: 1.4803 - pi_loss: 1.0966 - v_loss: 0.3836\n",
            "Epoch 2/10\n",
            "584/584 [==============================] - 108s 186ms/step - loss: 1.1340 - pi_loss: 0.8301 - v_loss: 0.3039\n",
            "Epoch 3/10\n",
            "584/584 [==============================] - 111s 189ms/step - loss: 0.9907 - pi_loss: 0.7320 - v_loss: 0.2586\n",
            "Epoch 4/10\n",
            "584/584 [==============================] - 102s 175ms/step - loss: 0.9140 - pi_loss: 0.6844 - v_loss: 0.2297\n",
            "Epoch 5/10\n",
            "584/584 [==============================] - 112s 191ms/step - loss: 0.8713 - pi_loss: 0.6610 - v_loss: 0.2103\n",
            "Epoch 6/10\n",
            "584/584 [==============================] - 109s 187ms/step - loss: 0.8394 - pi_loss: 0.6439 - v_loss: 0.1955\n",
            "Epoch 7/10\n",
            "584/584 [==============================] - 113s 193ms/step - loss: 0.8144 - pi_loss: 0.6308 - v_loss: 0.1836\n",
            "Epoch 8/10\n",
            "584/584 [==============================] - 114s 196ms/step - loss: 0.8007 - pi_loss: 0.6290 - v_loss: 0.1717\n",
            "Epoch 9/10\n",
            "584/584 [==============================] - 110s 189ms/step - loss: 0.7890 - pi_loss: 0.6198 - v_loss: 0.1692\n",
            "Epoch 10/10\n",
            "584/584 [==============================] - 114s 195ms/step - loss: 0.7758 - pi_loss: 0.6144 - v_loss: 0.1614\n"
          ]
        },
        {
          "name": "stderr",
          "output_type": "stream",
          "text": [
            "2023-12-27 19:51:44 c62a5e1bfd7d Coach[441] INFO PITTING AGAINST PREVIOUS VERSION\n",
            "Arena.playGames (1): 100%|██████████| 10/10 [17:15<00:00, 103.57s/it]\n",
            "Arena.playGames (2): 100%|██████████| 10/10 [13:26<00:00, 80.61s/it] \n",
            "2023-12-27 20:22:25 c62a5e1bfd7d Coach[441] INFO NEW/PREV WINS : 12 / 6 ; DRAWS : 2\n",
            "2023-12-27 20:22:25 c62a5e1bfd7d Coach[441] INFO ACCEPTING NEW MODEL\n"
          ]
        },
        {
          "name": "stdout",
          "output_type": "stream",
          "text": [
            "Checkpoint Directory exists! \n",
            "Checkpoint Directory exists! \n"
          ]
        },
        {
          "name": "stderr",
          "output_type": "stream",
          "text": [
            "2023-12-27 20:22:30 c62a5e1bfd7d Coach[441] INFO Starting Iter #6 ...\n",
            "Self Play: 100%|██████████| 25/25 [30:13<00:00, 72.53s/it]\n"
          ]
        },
        {
          "name": "stdout",
          "output_type": "stream",
          "text": [
            "Checkpoint Directory exists! \n",
            "Epoch 1/10\n",
            "696/696 [==============================] - 134s 189ms/step - loss: 1.1223 - pi_loss: 0.8523 - v_loss: 0.2699\n",
            "Epoch 2/10\n",
            "696/696 [==============================] - 134s 193ms/step - loss: 0.9219 - pi_loss: 0.6980 - v_loss: 0.2239\n",
            "Epoch 3/10\n",
            "696/696 [==============================] - 134s 192ms/step - loss: 0.8525 - pi_loss: 0.6504 - v_loss: 0.2021\n",
            "Epoch 4/10\n",
            "696/696 [==============================] - 138s 198ms/step - loss: 0.8173 - pi_loss: 0.6297 - v_loss: 0.1877\n",
            "Epoch 5/10\n",
            "696/696 [==============================] - 131s 188ms/step - loss: 0.8018 - pi_loss: 0.6241 - v_loss: 0.1776\n",
            "Epoch 6/10\n",
            "696/696 [==============================] - 135s 193ms/step - loss: 0.7844 - pi_loss: 0.6141 - v_loss: 0.1702\n",
            "Epoch 7/10\n",
            "696/696 [==============================] - 135s 195ms/step - loss: 0.7721 - pi_loss: 0.6073 - v_loss: 0.1648\n",
            "Epoch 8/10\n",
            "696/696 [==============================] - 136s 195ms/step - loss: 0.7630 - pi_loss: 0.6045 - v_loss: 0.1585\n",
            "Epoch 9/10\n",
            "696/696 [==============================] - 143s 206ms/step - loss: 0.7582 - pi_loss: 0.6023 - v_loss: 0.1560\n",
            "Epoch 10/10\n",
            "696/696 [==============================] - 135s 194ms/step - loss: 0.7484 - pi_loss: 0.5959 - v_loss: 0.1525\n"
          ]
        },
        {
          "name": "stderr",
          "output_type": "stream",
          "text": [
            "2023-12-27 21:16:19 c62a5e1bfd7d Coach[441] INFO PITTING AGAINST PREVIOUS VERSION\n",
            "Arena.playGames (1): 100%|██████████| 10/10 [16:37<00:00, 99.80s/it]\n",
            "Arena.playGames (2): 100%|██████████| 10/10 [15:56<00:00, 95.66s/it]\n",
            "2023-12-27 21:48:53 c62a5e1bfd7d Coach[441] INFO NEW/PREV WINS : 9 / 7 ; DRAWS : 4\n",
            "2023-12-27 21:48:53 c62a5e1bfd7d Coach[441] INFO REJECTING NEW MODEL\n",
            "2023-12-27 21:48:56 c62a5e1bfd7d Coach[441] INFO Starting Iter #7 ...\n",
            "Self Play: 100%|██████████| 25/25 [35:54<00:00, 86.20s/it]\n"
          ]
        },
        {
          "name": "stdout",
          "output_type": "stream",
          "text": [
            "Checkpoint Directory exists! \n",
            "Epoch 1/10\n",
            "827/827 [==============================] - 152s 182ms/step - loss: 1.3485 - pi_loss: 0.9971 - v_loss: 0.3514\n",
            "Epoch 2/10\n",
            "827/827 [==============================] - 153s 185ms/step - loss: 1.0735 - pi_loss: 0.7861 - v_loss: 0.2874\n",
            "Epoch 3/10\n",
            "827/827 [==============================] - 150s 182ms/step - loss: 0.9609 - pi_loss: 0.7073 - v_loss: 0.2537\n",
            "Epoch 4/10\n",
            "827/827 [==============================] - 156s 189ms/step - loss: 0.8993 - pi_loss: 0.6694 - v_loss: 0.2299\n",
            "Epoch 5/10\n",
            "827/827 [==============================] - 151s 183ms/step - loss: 0.8622 - pi_loss: 0.6499 - v_loss: 0.2123\n",
            "Epoch 6/10\n",
            "827/827 [==============================] - 151s 183ms/step - loss: 0.8371 - pi_loss: 0.6373 - v_loss: 0.1998\n",
            "Epoch 7/10\n",
            "827/827 [==============================] - 152s 184ms/step - loss: 0.8195 - pi_loss: 0.6286 - v_loss: 0.1908\n",
            "Epoch 8/10\n",
            "827/827 [==============================] - 154s 186ms/step - loss: 0.8015 - pi_loss: 0.6198 - v_loss: 0.1817\n",
            "Epoch 9/10\n",
            "827/827 [==============================] - 150s 181ms/step - loss: 0.7908 - pi_loss: 0.6142 - v_loss: 0.1766\n",
            "Epoch 10/10\n",
            "827/827 [==============================] - 148s 179ms/step - loss: 0.7784 - pi_loss: 0.6066 - v_loss: 0.1717\n"
          ]
        },
        {
          "name": "stderr",
          "output_type": "stream",
          "text": [
            "2023-12-27 22:50:21 c62a5e1bfd7d Coach[441] INFO PITTING AGAINST PREVIOUS VERSION\n",
            "Arena.playGames (1): 100%|██████████| 10/10 [15:47<00:00, 94.76s/it]\n",
            "Arena.playGames (2): 100%|██████████| 10/10 [14:49<00:00, 88.91s/it] \n",
            "2023-12-27 23:20:58 c62a5e1bfd7d Coach[441] INFO NEW/PREV WINS : 5 / 9 ; DRAWS : 6\n",
            "2023-12-27 23:20:58 c62a5e1bfd7d Coach[441] INFO REJECTING NEW MODEL\n",
            "2023-12-27 23:21:02 c62a5e1bfd7d Coach[441] INFO Starting Iter #8 ...\n",
            "Self Play: 100%|██████████| 25/25 [30:40<00:00, 73.62s/it]\n"
          ]
        },
        {
          "name": "stdout",
          "output_type": "stream",
          "text": [
            "Checkpoint Directory exists! \n",
            "Epoch 1/10\n",
            "951/951 [==============================] - 173s 181ms/step - loss: 1.4602 - pi_loss: 1.0829 - v_loss: 0.3773\n",
            "Epoch 2/10\n",
            "951/951 [==============================] - 174s 183ms/step - loss: 1.1665 - pi_loss: 0.8526 - v_loss: 0.3139\n",
            "Epoch 3/10\n",
            "951/951 [==============================] - 170s 179ms/step - loss: 1.0259 - pi_loss: 0.7517 - v_loss: 0.2742\n",
            "Epoch 4/10\n",
            "951/951 [==============================] - 172s 181ms/step - loss: 0.9458 - pi_loss: 0.7023 - v_loss: 0.2434\n",
            "Epoch 5/10\n",
            "951/951 [==============================] - 173s 182ms/step - loss: 0.8978 - pi_loss: 0.6716 - v_loss: 0.2262\n",
            "Epoch 6/10\n",
            "951/951 [==============================] - 170s 179ms/step - loss: 0.8689 - pi_loss: 0.6578 - v_loss: 0.2111\n",
            "Epoch 7/10\n",
            "951/951 [==============================] - 173s 182ms/step - loss: 0.8447 - pi_loss: 0.6440 - v_loss: 0.2006\n",
            "Epoch 8/10\n",
            "951/951 [==============================] - 169s 178ms/step - loss: 0.8243 - pi_loss: 0.6339 - v_loss: 0.1905\n",
            "Epoch 9/10\n",
            "951/951 [==============================] - 171s 180ms/step - loss: 0.8129 - pi_loss: 0.6280 - v_loss: 0.1849\n",
            "Epoch 10/10\n",
            "951/951 [==============================] - 177s 186ms/step - loss: 0.7967 - pi_loss: 0.6199 - v_loss: 0.1768\n"
          ]
        },
        {
          "name": "stderr",
          "output_type": "stream",
          "text": [
            "2023-12-28 00:21:21 c62a5e1bfd7d Coach[441] INFO PITTING AGAINST PREVIOUS VERSION\n",
            "Arena.playGames (1): 100%|██████████| 10/10 [15:46<00:00, 94.65s/it]\n",
            "Arena.playGames (2): 100%|██████████| 10/10 [15:58<00:00, 95.80s/it]\n",
            "2023-12-28 00:53:05 c62a5e1bfd7d Coach[441] INFO NEW/PREV WINS : 8 / 7 ; DRAWS : 5\n",
            "2023-12-28 00:53:05 c62a5e1bfd7d Coach[441] INFO REJECTING NEW MODEL\n",
            "2023-12-28 00:53:08 c62a5e1bfd7d Coach[441] INFO Starting Iter #9 ...\n",
            "Self Play: 100%|██████████| 25/25 [30:50<00:00, 74.03s/it]\n"
          ]
        },
        {
          "name": "stdout",
          "output_type": "stream",
          "text": [
            "Checkpoint Directory exists! \n",
            "Epoch 1/10\n",
            "1076/1076 [==============================] - 184s 170ms/step - loss: 1.5615 - pi_loss: 1.1633 - v_loss: 0.3981\n",
            "Epoch 2/10\n",
            "1076/1076 [==============================] - 181s 168ms/step - loss: 1.2532 - pi_loss: 0.9199 - v_loss: 0.3333\n",
            "Epoch 3/10\n",
            "1076/1076 [==============================] - 180s 167ms/step - loss: 1.0931 - pi_loss: 0.8021 - v_loss: 0.2910\n",
            "Epoch 4/10\n",
            "1076/1076 [==============================] - 183s 170ms/step - loss: 1.0039 - pi_loss: 0.7403 - v_loss: 0.2635\n",
            "Epoch 5/10\n",
            "1076/1076 [==============================] - 180s 168ms/step - loss: 0.9385 - pi_loss: 0.6989 - v_loss: 0.2395\n",
            "Epoch 6/10\n",
            "1076/1076 [==============================] - 180s 168ms/step - loss: 0.9017 - pi_loss: 0.6774 - v_loss: 0.2244\n",
            "Epoch 7/10\n",
            "1076/1076 [==============================] - 182s 169ms/step - loss: 0.8716 - pi_loss: 0.6619 - v_loss: 0.2097\n",
            "Epoch 8/10\n",
            "1076/1076 [==============================] - 180s 167ms/step - loss: 0.8527 - pi_loss: 0.6504 - v_loss: 0.2023\n",
            "Epoch 9/10\n",
            "1076/1076 [==============================] - 180s 167ms/step - loss: 0.8310 - pi_loss: 0.6398 - v_loss: 0.1912\n",
            "Epoch 10/10\n",
            "1076/1076 [==============================] - 182s 169ms/step - loss: 0.8168 - pi_loss: 0.6320 - v_loss: 0.1848\n"
          ]
        },
        {
          "name": "stderr",
          "output_type": "stream",
          "text": [
            "2023-12-28 01:54:38 c62a5e1bfd7d Coach[441] INFO PITTING AGAINST PREVIOUS VERSION\n",
            "Arena.playGames (1): 100%|██████████| 10/10 [15:23<00:00, 92.38s/it]\n",
            "Arena.playGames (2): 100%|██████████| 10/10 [15:32<00:00, 93.26s/it]\n",
            "2023-12-28 02:25:35 c62a5e1bfd7d Coach[441] INFO NEW/PREV WINS : 6 / 6 ; DRAWS : 8\n",
            "2023-12-28 02:25:35 c62a5e1bfd7d Coach[441] INFO REJECTING NEW MODEL\n",
            "2023-12-28 02:25:38 c62a5e1bfd7d Coach[441] INFO Starting Iter #10 ...\n",
            "Self Play: 100%|██████████| 25/25 [25:23<00:00, 60.94s/it]\n"
          ]
        },
        {
          "name": "stdout",
          "output_type": "stream",
          "text": [
            "Checkpoint Directory exists! \n",
            "Epoch 1/10\n",
            "1179/1179 [==============================] - 197s 165ms/step - loss: 1.6200 - pi_loss: 1.2021 - v_loss: 0.4179\n",
            "Epoch 2/10\n",
            "1179/1179 [==============================] - 195s 166ms/step - loss: 1.3059 - pi_loss: 0.9529 - v_loss: 0.3530\n",
            "Epoch 3/10\n",
            "1179/1179 [==============================] - 197s 167ms/step - loss: 1.1437 - pi_loss: 0.8358 - v_loss: 0.3079\n",
            "Epoch 4/10\n",
            "1179/1179 [==============================] - 195s 166ms/step - loss: 1.0419 - pi_loss: 0.7636 - v_loss: 0.2783\n",
            "Epoch 5/10\n",
            "1179/1179 [==============================] - 195s 165ms/step - loss: 0.9752 - pi_loss: 0.7222 - v_loss: 0.2531\n",
            "Epoch 6/10\n",
            "1179/1179 [==============================] - 198s 168ms/step - loss: 0.9308 - pi_loss: 0.6928 - v_loss: 0.2381\n",
            "Epoch 7/10\n",
            "1179/1179 [==============================] - 195s 166ms/step - loss: 0.8985 - pi_loss: 0.6765 - v_loss: 0.2219\n",
            "Epoch 8/10\n",
            "1179/1179 [==============================] - 194s 165ms/step - loss: 0.8760 - pi_loss: 0.6647 - v_loss: 0.2113\n",
            "Epoch 9/10\n",
            "1179/1179 [==============================] - 197s 167ms/step - loss: 0.8528 - pi_loss: 0.6510 - v_loss: 0.2017\n",
            "Epoch 10/10\n",
            "1179/1179 [==============================] - 194s 165ms/step - loss: 0.8381 - pi_loss: 0.6428 - v_loss: 0.1954\n"
          ]
        },
        {
          "name": "stderr",
          "output_type": "stream",
          "text": [
            "2023-12-28 03:24:40 c62a5e1bfd7d Coach[441] INFO PITTING AGAINST PREVIOUS VERSION\n",
            "Arena.playGames (1): 100%|██████████| 10/10 [14:30<00:00, 87.10s/it]\n",
            "Arena.playGames (2): 100%|██████████| 10/10 [15:10<00:00, 91.07s/it]\n",
            "2023-12-28 03:54:22 c62a5e1bfd7d Coach[441] INFO NEW/PREV WINS : 8 / 9 ; DRAWS : 3\n",
            "2023-12-28 03:54:22 c62a5e1bfd7d Coach[441] INFO REJECTING NEW MODEL\n"
          ]
        }
      ],
      "source": [
        "args = dotdict({\n",
        "    'numIters':10,\n",
        "    'numEps': 25,              # Number of complete self-play games to simulate during a new iteration.\n",
        "    'tempThreshold': 15,        #\n",
        "    'updateThreshold': 0.6,     # During arena playoff, new neural net will be accepted if threshold or more of games are won.\n",
        "    'maxlenOfQueue': 50000,    # Number of game examples to train the neural networks.\n",
        "    'numMCTSSims': 25,          # Number of games moves for MCTS to simulate.\n",
        "    'arenaCompare': 20,         # Number of games to play during arena play to determine if new net will be accepted.\n",
        "    'cpuct': 1,\n",
        "\n",
        "    'checkpoint': '/content/drive/MyDrive/trabalho2_liacd/models/ataxx/6x6',\n",
        "    'load_model': True,\n",
        "    'load_folder_file': ('/content/drive/MyDrive/trabalho2_liacd/models/ataxx/6x6', 'best.h5'),\n",
        "    'numItersForTrainExamplesHistory': 20,\n",
        "\n",
        "})\n",
        "\n",
        "log.info('Loading %s...', Game.__name__)\n",
        "g = Game(6)\n",
        "\n",
        "log.info('Loading %s...', nn.__name__)\n",
        "nnet = nn(g)\n",
        "\n",
        "if args.load_model:\n",
        "    log.info('Loading checkpoint \"%s/%s\"...', args.load_folder_file[0], args.load_folder_file[1])\n",
        "    nnet.load_model(args.load_folder_file[0], args.load_folder_file[1])\n",
        "else:\n",
        "    log.warning('Not loading a checkpoint!')\n",
        "\n",
        "log.info('Loading the Coach...')\n",
        "c = Coach(g, nnet, args)\n",
        "\n",
        "if args.load_model:\n",
        "    log.info(\"Loading 'trainExamples' from file...\")\n",
        "    c.loadTrainExamples()\n",
        "\n",
        "log.info('Starting the learning process 🎉')\n",
        "c.learn()\n"
      ]
    },
    {
      "cell_type": "markdown",
      "metadata": {
        "id": "gTlaUv57864v"
      },
      "source": [
        "#Sexto Treino"
      ]
    },
    {
      "cell_type": "code",
      "execution_count": null,
      "metadata": {
        "colab": {
          "background_save": true,
          "base_uri": "https://localhost:8080/"
        },
        "id": "a3-RUPpcgiKj",
        "outputId": "8294a0e6-2cd4-40cf-b0b7-dcf4989f2547"
      },
      "outputs": [
        {
          "name": "stderr",
          "output_type": "stream",
          "text": [
            "2023-12-28 15:15:20 f7c274df3443 __main__[432] INFO Loading AtaxxGame...\n",
            "2023-12-28 15:15:20 f7c274df3443 __main__[432] INFO Loading NNetWrapper...\n",
            "2023-12-28 15:15:21 f7c274df3443 __main__[432] INFO Loading checkpoint \"/content/drive/MyDrive/trabalho2_liacd/models/ataxx/6x6/best.h5\"...\n",
            "2023-12-28 15:15:23 f7c274df3443 __main__[432] INFO Loading the Coach...\n",
            "2023-12-28 15:15:23 f7c274df3443 __main__[432] INFO Loading 'trainExamples' from file...\n",
            "2023-12-28 15:15:23 f7c274df3443 Coach[432] WARNING File \"/content/drive/MyDrive/trabalho2_liacd/models/ataxx/6x6/best.h5.examples\" with trainExamples not found!\n",
            "2023-12-28 15:16:38 f7c274df3443 __main__[432] INFO Starting the learning process 🎉\n",
            "2023-12-28 15:16:38 f7c274df3443 Coach[432] INFO Starting Iter #1 ...\n",
            "Self Play: 100%|██████████| 25/25 [26:08<00:00, 62.74s/it]\n"
          ]
        },
        {
          "name": "stdout",
          "output_type": "stream",
          "text": [
            "Checkpoint Directory exists! \n"
          ]
        },
        {
          "name": "stderr",
          "output_type": "stream",
          "text": [
            "/usr/local/lib/python3.10/dist-packages/keras/src/engine/training.py:3103: UserWarning: You are saving your model as an HDF5 file via `model.save()`. This file format is considered legacy. We recommend using instead the native Keras format, e.g. `model.save('my_model.keras')`.\n",
            "  saving_api.save_model(\n"
          ]
        },
        {
          "name": "stdout",
          "output_type": "stream",
          "text": [
            "Epoch 1/10\n",
            "117/117 [==============================] - 23s 183ms/step - loss: 2.3761 - pi_loss: 1.8038 - v_loss: 0.5723\n",
            "Epoch 2/10\n",
            "117/117 [==============================] - 22s 187ms/step - loss: 1.5424 - pi_loss: 1.1348 - v_loss: 0.4076\n",
            "Epoch 3/10\n",
            "117/117 [==============================] - 20s 172ms/step - loss: 1.2210 - pi_loss: 0.9038 - v_loss: 0.3172\n",
            "Epoch 4/10\n",
            "117/117 [==============================] - 20s 169ms/step - loss: 1.0511 - pi_loss: 0.7902 - v_loss: 0.2609\n",
            "Epoch 5/10\n",
            "117/117 [==============================] - 19s 166ms/step - loss: 0.9454 - pi_loss: 0.7288 - v_loss: 0.2166\n",
            "Epoch 6/10\n",
            "117/117 [==============================] - 22s 190ms/step - loss: 0.8827 - pi_loss: 0.6917 - v_loss: 0.1910\n",
            "Epoch 7/10\n",
            "117/117 [==============================] - 20s 168ms/step - loss: 0.8300 - pi_loss: 0.6626 - v_loss: 0.1674\n",
            "Epoch 8/10\n",
            "117/117 [==============================] - 20s 170ms/step - loss: 0.7968 - pi_loss: 0.6437 - v_loss: 0.1532\n",
            "Epoch 9/10\n",
            "117/117 [==============================] - 20s 170ms/step - loss: 0.7783 - pi_loss: 0.6336 - v_loss: 0.1447\n",
            "Epoch 10/10\n",
            "117/117 [==============================] - 21s 176ms/step - loss: 0.7599 - pi_loss: 0.6241 - v_loss: 0.1358\n"
          ]
        },
        {
          "name": "stderr",
          "output_type": "stream",
          "text": [
            "2023-12-28 15:46:16 f7c274df3443 Coach[432] INFO PITTING AGAINST PREVIOUS VERSION\n",
            "Arena.playGames (1): 100%|██████████| 10/10 [14:21<00:00, 86.15s/it]\n",
            "Arena.playGames (2): 100%|██████████| 10/10 [15:29<00:00, 92.95s/it]\n",
            "2023-12-28 16:16:07 f7c274df3443 Coach[432] INFO NEW/PREV WINS : 12 / 5 ; DRAWS : 3\n",
            "2023-12-28 16:16:07 f7c274df3443 Coach[432] INFO ACCEPTING NEW MODEL\n"
          ]
        },
        {
          "name": "stdout",
          "output_type": "stream",
          "text": [
            "Checkpoint Directory exists! \n",
            "Checkpoint Directory exists! \n"
          ]
        },
        {
          "name": "stderr",
          "output_type": "stream",
          "text": [
            "2023-12-28 16:16:09 f7c274df3443 Coach[432] INFO Starting Iter #2 ...\n",
            "Self Play: 100%|██████████| 25/25 [25:51<00:00, 62.05s/it]\n"
          ]
        },
        {
          "name": "stdout",
          "output_type": "stream",
          "text": [
            "Checkpoint Directory exists! \n",
            "Epoch 1/10\n",
            "222/222 [==============================] - 41s 186ms/step - loss: 1.5318 - pi_loss: 1.2266 - v_loss: 0.3051\n",
            "Epoch 2/10\n",
            "222/222 [==============================] - 39s 176ms/step - loss: 1.1236 - pi_loss: 0.8830 - v_loss: 0.2406\n",
            "Epoch 3/10\n",
            "222/222 [==============================] - 40s 181ms/step - loss: 0.9517 - pi_loss: 0.7494 - v_loss: 0.2024\n",
            "Epoch 4/10\n",
            "222/222 [==============================] - 40s 178ms/step - loss: 0.8608 - pi_loss: 0.6844 - v_loss: 0.1764\n",
            "Epoch 5/10\n",
            "222/222 [==============================] - 39s 174ms/step - loss: 0.8123 - pi_loss: 0.6511 - v_loss: 0.1611\n",
            "Epoch 6/10\n",
            "222/222 [==============================] - 40s 182ms/step - loss: 0.7769 - pi_loss: 0.6278 - v_loss: 0.1491\n",
            "Epoch 7/10\n",
            "222/222 [==============================] - 38s 173ms/step - loss: 0.7472 - pi_loss: 0.6124 - v_loss: 0.1348\n",
            "Epoch 8/10\n",
            "222/222 [==============================] - 38s 171ms/step - loss: 0.7302 - pi_loss: 0.6002 - v_loss: 0.1300\n",
            "Epoch 9/10\n",
            "222/222 [==============================] - 41s 185ms/step - loss: 0.7202 - pi_loss: 0.5983 - v_loss: 0.1219\n",
            "Epoch 10/10\n",
            "222/222 [==============================] - 39s 175ms/step - loss: 0.7048 - pi_loss: 0.5860 - v_loss: 0.1188\n"
          ]
        },
        {
          "name": "stderr",
          "output_type": "stream",
          "text": [
            "2023-12-28 16:49:28 f7c274df3443 Coach[432] INFO PITTING AGAINST PREVIOUS VERSION\n",
            "Arena.playGames (1): 100%|██████████| 10/10 [15:52<00:00, 95.28s/it]\n",
            "Arena.playGames (2): 100%|██████████| 10/10 [17:09<00:00, 103.00s/it]\n",
            "2023-12-28 17:22:30 f7c274df3443 Coach[432] INFO NEW/PREV WINS : 8 / 6 ; DRAWS : 6\n",
            "2023-12-28 17:22:30 f7c274df3443 Coach[432] INFO REJECTING NEW MODEL\n",
            "2023-12-28 17:22:32 f7c274df3443 Coach[432] INFO Starting Iter #3 ...\n",
            "Self Play: 100%|██████████| 25/25 [35:12<00:00, 84.52s/it]\n"
          ]
        },
        {
          "name": "stdout",
          "output_type": "stream",
          "text": [
            "Checkpoint Directory exists! \n",
            "Epoch 1/10\n",
            "359/359 [==============================] - 66s 180ms/step - loss: 1.9164 - pi_loss: 1.4090 - v_loss: 0.5074\n",
            "Epoch 2/10\n",
            "359/359 [==============================] - 65s 181ms/step - loss: 1.4497 - pi_loss: 1.0452 - v_loss: 0.4045\n",
            "Epoch 3/10\n",
            "359/359 [==============================] - 64s 180ms/step - loss: 1.1991 - pi_loss: 0.8636 - v_loss: 0.3355\n",
            "Epoch 4/10\n",
            "359/359 [==============================] - 66s 184ms/step - loss: 1.0421 - pi_loss: 0.7590 - v_loss: 0.2831\n",
            "Epoch 5/10\n",
            "359/359 [==============================] - 63s 176ms/step - loss: 0.9359 - pi_loss: 0.6940 - v_loss: 0.2419\n",
            "Epoch 6/10\n",
            "359/359 [==============================] - 64s 178ms/step - loss: 0.8681 - pi_loss: 0.6519 - v_loss: 0.2162\n",
            "Epoch 7/10\n",
            "359/359 [==============================] - 63s 176ms/step - loss: 0.8274 - pi_loss: 0.6298 - v_loss: 0.1976\n",
            "Epoch 8/10\n",
            "359/359 [==============================] - 63s 175ms/step - loss: 0.7960 - pi_loss: 0.6119 - v_loss: 0.1840\n",
            "Epoch 9/10\n",
            "359/359 [==============================] - 64s 177ms/step - loss: 0.7705 - pi_loss: 0.5947 - v_loss: 0.1757\n",
            "Epoch 10/10\n",
            "359/359 [==============================] - 65s 182ms/step - loss: 0.7558 - pi_loss: 0.5911 - v_loss: 0.1647\n"
          ]
        },
        {
          "name": "stderr",
          "output_type": "stream",
          "text": [
            "2023-12-28 18:08:36 f7c274df3443 Coach[432] INFO PITTING AGAINST PREVIOUS VERSION\n",
            "Arena.playGames (1): 100%|██████████| 10/10 [15:27<00:00, 92.80s/it]\n",
            "Arena.playGames (2): 100%|██████████| 10/10 [16:13<00:00, 97.31s/it]\n",
            "2023-12-28 18:40:17 f7c274df3443 Coach[432] INFO NEW/PREV WINS : 4 / 12 ; DRAWS : 4\n",
            "2023-12-28 18:40:17 f7c274df3443 Coach[432] INFO REJECTING NEW MODEL\n",
            "2023-12-28 18:40:19 f7c274df3443 Coach[432] INFO Starting Iter #4 ...\n",
            "Self Play: 100%|██████████| 25/25 [29:29<00:00, 70.80s/it]\n"
          ]
        },
        {
          "name": "stdout",
          "output_type": "stream",
          "text": [
            "Checkpoint Directory exists! \n",
            "Epoch 1/10\n",
            "473/473 [==============================] - 91s 188ms/step - loss: 1.9690 - pi_loss: 1.4388 - v_loss: 0.5302\n",
            "Epoch 2/10\n",
            "473/473 [==============================] - 86s 183ms/step - loss: 1.5457 - pi_loss: 1.1125 - v_loss: 0.4332\n",
            "Epoch 3/10\n",
            "473/473 [==============================] - 86s 181ms/step - loss: 1.2906 - pi_loss: 0.9238 - v_loss: 0.3668\n",
            "Epoch 4/10\n",
            "473/473 [==============================] - 87s 184ms/step - loss: 1.1087 - pi_loss: 0.7937 - v_loss: 0.3150\n",
            "Epoch 5/10\n",
            "473/473 [==============================] - 83s 175ms/step - loss: 0.9829 - pi_loss: 0.7102 - v_loss: 0.2727\n",
            "Epoch 6/10\n",
            "473/473 [==============================] - 82s 174ms/step - loss: 0.9121 - pi_loss: 0.6697 - v_loss: 0.2424\n",
            "Epoch 7/10\n",
            "473/473 [==============================] - 83s 176ms/step - loss: 0.8570 - pi_loss: 0.6370 - v_loss: 0.2200\n",
            "Epoch 8/10\n",
            "473/473 [==============================] - 85s 179ms/step - loss: 0.8213 - pi_loss: 0.6186 - v_loss: 0.2028\n",
            "Epoch 9/10\n",
            "473/473 [==============================] - 83s 175ms/step - loss: 0.7945 - pi_loss: 0.6029 - v_loss: 0.1916\n",
            "Epoch 10/10\n",
            "473/473 [==============================] - 82s 174ms/step - loss: 0.7658 - pi_loss: 0.5890 - v_loss: 0.1769\n"
          ]
        },
        {
          "name": "stderr",
          "output_type": "stream",
          "text": [
            "2023-12-28 19:24:18 f7c274df3443 Coach[432] INFO PITTING AGAINST PREVIOUS VERSION\n",
            "Arena.playGames (1): 100%|██████████| 10/10 [15:42<00:00, 94.24s/it]\n",
            "Arena.playGames (2): 100%|██████████| 10/10 [14:53<00:00, 89.38s/it]\n",
            "2023-12-28 19:54:55 f7c274df3443 Coach[432] INFO NEW/PREV WINS : 11 / 5 ; DRAWS : 4\n",
            "2023-12-28 19:54:55 f7c274df3443 Coach[432] INFO ACCEPTING NEW MODEL\n"
          ]
        },
        {
          "name": "stdout",
          "output_type": "stream",
          "text": [
            "Checkpoint Directory exists! \n",
            "Checkpoint Directory exists! \n"
          ]
        },
        {
          "name": "stderr",
          "output_type": "stream",
          "text": [
            "2023-12-28 19:54:57 f7c274df3443 Coach[432] INFO Starting Iter #5 ...\n",
            "Self Play: 100%|██████████| 25/25 [23:55<00:00, 57.41s/it]\n"
          ]
        },
        {
          "name": "stdout",
          "output_type": "stream",
          "text": [
            "Checkpoint Directory exists! \n",
            "Epoch 1/10\n",
            "571/571 [==============================] - 110s 192ms/step - loss: 1.0769 - pi_loss: 0.8333 - v_loss: 0.2436\n",
            "Epoch 2/10\n",
            "571/571 [==============================] - 101s 177ms/step - loss: 0.8816 - pi_loss: 0.6680 - v_loss: 0.2136\n",
            "Epoch 3/10\n",
            "571/571 [==============================] - 105s 184ms/step - loss: 0.8078 - pi_loss: 0.6157 - v_loss: 0.1921\n",
            "Epoch 4/10\n",
            "571/571 [==============================] - 101s 178ms/step - loss: 0.7776 - pi_loss: 0.5972 - v_loss: 0.1804\n",
            "Epoch 5/10\n",
            "571/571 [==============================] - 103s 180ms/step - loss: 0.7506 - pi_loss: 0.5819 - v_loss: 0.1687\n",
            "Epoch 6/10\n",
            "571/571 [==============================] - 104s 182ms/step - loss: 0.7316 - pi_loss: 0.5694 - v_loss: 0.1621\n",
            "Epoch 7/10\n",
            "571/571 [==============================] - 104s 182ms/step - loss: 0.7179 - pi_loss: 0.5647 - v_loss: 0.1532\n",
            "Epoch 8/10\n",
            "571/571 [==============================] - 106s 185ms/step - loss: 0.7126 - pi_loss: 0.5620 - v_loss: 0.1505\n",
            "Epoch 9/10\n",
            "571/571 [==============================] - 104s 181ms/step - loss: 0.6989 - pi_loss: 0.5545 - v_loss: 0.1443\n",
            "Epoch 10/10\n",
            "571/571 [==============================] - 102s 179ms/step - loss: 0.6897 - pi_loss: 0.5507 - v_loss: 0.1390\n"
          ]
        },
        {
          "name": "stderr",
          "output_type": "stream",
          "text": [
            "2023-12-28 20:36:24 f7c274df3443 Coach[432] INFO PITTING AGAINST PREVIOUS VERSION\n",
            "Arena.playGames (1): 100%|██████████| 10/10 [15:47<00:00, 94.71s/it]\n",
            "Arena.playGames (2): 100%|██████████| 10/10 [14:18<00:00, 85.84s/it]\n",
            "2023-12-28 21:06:30 f7c274df3443 Coach[432] INFO NEW/PREV WINS : 9 / 5 ; DRAWS : 6\n",
            "2023-12-28 21:06:30 f7c274df3443 Coach[432] INFO ACCEPTING NEW MODEL\n"
          ]
        },
        {
          "name": "stdout",
          "output_type": "stream",
          "text": [
            "Checkpoint Directory exists! \n",
            "Checkpoint Directory exists! \n"
          ]
        },
        {
          "name": "stderr",
          "output_type": "stream",
          "text": [
            "2023-12-28 21:06:32 f7c274df3443 Coach[432] INFO Starting Iter #6 ...\n",
            "Self Play: 100%|██████████| 25/25 [28:01<00:00, 67.25s/it]\n"
          ]
        },
        {
          "name": "stdout",
          "output_type": "stream",
          "text": [
            "Checkpoint Directory exists! \n",
            "Epoch 1/10\n",
            "683/683 [==============================] - 122s 178ms/step - loss: 1.0287 - pi_loss: 0.7845 - v_loss: 0.2442\n",
            "Epoch 2/10\n",
            "683/683 [==============================] - 121s 177ms/step - loss: 0.8480 - pi_loss: 0.6440 - v_loss: 0.2040\n",
            "Epoch 3/10\n",
            "683/683 [==============================] - 120s 176ms/step - loss: 0.7835 - pi_loss: 0.5996 - v_loss: 0.1839\n",
            "Epoch 4/10\n",
            "683/683 [==============================] - 119s 174ms/step - loss: 0.7471 - pi_loss: 0.5801 - v_loss: 0.1670\n",
            "Epoch 5/10\n",
            "683/683 [==============================] - 118s 173ms/step - loss: 0.7349 - pi_loss: 0.5713 - v_loss: 0.1635\n",
            "Epoch 6/10\n",
            "683/683 [==============================] - 120s 176ms/step - loss: 0.7177 - pi_loss: 0.5635 - v_loss: 0.1542\n",
            "Epoch 7/10\n",
            "683/683 [==============================] - 121s 177ms/step - loss: 0.7087 - pi_loss: 0.5600 - v_loss: 0.1488\n",
            "Epoch 8/10\n",
            "683/683 [==============================] - 123s 180ms/step - loss: 0.6988 - pi_loss: 0.5562 - v_loss: 0.1426\n",
            "Epoch 9/10\n",
            "683/683 [==============================] - 120s 175ms/step - loss: 0.6917 - pi_loss: 0.5514 - v_loss: 0.1403\n",
            "Epoch 10/10\n",
            "683/683 [==============================] - 121s 177ms/step - loss: 0.6828 - pi_loss: 0.5474 - v_loss: 0.1354\n"
          ]
        },
        {
          "name": "stderr",
          "output_type": "stream",
          "text": [
            "2023-12-28 21:54:46 f7c274df3443 Coach[432] INFO PITTING AGAINST PREVIOUS VERSION\n",
            "Arena.playGames (1): 100%|██████████| 10/10 [15:28<00:00, 92.89s/it]\n",
            "Arena.playGames (2): 100%|██████████| 10/10 [15:41<00:00, 94.12s/it] \n",
            "2023-12-28 22:25:56 f7c274df3443 Coach[432] INFO NEW/PREV WINS : 8 / 10 ; DRAWS : 2\n",
            "2023-12-28 22:25:56 f7c274df3443 Coach[432] INFO REJECTING NEW MODEL\n",
            "2023-12-28 22:25:58 f7c274df3443 Coach[432] INFO Starting Iter #7 ...\n",
            "Self Play: 100%|██████████| 25/25 [32:21<00:00, 77.65s/it]\n"
          ]
        },
        {
          "name": "stdout",
          "output_type": "stream",
          "text": [
            "Checkpoint Directory exists! \n",
            "Epoch 1/10\n",
            "805/805 [==============================] - 154s 187ms/step - loss: 1.2755 - pi_loss: 0.9479 - v_loss: 0.3276\n",
            "Epoch 2/10\n",
            "805/805 [==============================] - 143s 177ms/step - loss: 1.0102 - pi_loss: 0.7421 - v_loss: 0.2681\n",
            "Epoch 3/10\n",
            "805/805 [==============================] - 147s 182ms/step - loss: 0.8967 - pi_loss: 0.6622 - v_loss: 0.2345\n",
            "Epoch 4/10\n",
            "805/805 [==============================] - 150s 186ms/step - loss: 0.8345 - pi_loss: 0.6231 - v_loss: 0.2114\n",
            "Epoch 5/10\n",
            "805/805 [==============================] - 147s 183ms/step - loss: 0.7990 - pi_loss: 0.6036 - v_loss: 0.1954\n",
            "Epoch 6/10\n",
            "805/805 [==============================] - 147s 183ms/step - loss: 0.7764 - pi_loss: 0.5900 - v_loss: 0.1864\n",
            "Epoch 7/10\n",
            "805/805 [==============================] - 151s 187ms/step - loss: 0.7575 - pi_loss: 0.5816 - v_loss: 0.1759\n",
            "Epoch 8/10\n",
            "805/805 [==============================] - 144s 179ms/step - loss: 0.7434 - pi_loss: 0.5752 - v_loss: 0.1682\n",
            "Epoch 9/10\n",
            "805/805 [==============================] - 145s 180ms/step - loss: 0.7324 - pi_loss: 0.5690 - v_loss: 0.1635\n",
            "Epoch 10/10\n",
            "805/805 [==============================] - 145s 181ms/step - loss: 0.7250 - pi_loss: 0.5667 - v_loss: 0.1583\n"
          ]
        },
        {
          "name": "stderr",
          "output_type": "stream",
          "text": [
            "2023-12-28 23:23:55 f7c274df3443 Coach[432] INFO PITTING AGAINST PREVIOUS VERSION\n",
            "Arena.playGames (1): 100%|██████████| 10/10 [15:18<00:00, 91.81s/it]\n",
            "Arena.playGames (2): 100%|██████████| 10/10 [15:19<00:00, 91.94s/it]\n",
            "2023-12-28 23:54:33 f7c274df3443 Coach[432] INFO NEW/PREV WINS : 4 / 10 ; DRAWS : 6\n",
            "2023-12-28 23:54:33 f7c274df3443 Coach[432] INFO REJECTING NEW MODEL\n",
            "2023-12-28 23:54:34 f7c274df3443 Coach[432] INFO Starting Iter #8 ...\n",
            "Self Play: 100%|██████████| 25/25 [27:12<00:00, 65.32s/it]\n"
          ]
        },
        {
          "name": "stdout",
          "output_type": "stream",
          "text": [
            "Checkpoint Directory exists! \n",
            "Epoch 1/10\n",
            "918/918 [==============================] - 156s 169ms/step - loss: 1.3930 - pi_loss: 1.0298 - v_loss: 0.3632\n",
            "Epoch 2/10\n",
            "918/918 [==============================] - 157s 171ms/step - loss: 1.1055 - pi_loss: 0.8023 - v_loss: 0.3031\n",
            "Epoch 3/10\n",
            "918/918 [==============================] - 153s 167ms/step - loss: 0.9681 - pi_loss: 0.7024 - v_loss: 0.2657\n",
            "Epoch 4/10\n",
            "918/918 [==============================] - 156s 170ms/step - loss: 0.9000 - pi_loss: 0.6612 - v_loss: 0.2388\n",
            "Epoch 5/10\n",
            "918/918 [==============================] - 155s 168ms/step - loss: 0.8455 - pi_loss: 0.6251 - v_loss: 0.2204\n",
            "Epoch 6/10\n",
            "918/918 [==============================] - 154s 168ms/step - loss: 0.8170 - pi_loss: 0.6093 - v_loss: 0.2077\n",
            "Epoch 7/10\n",
            "918/918 [==============================] - 155s 169ms/step - loss: 0.7913 - pi_loss: 0.5949 - v_loss: 0.1964\n",
            "Epoch 8/10\n",
            "918/918 [==============================] - 157s 171ms/step - loss: 0.7773 - pi_loss: 0.5914 - v_loss: 0.1859\n",
            "Epoch 9/10\n",
            "918/918 [==============================] - 153s 166ms/step - loss: 0.7584 - pi_loss: 0.5811 - v_loss: 0.1773\n",
            "Epoch 10/10\n",
            "918/918 [==============================] - 154s 168ms/step - loss: 0.7468 - pi_loss: 0.5757 - v_loss: 0.1711\n"
          ]
        },
        {
          "name": "stderr",
          "output_type": "stream",
          "text": [
            "2023-12-29 00:48:24 f7c274df3443 Coach[432] INFO PITTING AGAINST PREVIOUS VERSION\n",
            "Arena.playGames (1): 100%|██████████| 10/10 [16:19<00:00, 97.90s/it]\n",
            "Arena.playGames (2): 100%|██████████| 10/10 [14:30<00:00, 87.02s/it]\n",
            "2023-12-29 01:19:13 f7c274df3443 Coach[432] INFO NEW/PREV WINS : 9 / 6 ; DRAWS : 5\n",
            "2023-12-29 01:19:13 f7c274df3443 Coach[432] INFO ACCEPTING NEW MODEL\n"
          ]
        },
        {
          "name": "stdout",
          "output_type": "stream",
          "text": [
            "Checkpoint Directory exists! \n",
            "Checkpoint Directory exists! \n"
          ]
        },
        {
          "name": "stderr",
          "output_type": "stream",
          "text": [
            "2023-12-29 01:19:16 f7c274df3443 Coach[432] INFO Starting Iter #9 ...\n",
            "Self Play: 100%|██████████| 25/25 [25:36<00:00, 61.46s/it]\n"
          ]
        },
        {
          "name": "stdout",
          "output_type": "stream",
          "text": [
            "Checkpoint Directory exists! \n",
            "Epoch 1/10\n",
            "1024/1024 [==============================] - 169s 165ms/step - loss: 0.9648 - pi_loss: 0.7167 - v_loss: 0.2480\n",
            "Epoch 2/10\n",
            "1024/1024 [==============================] - 168s 164ms/step - loss: 0.8406 - pi_loss: 0.6225 - v_loss: 0.2182\n",
            "Epoch 3/10\n",
            "1024/1024 [==============================] - 172s 168ms/step - loss: 0.7903 - pi_loss: 0.5931 - v_loss: 0.1973\n",
            "Epoch 4/10\n",
            "1024/1024 [==============================] - 168s 164ms/step - loss: 0.7693 - pi_loss: 0.5798 - v_loss: 0.1894\n",
            "Epoch 5/10\n",
            "1024/1024 [==============================] - 170s 166ms/step - loss: 0.7526 - pi_loss: 0.5727 - v_loss: 0.1799\n",
            "Epoch 6/10\n",
            "1024/1024 [==============================] - 172s 168ms/step - loss: 0.7390 - pi_loss: 0.5651 - v_loss: 0.1739\n",
            "Epoch 7/10\n",
            "1024/1024 [==============================] - 168s 164ms/step - loss: 0.7323 - pi_loss: 0.5627 - v_loss: 0.1695\n",
            "Epoch 8/10\n",
            "1024/1024 [==============================] - 177s 173ms/step - loss: 0.7196 - pi_loss: 0.5580 - v_loss: 0.1616\n",
            "Epoch 9/10\n",
            "1024/1024 [==============================] - 181s 177ms/step - loss: 0.7171 - pi_loss: 0.5562 - v_loss: 0.1609\n",
            "Epoch 10/10\n",
            "1024/1024 [==============================] - 176s 172ms/step - loss: 0.7082 - pi_loss: 0.5520 - v_loss: 0.1563\n"
          ]
        },
        {
          "name": "stderr",
          "output_type": "stream",
          "text": [
            "2023-12-29 02:14:29 f7c274df3443 Coach[432] INFO PITTING AGAINST PREVIOUS VERSION\n",
            "Arena.playGames (1): 100%|██████████| 10/10 [16:53<00:00, 101.39s/it]\n",
            "Arena.playGames (2): 100%|██████████| 10/10 [16:36<00:00, 99.64s/it]\n",
            "2023-12-29 02:47:59 f7c274df3443 Coach[432] INFO NEW/PREV WINS : 4 / 11 ; DRAWS : 5\n",
            "2023-12-29 02:47:59 f7c274df3443 Coach[432] INFO REJECTING NEW MODEL\n",
            "2023-12-29 02:48:01 f7c274df3443 Coach[432] INFO Starting Iter #10 ...\n",
            "Self Play:   8%|▊         | 2/25 [02:17<28:55, 75.46s/it]"
          ]
        }
      ],
      "source": [
        "args = dotdict({\n",
        "    'numIters':10,\n",
        "    'numEps': 25,              # Number of complete self-play games to simulate during a new iteration.\n",
        "    'tempThreshold': 15,        #\n",
        "    'updateThreshold': 0.6,     # During arena playoff, new neural net will be accepted if threshold or more of games are won.\n",
        "    'maxlenOfQueue': 50000,    # Number of game examples to train the neural networks.\n",
        "    'numMCTSSims': 25,          # Number of games moves for MCTS to simulate.\n",
        "    'arenaCompare': 20,         # Number of games to play during arena play to determine if new net will be accepted.\n",
        "    'cpuct': 1,\n",
        "\n",
        "    'checkpoint': '/content/drive/MyDrive/trabalho2_liacd/models/ataxx/6x6',\n",
        "    'load_model': True,\n",
        "    'load_folder_file': ('/content/drive/MyDrive/trabalho2_liacd/models/ataxx/6x6', 'best.h5'),\n",
        "    'numItersForTrainExamplesHistory': 20,\n",
        "\n",
        "})\n",
        "\n",
        "log.info('Loading %s...', Game.__name__)\n",
        "g = Game(6)\n",
        "\n",
        "log.info('Loading %s...', nn.__name__)\n",
        "nnet = nn(g)\n",
        "\n",
        "if args.load_model:\n",
        "    log.info('Loading checkpoint \"%s/%s\"...', args.load_folder_file[0], args.load_folder_file[1])\n",
        "    nnet.load_model(args.load_folder_file[0], args.load_folder_file[1])\n",
        "else:\n",
        "    log.warning('Not loading a checkpoint!')\n",
        "\n",
        "log.info('Loading the Coach...')\n",
        "c = Coach(g, nnet, args)\n",
        "\n",
        "if args.load_model:\n",
        "    log.info(\"Loading 'trainExamples' from file...\")\n",
        "    c.loadTrainExamples()\n",
        "\n",
        "log.info('Starting the learning process 🎉')\n",
        "c.learn()\n"
      ]
    },
    {
      "cell_type": "markdown",
      "metadata": {
        "id": "Y6d-9TPCIIvb"
      },
      "source": [
        "#Sétimo Treino"
      ]
    },
    {
      "cell_type": "code",
      "execution_count": null,
      "metadata": {
        "colab": {
          "background_save": true,
          "base_uri": "https://localhost:8080/"
        },
        "id": "uxLLnVJ7IKwn",
        "outputId": "fd56fde2-f344-4e29-a63a-32493865c3e3"
      },
      "outputs": [
        {
          "name": "stderr",
          "output_type": "stream",
          "text": [
            "2023-12-29 15:10:59 3eb0458af0a2 __main__[1387] INFO Loading AtaxxGame...\n",
            "2023-12-29 15:10:59 3eb0458af0a2 __main__[1387] INFO Loading NNetWrapper...\n",
            "2023-12-29 15:11:00 3eb0458af0a2 __main__[1387] INFO Loading checkpoint \"/content/drive/MyDrive/trabalho2_liacd/models/ataxx/6x6/best.h5\"...\n",
            "2023-12-29 15:11:02 3eb0458af0a2 __main__[1387] INFO Loading the Coach...\n",
            "2023-12-29 15:11:02 3eb0458af0a2 __main__[1387] INFO Loading 'trainExamples' from file...\n",
            "2023-12-29 15:11:02 3eb0458af0a2 Coach[1387] WARNING File \"/content/drive/MyDrive/trabalho2_liacd/models/ataxx/6x6/best.h5.examples\" with trainExamples not found!\n",
            "2023-12-29 15:11:04 3eb0458af0a2 __main__[1387] INFO Starting the learning process 🎉\n",
            "2023-12-29 15:11:04 3eb0458af0a2 Coach[1387] INFO Starting Iter #1 ...\n",
            "Self Play: 100%|██████████| 25/25 [29:39<00:00, 71.18s/it]\n"
          ]
        },
        {
          "name": "stdout",
          "output_type": "stream",
          "text": [
            "Checkpoint Directory exists! \n"
          ]
        },
        {
          "name": "stderr",
          "output_type": "stream",
          "text": [
            "/usr/local/lib/python3.10/dist-packages/keras/src/engine/training.py:3103: UserWarning: You are saving your model as an HDF5 file via `model.save()`. This file format is considered legacy. We recommend using instead the native Keras format, e.g. `model.save('my_model.keras')`.\n",
            "  saving_api.save_model(\n"
          ]
        },
        {
          "name": "stdout",
          "output_type": "stream",
          "text": [
            "Epoch 1/10\n",
            "120/120 [==============================] - 25s 195ms/step - loss: 2.2635 - pi_loss: 1.7577 - v_loss: 0.5057\n",
            "Epoch 2/10\n",
            "120/120 [==============================] - 24s 198ms/step - loss: 1.5635 - pi_loss: 1.1613 - v_loss: 0.4022\n",
            "Epoch 3/10\n",
            "120/120 [==============================] - 22s 184ms/step - loss: 1.2578 - pi_loss: 0.9099 - v_loss: 0.3479\n",
            "Epoch 4/10\n",
            "120/120 [==============================] - 25s 209ms/step - loss: 1.0453 - pi_loss: 0.7485 - v_loss: 0.2968\n",
            "Epoch 5/10\n",
            "120/120 [==============================] - 22s 183ms/step - loss: 0.9360 - pi_loss: 0.6756 - v_loss: 0.2604\n",
            "Epoch 6/10\n",
            "120/120 [==============================] - 21s 178ms/step - loss: 0.8418 - pi_loss: 0.6247 - v_loss: 0.2172\n",
            "Epoch 7/10\n",
            "120/120 [==============================] - 24s 196ms/step - loss: 0.7854 - pi_loss: 0.5907 - v_loss: 0.1947\n",
            "Epoch 8/10\n",
            "120/120 [==============================] - 22s 183ms/step - loss: 0.7390 - pi_loss: 0.5666 - v_loss: 0.1724\n",
            "Epoch 9/10\n",
            "120/120 [==============================] - 23s 192ms/step - loss: 0.7090 - pi_loss: 0.5523 - v_loss: 0.1567\n",
            "Epoch 10/10\n",
            "120/120 [==============================] - 23s 189ms/step - loss: 0.6853 - pi_loss: 0.5435 - v_loss: 0.1418\n"
          ]
        },
        {
          "name": "stderr",
          "output_type": "stream",
          "text": [
            "2023-12-29 15:45:10 3eb0458af0a2 Coach[1387] INFO PITTING AGAINST PREVIOUS VERSION\n",
            "Arena.playGames (1): 100%|██████████| 10/10 [17:06<00:00, 102.60s/it]\n",
            "Arena.playGames (2): 100%|██████████| 10/10 [15:20<00:00, 92.01s/it]\n",
            "2023-12-29 16:17:36 3eb0458af0a2 Coach[1387] INFO NEW/PREV WINS : 6 / 7 ; DRAWS : 7\n",
            "2023-12-29 16:17:36 3eb0458af0a2 Coach[1387] INFO REJECTING NEW MODEL\n",
            "2023-12-29 16:17:38 3eb0458af0a2 Coach[1387] INFO Starting Iter #2 ...\n",
            "Self Play: 100%|██████████| 25/25 [33:33<00:00, 80.56s/it]\n"
          ]
        },
        {
          "name": "stdout",
          "output_type": "stream",
          "text": [
            "Checkpoint Directory exists! \n",
            "Epoch 1/10\n",
            "244/244 [==============================] - 49s 192ms/step - loss: 2.1055 - pi_loss: 1.6488 - v_loss: 0.4567\n",
            "Epoch 2/10\n",
            "244/244 [==============================] - 49s 200ms/step - loss: 1.5855 - pi_loss: 1.1863 - v_loss: 0.3991\n",
            "Epoch 3/10\n",
            "244/244 [==============================] - 51s 210ms/step - loss: 1.3221 - pi_loss: 0.9599 - v_loss: 0.3623\n",
            "Epoch 4/10\n",
            "244/244 [==============================] - 49s 199ms/step - loss: 1.1309 - pi_loss: 0.8047 - v_loss: 0.3263\n",
            "Epoch 5/10\n",
            "244/244 [==============================] - 48s 197ms/step - loss: 0.9956 - pi_loss: 0.7047 - v_loss: 0.2909\n",
            "Epoch 6/10\n",
            "244/244 [==============================] - 46s 191ms/step - loss: 0.9049 - pi_loss: 0.6426 - v_loss: 0.2623\n",
            "Epoch 7/10\n",
            "244/244 [==============================] - 44s 182ms/step - loss: 0.8321 - pi_loss: 0.6019 - v_loss: 0.2302\n",
            "Epoch 8/10\n",
            "244/244 [==============================] - 49s 201ms/step - loss: 0.7879 - pi_loss: 0.5842 - v_loss: 0.2037\n",
            "Epoch 9/10\n",
            "244/244 [==============================] - 48s 195ms/step - loss: 0.7506 - pi_loss: 0.5623 - v_loss: 0.1883\n",
            "Epoch 10/10\n",
            "244/244 [==============================] - 52s 211ms/step - loss: 0.7208 - pi_loss: 0.5480 - v_loss: 0.1728\n"
          ]
        },
        {
          "name": "stderr",
          "output_type": "stream",
          "text": [
            "2023-12-29 16:59:40 3eb0458af0a2 Coach[1387] INFO PITTING AGAINST PREVIOUS VERSION\n",
            "Arena.playGames (1): 100%|██████████| 10/10 [19:26<00:00, 116.67s/it]\n",
            "Arena.playGames (2): 100%|██████████| 10/10 [16:59<00:00, 102.00s/it]\n",
            "2023-12-29 17:36:07 3eb0458af0a2 Coach[1387] INFO NEW/PREV WINS : 7 / 10 ; DRAWS : 3\n",
            "2023-12-29 17:36:07 3eb0458af0a2 Coach[1387] INFO REJECTING NEW MODEL\n",
            "2023-12-29 17:36:08 3eb0458af0a2 Coach[1387] INFO Starting Iter #3 ...\n",
            "Self Play: 100%|██████████| 25/25 [31:09<00:00, 74.80s/it]\n"
          ]
        },
        {
          "name": "stdout",
          "output_type": "stream",
          "text": [
            "Checkpoint Directory exists! \n",
            "Epoch 1/10\n",
            "353/353 [==============================] - 69s 192ms/step - loss: 2.1223 - pi_loss: 1.6024 - v_loss: 0.5199\n",
            "Epoch 2/10\n",
            "353/353 [==============================] - 73s 206ms/step - loss: 1.6547 - pi_loss: 1.1981 - v_loss: 0.4566\n",
            "Epoch 3/10\n",
            "353/353 [==============================] - 67s 191ms/step - loss: 1.4101 - pi_loss: 0.9904 - v_loss: 0.4197\n",
            "Epoch 4/10\n",
            "353/353 [==============================] - 69s 195ms/step - loss: 1.2111 - pi_loss: 0.8361 - v_loss: 0.3751\n",
            "Epoch 5/10\n",
            "353/353 [==============================] - 66s 188ms/step - loss: 1.0608 - pi_loss: 0.7319 - v_loss: 0.3289\n",
            "Epoch 6/10\n",
            "353/353 [==============================] - 64s 182ms/step - loss: 0.9545 - pi_loss: 0.6652 - v_loss: 0.2893\n",
            "Epoch 7/10\n",
            "353/353 [==============================] - 65s 184ms/step - loss: 0.8815 - pi_loss: 0.6210 - v_loss: 0.2605\n",
            "Epoch 8/10\n",
            "353/353 [==============================] - 68s 192ms/step - loss: 0.8285 - pi_loss: 0.5958 - v_loss: 0.2327\n",
            "Epoch 9/10\n",
            "353/353 [==============================] - 70s 197ms/step - loss: 0.7926 - pi_loss: 0.5787 - v_loss: 0.2138\n",
            "Epoch 10/10\n",
            "353/353 [==============================] - 66s 186ms/step - loss: 0.7615 - pi_loss: 0.5634 - v_loss: 0.1981\n"
          ]
        },
        {
          "name": "stderr",
          "output_type": "stream",
          "text": [
            "2023-12-29 18:18:42 3eb0458af0a2 Coach[1387] INFO PITTING AGAINST PREVIOUS VERSION\n",
            "Arena.playGames (1): 100%|██████████| 10/10 [19:32<00:00, 117.27s/it]\n",
            "Arena.playGames (2): 100%|██████████| 10/10 [18:14<00:00, 109.47s/it]\n",
            "2023-12-29 18:56:29 3eb0458af0a2 Coach[1387] INFO NEW/PREV WINS : 9 / 5 ; DRAWS : 6\n",
            "2023-12-29 18:56:29 3eb0458af0a2 Coach[1387] INFO ACCEPTING NEW MODEL\n"
          ]
        },
        {
          "name": "stdout",
          "output_type": "stream",
          "text": [
            "Checkpoint Directory exists! \n",
            "Checkpoint Directory exists! \n"
          ]
        },
        {
          "name": "stderr",
          "output_type": "stream",
          "text": [
            "2023-12-29 18:56:31 3eb0458af0a2 Coach[1387] INFO Starting Iter #4 ...\n",
            "Self Play: 100%|██████████| 25/25 [28:43<00:00, 68.94s/it]\n"
          ]
        },
        {
          "name": "stdout",
          "output_type": "stream",
          "text": [
            "Checkpoint Directory exists! \n",
            "Epoch 1/10\n",
            "456/456 [==============================] - 92s 202ms/step - loss: 1.1107 - pi_loss: 0.8242 - v_loss: 0.2864\n",
            "Epoch 2/10\n",
            "456/456 [==============================] - 85s 187ms/step - loss: 0.8986 - pi_loss: 0.6514 - v_loss: 0.2472\n",
            "Epoch 3/10\n",
            "456/456 [==============================] - 86s 188ms/step - loss: 0.8203 - pi_loss: 0.5965 - v_loss: 0.2238\n",
            "Epoch 4/10\n",
            "456/456 [==============================] - 86s 189ms/step - loss: 0.7682 - pi_loss: 0.5644 - v_loss: 0.2037\n",
            "Epoch 5/10\n",
            "456/456 [==============================] - 88s 193ms/step - loss: 0.7359 - pi_loss: 0.5486 - v_loss: 0.1873\n",
            "Epoch 6/10\n",
            "456/456 [==============================] - 86s 189ms/step - loss: 0.7165 - pi_loss: 0.5389 - v_loss: 0.1775\n",
            "Epoch 7/10\n",
            "456/456 [==============================] - 88s 194ms/step - loss: 0.7008 - pi_loss: 0.5346 - v_loss: 0.1662\n",
            "Epoch 8/10\n",
            "456/456 [==============================] - 87s 190ms/step - loss: 0.6879 - pi_loss: 0.5277 - v_loss: 0.1602\n",
            "Epoch 9/10\n",
            "456/456 [==============================] - 84s 184ms/step - loss: 0.6771 - pi_loss: 0.5241 - v_loss: 0.1529\n",
            "Epoch 10/10\n",
            "456/456 [==============================] - 85s 186ms/step - loss: 0.6638 - pi_loss: 0.5154 - v_loss: 0.1485\n"
          ]
        },
        {
          "name": "stderr",
          "output_type": "stream",
          "text": [
            "2023-12-29 19:40:44 3eb0458af0a2 Coach[1387] INFO PITTING AGAINST PREVIOUS VERSION\n",
            "Arena.playGames (1): 100%|██████████| 10/10 [17:36<00:00, 105.65s/it]\n",
            "Arena.playGames (2): 100%|██████████| 10/10 [18:13<00:00, 109.35s/it]\n",
            "2023-12-29 20:16:34 3eb0458af0a2 Coach[1387] INFO NEW/PREV WINS : 6 / 9 ; DRAWS : 5\n",
            "2023-12-29 20:16:34 3eb0458af0a2 Coach[1387] INFO REJECTING NEW MODEL\n",
            "2023-12-29 20:16:35 3eb0458af0a2 Coach[1387] INFO Starting Iter #5 ...\n",
            "Self Play: 100%|██████████| 25/25 [28:00<00:00, 67.21s/it]\n"
          ]
        },
        {
          "name": "stdout",
          "output_type": "stream",
          "text": [
            "Checkpoint Directory exists! \n",
            "Epoch 1/10\n",
            "554/554 [==============================] - 108s 193ms/step - loss: 1.3229 - pi_loss: 0.9725 - v_loss: 0.3504\n",
            "Epoch 2/10\n",
            "554/554 [==============================] - 110s 198ms/step - loss: 1.0514 - pi_loss: 0.7556 - v_loss: 0.2958\n",
            "Epoch 3/10\n",
            "554/554 [==============================] - 104s 188ms/step - loss: 0.9248 - pi_loss: 0.6652 - v_loss: 0.2596\n",
            "Epoch 4/10\n",
            "554/554 [==============================] - 104s 187ms/step - loss: 0.8534 - pi_loss: 0.6174 - v_loss: 0.2360\n",
            "Epoch 5/10\n",
            "554/554 [==============================] - 108s 196ms/step - loss: 0.8101 - pi_loss: 0.5955 - v_loss: 0.2146\n",
            "Epoch 6/10\n",
            "554/554 [==============================] - 108s 195ms/step - loss: 0.7689 - pi_loss: 0.5717 - v_loss: 0.1972\n",
            "Epoch 7/10\n",
            "554/554 [==============================] - 107s 193ms/step - loss: 0.7479 - pi_loss: 0.5620 - v_loss: 0.1859\n",
            "Epoch 8/10\n",
            "554/554 [==============================] - 109s 197ms/step - loss: 0.7306 - pi_loss: 0.5543 - v_loss: 0.1763\n",
            "Epoch 9/10\n",
            "554/554 [==============================] - 108s 196ms/step - loss: 0.7108 - pi_loss: 0.5440 - v_loss: 0.1668\n",
            "Epoch 10/10\n",
            "554/554 [==============================] - 108s 196ms/step - loss: 0.7061 - pi_loss: 0.5430 - v_loss: 0.1632\n"
          ]
        },
        {
          "name": "stderr",
          "output_type": "stream",
          "text": [
            "2023-12-29 21:03:08 3eb0458af0a2 Coach[1387] INFO PITTING AGAINST PREVIOUS VERSION\n",
            "Arena.playGames (1): 100%|██████████| 10/10 [17:45<00:00, 106.57s/it]\n",
            "Arena.playGames (2): 100%|██████████| 10/10 [16:16<00:00, 97.62s/it] \n",
            "2023-12-29 21:37:10 3eb0458af0a2 Coach[1387] INFO NEW/PREV WINS : 5 / 9 ; DRAWS : 6\n",
            "2023-12-29 21:37:10 3eb0458af0a2 Coach[1387] INFO REJECTING NEW MODEL\n",
            "2023-12-29 21:37:12 3eb0458af0a2 Coach[1387] INFO Starting Iter #6 ...\n",
            "Self Play: 100%|██████████| 25/25 [34:32<00:00, 82.91s/it]\n"
          ]
        },
        {
          "name": "stdout",
          "output_type": "stream",
          "text": [
            "Checkpoint Directory exists! \n",
            "Epoch 1/10\n",
            "680/680 [==============================] - 133s 193ms/step - loss: 1.4572 - pi_loss: 1.0616 - v_loss: 0.3956\n",
            "Epoch 2/10\n",
            "680/680 [==============================] - 132s 194ms/step - loss: 1.1608 - pi_loss: 0.8209 - v_loss: 0.3399\n",
            "Epoch 3/10\n",
            "680/680 [==============================] - 131s 193ms/step - loss: 1.0047 - pi_loss: 0.7057 - v_loss: 0.2989\n",
            "Epoch 4/10\n",
            "680/680 [==============================] - 130s 192ms/step - loss: 0.9137 - pi_loss: 0.6458 - v_loss: 0.2680\n",
            "Epoch 5/10\n",
            "680/680 [==============================] - 121s 178ms/step - loss: 0.8496 - pi_loss: 0.6069 - v_loss: 0.2427\n",
            "Epoch 6/10\n",
            "680/680 [==============================] - 120s 177ms/step - loss: 0.8060 - pi_loss: 0.5812 - v_loss: 0.2248\n",
            "Epoch 7/10\n",
            "680/680 [==============================] - 121s 178ms/step - loss: 0.7811 - pi_loss: 0.5716 - v_loss: 0.2095\n",
            "Epoch 8/10\n",
            "680/680 [==============================] - 122s 180ms/step - loss: 0.7552 - pi_loss: 0.5567 - v_loss: 0.1986\n",
            "Epoch 9/10\n",
            "680/680 [==============================] - 121s 177ms/step - loss: 0.7296 - pi_loss: 0.5446 - v_loss: 0.1850\n",
            "Epoch 10/10\n",
            "680/680 [==============================] - 121s 179ms/step - loss: 0.7195 - pi_loss: 0.5411 - v_loss: 0.1784\n"
          ]
        },
        {
          "name": "stderr",
          "output_type": "stream",
          "text": [
            "2023-12-29 22:33:19 3eb0458af0a2 Coach[1387] INFO PITTING AGAINST PREVIOUS VERSION\n",
            "Arena.playGames (1): 100%|██████████| 10/10 [17:19<00:00, 103.96s/it]\n",
            "Arena.playGames (2): 100%|██████████| 10/10 [16:47<00:00, 100.78s/it]\n",
            "2023-12-29 23:07:26 3eb0458af0a2 Coach[1387] INFO NEW/PREV WINS : 6 / 5 ; DRAWS : 9\n",
            "2023-12-29 23:07:26 3eb0458af0a2 Coach[1387] INFO REJECTING NEW MODEL\n",
            "2023-12-29 23:07:28 3eb0458af0a2 Coach[1387] INFO Starting Iter #7 ...\n",
            "Self Play: 100%|██████████| 25/25 [36:51<00:00, 88.45s/it]\n"
          ]
        },
        {
          "name": "stdout",
          "output_type": "stream",
          "text": [
            "Checkpoint Directory exists! \n",
            "Epoch 1/10\n",
            "814/814 [==============================] - 171s 206ms/step - loss: 1.5541 - pi_loss: 1.1255 - v_loss: 0.4286\n",
            "Epoch 2/10\n",
            "814/814 [==============================] - 163s 200ms/step - loss: 1.2648 - pi_loss: 0.8909 - v_loss: 0.3739\n",
            "Epoch 3/10\n",
            "814/814 [==============================] - 158s 194ms/step - loss: 1.1008 - pi_loss: 0.7665 - v_loss: 0.3343\n",
            "Epoch 4/10\n",
            "814/814 [==============================] - 164s 202ms/step - loss: 0.9763 - pi_loss: 0.6805 - v_loss: 0.2958\n",
            "Epoch 5/10\n",
            "814/814 [==============================] - 156s 192ms/step - loss: 0.9079 - pi_loss: 0.6368 - v_loss: 0.2711\n",
            "Epoch 6/10\n",
            "814/814 [==============================] - 165s 203ms/step - loss: 0.8539 - pi_loss: 0.6062 - v_loss: 0.2477\n",
            "Epoch 7/10\n",
            "814/814 [==============================] - 162s 199ms/step - loss: 0.8135 - pi_loss: 0.5830 - v_loss: 0.2305\n",
            "Epoch 8/10\n",
            "814/814 [==============================] - 159s 195ms/step - loss: 0.7883 - pi_loss: 0.5717 - v_loss: 0.2165\n",
            "Epoch 9/10\n",
            "814/814 [==============================] - 158s 194ms/step - loss: 0.7603 - pi_loss: 0.5568 - v_loss: 0.2036\n",
            "Epoch 10/10\n",
            "814/814 [==============================] - 161s 197ms/step - loss: 0.7436 - pi_loss: 0.5481 - v_loss: 0.1955\n"
          ]
        },
        {
          "name": "stderr",
          "output_type": "stream",
          "text": [
            "2023-12-30 00:11:30 3eb0458af0a2 Coach[1387] INFO PITTING AGAINST PREVIOUS VERSION\n",
            "Arena.playGames (1): 100%|██████████| 10/10 [16:58<00:00, 101.90s/it]\n",
            "Arena.playGames (2): 100%|██████████| 10/10 [17:27<00:00, 104.70s/it]\n",
            "2023-12-30 00:45:56 3eb0458af0a2 Coach[1387] INFO NEW/PREV WINS : 7 / 8 ; DRAWS : 5\n",
            "2023-12-30 00:45:56 3eb0458af0a2 Coach[1387] INFO REJECTING NEW MODEL\n",
            "2023-12-30 00:45:57 3eb0458af0a2 Coach[1387] INFO Starting Iter #8 ...\n",
            "Self Play: 100%|██████████| 25/25 [29:24<00:00, 70.60s/it]\n"
          ]
        },
        {
          "name": "stdout",
          "output_type": "stream",
          "text": [
            "Checkpoint Directory exists! \n",
            "Epoch 1/10\n",
            "924/924 [==============================] - 186s 199ms/step - loss: 1.6001 - pi_loss: 1.1639 - v_loss: 0.4362\n",
            "Epoch 2/10\n",
            "924/924 [==============================] - 183s 198ms/step - loss: 1.3104 - pi_loss: 0.9279 - v_loss: 0.3824\n",
            "Epoch 3/10\n",
            "924/924 [==============================] - 180s 195ms/step - loss: 1.1449 - pi_loss: 0.7999 - v_loss: 0.3449\n",
            "Epoch 4/10\n",
            "924/924 [==============================] - 184s 199ms/step - loss: 1.0227 - pi_loss: 0.7136 - v_loss: 0.3091\n",
            "Epoch 5/10\n",
            "924/924 [==============================] - 183s 198ms/step - loss: 0.9357 - pi_loss: 0.6549 - v_loss: 0.2808\n",
            "Epoch 6/10\n",
            "924/924 [==============================] - 181s 195ms/step - loss: 0.8772 - pi_loss: 0.6174 - v_loss: 0.2599\n",
            "Epoch 7/10\n",
            "924/924 [==============================] - 183s 198ms/step - loss: 0.8403 - pi_loss: 0.6003 - v_loss: 0.2400\n",
            "Epoch 8/10\n",
            "924/924 [==============================] - 184s 199ms/step - loss: 0.8048 - pi_loss: 0.5799 - v_loss: 0.2249\n",
            "Epoch 9/10\n",
            "924/924 [==============================] - 179s 194ms/step - loss: 0.7764 - pi_loss: 0.5665 - v_loss: 0.2099\n",
            "Epoch 10/10\n",
            "924/924 [==============================] - 179s 194ms/step - loss: 0.7577 - pi_loss: 0.5566 - v_loss: 0.2011\n"
          ]
        },
        {
          "name": "stderr",
          "output_type": "stream",
          "text": [
            "2023-12-30 01:46:01 3eb0458af0a2 Coach[1387] INFO PITTING AGAINST PREVIOUS VERSION\n",
            "Arena.playGames (1): 100%|██████████| 10/10 [19:10<00:00, 115.08s/it]\n",
            "Arena.playGames (2): 100%|██████████| 10/10 [18:46<00:00, 112.66s/it]\n",
            "2023-12-30 02:23:58 3eb0458af0a2 Coach[1387] INFO NEW/PREV WINS : 9 / 5 ; DRAWS : 6\n",
            "2023-12-30 02:23:58 3eb0458af0a2 Coach[1387] INFO ACCEPTING NEW MODEL\n"
          ]
        },
        {
          "name": "stdout",
          "output_type": "stream",
          "text": [
            "Checkpoint Directory exists! \n",
            "Checkpoint Directory exists! \n"
          ]
        },
        {
          "name": "stderr",
          "output_type": "stream",
          "text": [
            "2023-12-30 02:24:01 3eb0458af0a2 Coach[1387] INFO Starting Iter #9 ...\n",
            "Self Play: 100%|██████████| 25/25 [35:03<00:00, 84.12s/it] \n"
          ]
        },
        {
          "name": "stdout",
          "output_type": "stream",
          "text": [
            "Checkpoint Directory exists! \n",
            "Epoch 1/10\n",
            "1051/1051 [==============================] - 217s 206ms/step - loss: 0.9342 - pi_loss: 0.7073 - v_loss: 0.2269\n",
            "Epoch 2/10\n",
            "1051/1051 [==============================] - 268s 255ms/step - loss: 0.8108 - pi_loss: 0.6051 - v_loss: 0.2057\n",
            "Epoch 3/10\n",
            "1051/1051 [==============================] - 256s 244ms/step - loss: 0.7683 - pi_loss: 0.5729 - v_loss: 0.1954\n",
            "Epoch 4/10\n",
            "1051/1051 [==============================] - 216s 206ms/step - loss: 0.7423 - pi_loss: 0.5549 - v_loss: 0.1874\n",
            "Epoch 5/10\n",
            "1051/1051 [==============================] - 209s 199ms/step - loss: 0.7250 - pi_loss: 0.5462 - v_loss: 0.1788\n",
            "Epoch 6/10\n",
            "1051/1051 [==============================] - 203s 193ms/step - loss: 0.7103 - pi_loss: 0.5368 - v_loss: 0.1734\n",
            "Epoch 7/10\n",
            "1051/1051 [==============================] - 210s 200ms/step - loss: 0.7007 - pi_loss: 0.5343 - v_loss: 0.1664\n",
            "Epoch 8/10\n",
            "1051/1051 [==============================] - 213s 202ms/step - loss: 0.6884 - pi_loss: 0.5269 - v_loss: 0.1615\n",
            "Epoch 9/10\n",
            "1051/1051 [==============================] - 219s 208ms/step - loss: 0.6812 - pi_loss: 0.5225 - v_loss: 0.1587\n",
            "Epoch 10/10\n",
            "1051/1051 [==============================] - 207s 197ms/step - loss: 0.6736 - pi_loss: 0.5185 - v_loss: 0.1551\n"
          ]
        },
        {
          "name": "stderr",
          "output_type": "stream",
          "text": [
            "2023-12-30 03:36:43 3eb0458af0a2 Coach[1387] INFO PITTING AGAINST PREVIOUS VERSION\n",
            "Arena.playGames (1): 100%|██████████| 10/10 [20:15<00:00, 121.57s/it]\n",
            "Arena.playGames (2):  60%|██████    | 6/10 [12:16<08:00, 120.15s/it]"
          ]
        }
      ],
      "source": [
        "args = dotdict({\n",
        "    'numIters':10,\n",
        "    'numEps': 25,              # Number of complete self-play games to simulate during a new iteration.\n",
        "    'tempThreshold': 15,        #\n",
        "    'updateThreshold': 0.6,     # During arena playoff, new neural net will be accepted if threshold or more of games are won.\n",
        "    'maxlenOfQueue': 50000,    # Number of game examples to train the neural networks.\n",
        "    'numMCTSSims': 25,          # Number of games moves for MCTS to simulate.\n",
        "    'arenaCompare': 20,         # Number of games to play during arena play to determine if new net will be accepted.\n",
        "    'cpuct': 1,\n",
        "\n",
        "    'checkpoint': '/content/drive/MyDrive/trabalho2_liacd/models/ataxx/6x6',\n",
        "    'load_model': True,\n",
        "    'load_folder_file': ('/content/drive/MyDrive/trabalho2_liacd/models/ataxx/6x6', 'best.h5'),\n",
        "    'numItersForTrainExamplesHistory': 20,\n",
        "\n",
        "})\n",
        "\n",
        "log.info('Loading %s...', Game.__name__)\n",
        "g = Game(6)\n",
        "\n",
        "log.info('Loading %s...', nn.__name__)\n",
        "nnet = nn(g)\n",
        "\n",
        "if args.load_model:\n",
        "    log.info('Loading checkpoint \"%s/%s\"...', args.load_folder_file[0], args.load_folder_file[1])\n",
        "    nnet.load_model(args.load_folder_file[0], args.load_folder_file[1])\n",
        "else:\n",
        "    log.warning('Not loading a checkpoint!')\n",
        "\n",
        "log.info('Loading the Coach...')\n",
        "c = Coach(g, nnet, args)\n",
        "\n",
        "if args.load_model:\n",
        "    log.info(\"Loading 'trainExamples' from file...\")\n",
        "    c.loadTrainExamples()\n",
        "\n",
        "log.info('Starting the learning process 🎉')\n",
        "c.learn()\n"
      ]
    },
    {
      "cell_type": "markdown",
      "metadata": {
        "id": "FUbBHPvntG9P"
      },
      "source": [
        "#Oitavo Treino"
      ]
    },
    {
      "cell_type": "code",
      "execution_count": null,
      "metadata": {
        "colab": {
          "background_save": true,
          "base_uri": "https://localhost:8080/"
        },
        "id": "KgzIv0nrtJDp",
        "outputId": "df48b62f-30d0-49f4-f016-46302f7ad124"
      },
      "outputs": [
        {
          "name": "stderr",
          "output_type": "stream",
          "text": [
            "2023-12-30 12:31:05 d6c923fb5000 __main__[507] INFO Loading AtaxxGame...\n",
            "2023-12-30 12:31:05 d6c923fb5000 __main__[507] INFO Loading NNetWrapper...\n",
            "2023-12-30 12:31:06 d6c923fb5000 __main__[507] INFO Loading checkpoint \"/content/drive/MyDrive/trabalho2_liacd/models/ataxx/6x6/best.h5\"...\n",
            "2023-12-30 12:31:08 d6c923fb5000 __main__[507] INFO Loading the Coach...\n",
            "2023-12-30 12:31:09 d6c923fb5000 __main__[507] INFO Loading 'trainExamples' from file...\n",
            "2023-12-30 12:31:09 d6c923fb5000 Coach[507] WARNING File \"/content/drive/MyDrive/trabalho2_liacd/models/ataxx/6x6/best.h5.examples\" with trainExamples not found!\n",
            "2023-12-30 12:31:11 d6c923fb5000 __main__[507] INFO Starting the learning process 🎉\n",
            "2023-12-30 12:31:11 d6c923fb5000 Coach[507] INFO Starting Iter #1 ...\n",
            "Self Play: 100%|██████████| 25/25 [30:00<00:00, 72.03s/it]\n"
          ]
        },
        {
          "name": "stdout",
          "output_type": "stream",
          "text": [
            "Checkpoint Directory exists! \n"
          ]
        },
        {
          "name": "stderr",
          "output_type": "stream",
          "text": [
            "/usr/local/lib/python3.10/dist-packages/keras/src/engine/training.py:3103: UserWarning: You are saving your model as an HDF5 file via `model.save()`. This file format is considered legacy. We recommend using instead the native Keras format, e.g. `model.save('my_model.keras')`.\n",
            "  saving_api.save_model(\n"
          ]
        },
        {
          "name": "stdout",
          "output_type": "stream",
          "text": [
            "Epoch 1/10\n",
            "133/133 [==============================] - 26s 189ms/step - loss: 2.0465 - pi_loss: 1.4490 - v_loss: 0.5975\n",
            "Epoch 2/10\n",
            "133/133 [==============================] - 24s 179ms/step - loss: 1.4970 - pi_loss: 0.9729 - v_loss: 0.5240\n",
            "Epoch 3/10\n",
            "133/133 [==============================] - 25s 185ms/step - loss: 1.2109 - pi_loss: 0.7463 - v_loss: 0.4645\n",
            "Epoch 4/10\n",
            "133/133 [==============================] - 23s 171ms/step - loss: 1.0202 - pi_loss: 0.6205 - v_loss: 0.3997\n",
            "Epoch 5/10\n",
            "133/133 [==============================] - 22s 167ms/step - loss: 0.8929 - pi_loss: 0.5561 - v_loss: 0.3369\n",
            "Epoch 6/10\n",
            "133/133 [==============================] - 24s 182ms/step - loss: 0.7998 - pi_loss: 0.5193 - v_loss: 0.2805\n",
            "Epoch 7/10\n",
            "133/133 [==============================] - 22s 167ms/step - loss: 0.7278 - pi_loss: 0.4858 - v_loss: 0.2419\n",
            "Epoch 8/10\n",
            "133/133 [==============================] - 25s 185ms/step - loss: 0.6808 - pi_loss: 0.4687 - v_loss: 0.2121\n",
            "Epoch 9/10\n",
            "133/133 [==============================] - 22s 168ms/step - loss: 0.6454 - pi_loss: 0.4521 - v_loss: 0.1932\n",
            "Epoch 10/10\n",
            "133/133 [==============================] - 23s 170ms/step - loss: 0.6093 - pi_loss: 0.4421 - v_loss: 0.1672\n"
          ]
        },
        {
          "name": "stderr",
          "output_type": "stream",
          "text": [
            "2023-12-30 13:05:12 d6c923fb5000 Coach[507] INFO PITTING AGAINST PREVIOUS VERSION\n",
            "Arena.playGames (1): 100%|██████████| 10/10 [13:42<00:00, 82.28s/it]\n",
            "Arena.playGames (2): 100%|██████████| 10/10 [16:15<00:00, 97.56s/it]\n",
            "2023-12-30 13:35:10 d6c923fb5000 Coach[507] INFO NEW/PREV WINS : 5 / 7 ; DRAWS : 8\n",
            "2023-12-30 13:35:10 d6c923fb5000 Coach[507] INFO REJECTING NEW MODEL\n",
            "2023-12-30 13:35:11 d6c923fb5000 Coach[507] INFO Starting Iter #2 ...\n",
            "Self Play: 100%|██████████| 25/25 [26:39<00:00, 63.97s/it]\n"
          ]
        },
        {
          "name": "stdout",
          "output_type": "stream",
          "text": [
            "Checkpoint Directory exists! \n",
            "Epoch 1/10\n",
            "248/248 [==============================] - 46s 179ms/step - loss: 1.9389 - pi_loss: 1.4047 - v_loss: 0.5341\n",
            "Epoch 2/10\n",
            "248/248 [==============================] - 45s 182ms/step - loss: 1.4929 - pi_loss: 1.0196 - v_loss: 0.4733\n",
            "Epoch 3/10\n",
            "248/248 [==============================] - 44s 179ms/step - loss: 1.2553 - pi_loss: 0.8240 - v_loss: 0.4313\n",
            "Epoch 4/10\n",
            "248/248 [==============================] - 44s 177ms/step - loss: 1.0766 - pi_loss: 0.6932 - v_loss: 0.3834\n",
            "Epoch 5/10\n",
            "248/248 [==============================] - 42s 170ms/step - loss: 0.9454 - pi_loss: 0.6109 - v_loss: 0.3345\n",
            "Epoch 6/10\n",
            "248/248 [==============================] - 43s 175ms/step - loss: 0.8559 - pi_loss: 0.5662 - v_loss: 0.2897\n",
            "Epoch 7/10\n",
            "248/248 [==============================] - 43s 172ms/step - loss: 0.7826 - pi_loss: 0.5301 - v_loss: 0.2525\n",
            "Epoch 8/10\n",
            "248/248 [==============================] - 45s 180ms/step - loss: 0.7418 - pi_loss: 0.5136 - v_loss: 0.2282\n",
            "Epoch 9/10\n",
            "248/248 [==============================] - 45s 180ms/step - loss: 0.6997 - pi_loss: 0.4929 - v_loss: 0.2068\n",
            "Epoch 10/10\n",
            "248/248 [==============================] - 44s 176ms/step - loss: 0.6687 - pi_loss: 0.4813 - v_loss: 0.1874\n"
          ]
        },
        {
          "name": "stderr",
          "output_type": "stream",
          "text": [
            "2023-12-30 14:09:14 d6c923fb5000 Coach[507] INFO PITTING AGAINST PREVIOUS VERSION\n",
            "Arena.playGames (1): 100%|██████████| 10/10 [14:22<00:00, 86.25s/it]\n",
            "Arena.playGames (2): 100%|██████████| 10/10 [15:34<00:00, 93.46s/it]\n",
            "2023-12-30 14:39:11 d6c923fb5000 Coach[507] INFO NEW/PREV WINS : 6 / 7 ; DRAWS : 7\n",
            "2023-12-30 14:39:11 d6c923fb5000 Coach[507] INFO REJECTING NEW MODEL\n",
            "2023-12-30 14:39:13 d6c923fb5000 Coach[507] INFO Starting Iter #3 ...\n",
            "Self Play: 100%|██████████| 25/25 [28:06<00:00, 67.47s/it]\n"
          ]
        },
        {
          "name": "stdout",
          "output_type": "stream",
          "text": [
            "Checkpoint Directory exists! \n",
            "Epoch 1/10\n",
            "366/366 [==============================] - 66s 177ms/step - loss: 1.8885 - pi_loss: 1.3870 - v_loss: 0.5015\n",
            "Epoch 2/10\n",
            "366/366 [==============================] - 69s 189ms/step - loss: 1.5148 - pi_loss: 1.0605 - v_loss: 0.4542\n",
            "Epoch 3/10\n",
            "366/366 [==============================] - 64s 176ms/step - loss: 1.2912 - pi_loss: 0.8715 - v_loss: 0.4196\n",
            "Epoch 4/10\n",
            "366/366 [==============================] - 67s 182ms/step - loss: 1.1250 - pi_loss: 0.7494 - v_loss: 0.3756\n",
            "Epoch 5/10\n",
            "366/366 [==============================] - 64s 175ms/step - loss: 0.9914 - pi_loss: 0.6576 - v_loss: 0.3338\n",
            "Epoch 6/10\n",
            "366/366 [==============================] - 63s 173ms/step - loss: 0.8894 - pi_loss: 0.5961 - v_loss: 0.2932\n",
            "Epoch 7/10\n",
            "366/366 [==============================] - 62s 170ms/step - loss: 0.8183 - pi_loss: 0.5573 - v_loss: 0.2609\n",
            "Epoch 8/10\n",
            "366/366 [==============================] - 63s 172ms/step - loss: 0.7724 - pi_loss: 0.5365 - v_loss: 0.2359\n",
            "Epoch 9/10\n",
            "366/366 [==============================] - 65s 178ms/step - loss: 0.7258 - pi_loss: 0.5156 - v_loss: 0.2102\n",
            "Epoch 10/10\n",
            "366/366 [==============================] - 67s 182ms/step - loss: 0.7010 - pi_loss: 0.5054 - v_loss: 0.1956\n"
          ]
        },
        {
          "name": "stderr",
          "output_type": "stream",
          "text": [
            "2023-12-30 15:18:49 d6c923fb5000 Coach[507] INFO PITTING AGAINST PREVIOUS VERSION\n",
            "Arena.playGames (1): 100%|██████████| 10/10 [14:59<00:00, 89.98s/it]\n",
            "Arena.playGames (2): 100%|██████████| 10/10 [14:52<00:00, 89.23s/it]\n",
            "2023-12-30 15:48:41 d6c923fb5000 Coach[507] INFO NEW/PREV WINS : 6 / 9 ; DRAWS : 5\n",
            "2023-12-30 15:48:41 d6c923fb5000 Coach[507] INFO REJECTING NEW MODEL\n",
            "2023-12-30 15:48:43 d6c923fb5000 Coach[507] INFO Starting Iter #4 ...\n",
            "Self Play: 100%|██████████| 25/25 [32:22<00:00, 77.71s/it]\n"
          ]
        },
        {
          "name": "stdout",
          "output_type": "stream",
          "text": [
            "Checkpoint Directory exists! \n",
            "Epoch 1/10\n",
            "495/495 [==============================] - 88s 173ms/step - loss: 1.9092 - pi_loss: 1.3701 - v_loss: 0.5391\n",
            "Epoch 2/10\n",
            "495/495 [==============================] - 85s 172ms/step - loss: 1.5609 - pi_loss: 1.0649 - v_loss: 0.4960\n",
            "Epoch 3/10\n",
            "495/495 [==============================] - 85s 172ms/step - loss: 1.3666 - pi_loss: 0.9021 - v_loss: 0.4644\n",
            "Epoch 4/10\n",
            "495/495 [==============================] - 86s 174ms/step - loss: 1.1897 - pi_loss: 0.7660 - v_loss: 0.4238\n",
            "Epoch 5/10\n",
            "495/495 [==============================] - 91s 184ms/step - loss: 1.0457 - pi_loss: 0.6676 - v_loss: 0.3781\n",
            "Epoch 6/10\n",
            "495/495 [==============================] - 87s 176ms/step - loss: 0.9445 - pi_loss: 0.6103 - v_loss: 0.3342\n",
            "Epoch 7/10\n",
            "495/495 [==============================] - 87s 175ms/step - loss: 0.8616 - pi_loss: 0.5673 - v_loss: 0.2943\n",
            "Epoch 8/10\n",
            "495/495 [==============================] - 88s 179ms/step - loss: 0.8067 - pi_loss: 0.5403 - v_loss: 0.2664\n",
            "Epoch 9/10\n",
            "495/495 [==============================] - 86s 174ms/step - loss: 0.7591 - pi_loss: 0.5219 - v_loss: 0.2371\n",
            "Epoch 10/10\n",
            "495/495 [==============================] - 85s 173ms/step - loss: 0.7227 - pi_loss: 0.5069 - v_loss: 0.2158\n"
          ]
        },
        {
          "name": "stderr",
          "output_type": "stream",
          "text": [
            "2023-12-30 16:36:37 d6c923fb5000 Coach[507] INFO PITTING AGAINST PREVIOUS VERSION\n",
            "Arena.playGames (1): 100%|██████████| 10/10 [15:22<00:00, 92.28s/it]\n",
            "Arena.playGames (2): 100%|██████████| 10/10 [16:34<00:00, 99.49s/it]\n",
            "2023-12-30 17:08:35 d6c923fb5000 Coach[507] INFO NEW/PREV WINS : 11 / 5 ; DRAWS : 4\n",
            "2023-12-30 17:08:35 d6c923fb5000 Coach[507] INFO ACCEPTING NEW MODEL\n"
          ]
        },
        {
          "name": "stdout",
          "output_type": "stream",
          "text": [
            "Checkpoint Directory exists! \n",
            "Checkpoint Directory exists! \n"
          ]
        },
        {
          "name": "stderr",
          "output_type": "stream",
          "text": [
            "2023-12-30 17:08:36 d6c923fb5000 Coach[507] INFO Starting Iter #5 ...\n",
            "Self Play: 100%|██████████| 25/25 [25:49<00:00, 61.98s/it]\n"
          ]
        },
        {
          "name": "stdout",
          "output_type": "stream",
          "text": [
            "Checkpoint Directory exists! \n",
            "Epoch 1/10\n",
            "599/599 [==============================] - 115s 189ms/step - loss: 1.0046 - pi_loss: 0.7148 - v_loss: 0.2898\n",
            "Epoch 2/10\n",
            "599/599 [==============================] - 112s 187ms/step - loss: 0.8416 - pi_loss: 0.5891 - v_loss: 0.2525\n",
            "Epoch 3/10\n",
            "599/599 [==============================] - 109s 182ms/step - loss: 0.7648 - pi_loss: 0.5405 - v_loss: 0.2244\n",
            "Epoch 4/10\n",
            "599/599 [==============================] - 109s 182ms/step - loss: 0.7205 - pi_loss: 0.5133 - v_loss: 0.2072\n",
            "Epoch 5/10\n",
            "599/599 [==============================] - 109s 183ms/step - loss: 0.6975 - pi_loss: 0.5017 - v_loss: 0.1958\n",
            "Epoch 6/10\n",
            "599/599 [==============================] - 112s 187ms/step - loss: 0.6805 - pi_loss: 0.4929 - v_loss: 0.1876\n",
            "Epoch 7/10\n",
            "599/599 [==============================] - 110s 184ms/step - loss: 0.6624 - pi_loss: 0.4854 - v_loss: 0.1770\n",
            "Epoch 8/10\n",
            "599/599 [==============================] - 110s 184ms/step - loss: 0.6464 - pi_loss: 0.4770 - v_loss: 0.1694\n",
            "Epoch 9/10\n",
            "599/599 [==============================] - 108s 180ms/step - loss: 0.6382 - pi_loss: 0.4745 - v_loss: 0.1637\n",
            "Epoch 10/10\n",
            "599/599 [==============================] - 109s 183ms/step - loss: 0.6319 - pi_loss: 0.4719 - v_loss: 0.1600\n"
          ]
        },
        {
          "name": "stderr",
          "output_type": "stream",
          "text": [
            "2023-12-30 17:53:58 d6c923fb5000 Coach[507] INFO PITTING AGAINST PREVIOUS VERSION\n",
            "Arena.playGames (1): 100%|██████████| 10/10 [14:34<00:00, 87.43s/it]\n",
            "Arena.playGames (2): 100%|██████████| 10/10 [14:58<00:00, 89.85s/it]\n",
            "2023-12-30 18:23:30 d6c923fb5000 Coach[507] INFO NEW/PREV WINS : 5 / 11 ; DRAWS : 4\n",
            "2023-12-30 18:23:30 d6c923fb5000 Coach[507] INFO REJECTING NEW MODEL\n",
            "2023-12-30 18:23:32 d6c923fb5000 Coach[507] INFO Starting Iter #6 ...\n",
            "Self Play: 100%|██████████| 25/25 [28:21<00:00, 68.04s/it]\n"
          ]
        },
        {
          "name": "stdout",
          "output_type": "stream",
          "text": [
            "Checkpoint Directory exists! \n",
            "Epoch 1/10\n",
            "716/716 [==============================] - 123s 170ms/step - loss: 1.1812 - pi_loss: 0.8505 - v_loss: 0.3307\n",
            "Epoch 2/10\n",
            "716/716 [==============================] - 126s 175ms/step - loss: 0.9620 - pi_loss: 0.6765 - v_loss: 0.2855\n",
            "Epoch 3/10\n",
            "716/716 [==============================] - 120s 168ms/step - loss: 0.8566 - pi_loss: 0.6011 - v_loss: 0.2555\n",
            "Epoch 4/10\n",
            "716/716 [==============================] - 122s 171ms/step - loss: 0.7924 - pi_loss: 0.5610 - v_loss: 0.2314\n",
            "Epoch 5/10\n",
            "716/716 [==============================] - 122s 170ms/step - loss: 0.7543 - pi_loss: 0.5388 - v_loss: 0.2155\n",
            "Epoch 6/10\n",
            "716/716 [==============================] - 120s 167ms/step - loss: 0.7228 - pi_loss: 0.5224 - v_loss: 0.2004\n",
            "Epoch 7/10\n",
            "716/716 [==============================] - 123s 172ms/step - loss: 0.7007 - pi_loss: 0.5108 - v_loss: 0.1899\n",
            "Epoch 8/10\n",
            "716/716 [==============================] - 123s 172ms/step - loss: 0.6854 - pi_loss: 0.5021 - v_loss: 0.1833\n",
            "Epoch 9/10\n",
            "716/716 [==============================] - 121s 169ms/step - loss: 0.6710 - pi_loss: 0.4961 - v_loss: 0.1750\n",
            "Epoch 10/10\n",
            "716/716 [==============================] - 123s 172ms/step - loss: 0.6566 - pi_loss: 0.4886 - v_loss: 0.1681\n"
          ]
        },
        {
          "name": "stderr",
          "output_type": "stream",
          "text": [
            "2023-12-30 19:12:27 d6c923fb5000 Coach[507] INFO PITTING AGAINST PREVIOUS VERSION\n",
            "Arena.playGames (1): 100%|██████████| 10/10 [14:41<00:00, 88.18s/it]\n",
            "Arena.playGames (2): 100%|██████████| 10/10 [21:02<00:00, 126.29s/it]\n",
            "2023-12-30 19:48:12 d6c923fb5000 Coach[507] INFO NEW/PREV WINS : 7 / 7 ; DRAWS : 6\n",
            "2023-12-30 19:48:12 d6c923fb5000 Coach[507] INFO REJECTING NEW MODEL\n",
            "2023-12-30 19:48:14 d6c923fb5000 Coach[507] INFO Starting Iter #7 ...\n",
            "Self Play: 100%|██████████| 25/25 [37:28<00:00, 89.94s/it]\n"
          ]
        },
        {
          "name": "stdout",
          "output_type": "stream",
          "text": [
            "Checkpoint Directory exists! \n",
            "Epoch 1/10\n",
            "844/844 [==============================] - 156s 183ms/step - loss: 1.3009 - pi_loss: 0.9367 - v_loss: 0.3642\n",
            "Epoch 2/10\n",
            "844/844 [==============================] - 151s 179ms/step - loss: 1.0627 - pi_loss: 0.7468 - v_loss: 0.3158\n",
            "Epoch 3/10\n",
            "844/844 [==============================] - 147s 175ms/step - loss: 0.9384 - pi_loss: 0.6564 - v_loss: 0.2820\n",
            "Epoch 4/10\n",
            "844/844 [==============================] - 146s 173ms/step - loss: 0.8523 - pi_loss: 0.5970 - v_loss: 0.2553\n",
            "Epoch 5/10\n",
            "844/844 [==============================] - 147s 175ms/step - loss: 0.7986 - pi_loss: 0.5624 - v_loss: 0.2363\n",
            "Epoch 6/10\n",
            "844/844 [==============================] - 151s 179ms/step - loss: 0.7570 - pi_loss: 0.5389 - v_loss: 0.2181\n",
            "Epoch 7/10\n",
            "844/844 [==============================] - 147s 175ms/step - loss: 0.7326 - pi_loss: 0.5260 - v_loss: 0.2066\n",
            "Epoch 8/10\n",
            "844/844 [==============================] - 147s 174ms/step - loss: 0.7123 - pi_loss: 0.5142 - v_loss: 0.1981\n",
            "Epoch 9/10\n",
            "844/844 [==============================] - 148s 175ms/step - loss: 0.6941 - pi_loss: 0.5057 - v_loss: 0.1884\n",
            "Epoch 10/10\n",
            "844/844 [==============================] - 151s 179ms/step - loss: 0.6800 - pi_loss: 0.4995 - v_loss: 0.1805\n"
          ]
        },
        {
          "name": "stderr",
          "output_type": "stream",
          "text": [
            "2023-12-30 20:50:48 d6c923fb5000 Coach[507] INFO PITTING AGAINST PREVIOUS VERSION\n",
            "Arena.playGames (1): 100%|██████████| 10/10 [14:29<00:00, 86.99s/it]\n",
            "Arena.playGames (2): 100%|██████████| 10/10 [16:18<00:00, 97.89s/it] \n",
            "2023-12-30 21:21:36 d6c923fb5000 Coach[507] INFO NEW/PREV WINS : 3 / 11 ; DRAWS : 6\n",
            "2023-12-30 21:21:36 d6c923fb5000 Coach[507] INFO REJECTING NEW MODEL\n",
            "2023-12-30 21:21:38 d6c923fb5000 Coach[507] INFO Starting Iter #8 ...\n",
            "Self Play: 100%|██████████| 25/25 [31:13<00:00, 74.96s/it]\n"
          ]
        },
        {
          "name": "stdout",
          "output_type": "stream",
          "text": [
            "Checkpoint Directory exists! \n",
            "Epoch 1/10\n",
            "975/975 [==============================] - 187s 190ms/step - loss: 1.3943 - pi_loss: 1.0011 - v_loss: 0.3931\n",
            "Epoch 2/10\n",
            "975/975 [==============================] - 181s 186ms/step - loss: 1.1468 - pi_loss: 0.8037 - v_loss: 0.3431\n",
            "Epoch 3/10\n",
            "975/975 [==============================] - 183s 188ms/step - loss: 1.0058 - pi_loss: 0.6981 - v_loss: 0.3077\n",
            "Epoch 4/10\n",
            "975/975 [==============================] - 185s 190ms/step - loss: 0.9083 - pi_loss: 0.6317 - v_loss: 0.2766\n",
            "Epoch 5/10\n",
            "975/975 [==============================] - 191s 196ms/step - loss: 0.8436 - pi_loss: 0.5895 - v_loss: 0.2541\n",
            "Epoch 6/10\n",
            "975/975 [==============================] - 185s 189ms/step - loss: 0.7991 - pi_loss: 0.5630 - v_loss: 0.2361\n",
            "Epoch 7/10\n",
            "975/975 [==============================] - 189s 194ms/step - loss: 0.7644 - pi_loss: 0.5431 - v_loss: 0.2214\n",
            "Epoch 8/10\n",
            "975/975 [==============================] - 184s 189ms/step - loss: 0.7383 - pi_loss: 0.5292 - v_loss: 0.2091\n",
            "Epoch 9/10\n",
            "975/975 [==============================] - 184s 189ms/step - loss: 0.7199 - pi_loss: 0.5205 - v_loss: 0.1994\n",
            "Epoch 10/10\n",
            "975/975 [==============================] - 191s 196ms/step - loss: 0.7013 - pi_loss: 0.5098 - v_loss: 0.1914\n"
          ]
        },
        {
          "name": "stderr",
          "output_type": "stream",
          "text": [
            "2023-12-30 22:24:28 d6c923fb5000 Coach[507] INFO PITTING AGAINST PREVIOUS VERSION\n",
            "Arena.playGames (1): 100%|██████████| 10/10 [15:55<00:00, 95.57s/it]\n",
            "Arena.playGames (2): 100%|██████████| 10/10 [18:02<00:00, 108.24s/it]\n",
            "2023-12-30 22:58:26 d6c923fb5000 Coach[507] INFO NEW/PREV WINS : 4 / 11 ; DRAWS : 5\n",
            "2023-12-30 22:58:26 d6c923fb5000 Coach[507] INFO REJECTING NEW MODEL\n",
            "2023-12-30 22:58:27 d6c923fb5000 Coach[507] INFO Starting Iter #9 ...\n",
            "Self Play: 100%|██████████| 25/25 [24:35<00:00, 59.02s/it]\n"
          ]
        },
        {
          "name": "stdout",
          "output_type": "stream",
          "text": [
            "Checkpoint Directory exists! \n",
            "Epoch 1/10\n",
            "1078/1078 [==============================] - 191s 176ms/step - loss: 1.4711 - pi_loss: 1.0468 - v_loss: 0.4244\n",
            "Epoch 2/10\n",
            "1078/1078 [==============================] - 188s 174ms/step - loss: 1.2168 - pi_loss: 0.8412 - v_loss: 0.3756\n",
            "Epoch 3/10\n",
            "1078/1078 [==============================] - 190s 177ms/step - loss: 1.0701 - pi_loss: 0.7340 - v_loss: 0.3360\n",
            "Epoch 4/10\n",
            "1078/1078 [==============================] - 188s 174ms/step - loss: 0.9614 - pi_loss: 0.6612 - v_loss: 0.3002\n",
            "Epoch 5/10\n",
            "1078/1078 [==============================] - 185s 172ms/step - loss: 0.8872 - pi_loss: 0.6136 - v_loss: 0.2736\n",
            "Epoch 6/10\n",
            "1078/1078 [==============================] - 191s 177ms/step - loss: 0.8395 - pi_loss: 0.5836 - v_loss: 0.2560\n",
            "Epoch 7/10\n",
            "1078/1078 [==============================] - 184s 171ms/step - loss: 0.8037 - pi_loss: 0.5630 - v_loss: 0.2407\n",
            "Epoch 8/10\n",
            "1078/1078 [==============================] - 192s 178ms/step - loss: 0.7689 - pi_loss: 0.5434 - v_loss: 0.2255\n",
            "Epoch 9/10\n",
            "1078/1078 [==============================] - 187s 174ms/step - loss: 0.7494 - pi_loss: 0.5335 - v_loss: 0.2160\n",
            "Epoch 10/10\n",
            "1078/1078 [==============================] - 190s 176ms/step - loss: 0.7306 - pi_loss: 0.5251 - v_loss: 0.2054\n"
          ]
        },
        {
          "name": "stderr",
          "output_type": "stream",
          "text": [
            "2023-12-30 23:54:43 d6c923fb5000 Coach[507] INFO PITTING AGAINST PREVIOUS VERSION\n",
            "Arena.playGames (1): 100%|██████████| 10/10 [14:50<00:00, 89.08s/it]\n",
            "Arena.playGames (2): 100%|██████████| 10/10 [15:06<00:00, 90.70s/it]\n",
            "2023-12-31 00:24:41 d6c923fb5000 Coach[507] INFO NEW/PREV WINS : 5 / 8 ; DRAWS : 7\n",
            "2023-12-31 00:24:41 d6c923fb5000 Coach[507] INFO REJECTING NEW MODEL\n",
            "2023-12-31 00:24:43 d6c923fb5000 Coach[507] INFO Starting Iter #10 ...\n",
            "Self Play: 100%|██████████| 25/25 [23:57<00:00, 57.48s/it]\n"
          ]
        },
        {
          "name": "stdout",
          "output_type": "stream",
          "text": [
            "Checkpoint Directory exists! \n",
            "Epoch 1/10\n",
            "1181/1181 [==============================] - 198s 167ms/step - loss: 1.5242 - pi_loss: 1.0684 - v_loss: 0.4557\n",
            "Epoch 2/10\n",
            "1181/1181 [==============================] - 195s 165ms/step - loss: 1.2752 - pi_loss: 0.8733 - v_loss: 0.4019\n",
            "Epoch 3/10\n",
            "1181/1181 [==============================] - 196s 166ms/step - loss: 1.1215 - pi_loss: 0.7601 - v_loss: 0.3614\n",
            "Epoch 4/10\n",
            "1181/1181 [==============================] - 195s 165ms/step - loss: 1.0058 - pi_loss: 0.6791 - v_loss: 0.3267\n",
            "Epoch 5/10\n",
            "1181/1181 [==============================] - 199s 169ms/step - loss: 0.9238 - pi_loss: 0.6273 - v_loss: 0.2966\n",
            "Epoch 6/10\n",
            "1181/1181 [==============================] - 194s 164ms/step - loss: 0.8678 - pi_loss: 0.5947 - v_loss: 0.2731\n",
            "Epoch 7/10\n",
            "1181/1181 [==============================] - 194s 164ms/step - loss: 0.8304 - pi_loss: 0.5723 - v_loss: 0.2581\n",
            "Epoch 8/10\n",
            "1181/1181 [==============================] - 195s 165ms/step - loss: 0.7965 - pi_loss: 0.5546 - v_loss: 0.2419\n",
            "Epoch 9/10\n",
            "1181/1181 [==============================] - 194s 164ms/step - loss: 0.7719 - pi_loss: 0.5398 - v_loss: 0.2321\n",
            "Epoch 10/10\n",
            "1181/1181 [==============================] - 199s 169ms/step - loss: 0.7552 - pi_loss: 0.5334 - v_loss: 0.2218\n"
          ]
        },
        {
          "name": "stderr",
          "output_type": "stream",
          "text": [
            "2023-12-31 01:22:18 d6c923fb5000 Coach[507] INFO PITTING AGAINST PREVIOUS VERSION\n",
            "Arena.playGames (1): 100%|██████████| 10/10 [14:56<00:00, 89.61s/it]\n",
            "Arena.playGames (2): 100%|██████████| 10/10 [14:50<00:00, 89.05s/it]\n",
            "2023-12-31 01:52:05 d6c923fb5000 Coach[507] INFO NEW/PREV WINS : 9 / 4 ; DRAWS : 7\n",
            "2023-12-31 01:52:05 d6c923fb5000 Coach[507] INFO ACCEPTING NEW MODEL\n"
          ]
        },
        {
          "name": "stdout",
          "output_type": "stream",
          "text": [
            "Checkpoint Directory exists! \n",
            "Checkpoint Directory exists! \n"
          ]
        },
        {
          "name": "stderr",
          "output_type": "stream",
          "text": [
            "2023-12-31 01:52:06 d6c923fb5000 Coach[507] INFO Starting Iter #11 ...\n",
            "Self Play: 100%|██████████| 25/25 [25:30<00:00, 61.22s/it]\n"
          ]
        },
        {
          "name": "stdout",
          "output_type": "stream",
          "text": [
            "Checkpoint Directory exists! \n",
            "Epoch 1/10\n",
            "1294/1294 [==============================] - 219s 169ms/step - loss: 0.9030 - pi_loss: 0.6465 - v_loss: 0.2566\n",
            "Epoch 2/10\n",
            "1294/1294 [==============================] - 215s 167ms/step - loss: 0.8060 - pi_loss: 0.5717 - v_loss: 0.2343\n",
            "Epoch 3/10\n",
            "1294/1294 [==============================] - 220s 170ms/step - loss: 0.7665 - pi_loss: 0.5453 - v_loss: 0.2212\n",
            "Epoch 4/10\n",
            "1294/1294 [==============================] - 216s 167ms/step - loss: 0.7436 - pi_loss: 0.5319 - v_loss: 0.2117\n",
            "Epoch 5/10\n",
            "1294/1294 [==============================] - 220s 170ms/step - loss: 0.7290 - pi_loss: 0.5246 - v_loss: 0.2044\n",
            "Epoch 6/10\n",
            "1294/1294 [==============================] - 214s 165ms/step - loss: 0.7122 - pi_loss: 0.5169 - v_loss: 0.1953\n",
            "Epoch 7/10\n",
            "1294/1294 [==============================] - 215s 166ms/step - loss: 0.7017 - pi_loss: 0.5105 - v_loss: 0.1912\n",
            "Epoch 8/10\n",
            "1294/1294 [==============================] - 217s 168ms/step - loss: 0.6949 - pi_loss: 0.5066 - v_loss: 0.1883\n",
            "Epoch 9/10\n",
            "1294/1294 [==============================] - 215s 166ms/step - loss: 0.6847 - pi_loss: 0.5028 - v_loss: 0.1819\n",
            "Epoch 10/10\n",
            "1294/1294 [==============================] - 221s 170ms/step - loss: 0.6752 - pi_loss: 0.4960 - v_loss: 0.1792\n"
          ]
        },
        {
          "name": "stderr",
          "output_type": "stream",
          "text": [
            "2023-12-31 02:54:16 d6c923fb5000 Coach[507] INFO PITTING AGAINST PREVIOUS VERSION\n",
            "Arena.playGames (1):  50%|█████     | 5/10 [06:49<06:46, 81.23s/it]"
          ]
        }
      ],
      "source": [
        "args = dotdict({\n",
        "    'numIters':15,\n",
        "    'numEps': 25,              # Number of complete self-play games to simulate during a new iteration.\n",
        "    'tempThreshold': 15,        #\n",
        "    'updateThreshold': 0.6,     # During arena playoff, new neural net will be accepted if threshold or more of games are won.\n",
        "    'maxlenOfQueue': 50000,    # Number of game examples to train the neural networks.\n",
        "    'numMCTSSims': 25,          # Number of games moves for MCTS to simulate.\n",
        "    'arenaCompare': 20,         # Number of games to play during arena play to determine if new net will be accepted.\n",
        "    'cpuct': 1,\n",
        "\n",
        "    'checkpoint': '/content/drive/MyDrive/trabalho2_liacd/models/ataxx/6x6',\n",
        "    'load_model': True,\n",
        "    'load_folder_file': ('/content/drive/MyDrive/trabalho2_liacd/models/ataxx/6x6', 'best.h5'),\n",
        "    'numItersForTrainExamplesHistory': 20,\n",
        "\n",
        "})\n",
        "\n",
        "log.info('Loading %s...', Game.__name__)\n",
        "g = Game(6)\n",
        "\n",
        "log.info('Loading %s...', nn.__name__)\n",
        "nnet = nn(g)\n",
        "\n",
        "if args.load_model:\n",
        "    log.info('Loading checkpoint \"%s/%s\"...', args.load_folder_file[0], args.load_folder_file[1])\n",
        "    nnet.load_model(args.load_folder_file[0], args.load_folder_file[1])\n",
        "else:\n",
        "    log.warning('Not loading a checkpoint!')\n",
        "\n",
        "log.info('Loading the Coach...')\n",
        "c = Coach(g, nnet, args)\n",
        "\n",
        "if args.load_model:\n",
        "    log.info(\"Loading 'trainExamples' from file...\")\n",
        "    c.loadTrainExamples()\n",
        "\n",
        "log.info('Starting the learning process 🎉')\n",
        "c.learn()\n"
      ]
    },
    {
      "cell_type": "markdown",
      "metadata": {
        "id": "25MCFXdH-uID"
      },
      "source": [
        "#Nono Treino"
      ]
    },
    {
      "cell_type": "code",
      "execution_count": null,
      "metadata": {
        "colab": {
          "background_save": true,
          "base_uri": "https://localhost:8080/"
        },
        "id": "F4pLYi9jtN7x",
        "outputId": "f497ac27-0ce2-4460-ea2d-c75a8cb7d85c"
      },
      "outputs": [
        {
          "name": "stderr",
          "output_type": "stream",
          "text": [
            "2023-12-31 13:05:54 aae90af52946 __main__[129] INFO Loading AtaxxGame...\n",
            "2023-12-31 13:05:54 aae90af52946 __main__[129] INFO Loading NNetWrapper...\n",
            "2023-12-31 13:05:55 aae90af52946 __main__[129] INFO Loading checkpoint \"/content/drive/MyDrive/trabalho2_liacd/models/ataxx/6x6/best.h5\"...\n",
            "2023-12-31 13:05:56 aae90af52946 __main__[129] INFO Loading the Coach...\n",
            "2023-12-31 13:05:57 aae90af52946 __main__[129] INFO Loading 'trainExamples' from file...\n",
            "2023-12-31 13:05:57 aae90af52946 Coach[129] WARNING File \"/content/drive/MyDrive/trabalho2_liacd/models/ataxx/6x6/best.h5.examples\" with trainExamples not found!\n",
            "2023-12-31 13:05:58 aae90af52946 __main__[129] INFO Starting the learning process 🎉\n",
            "2023-12-31 13:05:58 aae90af52946 Coach[129] INFO Starting Iter #1 ...\n",
            "Self Play: 100%|██████████| 25/25 [28:53<00:00, 69.33s/it]\n"
          ]
        },
        {
          "name": "stdout",
          "output_type": "stream",
          "text": [
            "Checkpoint Directory exists! \n"
          ]
        },
        {
          "name": "stderr",
          "output_type": "stream",
          "text": [
            "/usr/local/lib/python3.10/dist-packages/keras/src/engine/training.py:3103: UserWarning: You are saving your model as an HDF5 file via `model.save()`. This file format is considered legacy. We recommend using instead the native Keras format, e.g. `model.save('my_model.keras')`.\n",
            "  saving_api.save_model(\n"
          ]
        },
        {
          "name": "stdout",
          "output_type": "stream",
          "text": [
            "Epoch 1/10\n",
            "122/122 [==============================] - 26s 202ms/step - loss: 2.0689 - pi_loss: 1.5481 - v_loss: 0.5208\n",
            "Epoch 2/10\n",
            "122/122 [==============================] - 22s 181ms/step - loss: 1.4764 - pi_loss: 1.0436 - v_loss: 0.4328\n",
            "Epoch 3/10\n",
            "122/122 [==============================] - 23s 186ms/step - loss: 1.2365 - pi_loss: 0.8508 - v_loss: 0.3858\n",
            "Epoch 4/10\n",
            "122/122 [==============================] - 24s 196ms/step - loss: 1.0561 - pi_loss: 0.7216 - v_loss: 0.3345\n",
            "Epoch 5/10\n",
            "122/122 [==============================] - 23s 186ms/step - loss: 0.9378 - pi_loss: 0.6511 - v_loss: 0.2866\n",
            "Epoch 6/10\n",
            "122/122 [==============================] - 25s 205ms/step - loss: 0.8556 - pi_loss: 0.6097 - v_loss: 0.2459\n",
            "Epoch 7/10\n",
            "122/122 [==============================] - 21s 175ms/step - loss: 0.8010 - pi_loss: 0.5789 - v_loss: 0.2222\n",
            "Epoch 8/10\n",
            "122/122 [==============================] - 23s 185ms/step - loss: 0.7517 - pi_loss: 0.5601 - v_loss: 0.1916\n",
            "Epoch 9/10\n",
            "122/122 [==============================] - 23s 191ms/step - loss: 0.7153 - pi_loss: 0.5414 - v_loss: 0.1739\n",
            "Epoch 10/10\n",
            "122/122 [==============================] - 22s 180ms/step - loss: 0.6952 - pi_loss: 0.5382 - v_loss: 0.1570\n"
          ]
        },
        {
          "name": "stderr",
          "output_type": "stream",
          "text": [
            "2023-12-31 13:39:18 aae90af52946 Coach[129] INFO PITTING AGAINST PREVIOUS VERSION\n",
            "Arena.playGames (1): 100%|██████████| 10/10 [16:47<00:00, 100.73s/it]\n",
            "Arena.playGames (2): 100%|██████████| 10/10 [15:53<00:00, 95.36s/it]\n",
            "2023-12-31 14:11:59 aae90af52946 Coach[129] INFO NEW/PREV WINS : 6 / 9 ; DRAWS : 5\n",
            "2023-12-31 14:11:59 aae90af52946 Coach[129] INFO REJECTING NEW MODEL\n",
            "2023-12-31 14:12:01 aae90af52946 Coach[129] INFO Starting Iter #2 ...\n",
            "Self Play: 100%|██████████| 25/25 [25:28<00:00, 61.16s/it]\n"
          ]
        },
        {
          "name": "stdout",
          "output_type": "stream",
          "text": [
            "Checkpoint Directory exists! \n",
            "Epoch 1/10\n",
            "225/225 [==============================] - 49s 211ms/step - loss: 1.9620 - pi_loss: 1.4678 - v_loss: 0.4942\n",
            "Epoch 2/10\n",
            "225/225 [==============================] - 40s 177ms/step - loss: 1.5182 - pi_loss: 1.0820 - v_loss: 0.4362\n",
            "Epoch 3/10\n",
            "225/225 [==============================] - 38s 169ms/step - loss: 1.2868 - pi_loss: 0.8925 - v_loss: 0.3944\n",
            "Epoch 4/10\n",
            "225/225 [==============================] - 38s 168ms/step - loss: 1.1101 - pi_loss: 0.7585 - v_loss: 0.3515\n",
            "Epoch 5/10\n",
            "225/225 [==============================] - 40s 178ms/step - loss: 0.9890 - pi_loss: 0.6811 - v_loss: 0.3079\n",
            "Epoch 6/10\n",
            "225/225 [==============================] - 40s 178ms/step - loss: 0.8873 - pi_loss: 0.6222 - v_loss: 0.2651\n",
            "Epoch 7/10\n",
            "225/225 [==============================] - 42s 185ms/step - loss: 0.8254 - pi_loss: 0.5951 - v_loss: 0.2303\n",
            "Epoch 8/10\n",
            "225/225 [==============================] - 41s 180ms/step - loss: 0.7719 - pi_loss: 0.5667 - v_loss: 0.2052\n",
            "Epoch 9/10\n",
            "225/225 [==============================] - 40s 180ms/step - loss: 0.7351 - pi_loss: 0.5514 - v_loss: 0.1836\n",
            "Epoch 10/10\n",
            "225/225 [==============================] - 40s 180ms/step - loss: 0.7098 - pi_loss: 0.5382 - v_loss: 0.1716\n"
          ]
        },
        {
          "name": "stderr",
          "output_type": "stream",
          "text": [
            "2023-12-31 14:44:21 aae90af52946 Coach[129] INFO PITTING AGAINST PREVIOUS VERSION\n",
            "Arena.playGames (1): 100%|██████████| 10/10 [17:22<00:00, 104.29s/it]\n",
            "Arena.playGames (2): 100%|██████████| 10/10 [16:16<00:00, 97.70s/it]\n",
            "2023-12-31 15:18:01 aae90af52946 Coach[129] INFO NEW/PREV WINS : 7 / 5 ; DRAWS : 8\n",
            "2023-12-31 15:18:01 aae90af52946 Coach[129] INFO REJECTING NEW MODEL\n",
            "2023-12-31 15:18:02 aae90af52946 Coach[129] INFO Starting Iter #3 ...\n",
            "Self Play: 100%|██████████| 25/25 [32:26<00:00, 77.84s/it]\n"
          ]
        },
        {
          "name": "stdout",
          "output_type": "stream",
          "text": [
            "Checkpoint Directory exists! \n",
            "Epoch 1/10\n",
            "351/351 [==============================] - 69s 192ms/step - loss: 1.9145 - pi_loss: 1.4318 - v_loss: 0.4827\n",
            "Epoch 2/10\n",
            "351/351 [==============================] - 65s 186ms/step - loss: 1.5444 - pi_loss: 1.1045 - v_loss: 0.4399\n",
            "Epoch 3/10\n",
            "351/351 [==============================] - 65s 184ms/step - loss: 1.3277 - pi_loss: 0.9208 - v_loss: 0.4069\n",
            "Epoch 4/10\n",
            "351/351 [==============================] - 64s 184ms/step - loss: 1.1642 - pi_loss: 0.7945 - v_loss: 0.3697\n",
            "Epoch 5/10\n",
            "351/351 [==============================] - 66s 188ms/step - loss: 1.0212 - pi_loss: 0.6927 - v_loss: 0.3285\n",
            "Epoch 6/10\n",
            "351/351 [==============================] - 68s 194ms/step - loss: 0.9192 - pi_loss: 0.6323 - v_loss: 0.2868\n",
            "Epoch 7/10\n",
            "351/351 [==============================] - 67s 190ms/step - loss: 0.8429 - pi_loss: 0.5898 - v_loss: 0.2531\n",
            "Epoch 8/10\n",
            "351/351 [==============================] - 63s 179ms/step - loss: 0.7882 - pi_loss: 0.5609 - v_loss: 0.2273\n",
            "Epoch 9/10\n",
            "351/351 [==============================] - 63s 180ms/step - loss: 0.7503 - pi_loss: 0.5441 - v_loss: 0.2062\n",
            "Epoch 10/10\n",
            "351/351 [==============================] - 64s 181ms/step - loss: 0.7192 - pi_loss: 0.5320 - v_loss: 0.1872\n"
          ]
        },
        {
          "name": "stderr",
          "output_type": "stream",
          "text": [
            "2023-12-31 16:01:27 aae90af52946 Coach[129] INFO PITTING AGAINST PREVIOUS VERSION\n",
            "Arena.playGames (1): 100%|██████████| 10/10 [18:30<00:00, 111.08s/it]\n",
            "Arena.playGames (2): 100%|██████████| 10/10 [17:29<00:00, 104.94s/it]\n",
            "2023-12-31 16:37:28 aae90af52946 Coach[129] INFO NEW/PREV WINS : 8 / 6 ; DRAWS : 6\n",
            "2023-12-31 16:37:28 aae90af52946 Coach[129] INFO REJECTING NEW MODEL\n",
            "2023-12-31 16:37:29 aae90af52946 Coach[129] INFO Starting Iter #4 ...\n",
            "Self Play: 100%|██████████| 25/25 [30:12<00:00, 72.49s/it]\n"
          ]
        },
        {
          "name": "stdout",
          "output_type": "stream",
          "text": [
            "Checkpoint Directory exists! \n",
            "Epoch 1/10\n",
            "468/468 [==============================] - 91s 190ms/step - loss: 1.9356 - pi_loss: 1.4384 - v_loss: 0.4971\n",
            "Epoch 2/10\n",
            "468/468 [==============================] - 88s 189ms/step - loss: 1.5981 - pi_loss: 1.1396 - v_loss: 0.4585\n",
            "Epoch 3/10\n",
            "468/468 [==============================] - 83s 176ms/step - loss: 1.4045 - pi_loss: 0.9774 - v_loss: 0.4271\n",
            "Epoch 4/10\n",
            "468/468 [==============================] - 92s 196ms/step - loss: 1.2291 - pi_loss: 0.8396 - v_loss: 0.3895\n",
            "Epoch 5/10\n",
            "468/468 [==============================] - 95s 202ms/step - loss: 1.0776 - pi_loss: 0.7306 - v_loss: 0.3470\n",
            "Epoch 6/10\n",
            "468/468 [==============================] - 85s 182ms/step - loss: 0.9732 - pi_loss: 0.6640 - v_loss: 0.3091\n",
            "Epoch 7/10\n",
            "468/468 [==============================] - 86s 184ms/step - loss: 0.8877 - pi_loss: 0.6162 - v_loss: 0.2715\n",
            "Epoch 8/10\n",
            "468/468 [==============================] - 85s 181ms/step - loss: 0.8365 - pi_loss: 0.5879 - v_loss: 0.2486\n",
            "Epoch 9/10\n",
            "468/468 [==============================] - 87s 186ms/step - loss: 0.7868 - pi_loss: 0.5639 - v_loss: 0.2229\n",
            "Epoch 10/10\n",
            "468/468 [==============================] - 87s 185ms/step - loss: 0.7530 - pi_loss: 0.5477 - v_loss: 0.2052\n"
          ]
        },
        {
          "name": "stderr",
          "output_type": "stream",
          "text": [
            "2023-12-31 17:23:12 aae90af52946 Coach[129] INFO PITTING AGAINST PREVIOUS VERSION\n",
            "Arena.playGames (1): 100%|██████████| 10/10 [16:21<00:00, 98.12s/it]\n",
            "Arena.playGames (2): 100%|██████████| 10/10 [17:57<00:00, 107.72s/it]\n",
            "2023-12-31 17:57:30 aae90af52946 Coach[129] INFO NEW/PREV WINS : 4 / 7 ; DRAWS : 9\n",
            "2023-12-31 17:57:30 aae90af52946 Coach[129] INFO REJECTING NEW MODEL\n",
            "2023-12-31 17:57:31 aae90af52946 Coach[129] INFO Starting Iter #5 ...\n",
            "Self Play: 100%|██████████| 25/25 [32:00<00:00, 76.82s/it]\n"
          ]
        },
        {
          "name": "stdout",
          "output_type": "stream",
          "text": [
            "Checkpoint Directory exists! \n",
            "Epoch 1/10\n",
            "590/590 [==============================] - 109s 182ms/step - loss: 1.8926 - pi_loss: 1.4000 - v_loss: 0.4926\n",
            "Epoch 2/10\n",
            "590/590 [==============================] - 107s 182ms/step - loss: 1.5889 - pi_loss: 1.1297 - v_loss: 0.4592\n",
            "Epoch 3/10\n",
            "590/590 [==============================] - 108s 183ms/step - loss: 1.4018 - pi_loss: 0.9716 - v_loss: 0.4302\n",
            "Epoch 4/10\n",
            "590/590 [==============================] - 111s 188ms/step - loss: 1.2322 - pi_loss: 0.8340 - v_loss: 0.3982\n",
            "Epoch 5/10\n",
            "590/590 [==============================] - 109s 185ms/step - loss: 1.0931 - pi_loss: 0.7355 - v_loss: 0.3575\n",
            "Epoch 6/10\n",
            "590/590 [==============================] - 108s 184ms/step - loss: 0.9766 - pi_loss: 0.6593 - v_loss: 0.3173\n",
            "Epoch 7/10\n",
            "590/590 [==============================] - 106s 179ms/step - loss: 0.8953 - pi_loss: 0.6133 - v_loss: 0.2820\n",
            "Epoch 8/10\n",
            "590/590 [==============================] - 105s 177ms/step - loss: 0.8340 - pi_loss: 0.5810 - v_loss: 0.2530\n",
            "Epoch 9/10\n",
            "590/590 [==============================] - 111s 189ms/step - loss: 0.7897 - pi_loss: 0.5605 - v_loss: 0.2292\n",
            "Epoch 10/10\n",
            "590/590 [==============================] - 105s 178ms/step - loss: 0.7584 - pi_loss: 0.5439 - v_loss: 0.2145\n"
          ]
        },
        {
          "name": "stderr",
          "output_type": "stream",
          "text": [
            "2023-12-31 18:48:03 aae90af52946 Coach[129] INFO PITTING AGAINST PREVIOUS VERSION\n",
            "Arena.playGames (1): 100%|██████████| 10/10 [19:16<00:00, 115.66s/it]\n",
            "Arena.playGames (2): 100%|██████████| 10/10 [16:49<00:00, 100.94s/it]\n",
            "2023-12-31 19:24:09 aae90af52946 Coach[129] INFO NEW/PREV WINS : 8 / 8 ; DRAWS : 4\n",
            "2023-12-31 19:24:09 aae90af52946 Coach[129] INFO REJECTING NEW MODEL\n",
            "2023-12-31 19:24:10 aae90af52946 Coach[129] INFO Starting Iter #6 ...\n",
            "Self Play: 100%|██████████| 25/25 [33:00<00:00, 79.22s/it]\n"
          ]
        },
        {
          "name": "stdout",
          "output_type": "stream",
          "text": [
            "Checkpoint Directory exists! \n",
            "Epoch 1/10\n",
            "718/718 [==============================] - 132s 182ms/step - loss: 1.8823 - pi_loss: 1.3958 - v_loss: 0.4865\n",
            "Epoch 2/10\n",
            "718/718 [==============================] - 128s 178ms/step - loss: 1.5906 - pi_loss: 1.1334 - v_loss: 0.4572\n",
            "Epoch 3/10\n",
            "718/718 [==============================] - 128s 179ms/step - loss: 1.4212 - pi_loss: 0.9898 - v_loss: 0.4314\n",
            "Epoch 4/10\n",
            "718/718 [==============================] - 128s 179ms/step - loss: 1.2542 - pi_loss: 0.8562 - v_loss: 0.3979\n",
            "Epoch 5/10\n",
            "718/718 [==============================] - 130s 182ms/step - loss: 1.1133 - pi_loss: 0.7544 - v_loss: 0.3590\n",
            "Epoch 6/10\n",
            "718/718 [==============================] - 131s 182ms/step - loss: 1.0040 - pi_loss: 0.6802 - v_loss: 0.3239\n",
            "Epoch 7/10\n",
            "718/718 [==============================] - 133s 186ms/step - loss: 0.9199 - pi_loss: 0.6314 - v_loss: 0.2885\n",
            "Epoch 8/10\n",
            "718/718 [==============================] - 130s 181ms/step - loss: 0.8573 - pi_loss: 0.5988 - v_loss: 0.2585\n",
            "Epoch 9/10\n",
            "718/718 [==============================] - 132s 184ms/step - loss: 0.8105 - pi_loss: 0.5723 - v_loss: 0.2383\n",
            "Epoch 10/10\n",
            "718/718 [==============================] - 129s 180ms/step - loss: 0.7779 - pi_loss: 0.5565 - v_loss: 0.2214\n"
          ]
        },
        {
          "name": "stderr",
          "output_type": "stream",
          "text": [
            "2023-12-31 20:19:04 aae90af52946 Coach[129] INFO PITTING AGAINST PREVIOUS VERSION\n",
            "Arena.playGames (1): 100%|██████████| 10/10 [17:13<00:00, 103.31s/it]\n",
            "Arena.playGames (2): 100%|██████████| 10/10 [15:10<00:00, 91.08s/it]\n",
            "2023-12-31 20:51:28 aae90af52946 Coach[129] INFO NEW/PREV WINS : 9 / 5 ; DRAWS : 6\n",
            "2023-12-31 20:51:28 aae90af52946 Coach[129] INFO ACCEPTING NEW MODEL\n"
          ]
        },
        {
          "name": "stdout",
          "output_type": "stream",
          "text": [
            "Checkpoint Directory exists! \n",
            "Checkpoint Directory exists! \n"
          ]
        },
        {
          "name": "stderr",
          "output_type": "stream",
          "text": [
            "2023-12-31 20:51:28 aae90af52946 Coach[129] INFO Starting Iter #7 ...\n",
            "Self Play: 100%|██████████| 25/25 [21:31<00:00, 51.65s/it]\n"
          ]
        },
        {
          "name": "stdout",
          "output_type": "stream",
          "text": [
            "Checkpoint Directory exists! \n",
            "Epoch 1/10\n",
            "807/807 [==============================] - 141s 175ms/step - loss: 0.9167 - pi_loss: 0.6715 - v_loss: 0.2452\n",
            "Epoch 2/10\n",
            "807/807 [==============================] - 142s 175ms/step - loss: 0.7991 - pi_loss: 0.5813 - v_loss: 0.2178\n",
            "Epoch 3/10\n",
            "807/807 [==============================] - 139s 172ms/step - loss: 0.7611 - pi_loss: 0.5551 - v_loss: 0.2060\n",
            "Epoch 4/10\n",
            "807/807 [==============================] - 137s 170ms/step - loss: 0.7297 - pi_loss: 0.5368 - v_loss: 0.1929\n",
            "Epoch 5/10\n",
            "807/807 [==============================] - 137s 170ms/step - loss: 0.7062 - pi_loss: 0.5242 - v_loss: 0.1820\n",
            "Epoch 6/10\n",
            "807/807 [==============================] - 142s 176ms/step - loss: 0.6927 - pi_loss: 0.5190 - v_loss: 0.1736\n",
            "Epoch 7/10\n",
            "807/807 [==============================] - 139s 172ms/step - loss: 0.6754 - pi_loss: 0.5091 - v_loss: 0.1663\n",
            "Epoch 8/10\n",
            "807/807 [==============================] - 138s 172ms/step - loss: 0.6638 - pi_loss: 0.5036 - v_loss: 0.1602\n",
            "Epoch 9/10\n",
            "807/807 [==============================] - 141s 174ms/step - loss: 0.6559 - pi_loss: 0.5008 - v_loss: 0.1551\n",
            "Epoch 10/10\n",
            "807/807 [==============================] - 138s 171ms/step - loss: 0.6460 - pi_loss: 0.4934 - v_loss: 0.1525\n"
          ]
        },
        {
          "name": "stderr",
          "output_type": "stream",
          "text": [
            "2023-12-31 21:36:26 aae90af52946 Coach[129] INFO PITTING AGAINST PREVIOUS VERSION\n",
            "Arena.playGames (1): 100%|██████████| 10/10 [19:45<00:00, 118.57s/it]\n",
            "Arena.playGames (2):  50%|█████     | 5/10 [08:19<08:11, 98.32s/it] "
          ]
        }
      ],
      "source": [
        "args = dotdict({\n",
        "    'numIters':15,\n",
        "    'numEps': 25,              # Number of complete self-play games to simulate during a new iteration.\n",
        "    'tempThreshold': 15,        #\n",
        "    'updateThreshold': 0.6,     # During arena playoff, new neural net will be accepted if threshold or more of games are won.\n",
        "    'maxlenOfQueue': 50000,    # Number of game examples to train the neural networks.\n",
        "    'numMCTSSims': 25,          # Number of games moves for MCTS to simulate.\n",
        "    'arenaCompare': 20,         # Number of games to play during arena play to determine if new net will be accepted.\n",
        "    'cpuct': 1,\n",
        "\n",
        "    'checkpoint': '/content/drive/MyDrive/trabalho2_liacd/models/ataxx/6x6',\n",
        "    'load_model': True,\n",
        "    'load_folder_file': ('/content/drive/MyDrive/trabalho2_liacd/models/ataxx/6x6', 'best.h5'),\n",
        "    'numItersForTrainExamplesHistory': 20,\n",
        "\n",
        "})\n",
        "\n",
        "log.info('Loading %s...', Game.__name__)\n",
        "g = Game(6)\n",
        "\n",
        "log.info('Loading %s...', nn.__name__)\n",
        "nnet = nn(g)\n",
        "\n",
        "if args.load_model:\n",
        "    log.info('Loading checkpoint \"%s/%s\"...', args.load_folder_file[0], args.load_folder_file[1])\n",
        "    nnet.load_model(args.load_folder_file[0], args.load_folder_file[1])\n",
        "else:\n",
        "    log.warning('Not loading a checkpoint!')\n",
        "\n",
        "log.info('Loading the Coach...')\n",
        "c = Coach(g, nnet, args)\n",
        "\n",
        "if args.load_model:\n",
        "    log.info(\"Loading 'trainExamples' from file...\")\n",
        "    c.loadTrainExamples()\n",
        "\n",
        "log.info('Starting the learning process 🎉')\n",
        "c.learn()\n"
      ]
    },
    {
      "cell_type": "markdown",
      "metadata": {
        "id": "wXgOSHLVkuez"
      },
      "source": [
        "#Décimo Treino"
      ]
    },
    {
      "cell_type": "code",
      "execution_count": null,
      "metadata": {
        "colab": {
          "background_save": true,
          "base_uri": "https://localhost:8080/"
        },
        "id": "f7ZZZnyVkwUB",
        "outputId": "b8ddb603-42c7-492e-c509-b498d9850915"
      },
      "outputs": [
        {
          "name": "stderr",
          "output_type": "stream",
          "text": [
            "2024-01-01 15:09:58 c31bf429834c __main__[268] INFO Loading AtaxxGame...\n",
            "2024-01-01 15:09:58 c31bf429834c __main__[268] INFO Loading NNetWrapper...\n",
            "2024-01-01 15:09:59 c31bf429834c __main__[268] INFO Loading checkpoint \"/content/drive/MyDrive/trabalho2_liacd/models/ataxx/6x6/best.h5\"...\n",
            "2024-01-01 15:10:03 c31bf429834c __main__[268] INFO Loading the Coach...\n",
            "2024-01-01 15:10:03 c31bf429834c __main__[268] INFO Loading 'trainExamples' from file...\n",
            "2024-01-01 15:10:03 c31bf429834c Coach[268] WARNING File \"/content/drive/MyDrive/trabalho2_liacd/models/ataxx/6x6/best.h5.examples\" with trainExamples not found!\n",
            "2024-01-01 15:10:05 c31bf429834c __main__[268] INFO Starting the learning process 🎉\n",
            "2024-01-01 15:10:05 c31bf429834c Coach[268] INFO Starting Iter #1 ...\n",
            "Self Play: 100%|██████████| 25/25 [28:13<00:00, 67.72s/it]\n"
          ]
        },
        {
          "name": "stdout",
          "output_type": "stream",
          "text": [
            "Checkpoint Directory exists! \n"
          ]
        },
        {
          "name": "stderr",
          "output_type": "stream",
          "text": [
            "/usr/local/lib/python3.10/dist-packages/keras/src/engine/training.py:3103: UserWarning: You are saving your model as an HDF5 file via `model.save()`. This file format is considered legacy. We recommend using instead the native Keras format, e.g. `model.save('my_model.keras')`.\n",
            "  saving_api.save_model(\n"
          ]
        },
        {
          "name": "stdout",
          "output_type": "stream",
          "text": [
            "Epoch 1/10\n",
            "116/116 [==============================] - 21s 164ms/step - loss: 2.0731 - pi_loss: 1.4107 - v_loss: 0.6624\n",
            "Epoch 2/10\n",
            "116/116 [==============================] - 20s 172ms/step - loss: 1.5380 - pi_loss: 0.9839 - v_loss: 0.5541\n",
            "Epoch 3/10\n",
            "116/116 [==============================] - 19s 160ms/step - loss: 1.2814 - pi_loss: 0.7979 - v_loss: 0.4835\n",
            "Epoch 4/10\n",
            "116/116 [==============================] - 18s 156ms/step - loss: 1.0548 - pi_loss: 0.6599 - v_loss: 0.3949\n",
            "Epoch 5/10\n",
            "116/116 [==============================] - 19s 160ms/step - loss: 0.9032 - pi_loss: 0.5804 - v_loss: 0.3228\n",
            "Epoch 6/10\n",
            "116/116 [==============================] - 19s 160ms/step - loss: 0.8104 - pi_loss: 0.5424 - v_loss: 0.2679\n",
            "Epoch 7/10\n",
            "116/116 [==============================] - 20s 176ms/step - loss: 0.7523 - pi_loss: 0.5113 - v_loss: 0.2411\n",
            "Epoch 8/10\n",
            "116/116 [==============================] - 19s 165ms/step - loss: 0.7016 - pi_loss: 0.4874 - v_loss: 0.2142\n",
            "Epoch 9/10\n",
            "116/116 [==============================] - 18s 159ms/step - loss: 0.6679 - pi_loss: 0.4758 - v_loss: 0.1921\n",
            "Epoch 10/10\n",
            "116/116 [==============================] - 19s 161ms/step - loss: 0.6463 - pi_loss: 0.4666 - v_loss: 0.1797\n"
          ]
        },
        {
          "name": "stderr",
          "output_type": "stream",
          "text": [
            "2024-01-01 15:41:33 c31bf429834c Coach[268] INFO PITTING AGAINST PREVIOUS VERSION\n",
            "Arena.playGames (1): 100%|██████████| 10/10 [18:35<00:00, 111.58s/it]\n",
            "Arena.playGames (2): 100%|██████████| 10/10 [18:28<00:00, 110.88s/it]\n",
            "2024-01-01 16:18:37 c31bf429834c Coach[268] INFO NEW/PREV WINS : 9 / 7 ; DRAWS : 4\n",
            "2024-01-01 16:18:37 c31bf429834c Coach[268] INFO REJECTING NEW MODEL\n",
            "2024-01-01 16:18:39 c31bf429834c Coach[268] INFO Starting Iter #2 ...\n",
            "Self Play: 100%|██████████| 25/25 [27:18<00:00, 65.53s/it]\n"
          ]
        },
        {
          "name": "stdout",
          "output_type": "stream",
          "text": [
            "Checkpoint Directory exists! \n",
            "Epoch 1/10\n",
            "223/223 [==============================] - 40s 174ms/step - loss: 1.9667 - pi_loss: 1.4331 - v_loss: 0.5336\n",
            "Epoch 2/10\n",
            "223/223 [==============================] - 41s 184ms/step - loss: 1.5503 - pi_loss: 1.0853 - v_loss: 0.4650\n",
            "Epoch 3/10\n",
            "223/223 [==============================] - 37s 164ms/step - loss: 1.3216 - pi_loss: 0.9039 - v_loss: 0.4178\n",
            "Epoch 4/10\n",
            "223/223 [==============================] - 38s 169ms/step - loss: 1.1318 - pi_loss: 0.7636 - v_loss: 0.3682\n",
            "Epoch 5/10\n",
            "223/223 [==============================] - 38s 170ms/step - loss: 0.9942 - pi_loss: 0.6711 - v_loss: 0.3230\n",
            "Epoch 6/10\n",
            "223/223 [==============================] - 37s 165ms/step - loss: 0.8860 - pi_loss: 0.6064 - v_loss: 0.2796\n",
            "Epoch 7/10\n",
            "223/223 [==============================] - 38s 170ms/step - loss: 0.8180 - pi_loss: 0.5693 - v_loss: 0.2487\n",
            "Epoch 8/10\n",
            "223/223 [==============================] - 38s 168ms/step - loss: 0.7614 - pi_loss: 0.5414 - v_loss: 0.2200\n",
            "Epoch 9/10\n",
            "223/223 [==============================] - 37s 164ms/step - loss: 0.7230 - pi_loss: 0.5258 - v_loss: 0.1971\n",
            "Epoch 10/10\n",
            "223/223 [==============================] - 38s 169ms/step - loss: 0.6997 - pi_loss: 0.5144 - v_loss: 0.1853\n"
          ]
        },
        {
          "name": "stderr",
          "output_type": "stream",
          "text": [
            "2024-01-01 16:52:24 c31bf429834c Coach[268] INFO PITTING AGAINST PREVIOUS VERSION\n",
            "Arena.playGames (1): 100%|██████████| 10/10 [18:06<00:00, 108.69s/it]\n",
            "Arena.playGames (2): 100%|██████████| 10/10 [15:50<00:00, 95.05s/it]\n",
            "2024-01-01 17:26:22 c31bf429834c Coach[268] INFO NEW/PREV WINS : 14 / 5 ; DRAWS : 1\n",
            "2024-01-01 17:26:22 c31bf429834c Coach[268] INFO ACCEPTING NEW MODEL\n"
          ]
        },
        {
          "name": "stdout",
          "output_type": "stream",
          "text": [
            "Checkpoint Directory exists! \n",
            "Checkpoint Directory exists! \n"
          ]
        },
        {
          "name": "stderr",
          "output_type": "stream",
          "text": [
            "2024-01-01 17:26:25 c31bf429834c Coach[268] INFO Starting Iter #3 ...\n",
            "Self Play: 100%|██████████| 25/25 [24:50<00:00, 59.63s/it]\n"
          ]
        },
        {
          "name": "stdout",
          "output_type": "stream",
          "text": [
            "Checkpoint Directory exists! \n",
            "Epoch 1/10\n",
            "323/323 [==============================] - 55s 171ms/step - loss: 1.2011 - pi_loss: 0.8418 - v_loss: 0.3592\n",
            "Epoch 2/10\n",
            "323/323 [==============================] - 55s 169ms/step - loss: 0.9594 - pi_loss: 0.6618 - v_loss: 0.2976\n",
            "Epoch 3/10\n",
            "323/323 [==============================] - 52s 162ms/step - loss: 0.8445 - pi_loss: 0.5840 - v_loss: 0.2605\n",
            "Epoch 4/10\n",
            "323/323 [==============================] - 56s 173ms/step - loss: 0.7780 - pi_loss: 0.5518 - v_loss: 0.2263\n",
            "Epoch 5/10\n",
            "323/323 [==============================] - 53s 163ms/step - loss: 0.7331 - pi_loss: 0.5262 - v_loss: 0.2070\n",
            "Epoch 6/10\n",
            "323/323 [==============================] - 55s 171ms/step - loss: 0.6981 - pi_loss: 0.5089 - v_loss: 0.1892\n",
            "Epoch 7/10\n",
            "323/323 [==============================] - 55s 169ms/step - loss: 0.6815 - pi_loss: 0.5017 - v_loss: 0.1798\n",
            "Epoch 8/10\n",
            "323/323 [==============================] - 56s 172ms/step - loss: 0.6580 - pi_loss: 0.4914 - v_loss: 0.1666\n",
            "Epoch 9/10\n",
            "323/323 [==============================] - 54s 166ms/step - loss: 0.6469 - pi_loss: 0.4866 - v_loss: 0.1603\n",
            "Epoch 10/10\n",
            "323/323 [==============================] - 55s 172ms/step - loss: 0.6375 - pi_loss: 0.4819 - v_loss: 0.1556\n"
          ]
        },
        {
          "name": "stderr",
          "output_type": "stream",
          "text": [
            "2024-01-01 18:00:26 c31bf429834c Coach[268] INFO PITTING AGAINST PREVIOUS VERSION\n",
            "Arena.playGames (1): 100%|██████████| 10/10 [16:50<00:00, 101.05s/it]\n",
            "Arena.playGames (2): 100%|██████████| 10/10 [16:37<00:00, 99.79s/it] \n",
            "2024-01-01 18:33:55 c31bf429834c Coach[268] INFO NEW/PREV WINS : 6 / 11 ; DRAWS : 3\n",
            "2024-01-01 18:33:55 c31bf429834c Coach[268] INFO REJECTING NEW MODEL\n",
            "2024-01-01 18:33:56 c31bf429834c Coach[268] INFO Starting Iter #4 ...\n",
            "Self Play: 100%|██████████| 25/25 [27:00<00:00, 64.80s/it]\n"
          ]
        },
        {
          "name": "stdout",
          "output_type": "stream",
          "text": [
            "Checkpoint Directory exists! \n",
            "Epoch 1/10\n",
            "429/429 [==============================] - 69s 157ms/step - loss: 1.4220 - pi_loss: 0.9895 - v_loss: 0.4325\n",
            "Epoch 2/10\n",
            "429/429 [==============================] - 68s 159ms/step - loss: 1.1276 - pi_loss: 0.7697 - v_loss: 0.3579\n",
            "Epoch 3/10\n",
            "429/429 [==============================] - 67s 156ms/step - loss: 0.9576 - pi_loss: 0.6571 - v_loss: 0.3005\n",
            "Epoch 4/10\n",
            "429/429 [==============================] - 69s 160ms/step - loss: 0.8610 - pi_loss: 0.6010 - v_loss: 0.2600\n",
            "Epoch 5/10\n",
            "429/429 [==============================] - 68s 159ms/step - loss: 0.7941 - pi_loss: 0.5626 - v_loss: 0.2315\n",
            "Epoch 6/10\n",
            "429/429 [==============================] - 67s 157ms/step - loss: 0.7573 - pi_loss: 0.5451 - v_loss: 0.2122\n",
            "Epoch 7/10\n",
            "429/429 [==============================] - 69s 161ms/step - loss: 0.7221 - pi_loss: 0.5252 - v_loss: 0.1969\n",
            "Epoch 8/10\n",
            "429/429 [==============================] - 69s 162ms/step - loss: 0.7004 - pi_loss: 0.5139 - v_loss: 0.1865\n",
            "Epoch 9/10\n",
            "429/429 [==============================] - 68s 159ms/step - loss: 0.6835 - pi_loss: 0.5055 - v_loss: 0.1781\n",
            "Epoch 10/10\n",
            "429/429 [==============================] - 68s 159ms/step - loss: 0.6713 - pi_loss: 0.4997 - v_loss: 0.1716\n"
          ]
        },
        {
          "name": "stderr",
          "output_type": "stream",
          "text": [
            "2024-01-01 19:12:26 c31bf429834c Coach[268] INFO PITTING AGAINST PREVIOUS VERSION\n",
            "Arena.playGames (1): 100%|██████████| 10/10 [16:38<00:00, 99.89s/it] \n",
            "Arena.playGames (2): 100%|██████████| 10/10 [17:47<00:00, 106.77s/it]\n",
            "2024-01-01 19:46:52 c31bf429834c Coach[268] INFO NEW/PREV WINS : 6 / 9 ; DRAWS : 5\n",
            "2024-01-01 19:46:52 c31bf429834c Coach[268] INFO REJECTING NEW MODEL\n",
            "2024-01-01 19:46:54 c31bf429834c Coach[268] INFO Starting Iter #5 ...\n",
            "Self Play: 100%|██████████| 25/25 [30:35<00:00, 73.44s/it]\n"
          ]
        },
        {
          "name": "stdout",
          "output_type": "stream",
          "text": [
            "Checkpoint Directory exists! \n",
            "Epoch 1/10\n",
            "550/550 [==============================] - 87s 156ms/step - loss: 1.5585 - pi_loss: 1.0839 - v_loss: 0.4746\n",
            "Epoch 2/10\n",
            "550/550 [==============================] - 84s 154ms/step - loss: 1.2558 - pi_loss: 0.8486 - v_loss: 0.4072\n",
            "Epoch 3/10\n",
            "550/550 [==============================] - 86s 156ms/step - loss: 1.0747 - pi_loss: 0.7255 - v_loss: 0.3492\n",
            "Epoch 4/10\n",
            "550/550 [==============================] - 85s 155ms/step - loss: 0.9451 - pi_loss: 0.6447 - v_loss: 0.3004\n",
            "Epoch 5/10\n",
            "550/550 [==============================] - 86s 156ms/step - loss: 0.8608 - pi_loss: 0.5926 - v_loss: 0.2681\n",
            "Epoch 6/10\n",
            "550/550 [==============================] - 88s 160ms/step - loss: 0.8045 - pi_loss: 0.5610 - v_loss: 0.2435\n",
            "Epoch 7/10\n",
            "550/550 [==============================] - 84s 153ms/step - loss: 0.7629 - pi_loss: 0.5399 - v_loss: 0.2230\n",
            "Epoch 8/10\n",
            "550/550 [==============================] - 85s 155ms/step - loss: 0.7368 - pi_loss: 0.5284 - v_loss: 0.2084\n",
            "Epoch 9/10\n",
            "550/550 [==============================] - 86s 156ms/step - loss: 0.7104 - pi_loss: 0.5131 - v_loss: 0.1972\n",
            "Epoch 10/10\n",
            "550/550 [==============================] - 86s 156ms/step - loss: 0.6970 - pi_loss: 0.5087 - v_loss: 0.1882\n"
          ]
        },
        {
          "name": "stderr",
          "output_type": "stream",
          "text": [
            "2024-01-01 20:32:01 c31bf429834c Coach[268] INFO PITTING AGAINST PREVIOUS VERSION\n",
            "Arena.playGames (1): 100%|██████████| 10/10 [19:04<00:00, 114.40s/it]\n",
            "Arena.playGames (2): 100%|██████████| 10/10 [17:24<00:00, 104.44s/it]\n",
            "2024-01-01 21:08:29 c31bf429834c Coach[268] INFO NEW/PREV WINS : 5 / 11 ; DRAWS : 4\n",
            "2024-01-01 21:08:29 c31bf429834c Coach[268] INFO REJECTING NEW MODEL\n",
            "2024-01-01 21:08:31 c31bf429834c Coach[268] INFO Starting Iter #6 ...\n",
            "Self Play: 100%|██████████| 25/25 [27:35<00:00, 66.23s/it]\n"
          ]
        },
        {
          "name": "stdout",
          "output_type": "stream",
          "text": [
            "Checkpoint Directory exists! \n",
            "Epoch 1/10\n",
            "661/661 [==============================] - 110s 163ms/step - loss: 1.6507 - pi_loss: 1.1358 - v_loss: 0.5149\n",
            "Epoch 2/10\n",
            "661/661 [==============================] - 105s 159ms/step - loss: 1.3555 - pi_loss: 0.9085 - v_loss: 0.4470\n",
            "Epoch 3/10\n",
            "661/661 [==============================] - 107s 161ms/step - loss: 1.1677 - pi_loss: 0.7763 - v_loss: 0.3914\n",
            "Epoch 4/10\n",
            "661/661 [==============================] - 106s 160ms/step - loss: 1.0281 - pi_loss: 0.6832 - v_loss: 0.3448\n",
            "Epoch 5/10\n",
            "661/661 [==============================] - 106s 161ms/step - loss: 0.9286 - pi_loss: 0.6253 - v_loss: 0.3033\n",
            "Epoch 6/10\n",
            "661/661 [==============================] - 109s 164ms/step - loss: 0.8556 - pi_loss: 0.5805 - v_loss: 0.2751\n",
            "Epoch 7/10\n",
            "661/661 [==============================] - 105s 160ms/step - loss: 0.8086 - pi_loss: 0.5570 - v_loss: 0.2516\n",
            "Epoch 8/10\n",
            "661/661 [==============================] - 106s 160ms/step - loss: 0.7743 - pi_loss: 0.5392 - v_loss: 0.2351\n",
            "Epoch 9/10\n",
            "661/661 [==============================] - 107s 161ms/step - loss: 0.7478 - pi_loss: 0.5257 - v_loss: 0.2221\n",
            "Epoch 10/10\n",
            "661/661 [==============================] - 111s 167ms/step - loss: 0.7272 - pi_loss: 0.5142 - v_loss: 0.2130\n"
          ]
        },
        {
          "name": "stderr",
          "output_type": "stream",
          "text": [
            "2024-01-01 21:54:38 c31bf429834c Coach[268] INFO PITTING AGAINST PREVIOUS VERSION\n",
            "Arena.playGames (1): 100%|██████████| 10/10 [14:48<00:00, 88.85s/it]\n",
            "Arena.playGames (2): 100%|██████████| 10/10 [18:43<00:00, 112.36s/it]\n",
            "2024-01-01 22:28:11 c31bf429834c Coach[268] INFO NEW/PREV WINS : 9 / 7 ; DRAWS : 4\n",
            "2024-01-01 22:28:11 c31bf429834c Coach[268] INFO REJECTING NEW MODEL\n",
            "2024-01-01 22:28:12 c31bf429834c Coach[268] INFO Starting Iter #7 ...\n",
            "Self Play: 100%|██████████| 25/25 [18:36<00:00, 44.67s/it]\n"
          ]
        },
        {
          "name": "stdout",
          "output_type": "stream",
          "text": [
            "Checkpoint Directory exists! \n",
            "Epoch 1/10\n",
            "738/738 [==============================] - 118s 157ms/step - loss: 1.6758 - pi_loss: 1.1554 - v_loss: 0.5204\n",
            "Epoch 2/10\n",
            "738/738 [==============================] - 119s 162ms/step - loss: 1.3990 - pi_loss: 0.9384 - v_loss: 0.4607\n",
            "Epoch 3/10\n",
            "738/738 [==============================] - 117s 158ms/step - loss: 1.2096 - pi_loss: 0.8051 - v_loss: 0.4045\n",
            "Epoch 4/10\n",
            "738/738 [==============================] - 116s 157ms/step - loss: 1.0604 - pi_loss: 0.7074 - v_loss: 0.3530\n",
            "Epoch 5/10\n",
            "738/738 [==============================] - 121s 163ms/step - loss: 0.9652 - pi_loss: 0.6472 - v_loss: 0.3180\n",
            "Epoch 6/10\n",
            "738/738 [==============================] - 120s 162ms/step - loss: 0.8879 - pi_loss: 0.6037 - v_loss: 0.2843\n",
            "Epoch 7/10\n",
            "738/738 [==============================] - 115s 155ms/step - loss: 0.8377 - pi_loss: 0.5723 - v_loss: 0.2654\n",
            "Epoch 8/10\n",
            "738/738 [==============================] - 114s 154ms/step - loss: 0.7984 - pi_loss: 0.5515 - v_loss: 0.2470\n",
            "Epoch 9/10\n",
            "738/738 [==============================] - 115s 156ms/step - loss: 0.7752 - pi_loss: 0.5413 - v_loss: 0.2340\n",
            "Epoch 10/10\n",
            "738/738 [==============================] - 115s 156ms/step - loss: 0.7541 - pi_loss: 0.5305 - v_loss: 0.2236\n"
          ]
        },
        {
          "name": "stderr",
          "output_type": "stream",
          "text": [
            "2024-01-01 23:07:22 c31bf429834c Coach[268] INFO PITTING AGAINST PREVIOUS VERSION\n",
            "Arena.playGames (1): 100%|██████████| 10/10 [15:25<00:00, 92.59s/it]\n",
            "Arena.playGames (2): 100%|██████████| 10/10 [18:15<00:00, 109.56s/it]\n",
            "2024-01-01 23:41:03 c31bf429834c Coach[268] INFO NEW/PREV WINS : 8 / 7 ; DRAWS : 5\n",
            "2024-01-01 23:41:03 c31bf429834c Coach[268] INFO REJECTING NEW MODEL\n",
            "2024-01-01 23:41:05 c31bf429834c Coach[268] INFO Starting Iter #8 ...\n",
            "Self Play: 100%|██████████| 25/25 [19:47<00:00, 47.49s/it]\n"
          ]
        },
        {
          "name": "stdout",
          "output_type": "stream",
          "text": [
            "Checkpoint Directory exists! \n",
            "Epoch 1/10\n",
            "820/820 [==============================] - 135s 163ms/step - loss: 1.7144 - pi_loss: 1.1707 - v_loss: 0.5437\n",
            "Epoch 2/10\n",
            "820/820 [==============================] - 130s 159ms/step - loss: 1.4424 - pi_loss: 0.9563 - v_loss: 0.4861\n",
            "Epoch 3/10\n",
            "820/820 [==============================] - 130s 158ms/step - loss: 1.2559 - pi_loss: 0.8258 - v_loss: 0.4301\n",
            "Epoch 4/10\n",
            "820/820 [==============================] - 131s 159ms/step - loss: 1.1089 - pi_loss: 0.7312 - v_loss: 0.3777\n",
            "Epoch 5/10\n",
            "820/820 [==============================] - 130s 159ms/step - loss: 0.9948 - pi_loss: 0.6610 - v_loss: 0.3338\n",
            "Epoch 6/10\n",
            "820/820 [==============================] - 131s 160ms/step - loss: 0.9171 - pi_loss: 0.6143 - v_loss: 0.3028\n",
            "Epoch 7/10\n",
            "820/820 [==============================] - 133s 162ms/step - loss: 0.8657 - pi_loss: 0.5870 - v_loss: 0.2787\n",
            "Epoch 8/10\n",
            "820/820 [==============================] - 131s 159ms/step - loss: 0.8234 - pi_loss: 0.5643 - v_loss: 0.2591\n",
            "Epoch 9/10\n",
            "820/820 [==============================] - 130s 159ms/step - loss: 0.7952 - pi_loss: 0.5493 - v_loss: 0.2459\n",
            "Epoch 10/10\n",
            "820/820 [==============================] - 131s 160ms/step - loss: 0.7791 - pi_loss: 0.5422 - v_loss: 0.2369\n"
          ]
        },
        {
          "name": "stderr",
          "output_type": "stream",
          "text": [
            "2024-01-02 00:23:27 c31bf429834c Coach[268] INFO PITTING AGAINST PREVIOUS VERSION\n",
            "Arena.playGames (1): 100%|██████████| 10/10 [16:56<00:00, 101.70s/it]\n",
            "Arena.playGames (2): 100%|██████████| 10/10 [16:33<00:00, 99.36s/it]\n",
            "2024-01-02 00:56:57 c31bf429834c Coach[268] INFO NEW/PREV WINS : 9 / 11 ; DRAWS : 0\n",
            "2024-01-02 00:56:57 c31bf429834c Coach[268] INFO REJECTING NEW MODEL\n",
            "2024-01-02 00:56:59 c31bf429834c Coach[268] INFO Starting Iter #9 ...\n",
            "Self Play: 100%|██████████| 25/25 [27:22<00:00, 65.71s/it]\n"
          ]
        },
        {
          "name": "stdout",
          "output_type": "stream",
          "text": [
            "Checkpoint Directory exists! \n",
            "Epoch 1/10\n",
            "930/930 [==============================] - 146s 156ms/step - loss: 1.7368 - pi_loss: 1.1892 - v_loss: 0.5475\n",
            "Epoch 2/10\n",
            "930/930 [==============================] - 145s 156ms/step - loss: 1.4700 - pi_loss: 0.9783 - v_loss: 0.4917\n",
            "Epoch 3/10\n",
            "930/930 [==============================] - 145s 156ms/step - loss: 1.2900 - pi_loss: 0.8527 - v_loss: 0.4373\n",
            "Epoch 4/10\n",
            "930/930 [==============================] - 145s 156ms/step - loss: 1.1387 - pi_loss: 0.7496 - v_loss: 0.3891\n",
            "Epoch 5/10\n",
            "930/930 [==============================] - 143s 153ms/step - loss: 1.0277 - pi_loss: 0.6809 - v_loss: 0.3467\n",
            "Epoch 6/10\n",
            "930/930 [==============================] - 146s 157ms/step - loss: 0.9447 - pi_loss: 0.6298 - v_loss: 0.3148\n",
            "Epoch 7/10\n",
            "389/930 [===========>..................] - ETA: 1:24 - loss: 0.8722 - pi_loss: 0.5908 - v_loss: 0.2814"
          ]
        }
      ],
      "source": [
        "args = dotdict({\n",
        "    'numIters':15,\n",
        "    'numEps': 25,              # Number of complete self-play games to simulate during a new iteration.\n",
        "    'tempThreshold': 15,        #\n",
        "    'updateThreshold': 0.6,     # During arena playoff, new neural net will be accepted if threshold or more of games are won.\n",
        "    'maxlenOfQueue': 50000,    # Number of game examples to train the neural networks.\n",
        "    'numMCTSSims': 25,          # Number of games moves for MCTS to simulate.\n",
        "    'arenaCompare': 20,         # Number of games to play during arena play to determine if new net will be accepted.\n",
        "    'cpuct': 1,\n",
        "\n",
        "    'checkpoint': '/content/drive/MyDrive/trabalho2_liacd/models/ataxx/6x6',\n",
        "    'load_model': True,\n",
        "    'load_folder_file': ('/content/drive/MyDrive/trabalho2_liacd/models/ataxx/6x6', 'best.h5'),\n",
        "    'numItersForTrainExamplesHistory': 20,\n",
        "\n",
        "})\n",
        "\n",
        "log.info('Loading %s...', Game.__name__)\n",
        "g = Game(6)\n",
        "\n",
        "log.info('Loading %s...', nn.__name__)\n",
        "nnet = nn(g)\n",
        "\n",
        "if args.load_model:\n",
        "    log.info('Loading checkpoint \"%s/%s\"...', args.load_folder_file[0], args.load_folder_file[1])\n",
        "    nnet.load_model(args.load_folder_file[0], args.load_folder_file[1])\n",
        "else:\n",
        "    log.warning('Not loading a checkpoint!')\n",
        "\n",
        "log.info('Loading the Coach...')\n",
        "c = Coach(g, nnet, args)\n",
        "\n",
        "if args.load_model:\n",
        "    log.info(\"Loading 'trainExamples' from file...\")\n",
        "    c.loadTrainExamples()\n",
        "\n",
        "log.info('Starting the learning process 🎉')\n",
        "c.learn()\n"
      ]
    },
    {
      "cell_type": "markdown",
      "metadata": {
        "id": "IFedq-TA9w7R"
      },
      "source": [
        "#Décimo Primeiro Treino"
      ]
    },
    {
      "cell_type": "code",
      "execution_count": null,
      "metadata": {
        "colab": {
          "background_save": true,
          "base_uri": "https://localhost:8080/"
        },
        "id": "Mjoh8W6Jkw3p",
        "outputId": "932b5eb0-1ca3-4457-a11f-a6ae73791419"
      },
      "outputs": [
        {
          "name": "stderr",
          "output_type": "stream",
          "text": [
            "2024-01-02 11:37:58 f06a0fc773de __main__[488] INFO Loading AtaxxGame...\n",
            "2024-01-02 11:37:58 f06a0fc773de __main__[488] INFO Loading NNetWrapper...\n",
            "2024-01-02 11:37:58 f06a0fc773de __main__[488] INFO Loading checkpoint \"/content/drive/MyDrive/trabalho2_liacd/models/ataxx/6x6/best.h5\"...\n",
            "2024-01-02 11:38:03 f06a0fc773de __main__[488] INFO Loading the Coach...\n",
            "2024-01-02 11:38:03 f06a0fc773de __main__[488] INFO Loading 'trainExamples' from file...\n",
            "2024-01-02 11:38:03 f06a0fc773de Coach[488] WARNING File \"/content/drive/MyDrive/trabalho2_liacd/models/ataxx/6x6/best.h5.examples\" with trainExamples not found!\n",
            "2024-01-02 11:38:05 f06a0fc773de __main__[488] INFO Starting the learning process 🎉\n",
            "2024-01-02 11:38:05 f06a0fc773de Coach[488] INFO Starting Iter #1 ...\n",
            "Self Play: 100%|██████████| 25/25 [29:08<00:00, 69.93s/it]\n"
          ]
        },
        {
          "name": "stdout",
          "output_type": "stream",
          "text": [
            "Checkpoint Directory exists! \n"
          ]
        },
        {
          "name": "stderr",
          "output_type": "stream",
          "text": [
            "/usr/local/lib/python3.10/dist-packages/keras/src/engine/training.py:3103: UserWarning: You are saving your model as an HDF5 file via `model.save()`. This file format is considered legacy. We recommend using instead the native Keras format, e.g. `model.save('my_model.keras')`.\n",
            "  saving_api.save_model(\n"
          ]
        },
        {
          "name": "stdout",
          "output_type": "stream",
          "text": [
            "Epoch 1/10\n",
            "119/119 [==============================] - 23s 179ms/step - loss: 2.0500 - pi_loss: 1.4677 - v_loss: 0.5823\n",
            "Epoch 2/10\n",
            "119/119 [==============================] - 19s 159ms/step - loss: 1.5167 - pi_loss: 1.0138 - v_loss: 0.5029\n",
            "Epoch 3/10\n",
            "119/119 [==============================] - 19s 157ms/step - loss: 1.2851 - pi_loss: 0.8334 - v_loss: 0.4517\n",
            "Epoch 4/10\n",
            "119/119 [==============================] - 20s 170ms/step - loss: 1.0723 - pi_loss: 0.6855 - v_loss: 0.3868\n",
            "Epoch 5/10\n",
            "119/119 [==============================] - 21s 176ms/step - loss: 0.9396 - pi_loss: 0.6140 - v_loss: 0.3256\n",
            "Epoch 6/10\n",
            "119/119 [==============================] - 25s 208ms/step - loss: 0.8427 - pi_loss: 0.5667 - v_loss: 0.2760\n",
            "Epoch 7/10\n",
            "119/119 [==============================] - 21s 180ms/step - loss: 0.7801 - pi_loss: 0.5400 - v_loss: 0.2401\n",
            "Epoch 8/10\n",
            "119/119 [==============================] - 22s 182ms/step - loss: 0.7380 - pi_loss: 0.5186 - v_loss: 0.2194\n",
            "Epoch 9/10\n",
            "119/119 [==============================] - 20s 164ms/step - loss: 0.6936 - pi_loss: 0.4938 - v_loss: 0.1998\n",
            "Epoch 10/10\n",
            "119/119 [==============================] - 21s 175ms/step - loss: 0.6790 - pi_loss: 0.4911 - v_loss: 0.1879\n"
          ]
        },
        {
          "name": "stderr",
          "output_type": "stream",
          "text": [
            "2024-01-02 12:11:41 f06a0fc773de Coach[488] INFO PITTING AGAINST PREVIOUS VERSION\n",
            "Arena.playGames (1): 100%|██████████| 10/10 [16:21<00:00, 98.19s/it] \n",
            "Arena.playGames (2): 100%|██████████| 10/10 [18:04<00:00, 108.49s/it]\n",
            "2024-01-02 12:46:08 f06a0fc773de Coach[488] INFO NEW/PREV WINS : 6 / 10 ; DRAWS : 4\n",
            "2024-01-02 12:46:08 f06a0fc773de Coach[488] INFO REJECTING NEW MODEL\n",
            "2024-01-02 12:46:10 f06a0fc773de Coach[488] INFO Starting Iter #2 ...\n",
            "Self Play: 100%|██████████| 25/25 [22:30<00:00, 54.01s/it]\n"
          ]
        },
        {
          "name": "stdout",
          "output_type": "stream",
          "text": [
            "Checkpoint Directory exists! \n",
            "Epoch 1/10\n",
            "209/209 [==============================] - 38s 175ms/step - loss: 1.9908 - pi_loss: 1.3944 - v_loss: 0.5964\n",
            "Epoch 2/10\n",
            "209/209 [==============================] - 34s 161ms/step - loss: 1.5594 - pi_loss: 1.0264 - v_loss: 0.5330\n",
            "Epoch 3/10\n",
            "209/209 [==============================] - 33s 159ms/step - loss: 1.3586 - pi_loss: 0.8675 - v_loss: 0.4910\n",
            "Epoch 4/10\n",
            "209/209 [==============================] - 34s 162ms/step - loss: 1.1704 - pi_loss: 0.7376 - v_loss: 0.4328\n",
            "Epoch 5/10\n",
            "209/209 [==============================] - 34s 162ms/step - loss: 1.0384 - pi_loss: 0.6644 - v_loss: 0.3739\n",
            "Epoch 6/10\n",
            "209/209 [==============================] - 33s 160ms/step - loss: 0.9287 - pi_loss: 0.6064 - v_loss: 0.3223\n",
            "Epoch 7/10\n",
            "209/209 [==============================] - 33s 160ms/step - loss: 0.8504 - pi_loss: 0.5696 - v_loss: 0.2809\n",
            "Epoch 8/10\n",
            "209/209 [==============================] - 35s 166ms/step - loss: 0.7989 - pi_loss: 0.5468 - v_loss: 0.2521\n",
            "Epoch 9/10\n",
            "209/209 [==============================] - 35s 167ms/step - loss: 0.7578 - pi_loss: 0.5294 - v_loss: 0.2284\n",
            "Epoch 10/10\n",
            "209/209 [==============================] - 34s 163ms/step - loss: 0.7277 - pi_loss: 0.5141 - v_loss: 0.2136\n"
          ]
        },
        {
          "name": "stderr",
          "output_type": "stream",
          "text": [
            "2024-01-02 13:15:08 f06a0fc773de Coach[488] INFO PITTING AGAINST PREVIOUS VERSION\n",
            "Arena.playGames (1): 100%|██████████| 10/10 [14:55<00:00, 89.55s/it]\n",
            "Arena.playGames (2): 100%|██████████| 10/10 [16:41<00:00, 100.12s/it]\n",
            "2024-01-02 13:46:44 f06a0fc773de Coach[488] INFO NEW/PREV WINS : 5 / 10 ; DRAWS : 5\n",
            "2024-01-02 13:46:44 f06a0fc773de Coach[488] INFO REJECTING NEW MODEL\n",
            "2024-01-02 13:46:47 f06a0fc773de Coach[488] INFO Starting Iter #3 ...\n",
            "Self Play: 100%|██████████| 25/25 [20:29<00:00, 49.19s/it]\n"
          ]
        },
        {
          "name": "stdout",
          "output_type": "stream",
          "text": [
            "Checkpoint Directory exists! \n",
            "Epoch 1/10\n",
            "290/290 [==============================] - 50s 167ms/step - loss: 1.9398 - pi_loss: 1.3429 - v_loss: 0.5969\n",
            "Epoch 2/10\n",
            "290/290 [==============================] - 47s 161ms/step - loss: 1.5832 - pi_loss: 1.0365 - v_loss: 0.5467\n",
            "Epoch 3/10\n",
            "290/290 [==============================] - 47s 161ms/step - loss: 1.3899 - pi_loss: 0.8817 - v_loss: 0.5082\n",
            "Epoch 4/10\n",
            "290/290 [==============================] - 49s 170ms/step - loss: 1.2249 - pi_loss: 0.7720 - v_loss: 0.4530\n",
            "Epoch 5/10\n",
            "290/290 [==============================] - 48s 164ms/step - loss: 1.0831 - pi_loss: 0.6843 - v_loss: 0.3988\n",
            "Epoch 6/10\n",
            "290/290 [==============================] - 47s 164ms/step - loss: 0.9763 - pi_loss: 0.6315 - v_loss: 0.3448\n",
            "Epoch 7/10\n",
            "290/290 [==============================] - 46s 160ms/step - loss: 0.9010 - pi_loss: 0.5940 - v_loss: 0.3070\n",
            "Epoch 8/10\n",
            "290/290 [==============================] - 47s 162ms/step - loss: 0.8490 - pi_loss: 0.5724 - v_loss: 0.2766\n",
            "Epoch 9/10\n",
            "290/290 [==============================] - 47s 164ms/step - loss: 0.8071 - pi_loss: 0.5494 - v_loss: 0.2577\n",
            "Epoch 10/10\n",
            "290/290 [==============================] - 47s 163ms/step - loss: 0.7845 - pi_loss: 0.5435 - v_loss: 0.2410\n"
          ]
        },
        {
          "name": "stderr",
          "output_type": "stream",
          "text": [
            "2024-01-02 14:15:44 f06a0fc773de Coach[488] INFO PITTING AGAINST PREVIOUS VERSION\n",
            "Arena.playGames (1): 100%|██████████| 10/10 [15:34<00:00, 93.47s/it]\n",
            "Arena.playGames (2): 100%|██████████| 10/10 [18:01<00:00, 108.20s/it]\n",
            "2024-01-02 14:49:21 f06a0fc773de Coach[488] INFO NEW/PREV WINS : 6 / 10 ; DRAWS : 4\n",
            "2024-01-02 14:49:21 f06a0fc773de Coach[488] INFO REJECTING NEW MODEL\n",
            "2024-01-02 14:49:23 f06a0fc773de Coach[488] INFO Starting Iter #4 ...\n",
            "Self Play: 100%|██████████| 25/25 [32:28<00:00, 77.94s/it]\n"
          ]
        },
        {
          "name": "stdout",
          "output_type": "stream",
          "text": [
            "Checkpoint Directory exists! \n",
            "Epoch 1/10\n",
            "413/413 [==============================] - 68s 160ms/step - loss: 1.9215 - pi_loss: 1.3238 - v_loss: 0.5977\n",
            "Epoch 2/10\n",
            "413/413 [==============================] - 67s 161ms/step - loss: 1.6010 - pi_loss: 1.0509 - v_loss: 0.5501\n",
            "Epoch 3/10\n",
            "413/413 [==============================] - 67s 162ms/step - loss: 1.4167 - pi_loss: 0.9041 - v_loss: 0.5126\n",
            "Epoch 4/10\n",
            "413/413 [==============================] - 67s 161ms/step - loss: 1.2467 - pi_loss: 0.7833 - v_loss: 0.4633\n",
            "Epoch 5/10\n",
            "413/413 [==============================] - 66s 160ms/step - loss: 1.1090 - pi_loss: 0.6973 - v_loss: 0.4117\n",
            "Epoch 6/10\n",
            "413/413 [==============================] - 68s 165ms/step - loss: 0.9950 - pi_loss: 0.6339 - v_loss: 0.3611\n",
            "Epoch 7/10\n",
            "413/413 [==============================] - 66s 159ms/step - loss: 0.9122 - pi_loss: 0.5934 - v_loss: 0.3188\n",
            "Epoch 8/10\n",
            "413/413 [==============================] - 68s 165ms/step - loss: 0.8540 - pi_loss: 0.5688 - v_loss: 0.2852\n",
            "Epoch 9/10\n",
            "413/413 [==============================] - 66s 161ms/step - loss: 0.8173 - pi_loss: 0.5502 - v_loss: 0.2671\n",
            "Epoch 10/10\n",
            "413/413 [==============================] - 67s 162ms/step - loss: 0.7799 - pi_loss: 0.5340 - v_loss: 0.2460\n"
          ]
        },
        {
          "name": "stderr",
          "output_type": "stream",
          "text": [
            "2024-01-02 15:33:22 f06a0fc773de Coach[488] INFO PITTING AGAINST PREVIOUS VERSION\n",
            "Arena.playGames (1): 100%|██████████| 10/10 [18:45<00:00, 112.50s/it]\n",
            "Arena.playGames (2): 100%|██████████| 10/10 [16:01<00:00, 96.15s/it]\n",
            "2024-01-02 16:08:09 f06a0fc773de Coach[488] INFO NEW/PREV WINS : 10 / 7 ; DRAWS : 3\n",
            "2024-01-02 16:08:09 f06a0fc773de Coach[488] INFO REJECTING NEW MODEL\n",
            "2024-01-02 16:08:11 f06a0fc773de Coach[488] INFO Starting Iter #5 ...\n",
            "Self Play: 100%|██████████| 25/25 [26:19<00:00, 63.17s/it]\n"
          ]
        },
        {
          "name": "stdout",
          "output_type": "stream",
          "text": [
            "Checkpoint Directory exists! \n",
            "Epoch 1/10\n",
            "513/513 [==============================] - 86s 165ms/step - loss: 1.9135 - pi_loss: 1.3231 - v_loss: 0.5904\n",
            "Epoch 2/10\n",
            "513/513 [==============================] - 84s 164ms/step - loss: 1.6108 - pi_loss: 1.0626 - v_loss: 0.5482\n",
            "Epoch 3/10\n",
            "513/513 [==============================] - 86s 167ms/step - loss: 1.4456 - pi_loss: 0.9294 - v_loss: 0.5162\n",
            "Epoch 4/10\n",
            "513/513 [==============================] - 85s 166ms/step - loss: 1.2747 - pi_loss: 0.8074 - v_loss: 0.4673\n",
            "Epoch 5/10\n",
            "513/513 [==============================] - 85s 166ms/step - loss: 1.1330 - pi_loss: 0.7156 - v_loss: 0.4174\n",
            "Epoch 6/10\n",
            "513/513 [==============================] - 84s 164ms/step - loss: 1.0156 - pi_loss: 0.6488 - v_loss: 0.3668\n",
            "Epoch 7/10\n",
            "513/513 [==============================] - 84s 164ms/step - loss: 0.9304 - pi_loss: 0.6065 - v_loss: 0.3239\n",
            "Epoch 8/10\n",
            "513/513 [==============================] - 85s 165ms/step - loss: 0.8710 - pi_loss: 0.5768 - v_loss: 0.2942\n",
            "Epoch 9/10\n",
            "513/513 [==============================] - 85s 165ms/step - loss: 0.8239 - pi_loss: 0.5567 - v_loss: 0.2672\n",
            "Epoch 10/10\n",
            "513/513 [==============================] - 82s 160ms/step - loss: 0.7894 - pi_loss: 0.5382 - v_loss: 0.2512\n"
          ]
        },
        {
          "name": "stderr",
          "output_type": "stream",
          "text": [
            "2024-01-02 16:48:46 f06a0fc773de Coach[488] INFO PITTING AGAINST PREVIOUS VERSION\n",
            "Arena.playGames (1): 100%|██████████| 10/10 [16:55<00:00, 101.50s/it]\n",
            "Arena.playGames (2): 100%|██████████| 10/10 [18:02<00:00, 108.22s/it]\n",
            "2024-01-02 17:23:43 f06a0fc773de Coach[488] INFO NEW/PREV WINS : 9 / 8 ; DRAWS : 3\n",
            "2024-01-02 17:23:43 f06a0fc773de Coach[488] INFO REJECTING NEW MODEL\n",
            "2024-01-02 17:23:45 f06a0fc773de Coach[488] INFO Starting Iter #6 ...\n",
            "Self Play: 100%|██████████| 25/25 [34:25<00:00, 82.62s/it]\n"
          ]
        },
        {
          "name": "stdout",
          "output_type": "stream",
          "text": [
            "Checkpoint Directory exists! \n",
            "Epoch 1/10\n",
            "649/649 [==============================] - 110s 166ms/step - loss: 1.9105 - pi_loss: 1.2988 - v_loss: 0.6118\n",
            "Epoch 2/10\n",
            "649/649 [==============================] - 107s 165ms/step - loss: 1.6251 - pi_loss: 1.0596 - v_loss: 0.5655\n",
            "Epoch 3/10\n",
            "649/649 [==============================] - 110s 170ms/step - loss: 1.4427 - pi_loss: 0.9178 - v_loss: 0.5249\n",
            "Epoch 4/10\n",
            "649/649 [==============================] - 110s 170ms/step - loss: 1.2904 - pi_loss: 0.8147 - v_loss: 0.4756\n",
            "Epoch 5/10\n",
            "649/649 [==============================] - 110s 169ms/step - loss: 1.1466 - pi_loss: 0.7224 - v_loss: 0.4242\n",
            "Epoch 6/10\n",
            "649/649 [==============================] - 111s 172ms/step - loss: 1.0194 - pi_loss: 0.6504 - v_loss: 0.3691\n",
            "Epoch 7/10\n",
            "649/649 [==============================] - 110s 170ms/step - loss: 0.9389 - pi_loss: 0.6095 - v_loss: 0.3294\n",
            "Epoch 8/10\n",
            "649/649 [==============================] - 109s 167ms/step - loss: 0.8731 - pi_loss: 0.5764 - v_loss: 0.2967\n",
            "Epoch 9/10\n",
            "649/649 [==============================] - 111s 170ms/step - loss: 0.8273 - pi_loss: 0.5519 - v_loss: 0.2755\n",
            "Epoch 10/10\n",
            "649/649 [==============================] - 111s 171ms/step - loss: 0.7943 - pi_loss: 0.5368 - v_loss: 0.2574\n"
          ]
        },
        {
          "name": "stderr",
          "output_type": "stream",
          "text": [
            "2024-01-02 18:16:44 f06a0fc773de Coach[488] INFO PITTING AGAINST PREVIOUS VERSION\n",
            "Arena.playGames (1): 100%|██████████| 10/10 [15:45<00:00, 94.56s/it]\n",
            "Arena.playGames (2): 100%|██████████| 10/10 [16:08<00:00, 96.87s/it] \n",
            "2024-01-02 18:48:38 f06a0fc773de Coach[488] INFO NEW/PREV WINS : 8 / 6 ; DRAWS : 6\n",
            "2024-01-02 18:48:38 f06a0fc773de Coach[488] INFO REJECTING NEW MODEL\n",
            "2024-01-02 18:48:41 f06a0fc773de Coach[488] INFO Starting Iter #7 ...\n",
            "Self Play: 100%|██████████| 25/25 [25:54<00:00, 62.19s/it]\n"
          ]
        },
        {
          "name": "stdout",
          "output_type": "stream",
          "text": [
            "Checkpoint Directory exists! \n",
            "Epoch 1/10\n",
            "753/753 [==============================] - 123s 160ms/step - loss: 1.9093 - pi_loss: 1.2991 - v_loss: 0.6102\n",
            "Epoch 2/10\n",
            "753/753 [==============================] - 120s 159ms/step - loss: 1.6369 - pi_loss: 1.0723 - v_loss: 0.5645\n",
            "Epoch 3/10\n",
            "753/753 [==============================] - 119s 158ms/step - loss: 1.4734 - pi_loss: 0.9447 - v_loss: 0.5286\n",
            "Epoch 4/10\n",
            "753/753 [==============================] - 119s 158ms/step - loss: 1.3130 - pi_loss: 0.8303 - v_loss: 0.4827\n",
            "Epoch 5/10\n",
            "753/753 [==============================] - 119s 157ms/step - loss: 1.1639 - pi_loss: 0.7357 - v_loss: 0.4282\n",
            "Epoch 6/10\n",
            "753/753 [==============================] - 118s 157ms/step - loss: 1.0454 - pi_loss: 0.6659 - v_loss: 0.3794\n",
            "Epoch 7/10\n",
            "753/753 [==============================] - 118s 157ms/step - loss: 0.9582 - pi_loss: 0.6188 - v_loss: 0.3394\n",
            "Epoch 8/10\n",
            "753/753 [==============================] - 117s 156ms/step - loss: 0.8897 - pi_loss: 0.5826 - v_loss: 0.3071\n",
            "Epoch 9/10\n",
            "753/753 [==============================] - 119s 158ms/step - loss: 0.8413 - pi_loss: 0.5593 - v_loss: 0.2820\n",
            "Epoch 10/10\n",
            "753/753 [==============================] - 118s 157ms/step - loss: 0.8076 - pi_loss: 0.5443 - v_loss: 0.2633\n"
          ]
        },
        {
          "name": "stderr",
          "output_type": "stream",
          "text": [
            "2024-01-02 19:34:34 f06a0fc773de Coach[488] INFO PITTING AGAINST PREVIOUS VERSION\n",
            "Arena.playGames (1): 100%|██████████| 10/10 [15:19<00:00, 91.94s/it]\n",
            "Arena.playGames (2): 100%|██████████| 10/10 [16:35<00:00, 99.51s/it]\n",
            "2024-01-02 20:06:29 f06a0fc773de Coach[488] INFO NEW/PREV WINS : 4 / 10 ; DRAWS : 6\n",
            "2024-01-02 20:06:29 f06a0fc773de Coach[488] INFO REJECTING NEW MODEL\n",
            "2024-01-02 20:06:31 f06a0fc773de Coach[488] INFO Starting Iter #8 ...\n",
            "Self Play: 100%|██████████| 25/25 [28:26<00:00, 68.26s/it]\n"
          ]
        },
        {
          "name": "stdout",
          "output_type": "stream",
          "text": [
            "Checkpoint Directory exists! \n",
            "Epoch 1/10\n",
            "866/866 [==============================] - 138s 157ms/step - loss: 1.8668 - pi_loss: 1.2793 - v_loss: 0.5875\n",
            "Epoch 2/10\n",
            "866/866 [==============================] - 135s 156ms/step - loss: 1.6177 - pi_loss: 1.0680 - v_loss: 0.5497\n",
            "Epoch 3/10\n",
            "866/866 [==============================] - 136s 157ms/step - loss: 1.4577 - pi_loss: 0.9412 - v_loss: 0.5164\n",
            "Epoch 4/10\n",
            "866/866 [==============================] - 136s 157ms/step - loss: 1.3090 - pi_loss: 0.8307 - v_loss: 0.4783\n",
            "Epoch 5/10\n",
            "866/866 [==============================] - 134s 155ms/step - loss: 1.1708 - pi_loss: 0.7377 - v_loss: 0.4331\n",
            "Epoch 6/10\n",
            "866/866 [==============================] - 137s 158ms/step - loss: 1.0538 - pi_loss: 0.6696 - v_loss: 0.3842\n",
            "Epoch 7/10\n",
            "866/866 [==============================] - 137s 158ms/step - loss: 0.9673 - pi_loss: 0.6202 - v_loss: 0.3472\n",
            "Epoch 8/10\n",
            "866/866 [==============================] - 137s 158ms/step - loss: 0.8947 - pi_loss: 0.5812 - v_loss: 0.3135\n",
            "Epoch 9/10\n",
            "866/866 [==============================] - 138s 159ms/step - loss: 0.8518 - pi_loss: 0.5624 - v_loss: 0.2894\n",
            "Epoch 10/10\n",
            "866/866 [==============================] - 137s 159ms/step - loss: 0.8161 - pi_loss: 0.5450 - v_loss: 0.2711\n"
          ]
        },
        {
          "name": "stderr",
          "output_type": "stream",
          "text": [
            "2024-01-02 20:58:32 f06a0fc773de Coach[488] INFO PITTING AGAINST PREVIOUS VERSION\n",
            "Arena.playGames (1): 100%|██████████| 10/10 [15:56<00:00, 95.63s/it]\n",
            "Arena.playGames (2): 100%|██████████| 10/10 [17:11<00:00, 103.11s/it]\n",
            "2024-01-02 21:31:39 f06a0fc773de Coach[488] INFO NEW/PREV WINS : 8 / 8 ; DRAWS : 4\n",
            "2024-01-02 21:31:39 f06a0fc773de Coach[488] INFO REJECTING NEW MODEL\n",
            "2024-01-02 21:31:41 f06a0fc773de Coach[488] INFO Starting Iter #9 ...\n",
            "Self Play: 100%|██████████| 25/25 [23:05<00:00, 55.40s/it]\n"
          ]
        },
        {
          "name": "stdout",
          "output_type": "stream",
          "text": [
            "Checkpoint Directory exists! \n",
            "Epoch 1/10\n",
            "962/962 [==============================] - 148s 152ms/step - loss: 1.8698 - pi_loss: 1.2791 - v_loss: 0.5907\n",
            "Epoch 2/10\n",
            "962/962 [==============================] - 145s 151ms/step - loss: 1.6219 - pi_loss: 1.0683 - v_loss: 0.5536\n",
            "Epoch 3/10\n",
            "962/962 [==============================] - 145s 151ms/step - loss: 1.4774 - pi_loss: 0.9513 - v_loss: 0.5260\n",
            "Epoch 4/10\n",
            "962/962 [==============================] - 145s 151ms/step - loss: 1.3232 - pi_loss: 0.8389 - v_loss: 0.4843\n",
            "Epoch 5/10\n",
            "962/962 [==============================] - 145s 151ms/step - loss: 1.1850 - pi_loss: 0.7453 - v_loss: 0.4397\n",
            "Epoch 6/10\n",
            "962/962 [==============================] - 145s 151ms/step - loss: 1.0789 - pi_loss: 0.6813 - v_loss: 0.3975\n",
            "Epoch 7/10\n",
            "962/962 [==============================] - 144s 150ms/step - loss: 0.9825 - pi_loss: 0.6294 - v_loss: 0.3531\n",
            "Epoch 8/10\n",
            "962/962 [==============================] - 146s 151ms/step - loss: 0.9154 - pi_loss: 0.5945 - v_loss: 0.3209\n",
            "Epoch 9/10\n",
            "962/962 [==============================] - 146s 151ms/step - loss: 0.8709 - pi_loss: 0.5720 - v_loss: 0.2989\n",
            "Epoch 10/10\n",
            "962/962 [==============================] - 146s 151ms/step - loss: 0.8284 - pi_loss: 0.5511 - v_loss: 0.2773\n"
          ]
        },
        {
          "name": "stderr",
          "output_type": "stream",
          "text": [
            "2024-01-02 22:19:22 f06a0fc773de Coach[488] INFO PITTING AGAINST PREVIOUS VERSION\n",
            "Arena.playGames (1): 100%|██████████| 10/10 [16:44<00:00, 100.45s/it]\n",
            "Arena.playGames (2): 100%|██████████| 10/10 [17:32<00:00, 105.28s/it]\n",
            "2024-01-02 22:53:39 f06a0fc773de Coach[488] INFO NEW/PREV WINS : 9 / 8 ; DRAWS : 3\n",
            "2024-01-02 22:53:39 f06a0fc773de Coach[488] INFO REJECTING NEW MODEL\n",
            "2024-01-02 22:53:41 f06a0fc773de Coach[488] INFO Starting Iter #10 ...\n",
            "Self Play: 100%|██████████| 25/25 [35:22<00:00, 84.91s/it]\n"
          ]
        },
        {
          "name": "stdout",
          "output_type": "stream",
          "text": [
            "Checkpoint Directory exists! \n",
            "Epoch 1/10\n",
            "1104/1104 [==============================] - 178s 160ms/step - loss: 1.8780 - pi_loss: 1.2800 - v_loss: 0.5980\n",
            "Epoch 2/10\n",
            "1104/1104 [==============================] - 192s 174ms/step - loss: 1.6385 - pi_loss: 1.0748 - v_loss: 0.5637\n",
            "Epoch 3/10\n",
            "1104/1104 [==============================] - 183s 166ms/step - loss: 1.4920 - pi_loss: 0.9560 - v_loss: 0.5361\n",
            "Epoch 4/10\n",
            "1104/1104 [==============================] - 171s 155ms/step - loss: 1.3530 - pi_loss: 0.8537 - v_loss: 0.4992\n",
            "Epoch 5/10\n",
            "1104/1104 [==============================] - 173s 157ms/step - loss: 1.2151 - pi_loss: 0.7616 - v_loss: 0.4535\n",
            "Epoch 6/10\n",
            "1104/1104 [==============================] - 171s 155ms/step - loss: 1.1009 - pi_loss: 0.6924 - v_loss: 0.4085\n",
            "Epoch 7/10\n",
            "1104/1104 [==============================] - 181s 164ms/step - loss: 1.0035 - pi_loss: 0.6372 - v_loss: 0.3662\n",
            "Epoch 8/10\n",
            "1104/1104 [==============================] - 172s 156ms/step - loss: 0.9339 - pi_loss: 0.6000 - v_loss: 0.3338\n",
            "Epoch 9/10\n",
            "1104/1104 [==============================] - 175s 158ms/step - loss: 0.8818 - pi_loss: 0.5747 - v_loss: 0.3071\n",
            "Epoch 10/10\n",
            "1104/1104 [==============================] - 174s 158ms/step - loss: 0.8439 - pi_loss: 0.5546 - v_loss: 0.2893\n"
          ]
        },
        {
          "name": "stderr",
          "output_type": "stream",
          "text": [
            "2024-01-02 23:59:42 f06a0fc773de Coach[488] INFO PITTING AGAINST PREVIOUS VERSION\n",
            "Arena.playGames (1): 100%|██████████| 10/10 [15:53<00:00, 95.31s/it]\n",
            "Arena.playGames (2): 100%|██████████| 10/10 [17:20<00:00, 104.06s/it]\n",
            "2024-01-03 00:32:56 f06a0fc773de Coach[488] INFO NEW/PREV WINS : 12 / 6 ; DRAWS : 2\n",
            "2024-01-03 00:32:56 f06a0fc773de Coach[488] INFO ACCEPTING NEW MODEL\n"
          ]
        },
        {
          "name": "stdout",
          "output_type": "stream",
          "text": [
            "Checkpoint Directory exists! \n",
            "Checkpoint Directory exists! \n"
          ]
        },
        {
          "name": "stderr",
          "output_type": "stream",
          "text": [
            "2024-01-03 00:32:59 f06a0fc773de Coach[488] INFO Starting Iter #11 ...\n",
            "Self Play: 100%|██████████| 25/25 [25:57<00:00, 62.31s/it]\n"
          ]
        },
        {
          "name": "stdout",
          "output_type": "stream",
          "text": [
            "Checkpoint Directory exists! \n",
            "Epoch 1/10\n",
            "1212/1212 [==============================] - 190s 157ms/step - loss: 0.9688 - pi_loss: 0.6454 - v_loss: 0.3235\n",
            "Epoch 2/10\n",
            "1212/1212 [==============================] - 188s 155ms/step - loss: 0.8731 - pi_loss: 0.5783 - v_loss: 0.2948\n",
            "Epoch 3/10\n",
            "1212/1212 [==============================] - 187s 155ms/step - loss: 0.8231 - pi_loss: 0.5487 - v_loss: 0.2744\n",
            "Epoch 4/10\n",
            "1212/1212 [==============================] - 192s 159ms/step - loss: 0.7919 - pi_loss: 0.5331 - v_loss: 0.2589\n",
            "Epoch 5/10\n",
            "1212/1212 [==============================] - 186s 154ms/step - loss: 0.7720 - pi_loss: 0.5238 - v_loss: 0.2481\n",
            "Epoch 6/10\n",
            "1212/1212 [==============================] - 189s 156ms/step - loss: 0.7521 - pi_loss: 0.5115 - v_loss: 0.2406\n",
            "Epoch 7/10\n",
            "1212/1212 [==============================] - 192s 158ms/step - loss: 0.7357 - pi_loss: 0.5041 - v_loss: 0.2316\n",
            "Epoch 8/10\n",
            "1212/1212 [==============================] - 191s 158ms/step - loss: 0.7262 - pi_loss: 0.5004 - v_loss: 0.2258\n",
            "Epoch 9/10\n",
            "1212/1212 [==============================] - 191s 158ms/step - loss: 0.7121 - pi_loss: 0.4931 - v_loss: 0.2189\n",
            "Epoch 10/10\n",
            "1212/1212 [==============================] - 192s 158ms/step - loss: 0.7059 - pi_loss: 0.4915 - v_loss: 0.2145\n"
          ]
        },
        {
          "name": "stderr",
          "output_type": "stream",
          "text": [
            "2024-01-03 01:31:41 f06a0fc773de Coach[488] INFO PITTING AGAINST PREVIOUS VERSION\n",
            "Arena.playGames (1):  40%|████      | 4/10 [06:01<09:09, 91.60s/it]"
          ]
        }
      ],
      "source": [
        "args = dotdict({\n",
        "    'numIters':15,\n",
        "    'numEps': 25,              # Number of complete self-play games to simulate during a new iteration.\n",
        "    'tempThreshold': 15,        #\n",
        "    'updateThreshold': 0.6,     # During arena playoff, new neural net will be accepted if threshold or more of games are won.\n",
        "    'maxlenOfQueue': 50000,    # Number of game examples to train the neural networks.\n",
        "    'numMCTSSims': 25,          # Number of games moves for MCTS to simulate.\n",
        "    'arenaCompare': 20,         # Number of games to play during arena play to determine if new net will be accepted.\n",
        "    'cpuct': 1,\n",
        "\n",
        "    'checkpoint': '/content/drive/MyDrive/trabalho2_liacd/models/ataxx/6x6',\n",
        "    'load_model': True,\n",
        "    'load_folder_file': ('/content/drive/MyDrive/trabalho2_liacd/models/ataxx/6x6', 'best.h5'),\n",
        "    'numItersForTrainExamplesHistory': 20,\n",
        "\n",
        "})\n",
        "\n",
        "log.info('Loading %s...', Game.__name__)\n",
        "g = Game(6)\n",
        "\n",
        "log.info('Loading %s...', nn.__name__)\n",
        "nnet = nn(g)\n",
        "\n",
        "if args.load_model:\n",
        "    log.info('Loading checkpoint \"%s/%s\"...', args.load_folder_file[0], args.load_folder_file[1])\n",
        "    nnet.load_model(args.load_folder_file[0], args.load_folder_file[1])\n",
        "else:\n",
        "    log.warning('Not loading a checkpoint!')\n",
        "\n",
        "log.info('Loading the Coach...')\n",
        "c = Coach(g, nnet, args)\n",
        "\n",
        "if args.load_model:\n",
        "    log.info(\"Loading 'trainExamples' from file...\")\n",
        "    c.loadTrainExamples()\n",
        "\n",
        "log.info('Starting the learning process 🎉')\n",
        "c.learn()\n"
      ]
    },
    {
      "cell_type": "markdown",
      "metadata": {
        "id": "MZgFFZssRz0x"
      },
      "source": [
        "#Décimo Segundo Treino"
      ]
    },
    {
      "cell_type": "code",
      "execution_count": null,
      "metadata": {
        "colab": {
          "base_uri": "https://localhost:8080/"
        },
        "id": "OsOEeeRzR2Qw",
        "outputId": "b4bf282f-4ebb-40be-d7c9-b65bebd6fe05"
      },
      "outputs": [
        {
          "name": "stderr",
          "output_type": "stream",
          "text": [
            "2024-01-03 12:25:07 56060a480792 __main__[1183] INFO Loading AtaxxGame...\n",
            "2024-01-03 12:25:07 56060a480792 __main__[1183] INFO Loading NNetWrapper...\n",
            "2024-01-03 12:25:07 56060a480792 __main__[1183] INFO Loading checkpoint \"/content/drive/MyDrive/trabalho2_liacd/models/ataxx/6x6/best.h5\"...\n",
            "2024-01-03 12:25:08 56060a480792 __main__[1183] INFO Loading the Coach...\n",
            "2024-01-03 12:25:08 56060a480792 __main__[1183] INFO Loading 'trainExamples' from file...\n",
            "2024-01-03 12:25:08 56060a480792 Coach[1183] WARNING File \"/content/drive/MyDrive/trabalho2_liacd/models/ataxx/6x6/best.h5.examples\" with trainExamples not found!\n",
            "2024-01-03 12:25:10 56060a480792 __main__[1183] INFO Starting the learning process 🎉\n",
            "2024-01-03 12:25:10 56060a480792 Coach[1183] INFO Starting Iter #1 ...\n",
            "Self Play: 100%|██████████| 25/25 [26:39<00:00, 63.98s/it]\n"
          ]
        },
        {
          "name": "stdout",
          "output_type": "stream",
          "text": [
            "Checkpoint Directory exists! \n"
          ]
        },
        {
          "name": "stderr",
          "output_type": "stream",
          "text": [
            "/usr/local/lib/python3.10/dist-packages/keras/src/engine/training.py:3103: UserWarning: You are saving your model as an HDF5 file via `model.save()`. This file format is considered legacy. We recommend using instead the native Keras format, e.g. `model.save('my_model.keras')`.\n",
            "  saving_api.save_model(\n"
          ]
        },
        {
          "name": "stdout",
          "output_type": "stream",
          "text": [
            "Epoch 1/10\n",
            "106/106 [==============================] - 21s 186ms/step - loss: 2.2963 - pi_loss: 1.5790 - v_loss: 0.7173\n",
            "Epoch 2/10\n",
            "106/106 [==============================] - 21s 203ms/step - loss: 1.7398 - pi_loss: 1.1090 - v_loss: 0.6309\n",
            "Epoch 3/10\n",
            "106/106 [==============================] - 20s 189ms/step - loss: 1.4634 - pi_loss: 0.9169 - v_loss: 0.5465\n",
            "Epoch 4/10\n",
            "106/106 [==============================] - 19s 179ms/step - loss: 1.2333 - pi_loss: 0.7850 - v_loss: 0.4483\n",
            "Epoch 5/10\n",
            "106/106 [==============================] - 20s 188ms/step - loss: 1.0603 - pi_loss: 0.6936 - v_loss: 0.3666\n",
            "Epoch 6/10\n",
            "106/106 [==============================] - 20s 190ms/step - loss: 0.9423 - pi_loss: 0.6306 - v_loss: 0.3118\n",
            "Epoch 7/10\n",
            "106/106 [==============================] - 22s 203ms/step - loss: 0.8677 - pi_loss: 0.5919 - v_loss: 0.2759\n",
            "Epoch 8/10\n",
            "106/106 [==============================] - 19s 180ms/step - loss: 0.8156 - pi_loss: 0.5669 - v_loss: 0.2486\n",
            "Epoch 9/10\n",
            "106/106 [==============================] - 19s 176ms/step - loss: 0.7855 - pi_loss: 0.5521 - v_loss: 0.2335\n",
            "Epoch 10/10\n",
            "106/106 [==============================] - 19s 176ms/step - loss: 0.7569 - pi_loss: 0.5345 - v_loss: 0.2224\n"
          ]
        },
        {
          "name": "stderr",
          "output_type": "stream",
          "text": [
            "2024-01-03 12:55:16 56060a480792 Coach[1183] INFO PITTING AGAINST PREVIOUS VERSION\n",
            "Arena.playGames (1): 100%|██████████| 10/10 [18:25<00:00, 110.60s/it]\n",
            "Arena.playGames (2): 100%|██████████| 10/10 [16:30<00:00, 99.03s/it] \n",
            "2024-01-03 13:30:12 56060a480792 Coach[1183] INFO NEW/PREV WINS : 6 / 7 ; DRAWS : 7\n",
            "2024-01-03 13:30:12 56060a480792 Coach[1183] INFO REJECTING NEW MODEL\n",
            "2024-01-03 13:30:14 56060a480792 Coach[1183] INFO Starting Iter #2 ...\n",
            "Self Play: 100%|██████████| 25/25 [30:40<00:00, 73.62s/it]\n"
          ]
        },
        {
          "name": "stdout",
          "output_type": "stream",
          "text": [
            "Checkpoint Directory exists! \n",
            "Epoch 1/10\n",
            "227/227 [==============================] - 43s 179ms/step - loss: 2.0775 - pi_loss: 1.4496 - v_loss: 0.6279\n",
            "Epoch 2/10\n",
            "227/227 [==============================] - 40s 177ms/step - loss: 1.6778 - pi_loss: 1.1189 - v_loss: 0.5589\n",
            "Epoch 3/10\n",
            "227/227 [==============================] - 40s 177ms/step - loss: 1.4364 - pi_loss: 0.9401 - v_loss: 0.4963\n",
            "Epoch 4/10\n",
            "227/227 [==============================] - 38s 169ms/step - loss: 1.2302 - pi_loss: 0.8036 - v_loss: 0.4266\n",
            "Epoch 5/10\n",
            "227/227 [==============================] - 40s 178ms/step - loss: 1.0663 - pi_loss: 0.7003 - v_loss: 0.3659\n",
            "Epoch 6/10\n",
            "227/227 [==============================] - 40s 178ms/step - loss: 0.9600 - pi_loss: 0.6464 - v_loss: 0.3137\n",
            "Epoch 7/10\n",
            "227/227 [==============================] - 38s 167ms/step - loss: 0.8691 - pi_loss: 0.5906 - v_loss: 0.2785\n",
            "Epoch 8/10\n",
            "227/227 [==============================] - 41s 181ms/step - loss: 0.8115 - pi_loss: 0.5598 - v_loss: 0.2518\n",
            "Epoch 9/10\n",
            "227/227 [==============================] - 39s 174ms/step - loss: 0.7746 - pi_loss: 0.5378 - v_loss: 0.2368\n",
            "Epoch 10/10\n",
            "227/227 [==============================] - 40s 176ms/step - loss: 0.7450 - pi_loss: 0.5213 - v_loss: 0.2237\n"
          ]
        },
        {
          "name": "stderr",
          "output_type": "stream",
          "text": [
            "2024-01-03 14:07:40 56060a480792 Coach[1183] INFO PITTING AGAINST PREVIOUS VERSION\n",
            "Arena.playGames (1): 100%|██████████| 10/10 [18:43<00:00, 112.33s/it]\n",
            "Arena.playGames (2): 100%|██████████| 10/10 [18:55<00:00, 113.57s/it]\n",
            "2024-01-03 14:45:19 56060a480792 Coach[1183] INFO NEW/PREV WINS : 6 / 11 ; DRAWS : 3\n",
            "2024-01-03 14:45:19 56060a480792 Coach[1183] INFO REJECTING NEW MODEL\n",
            "2024-01-03 14:45:20 56060a480792 Coach[1183] INFO Starting Iter #3 ...\n",
            "Self Play: 100%|██████████| 25/25 [25:26<00:00, 61.05s/it]\n"
          ]
        },
        {
          "name": "stdout",
          "output_type": "stream",
          "text": [
            "Checkpoint Directory exists! \n",
            "Epoch 1/10\n",
            "324/324 [==============================] - 59s 177ms/step - loss: 2.0095 - pi_loss: 1.4258 - v_loss: 0.5837\n",
            "Epoch 2/10\n",
            "324/324 [==============================] - 55s 169ms/step - loss: 1.6493 - pi_loss: 1.1257 - v_loss: 0.5236\n",
            "Epoch 3/10\n",
            "324/324 [==============================] - 53s 164ms/step - loss: 1.4335 - pi_loss: 0.9619 - v_loss: 0.4716\n",
            "Epoch 4/10\n",
            "324/324 [==============================] - 55s 170ms/step - loss: 1.2563 - pi_loss: 0.8398 - v_loss: 0.4165\n",
            "Epoch 5/10\n",
            "324/324 [==============================] - 54s 166ms/step - loss: 1.0896 - pi_loss: 0.7348 - v_loss: 0.3548\n",
            "Epoch 6/10\n",
            "324/324 [==============================] - 55s 170ms/step - loss: 0.9721 - pi_loss: 0.6610 - v_loss: 0.3111\n",
            "Epoch 7/10\n",
            "324/324 [==============================] - 55s 168ms/step - loss: 0.8773 - pi_loss: 0.6126 - v_loss: 0.2647\n",
            "Epoch 8/10\n",
            "324/324 [==============================] - 53s 165ms/step - loss: 0.8229 - pi_loss: 0.5762 - v_loss: 0.2467\n",
            "Epoch 9/10\n",
            "324/324 [==============================] - 55s 169ms/step - loss: 0.7855 - pi_loss: 0.5569 - v_loss: 0.2287\n",
            "Epoch 10/10\n",
            "324/324 [==============================] - 54s 168ms/step - loss: 0.7525 - pi_loss: 0.5378 - v_loss: 0.2147\n"
          ]
        },
        {
          "name": "stderr",
          "output_type": "stream",
          "text": [
            "2024-01-03 15:20:15 56060a480792 Coach[1183] INFO PITTING AGAINST PREVIOUS VERSION\n",
            "Arena.playGames (1): 100%|██████████| 10/10 [18:29<00:00, 110.97s/it]\n",
            "Arena.playGames (2): 100%|██████████| 10/10 [18:31<00:00, 111.12s/it]\n",
            "2024-01-03 15:57:16 56060a480792 Coach[1183] INFO NEW/PREV WINS : 7 / 10 ; DRAWS : 3\n",
            "2024-01-03 15:57:16 56060a480792 Coach[1183] INFO REJECTING NEW MODEL\n",
            "2024-01-03 15:57:17 56060a480792 Coach[1183] INFO Starting Iter #4 ...\n",
            "Self Play: 100%|██████████| 25/25 [32:03<00:00, 76.96s/it]\n"
          ]
        },
        {
          "name": "stdout",
          "output_type": "stream",
          "text": [
            "Checkpoint Directory exists! \n",
            "Epoch 1/10\n",
            "444/444 [==============================] - 81s 180ms/step - loss: 2.0059 - pi_loss: 1.3992 - v_loss: 0.6067\n",
            "Epoch 2/10\n",
            "444/444 [==============================] - 79s 177ms/step - loss: 1.6819 - pi_loss: 1.1309 - v_loss: 0.5510\n",
            "Epoch 3/10\n",
            "444/444 [==============================] - 80s 180ms/step - loss: 1.4956 - pi_loss: 0.9950 - v_loss: 0.5005\n",
            "Epoch 4/10\n",
            "444/444 [==============================] - 79s 178ms/step - loss: 1.3161 - pi_loss: 0.8731 - v_loss: 0.4430\n",
            "Epoch 5/10\n",
            "444/444 [==============================] - 79s 179ms/step - loss: 1.1513 - pi_loss: 0.7679 - v_loss: 0.3834\n",
            "Epoch 6/10\n",
            "444/444 [==============================] - 79s 177ms/step - loss: 1.0112 - pi_loss: 0.6831 - v_loss: 0.3282\n",
            "Epoch 7/10\n",
            "444/444 [==============================] - 79s 177ms/step - loss: 0.9210 - pi_loss: 0.6281 - v_loss: 0.2929\n",
            "Epoch 8/10\n",
            "444/444 [==============================] - 79s 179ms/step - loss: 0.8543 - pi_loss: 0.5871 - v_loss: 0.2673\n",
            "Epoch 9/10\n",
            "444/444 [==============================] - 80s 180ms/step - loss: 0.8018 - pi_loss: 0.5593 - v_loss: 0.2426\n",
            "Epoch 10/10\n",
            "444/444 [==============================] - 79s 178ms/step - loss: 0.7679 - pi_loss: 0.5397 - v_loss: 0.2282\n"
          ]
        },
        {
          "name": "stderr",
          "output_type": "stream",
          "text": [
            "2024-01-03 16:42:52 56060a480792 Coach[1183] INFO PITTING AGAINST PREVIOUS VERSION\n",
            "Arena.playGames (1): 100%|██████████| 10/10 [16:58<00:00, 101.82s/it]\n",
            "Arena.playGames (2): 100%|██████████| 10/10 [19:00<00:00, 114.03s/it]\n",
            "2024-01-03 17:18:50 56060a480792 Coach[1183] INFO NEW/PREV WINS : 7 / 4 ; DRAWS : 9\n",
            "2024-01-03 17:18:50 56060a480792 Coach[1183] INFO ACCEPTING NEW MODEL\n"
          ]
        },
        {
          "name": "stdout",
          "output_type": "stream",
          "text": [
            "Checkpoint Directory exists! \n",
            "Checkpoint Directory exists! \n"
          ]
        },
        {
          "name": "stderr",
          "output_type": "stream",
          "text": [
            "2024-01-03 17:18:52 56060a480792 Coach[1183] INFO Starting Iter #5 ...\n",
            "Self Play: 100%|██████████| 25/25 [30:21<00:00, 72.87s/it]\n"
          ]
        },
        {
          "name": "stdout",
          "output_type": "stream",
          "text": [
            "Checkpoint Directory exists! \n",
            "Epoch 1/10\n",
            "558/558 [==============================] - 100s 179ms/step - loss: 1.0686 - pi_loss: 0.7499 - v_loss: 0.3186\n",
            "Epoch 2/10\n",
            "558/558 [==============================] - 101s 181ms/step - loss: 0.8938 - pi_loss: 0.6173 - v_loss: 0.2765\n",
            "Epoch 3/10\n",
            "558/558 [==============================] - 99s 177ms/step - loss: 0.8131 - pi_loss: 0.5664 - v_loss: 0.2467\n",
            "Epoch 4/10\n",
            "558/558 [==============================] - 101s 181ms/step - loss: 0.7664 - pi_loss: 0.5375 - v_loss: 0.2288\n",
            "Epoch 5/10\n",
            "558/558 [==============================] - 98s 177ms/step - loss: 0.7317 - pi_loss: 0.5182 - v_loss: 0.2136\n",
            "Epoch 6/10\n",
            "558/558 [==============================] - 100s 180ms/step - loss: 0.7132 - pi_loss: 0.5087 - v_loss: 0.2045\n",
            "Epoch 7/10\n",
            "558/558 [==============================] - 100s 179ms/step - loss: 0.6870 - pi_loss: 0.4928 - v_loss: 0.1942\n",
            "Epoch 8/10\n",
            " 51/558 [=>............................] - ETA: 1:41 - loss: 0.6869 - pi_loss: 0.5025 - v_loss: 0.1844"
          ]
        }
      ],
      "source": [
        "args = dotdict({\n",
        "    'numIters':15,\n",
        "    'numEps': 25,              # Number of complete self-play games to simulate during a new iteration.\n",
        "    'tempThreshold': 15,        #\n",
        "    'updateThreshold': 0.6,     # During arena playoff, new neural net will be accepted if threshold or more of games are won.\n",
        "    'maxlenOfQueue': 50000,    # Number of game examples to train the neural networks.\n",
        "    'numMCTSSims': 25,          # Number of games moves for MCTS to simulate.\n",
        "    'arenaCompare': 20,         # Number of games to play during arena play to determine if new net will be accepted.\n",
        "    'cpuct': 1,\n",
        "\n",
        "    'checkpoint': '/content/drive/MyDrive/trabalho2_liacd/models/ataxx/6x6',\n",
        "    'load_model': True,\n",
        "    'load_folder_file': ('/content/drive/MyDrive/trabalho2_liacd/models/ataxx/6x6', 'best.h5'),\n",
        "    'numItersForTrainExamplesHistory': 20,\n",
        "\n",
        "})\n",
        "\n",
        "log.info('Loading %s...', Game.__name__)\n",
        "g = Game(6)\n",
        "\n",
        "log.info('Loading %s...', nn.__name__)\n",
        "nnet = nn(g)\n",
        "\n",
        "if args.load_model:\n",
        "    log.info('Loading checkpoint \"%s/%s\"...', args.load_folder_file[0], args.load_folder_file[1])\n",
        "    nnet.load_model(args.load_folder_file[0], args.load_folder_file[1])\n",
        "else:\n",
        "    log.warning('Not loading a checkpoint!')\n",
        "\n",
        "log.info('Loading the Coach...')\n",
        "c = Coach(g, nnet, args)\n",
        "\n",
        "if args.load_model:\n",
        "    log.info(\"Loading 'trainExamples' from file...\")\n",
        "    c.loadTrainExamples()\n",
        "\n",
        "log.info('Starting the learning process 🎉')\n",
        "c.learn()\n"
      ]
    },
    {
      "cell_type": "markdown",
      "metadata": {
        "id": "GmZCeCRaEgXz"
      },
      "source": [
        "#Décimo Terceiro Treino"
      ]
    },
    {
      "cell_type": "code",
      "execution_count": null,
      "metadata": {
        "colab": {
          "background_save": true,
          "base_uri": "https://localhost:8080/"
        },
        "id": "IKXKFrrcEiJx",
        "outputId": "83439c67-53d7-4743-dc5b-ed2bab240e18"
      },
      "outputs": [
        {
          "name": "stderr",
          "output_type": "stream",
          "text": [
            "2024-01-04 15:23:09 bfa26197d190 __main__[513] INFO Loading AtaxxGame...\n",
            "2024-01-04 15:23:09 bfa26197d190 __main__[513] INFO Loading NNetWrapper...\n",
            "2024-01-04 15:23:10 bfa26197d190 __main__[513] INFO Loading checkpoint \"/content/drive/MyDrive/trabalho2_liacd/models/ataxx/6x6/best.h5\"...\n",
            "2024-01-04 15:23:12 bfa26197d190 __main__[513] INFO Loading the Coach...\n",
            "2024-01-04 15:23:13 bfa26197d190 __main__[513] INFO Loading 'trainExamples' from file...\n",
            "2024-01-04 15:23:13 bfa26197d190 Coach[513] WARNING File \"/content/drive/MyDrive/trabalho2_liacd/models/ataxx/6x6/best.h5.examples\" with trainExamples not found!\n",
            "2024-01-04 15:23:15 bfa26197d190 __main__[513] INFO Starting the learning process 🎉\n",
            "2024-01-04 15:23:15 bfa26197d190 Coach[513] INFO Starting Iter #1 ...\n",
            "Self Play: 100%|██████████| 25/25 [30:51<00:00, 74.08s/it]\n"
          ]
        },
        {
          "name": "stdout",
          "output_type": "stream",
          "text": [
            "Checkpoint Directory exists! \n"
          ]
        },
        {
          "name": "stderr",
          "output_type": "stream",
          "text": [
            "/usr/local/lib/python3.10/dist-packages/keras/src/engine/training.py:3103: UserWarning: You are saving your model as an HDF5 file via `model.save()`. This file format is considered legacy. We recommend using instead the native Keras format, e.g. `model.save('my_model.keras')`.\n",
            "  saving_api.save_model(\n"
          ]
        },
        {
          "name": "stdout",
          "output_type": "stream",
          "text": [
            "Epoch 1/10\n",
            "114/114 [==============================] - 26s 205ms/step - loss: 2.0161 - pi_loss: 1.5055 - v_loss: 0.5107\n",
            "Epoch 2/10\n",
            "114/114 [==============================] - 22s 189ms/step - loss: 1.4394 - pi_loss: 1.0125 - v_loss: 0.4269\n",
            "Epoch 3/10\n",
            "114/114 [==============================] - 24s 215ms/step - loss: 1.1885 - pi_loss: 0.8014 - v_loss: 0.3871\n",
            "Epoch 4/10\n",
            "114/114 [==============================] - 22s 196ms/step - loss: 1.0313 - pi_loss: 0.6899 - v_loss: 0.3414\n",
            "Epoch 5/10\n",
            "114/114 [==============================] - 23s 202ms/step - loss: 0.9108 - pi_loss: 0.6110 - v_loss: 0.2998\n",
            "Epoch 6/10\n",
            "114/114 [==============================] - 22s 197ms/step - loss: 0.8253 - pi_loss: 0.5662 - v_loss: 0.2591\n",
            "Epoch 7/10\n",
            "114/114 [==============================] - 20s 179ms/step - loss: 0.7603 - pi_loss: 0.5287 - v_loss: 0.2316\n",
            "Epoch 8/10\n",
            "114/114 [==============================] - 21s 186ms/step - loss: 0.7139 - pi_loss: 0.5065 - v_loss: 0.2074\n",
            "Epoch 9/10\n",
            "114/114 [==============================] - 24s 214ms/step - loss: 0.6913 - pi_loss: 0.4964 - v_loss: 0.1949\n",
            "Epoch 10/10\n",
            "114/114 [==============================] - 21s 187ms/step - loss: 0.6663 - pi_loss: 0.4893 - v_loss: 0.1770\n"
          ]
        },
        {
          "name": "stderr",
          "output_type": "stream",
          "text": [
            "2024-01-04 15:58:34 bfa26197d190 Coach[513] INFO PITTING AGAINST PREVIOUS VERSION\n",
            "Arena.playGames (1): 100%|██████████| 10/10 [17:56<00:00, 107.65s/it]\n",
            "Arena.playGames (2): 100%|██████████| 10/10 [20:06<00:00, 120.63s/it]\n",
            "2024-01-04 16:36:36 bfa26197d190 Coach[513] INFO NEW/PREV WINS : 5 / 6 ; DRAWS : 9\n",
            "2024-01-04 16:36:36 bfa26197d190 Coach[513] INFO REJECTING NEW MODEL\n",
            "2024-01-04 16:36:38 bfa26197d190 Coach[513] INFO Starting Iter #2 ...\n",
            "Self Play: 100%|██████████| 25/25 [28:51<00:00, 69.27s/it]\n"
          ]
        },
        {
          "name": "stdout",
          "output_type": "stream",
          "text": [
            "Checkpoint Directory exists! \n",
            "Epoch 1/10\n",
            "212/212 [==============================] - 45s 202ms/step - loss: 2.0172 - pi_loss: 1.3959 - v_loss: 0.6213\n",
            "Epoch 2/10\n",
            "212/212 [==============================] - 42s 200ms/step - loss: 1.5690 - pi_loss: 1.0138 - v_loss: 0.5552\n",
            "Epoch 3/10\n",
            "212/212 [==============================] - 42s 196ms/step - loss: 1.3511 - pi_loss: 0.8411 - v_loss: 0.5100\n",
            "Epoch 4/10\n",
            "212/212 [==============================] - 45s 213ms/step - loss: 1.1766 - pi_loss: 0.7285 - v_loss: 0.4481\n",
            "Epoch 5/10\n",
            "212/212 [==============================] - 40s 190ms/step - loss: 1.0488 - pi_loss: 0.6531 - v_loss: 0.3957\n",
            "Epoch 6/10\n",
            "212/212 [==============================] - 44s 206ms/step - loss: 0.9371 - pi_loss: 0.5985 - v_loss: 0.3386\n",
            "Epoch 7/10\n",
            "212/212 [==============================] - 41s 194ms/step - loss: 0.8673 - pi_loss: 0.5635 - v_loss: 0.3038\n",
            "Epoch 8/10\n",
            "212/212 [==============================] - 44s 206ms/step - loss: 0.8098 - pi_loss: 0.5418 - v_loss: 0.2680\n",
            "Epoch 9/10\n",
            "212/212 [==============================] - 41s 195ms/step - loss: 0.7686 - pi_loss: 0.5240 - v_loss: 0.2445\n",
            "Epoch 10/10\n",
            "212/212 [==============================] - 43s 203ms/step - loss: 0.7371 - pi_loss: 0.5090 - v_loss: 0.2281\n"
          ]
        },
        {
          "name": "stderr",
          "output_type": "stream",
          "text": [
            "2024-01-04 17:12:41 bfa26197d190 Coach[513] INFO PITTING AGAINST PREVIOUS VERSION\n",
            "Arena.playGames (1): 100%|██████████| 10/10 [20:21<00:00, 122.18s/it]\n",
            "Arena.playGames (2): 100%|██████████| 10/10 [18:47<00:00, 112.71s/it]\n",
            "2024-01-04 17:51:50 bfa26197d190 Coach[513] INFO NEW/PREV WINS : 9 / 7 ; DRAWS : 4\n",
            "2024-01-04 17:51:50 bfa26197d190 Coach[513] INFO REJECTING NEW MODEL\n",
            "2024-01-04 17:51:51 bfa26197d190 Coach[513] INFO Starting Iter #3 ...\n",
            "Self Play: 100%|██████████| 25/25 [32:17<00:00, 77.49s/it]\n"
          ]
        },
        {
          "name": "stdout",
          "output_type": "stream",
          "text": [
            "Checkpoint Directory exists! \n",
            "Epoch 1/10\n",
            "320/320 [==============================] - 67s 203ms/step - loss: 2.0114 - pi_loss: 1.3692 - v_loss: 0.6423\n",
            "Epoch 2/10\n",
            "320/320 [==============================] - 72s 226ms/step - loss: 1.6151 - pi_loss: 1.0420 - v_loss: 0.5731\n",
            "Epoch 3/10\n",
            "320/320 [==============================] - 63s 197ms/step - loss: 1.4076 - pi_loss: 0.8810 - v_loss: 0.5266\n",
            "Epoch 4/10\n",
            "320/320 [==============================] - 66s 205ms/step - loss: 1.2297 - pi_loss: 0.7603 - v_loss: 0.4695\n",
            "Epoch 5/10\n",
            "320/320 [==============================] - 65s 203ms/step - loss: 1.0768 - pi_loss: 0.6679 - v_loss: 0.4090\n",
            "Epoch 6/10\n",
            "320/320 [==============================] - 66s 206ms/step - loss: 0.9776 - pi_loss: 0.6180 - v_loss: 0.3596\n",
            "Epoch 7/10\n",
            "320/320 [==============================] - 65s 204ms/step - loss: 0.8927 - pi_loss: 0.5784 - v_loss: 0.3143\n",
            "Epoch 8/10\n",
            "320/320 [==============================] - 62s 194ms/step - loss: 0.8329 - pi_loss: 0.5482 - v_loss: 0.2848\n",
            "Epoch 9/10\n",
            "320/320 [==============================] - 64s 199ms/step - loss: 0.7907 - pi_loss: 0.5327 - v_loss: 0.2580\n",
            "Epoch 10/10\n",
            "320/320 [==============================] - 64s 201ms/step - loss: 0.7489 - pi_loss: 0.5148 - v_loss: 0.2341\n"
          ]
        },
        {
          "name": "stderr",
          "output_type": "stream",
          "text": [
            "2024-01-04 18:35:37 bfa26197d190 Coach[513] INFO PITTING AGAINST PREVIOUS VERSION\n",
            "Arena.playGames (1): 100%|██████████| 10/10 [19:58<00:00, 119.90s/it]\n",
            "Arena.playGames (2): 100%|██████████| 10/10 [19:33<00:00, 117.37s/it]\n",
            "2024-01-04 19:15:10 bfa26197d190 Coach[513] INFO NEW/PREV WINS : 12 / 6 ; DRAWS : 2\n",
            "2024-01-04 19:15:10 bfa26197d190 Coach[513] INFO ACCEPTING NEW MODEL\n"
          ]
        },
        {
          "name": "stdout",
          "output_type": "stream",
          "text": [
            "Checkpoint Directory exists! \n",
            "Checkpoint Directory exists! \n"
          ]
        },
        {
          "name": "stderr",
          "output_type": "stream",
          "text": [
            "2024-01-04 19:15:11 bfa26197d190 Coach[513] INFO Starting Iter #4 ...\n",
            "Self Play: 100%|██████████| 25/25 [34:24<00:00, 82.60s/it]\n"
          ]
        },
        {
          "name": "stdout",
          "output_type": "stream",
          "text": [
            "Checkpoint Directory exists! \n",
            "Epoch 1/10\n",
            "446/446 [==============================] - 90s 203ms/step - loss: 1.2139 - pi_loss: 0.8572 - v_loss: 0.3567\n",
            "Epoch 2/10\n",
            "446/446 [==============================] - 88s 197ms/step - loss: 0.9832 - pi_loss: 0.6851 - v_loss: 0.2982\n",
            "Epoch 3/10\n",
            "446/446 [==============================] - 89s 198ms/step - loss: 0.8763 - pi_loss: 0.6106 - v_loss: 0.2657\n",
            "Epoch 4/10\n",
            "446/446 [==============================] - 89s 199ms/step - loss: 0.7994 - pi_loss: 0.5631 - v_loss: 0.2362\n",
            "Epoch 5/10\n",
            "446/446 [==============================] - 87s 196ms/step - loss: 0.7642 - pi_loss: 0.5413 - v_loss: 0.2229\n",
            "Epoch 6/10\n",
            "446/446 [==============================] - 86s 193ms/step - loss: 0.7354 - pi_loss: 0.5245 - v_loss: 0.2110\n",
            "Epoch 7/10\n",
            "446/446 [==============================] - 87s 195ms/step - loss: 0.7084 - pi_loss: 0.5086 - v_loss: 0.1999\n",
            "Epoch 8/10\n",
            "446/446 [==============================] - 86s 192ms/step - loss: 0.6902 - pi_loss: 0.4995 - v_loss: 0.1907\n",
            "Epoch 9/10\n",
            "446/446 [==============================] - 88s 197ms/step - loss: 0.6772 - pi_loss: 0.4913 - v_loss: 0.1858\n",
            "Epoch 10/10\n",
            "446/446 [==============================] - 88s 198ms/step - loss: 0.6697 - pi_loss: 0.4909 - v_loss: 0.1788\n"
          ]
        },
        {
          "name": "stderr",
          "output_type": "stream",
          "text": [
            "2024-01-04 20:04:23 bfa26197d190 Coach[513] INFO PITTING AGAINST PREVIOUS VERSION\n",
            "Arena.playGames (1): 100%|██████████| 10/10 [17:09<00:00, 102.96s/it]\n",
            "Arena.playGames (2): 100%|██████████| 10/10 [17:25<00:00, 104.60s/it]\n",
            "2024-01-04 20:38:58 bfa26197d190 Coach[513] INFO NEW/PREV WINS : 8 / 10 ; DRAWS : 2\n",
            "2024-01-04 20:38:58 bfa26197d190 Coach[513] INFO REJECTING NEW MODEL\n",
            "2024-01-04 20:39:00 bfa26197d190 Coach[513] INFO Starting Iter #5 ...\n",
            "Self Play: 100%|██████████| 25/25 [27:38<00:00, 66.33s/it]\n"
          ]
        },
        {
          "name": "stdout",
          "output_type": "stream",
          "text": [
            "Checkpoint Directory exists! \n",
            "Epoch 1/10\n",
            "546/546 [==============================] - 104s 187ms/step - loss: 1.3953 - pi_loss: 0.9812 - v_loss: 0.4141\n",
            "Epoch 2/10\n",
            "546/546 [==============================] - 97s 177ms/step - loss: 1.1323 - pi_loss: 0.7851 - v_loss: 0.3471\n",
            "Epoch 3/10\n",
            "546/546 [==============================] - 96s 176ms/step - loss: 0.9924 - pi_loss: 0.6924 - v_loss: 0.3000\n",
            "Epoch 4/10\n",
            "546/546 [==============================] - 97s 178ms/step - loss: 0.8893 - pi_loss: 0.6223 - v_loss: 0.2671\n",
            "Epoch 5/10\n",
            "546/546 [==============================] - 97s 177ms/step - loss: 0.8344 - pi_loss: 0.5877 - v_loss: 0.2467\n",
            "Epoch 6/10\n",
            "546/546 [==============================] - 98s 180ms/step - loss: 0.7866 - pi_loss: 0.5563 - v_loss: 0.2303\n",
            "Epoch 7/10\n",
            "546/546 [==============================] - 98s 180ms/step - loss: 0.7550 - pi_loss: 0.5385 - v_loss: 0.2165\n",
            "Epoch 8/10\n",
            "546/546 [==============================] - 97s 178ms/step - loss: 0.7349 - pi_loss: 0.5275 - v_loss: 0.2075\n",
            "Epoch 9/10\n",
            "546/546 [==============================] - 101s 185ms/step - loss: 0.7136 - pi_loss: 0.5146 - v_loss: 0.1990\n",
            "Epoch 10/10\n",
            "546/546 [==============================] - 98s 180ms/step - loss: 0.6998 - pi_loss: 0.5084 - v_loss: 0.1914\n"
          ]
        },
        {
          "name": "stderr",
          "output_type": "stream",
          "text": [
            "2024-01-04 21:23:09 bfa26197d190 Coach[513] INFO PITTING AGAINST PREVIOUS VERSION\n",
            "Arena.playGames (1): 100%|██████████| 10/10 [17:11<00:00, 103.11s/it]\n",
            "Arena.playGames (2): 100%|██████████| 10/10 [17:17<00:00, 103.71s/it]\n",
            "2024-01-04 21:57:37 bfa26197d190 Coach[513] INFO NEW/PREV WINS : 6 / 7 ; DRAWS : 7\n",
            "2024-01-04 21:57:37 bfa26197d190 Coach[513] INFO REJECTING NEW MODEL\n",
            "2024-01-04 21:57:39 bfa26197d190 Coach[513] INFO Starting Iter #6 ...\n",
            "Self Play: 100%|██████████| 25/25 [35:05<00:00, 84.21s/it]\n"
          ]
        },
        {
          "name": "stdout",
          "output_type": "stream",
          "text": [
            "Checkpoint Directory exists! \n",
            "Epoch 1/10\n",
            "675/675 [==============================] - 119s 174ms/step - loss: 1.4932 - pi_loss: 1.0620 - v_loss: 0.4312\n",
            "Epoch 2/10\n",
            "675/675 [==============================] - 116s 172ms/step - loss: 1.2259 - pi_loss: 0.8611 - v_loss: 0.3648\n",
            "Epoch 3/10\n",
            "675/675 [==============================] - 117s 173ms/step - loss: 1.0609 - pi_loss: 0.7444 - v_loss: 0.3165\n",
            "Epoch 4/10\n",
            "675/675 [==============================] - 116s 172ms/step - loss: 0.9471 - pi_loss: 0.6630 - v_loss: 0.2841\n",
            "Epoch 5/10\n",
            "675/675 [==============================] - 118s 175ms/step - loss: 0.8683 - pi_loss: 0.6113 - v_loss: 0.2571\n",
            "Epoch 6/10\n",
            "675/675 [==============================] - 118s 175ms/step - loss: 0.8144 - pi_loss: 0.5776 - v_loss: 0.2368\n",
            "Epoch 7/10\n",
            "675/675 [==============================] - 115s 171ms/step - loss: 0.7783 - pi_loss: 0.5533 - v_loss: 0.2251\n",
            "Epoch 8/10\n",
            "675/675 [==============================] - 117s 174ms/step - loss: 0.7448 - pi_loss: 0.5325 - v_loss: 0.2123\n",
            "Epoch 9/10\n",
            "675/675 [==============================] - 118s 175ms/step - loss: 0.7261 - pi_loss: 0.5225 - v_loss: 0.2036\n",
            "Epoch 10/10\n",
            "675/675 [==============================] - 116s 172ms/step - loss: 0.7067 - pi_loss: 0.5126 - v_loss: 0.1940\n"
          ]
        },
        {
          "name": "stderr",
          "output_type": "stream",
          "text": [
            "2024-01-04 22:52:25 bfa26197d190 Coach[513] INFO PITTING AGAINST PREVIOUS VERSION\n",
            "Arena.playGames (1): 100%|██████████| 10/10 [17:16<00:00, 103.65s/it]\n",
            "Arena.playGames (2): 100%|██████████| 10/10 [15:06<00:00, 90.61s/it]\n",
            "2024-01-04 23:24:48 bfa26197d190 Coach[513] INFO NEW/PREV WINS : 7 / 8 ; DRAWS : 5\n",
            "2024-01-04 23:24:48 bfa26197d190 Coach[513] INFO REJECTING NEW MODEL\n",
            "2024-01-04 23:24:49 bfa26197d190 Coach[513] INFO Starting Iter #7 ...\n",
            "Self Play: 100%|██████████| 25/25 [32:25<00:00, 77.82s/it]\n"
          ]
        },
        {
          "name": "stdout",
          "output_type": "stream",
          "text": [
            "Checkpoint Directory exists! \n",
            "Epoch 1/10\n",
            "794/794 [==============================] - 143s 178ms/step - loss: 1.5918 - pi_loss: 1.1197 - v_loss: 0.4721\n",
            "Epoch 2/10\n",
            "794/794 [==============================] - 140s 177ms/step - loss: 1.3186 - pi_loss: 0.9133 - v_loss: 0.4053\n",
            "Epoch 3/10\n",
            "794/794 [==============================] - 140s 177ms/step - loss: 1.1500 - pi_loss: 0.7967 - v_loss: 0.3533\n",
            "Epoch 4/10\n",
            "794/794 [==============================] - 143s 180ms/step - loss: 1.0211 - pi_loss: 0.7085 - v_loss: 0.3126\n",
            "Epoch 5/10\n",
            "794/794 [==============================] - 139s 175ms/step - loss: 0.9217 - pi_loss: 0.6419 - v_loss: 0.2798\n",
            "Epoch 6/10\n",
            "794/794 [==============================] - 140s 177ms/step - loss: 0.8588 - pi_loss: 0.5987 - v_loss: 0.2601\n",
            "Epoch 7/10\n",
            "794/794 [==============================] - 145s 182ms/step - loss: 0.8152 - pi_loss: 0.5709 - v_loss: 0.2443\n",
            "Epoch 8/10\n",
            "794/794 [==============================] - 142s 179ms/step - loss: 0.7791 - pi_loss: 0.5529 - v_loss: 0.2262\n",
            "Epoch 9/10\n",
            "794/794 [==============================] - 144s 182ms/step - loss: 0.7534 - pi_loss: 0.5348 - v_loss: 0.2186\n",
            "Epoch 10/10\n",
            "794/794 [==============================] - 141s 178ms/step - loss: 0.7294 - pi_loss: 0.5227 - v_loss: 0.2067\n"
          ]
        },
        {
          "name": "stderr",
          "output_type": "stream",
          "text": [
            "2024-01-05 00:21:49 bfa26197d190 Coach[513] INFO PITTING AGAINST PREVIOUS VERSION\n",
            "Arena.playGames (1): 100%|██████████| 10/10 [17:38<00:00, 105.87s/it]\n",
            "Arena.playGames (2): 100%|██████████| 10/10 [18:44<00:00, 112.41s/it]\n",
            "2024-01-05 00:58:12 bfa26197d190 Coach[513] INFO NEW/PREV WINS : 10 / 7 ; DRAWS : 3\n",
            "2024-01-05 00:58:12 bfa26197d190 Coach[513] INFO REJECTING NEW MODEL\n",
            "2024-01-05 00:58:13 bfa26197d190 Coach[513] INFO Starting Iter #8 ...\n",
            "Self Play: 100%|██████████| 25/25 [31:14<00:00, 74.97s/it]\n"
          ]
        },
        {
          "name": "stdout",
          "output_type": "stream",
          "text": [
            "Checkpoint Directory exists! \n",
            "Epoch 1/10\n",
            "908/908 [==============================] - 157s 171ms/step - loss: 1.6494 - pi_loss: 1.1519 - v_loss: 0.4975\n",
            "Epoch 2/10\n",
            "908/908 [==============================] - 154s 169ms/step - loss: 1.3859 - pi_loss: 0.9532 - v_loss: 0.4327\n",
            "Epoch 3/10\n",
            "908/908 [==============================] - 155s 171ms/step - loss: 1.2107 - pi_loss: 0.8300 - v_loss: 0.3806\n",
            "Epoch 4/10\n",
            "908/908 [==============================] - 155s 170ms/step - loss: 1.0733 - pi_loss: 0.7366 - v_loss: 0.3367\n",
            "Epoch 5/10\n",
            "908/908 [==============================] - 153s 168ms/step - loss: 0.9686 - pi_loss: 0.6657 - v_loss: 0.3029\n",
            "Epoch 6/10\n",
            "908/908 [==============================] - 154s 170ms/step - loss: 0.8950 - pi_loss: 0.6170 - v_loss: 0.2780\n",
            "Epoch 7/10\n",
            "908/908 [==============================] - 154s 169ms/step - loss: 0.8521 - pi_loss: 0.5918 - v_loss: 0.2603\n",
            "Epoch 8/10\n",
            "908/908 [==============================] - 153s 168ms/step - loss: 0.8064 - pi_loss: 0.5619 - v_loss: 0.2445\n",
            "Epoch 9/10\n",
            "908/908 [==============================] - 154s 170ms/step - loss: 0.7796 - pi_loss: 0.5493 - v_loss: 0.2303\n",
            "Epoch 10/10\n",
            "908/908 [==============================] - 153s 169ms/step - loss: 0.7566 - pi_loss: 0.5340 - v_loss: 0.2226\n"
          ]
        },
        {
          "name": "stderr",
          "output_type": "stream",
          "text": [
            "2024-01-05 01:56:05 bfa26197d190 Coach[513] INFO PITTING AGAINST PREVIOUS VERSION\n",
            "Arena.playGames (1): 100%|██████████| 10/10 [16:08<00:00, 96.84s/it]\n",
            "Arena.playGames (2): 100%|██████████| 10/10 [18:10<00:00, 109.07s/it]\n",
            "2024-01-05 02:30:24 bfa26197d190 Coach[513] INFO NEW/PREV WINS : 9 / 6 ; DRAWS : 5\n",
            "2024-01-05 02:30:24 bfa26197d190 Coach[513] INFO ACCEPTING NEW MODEL\n"
          ]
        },
        {
          "name": "stdout",
          "output_type": "stream",
          "text": [
            "Checkpoint Directory exists! \n",
            "Checkpoint Directory exists! \n"
          ]
        },
        {
          "name": "stderr",
          "output_type": "stream",
          "text": [
            "2024-01-05 02:30:26 bfa26197d190 Coach[513] INFO Starting Iter #9 ...\n",
            "Self Play:  60%|██████    | 15/25 [22:13<14:24, 86.43s/it]"
          ]
        }
      ],
      "source": [
        "args = dotdict({\n",
        "    'numIters':15,\n",
        "    'numEps': 25,              # Number of complete self-play games to simulate during a new iteration.\n",
        "    'tempThreshold': 15,        #\n",
        "    'updateThreshold': 0.6,     # During arena playoff, new neural net will be accepted if threshold or more of games are won.\n",
        "    'maxlenOfQueue': 50000,    # Number of game examples to train the neural networks.\n",
        "    'numMCTSSims': 25,          # Number of games moves for MCTS to simulate.\n",
        "    'arenaCompare': 20,         # Number of games to play during arena play to determine if new net will be accepted.\n",
        "    'cpuct': 1,\n",
        "\n",
        "    'checkpoint': '/content/drive/MyDrive/trabalho2_liacd/models/ataxx/6x6',\n",
        "    'load_model': True,\n",
        "    'load_folder_file': ('/content/drive/MyDrive/trabalho2_liacd/models/ataxx/6x6', 'best.h5'),\n",
        "    'numItersForTrainExamplesHistory': 20,\n",
        "\n",
        "})\n",
        "\n",
        "log.info('Loading %s...', Game.__name__)\n",
        "g = Game(6)\n",
        "\n",
        "log.info('Loading %s...', nn.__name__)\n",
        "nnet = nn(g)\n",
        "\n",
        "if args.load_model:\n",
        "    log.info('Loading checkpoint \"%s/%s\"...', args.load_folder_file[0], args.load_folder_file[1])\n",
        "    nnet.load_model(args.load_folder_file[0], args.load_folder_file[1])\n",
        "else:\n",
        "    log.warning('Not loading a checkpoint!')\n",
        "\n",
        "log.info('Loading the Coach...')\n",
        "c = Coach(g, nnet, args)\n",
        "\n",
        "if args.load_model:\n",
        "    log.info(\"Loading 'trainExamples' from file...\")\n",
        "    c.loadTrainExamples()\n",
        "\n",
        "log.info('Starting the learning process 🎉')\n",
        "c.learn()\n"
      ]
    },
    {
      "cell_type": "markdown",
      "metadata": {
        "id": "Xfb_6RJiYzVz"
      },
      "source": [
        "#Décimo Quarto Treino"
      ]
    },
    {
      "cell_type": "code",
      "execution_count": null,
      "metadata": {
        "colab": {
          "background_save": true,
          "base_uri": "https://localhost:8080/"
        },
        "id": "KVV1bPv1EjIb",
        "outputId": "89d85ffb-15ac-47ba-a27f-4915019250c3"
      },
      "outputs": [
        {
          "name": "stderr",
          "output_type": "stream",
          "text": [
            "2024-01-06 15:28:02 8a827eebcbb7 __main__[182] INFO Loading AtaxxGame...\n",
            "2024-01-06 15:28:02 8a827eebcbb7 __main__[182] INFO Loading NNetWrapper...\n",
            "2024-01-06 15:28:03 8a827eebcbb7 __main__[182] INFO Loading checkpoint \"/content/drive/MyDrive/trabalho2_liacd/models/ataxx/6x6/best.h5\"...\n",
            "2024-01-06 15:28:06 8a827eebcbb7 __main__[182] INFO Loading the Coach...\n",
            "2024-01-06 15:28:07 8a827eebcbb7 __main__[182] INFO Loading 'trainExamples' from file...\n",
            "2024-01-06 15:28:07 8a827eebcbb7 Coach[182] WARNING File \"/content/drive/MyDrive/trabalho2_liacd/models/ataxx/6x6/best.h5.examples\" with trainExamples not found!\n",
            "2024-01-06 15:28:08 8a827eebcbb7 __main__[182] INFO Starting the learning process 🎉\n",
            "2024-01-06 15:28:08 8a827eebcbb7 Coach[182] INFO Starting Iter #1 ...\n",
            "Self Play: 100%|██████████| 25/25 [31:26<00:00, 75.46s/it]\n"
          ]
        },
        {
          "name": "stdout",
          "output_type": "stream",
          "text": [
            "Checkpoint Directory exists! \n"
          ]
        },
        {
          "name": "stderr",
          "output_type": "stream",
          "text": [
            "/usr/local/lib/python3.10/dist-packages/keras/src/engine/training.py:3103: UserWarning: You are saving your model as an HDF5 file via `model.save()`. This file format is considered legacy. We recommend using instead the native Keras format, e.g. `model.save('my_model.keras')`.\n",
            "  saving_api.save_model(\n"
          ]
        },
        {
          "name": "stdout",
          "output_type": "stream",
          "text": [
            "Epoch 1/10\n",
            "117/117 [==============================] - 25s 193ms/step - loss: 2.1487 - pi_loss: 1.6149 - v_loss: 0.5338\n",
            "Epoch 2/10\n",
            "117/117 [==============================] - 21s 176ms/step - loss: 1.5931 - pi_loss: 1.1331 - v_loss: 0.4600\n",
            "Epoch 3/10\n",
            "117/117 [==============================] - 21s 181ms/step - loss: 1.3570 - pi_loss: 0.9285 - v_loss: 0.4285\n",
            "Epoch 4/10\n",
            "117/117 [==============================] - 22s 192ms/step - loss: 1.1742 - pi_loss: 0.7916 - v_loss: 0.3825\n",
            "Epoch 5/10\n",
            "117/117 [==============================] - 21s 177ms/step - loss: 1.0358 - pi_loss: 0.7032 - v_loss: 0.3326\n",
            "Epoch 6/10\n",
            "117/117 [==============================] - 25s 217ms/step - loss: 0.9442 - pi_loss: 0.6495 - v_loss: 0.2947\n",
            "Epoch 7/10\n",
            "117/117 [==============================] - 23s 193ms/step - loss: 0.8735 - pi_loss: 0.6134 - v_loss: 0.2601\n",
            "Epoch 8/10\n",
            "117/117 [==============================] - 21s 181ms/step - loss: 0.8156 - pi_loss: 0.5899 - v_loss: 0.2257\n",
            "Epoch 9/10\n",
            "117/117 [==============================] - 21s 181ms/step - loss: 0.7776 - pi_loss: 0.5695 - v_loss: 0.2081\n",
            "Epoch 10/10\n",
            "117/117 [==============================] - 21s 180ms/step - loss: 0.7457 - pi_loss: 0.5586 - v_loss: 0.1871\n"
          ]
        },
        {
          "name": "stderr",
          "output_type": "stream",
          "text": [
            "2024-01-06 16:04:01 8a827eebcbb7 Coach[182] INFO PITTING AGAINST PREVIOUS VERSION\n",
            "Arena.playGames (1): 100%|██████████| 10/10 [16:48<00:00, 100.83s/it]\n",
            "Arena.playGames (2): 100%|██████████| 10/10 [17:55<00:00, 107.52s/it]\n",
            "2024-01-06 16:38:45 8a827eebcbb7 Coach[182] INFO NEW/PREV WINS : 5 / 11 ; DRAWS : 4\n",
            "2024-01-06 16:38:45 8a827eebcbb7 Coach[182] INFO REJECTING NEW MODEL\n",
            "2024-01-06 16:38:46 8a827eebcbb7 Coach[182] INFO Starting Iter #2 ...\n",
            "Self Play: 100%|██████████| 25/25 [30:34<00:00, 73.38s/it]\n"
          ]
        },
        {
          "name": "stdout",
          "output_type": "stream",
          "text": [
            "Checkpoint Directory exists! \n",
            "Epoch 1/10\n",
            "229/229 [==============================] - 46s 195ms/step - loss: 2.0637 - pi_loss: 1.5085 - v_loss: 0.5552\n",
            "Epoch 2/10\n",
            "229/229 [==============================] - 40s 176ms/step - loss: 1.6443 - pi_loss: 1.1500 - v_loss: 0.4943\n",
            "Epoch 3/10\n",
            "229/229 [==============================] - 44s 192ms/step - loss: 1.4283 - pi_loss: 0.9750 - v_loss: 0.4533\n",
            "Epoch 4/10\n",
            "229/229 [==============================] - 42s 182ms/step - loss: 1.2468 - pi_loss: 0.8377 - v_loss: 0.4090\n",
            "Epoch 5/10\n",
            "229/229 [==============================] - 44s 191ms/step - loss: 1.0997 - pi_loss: 0.7361 - v_loss: 0.3637\n",
            "Epoch 6/10\n",
            "229/229 [==============================] - 42s 185ms/step - loss: 0.9854 - pi_loss: 0.6664 - v_loss: 0.3191\n",
            "Epoch 7/10\n",
            "229/229 [==============================] - 43s 188ms/step - loss: 0.8930 - pi_loss: 0.6210 - v_loss: 0.2720\n",
            "Epoch 8/10\n",
            "229/229 [==============================] - 44s 192ms/step - loss: 0.8333 - pi_loss: 0.5921 - v_loss: 0.2411\n",
            "Epoch 9/10\n",
            "229/229 [==============================] - 42s 184ms/step - loss: 0.7887 - pi_loss: 0.5686 - v_loss: 0.2201\n",
            "Epoch 10/10\n",
            "229/229 [==============================] - 45s 195ms/step - loss: 0.7439 - pi_loss: 0.5467 - v_loss: 0.1972\n"
          ]
        },
        {
          "name": "stderr",
          "output_type": "stream",
          "text": [
            "2024-01-06 17:16:48 8a827eebcbb7 Coach[182] INFO PITTING AGAINST PREVIOUS VERSION\n",
            "Arena.playGames (1): 100%|██████████| 10/10 [16:22<00:00, 98.26s/it] \n",
            "Arena.playGames (2): 100%|██████████| 10/10 [18:37<00:00, 111.74s/it]\n",
            "2024-01-06 17:51:48 8a827eebcbb7 Coach[182] INFO NEW/PREV WINS : 6 / 9 ; DRAWS : 5\n",
            "2024-01-06 17:51:48 8a827eebcbb7 Coach[182] INFO REJECTING NEW MODEL\n",
            "2024-01-06 17:51:49 8a827eebcbb7 Coach[182] INFO Starting Iter #3 ...\n",
            "Self Play: 100%|██████████| 25/25 [31:08<00:00, 74.76s/it]\n"
          ]
        },
        {
          "name": "stdout",
          "output_type": "stream",
          "text": [
            "Checkpoint Directory exists! \n",
            "Epoch 1/10\n",
            "337/337 [==============================] - 65s 190ms/step - loss: 2.0134 - pi_loss: 1.4852 - v_loss: 0.5282\n",
            "Epoch 2/10\n",
            "337/337 [==============================] - 64s 190ms/step - loss: 1.6784 - pi_loss: 1.1904 - v_loss: 0.4880\n",
            "Epoch 3/10\n",
            "337/337 [==============================] - 63s 186ms/step - loss: 1.4825 - pi_loss: 1.0229 - v_loss: 0.4595\n",
            "Epoch 4/10\n",
            "337/337 [==============================] - 62s 184ms/step - loss: 1.3169 - pi_loss: 0.8905 - v_loss: 0.4264\n",
            "Epoch 5/10\n",
            "337/337 [==============================] - 65s 192ms/step - loss: 1.1646 - pi_loss: 0.7842 - v_loss: 0.3804\n",
            "Epoch 6/10\n",
            "337/337 [==============================] - 63s 188ms/step - loss: 1.0387 - pi_loss: 0.6994 - v_loss: 0.3393\n",
            "Epoch 7/10\n",
            "337/337 [==============================] - 64s 190ms/step - loss: 0.9361 - pi_loss: 0.6381 - v_loss: 0.2981\n",
            "Epoch 8/10\n",
            "337/337 [==============================] - 64s 191ms/step - loss: 0.8671 - pi_loss: 0.6041 - v_loss: 0.2630\n",
            "Epoch 9/10\n",
            "337/337 [==============================] - 65s 193ms/step - loss: 0.8153 - pi_loss: 0.5766 - v_loss: 0.2387\n",
            "Epoch 10/10\n",
            "337/337 [==============================] - 63s 186ms/step - loss: 0.7772 - pi_loss: 0.5579 - v_loss: 0.2193\n"
          ]
        },
        {
          "name": "stderr",
          "output_type": "stream",
          "text": [
            "2024-01-06 18:33:41 8a827eebcbb7 Coach[182] INFO PITTING AGAINST PREVIOUS VERSION\n",
            "Arena.playGames (1): 100%|██████████| 10/10 [18:06<00:00, 108.64s/it]\n",
            "Arena.playGames (2): 100%|██████████| 10/10 [18:14<00:00, 109.40s/it]\n",
            "2024-01-06 19:10:02 8a827eebcbb7 Coach[182] INFO NEW/PREV WINS : 6 / 11 ; DRAWS : 3\n",
            "2024-01-06 19:10:02 8a827eebcbb7 Coach[182] INFO REJECTING NEW MODEL\n",
            "2024-01-06 19:10:03 8a827eebcbb7 Coach[182] INFO Starting Iter #4 ...\n",
            "Self Play: 100%|██████████| 25/25 [25:38<00:00, 61.55s/it]\n"
          ]
        },
        {
          "name": "stdout",
          "output_type": "stream",
          "text": [
            "Checkpoint Directory exists! \n",
            "Epoch 1/10\n",
            "425/425 [==============================] - 82s 189ms/step - loss: 1.9717 - pi_loss: 1.4477 - v_loss: 0.5240\n",
            "Epoch 2/10\n",
            "425/425 [==============================] - 80s 189ms/step - loss: 1.6562 - pi_loss: 1.1712 - v_loss: 0.4850\n",
            "Epoch 3/10\n",
            "425/425 [==============================] - 80s 187ms/step - loss: 1.4931 - pi_loss: 1.0332 - v_loss: 0.4600\n",
            "Epoch 4/10\n",
            "425/425 [==============================] - 79s 187ms/step - loss: 1.3225 - pi_loss: 0.8946 - v_loss: 0.4280\n",
            "Epoch 5/10\n",
            "425/425 [==============================] - 77s 181ms/step - loss: 1.1796 - pi_loss: 0.7896 - v_loss: 0.3900\n",
            "Epoch 6/10\n",
            "425/425 [==============================] - 78s 184ms/step - loss: 1.0558 - pi_loss: 0.7104 - v_loss: 0.3455\n",
            "Epoch 7/10\n",
            "425/425 [==============================] - 80s 187ms/step - loss: 0.9558 - pi_loss: 0.6494 - v_loss: 0.3065\n",
            "Epoch 8/10\n",
            "425/425 [==============================] - 78s 184ms/step - loss: 0.8823 - pi_loss: 0.6099 - v_loss: 0.2724\n",
            "Epoch 9/10\n",
            "425/425 [==============================] - 78s 183ms/step - loss: 0.8357 - pi_loss: 0.5893 - v_loss: 0.2463\n",
            "Epoch 10/10\n",
            "425/425 [==============================] - 81s 192ms/step - loss: 0.7893 - pi_loss: 0.5616 - v_loss: 0.2277\n"
          ]
        },
        {
          "name": "stderr",
          "output_type": "stream",
          "text": [
            "2024-01-06 19:49:14 8a827eebcbb7 Coach[182] INFO PITTING AGAINST PREVIOUS VERSION\n",
            "Arena.playGames (1): 100%|██████████| 10/10 [18:52<00:00, 113.24s/it]\n",
            "Arena.playGames (2): 100%|██████████| 10/10 [18:20<00:00, 110.04s/it]\n",
            "2024-01-06 20:26:27 8a827eebcbb7 Coach[182] INFO NEW/PREV WINS : 7 / 7 ; DRAWS : 6\n",
            "2024-01-06 20:26:27 8a827eebcbb7 Coach[182] INFO REJECTING NEW MODEL\n",
            "2024-01-06 20:26:28 8a827eebcbb7 Coach[182] INFO Starting Iter #5 ...\n",
            "Self Play: 100%|██████████| 25/25 [39:25<00:00, 94.62s/it]\n"
          ]
        },
        {
          "name": "stdout",
          "output_type": "stream",
          "text": [
            "Checkpoint Directory exists! \n",
            "Epoch 1/10\n",
            "557/557 [==============================] - 111s 196ms/step - loss: 1.9656 - pi_loss: 1.4194 - v_loss: 0.5462\n",
            "Epoch 2/10\n",
            "557/557 [==============================] - 106s 191ms/step - loss: 1.6781 - pi_loss: 1.1669 - v_loss: 0.5112\n",
            "Epoch 3/10\n",
            "557/557 [==============================] - 109s 195ms/step - loss: 1.5150 - pi_loss: 1.0324 - v_loss: 0.4826\n",
            "Epoch 4/10\n",
            "557/557 [==============================] - 107s 191ms/step - loss: 1.3666 - pi_loss: 0.9133 - v_loss: 0.4533\n",
            "Epoch 5/10\n",
            "557/557 [==============================] - 107s 193ms/step - loss: 1.2111 - pi_loss: 0.8029 - v_loss: 0.4082\n",
            "Epoch 6/10\n",
            "557/557 [==============================] - 110s 197ms/step - loss: 1.0829 - pi_loss: 0.7190 - v_loss: 0.3639\n",
            "Epoch 7/10\n",
            "557/557 [==============================] - 107s 192ms/step - loss: 0.9799 - pi_loss: 0.6576 - v_loss: 0.3224\n",
            "Epoch 8/10\n",
            "557/557 [==============================] - 107s 192ms/step - loss: 0.9014 - pi_loss: 0.6129 - v_loss: 0.2886\n",
            "Epoch 9/10\n",
            "557/557 [==============================] - 109s 195ms/step - loss: 0.8435 - pi_loss: 0.5834 - v_loss: 0.2602\n",
            "Epoch 10/10\n",
            "557/557 [==============================] - 109s 195ms/step - loss: 0.8045 - pi_loss: 0.5607 - v_loss: 0.2438\n"
          ]
        },
        {
          "name": "stderr",
          "output_type": "stream",
          "text": [
            "2024-01-06 21:24:24 8a827eebcbb7 Coach[182] INFO PITTING AGAINST PREVIOUS VERSION\n",
            "Arena.playGames (1): 100%|██████████| 10/10 [16:25<00:00, 98.52s/it]\n",
            "Arena.playGames (2): 100%|██████████| 10/10 [15:57<00:00, 95.77s/it]\n",
            "2024-01-06 21:56:47 8a827eebcbb7 Coach[182] INFO NEW/PREV WINS : 6 / 10 ; DRAWS : 4\n",
            "2024-01-06 21:56:47 8a827eebcbb7 Coach[182] INFO REJECTING NEW MODEL\n",
            "2024-01-06 21:56:48 8a827eebcbb7 Coach[182] INFO Starting Iter #6 ...\n",
            "Self Play: 100%|██████████| 25/25 [31:01<00:00, 74.48s/it]\n"
          ]
        },
        {
          "name": "stdout",
          "output_type": "stream",
          "text": [
            "Checkpoint Directory exists! \n",
            "Epoch 1/10\n",
            "667/667 [==============================] - 124s 183ms/step - loss: 1.9870 - pi_loss: 1.4189 - v_loss: 0.5681\n",
            "Epoch 2/10\n",
            "667/667 [==============================] - 121s 181ms/step - loss: 1.7122 - pi_loss: 1.1812 - v_loss: 0.5309\n",
            "Epoch 3/10\n",
            "667/667 [==============================] - 121s 182ms/step - loss: 1.5478 - pi_loss: 1.0468 - v_loss: 0.5010\n",
            "Epoch 4/10\n",
            "667/667 [==============================] - 135s 203ms/step - loss: 1.3930 - pi_loss: 0.9275 - v_loss: 0.4655\n",
            "Epoch 5/10\n",
            "667/667 [==============================] - 126s 189ms/step - loss: 1.2433 - pi_loss: 0.8273 - v_loss: 0.4159\n",
            "Epoch 6/10\n",
            "667/667 [==============================] - 137s 205ms/step - loss: 1.1115 - pi_loss: 0.7427 - v_loss: 0.3688\n",
            "Epoch 7/10\n",
            "667/667 [==============================] - 136s 204ms/step - loss: 1.0045 - pi_loss: 0.6757 - v_loss: 0.3288\n",
            "Epoch 8/10\n",
            "667/667 [==============================] - 124s 187ms/step - loss: 0.9243 - pi_loss: 0.6295 - v_loss: 0.2948\n",
            "Epoch 9/10\n",
            "667/667 [==============================] - 129s 193ms/step - loss: 0.8646 - pi_loss: 0.5961 - v_loss: 0.2686\n",
            "Epoch 10/10\n",
            "667/667 [==============================] - 133s 200ms/step - loss: 0.8257 - pi_loss: 0.5752 - v_loss: 0.2505\n"
          ]
        },
        {
          "name": "stderr",
          "output_type": "stream",
          "text": [
            "2024-01-06 22:49:25 8a827eebcbb7 Coach[182] INFO PITTING AGAINST PREVIOUS VERSION\n",
            "Arena.playGames (1): 100%|██████████| 10/10 [15:19<00:00, 91.95s/it]\n",
            "Arena.playGames (2): 100%|██████████| 10/10 [17:31<00:00, 105.10s/it]\n",
            "2024-01-06 23:22:16 8a827eebcbb7 Coach[182] INFO NEW/PREV WINS : 5 / 7 ; DRAWS : 8\n",
            "2024-01-06 23:22:16 8a827eebcbb7 Coach[182] INFO REJECTING NEW MODEL\n",
            "2024-01-06 23:22:17 8a827eebcbb7 Coach[182] INFO Starting Iter #7 ...\n",
            "Self Play: 100%|██████████| 25/25 [34:07<00:00, 81.90s/it]\n"
          ]
        },
        {
          "name": "stdout",
          "output_type": "stream",
          "text": [
            "Checkpoint Directory exists! \n",
            "Epoch 1/10\n",
            "789/789 [==============================] - 162s 203ms/step - loss: 1.9715 - pi_loss: 1.3959 - v_loss: 0.5756\n",
            "Epoch 2/10\n",
            "789/789 [==============================] - 148s 187ms/step - loss: 1.7147 - pi_loss: 1.1761 - v_loss: 0.5386\n",
            "Epoch 3/10\n",
            "789/789 [==============================] - 149s 189ms/step - loss: 1.5628 - pi_loss: 1.0510 - v_loss: 0.5118\n",
            "Epoch 4/10\n",
            "789/789 [==============================] - 153s 194ms/step - loss: 1.4111 - pi_loss: 0.9338 - v_loss: 0.4773\n",
            "Epoch 5/10\n",
            "789/789 [==============================] - 155s 196ms/step - loss: 1.2648 - pi_loss: 0.8280 - v_loss: 0.4368\n",
            "Epoch 6/10\n",
            "789/789 [==============================] - 157s 199ms/step - loss: 1.1234 - pi_loss: 0.7371 - v_loss: 0.3863\n",
            "Epoch 7/10\n",
            "789/789 [==============================] - 157s 199ms/step - loss: 1.0243 - pi_loss: 0.6775 - v_loss: 0.3469\n",
            "Epoch 8/10\n",
            "789/789 [==============================] - 154s 195ms/step - loss: 0.9485 - pi_loss: 0.6345 - v_loss: 0.3140\n",
            "Epoch 9/10\n",
            "789/789 [==============================] - 139s 177ms/step - loss: 0.8876 - pi_loss: 0.6002 - v_loss: 0.2874\n",
            "Epoch 10/10\n",
            "789/789 [==============================] - 144s 183ms/step - loss: 0.8453 - pi_loss: 0.5797 - v_loss: 0.2656\n"
          ]
        },
        {
          "name": "stderr",
          "output_type": "stream",
          "text": [
            "2024-01-07 00:22:00 8a827eebcbb7 Coach[182] INFO PITTING AGAINST PREVIOUS VERSION\n",
            "Arena.playGames (1):  30%|███       | 3/10 [05:34<13:02, 111.78s/it]"
          ]
        }
      ],
      "source": [
        "args = dotdict({\n",
        "    'numIters':15,\n",
        "    'numEps': 25,              # Number of complete self-play games to simulate during a new iteration.\n",
        "    'tempThreshold': 15,        #\n",
        "    'updateThreshold': 0.6,     # During arena playoff, new neural net will be accepted if threshold or more of games are won.\n",
        "    'maxlenOfQueue': 50000,    # Number of game examples to train the neural networks.\n",
        "    'numMCTSSims': 25,          # Number of games moves for MCTS to simulate.\n",
        "    'arenaCompare': 20,         # Number of games to play during arena play to determine if new net will be accepted.\n",
        "    'cpuct': 1,\n",
        "\n",
        "    'checkpoint': '/content/drive/MyDrive/trabalho2_liacd/models/ataxx/6x6',\n",
        "    'load_model': True,\n",
        "    'load_folder_file': ('/content/drive/MyDrive/trabalho2_liacd/models/ataxx/6x6', 'best.h5'),\n",
        "    'numItersForTrainExamplesHistory': 20,\n",
        "\n",
        "})\n",
        "\n",
        "log.info('Loading %s...', Game.__name__)\n",
        "g = Game(6)\n",
        "\n",
        "log.info('Loading %s...', nn.__name__)\n",
        "nnet = nn(g)\n",
        "\n",
        "if args.load_model:\n",
        "    log.info('Loading checkpoint \"%s/%s\"...', args.load_folder_file[0], args.load_folder_file[1])\n",
        "    nnet.load_model(args.load_folder_file[0], args.load_folder_file[1])\n",
        "else:\n",
        "    log.warning('Not loading a checkpoint!')\n",
        "\n",
        "log.info('Loading the Coach...')\n",
        "c = Coach(g, nnet, args)\n",
        "\n",
        "if args.load_model:\n",
        "    log.info(\"Loading 'trainExamples' from file...\")\n",
        "    c.loadTrainExamples()\n",
        "\n",
        "log.info('Starting the learning process 🎉')\n",
        "c.learn()\n"
      ]
    },
    {
      "cell_type": "markdown",
      "metadata": {
        "id": "Jph1AUJQNsrE"
      },
      "source": [
        "#Décimo Quinto Treino"
      ]
    },
    {
      "cell_type": "code",
      "execution_count": null,
      "metadata": {
        "colab": {
          "background_save": true,
          "base_uri": "https://localhost:8080/"
        },
        "id": "DJn3qMKoY2EG",
        "outputId": "a37c00f4-3687-4db1-cb58-0c5eee4ff253"
      },
      "outputs": [
        {
          "name": "stderr",
          "output_type": "stream",
          "text": [
            "2024-01-08 17:55:24 d327ecec2702 __main__[2590] INFO Loading AtaxxGame...\n",
            "2024-01-08 17:55:24 d327ecec2702 __main__[2590] INFO Loading NNetWrapper...\n",
            "2024-01-08 17:55:25 d327ecec2702 __main__[2590] INFO Loading checkpoint \"/content/drive/MyDrive/trabalho2_liacd/models/ataxx/6x6/best.h5\"...\n",
            "2024-01-08 17:55:28 d327ecec2702 __main__[2590] INFO Loading the Coach...\n",
            "2024-01-08 17:55:28 d327ecec2702 __main__[2590] INFO Loading 'trainExamples' from file...\n",
            "2024-01-08 17:55:28 d327ecec2702 Coach[2590] WARNING File \"/content/drive/MyDrive/trabalho2_liacd/models/ataxx/6x6/best.h5.examples\" with trainExamples not found!\n",
            "2024-01-08 17:55:31 d327ecec2702 __main__[2590] INFO Starting the learning process 🎉\n",
            "2024-01-08 17:55:31 d327ecec2702 Coach[2590] INFO Starting Iter #1 ...\n",
            "Self Play: 100%|██████████| 25/25 [24:58<00:00, 59.95s/it]\n"
          ]
        },
        {
          "name": "stdout",
          "output_type": "stream",
          "text": [
            "Checkpoint Directory exists! \n"
          ]
        },
        {
          "name": "stderr",
          "output_type": "stream",
          "text": [
            "/usr/local/lib/python3.10/dist-packages/keras/src/engine/training.py:3103: UserWarning: You are saving your model as an HDF5 file via `model.save()`. This file format is considered legacy. We recommend using instead the native Keras format, e.g. `model.save('my_model.keras')`.\n",
            "  saving_api.save_model(\n"
          ]
        },
        {
          "name": "stdout",
          "output_type": "stream",
          "text": [
            "Epoch 1/10\n",
            "129/129 [==============================] - 6s 12ms/step - loss: 2.0030 - pi_loss: 1.4834 - v_loss: 0.5196\n",
            "Epoch 2/10\n",
            "129/129 [==============================] - 2s 12ms/step - loss: 1.4895 - pi_loss: 1.0377 - v_loss: 0.4518\n",
            "Epoch 3/10\n",
            "129/129 [==============================] - 1s 11ms/step - loss: 1.2485 - pi_loss: 0.8437 - v_loss: 0.4048\n",
            "Epoch 4/10\n",
            "129/129 [==============================] - 1s 9ms/step - loss: 1.0693 - pi_loss: 0.7144 - v_loss: 0.3549\n",
            "Epoch 5/10\n",
            "129/129 [==============================] - 1s 9ms/step - loss: 0.9357 - pi_loss: 0.6255 - v_loss: 0.3102\n",
            "Epoch 6/10\n",
            "129/129 [==============================] - 1s 9ms/step - loss: 0.8282 - pi_loss: 0.5614 - v_loss: 0.2667\n",
            "Epoch 7/10\n",
            "129/129 [==============================] - 1s 8ms/step - loss: 0.7588 - pi_loss: 0.5303 - v_loss: 0.2284\n",
            "Epoch 8/10\n",
            "129/129 [==============================] - 1s 8ms/step - loss: 0.7103 - pi_loss: 0.5020 - v_loss: 0.2083\n",
            "Epoch 9/10\n",
            "129/129 [==============================] - 1s 9ms/step - loss: 0.6759 - pi_loss: 0.4858 - v_loss: 0.1900\n",
            "Epoch 10/10\n",
            "129/129 [==============================] - 1s 9ms/step - loss: 0.6571 - pi_loss: 0.4764 - v_loss: 0.1806\n"
          ]
        },
        {
          "name": "stderr",
          "output_type": "stream",
          "text": [
            "2024-01-08 18:20:54 d327ecec2702 Coach[2590] INFO PITTING AGAINST PREVIOUS VERSION\n",
            "Arena.playGames (1): 100%|██████████| 10/10 [11:35<00:00, 69.52s/it]\n",
            "Arena.playGames (2): 100%|██████████| 10/10 [11:24<00:00, 68.43s/it]\n",
            "2024-01-08 18:43:54 d327ecec2702 Coach[2590] INFO NEW/PREV WINS : 3 / 11 ; DRAWS : 6\n",
            "2024-01-08 18:43:54 d327ecec2702 Coach[2590] INFO REJECTING NEW MODEL\n",
            "2024-01-08 18:43:56 d327ecec2702 Coach[2590] INFO Starting Iter #2 ...\n",
            "Self Play: 100%|██████████| 25/25 [24:42<00:00, 59.30s/it]\n"
          ]
        },
        {
          "name": "stdout",
          "output_type": "stream",
          "text": [
            "Checkpoint Directory exists! \n",
            "Epoch 1/10\n",
            "253/253 [==============================] - 4s 10ms/step - loss: 1.9450 - pi_loss: 1.4072 - v_loss: 0.5378\n",
            "Epoch 2/10\n",
            "253/253 [==============================] - 2s 8ms/step - loss: 1.5737 - pi_loss: 1.0790 - v_loss: 0.4947\n",
            "Epoch 3/10\n",
            "253/253 [==============================] - 2s 9ms/step - loss: 1.3745 - pi_loss: 0.9136 - v_loss: 0.4608\n",
            "Epoch 4/10\n",
            "253/253 [==============================] - 2s 8ms/step - loss: 1.1983 - pi_loss: 0.7777 - v_loss: 0.4205\n",
            "Epoch 5/10\n",
            "253/253 [==============================] - 2s 8ms/step - loss: 1.0632 - pi_loss: 0.6879 - v_loss: 0.3753\n",
            "Epoch 6/10\n",
            "253/253 [==============================] - 3s 11ms/step - loss: 0.9416 - pi_loss: 0.6150 - v_loss: 0.3266\n",
            "Epoch 7/10\n",
            "253/253 [==============================] - 3s 11ms/step - loss: 0.8585 - pi_loss: 0.5751 - v_loss: 0.2834\n",
            "Epoch 8/10\n",
            "253/253 [==============================] - 2s 9ms/step - loss: 0.7886 - pi_loss: 0.5431 - v_loss: 0.2455\n",
            "Epoch 9/10\n",
            "253/253 [==============================] - 2s 8ms/step - loss: 0.7373 - pi_loss: 0.5181 - v_loss: 0.2192\n",
            "Epoch 10/10\n",
            "253/253 [==============================] - 2s 8ms/step - loss: 0.7000 - pi_loss: 0.5013 - v_loss: 0.1986\n"
          ]
        },
        {
          "name": "stderr",
          "output_type": "stream",
          "text": [
            "2024-01-08 19:09:07 d327ecec2702 Coach[2590] INFO PITTING AGAINST PREVIOUS VERSION\n",
            "Arena.playGames (1): 100%|██████████| 10/10 [12:17<00:00, 73.79s/it]\n",
            "Arena.playGames (2): 100%|██████████| 10/10 [13:20<00:00, 80.08s/it]\n",
            "2024-01-08 19:34:46 d327ecec2702 Coach[2590] INFO NEW/PREV WINS : 7 / 8 ; DRAWS : 5\n",
            "2024-01-08 19:34:46 d327ecec2702 Coach[2590] INFO REJECTING NEW MODEL\n",
            "2024-01-08 19:34:49 d327ecec2702 Coach[2590] INFO Starting Iter #3 ...\n",
            "Self Play: 100%|██████████| 25/25 [26:57<00:00, 64.72s/it]\n"
          ]
        },
        {
          "name": "stdout",
          "output_type": "stream",
          "text": [
            "Checkpoint Directory exists! \n",
            "Epoch 1/10\n",
            "379/379 [==============================] - 5s 9ms/step - loss: 2.0139 - pi_loss: 1.3975 - v_loss: 0.6164\n",
            "Epoch 2/10\n",
            "379/379 [==============================] - 5s 13ms/step - loss: 1.6653 - pi_loss: 1.1056 - v_loss: 0.5597\n",
            "Epoch 3/10\n",
            "379/379 [==============================] - 4s 10ms/step - loss: 1.4601 - pi_loss: 0.9447 - v_loss: 0.5154\n",
            "Epoch 4/10\n",
            "379/379 [==============================] - 3s 8ms/step - loss: 1.2801 - pi_loss: 0.8228 - v_loss: 0.4573\n",
            "Epoch 5/10\n",
            "379/379 [==============================] - 3s 8ms/step - loss: 1.1271 - pi_loss: 0.7239 - v_loss: 0.4031\n",
            "Epoch 6/10\n",
            "379/379 [==============================] - 4s 10ms/step - loss: 0.9935 - pi_loss: 0.6505 - v_loss: 0.3430\n",
            "Epoch 7/10\n",
            "379/379 [==============================] - 4s 10ms/step - loss: 0.9040 - pi_loss: 0.6029 - v_loss: 0.3011\n",
            "Epoch 8/10\n",
            "379/379 [==============================] - 3s 8ms/step - loss: 0.8386 - pi_loss: 0.5673 - v_loss: 0.2713\n",
            "Epoch 9/10\n",
            "379/379 [==============================] - 3s 9ms/step - loss: 0.7869 - pi_loss: 0.5395 - v_loss: 0.2473\n",
            "Epoch 10/10\n",
            "379/379 [==============================] - 3s 9ms/step - loss: 0.7446 - pi_loss: 0.5197 - v_loss: 0.2249\n"
          ]
        },
        {
          "name": "stderr",
          "output_type": "stream",
          "text": [
            "2024-01-08 20:02:35 d327ecec2702 Coach[2590] INFO PITTING AGAINST PREVIOUS VERSION\n",
            "Arena.playGames (1): 100%|██████████| 10/10 [12:52<00:00, 77.21s/it]\n",
            "Arena.playGames (2): 100%|██████████| 10/10 [13:34<00:00, 81.44s/it]\n",
            "2024-01-08 20:29:01 d327ecec2702 Coach[2590] INFO NEW/PREV WINS : 6 / 4 ; DRAWS : 10\n",
            "2024-01-08 20:29:01 d327ecec2702 Coach[2590] INFO ACCEPTING NEW MODEL\n"
          ]
        },
        {
          "name": "stdout",
          "output_type": "stream",
          "text": [
            "Checkpoint Directory exists! \n",
            "Checkpoint Directory exists! \n"
          ]
        },
        {
          "name": "stderr",
          "output_type": "stream",
          "text": [
            "2024-01-08 20:29:02 d327ecec2702 Coach[2590] INFO Starting Iter #4 ...\n",
            "Self Play: 100%|██████████| 25/25 [21:31<00:00, 51.65s/it]\n"
          ]
        },
        {
          "name": "stdout",
          "output_type": "stream",
          "text": [
            "Checkpoint Directory exists! \n",
            "Epoch 1/10\n",
            "485/485 [==============================] - 5s 11ms/step - loss: 1.1009 - pi_loss: 0.7565 - v_loss: 0.3444\n",
            "Epoch 2/10\n",
            "485/485 [==============================] - 4s 8ms/step - loss: 0.9080 - pi_loss: 0.6222 - v_loss: 0.2858\n",
            "Epoch 3/10\n",
            "485/485 [==============================] - 4s 8ms/step - loss: 0.8212 - pi_loss: 0.5685 - v_loss: 0.2527\n",
            "Epoch 4/10\n",
            "485/485 [==============================] - 5s 11ms/step - loss: 0.7590 - pi_loss: 0.5311 - v_loss: 0.2279\n",
            "Epoch 5/10\n",
            "485/485 [==============================] - 4s 8ms/step - loss: 0.7316 - pi_loss: 0.5175 - v_loss: 0.2141\n",
            "Epoch 6/10\n",
            "485/485 [==============================] - 4s 8ms/step - loss: 0.7096 - pi_loss: 0.5026 - v_loss: 0.2070\n",
            "Epoch 7/10\n",
            "485/485 [==============================] - 5s 10ms/step - loss: 0.6867 - pi_loss: 0.4909 - v_loss: 0.1958\n",
            "Epoch 8/10\n",
            "485/485 [==============================] - 5s 9ms/step - loss: 0.6677 - pi_loss: 0.4844 - v_loss: 0.1832\n",
            "Epoch 9/10\n",
            "485/485 [==============================] - 4s 8ms/step - loss: 0.6581 - pi_loss: 0.4771 - v_loss: 0.1811\n",
            "Epoch 10/10\n",
            "485/485 [==============================] - 4s 8ms/step - loss: 0.6448 - pi_loss: 0.4719 - v_loss: 0.1730\n"
          ]
        },
        {
          "name": "stderr",
          "output_type": "stream",
          "text": [
            "2024-01-08 20:52:01 d327ecec2702 Coach[2590] INFO PITTING AGAINST PREVIOUS VERSION\n",
            "Arena.playGames (1): 100%|██████████| 10/10 [13:25<00:00, 80.60s/it]\n",
            "Arena.playGames (2): 100%|██████████| 10/10 [13:07<00:00, 78.74s/it]\n",
            "2024-01-08 21:18:35 d327ecec2702 Coach[2590] INFO NEW/PREV WINS : 10 / 7 ; DRAWS : 3\n",
            "2024-01-08 21:18:35 d327ecec2702 Coach[2590] INFO REJECTING NEW MODEL\n",
            "2024-01-08 21:18:36 d327ecec2702 Coach[2590] INFO Starting Iter #5 ...\n",
            "Self Play: 100%|██████████| 25/25 [21:53<00:00, 52.53s/it]\n"
          ]
        },
        {
          "name": "stdout",
          "output_type": "stream",
          "text": [
            "Checkpoint Directory exists! \n",
            "Epoch 1/10\n",
            "586/586 [==============================] - 7s 9ms/step - loss: 1.3366 - pi_loss: 0.9101 - v_loss: 0.4265\n",
            "Epoch 2/10\n",
            "586/586 [==============================] - 5s 8ms/step - loss: 1.0918 - pi_loss: 0.7372 - v_loss: 0.3546\n",
            "Epoch 3/10\n",
            "586/586 [==============================] - 6s 11ms/step - loss: 0.9551 - pi_loss: 0.6501 - v_loss: 0.3050\n",
            "Epoch 4/10\n",
            "586/586 [==============================] - 5s 8ms/step - loss: 0.8764 - pi_loss: 0.6002 - v_loss: 0.2762\n",
            "Epoch 5/10\n",
            "586/586 [==============================] - 5s 9ms/step - loss: 0.8192 - pi_loss: 0.5683 - v_loss: 0.2509\n",
            "Epoch 6/10\n",
            "586/586 [==============================] - 6s 11ms/step - loss: 0.7737 - pi_loss: 0.5401 - v_loss: 0.2336\n",
            "Epoch 7/10\n",
            "586/586 [==============================] - 5s 8ms/step - loss: 0.7515 - pi_loss: 0.5296 - v_loss: 0.2219\n",
            "Epoch 8/10\n",
            "586/586 [==============================] - 6s 9ms/step - loss: 0.7248 - pi_loss: 0.5167 - v_loss: 0.2081\n",
            "Epoch 9/10\n",
            "586/586 [==============================] - 6s 10ms/step - loss: 0.7059 - pi_loss: 0.5040 - v_loss: 0.2019\n",
            "Epoch 10/10\n",
            "586/586 [==============================] - 5s 8ms/step - loss: 0.6892 - pi_loss: 0.4955 - v_loss: 0.1938\n"
          ]
        },
        {
          "name": "stderr",
          "output_type": "stream",
          "text": [
            "2024-01-08 21:42:00 d327ecec2702 Coach[2590] INFO PITTING AGAINST PREVIOUS VERSION\n",
            "Arena.playGames (1): 100%|██████████| 10/10 [13:44<00:00, 82.43s/it]\n",
            "Arena.playGames (2): 100%|██████████| 10/10 [12:56<00:00, 77.68s/it]\n",
            "2024-01-08 22:08:41 d327ecec2702 Coach[2590] INFO NEW/PREV WINS : 7 / 10 ; DRAWS : 3\n",
            "2024-01-08 22:08:41 d327ecec2702 Coach[2590] INFO REJECTING NEW MODEL\n",
            "2024-01-08 22:08:43 d327ecec2702 Coach[2590] INFO Starting Iter #6 ...\n",
            "Self Play: 100%|██████████| 25/25 [25:11<00:00, 60.48s/it]\n"
          ]
        },
        {
          "name": "stdout",
          "output_type": "stream",
          "text": [
            "Checkpoint Directory exists! \n",
            "Epoch 1/10\n",
            "705/705 [==============================] - 8s 10ms/step - loss: 1.4453 - pi_loss: 0.9893 - v_loss: 0.4559\n",
            "Epoch 2/10\n",
            "705/705 [==============================] - 6s 9ms/step - loss: 1.1943 - pi_loss: 0.8075 - v_loss: 0.3868\n",
            "Epoch 3/10\n",
            "705/705 [==============================] - 6s 9ms/step - loss: 1.0458 - pi_loss: 0.7105 - v_loss: 0.3354\n",
            "Epoch 4/10\n",
            "705/705 [==============================] - 7s 9ms/step - loss: 0.9409 - pi_loss: 0.6427 - v_loss: 0.2982\n",
            "Epoch 5/10\n",
            "705/705 [==============================] - 7s 10ms/step - loss: 0.8683 - pi_loss: 0.5976 - v_loss: 0.2707\n",
            "Epoch 6/10\n",
            "705/705 [==============================] - 6s 9ms/step - loss: 0.8190 - pi_loss: 0.5702 - v_loss: 0.2488\n",
            "Epoch 7/10\n",
            "705/705 [==============================] - 6s 8ms/step - loss: 0.7800 - pi_loss: 0.5455 - v_loss: 0.2346\n",
            "Epoch 8/10\n",
            "705/705 [==============================] - 7s 10ms/step - loss: 0.7566 - pi_loss: 0.5324 - v_loss: 0.2242\n",
            "Epoch 9/10\n",
            "705/705 [==============================] - 6s 8ms/step - loss: 0.7325 - pi_loss: 0.5184 - v_loss: 0.2142\n",
            "Epoch 10/10\n",
            "705/705 [==============================] - 7s 10ms/step - loss: 0.7137 - pi_loss: 0.5077 - v_loss: 0.2060\n"
          ]
        },
        {
          "name": "stderr",
          "output_type": "stream",
          "text": [
            "2024-01-08 22:35:26 d327ecec2702 Coach[2590] INFO PITTING AGAINST PREVIOUS VERSION\n",
            "Arena.playGames (1): 100%|██████████| 10/10 [14:03<00:00, 84.35s/it]\n",
            "Arena.playGames (2): 100%|██████████| 10/10 [12:47<00:00, 76.79s/it]\n",
            "2024-01-08 23:02:17 d327ecec2702 Coach[2590] INFO NEW/PREV WINS : 6 / 6 ; DRAWS : 8\n",
            "2024-01-08 23:02:17 d327ecec2702 Coach[2590] INFO REJECTING NEW MODEL\n",
            "2024-01-08 23:02:21 d327ecec2702 Coach[2590] INFO Starting Iter #7 ...\n",
            "Self Play:  88%|████████▊ | 22/25 [22:54<03:27, 69.01s/it]"
          ]
        }
      ],
      "source": [
        "\n",
        "args = dotdict({\n",
        "  'numIters':15,\n",
        "  'numEps': 25,              # Number of complete self-play games to simulate during a new iteration.\n",
        "  'tempThreshold': 15,        #\n",
        "  'updateThreshold': 0.6,     # During arena playoff, new neural net will be accepted if threshold or more of games are won.\n",
        "  'maxlenOfQueue': 50000,    # Number of game examples to train the neural networks.\n",
        "  'numMCTSSims': 25,          # Number of games moves for MCTS to simulate.\n",
        "  'arenaCompare': 20,         # Number of games to play during arena play to determine if new net will be accepted.\n",
        "  'cpuct': 1,\n",
        "\n",
        "  'checkpoint': '/content/drive/MyDrive/trabalho2_liacd/models/ataxx/6x6',\n",
        "  'load_model': True,\n",
        "  'load_folder_file': ('/content/drive/MyDrive/trabalho2_liacd/models/ataxx/6x6', 'best.h5'),\n",
        "  'numItersForTrainExamplesHistory': 20,\n",
        "\n",
        "})\n",
        "\n",
        "log.info('Loading %s...', Game.__name__)\n",
        "g = Game(6)\n",
        "\n",
        "log.info('Loading %s...', nn.__name__)\n",
        "nnet = nn(g)\n",
        "\n",
        "if args.load_model:\n",
        "  log.info('Loading checkpoint \"%s/%s\"...', args.load_folder_file[0], args.load_folder_file[1])\n",
        "  nnet.load_model(args.load_folder_file[0], args.load_folder_file[1])\n",
        "else:\n",
        "  log.warning('Not loading a checkpoint!')\n",
        "\n",
        "log.info('Loading the Coach...')\n",
        "c = Coach(g, nnet, args)\n",
        "\n",
        "if args.load_model:\n",
        "  log.info(\"Loading 'trainExamples' from file...\")\n",
        "  c.loadTrainExamples()\n",
        "\n",
        "log.info('Starting the learning process 🎉')\n",
        "c.learn()\n",
        "\n"
      ]
    },
    {
      "cell_type": "markdown",
      "metadata": {
        "id": "4RBKkRjidIwW"
      },
      "source": [
        "#Décimo Sexto Treino"
      ]
    },
    {
      "cell_type": "code",
      "execution_count": null,
      "metadata": {
        "colab": {
          "background_save": true,
          "base_uri": "https://localhost:8080/"
        },
        "id": "f-b0uYl4dLH7",
        "outputId": "834a5e86-2c40-41fc-e762-7327a4485493"
      },
      "outputs": [
        {
          "name": "stderr",
          "output_type": "stream",
          "text": [
            "2024-01-09 18:20:57 c9bb779261ea __main__[227] INFO Loading AtaxxGame...\n",
            "2024-01-09 18:20:57 c9bb779261ea __main__[227] INFO Loading NNetWrapper...\n",
            "2024-01-09 18:20:58 c9bb779261ea __main__[227] INFO Loading checkpoint \"/content/drive/MyDrive/trabalho2_liacd/models/ataxx/6x6/best.h5\"...\n",
            "2024-01-09 18:21:01 c9bb779261ea __main__[227] INFO Loading the Coach...\n",
            "2024-01-09 18:21:02 c9bb779261ea __main__[227] INFO Loading 'trainExamples' from file...\n",
            "2024-01-09 18:21:02 c9bb779261ea Coach[227] WARNING File \"/content/drive/MyDrive/trabalho2_liacd/models/ataxx/6x6/best.h5.examples\" with trainExamples not found!\n",
            "2024-01-09 18:21:03 c9bb779261ea __main__[227] INFO Starting the learning process 🎉\n",
            "2024-01-09 18:21:03 c9bb779261ea Coach[227] INFO Starting Iter #1 ...\n",
            "Self Play: 100%|██████████| 25/25 [22:49<00:00, 54.80s/it]\n"
          ]
        },
        {
          "name": "stdout",
          "output_type": "stream",
          "text": [
            "Checkpoint Directory exists! \n"
          ]
        },
        {
          "name": "stderr",
          "output_type": "stream",
          "text": [
            "/usr/local/lib/python3.10/dist-packages/keras/src/engine/training.py:3103: UserWarning: You are saving your model as an HDF5 file via `model.save()`. This file format is considered legacy. We recommend using instead the native Keras format, e.g. `model.save('my_model.keras')`.\n",
            "  saving_api.save_model(\n"
          ]
        },
        {
          "name": "stdout",
          "output_type": "stream",
          "text": [
            "Epoch 1/10\n",
            "131/131 [==============================] - 6s 14ms/step - loss: 2.1145 - pi_loss: 1.5585 - v_loss: 0.5560\n",
            "Epoch 2/10\n",
            "131/131 [==============================] - 2s 12ms/step - loss: 1.5820 - pi_loss: 1.1187 - v_loss: 0.4633\n",
            "Epoch 3/10\n",
            "131/131 [==============================] - 1s 11ms/step - loss: 1.3280 - pi_loss: 0.9262 - v_loss: 0.4018\n",
            "Epoch 4/10\n",
            "131/131 [==============================] - 1s 9ms/step - loss: 1.1304 - pi_loss: 0.7848 - v_loss: 0.3456\n",
            "Epoch 5/10\n",
            "131/131 [==============================] - 1s 9ms/step - loss: 0.9857 - pi_loss: 0.6916 - v_loss: 0.2940\n",
            "Epoch 6/10\n",
            "131/131 [==============================] - 1s 9ms/step - loss: 0.8739 - pi_loss: 0.6248 - v_loss: 0.2491\n",
            "Epoch 7/10\n",
            "131/131 [==============================] - 1s 9ms/step - loss: 0.7983 - pi_loss: 0.5776 - v_loss: 0.2207\n",
            "Epoch 8/10\n",
            "131/131 [==============================] - 1s 9ms/step - loss: 0.7489 - pi_loss: 0.5469 - v_loss: 0.2020\n",
            "Epoch 9/10\n",
            "131/131 [==============================] - 1s 9ms/step - loss: 0.7018 - pi_loss: 0.5229 - v_loss: 0.1789\n",
            "Epoch 10/10\n",
            "131/131 [==============================] - 1s 9ms/step - loss: 0.6800 - pi_loss: 0.5087 - v_loss: 0.1713\n"
          ]
        },
        {
          "name": "stderr",
          "output_type": "stream",
          "text": [
            "2024-01-09 18:44:17 c9bb779261ea Coach[227] INFO PITTING AGAINST PREVIOUS VERSION\n",
            "Arena.playGames (1): 100%|██████████| 10/10 [12:02<00:00, 72.27s/it]\n",
            "Arena.playGames (2): 100%|██████████| 10/10 [12:05<00:00, 72.54s/it]\n",
            "2024-01-09 19:08:25 c9bb779261ea Coach[227] INFO NEW/PREV WINS : 14 / 4 ; DRAWS : 2\n",
            "2024-01-09 19:08:25 c9bb779261ea Coach[227] INFO ACCEPTING NEW MODEL\n"
          ]
        },
        {
          "name": "stdout",
          "output_type": "stream",
          "text": [
            "Checkpoint Directory exists! \n",
            "Checkpoint Directory exists! \n"
          ]
        },
        {
          "name": "stderr",
          "output_type": "stream",
          "text": [
            "2024-01-09 19:08:26 c9bb779261ea Coach[227] INFO Starting Iter #2 ...\n",
            "Self Play: 100%|██████████| 25/25 [20:21<00:00, 48.86s/it]\n"
          ]
        },
        {
          "name": "stdout",
          "output_type": "stream",
          "text": [
            "Checkpoint Directory exists! \n",
            "Epoch 1/10\n",
            "243/243 [==============================] - 3s 12ms/step - loss: 1.4711 - pi_loss: 1.0256 - v_loss: 0.4455\n",
            "Epoch 2/10\n",
            "243/243 [==============================] - 2s 9ms/step - loss: 1.1597 - pi_loss: 0.7908 - v_loss: 0.3689\n",
            "Epoch 3/10\n",
            "243/243 [==============================] - 2s 10ms/step - loss: 0.9970 - pi_loss: 0.6787 - v_loss: 0.3184\n",
            "Epoch 4/10\n",
            "243/243 [==============================] - 2s 9ms/step - loss: 0.8875 - pi_loss: 0.6122 - v_loss: 0.2753\n",
            "Epoch 5/10\n",
            "243/243 [==============================] - 2s 10ms/step - loss: 0.8210 - pi_loss: 0.5746 - v_loss: 0.2464\n",
            "Epoch 6/10\n",
            "243/243 [==============================] - 3s 12ms/step - loss: 0.7664 - pi_loss: 0.5440 - v_loss: 0.2224\n",
            "Epoch 7/10\n",
            "243/243 [==============================] - 3s 10ms/step - loss: 0.7344 - pi_loss: 0.5300 - v_loss: 0.2044\n",
            "Epoch 8/10\n",
            "243/243 [==============================] - 2s 9ms/step - loss: 0.7054 - pi_loss: 0.5122 - v_loss: 0.1932\n",
            "Epoch 9/10\n",
            "243/243 [==============================] - 2s 9ms/step - loss: 0.6893 - pi_loss: 0.5027 - v_loss: 0.1866\n",
            "Epoch 10/10\n",
            "243/243 [==============================] - 2s 9ms/step - loss: 0.6738 - pi_loss: 0.4960 - v_loss: 0.1778\n"
          ]
        },
        {
          "name": "stderr",
          "output_type": "stream",
          "text": [
            "2024-01-09 19:29:33 c9bb779261ea Coach[227] INFO PITTING AGAINST PREVIOUS VERSION\n",
            "Arena.playGames (1): 100%|██████████| 10/10 [10:57<00:00, 65.70s/it]\n",
            "Arena.playGames (2): 100%|██████████| 10/10 [11:56<00:00, 71.69s/it]\n",
            "2024-01-09 19:52:27 c9bb779261ea Coach[227] INFO NEW/PREV WINS : 7 / 9 ; DRAWS : 4\n",
            "2024-01-09 19:52:27 c9bb779261ea Coach[227] INFO REJECTING NEW MODEL\n",
            "2024-01-09 19:52:29 c9bb779261ea Coach[227] INFO Starting Iter #3 ...\n",
            "Self Play: 100%|██████████| 25/25 [18:33<00:00, 44.56s/it]\n"
          ]
        },
        {
          "name": "stdout",
          "output_type": "stream",
          "text": [
            "Checkpoint Directory exists! \n",
            "Epoch 1/10\n",
            "349/349 [==============================] - 5s 9ms/step - loss: 1.5906 - pi_loss: 1.1245 - v_loss: 0.4661\n",
            "Epoch 2/10\n",
            "349/349 [==============================] - 3s 10ms/step - loss: 1.2845 - pi_loss: 0.8843 - v_loss: 0.4002\n",
            "Epoch 3/10\n",
            "349/349 [==============================] - 4s 11ms/step - loss: 1.1052 - pi_loss: 0.7569 - v_loss: 0.3483\n",
            "Epoch 4/10\n",
            "349/349 [==============================] - 4s 10ms/step - loss: 0.9793 - pi_loss: 0.6739 - v_loss: 0.3054\n",
            "Epoch 5/10\n",
            "349/349 [==============================] - 3s 9ms/step - loss: 0.8825 - pi_loss: 0.6126 - v_loss: 0.2699\n",
            "Epoch 6/10\n",
            "349/349 [==============================] - 3s 9ms/step - loss: 0.8231 - pi_loss: 0.5783 - v_loss: 0.2447\n",
            "Epoch 7/10\n",
            "349/349 [==============================] - 4s 11ms/step - loss: 0.7781 - pi_loss: 0.5522 - v_loss: 0.2258\n",
            "Epoch 8/10\n",
            "349/349 [==============================] - 4s 11ms/step - loss: 0.7423 - pi_loss: 0.5318 - v_loss: 0.2106\n",
            "Epoch 9/10\n",
            "349/349 [==============================] - 3s 10ms/step - loss: 0.7160 - pi_loss: 0.5178 - v_loss: 0.1982\n",
            "Epoch 10/10\n",
            "349/349 [==============================] - 3s 9ms/step - loss: 0.6971 - pi_loss: 0.5082 - v_loss: 0.1889\n"
          ]
        },
        {
          "name": "stderr",
          "output_type": "stream",
          "text": [
            "2024-01-09 20:11:45 c9bb779261ea Coach[227] INFO PITTING AGAINST PREVIOUS VERSION\n",
            "Arena.playGames (1): 100%|██████████| 10/10 [12:14<00:00, 73.46s/it]\n",
            "Arena.playGames (2): 100%|██████████| 10/10 [11:55<00:00, 71.59s/it]\n",
            "2024-01-09 20:35:55 c9bb779261ea Coach[227] INFO NEW/PREV WINS : 8 / 7 ; DRAWS : 5\n",
            "2024-01-09 20:35:55 c9bb779261ea Coach[227] INFO REJECTING NEW MODEL\n",
            "2024-01-09 20:35:56 c9bb779261ea Coach[227] INFO Starting Iter #4 ...\n",
            "Self Play: 100%|██████████| 25/25 [19:28<00:00, 46.76s/it]\n"
          ]
        },
        {
          "name": "stdout",
          "output_type": "stream",
          "text": [
            "Checkpoint Directory exists! \n",
            "Epoch 1/10\n",
            "451/451 [==============================] - 6s 10ms/step - loss: 1.6769 - pi_loss: 1.1932 - v_loss: 0.4837\n",
            "Epoch 2/10\n",
            "451/451 [==============================] - 4s 9ms/step - loss: 1.3726 - pi_loss: 0.9473 - v_loss: 0.4252\n",
            "Epoch 3/10\n",
            "451/451 [==============================] - 4s 9ms/step - loss: 1.1839 - pi_loss: 0.8114 - v_loss: 0.3725\n",
            "Epoch 4/10\n",
            "451/451 [==============================] - 5s 10ms/step - loss: 1.0389 - pi_loss: 0.7117 - v_loss: 0.3272\n",
            "Epoch 5/10\n",
            "451/451 [==============================] - 4s 9ms/step - loss: 0.9387 - pi_loss: 0.6471 - v_loss: 0.2916\n",
            "Epoch 6/10\n",
            "451/451 [==============================] - 4s 8ms/step - loss: 0.8624 - pi_loss: 0.5994 - v_loss: 0.2631\n",
            "Epoch 7/10\n",
            "451/451 [==============================] - 4s 9ms/step - loss: 0.8095 - pi_loss: 0.5706 - v_loss: 0.2389\n",
            "Epoch 8/10\n",
            "451/451 [==============================] - 4s 10ms/step - loss: 0.7764 - pi_loss: 0.5510 - v_loss: 0.2254\n",
            "Epoch 9/10\n",
            "451/451 [==============================] - 4s 9ms/step - loss: 0.7435 - pi_loss: 0.5337 - v_loss: 0.2098\n",
            "Epoch 10/10\n",
            "451/451 [==============================] - 4s 9ms/step - loss: 0.7256 - pi_loss: 0.5241 - v_loss: 0.2015\n"
          ]
        },
        {
          "name": "stderr",
          "output_type": "stream",
          "text": [
            "2024-01-09 20:56:14 c9bb779261ea Coach[227] INFO PITTING AGAINST PREVIOUS VERSION\n",
            "Arena.playGames (1): 100%|██████████| 10/10 [11:24<00:00, 68.41s/it]\n",
            "Arena.playGames (2): 100%|██████████| 10/10 [11:35<00:00, 69.54s/it]\n",
            "2024-01-09 21:19:13 c9bb779261ea Coach[227] INFO NEW/PREV WINS : 5 / 9 ; DRAWS : 6\n",
            "2024-01-09 21:19:13 c9bb779261ea Coach[227] INFO REJECTING NEW MODEL\n",
            "2024-01-09 21:19:15 c9bb779261ea Coach[227] INFO Starting Iter #5 ...\n",
            "Self Play: 100%|██████████| 25/25 [20:34<00:00, 49.39s/it]\n"
          ]
        },
        {
          "name": "stdout",
          "output_type": "stream",
          "text": [
            "Checkpoint Directory exists! \n",
            "Epoch 1/10\n",
            "566/566 [==============================] - 7s 10ms/step - loss: 1.7198 - pi_loss: 1.2289 - v_loss: 0.4909\n",
            "Epoch 2/10\n",
            "566/566 [==============================] - 6s 11ms/step - loss: 1.4251 - pi_loss: 0.9898 - v_loss: 0.4353\n",
            "Epoch 3/10\n",
            "566/566 [==============================] - 5s 9ms/step - loss: 1.2402 - pi_loss: 0.8553 - v_loss: 0.3849\n",
            "Epoch 4/10\n",
            "566/566 [==============================] - 6s 11ms/step - loss: 1.0946 - pi_loss: 0.7516 - v_loss: 0.3430\n",
            "Epoch 5/10\n",
            "566/566 [==============================] - 6s 10ms/step - loss: 0.9783 - pi_loss: 0.6718 - v_loss: 0.3065\n",
            "Epoch 6/10\n",
            "566/566 [==============================] - 5s 9ms/step - loss: 0.9067 - pi_loss: 0.6312 - v_loss: 0.2754\n",
            "Epoch 7/10\n",
            "566/566 [==============================] - 6s 11ms/step - loss: 0.8462 - pi_loss: 0.5902 - v_loss: 0.2560\n",
            "Epoch 8/10\n",
            "566/566 [==============================] - 5s 9ms/step - loss: 0.8008 - pi_loss: 0.5627 - v_loss: 0.2381\n",
            "Epoch 9/10\n",
            "566/566 [==============================] - 6s 10ms/step - loss: 0.7729 - pi_loss: 0.5490 - v_loss: 0.2239\n",
            "Epoch 10/10\n",
            "566/566 [==============================] - 6s 10ms/step - loss: 0.7442 - pi_loss: 0.5326 - v_loss: 0.2116\n"
          ]
        },
        {
          "name": "stderr",
          "output_type": "stream",
          "text": [
            "2024-01-09 21:41:19 c9bb779261ea Coach[227] INFO PITTING AGAINST PREVIOUS VERSION\n",
            "Arena.playGames (1): 100%|██████████| 10/10 [11:31<00:00, 69.18s/it]\n",
            "Arena.playGames (2): 100%|██████████| 10/10 [12:20<00:00, 74.03s/it]\n",
            "2024-01-09 22:05:11 c9bb779261ea Coach[227] INFO NEW/PREV WINS : 9 / 5 ; DRAWS : 6\n",
            "2024-01-09 22:05:11 c9bb779261ea Coach[227] INFO ACCEPTING NEW MODEL\n"
          ]
        },
        {
          "name": "stdout",
          "output_type": "stream",
          "text": [
            "Checkpoint Directory exists! \n",
            "Checkpoint Directory exists! \n"
          ]
        },
        {
          "name": "stderr",
          "output_type": "stream",
          "text": [
            "2024-01-09 22:05:12 c9bb779261ea Coach[227] INFO Starting Iter #6 ...\n",
            "Self Play: 100%|██████████| 25/25 [20:08<00:00, 48.34s/it]\n"
          ]
        },
        {
          "name": "stdout",
          "output_type": "stream",
          "text": [
            "Checkpoint Directory exists! \n",
            "Epoch 1/10\n",
            "678/678 [==============================] - 8s 11ms/step - loss: 0.9854 - pi_loss: 0.7161 - v_loss: 0.2692\n",
            "Epoch 2/10\n",
            "678/678 [==============================] - 6s 9ms/step - loss: 0.8424 - pi_loss: 0.6040 - v_loss: 0.2383\n",
            "Epoch 3/10\n",
            "678/678 [==============================] - 7s 10ms/step - loss: 0.7772 - pi_loss: 0.5587 - v_loss: 0.2185\n",
            "Epoch 4/10\n",
            "678/678 [==============================] - 7s 10ms/step - loss: 0.7429 - pi_loss: 0.5375 - v_loss: 0.2054\n",
            "Epoch 5/10\n",
            "678/678 [==============================] - 7s 10ms/step - loss: 0.7115 - pi_loss: 0.5181 - v_loss: 0.1933\n",
            "Epoch 6/10\n",
            "678/678 [==============================] - 7s 10ms/step - loss: 0.6946 - pi_loss: 0.5083 - v_loss: 0.1863\n",
            "Epoch 7/10\n",
            "678/678 [==============================] - 7s 10ms/step - loss: 0.6816 - pi_loss: 0.5010 - v_loss: 0.1807\n",
            "Epoch 8/10\n",
            "678/678 [==============================] - 7s 10ms/step - loss: 0.6713 - pi_loss: 0.4972 - v_loss: 0.1741\n",
            "Epoch 9/10\n",
            "678/678 [==============================] - 6s 10ms/step - loss: 0.6607 - pi_loss: 0.4918 - v_loss: 0.1689\n",
            "Epoch 10/10\n",
            "678/678 [==============================] - 7s 11ms/step - loss: 0.6491 - pi_loss: 0.4858 - v_loss: 0.1633\n"
          ]
        },
        {
          "name": "stderr",
          "output_type": "stream",
          "text": [
            "2024-01-09 22:26:36 c9bb779261ea Coach[227] INFO PITTING AGAINST PREVIOUS VERSION\n",
            "Arena.playGames (1): 100%|██████████| 10/10 [11:49<00:00, 70.93s/it]\n",
            "Arena.playGames (2): 100%|██████████| 10/10 [12:17<00:00, 73.76s/it]\n",
            "2024-01-09 22:50:43 c9bb779261ea Coach[227] INFO NEW/PREV WINS : 4 / 9 ; DRAWS : 7\n",
            "2024-01-09 22:50:43 c9bb779261ea Coach[227] INFO REJECTING NEW MODEL\n",
            "2024-01-09 22:50:45 c9bb779261ea Coach[227] INFO Starting Iter #7 ...\n",
            "Self Play: 100%|██████████| 25/25 [18:51<00:00, 45.27s/it]\n"
          ]
        },
        {
          "name": "stdout",
          "output_type": "stream",
          "text": [
            "Checkpoint Directory exists! \n",
            "Epoch 1/10\n",
            "787/787 [==============================] - 9s 10ms/step - loss: 1.1473 - pi_loss: 0.8287 - v_loss: 0.3186\n",
            "Epoch 2/10\n",
            "787/787 [==============================] - 8s 10ms/step - loss: 0.9643 - pi_loss: 0.6853 - v_loss: 0.2791\n",
            "Epoch 3/10\n",
            "787/787 [==============================] - 7s 9ms/step - loss: 0.8726 - pi_loss: 0.6183 - v_loss: 0.2543\n",
            "Epoch 4/10\n",
            "787/787 [==============================] - 8s 10ms/step - loss: 0.8061 - pi_loss: 0.5737 - v_loss: 0.2325\n",
            "Epoch 5/10\n",
            "787/787 [==============================] - 7s 9ms/step - loss: 0.7660 - pi_loss: 0.5485 - v_loss: 0.2175\n",
            "Epoch 6/10\n",
            "787/787 [==============================] - 8s 10ms/step - loss: 0.7389 - pi_loss: 0.5312 - v_loss: 0.2077\n",
            "Epoch 7/10\n",
            "787/787 [==============================] - 8s 10ms/step - loss: 0.7183 - pi_loss: 0.5226 - v_loss: 0.1957\n",
            "Epoch 8/10\n",
            "787/787 [==============================] - 8s 10ms/step - loss: 0.7017 - pi_loss: 0.5119 - v_loss: 0.1898\n",
            "Epoch 9/10\n",
            "787/787 [==============================] - 8s 10ms/step - loss: 0.6870 - pi_loss: 0.5042 - v_loss: 0.1828\n",
            "Epoch 10/10\n",
            "787/787 [==============================] - 7s 9ms/step - loss: 0.6799 - pi_loss: 0.5020 - v_loss: 0.1780\n"
          ]
        },
        {
          "name": "stderr",
          "output_type": "stream",
          "text": [
            "2024-01-09 23:11:04 c9bb779261ea Coach[227] INFO PITTING AGAINST PREVIOUS VERSION\n",
            "Arena.playGames (1): 100%|██████████| 10/10 [10:48<00:00, 64.85s/it]\n",
            "Arena.playGames (2): 100%|██████████| 10/10 [10:44<00:00, 64.46s/it]\n",
            "2024-01-09 23:32:37 c9bb779261ea Coach[227] INFO NEW/PREV WINS : 2 / 11 ; DRAWS : 7\n",
            "2024-01-09 23:32:37 c9bb779261ea Coach[227] INFO REJECTING NEW MODEL\n",
            "2024-01-09 23:32:38 c9bb779261ea Coach[227] INFO Starting Iter #8 ...\n",
            "Self Play:  92%|█████████▏| 23/25 [17:54<01:24, 42.43s/it]"
          ]
        }
      ],
      "source": [
        "\n",
        "args = dotdict({\n",
        "  'numIters':15,\n",
        "  'numEps': 25,              # Number of complete self-play games to simulate during a new iteration.\n",
        "  'tempThreshold': 15,        #\n",
        "  'updateThreshold': 0.6,     # During arena playoff, new neural net will be accepted if threshold or more of games are won.\n",
        "  'maxlenOfQueue': 50000,    # Number of game examples to train the neural networks.\n",
        "  'numMCTSSims': 25,          # Number of games moves for MCTS to simulate.\n",
        "  'arenaCompare': 20,         # Number of games to play during arena play to determine if new net will be accepted.\n",
        "  'cpuct': 1,\n",
        "\n",
        "  'checkpoint': '/content/drive/MyDrive/trabalho2_liacd/models/ataxx/6x6',\n",
        "  'load_model': True,\n",
        "  'load_folder_file': ('/content/drive/MyDrive/trabalho2_liacd/models/ataxx/6x6', 'best.h5'),\n",
        "  'numItersForTrainExamplesHistory': 20,\n",
        "\n",
        "})\n",
        "\n",
        "log.info('Loading %s...', Game.__name__)\n",
        "g = Game(6)\n",
        "\n",
        "log.info('Loading %s...', nn.__name__)\n",
        "nnet = nn(g)\n",
        "\n",
        "if args.load_model:\n",
        "  log.info('Loading checkpoint \"%s/%s\"...', args.load_folder_file[0], args.load_folder_file[1])\n",
        "  nnet.load_model(args.load_folder_file[0], args.load_folder_file[1])\n",
        "else:\n",
        "  log.warning('Not loading a checkpoint!')\n",
        "\n",
        "log.info('Loading the Coach...')\n",
        "c = Coach(g, nnet, args)\n",
        "\n",
        "if args.load_model:\n",
        "  log.info(\"Loading 'trainExamples' from file...\")\n",
        "  c.loadTrainExamples()\n",
        "\n",
        "log.info('Starting the learning process 🎉')\n",
        "c.learn()\n",
        "\n"
      ]
    },
    {
      "cell_type": "markdown",
      "metadata": {
        "id": "nwBS6CWk0n-t"
      },
      "source": [
        "#Décimo Sétimo Treino"
      ]
    },
    {
      "cell_type": "code",
      "execution_count": null,
      "metadata": {
        "colab": {
          "background_save": true,
          "base_uri": "https://localhost:8080/"
        },
        "id": "bEfPKQ-v0qfP",
        "outputId": "1dba6492-7d62-44aa-cb8a-7e27891ed659"
      },
      "outputs": [
        {
          "name": "stderr",
          "output_type": "stream",
          "text": [
            "2024-01-10 14:42:04 18fb81d6a229 __main__[380] INFO Loading AtaxxGame...\n",
            "2024-01-10 14:42:04 18fb81d6a229 __main__[380] INFO Loading NNetWrapper...\n",
            "2024-01-10 14:42:06 18fb81d6a229 __main__[380] INFO Loading checkpoint \"/content/drive/MyDrive/trabalho2_liacd/models/ataxx/6x6/best.h5\"...\n",
            "2024-01-10 14:42:09 18fb81d6a229 __main__[380] INFO Loading the Coach...\n",
            "2024-01-10 14:42:09 18fb81d6a229 __main__[380] INFO Loading 'trainExamples' from file...\n",
            "2024-01-10 14:42:09 18fb81d6a229 Coach[380] WARNING File \"/content/drive/MyDrive/trabalho2_liacd/models/ataxx/6x6/best.h5.examples\" with trainExamples not found!\n",
            "2024-01-10 14:42:10 18fb81d6a229 __main__[380] INFO Starting the learning process 🎉\n",
            "2024-01-10 14:42:10 18fb81d6a229 Coach[380] INFO Starting Iter #1 ...\n",
            "Self Play: 100%|██████████| 25/25 [20:41<00:00, 49.66s/it]\n"
          ]
        },
        {
          "name": "stdout",
          "output_type": "stream",
          "text": [
            "Checkpoint Directory exists! \n"
          ]
        },
        {
          "name": "stderr",
          "output_type": "stream",
          "text": [
            "/usr/local/lib/python3.10/dist-packages/keras/src/engine/training.py:3103: UserWarning: You are saving your model as an HDF5 file via `model.save()`. This file format is considered legacy. We recommend using instead the native Keras format, e.g. `model.save('my_model.keras')`.\n",
            "  saving_api.save_model(\n"
          ]
        },
        {
          "name": "stdout",
          "output_type": "stream",
          "text": [
            "Epoch 1/10\n",
            "113/113 [==============================] - 6s 13ms/step - loss: 2.1961 - pi_loss: 1.4468 - v_loss: 0.7493\n",
            "Epoch 2/10\n",
            "113/113 [==============================] - 1s 12ms/step - loss: 1.6311 - pi_loss: 1.0339 - v_loss: 0.5972\n",
            "Epoch 3/10\n",
            "113/113 [==============================] - 2s 16ms/step - loss: 1.3346 - pi_loss: 0.8461 - v_loss: 0.4885\n",
            "Epoch 4/10\n",
            "113/113 [==============================] - 1s 12ms/step - loss: 1.1030 - pi_loss: 0.7187 - v_loss: 0.3843\n",
            "Epoch 5/10\n",
            "113/113 [==============================] - 1s 10ms/step - loss: 0.9497 - pi_loss: 0.6396 - v_loss: 0.3101\n",
            "Epoch 6/10\n",
            "113/113 [==============================] - 1s 10ms/step - loss: 0.8412 - pi_loss: 0.5737 - v_loss: 0.2675\n",
            "Epoch 7/10\n",
            "113/113 [==============================] - 1s 10ms/step - loss: 0.7854 - pi_loss: 0.5478 - v_loss: 0.2376\n",
            "Epoch 8/10\n",
            "113/113 [==============================] - 1s 10ms/step - loss: 0.7505 - pi_loss: 0.5204 - v_loss: 0.2300\n",
            "Epoch 9/10\n",
            "113/113 [==============================] - 1s 10ms/step - loss: 0.7154 - pi_loss: 0.5005 - v_loss: 0.2149\n",
            "Epoch 10/10\n",
            "113/113 [==============================] - 1s 10ms/step - loss: 0.6959 - pi_loss: 0.4868 - v_loss: 0.2091\n"
          ]
        },
        {
          "name": "stderr",
          "output_type": "stream",
          "text": [
            "2024-01-10 15:03:16 18fb81d6a229 Coach[380] INFO PITTING AGAINST PREVIOUS VERSION\n",
            "Arena.playGames (1): 100%|██████████| 10/10 [09:49<00:00, 58.99s/it]\n",
            "Arena.playGames (2): 100%|██████████| 10/10 [11:42<00:00, 70.23s/it]\n",
            "2024-01-10 15:24:48 18fb81d6a229 Coach[380] INFO NEW/PREV WINS : 7 / 10 ; DRAWS : 3\n",
            "2024-01-10 15:24:48 18fb81d6a229 Coach[380] INFO REJECTING NEW MODEL\n",
            "2024-01-10 15:24:50 18fb81d6a229 Coach[380] INFO Starting Iter #2 ...\n",
            "Self Play: 100%|██████████| 25/25 [23:36<00:00, 56.68s/it]\n"
          ]
        },
        {
          "name": "stdout",
          "output_type": "stream",
          "text": [
            "Checkpoint Directory exists! \n",
            "Epoch 1/10\n",
            "238/238 [==============================] - 4s 12ms/step - loss: 2.0738 - pi_loss: 1.3866 - v_loss: 0.6872\n",
            "Epoch 2/10\n",
            "238/238 [==============================] - 3s 12ms/step - loss: 1.6834 - pi_loss: 1.0692 - v_loss: 0.6142\n",
            "Epoch 3/10\n",
            "238/238 [==============================] - 2s 10ms/step - loss: 1.4545 - pi_loss: 0.9039 - v_loss: 0.5506\n",
            "Epoch 4/10\n",
            "238/238 [==============================] - 2s 10ms/step - loss: 1.2655 - pi_loss: 0.7820 - v_loss: 0.4835\n",
            "Epoch 5/10\n",
            "238/238 [==============================] - 2s 10ms/step - loss: 1.1083 - pi_loss: 0.6916 - v_loss: 0.4167\n",
            "Epoch 6/10\n",
            "238/238 [==============================] - 2s 10ms/step - loss: 0.9814 - pi_loss: 0.6211 - v_loss: 0.3603\n",
            "Epoch 7/10\n",
            "238/238 [==============================] - 3s 12ms/step - loss: 0.8948 - pi_loss: 0.5795 - v_loss: 0.3153\n",
            "Epoch 8/10\n",
            "238/238 [==============================] - 3s 11ms/step - loss: 0.8273 - pi_loss: 0.5433 - v_loss: 0.2839\n",
            "Epoch 9/10\n",
            "238/238 [==============================] - 2s 10ms/step - loss: 0.7824 - pi_loss: 0.5205 - v_loss: 0.2620\n",
            "Epoch 10/10\n",
            "238/238 [==============================] - 2s 10ms/step - loss: 0.7523 - pi_loss: 0.5027 - v_loss: 0.2495\n"
          ]
        },
        {
          "name": "stderr",
          "output_type": "stream",
          "text": [
            "2024-01-10 15:49:12 18fb81d6a229 Coach[380] INFO PITTING AGAINST PREVIOUS VERSION\n",
            "Arena.playGames (1): 100%|██████████| 10/10 [12:13<00:00, 73.38s/it]\n",
            "Arena.playGames (2): 100%|██████████| 10/10 [11:21<00:00, 68.16s/it]\n",
            "2024-01-10 16:12:47 18fb81d6a229 Coach[380] INFO NEW/PREV WINS : 5 / 12 ; DRAWS : 3\n",
            "2024-01-10 16:12:47 18fb81d6a229 Coach[380] INFO REJECTING NEW MODEL\n",
            "2024-01-10 16:12:49 18fb81d6a229 Coach[380] INFO Starting Iter #3 ...\n",
            "Self Play: 100%|██████████| 25/25 [21:04<00:00, 50.60s/it]\n"
          ]
        },
        {
          "name": "stdout",
          "output_type": "stream",
          "text": [
            "Checkpoint Directory exists! \n",
            "Epoch 1/10\n",
            "353/353 [==============================] - 5s 11ms/step - loss: 2.0126 - pi_loss: 1.3703 - v_loss: 0.6423\n",
            "Epoch 2/10\n",
            "353/353 [==============================] - 4s 12ms/step - loss: 1.6669 - pi_loss: 1.0921 - v_loss: 0.5747\n",
            "Epoch 3/10\n",
            "353/353 [==============================] - 3s 10ms/step - loss: 1.4683 - pi_loss: 0.9456 - v_loss: 0.5227\n",
            "Epoch 4/10\n",
            "353/353 [==============================] - 3s 10ms/step - loss: 1.2923 - pi_loss: 0.8276 - v_loss: 0.4647\n",
            "Epoch 5/10\n",
            "353/353 [==============================] - 4s 11ms/step - loss: 1.1394 - pi_loss: 0.7329 - v_loss: 0.4065\n",
            "Epoch 6/10\n",
            "353/353 [==============================] - 4s 11ms/step - loss: 1.0100 - pi_loss: 0.6540 - v_loss: 0.3560\n",
            "Epoch 7/10\n",
            "353/353 [==============================] - 3s 10ms/step - loss: 0.9177 - pi_loss: 0.6045 - v_loss: 0.3132\n",
            "Epoch 8/10\n",
            "353/353 [==============================] - 3s 10ms/step - loss: 0.8509 - pi_loss: 0.5662 - v_loss: 0.2847\n",
            "Epoch 9/10\n",
            "353/353 [==============================] - 4s 10ms/step - loss: 0.8005 - pi_loss: 0.5365 - v_loss: 0.2640\n",
            "Epoch 10/10\n",
            "353/353 [==============================] - 4s 11ms/step - loss: 0.7691 - pi_loss: 0.5202 - v_loss: 0.2490\n"
          ]
        },
        {
          "name": "stderr",
          "output_type": "stream",
          "text": [
            "2024-01-10 16:34:40 18fb81d6a229 Coach[380] INFO PITTING AGAINST PREVIOUS VERSION\n",
            "Arena.playGames (1): 100%|██████████| 10/10 [09:50<00:00, 59.05s/it]\n",
            "Arena.playGames (2): 100%|██████████| 10/10 [12:34<00:00, 75.50s/it]\n",
            "2024-01-10 16:57:05 18fb81d6a229 Coach[380] INFO NEW/PREV WINS : 9 / 7 ; DRAWS : 4\n",
            "2024-01-10 16:57:05 18fb81d6a229 Coach[380] INFO REJECTING NEW MODEL\n",
            "2024-01-10 16:57:07 18fb81d6a229 Coach[380] INFO Starting Iter #4 ...\n",
            "Self Play: 100%|██████████| 25/25 [23:27<00:00, 56.31s/it]\n"
          ]
        },
        {
          "name": "stdout",
          "output_type": "stream",
          "text": [
            "Checkpoint Directory exists! \n",
            "Epoch 1/10\n",
            "479/479 [==============================] - 7s 12ms/step - loss: 1.9247 - pi_loss: 1.3397 - v_loss: 0.5849\n",
            "Epoch 2/10\n",
            "479/479 [==============================] - 5s 11ms/step - loss: 1.6312 - pi_loss: 1.0972 - v_loss: 0.5339\n",
            "Epoch 3/10\n",
            "479/479 [==============================] - 5s 10ms/step - loss: 1.4581 - pi_loss: 0.9600 - v_loss: 0.4981\n",
            "Epoch 4/10\n",
            "479/479 [==============================] - 5s 11ms/step - loss: 1.2974 - pi_loss: 0.8403 - v_loss: 0.4571\n",
            "Epoch 5/10\n",
            "479/479 [==============================] - 5s 10ms/step - loss: 1.1575 - pi_loss: 0.7476 - v_loss: 0.4099\n",
            "Epoch 6/10\n",
            "479/479 [==============================] - 5s 10ms/step - loss: 1.0320 - pi_loss: 0.6627 - v_loss: 0.3693\n",
            "Epoch 7/10\n",
            "479/479 [==============================] - 5s 11ms/step - loss: 0.9408 - pi_loss: 0.6089 - v_loss: 0.3319\n",
            "Epoch 8/10\n",
            "479/479 [==============================] - 5s 10ms/step - loss: 0.8658 - pi_loss: 0.5661 - v_loss: 0.2997\n",
            "Epoch 9/10\n",
            "479/479 [==============================] - 5s 10ms/step - loss: 0.8159 - pi_loss: 0.5375 - v_loss: 0.2784\n",
            "Epoch 10/10\n",
            "479/479 [==============================] - 5s 11ms/step - loss: 0.7730 - pi_loss: 0.5166 - v_loss: 0.2564\n"
          ]
        },
        {
          "name": "stderr",
          "output_type": "stream",
          "text": [
            "2024-01-10 17:21:31 18fb81d6a229 Coach[380] INFO PITTING AGAINST PREVIOUS VERSION\n",
            "Arena.playGames (1): 100%|██████████| 10/10 [11:14<00:00, 67.49s/it]\n",
            "Arena.playGames (2): 100%|██████████| 10/10 [11:49<00:00, 70.91s/it]\n",
            "2024-01-10 17:44:35 18fb81d6a229 Coach[380] INFO NEW/PREV WINS : 5 / 11 ; DRAWS : 4\n",
            "2024-01-10 17:44:35 18fb81d6a229 Coach[380] INFO REJECTING NEW MODEL\n",
            "2024-01-10 17:44:37 18fb81d6a229 Coach[380] INFO Starting Iter #5 ...\n",
            "Self Play: 100%|██████████| 25/25 [20:06<00:00, 48.25s/it]\n"
          ]
        },
        {
          "name": "stdout",
          "output_type": "stream",
          "text": [
            "Checkpoint Directory exists! \n",
            "Epoch 1/10\n",
            "587/587 [==============================] - 8s 12ms/step - loss: 1.9004 - pi_loss: 1.3374 - v_loss: 0.5630\n",
            "Epoch 2/10\n",
            "587/587 [==============================] - 6s 10ms/step - loss: 1.6309 - pi_loss: 1.1122 - v_loss: 0.5187\n",
            "Epoch 3/10\n",
            "587/587 [==============================] - 6s 10ms/step - loss: 1.4605 - pi_loss: 0.9770 - v_loss: 0.4834\n",
            "Epoch 4/10\n",
            "587/587 [==============================] - 6s 10ms/step - loss: 1.3107 - pi_loss: 0.8670 - v_loss: 0.4437\n",
            "Epoch 5/10\n",
            "587/587 [==============================] - 6s 10ms/step - loss: 1.1719 - pi_loss: 0.7704 - v_loss: 0.4015\n",
            "Epoch 6/10\n",
            "587/587 [==============================] - 7s 11ms/step - loss: 1.0432 - pi_loss: 0.6866 - v_loss: 0.3566\n",
            "Epoch 7/10\n",
            "587/587 [==============================] - 6s 10ms/step - loss: 0.9450 - pi_loss: 0.6257 - v_loss: 0.3193\n",
            "Epoch 8/10\n",
            "587/587 [==============================] - 6s 11ms/step - loss: 0.8785 - pi_loss: 0.5832 - v_loss: 0.2953\n",
            "Epoch 9/10\n",
            "587/587 [==============================] - 6s 10ms/step - loss: 0.8249 - pi_loss: 0.5512 - v_loss: 0.2736\n",
            "Epoch 10/10\n",
            "587/587 [==============================] - 6s 10ms/step - loss: 0.7815 - pi_loss: 0.5260 - v_loss: 0.2555\n"
          ]
        },
        {
          "name": "stderr",
          "output_type": "stream",
          "text": [
            "2024-01-10 18:05:50 18fb81d6a229 Coach[380] INFO PITTING AGAINST PREVIOUS VERSION\n",
            "Arena.playGames (1): 100%|██████████| 10/10 [12:03<00:00, 72.34s/it]\n",
            "Arena.playGames (2): 100%|██████████| 10/10 [12:17<00:00, 73.70s/it]\n",
            "2024-01-10 18:30:11 18fb81d6a229 Coach[380] INFO NEW/PREV WINS : 11 / 8 ; DRAWS : 1\n",
            "2024-01-10 18:30:11 18fb81d6a229 Coach[380] INFO REJECTING NEW MODEL\n",
            "2024-01-10 18:30:12 18fb81d6a229 Coach[380] INFO Starting Iter #6 ...\n",
            "Self Play: 100%|██████████| 25/25 [23:43<00:00, 56.95s/it]\n"
          ]
        },
        {
          "name": "stdout",
          "output_type": "stream",
          "text": [
            "Checkpoint Directory exists! \n",
            "Epoch 1/10\n",
            "712/712 [==============================] - 10s 12ms/step - loss: 1.8590 - pi_loss: 1.3033 - v_loss: 0.5557\n",
            "Epoch 2/10\n",
            "712/712 [==============================] - 7s 10ms/step - loss: 1.6051 - pi_loss: 1.0875 - v_loss: 0.5176\n",
            "Epoch 3/10\n",
            "712/712 [==============================] - 8s 11ms/step - loss: 1.4555 - pi_loss: 0.9663 - v_loss: 0.4892\n",
            "Epoch 4/10\n",
            "712/712 [==============================] - 7s 10ms/step - loss: 1.3110 - pi_loss: 0.8556 - v_loss: 0.4554\n",
            "Epoch 5/10\n",
            "712/712 [==============================] - 8s 11ms/step - loss: 1.1755 - pi_loss: 0.7617 - v_loss: 0.4138\n",
            "Epoch 6/10\n",
            "712/712 [==============================] - 7s 10ms/step - loss: 1.0544 - pi_loss: 0.6816 - v_loss: 0.3728\n",
            "Epoch 7/10\n",
            "712/712 [==============================] - 8s 11ms/step - loss: 0.9602 - pi_loss: 0.6213 - v_loss: 0.3390\n",
            "Epoch 8/10\n",
            "712/712 [==============================] - 7s 10ms/step - loss: 0.8853 - pi_loss: 0.5767 - v_loss: 0.3086\n",
            "Epoch 9/10\n",
            "712/712 [==============================] - 8s 11ms/step - loss: 0.8280 - pi_loss: 0.5431 - v_loss: 0.2849\n",
            "Epoch 10/10\n",
            "712/712 [==============================] - 7s 10ms/step - loss: 0.7936 - pi_loss: 0.5258 - v_loss: 0.2678\n"
          ]
        },
        {
          "name": "stderr",
          "output_type": "stream",
          "text": [
            "2024-01-10 18:55:18 18fb81d6a229 Coach[380] INFO PITTING AGAINST PREVIOUS VERSION\n",
            "Arena.playGames (1): 100%|██████████| 10/10 [11:37<00:00, 69.80s/it]\n",
            "Arena.playGames (2): 100%|██████████| 10/10 [11:30<00:00, 69.09s/it]\n",
            "2024-01-10 19:18:27 18fb81d6a229 Coach[380] INFO NEW/PREV WINS : 9 / 5 ; DRAWS : 6\n",
            "2024-01-10 19:18:27 18fb81d6a229 Coach[380] INFO ACCEPTING NEW MODEL\n"
          ]
        },
        {
          "name": "stdout",
          "output_type": "stream",
          "text": [
            "Checkpoint Directory exists! \n",
            "Checkpoint Directory exists! \n"
          ]
        },
        {
          "name": "stderr",
          "output_type": "stream",
          "text": [
            "2024-01-10 19:18:27 18fb81d6a229 Coach[380] INFO Starting Iter #7 ...\n",
            "Self Play: 100%|██████████| 25/25 [22:39<00:00, 54.40s/it]\n"
          ]
        },
        {
          "name": "stdout",
          "output_type": "stream",
          "text": [
            "Checkpoint Directory exists! \n",
            "Epoch 1/10\n",
            "832/832 [==============================] - 8s 10ms/step - loss: 0.9935 - pi_loss: 0.6685 - v_loss: 0.3251\n",
            "Epoch 2/10\n",
            "832/832 [==============================] - 9s 11ms/step - loss: 0.8775 - pi_loss: 0.5828 - v_loss: 0.2947\n",
            "Epoch 3/10\n",
            "832/832 [==============================] - 8s 10ms/step - loss: 0.8122 - pi_loss: 0.5402 - v_loss: 0.2720\n",
            "Epoch 4/10\n",
            "832/832 [==============================] - 9s 10ms/step - loss: 0.7721 - pi_loss: 0.5164 - v_loss: 0.2557\n",
            "Epoch 5/10\n",
            "832/832 [==============================] - 9s 11ms/step - loss: 0.7438 - pi_loss: 0.5011 - v_loss: 0.2427\n",
            "Epoch 6/10\n",
            "832/832 [==============================] - 8s 10ms/step - loss: 0.7223 - pi_loss: 0.4908 - v_loss: 0.2315\n",
            "Epoch 7/10\n",
            "832/832 [==============================] - 9s 11ms/step - loss: 0.7036 - pi_loss: 0.4797 - v_loss: 0.2239\n",
            "Epoch 8/10\n",
            "832/832 [==============================] - 8s 10ms/step - loss: 0.6889 - pi_loss: 0.4746 - v_loss: 0.2143\n",
            "Epoch 9/10\n",
            "832/832 [==============================] - 9s 11ms/step - loss: 0.6769 - pi_loss: 0.4677 - v_loss: 0.2091\n",
            "Epoch 10/10\n",
            "832/832 [==============================] - 8s 10ms/step - loss: 0.6644 - pi_loss: 0.4608 - v_loss: 0.2036\n"
          ]
        },
        {
          "name": "stderr",
          "output_type": "stream",
          "text": [
            "2024-01-10 19:43:39 18fb81d6a229 Coach[380] INFO PITTING AGAINST PREVIOUS VERSION\n",
            "Arena.playGames (1): 100%|██████████| 10/10 [11:55<00:00, 71.59s/it]\n",
            "Arena.playGames (2): 100%|██████████| 10/10 [12:53<00:00, 77.37s/it]\n",
            "2024-01-10 20:08:29 18fb81d6a229 Coach[380] INFO NEW/PREV WINS : 5 / 10 ; DRAWS : 5\n",
            "2024-01-10 20:08:29 18fb81d6a229 Coach[380] INFO REJECTING NEW MODEL\n",
            "2024-01-10 20:08:30 18fb81d6a229 Coach[380] INFO Starting Iter #8 ...\n",
            "Self Play: 100%|██████████| 25/25 [19:44<00:00, 47.36s/it]\n"
          ]
        },
        {
          "name": "stdout",
          "output_type": "stream",
          "text": [
            "Checkpoint Directory exists! \n",
            "Epoch 1/10\n",
            "937/937 [==============================] - 12s 11ms/step - loss: 1.1374 - pi_loss: 0.7512 - v_loss: 0.3862\n",
            "Epoch 2/10\n",
            "937/937 [==============================] - 10s 10ms/step - loss: 0.9783 - pi_loss: 0.6395 - v_loss: 0.3388\n",
            "Epoch 3/10\n",
            "937/937 [==============================] - 9s 10ms/step - loss: 0.8885 - pi_loss: 0.5788 - v_loss: 0.3097\n",
            "Epoch 4/10\n",
            "937/937 [==============================] - 10s 11ms/step - loss: 0.8314 - pi_loss: 0.5461 - v_loss: 0.2852\n",
            "Epoch 5/10\n",
            "937/937 [==============================] - 10s 10ms/step - loss: 0.7890 - pi_loss: 0.5221 - v_loss: 0.2669\n",
            "Epoch 6/10\n",
            "937/937 [==============================] - 9s 10ms/step - loss: 0.7628 - pi_loss: 0.5067 - v_loss: 0.2561\n",
            "Epoch 7/10\n",
            "937/937 [==============================] - 10s 11ms/step - loss: 0.7380 - pi_loss: 0.4935 - v_loss: 0.2445\n",
            "Epoch 8/10\n",
            "937/937 [==============================] - 10s 10ms/step - loss: 0.7199 - pi_loss: 0.4850 - v_loss: 0.2348\n",
            "Epoch 9/10\n",
            "937/937 [==============================] - 9s 10ms/step - loss: 0.7045 - pi_loss: 0.4772 - v_loss: 0.2272\n",
            "Epoch 10/10\n",
            "937/937 [==============================] - 10s 11ms/step - loss: 0.6901 - pi_loss: 0.4688 - v_loss: 0.2213\n"
          ]
        },
        {
          "name": "stderr",
          "output_type": "stream",
          "text": [
            "2024-01-10 20:30:03 18fb81d6a229 Coach[380] INFO PITTING AGAINST PREVIOUS VERSION\n",
            "Arena.playGames (1): 100%|██████████| 10/10 [11:31<00:00, 69.15s/it]\n",
            "Arena.playGames (2): 100%|██████████| 10/10 [12:49<00:00, 76.97s/it]\n",
            "2024-01-10 20:54:25 18fb81d6a229 Coach[380] INFO NEW/PREV WINS : 4 / 10 ; DRAWS : 6\n",
            "2024-01-10 20:54:25 18fb81d6a229 Coach[380] INFO REJECTING NEW MODEL\n",
            "2024-01-10 20:54:26 18fb81d6a229 Coach[380] INFO Starting Iter #9 ...\n",
            "Self Play: 100%|██████████| 25/25 [22:40<00:00, 54.41s/it]\n"
          ]
        },
        {
          "name": "stdout",
          "output_type": "stream",
          "text": [
            "Checkpoint Directory exists! \n",
            "Epoch 1/10\n",
            "1050/1050 [==============================] - 11s 9ms/step - loss: 1.2407 - pi_loss: 0.8153 - v_loss: 0.4254\n",
            "Epoch 2/10\n",
            "1050/1050 [==============================] - 10s 10ms/step - loss: 1.0690 - pi_loss: 0.6909 - v_loss: 0.3781\n",
            "Epoch 3/10\n",
            "1050/1050 [==============================] - 10s 10ms/step - loss: 0.9532 - pi_loss: 0.6178 - v_loss: 0.3354\n",
            "Epoch 4/10\n",
            "1050/1050 [==============================] - 10s 9ms/step - loss: 0.8798 - pi_loss: 0.5705 - v_loss: 0.3093\n",
            "Epoch 5/10\n",
            "1050/1050 [==============================] - 10s 10ms/step - loss: 0.8318 - pi_loss: 0.5424 - v_loss: 0.2894\n",
            "Epoch 6/10\n",
            "1050/1050 [==============================] - 10s 10ms/step - loss: 0.7888 - pi_loss: 0.5204 - v_loss: 0.2685\n",
            "Epoch 7/10\n",
            "1050/1050 [==============================] - 10s 9ms/step - loss: 0.7646 - pi_loss: 0.5054 - v_loss: 0.2592\n",
            "Epoch 8/10\n",
            "1050/1050 [==============================] - 10s 10ms/step - loss: 0.7428 - pi_loss: 0.4945 - v_loss: 0.2483\n",
            "Epoch 9/10\n",
            "1050/1050 [==============================] - 10s 10ms/step - loss: 0.7306 - pi_loss: 0.4900 - v_loss: 0.2406\n",
            "Epoch 10/10\n",
            "1050/1050 [==============================] - 10s 10ms/step - loss: 0.7099 - pi_loss: 0.4798 - v_loss: 0.2301\n"
          ]
        },
        {
          "name": "stderr",
          "output_type": "stream",
          "text": [
            "2024-01-10 21:18:59 18fb81d6a229 Coach[380] INFO PITTING AGAINST PREVIOUS VERSION\n",
            "Arena.playGames (1): 100%|██████████| 10/10 [12:07<00:00, 72.76s/it]\n",
            "Arena.playGames (2): 100%|██████████| 10/10 [12:54<00:00, 77.42s/it]\n",
            "2024-01-10 21:44:01 18fb81d6a229 Coach[380] INFO NEW/PREV WINS : 4 / 8 ; DRAWS : 8\n",
            "2024-01-10 21:44:01 18fb81d6a229 Coach[380] INFO REJECTING NEW MODEL\n",
            "2024-01-10 21:44:02 18fb81d6a229 Coach[380] INFO Starting Iter #10 ...\n",
            "Self Play: 100%|██████████| 25/25 [21:31<00:00, 51.65s/it]\n"
          ]
        },
        {
          "name": "stdout",
          "output_type": "stream",
          "text": [
            "Checkpoint Directory exists! \n",
            "Epoch 1/10\n",
            "1162/1162 [==============================] - 13s 10ms/step - loss: 1.2927 - pi_loss: 0.8649 - v_loss: 0.4279\n",
            "Epoch 2/10\n",
            "1162/1162 [==============================] - 11s 10ms/step - loss: 1.1031 - pi_loss: 0.7244 - v_loss: 0.3787\n",
            "Epoch 3/10\n",
            "1162/1162 [==============================] - 11s 9ms/step - loss: 0.9910 - pi_loss: 0.6483 - v_loss: 0.3427\n",
            "Epoch 4/10\n",
            "1162/1162 [==============================] - 11s 9ms/step - loss: 0.9083 - pi_loss: 0.5933 - v_loss: 0.3150\n",
            "Epoch 5/10\n",
            "1162/1162 [==============================] - 11s 9ms/step - loss: 0.8494 - pi_loss: 0.5583 - v_loss: 0.2910\n",
            "Epoch 6/10\n",
            "1162/1162 [==============================] - 11s 10ms/step - loss: 0.8051 - pi_loss: 0.5315 - v_loss: 0.2737\n",
            "Epoch 7/10\n",
            "1162/1162 [==============================] - 11s 10ms/step - loss: 0.7753 - pi_loss: 0.5141 - v_loss: 0.2612\n",
            "Epoch 8/10\n",
            "1162/1162 [==============================] - 11s 10ms/step - loss: 0.7559 - pi_loss: 0.5054 - v_loss: 0.2505\n",
            "Epoch 9/10\n",
            "1162/1162 [==============================] - 11s 9ms/step - loss: 0.7361 - pi_loss: 0.4938 - v_loss: 0.2422\n",
            "Epoch 10/10\n",
            "1162/1162 [==============================] - 11s 9ms/step - loss: 0.7155 - pi_loss: 0.4841 - v_loss: 0.2314\n"
          ]
        },
        {
          "name": "stderr",
          "output_type": "stream",
          "text": [
            "2024-01-10 22:08:08 18fb81d6a229 Coach[380] INFO PITTING AGAINST PREVIOUS VERSION\n",
            "Arena.playGames (1): 100%|██████████| 10/10 [11:22<00:00, 68.21s/it]\n",
            "Arena.playGames (2): 100%|██████████| 10/10 [11:56<00:00, 71.62s/it]\n",
            "2024-01-10 22:31:27 18fb81d6a229 Coach[380] INFO NEW/PREV WINS : 6 / 6 ; DRAWS : 8\n",
            "2024-01-10 22:31:27 18fb81d6a229 Coach[380] INFO REJECTING NEW MODEL\n",
            "2024-01-10 22:31:28 18fb81d6a229 Coach[380] INFO Starting Iter #11 ...\n",
            "Self Play:  56%|█████▌    | 14/25 [10:06<08:27, 46.17s/it]"
          ]
        }
      ],
      "source": [
        "\n",
        "args = dotdict({\n",
        "  'numIters':15,\n",
        "  'numEps': 25,              # Number of complete self-play games to simulate during a new iteration.\n",
        "  'tempThreshold': 15,        #\n",
        "  'updateThreshold': 0.6,     # During arena playoff, new neural net will be accepted if threshold or more of games are won.\n",
        "  'maxlenOfQueue': 50000,    # Number of game examples to train the neural networks.\n",
        "  'numMCTSSims': 25,          # Number of games moves for MCTS to simulate.\n",
        "  'arenaCompare': 20,         # Number of games to play during arena play to determine if new net will be accepted.\n",
        "  'cpuct': 1,\n",
        "\n",
        "  'checkpoint': '/content/drive/MyDrive/trabalho2_liacd/models/ataxx/6x6',\n",
        "  'load_model': True,\n",
        "  'load_folder_file': ('/content/drive/MyDrive/trabalho2_liacd/models/ataxx/6x6', 'best.h5'),\n",
        "  'numItersForTrainExamplesHistory': 20,\n",
        "\n",
        "})\n",
        "\n",
        "log.info('Loading %s...', Game.__name__)\n",
        "g = Game(6)\n",
        "\n",
        "log.info('Loading %s...', nn.__name__)\n",
        "nnet = nn(g)\n",
        "\n",
        "if args.load_model:\n",
        "  log.info('Loading checkpoint \"%s/%s\"...', args.load_folder_file[0], args.load_folder_file[1])\n",
        "  nnet.load_model(args.load_folder_file[0], args.load_folder_file[1])\n",
        "else:\n",
        "  log.warning('Not loading a checkpoint!')\n",
        "\n",
        "log.info('Loading the Coach...')\n",
        "c = Coach(g, nnet, args)\n",
        "\n",
        "if args.load_model:\n",
        "  log.info(\"Loading 'trainExamples' from file...\")\n",
        "  c.loadTrainExamples()\n",
        "\n",
        "log.info('Starting the learning process 🎉')\n",
        "c.learn()\n",
        "\n"
      ]
    },
    {
      "cell_type": "markdown",
      "metadata": {
        "id": "dQp0LNm5F7ev"
      },
      "source": [
        "#Décimo Oitavo Treino"
      ]
    },
    {
      "cell_type": "code",
      "execution_count": null,
      "metadata": {
        "colab": {
          "background_save": true,
          "base_uri": "https://localhost:8080/"
        },
        "id": "idMJPEuHF9oB",
        "outputId": "637c5afa-4690-4d1a-cbbf-1900b57a6fa2"
      },
      "outputs": [
        {
          "name": "stderr",
          "output_type": "stream",
          "text": [
            "2024-01-11 10:36:11 e836e8f1e97f __main__[289] INFO Loading AtaxxGame...\n",
            "2024-01-11 10:36:11 e836e8f1e97f __main__[289] INFO Loading NNetWrapper...\n",
            "2024-01-11 10:36:12 e836e8f1e97f __main__[289] INFO Loading checkpoint \"/content/drive/MyDrive/trabalho2_liacd/models/ataxx/6x6/best.h5\"...\n",
            "2024-01-11 10:36:18 e836e8f1e97f __main__[289] INFO Loading the Coach...\n",
            "2024-01-11 10:36:19 e836e8f1e97f __main__[289] INFO Loading 'trainExamples' from file...\n",
            "2024-01-11 10:36:19 e836e8f1e97f Coach[289] WARNING File \"/content/drive/MyDrive/trabalho2_liacd/models/ataxx/6x6/best.h5.examples\" with trainExamples not found!\n",
            "2024-01-11 10:37:27 e836e8f1e97f __main__[289] INFO Starting the learning process 🎉\n",
            "2024-01-11 10:37:27 e836e8f1e97f Coach[289] INFO Starting Iter #1 ...\n",
            "Self Play: 100%|██████████| 25/25 [27:37<00:00, 66.30s/it]\n"
          ]
        },
        {
          "name": "stdout",
          "output_type": "stream",
          "text": [
            "Checkpoint Directory exists! \n"
          ]
        },
        {
          "name": "stderr",
          "output_type": "stream",
          "text": [
            "/usr/local/lib/python3.10/dist-packages/keras/src/engine/training.py:3103: UserWarning: You are saving your model as an HDF5 file via `model.save()`. This file format is considered legacy. We recommend using instead the native Keras format, e.g. `model.save('my_model.keras')`.\n",
            "  saving_api.save_model(\n"
          ]
        },
        {
          "name": "stdout",
          "output_type": "stream",
          "text": [
            "Epoch 1/10\n",
            "104/104 [==============================] - 22s 199ms/step - loss: 1.9733 - pi_loss: 1.3381 - v_loss: 0.6352\n",
            "Epoch 2/10\n",
            "104/104 [==============================] - 23s 219ms/step - loss: 1.4571 - pi_loss: 0.9084 - v_loss: 0.5487\n",
            "Epoch 3/10\n",
            "104/104 [==============================] - 21s 204ms/step - loss: 1.2288 - pi_loss: 0.7453 - v_loss: 0.4835\n",
            "Epoch 4/10\n",
            "104/104 [==============================] - 20s 195ms/step - loss: 1.0554 - pi_loss: 0.6432 - v_loss: 0.4123\n",
            "Epoch 5/10\n",
            "104/104 [==============================] - 20s 192ms/step - loss: 0.9267 - pi_loss: 0.5697 - v_loss: 0.3571\n",
            "Epoch 6/10\n",
            "104/104 [==============================] - 23s 220ms/step - loss: 0.8303 - pi_loss: 0.5216 - v_loss: 0.3087\n",
            "Epoch 7/10\n",
            "104/104 [==============================] - 21s 199ms/step - loss: 0.7676 - pi_loss: 0.4928 - v_loss: 0.2749\n",
            "Epoch 8/10\n",
            "104/104 [==============================] - 20s 192ms/step - loss: 0.7227 - pi_loss: 0.4721 - v_loss: 0.2506\n",
            "Epoch 9/10\n",
            "104/104 [==============================] - 20s 195ms/step - loss: 0.6862 - pi_loss: 0.4532 - v_loss: 0.2330\n",
            "Epoch 10/10\n",
            "104/104 [==============================] - 22s 216ms/step - loss: 0.6735 - pi_loss: 0.4488 - v_loss: 0.2248\n"
          ]
        },
        {
          "name": "stderr",
          "output_type": "stream",
          "text": [
            "2024-01-11 11:09:32 e836e8f1e97f Coach[289] INFO PITTING AGAINST PREVIOUS VERSION\n",
            "Arena.playGames (1): 100%|██████████| 10/10 [18:16<00:00, 109.61s/it]\n",
            "Arena.playGames (2): 100%|██████████| 10/10 [18:29<00:00, 110.92s/it]\n",
            "2024-01-11 11:46:17 e836e8f1e97f Coach[289] INFO NEW/PREV WINS : 8 / 9 ; DRAWS : 3\n",
            "2024-01-11 11:46:17 e836e8f1e97f Coach[289] INFO REJECTING NEW MODEL\n",
            "2024-01-11 11:46:21 e836e8f1e97f Coach[289] INFO Starting Iter #2 ...\n",
            "Self Play: 100%|██████████| 25/25 [37:35<00:00, 90.23s/it]\n"
          ]
        },
        {
          "name": "stdout",
          "output_type": "stream",
          "text": [
            "Checkpoint Directory exists! \n",
            "Epoch 1/10\n",
            "231/231 [==============================] - 50s 204ms/step - loss: 1.9666 - pi_loss: 1.3423 - v_loss: 0.6243\n",
            "Epoch 2/10\n",
            "231/231 [==============================] - 47s 202ms/step - loss: 1.5868 - pi_loss: 1.0207 - v_loss: 0.5662\n",
            "Epoch 3/10\n",
            "231/231 [==============================] - 47s 202ms/step - loss: 1.4040 - pi_loss: 0.8790 - v_loss: 0.5250\n",
            "Epoch 4/10\n",
            "231/231 [==============================] - 47s 203ms/step - loss: 1.2046 - pi_loss: 0.7387 - v_loss: 0.4659\n",
            "Epoch 5/10\n",
            "231/231 [==============================] - 46s 198ms/step - loss: 1.0536 - pi_loss: 0.6501 - v_loss: 0.4035\n",
            "Epoch 6/10\n",
            "231/231 [==============================] - 46s 199ms/step - loss: 0.9434 - pi_loss: 0.5905 - v_loss: 0.3530\n",
            "Epoch 7/10\n",
            "231/231 [==============================] - 46s 201ms/step - loss: 0.8497 - pi_loss: 0.5431 - v_loss: 0.3067\n",
            "Epoch 8/10\n",
            "231/231 [==============================] - 47s 203ms/step - loss: 0.7847 - pi_loss: 0.5093 - v_loss: 0.2753\n",
            "Epoch 9/10\n",
            "231/231 [==============================] - 46s 198ms/step - loss: 0.7492 - pi_loss: 0.4914 - v_loss: 0.2578\n",
            "Epoch 10/10\n",
            "231/231 [==============================] - 44s 192ms/step - loss: 0.7112 - pi_loss: 0.4749 - v_loss: 0.2364\n"
          ]
        },
        {
          "name": "stderr",
          "output_type": "stream",
          "text": [
            "2024-01-11 12:31:46 e836e8f1e97f Coach[289] INFO PITTING AGAINST PREVIOUS VERSION\n",
            "Arena.playGames (1): 100%|██████████| 10/10 [18:42<00:00, 112.29s/it]\n",
            "Arena.playGames (2): 100%|██████████| 10/10 [18:28<00:00, 110.87s/it]\n",
            "2024-01-11 13:08:58 e836e8f1e97f Coach[289] INFO NEW/PREV WINS : 10 / 6 ; DRAWS : 4\n",
            "2024-01-11 13:08:58 e836e8f1e97f Coach[289] INFO ACCEPTING NEW MODEL\n"
          ]
        },
        {
          "name": "stdout",
          "output_type": "stream",
          "text": [
            "Checkpoint Directory exists! \n",
            "Checkpoint Directory exists! \n"
          ]
        },
        {
          "name": "stderr",
          "output_type": "stream",
          "text": [
            "2024-01-11 13:08:59 e836e8f1e97f Coach[289] INFO Starting Iter #3 ...\n",
            "Self Play: 100%|██████████| 25/25 [26:51<00:00, 64.44s/it]\n"
          ]
        },
        {
          "name": "stdout",
          "output_type": "stream",
          "text": [
            "Checkpoint Directory exists! \n",
            "Epoch 1/10\n",
            "323/323 [==============================] - 66s 205ms/step - loss: 1.2041 - pi_loss: 0.7802 - v_loss: 0.4239\n",
            "Epoch 2/10\n",
            "323/323 [==============================] - 67s 207ms/step - loss: 0.9742 - pi_loss: 0.6275 - v_loss: 0.3467\n",
            "Epoch 3/10\n",
            "323/323 [==============================] - 65s 200ms/step - loss: 0.8640 - pi_loss: 0.5650 - v_loss: 0.2989\n",
            "Epoch 4/10\n",
            "323/323 [==============================] - 65s 201ms/step - loss: 0.7970 - pi_loss: 0.5280 - v_loss: 0.2691\n",
            "Epoch 5/10\n",
            "323/323 [==============================] - 66s 205ms/step - loss: 0.7520 - pi_loss: 0.5049 - v_loss: 0.2471\n",
            "Epoch 6/10\n",
            "323/323 [==============================] - 69s 215ms/step - loss: 0.7275 - pi_loss: 0.4926 - v_loss: 0.2349\n",
            "Epoch 7/10\n",
            "323/323 [==============================] - 68s 209ms/step - loss: 0.7074 - pi_loss: 0.4810 - v_loss: 0.2264\n",
            "Epoch 8/10\n",
            "323/323 [==============================] - 64s 199ms/step - loss: 0.6904 - pi_loss: 0.4747 - v_loss: 0.2157\n",
            "Epoch 9/10\n",
            "323/323 [==============================] - 66s 204ms/step - loss: 0.6777 - pi_loss: 0.4688 - v_loss: 0.2090\n",
            "Epoch 10/10\n",
            "323/323 [==============================] - 67s 206ms/step - loss: 0.6643 - pi_loss: 0.4625 - v_loss: 0.2018\n"
          ]
        },
        {
          "name": "stderr",
          "output_type": "stream",
          "text": [
            "2024-01-11 13:47:19 e836e8f1e97f Coach[289] INFO PITTING AGAINST PREVIOUS VERSION\n",
            "Arena.playGames (1): 100%|██████████| 10/10 [19:22<00:00, 116.26s/it]\n",
            "Arena.playGames (2): 100%|██████████| 10/10 [18:39<00:00, 111.98s/it]\n",
            "2024-01-11 14:25:22 e836e8f1e97f Coach[289] INFO NEW/PREV WINS : 8 / 5 ; DRAWS : 7\n",
            "2024-01-11 14:25:22 e836e8f1e97f Coach[289] INFO ACCEPTING NEW MODEL\n"
          ]
        },
        {
          "name": "stdout",
          "output_type": "stream",
          "text": [
            "Checkpoint Directory exists! \n",
            "Checkpoint Directory exists! \n"
          ]
        },
        {
          "name": "stderr",
          "output_type": "stream",
          "text": [
            "2024-01-11 14:25:25 e836e8f1e97f Coach[289] INFO Starting Iter #4 ...\n",
            "Self Play: 100%|██████████| 25/25 [30:09<00:00, 72.37s/it]\n"
          ]
        },
        {
          "name": "stdout",
          "output_type": "stream",
          "text": [
            "Checkpoint Directory exists! \n",
            "Epoch 1/10\n",
            "423/423 [==============================] - 88s 208ms/step - loss: 1.1027 - pi_loss: 0.7781 - v_loss: 0.3247\n",
            "Epoch 2/10\n",
            "423/423 [==============================] - 85s 200ms/step - loss: 0.8993 - pi_loss: 0.6281 - v_loss: 0.2712\n",
            "Epoch 3/10\n",
            "423/423 [==============================] - 86s 204ms/step - loss: 0.8093 - pi_loss: 0.5635 - v_loss: 0.2458\n",
            "Epoch 4/10\n",
            "423/423 [==============================] - 86s 203ms/step - loss: 0.7554 - pi_loss: 0.5293 - v_loss: 0.2262\n",
            "Epoch 5/10\n",
            "423/423 [==============================] - 87s 205ms/step - loss: 0.7263 - pi_loss: 0.5109 - v_loss: 0.2153\n",
            "Epoch 6/10\n",
            "423/423 [==============================] - 86s 203ms/step - loss: 0.7078 - pi_loss: 0.5013 - v_loss: 0.2065\n",
            "Epoch 7/10\n",
            "423/423 [==============================] - 86s 204ms/step - loss: 0.6909 - pi_loss: 0.4918 - v_loss: 0.1991\n",
            "Epoch 8/10\n",
            "423/423 [==============================] - 87s 206ms/step - loss: 0.6789 - pi_loss: 0.4861 - v_loss: 0.1928\n",
            "Epoch 9/10\n",
            "423/423 [==============================] - 86s 202ms/step - loss: 0.6680 - pi_loss: 0.4813 - v_loss: 0.1867\n",
            "Epoch 10/10\n",
            "423/423 [==============================] - 84s 200ms/step - loss: 0.6591 - pi_loss: 0.4758 - v_loss: 0.1833\n"
          ]
        },
        {
          "name": "stderr",
          "output_type": "stream",
          "text": [
            "2024-01-11 15:10:04 e836e8f1e97f Coach[289] INFO PITTING AGAINST PREVIOUS VERSION\n",
            "Arena.playGames (1): 100%|██████████| 10/10 [18:58<00:00, 113.83s/it]\n",
            "Arena.playGames (2): 100%|██████████| 10/10 [17:31<00:00, 105.18s/it]\n",
            "2024-01-11 15:46:34 e836e8f1e97f Coach[289] INFO NEW/PREV WINS : 10 / 7 ; DRAWS : 3\n",
            "2024-01-11 15:46:34 e836e8f1e97f Coach[289] INFO REJECTING NEW MODEL\n",
            "2024-01-11 15:46:37 e836e8f1e97f Coach[289] INFO Starting Iter #5 ...\n",
            "Self Play: 100%|██████████| 25/25 [28:32<00:00, 68.48s/it]\n"
          ]
        },
        {
          "name": "stdout",
          "output_type": "stream",
          "text": [
            "Checkpoint Directory exists! \n",
            "Epoch 1/10\n",
            "514/514 [==============================] - 107s 204ms/step - loss: 1.2617 - pi_loss: 0.8905 - v_loss: 0.3713\n",
            "Epoch 2/10\n",
            "514/514 [==============================] - 108s 211ms/step - loss: 1.0209 - pi_loss: 0.7069 - v_loss: 0.3140\n",
            "Epoch 3/10\n",
            "514/514 [==============================] - 105s 204ms/step - loss: 0.9017 - pi_loss: 0.6240 - v_loss: 0.2777\n",
            "Epoch 4/10\n",
            "514/514 [==============================] - 104s 202ms/step - loss: 0.8287 - pi_loss: 0.5741 - v_loss: 0.2545\n",
            "Epoch 5/10\n",
            "514/514 [==============================] - 107s 208ms/step - loss: 0.7828 - pi_loss: 0.5460 - v_loss: 0.2368\n",
            "Epoch 6/10\n",
            "514/514 [==============================] - 106s 206ms/step - loss: 0.7508 - pi_loss: 0.5274 - v_loss: 0.2234\n",
            "Epoch 7/10\n",
            "514/514 [==============================] - 105s 205ms/step - loss: 0.7290 - pi_loss: 0.5140 - v_loss: 0.2149\n",
            "Epoch 8/10\n",
            "514/514 [==============================] - 108s 210ms/step - loss: 0.7107 - pi_loss: 0.5034 - v_loss: 0.2073\n",
            "Epoch 9/10\n",
            "514/514 [==============================] - 107s 208ms/step - loss: 0.6942 - pi_loss: 0.4962 - v_loss: 0.1980\n",
            "Epoch 10/10\n",
            "514/514 [==============================] - 107s 209ms/step - loss: 0.6866 - pi_loss: 0.4939 - v_loss: 0.1927\n"
          ]
        },
        {
          "name": "stderr",
          "output_type": "stream",
          "text": [
            "2024-01-11 16:33:03 e836e8f1e97f Coach[289] INFO PITTING AGAINST PREVIOUS VERSION\n",
            "Arena.playGames (1): 100%|██████████| 10/10 [19:21<00:00, 116.15s/it]\n",
            "Arena.playGames (2): 100%|██████████| 10/10 [17:52<00:00, 107.29s/it]\n",
            "2024-01-11 17:10:17 e836e8f1e97f Coach[289] INFO NEW/PREV WINS : 6 / 10 ; DRAWS : 4\n",
            "2024-01-11 17:10:17 e836e8f1e97f Coach[289] INFO REJECTING NEW MODEL\n",
            "2024-01-11 17:10:20 e836e8f1e97f Coach[289] INFO Starting Iter #6 ...\n",
            "Self Play: 100%|██████████| 25/25 [33:54<00:00, 81.36s/it]\n"
          ]
        },
        {
          "name": "stdout",
          "output_type": "stream",
          "text": [
            "Checkpoint Directory exists! \n",
            "Epoch 1/10\n",
            "625/625 [==============================] - 127s 199ms/step - loss: 1.3929 - pi_loss: 0.9822 - v_loss: 0.4107\n",
            "Epoch 2/10\n",
            "625/625 [==============================] - 123s 198ms/step - loss: 1.1325 - pi_loss: 0.7852 - v_loss: 0.3473\n",
            "Epoch 3/10\n",
            "625/625 [==============================] - 127s 203ms/step - loss: 0.9946 - pi_loss: 0.6856 - v_loss: 0.3089\n",
            "Epoch 4/10\n",
            "625/625 [==============================] - 130s 208ms/step - loss: 0.9005 - pi_loss: 0.6224 - v_loss: 0.2782\n",
            "Epoch 5/10\n",
            "625/625 [==============================] - 124s 198ms/step - loss: 0.8351 - pi_loss: 0.5799 - v_loss: 0.2552\n",
            "Epoch 6/10\n",
            "625/625 [==============================] - 128s 204ms/step - loss: 0.8001 - pi_loss: 0.5580 - v_loss: 0.2420\n",
            "Epoch 7/10\n",
            "625/625 [==============================] - 125s 200ms/step - loss: 0.7657 - pi_loss: 0.5385 - v_loss: 0.2272\n",
            "Epoch 8/10\n",
            "625/625 [==============================] - 123s 197ms/step - loss: 0.7407 - pi_loss: 0.5236 - v_loss: 0.2172\n",
            "Epoch 9/10\n",
            "625/625 [==============================] - 124s 198ms/step - loss: 0.7211 - pi_loss: 0.5144 - v_loss: 0.2067\n",
            "Epoch 10/10\n",
            "625/625 [==============================] - 125s 200ms/step - loss: 0.7126 - pi_loss: 0.5105 - v_loss: 0.2021\n"
          ]
        },
        {
          "name": "stderr",
          "output_type": "stream",
          "text": [
            "2024-01-11 18:05:48 e836e8f1e97f Coach[289] INFO PITTING AGAINST PREVIOUS VERSION\n",
            "Arena.playGames (1): 100%|██████████| 10/10 [21:35<00:00, 129.55s/it]\n",
            "Arena.playGames (2): 100%|██████████| 10/10 [16:03<00:00, 96.37s/it] \n",
            "2024-01-11 18:43:27 e836e8f1e97f Coach[289] INFO NEW/PREV WINS : 9 / 5 ; DRAWS : 6\n",
            "2024-01-11 18:43:27 e836e8f1e97f Coach[289] INFO ACCEPTING NEW MODEL\n"
          ]
        },
        {
          "name": "stdout",
          "output_type": "stream",
          "text": [
            "Checkpoint Directory exists! \n",
            "Checkpoint Directory exists! \n"
          ]
        },
        {
          "name": "stderr",
          "output_type": "stream",
          "text": [
            "2024-01-11 18:43:31 e836e8f1e97f Coach[289] INFO Starting Iter #7 ...\n",
            "Self Play: 100%|██████████| 25/25 [26:48<00:00, 64.35s/it]\n"
          ]
        },
        {
          "name": "stdout",
          "output_type": "stream",
          "text": [
            "Checkpoint Directory exists! \n",
            "Epoch 1/10\n",
            "717/717 [==============================] - 150s 209ms/step - loss: 0.9367 - pi_loss: 0.6837 - v_loss: 0.2531\n",
            "Epoch 2/10\n",
            "717/717 [==============================] - 143s 200ms/step - loss: 0.8111 - pi_loss: 0.5831 - v_loss: 0.2280\n",
            "Epoch 3/10\n",
            "717/717 [==============================] - 147s 206ms/step - loss: 0.7643 - pi_loss: 0.5505 - v_loss: 0.2137\n",
            "Epoch 4/10\n",
            "717/717 [==============================] - 145s 203ms/step - loss: 0.7313 - pi_loss: 0.5266 - v_loss: 0.2047\n",
            "Epoch 5/10\n",
            "717/717 [==============================] - 150s 210ms/step - loss: 0.7108 - pi_loss: 0.5149 - v_loss: 0.1960\n",
            "Epoch 6/10\n",
            "717/717 [==============================] - 142s 198ms/step - loss: 0.7013 - pi_loss: 0.5117 - v_loss: 0.1895\n",
            "Epoch 7/10\n",
            "717/717 [==============================] - 141s 197ms/step - loss: 0.6904 - pi_loss: 0.5038 - v_loss: 0.1867\n",
            "Epoch 8/10\n",
            "717/717 [==============================] - 143s 199ms/step - loss: 0.6775 - pi_loss: 0.4986 - v_loss: 0.1789\n",
            "Epoch 9/10\n",
            "717/717 [==============================] - 146s 203ms/step - loss: 0.6694 - pi_loss: 0.4933 - v_loss: 0.1761\n",
            "Epoch 10/10\n",
            "717/717 [==============================] - 143s 200ms/step - loss: 0.6642 - pi_loss: 0.4913 - v_loss: 0.1730\n"
          ]
        },
        {
          "name": "stderr",
          "output_type": "stream",
          "text": [
            "2024-01-11 19:34:54 e836e8f1e97f Coach[289] INFO PITTING AGAINST PREVIOUS VERSION\n",
            "Arena.playGames (1): 100%|██████████| 10/10 [19:05<00:00, 114.54s/it]\n",
            "Arena.playGames (2): 100%|██████████| 10/10 [19:31<00:00, 117.18s/it]\n",
            "2024-01-11 20:13:31 e836e8f1e97f Coach[289] INFO NEW/PREV WINS : 6 / 11 ; DRAWS : 3\n",
            "2024-01-11 20:13:31 e836e8f1e97f Coach[289] INFO REJECTING NEW MODEL\n",
            "2024-01-11 20:13:34 e836e8f1e97f Coach[289] INFO Starting Iter #8 ...\n",
            "Self Play: 100%|██████████| 25/25 [32:21<00:00, 77.65s/it]\n"
          ]
        },
        {
          "name": "stdout",
          "output_type": "stream",
          "text": [
            "Checkpoint Directory exists! \n",
            "Epoch 1/10\n",
            "825/825 [==============================] - 177s 212ms/step - loss: 1.0894 - pi_loss: 0.7991 - v_loss: 0.2903\n",
            "Epoch 2/10\n",
            "825/825 [==============================] - 176s 214ms/step - loss: 0.9137 - pi_loss: 0.6616 - v_loss: 0.2521\n",
            "Epoch 3/10\n",
            "825/825 [==============================] - 167s 203ms/step - loss: 0.8263 - pi_loss: 0.5969 - v_loss: 0.2294\n",
            "Epoch 4/10\n",
            "825/825 [==============================] - 172s 209ms/step - loss: 0.7840 - pi_loss: 0.5662 - v_loss: 0.2178\n",
            "Epoch 5/10\n",
            "825/825 [==============================] - 172s 209ms/step - loss: 0.7478 - pi_loss: 0.5440 - v_loss: 0.2039\n",
            "Epoch 6/10\n",
            "825/825 [==============================] - 170s 205ms/step - loss: 0.7276 - pi_loss: 0.5301 - v_loss: 0.1975\n",
            "Epoch 7/10\n",
            "825/825 [==============================] - 169s 205ms/step - loss: 0.7143 - pi_loss: 0.5239 - v_loss: 0.1904\n",
            "Epoch 8/10\n",
            "825/825 [==============================] - 170s 206ms/step - loss: 0.7023 - pi_loss: 0.5171 - v_loss: 0.1853\n",
            "Epoch 9/10\n",
            "825/825 [==============================] - 180s 218ms/step - loss: 0.6896 - pi_loss: 0.5097 - v_loss: 0.1799\n",
            "Epoch 10/10\n",
            "825/825 [==============================] - 174s 211ms/step - loss: 0.6818 - pi_loss: 0.5048 - v_loss: 0.1770\n"
          ]
        },
        {
          "name": "stderr",
          "output_type": "stream",
          "text": [
            "2024-01-11 21:15:33 e836e8f1e97f Coach[289] INFO PITTING AGAINST PREVIOUS VERSION\n",
            "Arena.playGames (1): 100%|██████████| 10/10 [19:37<00:00, 117.70s/it]\n",
            "Arena.playGames (2): 100%|██████████| 10/10 [18:14<00:00, 109.46s/it]\n",
            "2024-01-11 21:53:25 e836e8f1e97f Coach[289] INFO NEW/PREV WINS : 7 / 7 ; DRAWS : 6\n",
            "2024-01-11 21:53:25 e836e8f1e97f Coach[289] INFO REJECTING NEW MODEL\n",
            "2024-01-11 21:53:29 e836e8f1e97f Coach[289] INFO Starting Iter #9 ...\n",
            "Self Play: 100%|██████████| 25/25 [25:34<00:00, 61.38s/it]\n"
          ]
        },
        {
          "name": "stdout",
          "output_type": "stream",
          "text": [
            "Checkpoint Directory exists! \n",
            "Epoch 1/10\n",
            "914/914 [==============================] - 167s 181ms/step - loss: 1.1966 - pi_loss: 0.8679 - v_loss: 0.3287\n",
            "Epoch 2/10\n",
            "914/914 [==============================] - 165s 180ms/step - loss: 1.0031 - pi_loss: 0.7185 - v_loss: 0.2845\n",
            "Epoch 3/10\n",
            "914/914 [==============================] - 169s 185ms/step - loss: 0.9017 - pi_loss: 0.6433 - v_loss: 0.2584\n",
            "Epoch 4/10\n",
            "914/914 [==============================] - 168s 184ms/step - loss: 0.8355 - pi_loss: 0.5968 - v_loss: 0.2387\n",
            "Epoch 5/10\n",
            "914/914 [==============================] - 169s 185ms/step - loss: 0.7947 - pi_loss: 0.5699 - v_loss: 0.2248\n",
            "Epoch 6/10\n",
            "914/914 [==============================] - 169s 185ms/step - loss: 0.7654 - pi_loss: 0.5527 - v_loss: 0.2127\n",
            "Epoch 7/10\n",
            "914/914 [==============================] - 171s 187ms/step - loss: 0.7429 - pi_loss: 0.5376 - v_loss: 0.2053\n",
            "Epoch 8/10\n",
            "914/914 [==============================] - 169s 185ms/step - loss: 0.7283 - pi_loss: 0.5304 - v_loss: 0.1979\n",
            "Epoch 9/10\n",
            "914/914 [==============================] - 169s 185ms/step - loss: 0.7163 - pi_loss: 0.5228 - v_loss: 0.1935\n",
            "Epoch 10/10\n",
            "914/914 [==============================] - 166s 181ms/step - loss: 0.7045 - pi_loss: 0.5179 - v_loss: 0.1865\n"
          ]
        },
        {
          "name": "stderr",
          "output_type": "stream",
          "text": [
            "2024-01-11 22:47:21 e836e8f1e97f Coach[289] INFO PITTING AGAINST PREVIOUS VERSION\n",
            "Arena.playGames (1): 100%|██████████| 10/10 [17:39<00:00, 105.91s/it]\n",
            "Arena.playGames (2): 100%|██████████| 10/10 [17:49<00:00, 106.91s/it]\n",
            "2024-01-11 23:22:50 e836e8f1e97f Coach[289] INFO NEW/PREV WINS : 4 / 11 ; DRAWS : 5\n",
            "2024-01-11 23:22:50 e836e8f1e97f Coach[289] INFO REJECTING NEW MODEL\n",
            "2024-01-11 23:22:51 e836e8f1e97f Coach[289] INFO Starting Iter #10 ...\n",
            "Self Play: 100%|██████████| 25/25 [29:42<00:00, 71.32s/it]\n"
          ]
        },
        {
          "name": "stdout",
          "output_type": "stream",
          "text": [
            "Checkpoint Directory exists! \n",
            "Epoch 1/10\n",
            "1026/1026 [==============================] - 191s 184ms/step - loss: 1.2940 - pi_loss: 0.9318 - v_loss: 0.3622\n",
            "Epoch 2/10\n",
            "1026/1026 [==============================] - 189s 184ms/step - loss: 1.0870 - pi_loss: 0.7723 - v_loss: 0.3147\n",
            "Epoch 3/10\n",
            "1026/1026 [==============================] - 187s 182ms/step - loss: 0.9702 - pi_loss: 0.6867 - v_loss: 0.2835\n",
            "Epoch 4/10\n",
            "1026/1026 [==============================] - 191s 186ms/step - loss: 0.8917 - pi_loss: 0.6293 - v_loss: 0.2625\n",
            "Epoch 5/10\n",
            "1026/1026 [==============================] - 200s 195ms/step - loss: 0.8349 - pi_loss: 0.5922 - v_loss: 0.2426\n",
            "Epoch 6/10\n",
            "1026/1026 [==============================] - 198s 193ms/step - loss: 0.8019 - pi_loss: 0.5706 - v_loss: 0.2313\n",
            "Epoch 7/10\n",
            "1026/1026 [==============================] - 192s 187ms/step - loss: 0.7753 - pi_loss: 0.5559 - v_loss: 0.2194\n",
            "Epoch 8/10\n",
            "1026/1026 [==============================] - 190s 186ms/step - loss: 0.7579 - pi_loss: 0.5444 - v_loss: 0.2135\n",
            "Epoch 9/10\n",
            "1026/1026 [==============================] - 187s 182ms/step - loss: 0.7375 - pi_loss: 0.5327 - v_loss: 0.2048\n",
            "Epoch 10/10\n",
            "1026/1026 [==============================] - 191s 186ms/step - loss: 0.7235 - pi_loss: 0.5258 - v_loss: 0.1976\n"
          ]
        },
        {
          "name": "stderr",
          "output_type": "stream",
          "text": [
            "2024-01-12 00:25:12 e836e8f1e97f Coach[289] INFO PITTING AGAINST PREVIOUS VERSION\n",
            "Arena.playGames (1):  60%|██████    | 6/10 [10:37<07:02, 105.67s/it]"
          ]
        }
      ],
      "source": [
        "\n",
        "args = dotdict({\n",
        "  'numIters':15,\n",
        "  'numEps': 25,              # Number of complete self-play games to simulate during a new iteration.\n",
        "  'tempThreshold': 15,        #\n",
        "  'updateThreshold': 0.6,     # During arena playoff, new neural net will be accepted if threshold or more of games are won.\n",
        "  'maxlenOfQueue': 50000,    # Number of game examples to train the neural networks.\n",
        "  'numMCTSSims': 25,          # Number of games moves for MCTS to simulate.\n",
        "  'arenaCompare': 20,         # Number of games to play during arena play to determine if new net will be accepted.\n",
        "  'cpuct': 1,\n",
        "\n",
        "  'checkpoint': '/content/drive/MyDrive/trabalho2_liacd/models/ataxx/6x6',\n",
        "  'load_model': True,\n",
        "  'load_folder_file': ('/content/drive/MyDrive/trabalho2_liacd/models/ataxx/6x6', 'best.h5'),\n",
        "  'numItersForTrainExamplesHistory': 20,\n",
        "\n",
        "})\n",
        "\n",
        "log.info('Loading %s...', Game.__name__)\n",
        "g = Game(6)\n",
        "\n",
        "log.info('Loading %s...', nn.__name__)\n",
        "nnet = nn(g)\n",
        "\n",
        "if args.load_model:\n",
        "  log.info('Loading checkpoint \"%s/%s\"...', args.load_folder_file[0], args.load_folder_file[1])\n",
        "  nnet.load_model(args.load_folder_file[0], args.load_folder_file[1])\n",
        "else:\n",
        "  log.warning('Not loading a checkpoint!')\n",
        "\n",
        "log.info('Loading the Coach...')\n",
        "c = Coach(g, nnet, args)\n",
        "\n",
        "if args.load_model:\n",
        "  log.info(\"Loading 'trainExamples' from file...\")\n",
        "  c.loadTrainExamples()\n",
        "\n",
        "log.info('Starting the learning process 🎉')\n",
        "c.learn()\n",
        "\n"
      ]
    },
    {
      "cell_type": "markdown",
      "source": [
        "Fomos treinando até à data de entrega, ainda seria possivel melhorá-lo com mais treino"
      ],
      "metadata": {
        "id": "h1vVDsltkIAe"
      }
    }
  ],
  "metadata": {
    "colab": {
      "provenance": []
    },
    "kernelspec": {
      "display_name": "Python 3",
      "name": "python3"
    },
    "language_info": {
      "name": "python"
    }
  },
  "nbformat": 4,
  "nbformat_minor": 0
}