{
  "cells": [
    {
      "cell_type": "markdown",
      "source": [
        "Este notebook serviu para treinar o modelo para o jogo ataxx com o tabuleiro 5x5. Apesar de não ser pedido, foi útil para obter os dados para o modelo flex"
      ],
      "metadata": {
        "id": "B5HQpFYhjRfj"
      }
    },
    {
      "cell_type": "code",
      "execution_count": null,
      "metadata": {
        "colab": {
          "base_uri": "https://localhost:8080/"
        },
        "id": "HQPpYx5JHCFN",
        "outputId": "c4f6b1bf-21c1-4bf8-c667-1075b909ab27"
      },
      "outputs": [
        {
          "name": "stdout",
          "output_type": "stream",
          "text": [
            "Mounted at /content/drive\n"
          ]
        }
      ],
      "source": [
        "from google.colab import drive\n",
        "drive.mount('/content/drive')"
      ]
    },
    {
      "cell_type": "code",
      "execution_count": null,
      "metadata": {
        "id": "rLFG8THIHEbX"
      },
      "outputs": [],
      "source": [
        "import os\n",
        "import sys\n"
      ]
    },
    {
      "cell_type": "code",
      "execution_count": null,
      "metadata": {
        "id": "wEsm0EdKHEd6"
      },
      "outputs": [],
      "source": [
        "os.chdir('/content/drive/MyDrive/trabalho2_liacd')\n",
        "sys.path.append('/content/drive/MyDrive/trabalho2_liacd')"
      ]
    },
    {
      "cell_type": "code",
      "execution_count": null,
      "metadata": {
        "colab": {
          "base_uri": "https://localhost:8080/"
        },
        "id": "mjw1qIISHEjy",
        "outputId": "3011f4d6-fff1-40e4-8cdf-200a14e3d72b"
      },
      "outputs": [
        {
          "name": "stdout",
          "output_type": "stream",
          "text": [
            "/content/drive/MyDrive/trabalho2_liacd\n"
          ]
        }
      ],
      "source": [
        "!pwd"
      ]
    },
    {
      "cell_type": "code",
      "execution_count": null,
      "metadata": {
        "colab": {
          "base_uri": "https://localhost:8080/"
        },
        "id": "TYrKZi_mHElt",
        "outputId": "650d1389-d91e-412f-d184-7b0cd1a3224c"
      },
      "outputs": [
        {
          "name": "stdout",
          "output_type": "stream",
          "text": [
            "Collecting coloredlogs\n",
            "  Downloading coloredlogs-15.0.1-py2.py3-none-any.whl (46 kB)\n",
            "\u001b[2K     \u001b[90m━━━━━━━━━━━━━━━━━━━━━━━━━━━━━━━━━━━━━━━━\u001b[0m \u001b[32m46.0/46.0 kB\u001b[0m \u001b[31m909.9 kB/s\u001b[0m eta \u001b[36m0:00:00\u001b[0m\n",
            "\u001b[?25hCollecting humanfriendly>=9.1 (from coloredlogs)\n",
            "  Downloading humanfriendly-10.0-py2.py3-none-any.whl (86 kB)\n",
            "\u001b[2K     \u001b[90m━━━━━━━━━━━━━━━━━━━━━━━━━━━━━━━━━━━━━━━━\u001b[0m \u001b[32m86.8/86.8 kB\u001b[0m \u001b[31m3.2 MB/s\u001b[0m eta \u001b[36m0:00:00\u001b[0m\n",
            "\u001b[?25hInstalling collected packages: humanfriendly, coloredlogs\n",
            "Successfully installed coloredlogs-15.0.1 humanfriendly-10.0\n"
          ]
        }
      ],
      "source": [
        "!pip install coloredlogs"
      ]
    },
    {
      "cell_type": "code",
      "execution_count": null,
      "metadata": {
        "colab": {
          "base_uri": "https://localhost:8080/"
        },
        "id": "7lnUQ1XMHEnP",
        "outputId": "4bd72a88-a43a-4840-904e-5ac5625eaa54"
      },
      "outputs": [
        {
          "name": "stdout",
          "output_type": "stream",
          "text": [
            "pygame 2.5.2 (SDL 2.28.2, Python 3.10.12)\n",
            "Hello from the pygame community. https://www.pygame.org/contribute.html\n"
          ]
        }
      ],
      "source": [
        "import logging\n",
        "\n",
        "import coloredlogs\n",
        "from importlib import reload\n",
        "\n",
        "\n",
        "\n",
        "from Coach import Coach\n",
        "from Ataxx.AtaxxGame import AtaxxGame as Game\n",
        "from Ataxx.tensorflow.NNet import NNetWrapper as nn\n",
        "from utils import *\n"
      ]
    },
    {
      "cell_type": "code",
      "execution_count": null,
      "metadata": {
        "id": "C1QsEDuHHEok"
      },
      "outputs": [],
      "source": [
        "log = logging.getLogger(__name__)\n",
        "\n",
        "coloredlogs.install(level='INFO')"
      ]
    },
    {
      "cell_type": "code",
      "execution_count": null,
      "metadata": {
        "colab": {
          "base_uri": "https://localhost:8080/"
        },
        "id": "Bz4cQL6oXgws",
        "outputId": "fa398cca-7ade-432b-89a1-a05c851637bb"
      },
      "outputs": [
        {
          "data": {
            "text/plain": [
              "1000"
            ]
          },
          "execution_count": 8,
          "metadata": {},
          "output_type": "execute_result"
        }
      ],
      "source": [
        "sys.getrecursionlimit()\n"
      ]
    },
    {
      "cell_type": "code",
      "execution_count": null,
      "metadata": {
        "id": "QXu65feHXhY7"
      },
      "outputs": [],
      "source": [
        "sys.setrecursionlimit(1000000000)\n"
      ]
    },
    {
      "cell_type": "markdown",
      "metadata": {
        "id": "IYh0_0sWgucj"
      },
      "source": [
        "#Primeiro Treino"
      ]
    },
    {
      "cell_type": "code",
      "execution_count": null,
      "metadata": {
        "id": "gFVH1trQHErL"
      },
      "outputs": [],
      "source": [
        "args = dotdict({\n",
        "    'numIters': 5,\n",
        "    'numEps': 25,              # Number of complete self-play games to simulate during a new iteration.\n",
        "    'tempThreshold': 15,        #\n",
        "    'updateThreshold': 0.6,     # During arena playoff, new neural net will be accepted if threshold or more of games are won.\n",
        "    'maxlenOfQueue': 50000,    # Number of game examples to train the neural networks.\n",
        "    'numMCTSSims': 25,          # Number of games moves for MCTS to simulate.\n",
        "    'arenaCompare': 20,         # Number of games to play during arena play to determine if new net will be accepted.\n",
        "    'cpuct': 1,\n",
        "\n",
        "    'checkpoint': '/content/drive/MyDrive/trabalho2_liacd/models/ataxx/5x5',\n",
        "    'load_model': False,\n",
        "    'load_folder_file': ('/content/drive/MyDrive/trabalho2_liacd/models/ataxx/5x5', 'best.h5'),\n",
        "    'numItersForTrainExamplesHistory': 20,\n",
        "\n",
        "})\n"
      ]
    },
    {
      "cell_type": "code",
      "execution_count": null,
      "metadata": {
        "colab": {
          "base_uri": "https://localhost:8080/"
        },
        "id": "BgarzZWqHEsx",
        "outputId": "978a451b-f9aa-4983-f28e-52da89c4d6c9"
      },
      "outputs": [
        {
          "name": "stderr",
          "output_type": "stream",
          "text": [
            "2023-12-24 13:02:27 26960a46ed73 __main__[473] INFO Loading AtaxxGame...\n",
            "2023-12-24 13:02:27 26960a46ed73 __main__[473] INFO Loading NNetWrapper...\n",
            "2023-12-24 13:02:27 26960a46ed73 __main__[473] WARNING Not loading a checkpoint!\n",
            "2023-12-24 13:02:27 26960a46ed73 __main__[473] INFO Loading the Coach...\n",
            "2023-12-24 13:02:28 26960a46ed73 __main__[473] INFO Starting the learning process 🎉\n",
            "2023-12-24 13:02:28 26960a46ed73 Coach[473] INFO Starting Iter #1 ...\n",
            "Self Play: 100%|██████████| 25/25 [12:16<00:00, 29.46s/it]\n"
          ]
        },
        {
          "name": "stdout",
          "output_type": "stream",
          "text": [
            "Checkpoint Directory exists! \n"
          ]
        },
        {
          "name": "stderr",
          "output_type": "stream",
          "text": [
            "/usr/local/lib/python3.10/dist-packages/keras/src/engine/training.py:3103: UserWarning: You are saving your model as an HDF5 file via `model.save()`. This file format is considered legacy. We recommend using instead the native Keras format, e.g. `model.save('my_model.keras')`.\n",
            "  saving_api.save_model(\n"
          ]
        },
        {
          "name": "stdout",
          "output_type": "stream",
          "text": [
            "okok\n",
            "(3280, 5, 5, 1)\n",
            "Epoch 1/10\n",
            "52/52 [==============================] - 10s 151ms/step - loss: 4.7616 - pi_loss: 3.5116 - v_loss: 1.2500\n",
            "Epoch 2/10\n",
            "52/52 [==============================] - 6s 112ms/step - loss: 4.1002 - pi_loss: 3.1487 - v_loss: 0.9515\n",
            "Epoch 3/10\n",
            "52/52 [==============================] - 7s 144ms/step - loss: 3.8907 - pi_loss: 3.0239 - v_loss: 0.8668\n",
            "Epoch 4/10\n",
            "52/52 [==============================] - 6s 110ms/step - loss: 3.5572 - pi_loss: 2.8525 - v_loss: 0.7047\n",
            "Epoch 5/10\n",
            "52/52 [==============================] - 7s 138ms/step - loss: 3.4265 - pi_loss: 2.7681 - v_loss: 0.6585\n",
            "Epoch 6/10\n",
            "52/52 [==============================] - 6s 107ms/step - loss: 3.2253 - pi_loss: 2.6620 - v_loss: 0.5634\n",
            "Epoch 7/10\n",
            "52/52 [==============================] - 5s 103ms/step - loss: 3.0433 - pi_loss: 2.5241 - v_loss: 0.5192\n",
            "Epoch 8/10\n",
            "52/52 [==============================] - 7s 140ms/step - loss: 2.9392 - pi_loss: 2.4416 - v_loss: 0.4976\n",
            "Epoch 9/10\n",
            "52/52 [==============================] - 5s 105ms/step - loss: 2.8359 - pi_loss: 2.3581 - v_loss: 0.4778\n",
            "Epoch 10/10\n",
            "52/52 [==============================] - 7s 145ms/step - loss: 2.6693 - pi_loss: 2.2530 - v_loss: 0.4163\n"
          ]
        },
        {
          "name": "stderr",
          "output_type": "stream",
          "text": [
            "2023-12-24 13:16:09 26960a46ed73 Coach[473] INFO PITTING AGAINST PREVIOUS VERSION\n",
            "Arena.playGames (1): 100%|██████████| 10/10 [03:20<00:00, 20.04s/it]\n",
            "Arena.playGames (2): 100%|██████████| 10/10 [05:24<00:00, 32.41s/it]\n",
            "2023-12-24 13:24:54 26960a46ed73 Coach[473] INFO NEW/PREV WINS : 19 / 1 ; DRAWS : 0\n",
            "2023-12-24 13:24:54 26960a46ed73 Coach[473] INFO ACCEPTING NEW MODEL\n"
          ]
        },
        {
          "name": "stdout",
          "output_type": "stream",
          "text": [
            "Checkpoint Directory exists! \n",
            "Checkpoint Directory exists! \n"
          ]
        },
        {
          "name": "stderr",
          "output_type": "stream",
          "text": [
            "2023-12-24 13:24:54 26960a46ed73 Coach[473] INFO Starting Iter #2 ...\n",
            "Self Play: 100%|██████████| 25/25 [16:33<00:00, 39.75s/it]\n"
          ]
        },
        {
          "name": "stdout",
          "output_type": "stream",
          "text": [
            "Checkpoint Directory exists! \n",
            "okok\n",
            "(7880, 5, 5, 1)\n",
            "Epoch 1/10\n",
            "124/124 [==============================] - 15s 121ms/step - loss: 3.4308 - pi_loss: 2.4134 - v_loss: 1.0174\n",
            "Epoch 2/10\n",
            "124/124 [==============================] - 15s 119ms/step - loss: 3.0056 - pi_loss: 2.1499 - v_loss: 0.8557\n",
            "Epoch 3/10\n",
            "124/124 [==============================] - 15s 119ms/step - loss: 2.7336 - pi_loss: 2.0005 - v_loss: 0.7331\n",
            "Epoch 4/10\n",
            "124/124 [==============================] - 17s 135ms/step - loss: 2.5478 - pi_loss: 1.8887 - v_loss: 0.6592\n",
            "Epoch 5/10\n",
            "124/124 [==============================] - 15s 119ms/step - loss: 2.4259 - pi_loss: 1.8203 - v_loss: 0.6056\n",
            "Epoch 6/10\n",
            "124/124 [==============================] - 15s 121ms/step - loss: 2.3226 - pi_loss: 1.7516 - v_loss: 0.5710\n",
            "Epoch 7/10\n",
            "124/124 [==============================] - 15s 122ms/step - loss: 2.2370 - pi_loss: 1.6936 - v_loss: 0.5434\n",
            "Epoch 8/10\n",
            "124/124 [==============================] - 15s 121ms/step - loss: 2.1356 - pi_loss: 1.6497 - v_loss: 0.4859\n",
            "Epoch 9/10\n",
            "124/124 [==============================] - 15s 119ms/step - loss: 2.0738 - pi_loss: 1.6105 - v_loss: 0.4634\n",
            "Epoch 10/10\n",
            "124/124 [==============================] - 15s 122ms/step - loss: 1.9743 - pi_loss: 1.5528 - v_loss: 0.4216\n"
          ]
        },
        {
          "name": "stderr",
          "output_type": "stream",
          "text": [
            "2023-12-24 13:44:52 26960a46ed73 Coach[473] INFO PITTING AGAINST PREVIOUS VERSION\n",
            "Arena.playGames (1): 100%|██████████| 10/10 [05:18<00:00, 31.90s/it]\n",
            "Arena.playGames (2): 100%|██████████| 10/10 [03:21<00:00, 20.13s/it]\n",
            "2023-12-24 13:53:33 26960a46ed73 Coach[473] INFO NEW/PREV WINS : 15 / 5 ; DRAWS : 0\n",
            "2023-12-24 13:53:33 26960a46ed73 Coach[473] INFO ACCEPTING NEW MODEL\n"
          ]
        },
        {
          "name": "stdout",
          "output_type": "stream",
          "text": [
            "Checkpoint Directory exists! \n",
            "Checkpoint Directory exists! \n"
          ]
        },
        {
          "name": "stderr",
          "output_type": "stream",
          "text": [
            "2023-12-24 13:53:35 26960a46ed73 Coach[473] INFO Starting Iter #3 ...\n",
            "Self Play: 100%|██████████| 25/25 [11:50<00:00, 28.42s/it]\n"
          ]
        },
        {
          "name": "stdout",
          "output_type": "stream",
          "text": [
            "Checkpoint Directory exists! \n",
            "okok\n",
            "(11240, 5, 5, 1)\n",
            "Epoch 1/10\n",
            "176/176 [==============================] - 22s 125ms/step - loss: 2.5476 - pi_loss: 1.8381 - v_loss: 0.7095\n",
            "Epoch 2/10\n",
            "176/176 [==============================] - 21s 117ms/step - loss: 2.3030 - pi_loss: 1.6926 - v_loss: 0.6104\n",
            "Epoch 3/10\n",
            "176/176 [==============================] - 23s 130ms/step - loss: 2.1760 - pi_loss: 1.6162 - v_loss: 0.5598\n",
            "Epoch 4/10\n",
            "176/176 [==============================] - 23s 128ms/step - loss: 2.0824 - pi_loss: 1.5560 - v_loss: 0.5264\n",
            "Epoch 5/10\n",
            "176/176 [==============================] - 22s 122ms/step - loss: 2.0049 - pi_loss: 1.5086 - v_loss: 0.4963\n",
            "Epoch 6/10\n",
            "176/176 [==============================] - 21s 119ms/step - loss: 1.9484 - pi_loss: 1.4788 - v_loss: 0.4695\n",
            "Epoch 7/10\n",
            "176/176 [==============================] - 22s 123ms/step - loss: 1.8889 - pi_loss: 1.4513 - v_loss: 0.4375\n",
            "Epoch 8/10\n",
            "176/176 [==============================] - 20s 113ms/step - loss: 1.8284 - pi_loss: 1.4133 - v_loss: 0.4151\n",
            "Epoch 9/10\n",
            "176/176 [==============================] - 22s 126ms/step - loss: 1.8240 - pi_loss: 1.4092 - v_loss: 0.4149\n",
            "Epoch 10/10\n",
            "176/176 [==============================] - 20s 113ms/step - loss: 1.7603 - pi_loss: 1.3877 - v_loss: 0.3726\n"
          ]
        },
        {
          "name": "stderr",
          "output_type": "stream",
          "text": [
            "2023-12-24 14:09:51 26960a46ed73 Coach[473] INFO PITTING AGAINST PREVIOUS VERSION\n",
            "Arena.playGames (1): 100%|██████████| 10/10 [08:41<00:00, 52.16s/it]\n",
            "Arena.playGames (2): 100%|██████████| 10/10 [05:35<00:00, 33.52s/it]\n",
            "2023-12-24 14:24:08 26960a46ed73 Coach[473] INFO NEW/PREV WINS : 12 / 8 ; DRAWS : 0\n",
            "2023-12-24 14:24:08 26960a46ed73 Coach[473] INFO ACCEPTING NEW MODEL\n"
          ]
        },
        {
          "name": "stdout",
          "output_type": "stream",
          "text": [
            "Checkpoint Directory exists! \n",
            "Checkpoint Directory exists! \n"
          ]
        },
        {
          "name": "stderr",
          "output_type": "stream",
          "text": [
            "2023-12-24 14:24:10 26960a46ed73 Coach[473] INFO Starting Iter #4 ...\n",
            "Self Play: 100%|██████████| 25/25 [10:23<00:00, 24.92s/it]\n"
          ]
        },
        {
          "name": "stdout",
          "output_type": "stream",
          "text": [
            "Checkpoint Directory exists! \n",
            "okok\n",
            "(14208, 5, 5, 1)\n",
            "Epoch 1/10\n",
            "222/222 [==============================] - 27s 122ms/step - loss: 2.1635 - pi_loss: 1.6071 - v_loss: 0.5564\n",
            "Epoch 2/10\n",
            "222/222 [==============================] - 26s 117ms/step - loss: 1.9916 - pi_loss: 1.5069 - v_loss: 0.4847\n",
            "Epoch 3/10\n",
            "222/222 [==============================] - 27s 119ms/step - loss: 1.8799 - pi_loss: 1.4360 - v_loss: 0.4439\n",
            "Epoch 4/10\n",
            "222/222 [==============================] - 27s 120ms/step - loss: 1.8097 - pi_loss: 1.3953 - v_loss: 0.4144\n",
            "Epoch 5/10\n",
            "222/222 [==============================] - 27s 120ms/step - loss: 1.7557 - pi_loss: 1.3744 - v_loss: 0.3814\n",
            "Epoch 6/10\n",
            "222/222 [==============================] - 29s 130ms/step - loss: 1.7263 - pi_loss: 1.3558 - v_loss: 0.3705\n",
            "Epoch 7/10\n",
            "222/222 [==============================] - 28s 125ms/step - loss: 1.6881 - pi_loss: 1.3361 - v_loss: 0.3520\n",
            "Epoch 8/10\n",
            "222/222 [==============================] - 27s 123ms/step - loss: 1.6626 - pi_loss: 1.3210 - v_loss: 0.3416\n",
            "Epoch 9/10\n",
            "222/222 [==============================] - 27s 123ms/step - loss: 1.6421 - pi_loss: 1.3097 - v_loss: 0.3324\n",
            "Epoch 10/10\n",
            "222/222 [==============================] - 27s 120ms/step - loss: 1.6250 - pi_loss: 1.2958 - v_loss: 0.3292\n"
          ]
        },
        {
          "name": "stderr",
          "output_type": "stream",
          "text": [
            "2023-12-24 14:39:59 26960a46ed73 Coach[473] INFO PITTING AGAINST PREVIOUS VERSION\n",
            "Arena.playGames (1): 100%|██████████| 10/10 [06:38<00:00, 39.85s/it]\n",
            "Arena.playGames (2): 100%|██████████| 10/10 [07:15<00:00, 43.60s/it]\n",
            "2023-12-24 14:53:53 26960a46ed73 Coach[473] INFO NEW/PREV WINS : 10 / 10 ; DRAWS : 0\n",
            "2023-12-24 14:53:53 26960a46ed73 Coach[473] INFO REJECTING NEW MODEL\n",
            "2023-12-24 14:53:56 26960a46ed73 Coach[473] INFO Starting Iter #5 ...\n",
            "Self Play: 100%|██████████| 25/25 [13:55<00:00, 33.42s/it]\n"
          ]
        },
        {
          "name": "stdout",
          "output_type": "stream",
          "text": [
            "Checkpoint Directory exists! \n",
            "okok\n",
            "(18344, 5, 5, 1)\n",
            "Epoch 1/10\n",
            "287/287 [==============================] - 40s 130ms/step - loss: 2.5257 - pi_loss: 1.7761 - v_loss: 0.7496\n",
            "Epoch 2/10\n",
            "287/287 [==============================] - 33s 116ms/step - loss: 2.2068 - pi_loss: 1.5798 - v_loss: 0.6270\n",
            "Epoch 3/10\n",
            "287/287 [==============================] - 33s 116ms/step - loss: 2.0608 - pi_loss: 1.4893 - v_loss: 0.5714\n",
            "Epoch 4/10\n",
            "287/287 [==============================] - 35s 122ms/step - loss: 1.9524 - pi_loss: 1.4329 - v_loss: 0.5195\n",
            "Epoch 5/10\n",
            "287/287 [==============================] - 33s 116ms/step - loss: 1.8806 - pi_loss: 1.3933 - v_loss: 0.4873\n",
            "Epoch 6/10\n",
            "287/287 [==============================] - 32s 113ms/step - loss: 1.8081 - pi_loss: 1.3582 - v_loss: 0.4499\n",
            "Epoch 7/10\n",
            "287/287 [==============================] - 35s 122ms/step - loss: 1.7691 - pi_loss: 1.3359 - v_loss: 0.4332\n",
            "Epoch 8/10\n",
            "287/287 [==============================] - 34s 117ms/step - loss: 1.7174 - pi_loss: 1.3171 - v_loss: 0.4002\n",
            "Epoch 9/10\n",
            "287/287 [==============================] - 33s 114ms/step - loss: 1.6698 - pi_loss: 1.2851 - v_loss: 0.3847\n",
            "Epoch 10/10\n",
            "287/287 [==============================] - 34s 117ms/step - loss: 1.6390 - pi_loss: 1.2790 - v_loss: 0.3601\n"
          ]
        },
        {
          "name": "stderr",
          "output_type": "stream",
          "text": [
            "2023-12-24 15:14:18 26960a46ed73 Coach[473] INFO PITTING AGAINST PREVIOUS VERSION\n",
            "Arena.playGames (1): 100%|██████████| 10/10 [07:25<00:00, 44.54s/it]\n",
            "Arena.playGames (2): 100%|██████████| 10/10 [09:22<00:00, 56.20s/it]\n",
            "2023-12-24 15:31:05 26960a46ed73 Coach[473] INFO NEW/PREV WINS : 9 / 11 ; DRAWS : 0\n",
            "2023-12-24 15:31:05 26960a46ed73 Coach[473] INFO REJECTING NEW MODEL\n"
          ]
        }
      ],
      "source": [
        "log.info('Loading %s...', Game.__name__)\n",
        "g = Game(5)\n",
        "\n",
        "log.info('Loading %s...', nn.__name__)\n",
        "nnet = nn(g)\n",
        "\n",
        "if args.load_model:\n",
        "    log.info('Loading checkpoint \"%s/%s\"...', args.load_folder_file[0], args.load_folder_file[1])\n",
        "    nnet.load_checkpoint(args.load_folder_file[0], args.load_folder_file[1])\n",
        "else:\n",
        "    log.warning('Not loading a checkpoint!')\n",
        "\n",
        "log.info('Loading the Coach...')\n",
        "c = Coach(g, nnet, args)\n",
        "\n",
        "if args.load_model:\n",
        "    log.info(\"Loading 'trainExamples' from file...\")\n",
        "    c.loadTrainExamples()\n",
        "\n",
        "log.info('Starting the learning process 🎉')\n",
        "c.learn()"
      ]
    },
    {
      "cell_type": "markdown",
      "metadata": {
        "id": "Q5ydVzpDkk3n"
      },
      "source": [
        "#Segundo Treino"
      ]
    },
    {
      "cell_type": "code",
      "execution_count": null,
      "metadata": {
        "id": "1y8jSOcIka99"
      },
      "outputs": [],
      "source": [
        "args2 = dotdict({\n",
        "    'numIters':15,\n",
        "    'numEps': 25,              # Number of complete self-play games to simulate during a new iteration.\n",
        "    'tempThreshold': 15,        #\n",
        "    'updateThreshold': 0.6,     # During arena playoff, new neural net will be accepted if threshold or more of games are won.\n",
        "    'maxlenOfQueue': 50000,    # Number of game examples to train the neural networks.\n",
        "    'numMCTSSims': 25,          # Number of games moves for MCTS to simulate.\n",
        "    'arenaCompare': 20,         # Number of games to play during arena play to determine if new net will be accepted.\n",
        "    'cpuct': 1,\n",
        "\n",
        "    'checkpoint': '/content/drive/MyDrive/trabalho2_liacd/models/ataxx/5x5',\n",
        "    'load_model': True,\n",
        "    'load_folder_file': ('/content/drive/MyDrive/trabalho2_liacd/models/ataxx/5x5', 'best.h5'),\n",
        "    'numItersForTrainExamplesHistory': 20,\n",
        "\n",
        "})\n"
      ]
    },
    {
      "cell_type": "code",
      "execution_count": null,
      "metadata": {
        "colab": {
          "background_save": true,
          "base_uri": "https://localhost:8080/"
        },
        "id": "twmhOdxrkbAs",
        "outputId": "89dec485-8b1a-47b7-f3ae-4ff53d77efd0"
      },
      "outputs": [
        {
          "name": "stderr",
          "output_type": "stream",
          "text": [
            "2023-12-24 16:06:19 26960a46ed73 __main__[473] INFO Loading AtaxxGame...\n",
            "2023-12-24 16:06:19 26960a46ed73 __main__[473] INFO Loading NNetWrapper...\n",
            "2023-12-24 16:06:20 26960a46ed73 __main__[473] WARNING Not loading a checkpoint!\n",
            "2023-12-24 16:06:20 26960a46ed73 __main__[473] INFO Loading the Coach...\n",
            "2023-12-24 16:06:20 26960a46ed73 __main__[473] INFO Starting the learning process 🎉\n",
            "2023-12-24 16:06:20 26960a46ed73 Coach[473] INFO Starting Iter #1 ...\n",
            "Self Play: 100%|██████████| 25/25 [10:25<00:00, 25.02s/it]\n"
          ]
        },
        {
          "name": "stdout",
          "output_type": "stream",
          "text": [
            "Checkpoint Directory exists! \n"
          ]
        },
        {
          "name": "stderr",
          "output_type": "stream",
          "text": [
            "/usr/local/lib/python3.10/dist-packages/keras/src/engine/training.py:3103: UserWarning: You are saving your model as an HDF5 file via `model.save()`. This file format is considered legacy. We recommend using instead the native Keras format, e.g. `model.save('my_model.keras')`.\n",
            "  saving_api.save_model(\n"
          ]
        },
        {
          "name": "stdout",
          "output_type": "stream",
          "text": [
            "okok\n",
            "(2568, 5, 5, 1)\n",
            "Epoch 1/10\n",
            "41/41 [==============================] - 8s 114ms/step - loss: 4.7682 - pi_loss: 3.4821 - v_loss: 1.2861\n",
            "Epoch 2/10\n",
            "41/41 [==============================] - 6s 157ms/step - loss: 4.1577 - pi_loss: 3.1357 - v_loss: 1.0220\n",
            "Epoch 3/10\n",
            "41/41 [==============================] - 4s 107ms/step - loss: 3.9666 - pi_loss: 3.0110 - v_loss: 0.9556\n",
            "Epoch 4/10\n",
            "41/41 [==============================] - 4s 107ms/step - loss: 3.7313 - pi_loss: 2.8901 - v_loss: 0.8411\n",
            "Epoch 5/10\n",
            "41/41 [==============================] - 7s 160ms/step - loss: 3.6567 - pi_loss: 2.8264 - v_loss: 0.8303\n",
            "Epoch 6/10\n",
            "41/41 [==============================] - 4s 104ms/step - loss: 3.4978 - pi_loss: 2.7403 - v_loss: 0.7575\n",
            "Epoch 7/10\n",
            "41/41 [==============================] - 4s 105ms/step - loss: 3.3437 - pi_loss: 2.6372 - v_loss: 0.7065\n",
            "Epoch 8/10\n",
            "41/41 [==============================] - 6s 151ms/step - loss: 3.2040 - pi_loss: 2.5691 - v_loss: 0.6349\n",
            "Epoch 9/10\n",
            "41/41 [==============================] - 4s 107ms/step - loss: 3.0968 - pi_loss: 2.4873 - v_loss: 0.6095\n",
            "Epoch 10/10\n",
            "41/41 [==============================] - 4s 102ms/step - loss: 3.0106 - pi_loss: 2.4307 - v_loss: 0.5799\n"
          ]
        },
        {
          "name": "stderr",
          "output_type": "stream",
          "text": [
            "2023-12-24 16:18:12 26960a46ed73 Coach[473] INFO PITTING AGAINST PREVIOUS VERSION\n",
            "Arena.playGames (1): 100%|██████████| 10/10 [05:07<00:00, 30.75s/it]\n",
            "Arena.playGames (2): 100%|██████████| 10/10 [05:53<00:00, 35.35s/it]\n",
            "2023-12-24 16:29:13 26960a46ed73 Coach[473] INFO NEW/PREV WINS : 16 / 4 ; DRAWS : 0\n",
            "2023-12-24 16:29:13 26960a46ed73 Coach[473] INFO ACCEPTING NEW MODEL\n"
          ]
        },
        {
          "name": "stdout",
          "output_type": "stream",
          "text": [
            "Checkpoint Directory exists! \n",
            "Checkpoint Directory exists! \n"
          ]
        },
        {
          "name": "stderr",
          "output_type": "stream",
          "text": [
            "2023-12-24 16:29:16 26960a46ed73 Coach[473] INFO Starting Iter #2 ...\n",
            "Self Play: 100%|██████████| 25/25 [16:32<00:00, 39.70s/it]\n"
          ]
        },
        {
          "name": "stdout",
          "output_type": "stream",
          "text": [
            "Checkpoint Directory exists! \n",
            "okok\n",
            "(7032, 5, 5, 1)\n",
            "Epoch 1/10\n",
            "110/110 [==============================] - 13s 116ms/step - loss: 3.5281 - pi_loss: 2.6722 - v_loss: 0.8559\n",
            "Epoch 2/10\n",
            "110/110 [==============================] - 13s 114ms/step - loss: 3.0111 - pi_loss: 2.2847 - v_loss: 0.7264\n",
            "Epoch 3/10\n",
            "110/110 [==============================] - 14s 124ms/step - loss: 2.7486 - pi_loss: 2.0861 - v_loss: 0.6626\n",
            "Epoch 4/10\n",
            "110/110 [==============================] - 14s 123ms/step - loss: 2.5674 - pi_loss: 1.9565 - v_loss: 0.6109\n",
            "Epoch 5/10\n",
            "110/110 [==============================] - 14s 127ms/step - loss: 2.4045 - pi_loss: 1.8430 - v_loss: 0.5614\n",
            "Epoch 6/10\n",
            "110/110 [==============================] - 16s 143ms/step - loss: 2.2987 - pi_loss: 1.7763 - v_loss: 0.5224\n",
            "Epoch 7/10\n",
            "110/110 [==============================] - 13s 122ms/step - loss: 2.2161 - pi_loss: 1.7262 - v_loss: 0.4899\n",
            "Epoch 8/10\n",
            "110/110 [==============================] - 13s 114ms/step - loss: 2.1223 - pi_loss: 1.6664 - v_loss: 0.4559\n",
            "Epoch 9/10\n",
            "110/110 [==============================] - 12s 112ms/step - loss: 2.0629 - pi_loss: 1.6352 - v_loss: 0.4277\n",
            "Epoch 10/10\n",
            "110/110 [==============================] - 14s 125ms/step - loss: 2.0026 - pi_loss: 1.5991 - v_loss: 0.4035\n"
          ]
        },
        {
          "name": "stderr",
          "output_type": "stream",
          "text": [
            "2023-12-24 16:48:06 26960a46ed73 Coach[473] INFO PITTING AGAINST PREVIOUS VERSION\n",
            "Arena.playGames (1): 100%|██████████| 10/10 [08:24<00:00, 50.44s/it]\n",
            "Arena.playGames (2): 100%|██████████| 10/10 [08:54<00:00, 53.42s/it]\n",
            "2023-12-24 17:05:24 26960a46ed73 Coach[473] INFO NEW/PREV WINS : 11 / 9 ; DRAWS : 0\n",
            "2023-12-24 17:05:24 26960a46ed73 Coach[473] INFO REJECTING NEW MODEL\n",
            "2023-12-24 17:05:26 26960a46ed73 Coach[473] INFO Starting Iter #3 ...\n",
            "Self Play: 100%|██████████| 25/25 [17:33<00:00, 42.13s/it]\n"
          ]
        },
        {
          "name": "stdout",
          "output_type": "stream",
          "text": [
            "Checkpoint Directory exists! \n",
            "okok\n",
            "(11712, 5, 5, 1)\n",
            "Epoch 1/10\n",
            "183/183 [==============================] - 22s 116ms/step - loss: 3.5503 - pi_loss: 2.5516 - v_loss: 0.9986\n",
            "Epoch 2/10\n",
            "183/183 [==============================] - 23s 128ms/step - loss: 2.9147 - pi_loss: 2.0786 - v_loss: 0.8361\n",
            "Epoch 3/10\n",
            "183/183 [==============================] - 21s 115ms/step - loss: 2.6687 - pi_loss: 1.9011 - v_loss: 0.7676\n",
            "Epoch 4/10\n",
            "183/183 [==============================] - 21s 116ms/step - loss: 2.5345 - pi_loss: 1.8134 - v_loss: 0.7211\n",
            "Epoch 5/10\n",
            "183/183 [==============================] - 23s 124ms/step - loss: 2.4149 - pi_loss: 1.7389 - v_loss: 0.6759\n",
            "Epoch 6/10\n",
            "183/183 [==============================] - 21s 114ms/step - loss: 2.3130 - pi_loss: 1.6736 - v_loss: 0.6394\n",
            "Epoch 7/10\n",
            "183/183 [==============================] - 22s 122ms/step - loss: 2.2281 - pi_loss: 1.6288 - v_loss: 0.5993\n",
            "Epoch 8/10\n",
            "183/183 [==============================] - 22s 119ms/step - loss: 2.1670 - pi_loss: 1.5878 - v_loss: 0.5792\n",
            "Epoch 9/10\n",
            "183/183 [==============================] - 21s 114ms/step - loss: 2.0908 - pi_loss: 1.5423 - v_loss: 0.5486\n",
            "Epoch 10/10\n",
            "183/183 [==============================] - 23s 125ms/step - loss: 2.0350 - pi_loss: 1.5127 - v_loss: 0.5223\n"
          ]
        },
        {
          "name": "stderr",
          "output_type": "stream",
          "text": [
            "2023-12-24 17:26:41 26960a46ed73 Coach[473] INFO PITTING AGAINST PREVIOUS VERSION\n",
            "Arena.playGames (1): 100%|██████████| 10/10 [09:15<00:00, 55.54s/it]\n",
            "Arena.playGames (2): 100%|██████████| 10/10 [07:21<00:00, 44.12s/it]\n",
            "2023-12-24 17:43:17 26960a46ed73 Coach[473] INFO NEW/PREV WINS : 13 / 7 ; DRAWS : 0\n",
            "2023-12-24 17:43:17 26960a46ed73 Coach[473] INFO ACCEPTING NEW MODEL\n"
          ]
        },
        {
          "name": "stdout",
          "output_type": "stream",
          "text": [
            "Checkpoint Directory exists! \n",
            "Checkpoint Directory exists! \n"
          ]
        },
        {
          "name": "stderr",
          "output_type": "stream",
          "text": [
            "2023-12-24 17:43:20 26960a46ed73 Coach[473] INFO Starting Iter #4 ...\n",
            "Self Play: 100%|██████████| 25/25 [17:49<00:00, 42.80s/it]\n"
          ]
        },
        {
          "name": "stdout",
          "output_type": "stream",
          "text": [
            "Checkpoint Directory exists! \n",
            "okok\n",
            "(16864, 5, 5, 1)\n",
            "Epoch 1/10\n",
            "264/264 [==============================] - 38s 136ms/step - loss: 2.2516 - pi_loss: 1.6350 - v_loss: 0.6166\n",
            "Epoch 2/10\n",
            "264/264 [==============================] - 32s 120ms/step - loss: 2.1041 - pi_loss: 1.5405 - v_loss: 0.5635\n",
            "Epoch 3/10\n",
            "264/264 [==============================] - 35s 131ms/step - loss: 2.0020 - pi_loss: 1.4763 - v_loss: 0.5256\n",
            "Epoch 4/10\n",
            "264/264 [==============================] - 30s 115ms/step - loss: 1.9254 - pi_loss: 1.4318 - v_loss: 0.4936\n",
            "Epoch 5/10\n",
            "264/264 [==============================] - 30s 115ms/step - loss: 1.8717 - pi_loss: 1.3941 - v_loss: 0.4776\n",
            "Epoch 6/10\n",
            "264/264 [==============================] - 32s 120ms/step - loss: 1.8093 - pi_loss: 1.3618 - v_loss: 0.4475\n",
            "Epoch 7/10\n",
            "264/264 [==============================] - 30s 115ms/step - loss: 1.7733 - pi_loss: 1.3336 - v_loss: 0.4398\n",
            "Epoch 8/10\n",
            "264/264 [==============================] - 30s 115ms/step - loss: 1.7108 - pi_loss: 1.3044 - v_loss: 0.4064\n",
            "Epoch 9/10\n",
            "264/264 [==============================] - 30s 114ms/step - loss: 1.6897 - pi_loss: 1.2905 - v_loss: 0.3992\n",
            "Epoch 10/10\n",
            "264/264 [==============================] - 30s 114ms/step - loss: 1.6582 - pi_loss: 1.2772 - v_loss: 0.3810\n"
          ]
        },
        {
          "name": "stderr",
          "output_type": "stream",
          "text": [
            "2023-12-24 18:06:30 26960a46ed73 Coach[473] INFO PITTING AGAINST PREVIOUS VERSION\n",
            "Arena.playGames (1): 100%|██████████| 10/10 [08:47<00:00, 52.70s/it]\n",
            "Arena.playGames (2): 100%|██████████| 10/10 [08:07<00:00, 48.75s/it]\n",
            "2023-12-24 18:23:25 26960a46ed73 Coach[473] INFO NEW/PREV WINS : 10 / 10 ; DRAWS : 0\n",
            "2023-12-24 18:23:25 26960a46ed73 Coach[473] INFO REJECTING NEW MODEL\n",
            "2023-12-24 18:23:27 26960a46ed73 Coach[473] INFO Starting Iter #5 ...\n",
            "Self Play: 100%|██████████| 25/25 [13:33<00:00, 32.54s/it]\n"
          ]
        },
        {
          "name": "stdout",
          "output_type": "stream",
          "text": [
            "Checkpoint Directory exists! \n",
            "okok\n",
            "(20904, 5, 5, 1)\n",
            "Epoch 1/10\n",
            "327/327 [==============================] - 38s 111ms/step - loss: 2.4078 - pi_loss: 1.6984 - v_loss: 0.7094\n",
            "Epoch 2/10\n",
            "327/327 [==============================] - 38s 116ms/step - loss: 2.2135 - pi_loss: 1.5691 - v_loss: 0.6444\n",
            "Epoch 3/10\n",
            "327/327 [==============================] - 36s 111ms/step - loss: 2.1144 - pi_loss: 1.4966 - v_loss: 0.6178\n",
            "Epoch 4/10\n",
            "327/327 [==============================] - 40s 122ms/step - loss: 2.0330 - pi_loss: 1.4461 - v_loss: 0.5869\n",
            "Epoch 5/10\n",
            "327/327 [==============================] - 38s 115ms/step - loss: 1.9557 - pi_loss: 1.4035 - v_loss: 0.5522\n",
            "Epoch 6/10\n",
            "327/327 [==============================] - 37s 111ms/step - loss: 1.9029 - pi_loss: 1.3676 - v_loss: 0.5353\n",
            "Epoch 7/10\n",
            "327/327 [==============================] - 38s 116ms/step - loss: 1.8420 - pi_loss: 1.3364 - v_loss: 0.5055\n",
            "Epoch 8/10\n",
            "327/327 [==============================] - 36s 111ms/step - loss: 1.7834 - pi_loss: 1.3042 - v_loss: 0.4792\n",
            "Epoch 9/10\n",
            "327/327 [==============================] - 38s 116ms/step - loss: 1.7416 - pi_loss: 1.2903 - v_loss: 0.4513\n",
            "Epoch 10/10\n",
            "327/327 [==============================] - 36s 111ms/step - loss: 1.6928 - pi_loss: 1.2605 - v_loss: 0.4324\n"
          ]
        },
        {
          "name": "stderr",
          "output_type": "stream",
          "text": [
            "2023-12-24 18:43:28 26960a46ed73 Coach[473] INFO PITTING AGAINST PREVIOUS VERSION\n",
            "Arena.playGames (1): 100%|██████████| 10/10 [08:57<00:00, 53.80s/it]\n",
            "Arena.playGames (2): 100%|██████████| 10/10 [08:13<00:00, 49.37s/it]\n",
            "2023-12-24 19:00:39 26960a46ed73 Coach[473] INFO NEW/PREV WINS : 15 / 5 ; DRAWS : 0\n",
            "2023-12-24 19:00:39 26960a46ed73 Coach[473] INFO ACCEPTING NEW MODEL\n"
          ]
        },
        {
          "name": "stdout",
          "output_type": "stream",
          "text": [
            "Checkpoint Directory exists! \n",
            "Checkpoint Directory exists! \n"
          ]
        },
        {
          "name": "stderr",
          "output_type": "stream",
          "text": [
            "2023-12-24 19:00:41 26960a46ed73 Coach[473] INFO Starting Iter #6 ...\n",
            "Self Play: 100%|██████████| 25/25 [13:46<00:00, 33.07s/it]\n"
          ]
        },
        {
          "name": "stdout",
          "output_type": "stream",
          "text": [
            "Checkpoint Directory exists! \n",
            "okok\n",
            "(25128, 5, 5, 1)\n",
            "Epoch 1/10\n",
            "393/393 [==============================] - 44s 113ms/step - loss: 1.9345 - pi_loss: 1.3840 - v_loss: 0.5506\n",
            "Epoch 2/10\n",
            "393/393 [==============================] - 44s 112ms/step - loss: 1.7913 - pi_loss: 1.2961 - v_loss: 0.4952\n",
            "Epoch 3/10\n",
            "393/393 [==============================] - 44s 113ms/step - loss: 1.7115 - pi_loss: 1.2464 - v_loss: 0.4652\n",
            "Epoch 4/10\n",
            "393/393 [==============================] - 45s 114ms/step - loss: 1.6536 - pi_loss: 1.2203 - v_loss: 0.4332\n",
            "Epoch 5/10\n",
            "393/393 [==============================] - 45s 114ms/step - loss: 1.6247 - pi_loss: 1.2059 - v_loss: 0.4187\n",
            "Epoch 6/10\n",
            "393/393 [==============================] - 45s 115ms/step - loss: 1.5909 - pi_loss: 1.1919 - v_loss: 0.3991\n",
            "Epoch 7/10\n",
            "393/393 [==============================] - 47s 120ms/step - loss: 1.5621 - pi_loss: 1.1814 - v_loss: 0.3808\n",
            "Epoch 8/10\n",
            "393/393 [==============================] - 45s 115ms/step - loss: 1.5329 - pi_loss: 1.1652 - v_loss: 0.3678\n",
            "Epoch 9/10\n",
            "393/393 [==============================] - 45s 114ms/step - loss: 1.5032 - pi_loss: 1.1556 - v_loss: 0.3476\n",
            "Epoch 10/10\n",
            "393/393 [==============================] - 45s 114ms/step - loss: 1.4823 - pi_loss: 1.1406 - v_loss: 0.3416\n"
          ]
        },
        {
          "name": "stderr",
          "output_type": "stream",
          "text": [
            "2023-12-24 19:22:55 26960a46ed73 Coach[473] INFO PITTING AGAINST PREVIOUS VERSION\n",
            "Arena.playGames (1): 100%|██████████| 10/10 [09:02<00:00, 54.20s/it]\n",
            "Arena.playGames (2): 100%|██████████| 10/10 [08:24<00:00, 50.40s/it]\n",
            "2023-12-24 19:40:21 26960a46ed73 Coach[473] INFO NEW/PREV WINS : 10 / 9 ; DRAWS : 1\n",
            "2023-12-24 19:40:21 26960a46ed73 Coach[473] INFO REJECTING NEW MODEL\n",
            "2023-12-24 19:40:23 26960a46ed73 Coach[473] INFO Starting Iter #7 ...\n",
            "Self Play: 100%|██████████| 25/25 [14:42<00:00, 35.28s/it]\n"
          ]
        },
        {
          "name": "stdout",
          "output_type": "stream",
          "text": [
            "Checkpoint Directory exists! \n",
            "okok\n",
            "(29696, 5, 5, 1)\n",
            "Epoch 1/10\n",
            "464/464 [==============================] - 55s 114ms/step - loss: 2.0821 - pi_loss: 1.4482 - v_loss: 0.6339\n",
            "Epoch 2/10\n",
            "464/464 [==============================] - 55s 119ms/step - loss: 1.9078 - pi_loss: 1.3348 - v_loss: 0.5730\n",
            "Epoch 3/10\n",
            "464/464 [==============================] - 53s 114ms/step - loss: 1.8061 - pi_loss: 1.2762 - v_loss: 0.5299\n",
            "Epoch 4/10\n",
            "464/464 [==============================] - 52s 112ms/step - loss: 1.7410 - pi_loss: 1.2410 - v_loss: 0.5000\n",
            "Epoch 5/10\n",
            "464/464 [==============================] - 53s 115ms/step - loss: 1.6864 - pi_loss: 1.2158 - v_loss: 0.4706\n",
            "Epoch 6/10\n",
            "464/464 [==============================] - 54s 116ms/step - loss: 1.6364 - pi_loss: 1.1880 - v_loss: 0.4484\n",
            "Epoch 7/10\n",
            "464/464 [==============================] - 55s 118ms/step - loss: 1.5947 - pi_loss: 1.1712 - v_loss: 0.4235\n",
            "Epoch 8/10\n",
            "464/464 [==============================] - 53s 115ms/step - loss: 1.5531 - pi_loss: 1.1535 - v_loss: 0.3996\n",
            "Epoch 9/10\n",
            "464/464 [==============================] - 53s 115ms/step - loss: 1.5285 - pi_loss: 1.1426 - v_loss: 0.3859\n",
            "Epoch 10/10\n",
            "464/464 [==============================] - 53s 115ms/step - loss: 1.5134 - pi_loss: 1.1382 - v_loss: 0.3752\n"
          ]
        },
        {
          "name": "stderr",
          "output_type": "stream",
          "text": [
            "2023-12-24 20:04:34 26960a46ed73 Coach[473] INFO PITTING AGAINST PREVIOUS VERSION\n",
            "Arena.playGames (1): 100%|██████████| 10/10 [09:09<00:00, 54.96s/it]\n",
            "Arena.playGames (2): 100%|██████████| 10/10 [08:27<00:00, 50.75s/it]\n",
            "2023-12-24 20:22:11 26960a46ed73 Coach[473] INFO NEW/PREV WINS : 10 / 10 ; DRAWS : 0\n",
            "2023-12-24 20:22:11 26960a46ed73 Coach[473] INFO REJECTING NEW MODEL\n",
            "2023-12-24 20:22:13 26960a46ed73 Coach[473] INFO Starting Iter #8 ...\n",
            "Self Play: 100%|██████████| 25/25 [16:38<00:00, 39.94s/it]\n"
          ]
        },
        {
          "name": "stdout",
          "output_type": "stream",
          "text": [
            "Checkpoint Directory exists! \n",
            "okok\n",
            "(34920, 5, 5, 1)\n",
            "Epoch 1/10\n",
            "546/546 [==============================] - 66s 117ms/step - loss: 2.2022 - pi_loss: 1.4935 - v_loss: 0.7087\n",
            "Epoch 2/10\n",
            "546/546 [==============================] - 63s 116ms/step - loss: 1.9947 - pi_loss: 1.3618 - v_loss: 0.6329\n",
            "Epoch 3/10\n",
            "546/546 [==============================] - 65s 120ms/step - loss: 1.8836 - pi_loss: 1.2917 - v_loss: 0.5919\n",
            "Epoch 4/10\n",
            "546/546 [==============================] - 65s 120ms/step - loss: 1.8089 - pi_loss: 1.2534 - v_loss: 0.5554\n",
            "Epoch 5/10\n",
            "546/546 [==============================] - 66s 120ms/step - loss: 1.7471 - pi_loss: 1.2225 - v_loss: 0.5246\n",
            "Epoch 6/10\n",
            "546/546 [==============================] - 64s 116ms/step - loss: 1.6854 - pi_loss: 1.1912 - v_loss: 0.4942\n",
            "Epoch 7/10\n",
            "546/546 [==============================] - 65s 119ms/step - loss: 1.6296 - pi_loss: 1.1613 - v_loss: 0.4683\n",
            "Epoch 8/10\n",
            "546/546 [==============================] - 65s 120ms/step - loss: 1.5853 - pi_loss: 1.1415 - v_loss: 0.4438\n",
            "Epoch 9/10\n",
            "546/546 [==============================] - 65s 118ms/step - loss: 1.5480 - pi_loss: 1.1233 - v_loss: 0.4247\n",
            "Epoch 10/10\n",
            "546/546 [==============================] - 64s 117ms/step - loss: 1.5240 - pi_loss: 1.1171 - v_loss: 0.4069\n"
          ]
        },
        {
          "name": "stderr",
          "output_type": "stream",
          "text": [
            "2023-12-24 20:49:45 26960a46ed73 Coach[473] INFO PITTING AGAINST PREVIOUS VERSION\n",
            "Arena.playGames (1): 100%|██████████| 10/10 [09:57<00:00, 59.72s/it]\n",
            "Arena.playGames (2):  20%|██        | 2/10 [01:37<06:25, 48.25s/it]"
          ]
        }
      ],
      "source": [
        "log.info('Loading %s...', Game.__name__)\n",
        "g = Game(5)\n",
        "\n",
        "log.info('Loading %s...', nn.__name__)\n",
        "nnet = nn(g)\n",
        "\n",
        "if args2.load_model:\n",
        "    log.info('Loading checkpoint \"%s/%s\"...', args2.load_folder_file[0], args2.load_folder_file[1])\n",
        "    nnet.load_model(args2.load_folder_file[0], args2.load_folder_file[1])\n",
        "else:\n",
        "    log.warning('Not loading a checkpoint!')\n",
        "\n",
        "log.info('Loading the Coach...')\n",
        "c = Coach(g, nnet, args2)\n",
        "\n",
        "if args2.load_model:\n",
        "    log.info(\"Loading 'trainExamples' from file...\")\n",
        "    c.loadTrainExamples()\n",
        "\n",
        "log.info('Starting the learning process 🎉')\n",
        "c.learn()"
      ]
    },
    {
      "cell_type": "markdown",
      "metadata": {
        "id": "6oNUn-6Y-hFu"
      },
      "source": [
        "##Terceiro Treino"
      ]
    },
    {
      "cell_type": "code",
      "execution_count": null,
      "metadata": {
        "id": "gfcgkDDPkbDd"
      },
      "outputs": [],
      "source": [
        "args3 = dotdict({\n",
        "    'numIters':10,\n",
        "    'numEps': 25,              # Number of complete self-play games to simulate during a new iteration.\n",
        "    'tempThreshold': 15,        #\n",
        "    'updateThreshold': 0.6,     # During arena playoff, new neural net will be accepted if threshold or more of games are won.\n",
        "    'maxlenOfQueue': 50000,    # Number of game examples to train the neural networks.\n",
        "    'numMCTSSims': 25,          # Number of games moves for MCTS to simulate.\n",
        "    'arenaCompare': 20,         # Number of games to play during arena play to determine if new net will be accepted.\n",
        "    'cpuct': 1,\n",
        "\n",
        "    'checkpoint': '/content/drive/MyDrive/trabalho2_liacd/models/ataxx/5x5',\n",
        "    'load_model': True,\n",
        "    'load_folder_file': ('/content/drive/MyDrive/trabalho2_liacd/models/ataxx/5x5', 'best.h5'),\n",
        "    'numItersForTrainExamplesHistory': 20,\n",
        "\n",
        "})\n"
      ]
    },
    {
      "cell_type": "code",
      "execution_count": null,
      "metadata": {
        "colab": {
          "background_save": true,
          "base_uri": "https://localhost:8080/"
        },
        "id": "hUS_cevNkbGC",
        "outputId": "9f4885ab-ac77-443b-d782-3eca3b5b9de7"
      },
      "outputs": [
        {
          "name": "stderr",
          "output_type": "stream",
          "text": [
            "2023-12-25 17:18:56 d9ae17d7d558 __main__[204] INFO Loading AtaxxGame...\n",
            "2023-12-25 17:18:56 d9ae17d7d558 __main__[204] INFO Loading NNetWrapper...\n",
            "2023-12-25 17:18:57 d9ae17d7d558 __main__[204] INFO Loading checkpoint \"/content/drive/MyDrive/trabalho2_liacd/models/ataxx/5x5/best.h5\"...\n",
            "2023-12-25 17:18:59 d9ae17d7d558 __main__[204] INFO Loading the Coach...\n",
            "2023-12-25 17:19:00 d9ae17d7d558 __main__[204] INFO Loading 'trainExamples' from file...\n",
            "2023-12-25 17:19:00 d9ae17d7d558 Coach[204] WARNING File \"/content/drive/MyDrive/trabalho2_liacd/models/ataxx/5x5/best.h5.examples\" with trainExamples not found!\n",
            "2023-12-25 17:19:02 d9ae17d7d558 __main__[204] INFO Starting the learning process 🎉\n",
            "2023-12-25 17:19:02 d9ae17d7d558 Coach[204] INFO Starting Iter #1 ...\n",
            "Self Play: 100%|██████████| 25/25 [17:06<00:00, 41.04s/it]\n"
          ]
        },
        {
          "name": "stdout",
          "output_type": "stream",
          "text": [
            "Checkpoint Directory exists! \n"
          ]
        },
        {
          "name": "stderr",
          "output_type": "stream",
          "text": [
            "/usr/local/lib/python3.10/dist-packages/keras/src/engine/training.py:3103: UserWarning: You are saving your model as an HDF5 file via `model.save()`. This file format is considered legacy. We recommend using instead the native Keras format, e.g. `model.save('my_model.keras')`.\n",
            "  saving_api.save_model(\n"
          ]
        },
        {
          "name": "stdout",
          "output_type": "stream",
          "text": [
            "Epoch 1/10\n",
            "79/79 [==============================] - 13s 144ms/step - loss: 2.7847 - pi_loss: 1.6915 - v_loss: 1.0932\n",
            "Epoch 2/10\n",
            "79/79 [==============================] - 11s 145ms/step - loss: 2.0084 - pi_loss: 1.2509 - v_loss: 0.7576\n",
            "Epoch 3/10\n",
            "79/79 [==============================] - 9s 118ms/step - loss: 1.6787 - pi_loss: 1.0606 - v_loss: 0.6181\n",
            "Epoch 4/10\n",
            "79/79 [==============================] - 11s 141ms/step - loss: 1.4860 - pi_loss: 0.9687 - v_loss: 0.5173\n",
            "Epoch 5/10\n",
            "79/79 [==============================] - 11s 140ms/step - loss: 1.3412 - pi_loss: 0.9167 - v_loss: 0.4246\n",
            "Epoch 6/10\n",
            "79/79 [==============================] - 9s 118ms/step - loss: 1.2445 - pi_loss: 0.8752 - v_loss: 0.3693\n",
            "Epoch 7/10\n",
            "79/79 [==============================] - 11s 145ms/step - loss: 1.1956 - pi_loss: 0.8570 - v_loss: 0.3386\n",
            "Epoch 8/10\n",
            "79/79 [==============================] - 11s 141ms/step - loss: 1.1579 - pi_loss: 0.8252 - v_loss: 0.3327\n",
            "Epoch 9/10\n",
            "79/79 [==============================] - 9s 119ms/step - loss: 1.1168 - pi_loss: 0.8103 - v_loss: 0.3065\n",
            "Epoch 10/10\n",
            "79/79 [==============================] - 11s 140ms/step - loss: 1.0998 - pi_loss: 0.7944 - v_loss: 0.3054\n"
          ]
        },
        {
          "name": "stderr",
          "output_type": "stream",
          "text": [
            "2023-12-25 17:38:34 d9ae17d7d558 Coach[204] INFO PITTING AGAINST PREVIOUS VERSION\n",
            "Arena.playGames (1): 100%|██████████| 10/10 [09:00<00:00, 54.01s/it]\n",
            "Arena.playGames (2): 100%|██████████| 10/10 [09:25<00:00, 56.55s/it]\n",
            "2023-12-25 17:57:00 d9ae17d7d558 Coach[204] INFO NEW/PREV WINS : 6 / 13 ; DRAWS : 1\n",
            "2023-12-25 17:57:00 d9ae17d7d558 Coach[204] INFO REJECTING NEW MODEL\n",
            "2023-12-25 17:57:02 d9ae17d7d558 Coach[204] INFO Starting Iter #2 ...\n",
            "Self Play: 100%|██████████| 25/25 [16:17<00:00, 39.09s/it]\n"
          ]
        },
        {
          "name": "stdout",
          "output_type": "stream",
          "text": [
            "Checkpoint Directory exists! \n",
            "Epoch 1/10\n",
            "152/152 [==============================] - 20s 119ms/step - loss: 2.6872 - pi_loss: 1.7077 - v_loss: 0.9795\n",
            "Epoch 2/10\n",
            "152/152 [==============================] - 18s 117ms/step - loss: 2.0672 - pi_loss: 1.3327 - v_loss: 0.7345\n",
            "Epoch 3/10\n",
            "152/152 [==============================] - 19s 124ms/step - loss: 1.8045 - pi_loss: 1.1662 - v_loss: 0.6382\n",
            "Epoch 4/10\n",
            "152/152 [==============================] - 19s 124ms/step - loss: 1.6482 - pi_loss: 1.0869 - v_loss: 0.5613\n",
            "Epoch 5/10\n",
            "152/152 [==============================] - 18s 117ms/step - loss: 1.5204 - pi_loss: 1.0242 - v_loss: 0.4962\n",
            "Epoch 6/10\n",
            "152/152 [==============================] - 18s 120ms/step - loss: 1.4206 - pi_loss: 0.9807 - v_loss: 0.4399\n",
            "Epoch 7/10\n",
            "152/152 [==============================] - 18s 117ms/step - loss: 1.3501 - pi_loss: 0.9509 - v_loss: 0.3992\n",
            "Epoch 8/10\n",
            "152/152 [==============================] - 18s 119ms/step - loss: 1.2806 - pi_loss: 0.9101 - v_loss: 0.3705\n",
            "Epoch 9/10\n",
            "152/152 [==============================] - 18s 120ms/step - loss: 1.2524 - pi_loss: 0.8986 - v_loss: 0.3538\n",
            "Epoch 10/10\n",
            "152/152 [==============================] - 20s 132ms/step - loss: 1.2132 - pi_loss: 0.8797 - v_loss: 0.3335\n"
          ]
        },
        {
          "name": "stderr",
          "output_type": "stream",
          "text": [
            "2023-12-25 18:16:28 d9ae17d7d558 Coach[204] INFO PITTING AGAINST PREVIOUS VERSION\n",
            "Arena.playGames (1): 100%|██████████| 10/10 [10:17<00:00, 61.80s/it]\n",
            "Arena.playGames (2): 100%|██████████| 10/10 [08:06<00:00, 48.61s/it]\n",
            "2023-12-25 18:34:52 d9ae17d7d558 Coach[204] INFO NEW/PREV WINS : 13 / 7 ; DRAWS : 0\n",
            "2023-12-25 18:34:52 d9ae17d7d558 Coach[204] INFO ACCEPTING NEW MODEL\n"
          ]
        },
        {
          "name": "stdout",
          "output_type": "stream",
          "text": [
            "Checkpoint Directory exists! \n",
            "Checkpoint Directory exists! \n"
          ]
        },
        {
          "name": "stderr",
          "output_type": "stream",
          "text": [
            "2023-12-25 18:34:54 d9ae17d7d558 Coach[204] INFO Starting Iter #3 ...\n",
            "Self Play: 100%|██████████| 25/25 [16:37<00:00, 39.91s/it]\n"
          ]
        },
        {
          "name": "stdout",
          "output_type": "stream",
          "text": [
            "Checkpoint Directory exists! \n",
            "Epoch 1/10\n",
            "225/225 [==============================] - 27s 118ms/step - loss: 1.7972 - pi_loss: 1.1808 - v_loss: 0.6164\n",
            "Epoch 2/10\n",
            "225/225 [==============================] - 26s 118ms/step - loss: 1.5603 - pi_loss: 1.0499 - v_loss: 0.5104\n",
            "Epoch 3/10\n",
            "225/225 [==============================] - 28s 124ms/step - loss: 1.4156 - pi_loss: 0.9735 - v_loss: 0.4421\n",
            "Epoch 4/10\n",
            "225/225 [==============================] - 27s 120ms/step - loss: 1.3234 - pi_loss: 0.9265 - v_loss: 0.3968\n",
            "Epoch 5/10\n",
            "225/225 [==============================] - 26s 116ms/step - loss: 1.2591 - pi_loss: 0.9084 - v_loss: 0.3507\n",
            "Epoch 6/10\n",
            "225/225 [==============================] - 27s 118ms/step - loss: 1.2183 - pi_loss: 0.8846 - v_loss: 0.3337\n",
            "Epoch 7/10\n",
            "225/225 [==============================] - 27s 119ms/step - loss: 1.1853 - pi_loss: 0.8691 - v_loss: 0.3162\n",
            "Epoch 8/10\n",
            "225/225 [==============================] - 29s 129ms/step - loss: 1.1638 - pi_loss: 0.8603 - v_loss: 0.3035\n",
            "Epoch 9/10\n",
            "225/225 [==============================] - 25s 112ms/step - loss: 1.1388 - pi_loss: 0.8497 - v_loss: 0.2891\n",
            "Epoch 10/10\n",
            "225/225 [==============================] - 26s 117ms/step - loss: 1.1260 - pi_loss: 0.8457 - v_loss: 0.2804\n"
          ]
        },
        {
          "name": "stderr",
          "output_type": "stream",
          "text": [
            "2023-12-25 18:56:58 d9ae17d7d558 Coach[204] INFO PITTING AGAINST PREVIOUS VERSION\n",
            "Arena.playGames (1): 100%|██████████| 10/10 [09:41<00:00, 58.13s/it]\n",
            "Arena.playGames (2): 100%|██████████| 10/10 [11:20<00:00, 68.08s/it]\n",
            "2023-12-25 19:18:00 d9ae17d7d558 Coach[204] INFO NEW/PREV WINS : 14 / 6 ; DRAWS : 0\n",
            "2023-12-25 19:18:00 d9ae17d7d558 Coach[204] INFO ACCEPTING NEW MODEL\n"
          ]
        },
        {
          "name": "stdout",
          "output_type": "stream",
          "text": [
            "Checkpoint Directory exists! \n",
            "Checkpoint Directory exists! \n"
          ]
        },
        {
          "name": "stderr",
          "output_type": "stream",
          "text": [
            "2023-12-25 19:18:03 d9ae17d7d558 Coach[204] INFO Starting Iter #4 ...\n",
            "Self Play: 100%|██████████| 25/25 [17:48<00:00, 42.73s/it]\n"
          ]
        },
        {
          "name": "stdout",
          "output_type": "stream",
          "text": [
            "Checkpoint Directory exists! \n",
            "Epoch 1/10\n",
            "307/307 [==============================] - 35s 116ms/step - loss: 1.6728 - pi_loss: 1.1146 - v_loss: 0.5582\n",
            "Epoch 2/10\n",
            "307/307 [==============================] - 37s 120ms/step - loss: 1.4256 - pi_loss: 0.9645 - v_loss: 0.4612\n",
            "Epoch 3/10\n",
            "307/307 [==============================] - 35s 115ms/step - loss: 1.3060 - pi_loss: 0.9107 - v_loss: 0.3953\n",
            "Epoch 4/10\n",
            "307/307 [==============================] - 37s 122ms/step - loss: 1.2401 - pi_loss: 0.8786 - v_loss: 0.3615\n",
            "Epoch 5/10\n",
            "307/307 [==============================] - 36s 117ms/step - loss: 1.2031 - pi_loss: 0.8607 - v_loss: 0.3424\n",
            "Epoch 6/10\n",
            "307/307 [==============================] - 39s 128ms/step - loss: 1.1689 - pi_loss: 0.8458 - v_loss: 0.3230\n",
            "Epoch 7/10\n",
            "307/307 [==============================] - 35s 115ms/step - loss: 1.1504 - pi_loss: 0.8391 - v_loss: 0.3113\n",
            "Epoch 8/10\n",
            "307/307 [==============================] - 37s 120ms/step - loss: 1.1303 - pi_loss: 0.8297 - v_loss: 0.3005\n",
            "Epoch 9/10\n",
            "307/307 [==============================] - 35s 115ms/step - loss: 1.1245 - pi_loss: 0.8254 - v_loss: 0.2992\n",
            "Epoch 10/10\n",
            "307/307 [==============================] - 37s 120ms/step - loss: 1.0950 - pi_loss: 0.8137 - v_loss: 0.2813\n"
          ]
        },
        {
          "name": "stderr",
          "output_type": "stream",
          "text": [
            "2023-12-25 19:42:19 d9ae17d7d558 Coach[204] INFO PITTING AGAINST PREVIOUS VERSION\n",
            "Arena.playGames (1): 100%|██████████| 10/10 [09:26<00:00, 56.61s/it]\n",
            "Arena.playGames (2): 100%|██████████| 10/10 [09:36<00:00, 57.66s/it]\n",
            "2023-12-25 20:01:22 d9ae17d7d558 Coach[204] INFO NEW/PREV WINS : 8 / 12 ; DRAWS : 0\n",
            "2023-12-25 20:01:22 d9ae17d7d558 Coach[204] INFO REJECTING NEW MODEL\n",
            "2023-12-25 20:01:24 d9ae17d7d558 Coach[204] INFO Starting Iter #5 ...\n",
            "Self Play: 100%|██████████| 25/25 [17:06<00:00, 41.07s/it]\n"
          ]
        },
        {
          "name": "stdout",
          "output_type": "stream",
          "text": [
            "Checkpoint Directory exists! \n",
            "Epoch 1/10\n",
            "378/378 [==============================] - 49s 122ms/step - loss: 1.9133 - pi_loss: 1.2649 - v_loss: 0.6484\n",
            "Epoch 2/10\n",
            "378/378 [==============================] - 45s 118ms/step - loss: 1.5716 - pi_loss: 1.0559 - v_loss: 0.5157\n",
            "Epoch 3/10\n",
            "378/378 [==============================] - 48s 127ms/step - loss: 1.4318 - pi_loss: 0.9789 - v_loss: 0.4529\n",
            "Epoch 4/10\n",
            "378/378 [==============================] - 46s 122ms/step - loss: 1.3510 - pi_loss: 0.9375 - v_loss: 0.4135\n",
            "Epoch 5/10\n",
            "378/378 [==============================] - 45s 119ms/step - loss: 1.2837 - pi_loss: 0.9052 - v_loss: 0.3785\n",
            "Epoch 6/10\n",
            "378/378 [==============================] - 47s 123ms/step - loss: 1.2386 - pi_loss: 0.8871 - v_loss: 0.3515\n",
            "Epoch 7/10\n",
            "378/378 [==============================] - 45s 118ms/step - loss: 1.2117 - pi_loss: 0.8696 - v_loss: 0.3421\n",
            "Epoch 8/10\n",
            "378/378 [==============================] - 45s 118ms/step - loss: 1.1909 - pi_loss: 0.8596 - v_loss: 0.3314\n",
            "Epoch 9/10\n",
            "378/378 [==============================] - 48s 127ms/step - loss: 1.1622 - pi_loss: 0.8456 - v_loss: 0.3166\n",
            "Epoch 10/10\n",
            "378/378 [==============================] - 46s 121ms/step - loss: 1.1508 - pi_loss: 0.8441 - v_loss: 0.3068\n"
          ]
        },
        {
          "name": "stderr",
          "output_type": "stream",
          "text": [
            "2023-12-25 20:26:17 d9ae17d7d558 Coach[204] INFO PITTING AGAINST PREVIOUS VERSION\n",
            "Arena.playGames (1): 100%|██████████| 10/10 [09:09<00:00, 54.96s/it]\n",
            "Arena.playGames (2): 100%|██████████| 10/10 [09:00<00:00, 54.02s/it]\n",
            "2023-12-25 20:44:27 d9ae17d7d558 Coach[204] INFO NEW/PREV WINS : 9 / 11 ; DRAWS : 0\n",
            "2023-12-25 20:44:27 d9ae17d7d558 Coach[204] INFO REJECTING NEW MODEL\n",
            "2023-12-25 20:44:28 d9ae17d7d558 Coach[204] INFO Starting Iter #6 ...\n",
            "Self Play: 100%|██████████| 25/25 [15:25<00:00, 37.02s/it]\n"
          ]
        },
        {
          "name": "stdout",
          "output_type": "stream",
          "text": [
            "Checkpoint Directory exists! \n",
            "Epoch 1/10\n",
            "447/447 [==============================] - 55s 119ms/step - loss: 1.9859 - pi_loss: 1.2937 - v_loss: 0.6922\n",
            "Epoch 2/10\n",
            "447/447 [==============================] - 52s 117ms/step - loss: 1.6279 - pi_loss: 1.0833 - v_loss: 0.5446\n",
            "Epoch 3/10\n",
            "447/447 [==============================] - 52s 116ms/step - loss: 1.4945 - pi_loss: 1.0145 - v_loss: 0.4800\n",
            "Epoch 4/10\n",
            "447/447 [==============================] - 53s 118ms/step - loss: 1.3973 - pi_loss: 0.9613 - v_loss: 0.4360\n",
            "Epoch 5/10\n",
            "447/447 [==============================] - 53s 120ms/step - loss: 1.3350 - pi_loss: 0.9288 - v_loss: 0.4061\n",
            "Epoch 6/10\n",
            "447/447 [==============================] - 52s 116ms/step - loss: 1.2871 - pi_loss: 0.9060 - v_loss: 0.3811\n",
            "Epoch 7/10\n",
            "447/447 [==============================] - 51s 114ms/step - loss: 1.2535 - pi_loss: 0.8881 - v_loss: 0.3654\n",
            "Epoch 8/10\n",
            "447/447 [==============================] - 53s 118ms/step - loss: 1.2212 - pi_loss: 0.8784 - v_loss: 0.3428\n",
            "Epoch 9/10\n",
            "447/447 [==============================] - 51s 114ms/step - loss: 1.2074 - pi_loss: 0.8646 - v_loss: 0.3427\n",
            "Epoch 10/10\n",
            "447/447 [==============================] - 55s 122ms/step - loss: 1.1736 - pi_loss: 0.8486 - v_loss: 0.3250\n"
          ]
        },
        {
          "name": "stderr",
          "output_type": "stream",
          "text": [
            "2023-12-25 21:08:44 d9ae17d7d558 Coach[204] INFO PITTING AGAINST PREVIOUS VERSION\n",
            "Arena.playGames (1): 100%|██████████| 10/10 [08:49<00:00, 52.91s/it]\n",
            "Arena.playGames (2): 100%|██████████| 10/10 [09:05<00:00, 54.55s/it]\n",
            "2023-12-25 21:26:38 d9ae17d7d558 Coach[204] INFO NEW/PREV WINS : 11 / 9 ; DRAWS : 0\n",
            "2023-12-25 21:26:38 d9ae17d7d558 Coach[204] INFO REJECTING NEW MODEL\n",
            "2023-12-25 21:26:40 d9ae17d7d558 Coach[204] INFO Starting Iter #7 ...\n",
            "Self Play: 100%|██████████| 25/25 [19:50<00:00, 47.61s/it]\n"
          ]
        },
        {
          "name": "stdout",
          "output_type": "stream",
          "text": [
            "Checkpoint Directory exists! \n",
            "Epoch 1/10\n",
            "533/533 [==============================] - 64s 117ms/step - loss: 2.1252 - pi_loss: 1.3665 - v_loss: 0.7586\n",
            "Epoch 2/10\n",
            "533/533 [==============================] - 63s 119ms/step - loss: 1.7590 - pi_loss: 1.1456 - v_loss: 0.6133\n",
            "Epoch 3/10\n",
            "533/533 [==============================] - 62s 116ms/step - loss: 1.6083 - pi_loss: 1.0578 - v_loss: 0.5505\n",
            "Epoch 4/10\n",
            "533/533 [==============================] - 62s 116ms/step - loss: 1.5039 - pi_loss: 0.9988 - v_loss: 0.5051\n",
            "Epoch 5/10\n",
            "533/533 [==============================] - 64s 120ms/step - loss: 1.4203 - pi_loss: 0.9601 - v_loss: 0.4602\n",
            "Epoch 6/10\n",
            "533/533 [==============================] - 63s 118ms/step - loss: 1.3660 - pi_loss: 0.9326 - v_loss: 0.4334\n",
            "Epoch 7/10\n",
            "533/533 [==============================] - 61s 115ms/step - loss: 1.3119 - pi_loss: 0.9108 - v_loss: 0.4012\n",
            "Epoch 8/10\n",
            "533/533 [==============================] - 61s 115ms/step - loss: 1.2736 - pi_loss: 0.8938 - v_loss: 0.3798\n",
            "Epoch 9/10\n",
            "533/533 [==============================] - 64s 120ms/step - loss: 1.2440 - pi_loss: 0.8776 - v_loss: 0.3664\n",
            "Epoch 10/10\n",
            "533/533 [==============================] - 63s 118ms/step - loss: 1.2135 - pi_loss: 0.8638 - v_loss: 0.3497\n"
          ]
        },
        {
          "name": "stderr",
          "output_type": "stream",
          "text": [
            "2023-12-25 21:57:04 d9ae17d7d558 Coach[204] INFO PITTING AGAINST PREVIOUS VERSION\n",
            "Arena.playGames (1): 100%|██████████| 10/10 [08:42<00:00, 52.20s/it]\n",
            "Arena.playGames (2): 100%|██████████| 10/10 [08:59<00:00, 53.95s/it]\n",
            "2023-12-25 22:14:45 d9ae17d7d558 Coach[204] INFO NEW/PREV WINS : 5 / 13 ; DRAWS : 2\n",
            "2023-12-25 22:14:45 d9ae17d7d558 Coach[204] INFO REJECTING NEW MODEL\n",
            "2023-12-25 22:14:47 d9ae17d7d558 Coach[204] INFO Starting Iter #8 ...\n",
            "Self Play: 100%|██████████| 25/25 [14:14<00:00, 34.18s/it]\n"
          ]
        },
        {
          "name": "stdout",
          "output_type": "stream",
          "text": [
            "Checkpoint Directory exists! \n",
            "Epoch 1/10\n",
            "595/595 [==============================] - 71s 116ms/step - loss: 2.1673 - pi_loss: 1.3894 - v_loss: 0.7779\n",
            "Epoch 2/10\n",
            "595/595 [==============================] - 69s 117ms/step - loss: 1.8084 - pi_loss: 1.1725 - v_loss: 0.6359\n",
            "Epoch 3/10\n",
            "595/595 [==============================] - 71s 120ms/step - loss: 1.6631 - pi_loss: 1.0867 - v_loss: 0.5764\n",
            "Epoch 4/10\n",
            "595/595 [==============================] - 68s 114ms/step - loss: 1.5608 - pi_loss: 1.0309 - v_loss: 0.5299\n",
            "Epoch 5/10\n",
            "595/595 [==============================] - 69s 116ms/step - loss: 1.4765 - pi_loss: 0.9889 - v_loss: 0.4876\n",
            "Epoch 6/10\n",
            "595/595 [==============================] - 72s 122ms/step - loss: 1.4120 - pi_loss: 0.9532 - v_loss: 0.4589\n",
            "Epoch 7/10\n",
            "595/595 [==============================] - 70s 118ms/step - loss: 1.3517 - pi_loss: 0.9275 - v_loss: 0.4242\n",
            "Epoch 8/10\n",
            "595/595 [==============================] - 68s 114ms/step - loss: 1.3097 - pi_loss: 0.9071 - v_loss: 0.4025\n",
            "Epoch 9/10\n",
            "595/595 [==============================] - 72s 121ms/step - loss: 1.2789 - pi_loss: 0.8937 - v_loss: 0.3852\n",
            "Epoch 10/10\n",
            "595/595 [==============================] - 69s 117ms/step - loss: 1.2481 - pi_loss: 0.8787 - v_loss: 0.3694\n"
          ]
        },
        {
          "name": "stderr",
          "output_type": "stream",
          "text": [
            "2023-12-25 22:41:31 d9ae17d7d558 Coach[204] INFO PITTING AGAINST PREVIOUS VERSION\n",
            "Arena.playGames (1): 100%|██████████| 10/10 [08:27<00:00, 50.74s/it]\n",
            "Arena.playGames (2): 100%|██████████| 10/10 [09:23<00:00, 56.31s/it]\n",
            "2023-12-25 22:59:21 d9ae17d7d558 Coach[204] INFO NEW/PREV WINS : 12 / 8 ; DRAWS : 0\n",
            "2023-12-25 22:59:21 d9ae17d7d558 Coach[204] INFO ACCEPTING NEW MODEL\n"
          ]
        },
        {
          "name": "stdout",
          "output_type": "stream",
          "text": [
            "Checkpoint Directory exists! \n",
            "Checkpoint Directory exists! \n"
          ]
        },
        {
          "name": "stderr",
          "output_type": "stream",
          "text": [
            "2023-12-25 22:59:23 d9ae17d7d558 Coach[204] INFO Starting Iter #9 ...\n",
            "Self Play: 100%|██████████| 25/25 [13:42<00:00, 32.90s/it]\n"
          ]
        },
        {
          "name": "stdout",
          "output_type": "stream",
          "text": [
            "Checkpoint Directory exists! \n",
            "Epoch 1/10\n",
            "659/659 [==============================] - 78s 119ms/step - loss: 1.4038 - pi_loss: 0.9749 - v_loss: 0.4289\n",
            "Epoch 2/10\n",
            "659/659 [==============================] - 78s 118ms/step - loss: 1.3058 - pi_loss: 0.9157 - v_loss: 0.3901\n",
            "Epoch 3/10\n",
            "659/659 [==============================] - 78s 118ms/step - loss: 1.2558 - pi_loss: 0.8872 - v_loss: 0.3686\n",
            "Epoch 4/10\n",
            "659/659 [==============================] - 80s 121ms/step - loss: 1.2329 - pi_loss: 0.8799 - v_loss: 0.3530\n",
            "Epoch 5/10\n",
            "659/659 [==============================] - 78s 118ms/step - loss: 1.2104 - pi_loss: 0.8664 - v_loss: 0.3440\n",
            "Epoch 6/10\n",
            "659/659 [==============================] - 79s 120ms/step - loss: 1.2007 - pi_loss: 0.8586 - v_loss: 0.3421\n",
            "Epoch 7/10\n",
            "659/659 [==============================] - 78s 119ms/step - loss: 1.1776 - pi_loss: 0.8506 - v_loss: 0.3271\n",
            "Epoch 8/10\n",
            "659/659 [==============================] - 77s 117ms/step - loss: 1.1654 - pi_loss: 0.8462 - v_loss: 0.3192\n",
            "Epoch 9/10\n",
            "659/659 [==============================] - 79s 120ms/step - loss: 1.1573 - pi_loss: 0.8402 - v_loss: 0.3171\n",
            "Epoch 10/10\n",
            "659/659 [==============================] - 77s 117ms/step - loss: 1.1425 - pi_loss: 0.8322 - v_loss: 0.3104\n"
          ]
        },
        {
          "name": "stderr",
          "output_type": "stream",
          "text": [
            "2023-12-25 23:26:15 d9ae17d7d558 Coach[204] INFO PITTING AGAINST PREVIOUS VERSION\n",
            "Arena.playGames (1): 100%|██████████| 10/10 [10:44<00:00, 64.48s/it]\n",
            "Arena.playGames (2): 100%|██████████| 10/10 [08:32<00:00, 51.21s/it]\n",
            "2023-12-25 23:45:31 d9ae17d7d558 Coach[204] INFO NEW/PREV WINS : 12 / 8 ; DRAWS : 0\n",
            "2023-12-25 23:45:31 d9ae17d7d558 Coach[204] INFO ACCEPTING NEW MODEL\n"
          ]
        },
        {
          "name": "stdout",
          "output_type": "stream",
          "text": [
            "Checkpoint Directory exists! \n",
            "Checkpoint Directory exists! \n"
          ]
        },
        {
          "name": "stderr",
          "output_type": "stream",
          "text": [
            "2023-12-25 23:45:33 d9ae17d7d558 Coach[204] INFO Starting Iter #10 ...\n",
            "Self Play:  20%|██        | 5/25 [03:13<13:03, 39.16s/it]"
          ]
        }
      ],
      "source": [
        "log.info('Loading %s...', Game.__name__)\n",
        "g = Game(5)\n",
        "\n",
        "log.info('Loading %s...', nn.__name__)\n",
        "nnet = nn(g)\n",
        "\n",
        "if args3.load_model:\n",
        "    log.info('Loading checkpoint \"%s/%s\"...', args3.load_folder_file[0], args3.load_folder_file[1])\n",
        "    nnet.load_model(args3.load_folder_file[0], args3.load_folder_file[1])\n",
        "else:\n",
        "    log.warning('Not loading a checkpoint!')\n",
        "\n",
        "log.info('Loading the Coach...')\n",
        "c = Coach(g, nnet, args3)\n",
        "\n",
        "if args3.load_model:\n",
        "    log.info(\"Loading 'trainExamples' from file...\")\n",
        "    c.loadTrainExamples()\n",
        "\n",
        "log.info('Starting the learning process 🎉')\n",
        "c.learn()"
      ]
    },
    {
      "cell_type": "markdown",
      "metadata": {
        "id": "Ho9N2HYgf9qB"
      },
      "source": [
        "#Quarto Treino"
      ]
    },
    {
      "cell_type": "code",
      "execution_count": null,
      "metadata": {
        "colab": {
          "base_uri": "https://localhost:8080/"
        },
        "id": "TWVs0bVXkbId",
        "outputId": "66bad895-c78b-4368-ecfb-d18b839c6693"
      },
      "outputs": [
        {
          "name": "stderr",
          "output_type": "stream",
          "text": [
            "2023-12-26 15:41:17 577043a33337 __main__[243793] INFO Loading AtaxxGame...\n",
            "2023-12-26 15:41:17 577043a33337 __main__[243793] INFO Loading NNetWrapper...\n",
            "2023-12-26 15:41:18 577043a33337 __main__[243793] INFO Loading checkpoint \"/content/drive/MyDrive/trabalho2_liacd/models/ataxx/5x5/best.h5\"...\n",
            "2023-12-26 15:41:20 577043a33337 __main__[243793] INFO Loading the Coach...\n",
            "2023-12-26 15:41:20 577043a33337 __main__[243793] INFO Loading 'trainExamples' from file...\n",
            "2023-12-26 15:41:20 577043a33337 Coach[243793] WARNING File \"/content/drive/MyDrive/trabalho2_liacd/models/ataxx/5x5/best.h5.examples\" with trainExamples not found!\n"
          ]
        },
        {
          "name": "stdout",
          "output_type": "stream",
          "text": [
            "Continue? [y|n]y\n"
          ]
        },
        {
          "name": "stderr",
          "output_type": "stream",
          "text": [
            "2023-12-26 15:41:37 577043a33337 __main__[243793] INFO Starting the learning process 🎉\n",
            "2023-12-26 15:41:37 577043a33337 Coach[243793] INFO Starting Iter #1 ...\n",
            "Self Play: 100%|██████████| 25/25 [14:55<00:00, 35.82s/it]\n"
          ]
        },
        {
          "name": "stdout",
          "output_type": "stream",
          "text": [
            "Checkpoint Directory exists! \n"
          ]
        },
        {
          "name": "stderr",
          "output_type": "stream",
          "text": [
            "/usr/local/lib/python3.10/dist-packages/keras/src/engine/training.py:3103: UserWarning: You are saving your model as an HDF5 file via `model.save()`. This file format is considered legacy. We recommend using instead the native Keras format, e.g. `model.save('my_model.keras')`.\n",
            "  saving_api.save_model(\n"
          ]
        },
        {
          "name": "stdout",
          "output_type": "stream",
          "text": [
            "Epoch 1/10\n",
            "70/70 [==============================] - 12s 151ms/step - loss: 2.5955 - pi_loss: 1.6251 - v_loss: 0.9704\n",
            "Epoch 2/10\n",
            "70/70 [==============================] - 8s 118ms/step - loss: 1.7088 - pi_loss: 1.0788 - v_loss: 0.6300\n",
            "Epoch 3/10\n",
            "70/70 [==============================] - 11s 156ms/step - loss: 1.3844 - pi_loss: 0.9217 - v_loss: 0.4627\n",
            "Epoch 4/10\n",
            "70/70 [==============================] - 9s 125ms/step - loss: 1.2323 - pi_loss: 0.8567 - v_loss: 0.3756\n",
            "Epoch 5/10\n",
            "70/70 [==============================] - 10s 148ms/step - loss: 1.1190 - pi_loss: 0.8118 - v_loss: 0.3072\n",
            "Epoch 6/10\n",
            "70/70 [==============================] - 9s 135ms/step - loss: 1.0648 - pi_loss: 0.7782 - v_loss: 0.2866\n",
            "Epoch 7/10\n",
            "70/70 [==============================] - 8s 119ms/step - loss: 1.0134 - pi_loss: 0.7570 - v_loss: 0.2564\n",
            "Epoch 8/10\n",
            "70/70 [==============================] - 11s 152ms/step - loss: 0.9860 - pi_loss: 0.7405 - v_loss: 0.2456\n",
            "Epoch 9/10\n",
            "70/70 [==============================] - 10s 138ms/step - loss: 0.9752 - pi_loss: 0.7332 - v_loss: 0.2420\n",
            "Epoch 10/10\n",
            "70/70 [==============================] - 11s 158ms/step - loss: 0.9562 - pi_loss: 0.7254 - v_loss: 0.2307\n"
          ]
        },
        {
          "name": "stderr",
          "output_type": "stream",
          "text": [
            "2023-12-26 15:58:15 577043a33337 Coach[243793] INFO PITTING AGAINST PREVIOUS VERSION\n",
            "Arena.playGames (1): 100%|██████████| 10/10 [10:45<00:00, 64.55s/it]\n",
            "Arena.playGames (2): 100%|██████████| 10/10 [00:58<00:00,  5.90s/it]\n",
            "2023-12-26 16:09:59 577043a33337 Coach[243793] INFO NEW/PREV WINS : 14 / 6 ; DRAWS : 0\n",
            "2023-12-26 16:09:59 577043a33337 Coach[243793] INFO ACCEPTING NEW MODEL\n"
          ]
        },
        {
          "name": "stdout",
          "output_type": "stream",
          "text": [
            "Checkpoint Directory exists! \n",
            "Checkpoint Directory exists! \n"
          ]
        },
        {
          "name": "stderr",
          "output_type": "stream",
          "text": [
            "2023-12-26 16:10:02 577043a33337 Coach[243793] INFO Starting Iter #2 ...\n",
            "Self Play: 100%|██████████| 25/25 [10:35<00:00, 25.44s/it]\n"
          ]
        },
        {
          "name": "stdout",
          "output_type": "stream",
          "text": [
            "Checkpoint Directory exists! \n",
            "Epoch 1/10\n",
            "123/123 [==============================] - 16s 130ms/step - loss: 1.5245 - pi_loss: 1.0082 - v_loss: 0.5163\n",
            "Epoch 2/10\n",
            "123/123 [==============================] - 15s 126ms/step - loss: 1.2092 - pi_loss: 0.8252 - v_loss: 0.3840\n",
            "Epoch 3/10\n",
            "123/123 [==============================] - 16s 130ms/step - loss: 1.1120 - pi_loss: 0.7690 - v_loss: 0.3430\n",
            "Epoch 4/10\n",
            "123/123 [==============================] - 16s 132ms/step - loss: 1.0507 - pi_loss: 0.7440 - v_loss: 0.3067\n",
            "Epoch 5/10\n",
            "123/123 [==============================] - 16s 133ms/step - loss: 1.0059 - pi_loss: 0.7246 - v_loss: 0.2813\n",
            "Epoch 6/10\n",
            "123/123 [==============================] - 16s 131ms/step - loss: 0.9836 - pi_loss: 0.7146 - v_loss: 0.2690\n",
            "Epoch 7/10\n",
            "123/123 [==============================] - 16s 131ms/step - loss: 0.9778 - pi_loss: 0.7022 - v_loss: 0.2755\n",
            "Epoch 8/10\n",
            "123/123 [==============================] - 16s 130ms/step - loss: 0.9588 - pi_loss: 0.6982 - v_loss: 0.2606\n",
            "Epoch 9/10\n",
            "123/123 [==============================] - 16s 127ms/step - loss: 0.9473 - pi_loss: 0.6920 - v_loss: 0.2552\n",
            "Epoch 10/10\n",
            "123/123 [==============================] - 16s 126ms/step - loss: 0.9429 - pi_loss: 0.6917 - v_loss: 0.2511\n"
          ]
        },
        {
          "name": "stderr",
          "output_type": "stream",
          "text": [
            "2023-12-26 16:23:20 577043a33337 Coach[243793] INFO PITTING AGAINST PREVIOUS VERSION\n",
            "Arena.playGames (1): 100%|██████████| 10/10 [03:32<00:00, 21.27s/it]\n",
            "Arena.playGames (2): 100%|██████████| 10/10 [00:37<00:00,  3.73s/it]\n",
            "2023-12-26 16:27:30 577043a33337 Coach[243793] INFO NEW/PREV WINS : 12 / 8 ; DRAWS : 0\n",
            "2023-12-26 16:27:30 577043a33337 Coach[243793] INFO ACCEPTING NEW MODEL\n"
          ]
        },
        {
          "name": "stdout",
          "output_type": "stream",
          "text": [
            "Checkpoint Directory exists! \n",
            "Checkpoint Directory exists! \n"
          ]
        },
        {
          "name": "stderr",
          "output_type": "stream",
          "text": [
            "2023-12-26 16:27:33 577043a33337 Coach[243793] INFO Starting Iter #3 ...\n",
            "Self Play: 100%|██████████| 25/25 [12:21<00:00, 29.66s/it]\n"
          ]
        },
        {
          "name": "stdout",
          "output_type": "stream",
          "text": [
            "Checkpoint Directory exists! \n",
            "Epoch 1/10\n",
            "178/178 [==============================] - 24s 134ms/step - loss: 1.4688 - pi_loss: 0.9235 - v_loss: 0.5453\n",
            "Epoch 2/10\n",
            "178/178 [==============================] - 22s 121ms/step - loss: 1.2153 - pi_loss: 0.7795 - v_loss: 0.4357\n",
            "Epoch 3/10\n",
            "178/178 [==============================] - 22s 124ms/step - loss: 1.1078 - pi_loss: 0.7328 - v_loss: 0.3750\n",
            "Epoch 4/10\n",
            "178/178 [==============================] - 23s 132ms/step - loss: 1.0557 - pi_loss: 0.7147 - v_loss: 0.3410\n",
            "Epoch 5/10\n",
            "178/178 [==============================] - 21s 121ms/step - loss: 1.0198 - pi_loss: 0.7036 - v_loss: 0.3162\n",
            "Epoch 6/10\n",
            "178/178 [==============================] - 24s 133ms/step - loss: 1.0015 - pi_loss: 0.6957 - v_loss: 0.3058\n",
            "Epoch 7/10\n",
            "178/178 [==============================] - 22s 121ms/step - loss: 0.9804 - pi_loss: 0.6868 - v_loss: 0.2936\n",
            "Epoch 8/10\n",
            "178/178 [==============================] - 22s 125ms/step - loss: 0.9607 - pi_loss: 0.6797 - v_loss: 0.2810\n",
            "Epoch 9/10\n",
            "178/178 [==============================] - 23s 130ms/step - loss: 0.9546 - pi_loss: 0.6784 - v_loss: 0.2763\n",
            "Epoch 10/10\n",
            "178/178 [==============================] - 21s 119ms/step - loss: 0.9424 - pi_loss: 0.6732 - v_loss: 0.2691\n"
          ]
        },
        {
          "name": "stderr",
          "output_type": "stream",
          "text": [
            "2023-12-26 16:44:20 577043a33337 Coach[243793] INFO PITTING AGAINST PREVIOUS VERSION\n",
            "Arena.playGames (1): 100%|██████████| 10/10 [12:10<00:00, 73.04s/it]\n",
            "Arena.playGames (2): 100%|██████████| 10/10 [11:22<00:00, 68.23s/it]\n",
            "2023-12-26 17:07:53 577043a33337 Coach[243793] INFO NEW/PREV WINS : 14 / 6 ; DRAWS : 0\n",
            "2023-12-26 17:07:53 577043a33337 Coach[243793] INFO ACCEPTING NEW MODEL\n"
          ]
        },
        {
          "name": "stdout",
          "output_type": "stream",
          "text": [
            "Checkpoint Directory exists! \n",
            "Checkpoint Directory exists! \n"
          ]
        },
        {
          "name": "stderr",
          "output_type": "stream",
          "text": [
            "2023-12-26 17:07:56 577043a33337 Coach[243793] INFO Starting Iter #4 ...\n",
            "Self Play: 100%|██████████| 25/25 [12:57<00:00, 31.09s/it]\n"
          ]
        },
        {
          "name": "stdout",
          "output_type": "stream",
          "text": [
            "Checkpoint Directory exists! \n",
            "Epoch 1/10\n",
            "236/236 [==============================] - 31s 130ms/step - loss: 1.3534 - pi_loss: 0.8925 - v_loss: 0.4608\n",
            "Epoch 2/10\n",
            "236/236 [==============================] - 30s 128ms/step - loss: 1.1250 - pi_loss: 0.7445 - v_loss: 0.3806\n",
            "Epoch 3/10\n",
            "236/236 [==============================] - 30s 128ms/step - loss: 1.0453 - pi_loss: 0.7044 - v_loss: 0.3409\n",
            "Epoch 4/10\n",
            "236/236 [==============================] - 29s 124ms/step - loss: 1.0062 - pi_loss: 0.6899 - v_loss: 0.3163\n",
            "Epoch 5/10\n",
            "236/236 [==============================] - 30s 125ms/step - loss: 0.9776 - pi_loss: 0.6787 - v_loss: 0.2989\n",
            "Epoch 6/10\n",
            "236/236 [==============================] - 30s 126ms/step - loss: 0.9686 - pi_loss: 0.6710 - v_loss: 0.2976\n",
            "Epoch 7/10\n",
            "236/236 [==============================] - 29s 125ms/step - loss: 0.9475 - pi_loss: 0.6633 - v_loss: 0.2842\n",
            "Epoch 8/10\n",
            "236/236 [==============================] - 30s 125ms/step - loss: 0.9332 - pi_loss: 0.6594 - v_loss: 0.2738\n",
            "Epoch 9/10\n",
            "236/236 [==============================] - 30s 127ms/step - loss: 0.9272 - pi_loss: 0.6556 - v_loss: 0.2717\n",
            "Epoch 10/10\n",
            "236/236 [==============================] - 29s 121ms/step - loss: 0.9248 - pi_loss: 0.6546 - v_loss: 0.2702\n"
          ]
        },
        {
          "name": "stderr",
          "output_type": "stream",
          "text": [
            "2023-12-26 17:26:19 577043a33337 Coach[243793] INFO PITTING AGAINST PREVIOUS VERSION\n",
            "Arena.playGames (1): 100%|██████████| 10/10 [10:26<00:00, 62.68s/it]\n",
            "Arena.playGames (2): 100%|██████████| 10/10 [09:36<00:00, 57.70s/it]\n",
            "2023-12-26 17:46:23 577043a33337 Coach[243793] INFO NEW/PREV WINS : 14 / 6 ; DRAWS : 0\n",
            "2023-12-26 17:46:23 577043a33337 Coach[243793] INFO ACCEPTING NEW MODEL\n"
          ]
        },
        {
          "name": "stdout",
          "output_type": "stream",
          "text": [
            "Checkpoint Directory exists! \n",
            "Checkpoint Directory exists! \n"
          ]
        },
        {
          "name": "stderr",
          "output_type": "stream",
          "text": [
            "2023-12-26 17:46:24 577043a33337 Coach[243793] INFO Starting Iter #5 ...\n",
            "Self Play: 100%|██████████| 25/25 [11:16<00:00, 27.04s/it]\n"
          ]
        },
        {
          "name": "stdout",
          "output_type": "stream",
          "text": [
            "Checkpoint Directory exists! \n",
            "Epoch 1/10\n",
            "288/288 [==============================] - 35s 121ms/step - loss: 1.2967 - pi_loss: 0.8781 - v_loss: 0.4186\n",
            "Epoch 2/10\n",
            "288/288 [==============================] - 35s 121ms/step - loss: 1.1039 - pi_loss: 0.7477 - v_loss: 0.3562\n",
            "Epoch 3/10\n",
            "288/288 [==============================] - 36s 125ms/step - loss: 1.0331 - pi_loss: 0.7146 - v_loss: 0.3185\n",
            "Epoch 4/10\n",
            "288/288 [==============================] - 36s 124ms/step - loss: 0.9960 - pi_loss: 0.6903 - v_loss: 0.3057\n",
            "Epoch 5/10\n",
            "288/288 [==============================] - 35s 121ms/step - loss: 0.9779 - pi_loss: 0.6845 - v_loss: 0.2934\n",
            "Epoch 6/10\n",
            "288/288 [==============================] - 35s 122ms/step - loss: 0.9608 - pi_loss: 0.6772 - v_loss: 0.2837\n",
            "Epoch 7/10\n",
            "288/288 [==============================] - 35s 122ms/step - loss: 0.9530 - pi_loss: 0.6741 - v_loss: 0.2789\n",
            "Epoch 8/10\n",
            "288/288 [==============================] - 37s 127ms/step - loss: 0.9411 - pi_loss: 0.6676 - v_loss: 0.2735\n",
            "Epoch 9/10\n",
            "288/288 [==============================] - 35s 123ms/step - loss: 0.9420 - pi_loss: 0.6640 - v_loss: 0.2779\n",
            "Epoch 10/10\n",
            "288/288 [==============================] - 35s 121ms/step - loss: 0.9343 - pi_loss: 0.6629 - v_loss: 0.2714\n"
          ]
        },
        {
          "name": "stderr",
          "output_type": "stream",
          "text": [
            "2023-12-26 18:04:07 577043a33337 Coach[243793] INFO PITTING AGAINST PREVIOUS VERSION\n",
            "Arena.playGames (1): 100%|██████████| 10/10 [09:30<00:00, 57.02s/it]\n",
            "Arena.playGames (2): 100%|██████████| 10/10 [09:08<00:00, 54.81s/it]\n",
            "2023-12-26 18:22:45 577043a33337 Coach[243793] INFO NEW/PREV WINS : 7 / 13 ; DRAWS : 0\n",
            "2023-12-26 18:22:45 577043a33337 Coach[243793] INFO REJECTING NEW MODEL\n",
            "2023-12-26 18:22:48 577043a33337 Coach[243793] INFO Starting Iter #6 ...\n",
            "Self Play: 100%|██████████| 25/25 [10:04<00:00, 24.17s/it]\n"
          ]
        },
        {
          "name": "stdout",
          "output_type": "stream",
          "text": [
            "Checkpoint Directory exists! \n",
            "Epoch 1/10\n",
            "338/338 [==============================] - 42s 119ms/step - loss: 1.4458 - pi_loss: 0.9650 - v_loss: 0.4808\n",
            "Epoch 2/10\n",
            "338/338 [==============================] - 42s 124ms/step - loss: 1.1823 - pi_loss: 0.7948 - v_loss: 0.3875\n",
            "Epoch 3/10\n",
            "338/338 [==============================] - 40s 118ms/step - loss: 1.0866 - pi_loss: 0.7422 - v_loss: 0.3443\n",
            "Epoch 4/10\n",
            "338/338 [==============================] - 42s 124ms/step - loss: 1.0361 - pi_loss: 0.7135 - v_loss: 0.3226\n",
            "Epoch 5/10\n",
            "338/338 [==============================] - 40s 120ms/step - loss: 1.0061 - pi_loss: 0.7026 - v_loss: 0.3035\n",
            "Epoch 6/10\n",
            "338/338 [==============================] - 41s 123ms/step - loss: 0.9871 - pi_loss: 0.6926 - v_loss: 0.2945\n",
            "Epoch 7/10\n",
            "338/338 [==============================] - 41s 121ms/step - loss: 0.9703 - pi_loss: 0.6848 - v_loss: 0.2855\n",
            "Epoch 8/10\n",
            "338/338 [==============================] - 41s 120ms/step - loss: 0.9569 - pi_loss: 0.6758 - v_loss: 0.2812\n",
            "Epoch 9/10\n",
            "338/338 [==============================] - 42s 124ms/step - loss: 0.9572 - pi_loss: 0.6771 - v_loss: 0.2801\n",
            "Epoch 10/10\n",
            "338/338 [==============================] - 40s 117ms/step - loss: 0.9495 - pi_loss: 0.6724 - v_loss: 0.2771\n"
          ]
        },
        {
          "name": "stderr",
          "output_type": "stream",
          "text": [
            "2023-12-26 18:40:20 577043a33337 Coach[243793] INFO PITTING AGAINST PREVIOUS VERSION\n",
            "Arena.playGames (1): 100%|██████████| 10/10 [09:30<00:00, 57.02s/it]\n",
            "Arena.playGames (2): 100%|██████████| 10/10 [00:42<00:00,  4.27s/it]\n",
            "2023-12-26 18:50:33 577043a33337 Coach[243793] INFO NEW/PREV WINS : 13 / 7 ; DRAWS : 0\n",
            "2023-12-26 18:50:33 577043a33337 Coach[243793] INFO ACCEPTING NEW MODEL\n"
          ]
        },
        {
          "name": "stdout",
          "output_type": "stream",
          "text": [
            "Checkpoint Directory exists! \n",
            "Checkpoint Directory exists! \n"
          ]
        },
        {
          "name": "stderr",
          "output_type": "stream",
          "text": [
            "2023-12-26 18:50:35 577043a33337 Coach[243793] INFO Starting Iter #7 ...\n",
            "Self Play: 100%|██████████| 25/25 [10:25<00:00, 25.01s/it]\n"
          ]
        },
        {
          "name": "stdout",
          "output_type": "stream",
          "text": [
            "Checkpoint Directory exists! \n",
            "Epoch 1/10\n",
            "390/390 [==============================] - 47s 120ms/step - loss: 1.1983 - pi_loss: 0.8108 - v_loss: 0.3875\n",
            "Epoch 2/10\n",
            "390/390 [==============================] - 47s 120ms/step - loss: 1.0742 - pi_loss: 0.7294 - v_loss: 0.3448\n",
            "Epoch 3/10\n",
            "390/390 [==============================] - 47s 120ms/step - loss: 1.0267 - pi_loss: 0.7048 - v_loss: 0.3219\n",
            "Epoch 4/10\n",
            "390/390 [==============================] - 47s 120ms/step - loss: 1.0026 - pi_loss: 0.6945 - v_loss: 0.3081\n",
            "Epoch 5/10\n",
            "390/390 [==============================] - 47s 120ms/step - loss: 0.9836 - pi_loss: 0.6886 - v_loss: 0.2951\n",
            "Epoch 6/10\n",
            "390/390 [==============================] - 47s 120ms/step - loss: 0.9656 - pi_loss: 0.6795 - v_loss: 0.2861\n",
            "Epoch 7/10\n",
            "390/390 [==============================] - 47s 120ms/step - loss: 0.9631 - pi_loss: 0.6763 - v_loss: 0.2868\n",
            "Epoch 8/10\n",
            "390/390 [==============================] - 47s 120ms/step - loss: 0.9530 - pi_loss: 0.6720 - v_loss: 0.2810\n",
            "Epoch 9/10\n",
            "390/390 [==============================] - 46s 119ms/step - loss: 0.9446 - pi_loss: 0.6689 - v_loss: 0.2757\n",
            "Epoch 10/10\n",
            "390/390 [==============================] - 46s 118ms/step - loss: 0.9417 - pi_loss: 0.6693 - v_loss: 0.2724\n"
          ]
        },
        {
          "name": "stderr",
          "output_type": "stream",
          "text": [
            "2023-12-26 19:09:27 577043a33337 Coach[243793] INFO PITTING AGAINST PREVIOUS VERSION\n",
            "Arena.playGames (1): 100%|██████████| 10/10 [03:44<00:00, 22.46s/it]\n",
            "Arena.playGames (2): 100%|██████████| 10/10 [00:50<00:00,  5.09s/it]\n",
            "2023-12-26 19:14:03 577043a33337 Coach[243793] INFO NEW/PREV WINS : 10 / 10 ; DRAWS : 0\n",
            "2023-12-26 19:14:03 577043a33337 Coach[243793] INFO REJECTING NEW MODEL\n",
            "2023-12-26 19:14:04 577043a33337 Coach[243793] INFO Starting Iter #8 ...\n",
            "Self Play: 100%|██████████| 25/25 [08:42<00:00, 20.91s/it]\n"
          ]
        },
        {
          "name": "stdout",
          "output_type": "stream",
          "text": [
            "Checkpoint Directory exists! \n",
            "Epoch 1/10\n",
            "433/433 [==============================] - 55s 122ms/step - loss: 1.3304 - pi_loss: 0.8847 - v_loss: 0.4457\n",
            "Epoch 2/10\n",
            "433/433 [==============================] - 52s 119ms/step - loss: 1.1428 - pi_loss: 0.7677 - v_loss: 0.3750\n",
            "Epoch 3/10\n",
            "433/433 [==============================] - 52s 120ms/step - loss: 1.0781 - pi_loss: 0.7333 - v_loss: 0.3448\n",
            "Epoch 4/10\n",
            "433/433 [==============================] - 55s 126ms/step - loss: 1.0406 - pi_loss: 0.7139 - v_loss: 0.3267\n",
            "Epoch 5/10\n",
            "433/433 [==============================] - 52s 120ms/step - loss: 1.0198 - pi_loss: 0.7060 - v_loss: 0.3137\n",
            "Epoch 6/10\n",
            "433/433 [==============================] - 52s 121ms/step - loss: 1.0037 - pi_loss: 0.6994 - v_loss: 0.3043\n",
            "Epoch 7/10\n",
            "433/433 [==============================] - 53s 122ms/step - loss: 0.9982 - pi_loss: 0.6978 - v_loss: 0.3004\n",
            "Epoch 8/10\n",
            "433/433 [==============================] - 52s 120ms/step - loss: 0.9838 - pi_loss: 0.6905 - v_loss: 0.2934\n",
            "Epoch 9/10\n",
            "433/433 [==============================] - 52s 120ms/step - loss: 0.9776 - pi_loss: 0.6873 - v_loss: 0.2902\n",
            "Epoch 10/10\n",
            "433/433 [==============================] - 53s 121ms/step - loss: 0.9731 - pi_loss: 0.6835 - v_loss: 0.2896\n"
          ]
        },
        {
          "name": "stderr",
          "output_type": "stream",
          "text": [
            "2023-12-26 19:32:16 577043a33337 Coach[243793] INFO PITTING AGAINST PREVIOUS VERSION\n",
            "Arena.playGames (1): 100%|██████████| 10/10 [07:05<00:00, 42.60s/it]\n",
            "Arena.playGames (2): 100%|██████████| 10/10 [09:52<00:00, 59.23s/it]\n",
            "2023-12-26 19:49:14 577043a33337 Coach[243793] INFO NEW/PREV WINS : 3 / 15 ; DRAWS : 2\n",
            "2023-12-26 19:49:14 577043a33337 Coach[243793] INFO REJECTING NEW MODEL\n",
            "2023-12-26 19:49:16 577043a33337 Coach[243793] INFO Starting Iter #9 ...\n",
            "Self Play: 100%|██████████| 25/25 [09:31<00:00, 22.85s/it]\n"
          ]
        },
        {
          "name": "stdout",
          "output_type": "stream",
          "text": [
            "Checkpoint Directory exists! \n",
            "Epoch 1/10\n",
            "478/478 [==============================] - 60s 123ms/step - loss: 1.4374 - pi_loss: 0.9460 - v_loss: 0.4914\n",
            "Epoch 2/10\n",
            "478/478 [==============================] - 56s 118ms/step - loss: 1.2033 - pi_loss: 0.8004 - v_loss: 0.4029\n",
            "Epoch 3/10\n",
            "478/478 [==============================] - 58s 122ms/step - loss: 1.1302 - pi_loss: 0.7606 - v_loss: 0.3696\n",
            "Epoch 4/10\n",
            "478/478 [==============================] - 58s 121ms/step - loss: 1.0855 - pi_loss: 0.7416 - v_loss: 0.3439\n",
            "Epoch 5/10\n",
            "478/478 [==============================] - 57s 120ms/step - loss: 1.0440 - pi_loss: 0.7204 - v_loss: 0.3237\n",
            "Epoch 6/10\n",
            "478/478 [==============================] - 58s 122ms/step - loss: 1.0218 - pi_loss: 0.7102 - v_loss: 0.3116\n",
            "Epoch 7/10\n",
            "478/478 [==============================] - 56s 118ms/step - loss: 1.0118 - pi_loss: 0.7052 - v_loss: 0.3066\n",
            "Epoch 8/10\n",
            "478/478 [==============================] - 58s 122ms/step - loss: 0.9972 - pi_loss: 0.6998 - v_loss: 0.2975\n",
            "Epoch 9/10\n",
            "478/478 [==============================] - 61s 128ms/step - loss: 0.9895 - pi_loss: 0.6952 - v_loss: 0.2943\n",
            "Epoch 10/10\n",
            "478/478 [==============================] - 61s 128ms/step - loss: 0.9781 - pi_loss: 0.6914 - v_loss: 0.2867\n"
          ]
        },
        {
          "name": "stderr",
          "output_type": "stream",
          "text": [
            "2023-12-26 20:09:15 577043a33337 Coach[243793] INFO PITTING AGAINST PREVIOUS VERSION\n",
            "Arena.playGames (1): 100%|██████████| 10/10 [08:18<00:00, 49.81s/it]\n",
            "Arena.playGames (2): 100%|██████████| 10/10 [07:21<00:00, 44.12s/it]\n",
            "2023-12-26 20:24:55 577043a33337 Coach[243793] INFO NEW/PREV WINS : 2 / 18 ; DRAWS : 0\n",
            "2023-12-26 20:24:55 577043a33337 Coach[243793] INFO REJECTING NEW MODEL\n",
            "2023-12-26 20:24:56 577043a33337 Coach[243793] INFO Starting Iter #10 ...\n",
            "Self Play: 100%|██████████| 25/25 [12:26<00:00, 29.86s/it]\n"
          ]
        },
        {
          "name": "stdout",
          "output_type": "stream",
          "text": [
            "Checkpoint Directory exists! \n",
            "Epoch 1/10\n",
            "536/536 [==============================] - 66s 120ms/step - loss: 1.5402 - pi_loss: 0.9932 - v_loss: 0.5470\n",
            "Epoch 2/10\n",
            "536/536 [==============================] - 64s 119ms/step - loss: 1.2873 - pi_loss: 0.8376 - v_loss: 0.4498\n",
            "Epoch 3/10\n",
            "536/536 [==============================] - 67s 125ms/step - loss: 1.1896 - pi_loss: 0.7847 - v_loss: 0.4049\n",
            "Epoch 4/10\n",
            "536/536 [==============================] - 64s 120ms/step - loss: 1.1267 - pi_loss: 0.7540 - v_loss: 0.3727\n",
            "Epoch 5/10\n",
            "536/536 [==============================] - 64s 120ms/step - loss: 1.0877 - pi_loss: 0.7367 - v_loss: 0.3511\n",
            "Epoch 6/10\n",
            "536/536 [==============================] - 64s 120ms/step - loss: 1.0653 - pi_loss: 0.7275 - v_loss: 0.3378\n",
            "Epoch 7/10\n",
            "536/536 [==============================] - 64s 120ms/step - loss: 1.0436 - pi_loss: 0.7165 - v_loss: 0.3271\n",
            "Epoch 8/10\n",
            "536/536 [==============================] - 64s 120ms/step - loss: 1.0208 - pi_loss: 0.7071 - v_loss: 0.3137\n",
            "Epoch 9/10\n",
            "536/536 [==============================] - 65s 121ms/step - loss: 1.0174 - pi_loss: 0.7096 - v_loss: 0.3078\n",
            "Epoch 10/10\n",
            "536/536 [==============================] - 64s 120ms/step - loss: 1.0083 - pi_loss: 0.7002 - v_loss: 0.3081\n"
          ]
        },
        {
          "name": "stderr",
          "output_type": "stream",
          "text": [
            "2023-12-26 20:48:16 577043a33337 Coach[243793] INFO PITTING AGAINST PREVIOUS VERSION\n",
            "Arena.playGames (1): 100%|██████████| 10/10 [08:03<00:00, 48.37s/it]\n",
            "Arena.playGames (2): 100%|██████████| 10/10 [07:21<00:00, 44.13s/it]\n",
            "2023-12-26 21:03:41 577043a33337 Coach[243793] INFO NEW/PREV WINS : 5 / 14 ; DRAWS : 1\n",
            "2023-12-26 21:03:41 577043a33337 Coach[243793] INFO REJECTING NEW MODEL\n"
          ]
        }
      ],
      "source": [
        "args = dotdict({\n",
        "    'numIters':10,\n",
        "    'numEps': 25,              # Number of complete self-play games to simulate during a new iteration.\n",
        "    'tempThreshold': 15,        #\n",
        "    'updateThreshold': 0.6,     # During arena playoff, new neural net will be accepted if threshold or more of games are won.\n",
        "    'maxlenOfQueue': 50000,    # Number of game examples to train the neural networks.\n",
        "    'numMCTSSims': 25,          # Number of games moves for MCTS to simulate.\n",
        "    'arenaCompare': 20,         # Number of games to play during arena play to determine if new net will be accepted.\n",
        "    'cpuct': 1,\n",
        "\n",
        "    'checkpoint': '/content/drive/MyDrive/trabalho2_liacd/models/ataxx/5x5',\n",
        "    'load_model': True,\n",
        "    'load_folder_file': ('/content/drive/MyDrive/trabalho2_liacd/models/ataxx/5x5', 'best.h5'),\n",
        "    'numItersForTrainExamplesHistory': 20,\n",
        "\n",
        "})\n",
        "\n",
        "\n",
        "log.info('Loading %s...', Game.__name__)\n",
        "g = Game(5)\n",
        "\n",
        "log.info('Loading %s...', nn.__name__)\n",
        "nnet = nn(g)\n",
        "\n",
        "if args.load_model:\n",
        "    log.info('Loading checkpoint \"%s/%s\"...', args.load_folder_file[0], args.load_folder_file[1])\n",
        "    nnet.load_model(args.load_folder_file[0], args.load_folder_file[1])\n",
        "else:\n",
        "    log.warning('Not loading a checkpoint!')\n",
        "\n",
        "log.info('Loading the Coach...')\n",
        "c = Coach(g, nnet, args)\n",
        "\n",
        "if args.load_model:\n",
        "    log.info(\"Loading 'trainExamples' from file...\")\n",
        "    c.loadTrainExamples()\n",
        "\n",
        "log.info('Starting the learning process 🎉')\n",
        "c.learn()\n",
        "\n"
      ]
    },
    {
      "cell_type": "markdown",
      "metadata": {
        "id": "Xhyv_trcjRAX"
      },
      "source": [
        "#Quinto Treino\n"
      ]
    },
    {
      "cell_type": "code",
      "execution_count": null,
      "metadata": {
        "colab": {
          "background_save": true,
          "base_uri": "https://localhost:8080/"
        },
        "id": "7xjNhLPuHEuU",
        "outputId": "642f88b6-ab73-4c81-9786-edb58b9974a6"
      },
      "outputs": [
        {
          "name": "stderr",
          "output_type": "stream",
          "text": [
            "2023-12-26 23:55:45 66c6c470d596 __main__[206] INFO Loading AtaxxGame...\n",
            "2023-12-26 23:55:45 66c6c470d596 __main__[206] INFO Loading NNetWrapper...\n",
            "2023-12-26 23:55:45 66c6c470d596 __main__[206] INFO Loading checkpoint \"/content/drive/MyDrive/trabalho2_liacd/models/ataxx/5x5/best.h5\"...\n",
            "2023-12-26 23:55:49 66c6c470d596 __main__[206] INFO Loading the Coach...\n",
            "2023-12-26 23:55:49 66c6c470d596 __main__[206] INFO Loading 'trainExamples' from file...\n",
            "2023-12-26 23:55:49 66c6c470d596 Coach[206] WARNING File \"/content/drive/MyDrive/trabalho2_liacd/models/ataxx/5x5/best.h5.examples\" with trainExamples not found!\n",
            "2023-12-26 23:55:52 66c6c470d596 __main__[206] INFO Starting the learning process 🎉\n",
            "2023-12-26 23:55:52 66c6c470d596 Coach[206] INFO Starting Iter #1 ...\n",
            "Self Play: 100%|██████████| 25/25 [15:35<00:00, 37.43s/it]\n"
          ]
        },
        {
          "name": "stdout",
          "output_type": "stream",
          "text": [
            "Checkpoint Directory exists! \n"
          ]
        },
        {
          "name": "stderr",
          "output_type": "stream",
          "text": [
            "/usr/local/lib/python3.10/dist-packages/keras/src/engine/training.py:3103: UserWarning: You are saving your model as an HDF5 file via `model.save()`. This file format is considered legacy. We recommend using instead the native Keras format, e.g. `model.save('my_model.keras')`.\n",
            "  saving_api.save_model(\n"
          ]
        },
        {
          "name": "stdout",
          "output_type": "stream",
          "text": [
            "Epoch 1/10\n",
            "72/72 [==============================] - 12s 144ms/step - loss: 2.4719 - pi_loss: 1.4556 - v_loss: 1.0163\n",
            "Epoch 2/10\n",
            "72/72 [==============================] - 11s 160ms/step - loss: 1.6215 - pi_loss: 0.9223 - v_loss: 0.6992\n",
            "Epoch 3/10\n",
            "72/72 [==============================] - 9s 129ms/step - loss: 1.2931 - pi_loss: 0.7589 - v_loss: 0.5342\n",
            "Epoch 4/10\n",
            "72/72 [==============================] - 11s 149ms/step - loss: 1.0893 - pi_loss: 0.6801 - v_loss: 0.4092\n",
            "Epoch 5/10\n",
            "72/72 [==============================] - 10s 144ms/step - loss: 0.9987 - pi_loss: 0.6468 - v_loss: 0.3519\n",
            "Epoch 6/10\n",
            "72/72 [==============================] - 9s 123ms/step - loss: 0.9386 - pi_loss: 0.6227 - v_loss: 0.3159\n",
            "Epoch 7/10\n",
            "72/72 [==============================] - 11s 152ms/step - loss: 0.8787 - pi_loss: 0.6053 - v_loss: 0.2735\n",
            "Epoch 8/10\n",
            "72/72 [==============================] - 9s 120ms/step - loss: 0.8495 - pi_loss: 0.5903 - v_loss: 0.2592\n",
            "Epoch 9/10\n",
            "72/72 [==============================] - 11s 150ms/step - loss: 0.8229 - pi_loss: 0.5854 - v_loss: 0.2375\n",
            "Epoch 10/10\n",
            "72/72 [==============================] - 10s 139ms/step - loss: 0.8104 - pi_loss: 0.5760 - v_loss: 0.2344\n"
          ]
        },
        {
          "name": "stderr",
          "output_type": "stream",
          "text": [
            "2023-12-27 00:13:55 66c6c470d596 Coach[206] INFO PITTING AGAINST PREVIOUS VERSION\n",
            "Arena.playGames (1): 100%|██████████| 10/10 [10:45<00:00, 64.58s/it]\n",
            "Arena.playGames (2): 100%|██████████| 10/10 [11:42<00:00, 70.20s/it]\n",
            "2023-12-27 00:36:23 66c6c470d596 Coach[206] INFO NEW/PREV WINS : 6 / 13 ; DRAWS : 1\n",
            "2023-12-27 00:36:23 66c6c470d596 Coach[206] INFO REJECTING NEW MODEL\n",
            "2023-12-27 00:36:25 66c6c470d596 Coach[206] INFO Starting Iter #2 ...\n",
            "Self Play: 100%|██████████| 25/25 [10:33<00:00, 25.36s/it]\n"
          ]
        },
        {
          "name": "stdout",
          "output_type": "stream",
          "text": [
            "Checkpoint Directory exists! \n",
            "Epoch 1/10\n",
            "115/115 [==============================] - 18s 135ms/step - loss: 2.3523 - pi_loss: 1.4033 - v_loss: 0.9490\n",
            "Epoch 2/10\n",
            "115/115 [==============================] - 15s 132ms/step - loss: 1.5867 - pi_loss: 0.9124 - v_loss: 0.6743\n",
            "Epoch 3/10\n",
            "115/115 [==============================] - 15s 131ms/step - loss: 1.3286 - pi_loss: 0.7723 - v_loss: 0.5563\n",
            "Epoch 4/10\n",
            "115/115 [==============================] - 15s 133ms/step - loss: 1.1753 - pi_loss: 0.7084 - v_loss: 0.4669\n",
            "Epoch 5/10\n",
            "115/115 [==============================] - 16s 135ms/step - loss: 1.0828 - pi_loss: 0.6641 - v_loss: 0.4187\n",
            "Epoch 6/10\n",
            "115/115 [==============================] - 16s 137ms/step - loss: 1.0162 - pi_loss: 0.6428 - v_loss: 0.3734\n",
            "Epoch 7/10\n",
            "115/115 [==============================] - 16s 137ms/step - loss: 0.9776 - pi_loss: 0.6310 - v_loss: 0.3467\n",
            "Epoch 8/10\n",
            "115/115 [==============================] - 16s 136ms/step - loss: 0.9603 - pi_loss: 0.6187 - v_loss: 0.3416\n",
            "Epoch 9/10\n",
            "115/115 [==============================] - 16s 137ms/step - loss: 0.9256 - pi_loss: 0.6071 - v_loss: 0.3185\n",
            "Epoch 10/10\n",
            "115/115 [==============================] - 16s 137ms/step - loss: 0.9157 - pi_loss: 0.6031 - v_loss: 0.3126\n"
          ]
        },
        {
          "name": "stderr",
          "output_type": "stream",
          "text": [
            "2023-12-27 00:50:26 66c6c470d596 Coach[206] INFO PITTING AGAINST PREVIOUS VERSION\n",
            "Arena.playGames (1): 100%|██████████| 10/10 [05:39<00:00, 33.98s/it]\n",
            "Arena.playGames (2): 100%|██████████| 10/10 [12:08<00:00, 72.83s/it]\n",
            "2023-12-27 01:08:14 66c6c470d596 Coach[206] INFO NEW/PREV WINS : 2 / 18 ; DRAWS : 0\n",
            "2023-12-27 01:08:14 66c6c470d596 Coach[206] INFO REJECTING NEW MODEL\n",
            "2023-12-27 01:08:17 66c6c470d596 Coach[206] INFO Starting Iter #3 ...\n",
            "Self Play: 100%|██████████| 25/25 [12:31<00:00, 30.05s/it]\n"
          ]
        },
        {
          "name": "stdout",
          "output_type": "stream",
          "text": [
            "Checkpoint Directory exists! \n",
            "Epoch 1/10\n",
            "169/169 [==============================] - 25s 138ms/step - loss: 2.2519 - pi_loss: 1.3775 - v_loss: 0.8745\n",
            "Epoch 2/10\n",
            "169/169 [==============================] - 21s 125ms/step - loss: 1.6309 - pi_loss: 0.9588 - v_loss: 0.6721\n",
            "Epoch 3/10\n",
            "169/169 [==============================] - 22s 131ms/step - loss: 1.3732 - pi_loss: 0.8248 - v_loss: 0.5484\n",
            "Epoch 4/10\n",
            "169/169 [==============================] - 22s 128ms/step - loss: 1.1968 - pi_loss: 0.7462 - v_loss: 0.4506\n",
            "Epoch 5/10\n",
            "169/169 [==============================] - 21s 125ms/step - loss: 1.0890 - pi_loss: 0.6965 - v_loss: 0.3925\n",
            "Epoch 6/10\n",
            "169/169 [==============================] - 23s 134ms/step - loss: 1.0144 - pi_loss: 0.6723 - v_loss: 0.3422\n",
            "Epoch 7/10\n",
            "169/169 [==============================] - 21s 125ms/step - loss: 0.9717 - pi_loss: 0.6493 - v_loss: 0.3223\n",
            "Epoch 8/10\n",
            "169/169 [==============================] - 23s 135ms/step - loss: 0.9253 - pi_loss: 0.6320 - v_loss: 0.2933\n",
            "Epoch 9/10\n",
            "169/169 [==============================] - 21s 124ms/step - loss: 0.9124 - pi_loss: 0.6218 - v_loss: 0.2907\n",
            "Epoch 10/10\n",
            "169/169 [==============================] - 23s 134ms/step - loss: 0.8860 - pi_loss: 0.6127 - v_loss: 0.2733\n"
          ]
        },
        {
          "name": "stderr",
          "output_type": "stream",
          "text": [
            "2023-12-27 01:25:16 66c6c470d596 Coach[206] INFO PITTING AGAINST PREVIOUS VERSION\n",
            "Arena.playGames (1): 100%|██████████| 10/10 [11:27<00:00, 68.75s/it]\n",
            "Arena.playGames (2): 100%|██████████| 10/10 [11:52<00:00, 71.22s/it]\n",
            "2023-12-27 01:48:35 66c6c470d596 Coach[206] INFO NEW/PREV WINS : 7 / 13 ; DRAWS : 0\n",
            "2023-12-27 01:48:35 66c6c470d596 Coach[206] INFO REJECTING NEW MODEL\n",
            "2023-12-27 01:48:40 66c6c470d596 Coach[206] INFO Starting Iter #4 ...\n",
            "Self Play: 100%|██████████| 25/25 [14:21<00:00, 34.44s/it]\n"
          ]
        },
        {
          "name": "stdout",
          "output_type": "stream",
          "text": [
            "Checkpoint Directory exists! \n",
            "Epoch 1/10\n",
            "227/227 [==============================] - 31s 127ms/step - loss: 2.2303 - pi_loss: 1.3644 - v_loss: 0.8660\n",
            "Epoch 2/10\n",
            "227/227 [==============================] - 29s 128ms/step - loss: 1.6761 - pi_loss: 0.9916 - v_loss: 0.6845\n",
            "Epoch 3/10\n",
            "227/227 [==============================] - 29s 129ms/step - loss: 1.4399 - pi_loss: 0.8654 - v_loss: 0.5745\n",
            "Epoch 4/10\n",
            "227/227 [==============================] - 29s 128ms/step - loss: 1.2746 - pi_loss: 0.7876 - v_loss: 0.4870\n",
            "Epoch 5/10\n",
            "227/227 [==============================] - 29s 130ms/step - loss: 1.1552 - pi_loss: 0.7300 - v_loss: 0.4253\n",
            "Epoch 6/10\n",
            "227/227 [==============================] - 29s 129ms/step - loss: 1.0650 - pi_loss: 0.6950 - v_loss: 0.3701\n",
            "Epoch 7/10\n",
            "227/227 [==============================] - 29s 128ms/step - loss: 1.0123 - pi_loss: 0.6734 - v_loss: 0.3389\n",
            "Epoch 8/10\n",
            "227/227 [==============================] - 29s 129ms/step - loss: 0.9739 - pi_loss: 0.6577 - v_loss: 0.3162\n",
            "Epoch 9/10\n",
            "227/227 [==============================] - 29s 130ms/step - loss: 0.9454 - pi_loss: 0.6414 - v_loss: 0.3040\n",
            "Epoch 10/10\n",
            "227/227 [==============================] - 29s 129ms/step - loss: 0.9241 - pi_loss: 0.6346 - v_loss: 0.2895\n"
          ]
        },
        {
          "name": "stderr",
          "output_type": "stream",
          "text": [
            "2023-12-27 02:08:29 66c6c470d596 Coach[206] INFO PITTING AGAINST PREVIOUS VERSION\n",
            "Arena.playGames (1): 100%|██████████| 10/10 [09:39<00:00, 57.92s/it]\n",
            "Arena.playGames (2): 100%|██████████| 10/10 [11:36<00:00, 69.61s/it]\n",
            "2023-12-27 02:29:44 66c6c470d596 Coach[206] INFO NEW/PREV WINS : 9 / 11 ; DRAWS : 0\n",
            "2023-12-27 02:29:44 66c6c470d596 Coach[206] INFO REJECTING NEW MODEL\n",
            "2023-12-27 02:29:48 66c6c470d596 Coach[206] INFO Starting Iter #5 ...\n",
            "Self Play: 100%|██████████| 25/25 [13:59<00:00, 33.56s/it]\n"
          ]
        },
        {
          "name": "stdout",
          "output_type": "stream",
          "text": [
            "Checkpoint Directory exists! \n",
            "Epoch 1/10\n",
            "285/285 [==============================] - 42s 139ms/step - loss: 2.2271 - pi_loss: 1.3556 - v_loss: 0.8714\n",
            "Epoch 2/10\n",
            "285/285 [==============================] - 39s 138ms/step - loss: 1.7136 - pi_loss: 1.0026 - v_loss: 0.7110\n",
            "Epoch 3/10\n",
            "285/285 [==============================] - 38s 133ms/step - loss: 1.5062 - pi_loss: 0.8826 - v_loss: 0.6236\n",
            "Epoch 4/10\n",
            "285/285 [==============================] - 40s 141ms/step - loss: 1.3403 - pi_loss: 0.8036 - v_loss: 0.5367\n",
            "Epoch 5/10\n",
            "285/285 [==============================] - 37s 129ms/step - loss: 1.2117 - pi_loss: 0.7478 - v_loss: 0.4639\n",
            "Epoch 6/10\n",
            "285/285 [==============================] - 39s 137ms/step - loss: 1.1279 - pi_loss: 0.7112 - v_loss: 0.4166\n",
            "Epoch 7/10\n",
            "285/285 [==============================] - 37s 128ms/step - loss: 1.0546 - pi_loss: 0.6803 - v_loss: 0.3743\n",
            "Epoch 8/10\n",
            "285/285 [==============================] - 40s 139ms/step - loss: 1.0122 - pi_loss: 0.6581 - v_loss: 0.3542\n",
            "Epoch 9/10\n",
            "285/285 [==============================] - 39s 138ms/step - loss: 0.9801 - pi_loss: 0.6455 - v_loss: 0.3346\n",
            "Epoch 10/10\n",
            "285/285 [==============================] - 39s 136ms/step - loss: 0.9554 - pi_loss: 0.6328 - v_loss: 0.3226\n"
          ]
        },
        {
          "name": "stderr",
          "output_type": "stream",
          "text": [
            "2023-12-27 02:51:15 66c6c470d596 Coach[206] INFO PITTING AGAINST PREVIOUS VERSION\n",
            "Arena.playGames (1): 100%|██████████| 10/10 [09:34<00:00, 57.50s/it]\n",
            "Arena.playGames (2): 100%|██████████| 10/10 [03:56<00:00, 23.69s/it]\n",
            "2023-12-27 03:04:47 66c6c470d596 Coach[206] INFO NEW/PREV WINS : 12 / 7 ; DRAWS : 1\n",
            "2023-12-27 03:04:47 66c6c470d596 Coach[206] INFO ACCEPTING NEW MODEL\n"
          ]
        },
        {
          "name": "stdout",
          "output_type": "stream",
          "text": [
            "Checkpoint Directory exists! \n",
            "Checkpoint Directory exists! \n"
          ]
        },
        {
          "name": "stderr",
          "output_type": "stream",
          "text": [
            "2023-12-27 03:04:49 66c6c470d596 Coach[206] INFO Starting Iter #6 ...\n",
            "Self Play: 100%|██████████| 25/25 [07:14<00:00, 17.38s/it]\n"
          ]
        },
        {
          "name": "stdout",
          "output_type": "stream",
          "text": [
            "Checkpoint Directory exists! \n",
            "Epoch 1/10\n",
            "322/322 [==============================] - 44s 137ms/step - loss: 1.1559 - pi_loss: 0.7525 - v_loss: 0.4034\n",
            "Epoch 2/10\n",
            "322/322 [==============================] - 43s 135ms/step - loss: 1.0551 - pi_loss: 0.6894 - v_loss: 0.3658\n",
            "Epoch 3/10\n",
            "322/322 [==============================] - 44s 138ms/step - loss: 1.0105 - pi_loss: 0.6681 - v_loss: 0.3425\n",
            "Epoch 4/10\n",
            "322/322 [==============================] - 44s 136ms/step - loss: 0.9835 - pi_loss: 0.6572 - v_loss: 0.3262\n",
            "Epoch 5/10\n",
            "322/322 [==============================] - 43s 135ms/step - loss: 0.9586 - pi_loss: 0.6453 - v_loss: 0.3133\n",
            "Epoch 6/10\n",
            "322/322 [==============================] - 44s 135ms/step - loss: 0.9452 - pi_loss: 0.6365 - v_loss: 0.3086\n",
            "Epoch 7/10\n",
            "322/322 [==============================] - 44s 136ms/step - loss: 0.9370 - pi_loss: 0.6326 - v_loss: 0.3044\n",
            "Epoch 8/10\n",
            "322/322 [==============================] - 44s 138ms/step - loss: 0.9289 - pi_loss: 0.6278 - v_loss: 0.3011\n",
            "Epoch 9/10\n",
            "322/322 [==============================] - 44s 135ms/step - loss: 0.9301 - pi_loss: 0.6295 - v_loss: 0.3006\n",
            "Epoch 10/10\n",
            "322/322 [==============================] - 42s 132ms/step - loss: 0.9137 - pi_loss: 0.6210 - v_loss: 0.2927\n"
          ]
        },
        {
          "name": "stderr",
          "output_type": "stream",
          "text": [
            "2023-12-27 03:19:31 66c6c470d596 Coach[206] INFO PITTING AGAINST PREVIOUS VERSION\n",
            "Arena.playGames (1): 100%|██████████| 10/10 [10:43<00:00, 64.31s/it]\n",
            "Arena.playGames (2): 100%|██████████| 10/10 [08:01<00:00, 48.18s/it]\n",
            "2023-12-27 03:38:16 66c6c470d596 Coach[206] INFO NEW/PREV WINS : 11 / 9 ; DRAWS : 0\n",
            "2023-12-27 03:38:16 66c6c470d596 Coach[206] INFO REJECTING NEW MODEL\n",
            "2023-12-27 03:38:19 66c6c470d596 Coach[206] INFO Starting Iter #7 ...\n",
            "Self Play: 100%|██████████| 25/25 [06:47<00:00, 16.29s/it]\n"
          ]
        },
        {
          "name": "stdout",
          "output_type": "stream",
          "text": [
            "Checkpoint Directory exists! \n",
            "Epoch 1/10\n",
            "355/355 [==============================] - 53s 144ms/step - loss: 1.2508 - pi_loss: 0.8215 - v_loss: 0.4294\n",
            "Epoch 2/10\n",
            "355/355 [==============================] - 52s 146ms/step - loss: 1.1214 - pi_loss: 0.7377 - v_loss: 0.3838\n",
            "Epoch 3/10\n",
            "355/355 [==============================] - 53s 149ms/step - loss: 1.0553 - pi_loss: 0.7013 - v_loss: 0.3539\n",
            "Epoch 4/10\n",
            "355/355 [==============================] - 53s 148ms/step - loss: 1.0219 - pi_loss: 0.6859 - v_loss: 0.3360\n",
            "Epoch 5/10\n",
            "355/355 [==============================] - 49s 139ms/step - loss: 0.9973 - pi_loss: 0.6744 - v_loss: 0.3229\n",
            "Epoch 6/10\n",
            "355/355 [==============================] - 51s 144ms/step - loss: 0.9827 - pi_loss: 0.6636 - v_loss: 0.3190\n",
            "Epoch 7/10\n",
            "355/355 [==============================] - 51s 144ms/step - loss: 0.9572 - pi_loss: 0.6541 - v_loss: 0.3032\n",
            "Epoch 8/10\n",
            "355/355 [==============================] - 50s 140ms/step - loss: 0.9666 - pi_loss: 0.6590 - v_loss: 0.3076\n",
            "Epoch 9/10\n",
            "355/355 [==============================] - 50s 140ms/step - loss: 0.9498 - pi_loss: 0.6502 - v_loss: 0.2997\n",
            "Epoch 10/10\n",
            "355/355 [==============================] - 53s 148ms/step - loss: 0.9432 - pi_loss: 0.6463 - v_loss: 0.2970\n"
          ]
        },
        {
          "name": "stderr",
          "output_type": "stream",
          "text": [
            "2023-12-27 03:53:44 66c6c470d596 Coach[206] INFO PITTING AGAINST PREVIOUS VERSION\n",
            "Arena.playGames (1):  20%|██        | 2/10 [01:17<04:23, 32.92s/it]"
          ]
        }
      ],
      "source": [
        "args = dotdict({\n",
        "    'numIters':10,\n",
        "    'numEps': 25,              # Number of complete self-play games to simulate during a new iteration.\n",
        "    'tempThreshold': 15,        #\n",
        "    'updateThreshold': 0.6,     # During arena playoff, new neural net will be accepted if threshold or more of games are won.\n",
        "    'maxlenOfQueue': 50000,    # Number of game examples to train the neural networks.\n",
        "    'numMCTSSims': 25,          # Number of games moves for MCTS to simulate.\n",
        "    'arenaCompare': 20,         # Number of games to play during arena play to determine if new net will be accepted.\n",
        "    'cpuct': 1,\n",
        "\n",
        "    'checkpoint': '/content/drive/MyDrive/trabalho2_liacd/models/ataxx/5x5',\n",
        "    'load_model': True,\n",
        "    'load_folder_file': ('/content/drive/MyDrive/trabalho2_liacd/models/ataxx/5x5', 'best.h5'),\n",
        "    'numItersForTrainExamplesHistory': 20,\n",
        "\n",
        "})\n",
        "\n",
        "\n",
        "log.info('Loading %s...', Game.__name__)\n",
        "g = Game(5)\n",
        "\n",
        "log.info('Loading %s...', nn.__name__)\n",
        "nnet = nn(g)\n",
        "\n",
        "if args.load_model:\n",
        "    log.info('Loading checkpoint \"%s/%s\"...', args.load_folder_file[0], args.load_folder_file[1])\n",
        "    nnet.load_model(args.load_folder_file[0], args.load_folder_file[1])\n",
        "else:\n",
        "    log.warning('Not loading a checkpoint!')\n",
        "\n",
        "log.info('Loading the Coach...')\n",
        "c = Coach(g, nnet, args)\n",
        "\n",
        "if args.load_model:\n",
        "    log.info(\"Loading 'trainExamples' from file...\")\n",
        "    c.loadTrainExamples()\n",
        "\n",
        "log.info('Starting the learning process 🎉')\n",
        "c.learn()\n",
        "\n"
      ]
    },
    {
      "cell_type": "markdown",
      "metadata": {
        "id": "5-PR2lPLmMU3"
      },
      "source": [
        "#Sexto Treino"
      ]
    },
    {
      "cell_type": "code",
      "execution_count": null,
      "metadata": {
        "colab": {
          "base_uri": "https://localhost:8080/"
        },
        "id": "QrTKyaT_mNuM",
        "outputId": "e8970fbd-554d-43ab-ff6e-9bf37a8913ce"
      },
      "outputs": [
        {
          "name": "stderr",
          "output_type": "stream",
          "text": [
            "2023-12-27 14:06:28 770d794c7d65 __main__[644] INFO Loading AtaxxGame...\n",
            "2023-12-27 14:06:28 770d794c7d65 __main__[644] INFO Loading NNetWrapper...\n",
            "2023-12-27 14:06:28 770d794c7d65 __main__[644] INFO Loading checkpoint \"/content/drive/MyDrive/trabalho2_liacd/models/ataxx/5x5/best.h5\"...\n",
            "2023-12-27 14:06:30 770d794c7d65 __main__[644] INFO Loading the Coach...\n",
            "2023-12-27 14:06:30 770d794c7d65 __main__[644] INFO Loading 'trainExamples' from file...\n",
            "2023-12-27 14:06:30 770d794c7d65 Coach[644] WARNING File \"/content/drive/MyDrive/trabalho2_liacd/models/ataxx/5x5/best.h5.examples\" with trainExamples not found!\n"
          ]
        },
        {
          "name": "stdout",
          "output_type": "stream",
          "text": [
            "Continue? [y|n]y\n"
          ]
        },
        {
          "name": "stderr",
          "output_type": "stream",
          "text": [
            "2023-12-27 14:06:32 770d794c7d65 __main__[644] INFO Starting the learning process 🎉\n",
            "2023-12-27 14:06:32 770d794c7d65 Coach[644] INFO Starting Iter #1 ...\n",
            "Self Play: 100%|██████████| 25/25 [03:23<00:00,  8.13s/it]\n"
          ]
        },
        {
          "name": "stdout",
          "output_type": "stream",
          "text": [
            "Checkpoint Directory exists! \n"
          ]
        },
        {
          "name": "stderr",
          "output_type": "stream",
          "text": [
            "/usr/local/lib/python3.10/dist-packages/keras/src/engine/training.py:3103: UserWarning: You are saving your model as an HDF5 file via `model.save()`. This file format is considered legacy. We recommend using instead the native Keras format, e.g. `model.save('my_model.keras')`.\n",
            "  saving_api.save_model(\n"
          ]
        },
        {
          "name": "stdout",
          "output_type": "stream",
          "text": [
            "Epoch 1/10\n",
            "31/31 [==============================] - 4s 84ms/step - loss: 2.6781 - pi_loss: 1.8853 - v_loss: 0.7928\n",
            "Epoch 2/10\n",
            "31/31 [==============================] - 3s 84ms/step - loss: 1.6591 - pi_loss: 1.1938 - v_loss: 0.4653\n",
            "Epoch 3/10\n",
            "31/31 [==============================] - 3s 86ms/step - loss: 1.3530 - pi_loss: 0.9985 - v_loss: 0.3545\n",
            "Epoch 4/10\n",
            "31/31 [==============================] - 3s 89ms/step - loss: 1.2092 - pi_loss: 0.9010 - v_loss: 0.3082\n",
            "Epoch 5/10\n",
            "31/31 [==============================] - 3s 99ms/step - loss: 1.1410 - pi_loss: 0.8684 - v_loss: 0.2725\n",
            "Epoch 6/10\n",
            "31/31 [==============================] - 3s 83ms/step - loss: 1.0791 - pi_loss: 0.8339 - v_loss: 0.2452\n",
            "Epoch 7/10\n",
            "31/31 [==============================] - 3s 83ms/step - loss: 1.0429 - pi_loss: 0.8148 - v_loss: 0.2281\n",
            "Epoch 8/10\n",
            "31/31 [==============================] - 2s 80ms/step - loss: 1.0313 - pi_loss: 0.8100 - v_loss: 0.2213\n",
            "Epoch 9/10\n",
            "31/31 [==============================] - 3s 101ms/step - loss: 1.0143 - pi_loss: 0.7994 - v_loss: 0.2150\n",
            "Epoch 10/10\n",
            "31/31 [==============================] - 3s 90ms/step - loss: 0.9910 - pi_loss: 0.7780 - v_loss: 0.2130\n"
          ]
        },
        {
          "name": "stderr",
          "output_type": "stream",
          "text": [
            "2023-12-27 14:10:39 770d794c7d65 Coach[644] INFO PITTING AGAINST PREVIOUS VERSION\n",
            "Arena.playGames (1): 100%|██████████| 10/10 [05:04<00:00, 30.41s/it]\n",
            "Arena.playGames (2): 100%|██████████| 10/10 [02:17<00:00, 13.78s/it]\n",
            "2023-12-27 14:18:01 770d794c7d65 Coach[644] INFO NEW/PREV WINS : 11 / 9 ; DRAWS : 0\n",
            "2023-12-27 14:18:01 770d794c7d65 Coach[644] INFO REJECTING NEW MODEL\n",
            "2023-12-27 14:18:02 770d794c7d65 Coach[644] INFO Starting Iter #2 ...\n",
            "Self Play: 100%|██████████| 25/25 [04:57<00:00, 11.91s/it]\n"
          ]
        },
        {
          "name": "stdout",
          "output_type": "stream",
          "text": [
            "Checkpoint Directory exists! \n",
            "Epoch 1/10\n",
            "74/74 [==============================] - 8s 94ms/step - loss: 2.4358 - pi_loss: 1.6484 - v_loss: 0.7874\n",
            "Epoch 2/10\n",
            "74/74 [==============================] - 6s 82ms/step - loss: 1.5906 - pi_loss: 1.1051 - v_loss: 0.4855\n",
            "Epoch 3/10\n",
            "74/74 [==============================] - 7s 92ms/step - loss: 1.3316 - pi_loss: 0.9692 - v_loss: 0.3623\n",
            "Epoch 4/10\n",
            "74/74 [==============================] - 6s 83ms/step - loss: 1.1602 - pi_loss: 0.8709 - v_loss: 0.2893\n",
            "Epoch 5/10\n",
            "74/74 [==============================] - 7s 92ms/step - loss: 1.0727 - pi_loss: 0.8179 - v_loss: 0.2548\n",
            "Epoch 6/10\n",
            "74/74 [==============================] - 6s 84ms/step - loss: 1.0158 - pi_loss: 0.7967 - v_loss: 0.2191\n",
            "Epoch 7/10\n",
            "74/74 [==============================] - 7s 94ms/step - loss: 0.9892 - pi_loss: 0.7783 - v_loss: 0.2109\n",
            "Epoch 8/10\n",
            "74/74 [==============================] - 6s 84ms/step - loss: 0.9579 - pi_loss: 0.7622 - v_loss: 0.1957\n",
            "Epoch 9/10\n",
            "74/74 [==============================] - 7s 93ms/step - loss: 0.9376 - pi_loss: 0.7479 - v_loss: 0.1897\n",
            "Epoch 10/10\n",
            "74/74 [==============================] - 6s 84ms/step - loss: 0.9205 - pi_loss: 0.7429 - v_loss: 0.1776\n"
          ]
        },
        {
          "name": "stderr",
          "output_type": "stream",
          "text": [
            "2023-12-27 14:24:24 770d794c7d65 Coach[644] INFO PITTING AGAINST PREVIOUS VERSION\n",
            "Arena.playGames (1): 100%|██████████| 10/10 [04:07<00:00, 24.73s/it]\n",
            "Arena.playGames (2): 100%|██████████| 10/10 [01:02<00:00,  6.20s/it]\n",
            "2023-12-27 14:29:33 770d794c7d65 Coach[644] INFO NEW/PREV WINS : 12 / 8 ; DRAWS : 0\n",
            "2023-12-27 14:29:33 770d794c7d65 Coach[644] INFO ACCEPTING NEW MODEL\n"
          ]
        },
        {
          "name": "stdout",
          "output_type": "stream",
          "text": [
            "Checkpoint Directory exists! \n"
          ]
        },
        {
          "name": "stderr",
          "output_type": "stream",
          "text": [
            "2023-12-27 14:29:34 770d794c7d65 Coach[644] INFO Starting Iter #3 ...\n"
          ]
        },
        {
          "name": "stdout",
          "output_type": "stream",
          "text": [
            "Checkpoint Directory exists! \n"
          ]
        },
        {
          "name": "stderr",
          "output_type": "stream",
          "text": [
            "Self Play: 100%|██████████| 25/25 [05:17<00:00, 12.70s/it]\n"
          ]
        },
        {
          "name": "stdout",
          "output_type": "stream",
          "text": [
            "Checkpoint Directory exists! \n",
            "Epoch 1/10\n",
            "117/117 [==============================] - 10s 89ms/step - loss: 1.3092 - pi_loss: 0.9719 - v_loss: 0.3373\n",
            "Epoch 2/10\n",
            "117/117 [==============================] - 10s 88ms/step - loss: 1.0295 - pi_loss: 0.7895 - v_loss: 0.2399\n",
            "Epoch 3/10\n",
            "117/117 [==============================] - 10s 90ms/step - loss: 0.9470 - pi_loss: 0.7392 - v_loss: 0.2078\n",
            "Epoch 4/10\n",
            "117/117 [==============================] - 10s 89ms/step - loss: 0.9101 - pi_loss: 0.7202 - v_loss: 0.1899\n",
            "Epoch 5/10\n",
            "117/117 [==============================] - 10s 89ms/step - loss: 0.8835 - pi_loss: 0.7067 - v_loss: 0.1768\n",
            "Epoch 6/10\n",
            "117/117 [==============================] - 10s 84ms/step - loss: 0.8647 - pi_loss: 0.6967 - v_loss: 0.1680\n",
            "Epoch 7/10\n",
            "117/117 [==============================] - 10s 89ms/step - loss: 0.8506 - pi_loss: 0.6869 - v_loss: 0.1636\n",
            "Epoch 8/10\n",
            "117/117 [==============================] - 11s 90ms/step - loss: 0.8473 - pi_loss: 0.6839 - v_loss: 0.1634\n",
            "Epoch 9/10\n",
            "117/117 [==============================] - 10s 89ms/step - loss: 0.8350 - pi_loss: 0.6791 - v_loss: 0.1560\n",
            "Epoch 10/10\n",
            "117/117 [==============================] - 10s 88ms/step - loss: 0.8301 - pi_loss: 0.6731 - v_loss: 0.1569\n"
          ]
        },
        {
          "name": "stderr",
          "output_type": "stream",
          "text": [
            "2023-12-27 14:37:16 770d794c7d65 Coach[644] INFO PITTING AGAINST PREVIOUS VERSION\n",
            "Arena.playGames (1): 100%|██████████| 10/10 [06:34<00:00, 39.44s/it]\n",
            "Arena.playGames (2): 100%|██████████| 10/10 [00:35<00:00,  3.60s/it]\n",
            "2023-12-27 14:44:26 770d794c7d65 Coach[644] INFO NEW/PREV WINS : 12 / 8 ; DRAWS : 0\n",
            "2023-12-27 14:44:26 770d794c7d65 Coach[644] INFO ACCEPTING NEW MODEL\n"
          ]
        },
        {
          "name": "stdout",
          "output_type": "stream",
          "text": [
            "Checkpoint Directory exists! \n",
            "Checkpoint Directory exists! \n"
          ]
        },
        {
          "name": "stderr",
          "output_type": "stream",
          "text": [
            "2023-12-27 14:44:28 770d794c7d65 Coach[644] INFO Starting Iter #4 ...\n",
            "Self Play: 100%|██████████| 25/25 [04:15<00:00, 10.21s/it]\n"
          ]
        },
        {
          "name": "stdout",
          "output_type": "stream",
          "text": [
            "Checkpoint Directory exists! \n",
            "Epoch 1/10\n",
            "149/149 [==============================] - 13s 89ms/step - loss: 1.0459 - pi_loss: 0.8005 - v_loss: 0.2455\n",
            "Epoch 2/10\n",
            "149/149 [==============================] - 13s 88ms/step - loss: 0.9231 - pi_loss: 0.7171 - v_loss: 0.2060\n",
            "Epoch 3/10\n",
            "149/149 [==============================] - 13s 89ms/step - loss: 0.8830 - pi_loss: 0.6948 - v_loss: 0.1883\n",
            "Epoch 4/10\n",
            "149/149 [==============================] - 13s 88ms/step - loss: 0.8741 - pi_loss: 0.6873 - v_loss: 0.1867\n",
            "Epoch 5/10\n",
            "149/149 [==============================] - 13s 89ms/step - loss: 0.8576 - pi_loss: 0.6790 - v_loss: 0.1786\n",
            "Epoch 6/10\n",
            "149/149 [==============================] - 13s 90ms/step - loss: 0.8550 - pi_loss: 0.6760 - v_loss: 0.1790\n",
            "Epoch 7/10\n",
            "149/149 [==============================] - 13s 89ms/step - loss: 0.8477 - pi_loss: 0.6722 - v_loss: 0.1755\n",
            "Epoch 8/10\n",
            "149/149 [==============================] - 13s 88ms/step - loss: 0.8393 - pi_loss: 0.6679 - v_loss: 0.1714\n",
            "Epoch 9/10\n",
            "149/149 [==============================] - 13s 90ms/step - loss: 0.8352 - pi_loss: 0.6649 - v_loss: 0.1703\n",
            "Epoch 10/10\n",
            "149/149 [==============================] - 13s 90ms/step - loss: 0.8347 - pi_loss: 0.6654 - v_loss: 0.1694\n"
          ]
        },
        {
          "name": "stderr",
          "output_type": "stream",
          "text": [
            "2023-12-27 14:51:07 770d794c7d65 Coach[644] INFO PITTING AGAINST PREVIOUS VERSION\n",
            "Arena.playGames (1): 100%|██████████| 10/10 [05:15<00:00, 31.60s/it]\n",
            "Arena.playGames (2): 100%|██████████| 10/10 [01:26<00:00,  8.63s/it]\n",
            "2023-12-27 14:57:50 770d794c7d65 Coach[644] INFO NEW/PREV WINS : 11 / 8 ; DRAWS : 1\n",
            "2023-12-27 14:57:50 770d794c7d65 Coach[644] INFO REJECTING NEW MODEL\n",
            "2023-12-27 14:57:51 770d794c7d65 Coach[644] INFO Starting Iter #5 ...\n",
            "Self Play: 100%|██████████| 25/25 [05:16<00:00, 12.64s/it]\n"
          ]
        },
        {
          "name": "stdout",
          "output_type": "stream",
          "text": [
            "Checkpoint Directory exists! \n",
            "Epoch 1/10\n",
            "189/189 [==============================] - 18s 91ms/step - loss: 1.1778 - pi_loss: 0.8889 - v_loss: 0.2889\n",
            "Epoch 2/10\n",
            "189/189 [==============================] - 18s 94ms/step - loss: 0.9949 - pi_loss: 0.7522 - v_loss: 0.2427\n",
            "Epoch 3/10\n",
            "189/189 [==============================] - 17s 90ms/step - loss: 0.9239 - pi_loss: 0.7023 - v_loss: 0.2215\n",
            "Epoch 4/10\n",
            "189/189 [==============================] - 18s 94ms/step - loss: 0.8904 - pi_loss: 0.6840 - v_loss: 0.2064\n",
            "Epoch 5/10\n",
            "189/189 [==============================] - 17s 91ms/step - loss: 0.8685 - pi_loss: 0.6733 - v_loss: 0.1952\n",
            "Epoch 6/10\n",
            "189/189 [==============================] - 17s 90ms/step - loss: 0.8563 - pi_loss: 0.6645 - v_loss: 0.1918\n",
            "Epoch 7/10\n",
            "189/189 [==============================] - 19s 99ms/step - loss: 0.8458 - pi_loss: 0.6605 - v_loss: 0.1853\n",
            "Epoch 8/10\n",
            "189/189 [==============================] - 21s 111ms/step - loss: 0.8440 - pi_loss: 0.6610 - v_loss: 0.1829\n",
            "Epoch 9/10\n",
            "189/189 [==============================] - 18s 96ms/step - loss: 0.8404 - pi_loss: 0.6567 - v_loss: 0.1837\n",
            "Epoch 10/10\n",
            "189/189 [==============================] - 18s 93ms/step - loss: 0.8285 - pi_loss: 0.6503 - v_loss: 0.1783\n"
          ]
        },
        {
          "name": "stderr",
          "output_type": "stream",
          "text": [
            "2023-12-27 15:06:09 770d794c7d65 Coach[644] INFO PITTING AGAINST PREVIOUS VERSION\n",
            "Arena.playGames (1): 100%|██████████| 10/10 [04:58<00:00, 29.85s/it]\n",
            "Arena.playGames (2): 100%|██████████| 10/10 [05:27<00:00, 32.70s/it]\n",
            "2023-12-27 15:16:35 770d794c7d65 Coach[644] INFO NEW/PREV WINS : 8 / 11 ; DRAWS : 1\n",
            "2023-12-27 15:16:35 770d794c7d65 Coach[644] INFO REJECTING NEW MODEL\n",
            "2023-12-27 15:16:36 770d794c7d65 Coach[644] INFO Starting Iter #6 ...\n",
            "Self Play: 100%|██████████| 25/25 [06:41<00:00, 16.04s/it]\n"
          ]
        },
        {
          "name": "stdout",
          "output_type": "stream",
          "text": [
            "Checkpoint Directory exists! \n",
            "Epoch 1/10\n",
            "239/239 [==============================] - 23s 93ms/step - loss: 1.2602 - pi_loss: 0.9521 - v_loss: 0.3081\n",
            "Epoch 2/10\n",
            "239/239 [==============================] - 22s 91ms/step - loss: 1.0084 - pi_loss: 0.7719 - v_loss: 0.2365\n",
            "Epoch 3/10\n",
            "239/239 [==============================] - 22s 93ms/step - loss: 0.9237 - pi_loss: 0.7141 - v_loss: 0.2096\n",
            "Epoch 4/10\n",
            "239/239 [==============================] - 22s 93ms/step - loss: 0.8749 - pi_loss: 0.6839 - v_loss: 0.1910\n",
            "Epoch 5/10\n",
            "239/239 [==============================] - 22s 93ms/step - loss: 0.8580 - pi_loss: 0.6747 - v_loss: 0.1834\n",
            "Epoch 6/10\n",
            "239/239 [==============================] - 22s 90ms/step - loss: 0.8419 - pi_loss: 0.6615 - v_loss: 0.1804\n",
            "Epoch 7/10\n",
            "239/239 [==============================] - 22s 94ms/step - loss: 0.8306 - pi_loss: 0.6565 - v_loss: 0.1741\n",
            "Epoch 8/10\n",
            "239/239 [==============================] - 22s 93ms/step - loss: 0.8213 - pi_loss: 0.6498 - v_loss: 0.1714\n",
            "Epoch 9/10\n",
            "239/239 [==============================] - 22s 92ms/step - loss: 0.8090 - pi_loss: 0.6427 - v_loss: 0.1663\n",
            "Epoch 10/10\n",
            "239/239 [==============================] - 22s 91ms/step - loss: 0.8031 - pi_loss: 0.6404 - v_loss: 0.1627\n"
          ]
        },
        {
          "name": "stderr",
          "output_type": "stream",
          "text": [
            "2023-12-27 15:27:42 770d794c7d65 Coach[644] INFO PITTING AGAINST PREVIOUS VERSION\n",
            "Arena.playGames (1): 100%|██████████| 10/10 [06:34<00:00, 39.43s/it]\n",
            "Arena.playGames (2): 100%|██████████| 10/10 [04:09<00:00, 24.91s/it]\n",
            "2023-12-27 15:38:25 770d794c7d65 Coach[644] INFO NEW/PREV WINS : 14 / 6 ; DRAWS : 0\n",
            "2023-12-27 15:38:25 770d794c7d65 Coach[644] INFO ACCEPTING NEW MODEL\n"
          ]
        },
        {
          "name": "stdout",
          "output_type": "stream",
          "text": [
            "Checkpoint Directory exists! \n",
            "Checkpoint Directory exists! \n"
          ]
        },
        {
          "name": "stderr",
          "output_type": "stream",
          "text": [
            "2023-12-27 15:38:27 770d794c7d65 Coach[644] INFO Starting Iter #7 ...\n",
            "Self Play: 100%|██████████| 25/25 [05:39<00:00, 13.58s/it]\n"
          ]
        },
        {
          "name": "stdout",
          "output_type": "stream",
          "text": [
            "Checkpoint Directory exists! \n",
            "Epoch 1/10\n",
            "281/281 [==============================] - 26s 93ms/step - loss: 0.9921 - pi_loss: 0.7311 - v_loss: 0.2610\n",
            "Epoch 2/10\n",
            "281/281 [==============================] - 26s 93ms/step - loss: 0.9047 - pi_loss: 0.6733 - v_loss: 0.2314\n",
            "Epoch 3/10\n",
            "281/281 [==============================] - 25s 88ms/step - loss: 0.8673 - pi_loss: 0.6577 - v_loss: 0.2095\n",
            "Epoch 4/10\n",
            "281/281 [==============================] - 27s 95ms/step - loss: 0.8462 - pi_loss: 0.6469 - v_loss: 0.1993\n",
            "Epoch 5/10\n",
            "281/281 [==============================] - 27s 95ms/step - loss: 0.8405 - pi_loss: 0.6413 - v_loss: 0.1992\n",
            "Epoch 6/10\n",
            "281/281 [==============================] - 26s 93ms/step - loss: 0.8284 - pi_loss: 0.6360 - v_loss: 0.1923\n",
            "Epoch 7/10\n",
            "281/281 [==============================] - 26s 92ms/step - loss: 0.8209 - pi_loss: 0.6321 - v_loss: 0.1888\n",
            "Epoch 8/10\n",
            "281/281 [==============================] - 27s 95ms/step - loss: 0.8149 - pi_loss: 0.6300 - v_loss: 0.1849\n",
            "Epoch 9/10\n",
            "281/281 [==============================] - 26s 93ms/step - loss: 0.8182 - pi_loss: 0.6325 - v_loss: 0.1857\n",
            "Epoch 10/10\n",
            "281/281 [==============================] - 26s 93ms/step - loss: 0.8171 - pi_loss: 0.6298 - v_loss: 0.1873\n"
          ]
        },
        {
          "name": "stderr",
          "output_type": "stream",
          "text": [
            "2023-12-27 15:48:32 770d794c7d65 Coach[644] INFO PITTING AGAINST PREVIOUS VERSION\n",
            "Arena.playGames (1): 100%|██████████| 10/10 [06:24<00:00, 38.48s/it]\n",
            "Arena.playGames (2): 100%|██████████| 10/10 [07:08<00:00, 42.87s/it]\n",
            "2023-12-27 16:02:05 770d794c7d65 Coach[644] INFO NEW/PREV WINS : 10 / 9 ; DRAWS : 1\n",
            "2023-12-27 16:02:05 770d794c7d65 Coach[644] INFO REJECTING NEW MODEL\n",
            "2023-12-27 16:02:06 770d794c7d65 Coach[644] INFO Starting Iter #8 ...\n",
            "Self Play: 100%|██████████| 25/25 [06:14<00:00, 14.96s/it]\n"
          ]
        },
        {
          "name": "stdout",
          "output_type": "stream",
          "text": [
            "Checkpoint Directory exists! \n",
            "Epoch 1/10\n",
            "326/326 [==============================] - 30s 87ms/step - loss: 1.2225 - pi_loss: 0.8129 - v_loss: 0.4097\n",
            "Epoch 2/10\n",
            "326/326 [==============================] - 28s 87ms/step - loss: 1.0558 - pi_loss: 0.7105 - v_loss: 0.3453\n",
            "Epoch 3/10\n",
            "326/326 [==============================] - 29s 88ms/step - loss: 0.9867 - pi_loss: 0.6726 - v_loss: 0.3141\n",
            "Epoch 4/10\n",
            "326/326 [==============================] - 28s 87ms/step - loss: 0.9493 - pi_loss: 0.6537 - v_loss: 0.2956\n",
            "Epoch 5/10\n",
            "326/326 [==============================] - 28s 87ms/step - loss: 0.9200 - pi_loss: 0.6435 - v_loss: 0.2765\n",
            "Epoch 6/10\n",
            "326/326 [==============================] - 28s 86ms/step - loss: 0.9120 - pi_loss: 0.6396 - v_loss: 0.2724\n",
            "Epoch 7/10\n",
            "326/326 [==============================] - 29s 89ms/step - loss: 0.9005 - pi_loss: 0.6350 - v_loss: 0.2656\n",
            "Epoch 8/10\n",
            "326/326 [==============================] - 28s 87ms/step - loss: 0.8920 - pi_loss: 0.6307 - v_loss: 0.2613\n",
            "Epoch 9/10\n",
            "326/326 [==============================] - 28s 87ms/step - loss: 0.8899 - pi_loss: 0.6298 - v_loss: 0.2601\n",
            "Epoch 10/10\n",
            "326/326 [==============================] - 28s 86ms/step - loss: 0.8807 - pi_loss: 0.6257 - v_loss: 0.2550\n"
          ]
        },
        {
          "name": "stderr",
          "output_type": "stream",
          "text": [
            "2023-12-27 16:13:08 770d794c7d65 Coach[644] INFO PITTING AGAINST PREVIOUS VERSION\n",
            "Arena.playGames (1): 100%|██████████| 10/10 [05:54<00:00, 35.43s/it]\n",
            "Arena.playGames (2): 100%|██████████| 10/10 [05:25<00:00, 32.50s/it]\n",
            "2023-12-27 16:24:27 770d794c7d65 Coach[644] INFO NEW/PREV WINS : 9 / 10 ; DRAWS : 1\n",
            "2023-12-27 16:24:27 770d794c7d65 Coach[644] INFO REJECTING NEW MODEL\n",
            "2023-12-27 16:24:28 770d794c7d65 Coach[644] INFO Starting Iter #9 ...\n",
            "Self Play: 100%|██████████| 25/25 [05:33<00:00, 13.33s/it]\n"
          ]
        },
        {
          "name": "stdout",
          "output_type": "stream",
          "text": [
            "Checkpoint Directory exists! \n",
            "Epoch 1/10\n",
            "367/367 [==============================] - 34s 90ms/step - loss: 1.2968 - pi_loss: 0.8410 - v_loss: 0.4558\n",
            "Epoch 2/10\n",
            "367/367 [==============================] - 31s 85ms/step - loss: 1.0836 - pi_loss: 0.7154 - v_loss: 0.3682\n",
            "Epoch 3/10\n",
            "367/367 [==============================] - 32s 87ms/step - loss: 1.0046 - pi_loss: 0.6762 - v_loss: 0.3284\n",
            "Epoch 4/10\n",
            "367/367 [==============================] - 31s 85ms/step - loss: 0.9618 - pi_loss: 0.6522 - v_loss: 0.3096\n",
            "Epoch 5/10\n",
            "367/367 [==============================] - 32s 87ms/step - loss: 0.9360 - pi_loss: 0.6442 - v_loss: 0.2918\n",
            "Epoch 6/10\n",
            "367/367 [==============================] - 31s 84ms/step - loss: 0.9245 - pi_loss: 0.6382 - v_loss: 0.2862\n",
            "Epoch 7/10\n",
            "367/367 [==============================] - 32s 86ms/step - loss: 0.9147 - pi_loss: 0.6360 - v_loss: 0.2787\n",
            "Epoch 8/10\n",
            "367/367 [==============================] - 31s 84ms/step - loss: 0.9064 - pi_loss: 0.6312 - v_loss: 0.2751\n",
            "Epoch 9/10\n",
            "367/367 [==============================] - 32s 87ms/step - loss: 0.8977 - pi_loss: 0.6273 - v_loss: 0.2703\n",
            "Epoch 10/10\n",
            "367/367 [==============================] - 31s 85ms/step - loss: 0.8881 - pi_loss: 0.6227 - v_loss: 0.2654\n"
          ]
        },
        {
          "name": "stderr",
          "output_type": "stream",
          "text": [
            "2023-12-27 16:35:27 770d794c7d65 Coach[644] INFO PITTING AGAINST PREVIOUS VERSION\n",
            "Arena.playGames (1): 100%|██████████| 10/10 [04:40<00:00, 28.03s/it]\n",
            "Arena.playGames (2): 100%|██████████| 10/10 [04:08<00:00, 24.88s/it]\n",
            "2023-12-27 16:44:16 770d794c7d65 Coach[644] INFO NEW/PREV WINS : 11 / 7 ; DRAWS : 2\n",
            "2023-12-27 16:44:16 770d794c7d65 Coach[644] INFO ACCEPTING NEW MODEL\n"
          ]
        },
        {
          "name": "stdout",
          "output_type": "stream",
          "text": [
            "Checkpoint Directory exists! \n",
            "Checkpoint Directory exists! \n"
          ]
        },
        {
          "name": "stderr",
          "output_type": "stream",
          "text": [
            "2023-12-27 16:44:18 770d794c7d65 Coach[644] INFO Starting Iter #10 ...\n",
            "Self Play: 100%|██████████| 25/25 [08:07<00:00, 19.49s/it]\n"
          ]
        },
        {
          "name": "stdout",
          "output_type": "stream",
          "text": [
            "Checkpoint Directory exists! \n",
            "Epoch 1/10\n",
            "424/424 [==============================] - 37s 87ms/step - loss: 1.1104 - pi_loss: 0.7354 - v_loss: 0.3750\n",
            "Epoch 2/10\n",
            "424/424 [==============================] - 36s 86ms/step - loss: 1.0010 - pi_loss: 0.6683 - v_loss: 0.3327\n",
            "Epoch 3/10\n",
            "424/424 [==============================] - 36s 84ms/step - loss: 0.9576 - pi_loss: 0.6452 - v_loss: 0.3124\n",
            "Epoch 4/10\n",
            "424/424 [==============================] - 36s 85ms/step - loss: 0.9397 - pi_loss: 0.6388 - v_loss: 0.3009\n",
            "Epoch 5/10\n",
            "424/424 [==============================] - 36s 86ms/step - loss: 0.9245 - pi_loss: 0.6323 - v_loss: 0.2922\n",
            "Epoch 6/10\n",
            "424/424 [==============================] - 36s 86ms/step - loss: 0.9144 - pi_loss: 0.6258 - v_loss: 0.2886\n",
            "Epoch 7/10\n",
            "424/424 [==============================] - 36s 85ms/step - loss: 0.9059 - pi_loss: 0.6232 - v_loss: 0.2827\n",
            "Epoch 8/10\n",
            "424/424 [==============================] - 36s 84ms/step - loss: 0.9054 - pi_loss: 0.6229 - v_loss: 0.2825\n",
            "Epoch 9/10\n",
            "424/424 [==============================] - 36s 84ms/step - loss: 0.9000 - pi_loss: 0.6204 - v_loss: 0.2796\n",
            "Epoch 10/10\n",
            "424/424 [==============================] - 35s 83ms/step - loss: 0.8989 - pi_loss: 0.6212 - v_loss: 0.2777\n"
          ]
        },
        {
          "name": "stderr",
          "output_type": "stream",
          "text": [
            "2023-12-27 16:58:29 770d794c7d65 Coach[644] INFO PITTING AGAINST PREVIOUS VERSION\n",
            "Arena.playGames (1): 100%|██████████| 10/10 [04:57<00:00, 29.75s/it]\n",
            "Arena.playGames (2): 100%|██████████| 10/10 [05:46<00:00, 34.67s/it]\n",
            "2023-12-27 17:09:13 770d794c7d65 Coach[644] INFO NEW/PREV WINS : 12 / 7 ; DRAWS : 1\n",
            "2023-12-27 17:09:13 770d794c7d65 Coach[644] INFO ACCEPTING NEW MODEL\n"
          ]
        },
        {
          "name": "stdout",
          "output_type": "stream",
          "text": [
            "Checkpoint Directory exists! \n",
            "Checkpoint Directory exists! \n"
          ]
        }
      ],
      "source": [
        "args = dotdict({\n",
        "    'numIters':10,\n",
        "    'numEps': 25,              # Number of complete self-play games to simulate during a new iteration.\n",
        "    'tempThreshold': 15,        #\n",
        "    'updateThreshold': 0.6,     # During arena playoff, new neural net will be accepted if threshold or more of games are won.\n",
        "    'maxlenOfQueue': 50000,    # Number of game examples to train the neural networks.\n",
        "    'numMCTSSims': 25,          # Number of games moves for MCTS to simulate.\n",
        "    'arenaCompare': 20,         # Number of games to play during arena play to determine if new net will be accepted.\n",
        "    'cpuct': 1,\n",
        "\n",
        "    'checkpoint': '/content/drive/MyDrive/trabalho2_liacd/models/ataxx/5x5',\n",
        "    'load_model': True,\n",
        "    'load_folder_file': ('/content/drive/MyDrive/trabalho2_liacd/models/ataxx/5x5', 'best.h5'),\n",
        "    'numItersForTrainExamplesHistory': 20,\n",
        "\n",
        "})\n",
        "\n",
        "\n",
        "log.info('Loading %s...', Game.__name__)\n",
        "g = Game(5)\n",
        "\n",
        "log.info('Loading %s...', nn.__name__)\n",
        "nnet = nn(g)\n",
        "\n",
        "if args.load_model:\n",
        "    log.info('Loading checkpoint \"%s/%s\"...', args.load_folder_file[0], args.load_folder_file[1])\n",
        "    nnet.load_model(args.load_folder_file[0], args.load_folder_file[1])\n",
        "else:\n",
        "    log.warning('Not loading a checkpoint!')\n",
        "\n",
        "log.info('Loading the Coach...')\n",
        "c = Coach(g, nnet, args)\n",
        "\n",
        "if args.load_model:\n",
        "    log.info(\"Loading 'trainExamples' from file...\")\n",
        "    c.loadTrainExamples()\n",
        "\n",
        "log.info('Starting the learning process 🎉')\n",
        "c.learn()\n",
        "\n"
      ]
    },
    {
      "cell_type": "markdown",
      "metadata": {
        "id": "Y2rpOdRYR3QJ"
      },
      "source": [
        "#Sétimo Treino"
      ]
    },
    {
      "cell_type": "code",
      "execution_count": null,
      "metadata": {
        "colab": {
          "background_save": true,
          "base_uri": "https://localhost:8080/"
        },
        "id": "_pf-WjO9mOAD",
        "outputId": "4b4f2b3f-1d61-4bf4-ebde-9360909aeeec"
      },
      "outputs": [
        {
          "name": "stderr",
          "output_type": "stream",
          "text": [
            "2023-12-27 17:17:16 770d794c7d65 __main__[644] INFO Loading AtaxxGame...\n",
            "2023-12-27 17:17:16 770d794c7d65 __main__[644] INFO Loading NNetWrapper...\n",
            "2023-12-27 17:17:16 770d794c7d65 __main__[644] INFO Loading checkpoint \"/content/drive/MyDrive/trabalho2_liacd/models/ataxx/5x5/best.h5\"...\n",
            "2023-12-27 17:17:17 770d794c7d65 __main__[644] INFO Loading the Coach...\n",
            "2023-12-27 17:17:17 770d794c7d65 __main__[644] INFO Loading 'trainExamples' from file...\n",
            "2023-12-27 17:17:17 770d794c7d65 Coach[644] WARNING File \"/content/drive/MyDrive/trabalho2_liacd/models/ataxx/5x5/best.h5.examples\" with trainExamples not found!\n",
            "2023-12-27 17:17:19 770d794c7d65 __main__[644] INFO Starting the learning process 🎉\n",
            "2023-12-27 17:17:19 770d794c7d65 Coach[644] INFO Starting Iter #1 ...\n",
            "Self Play: 100%|██████████| 25/25 [09:00<00:00, 21.61s/it]\n"
          ]
        },
        {
          "name": "stdout",
          "output_type": "stream",
          "text": [
            "Checkpoint Directory exists! \n",
            "Epoch 1/10\n",
            "63/63 [==============================] - 7s 92ms/step - loss: 2.1614 - pi_loss: 1.2427 - v_loss: 0.9187\n",
            "Epoch 2/10\n",
            "63/63 [==============================] - 6s 90ms/step - loss: 1.4410 - pi_loss: 0.8081 - v_loss: 0.6329\n",
            "Epoch 3/10\n",
            "63/63 [==============================] - 6s 93ms/step - loss: 1.1902 - pi_loss: 0.6783 - v_loss: 0.5119\n",
            "Epoch 4/10\n",
            "63/63 [==============================] - 5s 80ms/step - loss: 1.0662 - pi_loss: 0.6325 - v_loss: 0.4337\n",
            "Epoch 5/10\n",
            "63/63 [==============================] - 5s 86ms/step - loss: 0.9807 - pi_loss: 0.6080 - v_loss: 0.3727\n",
            "Epoch 6/10\n",
            "63/63 [==============================] - 5s 85ms/step - loss: 0.9053 - pi_loss: 0.5820 - v_loss: 0.3232\n",
            "Epoch 7/10\n",
            "63/63 [==============================] - 5s 80ms/step - loss: 0.8835 - pi_loss: 0.5740 - v_loss: 0.3095\n",
            "Epoch 8/10\n",
            "63/63 [==============================] - 6s 93ms/step - loss: 0.8623 - pi_loss: 0.5605 - v_loss: 0.3018\n",
            "Epoch 9/10\n",
            "63/63 [==============================] - 5s 80ms/step - loss: 0.8353 - pi_loss: 0.5569 - v_loss: 0.2784\n",
            "Epoch 10/10\n",
            "63/63 [==============================] - 6s 92ms/step - loss: 0.8208 - pi_loss: 0.5441 - v_loss: 0.2766\n"
          ]
        },
        {
          "name": "stderr",
          "output_type": "stream",
          "text": [
            "2023-12-27 17:27:43 770d794c7d65 Coach[644] INFO PITTING AGAINST PREVIOUS VERSION\n",
            "Arena.playGames (1): 100%|██████████| 10/10 [06:16<00:00, 37.68s/it]\n",
            "Arena.playGames (2): 100%|██████████| 10/10 [06:48<00:00, 40.89s/it]\n",
            "2023-12-27 17:40:49 770d794c7d65 Coach[644] INFO NEW/PREV WINS : 8 / 12 ; DRAWS : 0\n",
            "2023-12-27 17:40:49 770d794c7d65 Coach[644] INFO REJECTING NEW MODEL\n",
            "2023-12-27 17:40:50 770d794c7d65 Coach[644] INFO Starting Iter #2 ...\n",
            "Self Play: 100%|██████████| 25/25 [10:26<00:00, 25.06s/it]\n"
          ]
        },
        {
          "name": "stdout",
          "output_type": "stream",
          "text": [
            "Checkpoint Directory exists! \n",
            "Epoch 1/10\n",
            "135/135 [==============================] - 13s 88ms/step - loss: 2.1606 - pi_loss: 1.2204 - v_loss: 0.9402\n",
            "Epoch 2/10\n",
            "135/135 [==============================] - 12s 88ms/step - loss: 1.5722 - pi_loss: 0.8600 - v_loss: 0.7122\n",
            "Epoch 3/10\n",
            "135/135 [==============================] - 13s 97ms/step - loss: 1.3196 - pi_loss: 0.7246 - v_loss: 0.5950\n",
            "Epoch 4/10\n",
            "135/135 [==============================] - 12s 88ms/step - loss: 1.1658 - pi_loss: 0.6508 - v_loss: 0.5150\n",
            "Epoch 5/10\n",
            "135/135 [==============================] - 12s 87ms/step - loss: 1.0546 - pi_loss: 0.6031 - v_loss: 0.4516\n",
            "Epoch 6/10\n",
            "135/135 [==============================] - 12s 88ms/step - loss: 0.9748 - pi_loss: 0.5824 - v_loss: 0.3924\n",
            "Epoch 7/10\n",
            "135/135 [==============================] - 12s 87ms/step - loss: 0.9316 - pi_loss: 0.5611 - v_loss: 0.3704\n",
            "Epoch 8/10\n",
            "135/135 [==============================] - 12s 87ms/step - loss: 0.9048 - pi_loss: 0.5516 - v_loss: 0.3532\n",
            "Epoch 9/10\n",
            "135/135 [==============================] - 12s 88ms/step - loss: 0.8857 - pi_loss: 0.5450 - v_loss: 0.3407\n",
            "Epoch 10/10\n",
            "135/135 [==============================] - 12s 86ms/step - loss: 0.8666 - pi_loss: 0.5364 - v_loss: 0.3303\n"
          ]
        },
        {
          "name": "stderr",
          "output_type": "stream",
          "text": [
            "2023-12-27 17:53:41 770d794c7d65 Coach[644] INFO PITTING AGAINST PREVIOUS VERSION\n",
            "Arena.playGames (1): 100%|██████████| 10/10 [06:00<00:00, 36.04s/it]\n",
            "Arena.playGames (2): 100%|██████████| 10/10 [05:23<00:00, 32.30s/it]\n",
            "2023-12-27 18:05:04 770d794c7d65 Coach[644] INFO NEW/PREV WINS : 5 / 13 ; DRAWS : 2\n",
            "2023-12-27 18:05:04 770d794c7d65 Coach[644] INFO REJECTING NEW MODEL\n",
            "2023-12-27 18:05:06 770d794c7d65 Coach[644] INFO Starting Iter #3 ...\n",
            "Self Play: 100%|██████████| 25/25 [07:59<00:00, 19.19s/it]\n"
          ]
        },
        {
          "name": "stdout",
          "output_type": "stream",
          "text": [
            "Checkpoint Directory exists! \n",
            "Epoch 1/10\n",
            "193/193 [==============================] - 18s 90ms/step - loss: 2.1021 - pi_loss: 1.2072 - v_loss: 0.8949\n",
            "Epoch 2/10\n",
            "193/193 [==============================] - 16s 84ms/step - loss: 1.5855 - pi_loss: 0.8736 - v_loss: 0.7119\n",
            "Epoch 3/10\n",
            "193/193 [==============================] - 16s 84ms/step - loss: 1.3695 - pi_loss: 0.7487 - v_loss: 0.6208\n",
            "Epoch 4/10\n",
            "193/193 [==============================] - 17s 89ms/step - loss: 1.1957 - pi_loss: 0.6666 - v_loss: 0.5291\n",
            "Epoch 5/10\n",
            "193/193 [==============================] - 17s 86ms/step - loss: 1.0926 - pi_loss: 0.6238 - v_loss: 0.4688\n",
            "Epoch 6/10\n",
            "193/193 [==============================] - 16s 84ms/step - loss: 1.0161 - pi_loss: 0.5968 - v_loss: 0.4192\n",
            "Epoch 7/10\n",
            "193/193 [==============================] - 17s 86ms/step - loss: 0.9790 - pi_loss: 0.5823 - v_loss: 0.3967\n",
            "Epoch 8/10\n",
            "193/193 [==============================] - 16s 85ms/step - loss: 0.9389 - pi_loss: 0.5659 - v_loss: 0.3730\n",
            "Epoch 9/10\n",
            "193/193 [==============================] - 16s 85ms/step - loss: 0.9056 - pi_loss: 0.5522 - v_loss: 0.3534\n",
            "Epoch 10/10\n",
            "193/193 [==============================] - 17s 86ms/step - loss: 0.8863 - pi_loss: 0.5468 - v_loss: 0.3396\n"
          ]
        },
        {
          "name": "stderr",
          "output_type": "stream",
          "text": [
            "2023-12-27 18:15:54 770d794c7d65 Coach[644] INFO PITTING AGAINST PREVIOUS VERSION\n",
            "Arena.playGames (1): 100%|██████████| 10/10 [06:32<00:00, 39.29s/it]\n",
            "Arena.playGames (2): 100%|██████████| 10/10 [07:04<00:00, 42.49s/it]\n",
            "2023-12-27 18:29:32 770d794c7d65 Coach[644] INFO NEW/PREV WINS : 13 / 6 ; DRAWS : 1\n",
            "2023-12-27 18:29:32 770d794c7d65 Coach[644] INFO ACCEPTING NEW MODEL\n"
          ]
        },
        {
          "name": "stdout",
          "output_type": "stream",
          "text": [
            "Checkpoint Directory exists! \n",
            "Checkpoint Directory exists! \n"
          ]
        },
        {
          "name": "stderr",
          "output_type": "stream",
          "text": [
            "2023-12-27 18:29:33 770d794c7d65 Coach[644] INFO Starting Iter #4 ...\n",
            "Self Play: 100%|██████████| 25/25 [08:47<00:00, 21.09s/it]\n"
          ]
        },
        {
          "name": "stdout",
          "output_type": "stream",
          "text": [
            "Checkpoint Directory exists! \n",
            "Epoch 1/10\n",
            "258/258 [==============================] - 22s 86ms/step - loss: 1.2488 - pi_loss: 0.7041 - v_loss: 0.5447\n",
            "Epoch 2/10\n",
            "258/258 [==============================] - 24s 92ms/step - loss: 1.0708 - pi_loss: 0.6040 - v_loss: 0.4668\n",
            "Epoch 3/10\n",
            "258/258 [==============================] - 21s 83ms/step - loss: 0.9880 - pi_loss: 0.5703 - v_loss: 0.4177\n",
            "Epoch 4/10\n",
            "258/258 [==============================] - 22s 87ms/step - loss: 0.9494 - pi_loss: 0.5512 - v_loss: 0.3982\n",
            "Epoch 5/10\n",
            "258/258 [==============================] - 22s 85ms/step - loss: 0.9253 - pi_loss: 0.5426 - v_loss: 0.3827\n",
            "Epoch 6/10\n",
            "258/258 [==============================] - 22s 84ms/step - loss: 0.9121 - pi_loss: 0.5384 - v_loss: 0.3737\n",
            "Epoch 7/10\n",
            "258/258 [==============================] - 22s 84ms/step - loss: 0.8970 - pi_loss: 0.5318 - v_loss: 0.3652\n",
            "Epoch 8/10\n",
            "258/258 [==============================] - 22s 86ms/step - loss: 0.8811 - pi_loss: 0.5260 - v_loss: 0.3551\n",
            "Epoch 9/10\n",
            "258/258 [==============================] - 22s 85ms/step - loss: 0.8741 - pi_loss: 0.5207 - v_loss: 0.3534\n",
            "Epoch 10/10\n",
            "258/258 [==============================] - 21s 83ms/step - loss: 0.8646 - pi_loss: 0.5174 - v_loss: 0.3472\n"
          ]
        },
        {
          "name": "stderr",
          "output_type": "stream",
          "text": [
            "2023-12-27 18:42:44 770d794c7d65 Coach[644] INFO PITTING AGAINST PREVIOUS VERSION\n",
            "Arena.playGames (1): 100%|██████████| 10/10 [05:55<00:00, 35.52s/it]\n",
            "Arena.playGames (2): 100%|██████████| 10/10 [05:05<00:00, 30.56s/it]\n",
            "2023-12-27 18:53:45 770d794c7d65 Coach[644] INFO NEW/PREV WINS : 12 / 8 ; DRAWS : 0\n",
            "2023-12-27 18:53:45 770d794c7d65 Coach[644] INFO ACCEPTING NEW MODEL\n"
          ]
        },
        {
          "name": "stdout",
          "output_type": "stream",
          "text": [
            "Checkpoint Directory exists! \n",
            "Checkpoint Directory exists! \n"
          ]
        },
        {
          "name": "stderr",
          "output_type": "stream",
          "text": [
            "2023-12-27 18:53:47 770d794c7d65 Coach[644] INFO Starting Iter #5 ...\n",
            "Self Play: 100%|██████████| 25/25 [09:56<00:00, 23.87s/it]\n"
          ]
        },
        {
          "name": "stdout",
          "output_type": "stream",
          "text": [
            "Checkpoint Directory exists! \n",
            "Epoch 1/10\n",
            "330/330 [==============================] - 29s 87ms/step - loss: 1.2072 - pi_loss: 0.7276 - v_loss: 0.4795\n",
            "Epoch 2/10\n",
            "330/330 [==============================] - 29s 86ms/step - loss: 1.0375 - pi_loss: 0.6158 - v_loss: 0.4218\n",
            "Epoch 3/10\n",
            "330/330 [==============================] - 29s 89ms/step - loss: 0.9690 - pi_loss: 0.5776 - v_loss: 0.3914\n",
            "Epoch 4/10\n",
            "330/330 [==============================] - 29s 88ms/step - loss: 0.9300 - pi_loss: 0.5582 - v_loss: 0.3718\n",
            "Epoch 5/10\n",
            "330/330 [==============================] - 29s 87ms/step - loss: 0.9175 - pi_loss: 0.5531 - v_loss: 0.3644\n",
            "Epoch 6/10\n",
            "330/330 [==============================] - 29s 87ms/step - loss: 0.8963 - pi_loss: 0.5398 - v_loss: 0.3566\n",
            "Epoch 7/10\n",
            "330/330 [==============================] - 29s 89ms/step - loss: 0.8843 - pi_loss: 0.5341 - v_loss: 0.3502\n",
            "Epoch 8/10\n",
            "330/330 [==============================] - 29s 87ms/step - loss: 0.8759 - pi_loss: 0.5294 - v_loss: 0.3465\n",
            "Epoch 9/10\n",
            "330/330 [==============================] - 29s 87ms/step - loss: 0.8711 - pi_loss: 0.5258 - v_loss: 0.3453\n",
            "Epoch 10/10\n",
            "330/330 [==============================] - 31s 93ms/step - loss: 0.8698 - pi_loss: 0.5267 - v_loss: 0.3431\n"
          ]
        },
        {
          "name": "stderr",
          "output_type": "stream",
          "text": [
            "2023-12-27 19:09:09 770d794c7d65 Coach[644] INFO PITTING AGAINST PREVIOUS VERSION\n",
            "Arena.playGames (1): 100%|██████████| 10/10 [06:09<00:00, 36.94s/it]\n",
            "Arena.playGames (2): 100%|██████████| 10/10 [06:04<00:00, 36.47s/it]\n",
            "2023-12-27 19:21:23 770d794c7d65 Coach[644] INFO NEW/PREV WINS : 13 / 7 ; DRAWS : 0\n",
            "2023-12-27 19:21:23 770d794c7d65 Coach[644] INFO ACCEPTING NEW MODEL\n"
          ]
        },
        {
          "name": "stdout",
          "output_type": "stream",
          "text": [
            "Checkpoint Directory exists! \n"
          ]
        },
        {
          "name": "stderr",
          "output_type": "stream",
          "text": [
            "2023-12-27 19:21:25 770d794c7d65 Coach[644] INFO Starting Iter #6 ...\n"
          ]
        },
        {
          "name": "stdout",
          "output_type": "stream",
          "text": [
            "Checkpoint Directory exists! \n"
          ]
        },
        {
          "name": "stderr",
          "output_type": "stream",
          "text": [
            "Self Play: 100%|██████████| 25/25 [09:52<00:00, 23.70s/it]\n"
          ]
        },
        {
          "name": "stdout",
          "output_type": "stream",
          "text": [
            "Checkpoint Directory exists! \n",
            "Epoch 1/10\n",
            "399/399 [==============================] - 36s 89ms/step - loss: 1.2006 - pi_loss: 0.7124 - v_loss: 0.4882\n",
            "Epoch 2/10\n",
            "399/399 [==============================] - 36s 89ms/step - loss: 1.0330 - pi_loss: 0.6092 - v_loss: 0.4238\n",
            "Epoch 3/10\n",
            "399/399 [==============================] - 36s 90ms/step - loss: 0.9792 - pi_loss: 0.5793 - v_loss: 0.3999\n",
            "Epoch 4/10\n",
            "399/399 [==============================] - 36s 89ms/step - loss: 0.9414 - pi_loss: 0.5591 - v_loss: 0.3823\n",
            "Epoch 5/10\n",
            "399/399 [==============================] - 36s 90ms/step - loss: 0.9235 - pi_loss: 0.5528 - v_loss: 0.3707\n",
            "Epoch 6/10\n",
            "399/399 [==============================] - 35s 87ms/step - loss: 0.9081 - pi_loss: 0.5461 - v_loss: 0.3620\n",
            "Epoch 7/10\n",
            "399/399 [==============================] - 36s 91ms/step - loss: 0.8990 - pi_loss: 0.5419 - v_loss: 0.3570\n",
            "Epoch 8/10\n",
            "399/399 [==============================] - 36s 91ms/step - loss: 0.8923 - pi_loss: 0.5408 - v_loss: 0.3515\n",
            "Epoch 9/10\n",
            "399/399 [==============================] - 36s 90ms/step - loss: 0.8825 - pi_loss: 0.5367 - v_loss: 0.3458\n",
            "Epoch 10/10\n",
            "399/399 [==============================] - 35s 89ms/step - loss: 0.8779 - pi_loss: 0.5354 - v_loss: 0.3425\n"
          ]
        },
        {
          "name": "stderr",
          "output_type": "stream",
          "text": [
            "2023-12-27 19:37:42 770d794c7d65 Coach[644] INFO PITTING AGAINST PREVIOUS VERSION\n",
            "Arena.playGames (1): 100%|██████████| 10/10 [05:39<00:00, 33.91s/it]\n",
            "Arena.playGames (2): 100%|██████████| 10/10 [05:09<00:00, 30.97s/it]\n",
            "2023-12-27 19:48:31 770d794c7d65 Coach[644] INFO NEW/PREV WINS : 6 / 14 ; DRAWS : 0\n",
            "2023-12-27 19:48:31 770d794c7d65 Coach[644] INFO REJECTING NEW MODEL\n",
            "2023-12-27 19:48:32 770d794c7d65 Coach[644] INFO Starting Iter #7 ...\n",
            "Self Play: 100%|██████████| 25/25 [07:36<00:00, 18.26s/it]\n"
          ]
        },
        {
          "name": "stdout",
          "output_type": "stream",
          "text": [
            "Checkpoint Directory exists! \n",
            "Epoch 1/10\n",
            "453/453 [==============================] - 41s 88ms/step - loss: 1.2808 - pi_loss: 0.7584 - v_loss: 0.5224\n",
            "Epoch 2/10\n",
            "453/453 [==============================] - 40s 87ms/step - loss: 1.0906 - pi_loss: 0.6372 - v_loss: 0.4534\n",
            "Epoch 3/10\n",
            "453/453 [==============================] - 39s 86ms/step - loss: 1.0146 - pi_loss: 0.5999 - v_loss: 0.4148\n",
            "Epoch 4/10\n",
            "453/453 [==============================] - 39s 86ms/step - loss: 0.9660 - pi_loss: 0.5746 - v_loss: 0.3914\n",
            "Epoch 5/10\n",
            "453/453 [==============================] - 39s 87ms/step - loss: 0.9437 - pi_loss: 0.5623 - v_loss: 0.3814\n",
            "Epoch 6/10\n",
            "453/453 [==============================] - 39s 87ms/step - loss: 0.9300 - pi_loss: 0.5594 - v_loss: 0.3706\n",
            "Epoch 7/10\n",
            "453/453 [==============================] - 39s 87ms/step - loss: 0.9150 - pi_loss: 0.5521 - v_loss: 0.3629\n",
            "Epoch 8/10\n",
            "453/453 [==============================] - 40s 87ms/step - loss: 0.9043 - pi_loss: 0.5454 - v_loss: 0.3589\n",
            "Epoch 9/10\n",
            "453/453 [==============================] - 39s 87ms/step - loss: 0.9007 - pi_loss: 0.5454 - v_loss: 0.3553\n",
            "Epoch 10/10\n",
            "453/453 [==============================] - 40s 89ms/step - loss: 0.8923 - pi_loss: 0.5392 - v_loss: 0.3531\n"
          ]
        },
        {
          "name": "stderr",
          "output_type": "stream",
          "text": [
            "2023-12-27 20:03:35 770d794c7d65 Coach[644] INFO PITTING AGAINST PREVIOUS VERSION\n",
            "Arena.playGames (1): 100%|██████████| 10/10 [06:03<00:00, 36.37s/it]\n",
            "Arena.playGames (2): 100%|██████████| 10/10 [00:17<00:00,  1.76s/it]\n",
            "2023-12-27 20:09:56 770d794c7d65 Coach[644] INFO NEW/PREV WINS : 13 / 4 ; DRAWS : 3\n",
            "2023-12-27 20:09:56 770d794c7d65 Coach[644] INFO ACCEPTING NEW MODEL\n"
          ]
        },
        {
          "name": "stdout",
          "output_type": "stream",
          "text": [
            "Checkpoint Directory exists! \n",
            "Checkpoint Directory exists! \n"
          ]
        },
        {
          "name": "stderr",
          "output_type": "stream",
          "text": [
            "2023-12-27 20:09:57 770d794c7d65 Coach[644] INFO Starting Iter #8 ...\n",
            "Self Play: 100%|██████████| 25/25 [06:18<00:00, 15.14s/it]\n"
          ]
        },
        {
          "name": "stdout",
          "output_type": "stream",
          "text": [
            "Checkpoint Directory exists! \n",
            "Epoch 1/10\n",
            "499/499 [==============================] - 43s 86ms/step - loss: 1.0112 - pi_loss: 0.6149 - v_loss: 0.3963\n",
            "Epoch 2/10\n",
            "499/499 [==============================] - 44s 88ms/step - loss: 0.9488 - pi_loss: 0.5759 - v_loss: 0.3729\n",
            "Epoch 3/10\n",
            "499/499 [==============================] - 43s 86ms/step - loss: 0.9242 - pi_loss: 0.5621 - v_loss: 0.3621\n",
            "Epoch 4/10\n",
            "499/499 [==============================] - 44s 88ms/step - loss: 0.9074 - pi_loss: 0.5526 - v_loss: 0.3548\n",
            "Epoch 5/10\n",
            "499/499 [==============================] - 44s 87ms/step - loss: 0.9049 - pi_loss: 0.5509 - v_loss: 0.3540\n",
            "Epoch 6/10\n",
            "499/499 [==============================] - 44s 89ms/step - loss: 0.8990 - pi_loss: 0.5471 - v_loss: 0.3518\n",
            "Epoch 7/10\n",
            "499/499 [==============================] - 44s 88ms/step - loss: 0.8958 - pi_loss: 0.5475 - v_loss: 0.3482\n",
            "Epoch 8/10\n",
            "499/499 [==============================] - 43s 87ms/step - loss: 0.8830 - pi_loss: 0.5412 - v_loss: 0.3418\n",
            "Epoch 9/10\n",
            "499/499 [==============================] - 44s 88ms/step - loss: 0.8807 - pi_loss: 0.5379 - v_loss: 0.3429\n",
            "Epoch 10/10\n",
            "499/499 [==============================] - 44s 88ms/step - loss: 0.8773 - pi_loss: 0.5379 - v_loss: 0.3394\n"
          ]
        },
        {
          "name": "stderr",
          "output_type": "stream",
          "text": [
            "2023-12-27 20:23:36 770d794c7d65 Coach[644] INFO PITTING AGAINST PREVIOUS VERSION\n",
            "Arena.playGames (1): 100%|██████████| 10/10 [03:16<00:00, 19.66s/it]\n",
            "Arena.playGames (2): 100%|██████████| 10/10 [05:29<00:00, 32.94s/it]\n",
            "2023-12-27 20:32:22 770d794c7d65 Coach[644] INFO NEW/PREV WINS : 6 / 14 ; DRAWS : 0\n",
            "2023-12-27 20:32:22 770d794c7d65 Coach[644] INFO REJECTING NEW MODEL\n",
            "2023-12-27 20:32:23 770d794c7d65 Coach[644] INFO Starting Iter #9 ...\n",
            "Self Play: 100%|██████████| 25/25 [08:23<00:00, 20.15s/it]\n"
          ]
        },
        {
          "name": "stdout",
          "output_type": "stream",
          "text": [
            "Checkpoint Directory exists! \n",
            "Epoch 1/10\n",
            "558/558 [==============================] - 48s 85ms/step - loss: 1.1570 - pi_loss: 0.6974 - v_loss: 0.4596\n",
            "Epoch 2/10\n",
            "558/558 [==============================] - 47s 85ms/step - loss: 1.0385 - pi_loss: 0.6202 - v_loss: 0.4184\n",
            "Epoch 3/10\n",
            "558/558 [==============================] - 47s 84ms/step - loss: 0.9831 - pi_loss: 0.5910 - v_loss: 0.3921\n",
            "Epoch 4/10\n",
            "558/558 [==============================] - 47s 85ms/step - loss: 0.9592 - pi_loss: 0.5809 - v_loss: 0.3783\n",
            "Epoch 5/10\n",
            "558/558 [==============================] - 48s 87ms/step - loss: 0.9421 - pi_loss: 0.5726 - v_loss: 0.3695\n",
            "Epoch 6/10\n",
            "558/558 [==============================] - 48s 86ms/step - loss: 0.9247 - pi_loss: 0.5643 - v_loss: 0.3604\n",
            "Epoch 7/10\n",
            "558/558 [==============================] - 47s 85ms/step - loss: 0.9163 - pi_loss: 0.5586 - v_loss: 0.3577\n",
            "Epoch 8/10\n",
            "558/558 [==============================] - 48s 85ms/step - loss: 0.9072 - pi_loss: 0.5544 - v_loss: 0.3528\n",
            "Epoch 9/10\n",
            "558/558 [==============================] - 47s 85ms/step - loss: 0.9008 - pi_loss: 0.5531 - v_loss: 0.3477\n",
            "Epoch 10/10\n",
            "558/558 [==============================] - 47s 84ms/step - loss: 0.8977 - pi_loss: 0.5496 - v_loss: 0.3482\n"
          ]
        },
        {
          "name": "stderr",
          "output_type": "stream",
          "text": [
            "2023-12-27 20:49:13 770d794c7d65 Coach[644] INFO PITTING AGAINST PREVIOUS VERSION\n",
            "Arena.playGames (1): 100%|██████████| 10/10 [06:38<00:00, 39.80s/it]\n",
            "Arena.playGames (2): 100%|██████████| 10/10 [05:41<00:00, 34.18s/it]\n",
            "2023-12-27 21:01:33 770d794c7d65 Coach[644] INFO NEW/PREV WINS : 11 / 8 ; DRAWS : 1\n",
            "2023-12-27 21:01:33 770d794c7d65 Coach[644] INFO REJECTING NEW MODEL\n",
            "2023-12-27 21:01:34 770d794c7d65 Coach[644] INFO Starting Iter #10 ...\n",
            "Self Play: 100%|██████████| 25/25 [07:54<00:00, 18.99s/it]\n"
          ]
        },
        {
          "name": "stdout",
          "output_type": "stream",
          "text": [
            "Checkpoint Directory exists! \n",
            "Epoch 1/10\n",
            "614/614 [==============================] - 54s 87ms/step - loss: 1.2542 - pi_loss: 0.7472 - v_loss: 0.5070\n",
            "Epoch 2/10\n",
            "614/614 [==============================] - 53s 87ms/step - loss: 1.0972 - pi_loss: 0.6490 - v_loss: 0.4481\n",
            "Epoch 3/10\n",
            "614/614 [==============================] - 53s 86ms/step - loss: 1.0316 - pi_loss: 0.6132 - v_loss: 0.4183\n",
            "Epoch 4/10\n",
            "614/614 [==============================] - 53s 86ms/step - loss: 0.9921 - pi_loss: 0.5950 - v_loss: 0.3971\n",
            "Epoch 5/10\n",
            "614/614 [==============================] - 53s 86ms/step - loss: 0.9690 - pi_loss: 0.5842 - v_loss: 0.3848\n",
            "Epoch 6/10\n",
            "614/614 [==============================] - 54s 88ms/step - loss: 0.9492 - pi_loss: 0.5775 - v_loss: 0.3717\n",
            "Epoch 7/10\n",
            "614/614 [==============================] - 54s 88ms/step - loss: 0.9348 - pi_loss: 0.5688 - v_loss: 0.3660\n",
            "Epoch 8/10\n",
            "614/614 [==============================] - 53s 86ms/step - loss: 0.9259 - pi_loss: 0.5662 - v_loss: 0.3596\n",
            "Epoch 9/10\n",
            "614/614 [==============================] - 54s 87ms/step - loss: 0.9166 - pi_loss: 0.5607 - v_loss: 0.3558\n",
            "Epoch 10/10\n",
            "614/614 [==============================] - 53s 87ms/step - loss: 0.9088 - pi_loss: 0.5577 - v_loss: 0.3511\n"
          ]
        },
        {
          "name": "stderr",
          "output_type": "stream",
          "text": [
            "2023-12-27 21:18:55 770d794c7d65 Coach[644] INFO PITTING AGAINST PREVIOUS VERSION\n",
            "Arena.playGames (1): 100%|██████████| 10/10 [06:21<00:00, 38.13s/it]\n",
            "Arena.playGames (2): 100%|██████████| 10/10 [05:33<00:00, 33.33s/it]\n",
            "2023-12-27 21:30:50 770d794c7d65 Coach[644] INFO NEW/PREV WINS : 10 / 10 ; DRAWS : 0\n",
            "2023-12-27 21:30:50 770d794c7d65 Coach[644] INFO REJECTING NEW MODEL\n",
            "2023-12-27 21:30:51 770d794c7d65 Coach[644] INFO Starting Iter #11 ...\n",
            "Self Play: 100%|██████████| 25/25 [06:46<00:00, 16.27s/it]\n"
          ]
        },
        {
          "name": "stdout",
          "output_type": "stream",
          "text": [
            "Checkpoint Directory exists! \n",
            "Epoch 1/10\n",
            "667/667 [==============================] - 58s 86ms/step - loss: 1.3111 - pi_loss: 0.7807 - v_loss: 0.5304\n",
            "Epoch 2/10\n",
            "667/667 [==============================] - 56s 84ms/step - loss: 1.1302 - pi_loss: 0.6662 - v_loss: 0.4640\n",
            "Epoch 3/10\n",
            "667/667 [==============================] - 56s 84ms/step - loss: 1.0614 - pi_loss: 0.6296 - v_loss: 0.4318\n",
            "Epoch 4/10\n",
            "667/667 [==============================] - 56s 84ms/step - loss: 1.0186 - pi_loss: 0.6082 - v_loss: 0.4105\n",
            "Epoch 5/10\n",
            "667/667 [==============================] - 56s 83ms/step - loss: 0.9868 - pi_loss: 0.5942 - v_loss: 0.3927\n",
            "Epoch 6/10\n",
            "667/667 [==============================] - 57s 85ms/step - loss: 0.9688 - pi_loss: 0.5850 - v_loss: 0.3838\n",
            "Epoch 7/10\n",
            "667/667 [==============================] - 56s 84ms/step - loss: 0.9551 - pi_loss: 0.5790 - v_loss: 0.3761\n",
            "Epoch 8/10\n",
            "667/667 [==============================] - 56s 84ms/step - loss: 0.9440 - pi_loss: 0.5742 - v_loss: 0.3697\n",
            "Epoch 9/10\n",
            "667/667 [==============================] - 57s 85ms/step - loss: 0.9296 - pi_loss: 0.5682 - v_loss: 0.3613\n",
            "Epoch 10/10\n",
            "667/667 [==============================] - 57s 85ms/step - loss: 0.9223 - pi_loss: 0.5665 - v_loss: 0.3557\n"
          ]
        },
        {
          "name": "stderr",
          "output_type": "stream",
          "text": [
            "2023-12-27 21:48:05 770d794c7d65 Coach[644] INFO PITTING AGAINST PREVIOUS VERSION\n",
            "Arena.playGames (1): 100%|██████████| 10/10 [05:09<00:00, 30.91s/it]\n",
            "Arena.playGames (2): 100%|██████████| 10/10 [06:29<00:00, 38.95s/it]\n",
            "2023-12-27 21:59:43 770d794c7d65 Coach[644] INFO NEW/PREV WINS : 8 / 8 ; DRAWS : 4\n",
            "2023-12-27 21:59:43 770d794c7d65 Coach[644] INFO REJECTING NEW MODEL\n",
            "2023-12-27 21:59:45 770d794c7d65 Coach[644] INFO Starting Iter #12 ...\n",
            "Self Play: 100%|██████████| 25/25 [07:34<00:00, 18.17s/it]\n"
          ]
        },
        {
          "name": "stdout",
          "output_type": "stream",
          "text": [
            "Checkpoint Directory exists! \n",
            "Epoch 1/10\n",
            "721/721 [==============================] - 63s 86ms/step - loss: 1.3562 - pi_loss: 0.8141 - v_loss: 0.5421\n",
            "Epoch 2/10\n",
            "721/721 [==============================] - 62s 85ms/step - loss: 1.1674 - pi_loss: 0.6915 - v_loss: 0.4759\n",
            "Epoch 3/10\n",
            "721/721 [==============================] - 61s 85ms/step - loss: 1.0909 - pi_loss: 0.6533 - v_loss: 0.4376\n",
            "Epoch 4/10\n",
            "721/721 [==============================] - 61s 84ms/step - loss: 1.0376 - pi_loss: 0.6227 - v_loss: 0.4149\n",
            "Epoch 5/10\n",
            "721/721 [==============================] - 61s 85ms/step - loss: 1.0063 - pi_loss: 0.6099 - v_loss: 0.3963\n",
            "Epoch 6/10\n",
            "721/721 [==============================] - 62s 86ms/step - loss: 0.9809 - pi_loss: 0.5974 - v_loss: 0.3835\n",
            "Epoch 7/10\n",
            "721/721 [==============================] - 62s 85ms/step - loss: 0.9659 - pi_loss: 0.5914 - v_loss: 0.3745\n",
            "Epoch 8/10\n",
            "721/721 [==============================] - 61s 85ms/step - loss: 0.9482 - pi_loss: 0.5840 - v_loss: 0.3642\n",
            "Epoch 9/10\n",
            "721/721 [==============================] - 62s 86ms/step - loss: 0.9413 - pi_loss: 0.5786 - v_loss: 0.3627\n",
            "Epoch 10/10\n",
            "721/721 [==============================] - 63s 87ms/step - loss: 0.9284 - pi_loss: 0.5743 - v_loss: 0.3541\n"
          ]
        },
        {
          "name": "stderr",
          "output_type": "stream",
          "text": [
            "2023-12-27 22:17:47 770d794c7d65 Coach[644] INFO PITTING AGAINST PREVIOUS VERSION\n",
            "Arena.playGames (1): 100%|██████████| 10/10 [06:41<00:00, 40.16s/it]\n",
            "Arena.playGames (2): 100%|██████████| 10/10 [05:55<00:00, 35.57s/it]\n",
            "2023-12-27 22:30:24 770d794c7d65 Coach[644] INFO NEW/PREV WINS : 11 / 9 ; DRAWS : 0\n",
            "2023-12-27 22:30:24 770d794c7d65 Coach[644] INFO REJECTING NEW MODEL\n",
            "2023-12-27 22:30:25 770d794c7d65 Coach[644] INFO Starting Iter #13 ...\n",
            "Self Play: 100%|██████████| 25/25 [08:44<00:00, 20.96s/it]\n"
          ]
        },
        {
          "name": "stdout",
          "output_type": "stream",
          "text": [
            "Checkpoint Directory exists! \n",
            "Epoch 1/10\n",
            "784/784 [==============================] - 67s 85ms/step - loss: 1.4311 - pi_loss: 0.8527 - v_loss: 0.5784\n",
            "Epoch 2/10\n",
            "784/784 [==============================] - 66s 84ms/step - loss: 1.2205 - pi_loss: 0.7185 - v_loss: 0.5020\n",
            "Epoch 3/10\n",
            "784/784 [==============================] - 67s 85ms/step - loss: 1.1321 - pi_loss: 0.6735 - v_loss: 0.4586\n",
            "Epoch 4/10\n",
            "784/784 [==============================] - 66s 85ms/step - loss: 1.0737 - pi_loss: 0.6420 - v_loss: 0.4316\n",
            "Epoch 5/10\n",
            "784/784 [==============================] - 66s 84ms/step - loss: 1.0299 - pi_loss: 0.6212 - v_loss: 0.4087\n",
            "Epoch 6/10\n",
            "784/784 [==============================] - 66s 85ms/step - loss: 1.0061 - pi_loss: 0.6101 - v_loss: 0.3960\n",
            "Epoch 7/10\n",
            "784/784 [==============================] - 67s 85ms/step - loss: 0.9840 - pi_loss: 0.5993 - v_loss: 0.3847\n",
            "Epoch 8/10\n",
            "784/784 [==============================] - 66s 85ms/step - loss: 0.9675 - pi_loss: 0.5939 - v_loss: 0.3735\n",
            "Epoch 9/10\n",
            "784/784 [==============================] - 66s 84ms/step - loss: 0.9550 - pi_loss: 0.5869 - v_loss: 0.3681\n",
            "Epoch 10/10\n",
            "784/784 [==============================] - 65s 84ms/step - loss: 0.9433 - pi_loss: 0.5804 - v_loss: 0.3629\n"
          ]
        },
        {
          "name": "stderr",
          "output_type": "stream",
          "text": [
            "2023-12-27 22:50:17 770d794c7d65 Coach[644] INFO PITTING AGAINST PREVIOUS VERSION\n",
            "Arena.playGames (1): 100%|██████████| 10/10 [05:35<00:00, 33.60s/it]\n",
            "Arena.playGames (2): 100%|██████████| 10/10 [05:24<00:00, 32.42s/it]\n",
            "2023-12-27 23:01:17 770d794c7d65 Coach[644] INFO NEW/PREV WINS : 5 / 15 ; DRAWS : 0\n",
            "2023-12-27 23:01:17 770d794c7d65 Coach[644] INFO REJECTING NEW MODEL\n",
            "2023-12-27 23:01:18 770d794c7d65 Coach[644] INFO Starting Iter #14 ...\n",
            "Self Play: 100%|██████████| 25/25 [06:06<00:00, 14.67s/it]\n"
          ]
        },
        {
          "name": "stdout",
          "output_type": "stream",
          "text": [
            "Checkpoint Directory exists! \n",
            "Epoch 1/10\n",
            "829/829 [==============================] - 73s 87ms/step - loss: 1.4431 - pi_loss: 0.8639 - v_loss: 0.5793\n",
            "Epoch 2/10\n",
            "829/829 [==============================] - 71s 86ms/step - loss: 1.2303 - pi_loss: 0.7294 - v_loss: 0.5010\n",
            "Epoch 3/10\n",
            "829/829 [==============================] - 71s 85ms/step - loss: 1.1391 - pi_loss: 0.6794 - v_loss: 0.4597\n",
            "Epoch 4/10\n",
            "829/829 [==============================] - 72s 87ms/step - loss: 1.0733 - pi_loss: 0.6461 - v_loss: 0.4272\n",
            "Epoch 5/10\n",
            "829/829 [==============================] - 71s 85ms/step - loss: 1.0342 - pi_loss: 0.6237 - v_loss: 0.4105\n",
            "Epoch 6/10\n",
            "829/829 [==============================] - 73s 88ms/step - loss: 1.0086 - pi_loss: 0.6141 - v_loss: 0.3944\n",
            "Epoch 7/10\n",
            "829/829 [==============================] - 72s 87ms/step - loss: 0.9833 - pi_loss: 0.6029 - v_loss: 0.3804\n",
            "Epoch 8/10\n",
            "829/829 [==============================] - 71s 86ms/step - loss: 0.9719 - pi_loss: 0.5969 - v_loss: 0.3750\n",
            "Epoch 9/10\n",
            "829/829 [==============================] - 72s 87ms/step - loss: 0.9578 - pi_loss: 0.5915 - v_loss: 0.3664\n",
            "Epoch 10/10\n",
            "829/829 [==============================] - 72s 86ms/step - loss: 0.9434 - pi_loss: 0.5833 - v_loss: 0.3601\n"
          ]
        },
        {
          "name": "stderr",
          "output_type": "stream",
          "text": [
            "2023-12-27 23:19:27 770d794c7d65 Coach[644] INFO PITTING AGAINST PREVIOUS VERSION\n",
            "Arena.playGames (1): 100%|██████████| 10/10 [05:35<00:00, 33.52s/it]\n",
            "Arena.playGames (2): 100%|██████████| 10/10 [06:10<00:00, 37.04s/it]\n",
            "2023-12-27 23:31:12 770d794c7d65 Coach[644] INFO NEW/PREV WINS : 13 / 6 ; DRAWS : 1\n",
            "2023-12-27 23:31:12 770d794c7d65 Coach[644] INFO ACCEPTING NEW MODEL\n"
          ]
        },
        {
          "name": "stdout",
          "output_type": "stream",
          "text": [
            "Checkpoint Directory exists! \n",
            "Checkpoint Directory exists! \n"
          ]
        },
        {
          "name": "stderr",
          "output_type": "stream",
          "text": [
            "2023-12-27 23:31:13 770d794c7d65 Coach[644] INFO Starting Iter #15 ...\n",
            "Self Play: 100%|██████████| 25/25 [05:58<00:00, 14.35s/it]\n"
          ]
        },
        {
          "name": "stdout",
          "output_type": "stream",
          "text": [
            "Checkpoint Directory exists! \n",
            "Epoch 1/10\n",
            "877/877 [==============================] - 76s 86ms/step - loss: 1.0009 - pi_loss: 0.6243 - v_loss: 0.3766\n",
            "Epoch 2/10\n",
            "877/877 [==============================] - 75s 86ms/step - loss: 0.9609 - pi_loss: 0.5969 - v_loss: 0.3641\n",
            "Epoch 3/10\n",
            "877/877 [==============================] - 75s 86ms/step - loss: 0.9389 - pi_loss: 0.5866 - v_loss: 0.3523\n",
            "Epoch 4/10\n",
            "877/877 [==============================] - 75s 86ms/step - loss: 0.9301 - pi_loss: 0.5803 - v_loss: 0.3498\n",
            "Epoch 5/10\n",
            "877/877 [==============================] - 76s 86ms/step - loss: 0.9197 - pi_loss: 0.5749 - v_loss: 0.3448\n",
            "Epoch 6/10\n",
            "877/877 [==============================] - 75s 85ms/step - loss: 0.9104 - pi_loss: 0.5721 - v_loss: 0.3383\n",
            "Epoch 7/10\n",
            "877/877 [==============================] - 75s 85ms/step - loss: 0.9075 - pi_loss: 0.5705 - v_loss: 0.3370\n",
            "Epoch 8/10\n",
            "877/877 [==============================] - 75s 85ms/step - loss: 0.9063 - pi_loss: 0.5698 - v_loss: 0.3366\n",
            "Epoch 9/10\n",
            "877/877 [==============================] - 75s 85ms/step - loss: 0.8977 - pi_loss: 0.5664 - v_loss: 0.3313\n",
            "Epoch 10/10\n",
            "877/877 [==============================] - 76s 86ms/step - loss: 0.8980 - pi_loss: 0.5652 - v_loss: 0.3327\n"
          ]
        },
        {
          "name": "stderr",
          "output_type": "stream",
          "text": [
            "2023-12-27 23:50:41 770d794c7d65 Coach[644] INFO PITTING AGAINST PREVIOUS VERSION\n",
            "Arena.playGames (1): 100%|██████████| 10/10 [05:45<00:00, 34.53s/it]\n",
            "Arena.playGames (2): 100%|██████████| 10/10 [06:58<00:00, 41.88s/it]\n",
            "2023-12-28 00:03:25 770d794c7d65 Coach[644] INFO NEW/PREV WINS : 16 / 4 ; DRAWS : 0\n",
            "2023-12-28 00:03:25 770d794c7d65 Coach[644] INFO ACCEPTING NEW MODEL\n"
          ]
        },
        {
          "name": "stdout",
          "output_type": "stream",
          "text": [
            "Checkpoint Directory exists! \n",
            "Checkpoint Directory exists! \n"
          ]
        },
        {
          "name": "stderr",
          "output_type": "stream",
          "text": [
            "2023-12-28 00:03:25 770d794c7d65 Coach[644] INFO Starting Iter #16 ...\n",
            "Self Play: 100%|██████████| 25/25 [07:28<00:00, 17.93s/it]\n"
          ]
        },
        {
          "name": "stdout",
          "output_type": "stream",
          "text": [
            "Checkpoint Directory exists! \n",
            "Epoch 1/10\n",
            "931/931 [==============================] - 81s 87ms/step - loss: 0.9414 - pi_loss: 0.5957 - v_loss: 0.3458\n",
            "Epoch 2/10\n",
            "931/931 [==============================] - 81s 87ms/step - loss: 0.9051 - pi_loss: 0.5690 - v_loss: 0.3362\n",
            "Epoch 3/10\n",
            "931/931 [==============================] - 81s 87ms/step - loss: 0.8921 - pi_loss: 0.5620 - v_loss: 0.3301\n",
            "Epoch 4/10\n",
            "931/931 [==============================] - 80s 86ms/step - loss: 0.8836 - pi_loss: 0.5586 - v_loss: 0.3250\n",
            "Epoch 5/10\n",
            "931/931 [==============================] - 80s 86ms/step - loss: 0.8791 - pi_loss: 0.5569 - v_loss: 0.3222\n",
            "Epoch 6/10\n",
            "931/931 [==============================] - 81s 87ms/step - loss: 0.8742 - pi_loss: 0.5537 - v_loss: 0.3205\n",
            "Epoch 7/10\n",
            "931/931 [==============================] - 81s 87ms/step - loss: 0.8803 - pi_loss: 0.5566 - v_loss: 0.3237\n",
            "Epoch 8/10\n",
            "931/931 [==============================] - 81s 87ms/step - loss: 0.8700 - pi_loss: 0.5521 - v_loss: 0.3179\n",
            "Epoch 9/10\n",
            "931/931 [==============================] - 80s 86ms/step - loss: 0.8682 - pi_loss: 0.5509 - v_loss: 0.3174\n",
            "Epoch 10/10\n",
            "931/931 [==============================] - 81s 87ms/step - loss: 0.8617 - pi_loss: 0.5477 - v_loss: 0.3140\n"
          ]
        },
        {
          "name": "stderr",
          "output_type": "stream",
          "text": [
            "2023-12-28 00:25:22 770d794c7d65 Coach[644] INFO PITTING AGAINST PREVIOUS VERSION\n",
            "Arena.playGames (1): 100%|██████████| 10/10 [07:07<00:00, 42.72s/it]\n",
            "Arena.playGames (2): 100%|██████████| 10/10 [06:10<00:00, 37.04s/it]\n",
            "2023-12-28 00:38:40 770d794c7d65 Coach[644] INFO NEW/PREV WINS : 12 / 8 ; DRAWS : 0\n",
            "2023-12-28 00:38:40 770d794c7d65 Coach[644] INFO ACCEPTING NEW MODEL\n"
          ]
        },
        {
          "name": "stdout",
          "output_type": "stream",
          "text": [
            "Checkpoint Directory exists! \n",
            "Checkpoint Directory exists! \n"
          ]
        },
        {
          "name": "stderr",
          "output_type": "stream",
          "text": [
            "2023-12-28 00:38:41 770d794c7d65 Coach[644] INFO Starting Iter #17 ...\n",
            "Self Play: 100%|██████████| 25/25 [06:47<00:00, 16.29s/it]\n"
          ]
        },
        {
          "name": "stdout",
          "output_type": "stream",
          "text": [
            "Checkpoint Directory exists! \n",
            "Epoch 1/10\n",
            "981/981 [==============================] - 85s 87ms/step - loss: 0.9244 - pi_loss: 0.5858 - v_loss: 0.3387\n",
            "Epoch 2/10\n",
            "981/981 [==============================] - 85s 87ms/step - loss: 0.8811 - pi_loss: 0.5561 - v_loss: 0.3250\n",
            "Epoch 3/10\n",
            "981/981 [==============================] - 86s 87ms/step - loss: 0.8664 - pi_loss: 0.5497 - v_loss: 0.3166\n",
            "Epoch 4/10\n",
            "981/981 [==============================] - 84s 86ms/step - loss: 0.8612 - pi_loss: 0.5472 - v_loss: 0.3140\n",
            "Epoch 5/10\n",
            "981/981 [==============================] - 86s 88ms/step - loss: 0.8585 - pi_loss: 0.5441 - v_loss: 0.3144\n",
            "Epoch 6/10\n",
            "981/981 [==============================] - 84s 86ms/step - loss: 0.8547 - pi_loss: 0.5425 - v_loss: 0.3122\n",
            "Epoch 7/10\n",
            "981/981 [==============================] - 85s 87ms/step - loss: 0.8529 - pi_loss: 0.5417 - v_loss: 0.3111\n",
            "Epoch 8/10\n",
            "981/981 [==============================] - 84s 86ms/step - loss: 0.8522 - pi_loss: 0.5410 - v_loss: 0.3113\n",
            "Epoch 9/10\n",
            "981/981 [==============================] - 85s 87ms/step - loss: 0.8502 - pi_loss: 0.5410 - v_loss: 0.3092\n",
            "Epoch 10/10\n",
            "981/981 [==============================] - 85s 86ms/step - loss: 0.8451 - pi_loss: 0.5372 - v_loss: 0.3079\n"
          ]
        },
        {
          "name": "stderr",
          "output_type": "stream",
          "text": [
            "2023-12-28 00:59:56 770d794c7d65 Coach[644] INFO PITTING AGAINST PREVIOUS VERSION\n",
            "Arena.playGames (1): 100%|██████████| 10/10 [06:02<00:00, 36.21s/it]\n",
            "Arena.playGames (2): 100%|██████████| 10/10 [04:45<00:00, 28.52s/it]\n",
            "2023-12-28 01:10:44 770d794c7d65 Coach[644] INFO NEW/PREV WINS : 12 / 8 ; DRAWS : 0\n",
            "2023-12-28 01:10:44 770d794c7d65 Coach[644] INFO ACCEPTING NEW MODEL\n"
          ]
        },
        {
          "name": "stdout",
          "output_type": "stream",
          "text": [
            "Checkpoint Directory exists! \n",
            "Checkpoint Directory exists! \n"
          ]
        },
        {
          "name": "stderr",
          "output_type": "stream",
          "text": [
            "2023-12-28 01:10:45 770d794c7d65 Coach[644] INFO Starting Iter #18 ...\n",
            "Self Play: 100%|██████████| 25/25 [06:42<00:00, 16.12s/it]\n"
          ]
        },
        {
          "name": "stdout",
          "output_type": "stream",
          "text": [
            "Checkpoint Directory exists! \n",
            "Epoch 1/10\n",
            "1031/1031 [==============================] - 87s 85ms/step - loss: 0.9086 - pi_loss: 0.5749 - v_loss: 0.3337\n",
            "Epoch 2/10\n",
            "1031/1031 [==============================] - 86s 84ms/step - loss: 0.8763 - pi_loss: 0.5525 - v_loss: 0.3239\n",
            "Epoch 3/10\n",
            "1031/1031 [==============================] - 87s 84ms/step - loss: 0.8634 - pi_loss: 0.5447 - v_loss: 0.3186\n",
            "Epoch 4/10\n",
            "1031/1031 [==============================] - 87s 85ms/step - loss: 0.8587 - pi_loss: 0.5434 - v_loss: 0.3153\n",
            "Epoch 5/10\n",
            "1031/1031 [==============================] - 87s 84ms/step - loss: 0.8528 - pi_loss: 0.5406 - v_loss: 0.3123\n",
            "Epoch 6/10\n",
            "1031/1031 [==============================] - 86s 83ms/step - loss: 0.8474 - pi_loss: 0.5381 - v_loss: 0.3093\n",
            "Epoch 7/10\n",
            "1031/1031 [==============================] - 86s 84ms/step - loss: 0.8475 - pi_loss: 0.5379 - v_loss: 0.3095\n",
            "Epoch 8/10\n",
            "1031/1031 [==============================] - 86s 83ms/step - loss: 0.8456 - pi_loss: 0.5390 - v_loss: 0.3066\n",
            "Epoch 9/10\n",
            "1031/1031 [==============================] - 86s 83ms/step - loss: 0.8425 - pi_loss: 0.5363 - v_loss: 0.3062\n",
            "Epoch 10/10\n",
            "1031/1031 [==============================] - 86s 83ms/step - loss: 0.8387 - pi_loss: 0.5337 - v_loss: 0.3050\n"
          ]
        },
        {
          "name": "stderr",
          "output_type": "stream",
          "text": [
            "2023-12-28 01:32:57 770d794c7d65 Coach[644] INFO PITTING AGAINST PREVIOUS VERSION\n",
            "Arena.playGames (1): 100%|██████████| 10/10 [05:44<00:00, 34.40s/it]\n",
            "Arena.playGames (2): 100%|██████████| 10/10 [05:38<00:00, 33.90s/it]\n",
            "2023-12-28 01:44:20 770d794c7d65 Coach[644] INFO NEW/PREV WINS : 12 / 8 ; DRAWS : 0\n",
            "2023-12-28 01:44:20 770d794c7d65 Coach[644] INFO ACCEPTING NEW MODEL\n"
          ]
        },
        {
          "name": "stdout",
          "output_type": "stream",
          "text": [
            "Checkpoint Directory exists! \n",
            "Checkpoint Directory exists! \n"
          ]
        },
        {
          "name": "stderr",
          "output_type": "stream",
          "text": [
            "2023-12-28 01:44:21 770d794c7d65 Coach[644] INFO Starting Iter #19 ...\n",
            "Self Play: 100%|██████████| 25/25 [08:59<00:00, 21.58s/it]\n"
          ]
        },
        {
          "name": "stdout",
          "output_type": "stream",
          "text": [
            "Checkpoint Directory exists! \n",
            "Epoch 1/10\n",
            "1098/1098 [==============================] - 90s 82ms/step - loss: 0.9349 - pi_loss: 0.5821 - v_loss: 0.3528\n",
            "Epoch 2/10\n",
            "1098/1098 [==============================] - 92s 84ms/step - loss: 0.8820 - pi_loss: 0.5476 - v_loss: 0.3345\n",
            "Epoch 3/10\n",
            "1098/1098 [==============================] - 92s 84ms/step - loss: 0.8690 - pi_loss: 0.5381 - v_loss: 0.3309\n",
            "Epoch 4/10\n",
            "1098/1098 [==============================] - 92s 84ms/step - loss: 0.8586 - pi_loss: 0.5326 - v_loss: 0.3260\n",
            "Epoch 5/10\n",
            "1098/1098 [==============================] - 90s 82ms/step - loss: 0.8517 - pi_loss: 0.5309 - v_loss: 0.3208\n",
            "Epoch 6/10\n",
            "1098/1098 [==============================] - 91s 83ms/step - loss: 0.8489 - pi_loss: 0.5298 - v_loss: 0.3191\n",
            "Epoch 7/10\n",
            "1098/1098 [==============================] - 91s 83ms/step - loss: 0.8444 - pi_loss: 0.5283 - v_loss: 0.3161\n",
            "Epoch 8/10\n",
            "1098/1098 [==============================] - 92s 84ms/step - loss: 0.8429 - pi_loss: 0.5283 - v_loss: 0.3146\n",
            "Epoch 9/10\n",
            "1098/1098 [==============================] - 91s 83ms/step - loss: 0.8389 - pi_loss: 0.5262 - v_loss: 0.3128\n",
            "Epoch 10/10\n",
            "1098/1098 [==============================] - 92s 84ms/step - loss: 0.8357 - pi_loss: 0.5252 - v_loss: 0.3105\n"
          ]
        },
        {
          "name": "stderr",
          "output_type": "stream",
          "text": [
            "2023-12-28 02:08:43 770d794c7d65 Coach[644] INFO PITTING AGAINST PREVIOUS VERSION\n",
            "Arena.playGames (1): 100%|██████████| 10/10 [06:32<00:00, 39.22s/it]\n",
            "Arena.playGames (2): 100%|██████████| 10/10 [05:53<00:00, 35.34s/it]\n",
            "2023-12-28 02:21:08 770d794c7d65 Coach[644] INFO NEW/PREV WINS : 12 / 8 ; DRAWS : 0\n",
            "2023-12-28 02:21:08 770d794c7d65 Coach[644] INFO ACCEPTING NEW MODEL\n"
          ]
        },
        {
          "name": "stdout",
          "output_type": "stream",
          "text": [
            "Checkpoint Directory exists! \n",
            "Checkpoint Directory exists! \n"
          ]
        },
        {
          "name": "stderr",
          "output_type": "stream",
          "text": [
            "2023-12-28 02:21:09 770d794c7d65 Coach[644] INFO Starting Iter #20 ...\n",
            "Self Play: 100%|██████████| 25/25 [07:13<00:00, 17.33s/it]\n"
          ]
        },
        {
          "name": "stdout",
          "output_type": "stream",
          "text": [
            "Checkpoint Directory exists! \n",
            "Epoch 1/10\n",
            "1153/1153 [==============================] - 97s 84ms/step - loss: 0.9120 - pi_loss: 0.5729 - v_loss: 0.3391\n",
            "Epoch 2/10\n",
            "1153/1153 [==============================] - 97s 84ms/step - loss: 0.8710 - pi_loss: 0.5435 - v_loss: 0.3274\n",
            "Epoch 3/10\n",
            "1153/1153 [==============================] - 96s 84ms/step - loss: 0.8590 - pi_loss: 0.5372 - v_loss: 0.3218\n",
            "Epoch 4/10\n",
            "1153/1153 [==============================] - 97s 84ms/step - loss: 0.8470 - pi_loss: 0.5309 - v_loss: 0.3161\n",
            "Epoch 5/10\n",
            "1153/1153 [==============================] - 96s 84ms/step - loss: 0.8464 - pi_loss: 0.5301 - v_loss: 0.3162\n",
            "Epoch 6/10\n",
            "1153/1153 [==============================] - 97s 84ms/step - loss: 0.8380 - pi_loss: 0.5268 - v_loss: 0.3112\n",
            "Epoch 7/10\n",
            "1153/1153 [==============================] - 96s 83ms/step - loss: 0.8368 - pi_loss: 0.5267 - v_loss: 0.3101\n",
            "Epoch 8/10\n",
            "1153/1153 [==============================] - 98s 85ms/step - loss: 0.8343 - pi_loss: 0.5267 - v_loss: 0.3075\n",
            "Epoch 9/10\n",
            "1153/1153 [==============================] - 96s 84ms/step - loss: 0.8302 - pi_loss: 0.5228 - v_loss: 0.3074\n",
            "Epoch 10/10\n",
            "1153/1153 [==============================] - 96s 83ms/step - loss: 0.8316 - pi_loss: 0.5238 - v_loss: 0.3078\n"
          ]
        },
        {
          "name": "stderr",
          "output_type": "stream",
          "text": [
            "2023-12-28 02:44:52 770d794c7d65 Coach[644] INFO PITTING AGAINST PREVIOUS VERSION\n",
            "Arena.playGames (1): 100%|██████████| 10/10 [05:28<00:00, 32.85s/it]\n",
            "Arena.playGames (2): 100%|██████████| 10/10 [05:35<00:00, 33.56s/it]\n",
            "2023-12-28 02:55:56 770d794c7d65 Coach[644] INFO NEW/PREV WINS : 12 / 7 ; DRAWS : 1\n",
            "2023-12-28 02:55:56 770d794c7d65 Coach[644] INFO ACCEPTING NEW MODEL\n"
          ]
        },
        {
          "name": "stdout",
          "output_type": "stream",
          "text": [
            "Checkpoint Directory exists! \n",
            "Checkpoint Directory exists! \n"
          ]
        }
      ],
      "source": [
        "args = dotdict({\n",
        "    'numIters':20,\n",
        "    'numEps': 25,              # Number of complete self-play games to simulate during a new iteration.\n",
        "    'tempThreshold': 15,        #\n",
        "    'updateThreshold': 0.6,     # During arena playoff, new neural net will be accepted if threshold or more of games are won.\n",
        "    'maxlenOfQueue': 50000,    # Number of game examples to train the neural networks.\n",
        "    'numMCTSSims': 25,          # Number of games moves for MCTS to simulate.\n",
        "    'arenaCompare': 20,         # Number of games to play during arena play to determine if new net will be accepted.\n",
        "    'cpuct': 1,\n",
        "\n",
        "    'checkpoint': '/content/drive/MyDrive/trabalho2_liacd/models/ataxx/5x5',\n",
        "    'load_model': True,\n",
        "    'load_folder_file': ('/content/drive/MyDrive/trabalho2_liacd/models/ataxx/5x5', 'best.h5'),\n",
        "    'numItersForTrainExamplesHistory': 20,\n",
        "\n",
        "})\n",
        "\n",
        "\n",
        "log.info('Loading %s...', Game.__name__)\n",
        "g = Game(5)\n",
        "\n",
        "log.info('Loading %s...', nn.__name__)\n",
        "nnet = nn(g)\n",
        "\n",
        "if args.load_model:\n",
        "    log.info('Loading checkpoint \"%s/%s\"...', args.load_folder_file[0], args.load_folder_file[1])\n",
        "    nnet.load_model(args.load_folder_file[0], args.load_folder_file[1])\n",
        "else:\n",
        "    log.warning('Not loading a checkpoint!')\n",
        "\n",
        "log.info('Loading the Coach...')\n",
        "c = Coach(g, nnet, args)\n",
        "\n",
        "if args.load_model:\n",
        "    log.info(\"Loading 'trainExamples' from file...\")\n",
        "    c.loadTrainExamples()\n",
        "\n",
        "log.info('Starting the learning process 🎉')\n",
        "c.learn()\n",
        "\n"
      ]
    },
    {
      "cell_type": "markdown",
      "metadata": {
        "id": "omrLPR8dJaPR"
      },
      "source": [
        "#Oitavo Treino"
      ]
    },
    {
      "cell_type": "code",
      "execution_count": null,
      "metadata": {
        "colab": {
          "background_save": true,
          "base_uri": "https://localhost:8080/"
        },
        "id": "OBS7G6P5Jb3N",
        "outputId": "b0307d4b-7f5e-463f-d66a-a4fd50601f0b"
      },
      "outputs": [
        {
          "name": "stderr",
          "output_type": "stream",
          "text": [
            "2023-12-29 15:16:32 a93c6a049b6a __main__[562] INFO Loading AtaxxGame...\n",
            "2023-12-29 15:16:32 a93c6a049b6a __main__[562] INFO Loading NNetWrapper...\n",
            "2023-12-29 15:16:32 a93c6a049b6a __main__[562] INFO Loading checkpoint \"/content/drive/MyDrive/trabalho2_liacd/models/ataxx/5x5/best.h5\"...\n",
            "2023-12-29 15:16:34 a93c6a049b6a __main__[562] INFO Loading the Coach...\n",
            "2023-12-29 15:16:34 a93c6a049b6a __main__[562] INFO Loading 'trainExamples' from file...\n",
            "2023-12-29 15:16:34 a93c6a049b6a Coach[562] WARNING File \"/content/drive/MyDrive/trabalho2_liacd/models/ataxx/5x5/best.h5.examples\" with trainExamples not found!\n",
            "2023-12-29 15:16:36 a93c6a049b6a __main__[562] INFO Starting the learning process 🎉\n",
            "2023-12-29 15:16:36 a93c6a049b6a Coach[562] INFO Starting Iter #1 ...\n",
            "Self Play: 100%|██████████| 25/25 [11:52<00:00, 28.52s/it]\n"
          ]
        },
        {
          "name": "stdout",
          "output_type": "stream",
          "text": [
            "Checkpoint Directory exists! \n"
          ]
        },
        {
          "name": "stderr",
          "output_type": "stream",
          "text": [
            "/usr/local/lib/python3.10/dist-packages/keras/src/engine/training.py:3103: UserWarning: You are saving your model as an HDF5 file via `model.save()`. This file format is considered legacy. We recommend using instead the native Keras format, e.g. `model.save('my_model.keras')`.\n",
            "  saving_api.save_model(\n"
          ]
        },
        {
          "name": "stdout",
          "output_type": "stream",
          "text": [
            "Epoch 1/10\n",
            "60/60 [==============================] - 11s 170ms/step - loss: 2.3384 - pi_loss: 1.2992 - v_loss: 1.0393\n",
            "Epoch 2/10\n",
            "60/60 [==============================] - 8s 125ms/step - loss: 1.5260 - pi_loss: 0.7774 - v_loss: 0.7486\n",
            "Epoch 3/10\n",
            "60/60 [==============================] - 10s 167ms/step - loss: 1.2688 - pi_loss: 0.6293 - v_loss: 0.6395\n",
            "Epoch 4/10\n",
            "60/60 [==============================] - 8s 134ms/step - loss: 1.1232 - pi_loss: 0.5681 - v_loss: 0.5551\n",
            "Epoch 5/10\n",
            "60/60 [==============================] - 10s 167ms/step - loss: 1.0232 - pi_loss: 0.5250 - v_loss: 0.4982\n",
            "Epoch 6/10\n",
            "60/60 [==============================] - 8s 139ms/step - loss: 0.9704 - pi_loss: 0.5023 - v_loss: 0.4681\n",
            "Epoch 7/10\n",
            "60/60 [==============================] - 11s 177ms/step - loss: 0.9263 - pi_loss: 0.4837 - v_loss: 0.4426\n",
            "Epoch 8/10\n",
            "60/60 [==============================] - 9s 159ms/step - loss: 0.8942 - pi_loss: 0.4736 - v_loss: 0.4206\n",
            "Epoch 9/10\n",
            "60/60 [==============================] - 9s 154ms/step - loss: 0.8761 - pi_loss: 0.4671 - v_loss: 0.4090\n",
            "Epoch 10/10\n",
            "60/60 [==============================] - 11s 179ms/step - loss: 0.8719 - pi_loss: 0.4612 - v_loss: 0.4107\n"
          ]
        },
        {
          "name": "stderr",
          "output_type": "stream",
          "text": [
            "2023-12-29 15:30:54 a93c6a049b6a Coach[562] INFO PITTING AGAINST PREVIOUS VERSION\n",
            "Arena.playGames (1): 100%|██████████| 10/10 [08:25<00:00, 50.54s/it]\n",
            "Arena.playGames (2): 100%|██████████| 10/10 [08:46<00:00, 52.67s/it]\n",
            "2023-12-29 15:48:06 a93c6a049b6a Coach[562] INFO NEW/PREV WINS : 15 / 5 ; DRAWS : 0\n",
            "2023-12-29 15:48:06 a93c6a049b6a Coach[562] INFO ACCEPTING NEW MODEL\n"
          ]
        },
        {
          "name": "stdout",
          "output_type": "stream",
          "text": [
            "Checkpoint Directory exists! \n",
            "Checkpoint Directory exists! \n"
          ]
        },
        {
          "name": "stderr",
          "output_type": "stream",
          "text": [
            "2023-12-29 15:48:08 a93c6a049b6a Coach[562] INFO Starting Iter #2 ...\n",
            "Self Play: 100%|██████████| 25/25 [14:57<00:00, 35.89s/it]\n"
          ]
        },
        {
          "name": "stdout",
          "output_type": "stream",
          "text": [
            "Checkpoint Directory exists! \n",
            "Epoch 1/10\n",
            "129/129 [==============================] - 19s 148ms/step - loss: 1.6060 - pi_loss: 1.0094 - v_loss: 0.5966\n",
            "Epoch 2/10\n",
            "129/129 [==============================] - 19s 144ms/step - loss: 1.2397 - pi_loss: 0.7557 - v_loss: 0.4840\n",
            "Epoch 3/10\n",
            "129/129 [==============================] - 18s 141ms/step - loss: 1.0948 - pi_loss: 0.6722 - v_loss: 0.4227\n",
            "Epoch 4/10\n",
            "129/129 [==============================] - 19s 145ms/step - loss: 1.0128 - pi_loss: 0.6199 - v_loss: 0.3929\n",
            "Epoch 5/10\n",
            "129/129 [==============================] - 19s 146ms/step - loss: 0.9542 - pi_loss: 0.5893 - v_loss: 0.3649\n",
            "Epoch 6/10\n",
            "129/129 [==============================] - 20s 155ms/step - loss: 0.9121 - pi_loss: 0.5643 - v_loss: 0.3477\n",
            "Epoch 7/10\n",
            "129/129 [==============================] - 19s 143ms/step - loss: 0.8798 - pi_loss: 0.5472 - v_loss: 0.3327\n",
            "Epoch 8/10\n",
            "129/129 [==============================] - 19s 149ms/step - loss: 0.8631 - pi_loss: 0.5385 - v_loss: 0.3247\n",
            "Epoch 9/10\n",
            "129/129 [==============================] - 19s 148ms/step - loss: 0.8358 - pi_loss: 0.5247 - v_loss: 0.3111\n",
            "Epoch 10/10\n",
            "129/129 [==============================] - 19s 146ms/step - loss: 0.8224 - pi_loss: 0.5149 - v_loss: 0.3075\n"
          ]
        },
        {
          "name": "stderr",
          "output_type": "stream",
          "text": [
            "2023-12-29 16:06:30 a93c6a049b6a Coach[562] INFO PITTING AGAINST PREVIOUS VERSION\n",
            "Arena.playGames (1): 100%|██████████| 10/10 [10:00<00:00, 60.08s/it]\n",
            "Arena.playGames (2): 100%|██████████| 10/10 [07:45<00:00, 46.51s/it]\n",
            "2023-12-29 16:24:16 a93c6a049b6a Coach[562] INFO NEW/PREV WINS : 11 / 8 ; DRAWS : 1\n",
            "2023-12-29 16:24:16 a93c6a049b6a Coach[562] INFO REJECTING NEW MODEL\n",
            "2023-12-29 16:24:17 a93c6a049b6a Coach[562] INFO Starting Iter #3 ...\n",
            "Self Play: 100%|██████████| 25/25 [12:28<00:00, 29.95s/it]\n"
          ]
        },
        {
          "name": "stdout",
          "output_type": "stream",
          "text": [
            "Checkpoint Directory exists! \n",
            "Epoch 1/10\n",
            "187/187 [==============================] - 29s 143ms/step - loss: 1.7389 - pi_loss: 1.0620 - v_loss: 0.6769\n",
            "Epoch 2/10\n",
            "187/187 [==============================] - 28s 151ms/step - loss: 1.3890 - pi_loss: 0.8313 - v_loss: 0.5578\n",
            "Epoch 3/10\n",
            "187/187 [==============================] - 29s 158ms/step - loss: 1.2225 - pi_loss: 0.7294 - v_loss: 0.4931\n",
            "Epoch 4/10\n",
            "187/187 [==============================] - 26s 139ms/step - loss: 1.1245 - pi_loss: 0.6676 - v_loss: 0.4569\n",
            "Epoch 5/10\n",
            "187/187 [==============================] - 27s 147ms/step - loss: 1.0552 - pi_loss: 0.6326 - v_loss: 0.4226\n",
            "Epoch 6/10\n",
            "187/187 [==============================] - 27s 142ms/step - loss: 1.0005 - pi_loss: 0.6045 - v_loss: 0.3961\n",
            "Epoch 7/10\n",
            "187/187 [==============================] - 27s 146ms/step - loss: 0.9563 - pi_loss: 0.5789 - v_loss: 0.3774\n",
            "Epoch 8/10\n",
            "187/187 [==============================] - 27s 143ms/step - loss: 0.9307 - pi_loss: 0.5685 - v_loss: 0.3622\n",
            "Epoch 9/10\n",
            "187/187 [==============================] - 28s 147ms/step - loss: 0.9070 - pi_loss: 0.5571 - v_loss: 0.3499\n",
            "Epoch 10/10\n",
            "187/187 [==============================] - 29s 152ms/step - loss: 0.8914 - pi_loss: 0.5496 - v_loss: 0.3417\n"
          ]
        },
        {
          "name": "stderr",
          "output_type": "stream",
          "text": [
            "2023-12-29 16:42:13 a93c6a049b6a Coach[562] INFO PITTING AGAINST PREVIOUS VERSION\n",
            "Arena.playGames (1): 100%|██████████| 10/10 [10:11<00:00, 61.19s/it]\n",
            "Arena.playGames (2): 100%|██████████| 10/10 [09:33<00:00, 57.37s/it]\n",
            "2023-12-29 17:01:59 a93c6a049b6a Coach[562] INFO NEW/PREV WINS : 9 / 11 ; DRAWS : 0\n",
            "2023-12-29 17:01:59 a93c6a049b6a Coach[562] INFO REJECTING NEW MODEL\n",
            "2023-12-29 17:02:00 a93c6a049b6a Coach[562] INFO Starting Iter #4 ...\n",
            "Self Play: 100%|██████████| 25/25 [15:41<00:00, 37.67s/it]\n"
          ]
        },
        {
          "name": "stdout",
          "output_type": "stream",
          "text": [
            "Checkpoint Directory exists! \n",
            "Epoch 1/10\n",
            "252/252 [==============================] - 37s 139ms/step - loss: 1.8695 - pi_loss: 1.0961 - v_loss: 0.7734\n",
            "Epoch 2/10\n",
            "252/252 [==============================] - 39s 154ms/step - loss: 1.5145 - pi_loss: 0.8693 - v_loss: 0.6452\n",
            "Epoch 3/10\n",
            "252/252 [==============================] - 37s 148ms/step - loss: 1.3610 - pi_loss: 0.7799 - v_loss: 0.5811\n",
            "Epoch 4/10\n",
            "252/252 [==============================] - 34s 133ms/step - loss: 1.2291 - pi_loss: 0.7058 - v_loss: 0.5234\n",
            "Epoch 5/10\n",
            "252/252 [==============================] - 36s 142ms/step - loss: 1.1592 - pi_loss: 0.6682 - v_loss: 0.4910\n",
            "Epoch 6/10\n",
            "252/252 [==============================] - 36s 142ms/step - loss: 1.0922 - pi_loss: 0.6322 - v_loss: 0.4600\n",
            "Epoch 7/10\n",
            "252/252 [==============================] - 36s 143ms/step - loss: 1.0438 - pi_loss: 0.6116 - v_loss: 0.4322\n",
            "Epoch 8/10\n",
            "252/252 [==============================] - 35s 140ms/step - loss: 1.0142 - pi_loss: 0.5992 - v_loss: 0.4150\n",
            "Epoch 9/10\n",
            "252/252 [==============================] - 36s 142ms/step - loss: 0.9764 - pi_loss: 0.5821 - v_loss: 0.3944\n",
            "Epoch 10/10\n",
            "252/252 [==============================] - 36s 144ms/step - loss: 0.9560 - pi_loss: 0.5691 - v_loss: 0.3869\n"
          ]
        },
        {
          "name": "stderr",
          "output_type": "stream",
          "text": [
            "2023-12-29 17:24:09 a93c6a049b6a Coach[562] INFO PITTING AGAINST PREVIOUS VERSION\n",
            "Arena.playGames (1): 100%|██████████| 10/10 [10:00<00:00, 60.03s/it]\n",
            "Arena.playGames (2): 100%|██████████| 10/10 [09:29<00:00, 56.91s/it]\n",
            "2023-12-29 17:43:38 a93c6a049b6a Coach[562] INFO NEW/PREV WINS : 13 / 7 ; DRAWS : 0\n",
            "2023-12-29 17:43:38 a93c6a049b6a Coach[562] INFO ACCEPTING NEW MODEL\n"
          ]
        },
        {
          "name": "stdout",
          "output_type": "stream",
          "text": [
            "Checkpoint Directory exists! \n",
            "Checkpoint Directory exists! \n"
          ]
        },
        {
          "name": "stderr",
          "output_type": "stream",
          "text": [
            "2023-12-29 17:43:40 a93c6a049b6a Coach[562] INFO Starting Iter #5 ...\n",
            "Self Play: 100%|██████████| 25/25 [15:33<00:00, 37.35s/it]\n"
          ]
        },
        {
          "name": "stdout",
          "output_type": "stream",
          "text": [
            "Checkpoint Directory exists! \n",
            "Epoch 1/10\n",
            "324/324 [==============================] - 48s 143ms/step - loss: 1.1978 - pi_loss: 0.7413 - v_loss: 0.4565\n",
            "Epoch 2/10\n",
            "324/324 [==============================] - 49s 150ms/step - loss: 1.0484 - pi_loss: 0.6434 - v_loss: 0.4049\n",
            "Epoch 3/10\n",
            "324/324 [==============================] - 50s 154ms/step - loss: 0.9839 - pi_loss: 0.6018 - v_loss: 0.3820\n",
            "Epoch 4/10\n",
            "324/324 [==============================] - 48s 147ms/step - loss: 0.9543 - pi_loss: 0.5848 - v_loss: 0.3695\n",
            "Epoch 5/10\n",
            "324/324 [==============================] - 44s 134ms/step - loss: 0.9251 - pi_loss: 0.5669 - v_loss: 0.3582\n",
            "Epoch 6/10\n",
            "324/324 [==============================] - 46s 141ms/step - loss: 0.9068 - pi_loss: 0.5554 - v_loss: 0.3513\n",
            "Epoch 7/10\n",
            "324/324 [==============================] - 46s 143ms/step - loss: 0.8874 - pi_loss: 0.5471 - v_loss: 0.3403\n",
            "Epoch 8/10\n",
            "324/324 [==============================] - 47s 145ms/step - loss: 0.8819 - pi_loss: 0.5429 - v_loss: 0.3390\n",
            "Epoch 9/10\n",
            "324/324 [==============================] - 46s 142ms/step - loss: 0.8759 - pi_loss: 0.5377 - v_loss: 0.3382\n",
            "Epoch 10/10\n",
            "324/324 [==============================] - 45s 139ms/step - loss: 0.8675 - pi_loss: 0.5353 - v_loss: 0.3322\n"
          ]
        },
        {
          "name": "stderr",
          "output_type": "stream",
          "text": [
            "2023-12-29 18:07:42 a93c6a049b6a Coach[562] INFO PITTING AGAINST PREVIOUS VERSION\n",
            "Arena.playGames (1): 100%|██████████| 10/10 [09:36<00:00, 57.63s/it]\n",
            "Arena.playGames (2): 100%|██████████| 10/10 [10:12<00:00, 61.30s/it]\n",
            "2023-12-29 18:27:32 a93c6a049b6a Coach[562] INFO NEW/PREV WINS : 13 / 7 ; DRAWS : 0\n",
            "2023-12-29 18:27:32 a93c6a049b6a Coach[562] INFO ACCEPTING NEW MODEL\n"
          ]
        },
        {
          "name": "stdout",
          "output_type": "stream",
          "text": [
            "Checkpoint Directory exists! \n",
            "Checkpoint Directory exists! \n"
          ]
        },
        {
          "name": "stderr",
          "output_type": "stream",
          "text": [
            "2023-12-29 18:27:33 a93c6a049b6a Coach[562] INFO Starting Iter #6 ...\n",
            "Self Play: 100%|██████████| 25/25 [14:01<00:00, 33.67s/it]\n"
          ]
        },
        {
          "name": "stdout",
          "output_type": "stream",
          "text": [
            "Checkpoint Directory exists! \n",
            "Epoch 1/10\n",
            "388/388 [==============================] - 55s 141ms/step - loss: 1.0742 - pi_loss: 0.6750 - v_loss: 0.3993\n",
            "Epoch 2/10\n",
            "388/388 [==============================] - 53s 138ms/step - loss: 0.9620 - pi_loss: 0.5942 - v_loss: 0.3678\n",
            "Epoch 3/10\n",
            "388/388 [==============================] - 55s 143ms/step - loss: 0.9164 - pi_loss: 0.5666 - v_loss: 0.3498\n",
            "Epoch 4/10\n",
            "388/388 [==============================] - 53s 136ms/step - loss: 0.8876 - pi_loss: 0.5524 - v_loss: 0.3351\n",
            "Epoch 5/10\n",
            "388/388 [==============================] - 54s 140ms/step - loss: 0.8761 - pi_loss: 0.5457 - v_loss: 0.3305\n",
            "Epoch 6/10\n",
            "388/388 [==============================] - 55s 143ms/step - loss: 0.8595 - pi_loss: 0.5362 - v_loss: 0.3233\n",
            "Epoch 7/10\n",
            "388/388 [==============================] - 55s 141ms/step - loss: 0.8516 - pi_loss: 0.5330 - v_loss: 0.3186\n",
            "Epoch 8/10\n",
            "388/388 [==============================] - 55s 142ms/step - loss: 0.8419 - pi_loss: 0.5282 - v_loss: 0.3137\n",
            "Epoch 9/10\n",
            "388/388 [==============================] - 56s 144ms/step - loss: 0.8389 - pi_loss: 0.5268 - v_loss: 0.3121\n",
            "Epoch 10/10\n",
            "388/388 [==============================] - 55s 142ms/step - loss: 0.8332 - pi_loss: 0.5229 - v_loss: 0.3103\n"
          ]
        },
        {
          "name": "stderr",
          "output_type": "stream",
          "text": [
            "2023-12-29 18:50:48 a93c6a049b6a Coach[562] INFO PITTING AGAINST PREVIOUS VERSION\n",
            "Arena.playGames (1): 100%|██████████| 10/10 [08:28<00:00, 50.87s/it]\n",
            "Arena.playGames (2): 100%|██████████| 10/10 [11:16<00:00, 67.66s/it]\n",
            "2023-12-29 19:10:33 a93c6a049b6a Coach[562] INFO NEW/PREV WINS : 8 / 11 ; DRAWS : 1\n",
            "2023-12-29 19:10:33 a93c6a049b6a Coach[562] INFO REJECTING NEW MODEL\n",
            "2023-12-29 19:10:35 a93c6a049b6a Coach[562] INFO Starting Iter #7 ...\n",
            "Self Play: 100%|██████████| 25/25 [19:17<00:00, 46.30s/it]\n"
          ]
        },
        {
          "name": "stdout",
          "output_type": "stream",
          "text": [
            "Checkpoint Directory exists! \n",
            "Epoch 1/10\n",
            "462/462 [==============================] - 67s 142ms/step - loss: 1.2777 - pi_loss: 0.7650 - v_loss: 0.5127\n",
            "Epoch 2/10\n",
            "462/462 [==============================] - 63s 135ms/step - loss: 1.0937 - pi_loss: 0.6480 - v_loss: 0.4458\n",
            "Epoch 3/10\n",
            "462/462 [==============================] - 67s 144ms/step - loss: 1.0149 - pi_loss: 0.6049 - v_loss: 0.4100\n",
            "Epoch 4/10\n",
            "462/462 [==============================] - 68s 148ms/step - loss: 0.9733 - pi_loss: 0.5842 - v_loss: 0.3890\n",
            "Epoch 5/10\n",
            "462/462 [==============================] - 66s 143ms/step - loss: 0.9347 - pi_loss: 0.5656 - v_loss: 0.3692\n",
            "Epoch 6/10\n",
            "462/462 [==============================] - 68s 146ms/step - loss: 0.9130 - pi_loss: 0.5550 - v_loss: 0.3580\n",
            "Epoch 7/10\n",
            "462/462 [==============================] - 66s 143ms/step - loss: 0.8959 - pi_loss: 0.5501 - v_loss: 0.3458\n",
            "Epoch 8/10\n",
            "462/462 [==============================] - 62s 134ms/step - loss: 0.8825 - pi_loss: 0.5421 - v_loss: 0.3403\n",
            "Epoch 9/10\n",
            "462/462 [==============================] - 69s 150ms/step - loss: 0.8710 - pi_loss: 0.5377 - v_loss: 0.3333\n",
            "Epoch 10/10\n",
            "462/462 [==============================] - 67s 146ms/step - loss: 0.8659 - pi_loss: 0.5343 - v_loss: 0.3316\n"
          ]
        },
        {
          "name": "stderr",
          "output_type": "stream",
          "text": [
            "2023-12-29 19:41:23 a93c6a049b6a Coach[562] INFO PITTING AGAINST PREVIOUS VERSION\n",
            "Arena.playGames (1): 100%|██████████| 10/10 [10:46<00:00, 64.65s/it]\n",
            "Arena.playGames (2): 100%|██████████| 10/10 [13:01<00:00, 78.18s/it]\n",
            "2023-12-29 20:05:11 a93c6a049b6a Coach[562] INFO NEW/PREV WINS : 13 / 7 ; DRAWS : 0\n",
            "2023-12-29 20:05:11 a93c6a049b6a Coach[562] INFO ACCEPTING NEW MODEL\n"
          ]
        },
        {
          "name": "stdout",
          "output_type": "stream",
          "text": [
            "Checkpoint Directory exists! \n",
            "Checkpoint Directory exists! \n"
          ]
        },
        {
          "name": "stderr",
          "output_type": "stream",
          "text": [
            "2023-12-29 20:05:13 a93c6a049b6a Coach[562] INFO Starting Iter #8 ...\n",
            "Self Play: 100%|██████████| 25/25 [12:28<00:00, 29.92s/it]\n"
          ]
        },
        {
          "name": "stdout",
          "output_type": "stream",
          "text": [
            "Checkpoint Directory exists! \n",
            "Epoch 1/10\n",
            "516/516 [==============================] - 78s 152ms/step - loss: 1.0055 - pi_loss: 0.6064 - v_loss: 0.3991\n",
            "Epoch 2/10\n",
            "516/516 [==============================] - 78s 152ms/step - loss: 0.9429 - pi_loss: 0.5628 - v_loss: 0.3800\n",
            "Epoch 3/10\n",
            "516/516 [==============================] - 76s 148ms/step - loss: 0.9131 - pi_loss: 0.5497 - v_loss: 0.3634\n",
            "Epoch 4/10\n",
            "516/516 [==============================] - 75s 145ms/step - loss: 0.8956 - pi_loss: 0.5422 - v_loss: 0.3534\n",
            "Epoch 5/10\n",
            "516/516 [==============================] - 73s 142ms/step - loss: 0.8820 - pi_loss: 0.5373 - v_loss: 0.3447\n",
            "Epoch 6/10\n",
            "516/516 [==============================] - 80s 155ms/step - loss: 0.8738 - pi_loss: 0.5333 - v_loss: 0.3406\n",
            "Epoch 7/10\n",
            "516/516 [==============================] - 75s 146ms/step - loss: 0.8644 - pi_loss: 0.5299 - v_loss: 0.3344\n",
            "Epoch 8/10\n",
            "516/516 [==============================] - 77s 150ms/step - loss: 0.8563 - pi_loss: 0.5278 - v_loss: 0.3286\n",
            "Epoch 9/10\n",
            "516/516 [==============================] - 78s 151ms/step - loss: 0.8526 - pi_loss: 0.5256 - v_loss: 0.3270\n",
            "Epoch 10/10\n",
            "516/516 [==============================] - 77s 150ms/step - loss: 0.8471 - pi_loss: 0.5251 - v_loss: 0.3220\n"
          ]
        },
        {
          "name": "stderr",
          "output_type": "stream",
          "text": [
            "2023-12-29 20:30:36 a93c6a049b6a Coach[562] INFO PITTING AGAINST PREVIOUS VERSION\n",
            "Arena.playGames (1): 100%|██████████| 10/10 [10:06<00:00, 60.63s/it]\n",
            "Arena.playGames (2): 100%|██████████| 10/10 [00:53<00:00,  5.38s/it]\n",
            "2023-12-29 20:41:36 a93c6a049b6a Coach[562] INFO NEW/PREV WINS : 14 / 6 ; DRAWS : 0\n",
            "2023-12-29 20:41:36 a93c6a049b6a Coach[562] INFO ACCEPTING NEW MODEL\n"
          ]
        },
        {
          "name": "stdout",
          "output_type": "stream",
          "text": [
            "Checkpoint Directory exists! \n",
            "Checkpoint Directory exists! \n"
          ]
        },
        {
          "name": "stderr",
          "output_type": "stream",
          "text": [
            "2023-12-29 20:41:38 a93c6a049b6a Coach[562] INFO Starting Iter #9 ...\n",
            "Self Play: 100%|██████████| 25/25 [13:13<00:00, 31.72s/it]\n"
          ]
        },
        {
          "name": "stdout",
          "output_type": "stream",
          "text": [
            "Checkpoint Directory exists! \n",
            "Epoch 1/10\n",
            "575/575 [==============================] - 85s 147ms/step - loss: 0.9806 - pi_loss: 0.6111 - v_loss: 0.3695\n",
            "Epoch 2/10\n",
            "575/575 [==============================] - 86s 150ms/step - loss: 0.8952 - pi_loss: 0.5519 - v_loss: 0.3433\n",
            "Epoch 3/10\n",
            "575/575 [==============================] - 83s 144ms/step - loss: 0.8710 - pi_loss: 0.5374 - v_loss: 0.3335\n",
            "Epoch 4/10\n",
            "575/575 [==============================] - 81s 142ms/step - loss: 0.8545 - pi_loss: 0.5302 - v_loss: 0.3244\n",
            "Epoch 5/10\n",
            "575/575 [==============================] - 84s 147ms/step - loss: 0.8443 - pi_loss: 0.5259 - v_loss: 0.3184\n",
            "Epoch 6/10\n",
            "575/575 [==============================] - 77s 133ms/step - loss: 0.8428 - pi_loss: 0.5230 - v_loss: 0.3198\n",
            "Epoch 7/10\n",
            "575/575 [==============================] - 80s 139ms/step - loss: 0.8378 - pi_loss: 0.5213 - v_loss: 0.3165\n",
            "Epoch 8/10\n",
            "575/575 [==============================] - 80s 138ms/step - loss: 0.8306 - pi_loss: 0.5177 - v_loss: 0.3129\n",
            "Epoch 9/10\n",
            "575/575 [==============================] - 77s 134ms/step - loss: 0.8241 - pi_loss: 0.5147 - v_loss: 0.3095\n",
            "Epoch 10/10\n",
            "575/575 [==============================] - 81s 141ms/step - loss: 0.8235 - pi_loss: 0.5143 - v_loss: 0.3092\n"
          ]
        },
        {
          "name": "stderr",
          "output_type": "stream",
          "text": [
            "2023-12-29 21:09:20 a93c6a049b6a Coach[562] INFO PITTING AGAINST PREVIOUS VERSION\n",
            "Arena.playGames (1): 100%|██████████| 10/10 [11:44<00:00, 70.46s/it]\n",
            "Arena.playGames (2): 100%|██████████| 10/10 [08:46<00:00, 52.64s/it]\n",
            "2023-12-29 21:29:51 a93c6a049b6a Coach[562] INFO NEW/PREV WINS : 17 / 2 ; DRAWS : 1\n",
            "2023-12-29 21:29:51 a93c6a049b6a Coach[562] INFO ACCEPTING NEW MODEL\n"
          ]
        },
        {
          "name": "stdout",
          "output_type": "stream",
          "text": [
            "Checkpoint Directory exists! \n",
            "Checkpoint Directory exists! \n"
          ]
        },
        {
          "name": "stderr",
          "output_type": "stream",
          "text": [
            "2023-12-29 21:29:53 a93c6a049b6a Coach[562] INFO Starting Iter #10 ...\n",
            "Self Play: 100%|██████████| 25/25 [14:22<00:00, 34.51s/it]\n"
          ]
        },
        {
          "name": "stdout",
          "output_type": "stream",
          "text": [
            "Checkpoint Directory exists! \n",
            "Epoch 1/10\n",
            "639/639 [==============================] - 86s 134ms/step - loss: 0.9676 - pi_loss: 0.6006 - v_loss: 0.3670\n",
            "Epoch 2/10\n",
            "639/639 [==============================] - 86s 134ms/step - loss: 0.8951 - pi_loss: 0.5496 - v_loss: 0.3456\n",
            "Epoch 3/10\n",
            "639/639 [==============================] - 85s 133ms/step - loss: 0.8654 - pi_loss: 0.5346 - v_loss: 0.3308\n",
            "Epoch 4/10\n",
            "639/639 [==============================] - 96s 150ms/step - loss: 0.8508 - pi_loss: 0.5267 - v_loss: 0.3241\n",
            "Epoch 5/10\n",
            "639/639 [==============================] - 86s 135ms/step - loss: 0.8380 - pi_loss: 0.5194 - v_loss: 0.3187\n",
            "Epoch 6/10\n",
            "639/639 [==============================] - 86s 134ms/step - loss: 0.8330 - pi_loss: 0.5197 - v_loss: 0.3133\n",
            "Epoch 7/10\n",
            "639/639 [==============================] - 85s 133ms/step - loss: 0.8282 - pi_loss: 0.5155 - v_loss: 0.3127\n",
            "Epoch 8/10\n",
            "639/639 [==============================] - 89s 139ms/step - loss: 0.8225 - pi_loss: 0.5138 - v_loss: 0.3087\n",
            "Epoch 9/10\n",
            "639/639 [==============================] - 86s 135ms/step - loss: 0.8182 - pi_loss: 0.5102 - v_loss: 0.3080\n",
            "Epoch 10/10\n",
            "639/639 [==============================] - 84s 132ms/step - loss: 0.8141 - pi_loss: 0.5106 - v_loss: 0.3035\n"
          ]
        },
        {
          "name": "stderr",
          "output_type": "stream",
          "text": [
            "2023-12-29 21:59:45 a93c6a049b6a Coach[562] INFO PITTING AGAINST PREVIOUS VERSION\n",
            "Arena.playGames (1): 100%|██████████| 10/10 [08:57<00:00, 53.70s/it]\n",
            "Arena.playGames (2): 100%|██████████| 10/10 [09:28<00:00, 56.90s/it]\n",
            "2023-12-29 22:18:11 a93c6a049b6a Coach[562] INFO NEW/PREV WINS : 10 / 8 ; DRAWS : 2\n",
            "2023-12-29 22:18:11 a93c6a049b6a Coach[562] INFO REJECTING NEW MODEL\n",
            "2023-12-29 22:18:12 a93c6a049b6a Coach[562] INFO Starting Iter #11 ...\n",
            "Self Play: 100%|██████████| 25/25 [12:38<00:00, 30.34s/it]\n"
          ]
        },
        {
          "name": "stdout",
          "output_type": "stream",
          "text": [
            "Checkpoint Directory exists! \n",
            "Epoch 1/10\n",
            "694/694 [==============================] - 99s 140ms/step - loss: 1.0679 - pi_loss: 0.6546 - v_loss: 0.4133\n",
            "Epoch 2/10\n",
            "694/694 [==============================] - 95s 136ms/step - loss: 0.9614 - pi_loss: 0.5821 - v_loss: 0.3793\n",
            "Epoch 3/10\n",
            "694/694 [==============================] - 95s 137ms/step - loss: 0.9092 - pi_loss: 0.5527 - v_loss: 0.3565\n",
            "Epoch 4/10\n",
            "694/694 [==============================] - 96s 138ms/step - loss: 0.8872 - pi_loss: 0.5433 - v_loss: 0.3439\n",
            "Epoch 5/10\n",
            "694/694 [==============================] - 93s 134ms/step - loss: 0.8684 - pi_loss: 0.5325 - v_loss: 0.3359\n",
            "Epoch 6/10\n",
            "694/694 [==============================] - 94s 135ms/step - loss: 0.8579 - pi_loss: 0.5287 - v_loss: 0.3291\n",
            "Epoch 7/10\n",
            "694/694 [==============================] - 97s 140ms/step - loss: 0.8452 - pi_loss: 0.5239 - v_loss: 0.3213\n",
            "Epoch 8/10\n",
            "694/694 [==============================] - 92s 132ms/step - loss: 0.8380 - pi_loss: 0.5217 - v_loss: 0.3163\n",
            "Epoch 9/10\n",
            "694/694 [==============================] - 94s 135ms/step - loss: 0.8328 - pi_loss: 0.5182 - v_loss: 0.3145\n",
            "Epoch 10/10\n",
            "694/694 [==============================] - 93s 134ms/step - loss: 0.8316 - pi_loss: 0.5174 - v_loss: 0.3142\n"
          ]
        },
        {
          "name": "stderr",
          "output_type": "stream",
          "text": [
            "2023-12-29 22:47:22 a93c6a049b6a Coach[562] INFO PITTING AGAINST PREVIOUS VERSION\n",
            "Arena.playGames (1): 100%|██████████| 10/10 [10:08<00:00, 60.84s/it]\n",
            "Arena.playGames (2): 100%|██████████| 10/10 [09:14<00:00, 55.41s/it]\n",
            "2023-12-29 23:06:44 a93c6a049b6a Coach[562] INFO NEW/PREV WINS : 17 / 3 ; DRAWS : 0\n",
            "2023-12-29 23:06:44 a93c6a049b6a Coach[562] INFO ACCEPTING NEW MODEL\n"
          ]
        },
        {
          "name": "stdout",
          "output_type": "stream",
          "text": [
            "Checkpoint Directory exists! \n",
            "Checkpoint Directory exists! \n"
          ]
        },
        {
          "name": "stderr",
          "output_type": "stream",
          "text": [
            "2023-12-29 23:06:46 a93c6a049b6a Coach[562] INFO Starting Iter #12 ...\n",
            "Self Play: 100%|██████████| 25/25 [12:39<00:00, 30.37s/it]\n"
          ]
        },
        {
          "name": "stdout",
          "output_type": "stream",
          "text": [
            "Checkpoint Directory exists! \n",
            "Epoch 1/10\n",
            "750/750 [==============================] - 106s 141ms/step - loss: 0.9062 - pi_loss: 0.5710 - v_loss: 0.3353\n",
            "Epoch 2/10\n",
            "750/750 [==============================] - 111s 148ms/step - loss: 0.8553 - pi_loss: 0.5333 - v_loss: 0.3220\n",
            "Epoch 3/10\n",
            "750/750 [==============================] - 111s 149ms/step - loss: 0.8364 - pi_loss: 0.5217 - v_loss: 0.3147\n",
            "Epoch 4/10\n",
            "750/750 [==============================] - 106s 141ms/step - loss: 0.8244 - pi_loss: 0.5166 - v_loss: 0.3078\n",
            "Epoch 5/10\n",
            "750/750 [==============================] - 107s 143ms/step - loss: 0.8207 - pi_loss: 0.5158 - v_loss: 0.3050\n",
            "Epoch 6/10\n",
            "750/750 [==============================] - 105s 140ms/step - loss: 0.8136 - pi_loss: 0.5114 - v_loss: 0.3022\n",
            "Epoch 7/10\n",
            "750/750 [==============================] - 103s 138ms/step - loss: 0.8108 - pi_loss: 0.5109 - v_loss: 0.2999\n",
            "Epoch 8/10\n",
            "750/750 [==============================] - 109s 145ms/step - loss: 0.8087 - pi_loss: 0.5098 - v_loss: 0.2989\n",
            "Epoch 9/10\n",
            "750/750 [==============================] - 109s 145ms/step - loss: 0.8043 - pi_loss: 0.5074 - v_loss: 0.2969\n",
            "Epoch 10/10\n",
            "750/750 [==============================] - 104s 138ms/step - loss: 0.8014 - pi_loss: 0.5061 - v_loss: 0.2953\n"
          ]
        },
        {
          "name": "stderr",
          "output_type": "stream",
          "text": [
            "2023-12-29 23:37:26 a93c6a049b6a Coach[562] INFO PITTING AGAINST PREVIOUS VERSION\n",
            "Arena.playGames (1): 100%|██████████| 10/10 [10:27<00:00, 62.72s/it]\n",
            "Arena.playGames (2): 100%|██████████| 10/10 [07:49<00:00, 46.91s/it]\n",
            "2023-12-29 23:55:42 a93c6a049b6a Coach[562] INFO NEW/PREV WINS : 15 / 4 ; DRAWS : 1\n",
            "2023-12-29 23:55:42 a93c6a049b6a Coach[562] INFO ACCEPTING NEW MODEL\n"
          ]
        },
        {
          "name": "stdout",
          "output_type": "stream",
          "text": [
            "Checkpoint Directory exists! \n",
            "Checkpoint Directory exists! \n"
          ]
        },
        {
          "name": "stderr",
          "output_type": "stream",
          "text": [
            "2023-12-29 23:55:43 a93c6a049b6a Coach[562] INFO Starting Iter #13 ...\n",
            "Self Play: 100%|██████████| 25/25 [17:21<00:00, 41.65s/it]\n"
          ]
        },
        {
          "name": "stdout",
          "output_type": "stream",
          "text": [
            "Checkpoint Directory exists! \n",
            "Epoch 1/10\n",
            "822/822 [==============================] - 120s 146ms/step - loss: 0.8602 - pi_loss: 0.5388 - v_loss: 0.3214\n",
            "Epoch 2/10\n",
            "822/822 [==============================] - 121s 147ms/step - loss: 0.8135 - pi_loss: 0.5067 - v_loss: 0.3068\n",
            "Epoch 3/10\n",
            "822/822 [==============================] - 121s 147ms/step - loss: 0.8006 - pi_loss: 0.5004 - v_loss: 0.3002\n",
            "Epoch 4/10\n",
            "822/822 [==============================] - 123s 150ms/step - loss: 0.7921 - pi_loss: 0.4947 - v_loss: 0.2974\n",
            "Epoch 5/10\n",
            "822/822 [==============================] - 118s 144ms/step - loss: 0.7912 - pi_loss: 0.4970 - v_loss: 0.2942\n",
            "Epoch 6/10\n",
            "822/822 [==============================] - 123s 150ms/step - loss: 0.7838 - pi_loss: 0.4923 - v_loss: 0.2915\n",
            "Epoch 7/10\n",
            "822/822 [==============================] - 119s 145ms/step - loss: 0.7828 - pi_loss: 0.4924 - v_loss: 0.2904\n",
            "Epoch 8/10\n",
            "822/822 [==============================] - 125s 152ms/step - loss: 0.7798 - pi_loss: 0.4901 - v_loss: 0.2897\n",
            "Epoch 9/10\n",
            "822/822 [==============================] - 117s 142ms/step - loss: 0.7779 - pi_loss: 0.4890 - v_loss: 0.2888\n",
            "Epoch 10/10\n",
            "822/822 [==============================] - 122s 149ms/step - loss: 0.7752 - pi_loss: 0.4888 - v_loss: 0.2863\n"
          ]
        },
        {
          "name": "stderr",
          "output_type": "stream",
          "text": [
            "2023-12-30 00:33:23 a93c6a049b6a Coach[562] INFO PITTING AGAINST PREVIOUS VERSION\n",
            "Arena.playGames (1): 100%|██████████| 10/10 [10:14<00:00, 61.43s/it]\n",
            "Arena.playGames (2): 100%|██████████| 10/10 [08:54<00:00, 53.41s/it]\n",
            "2023-12-30 00:52:31 a93c6a049b6a Coach[562] INFO NEW/PREV WINS : 11 / 9 ; DRAWS : 0\n",
            "2023-12-30 00:52:31 a93c6a049b6a Coach[562] INFO REJECTING NEW MODEL\n",
            "2023-12-30 00:52:33 a93c6a049b6a Coach[562] INFO Starting Iter #14 ...\n",
            "Self Play: 100%|██████████| 25/25 [13:54<00:00, 33.37s/it]\n"
          ]
        },
        {
          "name": "stdout",
          "output_type": "stream",
          "text": [
            "Checkpoint Directory exists! \n",
            "Epoch 1/10\n",
            "878/878 [==============================] - 132s 148ms/step - loss: 0.9170 - pi_loss: 0.5712 - v_loss: 0.3458\n",
            "Epoch 2/10\n",
            "878/878 [==============================] - 128s 146ms/step - loss: 0.8347 - pi_loss: 0.5167 - v_loss: 0.3180\n",
            "Epoch 3/10\n",
            "878/878 [==============================] - 131s 149ms/step - loss: 0.8143 - pi_loss: 0.5061 - v_loss: 0.3082\n",
            "Epoch 4/10\n",
            "878/878 [==============================] - 129s 147ms/step - loss: 0.8010 - pi_loss: 0.4990 - v_loss: 0.3020\n",
            "Epoch 5/10\n",
            "878/878 [==============================] - 125s 143ms/step - loss: 0.7960 - pi_loss: 0.4982 - v_loss: 0.2978\n",
            "Epoch 6/10\n",
            "878/878 [==============================] - 122s 139ms/step - loss: 0.7873 - pi_loss: 0.4937 - v_loss: 0.2936\n",
            "Epoch 7/10\n",
            "878/878 [==============================] - 122s 138ms/step - loss: 0.7825 - pi_loss: 0.4912 - v_loss: 0.2913\n",
            "Epoch 8/10\n",
            "878/878 [==============================] - 119s 136ms/step - loss: 0.7800 - pi_loss: 0.4902 - v_loss: 0.2898\n",
            "Epoch 9/10\n",
            "878/878 [==============================] - 125s 143ms/step - loss: 0.7735 - pi_loss: 0.4883 - v_loss: 0.2852\n",
            "Epoch 10/10\n",
            "878/878 [==============================] - 123s 140ms/step - loss: 0.7750 - pi_loss: 0.4877 - v_loss: 0.2873\n"
          ]
        },
        {
          "name": "stderr",
          "output_type": "stream",
          "text": [
            "2023-12-30 01:28:02 a93c6a049b6a Coach[562] INFO PITTING AGAINST PREVIOUS VERSION\n",
            "Arena.playGames (1): 100%|██████████| 10/10 [09:03<00:00, 54.33s/it]\n",
            "Arena.playGames (2): 100%|██████████| 10/10 [09:32<00:00, 57.26s/it]\n",
            "2023-12-30 01:46:38 a93c6a049b6a Coach[562] INFO NEW/PREV WINS : 13 / 6 ; DRAWS : 1\n",
            "2023-12-30 01:46:38 a93c6a049b6a Coach[562] INFO ACCEPTING NEW MODEL\n"
          ]
        },
        {
          "name": "stdout",
          "output_type": "stream",
          "text": [
            "Checkpoint Directory exists! \n"
          ]
        },
        {
          "name": "stderr",
          "output_type": "stream",
          "text": [
            "2023-12-30 01:46:39 a93c6a049b6a Coach[562] INFO Starting Iter #15 ...\n"
          ]
        },
        {
          "name": "stdout",
          "output_type": "stream",
          "text": [
            "Checkpoint Directory exists! \n"
          ]
        },
        {
          "name": "stderr",
          "output_type": "stream",
          "text": [
            "Self Play: 100%|██████████| 25/25 [15:52<00:00, 38.10s/it]\n"
          ]
        },
        {
          "name": "stdout",
          "output_type": "stream",
          "text": [
            "Checkpoint Directory exists! \n",
            "Epoch 1/10\n",
            "945/945 [==============================] - 137s 145ms/step - loss: 0.8983 - pi_loss: 0.5526 - v_loss: 0.3456\n",
            "Epoch 2/10\n",
            "945/945 [==============================] - 130s 138ms/step - loss: 0.8423 - pi_loss: 0.5163 - v_loss: 0.3259\n",
            "Epoch 3/10\n",
            "945/945 [==============================] - 134s 142ms/step - loss: 0.8197 - pi_loss: 0.5041 - v_loss: 0.3156\n",
            "Epoch 4/10\n",
            "945/945 [==============================] - 133s 140ms/step - loss: 0.8080 - pi_loss: 0.4979 - v_loss: 0.3102\n",
            "Epoch 5/10\n",
            "945/945 [==============================] - 138s 146ms/step - loss: 0.7978 - pi_loss: 0.4937 - v_loss: 0.3041\n",
            "Epoch 6/10\n",
            "945/945 [==============================] - 142s 150ms/step - loss: 0.7917 - pi_loss: 0.4914 - v_loss: 0.3003\n",
            "Epoch 7/10\n",
            "945/945 [==============================] - 147s 155ms/step - loss: 0.7880 - pi_loss: 0.4894 - v_loss: 0.2986\n",
            "Epoch 8/10\n",
            "945/945 [==============================] - 143s 152ms/step - loss: 0.7823 - pi_loss: 0.4871 - v_loss: 0.2953\n",
            "Epoch 9/10\n",
            "945/945 [==============================] - 137s 145ms/step - loss: 0.7813 - pi_loss: 0.4869 - v_loss: 0.2944\n",
            "Epoch 10/10\n",
            "945/945 [==============================] - 147s 155ms/step - loss: 0.7782 - pi_loss: 0.4875 - v_loss: 0.2907\n"
          ]
        },
        {
          "name": "stderr",
          "output_type": "stream",
          "text": [
            "2023-12-30 02:26:06 a93c6a049b6a Coach[562] INFO PITTING AGAINST PREVIOUS VERSION\n",
            "Arena.playGames (1): 100%|██████████| 10/10 [11:37<00:00, 69.72s/it]\n",
            "Arena.playGames (2): 100%|██████████| 10/10 [11:47<00:00, 70.72s/it]\n",
            "2023-12-30 02:49:30 a93c6a049b6a Coach[562] INFO NEW/PREV WINS : 7 / 13 ; DRAWS : 0\n",
            "2023-12-30 02:49:30 a93c6a049b6a Coach[562] INFO REJECTING NEW MODEL\n",
            "2023-12-30 02:49:32 a93c6a049b6a Coach[562] INFO Starting Iter #16 ...\n",
            "Self Play: 100%|██████████| 25/25 [14:15<00:00, 34.22s/it]\n"
          ]
        },
        {
          "name": "stdout",
          "output_type": "stream",
          "text": [
            "Checkpoint Directory exists! \n",
            "Epoch 1/10\n",
            "1003/1003 [==============================] - 142s 139ms/step - loss: 0.9686 - pi_loss: 0.5950 - v_loss: 0.3736\n",
            "Epoch 2/10\n",
            "1003/1003 [==============================] - 138s 138ms/step - loss: 0.8840 - pi_loss: 0.5396 - v_loss: 0.3444\n",
            "Epoch 3/10\n",
            "1003/1003 [==============================] - 139s 139ms/step - loss: 0.8511 - pi_loss: 0.5209 - v_loss: 0.3302\n",
            "Epoch 4/10\n",
            "1003/1003 [==============================] - 138s 138ms/step - loss: 0.8296 - pi_loss: 0.5098 - v_loss: 0.3199\n",
            "Epoch 5/10\n",
            "1003/1003 [==============================] - 137s 137ms/step - loss: 0.8166 - pi_loss: 0.5052 - v_loss: 0.3114\n",
            "Epoch 6/10\n",
            "1003/1003 [==============================] - 140s 140ms/step - loss: 0.8049 - pi_loss: 0.4999 - v_loss: 0.3050\n",
            "Epoch 7/10\n",
            "1003/1003 [==============================] - 140s 139ms/step - loss: 0.8013 - pi_loss: 0.4978 - v_loss: 0.3035\n",
            "Epoch 8/10\n",
            "1003/1003 [==============================] - 137s 137ms/step - loss: 0.7951 - pi_loss: 0.4952 - v_loss: 0.2998\n",
            "Epoch 9/10\n",
            "1003/1003 [==============================] - 137s 137ms/step - loss: 0.7886 - pi_loss: 0.4929 - v_loss: 0.2957\n",
            "Epoch 10/10\n",
            "1003/1003 [==============================] - 138s 138ms/step - loss: 0.7877 - pi_loss: 0.4925 - v_loss: 0.2951\n"
          ]
        },
        {
          "name": "stderr",
          "output_type": "stream",
          "text": [
            "2023-12-30 03:27:23 a93c6a049b6a Coach[562] INFO PITTING AGAINST PREVIOUS VERSION\n",
            "Arena.playGames (1): 100%|██████████| 10/10 [09:35<00:00, 57.59s/it]\n",
            "Arena.playGames (2): 100%|██████████| 10/10 [08:34<00:00, 51.42s/it]\n",
            "2023-12-30 03:45:33 a93c6a049b6a Coach[562] INFO NEW/PREV WINS : 15 / 5 ; DRAWS : 0\n",
            "2023-12-30 03:45:33 a93c6a049b6a Coach[562] INFO ACCEPTING NEW MODEL\n"
          ]
        },
        {
          "name": "stdout",
          "output_type": "stream",
          "text": [
            "Checkpoint Directory exists! \n",
            "Checkpoint Directory exists! \n"
          ]
        },
        {
          "name": "stderr",
          "output_type": "stream",
          "text": [
            "2023-12-30 03:45:34 a93c6a049b6a Coach[562] INFO Starting Iter #17 ...\n",
            "Self Play:   0%|          | 0/25 [00:00<?, ?it/s]"
          ]
        }
      ],
      "source": [
        "args = dotdict({\n",
        "    'numIters':20,\n",
        "    'numEps': 25,              # Number of complete self-play games to simulate during a new iteration.\n",
        "    'tempThreshold': 15,        #\n",
        "    'updateThreshold': 0.6,     # During arena playoff, new neural net will be accepted if threshold or more of games are won.\n",
        "    'maxlenOfQueue': 50000,    # Number of game examples to train the neural networks.\n",
        "    'numMCTSSims': 25,          # Number of games moves for MCTS to simulate.\n",
        "    'arenaCompare': 20,         # Number of games to play during arena play to determine if new net will be accepted.\n",
        "    'cpuct': 1,\n",
        "\n",
        "    'checkpoint': '/content/drive/MyDrive/trabalho2_liacd/models/ataxx/5x5',\n",
        "    'load_model': True,\n",
        "    'load_folder_file': ('/content/drive/MyDrive/trabalho2_liacd/models/ataxx/5x5', 'best.h5'),\n",
        "    'numItersForTrainExamplesHistory': 20,\n",
        "\n",
        "})\n",
        "\n",
        "\n",
        "log.info('Loading %s...', Game.__name__)\n",
        "g = Game(5)\n",
        "\n",
        "log.info('Loading %s...', nn.__name__)\n",
        "nnet = nn(g)\n",
        "\n",
        "if args.load_model:\n",
        "    log.info('Loading checkpoint \"%s/%s\"...', args.load_folder_file[0], args.load_folder_file[1])\n",
        "    nnet.load_model(args.load_folder_file[0], args.load_folder_file[1])\n",
        "else:\n",
        "    log.warning('Not loading a checkpoint!')\n",
        "\n",
        "log.info('Loading the Coach...')\n",
        "c = Coach(g, nnet, args)\n",
        "\n",
        "if args.load_model:\n",
        "    log.info(\"Loading 'trainExamples' from file...\")\n",
        "    c.loadTrainExamples()\n",
        "\n",
        "log.info('Starting the learning process 🎉')\n",
        "c.learn()\n",
        "\n"
      ]
    },
    {
      "cell_type": "markdown",
      "metadata": {
        "id": "rjdDkgXrtAYQ"
      },
      "source": [
        "#Nono Treino"
      ]
    },
    {
      "cell_type": "code",
      "execution_count": null,
      "metadata": {
        "colab": {
          "base_uri": "https://localhost:8080/"
        },
        "id": "NdqyKsubtCZZ",
        "outputId": "d2c567a5-26b5-4b08-940f-a1d26ea3bbcd"
      },
      "outputs": [
        {
          "name": "stderr",
          "output_type": "stream",
          "text": [
            "2023-12-30 12:30:27 110595901d38 __main__[929] INFO Loading AtaxxGame...\n",
            "2023-12-30 12:30:27 110595901d38 __main__[929] INFO Loading NNetWrapper...\n",
            "2023-12-30 12:30:27 110595901d38 __main__[929] INFO Loading checkpoint \"/content/drive/MyDrive/trabalho2_liacd/models/ataxx/5x5/best.h5\"...\n",
            "2023-12-30 12:30:29 110595901d38 __main__[929] INFO Loading the Coach...\n",
            "2023-12-30 12:30:29 110595901d38 __main__[929] INFO Loading 'trainExamples' from file...\n",
            "2023-12-30 12:30:29 110595901d38 Coach[929] WARNING File \"/content/drive/MyDrive/trabalho2_liacd/models/ataxx/5x5/best.h5.examples\" with trainExamples not found!\n"
          ]
        },
        {
          "name": "stdout",
          "output_type": "stream",
          "text": [
            "Continue? [y|n]y\n"
          ]
        },
        {
          "name": "stderr",
          "output_type": "stream",
          "text": [
            "2023-12-30 12:31:13 110595901d38 __main__[929] INFO Starting the learning process 🎉\n",
            "2023-12-30 12:31:13 110595901d38 Coach[929] INFO Starting Iter #1 ...\n",
            "Self Play: 100%|██████████| 25/25 [05:03<00:00, 12.14s/it]\n"
          ]
        },
        {
          "name": "stdout",
          "output_type": "stream",
          "text": [
            "Checkpoint Directory exists! \n"
          ]
        },
        {
          "name": "stderr",
          "output_type": "stream",
          "text": [
            "/usr/local/lib/python3.10/dist-packages/keras/src/engine/training.py:3103: UserWarning: You are saving your model as an HDF5 file via `model.save()`. This file format is considered legacy. We recommend using instead the native Keras format, e.g. `model.save('my_model.keras')`.\n",
            "  saving_api.save_model(\n"
          ]
        },
        {
          "name": "stdout",
          "output_type": "stream",
          "text": [
            "Epoch 1/10\n",
            "47/47 [==============================] - 5s 83ms/step - loss: 1.6399 - pi_loss: 1.0777 - v_loss: 0.5622\n",
            "Epoch 2/10\n",
            "47/47 [==============================] - 5s 99ms/step - loss: 1.0554 - pi_loss: 0.7164 - v_loss: 0.3390\n",
            "Epoch 3/10\n",
            "47/47 [==============================] - 4s 78ms/step - loss: 0.8528 - pi_loss: 0.6074 - v_loss: 0.2454\n",
            "Epoch 4/10\n",
            "47/47 [==============================] - 4s 79ms/step - loss: 0.7735 - pi_loss: 0.5646 - v_loss: 0.2089\n",
            "Epoch 5/10\n",
            "47/47 [==============================] - 4s 87ms/step - loss: 0.6979 - pi_loss: 0.5276 - v_loss: 0.1703\n",
            "Epoch 6/10\n",
            "47/47 [==============================] - 4s 85ms/step - loss: 0.6671 - pi_loss: 0.5141 - v_loss: 0.1530\n",
            "Epoch 7/10\n",
            "47/47 [==============================] - 4s 81ms/step - loss: 0.6321 - pi_loss: 0.4924 - v_loss: 0.1396\n",
            "Epoch 8/10\n",
            "47/47 [==============================] - 4s 82ms/step - loss: 0.6120 - pi_loss: 0.4848 - v_loss: 0.1272\n",
            "Epoch 9/10\n",
            "47/47 [==============================] - 4s 90ms/step - loss: 0.6059 - pi_loss: 0.4779 - v_loss: 0.1280\n",
            "Epoch 10/10\n",
            "47/47 [==============================] - 4s 82ms/step - loss: 0.5897 - pi_loss: 0.4739 - v_loss: 0.1158\n"
          ]
        },
        {
          "name": "stderr",
          "output_type": "stream",
          "text": [
            "2023-12-30 12:37:00 110595901d38 Coach[929] INFO PITTING AGAINST PREVIOUS VERSION\n",
            "Arena.playGames (1): 100%|██████████| 10/10 [05:21<00:00, 32.13s/it]\n",
            "Arena.playGames (2): 100%|██████████| 10/10 [04:11<00:00, 25.12s/it]\n",
            "2023-12-30 12:46:33 110595901d38 Coach[929] INFO NEW/PREV WINS : 8 / 8 ; DRAWS : 4\n",
            "2023-12-30 12:46:33 110595901d38 Coach[929] INFO REJECTING NEW MODEL\n",
            "2023-12-30 12:46:34 110595901d38 Coach[929] INFO Starting Iter #2 ...\n",
            "Self Play: 100%|██████████| 25/25 [07:07<00:00, 17.10s/it]\n"
          ]
        },
        {
          "name": "stdout",
          "output_type": "stream",
          "text": [
            "Checkpoint Directory exists! \n",
            "Epoch 1/10\n",
            "107/107 [==============================] - 10s 87ms/step - loss: 1.7013 - pi_loss: 0.9545 - v_loss: 0.7467\n",
            "Epoch 2/10\n",
            "107/107 [==============================] - 9s 87ms/step - loss: 1.2153 - pi_loss: 0.6504 - v_loss: 0.5649\n",
            "Epoch 3/10\n",
            "107/107 [==============================] - 8s 79ms/step - loss: 1.0537 - pi_loss: 0.5640 - v_loss: 0.4897\n",
            "Epoch 4/10\n",
            "107/107 [==============================] - 9s 86ms/step - loss: 0.9584 - pi_loss: 0.5138 - v_loss: 0.4446\n",
            "Epoch 5/10\n",
            "107/107 [==============================] - 9s 86ms/step - loss: 0.9005 - pi_loss: 0.4909 - v_loss: 0.4096\n",
            "Epoch 6/10\n",
            "107/107 [==============================] - 8s 79ms/step - loss: 0.8565 - pi_loss: 0.4798 - v_loss: 0.3766\n",
            "Epoch 7/10\n",
            "107/107 [==============================] - 9s 84ms/step - loss: 0.8120 - pi_loss: 0.4582 - v_loss: 0.3538\n",
            "Epoch 8/10\n",
            "107/107 [==============================] - 9s 85ms/step - loss: 0.7818 - pi_loss: 0.4490 - v_loss: 0.3328\n",
            "Epoch 9/10\n",
            "107/107 [==============================] - 9s 85ms/step - loss: 0.7639 - pi_loss: 0.4418 - v_loss: 0.3221\n",
            "Epoch 10/10\n",
            "107/107 [==============================] - 8s 79ms/step - loss: 0.7521 - pi_loss: 0.4419 - v_loss: 0.3103\n"
          ]
        },
        {
          "name": "stderr",
          "output_type": "stream",
          "text": [
            "2023-12-30 12:55:13 110595901d38 Coach[929] INFO PITTING AGAINST PREVIOUS VERSION\n",
            "Arena.playGames (1): 100%|██████████| 10/10 [06:48<00:00, 40.82s/it]\n",
            "Arena.playGames (2): 100%|██████████| 10/10 [04:08<00:00, 24.89s/it]\n",
            "2023-12-30 13:06:10 110595901d38 Coach[929] INFO NEW/PREV WINS : 12 / 8 ; DRAWS : 0\n",
            "2023-12-30 13:06:10 110595901d38 Coach[929] INFO ACCEPTING NEW MODEL\n"
          ]
        },
        {
          "name": "stdout",
          "output_type": "stream",
          "text": [
            "Checkpoint Directory exists! \n"
          ]
        },
        {
          "name": "stderr",
          "output_type": "stream",
          "text": [
            "2023-12-30 13:06:11 110595901d38 Coach[929] INFO Starting Iter #3 ...\n"
          ]
        },
        {
          "name": "stdout",
          "output_type": "stream",
          "text": [
            "Checkpoint Directory exists! \n"
          ]
        },
        {
          "name": "stderr",
          "output_type": "stream",
          "text": [
            "Self Play: 100%|██████████| 25/25 [09:47<00:00, 23.49s/it]\n"
          ]
        },
        {
          "name": "stdout",
          "output_type": "stream",
          "text": [
            "Checkpoint Directory exists! \n",
            "Epoch 1/10\n",
            "182/182 [==============================] - 16s 86ms/step - loss: 1.0630 - pi_loss: 0.6387 - v_loss: 0.4243\n",
            "Epoch 2/10\n",
            "182/182 [==============================] - 15s 85ms/step - loss: 0.8471 - pi_loss: 0.4960 - v_loss: 0.3511\n",
            "Epoch 3/10\n",
            "182/182 [==============================] - 21s 114ms/step - loss: 0.7905 - pi_loss: 0.4636 - v_loss: 0.3269\n",
            "Epoch 4/10\n",
            "182/182 [==============================] - 16s 89ms/step - loss: 0.7477 - pi_loss: 0.4393 - v_loss: 0.3085\n",
            "Epoch 5/10\n",
            "182/182 [==============================] - 16s 89ms/step - loss: 0.7323 - pi_loss: 0.4302 - v_loss: 0.3021\n",
            "Epoch 6/10\n",
            "182/182 [==============================] - 17s 93ms/step - loss: 0.7247 - pi_loss: 0.4262 - v_loss: 0.2985\n",
            "Epoch 7/10\n",
            "182/182 [==============================] - 16s 87ms/step - loss: 0.7099 - pi_loss: 0.4215 - v_loss: 0.2884\n",
            "Epoch 8/10\n",
            "182/182 [==============================] - 16s 90ms/step - loss: 0.7070 - pi_loss: 0.4185 - v_loss: 0.2886\n",
            "Epoch 9/10\n",
            "182/182 [==============================] - 16s 89ms/step - loss: 0.6981 - pi_loss: 0.4145 - v_loss: 0.2836\n",
            "Epoch 10/10\n",
            "182/182 [==============================] - 17s 93ms/step - loss: 0.6900 - pi_loss: 0.4098 - v_loss: 0.2802\n"
          ]
        },
        {
          "name": "stderr",
          "output_type": "stream",
          "text": [
            "2023-12-30 13:19:22 110595901d38 Coach[929] INFO PITTING AGAINST PREVIOUS VERSION\n",
            "Arena.playGames (1): 100%|██████████| 10/10 [05:51<00:00, 35.14s/it]\n",
            "Arena.playGames (2): 100%|██████████| 10/10 [03:45<00:00, 22.59s/it]\n",
            "2023-12-30 13:29:00 110595901d38 Coach[929] INFO NEW/PREV WINS : 11 / 9 ; DRAWS : 0\n",
            "2023-12-30 13:29:00 110595901d38 Coach[929] INFO REJECTING NEW MODEL\n",
            "2023-12-30 13:29:01 110595901d38 Coach[929] INFO Starting Iter #4 ...\n",
            "Self Play: 100%|██████████| 25/25 [10:31<00:00, 25.25s/it]\n"
          ]
        },
        {
          "name": "stdout",
          "output_type": "stream",
          "text": [
            "Checkpoint Directory exists! \n",
            "Epoch 1/10\n",
            "261/261 [==============================] - 24s 87ms/step - loss: 1.2627 - pi_loss: 0.7381 - v_loss: 0.5246\n",
            "Epoch 2/10\n",
            "261/261 [==============================] - 22s 86ms/step - loss: 0.9813 - pi_loss: 0.5520 - v_loss: 0.4293\n",
            "Epoch 3/10\n",
            "261/261 [==============================] - 22s 84ms/step - loss: 0.8790 - pi_loss: 0.4956 - v_loss: 0.3834\n",
            "Epoch 4/10\n",
            "261/261 [==============================] - 24s 91ms/step - loss: 0.8234 - pi_loss: 0.4654 - v_loss: 0.3579\n",
            "Epoch 5/10\n",
            "261/261 [==============================] - 22s 86ms/step - loss: 0.7820 - pi_loss: 0.4457 - v_loss: 0.3363\n",
            "Epoch 6/10\n",
            "261/261 [==============================] - 22s 86ms/step - loss: 0.7488 - pi_loss: 0.4318 - v_loss: 0.3170\n",
            "Epoch 7/10\n",
            "261/261 [==============================] - 22s 85ms/step - loss: 0.7350 - pi_loss: 0.4238 - v_loss: 0.3112\n",
            "Epoch 8/10\n",
            "261/261 [==============================] - 22s 85ms/step - loss: 0.7170 - pi_loss: 0.4159 - v_loss: 0.3011\n",
            "Epoch 9/10\n",
            "261/261 [==============================] - 22s 86ms/step - loss: 0.7019 - pi_loss: 0.4121 - v_loss: 0.2898\n",
            "Epoch 10/10\n",
            "261/261 [==============================] - 23s 89ms/step - loss: 0.6932 - pi_loss: 0.4083 - v_loss: 0.2850\n"
          ]
        },
        {
          "name": "stderr",
          "output_type": "stream",
          "text": [
            "2023-12-30 13:43:57 110595901d38 Coach[929] INFO PITTING AGAINST PREVIOUS VERSION\n",
            "Arena.playGames (1): 100%|██████████| 10/10 [04:31<00:00, 27.19s/it]\n",
            "Arena.playGames (2): 100%|██████████| 10/10 [06:44<00:00, 40.44s/it]\n",
            "2023-12-30 13:55:13 110595901d38 Coach[929] INFO NEW/PREV WINS : 7 / 13 ; DRAWS : 0\n",
            "2023-12-30 13:55:13 110595901d38 Coach[929] INFO REJECTING NEW MODEL\n",
            "2023-12-30 13:55:15 110595901d38 Coach[929] INFO Starting Iter #5 ...\n",
            "Self Play: 100%|██████████| 25/25 [08:18<00:00, 19.92s/it]\n"
          ]
        },
        {
          "name": "stdout",
          "output_type": "stream",
          "text": [
            "Checkpoint Directory exists! \n",
            "Epoch 1/10\n",
            "321/321 [==============================] - 28s 85ms/step - loss: 1.2621 - pi_loss: 0.7190 - v_loss: 0.5431\n",
            "Epoch 2/10\n",
            "321/321 [==============================] - 27s 85ms/step - loss: 0.9769 - pi_loss: 0.5439 - v_loss: 0.4329\n",
            "Epoch 3/10\n",
            "321/321 [==============================] - 27s 84ms/step - loss: 0.8764 - pi_loss: 0.4879 - v_loss: 0.3885\n",
            "Epoch 4/10\n",
            "321/321 [==============================] - 27s 85ms/step - loss: 0.8076 - pi_loss: 0.4530 - v_loss: 0.3546\n",
            "Epoch 5/10\n",
            "321/321 [==============================] - 28s 87ms/step - loss: 0.7686 - pi_loss: 0.4329 - v_loss: 0.3356\n",
            "Epoch 6/10\n",
            "321/321 [==============================] - 28s 86ms/step - loss: 0.7441 - pi_loss: 0.4230 - v_loss: 0.3212\n",
            "Epoch 7/10\n",
            "321/321 [==============================] - 27s 85ms/step - loss: 0.7233 - pi_loss: 0.4164 - v_loss: 0.3069\n",
            "Epoch 8/10\n",
            "321/321 [==============================] - 28s 88ms/step - loss: 0.7049 - pi_loss: 0.4058 - v_loss: 0.2991\n",
            "Epoch 9/10\n",
            "321/321 [==============================] - 27s 85ms/step - loss: 0.6926 - pi_loss: 0.4020 - v_loss: 0.2906\n",
            "Epoch 10/10\n",
            "321/321 [==============================] - 27s 85ms/step - loss: 0.6795 - pi_loss: 0.3964 - v_loss: 0.2831\n"
          ]
        },
        {
          "name": "stderr",
          "output_type": "stream",
          "text": [
            "2023-12-30 14:08:58 110595901d38 Coach[929] INFO PITTING AGAINST PREVIOUS VERSION\n",
            "Arena.playGames (1): 100%|██████████| 10/10 [05:27<00:00, 32.80s/it]\n",
            "Arena.playGames (2): 100%|██████████| 10/10 [04:06<00:00, 24.63s/it]\n",
            "2023-12-30 14:18:33 110595901d38 Coach[929] INFO NEW/PREV WINS : 7 / 12 ; DRAWS : 1\n",
            "2023-12-30 14:18:33 110595901d38 Coach[929] INFO REJECTING NEW MODEL\n",
            "2023-12-30 14:18:34 110595901d38 Coach[929] INFO Starting Iter #6 ...\n",
            "Self Play: 100%|██████████| 25/25 [07:27<00:00, 17.89s/it]\n"
          ]
        },
        {
          "name": "stdout",
          "output_type": "stream",
          "text": [
            "Checkpoint Directory exists! \n",
            "Epoch 1/10\n",
            "373/373 [==============================] - 35s 90ms/step - loss: 1.2750 - pi_loss: 0.7188 - v_loss: 0.5562\n",
            "Epoch 2/10\n",
            "373/373 [==============================] - 33s 89ms/step - loss: 0.9904 - pi_loss: 0.5426 - v_loss: 0.4478\n",
            "Epoch 3/10\n",
            "373/373 [==============================] - 32s 87ms/step - loss: 0.8951 - pi_loss: 0.4886 - v_loss: 0.4065\n",
            "Epoch 4/10\n",
            "373/373 [==============================] - 33s 89ms/step - loss: 0.8296 - pi_loss: 0.4598 - v_loss: 0.3698\n",
            "Epoch 5/10\n",
            "373/373 [==============================] - 33s 88ms/step - loss: 0.7967 - pi_loss: 0.4442 - v_loss: 0.3525\n",
            "Epoch 6/10\n",
            "373/373 [==============================] - 33s 89ms/step - loss: 0.7581 - pi_loss: 0.4260 - v_loss: 0.3321\n",
            "Epoch 7/10\n",
            "373/373 [==============================] - 33s 89ms/step - loss: 0.7451 - pi_loss: 0.4213 - v_loss: 0.3238\n",
            "Epoch 8/10\n",
            "373/373 [==============================] - 33s 88ms/step - loss: 0.7196 - pi_loss: 0.4090 - v_loss: 0.3107\n",
            "Epoch 9/10\n",
            "373/373 [==============================] - 33s 90ms/step - loss: 0.7109 - pi_loss: 0.4086 - v_loss: 0.3023\n",
            "Epoch 10/10\n",
            "373/373 [==============================] - 34s 91ms/step - loss: 0.7021 - pi_loss: 0.4012 - v_loss: 0.3009\n"
          ]
        },
        {
          "name": "stderr",
          "output_type": "stream",
          "text": [
            "2023-12-30 14:31:36 110595901d38 Coach[929] INFO PITTING AGAINST PREVIOUS VERSION\n",
            "Arena.playGames (1): 100%|██████████| 10/10 [05:47<00:00, 34.71s/it]\n",
            "Arena.playGames (2): 100%|██████████| 10/10 [07:05<00:00, 42.53s/it]\n",
            "2023-12-30 14:44:29 110595901d38 Coach[929] INFO NEW/PREV WINS : 10 / 10 ; DRAWS : 0\n",
            "2023-12-30 14:44:29 110595901d38 Coach[929] INFO REJECTING NEW MODEL\n",
            "2023-12-30 14:44:31 110595901d38 Coach[929] INFO Starting Iter #7 ...\n",
            "Self Play: 100%|██████████| 25/25 [08:47<00:00, 21.09s/it]\n"
          ]
        },
        {
          "name": "stdout",
          "output_type": "stream",
          "text": [
            "Checkpoint Directory exists! \n",
            "Epoch 1/10\n",
            "436/436 [==============================] - 39s 86ms/step - loss: 1.2719 - pi_loss: 0.7222 - v_loss: 0.5497\n",
            "Epoch 2/10\n",
            "436/436 [==============================] - 37s 86ms/step - loss: 0.9953 - pi_loss: 0.5540 - v_loss: 0.4413\n",
            "Epoch 3/10\n",
            "436/436 [==============================] - 38s 86ms/step - loss: 0.8912 - pi_loss: 0.4969 - v_loss: 0.3943\n",
            "Epoch 4/10\n",
            "436/436 [==============================] - 37s 86ms/step - loss: 0.8270 - pi_loss: 0.4651 - v_loss: 0.3620\n",
            "Epoch 5/10\n",
            "436/436 [==============================] - 37s 86ms/step - loss: 0.7828 - pi_loss: 0.4437 - v_loss: 0.3391\n",
            "Epoch 6/10\n",
            "436/436 [==============================] - 38s 86ms/step - loss: 0.7470 - pi_loss: 0.4250 - v_loss: 0.3219\n",
            "Epoch 7/10\n",
            "436/436 [==============================] - 37s 86ms/step - loss: 0.7271 - pi_loss: 0.4165 - v_loss: 0.3106\n",
            "Epoch 8/10\n",
            "436/436 [==============================] - 37s 85ms/step - loss: 0.7099 - pi_loss: 0.4094 - v_loss: 0.3005\n",
            "Epoch 9/10\n",
            "436/436 [==============================] - 37s 85ms/step - loss: 0.6980 - pi_loss: 0.4033 - v_loss: 0.2948\n",
            "Epoch 10/10\n",
            "436/436 [==============================] - 39s 90ms/step - loss: 0.6900 - pi_loss: 0.4007 - v_loss: 0.2893\n"
          ]
        },
        {
          "name": "stderr",
          "output_type": "stream",
          "text": [
            "2023-12-30 14:59:39 110595901d38 Coach[929] INFO PITTING AGAINST PREVIOUS VERSION\n",
            "Arena.playGames (1): 100%|██████████| 10/10 [05:29<00:00, 32.98s/it]\n",
            "Arena.playGames (2): 100%|██████████| 10/10 [02:57<00:00, 17.77s/it]\n",
            "2023-12-30 15:08:07 110595901d38 Coach[929] INFO NEW/PREV WINS : 3 / 11 ; DRAWS : 6\n",
            "2023-12-30 15:08:07 110595901d38 Coach[929] INFO REJECTING NEW MODEL\n",
            "2023-12-30 15:08:08 110595901d38 Coach[929] INFO Starting Iter #8 ...\n",
            "Self Play: 100%|██████████| 25/25 [09:28<00:00, 22.75s/it]\n"
          ]
        },
        {
          "name": "stdout",
          "output_type": "stream",
          "text": [
            "Checkpoint Directory exists! \n",
            "Epoch 1/10\n",
            "504/504 [==============================] - 45s 88ms/step - loss: 1.3039 - pi_loss: 0.7440 - v_loss: 0.5599\n",
            "Epoch 2/10\n",
            "504/504 [==============================] - 44s 87ms/step - loss: 1.0309 - pi_loss: 0.5735 - v_loss: 0.4575\n",
            "Epoch 3/10\n",
            "504/504 [==============================] - 44s 87ms/step - loss: 0.9277 - pi_loss: 0.5163 - v_loss: 0.4115\n",
            "Epoch 4/10\n",
            "504/504 [==============================] - 44s 88ms/step - loss: 0.8543 - pi_loss: 0.4787 - v_loss: 0.3756\n",
            "Epoch 5/10\n",
            "504/504 [==============================] - 44s 87ms/step - loss: 0.8086 - pi_loss: 0.4562 - v_loss: 0.3524\n",
            "Epoch 6/10\n",
            "504/504 [==============================] - 43s 86ms/step - loss: 0.7716 - pi_loss: 0.4368 - v_loss: 0.3348\n",
            "Epoch 7/10\n",
            "504/504 [==============================] - 43s 86ms/step - loss: 0.7439 - pi_loss: 0.4242 - v_loss: 0.3198\n",
            "Epoch 8/10\n",
            "504/504 [==============================] - 44s 88ms/step - loss: 0.7274 - pi_loss: 0.4149 - v_loss: 0.3125\n",
            "Epoch 9/10\n",
            "504/504 [==============================] - 44s 87ms/step - loss: 0.7109 - pi_loss: 0.4072 - v_loss: 0.3037\n",
            "Epoch 10/10\n",
            "504/504 [==============================] - 45s 88ms/step - loss: 0.6974 - pi_loss: 0.4032 - v_loss: 0.2942\n"
          ]
        },
        {
          "name": "stderr",
          "output_type": "stream",
          "text": [
            "2023-12-30 15:25:00 110595901d38 Coach[929] INFO PITTING AGAINST PREVIOUS VERSION\n",
            "Arena.playGames (1): 100%|██████████| 10/10 [05:47<00:00, 34.75s/it]\n",
            "Arena.playGames (2): 100%|██████████| 10/10 [05:40<00:00, 34.01s/it]\n",
            "2023-12-30 15:36:28 110595901d38 Coach[929] INFO NEW/PREV WINS : 12 / 8 ; DRAWS : 0\n",
            "2023-12-30 15:36:28 110595901d38 Coach[929] INFO ACCEPTING NEW MODEL\n"
          ]
        },
        {
          "name": "stdout",
          "output_type": "stream",
          "text": [
            "Checkpoint Directory exists! \n",
            "Checkpoint Directory exists! \n"
          ]
        },
        {
          "name": "stderr",
          "output_type": "stream",
          "text": [
            "2023-12-30 15:36:30 110595901d38 Coach[929] INFO Starting Iter #9 ...\n",
            "Self Play: 100%|██████████| 25/25 [07:35<00:00, 18.22s/it]\n"
          ]
        },
        {
          "name": "stdout",
          "output_type": "stream",
          "text": [
            "Checkpoint Directory exists! \n",
            "Epoch 1/10\n",
            "564/564 [==============================] - 51s 90ms/step - loss: 0.8163 - pi_loss: 0.4764 - v_loss: 0.3400\n",
            "Epoch 2/10\n",
            "564/564 [==============================] - 50s 89ms/step - loss: 0.7485 - pi_loss: 0.4279 - v_loss: 0.3205\n",
            "Epoch 3/10\n",
            "564/564 [==============================] - 50s 88ms/step - loss: 0.7279 - pi_loss: 0.4150 - v_loss: 0.3129\n",
            "Epoch 4/10\n",
            "564/564 [==============================] - 50s 89ms/step - loss: 0.7106 - pi_loss: 0.4058 - v_loss: 0.3047\n",
            "Epoch 5/10\n",
            "564/564 [==============================] - 50s 89ms/step - loss: 0.6981 - pi_loss: 0.3989 - v_loss: 0.2992\n",
            "Epoch 6/10\n",
            "564/564 [==============================] - 50s 89ms/step - loss: 0.6922 - pi_loss: 0.3964 - v_loss: 0.2959\n",
            "Epoch 7/10\n",
            "564/564 [==============================] - 50s 89ms/step - loss: 0.6862 - pi_loss: 0.3939 - v_loss: 0.2923\n",
            "Epoch 8/10\n",
            "564/564 [==============================] - 50s 89ms/step - loss: 0.6806 - pi_loss: 0.3902 - v_loss: 0.2903\n",
            "Epoch 9/10\n",
            "564/564 [==============================] - 51s 91ms/step - loss: 0.6777 - pi_loss: 0.3883 - v_loss: 0.2895\n",
            "Epoch 10/10\n",
            "564/564 [==============================] - 50s 89ms/step - loss: 0.6713 - pi_loss: 0.3862 - v_loss: 0.2851\n"
          ]
        },
        {
          "name": "stderr",
          "output_type": "stream",
          "text": [
            "2023-12-30 15:52:33 110595901d38 Coach[929] INFO PITTING AGAINST PREVIOUS VERSION\n",
            "Arena.playGames (1): 100%|██████████| 10/10 [04:37<00:00, 27.70s/it]\n",
            "Arena.playGames (2): 100%|██████████| 10/10 [03:54<00:00, 23.43s/it]\n",
            "2023-12-30 16:01:04 110595901d38 Coach[929] INFO NEW/PREV WINS : 4 / 16 ; DRAWS : 0\n",
            "2023-12-30 16:01:04 110595901d38 Coach[929] INFO REJECTING NEW MODEL\n",
            "2023-12-30 16:01:05 110595901d38 Coach[929] INFO Starting Iter #10 ...\n",
            "Self Play: 100%|██████████| 25/25 [06:12<00:00, 14.91s/it]\n"
          ]
        },
        {
          "name": "stdout",
          "output_type": "stream",
          "text": [
            "Checkpoint Directory exists! \n",
            "Epoch 1/10\n",
            "612/612 [==============================] - 54s 87ms/step - loss: 0.8697 - pi_loss: 0.4974 - v_loss: 0.3723\n",
            "Epoch 2/10\n",
            "612/612 [==============================] - 54s 87ms/step - loss: 0.7761 - pi_loss: 0.4381 - v_loss: 0.3380\n",
            "Epoch 3/10\n",
            "612/612 [==============================] - 54s 88ms/step - loss: 0.7473 - pi_loss: 0.4211 - v_loss: 0.3262\n",
            "Epoch 4/10\n",
            "612/612 [==============================] - 54s 88ms/step - loss: 0.7257 - pi_loss: 0.4113 - v_loss: 0.3144\n",
            "Epoch 5/10\n",
            "612/612 [==============================] - 54s 88ms/step - loss: 0.7105 - pi_loss: 0.4055 - v_loss: 0.3050\n",
            "Epoch 6/10\n",
            "612/612 [==============================] - 54s 88ms/step - loss: 0.7007 - pi_loss: 0.4013 - v_loss: 0.2994\n",
            "Epoch 7/10\n",
            "612/612 [==============================] - 55s 89ms/step - loss: 0.6944 - pi_loss: 0.3976 - v_loss: 0.2968\n",
            "Epoch 8/10\n",
            "612/612 [==============================] - 54s 88ms/step - loss: 0.6904 - pi_loss: 0.3959 - v_loss: 0.2945\n",
            "Epoch 9/10\n",
            "612/612 [==============================] - 54s 88ms/step - loss: 0.6822 - pi_loss: 0.3918 - v_loss: 0.2904\n",
            "Epoch 10/10\n",
            "612/612 [==============================] - 54s 89ms/step - loss: 0.6773 - pi_loss: 0.3878 - v_loss: 0.2894\n"
          ]
        },
        {
          "name": "stderr",
          "output_type": "stream",
          "text": [
            "2023-12-30 16:16:22 110595901d38 Coach[929] INFO PITTING AGAINST PREVIOUS VERSION\n",
            "Arena.playGames (1): 100%|██████████| 10/10 [04:51<00:00, 29.10s/it]\n",
            "Arena.playGames (2): 100%|██████████| 10/10 [03:03<00:00, 18.34s/it]\n",
            "2023-12-30 16:24:16 110595901d38 Coach[929] INFO NEW/PREV WINS : 11 / 9 ; DRAWS : 0\n",
            "2023-12-30 16:24:16 110595901d38 Coach[929] INFO REJECTING NEW MODEL\n",
            "2023-12-30 16:24:18 110595901d38 Coach[929] INFO Starting Iter #11 ...\n",
            "Self Play: 100%|██████████| 25/25 [10:15<00:00, 24.63s/it]\n"
          ]
        },
        {
          "name": "stdout",
          "output_type": "stream",
          "text": [
            "Checkpoint Directory exists! \n",
            "Epoch 1/10\n",
            "692/692 [==============================] - 61s 86ms/step - loss: 0.8960 - pi_loss: 0.5088 - v_loss: 0.3872\n",
            "Epoch 2/10\n",
            "692/692 [==============================] - 59s 86ms/step - loss: 0.7719 - pi_loss: 0.4327 - v_loss: 0.3392\n",
            "Epoch 3/10\n",
            "692/692 [==============================] - 59s 85ms/step - loss: 0.7319 - pi_loss: 0.4123 - v_loss: 0.3196\n",
            "Epoch 4/10\n",
            "692/692 [==============================] - 59s 85ms/step - loss: 0.7120 - pi_loss: 0.4027 - v_loss: 0.3093\n",
            "Epoch 5/10\n",
            "692/692 [==============================] - 59s 86ms/step - loss: 0.6894 - pi_loss: 0.3935 - v_loss: 0.2959\n",
            "Epoch 6/10\n",
            "692/692 [==============================] - 58s 84ms/step - loss: 0.6806 - pi_loss: 0.3902 - v_loss: 0.2904\n",
            "Epoch 7/10\n",
            "692/692 [==============================] - 59s 86ms/step - loss: 0.6752 - pi_loss: 0.3868 - v_loss: 0.2884\n",
            "Epoch 8/10\n",
            "692/692 [==============================] - 59s 85ms/step - loss: 0.6675 - pi_loss: 0.3828 - v_loss: 0.2846\n",
            "Epoch 9/10\n",
            "692/692 [==============================] - 58s 84ms/step - loss: 0.6596 - pi_loss: 0.3813 - v_loss: 0.2783\n",
            "Epoch 10/10\n",
            "692/692 [==============================] - 60s 87ms/step - loss: 0.6572 - pi_loss: 0.3790 - v_loss: 0.2783\n"
          ]
        },
        {
          "name": "stderr",
          "output_type": "stream",
          "text": [
            "2023-12-30 16:45:00 110595901d38 Coach[929] INFO PITTING AGAINST PREVIOUS VERSION\n",
            "Arena.playGames (1): 100%|██████████| 10/10 [05:33<00:00, 33.37s/it]\n",
            "Arena.playGames (2): 100%|██████████| 10/10 [04:16<00:00, 25.62s/it]\n",
            "2023-12-30 16:54:50 110595901d38 Coach[929] INFO NEW/PREV WINS : 5 / 15 ; DRAWS : 0\n",
            "2023-12-30 16:54:50 110595901d38 Coach[929] INFO REJECTING NEW MODEL\n",
            "2023-12-30 16:54:51 110595901d38 Coach[929] INFO Starting Iter #12 ...\n",
            "Self Play: 100%|██████████| 25/25 [07:39<00:00, 18.38s/it]\n"
          ]
        },
        {
          "name": "stdout",
          "output_type": "stream",
          "text": [
            "Checkpoint Directory exists! \n",
            "Epoch 1/10\n",
            "754/754 [==============================] - 65s 85ms/step - loss: 0.9032 - pi_loss: 0.5162 - v_loss: 0.3871\n",
            "Epoch 2/10\n",
            "754/754 [==============================] - 64s 85ms/step - loss: 0.7732 - pi_loss: 0.4327 - v_loss: 0.3405\n",
            "Epoch 3/10\n",
            "754/754 [==============================] - 64s 85ms/step - loss: 0.7286 - pi_loss: 0.4131 - v_loss: 0.3155\n",
            "Epoch 4/10\n",
            "754/754 [==============================] - 63s 84ms/step - loss: 0.7011 - pi_loss: 0.3997 - v_loss: 0.3014\n",
            "Epoch 5/10\n",
            "754/754 [==============================] - 63s 84ms/step - loss: 0.6851 - pi_loss: 0.3907 - v_loss: 0.2944\n",
            "Epoch 6/10\n",
            "754/754 [==============================] - 64s 84ms/step - loss: 0.6729 - pi_loss: 0.3877 - v_loss: 0.2852\n",
            "Epoch 7/10\n",
            "754/754 [==============================] - 64s 85ms/step - loss: 0.6606 - pi_loss: 0.3832 - v_loss: 0.2775\n",
            "Epoch 8/10\n",
            "754/754 [==============================] - 65s 87ms/step - loss: 0.6534 - pi_loss: 0.3804 - v_loss: 0.2731\n",
            "Epoch 9/10\n",
            "754/754 [==============================] - 64s 85ms/step - loss: 0.6481 - pi_loss: 0.3779 - v_loss: 0.2702\n",
            "Epoch 10/10\n",
            "754/754 [==============================] - 64s 85ms/step - loss: 0.6425 - pi_loss: 0.3758 - v_loss: 0.2667\n"
          ]
        },
        {
          "name": "stderr",
          "output_type": "stream",
          "text": [
            "2023-12-30 17:13:59 110595901d38 Coach[929] INFO PITTING AGAINST PREVIOUS VERSION\n",
            "Arena.playGames (1): 100%|██████████| 10/10 [04:58<00:00, 29.87s/it]\n",
            "Arena.playGames (2): 100%|██████████| 10/10 [02:17<00:00, 13.73s/it]\n",
            "2023-12-30 17:21:15 110595901d38 Coach[929] INFO NEW/PREV WINS : 15 / 5 ; DRAWS : 0\n",
            "2023-12-30 17:21:15 110595901d38 Coach[929] INFO ACCEPTING NEW MODEL\n"
          ]
        },
        {
          "name": "stdout",
          "output_type": "stream",
          "text": [
            "Checkpoint Directory exists! \n",
            "Checkpoint Directory exists! \n"
          ]
        },
        {
          "name": "stderr",
          "output_type": "stream",
          "text": [
            "2023-12-30 17:21:17 110595901d38 Coach[929] INFO Starting Iter #13 ...\n",
            "Self Play: 100%|██████████| 25/25 [06:58<00:00, 16.75s/it]\n"
          ]
        },
        {
          "name": "stdout",
          "output_type": "stream",
          "text": [
            "Checkpoint Directory exists! \n",
            "Epoch 1/10\n",
            "827/827 [==============================] - 71s 86ms/step - loss: 0.6770 - pi_loss: 0.4069 - v_loss: 0.2701\n",
            "Epoch 2/10\n",
            "827/827 [==============================] - 70s 85ms/step - loss: 0.6408 - pi_loss: 0.3830 - v_loss: 0.2578\n",
            "Epoch 3/10\n",
            "827/827 [==============================] - 70s 85ms/step - loss: 0.6245 - pi_loss: 0.3740 - v_loss: 0.2505\n",
            "Epoch 4/10\n",
            "827/827 [==============================] - 71s 85ms/step - loss: 0.6194 - pi_loss: 0.3706 - v_loss: 0.2488\n",
            "Epoch 5/10\n",
            "827/827 [==============================] - 70s 85ms/step - loss: 0.6171 - pi_loss: 0.3692 - v_loss: 0.2479\n",
            "Epoch 6/10\n",
            "827/827 [==============================] - 71s 86ms/step - loss: 0.6117 - pi_loss: 0.3662 - v_loss: 0.2455\n",
            "Epoch 7/10\n",
            "827/827 [==============================] - 71s 86ms/step - loss: 0.6080 - pi_loss: 0.3658 - v_loss: 0.2421\n",
            "Epoch 8/10\n",
            "827/827 [==============================] - 70s 85ms/step - loss: 0.6044 - pi_loss: 0.3626 - v_loss: 0.2419\n",
            "Epoch 9/10\n",
            "827/827 [==============================] - 70s 85ms/step - loss: 0.6034 - pi_loss: 0.3623 - v_loss: 0.2411\n",
            "Epoch 10/10\n",
            "827/827 [==============================] - 70s 84ms/step - loss: 0.5996 - pi_loss: 0.3606 - v_loss: 0.2390\n"
          ]
        },
        {
          "name": "stderr",
          "output_type": "stream",
          "text": [
            "2023-12-30 17:40:05 110595901d38 Coach[929] INFO PITTING AGAINST PREVIOUS VERSION\n",
            "Arena.playGames (1): 100%|██████████| 10/10 [05:39<00:00, 33.91s/it]\n",
            "Arena.playGames (2): 100%|██████████| 10/10 [03:35<00:00, 21.51s/it]\n",
            "2023-12-30 17:49:20 110595901d38 Coach[929] INFO NEW/PREV WINS : 13 / 6 ; DRAWS : 1\n",
            "2023-12-30 17:49:20 110595901d38 Coach[929] INFO ACCEPTING NEW MODEL\n"
          ]
        },
        {
          "name": "stdout",
          "output_type": "stream",
          "text": [
            "Checkpoint Directory exists! \n",
            "Checkpoint Directory exists! \n"
          ]
        },
        {
          "name": "stderr",
          "output_type": "stream",
          "text": [
            "2023-12-30 17:49:21 110595901d38 Coach[929] INFO Starting Iter #14 ...\n",
            "Self Play: 100%|██████████| 25/25 [07:25<00:00, 17.80s/it]\n"
          ]
        },
        {
          "name": "stdout",
          "output_type": "stream",
          "text": [
            "Checkpoint Directory exists! \n",
            "Epoch 1/10\n",
            "906/906 [==============================] - 81s 89ms/step - loss: 0.6718 - pi_loss: 0.4021 - v_loss: 0.2698\n",
            "Epoch 2/10\n",
            "906/906 [==============================] - 80s 89ms/step - loss: 0.6281 - pi_loss: 0.3710 - v_loss: 0.2571\n",
            "Epoch 3/10\n",
            "906/906 [==============================] - 80s 89ms/step - loss: 0.6153 - pi_loss: 0.3640 - v_loss: 0.2513\n",
            "Epoch 4/10\n",
            "906/906 [==============================] - 85s 93ms/step - loss: 0.6072 - pi_loss: 0.3598 - v_loss: 0.2475\n",
            "Epoch 5/10\n",
            "906/906 [==============================] - 83s 92ms/step - loss: 0.6016 - pi_loss: 0.3572 - v_loss: 0.2444\n",
            "Epoch 6/10\n",
            "906/906 [==============================] - 79s 88ms/step - loss: 0.6031 - pi_loss: 0.3570 - v_loss: 0.2461\n",
            "Epoch 7/10\n",
            "906/906 [==============================] - 80s 88ms/step - loss: 0.5977 - pi_loss: 0.3548 - v_loss: 0.2429\n",
            "Epoch 8/10\n",
            "906/906 [==============================] - 81s 89ms/step - loss: 0.5960 - pi_loss: 0.3549 - v_loss: 0.2412\n",
            "Epoch 9/10\n",
            "906/906 [==============================] - 79s 88ms/step - loss: 0.5916 - pi_loss: 0.3521 - v_loss: 0.2395\n",
            "Epoch 10/10\n",
            "906/906 [==============================] - 80s 88ms/step - loss: 0.5895 - pi_loss: 0.3506 - v_loss: 0.2389\n"
          ]
        },
        {
          "name": "stderr",
          "output_type": "stream",
          "text": [
            "2023-12-30 18:11:13 110595901d38 Coach[929] INFO PITTING AGAINST PREVIOUS VERSION\n",
            "Arena.playGames (1): 100%|██████████| 10/10 [06:11<00:00, 37.12s/it]\n",
            "Arena.playGames (2): 100%|██████████| 10/10 [03:56<00:00, 23.66s/it]\n",
            "2023-12-30 18:21:21 110595901d38 Coach[929] INFO NEW/PREV WINS : 11 / 9 ; DRAWS : 0\n",
            "2023-12-30 18:21:21 110595901d38 Coach[929] INFO REJECTING NEW MODEL\n",
            "2023-12-30 18:21:22 110595901d38 Coach[929] INFO Starting Iter #15 ...\n",
            "Self Play: 100%|██████████| 25/25 [07:04<00:00, 16.99s/it]\n"
          ]
        },
        {
          "name": "stdout",
          "output_type": "stream",
          "text": [
            "Checkpoint Directory exists! \n",
            "Epoch 1/10\n",
            "981/981 [==============================] - 85s 85ms/step - loss: 0.7037 - pi_loss: 0.4193 - v_loss: 0.2844\n",
            "Epoch 2/10\n",
            "981/981 [==============================] - 83s 84ms/step - loss: 0.6451 - pi_loss: 0.3794 - v_loss: 0.2657\n",
            "Epoch 3/10\n",
            "981/981 [==============================] - 84s 85ms/step - loss: 0.6230 - pi_loss: 0.3654 - v_loss: 0.2576\n",
            "Epoch 4/10\n",
            "981/981 [==============================] - 83s 85ms/step - loss: 0.6178 - pi_loss: 0.3623 - v_loss: 0.2555\n",
            "Epoch 5/10\n",
            "981/981 [==============================] - 84s 85ms/step - loss: 0.6084 - pi_loss: 0.3594 - v_loss: 0.2490\n",
            "Epoch 6/10\n",
            "981/981 [==============================] - 85s 86ms/step - loss: 0.6021 - pi_loss: 0.3548 - v_loss: 0.2473\n",
            "Epoch 7/10\n",
            "981/981 [==============================] - 83s 85ms/step - loss: 0.5974 - pi_loss: 0.3531 - v_loss: 0.2443\n",
            "Epoch 8/10\n",
            "981/981 [==============================] - 84s 86ms/step - loss: 0.5961 - pi_loss: 0.3527 - v_loss: 0.2434\n",
            "Epoch 9/10\n",
            "981/981 [==============================] - 84s 86ms/step - loss: 0.5931 - pi_loss: 0.3521 - v_loss: 0.2410\n",
            "Epoch 10/10\n",
            "981/981 [==============================] - 83s 85ms/step - loss: 0.5896 - pi_loss: 0.3500 - v_loss: 0.2396\n"
          ]
        },
        {
          "name": "stderr",
          "output_type": "stream",
          "text": [
            "2023-12-30 18:42:32 110595901d38 Coach[929] INFO PITTING AGAINST PREVIOUS VERSION\n",
            "Arena.playGames (1): 100%|██████████| 10/10 [04:03<00:00, 24.36s/it]\n",
            "Arena.playGames (2): 100%|██████████| 10/10 [05:04<00:00, 30.48s/it]\n",
            "2023-12-30 18:51:40 110595901d38 Coach[929] INFO NEW/PREV WINS : 2 / 17 ; DRAWS : 1\n",
            "2023-12-30 18:51:40 110595901d38 Coach[929] INFO REJECTING NEW MODEL\n",
            "2023-12-30 18:51:41 110595901d38 Coach[929] INFO Starting Iter #16 ...\n",
            "Self Play: 100%|██████████| 25/25 [04:53<00:00, 11.73s/it]\n"
          ]
        },
        {
          "name": "stdout",
          "output_type": "stream",
          "text": [
            "Checkpoint Directory exists! \n",
            "Epoch 1/10\n",
            "1029/1029 [==============================] - 88s 85ms/step - loss: 0.7129 - pi_loss: 0.4269 - v_loss: 0.2860\n",
            "Epoch 2/10\n",
            "1029/1029 [==============================] - 88s 85ms/step - loss: 0.6452 - pi_loss: 0.3801 - v_loss: 0.2651\n",
            "Epoch 3/10\n",
            "1029/1029 [==============================] - 87s 84ms/step - loss: 0.6214 - pi_loss: 0.3669 - v_loss: 0.2545\n",
            "Epoch 4/10\n",
            "1029/1029 [==============================] - 87s 84ms/step - loss: 0.6108 - pi_loss: 0.3626 - v_loss: 0.2482\n",
            "Epoch 5/10\n",
            "1029/1029 [==============================] - 87s 84ms/step - loss: 0.6043 - pi_loss: 0.3577 - v_loss: 0.2466\n",
            "Epoch 6/10\n",
            "1029/1029 [==============================] - 86s 84ms/step - loss: 0.6011 - pi_loss: 0.3558 - v_loss: 0.2453\n",
            "Epoch 7/10\n",
            "1029/1029 [==============================] - 86s 84ms/step - loss: 0.5966 - pi_loss: 0.3550 - v_loss: 0.2416\n",
            "Epoch 8/10\n",
            "1029/1029 [==============================] - 87s 84ms/step - loss: 0.5918 - pi_loss: 0.3522 - v_loss: 0.2396\n",
            "Epoch 9/10\n",
            "1029/1029 [==============================] - 88s 86ms/step - loss: 0.5891 - pi_loss: 0.3515 - v_loss: 0.2376\n",
            "Epoch 10/10\n",
            "1029/1029 [==============================] - 87s 85ms/step - loss: 0.5867 - pi_loss: 0.3508 - v_loss: 0.2359\n"
          ]
        },
        {
          "name": "stderr",
          "output_type": "stream",
          "text": [
            "2023-12-30 19:12:04 110595901d38 Coach[929] INFO PITTING AGAINST PREVIOUS VERSION\n",
            "Arena.playGames (1): 100%|██████████| 10/10 [03:54<00:00, 23.42s/it]\n",
            "Arena.playGames (2): 100%|██████████| 10/10 [02:35<00:00, 15.53s/it]\n",
            "2023-12-30 19:18:34 110595901d38 Coach[929] INFO NEW/PREV WINS : 9 / 10 ; DRAWS : 1\n",
            "2023-12-30 19:18:34 110595901d38 Coach[929] INFO REJECTING NEW MODEL\n",
            "2023-12-30 19:18:35 110595901d38 Coach[929] INFO Starting Iter #17 ...\n",
            "Self Play: 100%|██████████| 25/25 [07:16<00:00, 17.45s/it]\n"
          ]
        },
        {
          "name": "stdout",
          "output_type": "stream",
          "text": [
            "Checkpoint Directory exists! \n",
            "Epoch 1/10\n",
            "1094/1094 [==============================] - 95s 86ms/step - loss: 0.7368 - pi_loss: 0.4423 - v_loss: 0.2945\n",
            "Epoch 2/10\n",
            "1094/1094 [==============================] - 97s 89ms/step - loss: 0.6570 - pi_loss: 0.3880 - v_loss: 0.2691\n",
            "Epoch 3/10\n",
            "1094/1094 [==============================] - 95s 87ms/step - loss: 0.6309 - pi_loss: 0.3729 - v_loss: 0.2579\n",
            "Epoch 4/10\n",
            "1094/1094 [==============================] - 97s 88ms/step - loss: 0.6169 - pi_loss: 0.3649 - v_loss: 0.2519\n",
            "Epoch 5/10\n",
            "1094/1094 [==============================] - 95s 87ms/step - loss: 0.6091 - pi_loss: 0.3612 - v_loss: 0.2479\n",
            "Epoch 6/10\n",
            "1094/1094 [==============================] - 96s 88ms/step - loss: 0.6019 - pi_loss: 0.3575 - v_loss: 0.2443\n",
            "Epoch 7/10\n",
            "1094/1094 [==============================] - 95s 87ms/step - loss: 0.5976 - pi_loss: 0.3553 - v_loss: 0.2423\n",
            "Epoch 8/10\n",
            "1094/1094 [==============================] - 96s 88ms/step - loss: 0.5952 - pi_loss: 0.3535 - v_loss: 0.2417\n",
            "Epoch 9/10\n",
            "1094/1094 [==============================] - 95s 87ms/step - loss: 0.5915 - pi_loss: 0.3539 - v_loss: 0.2376\n",
            "Epoch 10/10\n",
            "1094/1094 [==============================] - 97s 89ms/step - loss: 0.5871 - pi_loss: 0.3506 - v_loss: 0.2365\n"
          ]
        },
        {
          "name": "stderr",
          "output_type": "stream",
          "text": [
            "2023-12-30 19:41:56 110595901d38 Coach[929] INFO PITTING AGAINST PREVIOUS VERSION\n",
            "Arena.playGames (1): 100%|██████████| 10/10 [04:57<00:00, 29.79s/it]\n",
            "Arena.playGames (2): 100%|██████████| 10/10 [05:27<00:00, 32.79s/it]\n",
            "2023-12-30 19:52:22 110595901d38 Coach[929] INFO NEW/PREV WINS : 11 / 9 ; DRAWS : 0\n",
            "2023-12-30 19:52:22 110595901d38 Coach[929] INFO REJECTING NEW MODEL\n",
            "2023-12-30 19:52:23 110595901d38 Coach[929] INFO Starting Iter #18 ...\n",
            "Self Play: 100%|██████████| 25/25 [05:54<00:00, 14.19s/it]\n"
          ]
        },
        {
          "name": "stdout",
          "output_type": "stream",
          "text": [
            "Checkpoint Directory exists! \n",
            "Epoch 1/10\n",
            "1152/1152 [==============================] - 99s 85ms/step - loss: 0.7602 - pi_loss: 0.4611 - v_loss: 0.2991\n",
            "Epoch 2/10\n",
            "1152/1152 [==============================] - 97s 84ms/step - loss: 0.6686 - pi_loss: 0.3987 - v_loss: 0.2699\n",
            "Epoch 3/10\n",
            "1152/1152 [==============================] - 99s 86ms/step - loss: 0.6382 - pi_loss: 0.3807 - v_loss: 0.2575\n",
            "Epoch 4/10\n",
            "1152/1152 [==============================] - 98s 85ms/step - loss: 0.6197 - pi_loss: 0.3694 - v_loss: 0.2503\n",
            "Epoch 5/10\n",
            "1152/1152 [==============================] - 98s 85ms/step - loss: 0.6171 - pi_loss: 0.3670 - v_loss: 0.2501\n",
            "Epoch 6/10\n",
            "1152/1152 [==============================] - 97s 84ms/step - loss: 0.6039 - pi_loss: 0.3603 - v_loss: 0.2436\n",
            "Epoch 7/10\n",
            "1152/1152 [==============================] - 98s 85ms/step - loss: 0.5993 - pi_loss: 0.3587 - v_loss: 0.2406\n",
            "Epoch 8/10\n",
            "1152/1152 [==============================] - 98s 85ms/step - loss: 0.5958 - pi_loss: 0.3568 - v_loss: 0.2390\n",
            "Epoch 9/10\n",
            "1152/1152 [==============================] - 99s 86ms/step - loss: 0.5915 - pi_loss: 0.3544 - v_loss: 0.2371\n",
            "Epoch 10/10\n",
            "1152/1152 [==============================] - 98s 85ms/step - loss: 0.5898 - pi_loss: 0.3535 - v_loss: 0.2363\n"
          ]
        },
        {
          "name": "stderr",
          "output_type": "stream",
          "text": [
            "2023-12-30 20:14:49 110595901d38 Coach[929] INFO PITTING AGAINST PREVIOUS VERSION\n",
            "Arena.playGames (1): 100%|██████████| 10/10 [06:07<00:00, 36.77s/it]\n",
            "Arena.playGames (2): 100%|██████████| 10/10 [03:35<00:00, 21.55s/it]\n",
            "2023-12-30 20:24:32 110595901d38 Coach[929] INFO NEW/PREV WINS : 15 / 5 ; DRAWS : 0\n",
            "2023-12-30 20:24:32 110595901d38 Coach[929] INFO ACCEPTING NEW MODEL\n"
          ]
        },
        {
          "name": "stdout",
          "output_type": "stream",
          "text": [
            "Checkpoint Directory exists! \n",
            "Checkpoint Directory exists! \n"
          ]
        },
        {
          "name": "stderr",
          "output_type": "stream",
          "text": [
            "2023-12-30 20:24:34 110595901d38 Coach[929] INFO Starting Iter #19 ...\n",
            "Self Play: 100%|██████████| 25/25 [08:49<00:00, 21.19s/it]\n"
          ]
        },
        {
          "name": "stdout",
          "output_type": "stream",
          "text": [
            "Checkpoint Directory exists! \n",
            "Epoch 1/10\n",
            "1224/1224 [==============================] - 106s 86ms/step - loss: 0.6861 - pi_loss: 0.4049 - v_loss: 0.2813\n",
            "Epoch 2/10\n",
            "1224/1224 [==============================] - 105s 86ms/step - loss: 0.6438 - pi_loss: 0.3758 - v_loss: 0.2681\n",
            "Epoch 3/10\n",
            "1224/1224 [==============================] - 105s 86ms/step - loss: 0.6277 - pi_loss: 0.3655 - v_loss: 0.2622\n",
            "Epoch 4/10\n",
            "1224/1224 [==============================] - 105s 86ms/step - loss: 0.6182 - pi_loss: 0.3613 - v_loss: 0.2569\n",
            "Epoch 5/10\n",
            "1224/1224 [==============================] - 105s 86ms/step - loss: 0.6118 - pi_loss: 0.3587 - v_loss: 0.2531\n",
            "Epoch 6/10\n",
            "1224/1224 [==============================] - 106s 87ms/step - loss: 0.6064 - pi_loss: 0.3561 - v_loss: 0.2503\n",
            "Epoch 7/10\n",
            "1224/1224 [==============================] - 105s 85ms/step - loss: 0.6038 - pi_loss: 0.3551 - v_loss: 0.2487\n",
            "Epoch 8/10\n",
            "1224/1224 [==============================] - 105s 86ms/step - loss: 0.5994 - pi_loss: 0.3534 - v_loss: 0.2460\n",
            "Epoch 9/10\n",
            "1224/1224 [==============================] - 105s 86ms/step - loss: 0.5998 - pi_loss: 0.3541 - v_loss: 0.2456\n",
            "Epoch 10/10\n",
            "1224/1224 [==============================] - 105s 86ms/step - loss: 0.5946 - pi_loss: 0.3505 - v_loss: 0.2441\n"
          ]
        },
        {
          "name": "stderr",
          "output_type": "stream",
          "text": [
            "2023-12-30 20:51:54 110595901d38 Coach[929] INFO PITTING AGAINST PREVIOUS VERSION\n",
            "Arena.playGames (1): 100%|██████████| 10/10 [05:57<00:00, 35.73s/it]\n",
            "Arena.playGames (2): 100%|██████████| 10/10 [05:49<00:00, 34.94s/it]\n",
            "2023-12-30 21:03:40 110595901d38 Coach[929] INFO NEW/PREV WINS : 7 / 12 ; DRAWS : 1\n",
            "2023-12-30 21:03:40 110595901d38 Coach[929] INFO REJECTING NEW MODEL\n",
            "2023-12-30 21:03:42 110595901d38 Coach[929] INFO Starting Iter #20 ...\n",
            "Self Play: 100%|██████████| 25/25 [09:04<00:00, 21.79s/it]\n"
          ]
        },
        {
          "name": "stdout",
          "output_type": "stream",
          "text": [
            "Checkpoint Directory exists! \n",
            "Epoch 1/10\n",
            "1289/1289 [==============================] - 111s 85ms/step - loss: 0.7470 - pi_loss: 0.4387 - v_loss: 0.3083\n",
            "Epoch 2/10\n",
            "1289/1289 [==============================] - 109s 84ms/step - loss: 0.6849 - pi_loss: 0.3970 - v_loss: 0.2879\n",
            "Epoch 3/10\n",
            "1289/1289 [==============================] - 110s 85ms/step - loss: 0.6597 - pi_loss: 0.3828 - v_loss: 0.2769\n",
            "Epoch 4/10\n",
            "1289/1289 [==============================] - 110s 85ms/step - loss: 0.6463 - pi_loss: 0.3766 - v_loss: 0.2697\n",
            "Epoch 5/10\n",
            "1289/1289 [==============================] - 110s 85ms/step - loss: 0.6374 - pi_loss: 0.3719 - v_loss: 0.2654\n",
            "Epoch 6/10\n",
            "1289/1289 [==============================] - 110s 85ms/step - loss: 0.6261 - pi_loss: 0.3657 - v_loss: 0.2604\n",
            "Epoch 7/10\n",
            "1289/1289 [==============================] - 109s 85ms/step - loss: 0.6233 - pi_loss: 0.3658 - v_loss: 0.2574\n",
            "Epoch 8/10\n",
            "1289/1289 [==============================] - 109s 84ms/step - loss: 0.6179 - pi_loss: 0.3625 - v_loss: 0.2554\n",
            "Epoch 9/10\n",
            "1289/1289 [==============================] - 109s 85ms/step - loss: 0.6173 - pi_loss: 0.3630 - v_loss: 0.2543\n",
            "Epoch 10/10\n",
            "1289/1289 [==============================] - 109s 84ms/step - loss: 0.6138 - pi_loss: 0.3611 - v_loss: 0.2527\n"
          ]
        },
        {
          "name": "stderr",
          "output_type": "stream",
          "text": [
            "2023-12-30 21:31:19 110595901d38 Coach[929] INFO PITTING AGAINST PREVIOUS VERSION\n",
            "Arena.playGames (1): 100%|██████████| 10/10 [04:33<00:00, 27.40s/it]\n",
            "Arena.playGames (2): 100%|██████████| 10/10 [06:18<00:00, 37.86s/it]\n",
            "2023-12-30 21:42:11 110595901d38 Coach[929] INFO NEW/PREV WINS : 7 / 12 ; DRAWS : 1\n",
            "2023-12-30 21:42:11 110595901d38 Coach[929] INFO REJECTING NEW MODEL\n"
          ]
        }
      ],
      "source": [
        "args = dotdict({\n",
        "    'numIters':20,\n",
        "    'numEps': 25,              # Number of complete self-play games to simulate during a new iteration.\n",
        "    'tempThreshold': 15,        #\n",
        "    'updateThreshold': 0.6,     # During arena playoff, new neural net will be accepted if threshold or more of games are won.\n",
        "    'maxlenOfQueue': 50000,    # Number of game examples to train the neural networks.\n",
        "    'numMCTSSims': 25,          # Number of games moves for MCTS to simulate.\n",
        "    'arenaCompare': 20,         # Number of games to play during arena play to determine if new net will be accepted.\n",
        "    'cpuct': 1,\n",
        "\n",
        "    'checkpoint': '/content/drive/MyDrive/trabalho2_liacd/models/ataxx/5x5',\n",
        "    'load_model': True,\n",
        "    'load_folder_file': ('/content/drive/MyDrive/trabalho2_liacd/models/ataxx/5x5', 'best.h5'),\n",
        "    'numItersForTrainExamplesHistory': 20,\n",
        "\n",
        "})\n",
        "\n",
        "\n",
        "log.info('Loading %s...', Game.__name__)\n",
        "g = Game(5)\n",
        "\n",
        "log.info('Loading %s...', nn.__name__)\n",
        "nnet = nn(g)\n",
        "\n",
        "if args.load_model:\n",
        "    log.info('Loading checkpoint \"%s/%s\"...', args.load_folder_file[0], args.load_folder_file[1])\n",
        "    nnet.load_model(args.load_folder_file[0], args.load_folder_file[1])\n",
        "else:\n",
        "    log.warning('Not loading a checkpoint!')\n",
        "\n",
        "log.info('Loading the Coach...')\n",
        "c = Coach(g, nnet, args)\n",
        "\n",
        "if args.load_model:\n",
        "    log.info(\"Loading 'trainExamples' from file...\")\n",
        "    c.loadTrainExamples()\n",
        "\n",
        "log.info('Starting the learning process 🎉')\n",
        "c.learn()\n",
        "\n"
      ]
    },
    {
      "cell_type": "markdown",
      "metadata": {
        "id": "mxVZcusb5G8Z"
      },
      "source": [
        "#Décimo Treino"
      ]
    },
    {
      "cell_type": "code",
      "execution_count": null,
      "metadata": {
        "colab": {
          "background_save": true,
          "base_uri": "https://localhost:8080/"
        },
        "id": "1c_Z83Zu5IlJ",
        "outputId": "f1f890f1-603e-4d64-9ed4-70a354a213e7"
      },
      "outputs": [
        {
          "name": "stderr",
          "output_type": "stream",
          "text": [
            "2023-12-30 22:42:31 110595901d38 __main__[2121618] INFO Loading AtaxxGame...\n",
            "2023-12-30 22:42:31 110595901d38 __main__[2121618] INFO Loading NNetWrapper...\n",
            "2023-12-30 22:42:32 110595901d38 __main__[2121618] INFO Loading checkpoint \"/content/drive/MyDrive/trabalho2_liacd/models/ataxx/5x5/best.h5\"...\n",
            "2023-12-30 22:42:33 110595901d38 __main__[2121618] INFO Loading the Coach...\n",
            "2023-12-30 22:42:33 110595901d38 __main__[2121618] INFO Loading 'trainExamples' from file...\n",
            "2023-12-30 22:42:33 110595901d38 Coach[2121618] WARNING File \"/content/drive/MyDrive/trabalho2_liacd/models/ataxx/5x5/best.h5.examples\" with trainExamples not found!\n",
            "2023-12-30 22:42:35 110595901d38 __main__[2121618] INFO Starting the learning process 🎉\n",
            "2023-12-30 22:42:35 110595901d38 Coach[2121618] INFO Starting Iter #1 ...\n",
            "Self Play: 100%|██████████| 25/25 [07:18<00:00, 17.54s/it]\n"
          ]
        },
        {
          "name": "stdout",
          "output_type": "stream",
          "text": [
            "Checkpoint Directory exists! \n"
          ]
        },
        {
          "name": "stderr",
          "output_type": "stream",
          "text": [
            "/usr/local/lib/python3.10/dist-packages/keras/src/engine/training.py:3103: UserWarning: You are saving your model as an HDF5 file via `model.save()`. This file format is considered legacy. We recommend using instead the native Keras format, e.g. `model.save('my_model.keras')`.\n",
            "  saving_api.save_model(\n"
          ]
        },
        {
          "name": "stdout",
          "output_type": "stream",
          "text": [
            "Epoch 1/10\n",
            "67/67 [==============================] - 7s 87ms/step - loss: 1.6076 - pi_loss: 0.9443 - v_loss: 0.6633\n",
            "Epoch 2/10\n",
            "67/67 [==============================] - 5s 80ms/step - loss: 1.1038 - pi_loss: 0.6324 - v_loss: 0.4713\n",
            "Epoch 3/10\n",
            "67/67 [==============================] - 6s 89ms/step - loss: 0.9382 - pi_loss: 0.5426 - v_loss: 0.3956\n",
            "Epoch 4/10\n",
            "67/67 [==============================] - 5s 79ms/step - loss: 0.8430 - pi_loss: 0.4825 - v_loss: 0.3606\n",
            "Epoch 5/10\n",
            "67/67 [==============================] - 6s 89ms/step - loss: 0.7896 - pi_loss: 0.4538 - v_loss: 0.3358\n",
            "Epoch 6/10\n",
            "67/67 [==============================] - 5s 79ms/step - loss: 0.7568 - pi_loss: 0.4329 - v_loss: 0.3239\n",
            "Epoch 7/10\n",
            "67/67 [==============================] - 6s 89ms/step - loss: 0.7362 - pi_loss: 0.4203 - v_loss: 0.3159\n",
            "Epoch 8/10\n",
            "67/67 [==============================] - 5s 78ms/step - loss: 0.7065 - pi_loss: 0.4098 - v_loss: 0.2968\n",
            "Epoch 9/10\n",
            "67/67 [==============================] - 8s 126ms/step - loss: 0.6934 - pi_loss: 0.4037 - v_loss: 0.2897\n",
            "Epoch 10/10\n",
            "67/67 [==============================] - 6s 92ms/step - loss: 0.6846 - pi_loss: 0.4018 - v_loss: 0.2828\n"
          ]
        },
        {
          "name": "stderr",
          "output_type": "stream",
          "text": [
            "2023-12-30 22:51:18 110595901d38 Coach[2121618] INFO PITTING AGAINST PREVIOUS VERSION\n",
            "Arena.playGames (1): 100%|██████████| 10/10 [05:09<00:00, 30.91s/it]\n",
            "Arena.playGames (2): 100%|██████████| 10/10 [03:42<00:00, 22.30s/it]\n",
            "2023-12-30 23:00:10 110595901d38 Coach[2121618] INFO NEW/PREV WINS : 5 / 15 ; DRAWS : 0\n",
            "2023-12-30 23:00:10 110595901d38 Coach[2121618] INFO REJECTING NEW MODEL\n",
            "2023-12-30 23:00:11 110595901d38 Coach[2121618] INFO Starting Iter #2 ...\n",
            "Self Play: 100%|██████████| 25/25 [09:01<00:00, 21.64s/it]\n"
          ]
        },
        {
          "name": "stdout",
          "output_type": "stream",
          "text": [
            "Checkpoint Directory exists! \n",
            "Epoch 1/10\n",
            "138/138 [==============================] - 14s 95ms/step - loss: 1.5175 - pi_loss: 0.9217 - v_loss: 0.5958\n",
            "Epoch 2/10\n",
            "138/138 [==============================] - 12s 86ms/step - loss: 1.1010 - pi_loss: 0.6496 - v_loss: 0.4514\n",
            "Epoch 3/10\n",
            "138/138 [==============================] - 12s 88ms/step - loss: 0.9478 - pi_loss: 0.5569 - v_loss: 0.3909\n",
            "Epoch 4/10\n",
            "138/138 [==============================] - 12s 90ms/step - loss: 0.8395 - pi_loss: 0.4920 - v_loss: 0.3476\n",
            "Epoch 5/10\n",
            "138/138 [==============================] - 12s 87ms/step - loss: 0.7691 - pi_loss: 0.4555 - v_loss: 0.3136\n",
            "Epoch 6/10\n",
            "138/138 [==============================] - 12s 88ms/step - loss: 0.7373 - pi_loss: 0.4308 - v_loss: 0.3065\n",
            "Epoch 7/10\n",
            "138/138 [==============================] - 13s 92ms/step - loss: 0.7055 - pi_loss: 0.4167 - v_loss: 0.2889\n",
            "Epoch 8/10\n",
            "138/138 [==============================] - 12s 86ms/step - loss: 0.6864 - pi_loss: 0.4087 - v_loss: 0.2778\n",
            "Epoch 9/10\n",
            "138/138 [==============================] - 12s 86ms/step - loss: 0.6619 - pi_loss: 0.3976 - v_loss: 0.2643\n",
            "Epoch 10/10\n",
            "138/138 [==============================] - 12s 87ms/step - loss: 0.6574 - pi_loss: 0.3927 - v_loss: 0.2647\n"
          ]
        },
        {
          "name": "stderr",
          "output_type": "stream",
          "text": [
            "2023-12-30 23:11:36 110595901d38 Coach[2121618] INFO PITTING AGAINST PREVIOUS VERSION\n",
            "Arena.playGames (1): 100%|██████████| 10/10 [04:19<00:00, 25.96s/it]\n",
            "Arena.playGames (2): 100%|██████████| 10/10 [03:28<00:00, 20.85s/it]\n",
            "2023-12-30 23:19:24 110595901d38 Coach[2121618] INFO NEW/PREV WINS : 3 / 17 ; DRAWS : 0\n",
            "2023-12-30 23:19:24 110595901d38 Coach[2121618] INFO REJECTING NEW MODEL\n",
            "2023-12-30 23:19:25 110595901d38 Coach[2121618] INFO Starting Iter #3 ...\n",
            "Self Play: 100%|██████████| 25/25 [08:46<00:00, 21.08s/it]\n"
          ]
        },
        {
          "name": "stdout",
          "output_type": "stream",
          "text": [
            "Checkpoint Directory exists! \n",
            "Epoch 1/10\n",
            "203/203 [==============================] - 18s 83ms/step - loss: 1.5243 - pi_loss: 0.8939 - v_loss: 0.6303\n",
            "Epoch 2/10\n",
            "203/203 [==============================] - 17s 85ms/step - loss: 1.1192 - pi_loss: 0.6217 - v_loss: 0.4975\n",
            "Epoch 3/10\n",
            "203/203 [==============================] - 17s 83ms/step - loss: 0.9708 - pi_loss: 0.5339 - v_loss: 0.4369\n",
            "Epoch 4/10\n",
            "203/203 [==============================] - 17s 82ms/step - loss: 0.8741 - pi_loss: 0.4748 - v_loss: 0.3993\n",
            "Epoch 5/10\n",
            "203/203 [==============================] - 17s 86ms/step - loss: 0.8211 - pi_loss: 0.4437 - v_loss: 0.3774\n",
            "Epoch 6/10\n",
            "203/203 [==============================] - 17s 83ms/step - loss: 0.7751 - pi_loss: 0.4183 - v_loss: 0.3568\n",
            "Epoch 7/10\n",
            "203/203 [==============================] - 17s 83ms/step - loss: 0.7413 - pi_loss: 0.4046 - v_loss: 0.3367\n",
            "Epoch 8/10\n",
            "203/203 [==============================] - 18s 87ms/step - loss: 0.7245 - pi_loss: 0.3948 - v_loss: 0.3297\n",
            "Epoch 9/10\n",
            "203/203 [==============================] - 17s 82ms/step - loss: 0.7029 - pi_loss: 0.3846 - v_loss: 0.3183\n",
            "Epoch 10/10\n",
            "203/203 [==============================] - 17s 83ms/step - loss: 0.6894 - pi_loss: 0.3778 - v_loss: 0.3116\n"
          ]
        },
        {
          "name": "stderr",
          "output_type": "stream",
          "text": [
            "2023-12-30 23:31:05 110595901d38 Coach[2121618] INFO PITTING AGAINST PREVIOUS VERSION\n",
            "Arena.playGames (1): 100%|██████████| 10/10 [05:30<00:00, 33.04s/it]\n",
            "Arena.playGames (2): 100%|██████████| 10/10 [02:54<00:00, 17.48s/it]\n",
            "2023-12-30 23:39:30 110595901d38 Coach[2121618] INFO NEW/PREV WINS : 9 / 10 ; DRAWS : 1\n",
            "2023-12-30 23:39:30 110595901d38 Coach[2121618] INFO REJECTING NEW MODEL\n",
            "2023-12-30 23:39:31 110595901d38 Coach[2121618] INFO Starting Iter #4 ...\n",
            "Self Play: 100%|██████████| 25/25 [10:24<00:00, 24.98s/it]\n"
          ]
        },
        {
          "name": "stdout",
          "output_type": "stream",
          "text": [
            "Checkpoint Directory exists! \n",
            "Epoch 1/10\n",
            "282/282 [==============================] - 26s 90ms/step - loss: 1.5108 - pi_loss: 0.8478 - v_loss: 0.6630\n",
            "Epoch 2/10\n",
            "282/282 [==============================] - 25s 88ms/step - loss: 1.1569 - pi_loss: 0.6178 - v_loss: 0.5391\n",
            "Epoch 3/10\n",
            "282/282 [==============================] - 25s 88ms/step - loss: 0.9971 - pi_loss: 0.5193 - v_loss: 0.4777\n",
            "Epoch 4/10\n",
            "282/282 [==============================] - 25s 89ms/step - loss: 0.9020 - pi_loss: 0.4734 - v_loss: 0.4285\n",
            "Epoch 5/10\n",
            "282/282 [==============================] - 25s 88ms/step - loss: 0.8345 - pi_loss: 0.4383 - v_loss: 0.3962\n",
            "Epoch 6/10\n",
            "282/282 [==============================] - 25s 89ms/step - loss: 0.7829 - pi_loss: 0.4104 - v_loss: 0.3725\n",
            "Epoch 7/10\n",
            "282/282 [==============================] - 25s 89ms/step - loss: 0.7513 - pi_loss: 0.3966 - v_loss: 0.3547\n",
            "Epoch 8/10\n",
            "282/282 [==============================] - 25s 89ms/step - loss: 0.7301 - pi_loss: 0.3873 - v_loss: 0.3428\n",
            "Epoch 9/10\n",
            "282/282 [==============================] - 25s 88ms/step - loss: 0.7100 - pi_loss: 0.3802 - v_loss: 0.3298\n",
            "Epoch 10/10\n",
            "282/282 [==============================] - 25s 89ms/step - loss: 0.6895 - pi_loss: 0.3702 - v_loss: 0.3193\n"
          ]
        },
        {
          "name": "stderr",
          "output_type": "stream",
          "text": [
            "2023-12-30 23:54:08 110595901d38 Coach[2121618] INFO PITTING AGAINST PREVIOUS VERSION\n",
            "Arena.playGames (1): 100%|██████████| 10/10 [06:27<00:00, 38.76s/it]\n",
            "Arena.playGames (2): 100%|██████████| 10/10 [06:11<00:00, 37.19s/it]\n",
            "2023-12-31 00:06:48 110595901d38 Coach[2121618] INFO NEW/PREV WINS : 13 / 7 ; DRAWS : 0\n",
            "2023-12-31 00:06:48 110595901d38 Coach[2121618] INFO ACCEPTING NEW MODEL\n"
          ]
        },
        {
          "name": "stdout",
          "output_type": "stream",
          "text": [
            "Checkpoint Directory exists! \n",
            "Checkpoint Directory exists! \n"
          ]
        },
        {
          "name": "stderr",
          "output_type": "stream",
          "text": [
            "2023-12-31 00:06:49 110595901d38 Coach[2121618] INFO Starting Iter #5 ...\n",
            "Self Play: 100%|██████████| 25/25 [09:00<00:00, 21.63s/it]\n"
          ]
        },
        {
          "name": "stdout",
          "output_type": "stream",
          "text": [
            "Checkpoint Directory exists! \n",
            "Epoch 1/10\n",
            "351/351 [==============================] - 31s 88ms/step - loss: 0.8957 - pi_loss: 0.5318 - v_loss: 0.3639\n",
            "Epoch 2/10\n",
            "351/351 [==============================] - 30s 87ms/step - loss: 0.7828 - pi_loss: 0.4510 - v_loss: 0.3318\n",
            "Epoch 3/10\n",
            "351/351 [==============================] - 31s 89ms/step - loss: 0.7331 - pi_loss: 0.4222 - v_loss: 0.3109\n",
            "Epoch 4/10\n",
            "351/351 [==============================] - 30s 86ms/step - loss: 0.7102 - pi_loss: 0.4084 - v_loss: 0.3018\n",
            "Epoch 5/10\n",
            "351/351 [==============================] - 31s 88ms/step - loss: 0.6905 - pi_loss: 0.3984 - v_loss: 0.2920\n",
            "Epoch 6/10\n",
            "351/351 [==============================] - 30s 85ms/step - loss: 0.6755 - pi_loss: 0.3880 - v_loss: 0.2875\n",
            "Epoch 7/10\n",
            "351/351 [==============================] - 31s 90ms/step - loss: 0.6637 - pi_loss: 0.3827 - v_loss: 0.2810\n",
            "Epoch 8/10\n",
            "351/351 [==============================] - 30s 86ms/step - loss: 0.6590 - pi_loss: 0.3810 - v_loss: 0.2780\n",
            "Epoch 9/10\n",
            "351/351 [==============================] - 32s 90ms/step - loss: 0.6501 - pi_loss: 0.3756 - v_loss: 0.2745\n",
            "Epoch 10/10\n",
            "351/351 [==============================] - 31s 88ms/step - loss: 0.6491 - pi_loss: 0.3762 - v_loss: 0.2729\n"
          ]
        },
        {
          "name": "stderr",
          "output_type": "stream",
          "text": [
            "2023-12-31 00:21:14 110595901d38 Coach[2121618] INFO PITTING AGAINST PREVIOUS VERSION\n",
            "Arena.playGames (1): 100%|██████████| 10/10 [03:49<00:00, 22.96s/it]\n",
            "Arena.playGames (2): 100%|██████████| 10/10 [01:37<00:00,  9.79s/it]\n",
            "2023-12-31 00:26:42 110595901d38 Coach[2121618] INFO NEW/PREV WINS : 10 / 6 ; DRAWS : 4\n",
            "2023-12-31 00:26:42 110595901d38 Coach[2121618] INFO ACCEPTING NEW MODEL\n"
          ]
        },
        {
          "name": "stdout",
          "output_type": "stream",
          "text": [
            "Checkpoint Directory exists! \n",
            "Checkpoint Directory exists! \n"
          ]
        },
        {
          "name": "stderr",
          "output_type": "stream",
          "text": [
            "2023-12-31 00:26:43 110595901d38 Coach[2121618] INFO Starting Iter #6 ...\n",
            "Self Play: 100%|██████████| 25/25 [07:48<00:00, 18.72s/it]\n"
          ]
        },
        {
          "name": "stdout",
          "output_type": "stream",
          "text": [
            "Checkpoint Directory exists! \n",
            "Epoch 1/10\n",
            "417/417 [==============================] - 34s 82ms/step - loss: 0.7535 - pi_loss: 0.4709 - v_loss: 0.2826\n",
            "Epoch 2/10\n",
            "417/417 [==============================] - 34s 81ms/step - loss: 0.6806 - pi_loss: 0.4134 - v_loss: 0.2672\n",
            "Epoch 3/10\n",
            "417/417 [==============================] - 34s 82ms/step - loss: 0.6521 - pi_loss: 0.3962 - v_loss: 0.2558\n",
            "Epoch 4/10\n",
            "417/417 [==============================] - 34s 81ms/step - loss: 0.6413 - pi_loss: 0.3880 - v_loss: 0.2533\n",
            "Epoch 5/10\n",
            "417/417 [==============================] - 34s 81ms/step - loss: 0.6319 - pi_loss: 0.3811 - v_loss: 0.2507\n",
            "Epoch 6/10\n",
            "417/417 [==============================] - 34s 81ms/step - loss: 0.6227 - pi_loss: 0.3759 - v_loss: 0.2468\n",
            "Epoch 7/10\n",
            "417/417 [==============================] - 33s 80ms/step - loss: 0.6232 - pi_loss: 0.3756 - v_loss: 0.2477\n",
            "Epoch 8/10\n",
            "417/417 [==============================] - 34s 81ms/step - loss: 0.6192 - pi_loss: 0.3741 - v_loss: 0.2451\n",
            "Epoch 9/10\n",
            "417/417 [==============================] - 34s 82ms/step - loss: 0.6116 - pi_loss: 0.3689 - v_loss: 0.2428\n",
            "Epoch 10/10\n",
            "417/417 [==============================] - 35s 83ms/step - loss: 0.6097 - pi_loss: 0.3695 - v_loss: 0.2402\n"
          ]
        },
        {
          "name": "stderr",
          "output_type": "stream",
          "text": [
            "2023-12-31 00:40:13 110595901d38 Coach[2121618] INFO PITTING AGAINST PREVIOUS VERSION\n",
            "Arena.playGames (1): 100%|██████████| 10/10 [03:23<00:00, 20.37s/it]\n",
            "Arena.playGames (2): 100%|██████████| 10/10 [01:36<00:00,  9.62s/it]\n",
            "2023-12-31 00:45:13 110595901d38 Coach[2121618] INFO NEW/PREV WINS : 10 / 10 ; DRAWS : 0\n",
            "2023-12-31 00:45:13 110595901d38 Coach[2121618] INFO REJECTING NEW MODEL\n",
            "2023-12-31 00:45:15 110595901d38 Coach[2121618] INFO Starting Iter #7 ...\n",
            "Self Play: 100%|██████████| 25/25 [07:51<00:00, 18.84s/it]\n"
          ]
        },
        {
          "name": "stdout",
          "output_type": "stream",
          "text": [
            "Checkpoint Directory exists! \n",
            "Epoch 1/10\n",
            "482/482 [==============================] - 41s 82ms/step - loss: 0.8482 - pi_loss: 0.4994 - v_loss: 0.3488\n",
            "Epoch 2/10\n",
            "482/482 [==============================] - 39s 82ms/step - loss: 0.7459 - pi_loss: 0.4270 - v_loss: 0.3189\n",
            "Epoch 3/10\n",
            "482/482 [==============================] - 40s 82ms/step - loss: 0.7057 - pi_loss: 0.4000 - v_loss: 0.3057\n",
            "Epoch 4/10\n",
            "482/482 [==============================] - 40s 82ms/step - loss: 0.6836 - pi_loss: 0.3885 - v_loss: 0.2951\n",
            "Epoch 5/10\n",
            "482/482 [==============================] - 39s 81ms/step - loss: 0.6690 - pi_loss: 0.3819 - v_loss: 0.2871\n",
            "Epoch 6/10\n",
            "482/482 [==============================] - 39s 81ms/step - loss: 0.6578 - pi_loss: 0.3750 - v_loss: 0.2828\n",
            "Epoch 7/10\n",
            "482/482 [==============================] - 40s 82ms/step - loss: 0.6541 - pi_loss: 0.3745 - v_loss: 0.2795\n",
            "Epoch 8/10\n",
            "482/482 [==============================] - 39s 81ms/step - loss: 0.6453 - pi_loss: 0.3716 - v_loss: 0.2737\n",
            "Epoch 9/10\n",
            "482/482 [==============================] - 40s 83ms/step - loss: 0.6445 - pi_loss: 0.3710 - v_loss: 0.2735\n",
            "Epoch 10/10\n",
            "482/482 [==============================] - 39s 82ms/step - loss: 0.6355 - pi_loss: 0.3662 - v_loss: 0.2693\n"
          ]
        },
        {
          "name": "stderr",
          "output_type": "stream",
          "text": [
            "2023-12-31 01:00:32 110595901d38 Coach[2121618] INFO PITTING AGAINST PREVIOUS VERSION\n",
            "Arena.playGames (1): 100%|██████████| 10/10 [06:19<00:00, 37.99s/it]\n",
            "Arena.playGames (2): 100%|██████████| 10/10 [06:00<00:00, 36.04s/it]\n",
            "2023-12-31 01:12:52 110595901d38 Coach[2121618] INFO NEW/PREV WINS : 7 / 13 ; DRAWS : 0\n",
            "2023-12-31 01:12:52 110595901d38 Coach[2121618] INFO REJECTING NEW MODEL\n",
            "2023-12-31 01:12:54 110595901d38 Coach[2121618] INFO Starting Iter #8 ...\n",
            "Self Play: 100%|██████████| 25/25 [05:42<00:00, 13.69s/it]\n"
          ]
        },
        {
          "name": "stdout",
          "output_type": "stream",
          "text": [
            "Checkpoint Directory exists! \n",
            "Epoch 1/10\n",
            "530/530 [==============================] - 44s 82ms/step - loss: 0.8921 - pi_loss: 0.5216 - v_loss: 0.3705\n",
            "Epoch 2/10\n",
            "530/530 [==============================] - 44s 82ms/step - loss: 0.7652 - pi_loss: 0.4368 - v_loss: 0.3284\n",
            "Epoch 3/10\n",
            "530/530 [==============================] - 43s 82ms/step - loss: 0.7226 - pi_loss: 0.4109 - v_loss: 0.3117\n",
            "Epoch 4/10\n",
            "530/530 [==============================] - 43s 82ms/step - loss: 0.6943 - pi_loss: 0.3991 - v_loss: 0.2952\n",
            "Epoch 5/10\n",
            "530/530 [==============================] - 45s 84ms/step - loss: 0.6744 - pi_loss: 0.3881 - v_loss: 0.2863\n",
            "Epoch 6/10\n",
            "530/530 [==============================] - 43s 82ms/step - loss: 0.6640 - pi_loss: 0.3852 - v_loss: 0.2788\n",
            "Epoch 7/10\n",
            "530/530 [==============================] - 44s 83ms/step - loss: 0.6546 - pi_loss: 0.3814 - v_loss: 0.2732\n",
            "Epoch 8/10\n",
            "530/530 [==============================] - 43s 82ms/step - loss: 0.6481 - pi_loss: 0.3765 - v_loss: 0.2716\n",
            "Epoch 9/10\n",
            "530/530 [==============================] - 44s 83ms/step - loss: 0.6411 - pi_loss: 0.3733 - v_loss: 0.2678\n",
            "Epoch 10/10\n",
            "530/530 [==============================] - 44s 83ms/step - loss: 0.6386 - pi_loss: 0.3726 - v_loss: 0.2660\n"
          ]
        },
        {
          "name": "stderr",
          "output_type": "stream",
          "text": [
            "2023-12-31 01:26:02 110595901d38 Coach[2121618] INFO PITTING AGAINST PREVIOUS VERSION\n",
            "Arena.playGames (1): 100%|██████████| 10/10 [05:28<00:00, 32.89s/it]\n",
            "Arena.playGames (2): 100%|██████████| 10/10 [04:01<00:00, 24.19s/it]\n",
            "2023-12-31 01:35:33 110595901d38 Coach[2121618] INFO NEW/PREV WINS : 10 / 10 ; DRAWS : 0\n",
            "2023-12-31 01:35:33 110595901d38 Coach[2121618] INFO REJECTING NEW MODEL\n",
            "2023-12-31 01:35:34 110595901d38 Coach[2121618] INFO Starting Iter #9 ...\n",
            "Self Play: 100%|██████████| 25/25 [06:51<00:00, 16.48s/it]\n"
          ]
        },
        {
          "name": "stdout",
          "output_type": "stream",
          "text": [
            "Checkpoint Directory exists! \n",
            "Epoch 1/10\n",
            "593/593 [==============================] - 51s 83ms/step - loss: 0.9698 - pi_loss: 0.5331 - v_loss: 0.4366\n",
            "Epoch 2/10\n",
            "593/593 [==============================] - 50s 84ms/step - loss: 0.8224 - pi_loss: 0.4453 - v_loss: 0.3771\n",
            "Epoch 3/10\n",
            "593/593 [==============================] - 49s 83ms/step - loss: 0.7680 - pi_loss: 0.4158 - v_loss: 0.3521\n",
            "Epoch 4/10\n",
            "593/593 [==============================] - 49s 83ms/step - loss: 0.7363 - pi_loss: 0.4016 - v_loss: 0.3347\n",
            "Epoch 5/10\n",
            "593/593 [==============================] - 49s 83ms/step - loss: 0.7158 - pi_loss: 0.3908 - v_loss: 0.3250\n",
            "Epoch 6/10\n",
            "593/593 [==============================] - 49s 83ms/step - loss: 0.7023 - pi_loss: 0.3866 - v_loss: 0.3157\n",
            "Epoch 7/10\n",
            "593/593 [==============================] - 49s 82ms/step - loss: 0.6914 - pi_loss: 0.3805 - v_loss: 0.3109\n",
            "Epoch 8/10\n",
            "593/593 [==============================] - 49s 83ms/step - loss: 0.6830 - pi_loss: 0.3762 - v_loss: 0.3067\n",
            "Epoch 9/10\n",
            "593/593 [==============================] - 49s 83ms/step - loss: 0.6792 - pi_loss: 0.3752 - v_loss: 0.3040\n",
            "Epoch 10/10\n",
            "593/593 [==============================] - 49s 83ms/step - loss: 0.6732 - pi_loss: 0.3746 - v_loss: 0.2987\n"
          ]
        },
        {
          "name": "stderr",
          "output_type": "stream",
          "text": [
            "2023-12-31 01:50:43 110595901d38 Coach[2121618] INFO PITTING AGAINST PREVIOUS VERSION\n",
            "Arena.playGames (1): 100%|██████████| 10/10 [05:57<00:00, 35.79s/it]\n",
            "Arena.playGames (2): 100%|██████████| 10/10 [04:09<00:00, 24.94s/it]\n",
            "2023-12-31 02:00:51 110595901d38 Coach[2121618] INFO NEW/PREV WINS : 14 / 5 ; DRAWS : 1\n",
            "2023-12-31 02:00:51 110595901d38 Coach[2121618] INFO ACCEPTING NEW MODEL\n"
          ]
        },
        {
          "name": "stdout",
          "output_type": "stream",
          "text": [
            "Checkpoint Directory exists! \n",
            "Checkpoint Directory exists! \n"
          ]
        },
        {
          "name": "stderr",
          "output_type": "stream",
          "text": [
            "2023-12-31 02:00:52 110595901d38 Coach[2121618] INFO Starting Iter #10 ...\n",
            "Self Play: 100%|██████████| 25/25 [08:56<00:00, 21.48s/it]\n"
          ]
        },
        {
          "name": "stdout",
          "output_type": "stream",
          "text": [
            "Checkpoint Directory exists! \n",
            "Epoch 1/10\n",
            "661/661 [==============================] - 59s 88ms/step - loss: 0.7834 - pi_loss: 0.4573 - v_loss: 0.3261\n",
            "Epoch 2/10\n",
            "661/661 [==============================] - 58s 88ms/step - loss: 0.7195 - pi_loss: 0.4114 - v_loss: 0.3080\n",
            "Epoch 3/10\n",
            "661/661 [==============================] - 58s 88ms/step - loss: 0.6945 - pi_loss: 0.3938 - v_loss: 0.3007\n",
            "Epoch 4/10\n",
            "661/661 [==============================] - 55s 83ms/step - loss: 0.6798 - pi_loss: 0.3864 - v_loss: 0.2935\n",
            "Epoch 5/10\n",
            "661/661 [==============================] - 55s 84ms/step - loss: 0.6720 - pi_loss: 0.3833 - v_loss: 0.2888\n",
            "Epoch 6/10\n",
            "661/661 [==============================] - 54s 82ms/step - loss: 0.6663 - pi_loss: 0.3780 - v_loss: 0.2882\n",
            "Epoch 7/10\n",
            "661/661 [==============================] - 55s 83ms/step - loss: 0.6584 - pi_loss: 0.3758 - v_loss: 0.2825\n",
            "Epoch 8/10\n",
            "661/661 [==============================] - 55s 83ms/step - loss: 0.6560 - pi_loss: 0.3740 - v_loss: 0.2820\n",
            "Epoch 9/10\n",
            "661/661 [==============================] - 55s 83ms/step - loss: 0.6508 - pi_loss: 0.3725 - v_loss: 0.2783\n",
            "Epoch 10/10\n",
            "661/661 [==============================] - 54s 82ms/step - loss: 0.6465 - pi_loss: 0.3695 - v_loss: 0.2770\n"
          ]
        },
        {
          "name": "stderr",
          "output_type": "stream",
          "text": [
            "2023-12-31 02:19:12 110595901d38 Coach[2121618] INFO PITTING AGAINST PREVIOUS VERSION\n",
            "Arena.playGames (1): 100%|██████████| 10/10 [05:46<00:00, 34.63s/it]\n",
            "Arena.playGames (2): 100%|██████████| 10/10 [07:58<00:00, 47.82s/it]\n",
            "2023-12-31 02:32:57 110595901d38 Coach[2121618] INFO NEW/PREV WINS : 7 / 13 ; DRAWS : 0\n",
            "2023-12-31 02:32:57 110595901d38 Coach[2121618] INFO REJECTING NEW MODEL\n",
            "2023-12-31 02:32:58 110595901d38 Coach[2121618] INFO Starting Iter #11 ...\n",
            "Self Play: 100%|██████████| 25/25 [07:55<00:00, 19.03s/it]\n"
          ]
        },
        {
          "name": "stdout",
          "output_type": "stream",
          "text": [
            "Checkpoint Directory exists! \n",
            "Epoch 1/10\n",
            "719/719 [==============================] - 60s 82ms/step - loss: 0.8746 - pi_loss: 0.4946 - v_loss: 0.3800\n",
            "Epoch 2/10\n",
            "499/719 [===================>..........] - ETA: 17s - loss: 0.7733 - pi_loss: 0.4249 - v_loss: 0.3484"
          ]
        }
      ],
      "source": [
        "args = dotdict({\n",
        "    'numIters':20,\n",
        "    'numEps': 25,              # Number of complete self-play games to simulate during a new iteration.\n",
        "    'tempThreshold': 15,        #\n",
        "    'updateThreshold': 0.6,     # During arena playoff, new neural net will be accepted if threshold or more of games are won.\n",
        "    'maxlenOfQueue': 50000,    # Number of game examples to train the neural networks.\n",
        "    'numMCTSSims': 25,          # Number of games moves for MCTS to simulate.\n",
        "    'arenaCompare': 20,         # Number of games to play during arena play to determine if new net will be accepted.\n",
        "    'cpuct': 1,\n",
        "\n",
        "    'checkpoint': '/content/drive/MyDrive/trabalho2_liacd/models/ataxx/5x5',\n",
        "    'load_model': True,\n",
        "    'load_folder_file': ('/content/drive/MyDrive/trabalho2_liacd/models/ataxx/5x5', 'best.h5'),\n",
        "    'numItersForTrainExamplesHistory': 20,\n",
        "\n",
        "})\n",
        "\n",
        "\n",
        "log.info('Loading %s...', Game.__name__)\n",
        "g = Game(5)\n",
        "\n",
        "log.info('Loading %s...', nn.__name__)\n",
        "nnet = nn(g)\n",
        "\n",
        "if args.load_model:\n",
        "    log.info('Loading checkpoint \"%s/%s\"...', args.load_folder_file[0], args.load_folder_file[1])\n",
        "    nnet.load_model(args.load_folder_file[0], args.load_folder_file[1])\n",
        "else:\n",
        "    log.warning('Not loading a checkpoint!')\n",
        "\n",
        "log.info('Loading the Coach...')\n",
        "c = Coach(g, nnet, args)\n",
        "\n",
        "if args.load_model:\n",
        "    log.info(\"Loading 'trainExamples' from file...\")\n",
        "    c.loadTrainExamples()\n",
        "\n",
        "log.info('Starting the learning process 🎉')\n",
        "c.learn()\n",
        "\n"
      ]
    },
    {
      "cell_type": "markdown",
      "metadata": {
        "id": "HN096dof-jyI"
      },
      "source": [
        "#Décimo Primeiro Treino"
      ]
    },
    {
      "cell_type": "code",
      "execution_count": null,
      "metadata": {
        "colab": {
          "background_save": true,
          "base_uri": "https://localhost:8080/"
        },
        "id": "mvUQNbFN-liG",
        "outputId": "2afb6fb4-0f98-4b24-e29c-acea284eb786"
      },
      "outputs": [
        {
          "name": "stderr",
          "output_type": "stream",
          "text": [
            "2023-12-31 13:05:16 f95bc5ebb2eb __main__[145] INFO Loading AtaxxGame...\n",
            "2023-12-31 13:05:16 f95bc5ebb2eb __main__[145] INFO Loading NNetWrapper...\n",
            "2023-12-31 13:05:16 f95bc5ebb2eb __main__[145] INFO Loading checkpoint \"/content/drive/MyDrive/trabalho2_liacd/models/ataxx/5x5/best.h5\"...\n",
            "2023-12-31 13:05:20 f95bc5ebb2eb __main__[145] INFO Loading the Coach...\n",
            "2023-12-31 13:05:21 f95bc5ebb2eb __main__[145] INFO Loading 'trainExamples' from file...\n",
            "2023-12-31 13:05:21 f95bc5ebb2eb Coach[145] WARNING File \"/content/drive/MyDrive/trabalho2_liacd/models/ataxx/5x5/best.h5.examples\" with trainExamples not found!\n",
            "2023-12-31 13:05:22 f95bc5ebb2eb __main__[145] INFO Starting the learning process 🎉\n",
            "2023-12-31 13:05:22 f95bc5ebb2eb Coach[145] INFO Starting Iter #1 ...\n",
            "Self Play: 100%|██████████| 25/25 [12:29<00:00, 29.96s/it]\n"
          ]
        },
        {
          "name": "stdout",
          "output_type": "stream",
          "text": [
            "Checkpoint Directory exists! \n"
          ]
        },
        {
          "name": "stderr",
          "output_type": "stream",
          "text": [
            "/usr/local/lib/python3.10/dist-packages/keras/src/engine/training.py:3103: UserWarning: You are saving your model as an HDF5 file via `model.save()`. This file format is considered legacy. We recommend using instead the native Keras format, e.g. `model.save('my_model.keras')`.\n",
            "  saving_api.save_model(\n"
          ]
        },
        {
          "name": "stdout",
          "output_type": "stream",
          "text": [
            "Epoch 1/10\n",
            "73/73 [==============================] - 12s 145ms/step - loss: 1.6816 - pi_loss: 0.9723 - v_loss: 0.7093\n",
            "Epoch 2/10\n",
            "73/73 [==============================] - 11s 148ms/step - loss: 1.0959 - pi_loss: 0.6148 - v_loss: 0.4811\n",
            "Epoch 3/10\n",
            "73/73 [==============================] - 8s 110ms/step - loss: 0.8976 - pi_loss: 0.4977 - v_loss: 0.3999\n",
            "Epoch 4/10\n",
            "73/73 [==============================] - 10s 139ms/step - loss: 0.7930 - pi_loss: 0.4410 - v_loss: 0.3520\n",
            "Epoch 5/10\n",
            "73/73 [==============================] - 10s 135ms/step - loss: 0.7327 - pi_loss: 0.4106 - v_loss: 0.3221\n",
            "Epoch 6/10\n",
            "73/73 [==============================] - 9s 125ms/step - loss: 0.6980 - pi_loss: 0.3784 - v_loss: 0.3195\n",
            "Epoch 7/10\n",
            "73/73 [==============================] - 10s 144ms/step - loss: 0.6702 - pi_loss: 0.3660 - v_loss: 0.3042\n",
            "Epoch 8/10\n",
            "73/73 [==============================] - 8s 110ms/step - loss: 0.6365 - pi_loss: 0.3540 - v_loss: 0.2825\n",
            "Epoch 9/10\n",
            "73/73 [==============================] - 12s 168ms/step - loss: 0.6251 - pi_loss: 0.3420 - v_loss: 0.2831\n",
            "Epoch 10/10\n",
            "73/73 [==============================] - 10s 142ms/step - loss: 0.6142 - pi_loss: 0.3415 - v_loss: 0.2727\n"
          ]
        },
        {
          "name": "stderr",
          "output_type": "stream",
          "text": [
            "2023-12-31 13:19:35 f95bc5ebb2eb Coach[145] INFO PITTING AGAINST PREVIOUS VERSION\n",
            "Arena.playGames (1): 100%|██████████| 10/10 [09:17<00:00, 55.76s/it]\n",
            "Arena.playGames (2): 100%|██████████| 10/10 [06:46<00:00, 40.60s/it]\n",
            "2023-12-31 13:35:39 f95bc5ebb2eb Coach[145] INFO NEW/PREV WINS : 12 / 8 ; DRAWS : 0\n",
            "2023-12-31 13:35:39 f95bc5ebb2eb Coach[145] INFO ACCEPTING NEW MODEL\n"
          ]
        },
        {
          "name": "stdout",
          "output_type": "stream",
          "text": [
            "Checkpoint Directory exists! \n",
            "Checkpoint Directory exists! \n"
          ]
        },
        {
          "name": "stderr",
          "output_type": "stream",
          "text": [
            "2023-12-31 13:35:40 f95bc5ebb2eb Coach[145] INFO Starting Iter #2 ...\n",
            "Self Play: 100%|██████████| 25/25 [12:13<00:00, 29.35s/it]\n"
          ]
        },
        {
          "name": "stdout",
          "output_type": "stream",
          "text": [
            "Checkpoint Directory exists! \n",
            "Epoch 1/10\n",
            "144/144 [==============================] - 19s 132ms/step - loss: 1.1281 - pi_loss: 0.6472 - v_loss: 0.4808\n",
            "Epoch 2/10\n",
            "144/144 [==============================] - 18s 126ms/step - loss: 0.8754 - pi_loss: 0.4743 - v_loss: 0.4011\n",
            "Epoch 3/10\n",
            "144/144 [==============================] - 18s 126ms/step - loss: 0.7861 - pi_loss: 0.4236 - v_loss: 0.3625\n",
            "Epoch 4/10\n",
            "144/144 [==============================] - 19s 129ms/step - loss: 0.7386 - pi_loss: 0.4013 - v_loss: 0.3373\n",
            "Epoch 5/10\n",
            "144/144 [==============================] - 18s 129ms/step - loss: 0.6990 - pi_loss: 0.3783 - v_loss: 0.3207\n",
            "Epoch 6/10\n",
            "144/144 [==============================] - 20s 139ms/step - loss: 0.6835 - pi_loss: 0.3695 - v_loss: 0.3140\n",
            "Epoch 7/10\n",
            "144/144 [==============================] - 19s 131ms/step - loss: 0.6650 - pi_loss: 0.3587 - v_loss: 0.3063\n",
            "Epoch 8/10\n",
            "144/144 [==============================] - 19s 133ms/step - loss: 0.6454 - pi_loss: 0.3515 - v_loss: 0.2939\n",
            "Epoch 9/10\n",
            "144/144 [==============================] - 19s 130ms/step - loss: 0.6421 - pi_loss: 0.3509 - v_loss: 0.2912\n",
            "Epoch 10/10\n",
            "144/144 [==============================] - 19s 131ms/step - loss: 0.6311 - pi_loss: 0.3465 - v_loss: 0.2846\n"
          ]
        },
        {
          "name": "stderr",
          "output_type": "stream",
          "text": [
            "2023-12-31 13:51:06 f95bc5ebb2eb Coach[145] INFO PITTING AGAINST PREVIOUS VERSION\n",
            "Arena.playGames (1): 100%|██████████| 10/10 [06:33<00:00, 39.37s/it]\n",
            "Arena.playGames (2): 100%|██████████| 10/10 [09:51<00:00, 59.17s/it]\n",
            "2023-12-31 14:07:31 f95bc5ebb2eb Coach[145] INFO NEW/PREV WINS : 5 / 15 ; DRAWS : 0\n",
            "2023-12-31 14:07:31 f95bc5ebb2eb Coach[145] INFO REJECTING NEW MODEL\n",
            "2023-12-31 14:07:33 f95bc5ebb2eb Coach[145] INFO Starting Iter #3 ...\n",
            "Self Play: 100%|██████████| 25/25 [12:55<00:00, 31.03s/it]\n"
          ]
        },
        {
          "name": "stdout",
          "output_type": "stream",
          "text": [
            "Checkpoint Directory exists! \n",
            "Epoch 1/10\n",
            "217/217 [==============================] - 30s 130ms/step - loss: 1.2755 - pi_loss: 0.7318 - v_loss: 0.5437\n",
            "Epoch 2/10\n",
            "217/217 [==============================] - 28s 127ms/step - loss: 1.0034 - pi_loss: 0.5522 - v_loss: 0.4512\n",
            "Epoch 3/10\n",
            "217/217 [==============================] - 30s 138ms/step - loss: 0.8951 - pi_loss: 0.4904 - v_loss: 0.4047\n",
            "Epoch 4/10\n",
            "217/217 [==============================] - 31s 143ms/step - loss: 0.8190 - pi_loss: 0.4470 - v_loss: 0.3720\n",
            "Epoch 5/10\n",
            "217/217 [==============================] - 30s 138ms/step - loss: 0.7691 - pi_loss: 0.4204 - v_loss: 0.3487\n",
            "Epoch 6/10\n",
            "217/217 [==============================] - 28s 131ms/step - loss: 0.7352 - pi_loss: 0.4052 - v_loss: 0.3300\n",
            "Epoch 7/10\n",
            "217/217 [==============================] - 29s 135ms/step - loss: 0.7034 - pi_loss: 0.3923 - v_loss: 0.3111\n",
            "Epoch 8/10\n",
            "217/217 [==============================] - 26s 120ms/step - loss: 0.6822 - pi_loss: 0.3865 - v_loss: 0.2957\n",
            "Epoch 9/10\n",
            "217/217 [==============================] - 29s 131ms/step - loss: 0.6671 - pi_loss: 0.3821 - v_loss: 0.2850\n",
            "Epoch 10/10\n",
            "217/217 [==============================] - 28s 128ms/step - loss: 0.6473 - pi_loss: 0.3709 - v_loss: 0.2764\n"
          ]
        },
        {
          "name": "stderr",
          "output_type": "stream",
          "text": [
            "2023-12-31 14:25:21 f95bc5ebb2eb Coach[145] INFO PITTING AGAINST PREVIOUS VERSION\n",
            "Arena.playGames (1): 100%|██████████| 10/10 [07:01<00:00, 42.17s/it]\n",
            "Arena.playGames (2): 100%|██████████| 10/10 [05:10<00:00, 31.09s/it]\n",
            "2023-12-31 14:37:33 f95bc5ebb2eb Coach[145] INFO NEW/PREV WINS : 11 / 9 ; DRAWS : 0\n",
            "2023-12-31 14:37:33 f95bc5ebb2eb Coach[145] INFO REJECTING NEW MODEL\n",
            "2023-12-31 14:37:35 f95bc5ebb2eb Coach[145] INFO Starting Iter #4 ...\n",
            "Self Play: 100%|██████████| 25/25 [09:12<00:00, 22.11s/it]\n"
          ]
        },
        {
          "name": "stdout",
          "output_type": "stream",
          "text": [
            "Checkpoint Directory exists! \n",
            "Epoch 1/10\n",
            "270/270 [==============================] - 37s 132ms/step - loss: 1.2670 - pi_loss: 0.7331 - v_loss: 0.5339\n",
            "Epoch 2/10\n",
            "270/270 [==============================] - 36s 132ms/step - loss: 0.9796 - pi_loss: 0.5466 - v_loss: 0.4330\n",
            "Epoch 3/10\n",
            "270/270 [==============================] - 38s 139ms/step - loss: 0.8720 - pi_loss: 0.4825 - v_loss: 0.3895\n",
            "Epoch 4/10\n",
            "270/270 [==============================] - 35s 130ms/step - loss: 0.8009 - pi_loss: 0.4462 - v_loss: 0.3547\n",
            "Epoch 5/10\n",
            "270/270 [==============================] - 39s 145ms/step - loss: 0.7551 - pi_loss: 0.4250 - v_loss: 0.3301\n",
            "Epoch 6/10\n",
            "270/270 [==============================] - 36s 132ms/step - loss: 0.7247 - pi_loss: 0.4087 - v_loss: 0.3160\n",
            "Epoch 7/10\n",
            "270/270 [==============================] - 35s 130ms/step - loss: 0.7043 - pi_loss: 0.3990 - v_loss: 0.3054\n",
            "Epoch 8/10\n",
            "270/270 [==============================] - 37s 138ms/step - loss: 0.6772 - pi_loss: 0.3869 - v_loss: 0.2903\n",
            "Epoch 9/10\n",
            "270/270 [==============================] - 36s 132ms/step - loss: 0.6652 - pi_loss: 0.3825 - v_loss: 0.2827\n",
            "Epoch 10/10\n",
            "270/270 [==============================] - 35s 131ms/step - loss: 0.6573 - pi_loss: 0.3780 - v_loss: 0.2792\n"
          ]
        },
        {
          "name": "stderr",
          "output_type": "stream",
          "text": [
            "2023-12-31 14:52:55 f95bc5ebb2eb Coach[145] INFO PITTING AGAINST PREVIOUS VERSION\n",
            "Arena.playGames (1): 100%|██████████| 10/10 [07:27<00:00, 44.70s/it]\n",
            "Arena.playGames (2): 100%|██████████| 10/10 [07:09<00:00, 42.91s/it]\n",
            "2023-12-31 15:07:31 f95bc5ebb2eb Coach[145] INFO NEW/PREV WINS : 9 / 11 ; DRAWS : 0\n",
            "2023-12-31 15:07:31 f95bc5ebb2eb Coach[145] INFO REJECTING NEW MODEL\n",
            "2023-12-31 15:07:33 f95bc5ebb2eb Coach[145] INFO Starting Iter #5 ...\n",
            "Self Play: 100%|██████████| 25/25 [14:45<00:00, 35.41s/it]\n"
          ]
        },
        {
          "name": "stdout",
          "output_type": "stream",
          "text": [
            "Checkpoint Directory exists! \n",
            "Epoch 1/10\n",
            "349/349 [==============================] - 46s 128ms/step - loss: 1.2995 - pi_loss: 0.7203 - v_loss: 0.5791\n",
            "Epoch 2/10\n",
            "349/349 [==============================] - 47s 134ms/step - loss: 1.0289 - pi_loss: 0.5485 - v_loss: 0.4804\n",
            "Epoch 3/10\n",
            "349/349 [==============================] - 45s 128ms/step - loss: 0.9211 - pi_loss: 0.4873 - v_loss: 0.4337\n",
            "Epoch 4/10\n",
            "349/349 [==============================] - 45s 130ms/step - loss: 0.8535 - pi_loss: 0.4474 - v_loss: 0.4061\n",
            "Epoch 5/10\n",
            "349/349 [==============================] - 44s 127ms/step - loss: 0.8048 - pi_loss: 0.4251 - v_loss: 0.3796\n",
            "Epoch 6/10\n",
            "349/349 [==============================] - 44s 125ms/step - loss: 0.7696 - pi_loss: 0.4068 - v_loss: 0.3628\n",
            "Epoch 7/10\n",
            "349/349 [==============================] - 45s 128ms/step - loss: 0.7441 - pi_loss: 0.3975 - v_loss: 0.3465\n",
            "Epoch 8/10\n",
            "349/349 [==============================] - 45s 128ms/step - loss: 0.7188 - pi_loss: 0.3833 - v_loss: 0.3355\n",
            "Epoch 9/10\n",
            "349/349 [==============================] - 45s 129ms/step - loss: 0.7034 - pi_loss: 0.3795 - v_loss: 0.3239\n",
            "Epoch 10/10\n",
            "349/349 [==============================] - 45s 129ms/step - loss: 0.6864 - pi_loss: 0.3718 - v_loss: 0.3146\n"
          ]
        },
        {
          "name": "stderr",
          "output_type": "stream",
          "text": [
            "2023-12-31 15:30:46 f95bc5ebb2eb Coach[145] INFO PITTING AGAINST PREVIOUS VERSION\n",
            "Arena.playGames (1): 100%|██████████| 10/10 [07:14<00:00, 43.45s/it]\n",
            "Arena.playGames (2): 100%|██████████| 10/10 [05:31<00:00, 33.14s/it]\n",
            "2023-12-31 15:43:32 f95bc5ebb2eb Coach[145] INFO NEW/PREV WINS : 12 / 8 ; DRAWS : 0\n",
            "2023-12-31 15:43:32 f95bc5ebb2eb Coach[145] INFO ACCEPTING NEW MODEL\n"
          ]
        },
        {
          "name": "stdout",
          "output_type": "stream",
          "text": [
            "Checkpoint Directory exists! \n"
          ]
        },
        {
          "name": "stderr",
          "output_type": "stream",
          "text": [
            "2023-12-31 15:43:35 f95bc5ebb2eb Coach[145] INFO Starting Iter #6 ...\n"
          ]
        },
        {
          "name": "stdout",
          "output_type": "stream",
          "text": [
            "Checkpoint Directory exists! \n"
          ]
        },
        {
          "name": "stderr",
          "output_type": "stream",
          "text": [
            "Self Play: 100%|██████████| 25/25 [12:26<00:00, 29.88s/it]\n"
          ]
        },
        {
          "name": "stdout",
          "output_type": "stream",
          "text": [
            "Checkpoint Directory exists! \n",
            "Epoch 1/10\n",
            "415/415 [==============================] - 59s 143ms/step - loss: 0.8954 - pi_loss: 0.5041 - v_loss: 0.3913\n",
            "Epoch 2/10\n",
            "415/415 [==============================] - 53s 128ms/step - loss: 0.7926 - pi_loss: 0.4355 - v_loss: 0.3571\n",
            "Epoch 3/10\n",
            "415/415 [==============================] - 55s 133ms/step - loss: 0.7474 - pi_loss: 0.4089 - v_loss: 0.3385\n",
            "Epoch 4/10\n",
            "415/415 [==============================] - 55s 132ms/step - loss: 0.7251 - pi_loss: 0.4003 - v_loss: 0.3248\n",
            "Epoch 5/10\n",
            "415/415 [==============================] - 57s 137ms/step - loss: 0.7086 - pi_loss: 0.3913 - v_loss: 0.3173\n",
            "Epoch 6/10\n",
            "415/415 [==============================] - 54s 130ms/step - loss: 0.6966 - pi_loss: 0.3832 - v_loss: 0.3134\n",
            "Epoch 7/10\n",
            "415/415 [==============================] - 56s 134ms/step - loss: 0.6840 - pi_loss: 0.3807 - v_loss: 0.3033\n",
            "Epoch 8/10\n",
            "415/415 [==============================] - 55s 131ms/step - loss: 0.6710 - pi_loss: 0.3747 - v_loss: 0.2963\n",
            "Epoch 9/10\n",
            "415/415 [==============================] - 57s 137ms/step - loss: 0.6680 - pi_loss: 0.3741 - v_loss: 0.2939\n",
            "Epoch 10/10\n",
            "415/415 [==============================] - 55s 133ms/step - loss: 0.6595 - pi_loss: 0.3695 - v_loss: 0.2900\n"
          ]
        },
        {
          "name": "stderr",
          "output_type": "stream",
          "text": [
            "2023-12-31 16:05:28 f95bc5ebb2eb Coach[145] INFO PITTING AGAINST PREVIOUS VERSION\n",
            "Arena.playGames (1): 100%|██████████| 10/10 [07:45<00:00, 46.57s/it]\n",
            "Arena.playGames (2): 100%|██████████| 10/10 [07:33<00:00, 45.34s/it]\n",
            "2023-12-31 16:20:47 f95bc5ebb2eb Coach[145] INFO NEW/PREV WINS : 12 / 8 ; DRAWS : 0\n",
            "2023-12-31 16:20:47 f95bc5ebb2eb Coach[145] INFO ACCEPTING NEW MODEL\n"
          ]
        },
        {
          "name": "stdout",
          "output_type": "stream",
          "text": [
            "Checkpoint Directory exists! \n",
            "Checkpoint Directory exists! \n"
          ]
        },
        {
          "name": "stderr",
          "output_type": "stream",
          "text": [
            "2023-12-31 16:20:50 f95bc5ebb2eb Coach[145] INFO Starting Iter #7 ...\n",
            "Self Play: 100%|██████████| 25/25 [09:23<00:00, 22.56s/it]\n"
          ]
        },
        {
          "name": "stdout",
          "output_type": "stream",
          "text": [
            "Checkpoint Directory exists! \n",
            "Epoch 1/10\n",
            "468/468 [==============================] - 63s 135ms/step - loss: 0.8095 - pi_loss: 0.4522 - v_loss: 0.3573\n",
            "Epoch 2/10\n",
            "468/468 [==============================] - 63s 135ms/step - loss: 0.7505 - pi_loss: 0.4152 - v_loss: 0.3352\n",
            "Epoch 3/10\n",
            "468/468 [==============================] - 63s 134ms/step - loss: 0.7239 - pi_loss: 0.4008 - v_loss: 0.3231\n",
            "Epoch 4/10\n",
            "468/468 [==============================] - 63s 134ms/step - loss: 0.7007 - pi_loss: 0.3907 - v_loss: 0.3100\n",
            "Epoch 5/10\n",
            "468/468 [==============================] - 63s 136ms/step - loss: 0.6924 - pi_loss: 0.3866 - v_loss: 0.3058\n",
            "Epoch 6/10\n",
            "468/468 [==============================] - 63s 135ms/step - loss: 0.6851 - pi_loss: 0.3841 - v_loss: 0.3010\n",
            "Epoch 7/10\n",
            "468/468 [==============================] - 63s 135ms/step - loss: 0.6774 - pi_loss: 0.3795 - v_loss: 0.2979\n",
            "Epoch 8/10\n",
            "468/468 [==============================] - 63s 135ms/step - loss: 0.6717 - pi_loss: 0.3779 - v_loss: 0.2938\n",
            "Epoch 9/10\n",
            "468/468 [==============================] - 63s 134ms/step - loss: 0.6690 - pi_loss: 0.3771 - v_loss: 0.2919\n",
            "Epoch 10/10\n",
            "468/468 [==============================] - 66s 141ms/step - loss: 0.6644 - pi_loss: 0.3764 - v_loss: 0.2880\n"
          ]
        },
        {
          "name": "stderr",
          "output_type": "stream",
          "text": [
            "2023-12-31 16:40:52 f95bc5ebb2eb Coach[145] INFO PITTING AGAINST PREVIOUS VERSION\n",
            "Arena.playGames (1): 100%|██████████| 10/10 [07:20<00:00, 44.03s/it]\n",
            "Arena.playGames (2): 100%|██████████| 10/10 [03:47<00:00, 22.79s/it]\n",
            "2023-12-31 16:52:00 f95bc5ebb2eb Coach[145] INFO NEW/PREV WINS : 15 / 5 ; DRAWS : 0\n",
            "2023-12-31 16:52:00 f95bc5ebb2eb Coach[145] INFO ACCEPTING NEW MODEL\n"
          ]
        },
        {
          "name": "stdout",
          "output_type": "stream",
          "text": [
            "Checkpoint Directory exists! \n",
            "Checkpoint Directory exists! \n"
          ]
        },
        {
          "name": "stderr",
          "output_type": "stream",
          "text": [
            "2023-12-31 16:52:03 f95bc5ebb2eb Coach[145] INFO Starting Iter #8 ...\n",
            "Self Play: 100%|██████████| 25/25 [08:41<00:00, 20.87s/it]\n"
          ]
        },
        {
          "name": "stdout",
          "output_type": "stream",
          "text": [
            "Checkpoint Directory exists! \n",
            "Epoch 1/10\n",
            "520/520 [==============================] - 71s 136ms/step - loss: 0.7732 - pi_loss: 0.4543 - v_loss: 0.3189\n",
            "Epoch 2/10\n",
            "520/520 [==============================] - 73s 140ms/step - loss: 0.7192 - pi_loss: 0.4118 - v_loss: 0.3074\n",
            "Epoch 3/10\n",
            "520/520 [==============================] - 71s 136ms/step - loss: 0.6928 - pi_loss: 0.3956 - v_loss: 0.2972\n",
            "Epoch 4/10\n",
            "520/520 [==============================] - 70s 134ms/step - loss: 0.6790 - pi_loss: 0.3890 - v_loss: 0.2900\n",
            "Epoch 5/10\n",
            "520/520 [==============================] - 69s 132ms/step - loss: 0.6724 - pi_loss: 0.3866 - v_loss: 0.2858\n",
            "Epoch 6/10\n",
            "520/520 [==============================] - 71s 137ms/step - loss: 0.6653 - pi_loss: 0.3846 - v_loss: 0.2806\n",
            "Epoch 7/10\n",
            "520/520 [==============================] - 69s 133ms/step - loss: 0.6624 - pi_loss: 0.3827 - v_loss: 0.2797\n",
            "Epoch 8/10\n",
            "520/520 [==============================] - 71s 136ms/step - loss: 0.6565 - pi_loss: 0.3804 - v_loss: 0.2761\n",
            "Epoch 9/10\n",
            "520/520 [==============================] - 70s 135ms/step - loss: 0.6520 - pi_loss: 0.3788 - v_loss: 0.2732\n",
            "Epoch 10/10\n",
            "520/520 [==============================] - 70s 134ms/step - loss: 0.6504 - pi_loss: 0.3783 - v_loss: 0.2721\n"
          ]
        },
        {
          "name": "stderr",
          "output_type": "stream",
          "text": [
            "2023-12-31 17:13:12 f95bc5ebb2eb Coach[145] INFO PITTING AGAINST PREVIOUS VERSION\n",
            "Arena.playGames (1): 100%|██████████| 10/10 [07:18<00:00, 43.84s/it]\n",
            "Arena.playGames (2): 100%|██████████| 10/10 [08:53<00:00, 53.32s/it]\n",
            "2023-12-31 17:29:24 f95bc5ebb2eb Coach[145] INFO NEW/PREV WINS : 12 / 8 ; DRAWS : 0\n",
            "2023-12-31 17:29:24 f95bc5ebb2eb Coach[145] INFO ACCEPTING NEW MODEL\n"
          ]
        },
        {
          "name": "stdout",
          "output_type": "stream",
          "text": [
            "Checkpoint Directory exists! \n",
            "Checkpoint Directory exists! \n"
          ]
        },
        {
          "name": "stderr",
          "output_type": "stream",
          "text": [
            "2023-12-31 17:29:26 f95bc5ebb2eb Coach[145] INFO Starting Iter #9 ...\n",
            "Self Play: 100%|██████████| 25/25 [10:56<00:00, 26.25s/it]\n"
          ]
        },
        {
          "name": "stdout",
          "output_type": "stream",
          "text": [
            "Checkpoint Directory exists! \n",
            "Epoch 1/10\n",
            "578/578 [==============================] - 77s 134ms/step - loss: 0.7953 - pi_loss: 0.4623 - v_loss: 0.3330\n",
            "Epoch 2/10\n",
            "578/578 [==============================] - 78s 134ms/step - loss: 0.7321 - pi_loss: 0.4175 - v_loss: 0.3146\n",
            "Epoch 3/10\n",
            "578/578 [==============================] - 77s 134ms/step - loss: 0.7061 - pi_loss: 0.4023 - v_loss: 0.3039\n",
            "Epoch 4/10\n",
            "578/578 [==============================] - 78s 134ms/step - loss: 0.6927 - pi_loss: 0.3955 - v_loss: 0.2972\n",
            "Epoch 5/10\n",
            "578/578 [==============================] - 77s 133ms/step - loss: 0.6820 - pi_loss: 0.3908 - v_loss: 0.2912\n",
            "Epoch 6/10\n",
            "578/578 [==============================] - 78s 134ms/step - loss: 0.6747 - pi_loss: 0.3887 - v_loss: 0.2860\n",
            "Epoch 7/10\n",
            "578/578 [==============================] - 78s 135ms/step - loss: 0.6725 - pi_loss: 0.3894 - v_loss: 0.2831\n",
            "Epoch 8/10\n",
            "578/578 [==============================] - 77s 133ms/step - loss: 0.6641 - pi_loss: 0.3835 - v_loss: 0.2806\n",
            "Epoch 9/10\n",
            "578/578 [==============================] - 77s 133ms/step - loss: 0.6637 - pi_loss: 0.3837 - v_loss: 0.2800\n",
            "Epoch 10/10\n",
            "578/578 [==============================] - 78s 134ms/step - loss: 0.6576 - pi_loss: 0.3832 - v_loss: 0.2744\n"
          ]
        },
        {
          "name": "stderr",
          "output_type": "stream",
          "text": [
            "2023-12-31 17:53:50 f95bc5ebb2eb Coach[145] INFO PITTING AGAINST PREVIOUS VERSION\n",
            "Arena.playGames (1): 100%|██████████| 10/10 [05:14<00:00, 31.45s/it]\n",
            "Arena.playGames (2): 100%|██████████| 10/10 [05:58<00:00, 35.82s/it]\n",
            "2023-12-31 18:05:02 f95bc5ebb2eb Coach[145] INFO NEW/PREV WINS : 5 / 11 ; DRAWS : 4\n",
            "2023-12-31 18:05:02 f95bc5ebb2eb Coach[145] INFO REJECTING NEW MODEL\n",
            "2023-12-31 18:05:04 f95bc5ebb2eb Coach[145] INFO Starting Iter #10 ...\n",
            "Self Play: 100%|██████████| 25/25 [12:04<00:00, 28.97s/it]\n"
          ]
        },
        {
          "name": "stdout",
          "output_type": "stream",
          "text": [
            "Checkpoint Directory exists! \n",
            "Epoch 1/10\n",
            "644/644 [==============================] - 83s 126ms/step - loss: 0.8839 - pi_loss: 0.5141 - v_loss: 0.3698\n",
            "Epoch 2/10\n",
            "644/644 [==============================] - 80s 125ms/step - loss: 0.7863 - pi_loss: 0.4476 - v_loss: 0.3387\n",
            "Epoch 3/10\n",
            "644/644 [==============================] - 80s 124ms/step - loss: 0.7480 - pi_loss: 0.4279 - v_loss: 0.3201\n",
            "Epoch 4/10\n",
            "644/644 [==============================] - 80s 125ms/step - loss: 0.7232 - pi_loss: 0.4145 - v_loss: 0.3088\n",
            "Epoch 5/10\n",
            "644/644 [==============================] - 80s 125ms/step - loss: 0.7124 - pi_loss: 0.4093 - v_loss: 0.3031\n",
            "Epoch 6/10\n",
            "644/644 [==============================] - 80s 125ms/step - loss: 0.7018 - pi_loss: 0.4045 - v_loss: 0.2972\n",
            "Epoch 7/10\n",
            "644/644 [==============================] - 83s 129ms/step - loss: 0.6904 - pi_loss: 0.3997 - v_loss: 0.2908\n",
            "Epoch 8/10\n",
            "644/644 [==============================] - 81s 126ms/step - loss: 0.6880 - pi_loss: 0.4003 - v_loss: 0.2877\n",
            "Epoch 9/10\n",
            "644/644 [==============================] - 81s 126ms/step - loss: 0.6816 - pi_loss: 0.3978 - v_loss: 0.2838\n",
            "Epoch 10/10\n",
            "644/644 [==============================] - 81s 125ms/step - loss: 0.6762 - pi_loss: 0.3959 - v_loss: 0.2803\n"
          ]
        },
        {
          "name": "stderr",
          "output_type": "stream",
          "text": [
            "2023-12-31 18:31:38 f95bc5ebb2eb Coach[145] INFO PITTING AGAINST PREVIOUS VERSION\n",
            "Arena.playGames (1): 100%|██████████| 10/10 [08:00<00:00, 48.06s/it]\n",
            "Arena.playGames (2): 100%|██████████| 10/10 [05:36<00:00, 33.66s/it]\n",
            "2023-12-31 18:45:16 f95bc5ebb2eb Coach[145] INFO NEW/PREV WINS : 10 / 10 ; DRAWS : 0\n",
            "2023-12-31 18:45:16 f95bc5ebb2eb Coach[145] INFO REJECTING NEW MODEL\n",
            "2023-12-31 18:45:17 f95bc5ebb2eb Coach[145] INFO Starting Iter #11 ...\n",
            "Self Play: 100%|██████████| 25/25 [11:52<00:00, 28.48s/it]\n"
          ]
        },
        {
          "name": "stdout",
          "output_type": "stream",
          "text": [
            "Checkpoint Directory exists! \n",
            "Epoch 1/10\n",
            "715/715 [==============================] - 88s 120ms/step - loss: 0.9672 - pi_loss: 0.5534 - v_loss: 0.4138\n",
            "Epoch 2/10\n",
            "715/715 [==============================] - 88s 123ms/step - loss: 0.8470 - pi_loss: 0.4760 - v_loss: 0.3710\n",
            "Epoch 3/10\n",
            "715/715 [==============================] - 86s 120ms/step - loss: 0.7915 - pi_loss: 0.4443 - v_loss: 0.3473\n",
            "Epoch 4/10\n",
            "715/715 [==============================] - 87s 122ms/step - loss: 0.7659 - pi_loss: 0.4293 - v_loss: 0.3366\n",
            "Epoch 5/10\n",
            "715/715 [==============================] - 86s 120ms/step - loss: 0.7432 - pi_loss: 0.4217 - v_loss: 0.3215\n",
            "Epoch 6/10\n",
            "715/715 [==============================] - 89s 125ms/step - loss: 0.7282 - pi_loss: 0.4144 - v_loss: 0.3138\n",
            "Epoch 7/10\n",
            "715/715 [==============================] - 87s 122ms/step - loss: 0.7153 - pi_loss: 0.4103 - v_loss: 0.3051\n",
            "Epoch 8/10\n",
            "715/715 [==============================] - 86s 121ms/step - loss: 0.7067 - pi_loss: 0.4067 - v_loss: 0.3000\n",
            "Epoch 9/10\n",
            "715/715 [==============================] - 88s 123ms/step - loss: 0.7004 - pi_loss: 0.4030 - v_loss: 0.2973\n",
            "Epoch 10/10\n",
            "715/715 [==============================] - 86s 121ms/step - loss: 0.6936 - pi_loss: 0.3992 - v_loss: 0.2944\n"
          ]
        },
        {
          "name": "stderr",
          "output_type": "stream",
          "text": [
            "2023-12-31 19:12:41 f95bc5ebb2eb Coach[145] INFO PITTING AGAINST PREVIOUS VERSION\n",
            "Arena.playGames (1): 100%|██████████| 10/10 [06:47<00:00, 40.71s/it]\n",
            "Arena.playGames (2): 100%|██████████| 10/10 [05:54<00:00, 35.49s/it]\n",
            "2023-12-31 19:25:23 f95bc5ebb2eb Coach[145] INFO NEW/PREV WINS : 9 / 11 ; DRAWS : 0\n",
            "2023-12-31 19:25:23 f95bc5ebb2eb Coach[145] INFO REJECTING NEW MODEL\n",
            "2023-12-31 19:25:24 f95bc5ebb2eb Coach[145] INFO Starting Iter #12 ...\n",
            "Self Play: 100%|██████████| 25/25 [09:52<00:00, 23.71s/it]\n"
          ]
        },
        {
          "name": "stdout",
          "output_type": "stream",
          "text": [
            "Checkpoint Directory exists! \n",
            "Epoch 1/10\n",
            "766/766 [==============================] - 98s 127ms/step - loss: 1.0095 - pi_loss: 0.5754 - v_loss: 0.4342\n",
            "Epoch 2/10\n",
            "766/766 [==============================] - 97s 126ms/step - loss: 0.8807 - pi_loss: 0.4923 - v_loss: 0.3884\n",
            "Epoch 3/10\n",
            "766/766 [==============================] - 96s 125ms/step - loss: 0.8270 - pi_loss: 0.4620 - v_loss: 0.3650\n",
            "Epoch 4/10\n",
            "766/766 [==============================] - 99s 129ms/step - loss: 0.7923 - pi_loss: 0.4456 - v_loss: 0.3467\n",
            "Epoch 5/10\n",
            "766/766 [==============================] - 96s 125ms/step - loss: 0.7726 - pi_loss: 0.4353 - v_loss: 0.3373\n",
            "Epoch 6/10\n",
            "766/766 [==============================] - 94s 123ms/step - loss: 0.7516 - pi_loss: 0.4255 - v_loss: 0.3261\n",
            "Epoch 7/10\n",
            "766/766 [==============================] - 96s 125ms/step - loss: 0.7411 - pi_loss: 0.4227 - v_loss: 0.3183\n",
            "Epoch 8/10\n",
            "766/766 [==============================] - 96s 125ms/step - loss: 0.7306 - pi_loss: 0.4175 - v_loss: 0.3131\n",
            "Epoch 9/10\n",
            "766/766 [==============================] - 99s 129ms/step - loss: 0.7223 - pi_loss: 0.4157 - v_loss: 0.3066\n",
            "Epoch 10/10\n",
            "766/766 [==============================] - 97s 126ms/step - loss: 0.7177 - pi_loss: 0.4120 - v_loss: 0.3056\n"
          ]
        },
        {
          "name": "stderr",
          "output_type": "stream",
          "text": [
            "2023-12-31 19:51:49 f95bc5ebb2eb Coach[145] INFO PITTING AGAINST PREVIOUS VERSION\n",
            "Arena.playGames (1): 100%|██████████| 10/10 [08:29<00:00, 50.96s/it]\n",
            "Arena.playGames (2): 100%|██████████| 10/10 [06:51<00:00, 41.17s/it]\n",
            "2023-12-31 20:07:10 f95bc5ebb2eb Coach[145] INFO NEW/PREV WINS : 12 / 8 ; DRAWS : 0\n",
            "2023-12-31 20:07:10 f95bc5ebb2eb Coach[145] INFO ACCEPTING NEW MODEL\n"
          ]
        },
        {
          "name": "stdout",
          "output_type": "stream",
          "text": [
            "Checkpoint Directory exists! \n",
            "Checkpoint Directory exists! \n"
          ]
        },
        {
          "name": "stderr",
          "output_type": "stream",
          "text": [
            "2023-12-31 20:07:12 f95bc5ebb2eb Coach[145] INFO Starting Iter #13 ...\n",
            "Self Play: 100%|██████████| 25/25 [10:13<00:00, 24.53s/it]\n"
          ]
        },
        {
          "name": "stdout",
          "output_type": "stream",
          "text": [
            "Checkpoint Directory exists! \n",
            "Epoch 1/10\n",
            "825/825 [==============================] - 100s 119ms/step - loss: 0.7923 - pi_loss: 0.4435 - v_loss: 0.3488\n",
            "Epoch 2/10\n",
            "825/825 [==============================] - 96s 117ms/step - loss: 0.7627 - pi_loss: 0.4239 - v_loss: 0.3388\n",
            "Epoch 3/10\n",
            "825/825 [==============================] - 96s 116ms/step - loss: 0.7480 - pi_loss: 0.4174 - v_loss: 0.3306\n",
            "Epoch 4/10\n",
            "825/825 [==============================] - 97s 118ms/step - loss: 0.7366 - pi_loss: 0.4126 - v_loss: 0.3240\n",
            "Epoch 5/10\n",
            "825/825 [==============================] - 96s 117ms/step - loss: 0.7290 - pi_loss: 0.4101 - v_loss: 0.3189\n",
            "Epoch 6/10\n",
            "825/825 [==============================] - 99s 120ms/step - loss: 0.7241 - pi_loss: 0.4077 - v_loss: 0.3164\n",
            "Epoch 7/10\n",
            "825/825 [==============================] - 95s 115ms/step - loss: 0.7175 - pi_loss: 0.4070 - v_loss: 0.3105\n",
            "Epoch 8/10\n",
            "825/825 [==============================] - 100s 121ms/step - loss: 0.7130 - pi_loss: 0.4058 - v_loss: 0.3073\n",
            "Epoch 9/10\n",
            "825/825 [==============================] - 101s 122ms/step - loss: 0.7087 - pi_loss: 0.4039 - v_loss: 0.3048\n",
            "Epoch 10/10\n",
            "825/825 [==============================] - 97s 117ms/step - loss: 0.7083 - pi_loss: 0.4043 - v_loss: 0.3040\n"
          ]
        },
        {
          "name": "stderr",
          "output_type": "stream",
          "text": [
            "2023-12-31 20:33:58 f95bc5ebb2eb Coach[145] INFO PITTING AGAINST PREVIOUS VERSION\n",
            "Arena.playGames (1): 100%|██████████| 10/10 [06:28<00:00, 38.87s/it]\n",
            "Arena.playGames (2): 100%|██████████| 10/10 [07:50<00:00, 47.09s/it]\n",
            "2023-12-31 20:48:18 f95bc5ebb2eb Coach[145] INFO NEW/PREV WINS : 7 / 13 ; DRAWS : 0\n",
            "2023-12-31 20:48:18 f95bc5ebb2eb Coach[145] INFO REJECTING NEW MODEL\n",
            "2023-12-31 20:48:19 f95bc5ebb2eb Coach[145] INFO Starting Iter #14 ...\n",
            "Self Play: 100%|██████████| 25/25 [10:37<00:00, 25.48s/it]\n"
          ]
        },
        {
          "name": "stdout",
          "output_type": "stream",
          "text": [
            "Checkpoint Directory exists! \n",
            "Epoch 1/10\n",
            "885/885 [==============================] - 106s 118ms/step - loss: 0.8446 - pi_loss: 0.4808 - v_loss: 0.3638\n",
            "Epoch 2/10\n",
            "885/885 [==============================] - 107s 121ms/step - loss: 0.7867 - pi_loss: 0.4432 - v_loss: 0.3435\n",
            "Epoch 3/10\n",
            "885/885 [==============================] - 108s 121ms/step - loss: 0.7621 - pi_loss: 0.4312 - v_loss: 0.3309\n",
            "Epoch 4/10\n",
            "885/885 [==============================] - 105s 119ms/step - loss: 0.7480 - pi_loss: 0.4248 - v_loss: 0.3232\n",
            "Epoch 5/10\n",
            "885/885 [==============================] - 105s 118ms/step - loss: 0.7399 - pi_loss: 0.4205 - v_loss: 0.3194\n",
            "Epoch 6/10\n",
            "885/885 [==============================] - 106s 119ms/step - loss: 0.7291 - pi_loss: 0.4175 - v_loss: 0.3116\n",
            "Epoch 7/10\n",
            "885/885 [==============================] - 108s 121ms/step - loss: 0.7258 - pi_loss: 0.4151 - v_loss: 0.3107\n",
            "Epoch 8/10\n",
            "885/885 [==============================] - 104s 118ms/step - loss: 0.7199 - pi_loss: 0.4120 - v_loss: 0.3079\n",
            "Epoch 9/10\n",
            "885/885 [==============================] - 106s 120ms/step - loss: 0.7151 - pi_loss: 0.4106 - v_loss: 0.3045\n",
            "Epoch 10/10\n",
            "885/885 [==============================] - 107s 121ms/step - loss: 0.7117 - pi_loss: 0.4087 - v_loss: 0.3030\n"
          ]
        },
        {
          "name": "stderr",
          "output_type": "stream",
          "text": [
            "2023-12-31 21:16:47 f95bc5ebb2eb Coach[145] INFO PITTING AGAINST PREVIOUS VERSION\n",
            "Arena.playGames (1): 100%|██████████| 10/10 [06:09<00:00, 36.91s/it]\n",
            "Arena.playGames (2): 100%|██████████| 10/10 [08:39<00:00, 51.94s/it]\n",
            "2023-12-31 21:31:36 f95bc5ebb2eb Coach[145] INFO NEW/PREV WINS : 6 / 14 ; DRAWS : 0\n",
            "2023-12-31 21:31:36 f95bc5ebb2eb Coach[145] INFO REJECTING NEW MODEL\n",
            "2023-12-31 21:31:37 f95bc5ebb2eb Coach[145] INFO Starting Iter #15 ...\n",
            "Self Play: 100%|██████████| 25/25 [06:15<00:00, 15.01s/it]\n"
          ]
        },
        {
          "name": "stdout",
          "output_type": "stream",
          "text": [
            "Checkpoint Directory exists! \n",
            "Epoch 1/10\n",
            "923/923 [==============================] - 116s 124ms/step - loss: 0.8647 - pi_loss: 0.4925 - v_loss: 0.3722\n",
            "Epoch 2/10\n",
            "923/923 [==============================] - 111s 120ms/step - loss: 0.8027 - pi_loss: 0.4528 - v_loss: 0.3499\n",
            "Epoch 3/10\n",
            "923/923 [==============================] - 113s 123ms/step - loss: 0.7723 - pi_loss: 0.4388 - v_loss: 0.3335\n",
            "Epoch 4/10\n",
            "923/923 [==============================] - 112s 121ms/step - loss: 0.7569 - pi_loss: 0.4304 - v_loss: 0.3266\n",
            "Epoch 5/10\n",
            "923/923 [==============================] - 112s 121ms/step - loss: 0.7472 - pi_loss: 0.4260 - v_loss: 0.3212\n",
            "Epoch 6/10\n",
            "923/923 [==============================] - 112s 121ms/step - loss: 0.7391 - pi_loss: 0.4223 - v_loss: 0.3167\n",
            "Epoch 7/10\n",
            "923/923 [==============================] - 111s 121ms/step - loss: 0.7293 - pi_loss: 0.4180 - v_loss: 0.3113\n",
            "Epoch 8/10\n",
            "923/923 [==============================] - 109s 119ms/step - loss: 0.7232 - pi_loss: 0.4164 - v_loss: 0.3067\n",
            "Epoch 9/10\n",
            "923/923 [==============================] - 114s 124ms/step - loss: 0.7194 - pi_loss: 0.4145 - v_loss: 0.3049\n",
            "Epoch 10/10\n",
            "923/923 [==============================] - 111s 120ms/step - loss: 0.7167 - pi_loss: 0.4147 - v_loss: 0.3020\n"
          ]
        },
        {
          "name": "stderr",
          "output_type": "stream",
          "text": [
            "2023-12-31 21:57:26 f95bc5ebb2eb Coach[145] INFO PITTING AGAINST PREVIOUS VERSION\n",
            "Arena.playGames (1): 100%|██████████| 10/10 [07:30<00:00, 45.01s/it]\n",
            "Arena.playGames (2):   0%|          | 0/10 [00:00<?, ?it/s]"
          ]
        }
      ],
      "source": [
        "args = dotdict({\n",
        "    'numIters':20,\n",
        "    'numEps': 25,              # Number of complete self-play games to simulate during a new iteration.\n",
        "    'tempThreshold': 15,        #\n",
        "    'updateThreshold': 0.6,     # During arena playoff, new neural net will be accepted if threshold or more of games are won.\n",
        "    'maxlenOfQueue': 50000,    # Number of game examples to train the neural networks.\n",
        "    'numMCTSSims': 25,          # Number of games moves for MCTS to simulate.\n",
        "    'arenaCompare': 20,         # Number of games to play during arena play to determine if new net will be accepted.\n",
        "    'cpuct': 1,\n",
        "\n",
        "    'checkpoint': '/content/drive/MyDrive/trabalho2_liacd/models/ataxx/5x5',\n",
        "    'load_model': True,\n",
        "    'load_folder_file': ('/content/drive/MyDrive/trabalho2_liacd/models/ataxx/5x5', 'best.h5'),\n",
        "    'numItersForTrainExamplesHistory': 20,\n",
        "\n",
        "})\n",
        "\n",
        "\n",
        "log.info('Loading %s...', Game.__name__)\n",
        "g = Game(5)\n",
        "\n",
        "log.info('Loading %s...', nn.__name__)\n",
        "nnet = nn(g)\n",
        "\n",
        "if args.load_model:\n",
        "    log.info('Loading checkpoint \"%s/%s\"...', args.load_folder_file[0], args.load_folder_file[1])\n",
        "    nnet.load_model(args.load_folder_file[0], args.load_folder_file[1])\n",
        "else:\n",
        "    log.warning('Not loading a checkpoint!')\n",
        "\n",
        "log.info('Loading the Coach...')\n",
        "c = Coach(g, nnet, args)\n",
        "\n",
        "if args.load_model:\n",
        "    log.info(\"Loading 'trainExamples' from file...\")\n",
        "    c.loadTrainExamples()\n",
        "\n",
        "log.info('Starting the learning process 🎉')\n",
        "c.learn()\n",
        "\n"
      ]
    },
    {
      "cell_type": "markdown",
      "metadata": {
        "id": "o0TRwbThkTig"
      },
      "source": [
        "#Décimo Segundo Treino"
      ]
    },
    {
      "cell_type": "code",
      "execution_count": null,
      "metadata": {
        "colab": {
          "background_save": true,
          "base_uri": "https://localhost:8080/"
        },
        "id": "jBiX9ZCnkVSS",
        "outputId": "82b58a1f-c54a-46d6-d51a-aa1269a001b3"
      },
      "outputs": [
        {
          "name": "stderr",
          "output_type": "stream",
          "text": [
            "2024-01-01 15:08:07 53919080884b __main__[761] INFO Loading AtaxxGame...\n",
            "2024-01-01 15:08:07 53919080884b __main__[761] INFO Loading NNetWrapper...\n",
            "2024-01-01 15:08:08 53919080884b __main__[761] INFO Loading checkpoint \"/content/drive/MyDrive/trabalho2_liacd/models/ataxx/5x5/best.h5\"...\n",
            "2024-01-01 15:08:10 53919080884b __main__[761] INFO Loading the Coach...\n",
            "2024-01-01 15:08:10 53919080884b __main__[761] INFO Loading 'trainExamples' from file...\n",
            "2024-01-01 15:08:10 53919080884b Coach[761] WARNING File \"/content/drive/MyDrive/trabalho2_liacd/models/ataxx/5x5/best.h5.examples\" with trainExamples not found!\n",
            "2024-01-01 15:09:41 53919080884b __main__[761] INFO Starting the learning process 🎉\n",
            "2024-01-01 15:09:41 53919080884b Coach[761] INFO Starting Iter #1 ...\n",
            "Self Play:  88%|████████▊ | 22/25 [09:11<01:24, 28.04s/it]2024-01-01 15:19:08 53919080884b MCTS[761] WARNING Max depth reached!\n",
            "Self Play: 100%|██████████| 25/25 [10:42<00:00, 25.71s/it]\n"
          ]
        },
        {
          "name": "stdout",
          "output_type": "stream",
          "text": [
            "Checkpoint Directory exists! \n"
          ]
        },
        {
          "name": "stderr",
          "output_type": "stream",
          "text": [
            "/usr/local/lib/python3.10/dist-packages/keras/src/engine/training.py:3103: UserWarning: You are saving your model as an HDF5 file via `model.save()`. This file format is considered legacy. We recommend using instead the native Keras format, e.g. `model.save('my_model.keras')`.\n",
            "  saving_api.save_model(\n"
          ]
        },
        {
          "name": "stdout",
          "output_type": "stream",
          "text": [
            "Epoch 1/10\n",
            "63/63 [==============================] - 11s 162ms/step - loss: 1.6399 - pi_loss: 0.9278 - v_loss: 0.7122\n",
            "Epoch 2/10\n",
            "63/63 [==============================] - 7s 116ms/step - loss: 1.2398 - pi_loss: 0.6905 - v_loss: 0.5493\n",
            "Epoch 3/10\n",
            "63/63 [==============================] - 10s 158ms/step - loss: 1.0601 - pi_loss: 0.5811 - v_loss: 0.4790\n",
            "Epoch 4/10\n",
            "63/63 [==============================] - 8s 127ms/step - loss: 0.9759 - pi_loss: 0.5385 - v_loss: 0.4374\n",
            "Epoch 5/10\n",
            "63/63 [==============================] - 9s 143ms/step - loss: 0.9031 - pi_loss: 0.5055 - v_loss: 0.3976\n",
            "Epoch 6/10\n",
            "63/63 [==============================] - 9s 140ms/step - loss: 0.8631 - pi_loss: 0.4943 - v_loss: 0.3687\n",
            "Epoch 7/10\n",
            "63/63 [==============================] - 9s 139ms/step - loss: 0.8426 - pi_loss: 0.4833 - v_loss: 0.3592\n",
            "Epoch 8/10\n",
            "63/63 [==============================] - 10s 157ms/step - loss: 0.8045 - pi_loss: 0.4586 - v_loss: 0.3459\n",
            "Epoch 9/10\n",
            "63/63 [==============================] - 8s 123ms/step - loss: 0.7879 - pi_loss: 0.4557 - v_loss: 0.3322\n",
            "Epoch 10/10\n",
            "63/63 [==============================] - 9s 143ms/step - loss: 0.7828 - pi_loss: 0.4514 - v_loss: 0.3314\n"
          ]
        },
        {
          "name": "stderr",
          "output_type": "stream",
          "text": [
            "2024-01-01 15:21:55 53919080884b Coach[761] INFO PITTING AGAINST PREVIOUS VERSION\n",
            "Arena.playGames (1): 100%|██████████| 10/10 [07:46<00:00, 46.63s/it]\n",
            "Arena.playGames (2): 100%|██████████| 10/10 [04:32<00:00, 27.20s/it]\n",
            "2024-01-01 15:34:14 53919080884b Coach[761] INFO NEW/PREV WINS : 11 / 9 ; DRAWS : 0\n",
            "2024-01-01 15:34:14 53919080884b Coach[761] INFO REJECTING NEW MODEL\n",
            "2024-01-01 15:34:16 53919080884b Coach[761] INFO Starting Iter #2 ...\n",
            "Self Play: 100%|██████████| 25/25 [11:21<00:00, 27.24s/it]\n"
          ]
        },
        {
          "name": "stdout",
          "output_type": "stream",
          "text": [
            "Checkpoint Directory exists! \n",
            "Epoch 1/10\n",
            "126/126 [==============================] - 18s 123ms/step - loss: 1.6760 - pi_loss: 0.9325 - v_loss: 0.7435\n",
            "Epoch 2/10\n",
            "126/126 [==============================] - 15s 121ms/step - loss: 1.2922 - pi_loss: 0.6941 - v_loss: 0.5980\n",
            "Epoch 3/10\n",
            "126/126 [==============================] - 16s 124ms/step - loss: 1.1315 - pi_loss: 0.6123 - v_loss: 0.5192\n",
            "Epoch 4/10\n",
            "126/126 [==============================] - 16s 124ms/step - loss: 1.0241 - pi_loss: 0.5609 - v_loss: 0.4632\n",
            "Epoch 5/10\n",
            "126/126 [==============================] - 16s 125ms/step - loss: 0.9521 - pi_loss: 0.5261 - v_loss: 0.4260\n",
            "Epoch 6/10\n",
            "126/126 [==============================] - 16s 123ms/step - loss: 0.8924 - pi_loss: 0.5027 - v_loss: 0.3897\n",
            "Epoch 7/10\n",
            "126/126 [==============================] - 15s 123ms/step - loss: 0.8460 - pi_loss: 0.4890 - v_loss: 0.3571\n",
            "Epoch 8/10\n",
            "126/126 [==============================] - 15s 123ms/step - loss: 0.8276 - pi_loss: 0.4794 - v_loss: 0.3481\n",
            "Epoch 9/10\n",
            "126/126 [==============================] - 16s 124ms/step - loss: 0.8021 - pi_loss: 0.4685 - v_loss: 0.3336\n",
            "Epoch 10/10\n",
            "126/126 [==============================] - 16s 124ms/step - loss: 0.7766 - pi_loss: 0.4586 - v_loss: 0.3181\n"
          ]
        },
        {
          "name": "stderr",
          "output_type": "stream",
          "text": [
            "2024-01-01 15:49:03 53919080884b Coach[761] INFO PITTING AGAINST PREVIOUS VERSION\n",
            "Arena.playGames (1): 100%|██████████| 10/10 [05:44<00:00, 34.41s/it]\n",
            "Arena.playGames (2): 100%|██████████| 10/10 [05:09<00:00, 30.96s/it]\n",
            "2024-01-01 15:59:57 53919080884b Coach[761] INFO NEW/PREV WINS : 14 / 6 ; DRAWS : 0\n",
            "2024-01-01 15:59:57 53919080884b Coach[761] INFO ACCEPTING NEW MODEL\n"
          ]
        },
        {
          "name": "stdout",
          "output_type": "stream",
          "text": [
            "Checkpoint Directory exists! \n",
            "Checkpoint Directory exists! \n"
          ]
        },
        {
          "name": "stderr",
          "output_type": "stream",
          "text": [
            "2024-01-01 15:59:58 53919080884b Coach[761] INFO Starting Iter #3 ...\n",
            "Self Play: 100%|██████████| 25/25 [10:21<00:00, 24.85s/it]\n"
          ]
        },
        {
          "name": "stdout",
          "output_type": "stream",
          "text": [
            "Checkpoint Directory exists! \n",
            "Epoch 1/10\n",
            "180/180 [==============================] - 22s 120ms/step - loss: 1.0956 - pi_loss: 0.6477 - v_loss: 0.4479\n",
            "Epoch 2/10\n",
            "180/180 [==============================] - 23s 130ms/step - loss: 0.9448 - pi_loss: 0.5475 - v_loss: 0.3973\n",
            "Epoch 3/10\n",
            "180/180 [==============================] - 21s 117ms/step - loss: 0.8862 - pi_loss: 0.5185 - v_loss: 0.3677\n",
            "Epoch 4/10\n",
            "180/180 [==============================] - 22s 122ms/step - loss: 0.8339 - pi_loss: 0.4904 - v_loss: 0.3435\n",
            "Epoch 5/10\n",
            "180/180 [==============================] - 23s 125ms/step - loss: 0.7952 - pi_loss: 0.4715 - v_loss: 0.3238\n",
            "Epoch 6/10\n",
            "180/180 [==============================] - 24s 132ms/step - loss: 0.7754 - pi_loss: 0.4609 - v_loss: 0.3145\n",
            "Epoch 7/10\n",
            "180/180 [==============================] - 23s 130ms/step - loss: 0.7566 - pi_loss: 0.4534 - v_loss: 0.3033\n",
            "Epoch 8/10\n",
            "180/180 [==============================] - 21s 119ms/step - loss: 0.7403 - pi_loss: 0.4461 - v_loss: 0.2942\n",
            "Epoch 9/10\n",
            "180/180 [==============================] - 22s 122ms/step - loss: 0.7270 - pi_loss: 0.4408 - v_loss: 0.2861\n",
            "Epoch 10/10\n",
            "180/180 [==============================] - 23s 129ms/step - loss: 0.7237 - pi_loss: 0.4363 - v_loss: 0.2874\n"
          ]
        },
        {
          "name": "stderr",
          "output_type": "stream",
          "text": [
            "2024-01-01 16:14:07 53919080884b Coach[761] INFO PITTING AGAINST PREVIOUS VERSION\n",
            "Arena.playGames (1): 100%|██████████| 10/10 [05:41<00:00, 34.14s/it]\n",
            "Arena.playGames (2): 100%|██████████| 10/10 [09:31<00:00, 57.15s/it]\n",
            "2024-01-01 16:29:19 53919080884b Coach[761] INFO NEW/PREV WINS : 7 / 12 ; DRAWS : 1\n",
            "2024-01-01 16:29:19 53919080884b Coach[761] INFO REJECTING NEW MODEL\n",
            "2024-01-01 16:29:21 53919080884b Coach[761] INFO Starting Iter #4 ...\n",
            "Self Play: 100%|██████████| 25/25 [14:30<00:00, 34.80s/it]\n"
          ]
        },
        {
          "name": "stdout",
          "output_type": "stream",
          "text": [
            "Checkpoint Directory exists! \n",
            "Epoch 1/10\n",
            "257/257 [==============================] - 37s 136ms/step - loss: 1.1156 - pi_loss: 0.6685 - v_loss: 0.4471\n",
            "Epoch 2/10\n",
            "257/257 [==============================] - 35s 134ms/step - loss: 0.9157 - pi_loss: 0.5411 - v_loss: 0.3746\n",
            "Epoch 3/10\n",
            "257/257 [==============================] - 34s 132ms/step - loss: 0.8385 - pi_loss: 0.4957 - v_loss: 0.3428\n",
            "Epoch 4/10\n",
            "257/257 [==============================] - 34s 133ms/step - loss: 0.7846 - pi_loss: 0.4665 - v_loss: 0.3181\n",
            "Epoch 5/10\n",
            "257/257 [==============================] - 35s 138ms/step - loss: 0.7428 - pi_loss: 0.4482 - v_loss: 0.2946\n",
            "Epoch 6/10\n",
            "257/257 [==============================] - 35s 136ms/step - loss: 0.7193 - pi_loss: 0.4327 - v_loss: 0.2866\n",
            "Epoch 7/10\n",
            "257/257 [==============================] - 34s 131ms/step - loss: 0.6886 - pi_loss: 0.4201 - v_loss: 0.2685\n",
            "Epoch 8/10\n",
            "257/257 [==============================] - 35s 134ms/step - loss: 0.6804 - pi_loss: 0.4162 - v_loss: 0.2642\n",
            "Epoch 9/10\n",
            "257/257 [==============================] - 34s 131ms/step - loss: 0.6751 - pi_loss: 0.4147 - v_loss: 0.2604\n",
            "Epoch 10/10\n",
            "257/257 [==============================] - 34s 132ms/step - loss: 0.6592 - pi_loss: 0.4063 - v_loss: 0.2529\n"
          ]
        },
        {
          "name": "stderr",
          "output_type": "stream",
          "text": [
            "2024-01-01 16:50:19 53919080884b Coach[761] INFO PITTING AGAINST PREVIOUS VERSION\n",
            "Arena.playGames (1): 100%|██████████| 10/10 [06:02<00:00, 36.25s/it]\n",
            "Arena.playGames (2): 100%|██████████| 10/10 [09:03<00:00, 54.33s/it]\n",
            "2024-01-01 17:05:24 53919080884b Coach[761] INFO NEW/PREV WINS : 9 / 5 ; DRAWS : 6\n",
            "2024-01-01 17:05:24 53919080884b Coach[761] INFO ACCEPTING NEW MODEL\n"
          ]
        },
        {
          "name": "stdout",
          "output_type": "stream",
          "text": [
            "Checkpoint Directory exists! \n",
            "Checkpoint Directory exists! \n"
          ]
        },
        {
          "name": "stderr",
          "output_type": "stream",
          "text": [
            "2024-01-01 17:05:27 53919080884b Coach[761] INFO Starting Iter #5 ...\n",
            "Self Play: 100%|██████████| 25/25 [12:36<00:00, 30.26s/it]\n"
          ]
        },
        {
          "name": "stdout",
          "output_type": "stream",
          "text": [
            "Checkpoint Directory exists! \n",
            "Epoch 1/10\n",
            "327/327 [==============================] - 44s 136ms/step - loss: 0.8981 - pi_loss: 0.5459 - v_loss: 0.3523\n",
            "Epoch 2/10\n",
            "327/327 [==============================] - 43s 132ms/step - loss: 0.7962 - pi_loss: 0.4761 - v_loss: 0.3201\n",
            "Epoch 3/10\n",
            "327/327 [==============================] - 43s 132ms/step - loss: 0.7494 - pi_loss: 0.4475 - v_loss: 0.3019\n",
            "Epoch 4/10\n",
            "327/327 [==============================] - 43s 132ms/step - loss: 0.7202 - pi_loss: 0.4344 - v_loss: 0.2858\n",
            "Epoch 5/10\n",
            "327/327 [==============================] - 45s 137ms/step - loss: 0.7001 - pi_loss: 0.4275 - v_loss: 0.2726\n",
            "Epoch 6/10\n",
            "327/327 [==============================] - 42s 127ms/step - loss: 0.6854 - pi_loss: 0.4185 - v_loss: 0.2669\n",
            "Epoch 7/10\n",
            "327/327 [==============================] - 43s 130ms/step - loss: 0.6738 - pi_loss: 0.4150 - v_loss: 0.2588\n",
            "Epoch 8/10\n",
            "327/327 [==============================] - 42s 130ms/step - loss: 0.6686 - pi_loss: 0.4110 - v_loss: 0.2576\n",
            "Epoch 9/10\n",
            "327/327 [==============================] - 44s 134ms/step - loss: 0.6548 - pi_loss: 0.4067 - v_loss: 0.2481\n",
            "Epoch 10/10\n",
            "327/327 [==============================] - 43s 133ms/step - loss: 0.6491 - pi_loss: 0.4046 - v_loss: 0.2445\n"
          ]
        },
        {
          "name": "stderr",
          "output_type": "stream",
          "text": [
            "2024-01-01 17:25:19 53919080884b Coach[761] INFO PITTING AGAINST PREVIOUS VERSION\n",
            "Arena.playGames (1): 100%|██████████| 10/10 [03:36<00:00, 21.63s/it]\n",
            "Arena.playGames (2): 100%|██████████| 10/10 [02:58<00:00, 17.88s/it]\n",
            "2024-01-01 17:31:55 53919080884b Coach[761] INFO NEW/PREV WINS : 0 / 2 ; DRAWS : 18\n",
            "2024-01-01 17:31:55 53919080884b Coach[761] INFO REJECTING NEW MODEL\n",
            "2024-01-01 17:31:56 53919080884b Coach[761] INFO Starting Iter #6 ...\n",
            "Self Play: 100%|██████████| 25/25 [09:43<00:00, 23.34s/it]\n"
          ]
        },
        {
          "name": "stdout",
          "output_type": "stream",
          "text": [
            "Checkpoint Directory exists! \n",
            "Epoch 1/10\n",
            "388/388 [==============================] - 53s 133ms/step - loss: 0.9759 - pi_loss: 0.5705 - v_loss: 0.4054\n",
            "Epoch 2/10\n",
            "388/388 [==============================] - 53s 137ms/step - loss: 0.8497 - pi_loss: 0.4924 - v_loss: 0.3572\n",
            "Epoch 3/10\n",
            "388/388 [==============================] - 49s 127ms/step - loss: 0.7971 - pi_loss: 0.4617 - v_loss: 0.3354\n",
            "Epoch 4/10\n",
            "388/388 [==============================] - 52s 135ms/step - loss: 0.7543 - pi_loss: 0.4416 - v_loss: 0.3127\n",
            "Epoch 5/10\n",
            "388/388 [==============================] - 51s 132ms/step - loss: 0.7276 - pi_loss: 0.4311 - v_loss: 0.2965\n",
            "Epoch 6/10\n",
            "388/388 [==============================] - 51s 132ms/step - loss: 0.7157 - pi_loss: 0.4262 - v_loss: 0.2895\n",
            "Epoch 7/10\n",
            "388/388 [==============================] - 49s 127ms/step - loss: 0.6925 - pi_loss: 0.4142 - v_loss: 0.2783\n",
            "Epoch 8/10\n",
            "388/388 [==============================] - 49s 127ms/step - loss: 0.6856 - pi_loss: 0.4126 - v_loss: 0.2730\n",
            "Epoch 9/10\n",
            "388/388 [==============================] - 51s 132ms/step - loss: 0.6775 - pi_loss: 0.4085 - v_loss: 0.2690\n",
            "Epoch 10/10\n",
            "388/388 [==============================] - 50s 129ms/step - loss: 0.6682 - pi_loss: 0.4050 - v_loss: 0.2632\n"
          ]
        },
        {
          "name": "stderr",
          "output_type": "stream",
          "text": [
            "2024-01-01 17:51:07 53919080884b Coach[761] INFO PITTING AGAINST PREVIOUS VERSION\n",
            "Arena.playGames (1): 100%|██████████| 10/10 [04:18<00:00, 25.88s/it]\n",
            "Arena.playGames (2): 100%|██████████| 10/10 [05:47<00:00, 34.72s/it]\n",
            "2024-01-01 18:01:13 53919080884b Coach[761] INFO NEW/PREV WINS : 1 / 11 ; DRAWS : 8\n",
            "2024-01-01 18:01:13 53919080884b Coach[761] INFO REJECTING NEW MODEL\n",
            "2024-01-01 18:01:15 53919080884b Coach[761] INFO Starting Iter #7 ...\n",
            "Self Play: 100%|██████████| 25/25 [08:37<00:00, 20.68s/it]\n"
          ]
        },
        {
          "name": "stdout",
          "output_type": "stream",
          "text": [
            "Checkpoint Directory exists! \n",
            "Epoch 1/10\n",
            "448/448 [==============================] - 56s 120ms/step - loss: 1.0118 - pi_loss: 0.5984 - v_loss: 0.4134\n",
            "Epoch 2/10\n",
            "448/448 [==============================] - 55s 122ms/step - loss: 0.8743 - pi_loss: 0.5114 - v_loss: 0.3629\n",
            "Epoch 3/10\n",
            "448/448 [==============================] - 54s 121ms/step - loss: 0.8108 - pi_loss: 0.4790 - v_loss: 0.3318\n",
            "Epoch 4/10\n",
            "448/448 [==============================] - 54s 119ms/step - loss: 0.7720 - pi_loss: 0.4556 - v_loss: 0.3163\n",
            "Epoch 5/10\n",
            "448/448 [==============================] - 55s 122ms/step - loss: 0.7387 - pi_loss: 0.4395 - v_loss: 0.2993\n",
            "Epoch 6/10\n",
            "448/448 [==============================] - 55s 122ms/step - loss: 0.7127 - pi_loss: 0.4274 - v_loss: 0.2852\n",
            "Epoch 7/10\n",
            "448/448 [==============================] - 52s 117ms/step - loss: 0.7022 - pi_loss: 0.4222 - v_loss: 0.2800\n",
            "Epoch 8/10\n",
            "448/448 [==============================] - 58s 130ms/step - loss: 0.6890 - pi_loss: 0.4159 - v_loss: 0.2731\n",
            "Epoch 9/10\n",
            "448/448 [==============================] - 55s 123ms/step - loss: 0.6786 - pi_loss: 0.4098 - v_loss: 0.2689\n",
            "Epoch 10/10\n",
            "448/448 [==============================] - 55s 122ms/step - loss: 0.6739 - pi_loss: 0.4100 - v_loss: 0.2639\n"
          ]
        },
        {
          "name": "stderr",
          "output_type": "stream",
          "text": [
            "2024-01-01 18:19:21 53919080884b Coach[761] INFO PITTING AGAINST PREVIOUS VERSION\n",
            "Arena.playGames (1): 100%|██████████| 10/10 [04:29<00:00, 26.94s/it]\n",
            "Arena.playGames (2): 100%|██████████| 10/10 [07:32<00:00, 45.30s/it]\n",
            "2024-01-01 18:31:23 53919080884b Coach[761] INFO NEW/PREV WINS : 8 / 4 ; DRAWS : 8\n",
            "2024-01-01 18:31:23 53919080884b Coach[761] INFO ACCEPTING NEW MODEL\n"
          ]
        },
        {
          "name": "stdout",
          "output_type": "stream",
          "text": [
            "Checkpoint Directory exists! \n",
            "Checkpoint Directory exists! \n"
          ]
        },
        {
          "name": "stderr",
          "output_type": "stream",
          "text": [
            "2024-01-01 18:31:25 53919080884b Coach[761] INFO Starting Iter #8 ...\n",
            "Self Play: 100%|██████████| 25/25 [11:19<00:00, 27.18s/it]\n"
          ]
        },
        {
          "name": "stdout",
          "output_type": "stream",
          "text": [
            "Checkpoint Directory exists! \n",
            "Epoch 1/10\n",
            "515/515 [==============================] - 65s 126ms/step - loss: 0.8066 - pi_loss: 0.4762 - v_loss: 0.3304\n",
            "Epoch 2/10\n",
            "515/515 [==============================] - 62s 121ms/step - loss: 0.7460 - pi_loss: 0.4409 - v_loss: 0.3051\n",
            "Epoch 3/10\n",
            "515/515 [==============================] - 64s 124ms/step - loss: 0.7126 - pi_loss: 0.4249 - v_loss: 0.2877\n",
            "Epoch 4/10\n",
            "515/515 [==============================] - 62s 121ms/step - loss: 0.6977 - pi_loss: 0.4189 - v_loss: 0.2788\n",
            "Epoch 5/10\n",
            "515/515 [==============================] - 63s 122ms/step - loss: 0.6881 - pi_loss: 0.4134 - v_loss: 0.2746\n",
            "Epoch 6/10\n",
            "515/515 [==============================] - 63s 122ms/step - loss: 0.6736 - pi_loss: 0.4073 - v_loss: 0.2663\n",
            "Epoch 7/10\n",
            "515/515 [==============================] - 65s 126ms/step - loss: 0.6715 - pi_loss: 0.4051 - v_loss: 0.2665\n",
            "Epoch 8/10\n",
            "515/515 [==============================] - 65s 126ms/step - loss: 0.6652 - pi_loss: 0.4021 - v_loss: 0.2631\n",
            "Epoch 9/10\n",
            "515/515 [==============================] - 62s 121ms/step - loss: 0.6581 - pi_loss: 0.3991 - v_loss: 0.2589\n",
            "Epoch 10/10\n",
            "515/515 [==============================] - 62s 120ms/step - loss: 0.6559 - pi_loss: 0.3991 - v_loss: 0.2568\n"
          ]
        },
        {
          "name": "stderr",
          "output_type": "stream",
          "text": [
            "2024-01-01 18:54:12 53919080884b Coach[761] INFO PITTING AGAINST PREVIOUS VERSION\n",
            "Arena.playGames (1): 100%|██████████| 10/10 [05:42<00:00, 34.21s/it]\n",
            "Arena.playGames (2): 100%|██████████| 10/10 [10:04<00:00, 60.41s/it]\n",
            "2024-01-01 19:09:58 53919080884b Coach[761] INFO NEW/PREV WINS : 7 / 12 ; DRAWS : 1\n",
            "2024-01-01 19:09:58 53919080884b Coach[761] INFO REJECTING NEW MODEL\n",
            "2024-01-01 19:10:00 53919080884b Coach[761] INFO Starting Iter #9 ...\n",
            "Self Play: 100%|██████████| 25/25 [09:04<00:00, 21.77s/it]\n"
          ]
        },
        {
          "name": "stdout",
          "output_type": "stream",
          "text": [
            "Checkpoint Directory exists! \n",
            "Epoch 1/10\n",
            "572/572 [==============================] - 73s 125ms/step - loss: 0.8419 - pi_loss: 0.4970 - v_loss: 0.3449\n",
            "Epoch 2/10\n",
            "572/572 [==============================] - 69s 120ms/step - loss: 0.7594 - pi_loss: 0.4480 - v_loss: 0.3114\n",
            "Epoch 3/10\n",
            "572/572 [==============================] - 69s 120ms/step - loss: 0.7267 - pi_loss: 0.4308 - v_loss: 0.2959\n",
            "Epoch 4/10\n",
            "572/572 [==============================] - 70s 123ms/step - loss: 0.7094 - pi_loss: 0.4218 - v_loss: 0.2876\n",
            "Epoch 5/10\n",
            "572/572 [==============================] - 68s 119ms/step - loss: 0.6946 - pi_loss: 0.4131 - v_loss: 0.2815\n",
            "Epoch 6/10\n",
            "572/572 [==============================] - 69s 121ms/step - loss: 0.6835 - pi_loss: 0.4096 - v_loss: 0.2739\n",
            "Epoch 7/10\n",
            "572/572 [==============================] - 70s 122ms/step - loss: 0.6784 - pi_loss: 0.4079 - v_loss: 0.2705\n",
            "Epoch 8/10\n",
            "572/572 [==============================] - 67s 118ms/step - loss: 0.6725 - pi_loss: 0.4038 - v_loss: 0.2687\n",
            "Epoch 9/10\n",
            "572/572 [==============================] - 70s 122ms/step - loss: 0.6634 - pi_loss: 0.4004 - v_loss: 0.2630\n",
            "Epoch 10/10\n",
            "572/572 [==============================] - 73s 128ms/step - loss: 0.6585 - pi_loss: 0.3979 - v_loss: 0.2606\n"
          ]
        },
        {
          "name": "stderr",
          "output_type": "stream",
          "text": [
            "2024-01-01 19:31:33 53919080884b Coach[761] INFO PITTING AGAINST PREVIOUS VERSION\n",
            "Arena.playGames (1): 100%|██████████| 10/10 [06:08<00:00, 36.87s/it]\n",
            "Arena.playGames (2): 100%|██████████| 10/10 [08:58<00:00, 53.84s/it]\n",
            "2024-01-01 19:46:40 53919080884b Coach[761] INFO NEW/PREV WINS : 11 / 8 ; DRAWS : 1\n",
            "2024-01-01 19:46:40 53919080884b Coach[761] INFO REJECTING NEW MODEL\n",
            "2024-01-01 19:46:42 53919080884b Coach[761] INFO Starting Iter #10 ...\n",
            "Self Play: 100%|██████████| 25/25 [12:53<00:00, 30.94s/it]\n"
          ]
        },
        {
          "name": "stdout",
          "output_type": "stream",
          "text": [
            "Checkpoint Directory exists! \n",
            "Epoch 1/10\n",
            "648/648 [==============================] - 77s 117ms/step - loss: 0.8971 - pi_loss: 0.5221 - v_loss: 0.3751\n",
            "Epoch 2/10\n",
            "648/648 [==============================] - 76s 117ms/step - loss: 0.7889 - pi_loss: 0.4585 - v_loss: 0.3304\n",
            "Epoch 3/10\n",
            "648/648 [==============================] - 77s 119ms/step - loss: 0.7440 - pi_loss: 0.4333 - v_loss: 0.3107\n",
            "Epoch 4/10\n",
            "648/648 [==============================] - 77s 119ms/step - loss: 0.7206 - pi_loss: 0.4222 - v_loss: 0.2984\n",
            "Epoch 5/10\n",
            "648/648 [==============================] - 76s 117ms/step - loss: 0.6984 - pi_loss: 0.4107 - v_loss: 0.2877\n",
            "Epoch 6/10\n",
            "648/648 [==============================] - 76s 117ms/step - loss: 0.6893 - pi_loss: 0.4068 - v_loss: 0.2824\n",
            "Epoch 7/10\n",
            "648/648 [==============================] - 78s 120ms/step - loss: 0.6790 - pi_loss: 0.4015 - v_loss: 0.2774\n",
            "Epoch 8/10\n",
            "648/648 [==============================] - 80s 124ms/step - loss: 0.6713 - pi_loss: 0.3984 - v_loss: 0.2729\n",
            "Epoch 9/10\n",
            "648/648 [==============================] - 79s 121ms/step - loss: 0.6676 - pi_loss: 0.3964 - v_loss: 0.2711\n",
            "Epoch 10/10\n",
            "648/648 [==============================] - 76s 118ms/step - loss: 0.6618 - pi_loss: 0.3942 - v_loss: 0.2676\n"
          ]
        },
        {
          "name": "stderr",
          "output_type": "stream",
          "text": [
            "2024-01-01 20:13:07 53919080884b Coach[761] INFO PITTING AGAINST PREVIOUS VERSION\n",
            "Arena.playGames (1): 100%|██████████| 10/10 [06:18<00:00, 37.90s/it]\n",
            "Arena.playGames (2): 100%|██████████| 10/10 [07:08<00:00, 42.84s/it]\n",
            "2024-01-01 20:26:34 53919080884b Coach[761] INFO NEW/PREV WINS : 11 / 8 ; DRAWS : 1\n",
            "2024-01-01 20:26:34 53919080884b Coach[761] INFO REJECTING NEW MODEL\n",
            "2024-01-01 20:26:35 53919080884b Coach[761] INFO Starting Iter #11 ...\n",
            "Self Play: 100%|██████████| 25/25 [10:03<00:00, 24.12s/it]\n"
          ]
        },
        {
          "name": "stdout",
          "output_type": "stream",
          "text": [
            "Checkpoint Directory exists! \n",
            "Epoch 1/10\n",
            "712/712 [==============================] - 88s 121ms/step - loss: 0.8960 - pi_loss: 0.5318 - v_loss: 0.3642\n",
            "Epoch 2/10\n",
            "712/712 [==============================] - 84s 118ms/step - loss: 0.7848 - pi_loss: 0.4641 - v_loss: 0.3208\n",
            "Epoch 3/10\n",
            "712/712 [==============================] - 85s 119ms/step - loss: 0.7366 - pi_loss: 0.4365 - v_loss: 0.3001\n",
            "Epoch 4/10\n",
            "712/712 [==============================] - 85s 119ms/step - loss: 0.7109 - pi_loss: 0.4241 - v_loss: 0.2868\n",
            "Epoch 5/10\n",
            "712/712 [==============================] - 86s 121ms/step - loss: 0.6952 - pi_loss: 0.4140 - v_loss: 0.2812\n",
            "Epoch 6/10\n",
            "712/712 [==============================] - 87s 122ms/step - loss: 0.6789 - pi_loss: 0.4063 - v_loss: 0.2726\n",
            "Epoch 7/10\n",
            "712/712 [==============================] - 85s 119ms/step - loss: 0.6705 - pi_loss: 0.4013 - v_loss: 0.2692\n",
            "Epoch 8/10\n",
            "712/712 [==============================] - 85s 120ms/step - loss: 0.6628 - pi_loss: 0.3969 - v_loss: 0.2659\n",
            "Epoch 9/10\n",
            "712/712 [==============================] - 88s 123ms/step - loss: 0.6563 - pi_loss: 0.3947 - v_loss: 0.2616\n",
            "Epoch 10/10\n",
            "712/712 [==============================] - 90s 126ms/step - loss: 0.6511 - pi_loss: 0.3932 - v_loss: 0.2579\n"
          ]
        },
        {
          "name": "stderr",
          "output_type": "stream",
          "text": [
            "2024-01-01 20:51:10 53919080884b Coach[761] INFO PITTING AGAINST PREVIOUS VERSION\n",
            "Arena.playGames (1): 100%|██████████| 10/10 [06:58<00:00, 41.83s/it]\n",
            "Arena.playGames (2): 100%|██████████| 10/10 [08:31<00:00, 51.11s/it]\n",
            "2024-01-01 21:06:40 53919080884b Coach[761] INFO NEW/PREV WINS : 11 / 8 ; DRAWS : 1\n",
            "2024-01-01 21:06:40 53919080884b Coach[761] INFO REJECTING NEW MODEL\n",
            "2024-01-01 21:06:41 53919080884b Coach[761] INFO Starting Iter #12 ...\n",
            "Self Play: 100%|██████████| 25/25 [10:10<00:00, 24.42s/it]\n"
          ]
        },
        {
          "name": "stdout",
          "output_type": "stream",
          "text": [
            "Checkpoint Directory exists! \n",
            "Epoch 1/10\n",
            "770/770 [==============================] - 98s 125ms/step - loss: 0.9279 - pi_loss: 0.5487 - v_loss: 0.3792\n",
            "Epoch 2/10\n",
            "770/770 [==============================] - 94s 122ms/step - loss: 0.8085 - pi_loss: 0.4741 - v_loss: 0.3344\n",
            "Epoch 3/10\n",
            "770/770 [==============================] - 92s 120ms/step - loss: 0.7607 - pi_loss: 0.4468 - v_loss: 0.3139\n",
            "Epoch 4/10\n",
            "770/770 [==============================] - 94s 122ms/step - loss: 0.7274 - pi_loss: 0.4294 - v_loss: 0.2980\n",
            "Epoch 5/10\n",
            "770/770 [==============================] - 91s 119ms/step - loss: 0.7071 - pi_loss: 0.4181 - v_loss: 0.2890\n",
            "Epoch 6/10\n",
            "770/770 [==============================] - 92s 119ms/step - loss: 0.6935 - pi_loss: 0.4130 - v_loss: 0.2805\n",
            "Epoch 7/10\n",
            "770/770 [==============================] - 92s 119ms/step - loss: 0.6786 - pi_loss: 0.4048 - v_loss: 0.2737\n",
            "Epoch 8/10\n",
            "770/770 [==============================] - 97s 127ms/step - loss: 0.6701 - pi_loss: 0.3985 - v_loss: 0.2716\n",
            "Epoch 9/10\n",
            "770/770 [==============================] - 94s 122ms/step - loss: 0.6629 - pi_loss: 0.3976 - v_loss: 0.2653\n",
            "Epoch 10/10\n",
            "770/770 [==============================] - 95s 123ms/step - loss: 0.6571 - pi_loss: 0.3926 - v_loss: 0.2645\n"
          ]
        },
        {
          "name": "stderr",
          "output_type": "stream",
          "text": [
            "2024-01-01 21:33:21 53919080884b Coach[761] INFO PITTING AGAINST PREVIOUS VERSION\n",
            "Arena.playGames (1): 100%|██████████| 10/10 [06:03<00:00, 36.37s/it]\n",
            "Arena.playGames (2): 100%|██████████| 10/10 [08:48<00:00, 52.86s/it]\n",
            "2024-01-01 21:48:14 53919080884b Coach[761] INFO NEW/PREV WINS : 5 / 14 ; DRAWS : 1\n",
            "2024-01-01 21:48:14 53919080884b Coach[761] INFO REJECTING NEW MODEL\n",
            "2024-01-01 21:48:15 53919080884b Coach[761] INFO Starting Iter #13 ...\n",
            "Self Play: 100%|██████████| 25/25 [08:12<00:00, 19.72s/it]\n"
          ]
        },
        {
          "name": "stdout",
          "output_type": "stream",
          "text": [
            "Checkpoint Directory exists! \n",
            "Epoch 1/10\n",
            "822/822 [==============================] - 100s 120ms/step - loss: 0.9318 - pi_loss: 0.5503 - v_loss: 0.3815\n",
            "Epoch 2/10\n",
            "822/822 [==============================] - 99s 120ms/step - loss: 0.8139 - pi_loss: 0.4783 - v_loss: 0.3356\n",
            "Epoch 3/10\n",
            "822/822 [==============================] - 99s 121ms/step - loss: 0.7629 - pi_loss: 0.4486 - v_loss: 0.3143\n",
            "Epoch 4/10\n",
            "822/822 [==============================] - 101s 123ms/step - loss: 0.7282 - pi_loss: 0.4312 - v_loss: 0.2970\n",
            "Epoch 5/10\n",
            "822/822 [==============================] - 99s 121ms/step - loss: 0.7040 - pi_loss: 0.4182 - v_loss: 0.2858\n",
            "Epoch 6/10\n",
            "822/822 [==============================] - 99s 121ms/step - loss: 0.6912 - pi_loss: 0.4104 - v_loss: 0.2808\n",
            "Epoch 7/10\n",
            "822/822 [==============================] - 99s 121ms/step - loss: 0.6759 - pi_loss: 0.4044 - v_loss: 0.2715\n",
            "Epoch 8/10\n",
            "822/822 [==============================] - 98s 119ms/step - loss: 0.6661 - pi_loss: 0.3969 - v_loss: 0.2692\n",
            "Epoch 9/10\n",
            "822/822 [==============================] - 101s 123ms/step - loss: 0.6589 - pi_loss: 0.3960 - v_loss: 0.2629\n",
            "Epoch 10/10\n",
            "822/822 [==============================] - 100s 122ms/step - loss: 0.6513 - pi_loss: 0.3899 - v_loss: 0.2615\n"
          ]
        },
        {
          "name": "stderr",
          "output_type": "stream",
          "text": [
            "2024-01-01 22:13:59 53919080884b Coach[761] INFO PITTING AGAINST PREVIOUS VERSION\n",
            "Arena.playGames (1): 100%|██████████| 10/10 [06:07<00:00, 36.72s/it]\n",
            "Arena.playGames (2): 100%|██████████| 10/10 [08:45<00:00, 52.50s/it]\n",
            "2024-01-01 22:28:52 53919080884b Coach[761] INFO NEW/PREV WINS : 10 / 9 ; DRAWS : 1\n",
            "2024-01-01 22:28:52 53919080884b Coach[761] INFO REJECTING NEW MODEL\n",
            "2024-01-01 22:28:53 53919080884b Coach[761] INFO Starting Iter #14 ...\n",
            "Self Play: 100%|██████████| 25/25 [12:06<00:00, 29.07s/it]\n"
          ]
        },
        {
          "name": "stdout",
          "output_type": "stream",
          "text": [
            "Checkpoint Directory exists! \n",
            "Epoch 1/10\n",
            "895/895 [==============================] - 112s 124ms/step - loss: 0.9673 - pi_loss: 0.5641 - v_loss: 0.4032\n",
            "Epoch 2/10\n",
            "895/895 [==============================] - 110s 123ms/step - loss: 0.8369 - pi_loss: 0.4850 - v_loss: 0.3519\n",
            "Epoch 3/10\n",
            "895/895 [==============================] - 108s 121ms/step - loss: 0.7778 - pi_loss: 0.4532 - v_loss: 0.3246\n",
            "Epoch 4/10\n",
            "895/895 [==============================] - 107s 120ms/step - loss: 0.7392 - pi_loss: 0.4320 - v_loss: 0.3072\n",
            "Epoch 5/10\n",
            "895/895 [==============================] - 113s 126ms/step - loss: 0.7127 - pi_loss: 0.4185 - v_loss: 0.2942\n",
            "Epoch 6/10\n",
            "895/895 [==============================] - 109s 122ms/step - loss: 0.6934 - pi_loss: 0.4087 - v_loss: 0.2848\n",
            "Epoch 7/10\n",
            "895/895 [==============================] - 109s 121ms/step - loss: 0.6794 - pi_loss: 0.4016 - v_loss: 0.2778\n",
            "Epoch 8/10\n",
            "895/895 [==============================] - 109s 121ms/step - loss: 0.6654 - pi_loss: 0.3967 - v_loss: 0.2688\n",
            "Epoch 9/10\n",
            "895/895 [==============================] - 110s 123ms/step - loss: 0.6543 - pi_loss: 0.3904 - v_loss: 0.2638\n",
            "Epoch 10/10\n",
            "895/895 [==============================] - 107s 119ms/step - loss: 0.6480 - pi_loss: 0.3876 - v_loss: 0.2604\n"
          ]
        },
        {
          "name": "stderr",
          "output_type": "stream",
          "text": [
            "2024-01-01 22:59:21 53919080884b Coach[761] INFO PITTING AGAINST PREVIOUS VERSION\n",
            "Arena.playGames (1): 100%|██████████| 10/10 [06:35<00:00, 39.55s/it]\n",
            "Arena.playGames (2): 100%|██████████| 10/10 [05:20<00:00, 32.07s/it]\n",
            "2024-01-01 23:11:17 53919080884b Coach[761] INFO NEW/PREV WINS : 9 / 10 ; DRAWS : 1\n",
            "2024-01-01 23:11:17 53919080884b Coach[761] INFO REJECTING NEW MODEL\n",
            "2024-01-01 23:11:19 53919080884b Coach[761] INFO Starting Iter #15 ...\n",
            "Self Play: 100%|██████████| 25/25 [12:50<00:00, 30.82s/it]\n"
          ]
        },
        {
          "name": "stdout",
          "output_type": "stream",
          "text": [
            "Checkpoint Directory exists! \n",
            "Epoch 1/10\n",
            "971/971 [==============================] - 115s 117ms/step - loss: 1.0043 - pi_loss: 0.5752 - v_loss: 0.4291\n",
            "Epoch 2/10\n",
            "971/971 [==============================] - 115s 118ms/step - loss: 0.8614 - pi_loss: 0.4928 - v_loss: 0.3686\n",
            "Epoch 3/10\n",
            "971/971 [==============================] - 115s 118ms/step - loss: 0.7929 - pi_loss: 0.4554 - v_loss: 0.3375\n",
            "Epoch 4/10\n",
            "971/971 [==============================] - 115s 118ms/step - loss: 0.7530 - pi_loss: 0.4349 - v_loss: 0.3181\n",
            "Epoch 5/10\n",
            "971/971 [==============================] - 117s 120ms/step - loss: 0.7200 - pi_loss: 0.4197 - v_loss: 0.3004\n",
            "Epoch 6/10\n",
            "971/971 [==============================] - 113s 116ms/step - loss: 0.7029 - pi_loss: 0.4100 - v_loss: 0.2929\n",
            "Epoch 7/10\n",
            "971/971 [==============================] - 113s 116ms/step - loss: 0.6834 - pi_loss: 0.4016 - v_loss: 0.2818\n",
            "Epoch 8/10\n",
            "971/971 [==============================] - 113s 117ms/step - loss: 0.6717 - pi_loss: 0.3951 - v_loss: 0.2766\n",
            "Epoch 9/10\n",
            "971/971 [==============================] - 116s 119ms/step - loss: 0.6634 - pi_loss: 0.3923 - v_loss: 0.2711\n",
            "Epoch 10/10\n",
            "971/971 [==============================] - 114s 117ms/step - loss: 0.6534 - pi_loss: 0.3861 - v_loss: 0.2673\n"
          ]
        },
        {
          "name": "stderr",
          "output_type": "stream",
          "text": [
            "2024-01-01 23:43:24 53919080884b Coach[761] INFO PITTING AGAINST PREVIOUS VERSION\n",
            "Arena.playGames (1): 100%|██████████| 10/10 [06:51<00:00, 41.19s/it]\n",
            "Arena.playGames (2): 100%|██████████| 10/10 [07:52<00:00, 47.21s/it]\n",
            "2024-01-01 23:58:07 53919080884b Coach[761] INFO NEW/PREV WINS : 6 / 13 ; DRAWS : 1\n",
            "2024-01-01 23:58:07 53919080884b Coach[761] INFO REJECTING NEW MODEL\n",
            "2024-01-01 23:58:09 53919080884b Coach[761] INFO Starting Iter #16 ...\n",
            "Self Play: 100%|██████████| 25/25 [11:05<00:00, 26.61s/it]\n"
          ]
        },
        {
          "name": "stdout",
          "output_type": "stream",
          "text": [
            "Checkpoint Directory exists! \n",
            "Epoch 1/10\n",
            "1035/1035 [==============================] - 128s 122ms/step - loss: 1.0180 - pi_loss: 0.5858 - v_loss: 0.4322\n",
            "Epoch 2/10\n",
            "1035/1035 [==============================] - 123s 119ms/step - loss: 0.8755 - pi_loss: 0.5009 - v_loss: 0.3746\n",
            "Epoch 3/10\n",
            "1035/1035 [==============================] - 124s 120ms/step - loss: 0.8117 - pi_loss: 0.4662 - v_loss: 0.3455\n",
            "Epoch 4/10\n",
            "1035/1035 [==============================] - 125s 121ms/step - loss: 0.7665 - pi_loss: 0.4432 - v_loss: 0.3233\n",
            "Epoch 5/10\n",
            "1035/1035 [==============================] - 124s 119ms/step - loss: 0.7326 - pi_loss: 0.4246 - v_loss: 0.3080\n",
            "Epoch 6/10\n",
            "1035/1035 [==============================] - 125s 120ms/step - loss: 0.7123 - pi_loss: 0.4150 - v_loss: 0.2974\n",
            "Epoch 7/10\n",
            "1035/1035 [==============================] - 128s 124ms/step - loss: 0.6925 - pi_loss: 0.4073 - v_loss: 0.2852\n",
            "Epoch 8/10\n",
            "1035/1035 [==============================] - 122s 118ms/step - loss: 0.6829 - pi_loss: 0.4018 - v_loss: 0.2811\n",
            "Epoch 9/10\n",
            "1035/1035 [==============================] - 124s 120ms/step - loss: 0.6697 - pi_loss: 0.3953 - v_loss: 0.2744\n",
            "Epoch 10/10\n",
            "1035/1035 [==============================] - 124s 119ms/step - loss: 0.6614 - pi_loss: 0.3901 - v_loss: 0.2712\n"
          ]
        },
        {
          "name": "stderr",
          "output_type": "stream",
          "text": [
            "2024-01-02 00:30:48 53919080884b Coach[761] INFO PITTING AGAINST PREVIOUS VERSION\n",
            "Arena.playGames (1): 100%|██████████| 10/10 [07:26<00:00, 44.62s/it]\n",
            "Arena.playGames (2): 100%|██████████| 10/10 [09:11<00:00, 55.13s/it]\n",
            "2024-01-02 00:47:26 53919080884b Coach[761] INFO NEW/PREV WINS : 5 / 13 ; DRAWS : 2\n",
            "2024-01-02 00:47:26 53919080884b Coach[761] INFO REJECTING NEW MODEL\n",
            "2024-01-02 00:47:28 53919080884b Coach[761] INFO Starting Iter #17 ...\n",
            "Self Play: 100%|██████████| 25/25 [10:18<00:00, 24.73s/it]\n"
          ]
        },
        {
          "name": "stdout",
          "output_type": "stream",
          "text": [
            "Checkpoint Directory exists! \n",
            "Epoch 1/10\n",
            "1102/1102 [==============================] - 133s 119ms/step - loss: 1.0118 - pi_loss: 0.5826 - v_loss: 0.4292\n",
            "Epoch 2/10\n",
            "1102/1102 [==============================] - 129s 117ms/step - loss: 0.8736 - pi_loss: 0.5021 - v_loss: 0.3715\n",
            "Epoch 3/10\n",
            "1102/1102 [==============================] - 130s 118ms/step - loss: 0.8056 - pi_loss: 0.4648 - v_loss: 0.3408\n",
            "Epoch 4/10\n",
            "1102/1102 [==============================] - 131s 119ms/step - loss: 0.7602 - pi_loss: 0.4402 - v_loss: 0.3199\n",
            "Epoch 5/10\n",
            "1102/1102 [==============================] - 130s 118ms/step - loss: 0.7250 - pi_loss: 0.4239 - v_loss: 0.3012\n",
            "Epoch 6/10\n",
            "1102/1102 [==============================] - 130s 118ms/step - loss: 0.7013 - pi_loss: 0.4097 - v_loss: 0.2916\n",
            "Epoch 7/10\n",
            "1102/1102 [==============================] - 130s 118ms/step - loss: 0.6820 - pi_loss: 0.4005 - v_loss: 0.2815\n",
            "Epoch 8/10\n",
            "1102/1102 [==============================] - 133s 120ms/step - loss: 0.6678 - pi_loss: 0.3939 - v_loss: 0.2739\n",
            "Epoch 9/10\n",
            "1102/1102 [==============================] - 129s 117ms/step - loss: 0.6598 - pi_loss: 0.3917 - v_loss: 0.2681\n",
            "Epoch 10/10\n",
            "1102/1102 [==============================] - 130s 118ms/step - loss: 0.6526 - pi_loss: 0.3862 - v_loss: 0.2664\n"
          ]
        },
        {
          "name": "stderr",
          "output_type": "stream",
          "text": [
            "2024-01-02 01:20:22 53919080884b Coach[761] INFO PITTING AGAINST PREVIOUS VERSION\n",
            "Arena.playGames (1): 100%|██████████| 10/10 [06:49<00:00, 40.98s/it]\n",
            "Arena.playGames (2): 100%|██████████| 10/10 [10:51<00:00, 65.11s/it]\n",
            "2024-01-02 01:38:03 53919080884b Coach[761] INFO NEW/PREV WINS : 12 / 7 ; DRAWS : 1\n",
            "2024-01-02 01:38:03 53919080884b Coach[761] INFO ACCEPTING NEW MODEL\n"
          ]
        },
        {
          "name": "stdout",
          "output_type": "stream",
          "text": [
            "Checkpoint Directory exists! \n",
            "Checkpoint Directory exists! \n"
          ]
        },
        {
          "name": "stderr",
          "output_type": "stream",
          "text": [
            "2024-01-02 01:38:04 53919080884b Coach[761] INFO Starting Iter #18 ...\n",
            "Self Play:   0%|          | 0/25 [00:00<?, ?it/s]"
          ]
        }
      ],
      "source": [
        "args = dotdict({\n",
        "    'numIters':20,\n",
        "    'numEps': 25,              # Number of complete self-play games to simulate during a new iteration.\n",
        "    'tempThreshold': 15,        #\n",
        "    'updateThreshold': 0.6,     # During arena playoff, new neural net will be accepted if threshold or more of games are won.\n",
        "    'maxlenOfQueue': 50000,    # Number of game examples to train the neural networks.\n",
        "    'numMCTSSims': 25,          # Number of games moves for MCTS to simulate.\n",
        "    'arenaCompare': 20,         # Number of games to play during arena play to determine if new net will be accepted.\n",
        "    'cpuct': 1,\n",
        "\n",
        "    'checkpoint': '/content/drive/MyDrive/trabalho2_liacd/models/ataxx/5x5',\n",
        "    'load_model': True,\n",
        "    'load_folder_file': ('/content/drive/MyDrive/trabalho2_liacd/models/ataxx/5x5', 'best.h5'),\n",
        "    'numItersForTrainExamplesHistory': 20,\n",
        "\n",
        "})\n",
        "\n",
        "\n",
        "log.info('Loading %s...', Game.__name__)\n",
        "g = Game(5)\n",
        "\n",
        "log.info('Loading %s...', nn.__name__)\n",
        "nnet = nn(g)\n",
        "\n",
        "if args.load_model:\n",
        "    log.info('Loading checkpoint \"%s/%s\"...', args.load_folder_file[0], args.load_folder_file[1])\n",
        "    nnet.load_model(args.load_folder_file[0], args.load_folder_file[1])\n",
        "else:\n",
        "    log.warning('Not loading a checkpoint!')\n",
        "\n",
        "log.info('Loading the Coach...')\n",
        "c = Coach(g, nnet, args)\n",
        "\n",
        "if args.load_model:\n",
        "    log.info(\"Loading 'trainExamples' from file...\")\n",
        "    c.loadTrainExamples()\n",
        "\n",
        "log.info('Starting the learning process 🎉')\n",
        "c.learn()\n",
        "\n"
      ]
    },
    {
      "cell_type": "markdown",
      "metadata": {
        "id": "Z8VxzSAG9QXj"
      },
      "source": [
        "#Décimo Terceiro Treino"
      ]
    },
    {
      "cell_type": "code",
      "execution_count": null,
      "metadata": {
        "colab": {
          "background_save": true,
          "base_uri": "https://localhost:8080/"
        },
        "id": "0w8uODSN9SVi",
        "outputId": "404175f3-50f5-408a-d2ae-3d2bcaaf6589"
      },
      "outputs": [
        {
          "name": "stderr",
          "output_type": "stream",
          "text": [
            "2024-01-02 11:36:07 885e1ad3d250 __main__[138] INFO Loading AtaxxGame...\n",
            "2024-01-02 11:36:07 885e1ad3d250 __main__[138] INFO Loading NNetWrapper...\n",
            "2024-01-02 11:36:08 885e1ad3d250 __main__[138] INFO Loading checkpoint \"/content/drive/MyDrive/trabalho2_liacd/models/ataxx/5x5/best.h5\"...\n",
            "2024-01-02 11:36:10 885e1ad3d250 __main__[138] INFO Loading the Coach...\n",
            "2024-01-02 11:36:10 885e1ad3d250 __main__[138] INFO Loading 'trainExamples' from file...\n",
            "2024-01-02 11:36:10 885e1ad3d250 Coach[138] WARNING File \"/content/drive/MyDrive/trabalho2_liacd/models/ataxx/5x5/best.h5.examples\" with trainExamples not found!\n",
            "2024-01-02 11:36:12 885e1ad3d250 __main__[138] INFO Starting the learning process 🎉\n",
            "2024-01-02 11:36:12 885e1ad3d250 Coach[138] INFO Starting Iter #1 ...\n",
            "Self Play: 100%|██████████| 25/25 [13:53<00:00, 33.34s/it]\n"
          ]
        },
        {
          "name": "stdout",
          "output_type": "stream",
          "text": [
            "Checkpoint Directory exists! \n"
          ]
        },
        {
          "name": "stderr",
          "output_type": "stream",
          "text": [
            "/usr/local/lib/python3.10/dist-packages/keras/src/engine/training.py:3103: UserWarning: You are saving your model as an HDF5 file via `model.save()`. This file format is considered legacy. We recommend using instead the native Keras format, e.g. `model.save('my_model.keras')`.\n",
            "  saving_api.save_model(\n"
          ]
        },
        {
          "name": "stdout",
          "output_type": "stream",
          "text": [
            "Epoch 1/10\n",
            "68/68 [==============================] - 11s 130ms/step - loss: 1.3143 - pi_loss: 0.7309 - v_loss: 0.5834\n",
            "Epoch 2/10\n",
            "68/68 [==============================] - 11s 156ms/step - loss: 0.7178 - pi_loss: 0.4296 - v_loss: 0.2881\n",
            "Epoch 3/10\n",
            "68/68 [==============================] - 8s 120ms/step - loss: 0.6042 - pi_loss: 0.3777 - v_loss: 0.2264\n",
            "Epoch 4/10\n",
            "68/68 [==============================] - 11s 158ms/step - loss: 0.5427 - pi_loss: 0.3500 - v_loss: 0.1927\n",
            "Epoch 5/10\n",
            "68/68 [==============================] - 9s 131ms/step - loss: 0.5173 - pi_loss: 0.3450 - v_loss: 0.1723\n",
            "Epoch 6/10\n",
            "68/68 [==============================] - 9s 139ms/step - loss: 0.4935 - pi_loss: 0.3333 - v_loss: 0.1602\n",
            "Epoch 7/10\n",
            "68/68 [==============================] - 10s 146ms/step - loss: 0.4734 - pi_loss: 0.3265 - v_loss: 0.1468\n",
            "Epoch 8/10\n",
            "68/68 [==============================] - 8s 118ms/step - loss: 0.4639 - pi_loss: 0.3236 - v_loss: 0.1404\n",
            "Epoch 9/10\n",
            "68/68 [==============================] - 10s 148ms/step - loss: 0.4529 - pi_loss: 0.3206 - v_loss: 0.1323\n",
            "Epoch 10/10\n",
            "68/68 [==============================] - 8s 112ms/step - loss: 0.4469 - pi_loss: 0.3140 - v_loss: 0.1328\n"
          ]
        },
        {
          "name": "stderr",
          "output_type": "stream",
          "text": [
            "2024-01-02 11:52:32 885e1ad3d250 Coach[138] INFO PITTING AGAINST PREVIOUS VERSION\n",
            "Arena.playGames (1): 100%|██████████| 10/10 [06:44<00:00, 40.45s/it]\n",
            "Arena.playGames (2): 100%|██████████| 10/10 [03:29<00:00, 20.90s/it]\n",
            "2024-01-02 12:02:45 885e1ad3d250 Coach[138] INFO NEW/PREV WINS : 4 / 16 ; DRAWS : 0\n",
            "2024-01-02 12:02:45 885e1ad3d250 Coach[138] INFO REJECTING NEW MODEL\n",
            "2024-01-02 12:02:47 885e1ad3d250 Coach[138] INFO Starting Iter #2 ...\n",
            "Self Play: 100%|██████████| 25/25 [14:02<00:00, 33.72s/it]\n"
          ]
        },
        {
          "name": "stdout",
          "output_type": "stream",
          "text": [
            "Checkpoint Directory exists! \n",
            "Epoch 1/10\n",
            "137/137 [==============================] - 20s 134ms/step - loss: 1.1981 - pi_loss: 0.6691 - v_loss: 0.5289\n",
            "Epoch 2/10\n",
            "137/137 [==============================] - 18s 133ms/step - loss: 0.7515 - pi_loss: 0.4481 - v_loss: 0.3034\n",
            "Epoch 3/10\n",
            "137/137 [==============================] - 18s 132ms/step - loss: 0.6418 - pi_loss: 0.3989 - v_loss: 0.2429\n",
            "Epoch 4/10\n",
            "137/137 [==============================] - 18s 132ms/step - loss: 0.5837 - pi_loss: 0.3748 - v_loss: 0.2089\n",
            "Epoch 5/10\n",
            "137/137 [==============================] - 18s 132ms/step - loss: 0.5470 - pi_loss: 0.3595 - v_loss: 0.1875\n",
            "Epoch 6/10\n",
            "137/137 [==============================] - 18s 133ms/step - loss: 0.5189 - pi_loss: 0.3462 - v_loss: 0.1727\n",
            "Epoch 7/10\n",
            "137/137 [==============================] - 19s 136ms/step - loss: 0.5019 - pi_loss: 0.3369 - v_loss: 0.1650\n",
            "Epoch 8/10\n",
            "137/137 [==============================] - 19s 137ms/step - loss: 0.4847 - pi_loss: 0.3306 - v_loss: 0.1541\n",
            "Epoch 9/10\n",
            "137/137 [==============================] - 19s 141ms/step - loss: 0.4752 - pi_loss: 0.3243 - v_loss: 0.1509\n",
            "Epoch 10/10\n",
            "137/137 [==============================] - 18s 131ms/step - loss: 0.4635 - pi_loss: 0.3239 - v_loss: 0.1396\n"
          ]
        },
        {
          "name": "stderr",
          "output_type": "stream",
          "text": [
            "2024-01-02 12:19:59 885e1ad3d250 Coach[138] INFO PITTING AGAINST PREVIOUS VERSION\n",
            "Arena.playGames (1): 100%|██████████| 10/10 [06:17<00:00, 37.72s/it]\n",
            "Arena.playGames (2): 100%|██████████| 10/10 [09:51<00:00, 59.16s/it]\n",
            "2024-01-02 12:36:08 885e1ad3d250 Coach[138] INFO NEW/PREV WINS : 9 / 8 ; DRAWS : 3\n",
            "2024-01-02 12:36:08 885e1ad3d250 Coach[138] INFO REJECTING NEW MODEL\n",
            "2024-01-02 12:36:09 885e1ad3d250 Coach[138] INFO Starting Iter #3 ...\n",
            "Self Play: 100%|██████████| 25/25 [09:36<00:00, 23.05s/it]\n"
          ]
        },
        {
          "name": "stdout",
          "output_type": "stream",
          "text": [
            "Checkpoint Directory exists! \n",
            "Epoch 1/10\n",
            "184/184 [==============================] - 26s 131ms/step - loss: 1.1730 - pi_loss: 0.6921 - v_loss: 0.4809\n",
            "Epoch 2/10\n",
            "184/184 [==============================] - 27s 146ms/step - loss: 0.7834 - pi_loss: 0.4930 - v_loss: 0.2904\n",
            "Epoch 3/10\n",
            "184/184 [==============================] - 25s 138ms/step - loss: 0.6702 - pi_loss: 0.4383 - v_loss: 0.2319\n",
            "Epoch 4/10\n",
            "184/184 [==============================] - 23s 125ms/step - loss: 0.6141 - pi_loss: 0.4128 - v_loss: 0.2014\n",
            "Epoch 5/10\n",
            "184/184 [==============================] - 25s 138ms/step - loss: 0.5719 - pi_loss: 0.3973 - v_loss: 0.1746\n",
            "Epoch 6/10\n",
            "184/184 [==============================] - 23s 125ms/step - loss: 0.5433 - pi_loss: 0.3830 - v_loss: 0.1603\n",
            "Epoch 7/10\n",
            "184/184 [==============================] - 24s 133ms/step - loss: 0.5312 - pi_loss: 0.3748 - v_loss: 0.1564\n",
            "Epoch 8/10\n",
            "184/184 [==============================] - 24s 128ms/step - loss: 0.5141 - pi_loss: 0.3658 - v_loss: 0.1482\n",
            "Epoch 9/10\n",
            "184/184 [==============================] - 24s 129ms/step - loss: 0.5032 - pi_loss: 0.3623 - v_loss: 0.1409\n",
            "Epoch 10/10\n",
            "184/184 [==============================] - 24s 132ms/step - loss: 0.4961 - pi_loss: 0.3591 - v_loss: 0.1370\n"
          ]
        },
        {
          "name": "stderr",
          "output_type": "stream",
          "text": [
            "2024-01-02 12:50:12 885e1ad3d250 Coach[138] INFO PITTING AGAINST PREVIOUS VERSION\n",
            "Arena.playGames (1): 100%|██████████| 10/10 [08:18<00:00, 49.85s/it]\n",
            "Arena.playGames (2): 100%|██████████| 10/10 [05:43<00:00, 34.31s/it]\n",
            "2024-01-02 13:04:13 885e1ad3d250 Coach[138] INFO NEW/PREV WINS : 5 / 13 ; DRAWS : 2\n",
            "2024-01-02 13:04:13 885e1ad3d250 Coach[138] INFO REJECTING NEW MODEL\n",
            "2024-01-02 13:04:15 885e1ad3d250 Coach[138] INFO Starting Iter #4 ...\n",
            "Self Play: 100%|██████████| 25/25 [12:34<00:00, 30.19s/it]\n"
          ]
        },
        {
          "name": "stdout",
          "output_type": "stream",
          "text": [
            "Checkpoint Directory exists! \n",
            "Epoch 1/10\n",
            "244/244 [==============================] - 34s 131ms/step - loss: 1.1382 - pi_loss: 0.6992 - v_loss: 0.4389\n",
            "Epoch 2/10\n",
            "244/244 [==============================] - 32s 131ms/step - loss: 0.7981 - pi_loss: 0.5212 - v_loss: 0.2768\n",
            "Epoch 3/10\n",
            "244/244 [==============================] - 32s 132ms/step - loss: 0.7030 - pi_loss: 0.4670 - v_loss: 0.2360\n",
            "Epoch 4/10\n",
            "244/244 [==============================] - 32s 132ms/step - loss: 0.6486 - pi_loss: 0.4411 - v_loss: 0.2075\n",
            "Epoch 5/10\n",
            "244/244 [==============================] - 38s 156ms/step - loss: 0.6013 - pi_loss: 0.4175 - v_loss: 0.1837\n",
            "Epoch 6/10\n",
            "244/244 [==============================] - 35s 142ms/step - loss: 0.5787 - pi_loss: 0.4037 - v_loss: 0.1750\n",
            "Epoch 7/10\n",
            "244/244 [==============================] - 32s 133ms/step - loss: 0.5625 - pi_loss: 0.3951 - v_loss: 0.1673\n",
            "Epoch 8/10\n",
            "244/244 [==============================] - 32s 133ms/step - loss: 0.5409 - pi_loss: 0.3836 - v_loss: 0.1573\n",
            "Epoch 9/10\n",
            "244/244 [==============================] - 32s 133ms/step - loss: 0.5312 - pi_loss: 0.3775 - v_loss: 0.1536\n",
            "Epoch 10/10\n",
            "244/244 [==============================] - 32s 133ms/step - loss: 0.5194 - pi_loss: 0.3723 - v_loss: 0.1471\n"
          ]
        },
        {
          "name": "stderr",
          "output_type": "stream",
          "text": [
            "2024-01-02 13:22:25 885e1ad3d250 Coach[138] INFO PITTING AGAINST PREVIOUS VERSION\n",
            "Arena.playGames (1): 100%|██████████| 10/10 [08:56<00:00, 53.68s/it]\n",
            "Arena.playGames (2): 100%|██████████| 10/10 [06:46<00:00, 40.65s/it]\n",
            "2024-01-02 13:38:09 885e1ad3d250 Coach[138] INFO NEW/PREV WINS : 10 / 9 ; DRAWS : 1\n",
            "2024-01-02 13:38:09 885e1ad3d250 Coach[138] INFO REJECTING NEW MODEL\n",
            "2024-01-02 13:38:11 885e1ad3d250 Coach[138] INFO Starting Iter #5 ...\n",
            "Self Play: 100%|██████████| 25/25 [11:16<00:00, 27.04s/it]\n"
          ]
        },
        {
          "name": "stdout",
          "output_type": "stream",
          "text": [
            "Checkpoint Directory exists! \n",
            "Epoch 1/10\n",
            "299/299 [==============================] - 41s 131ms/step - loss: 1.2120 - pi_loss: 0.7659 - v_loss: 0.4461\n",
            "Epoch 2/10\n",
            "299/299 [==============================] - 40s 135ms/step - loss: 0.9028 - pi_loss: 0.5904 - v_loss: 0.3124\n",
            "Epoch 3/10\n",
            "299/299 [==============================] - 39s 132ms/step - loss: 0.7952 - pi_loss: 0.5350 - v_loss: 0.2602\n",
            "Epoch 4/10\n",
            "299/299 [==============================] - 39s 130ms/step - loss: 0.7204 - pi_loss: 0.4939 - v_loss: 0.2265\n",
            "Epoch 5/10\n",
            "299/299 [==============================] - 44s 148ms/step - loss: 0.6731 - pi_loss: 0.4681 - v_loss: 0.2050\n",
            "Epoch 6/10\n",
            "299/299 [==============================] - 40s 135ms/step - loss: 0.6456 - pi_loss: 0.4486 - v_loss: 0.1970\n",
            "Epoch 7/10\n",
            "299/299 [==============================] - 41s 137ms/step - loss: 0.6190 - pi_loss: 0.4347 - v_loss: 0.1844\n",
            "Epoch 8/10\n",
            "299/299 [==============================] - 39s 129ms/step - loss: 0.5995 - pi_loss: 0.4233 - v_loss: 0.1762\n",
            "Epoch 9/10\n",
            "299/299 [==============================] - 41s 138ms/step - loss: 0.5837 - pi_loss: 0.4135 - v_loss: 0.1701\n",
            "Epoch 10/10\n",
            "299/299 [==============================] - 39s 129ms/step - loss: 0.5708 - pi_loss: 0.4073 - v_loss: 0.1635\n"
          ]
        },
        {
          "name": "stderr",
          "output_type": "stream",
          "text": [
            "2024-01-02 13:56:55 885e1ad3d250 Coach[138] INFO PITTING AGAINST PREVIOUS VERSION\n",
            "Arena.playGames (1): 100%|██████████| 10/10 [07:58<00:00, 47.80s/it]\n",
            "Arena.playGames (2): 100%|██████████| 10/10 [06:54<00:00, 41.43s/it]\n",
            "2024-01-02 14:11:48 885e1ad3d250 Coach[138] INFO NEW/PREV WINS : 13 / 7 ; DRAWS : 0\n",
            "2024-01-02 14:11:48 885e1ad3d250 Coach[138] INFO ACCEPTING NEW MODEL\n"
          ]
        },
        {
          "name": "stdout",
          "output_type": "stream",
          "text": [
            "Checkpoint Directory exists! \n",
            "Checkpoint Directory exists! \n"
          ]
        },
        {
          "name": "stderr",
          "output_type": "stream",
          "text": [
            "2024-01-02 14:11:49 885e1ad3d250 Coach[138] INFO Starting Iter #6 ...\n",
            "Self Play: 100%|██████████| 25/25 [11:19<00:00, 27.19s/it]\n"
          ]
        },
        {
          "name": "stdout",
          "output_type": "stream",
          "text": [
            "Checkpoint Directory exists! \n",
            "Epoch 1/10\n",
            "356/356 [==============================] - 47s 132ms/step - loss: 0.7516 - pi_loss: 0.4953 - v_loss: 0.2562\n",
            "Epoch 2/10\n",
            "356/356 [==============================] - 48s 134ms/step - loss: 0.6687 - pi_loss: 0.4434 - v_loss: 0.2252\n",
            "Epoch 3/10\n",
            "356/356 [==============================] - 48s 134ms/step - loss: 0.6332 - pi_loss: 0.4250 - v_loss: 0.2082\n",
            "Epoch 4/10\n",
            "356/356 [==============================] - 48s 134ms/step - loss: 0.6150 - pi_loss: 0.4161 - v_loss: 0.1989\n",
            "Epoch 5/10\n",
            "356/356 [==============================] - 50s 140ms/step - loss: 0.5967 - pi_loss: 0.4077 - v_loss: 0.1890\n",
            "Epoch 6/10\n",
            "356/356 [==============================] - 47s 131ms/step - loss: 0.5879 - pi_loss: 0.4031 - v_loss: 0.1848\n",
            "Epoch 7/10\n",
            "356/356 [==============================] - 46s 130ms/step - loss: 0.5774 - pi_loss: 0.3970 - v_loss: 0.1803\n",
            "Epoch 8/10\n",
            "356/356 [==============================] - 47s 132ms/step - loss: 0.5706 - pi_loss: 0.3952 - v_loss: 0.1755\n",
            "Epoch 9/10\n",
            "356/356 [==============================] - 48s 134ms/step - loss: 0.5651 - pi_loss: 0.3909 - v_loss: 0.1742\n",
            "Epoch 10/10\n",
            "356/356 [==============================] - 48s 134ms/step - loss: 0.5664 - pi_loss: 0.3919 - v_loss: 0.1745\n"
          ]
        },
        {
          "name": "stderr",
          "output_type": "stream",
          "text": [
            "2024-01-02 14:31:36 885e1ad3d250 Coach[138] INFO PITTING AGAINST PREVIOUS VERSION\n",
            "Arena.playGames (1): 100%|██████████| 10/10 [07:02<00:00, 42.22s/it]\n",
            "Arena.playGames (2): 100%|██████████| 10/10 [05:10<00:00, 31.03s/it]\n",
            "2024-01-02 14:43:48 885e1ad3d250 Coach[138] INFO NEW/PREV WINS : 9 / 11 ; DRAWS : 0\n",
            "2024-01-02 14:43:48 885e1ad3d250 Coach[138] INFO REJECTING NEW MODEL\n",
            "2024-01-02 14:43:50 885e1ad3d250 Coach[138] INFO Starting Iter #7 ...\n",
            "Self Play: 100%|██████████| 25/25 [13:11<00:00, 31.67s/it]\n"
          ]
        },
        {
          "name": "stdout",
          "output_type": "stream",
          "text": [
            "Checkpoint Directory exists! \n",
            "Epoch 1/10\n",
            "412/412 [==============================] - 57s 134ms/step - loss: 0.9453 - pi_loss: 0.5639 - v_loss: 0.3813\n",
            "Epoch 2/10\n",
            "412/412 [==============================] - 54s 130ms/step - loss: 0.7979 - pi_loss: 0.4814 - v_loss: 0.3165\n",
            "Epoch 3/10\n",
            "412/412 [==============================] - 54s 132ms/step - loss: 0.7395 - pi_loss: 0.4508 - v_loss: 0.2887\n",
            "Epoch 4/10\n",
            "412/412 [==============================] - 56s 136ms/step - loss: 0.7059 - pi_loss: 0.4352 - v_loss: 0.2707\n",
            "Epoch 5/10\n",
            "412/412 [==============================] - 54s 131ms/step - loss: 0.6818 - pi_loss: 0.4230 - v_loss: 0.2588\n",
            "Epoch 6/10\n",
            "412/412 [==============================] - 59s 143ms/step - loss: 0.6673 - pi_loss: 0.4166 - v_loss: 0.2507\n",
            "Epoch 7/10\n",
            "412/412 [==============================] - 53s 128ms/step - loss: 0.6527 - pi_loss: 0.4102 - v_loss: 0.2425\n",
            "Epoch 8/10\n",
            "412/412 [==============================] - 57s 139ms/step - loss: 0.6451 - pi_loss: 0.4063 - v_loss: 0.2388\n",
            "Epoch 9/10\n",
            "412/412 [==============================] - 58s 140ms/step - loss: 0.6349 - pi_loss: 0.4016 - v_loss: 0.2333\n",
            "Epoch 10/10\n",
            "412/412 [==============================] - 58s 140ms/step - loss: 0.6310 - pi_loss: 0.3999 - v_loss: 0.2311\n"
          ]
        },
        {
          "name": "stderr",
          "output_type": "stream",
          "text": [
            "2024-01-02 15:06:26 885e1ad3d250 Coach[138] INFO PITTING AGAINST PREVIOUS VERSION\n",
            "Arena.playGames (1): 100%|██████████| 10/10 [08:12<00:00, 49.23s/it]\n",
            "Arena.playGames (2): 100%|██████████| 10/10 [09:37<00:00, 57.74s/it]\n",
            "2024-01-02 15:24:15 885e1ad3d250 Coach[138] INFO NEW/PREV WINS : 9 / 10 ; DRAWS : 1\n",
            "2024-01-02 15:24:15 885e1ad3d250 Coach[138] INFO REJECTING NEW MODEL\n",
            "2024-01-02 15:24:17 885e1ad3d250 Coach[138] INFO Starting Iter #8 ...\n",
            "Self Play: 100%|██████████| 25/25 [14:39<00:00, 35.18s/it]\n"
          ]
        },
        {
          "name": "stdout",
          "output_type": "stream",
          "text": [
            "Checkpoint Directory exists! \n",
            "Epoch 1/10\n",
            "482/482 [==============================] - 64s 130ms/step - loss: 1.0111 - pi_loss: 0.5869 - v_loss: 0.4242\n",
            "Epoch 2/10\n",
            "482/482 [==============================] - 64s 133ms/step - loss: 0.8303 - pi_loss: 0.4843 - v_loss: 0.3460\n",
            "Epoch 3/10\n",
            "482/482 [==============================] - 63s 131ms/step - loss: 0.7669 - pi_loss: 0.4547 - v_loss: 0.3123\n",
            "Epoch 4/10\n",
            "482/482 [==============================] - 63s 130ms/step - loss: 0.7243 - pi_loss: 0.4312 - v_loss: 0.2931\n",
            "Epoch 5/10\n",
            "482/482 [==============================] - 63s 130ms/step - loss: 0.6986 - pi_loss: 0.4211 - v_loss: 0.2775\n",
            "Epoch 6/10\n",
            "482/482 [==============================] - 62s 129ms/step - loss: 0.6824 - pi_loss: 0.4116 - v_loss: 0.2708\n",
            "Epoch 7/10\n",
            "482/482 [==============================] - 62s 130ms/step - loss: 0.6680 - pi_loss: 0.4051 - v_loss: 0.2629\n",
            "Epoch 8/10\n",
            "482/482 [==============================] - 62s 130ms/step - loss: 0.6571 - pi_loss: 0.4016 - v_loss: 0.2555\n",
            "Epoch 9/10\n",
            "482/482 [==============================] - 63s 131ms/step - loss: 0.6503 - pi_loss: 0.3958 - v_loss: 0.2545\n",
            "Epoch 10/10\n",
            "482/482 [==============================] - 64s 132ms/step - loss: 0.6435 - pi_loss: 0.3947 - v_loss: 0.2489\n"
          ]
        },
        {
          "name": "stderr",
          "output_type": "stream",
          "text": [
            "2024-01-02 15:50:24 885e1ad3d250 Coach[138] INFO PITTING AGAINST PREVIOUS VERSION\n",
            "Arena.playGames (1): 100%|██████████| 10/10 [07:20<00:00, 44.10s/it]\n",
            "Arena.playGames (2): 100%|██████████| 10/10 [10:15<00:00, 61.53s/it]\n",
            "2024-01-02 16:08:00 885e1ad3d250 Coach[138] INFO NEW/PREV WINS : 4 / 15 ; DRAWS : 1\n",
            "2024-01-02 16:08:00 885e1ad3d250 Coach[138] INFO REJECTING NEW MODEL\n",
            "2024-01-02 16:08:02 885e1ad3d250 Coach[138] INFO Starting Iter #9 ...\n",
            "Self Play: 100%|██████████| 25/25 [14:34<00:00, 34.99s/it]\n"
          ]
        },
        {
          "name": "stdout",
          "output_type": "stream",
          "text": [
            "Checkpoint Directory exists! \n",
            "Epoch 1/10\n",
            "553/553 [==============================] - 73s 129ms/step - loss: 1.0524 - pi_loss: 0.6106 - v_loss: 0.4418\n",
            "Epoch 2/10\n",
            "553/553 [==============================] - 71s 128ms/step - loss: 0.8628 - pi_loss: 0.4990 - v_loss: 0.3638\n",
            "Epoch 3/10\n",
            "553/553 [==============================] - 72s 130ms/step - loss: 0.7928 - pi_loss: 0.4628 - v_loss: 0.3299\n",
            "Epoch 4/10\n",
            "553/553 [==============================] - 71s 129ms/step - loss: 0.7481 - pi_loss: 0.4392 - v_loss: 0.3089\n",
            "Epoch 5/10\n",
            "553/553 [==============================] - 70s 127ms/step - loss: 0.7196 - pi_loss: 0.4220 - v_loss: 0.2976\n",
            "Epoch 6/10\n",
            "553/553 [==============================] - 72s 130ms/step - loss: 0.7017 - pi_loss: 0.4150 - v_loss: 0.2867\n",
            "Epoch 7/10\n",
            "553/553 [==============================] - 72s 131ms/step - loss: 0.6817 - pi_loss: 0.4058 - v_loss: 0.2759\n",
            "Epoch 8/10\n",
            "553/553 [==============================] - 70s 126ms/step - loss: 0.6706 - pi_loss: 0.4008 - v_loss: 0.2697\n",
            "Epoch 9/10\n",
            "553/553 [==============================] - 72s 130ms/step - loss: 0.6621 - pi_loss: 0.3965 - v_loss: 0.2656\n",
            "Epoch 10/10\n",
            "553/553 [==============================] - 72s 130ms/step - loss: 0.6577 - pi_loss: 0.3921 - v_loss: 0.2656\n"
          ]
        },
        {
          "name": "stderr",
          "output_type": "stream",
          "text": [
            "2024-01-02 16:35:07 885e1ad3d250 Coach[138] INFO PITTING AGAINST PREVIOUS VERSION\n",
            "Arena.playGames (1): 100%|██████████| 10/10 [06:40<00:00, 40.09s/it]\n",
            "Arena.playGames (2): 100%|██████████| 10/10 [09:45<00:00, 58.59s/it]\n",
            "2024-01-02 16:51:34 885e1ad3d250 Coach[138] INFO NEW/PREV WINS : 15 / 5 ; DRAWS : 0\n",
            "2024-01-02 16:51:34 885e1ad3d250 Coach[138] INFO ACCEPTING NEW MODEL\n"
          ]
        },
        {
          "name": "stdout",
          "output_type": "stream",
          "text": [
            "Checkpoint Directory exists! \n",
            "Checkpoint Directory exists! \n"
          ]
        },
        {
          "name": "stderr",
          "output_type": "stream",
          "text": [
            "2024-01-02 16:51:36 885e1ad3d250 Coach[138] INFO Starting Iter #10 ...\n",
            "Self Play: 100%|██████████| 25/25 [11:24<00:00, 27.40s/it]\n"
          ]
        },
        {
          "name": "stdout",
          "output_type": "stream",
          "text": [
            "Checkpoint Directory exists! \n",
            "Epoch 1/10\n",
            "611/611 [==============================] - 86s 141ms/step - loss: 0.7587 - pi_loss: 0.4458 - v_loss: 0.3130\n",
            "Epoch 2/10\n",
            "611/611 [==============================] - 84s 138ms/step - loss: 0.7075 - pi_loss: 0.4116 - v_loss: 0.2958\n",
            "Epoch 3/10\n",
            "611/611 [==============================] - 87s 142ms/step - loss: 0.6909 - pi_loss: 0.4035 - v_loss: 0.2875\n",
            "Epoch 4/10\n",
            "611/611 [==============================] - 88s 144ms/step - loss: 0.6740 - pi_loss: 0.3963 - v_loss: 0.2777\n",
            "Epoch 5/10\n",
            "611/611 [==============================] - 85s 139ms/step - loss: 0.6676 - pi_loss: 0.3924 - v_loss: 0.2752\n",
            "Epoch 6/10\n",
            "611/611 [==============================] - 84s 138ms/step - loss: 0.6599 - pi_loss: 0.3889 - v_loss: 0.2710\n",
            "Epoch 7/10\n",
            "611/611 [==============================] - 84s 137ms/step - loss: 0.6524 - pi_loss: 0.3865 - v_loss: 0.2659\n",
            "Epoch 8/10\n",
            "611/611 [==============================] - 88s 144ms/step - loss: 0.6515 - pi_loss: 0.3858 - v_loss: 0.2657\n",
            "Epoch 9/10\n",
            "611/611 [==============================] - 89s 146ms/step - loss: 0.6458 - pi_loss: 0.3822 - v_loss: 0.2636\n",
            "Epoch 10/10\n",
            "611/611 [==============================] - 85s 139ms/step - loss: 0.6407 - pi_loss: 0.3798 - v_loss: 0.2609\n"
          ]
        },
        {
          "name": "stderr",
          "output_type": "stream",
          "text": [
            "2024-01-02 17:17:27 885e1ad3d250 Coach[138] INFO PITTING AGAINST PREVIOUS VERSION\n",
            "Arena.playGames (1): 100%|██████████| 10/10 [05:21<00:00, 32.13s/it]\n",
            "Arena.playGames (2): 100%|██████████| 10/10 [03:42<00:00, 22.23s/it]\n",
            "2024-01-02 17:26:31 885e1ad3d250 Coach[138] INFO NEW/PREV WINS : 15 / 5 ; DRAWS : 0\n",
            "2024-01-02 17:26:31 885e1ad3d250 Coach[138] INFO ACCEPTING NEW MODEL\n"
          ]
        },
        {
          "name": "stdout",
          "output_type": "stream",
          "text": [
            "Checkpoint Directory exists! \n",
            "Checkpoint Directory exists! \n"
          ]
        },
        {
          "name": "stderr",
          "output_type": "stream",
          "text": [
            "2024-01-02 17:26:33 885e1ad3d250 Coach[138] INFO Starting Iter #11 ...\n",
            "Self Play: 100%|██████████| 25/25 [11:18<00:00, 27.12s/it]\n"
          ]
        },
        {
          "name": "stdout",
          "output_type": "stream",
          "text": [
            "Checkpoint Directory exists! \n",
            "Epoch 1/10\n",
            "671/671 [==============================] - 91s 136ms/step - loss: 0.7251 - pi_loss: 0.4366 - v_loss: 0.2885\n",
            "Epoch 2/10\n",
            "671/671 [==============================] - 97s 144ms/step - loss: 0.6784 - pi_loss: 0.4047 - v_loss: 0.2736\n",
            "Epoch 3/10\n",
            "671/671 [==============================] - 94s 140ms/step - loss: 0.6635 - pi_loss: 0.3967 - v_loss: 0.2667\n",
            "Epoch 4/10\n",
            "671/671 [==============================] - 94s 140ms/step - loss: 0.6547 - pi_loss: 0.3919 - v_loss: 0.2628\n",
            "Epoch 5/10\n",
            "671/671 [==============================] - 94s 141ms/step - loss: 0.6476 - pi_loss: 0.3878 - v_loss: 0.2598\n",
            "Epoch 6/10\n",
            "671/671 [==============================] - 97s 145ms/step - loss: 0.6437 - pi_loss: 0.3853 - v_loss: 0.2584\n",
            "Epoch 7/10\n",
            "671/671 [==============================] - 95s 141ms/step - loss: 0.6403 - pi_loss: 0.3840 - v_loss: 0.2563\n",
            "Epoch 8/10\n",
            "671/671 [==============================] - 96s 143ms/step - loss: 0.6388 - pi_loss: 0.3833 - v_loss: 0.2556\n",
            "Epoch 9/10\n",
            "671/671 [==============================] - 95s 141ms/step - loss: 0.6349 - pi_loss: 0.3827 - v_loss: 0.2522\n",
            "Epoch 10/10\n",
            "671/671 [==============================] - 94s 140ms/step - loss: 0.6316 - pi_loss: 0.3794 - v_loss: 0.2522\n"
          ]
        },
        {
          "name": "stderr",
          "output_type": "stream",
          "text": [
            "2024-01-02 17:54:20 885e1ad3d250 Coach[138] INFO PITTING AGAINST PREVIOUS VERSION\n",
            "Arena.playGames (1): 100%|██████████| 10/10 [03:37<00:00, 21.78s/it]\n",
            "Arena.playGames (2): 100%|██████████| 10/10 [02:22<00:00, 14.30s/it]\n",
            "2024-01-02 18:00:21 885e1ad3d250 Coach[138] INFO NEW/PREV WINS : 12 / 8 ; DRAWS : 0\n",
            "2024-01-02 18:00:21 885e1ad3d250 Coach[138] INFO ACCEPTING NEW MODEL\n"
          ]
        },
        {
          "name": "stdout",
          "output_type": "stream",
          "text": [
            "Checkpoint Directory exists! \n"
          ]
        },
        {
          "name": "stderr",
          "output_type": "stream",
          "text": [
            "2024-01-02 18:00:23 885e1ad3d250 Coach[138] INFO Starting Iter #12 ...\n"
          ]
        },
        {
          "name": "stdout",
          "output_type": "stream",
          "text": [
            "Checkpoint Directory exists! \n"
          ]
        },
        {
          "name": "stderr",
          "output_type": "stream",
          "text": [
            "Self Play: 100%|██████████| 25/25 [14:32<00:00, 34.88s/it]\n"
          ]
        },
        {
          "name": "stdout",
          "output_type": "stream",
          "text": [
            "Checkpoint Directory exists! \n",
            "Epoch 1/10\n",
            "746/746 [==============================] - 98s 132ms/step - loss: 0.7694 - pi_loss: 0.4688 - v_loss: 0.3005\n",
            "Epoch 2/10\n",
            "746/746 [==============================] - 98s 131ms/step - loss: 0.7086 - pi_loss: 0.4262 - v_loss: 0.2824\n",
            "Epoch 3/10\n",
            "746/746 [==============================] - 100s 134ms/step - loss: 0.6826 - pi_loss: 0.4125 - v_loss: 0.2701\n",
            "Epoch 4/10\n",
            "746/746 [==============================] - 98s 131ms/step - loss: 0.6690 - pi_loss: 0.4052 - v_loss: 0.2637\n",
            "Epoch 5/10\n",
            "746/746 [==============================] - 100s 135ms/step - loss: 0.6619 - pi_loss: 0.4002 - v_loss: 0.2617\n",
            "Epoch 6/10\n",
            "746/746 [==============================] - 98s 131ms/step - loss: 0.6536 - pi_loss: 0.3955 - v_loss: 0.2581\n",
            "Epoch 7/10\n",
            "746/746 [==============================] - 99s 132ms/step - loss: 0.6479 - pi_loss: 0.3919 - v_loss: 0.2560\n",
            "Epoch 8/10\n",
            "746/746 [==============================] - 102s 136ms/step - loss: 0.6443 - pi_loss: 0.3896 - v_loss: 0.2547\n",
            "Epoch 9/10\n",
            "746/746 [==============================] - 99s 133ms/step - loss: 0.6407 - pi_loss: 0.3885 - v_loss: 0.2522\n",
            "Epoch 10/10\n",
            "746/746 [==============================] - 99s 132ms/step - loss: 0.6416 - pi_loss: 0.3884 - v_loss: 0.2532\n"
          ]
        },
        {
          "name": "stderr",
          "output_type": "stream",
          "text": [
            "2024-01-02 18:32:25 885e1ad3d250 Coach[138] INFO PITTING AGAINST PREVIOUS VERSION\n",
            "Arena.playGames (1): 100%|██████████| 10/10 [04:44<00:00, 28.41s/it]\n",
            "Arena.playGames (2): 100%|██████████| 10/10 [01:52<00:00, 11.20s/it]\n",
            "2024-01-02 18:39:01 885e1ad3d250 Coach[138] INFO NEW/PREV WINS : 8 / 12 ; DRAWS : 0\n",
            "2024-01-02 18:39:01 885e1ad3d250 Coach[138] INFO REJECTING NEW MODEL\n",
            "2024-01-02 18:39:03 885e1ad3d250 Coach[138] INFO Starting Iter #13 ...\n",
            "Self Play: 100%|██████████| 25/25 [10:01<00:00, 24.06s/it]\n"
          ]
        },
        {
          "name": "stdout",
          "output_type": "stream",
          "text": [
            "Checkpoint Directory exists! \n",
            "Epoch 1/10\n",
            "793/793 [==============================] - 113s 141ms/step - loss: 0.8196 - pi_loss: 0.5019 - v_loss: 0.3176\n",
            "Epoch 2/10\n",
            "793/793 [==============================] - 113s 142ms/step - loss: 0.7390 - pi_loss: 0.4480 - v_loss: 0.2910\n",
            "Epoch 3/10\n",
            "793/793 [==============================] - 111s 140ms/step - loss: 0.7067 - pi_loss: 0.4311 - v_loss: 0.2755\n",
            "Epoch 4/10\n",
            "793/793 [==============================] - 111s 140ms/step - loss: 0.6895 - pi_loss: 0.4199 - v_loss: 0.2696\n",
            "Epoch 5/10\n",
            "793/793 [==============================] - 113s 142ms/step - loss: 0.6788 - pi_loss: 0.4123 - v_loss: 0.2665\n",
            "Epoch 6/10\n",
            "793/793 [==============================] - 111s 140ms/step - loss: 0.6686 - pi_loss: 0.4056 - v_loss: 0.2630\n",
            "Epoch 7/10\n",
            "793/793 [==============================] - 113s 142ms/step - loss: 0.6635 - pi_loss: 0.4047 - v_loss: 0.2588\n",
            "Epoch 8/10\n",
            "793/793 [==============================] - 112s 141ms/step - loss: 0.6591 - pi_loss: 0.4019 - v_loss: 0.2573\n",
            "Epoch 9/10\n",
            "793/793 [==============================] - 111s 140ms/step - loss: 0.6566 - pi_loss: 0.3992 - v_loss: 0.2574\n",
            "Epoch 10/10\n",
            "793/793 [==============================] - 111s 140ms/step - loss: 0.6527 - pi_loss: 0.3984 - v_loss: 0.2543\n"
          ]
        },
        {
          "name": "stderr",
          "output_type": "stream",
          "text": [
            "2024-01-02 19:08:36 885e1ad3d250 Coach[138] INFO PITTING AGAINST PREVIOUS VERSION\n",
            "Arena.playGames (1): 100%|██████████| 10/10 [05:43<00:00, 34.37s/it]\n",
            "Arena.playGames (2): 100%|██████████| 10/10 [04:39<00:00, 27.96s/it]\n",
            "2024-01-02 19:18:59 885e1ad3d250 Coach[138] INFO NEW/PREV WINS : 4 / 16 ; DRAWS : 0\n",
            "2024-01-02 19:18:59 885e1ad3d250 Coach[138] INFO REJECTING NEW MODEL\n",
            "2024-01-02 19:19:01 885e1ad3d250 Coach[138] INFO Starting Iter #14 ...\n",
            "Self Play: 100%|██████████| 25/25 [10:10<00:00, 24.42s/it]\n"
          ]
        },
        {
          "name": "stdout",
          "output_type": "stream",
          "text": [
            "Checkpoint Directory exists! \n",
            "Epoch 1/10\n",
            "847/847 [==============================] - 115s 133ms/step - loss: 0.8486 - pi_loss: 0.5235 - v_loss: 0.3251\n",
            "Epoch 2/10\n",
            "847/847 [==============================] - 111s 131ms/step - loss: 0.7572 - pi_loss: 0.4634 - v_loss: 0.2938\n",
            "Epoch 3/10\n",
            "847/847 [==============================] - 110s 130ms/step - loss: 0.7193 - pi_loss: 0.4392 - v_loss: 0.2801\n",
            "Epoch 4/10\n",
            "847/847 [==============================] - 109s 129ms/step - loss: 0.6998 - pi_loss: 0.4289 - v_loss: 0.2708\n",
            "Epoch 5/10\n",
            "847/847 [==============================] - 109s 128ms/step - loss: 0.6875 - pi_loss: 0.4200 - v_loss: 0.2675\n",
            "Epoch 6/10\n",
            "847/847 [==============================] - 110s 129ms/step - loss: 0.6782 - pi_loss: 0.4135 - v_loss: 0.2647\n",
            "Epoch 7/10\n",
            "847/847 [==============================] - 110s 130ms/step - loss: 0.6724 - pi_loss: 0.4123 - v_loss: 0.2602\n",
            "Epoch 8/10\n",
            "847/847 [==============================] - 110s 129ms/step - loss: 0.6679 - pi_loss: 0.4098 - v_loss: 0.2581\n",
            "Epoch 9/10\n",
            "847/847 [==============================] - 110s 130ms/step - loss: 0.6635 - pi_loss: 0.4061 - v_loss: 0.2574\n",
            "Epoch 10/10\n",
            "847/847 [==============================] - 110s 130ms/step - loss: 0.6579 - pi_loss: 0.4045 - v_loss: 0.2534\n"
          ]
        },
        {
          "name": "stderr",
          "output_type": "stream",
          "text": [
            "2024-01-02 19:47:46 885e1ad3d250 Coach[138] INFO PITTING AGAINST PREVIOUS VERSION\n",
            "Arena.playGames (1): 100%|██████████| 10/10 [04:40<00:00, 28.01s/it]\n",
            "Arena.playGames (2): 100%|██████████| 10/10 [03:32<00:00, 21.27s/it]\n",
            "2024-01-02 19:55:59 885e1ad3d250 Coach[138] INFO NEW/PREV WINS : 13 / 7 ; DRAWS : 0\n",
            "2024-01-02 19:55:59 885e1ad3d250 Coach[138] INFO ACCEPTING NEW MODEL\n"
          ]
        },
        {
          "name": "stdout",
          "output_type": "stream",
          "text": [
            "Checkpoint Directory exists! \n"
          ]
        },
        {
          "name": "stderr",
          "output_type": "stream",
          "text": [
            "2024-01-02 19:56:01 885e1ad3d250 Coach[138] INFO Starting Iter #15 ...\n"
          ]
        },
        {
          "name": "stdout",
          "output_type": "stream",
          "text": [
            "Checkpoint Directory exists! \n"
          ]
        },
        {
          "name": "stderr",
          "output_type": "stream",
          "text": [
            "Self Play: 100%|██████████| 25/25 [10:27<00:00, 25.10s/it]\n"
          ]
        },
        {
          "name": "stdout",
          "output_type": "stream",
          "text": [
            "Checkpoint Directory exists! \n",
            "Epoch 1/10\n",
            "905/905 [==============================] - 119s 132ms/step - loss: 0.7128 - pi_loss: 0.4416 - v_loss: 0.2712\n",
            "Epoch 2/10\n",
            "905/905 [==============================] - 119s 132ms/step - loss: 0.6854 - pi_loss: 0.4222 - v_loss: 0.2632\n",
            "Epoch 3/10\n",
            "905/905 [==============================] - 120s 132ms/step - loss: 0.6739 - pi_loss: 0.4156 - v_loss: 0.2583\n",
            "Epoch 4/10\n",
            "905/905 [==============================] - 121s 133ms/step - loss: 0.6668 - pi_loss: 0.4125 - v_loss: 0.2543\n",
            "Epoch 5/10\n",
            "905/905 [==============================] - 121s 133ms/step - loss: 0.6630 - pi_loss: 0.4101 - v_loss: 0.2529\n",
            "Epoch 6/10\n",
            "905/905 [==============================] - 121s 133ms/step - loss: 0.6610 - pi_loss: 0.4092 - v_loss: 0.2518\n",
            "Epoch 7/10\n",
            "905/905 [==============================] - 118s 131ms/step - loss: 0.6569 - pi_loss: 0.4076 - v_loss: 0.2493\n",
            "Epoch 8/10\n",
            "905/905 [==============================] - 118s 130ms/step - loss: 0.6528 - pi_loss: 0.4054 - v_loss: 0.2475\n",
            "Epoch 9/10\n",
            "905/905 [==============================] - 119s 132ms/step - loss: 0.6516 - pi_loss: 0.4047 - v_loss: 0.2469\n",
            "Epoch 10/10\n",
            "905/905 [==============================] - 118s 131ms/step - loss: 0.6499 - pi_loss: 0.4026 - v_loss: 0.2473\n"
          ]
        },
        {
          "name": "stderr",
          "output_type": "stream",
          "text": [
            "2024-01-02 20:26:59 885e1ad3d250 Coach[138] INFO PITTING AGAINST PREVIOUS VERSION\n",
            "Arena.playGames (1): 100%|██████████| 10/10 [05:19<00:00, 31.94s/it]\n",
            "Arena.playGames (2): 100%|██████████| 10/10 [03:08<00:00, 18.87s/it]\n",
            "2024-01-02 20:35:28 885e1ad3d250 Coach[138] INFO NEW/PREV WINS : 11 / 9 ; DRAWS : 0\n",
            "2024-01-02 20:35:28 885e1ad3d250 Coach[138] INFO REJECTING NEW MODEL\n",
            "2024-01-02 20:35:29 885e1ad3d250 Coach[138] INFO Starting Iter #16 ...\n",
            "Self Play: 100%|██████████| 25/25 [12:01<00:00, 28.86s/it]\n"
          ]
        },
        {
          "name": "stdout",
          "output_type": "stream",
          "text": [
            "Checkpoint Directory exists! \n",
            "Epoch 1/10\n",
            "967/967 [==============================] - 130s 133ms/step - loss: 0.7814 - pi_loss: 0.4761 - v_loss: 0.3053\n",
            "Epoch 2/10\n",
            "967/967 [==============================] - 127s 131ms/step - loss: 0.7290 - pi_loss: 0.4434 - v_loss: 0.2855\n",
            "Epoch 3/10\n",
            "967/967 [==============================] - 126s 131ms/step - loss: 0.7086 - pi_loss: 0.4307 - v_loss: 0.2779\n",
            "Epoch 4/10\n",
            "967/967 [==============================] - 129s 133ms/step - loss: 0.6951 - pi_loss: 0.4248 - v_loss: 0.2704\n",
            "Epoch 5/10\n",
            "967/967 [==============================] - 129s 133ms/step - loss: 0.6859 - pi_loss: 0.4206 - v_loss: 0.2652\n",
            "Epoch 6/10\n",
            "967/967 [==============================] - 127s 132ms/step - loss: 0.6799 - pi_loss: 0.4182 - v_loss: 0.2617\n",
            "Epoch 7/10\n",
            "967/967 [==============================] - 130s 134ms/step - loss: 0.6783 - pi_loss: 0.4179 - v_loss: 0.2604\n",
            "Epoch 8/10\n",
            "967/967 [==============================] - 127s 131ms/step - loss: 0.6713 - pi_loss: 0.4141 - v_loss: 0.2572\n",
            "Epoch 9/10\n",
            "967/967 [==============================] - 129s 133ms/step - loss: 0.6696 - pi_loss: 0.4134 - v_loss: 0.2562\n",
            "Epoch 10/10\n",
            "967/967 [==============================] - 128s 133ms/step - loss: 0.6678 - pi_loss: 0.4114 - v_loss: 0.2564\n"
          ]
        },
        {
          "name": "stderr",
          "output_type": "stream",
          "text": [
            "2024-01-02 21:09:03 885e1ad3d250 Coach[138] INFO PITTING AGAINST PREVIOUS VERSION\n",
            "Arena.playGames (1): 100%|██████████| 10/10 [06:00<00:00, 36.00s/it]\n",
            "Arena.playGames (2): 100%|██████████| 10/10 [04:28<00:00, 26.86s/it]\n",
            "2024-01-02 21:19:32 885e1ad3d250 Coach[138] INFO NEW/PREV WINS : 11 / 9 ; DRAWS : 0\n",
            "2024-01-02 21:19:32 885e1ad3d250 Coach[138] INFO REJECTING NEW MODEL\n",
            "2024-01-02 21:19:33 885e1ad3d250 Coach[138] INFO Starting Iter #17 ...\n",
            "Self Play: 100%|██████████| 25/25 [09:11<00:00, 22.06s/it]\n"
          ]
        },
        {
          "name": "stdout",
          "output_type": "stream",
          "text": [
            "Checkpoint Directory exists! \n",
            "Epoch 1/10\n",
            "1013/1013 [==============================] - 141s 137ms/step - loss: 0.8138 - pi_loss: 0.4948 - v_loss: 0.3190\n",
            "Epoch 2/10\n",
            "1013/1013 [==============================] - 140s 138ms/step - loss: 0.7476 - pi_loss: 0.4542 - v_loss: 0.2934\n",
            "Epoch 3/10\n",
            "1013/1013 [==============================] - 138s 137ms/step - loss: 0.7258 - pi_loss: 0.4431 - v_loss: 0.2827\n",
            "Epoch 4/10\n",
            "1013/1013 [==============================] - 144s 142ms/step - loss: 0.7093 - pi_loss: 0.4336 - v_loss: 0.2757\n",
            "Epoch 5/10\n",
            "1013/1013 [==============================] - 138s 136ms/step - loss: 0.6991 - pi_loss: 0.4273 - v_loss: 0.2718\n",
            "Epoch 6/10\n",
            "1013/1013 [==============================] - 141s 140ms/step - loss: 0.6940 - pi_loss: 0.4262 - v_loss: 0.2678\n",
            "Epoch 7/10\n",
            "1013/1013 [==============================] - 142s 140ms/step - loss: 0.6890 - pi_loss: 0.4237 - v_loss: 0.2653\n",
            "Epoch 8/10\n",
            "1013/1013 [==============================] - 149s 147ms/step - loss: 0.6855 - pi_loss: 0.4205 - v_loss: 0.2650\n",
            "Epoch 9/10\n",
            "1013/1013 [==============================] - 155s 153ms/step - loss: 0.6783 - pi_loss: 0.4180 - v_loss: 0.2604\n",
            "Epoch 10/10\n",
            "1013/1013 [==============================] - 162s 160ms/step - loss: 0.6777 - pi_loss: 0.4177 - v_loss: 0.2601\n"
          ]
        },
        {
          "name": "stderr",
          "output_type": "stream",
          "text": [
            "2024-01-02 21:53:18 885e1ad3d250 Coach[138] INFO PITTING AGAINST PREVIOUS VERSION\n",
            "Arena.playGames (1): 100%|██████████| 10/10 [05:49<00:00, 34.92s/it]\n",
            "Arena.playGames (2): 100%|██████████| 10/10 [03:20<00:00, 20.01s/it]\n",
            "2024-01-02 22:02:27 885e1ad3d250 Coach[138] INFO NEW/PREV WINS : 11 / 9 ; DRAWS : 0\n",
            "2024-01-02 22:02:27 885e1ad3d250 Coach[138] INFO REJECTING NEW MODEL\n",
            "2024-01-02 22:02:29 885e1ad3d250 Coach[138] INFO Starting Iter #18 ...\n",
            "Self Play: 100%|██████████| 25/25 [10:50<00:00, 26.04s/it]\n"
          ]
        },
        {
          "name": "stdout",
          "output_type": "stream",
          "text": [
            "Checkpoint Directory exists! \n",
            "Epoch 1/10\n",
            "1067/1067 [==============================] - 172s 159ms/step - loss: 0.8383 - pi_loss: 0.5116 - v_loss: 0.3267\n",
            "Epoch 2/10\n",
            "1067/1067 [==============================] - 167s 157ms/step - loss: 0.7643 - pi_loss: 0.4622 - v_loss: 0.3021\n",
            "Epoch 3/10\n",
            "1067/1067 [==============================] - 163s 153ms/step - loss: 0.7328 - pi_loss: 0.4468 - v_loss: 0.2860\n",
            "Epoch 4/10\n",
            "1067/1067 [==============================] - 160s 150ms/step - loss: 0.7157 - pi_loss: 0.4371 - v_loss: 0.2786\n",
            "Epoch 5/10\n",
            "1067/1067 [==============================] - 158s 148ms/step - loss: 0.7061 - pi_loss: 0.4331 - v_loss: 0.2730\n",
            "Epoch 6/10\n",
            "1067/1067 [==============================] - 148s 138ms/step - loss: 0.6972 - pi_loss: 0.4281 - v_loss: 0.2692\n",
            "Epoch 7/10\n",
            "1067/1067 [==============================] - 151s 141ms/step - loss: 0.6906 - pi_loss: 0.4255 - v_loss: 0.2651\n",
            "Epoch 8/10\n",
            "1067/1067 [==============================] - 149s 140ms/step - loss: 0.6864 - pi_loss: 0.4229 - v_loss: 0.2636\n",
            "Epoch 9/10\n",
            "1067/1067 [==============================] - 147s 138ms/step - loss: 0.6837 - pi_loss: 0.4206 - v_loss: 0.2631\n",
            "Epoch 10/10\n",
            "1067/1067 [==============================] - 150s 141ms/step - loss: 0.6792 - pi_loss: 0.4196 - v_loss: 0.2596\n"
          ]
        },
        {
          "name": "stderr",
          "output_type": "stream",
          "text": [
            "2024-01-02 22:39:58 885e1ad3d250 Coach[138] INFO PITTING AGAINST PREVIOUS VERSION\n",
            "Arena.playGames (1): 100%|██████████| 10/10 [05:19<00:00, 31.96s/it]\n",
            "Arena.playGames (2): 100%|██████████| 10/10 [09:41<00:00, 58.19s/it]\n",
            "2024-01-02 22:54:59 885e1ad3d250 Coach[138] INFO NEW/PREV WINS : 5 / 15 ; DRAWS : 0\n",
            "2024-01-02 22:54:59 885e1ad3d250 Coach[138] INFO REJECTING NEW MODEL\n",
            "2024-01-02 22:55:02 885e1ad3d250 Coach[138] INFO Starting Iter #19 ...\n",
            "Self Play: 100%|██████████| 25/25 [12:17<00:00, 29.52s/it]\n"
          ]
        },
        {
          "name": "stdout",
          "output_type": "stream",
          "text": [
            "Checkpoint Directory exists! \n",
            "Epoch 1/10\n",
            "1132/1132 [==============================] - 149s 130ms/step - loss: 0.8808 - pi_loss: 0.5351 - v_loss: 0.3457\n",
            "Epoch 2/10\n",
            "1132/1132 [==============================] - 165s 146ms/step - loss: 0.7975 - pi_loss: 0.4841 - v_loss: 0.3135\n",
            "Epoch 3/10\n",
            "1132/1132 [==============================] - 160s 141ms/step - loss: 0.7607 - pi_loss: 0.4607 - v_loss: 0.3000\n",
            "Epoch 4/10\n",
            "1132/1132 [==============================] - 159s 140ms/step - loss: 0.7379 - pi_loss: 0.4486 - v_loss: 0.2893\n",
            "Epoch 5/10\n",
            "1132/1132 [==============================] - 162s 143ms/step - loss: 0.7222 - pi_loss: 0.4415 - v_loss: 0.2807\n",
            "Epoch 6/10\n",
            "1132/1132 [==============================] - 160s 141ms/step - loss: 0.7099 - pi_loss: 0.4365 - v_loss: 0.2734\n",
            "Epoch 7/10\n",
            "1132/1132 [==============================] - 161s 142ms/step - loss: 0.7023 - pi_loss: 0.4329 - v_loss: 0.2694\n",
            "Epoch 8/10\n",
            "1132/1132 [==============================] - 162s 143ms/step - loss: 0.6960 - pi_loss: 0.4292 - v_loss: 0.2668\n",
            "Epoch 9/10\n",
            "1132/1132 [==============================] - 172s 152ms/step - loss: 0.6893 - pi_loss: 0.4254 - v_loss: 0.2638\n",
            "Epoch 10/10\n",
            "1132/1132 [==============================] - 169s 149ms/step - loss: 0.6890 - pi_loss: 0.4255 - v_loss: 0.2635\n"
          ]
        },
        {
          "name": "stderr",
          "output_type": "stream",
          "text": [
            "2024-01-02 23:34:54 885e1ad3d250 Coach[138] INFO PITTING AGAINST PREVIOUS VERSION\n",
            "Arena.playGames (1): 100%|██████████| 10/10 [05:00<00:00, 30.04s/it]\n",
            "Arena.playGames (2): 100%|██████████| 10/10 [04:16<00:00, 25.61s/it]\n",
            "2024-01-02 23:44:11 885e1ad3d250 Coach[138] INFO NEW/PREV WINS : 11 / 9 ; DRAWS : 0\n",
            "2024-01-02 23:44:11 885e1ad3d250 Coach[138] INFO REJECTING NEW MODEL\n",
            "2024-01-02 23:44:12 885e1ad3d250 Coach[138] INFO Starting Iter #20 ...\n",
            "Self Play: 100%|██████████| 25/25 [12:00<00:00, 28.82s/it]\n"
          ]
        },
        {
          "name": "stdout",
          "output_type": "stream",
          "text": [
            "Checkpoint Directory exists! \n",
            "Epoch 1/10\n",
            "1195/1195 [==============================] - 158s 130ms/step - loss: 0.9261 - pi_loss: 0.5614 - v_loss: 0.3647\n",
            "Epoch 2/10\n",
            "1195/1195 [==============================] - 156s 131ms/step - loss: 0.8292 - pi_loss: 0.4994 - v_loss: 0.3298\n",
            "Epoch 3/10\n",
            "1195/1195 [==============================] - 159s 133ms/step - loss: 0.7884 - pi_loss: 0.4770 - v_loss: 0.3114\n",
            "Epoch 4/10\n",
            "1195/1195 [==============================] - 157s 131ms/step - loss: 0.7598 - pi_loss: 0.4598 - v_loss: 0.2999\n",
            "Epoch 5/10\n",
            "1195/1195 [==============================] - 159s 133ms/step - loss: 0.7413 - pi_loss: 0.4510 - v_loss: 0.2903\n",
            "Epoch 6/10\n",
            "1195/1195 [==============================] - 156s 130ms/step - loss: 0.7279 - pi_loss: 0.4441 - v_loss: 0.2838\n",
            "Epoch 7/10\n",
            "1195/1195 [==============================] - 158s 132ms/step - loss: 0.7190 - pi_loss: 0.4393 - v_loss: 0.2797\n",
            "Epoch 8/10\n",
            "1195/1195 [==============================] - 155s 130ms/step - loss: 0.7130 - pi_loss: 0.4374 - v_loss: 0.2756\n",
            "Epoch 9/10\n",
            "1195/1195 [==============================] - 157s 131ms/step - loss: 0.7044 - pi_loss: 0.4336 - v_loss: 0.2708\n",
            "Epoch 10/10\n",
            "1195/1195 [==============================] - 157s 132ms/step - loss: 0.6980 - pi_loss: 0.4297 - v_loss: 0.2683\n"
          ]
        },
        {
          "name": "stderr",
          "output_type": "stream",
          "text": [
            "2024-01-03 00:22:47 885e1ad3d250 Coach[138] INFO PITTING AGAINST PREVIOUS VERSION\n",
            "Arena.playGames (1): 100%|██████████| 10/10 [05:54<00:00, 35.50s/it]\n",
            "Arena.playGames (2): 100%|██████████| 10/10 [04:48<00:00, 28.86s/it]\n",
            "2024-01-03 00:33:31 885e1ad3d250 Coach[138] INFO NEW/PREV WINS : 12 / 8 ; DRAWS : 0\n",
            "2024-01-03 00:33:31 885e1ad3d250 Coach[138] INFO ACCEPTING NEW MODEL\n"
          ]
        },
        {
          "name": "stdout",
          "output_type": "stream",
          "text": [
            "Checkpoint Directory exists! \n",
            "Checkpoint Directory exists! \n"
          ]
        }
      ],
      "source": [
        "args = dotdict({\n",
        "    'numIters':20,\n",
        "    'numEps': 25,              # Number of complete self-play games to simulate during a new iteration.\n",
        "    'tempThreshold': 15,        #\n",
        "    'updateThreshold': 0.6,     # During arena playoff, new neural net will be accepted if threshold or more of games are won.\n",
        "    'maxlenOfQueue': 50000,    # Number of game examples to train the neural networks.\n",
        "    'numMCTSSims': 25,          # Number of games moves for MCTS to simulate.\n",
        "    'arenaCompare': 20,         # Number of games to play during arena play to determine if new net will be accepted.\n",
        "    'cpuct': 1,\n",
        "\n",
        "    'checkpoint': '/content/drive/MyDrive/trabalho2_liacd/models/ataxx/5x5',\n",
        "    'load_model': True,\n",
        "    'load_folder_file': ('/content/drive/MyDrive/trabalho2_liacd/models/ataxx/5x5', 'best.h5'),\n",
        "    'numItersForTrainExamplesHistory': 20,\n",
        "\n",
        "})\n",
        "\n",
        "\n",
        "log.info('Loading %s...', Game.__name__)\n",
        "g = Game(5)\n",
        "\n",
        "log.info('Loading %s...', nn.__name__)\n",
        "nnet = nn(g)\n",
        "\n",
        "if args.load_model:\n",
        "    log.info('Loading checkpoint \"%s/%s\"...', args.load_folder_file[0], args.load_folder_file[1])\n",
        "    nnet.load_model(args.load_folder_file[0], args.load_folder_file[1])\n",
        "else:\n",
        "    log.warning('Not loading a checkpoint!')\n",
        "\n",
        "log.info('Loading the Coach...')\n",
        "c = Coach(g, nnet, args)\n",
        "\n",
        "if args.load_model:\n",
        "    log.info(\"Loading 'trainExamples' from file...\")\n",
        "    c.loadTrainExamples()\n",
        "\n",
        "log.info('Starting the learning process 🎉')\n",
        "c.learn()\n",
        "\n"
      ]
    },
    {
      "cell_type": "markdown",
      "metadata": {
        "id": "zghjcyUvQnBd"
      },
      "source": [
        "#Décimo Quarto Treino"
      ]
    },
    {
      "cell_type": "code",
      "execution_count": null,
      "metadata": {
        "colab": {
          "background_save": true,
          "base_uri": "https://localhost:8080/"
        },
        "id": "r180FcEdQszg",
        "outputId": "1ce67c51-1f49-4a01-9692-797f4e26e801"
      },
      "outputs": [
        {
          "name": "stderr",
          "output_type": "stream",
          "text": [
            "2024-01-03 12:22:50 dbb98474743a __main__[530] INFO Loading AtaxxGame...\n",
            "2024-01-03 12:22:50 dbb98474743a __main__[530] INFO Loading NNetWrapper...\n",
            "2024-01-03 12:22:51 dbb98474743a __main__[530] INFO Loading checkpoint \"/content/drive/MyDrive/trabalho2_liacd/models/ataxx/5x5/best.h5\"...\n",
            "2024-01-03 12:22:53 dbb98474743a __main__[530] INFO Loading the Coach...\n",
            "2024-01-03 12:22:53 dbb98474743a __main__[530] INFO Loading 'trainExamples' from file...\n",
            "2024-01-03 12:22:53 dbb98474743a Coach[530] WARNING File \"/content/drive/MyDrive/trabalho2_liacd/models/ataxx/5x5/best.h5.examples\" with trainExamples not found!\n",
            "2024-01-03 12:22:55 dbb98474743a __main__[530] INFO Starting the learning process 🎉\n",
            "2024-01-03 12:22:55 dbb98474743a Coach[530] INFO Starting Iter #1 ...\n",
            "Self Play: 100%|██████████| 25/25 [12:57<00:00, 31.09s/it]\n"
          ]
        },
        {
          "name": "stdout",
          "output_type": "stream",
          "text": [
            "Checkpoint Directory exists! \n"
          ]
        },
        {
          "name": "stderr",
          "output_type": "stream",
          "text": [
            "/usr/local/lib/python3.10/dist-packages/keras/src/engine/training.py:3103: UserWarning: You are saving your model as an HDF5 file via `model.save()`. This file format is considered legacy. We recommend using instead the native Keras format, e.g. `model.save('my_model.keras')`.\n",
            "  saving_api.save_model(\n"
          ]
        },
        {
          "name": "stdout",
          "output_type": "stream",
          "text": [
            "Epoch 1/10\n",
            "74/74 [==============================] - 11s 131ms/step - loss: 1.3414 - pi_loss: 0.6967 - v_loss: 0.6447\n",
            "Epoch 2/10\n",
            "74/74 [==============================] - 10s 141ms/step - loss: 1.0195 - pi_loss: 0.5072 - v_loss: 0.5123\n",
            "Epoch 3/10\n",
            "74/74 [==============================] - 11s 148ms/step - loss: 0.9107 - pi_loss: 0.4496 - v_loss: 0.4611\n",
            "Epoch 4/10\n",
            "74/74 [==============================] - 9s 118ms/step - loss: 0.8372 - pi_loss: 0.4163 - v_loss: 0.4210\n",
            "Epoch 5/10\n",
            "74/74 [==============================] - 11s 149ms/step - loss: 0.7954 - pi_loss: 0.4026 - v_loss: 0.3928\n",
            "Epoch 6/10\n",
            "74/74 [==============================] - 10s 139ms/step - loss: 0.7659 - pi_loss: 0.3916 - v_loss: 0.3743\n",
            "Epoch 7/10\n",
            "74/74 [==============================] - 9s 126ms/step - loss: 0.7363 - pi_loss: 0.3787 - v_loss: 0.3576\n",
            "Epoch 8/10\n",
            "74/74 [==============================] - 11s 146ms/step - loss: 0.7148 - pi_loss: 0.3748 - v_loss: 0.3399\n",
            "Epoch 9/10\n",
            "74/74 [==============================] - 8s 113ms/step - loss: 0.6882 - pi_loss: 0.3674 - v_loss: 0.3208\n",
            "Epoch 10/10\n",
            "74/74 [==============================] - 11s 145ms/step - loss: 0.6718 - pi_loss: 0.3619 - v_loss: 0.3099\n"
          ]
        },
        {
          "name": "stderr",
          "output_type": "stream",
          "text": [
            "2024-01-03 12:38:18 dbb98474743a Coach[530] INFO PITTING AGAINST PREVIOUS VERSION\n",
            "Arena.playGames (1): 100%|██████████| 10/10 [05:42<00:00, 34.29s/it]\n",
            "Arena.playGames (2): 100%|██████████| 10/10 [05:37<00:00, 33.75s/it]\n",
            "2024-01-03 12:49:38 dbb98474743a Coach[530] INFO NEW/PREV WINS : 17 / 3 ; DRAWS : 0\n",
            "2024-01-03 12:49:38 dbb98474743a Coach[530] INFO ACCEPTING NEW MODEL\n"
          ]
        },
        {
          "name": "stdout",
          "output_type": "stream",
          "text": [
            "Checkpoint Directory exists! \n",
            "Checkpoint Directory exists! \n"
          ]
        },
        {
          "name": "stderr",
          "output_type": "stream",
          "text": [
            "2024-01-03 12:49:40 dbb98474743a Coach[530] INFO Starting Iter #2 ...\n",
            "Self Play: 100%|██████████| 25/25 [14:20<00:00, 34.42s/it]\n"
          ]
        },
        {
          "name": "stdout",
          "output_type": "stream",
          "text": [
            "Checkpoint Directory exists! \n",
            "Epoch 1/10\n",
            "147/147 [==============================] - 20s 133ms/step - loss: 0.8533 - pi_loss: 0.4954 - v_loss: 0.3579\n",
            "Epoch 2/10\n",
            "147/147 [==============================] - 20s 137ms/step - loss: 0.6986 - pi_loss: 0.3919 - v_loss: 0.3067\n",
            "Epoch 3/10\n",
            "147/147 [==============================] - 21s 144ms/step - loss: 0.6665 - pi_loss: 0.3735 - v_loss: 0.2931\n",
            "Epoch 4/10\n",
            "147/147 [==============================] - 19s 132ms/step - loss: 0.6376 - pi_loss: 0.3536 - v_loss: 0.2840\n",
            "Epoch 5/10\n",
            "147/147 [==============================] - 19s 132ms/step - loss: 0.6262 - pi_loss: 0.3497 - v_loss: 0.2765\n",
            "Epoch 6/10\n",
            "147/147 [==============================] - 19s 132ms/step - loss: 0.6082 - pi_loss: 0.3465 - v_loss: 0.2617\n",
            "Epoch 7/10\n",
            "147/147 [==============================] - 20s 138ms/step - loss: 0.5973 - pi_loss: 0.3387 - v_loss: 0.2586\n",
            "Epoch 8/10\n",
            "147/147 [==============================] - 21s 141ms/step - loss: 0.5909 - pi_loss: 0.3369 - v_loss: 0.2540\n",
            "Epoch 9/10\n",
            "147/147 [==============================] - 19s 133ms/step - loss: 0.5823 - pi_loss: 0.3322 - v_loss: 0.2502\n",
            "Epoch 10/10\n",
            "147/147 [==============================] - 19s 131ms/step - loss: 0.5770 - pi_loss: 0.3293 - v_loss: 0.2477\n"
          ]
        },
        {
          "name": "stderr",
          "output_type": "stream",
          "text": [
            "2024-01-03 13:07:23 dbb98474743a Coach[530] INFO PITTING AGAINST PREVIOUS VERSION\n",
            "Arena.playGames (1): 100%|██████████| 10/10 [07:45<00:00, 46.57s/it]\n",
            "Arena.playGames (2): 100%|██████████| 10/10 [06:35<00:00, 39.51s/it]\n",
            "2024-01-03 13:21:44 dbb98474743a Coach[530] INFO NEW/PREV WINS : 7 / 13 ; DRAWS : 0\n",
            "2024-01-03 13:21:44 dbb98474743a Coach[530] INFO REJECTING NEW MODEL\n",
            "2024-01-03 13:21:45 dbb98474743a Coach[530] INFO Starting Iter #3 ...\n",
            "Self Play: 100%|██████████| 25/25 [16:23<00:00, 39.36s/it]\n"
          ]
        },
        {
          "name": "stdout",
          "output_type": "stream",
          "text": [
            "Checkpoint Directory exists! \n",
            "Epoch 1/10\n",
            "238/238 [==============================] - 33s 132ms/step - loss: 0.8841 - pi_loss: 0.5108 - v_loss: 0.3732\n",
            "Epoch 2/10\n",
            "238/238 [==============================] - 31s 130ms/step - loss: 0.7135 - pi_loss: 0.3986 - v_loss: 0.3149\n",
            "Epoch 3/10\n",
            "238/238 [==============================] - 31s 129ms/step - loss: 0.6615 - pi_loss: 0.3696 - v_loss: 0.2919\n",
            "Epoch 4/10\n",
            "238/238 [==============================] - 31s 130ms/step - loss: 0.6211 - pi_loss: 0.3500 - v_loss: 0.2710\n",
            "Epoch 5/10\n",
            "238/238 [==============================] - 31s 131ms/step - loss: 0.6027 - pi_loss: 0.3405 - v_loss: 0.2621\n",
            "Epoch 6/10\n",
            "238/238 [==============================] - 31s 129ms/step - loss: 0.5838 - pi_loss: 0.3337 - v_loss: 0.2501\n",
            "Epoch 7/10\n",
            "238/238 [==============================] - 31s 131ms/step - loss: 0.5699 - pi_loss: 0.3262 - v_loss: 0.2436\n",
            "Epoch 8/10\n",
            "238/238 [==============================] - 32s 132ms/step - loss: 0.5631 - pi_loss: 0.3227 - v_loss: 0.2405\n",
            "Epoch 9/10\n",
            "238/238 [==============================] - 31s 130ms/step - loss: 0.5536 - pi_loss: 0.3199 - v_loss: 0.2337\n",
            "Epoch 10/10\n",
            "238/238 [==============================] - 31s 129ms/step - loss: 0.5466 - pi_loss: 0.3163 - v_loss: 0.2303\n"
          ]
        },
        {
          "name": "stderr",
          "output_type": "stream",
          "text": [
            "2024-01-03 13:43:35 dbb98474743a Coach[530] INFO PITTING AGAINST PREVIOUS VERSION\n",
            "Arena.playGames (1): 100%|██████████| 10/10 [06:02<00:00, 36.26s/it]\n",
            "Arena.playGames (2): 100%|██████████| 10/10 [03:57<00:00, 23.77s/it]\n",
            "2024-01-03 13:53:36 dbb98474743a Coach[530] INFO NEW/PREV WINS : 7 / 13 ; DRAWS : 0\n",
            "2024-01-03 13:53:36 dbb98474743a Coach[530] INFO REJECTING NEW MODEL\n",
            "2024-01-03 13:53:37 dbb98474743a Coach[530] INFO Starting Iter #4 ...\n",
            "Self Play: 100%|██████████| 25/25 [10:26<00:00, 25.07s/it]\n"
          ]
        },
        {
          "name": "stdout",
          "output_type": "stream",
          "text": [
            "Checkpoint Directory exists! \n",
            "Epoch 1/10\n",
            "293/293 [==============================] - 41s 131ms/step - loss: 0.8873 - pi_loss: 0.5307 - v_loss: 0.3566\n",
            "Epoch 2/10\n",
            "293/293 [==============================] - 38s 131ms/step - loss: 0.7161 - pi_loss: 0.4191 - v_loss: 0.2970\n",
            "Epoch 3/10\n",
            "293/293 [==============================] - 37s 124ms/step - loss: 0.6616 - pi_loss: 0.3888 - v_loss: 0.2728\n",
            "Epoch 4/10\n",
            "293/293 [==============================] - 37s 127ms/step - loss: 0.6236 - pi_loss: 0.3662 - v_loss: 0.2574\n",
            "Epoch 5/10\n",
            "293/293 [==============================] - 37s 126ms/step - loss: 0.5999 - pi_loss: 0.3528 - v_loss: 0.2471\n",
            "Epoch 6/10\n",
            "293/293 [==============================] - 37s 125ms/step - loss: 0.5847 - pi_loss: 0.3462 - v_loss: 0.2385\n",
            "Epoch 7/10\n",
            "293/293 [==============================] - 38s 129ms/step - loss: 0.5716 - pi_loss: 0.3384 - v_loss: 0.2332\n",
            "Epoch 8/10\n",
            "293/293 [==============================] - 36s 124ms/step - loss: 0.5599 - pi_loss: 0.3332 - v_loss: 0.2267\n",
            "Epoch 9/10\n",
            "293/293 [==============================] - 39s 133ms/step - loss: 0.5506 - pi_loss: 0.3284 - v_loss: 0.2222\n",
            "Epoch 10/10\n",
            "293/293 [==============================] - 36s 125ms/step - loss: 0.5471 - pi_loss: 0.3250 - v_loss: 0.2221\n"
          ]
        },
        {
          "name": "stderr",
          "output_type": "stream",
          "text": [
            "2024-01-03 14:10:23 dbb98474743a Coach[530] INFO PITTING AGAINST PREVIOUS VERSION\n",
            "Arena.playGames (1): 100%|██████████| 10/10 [06:30<00:00, 39.03s/it]\n",
            "Arena.playGames (2): 100%|██████████| 10/10 [05:04<00:00, 30.45s/it]\n",
            "2024-01-03 14:21:58 dbb98474743a Coach[530] INFO NEW/PREV WINS : 11 / 9 ; DRAWS : 0\n",
            "2024-01-03 14:21:58 dbb98474743a Coach[530] INFO REJECTING NEW MODEL\n",
            "2024-01-03 14:22:00 dbb98474743a Coach[530] INFO Starting Iter #5 ...\n",
            "Self Play: 100%|██████████| 25/25 [12:26<00:00, 29.86s/it]\n"
          ]
        },
        {
          "name": "stdout",
          "output_type": "stream",
          "text": [
            "Checkpoint Directory exists! \n",
            "Epoch 1/10\n",
            "355/355 [==============================] - 47s 127ms/step - loss: 0.8974 - pi_loss: 0.5493 - v_loss: 0.3481\n",
            "Epoch 2/10\n",
            "355/355 [==============================] - 45s 127ms/step - loss: 0.7329 - pi_loss: 0.4386 - v_loss: 0.2943\n",
            "Epoch 3/10\n",
            "355/355 [==============================] - 45s 128ms/step - loss: 0.6657 - pi_loss: 0.4000 - v_loss: 0.2657\n",
            "Epoch 4/10\n",
            "355/355 [==============================] - 45s 127ms/step - loss: 0.6247 - pi_loss: 0.3786 - v_loss: 0.2461\n",
            "Epoch 5/10\n",
            "355/355 [==============================] - 45s 127ms/step - loss: 0.5994 - pi_loss: 0.3620 - v_loss: 0.2375\n",
            "Epoch 6/10\n",
            "355/355 [==============================] - 45s 127ms/step - loss: 0.5788 - pi_loss: 0.3523 - v_loss: 0.2265\n",
            "Epoch 7/10\n",
            "355/355 [==============================] - 45s 127ms/step - loss: 0.5695 - pi_loss: 0.3464 - v_loss: 0.2231\n",
            "Epoch 8/10\n",
            "355/355 [==============================] - 45s 128ms/step - loss: 0.5559 - pi_loss: 0.3401 - v_loss: 0.2158\n",
            "Epoch 9/10\n",
            "355/355 [==============================] - 45s 128ms/step - loss: 0.5508 - pi_loss: 0.3389 - v_loss: 0.2119\n",
            "Epoch 10/10\n",
            "355/355 [==============================] - 46s 128ms/step - loss: 0.5431 - pi_loss: 0.3332 - v_loss: 0.2099\n"
          ]
        },
        {
          "name": "stderr",
          "output_type": "stream",
          "text": [
            "2024-01-03 14:42:54 dbb98474743a Coach[530] INFO PITTING AGAINST PREVIOUS VERSION\n",
            "Arena.playGames (1): 100%|██████████| 10/10 [06:16<00:00, 37.62s/it]\n",
            "Arena.playGames (2): 100%|██████████| 10/10 [04:22<00:00, 26.20s/it]\n",
            "2024-01-03 14:53:32 dbb98474743a Coach[530] INFO NEW/PREV WINS : 13 / 7 ; DRAWS : 0\n",
            "2024-01-03 14:53:32 dbb98474743a Coach[530] INFO ACCEPTING NEW MODEL\n"
          ]
        },
        {
          "name": "stdout",
          "output_type": "stream",
          "text": [
            "Checkpoint Directory exists! \n",
            "Checkpoint Directory exists! \n"
          ]
        },
        {
          "name": "stderr",
          "output_type": "stream",
          "text": [
            "2024-01-03 14:53:34 dbb98474743a Coach[530] INFO Starting Iter #6 ...\n",
            "Self Play: 100%|██████████| 25/25 [13:37<00:00, 32.69s/it]\n"
          ]
        },
        {
          "name": "stdout",
          "output_type": "stream",
          "text": [
            "Checkpoint Directory exists! \n",
            "Epoch 1/10\n",
            "426/426 [==============================] - 57s 133ms/step - loss: 0.7720 - pi_loss: 0.4326 - v_loss: 0.3393\n",
            "Epoch 2/10\n",
            "426/426 [==============================] - 57s 133ms/step - loss: 0.6823 - pi_loss: 0.3852 - v_loss: 0.2971\n",
            "Epoch 3/10\n",
            "426/426 [==============================] - 58s 135ms/step - loss: 0.6475 - pi_loss: 0.3682 - v_loss: 0.2792\n",
            "Epoch 4/10\n",
            "426/426 [==============================] - 58s 136ms/step - loss: 0.6201 - pi_loss: 0.3571 - v_loss: 0.2630\n",
            "Epoch 5/10\n",
            "426/426 [==============================] - 56s 131ms/step - loss: 0.6103 - pi_loss: 0.3513 - v_loss: 0.2590\n",
            "Epoch 6/10\n",
            "426/426 [==============================] - 56s 132ms/step - loss: 0.6010 - pi_loss: 0.3492 - v_loss: 0.2518\n",
            "Epoch 7/10\n",
            "426/426 [==============================] - 58s 136ms/step - loss: 0.5902 - pi_loss: 0.3442 - v_loss: 0.2459\n",
            "Epoch 8/10\n",
            "426/426 [==============================] - 58s 135ms/step - loss: 0.5864 - pi_loss: 0.3425 - v_loss: 0.2438\n",
            "Epoch 9/10\n",
            "426/426 [==============================] - 58s 137ms/step - loss: 0.5786 - pi_loss: 0.3399 - v_loss: 0.2387\n",
            "Epoch 10/10\n",
            "426/426 [==============================] - 58s 136ms/step - loss: 0.5731 - pi_loss: 0.3361 - v_loss: 0.2370\n"
          ]
        },
        {
          "name": "stderr",
          "output_type": "stream",
          "text": [
            "2024-01-03 15:17:38 dbb98474743a Coach[530] INFO PITTING AGAINST PREVIOUS VERSION\n",
            "Arena.playGames (1): 100%|██████████| 10/10 [05:29<00:00, 32.99s/it]\n",
            "Arena.playGames (2): 100%|██████████| 10/10 [04:50<00:00, 29.10s/it]\n",
            "2024-01-03 15:27:59 dbb98474743a Coach[530] INFO NEW/PREV WINS : 12 / 8 ; DRAWS : 0\n",
            "2024-01-03 15:27:59 dbb98474743a Coach[530] INFO ACCEPTING NEW MODEL\n"
          ]
        },
        {
          "name": "stdout",
          "output_type": "stream",
          "text": [
            "Checkpoint Directory exists! \n",
            "Checkpoint Directory exists! \n"
          ]
        },
        {
          "name": "stderr",
          "output_type": "stream",
          "text": [
            "2024-01-03 15:28:01 dbb98474743a Coach[530] INFO Starting Iter #7 ...\n",
            "Self Play: 100%|██████████| 25/25 [12:13<00:00, 29.32s/it]\n"
          ]
        },
        {
          "name": "stdout",
          "output_type": "stream",
          "text": [
            "Checkpoint Directory exists! \n",
            "Epoch 1/10\n",
            "490/490 [==============================] - 66s 134ms/step - loss: 0.7157 - pi_loss: 0.4277 - v_loss: 0.2880\n",
            "Epoch 2/10\n",
            "490/490 [==============================] - 66s 135ms/step - loss: 0.6520 - pi_loss: 0.3816 - v_loss: 0.2704\n",
            "Epoch 3/10\n",
            "490/490 [==============================] - 67s 136ms/step - loss: 0.6241 - pi_loss: 0.3642 - v_loss: 0.2599\n",
            "Epoch 4/10\n",
            "490/490 [==============================] - 65s 133ms/step - loss: 0.6124 - pi_loss: 0.3587 - v_loss: 0.2538\n",
            "Epoch 5/10\n",
            "490/490 [==============================] - 69s 140ms/step - loss: 0.6011 - pi_loss: 0.3518 - v_loss: 0.2493\n",
            "Epoch 6/10\n",
            "490/490 [==============================] - 67s 137ms/step - loss: 0.5932 - pi_loss: 0.3485 - v_loss: 0.2446\n",
            "Epoch 7/10\n",
            "490/490 [==============================] - 69s 142ms/step - loss: 0.5883 - pi_loss: 0.3453 - v_loss: 0.2429\n",
            "Epoch 8/10\n",
            "490/490 [==============================] - 67s 137ms/step - loss: 0.5869 - pi_loss: 0.3460 - v_loss: 0.2409\n",
            "Epoch 9/10\n",
            "490/490 [==============================] - 69s 141ms/step - loss: 0.5810 - pi_loss: 0.3430 - v_loss: 0.2380\n",
            "Epoch 10/10\n",
            "490/490 [==============================] - 67s 137ms/step - loss: 0.5751 - pi_loss: 0.3398 - v_loss: 0.2352\n"
          ]
        },
        {
          "name": "stderr",
          "output_type": "stream",
          "text": [
            "2024-01-03 15:51:42 dbb98474743a Coach[530] INFO PITTING AGAINST PREVIOUS VERSION\n",
            "Arena.playGames (1): 100%|██████████| 10/10 [08:01<00:00, 48.16s/it]\n",
            "Arena.playGames (2): 100%|██████████| 10/10 [04:50<00:00, 29.09s/it]\n",
            "2024-01-03 16:04:35 dbb98474743a Coach[530] INFO NEW/PREV WINS : 9 / 8 ; DRAWS : 3\n",
            "2024-01-03 16:04:35 dbb98474743a Coach[530] INFO REJECTING NEW MODEL\n",
            "2024-01-03 16:04:36 dbb98474743a Coach[530] INFO Starting Iter #8 ...\n",
            "Self Play: 100%|██████████| 25/25 [10:14<00:00, 24.57s/it]\n"
          ]
        },
        {
          "name": "stdout",
          "output_type": "stream",
          "text": [
            "Checkpoint Directory exists! \n",
            "Epoch 1/10\n",
            "544/544 [==============================] - 76s 136ms/step - loss: 0.8005 - pi_loss: 0.4716 - v_loss: 0.3289\n",
            "Epoch 2/10\n",
            "544/544 [==============================] - 75s 137ms/step - loss: 0.7018 - pi_loss: 0.4047 - v_loss: 0.2972\n",
            "Epoch 3/10\n",
            "544/544 [==============================] - 76s 140ms/step - loss: 0.6677 - pi_loss: 0.3837 - v_loss: 0.2840\n",
            "Epoch 4/10\n",
            "544/544 [==============================] - 78s 143ms/step - loss: 0.6494 - pi_loss: 0.3714 - v_loss: 0.2780\n",
            "Epoch 5/10\n",
            "544/544 [==============================] - 72s 132ms/step - loss: 0.6348 - pi_loss: 0.3646 - v_loss: 0.2702\n",
            "Epoch 6/10\n",
            "544/544 [==============================] - 75s 138ms/step - loss: 0.6269 - pi_loss: 0.3621 - v_loss: 0.2648\n",
            "Epoch 7/10\n",
            "544/544 [==============================] - 76s 139ms/step - loss: 0.6244 - pi_loss: 0.3579 - v_loss: 0.2665\n",
            "Epoch 8/10\n",
            "544/544 [==============================] - 75s 139ms/step - loss: 0.6131 - pi_loss: 0.3519 - v_loss: 0.2611\n",
            "Epoch 9/10\n",
            "544/544 [==============================] - 75s 137ms/step - loss: 0.6097 - pi_loss: 0.3511 - v_loss: 0.2585\n",
            "Epoch 10/10\n",
            "544/544 [==============================] - 75s 138ms/step - loss: 0.6087 - pi_loss: 0.3517 - v_loss: 0.2570\n"
          ]
        },
        {
          "name": "stderr",
          "output_type": "stream",
          "text": [
            "2024-01-03 16:27:29 dbb98474743a Coach[530] INFO PITTING AGAINST PREVIOUS VERSION\n",
            "Arena.playGames (1): 100%|██████████| 10/10 [06:01<00:00, 36.12s/it]\n",
            "Arena.playGames (2): 100%|██████████| 10/10 [04:47<00:00, 28.75s/it]\n",
            "2024-01-03 16:38:18 dbb98474743a Coach[530] INFO NEW/PREV WINS : 15 / 5 ; DRAWS : 0\n",
            "2024-01-03 16:38:18 dbb98474743a Coach[530] INFO ACCEPTING NEW MODEL\n"
          ]
        },
        {
          "name": "stdout",
          "output_type": "stream",
          "text": [
            "Checkpoint Directory exists! \n",
            "Checkpoint Directory exists! \n"
          ]
        },
        {
          "name": "stderr",
          "output_type": "stream",
          "text": [
            "2024-01-03 16:38:20 dbb98474743a Coach[530] INFO Starting Iter #9 ...\n",
            "Self Play: 100%|██████████| 25/25 [13:35<00:00, 32.61s/it]\n"
          ]
        },
        {
          "name": "stdout",
          "output_type": "stream",
          "text": [
            "Checkpoint Directory exists! \n",
            "Epoch 1/10\n",
            "612/612 [==============================] - 83s 136ms/step - loss: 0.7369 - pi_loss: 0.4053 - v_loss: 0.3316\n",
            "Epoch 2/10\n",
            "612/612 [==============================] - 82s 133ms/step - loss: 0.6782 - pi_loss: 0.3697 - v_loss: 0.3085\n",
            "Epoch 3/10\n",
            "612/612 [==============================] - 83s 135ms/step - loss: 0.6601 - pi_loss: 0.3617 - v_loss: 0.2984\n",
            "Epoch 4/10\n",
            "612/612 [==============================] - 83s 136ms/step - loss: 0.6501 - pi_loss: 0.3566 - v_loss: 0.2936\n",
            "Epoch 5/10\n",
            "612/612 [==============================] - 82s 134ms/step - loss: 0.6420 - pi_loss: 0.3535 - v_loss: 0.2886\n",
            "Epoch 6/10\n",
            "612/612 [==============================] - 83s 136ms/step - loss: 0.6375 - pi_loss: 0.3503 - v_loss: 0.2872\n",
            "Epoch 7/10\n",
            "612/612 [==============================] - 84s 136ms/step - loss: 0.6379 - pi_loss: 0.3505 - v_loss: 0.2875\n",
            "Epoch 8/10\n",
            "612/612 [==============================] - 83s 136ms/step - loss: 0.6330 - pi_loss: 0.3485 - v_loss: 0.2845\n",
            "Epoch 9/10\n",
            "612/612 [==============================] - 82s 135ms/step - loss: 0.6313 - pi_loss: 0.3479 - v_loss: 0.2835\n",
            "Epoch 10/10\n",
            "612/612 [==============================] - 81s 133ms/step - loss: 0.6258 - pi_loss: 0.3438 - v_loss: 0.2819\n"
          ]
        },
        {
          "name": "stderr",
          "output_type": "stream",
          "text": [
            "2024-01-03 17:05:47 dbb98474743a Coach[530] INFO PITTING AGAINST PREVIOUS VERSION\n",
            "Arena.playGames (1): 100%|██████████| 10/10 [08:40<00:00, 52.06s/it]\n",
            "Arena.playGames (2): 100%|██████████| 10/10 [06:20<00:00, 38.01s/it]\n",
            "2024-01-03 17:20:48 dbb98474743a Coach[530] INFO NEW/PREV WINS : 6 / 12 ; DRAWS : 2\n",
            "2024-01-03 17:20:48 dbb98474743a Coach[530] INFO REJECTING NEW MODEL\n",
            "2024-01-03 17:20:49 dbb98474743a Coach[530] INFO Starting Iter #10 ...\n",
            "Self Play: 100%|██████████| 25/25 [11:11<00:00, 26.86s/it]\n"
          ]
        },
        {
          "name": "stdout",
          "output_type": "stream",
          "text": [
            "Checkpoint Directory exists! \n",
            "Epoch 1/10\n",
            "667/667 [==============================] - 92s 135ms/step - loss: 0.8073 - pi_loss: 0.4348 - v_loss: 0.3725\n",
            "Epoch 2/10\n",
            "667/667 [==============================] - 90s 135ms/step - loss: 0.7207 - pi_loss: 0.3891 - v_loss: 0.3315\n",
            "Epoch 3/10\n",
            "667/667 [==============================] - 88s 132ms/step - loss: 0.6891 - pi_loss: 0.3713 - v_loss: 0.3178\n",
            "Epoch 4/10\n",
            "667/667 [==============================] - 89s 134ms/step - loss: 0.6771 - pi_loss: 0.3653 - v_loss: 0.3119\n",
            "Epoch 5/10\n",
            "667/667 [==============================] - 89s 134ms/step - loss: 0.6667 - pi_loss: 0.3622 - v_loss: 0.3045\n",
            "Epoch 6/10\n",
            "667/667 [==============================] - 89s 134ms/step - loss: 0.6589 - pi_loss: 0.3571 - v_loss: 0.3018\n",
            "Epoch 7/10\n",
            "667/667 [==============================] - 90s 134ms/step - loss: 0.6557 - pi_loss: 0.3566 - v_loss: 0.2991\n",
            "Epoch 8/10\n",
            "667/667 [==============================] - 90s 135ms/step - loss: 0.6507 - pi_loss: 0.3536 - v_loss: 0.2971\n",
            "Epoch 9/10\n",
            "667/667 [==============================] - 88s 132ms/step - loss: 0.6454 - pi_loss: 0.3505 - v_loss: 0.2948\n",
            "Epoch 10/10\n",
            "667/667 [==============================] - 88s 131ms/step - loss: 0.6447 - pi_loss: 0.3519 - v_loss: 0.2927\n"
          ]
        },
        {
          "name": "stderr",
          "output_type": "stream",
          "text": [
            "2024-01-03 17:47:32 dbb98474743a Coach[530] INFO PITTING AGAINST PREVIOUS VERSION\n",
            "Arena.playGames (1): 100%|██████████| 10/10 [09:53<00:00, 59.30s/it]\n",
            "Arena.playGames (2): 100%|██████████| 10/10 [05:40<00:00, 34.01s/it]\n",
            "2024-01-03 18:03:05 dbb98474743a Coach[530] INFO NEW/PREV WINS : 10 / 10 ; DRAWS : 0\n",
            "2024-01-03 18:03:05 dbb98474743a Coach[530] INFO REJECTING NEW MODEL\n",
            "2024-01-03 18:03:06 dbb98474743a Coach[530] INFO Starting Iter #11 ...\n",
            "Self Play: 100%|██████████| 25/25 [11:36<00:00, 27.85s/it]\n"
          ]
        },
        {
          "name": "stdout",
          "output_type": "stream",
          "text": [
            "Checkpoint Directory exists! \n",
            "Epoch 1/10\n",
            "724/724 [==============================] - 99s 135ms/step - loss: 0.8897 - pi_loss: 0.4672 - v_loss: 0.4225\n",
            "Epoch 2/10\n",
            "724/724 [==============================] - 96s 132ms/step - loss: 0.7852 - pi_loss: 0.4081 - v_loss: 0.3771\n",
            "Epoch 3/10\n",
            "724/724 [==============================] - 96s 133ms/step - loss: 0.7460 - pi_loss: 0.3890 - v_loss: 0.3570\n",
            "Epoch 4/10\n",
            "724/724 [==============================] - 97s 134ms/step - loss: 0.7196 - pi_loss: 0.3758 - v_loss: 0.3438\n",
            "Epoch 5/10\n",
            "724/724 [==============================] - 96s 132ms/step - loss: 0.7045 - pi_loss: 0.3675 - v_loss: 0.3370\n",
            "Epoch 6/10\n",
            "724/724 [==============================] - 96s 133ms/step - loss: 0.6947 - pi_loss: 0.3650 - v_loss: 0.3297\n",
            "Epoch 7/10\n",
            "724/724 [==============================] - 96s 133ms/step - loss: 0.6854 - pi_loss: 0.3605 - v_loss: 0.3249\n",
            "Epoch 8/10\n",
            "724/724 [==============================] - 97s 134ms/step - loss: 0.6786 - pi_loss: 0.3583 - v_loss: 0.3203\n",
            "Epoch 9/10\n",
            "724/724 [==============================] - 95s 132ms/step - loss: 0.6752 - pi_loss: 0.3571 - v_loss: 0.3181\n",
            "Epoch 10/10\n",
            "724/724 [==============================] - 95s 132ms/step - loss: 0.6688 - pi_loss: 0.3542 - v_loss: 0.3147\n"
          ]
        },
        {
          "name": "stderr",
          "output_type": "stream",
          "text": [
            "2024-01-03 18:31:12 dbb98474743a Coach[530] INFO PITTING AGAINST PREVIOUS VERSION\n",
            "Arena.playGames (1): 100%|██████████| 10/10 [09:23<00:00, 56.36s/it]\n",
            "Arena.playGames (2): 100%|██████████| 10/10 [06:57<00:00, 41.74s/it]\n",
            "2024-01-03 18:47:33 dbb98474743a Coach[530] INFO NEW/PREV WINS : 15 / 4 ; DRAWS : 1\n",
            "2024-01-03 18:47:33 dbb98474743a Coach[530] INFO ACCEPTING NEW MODEL\n"
          ]
        },
        {
          "name": "stdout",
          "output_type": "stream",
          "text": [
            "Checkpoint Directory exists! \n",
            "Checkpoint Directory exists! \n"
          ]
        },
        {
          "name": "stderr",
          "output_type": "stream",
          "text": [
            "2024-01-03 18:47:35 dbb98474743a Coach[530] INFO Starting Iter #12 ...\n",
            "Self Play: 100%|██████████| 25/25 [12:18<00:00, 29.54s/it]\n"
          ]
        },
        {
          "name": "stdout",
          "output_type": "stream",
          "text": [
            "Checkpoint Directory exists! \n",
            "Epoch 1/10\n",
            "790/790 [==============================] - 100s 126ms/step - loss: 0.7382 - pi_loss: 0.4015 - v_loss: 0.3368\n",
            "Epoch 2/10\n",
            "790/790 [==============================] - 100s 126ms/step - loss: 0.6916 - pi_loss: 0.3718 - v_loss: 0.3198\n",
            "Epoch 3/10\n",
            "790/790 [==============================] - 101s 128ms/step - loss: 0.6792 - pi_loss: 0.3642 - v_loss: 0.3150\n",
            "Epoch 4/10\n",
            "790/790 [==============================] - 100s 126ms/step - loss: 0.6692 - pi_loss: 0.3591 - v_loss: 0.3101\n",
            "Epoch 5/10\n",
            "790/790 [==============================] - 100s 126ms/step - loss: 0.6616 - pi_loss: 0.3561 - v_loss: 0.3055\n",
            "Epoch 6/10\n",
            "790/790 [==============================] - 101s 127ms/step - loss: 0.6564 - pi_loss: 0.3538 - v_loss: 0.3026\n",
            "Epoch 7/10\n",
            "790/790 [==============================] - 99s 125ms/step - loss: 0.6521 - pi_loss: 0.3523 - v_loss: 0.2999\n",
            "Epoch 8/10\n",
            "790/790 [==============================] - 100s 127ms/step - loss: 0.6492 - pi_loss: 0.3512 - v_loss: 0.2980\n",
            "Epoch 9/10\n",
            "790/790 [==============================] - 100s 127ms/step - loss: 0.6437 - pi_loss: 0.3489 - v_loss: 0.2948\n",
            "Epoch 10/10\n",
            "790/790 [==============================] - 98s 125ms/step - loss: 0.6459 - pi_loss: 0.3489 - v_loss: 0.2970\n"
          ]
        },
        {
          "name": "stderr",
          "output_type": "stream",
          "text": [
            "2024-01-03 19:17:25 dbb98474743a Coach[530] INFO PITTING AGAINST PREVIOUS VERSION\n",
            "Arena.playGames (1): 100%|██████████| 10/10 [07:37<00:00, 45.73s/it]\n",
            "Arena.playGames (2): 100%|██████████| 10/10 [10:22<00:00, 62.25s/it]\n",
            "2024-01-03 19:35:25 dbb98474743a Coach[530] INFO NEW/PREV WINS : 3 / 17 ; DRAWS : 0\n",
            "2024-01-03 19:35:25 dbb98474743a Coach[530] INFO REJECTING NEW MODEL\n",
            "2024-01-03 19:35:26 dbb98474743a Coach[530] INFO Starting Iter #13 ...\n",
            "Self Play: 100%|██████████| 25/25 [15:46<00:00, 37.84s/it]\n"
          ]
        },
        {
          "name": "stdout",
          "output_type": "stream",
          "text": [
            "Checkpoint Directory exists! \n",
            "Epoch 1/10\n",
            "869/869 [==============================] - 111s 127ms/step - loss: 0.7999 - pi_loss: 0.4425 - v_loss: 0.3574\n",
            "Epoch 2/10\n",
            "869/869 [==============================] - 111s 127ms/step - loss: 0.7250 - pi_loss: 0.3919 - v_loss: 0.3331\n",
            "Epoch 3/10\n",
            "869/869 [==============================] - 109s 126ms/step - loss: 0.6969 - pi_loss: 0.3766 - v_loss: 0.3203\n",
            "Epoch 4/10\n",
            "869/869 [==============================] - 109s 126ms/step - loss: 0.6802 - pi_loss: 0.3669 - v_loss: 0.3133\n",
            "Epoch 5/10\n",
            "869/869 [==============================] - 111s 128ms/step - loss: 0.6697 - pi_loss: 0.3625 - v_loss: 0.3072\n",
            "Epoch 6/10\n",
            "869/869 [==============================] - 109s 126ms/step - loss: 0.6619 - pi_loss: 0.3592 - v_loss: 0.3027\n",
            "Epoch 7/10\n",
            "869/869 [==============================] - 110s 126ms/step - loss: 0.6551 - pi_loss: 0.3553 - v_loss: 0.2999\n",
            "Epoch 8/10\n",
            "869/869 [==============================] - 111s 127ms/step - loss: 0.6485 - pi_loss: 0.3527 - v_loss: 0.2957\n",
            "Epoch 9/10\n",
            "869/869 [==============================] - 110s 127ms/step - loss: 0.6474 - pi_loss: 0.3520 - v_loss: 0.2955\n",
            "Epoch 10/10\n",
            "869/869 [==============================] - 110s 126ms/step - loss: 0.6439 - pi_loss: 0.3493 - v_loss: 0.2946\n"
          ]
        },
        {
          "name": "stderr",
          "output_type": "stream",
          "text": [
            "2024-01-03 20:09:43 dbb98474743a Coach[530] INFO PITTING AGAINST PREVIOUS VERSION\n",
            "Arena.playGames (1): 100%|██████████| 10/10 [04:39<00:00, 27.91s/it]\n",
            "Arena.playGames (2): 100%|██████████| 10/10 [09:27<00:00, 56.70s/it]\n",
            "2024-01-03 20:23:50 dbb98474743a Coach[530] INFO NEW/PREV WINS : 4 / 12 ; DRAWS : 4\n",
            "2024-01-03 20:23:50 dbb98474743a Coach[530] INFO REJECTING NEW MODEL\n",
            "2024-01-03 20:23:53 dbb98474743a Coach[530] INFO Starting Iter #14 ...\n",
            "Self Play: 100%|██████████| 25/25 [09:14<00:00, 22.19s/it]\n"
          ]
        },
        {
          "name": "stdout",
          "output_type": "stream",
          "text": [
            "Checkpoint Directory exists! \n",
            "Epoch 1/10\n",
            "920/920 [==============================] - 119s 127ms/step - loss: 0.8145 - pi_loss: 0.4550 - v_loss: 0.3595\n",
            "Epoch 2/10\n",
            "920/920 [==============================] - 117s 127ms/step - loss: 0.7257 - pi_loss: 0.3962 - v_loss: 0.3294\n",
            "Epoch 3/10\n",
            "920/920 [==============================] - 117s 127ms/step - loss: 0.6982 - pi_loss: 0.3816 - v_loss: 0.3166\n",
            "Epoch 4/10\n",
            "920/920 [==============================] - 115s 125ms/step - loss: 0.6789 - pi_loss: 0.3696 - v_loss: 0.3093\n",
            "Epoch 5/10\n",
            "920/920 [==============================] - 115s 125ms/step - loss: 0.6644 - pi_loss: 0.3632 - v_loss: 0.3012\n",
            "Epoch 6/10\n",
            "920/920 [==============================] - 117s 127ms/step - loss: 0.6569 - pi_loss: 0.3595 - v_loss: 0.2974\n",
            "Epoch 7/10\n",
            "920/920 [==============================] - 117s 127ms/step - loss: 0.6556 - pi_loss: 0.3598 - v_loss: 0.2959\n",
            "Epoch 8/10\n",
            "920/920 [==============================] - 114s 124ms/step - loss: 0.6475 - pi_loss: 0.3552 - v_loss: 0.2923\n",
            "Epoch 9/10\n",
            "920/920 [==============================] - 116s 127ms/step - loss: 0.6401 - pi_loss: 0.3513 - v_loss: 0.2889\n",
            "Epoch 10/10\n",
            "920/920 [==============================] - 117s 127ms/step - loss: 0.6420 - pi_loss: 0.3524 - v_loss: 0.2896\n"
          ]
        },
        {
          "name": "stderr",
          "output_type": "stream",
          "text": [
            "2024-01-03 20:52:40 dbb98474743a Coach[530] INFO PITTING AGAINST PREVIOUS VERSION\n",
            "Arena.playGames (1):   0%|          | 0/10 [00:00<?, ?it/s]"
          ]
        }
      ],
      "source": [
        "args = dotdict({\n",
        "    'numIters':20,\n",
        "    'numEps': 25,              # Number of complete self-play games to simulate during a new iteration.\n",
        "    'tempThreshold': 15,        #\n",
        "    'updateThreshold': 0.6,     # During arena playoff, new neural net will be accepted if threshold or more of games are won.\n",
        "    'maxlenOfQueue': 50000,    # Number of game examples to train the neural networks.\n",
        "    'numMCTSSims': 25,          # Number of games moves for MCTS to simulate.\n",
        "    'arenaCompare': 20,         # Number of games to play during arena play to determine if new net will be accepted.\n",
        "    'cpuct': 1,\n",
        "\n",
        "    'checkpoint': '/content/drive/MyDrive/trabalho2_liacd/models/ataxx/5x5',\n",
        "    'load_model': True,\n",
        "    'load_folder_file': ('/content/drive/MyDrive/trabalho2_liacd/models/ataxx/5x5', 'best.h5'),\n",
        "    'numItersForTrainExamplesHistory': 20,\n",
        "\n",
        "})\n",
        "\n",
        "\n",
        "log.info('Loading %s...', Game.__name__)\n",
        "g = Game(5)\n",
        "\n",
        "log.info('Loading %s...', nn.__name__)\n",
        "nnet = nn(g)\n",
        "\n",
        "if args.load_model:\n",
        "    log.info('Loading checkpoint \"%s/%s\"...', args.load_folder_file[0], args.load_folder_file[1])\n",
        "    nnet.load_model(args.load_folder_file[0], args.load_folder_file[1])\n",
        "else:\n",
        "    log.warning('Not loading a checkpoint!')\n",
        "\n",
        "log.info('Loading the Coach...')\n",
        "c = Coach(g, nnet, args)\n",
        "\n",
        "if args.load_model:\n",
        "    log.info(\"Loading 'trainExamples' from file...\")\n",
        "    c.loadTrainExamples()\n",
        "\n",
        "log.info('Starting the learning process 🎉')\n",
        "c.learn()\n",
        "\n"
      ]
    },
    {
      "cell_type": "markdown",
      "metadata": {
        "id": "wgWjY2cmESD_"
      },
      "source": [
        "#Décimo Quinto Treino"
      ]
    },
    {
      "cell_type": "code",
      "execution_count": null,
      "metadata": {
        "colab": {
          "background_save": true,
          "base_uri": "https://localhost:8080/"
        },
        "id": "anIVYapIEajN",
        "outputId": "03547138-bd35-4b4a-f93f-94db1ad0b675"
      },
      "outputs": [
        {
          "name": "stderr",
          "output_type": "stream",
          "text": [
            "2024-01-04 15:22:44 a167fa6f2d67 __main__[754] INFO Loading AtaxxGame...\n",
            "2024-01-04 15:22:44 a167fa6f2d67 __main__[754] INFO Loading NNetWrapper...\n",
            "2024-01-04 15:22:44 a167fa6f2d67 __main__[754] INFO Loading checkpoint \"/content/drive/MyDrive/trabalho2_liacd/models/ataxx/5x5/best.h5\"...\n",
            "2024-01-04 15:22:46 a167fa6f2d67 __main__[754] INFO Loading the Coach...\n",
            "2024-01-04 15:22:46 a167fa6f2d67 __main__[754] INFO Loading 'trainExamples' from file...\n",
            "2024-01-04 15:22:46 a167fa6f2d67 Coach[754] WARNING File \"/content/drive/MyDrive/trabalho2_liacd/models/ataxx/5x5/best.h5.examples\" with trainExamples not found!\n",
            "2024-01-04 15:22:48 a167fa6f2d67 __main__[754] INFO Starting the learning process 🎉\n",
            "2024-01-04 15:22:48 a167fa6f2d67 Coach[754] INFO Starting Iter #1 ...\n",
            "Self Play: 100%|██████████| 25/25 [13:09<00:00, 31.57s/it]\n"
          ]
        },
        {
          "name": "stdout",
          "output_type": "stream",
          "text": [
            "Checkpoint Directory exists! \n"
          ]
        },
        {
          "name": "stderr",
          "output_type": "stream",
          "text": [
            "/usr/local/lib/python3.10/dist-packages/keras/src/engine/training.py:3103: UserWarning: You are saving your model as an HDF5 file via `model.save()`. This file format is considered legacy. We recommend using instead the native Keras format, e.g. `model.save('my_model.keras')`.\n",
            "  saving_api.save_model(\n"
          ]
        },
        {
          "name": "stdout",
          "output_type": "stream",
          "text": [
            "Epoch 1/10\n",
            "70/70 [==============================] - 13s 165ms/step - loss: 1.5013 - pi_loss: 0.8936 - v_loss: 0.6077\n",
            "Epoch 2/10\n",
            "70/70 [==============================] - 10s 139ms/step - loss: 1.0160 - pi_loss: 0.5617 - v_loss: 0.4543\n",
            "Epoch 3/10\n",
            "70/70 [==============================] - 10s 142ms/step - loss: 0.8676 - pi_loss: 0.4733 - v_loss: 0.3944\n",
            "Epoch 4/10\n",
            "70/70 [==============================] - 11s 155ms/step - loss: 0.7722 - pi_loss: 0.4262 - v_loss: 0.3460\n",
            "Epoch 5/10\n",
            "70/70 [==============================] - 9s 122ms/step - loss: 0.7154 - pi_loss: 0.3944 - v_loss: 0.3210\n",
            "Epoch 6/10\n",
            "70/70 [==============================] - 11s 157ms/step - loss: 0.6718 - pi_loss: 0.3697 - v_loss: 0.3022\n",
            "Epoch 7/10\n",
            "70/70 [==============================] - 10s 139ms/step - loss: 0.6460 - pi_loss: 0.3546 - v_loss: 0.2914\n",
            "Epoch 8/10\n",
            "70/70 [==============================] - 10s 138ms/step - loss: 0.6286 - pi_loss: 0.3451 - v_loss: 0.2835\n",
            "Epoch 9/10\n",
            "70/70 [==============================] - 11s 157ms/step - loss: 0.6119 - pi_loss: 0.3352 - v_loss: 0.2767\n",
            "Epoch 10/10\n",
            "70/70 [==============================] - 8s 121ms/step - loss: 0.5925 - pi_loss: 0.3275 - v_loss: 0.2650\n"
          ]
        },
        {
          "name": "stderr",
          "output_type": "stream",
          "text": [
            "2024-01-04 15:38:22 a167fa6f2d67 Coach[754] INFO PITTING AGAINST PREVIOUS VERSION\n",
            "Arena.playGames (1): 100%|██████████| 10/10 [07:43<00:00, 46.39s/it]\n",
            "Arena.playGames (2): 100%|██████████| 10/10 [03:30<00:00, 21.03s/it]\n",
            "2024-01-04 15:49:36 a167fa6f2d67 Coach[754] INFO NEW/PREV WINS : 10 / 7 ; DRAWS : 3\n",
            "2024-01-04 15:49:36 a167fa6f2d67 Coach[754] INFO REJECTING NEW MODEL\n",
            "2024-01-04 15:49:37 a167fa6f2d67 Coach[754] INFO Starting Iter #2 ...\n",
            "Self Play: 100%|██████████| 25/25 [14:19<00:00, 34.38s/it]\n"
          ]
        },
        {
          "name": "stdout",
          "output_type": "stream",
          "text": [
            "Checkpoint Directory exists! \n",
            "Epoch 1/10\n",
            "135/135 [==============================] - 22s 153ms/step - loss: 1.3728 - pi_loss: 0.8285 - v_loss: 0.5443\n",
            "Epoch 2/10\n",
            "135/135 [==============================] - 22s 160ms/step - loss: 0.9534 - pi_loss: 0.5699 - v_loss: 0.3835\n",
            "Epoch 3/10\n",
            "135/135 [==============================] - 21s 156ms/step - loss: 0.8108 - pi_loss: 0.4820 - v_loss: 0.3288\n",
            "Epoch 4/10\n",
            "135/135 [==============================] - 19s 141ms/step - loss: 0.7214 - pi_loss: 0.4260 - v_loss: 0.2955\n",
            "Epoch 5/10\n",
            "135/135 [==============================] - 18s 132ms/step - loss: 0.6727 - pi_loss: 0.4010 - v_loss: 0.2717\n",
            "Epoch 6/10\n",
            "135/135 [==============================] - 18s 132ms/step - loss: 0.6418 - pi_loss: 0.3815 - v_loss: 0.2603\n",
            "Epoch 7/10\n",
            "135/135 [==============================] - 18s 133ms/step - loss: 0.6074 - pi_loss: 0.3623 - v_loss: 0.2450\n",
            "Epoch 8/10\n",
            "135/135 [==============================] - 18s 132ms/step - loss: 0.5876 - pi_loss: 0.3553 - v_loss: 0.2324\n",
            "Epoch 9/10\n",
            "135/135 [==============================] - 18s 137ms/step - loss: 0.5736 - pi_loss: 0.3464 - v_loss: 0.2272\n",
            "Epoch 10/10\n",
            "135/135 [==============================] - 19s 144ms/step - loss: 0.5563 - pi_loss: 0.3363 - v_loss: 0.2201\n"
          ]
        },
        {
          "name": "stderr",
          "output_type": "stream",
          "text": [
            "2024-01-04 16:07:22 a167fa6f2d67 Coach[754] INFO PITTING AGAINST PREVIOUS VERSION\n",
            "Arena.playGames (1): 100%|██████████| 10/10 [05:32<00:00, 33.25s/it]\n",
            "Arena.playGames (2): 100%|██████████| 10/10 [10:32<00:00, 63.22s/it]\n",
            "2024-01-04 16:23:27 a167fa6f2d67 Coach[754] INFO NEW/PREV WINS : 12 / 8 ; DRAWS : 0\n",
            "2024-01-04 16:23:27 a167fa6f2d67 Coach[754] INFO ACCEPTING NEW MODEL\n"
          ]
        },
        {
          "name": "stdout",
          "output_type": "stream",
          "text": [
            "Checkpoint Directory exists! \n",
            "Checkpoint Directory exists! \n"
          ]
        },
        {
          "name": "stderr",
          "output_type": "stream",
          "text": [
            "2024-01-04 16:23:27 a167fa6f2d67 Coach[754] INFO Starting Iter #3 ...\n",
            "Self Play: 100%|██████████| 25/25 [09:12<00:00, 22.10s/it]\n"
          ]
        },
        {
          "name": "stdout",
          "output_type": "stream",
          "text": [
            "Checkpoint Directory exists! \n",
            "Epoch 1/10\n",
            "190/190 [==============================] - 25s 132ms/step - loss: 0.8211 - pi_loss: 0.4743 - v_loss: 0.3468\n",
            "Epoch 2/10\n",
            "190/190 [==============================] - 25s 133ms/step - loss: 0.7229 - pi_loss: 0.4145 - v_loss: 0.3084\n",
            "Epoch 3/10\n",
            "190/190 [==============================] - 26s 135ms/step - loss: 0.6713 - pi_loss: 0.3933 - v_loss: 0.2781\n",
            "Epoch 4/10\n",
            "190/190 [==============================] - 25s 131ms/step - loss: 0.6523 - pi_loss: 0.3871 - v_loss: 0.2652\n",
            "Epoch 5/10\n",
            "190/190 [==============================] - 27s 141ms/step - loss: 0.6333 - pi_loss: 0.3771 - v_loss: 0.2562\n",
            "Epoch 6/10\n",
            "190/190 [==============================] - 24s 129ms/step - loss: 0.6163 - pi_loss: 0.3696 - v_loss: 0.2467\n",
            "Epoch 7/10\n",
            "190/190 [==============================] - 27s 140ms/step - loss: 0.6092 - pi_loss: 0.3666 - v_loss: 0.2427\n",
            "Epoch 8/10\n",
            "190/190 [==============================] - 24s 128ms/step - loss: 0.5992 - pi_loss: 0.3634 - v_loss: 0.2358\n",
            "Epoch 9/10\n",
            "190/190 [==============================] - 27s 141ms/step - loss: 0.5890 - pi_loss: 0.3588 - v_loss: 0.2301\n",
            "Epoch 10/10\n",
            "190/190 [==============================] - 25s 131ms/step - loss: 0.5851 - pi_loss: 0.3578 - v_loss: 0.2273\n"
          ]
        },
        {
          "name": "stderr",
          "output_type": "stream",
          "text": [
            "2024-01-04 16:37:04 a167fa6f2d67 Coach[754] INFO PITTING AGAINST PREVIOUS VERSION\n",
            "Arena.playGames (1): 100%|██████████| 10/10 [05:38<00:00, 33.82s/it]\n",
            "Arena.playGames (2): 100%|██████████| 10/10 [04:46<00:00, 28.65s/it]\n",
            "2024-01-04 16:47:29 a167fa6f2d67 Coach[754] INFO NEW/PREV WINS : 7 / 12 ; DRAWS : 1\n",
            "2024-01-04 16:47:29 a167fa6f2d67 Coach[754] INFO REJECTING NEW MODEL\n",
            "2024-01-04 16:47:30 a167fa6f2d67 Coach[754] INFO Starting Iter #4 ...\n",
            "Self Play: 100%|██████████| 25/25 [15:00<00:00, 36.04s/it]\n"
          ]
        },
        {
          "name": "stdout",
          "output_type": "stream",
          "text": [
            "Checkpoint Directory exists! \n",
            "Epoch 1/10\n",
            "265/265 [==============================] - 42s 153ms/step - loss: 1.0836 - pi_loss: 0.6303 - v_loss: 0.4532\n",
            "Epoch 2/10\n",
            "265/265 [==============================] - 39s 146ms/step - loss: 0.9062 - pi_loss: 0.5158 - v_loss: 0.3905\n",
            "Epoch 3/10\n",
            "265/265 [==============================] - 37s 139ms/step - loss: 0.8272 - pi_loss: 0.4714 - v_loss: 0.3557\n",
            "Epoch 4/10\n",
            "265/265 [==============================] - 36s 138ms/step - loss: 0.7789 - pi_loss: 0.4476 - v_loss: 0.3313\n",
            "Epoch 5/10\n",
            "265/265 [==============================] - 36s 135ms/step - loss: 0.7297 - pi_loss: 0.4270 - v_loss: 0.3028\n",
            "Epoch 6/10\n",
            "265/265 [==============================] - 38s 143ms/step - loss: 0.7011 - pi_loss: 0.4147 - v_loss: 0.2863\n",
            "Epoch 7/10\n",
            "265/265 [==============================] - 38s 142ms/step - loss: 0.6799 - pi_loss: 0.4054 - v_loss: 0.2744\n",
            "Epoch 8/10\n",
            "265/265 [==============================] - 38s 143ms/step - loss: 0.6681 - pi_loss: 0.3984 - v_loss: 0.2697\n",
            "Epoch 9/10\n",
            "265/265 [==============================] - 38s 143ms/step - loss: 0.6520 - pi_loss: 0.3953 - v_loss: 0.2567\n",
            "Epoch 10/10\n",
            "265/265 [==============================] - 39s 147ms/step - loss: 0.6352 - pi_loss: 0.3854 - v_loss: 0.2498\n"
          ]
        },
        {
          "name": "stderr",
          "output_type": "stream",
          "text": [
            "2024-01-04 17:08:57 a167fa6f2d67 Coach[754] INFO PITTING AGAINST PREVIOUS VERSION\n",
            "Arena.playGames (1): 100%|██████████| 10/10 [04:49<00:00, 28.90s/it]\n",
            "Arena.playGames (2): 100%|██████████| 10/10 [10:11<00:00, 61.14s/it]\n",
            "2024-01-04 17:23:58 a167fa6f2d67 Coach[754] INFO NEW/PREV WINS : 3 / 14 ; DRAWS : 3\n",
            "2024-01-04 17:23:58 a167fa6f2d67 Coach[754] INFO REJECTING NEW MODEL\n",
            "2024-01-04 17:23:59 a167fa6f2d67 Coach[754] INFO Starting Iter #5 ...\n",
            "Self Play: 100%|██████████| 25/25 [09:27<00:00, 22.68s/it]\n"
          ]
        },
        {
          "name": "stdout",
          "output_type": "stream",
          "text": [
            "Checkpoint Directory exists! \n",
            "Epoch 1/10\n",
            "318/318 [==============================] - 46s 138ms/step - loss: 1.2047 - pi_loss: 0.6654 - v_loss: 0.5393\n",
            "Epoch 2/10\n",
            "318/318 [==============================] - 44s 138ms/step - loss: 1.0150 - pi_loss: 0.5443 - v_loss: 0.4707\n",
            "Epoch 3/10\n",
            "318/318 [==============================] - 41s 129ms/step - loss: 0.9262 - pi_loss: 0.4991 - v_loss: 0.4272\n",
            "Epoch 4/10\n",
            "318/318 [==============================] - 44s 138ms/step - loss: 0.8622 - pi_loss: 0.4666 - v_loss: 0.3955\n",
            "Epoch 5/10\n",
            "318/318 [==============================] - 40s 126ms/step - loss: 0.8174 - pi_loss: 0.4483 - v_loss: 0.3691\n",
            "Epoch 6/10\n",
            "318/318 [==============================] - 43s 136ms/step - loss: 0.7807 - pi_loss: 0.4310 - v_loss: 0.3497\n",
            "Epoch 7/10\n",
            "318/318 [==============================] - 43s 135ms/step - loss: 0.7443 - pi_loss: 0.4154 - v_loss: 0.3288\n",
            "Epoch 8/10\n",
            "318/318 [==============================] - 41s 130ms/step - loss: 0.7244 - pi_loss: 0.4096 - v_loss: 0.3148\n",
            "Epoch 9/10\n",
            "318/318 [==============================] - 44s 138ms/step - loss: 0.7063 - pi_loss: 0.4047 - v_loss: 0.3016\n",
            "Epoch 10/10\n",
            "318/318 [==============================] - 43s 135ms/step - loss: 0.6938 - pi_loss: 0.4007 - v_loss: 0.2931\n"
          ]
        },
        {
          "name": "stderr",
          "output_type": "stream",
          "text": [
            "2024-01-04 17:40:53 a167fa6f2d67 Coach[754] INFO PITTING AGAINST PREVIOUS VERSION\n",
            "Arena.playGames (1): 100%|██████████| 10/10 [07:04<00:00, 42.43s/it]\n",
            "Arena.playGames (2): 100%|██████████| 10/10 [09:54<00:00, 59.48s/it]\n",
            "2024-01-04 17:57:52 a167fa6f2d67 Coach[754] INFO NEW/PREV WINS : 10 / 8 ; DRAWS : 2\n",
            "2024-01-04 17:57:52 a167fa6f2d67 Coach[754] INFO REJECTING NEW MODEL\n",
            "2024-01-04 17:57:54 a167fa6f2d67 Coach[754] INFO Starting Iter #6 ...\n",
            "Self Play:  64%|██████▍   | 16/25 [06:20<02:45, 18.43s/it]2024-01-04 18:04:33 a167fa6f2d67 MCTS[754] WARNING Max depth reached!\n",
            "Self Play: 100%|██████████| 25/25 [09:44<00:00, 23.36s/it]\n"
          ]
        },
        {
          "name": "stdout",
          "output_type": "stream",
          "text": [
            "Checkpoint Directory exists! \n",
            "Epoch 1/10\n",
            "369/369 [==============================] - 49s 129ms/step - loss: 1.2354 - pi_loss: 0.7054 - v_loss: 0.5300\n",
            "Epoch 2/10\n",
            "369/369 [==============================] - 47s 128ms/step - loss: 1.0440 - pi_loss: 0.5832 - v_loss: 0.4608\n",
            "Epoch 3/10\n",
            "369/369 [==============================] - 46s 125ms/step - loss: 0.9466 - pi_loss: 0.5246 - v_loss: 0.4220\n",
            "Epoch 4/10\n",
            "369/369 [==============================] - 46s 126ms/step - loss: 0.8771 - pi_loss: 0.4890 - v_loss: 0.3882\n",
            "Epoch 5/10\n",
            "369/369 [==============================] - 49s 132ms/step - loss: 0.8342 - pi_loss: 0.4690 - v_loss: 0.3652\n",
            "Epoch 6/10\n",
            "369/369 [==============================] - 49s 133ms/step - loss: 0.7875 - pi_loss: 0.4481 - v_loss: 0.3394\n",
            "Epoch 7/10\n",
            "369/369 [==============================] - 48s 130ms/step - loss: 0.7586 - pi_loss: 0.4364 - v_loss: 0.3222\n",
            "Epoch 8/10\n",
            "369/369 [==============================] - 48s 130ms/step - loss: 0.7329 - pi_loss: 0.4244 - v_loss: 0.3084\n",
            "Epoch 9/10\n",
            "369/369 [==============================] - 48s 129ms/step - loss: 0.7167 - pi_loss: 0.4194 - v_loss: 0.2973\n",
            "Epoch 10/10\n",
            "369/369 [==============================] - 51s 139ms/step - loss: 0.7050 - pi_loss: 0.4165 - v_loss: 0.2885\n"
          ]
        },
        {
          "name": "stderr",
          "output_type": "stream",
          "text": [
            "2024-01-04 18:16:06 a167fa6f2d67 Coach[754] INFO PITTING AGAINST PREVIOUS VERSION\n",
            "Arena.playGames (1): 100%|██████████| 10/10 [05:59<00:00, 35.92s/it]\n",
            "Arena.playGames (2): 100%|██████████| 10/10 [08:09<00:00, 48.92s/it]\n",
            "2024-01-04 18:30:15 a167fa6f2d67 Coach[754] INFO NEW/PREV WINS : 17 / 2 ; DRAWS : 1\n",
            "2024-01-04 18:30:15 a167fa6f2d67 Coach[754] INFO ACCEPTING NEW MODEL\n"
          ]
        },
        {
          "name": "stdout",
          "output_type": "stream",
          "text": [
            "Checkpoint Directory exists! \n",
            "Checkpoint Directory exists! \n"
          ]
        },
        {
          "name": "stderr",
          "output_type": "stream",
          "text": [
            "2024-01-04 18:30:16 a167fa6f2d67 Coach[754] INFO Starting Iter #7 ...\n",
            "Self Play: 100%|██████████| 25/25 [11:10<00:00, 26.83s/it]\n"
          ]
        },
        {
          "name": "stdout",
          "output_type": "stream",
          "text": [
            "Checkpoint Directory exists! \n",
            "Epoch 1/10\n",
            "430/430 [==============================] - 58s 134ms/step - loss: 0.8475 - pi_loss: 0.4998 - v_loss: 0.3477\n",
            "Epoch 2/10\n",
            "430/430 [==============================] - 59s 138ms/step - loss: 0.7730 - pi_loss: 0.4530 - v_loss: 0.3200\n",
            "Epoch 3/10\n",
            "430/430 [==============================] - 55s 127ms/step - loss: 0.7386 - pi_loss: 0.4321 - v_loss: 0.3065\n",
            "Epoch 4/10\n",
            "430/430 [==============================] - 56s 130ms/step - loss: 0.7167 - pi_loss: 0.4215 - v_loss: 0.2952\n",
            "Epoch 5/10\n",
            "430/430 [==============================] - 56s 131ms/step - loss: 0.7022 - pi_loss: 0.4150 - v_loss: 0.2872\n",
            "Epoch 6/10\n",
            "430/430 [==============================] - 55s 128ms/step - loss: 0.6869 - pi_loss: 0.4091 - v_loss: 0.2777\n",
            "Epoch 7/10\n",
            "430/430 [==============================] - 60s 139ms/step - loss: 0.6831 - pi_loss: 0.4084 - v_loss: 0.2747\n",
            "Epoch 8/10\n",
            "430/430 [==============================] - 65s 150ms/step - loss: 0.6745 - pi_loss: 0.4035 - v_loss: 0.2711\n",
            "Epoch 9/10\n",
            "430/430 [==============================] - 66s 153ms/step - loss: 0.6670 - pi_loss: 0.4009 - v_loss: 0.2661\n",
            "Epoch 10/10\n",
            "430/430 [==============================] - 56s 130ms/step - loss: 0.6627 - pi_loss: 0.3980 - v_loss: 0.2648\n"
          ]
        },
        {
          "name": "stderr",
          "output_type": "stream",
          "text": [
            "2024-01-04 18:51:53 a167fa6f2d67 Coach[754] INFO PITTING AGAINST PREVIOUS VERSION\n",
            "Arena.playGames (1): 100%|██████████| 10/10 [08:56<00:00, 53.68s/it]\n",
            "Arena.playGames (2): 100%|██████████| 10/10 [03:31<00:00, 21.15s/it]\n",
            "2024-01-04 19:04:21 a167fa6f2d67 Coach[754] INFO NEW/PREV WINS : 13 / 7 ; DRAWS : 0\n",
            "2024-01-04 19:04:21 a167fa6f2d67 Coach[754] INFO ACCEPTING NEW MODEL\n"
          ]
        },
        {
          "name": "stdout",
          "output_type": "stream",
          "text": [
            "Checkpoint Directory exists! \n",
            "Checkpoint Directory exists! \n"
          ]
        },
        {
          "name": "stderr",
          "output_type": "stream",
          "text": [
            "2024-01-04 19:04:22 a167fa6f2d67 Coach[754] INFO Starting Iter #8 ...\n",
            "Self Play: 100%|██████████| 25/25 [07:41<00:00, 18.47s/it]\n"
          ]
        },
        {
          "name": "stdout",
          "output_type": "stream",
          "text": [
            "Checkpoint Directory exists! \n",
            "Epoch 1/10\n",
            "477/477 [==============================] - 64s 134ms/step - loss: 0.7284 - pi_loss: 0.4344 - v_loss: 0.2940\n",
            "Epoch 2/10\n",
            "477/477 [==============================] - 63s 131ms/step - loss: 0.6888 - pi_loss: 0.4092 - v_loss: 0.2795\n",
            "Epoch 3/10\n",
            "477/477 [==============================] - 66s 139ms/step - loss: 0.6761 - pi_loss: 0.4023 - v_loss: 0.2738\n",
            "Epoch 4/10\n",
            "477/477 [==============================] - 64s 135ms/step - loss: 0.6709 - pi_loss: 0.3991 - v_loss: 0.2718\n",
            "Epoch 5/10\n",
            "477/477 [==============================] - 62s 130ms/step - loss: 0.6664 - pi_loss: 0.3958 - v_loss: 0.2706\n",
            "Epoch 6/10\n",
            "477/477 [==============================] - 62s 130ms/step - loss: 0.6624 - pi_loss: 0.3941 - v_loss: 0.2683\n",
            "Epoch 7/10\n",
            "477/477 [==============================] - 62s 131ms/step - loss: 0.6563 - pi_loss: 0.3895 - v_loss: 0.2668\n",
            "Epoch 8/10\n",
            "477/477 [==============================] - 63s 131ms/step - loss: 0.6563 - pi_loss: 0.3913 - v_loss: 0.2650\n",
            "Epoch 9/10\n",
            "477/477 [==============================] - 61s 128ms/step - loss: 0.6493 - pi_loss: 0.3883 - v_loss: 0.2610\n",
            "Epoch 10/10\n",
            "477/477 [==============================] - 62s 129ms/step - loss: 0.6508 - pi_loss: 0.3888 - v_loss: 0.2620\n"
          ]
        },
        {
          "name": "stderr",
          "output_type": "stream",
          "text": [
            "2024-01-04 19:22:38 a167fa6f2d67 Coach[754] INFO PITTING AGAINST PREVIOUS VERSION\n",
            "Arena.playGames (1): 100%|██████████| 10/10 [06:28<00:00, 38.83s/it]\n",
            "Arena.playGames (2): 100%|██████████| 10/10 [05:07<00:00, 30.73s/it]\n",
            "2024-01-04 19:34:14 a167fa6f2d67 Coach[754] INFO NEW/PREV WINS : 6 / 7 ; DRAWS : 7\n",
            "2024-01-04 19:34:14 a167fa6f2d67 Coach[754] INFO REJECTING NEW MODEL\n",
            "2024-01-04 19:34:15 a167fa6f2d67 Coach[754] INFO Starting Iter #9 ...\n",
            "Self Play: 100%|██████████| 25/25 [10:12<00:00, 24.49s/it]\n"
          ]
        },
        {
          "name": "stdout",
          "output_type": "stream",
          "text": [
            "Checkpoint Directory exists! \n",
            "Epoch 1/10\n",
            "536/536 [==============================] - 72s 131ms/step - loss: 0.7873 - pi_loss: 0.4725 - v_loss: 0.3148\n",
            "Epoch 2/10\n",
            "536/536 [==============================] - 69s 129ms/step - loss: 0.7264 - pi_loss: 0.4286 - v_loss: 0.2979\n",
            "Epoch 3/10\n",
            "536/536 [==============================] - 70s 130ms/step - loss: 0.7043 - pi_loss: 0.4139 - v_loss: 0.2904\n",
            "Epoch 4/10\n",
            "536/536 [==============================] - 68s 126ms/step - loss: 0.6904 - pi_loss: 0.4096 - v_loss: 0.2809\n",
            "Epoch 5/10\n",
            "536/536 [==============================] - 70s 130ms/step - loss: 0.6836 - pi_loss: 0.4039 - v_loss: 0.2797\n",
            "Epoch 6/10\n",
            "536/536 [==============================] - 70s 131ms/step - loss: 0.6745 - pi_loss: 0.4017 - v_loss: 0.2728\n",
            "Epoch 7/10\n",
            "536/536 [==============================] - 70s 130ms/step - loss: 0.6713 - pi_loss: 0.3979 - v_loss: 0.2734\n",
            "Epoch 8/10\n",
            "536/536 [==============================] - 70s 130ms/step - loss: 0.6648 - pi_loss: 0.3958 - v_loss: 0.2690\n",
            "Epoch 9/10\n",
            "536/536 [==============================] - 68s 128ms/step - loss: 0.6640 - pi_loss: 0.3958 - v_loss: 0.2682\n",
            "Epoch 10/10\n",
            "536/536 [==============================] - 71s 132ms/step - loss: 0.6600 - pi_loss: 0.3940 - v_loss: 0.2660\n"
          ]
        },
        {
          "name": "stderr",
          "output_type": "stream",
          "text": [
            "2024-01-04 19:56:56 a167fa6f2d67 Coach[754] INFO PITTING AGAINST PREVIOUS VERSION\n",
            "Arena.playGames (1): 100%|██████████| 10/10 [06:31<00:00, 39.15s/it]\n",
            "Arena.playGames (2): 100%|██████████| 10/10 [11:11<00:00, 67.15s/it]\n",
            "2024-01-04 20:14:39 a167fa6f2d67 Coach[754] INFO NEW/PREV WINS : 10 / 10 ; DRAWS : 0\n",
            "2024-01-04 20:14:39 a167fa6f2d67 Coach[754] INFO REJECTING NEW MODEL\n",
            "2024-01-04 20:14:40 a167fa6f2d67 Coach[754] INFO Starting Iter #10 ...\n",
            "Self Play: 100%|██████████| 25/25 [09:43<00:00, 23.35s/it]\n"
          ]
        },
        {
          "name": "stdout",
          "output_type": "stream",
          "text": [
            "Checkpoint Directory exists! \n",
            "Epoch 1/10\n",
            "591/591 [==============================] - 78s 129ms/step - loss: 0.8893 - pi_loss: 0.4928 - v_loss: 0.3966\n",
            "Epoch 2/10\n",
            "591/591 [==============================] - 77s 130ms/step - loss: 0.7988 - pi_loss: 0.4403 - v_loss: 0.3585\n",
            "Epoch 3/10\n",
            "591/591 [==============================] - 78s 132ms/step - loss: 0.7637 - pi_loss: 0.4225 - v_loss: 0.3412\n",
            "Epoch 4/10\n",
            "591/591 [==============================] - 76s 129ms/step - loss: 0.7450 - pi_loss: 0.4130 - v_loss: 0.3321\n",
            "Epoch 5/10\n",
            "591/591 [==============================] - 78s 131ms/step - loss: 0.7314 - pi_loss: 0.4068 - v_loss: 0.3246\n",
            "Epoch 6/10\n",
            "591/591 [==============================] - 79s 134ms/step - loss: 0.7206 - pi_loss: 0.4032 - v_loss: 0.3175\n",
            "Epoch 7/10\n",
            "591/591 [==============================] - 79s 134ms/step - loss: 0.7170 - pi_loss: 0.4030 - v_loss: 0.3140\n",
            "Epoch 8/10\n",
            "591/591 [==============================] - 77s 130ms/step - loss: 0.7086 - pi_loss: 0.3985 - v_loss: 0.3100\n",
            "Epoch 9/10\n",
            "591/591 [==============================] - 78s 132ms/step - loss: 0.6989 - pi_loss: 0.3950 - v_loss: 0.3038\n",
            "Epoch 10/10\n",
            "591/591 [==============================] - 77s 131ms/step - loss: 0.6971 - pi_loss: 0.3935 - v_loss: 0.3036\n"
          ]
        },
        {
          "name": "stderr",
          "output_type": "stream",
          "text": [
            "2024-01-04 20:37:52 a167fa6f2d67 Coach[754] INFO PITTING AGAINST PREVIOUS VERSION\n",
            "Arena.playGames (1): 100%|██████████| 10/10 [05:40<00:00, 34.03s/it]\n",
            "Arena.playGames (2): 100%|██████████| 10/10 [07:53<00:00, 47.36s/it]\n",
            "2024-01-04 20:51:26 a167fa6f2d67 Coach[754] INFO NEW/PREV WINS : 13 / 5 ; DRAWS : 2\n",
            "2024-01-04 20:51:26 a167fa6f2d67 Coach[754] INFO ACCEPTING NEW MODEL\n"
          ]
        },
        {
          "name": "stdout",
          "output_type": "stream",
          "text": [
            "Checkpoint Directory exists! \n",
            "Checkpoint Directory exists! \n"
          ]
        },
        {
          "name": "stderr",
          "output_type": "stream",
          "text": [
            "2024-01-04 20:51:27 a167fa6f2d67 Coach[754] INFO Starting Iter #11 ...\n",
            "Self Play: 100%|██████████| 25/25 [13:09<00:00, 31.58s/it]\n"
          ]
        },
        {
          "name": "stdout",
          "output_type": "stream",
          "text": [
            "Checkpoint Directory exists! \n",
            "Epoch 1/10\n",
            "662/662 [==============================] - 85s 129ms/step - loss: 0.8360 - pi_loss: 0.4779 - v_loss: 0.3582\n",
            "Epoch 2/10\n",
            "662/662 [==============================] - 87s 131ms/step - loss: 0.7634 - pi_loss: 0.4310 - v_loss: 0.3324\n",
            "Epoch 3/10\n",
            "662/662 [==============================] - 87s 132ms/step - loss: 0.7344 - pi_loss: 0.4171 - v_loss: 0.3173\n",
            "Epoch 4/10\n",
            "662/662 [==============================] - 86s 131ms/step - loss: 0.7155 - pi_loss: 0.4092 - v_loss: 0.3062\n",
            "Epoch 5/10\n",
            "662/662 [==============================] - 85s 128ms/step - loss: 0.7048 - pi_loss: 0.4045 - v_loss: 0.3003\n",
            "Epoch 6/10\n",
            "662/662 [==============================] - 86s 130ms/step - loss: 0.6999 - pi_loss: 0.4012 - v_loss: 0.2987\n",
            "Epoch 7/10\n",
            "662/662 [==============================] - 86s 129ms/step - loss: 0.6952 - pi_loss: 0.3987 - v_loss: 0.2965\n",
            "Epoch 8/10\n",
            "662/662 [==============================] - 87s 131ms/step - loss: 0.6875 - pi_loss: 0.3967 - v_loss: 0.2909\n",
            "Epoch 9/10\n",
            "662/662 [==============================] - 86s 130ms/step - loss: 0.6855 - pi_loss: 0.3959 - v_loss: 0.2896\n",
            "Epoch 10/10\n",
            "662/662 [==============================] - 85s 128ms/step - loss: 0.6833 - pi_loss: 0.3956 - v_loss: 0.2878\n"
          ]
        },
        {
          "name": "stderr",
          "output_type": "stream",
          "text": [
            "2024-01-04 21:19:04 a167fa6f2d67 Coach[754] INFO PITTING AGAINST PREVIOUS VERSION\n",
            "Arena.playGames (1): 100%|██████████| 10/10 [08:34<00:00, 51.42s/it]\n",
            "Arena.playGames (2): 100%|██████████| 10/10 [08:27<00:00, 50.71s/it]\n",
            "2024-01-04 21:36:05 a167fa6f2d67 Coach[754] INFO NEW/PREV WINS : 8 / 11 ; DRAWS : 1\n",
            "2024-01-04 21:36:05 a167fa6f2d67 Coach[754] INFO REJECTING NEW MODEL\n",
            "2024-01-04 21:36:06 a167fa6f2d67 Coach[754] INFO Starting Iter #12 ...\n",
            "Self Play: 100%|██████████| 25/25 [07:39<00:00, 18.37s/it]\n"
          ]
        },
        {
          "name": "stdout",
          "output_type": "stream",
          "text": [
            "Checkpoint Directory exists! \n",
            "Epoch 1/10\n",
            "708/708 [==============================] - 95s 132ms/step - loss: 0.8436 - pi_loss: 0.4923 - v_loss: 0.3513\n",
            "Epoch 2/10\n",
            "708/708 [==============================] - 94s 133ms/step - loss: 0.7660 - pi_loss: 0.4422 - v_loss: 0.3237\n",
            "Epoch 3/10\n",
            "708/708 [==============================] - 94s 133ms/step - loss: 0.7343 - pi_loss: 0.4247 - v_loss: 0.3097\n",
            "Epoch 4/10\n",
            "708/708 [==============================] - 93s 132ms/step - loss: 0.7149 - pi_loss: 0.4137 - v_loss: 0.3011\n",
            "Epoch 5/10\n",
            "708/708 [==============================] - 93s 131ms/step - loss: 0.7043 - pi_loss: 0.4087 - v_loss: 0.2956\n",
            "Epoch 6/10\n",
            "708/708 [==============================] - 93s 131ms/step - loss: 0.7004 - pi_loss: 0.4078 - v_loss: 0.2926\n",
            "Epoch 7/10\n",
            "708/708 [==============================] - 93s 132ms/step - loss: 0.6904 - pi_loss: 0.4026 - v_loss: 0.2878\n",
            "Epoch 8/10\n",
            "708/708 [==============================] - 93s 131ms/step - loss: 0.6840 - pi_loss: 0.3985 - v_loss: 0.2855\n",
            "Epoch 9/10\n",
            "708/708 [==============================] - 94s 133ms/step - loss: 0.6810 - pi_loss: 0.3977 - v_loss: 0.2833\n",
            "Epoch 10/10\n",
            "708/708 [==============================] - 94s 132ms/step - loss: 0.6802 - pi_loss: 0.3974 - v_loss: 0.2828\n"
          ]
        },
        {
          "name": "stderr",
          "output_type": "stream",
          "text": [
            "2024-01-04 21:59:26 a167fa6f2d67 Coach[754] INFO PITTING AGAINST PREVIOUS VERSION\n",
            "Arena.playGames (1): 100%|██████████| 10/10 [06:06<00:00, 36.62s/it]\n",
            "Arena.playGames (2): 100%|██████████| 10/10 [06:28<00:00, 38.82s/it]\n",
            "2024-01-04 22:12:00 a167fa6f2d67 Coach[754] INFO NEW/PREV WINS : 6 / 13 ; DRAWS : 1\n",
            "2024-01-04 22:12:00 a167fa6f2d67 Coach[754] INFO REJECTING NEW MODEL\n",
            "2024-01-04 22:12:02 a167fa6f2d67 Coach[754] INFO Starting Iter #13 ...\n",
            "Self Play: 100%|██████████| 25/25 [10:26<00:00, 25.05s/it]\n"
          ]
        },
        {
          "name": "stdout",
          "output_type": "stream",
          "text": [
            "Checkpoint Directory exists! \n",
            "Epoch 1/10\n",
            "765/765 [==============================] - 102s 132ms/step - loss: 0.8889 - pi_loss: 0.5116 - v_loss: 0.3773\n",
            "Epoch 2/10\n",
            "765/765 [==============================] - 98s 128ms/step - loss: 0.7849 - pi_loss: 0.4451 - v_loss: 0.3398\n",
            "Epoch 3/10\n",
            "765/765 [==============================] - 96s 125ms/step - loss: 0.7510 - pi_loss: 0.4269 - v_loss: 0.3242\n",
            "Epoch 4/10\n",
            "765/765 [==============================] - 99s 129ms/step - loss: 0.7287 - pi_loss: 0.4171 - v_loss: 0.3116\n",
            "Epoch 5/10\n",
            "765/765 [==============================] - 96s 125ms/step - loss: 0.7169 - pi_loss: 0.4103 - v_loss: 0.3066\n",
            "Epoch 6/10\n",
            "765/765 [==============================] - 97s 127ms/step - loss: 0.7066 - pi_loss: 0.4057 - v_loss: 0.3010\n",
            "Epoch 7/10\n",
            "765/765 [==============================] - 94s 123ms/step - loss: 0.7002 - pi_loss: 0.4019 - v_loss: 0.2983\n",
            "Epoch 8/10\n",
            "765/765 [==============================] - 94s 123ms/step - loss: 0.6930 - pi_loss: 0.3998 - v_loss: 0.2932\n",
            "Epoch 9/10\n",
            "765/765 [==============================] - 96s 125ms/step - loss: 0.6913 - pi_loss: 0.3980 - v_loss: 0.2933\n",
            "Epoch 10/10\n",
            "765/765 [==============================] - 98s 129ms/step - loss: 0.6866 - pi_loss: 0.3962 - v_loss: 0.2905\n"
          ]
        },
        {
          "name": "stderr",
          "output_type": "stream",
          "text": [
            "2024-01-04 22:38:57 a167fa6f2d67 Coach[754] INFO PITTING AGAINST PREVIOUS VERSION\n",
            "Arena.playGames (1): 100%|██████████| 10/10 [05:28<00:00, 32.83s/it]\n",
            "Arena.playGames (2): 100%|██████████| 10/10 [03:33<00:00, 21.33s/it]\n",
            "2024-01-04 22:47:59 a167fa6f2d67 Coach[754] INFO NEW/PREV WINS : 2 / 10 ; DRAWS : 8\n",
            "2024-01-04 22:47:59 a167fa6f2d67 Coach[754] INFO REJECTING NEW MODEL\n",
            "2024-01-04 22:48:00 a167fa6f2d67 Coach[754] INFO Starting Iter #14 ...\n",
            "Self Play: 100%|██████████| 25/25 [13:43<00:00, 32.94s/it]\n"
          ]
        },
        {
          "name": "stdout",
          "output_type": "stream",
          "text": [
            "Checkpoint Directory exists! \n",
            "Epoch 1/10\n",
            "839/839 [==============================] - 108s 127ms/step - loss: 0.9877 - pi_loss: 0.5481 - v_loss: 0.4395\n",
            "Epoch 2/10\n",
            "839/839 [==============================] - 114s 135ms/step - loss: 0.8570 - pi_loss: 0.4696 - v_loss: 0.3874\n",
            "Epoch 3/10\n",
            "839/839 [==============================] - 117s 139ms/step - loss: 0.8001 - pi_loss: 0.4380 - v_loss: 0.3620\n",
            "Epoch 4/10\n",
            "839/839 [==============================] - 116s 139ms/step - loss: 0.7762 - pi_loss: 0.4272 - v_loss: 0.3490\n",
            "Epoch 5/10\n",
            "839/839 [==============================] - 114s 135ms/step - loss: 0.7550 - pi_loss: 0.4179 - v_loss: 0.3371\n",
            "Epoch 6/10\n",
            "839/839 [==============================] - 114s 135ms/step - loss: 0.7430 - pi_loss: 0.4107 - v_loss: 0.3323\n",
            "Epoch 7/10\n",
            "839/839 [==============================] - 114s 136ms/step - loss: 0.7339 - pi_loss: 0.4069 - v_loss: 0.3270\n",
            "Epoch 8/10\n",
            "839/839 [==============================] - 114s 135ms/step - loss: 0.7254 - pi_loss: 0.4036 - v_loss: 0.3217\n",
            "Epoch 9/10\n",
            "839/839 [==============================] - 115s 137ms/step - loss: 0.7217 - pi_loss: 0.4014 - v_loss: 0.3204\n",
            "Epoch 10/10\n",
            "839/839 [==============================] - 116s 139ms/step - loss: 0.7139 - pi_loss: 0.3984 - v_loss: 0.3155\n"
          ]
        },
        {
          "name": "stderr",
          "output_type": "stream",
          "text": [
            "2024-01-04 23:21:14 a167fa6f2d67 Coach[754] INFO PITTING AGAINST PREVIOUS VERSION\n",
            "Arena.playGames (1): 100%|██████████| 10/10 [08:04<00:00, 48.44s/it]\n",
            "Arena.playGames (2): 100%|██████████| 10/10 [04:56<00:00, 29.64s/it]\n",
            "2024-01-04 23:34:15 a167fa6f2d67 Coach[754] INFO NEW/PREV WINS : 10 / 9 ; DRAWS : 1\n",
            "2024-01-04 23:34:15 a167fa6f2d67 Coach[754] INFO REJECTING NEW MODEL\n",
            "2024-01-04 23:34:17 a167fa6f2d67 Coach[754] INFO Starting Iter #15 ...\n",
            "Self Play: 100%|██████████| 25/25 [08:51<00:00, 21.26s/it]\n"
          ]
        },
        {
          "name": "stdout",
          "output_type": "stream",
          "text": [
            "Checkpoint Directory exists! \n",
            "Epoch 1/10\n",
            "887/887 [==============================] - 123s 137ms/step - loss: 1.0066 - pi_loss: 0.5634 - v_loss: 0.4432\n",
            "Epoch 2/10\n",
            "887/887 [==============================] - 124s 140ms/step - loss: 0.8654 - pi_loss: 0.4783 - v_loss: 0.3872\n",
            "Epoch 3/10\n",
            "887/887 [==============================] - 121s 136ms/step - loss: 0.8149 - pi_loss: 0.4504 - v_loss: 0.3645\n",
            "Epoch 4/10\n",
            "887/887 [==============================] - 126s 142ms/step - loss: 0.7834 - pi_loss: 0.4329 - v_loss: 0.3505\n",
            "Epoch 5/10\n",
            "887/887 [==============================] - 128s 145ms/step - loss: 0.7620 - pi_loss: 0.4225 - v_loss: 0.3394\n",
            "Epoch 6/10\n",
            "887/887 [==============================] - 130s 147ms/step - loss: 0.7472 - pi_loss: 0.4158 - v_loss: 0.3314\n",
            "Epoch 7/10\n",
            "887/887 [==============================] - 125s 141ms/step - loss: 0.7359 - pi_loss: 0.4083 - v_loss: 0.3275\n",
            "Epoch 8/10\n",
            "887/887 [==============================] - 116s 131ms/step - loss: 0.7252 - pi_loss: 0.4040 - v_loss: 0.3212\n",
            "Epoch 9/10\n",
            "887/887 [==============================] - 116s 131ms/step - loss: 0.7197 - pi_loss: 0.4025 - v_loss: 0.3172\n",
            "Epoch 10/10\n",
            "887/887 [==============================] - 115s 130ms/step - loss: 0.7155 - pi_loss: 0.4016 - v_loss: 0.3139\n"
          ]
        },
        {
          "name": "stderr",
          "output_type": "stream",
          "text": [
            "2024-01-05 00:04:40 a167fa6f2d67 Coach[754] INFO PITTING AGAINST PREVIOUS VERSION\n",
            "Arena.playGames (1): 100%|██████████| 10/10 [07:54<00:00, 47.40s/it]\n",
            "Arena.playGames (2): 100%|██████████| 10/10 [09:32<00:00, 57.23s/it]\n",
            "2024-01-05 00:22:06 a167fa6f2d67 Coach[754] INFO NEW/PREV WINS : 9 / 10 ; DRAWS : 1\n",
            "2024-01-05 00:22:06 a167fa6f2d67 Coach[754] INFO REJECTING NEW MODEL\n",
            "2024-01-05 00:22:08 a167fa6f2d67 Coach[754] INFO Starting Iter #16 ...\n",
            "Self Play: 100%|██████████| 25/25 [10:13<00:00, 24.56s/it]\n"
          ]
        },
        {
          "name": "stdout",
          "output_type": "stream",
          "text": [
            "Checkpoint Directory exists! \n",
            "Epoch 1/10\n",
            "949/949 [==============================] - 125s 130ms/step - loss: 1.0408 - pi_loss: 0.5773 - v_loss: 0.4635\n",
            "Epoch 2/10\n",
            "949/949 [==============================] - 124s 131ms/step - loss: 0.8906 - pi_loss: 0.4857 - v_loss: 0.4049\n",
            "Epoch 3/10\n",
            "949/949 [==============================] - 125s 132ms/step - loss: 0.8330 - pi_loss: 0.4544 - v_loss: 0.3786\n",
            "Epoch 4/10\n",
            "949/949 [==============================] - 123s 129ms/step - loss: 0.7957 - pi_loss: 0.4364 - v_loss: 0.3593\n",
            "Epoch 5/10\n",
            "949/949 [==============================] - 123s 130ms/step - loss: 0.7715 - pi_loss: 0.4247 - v_loss: 0.3468\n",
            "Epoch 6/10\n",
            "949/949 [==============================] - 128s 135ms/step - loss: 0.7553 - pi_loss: 0.4172 - v_loss: 0.3381\n",
            "Epoch 7/10\n",
            "949/949 [==============================] - 126s 133ms/step - loss: 0.7427 - pi_loss: 0.4104 - v_loss: 0.3324\n",
            "Epoch 8/10\n",
            "949/949 [==============================] - 126s 133ms/step - loss: 0.7341 - pi_loss: 0.4081 - v_loss: 0.3261\n",
            "Epoch 9/10\n",
            "949/949 [==============================] - 124s 130ms/step - loss: 0.7304 - pi_loss: 0.4070 - v_loss: 0.3234\n",
            "Epoch 10/10\n",
            "949/949 [==============================] - 124s 131ms/step - loss: 0.7193 - pi_loss: 0.3994 - v_loss: 0.3199\n"
          ]
        },
        {
          "name": "stderr",
          "output_type": "stream",
          "text": [
            "2024-01-05 00:53:54 a167fa6f2d67 Coach[754] INFO PITTING AGAINST PREVIOUS VERSION\n",
            "Arena.playGames (1): 100%|██████████| 10/10 [07:44<00:00, 46.40s/it]\n",
            "Arena.playGames (2): 100%|██████████| 10/10 [06:53<00:00, 41.39s/it]\n",
            "2024-01-05 01:08:32 a167fa6f2d67 Coach[754] INFO NEW/PREV WINS : 15 / 4 ; DRAWS : 1\n",
            "2024-01-05 01:08:32 a167fa6f2d67 Coach[754] INFO ACCEPTING NEW MODEL\n"
          ]
        },
        {
          "name": "stdout",
          "output_type": "stream",
          "text": [
            "Checkpoint Directory exists! \n",
            "Checkpoint Directory exists! \n"
          ]
        },
        {
          "name": "stderr",
          "output_type": "stream",
          "text": [
            "2024-01-05 01:08:33 a167fa6f2d67 Coach[754] INFO Starting Iter #17 ...\n",
            "Self Play: 100%|██████████| 25/25 [10:24<00:00, 24.99s/it]\n"
          ]
        },
        {
          "name": "stdout",
          "output_type": "stream",
          "text": [
            "Checkpoint Directory exists! \n",
            "Epoch 1/10\n",
            "1009/1009 [==============================] - 142s 141ms/step - loss: 0.7881 - pi_loss: 0.4439 - v_loss: 0.3442\n",
            "Epoch 2/10\n",
            "1009/1009 [==============================] - 138s 137ms/step - loss: 0.7542 - pi_loss: 0.4199 - v_loss: 0.3343\n",
            "Epoch 3/10\n",
            "1009/1009 [==============================] - 138s 137ms/step - loss: 0.7374 - pi_loss: 0.4118 - v_loss: 0.3255\n",
            "Epoch 4/10\n",
            "1009/1009 [==============================] - 137s 136ms/step - loss: 0.7303 - pi_loss: 0.4084 - v_loss: 0.3219\n",
            "Epoch 5/10\n",
            "1009/1009 [==============================] - 137s 135ms/step - loss: 0.7235 - pi_loss: 0.4065 - v_loss: 0.3170\n",
            "Epoch 6/10\n",
            "1009/1009 [==============================] - 136s 135ms/step - loss: 0.7146 - pi_loss: 0.4031 - v_loss: 0.3116\n",
            "Epoch 7/10\n",
            "1009/1009 [==============================] - 132s 131ms/step - loss: 0.7132 - pi_loss: 0.4019 - v_loss: 0.3113\n",
            "Epoch 8/10\n",
            "1009/1009 [==============================] - 131s 130ms/step - loss: 0.7079 - pi_loss: 0.3999 - v_loss: 0.3080\n",
            "Epoch 9/10\n",
            "1009/1009 [==============================] - 132s 131ms/step - loss: 0.7046 - pi_loss: 0.3992 - v_loss: 0.3054\n",
            "Epoch 10/10\n",
            "1009/1009 [==============================] - 134s 133ms/step - loss: 0.7006 - pi_loss: 0.3960 - v_loss: 0.3046\n"
          ]
        },
        {
          "name": "stderr",
          "output_type": "stream",
          "text": [
            "2024-01-05 01:42:29 a167fa6f2d67 Coach[754] INFO PITTING AGAINST PREVIOUS VERSION\n",
            "Arena.playGames (1): 100%|██████████| 10/10 [09:13<00:00, 55.39s/it]\n",
            "Arena.playGames (2): 100%|██████████| 10/10 [09:09<00:00, 54.92s/it]\n",
            "2024-01-05 02:00:52 a167fa6f2d67 Coach[754] INFO NEW/PREV WINS : 8 / 11 ; DRAWS : 1\n",
            "2024-01-05 02:00:52 a167fa6f2d67 Coach[754] INFO REJECTING NEW MODEL\n",
            "2024-01-05 02:00:54 a167fa6f2d67 Coach[754] INFO Starting Iter #18 ...\n",
            "Self Play: 100%|██████████| 25/25 [11:39<00:00, 28.00s/it]\n"
          ]
        },
        {
          "name": "stdout",
          "output_type": "stream",
          "text": [
            "Checkpoint Directory exists! \n",
            "Epoch 1/10\n",
            "1067/1067 [==============================] - 139s 128ms/step - loss: 0.8438 - pi_loss: 0.4713 - v_loss: 0.3725\n",
            "Epoch 2/10\n",
            "1067/1067 [==============================] - 131s 122ms/step - loss: 0.7918 - pi_loss: 0.4386 - v_loss: 0.3532\n",
            "Epoch 3/10\n",
            "1067/1067 [==============================] - 135s 127ms/step - loss: 0.7694 - pi_loss: 0.4264 - v_loss: 0.3431\n",
            "Epoch 4/10\n",
            "1067/1067 [==============================] - 133s 125ms/step - loss: 0.7535 - pi_loss: 0.4198 - v_loss: 0.3337\n",
            "Epoch 5/10\n",
            "1067/1067 [==============================] - 129s 121ms/step - loss: 0.7445 - pi_loss: 0.4167 - v_loss: 0.3278\n",
            "Epoch 6/10\n",
            "1067/1067 [==============================] - 129s 121ms/step - loss: 0.7351 - pi_loss: 0.4122 - v_loss: 0.3229\n",
            "Epoch 7/10\n",
            "1067/1067 [==============================] - 127s 119ms/step - loss: 0.7292 - pi_loss: 0.4098 - v_loss: 0.3193\n",
            "Epoch 8/10\n",
            "1067/1067 [==============================] - 128s 120ms/step - loss: 0.7254 - pi_loss: 0.4077 - v_loss: 0.3177\n",
            "Epoch 9/10\n",
            "1067/1067 [==============================] - 127s 119ms/step - loss: 0.7193 - pi_loss: 0.4053 - v_loss: 0.3140\n",
            "Epoch 10/10\n",
            "1067/1067 [==============================] - 128s 120ms/step - loss: 0.7166 - pi_loss: 0.4037 - v_loss: 0.3129\n"
          ]
        },
        {
          "name": "stderr",
          "output_type": "stream",
          "text": [
            "2024-01-05 02:35:07 a167fa6f2d67 Coach[754] INFO PITTING AGAINST PREVIOUS VERSION\n",
            "Arena.playGames (1): 100%|██████████| 10/10 [07:48<00:00, 46.80s/it]\n",
            "Arena.playGames (2): 100%|██████████| 10/10 [08:59<00:00, 53.95s/it]\n",
            "2024-01-05 02:51:55 a167fa6f2d67 Coach[754] INFO NEW/PREV WINS : 11 / 9 ; DRAWS : 0\n",
            "2024-01-05 02:51:55 a167fa6f2d67 Coach[754] INFO REJECTING NEW MODEL\n",
            "2024-01-05 02:51:56 a167fa6f2d67 Coach[754] INFO Starting Iter #19 ...\n",
            "Self Play:  20%|██        | 5/25 [00:53<04:11, 12.55s/it]"
          ]
        }
      ],
      "source": [
        "args = dotdict({\n",
        "    'numIters':20,\n",
        "    'numEps': 25,              # Number of complete self-play games to simulate during a new iteration.\n",
        "    'tempThreshold': 15,        #\n",
        "    'updateThreshold': 0.6,     # During arena playoff, new neural net will be accepted if threshold or more of games are won.\n",
        "    'maxlenOfQueue': 50000,    # Number of game examples to train the neural networks.\n",
        "    'numMCTSSims': 25,          # Number of games moves for MCTS to simulate.\n",
        "    'arenaCompare': 20,         # Number of games to play during arena play to determine if new net will be accepted.\n",
        "    'cpuct': 1,\n",
        "\n",
        "    'checkpoint': '/content/drive/MyDrive/trabalho2_liacd/models/ataxx/5x5',\n",
        "    'load_model': True,\n",
        "    'load_folder_file': ('/content/drive/MyDrive/trabalho2_liacd/models/ataxx/5x5', 'best.h5'),\n",
        "    'numItersForTrainExamplesHistory': 20,\n",
        "\n",
        "})\n",
        "\n",
        "\n",
        "log.info('Loading %s...', Game.__name__)\n",
        "g = Game(5)\n",
        "\n",
        "log.info('Loading %s...', nn.__name__)\n",
        "nnet = nn(g)\n",
        "\n",
        "if args.load_model:\n",
        "    log.info('Loading checkpoint \"%s/%s\"...', args.load_folder_file[0], args.load_folder_file[1])\n",
        "    nnet.load_model(args.load_folder_file[0], args.load_folder_file[1])\n",
        "else:\n",
        "    log.warning('Not loading a checkpoint!')\n",
        "\n",
        "log.info('Loading the Coach...')\n",
        "c = Coach(g, nnet, args)\n",
        "\n",
        "if args.load_model:\n",
        "    log.info(\"Loading 'trainExamples' from file...\")\n",
        "    c.loadTrainExamples()\n",
        "\n",
        "log.info('Starting the learning process 🎉')\n",
        "c.learn()\n",
        "\n"
      ]
    },
    {
      "cell_type": "markdown",
      "metadata": {
        "id": "t7RndVP5Ypd5"
      },
      "source": [
        "#Décimo Sexto Treino"
      ]
    },
    {
      "cell_type": "code",
      "execution_count": null,
      "metadata": {
        "colab": {
          "background_save": true,
          "base_uri": "https://localhost:8080/"
        },
        "id": "AzR5kO0pYo6T",
        "outputId": "8f3080c9-68ff-4d69-be8d-a04900405ad6"
      },
      "outputs": [
        {
          "name": "stderr",
          "output_type": "stream",
          "text": [
            "2024-01-06 15:27:27 9187b1b72b1a __main__[206] INFO Loading AtaxxGame...\n",
            "2024-01-06 15:27:27 9187b1b72b1a __main__[206] INFO Loading NNetWrapper...\n",
            "2024-01-06 15:27:27 9187b1b72b1a __main__[206] INFO Loading checkpoint \"/content/drive/MyDrive/trabalho2_liacd/models/ataxx/5x5/best.h5\"...\n",
            "2024-01-06 15:27:29 9187b1b72b1a __main__[206] INFO Loading the Coach...\n",
            "2024-01-06 15:27:30 9187b1b72b1a __main__[206] INFO Loading 'trainExamples' from file...\n",
            "2024-01-06 15:27:30 9187b1b72b1a Coach[206] WARNING File \"/content/drive/MyDrive/trabalho2_liacd/models/ataxx/5x5/best.h5.examples\" with trainExamples not found!\n",
            "2024-01-06 15:27:31 9187b1b72b1a __main__[206] INFO Starting the learning process 🎉\n",
            "2024-01-06 15:27:31 9187b1b72b1a Coach[206] INFO Starting Iter #1 ...\n",
            "Self Play: 100%|██████████| 25/25 [09:50<00:00, 23.61s/it]\n"
          ]
        },
        {
          "name": "stdout",
          "output_type": "stream",
          "text": [
            "Checkpoint Directory exists! \n"
          ]
        },
        {
          "name": "stderr",
          "output_type": "stream",
          "text": [
            "/usr/local/lib/python3.10/dist-packages/keras/src/engine/training.py:3103: UserWarning: You are saving your model as an HDF5 file via `model.save()`. This file format is considered legacy. We recommend using instead the native Keras format, e.g. `model.save('my_model.keras')`.\n",
            "  saving_api.save_model(\n"
          ]
        },
        {
          "name": "stdout",
          "output_type": "stream",
          "text": [
            "Epoch 1/10\n",
            "53/53 [==============================] - 10s 174ms/step - loss: 1.8562 - pi_loss: 1.0649 - v_loss: 0.7913\n",
            "Epoch 2/10\n",
            "53/53 [==============================] - 7s 124ms/step - loss: 1.3573 - pi_loss: 0.7574 - v_loss: 0.6000\n",
            "Epoch 3/10\n",
            "53/53 [==============================] - 9s 169ms/step - loss: 1.1514 - pi_loss: 0.6415 - v_loss: 0.5100\n",
            "Epoch 4/10\n",
            "53/53 [==============================] - 7s 124ms/step - loss: 1.0491 - pi_loss: 0.5820 - v_loss: 0.4671\n",
            "Epoch 5/10\n",
            "53/53 [==============================] - 8s 156ms/step - loss: 0.9435 - pi_loss: 0.5285 - v_loss: 0.4151\n",
            "Epoch 6/10\n",
            "53/53 [==============================] - 8s 143ms/step - loss: 0.8823 - pi_loss: 0.5033 - v_loss: 0.3790\n",
            "Epoch 7/10\n",
            "53/53 [==============================] - 7s 141ms/step - loss: 0.8469 - pi_loss: 0.4910 - v_loss: 0.3559\n",
            "Epoch 8/10\n",
            "53/53 [==============================] - 8s 146ms/step - loss: 0.8218 - pi_loss: 0.4692 - v_loss: 0.3527\n",
            "Epoch 9/10\n",
            "53/53 [==============================] - 7s 128ms/step - loss: 0.7831 - pi_loss: 0.4552 - v_loss: 0.3279\n",
            "Epoch 10/10\n",
            "53/53 [==============================] - 8s 156ms/step - loss: 0.7689 - pi_loss: 0.4487 - v_loss: 0.3202\n"
          ]
        },
        {
          "name": "stderr",
          "output_type": "stream",
          "text": [
            "2024-01-06 15:38:41 9187b1b72b1a Coach[206] INFO PITTING AGAINST PREVIOUS VERSION\n",
            "Arena.playGames (1): 100%|██████████| 10/10 [08:57<00:00, 53.80s/it]\n",
            "Arena.playGames (2): 100%|██████████| 10/10 [09:52<00:00, 59.25s/it]\n",
            "2024-01-06 15:57:32 9187b1b72b1a Coach[206] INFO NEW/PREV WINS : 11 / 7 ; DRAWS : 2\n",
            "2024-01-06 15:57:32 9187b1b72b1a Coach[206] INFO ACCEPTING NEW MODEL\n"
          ]
        },
        {
          "name": "stdout",
          "output_type": "stream",
          "text": [
            "Checkpoint Directory exists! \n",
            "Checkpoint Directory exists! \n"
          ]
        },
        {
          "name": "stderr",
          "output_type": "stream",
          "text": [
            "2024-01-06 15:57:32 9187b1b72b1a Coach[206] INFO Starting Iter #2 ...\n",
            "Self Play: 100%|██████████| 25/25 [08:51<00:00, 21.24s/it]\n"
          ]
        },
        {
          "name": "stdout",
          "output_type": "stream",
          "text": [
            "Checkpoint Directory exists! \n",
            "Epoch 1/10\n",
            "101/101 [==============================] - 14s 137ms/step - loss: 1.1723 - pi_loss: 0.6572 - v_loss: 0.5150\n",
            "Epoch 2/10\n",
            "101/101 [==============================] - 14s 138ms/step - loss: 0.9903 - pi_loss: 0.5522 - v_loss: 0.4381\n",
            "Epoch 3/10\n",
            "101/101 [==============================] - 14s 138ms/step - loss: 0.9217 - pi_loss: 0.5219 - v_loss: 0.3998\n",
            "Epoch 4/10\n",
            "101/101 [==============================] - 14s 140ms/step - loss: 0.8669 - pi_loss: 0.5030 - v_loss: 0.3639\n",
            "Epoch 5/10\n",
            "101/101 [==============================] - 13s 126ms/step - loss: 0.8301 - pi_loss: 0.4834 - v_loss: 0.3467\n",
            "Epoch 6/10\n",
            "101/101 [==============================] - 13s 129ms/step - loss: 0.8085 - pi_loss: 0.4774 - v_loss: 0.3311\n",
            "Epoch 7/10\n",
            "101/101 [==============================] - 14s 137ms/step - loss: 0.7831 - pi_loss: 0.4692 - v_loss: 0.3139\n",
            "Epoch 8/10\n",
            "101/101 [==============================] - 14s 141ms/step - loss: 0.7705 - pi_loss: 0.4658 - v_loss: 0.3047\n",
            "Epoch 9/10\n",
            "101/101 [==============================] - 14s 141ms/step - loss: 0.7566 - pi_loss: 0.4617 - v_loss: 0.2949\n",
            "Epoch 10/10\n",
            "101/101 [==============================] - 15s 148ms/step - loss: 0.7491 - pi_loss: 0.4571 - v_loss: 0.2920\n"
          ]
        },
        {
          "name": "stderr",
          "output_type": "stream",
          "text": [
            "2024-01-06 16:08:48 9187b1b72b1a Coach[206] INFO PITTING AGAINST PREVIOUS VERSION\n",
            "Arena.playGames (1): 100%|██████████| 10/10 [08:27<00:00, 50.79s/it]\n",
            "Arena.playGames (2): 100%|██████████| 10/10 [07:17<00:00, 43.72s/it]\n",
            "2024-01-06 16:24:33 9187b1b72b1a Coach[206] INFO NEW/PREV WINS : 13 / 6 ; DRAWS : 1\n",
            "2024-01-06 16:24:33 9187b1b72b1a Coach[206] INFO ACCEPTING NEW MODEL\n"
          ]
        },
        {
          "name": "stdout",
          "output_type": "stream",
          "text": [
            "Checkpoint Directory exists! \n",
            "Checkpoint Directory exists! \n"
          ]
        },
        {
          "name": "stderr",
          "output_type": "stream",
          "text": [
            "2024-01-06 16:24:34 9187b1b72b1a Coach[206] INFO Starting Iter #3 ...\n",
            "Self Play: 100%|██████████| 25/25 [14:24<00:00, 34.56s/it]\n"
          ]
        },
        {
          "name": "stdout",
          "output_type": "stream",
          "text": [
            "Checkpoint Directory exists! \n",
            "Epoch 1/10\n",
            "184/184 [==============================] - 32s 177ms/step - loss: 1.0791 - pi_loss: 0.5941 - v_loss: 0.4850\n",
            "Epoch 2/10\n",
            "184/184 [==============================] - 26s 141ms/step - loss: 0.8771 - pi_loss: 0.4738 - v_loss: 0.4033\n",
            "Epoch 3/10\n",
            "184/184 [==============================] - 27s 145ms/step - loss: 0.7944 - pi_loss: 0.4415 - v_loss: 0.3529\n",
            "Epoch 4/10\n",
            "184/184 [==============================] - 27s 149ms/step - loss: 0.7485 - pi_loss: 0.4178 - v_loss: 0.3308\n",
            "Epoch 5/10\n",
            "184/184 [==============================] - 25s 138ms/step - loss: 0.7225 - pi_loss: 0.4135 - v_loss: 0.3090\n",
            "Epoch 6/10\n",
            "184/184 [==============================] - 27s 149ms/step - loss: 0.7057 - pi_loss: 0.4068 - v_loss: 0.2989\n",
            "Epoch 7/10\n",
            "184/184 [==============================] - 26s 142ms/step - loss: 0.6843 - pi_loss: 0.3966 - v_loss: 0.2877\n",
            "Epoch 8/10\n",
            "184/184 [==============================] - 26s 142ms/step - loss: 0.6756 - pi_loss: 0.3982 - v_loss: 0.2774\n",
            "Epoch 9/10\n",
            "184/184 [==============================] - 27s 147ms/step - loss: 0.6614 - pi_loss: 0.3904 - v_loss: 0.2709\n",
            "Epoch 10/10\n",
            "184/184 [==============================] - 25s 137ms/step - loss: 0.6543 - pi_loss: 0.3853 - v_loss: 0.2689\n"
          ]
        },
        {
          "name": "stderr",
          "output_type": "stream",
          "text": [
            "2024-01-06 16:44:23 9187b1b72b1a Coach[206] INFO PITTING AGAINST PREVIOUS VERSION\n",
            "Arena.playGames (1): 100%|██████████| 10/10 [08:36<00:00, 51.67s/it]\n",
            "Arena.playGames (2): 100%|██████████| 10/10 [09:14<00:00, 55.43s/it]\n",
            "2024-01-06 17:02:14 9187b1b72b1a Coach[206] INFO NEW/PREV WINS : 9 / 10 ; DRAWS : 1\n",
            "2024-01-06 17:02:14 9187b1b72b1a Coach[206] INFO REJECTING NEW MODEL\n",
            "2024-01-06 17:02:15 9187b1b72b1a Coach[206] INFO Starting Iter #4 ...\n",
            "Self Play: 100%|██████████| 25/25 [12:09<00:00, 29.17s/it]\n"
          ]
        },
        {
          "name": "stdout",
          "output_type": "stream",
          "text": [
            "Checkpoint Directory exists! \n",
            "Epoch 1/10\n",
            "259/259 [==============================] - 36s 134ms/step - loss: 1.0753 - pi_loss: 0.5967 - v_loss: 0.4786\n",
            "Epoch 2/10\n",
            "259/259 [==============================] - 35s 134ms/step - loss: 0.8633 - pi_loss: 0.4806 - v_loss: 0.3827\n",
            "Epoch 3/10\n",
            "259/259 [==============================] - 35s 134ms/step - loss: 0.7859 - pi_loss: 0.4397 - v_loss: 0.3461\n",
            "Epoch 4/10\n",
            "259/259 [==============================] - 35s 134ms/step - loss: 0.7372 - pi_loss: 0.4122 - v_loss: 0.3249\n",
            "Epoch 5/10\n",
            "259/259 [==============================] - 36s 140ms/step - loss: 0.7042 - pi_loss: 0.3955 - v_loss: 0.3087\n",
            "Epoch 6/10\n",
            "259/259 [==============================] - 35s 136ms/step - loss: 0.6740 - pi_loss: 0.3845 - v_loss: 0.2896\n",
            "Epoch 7/10\n",
            "259/259 [==============================] - 34s 133ms/step - loss: 0.6605 - pi_loss: 0.3799 - v_loss: 0.2806\n",
            "Epoch 8/10\n",
            "259/259 [==============================] - 35s 133ms/step - loss: 0.6436 - pi_loss: 0.3734 - v_loss: 0.2702\n",
            "Epoch 9/10\n",
            "259/259 [==============================] - 34s 133ms/step - loss: 0.6355 - pi_loss: 0.3703 - v_loss: 0.2651\n",
            "Epoch 10/10\n",
            "259/259 [==============================] - 34s 133ms/step - loss: 0.6214 - pi_loss: 0.3648 - v_loss: 0.2565\n"
          ]
        },
        {
          "name": "stderr",
          "output_type": "stream",
          "text": [
            "2024-01-06 17:20:51 9187b1b72b1a Coach[206] INFO PITTING AGAINST PREVIOUS VERSION\n",
            "Arena.playGames (1): 100%|██████████| 10/10 [09:54<00:00, 59.48s/it]\n",
            "Arena.playGames (2): 100%|██████████| 10/10 [08:38<00:00, 51.82s/it]\n",
            "2024-01-06 17:39:24 9187b1b72b1a Coach[206] INFO NEW/PREV WINS : 12 / 7 ; DRAWS : 1\n",
            "2024-01-06 17:39:24 9187b1b72b1a Coach[206] INFO ACCEPTING NEW MODEL\n"
          ]
        },
        {
          "name": "stdout",
          "output_type": "stream",
          "text": [
            "Checkpoint Directory exists! \n",
            "Checkpoint Directory exists! \n"
          ]
        },
        {
          "name": "stderr",
          "output_type": "stream",
          "text": [
            "2024-01-06 17:39:25 9187b1b72b1a Coach[206] INFO Starting Iter #5 ...\n",
            "Self Play: 100%|██████████| 25/25 [09:20<00:00, 22.43s/it]\n"
          ]
        },
        {
          "name": "stdout",
          "output_type": "stream",
          "text": [
            "Checkpoint Directory exists! \n",
            "Epoch 1/10\n",
            "313/313 [==============================] - 51s 161ms/step - loss: 0.7393 - pi_loss: 0.4350 - v_loss: 0.3042\n",
            "Epoch 2/10\n",
            "313/313 [==============================] - 47s 150ms/step - loss: 0.6778 - pi_loss: 0.3969 - v_loss: 0.2809\n",
            "Epoch 3/10\n",
            "313/313 [==============================] - 45s 143ms/step - loss: 0.6551 - pi_loss: 0.3879 - v_loss: 0.2672\n",
            "Epoch 4/10\n",
            "313/313 [==============================] - 47s 149ms/step - loss: 0.6389 - pi_loss: 0.3779 - v_loss: 0.2611\n",
            "Epoch 5/10\n",
            "313/313 [==============================] - 47s 149ms/step - loss: 0.6278 - pi_loss: 0.3747 - v_loss: 0.2531\n",
            "Epoch 6/10\n",
            "313/313 [==============================] - 43s 139ms/step - loss: 0.6215 - pi_loss: 0.3719 - v_loss: 0.2496\n",
            "Epoch 7/10\n",
            "313/313 [==============================] - 45s 144ms/step - loss: 0.6129 - pi_loss: 0.3686 - v_loss: 0.2443\n",
            "Epoch 8/10\n",
            "313/313 [==============================] - 45s 144ms/step - loss: 0.6059 - pi_loss: 0.3663 - v_loss: 0.2396\n",
            "Epoch 9/10\n",
            "313/313 [==============================] - 46s 147ms/step - loss: 0.5997 - pi_loss: 0.3633 - v_loss: 0.2364\n",
            "Epoch 10/10\n",
            "313/313 [==============================] - 45s 143ms/step - loss: 0.6020 - pi_loss: 0.3633 - v_loss: 0.2387\n"
          ]
        },
        {
          "name": "stderr",
          "output_type": "stream",
          "text": [
            "2024-01-06 17:57:12 9187b1b72b1a Coach[206] INFO PITTING AGAINST PREVIOUS VERSION\n",
            "Arena.playGames (1): 100%|██████████| 10/10 [07:12<00:00, 43.29s/it]\n",
            "Arena.playGames (2): 100%|██████████| 10/10 [06:36<00:00, 39.63s/it]\n",
            "2024-01-06 18:11:01 9187b1b72b1a Coach[206] INFO NEW/PREV WINS : 5 / 10 ; DRAWS : 5\n",
            "2024-01-06 18:11:01 9187b1b72b1a Coach[206] INFO REJECTING NEW MODEL\n",
            "2024-01-06 18:11:03 9187b1b72b1a Coach[206] INFO Starting Iter #6 ...\n",
            "Self Play: 100%|██████████| 25/25 [08:53<00:00, 21.36s/it]\n"
          ]
        },
        {
          "name": "stdout",
          "output_type": "stream",
          "text": [
            "Checkpoint Directory exists! \n",
            "Epoch 1/10\n",
            "363/363 [==============================] - 51s 135ms/step - loss: 0.7960 - pi_loss: 0.4697 - v_loss: 0.3262\n",
            "Epoch 2/10\n",
            "363/363 [==============================] - 48s 132ms/step - loss: 0.7035 - pi_loss: 0.4116 - v_loss: 0.2918\n",
            "Epoch 3/10\n",
            "363/363 [==============================] - 48s 131ms/step - loss: 0.6679 - pi_loss: 0.3966 - v_loss: 0.2714\n",
            "Epoch 4/10\n",
            "363/363 [==============================] - 48s 133ms/step - loss: 0.6516 - pi_loss: 0.3885 - v_loss: 0.2631\n",
            "Epoch 5/10\n",
            "363/363 [==============================] - 49s 134ms/step - loss: 0.6297 - pi_loss: 0.3811 - v_loss: 0.2485\n",
            "Epoch 6/10\n",
            "363/363 [==============================] - 48s 132ms/step - loss: 0.6193 - pi_loss: 0.3742 - v_loss: 0.2451\n",
            "Epoch 7/10\n",
            "363/363 [==============================] - 48s 131ms/step - loss: 0.6164 - pi_loss: 0.3745 - v_loss: 0.2419\n",
            "Epoch 8/10\n",
            "363/363 [==============================] - 50s 137ms/step - loss: 0.6026 - pi_loss: 0.3683 - v_loss: 0.2343\n",
            "Epoch 9/10\n",
            "363/363 [==============================] - 49s 135ms/step - loss: 0.5992 - pi_loss: 0.3693 - v_loss: 0.2299\n",
            "Epoch 10/10\n",
            "363/363 [==============================] - 49s 134ms/step - loss: 0.5959 - pi_loss: 0.3649 - v_loss: 0.2310\n"
          ]
        },
        {
          "name": "stderr",
          "output_type": "stream",
          "text": [
            "2024-01-06 18:28:25 9187b1b72b1a Coach[206] INFO PITTING AGAINST PREVIOUS VERSION\n",
            "Arena.playGames (1): 100%|██████████| 10/10 [07:24<00:00, 44.41s/it]\n",
            "Arena.playGames (2): 100%|██████████| 10/10 [08:46<00:00, 52.69s/it]\n",
            "2024-01-06 18:44:36 9187b1b72b1a Coach[206] INFO NEW/PREV WINS : 6 / 13 ; DRAWS : 1\n",
            "2024-01-06 18:44:36 9187b1b72b1a Coach[206] INFO REJECTING NEW MODEL\n",
            "2024-01-06 18:44:38 9187b1b72b1a Coach[206] INFO Starting Iter #7 ...\n",
            "Self Play: 100%|██████████| 25/25 [14:24<00:00, 34.56s/it]\n"
          ]
        },
        {
          "name": "stdout",
          "output_type": "stream",
          "text": [
            "Checkpoint Directory exists! \n",
            "Epoch 1/10\n",
            "442/442 [==============================] - 60s 133ms/step - loss: 0.8155 - pi_loss: 0.4838 - v_loss: 0.3317\n",
            "Epoch 2/10\n",
            "442/442 [==============================] - 58s 132ms/step - loss: 0.6898 - pi_loss: 0.4142 - v_loss: 0.2756\n",
            "Epoch 3/10\n",
            "442/442 [==============================] - 59s 134ms/step - loss: 0.6471 - pi_loss: 0.3921 - v_loss: 0.2550\n",
            "Epoch 4/10\n",
            "442/442 [==============================] - 57s 130ms/step - loss: 0.6173 - pi_loss: 0.3830 - v_loss: 0.2343\n",
            "Epoch 5/10\n",
            "442/442 [==============================] - 60s 135ms/step - loss: 0.5976 - pi_loss: 0.3721 - v_loss: 0.2255\n",
            "Epoch 6/10\n",
            "442/442 [==============================] - 56s 127ms/step - loss: 0.5921 - pi_loss: 0.3699 - v_loss: 0.2222\n",
            "Epoch 7/10\n",
            "442/442 [==============================] - 59s 134ms/step - loss: 0.5813 - pi_loss: 0.3660 - v_loss: 0.2153\n",
            "Epoch 8/10\n",
            "442/442 [==============================] - 57s 129ms/step - loss: 0.5733 - pi_loss: 0.3604 - v_loss: 0.2129\n",
            "Epoch 9/10\n",
            "442/442 [==============================] - 59s 133ms/step - loss: 0.5686 - pi_loss: 0.3608 - v_loss: 0.2078\n",
            "Epoch 10/10\n",
            "442/442 [==============================] - 56s 127ms/step - loss: 0.5670 - pi_loss: 0.3605 - v_loss: 0.2066\n"
          ]
        },
        {
          "name": "stderr",
          "output_type": "stream",
          "text": [
            "2024-01-06 19:09:31 9187b1b72b1a Coach[206] INFO PITTING AGAINST PREVIOUS VERSION\n",
            "Arena.playGames (1): 100%|██████████| 10/10 [05:09<00:00, 30.96s/it]\n",
            "Arena.playGames (2): 100%|██████████| 10/10 [05:57<00:00, 35.80s/it]\n",
            "2024-01-06 19:20:38 9187b1b72b1a Coach[206] INFO NEW/PREV WINS : 11 / 9 ; DRAWS : 0\n",
            "2024-01-06 19:20:38 9187b1b72b1a Coach[206] INFO REJECTING NEW MODEL\n",
            "2024-01-06 19:20:40 9187b1b72b1a Coach[206] INFO Starting Iter #8 ...\n",
            "Self Play: 100%|██████████| 25/25 [12:06<00:00, 29.07s/it]\n"
          ]
        },
        {
          "name": "stdout",
          "output_type": "stream",
          "text": [
            "Checkpoint Directory exists! \n",
            "Epoch 1/10\n",
            "505/505 [==============================] - 71s 137ms/step - loss: 0.8644 - pi_loss: 0.5336 - v_loss: 0.3308\n",
            "Epoch 2/10\n",
            "505/505 [==============================] - 68s 136ms/step - loss: 0.7220 - pi_loss: 0.4471 - v_loss: 0.2749\n",
            "Epoch 3/10\n",
            "505/505 [==============================] - 68s 136ms/step - loss: 0.6689 - pi_loss: 0.4224 - v_loss: 0.2465\n",
            "Epoch 4/10\n",
            "505/505 [==============================] - 69s 137ms/step - loss: 0.6363 - pi_loss: 0.4032 - v_loss: 0.2331\n",
            "Epoch 5/10\n",
            "505/505 [==============================] - 69s 137ms/step - loss: 0.6182 - pi_loss: 0.3937 - v_loss: 0.2245\n",
            "Epoch 6/10\n",
            "505/505 [==============================] - 69s 137ms/step - loss: 0.6085 - pi_loss: 0.3891 - v_loss: 0.2194\n",
            "Epoch 7/10\n",
            "505/505 [==============================] - 68s 134ms/step - loss: 0.5910 - pi_loss: 0.3826 - v_loss: 0.2084\n",
            "Epoch 8/10\n",
            "505/505 [==============================] - 68s 135ms/step - loss: 0.5831 - pi_loss: 0.3762 - v_loss: 0.2068\n",
            "Epoch 9/10\n",
            "505/505 [==============================] - 67s 134ms/step - loss: 0.5759 - pi_loss: 0.3710 - v_loss: 0.2049\n",
            "Epoch 10/10\n",
            "505/505 [==============================] - 67s 133ms/step - loss: 0.5687 - pi_loss: 0.3698 - v_loss: 0.1989\n"
          ]
        },
        {
          "name": "stderr",
          "output_type": "stream",
          "text": [
            "2024-01-06 19:44:19 9187b1b72b1a Coach[206] INFO PITTING AGAINST PREVIOUS VERSION\n",
            "Arena.playGames (1): 100%|██████████| 10/10 [07:30<00:00, 45.03s/it]\n",
            "Arena.playGames (2): 100%|██████████| 10/10 [06:36<00:00, 39.62s/it]\n",
            "2024-01-06 19:58:25 9187b1b72b1a Coach[206] INFO NEW/PREV WINS : 12 / 8 ; DRAWS : 0\n",
            "2024-01-06 19:58:25 9187b1b72b1a Coach[206] INFO ACCEPTING NEW MODEL\n"
          ]
        },
        {
          "name": "stdout",
          "output_type": "stream",
          "text": [
            "Checkpoint Directory exists! \n",
            "Checkpoint Directory exists! \n"
          ]
        },
        {
          "name": "stderr",
          "output_type": "stream",
          "text": [
            "2024-01-06 19:58:26 9187b1b72b1a Coach[206] INFO Starting Iter #9 ...\n",
            "Self Play: 100%|██████████| 25/25 [12:07<00:00, 29.12s/it]\n"
          ]
        },
        {
          "name": "stdout",
          "output_type": "stream",
          "text": [
            "Checkpoint Directory exists! \n",
            "Epoch 1/10\n",
            "564/564 [==============================] - 75s 133ms/step - loss: 0.6846 - pi_loss: 0.4337 - v_loss: 0.2509\n",
            "Epoch 2/10\n",
            "564/564 [==============================] - 77s 136ms/step - loss: 0.6299 - pi_loss: 0.3984 - v_loss: 0.2315\n",
            "Epoch 3/10\n",
            "564/564 [==============================] - 75s 133ms/step - loss: 0.6072 - pi_loss: 0.3849 - v_loss: 0.2222\n",
            "Epoch 4/10\n",
            "564/564 [==============================] - 76s 135ms/step - loss: 0.5916 - pi_loss: 0.3769 - v_loss: 0.2148\n",
            "Epoch 5/10\n",
            "564/564 [==============================] - 76s 135ms/step - loss: 0.5880 - pi_loss: 0.3753 - v_loss: 0.2127\n",
            "Epoch 6/10\n",
            "564/564 [==============================] - 75s 133ms/step - loss: 0.5793 - pi_loss: 0.3710 - v_loss: 0.2082\n",
            "Epoch 7/10\n",
            "564/564 [==============================] - 78s 138ms/step - loss: 0.5700 - pi_loss: 0.3691 - v_loss: 0.2009\n",
            "Epoch 8/10\n",
            "564/564 [==============================] - 76s 135ms/step - loss: 0.5682 - pi_loss: 0.3677 - v_loss: 0.2005\n",
            "Epoch 9/10\n",
            "564/564 [==============================] - 77s 136ms/step - loss: 0.5672 - pi_loss: 0.3669 - v_loss: 0.2003\n",
            "Epoch 10/10\n",
            "564/564 [==============================] - 78s 138ms/step - loss: 0.5635 - pi_loss: 0.3666 - v_loss: 0.1968\n"
          ]
        },
        {
          "name": "stderr",
          "output_type": "stream",
          "text": [
            "2024-01-06 20:24:04 9187b1b72b1a Coach[206] INFO PITTING AGAINST PREVIOUS VERSION\n",
            "Arena.playGames (1): 100%|██████████| 10/10 [10:04<00:00, 60.47s/it]\n",
            "Arena.playGames (2): 100%|██████████| 10/10 [05:51<00:00, 35.19s/it]\n",
            "2024-01-06 20:40:00 9187b1b72b1a Coach[206] INFO NEW/PREV WINS : 7 / 13 ; DRAWS : 0\n",
            "2024-01-06 20:40:00 9187b1b72b1a Coach[206] INFO REJECTING NEW MODEL\n",
            "2024-01-06 20:40:02 9187b1b72b1a Coach[206] INFO Starting Iter #10 ...\n",
            "Self Play: 100%|██████████| 25/25 [10:35<00:00, 25.43s/it]\n"
          ]
        },
        {
          "name": "stdout",
          "output_type": "stream",
          "text": [
            "Checkpoint Directory exists! \n",
            "Epoch 1/10\n",
            "616/616 [==============================] - 83s 132ms/step - loss: 0.7390 - pi_loss: 0.4668 - v_loss: 0.2722\n",
            "Epoch 2/10\n",
            "616/616 [==============================] - 81s 131ms/step - loss: 0.6558 - pi_loss: 0.4144 - v_loss: 0.2414\n",
            "Epoch 3/10\n",
            "616/616 [==============================] - 80s 130ms/step - loss: 0.6255 - pi_loss: 0.3981 - v_loss: 0.2274\n",
            "Epoch 4/10\n",
            "616/616 [==============================] - 80s 130ms/step - loss: 0.6131 - pi_loss: 0.3897 - v_loss: 0.2234\n",
            "Epoch 5/10\n",
            "616/616 [==============================] - 81s 131ms/step - loss: 0.6002 - pi_loss: 0.3834 - v_loss: 0.2168\n",
            "Epoch 6/10\n",
            "616/616 [==============================] - 81s 131ms/step - loss: 0.5909 - pi_loss: 0.3798 - v_loss: 0.2111\n",
            "Epoch 7/10\n",
            "616/616 [==============================] - 81s 132ms/step - loss: 0.5833 - pi_loss: 0.3752 - v_loss: 0.2081\n",
            "Epoch 8/10\n",
            "616/616 [==============================] - 81s 132ms/step - loss: 0.5791 - pi_loss: 0.3737 - v_loss: 0.2054\n",
            "Epoch 9/10\n",
            "616/616 [==============================] - 81s 132ms/step - loss: 0.5758 - pi_loss: 0.3713 - v_loss: 0.2045\n",
            "Epoch 10/10\n",
            "616/616 [==============================] - 81s 132ms/step - loss: 0.5730 - pi_loss: 0.3720 - v_loss: 0.2010\n"
          ]
        },
        {
          "name": "stderr",
          "output_type": "stream",
          "text": [
            "2024-01-06 21:05:09 9187b1b72b1a Coach[206] INFO PITTING AGAINST PREVIOUS VERSION\n",
            "Arena.playGames (1): 100%|██████████| 10/10 [08:24<00:00, 50.44s/it]\n",
            "Arena.playGames (2): 100%|██████████| 10/10 [06:47<00:00, 40.75s/it]\n",
            "2024-01-06 21:20:21 9187b1b72b1a Coach[206] INFO NEW/PREV WINS : 13 / 6 ; DRAWS : 1\n",
            "2024-01-06 21:20:21 9187b1b72b1a Coach[206] INFO ACCEPTING NEW MODEL\n"
          ]
        },
        {
          "name": "stdout",
          "output_type": "stream",
          "text": [
            "Checkpoint Directory exists! \n",
            "Checkpoint Directory exists! \n"
          ]
        },
        {
          "name": "stderr",
          "output_type": "stream",
          "text": [
            "2024-01-06 21:20:22 9187b1b72b1a Coach[206] INFO Starting Iter #11 ...\n",
            "Self Play: 100%|██████████| 25/25 [10:35<00:00, 25.43s/it]\n"
          ]
        },
        {
          "name": "stdout",
          "output_type": "stream",
          "text": [
            "Checkpoint Directory exists! \n",
            "Epoch 1/10\n",
            "676/676 [==============================] - 88s 130ms/step - loss: 0.6785 - pi_loss: 0.4207 - v_loss: 0.2578\n",
            "Epoch 2/10\n",
            "676/676 [==============================] - 83s 123ms/step - loss: 0.6365 - pi_loss: 0.3921 - v_loss: 0.2444\n",
            "Epoch 3/10\n",
            "676/676 [==============================] - 84s 125ms/step - loss: 0.6160 - pi_loss: 0.3828 - v_loss: 0.2333\n",
            "Epoch 4/10\n",
            "676/676 [==============================] - 84s 125ms/step - loss: 0.6068 - pi_loss: 0.3767 - v_loss: 0.2301\n",
            "Epoch 5/10\n",
            "676/676 [==============================] - 83s 122ms/step - loss: 0.6020 - pi_loss: 0.3756 - v_loss: 0.2264\n",
            "Epoch 6/10\n",
            "676/676 [==============================] - 84s 125ms/step - loss: 0.5943 - pi_loss: 0.3723 - v_loss: 0.2220\n",
            "Epoch 7/10\n",
            "676/676 [==============================] - 82s 122ms/step - loss: 0.5902 - pi_loss: 0.3714 - v_loss: 0.2188\n",
            "Epoch 8/10\n",
            "676/676 [==============================] - 84s 125ms/step - loss: 0.5849 - pi_loss: 0.3696 - v_loss: 0.2153\n",
            "Epoch 9/10\n",
            "676/676 [==============================] - 84s 124ms/step - loss: 0.5826 - pi_loss: 0.3683 - v_loss: 0.2143\n",
            "Epoch 10/10\n",
            "676/676 [==============================] - 83s 123ms/step - loss: 0.5768 - pi_loss: 0.3663 - v_loss: 0.2106\n"
          ]
        },
        {
          "name": "stderr",
          "output_type": "stream",
          "text": [
            "2024-01-06 21:45:26 9187b1b72b1a Coach[206] INFO PITTING AGAINST PREVIOUS VERSION\n",
            "Arena.playGames (1): 100%|██████████| 10/10 [08:28<00:00, 50.82s/it]\n",
            "Arena.playGames (2): 100%|██████████| 10/10 [09:06<00:00, 54.61s/it]\n",
            "2024-01-06 22:03:01 9187b1b72b1a Coach[206] INFO NEW/PREV WINS : 12 / 8 ; DRAWS : 0\n",
            "2024-01-06 22:03:01 9187b1b72b1a Coach[206] INFO ACCEPTING NEW MODEL\n"
          ]
        },
        {
          "name": "stdout",
          "output_type": "stream",
          "text": [
            "Checkpoint Directory exists! \n",
            "Checkpoint Directory exists! \n"
          ]
        },
        {
          "name": "stderr",
          "output_type": "stream",
          "text": [
            "2024-01-06 22:03:02 9187b1b72b1a Coach[206] INFO Starting Iter #12 ...\n",
            "Self Play: 100%|██████████| 25/25 [09:49<00:00, 23.60s/it]\n"
          ]
        },
        {
          "name": "stdout",
          "output_type": "stream",
          "text": [
            "Checkpoint Directory exists! \n",
            "Epoch 1/10\n",
            "726/726 [==============================] - 90s 124ms/step - loss: 0.6732 - pi_loss: 0.4178 - v_loss: 0.2554\n",
            "Epoch 2/10\n",
            "726/726 [==============================] - 90s 124ms/step - loss: 0.6339 - pi_loss: 0.3927 - v_loss: 0.2412\n",
            "Epoch 3/10\n",
            "726/726 [==============================] - 90s 123ms/step - loss: 0.6205 - pi_loss: 0.3845 - v_loss: 0.2360\n",
            "Epoch 4/10\n",
            "726/726 [==============================] - 90s 124ms/step - loss: 0.6102 - pi_loss: 0.3811 - v_loss: 0.2291\n",
            "Epoch 5/10\n",
            "726/726 [==============================] - 90s 124ms/step - loss: 0.6054 - pi_loss: 0.3779 - v_loss: 0.2275\n",
            "Epoch 6/10\n",
            "726/726 [==============================] - 90s 124ms/step - loss: 0.5970 - pi_loss: 0.3745 - v_loss: 0.2225\n",
            "Epoch 7/10\n",
            "726/726 [==============================] - 90s 123ms/step - loss: 0.5953 - pi_loss: 0.3741 - v_loss: 0.2213\n",
            "Epoch 8/10\n",
            "726/726 [==============================] - 90s 124ms/step - loss: 0.5956 - pi_loss: 0.3729 - v_loss: 0.2226\n",
            "Epoch 9/10\n",
            "726/726 [==============================] - 91s 125ms/step - loss: 0.5913 - pi_loss: 0.3731 - v_loss: 0.2182\n",
            "Epoch 10/10\n",
            "726/726 [==============================] - 90s 124ms/step - loss: 0.5882 - pi_loss: 0.3707 - v_loss: 0.2175\n"
          ]
        },
        {
          "name": "stderr",
          "output_type": "stream",
          "text": [
            "2024-01-06 22:27:59 9187b1b72b1a Coach[206] INFO PITTING AGAINST PREVIOUS VERSION\n",
            "Arena.playGames (1): 100%|██████████| 10/10 [08:21<00:00, 50.16s/it]\n",
            "Arena.playGames (2): 100%|██████████| 10/10 [08:46<00:00, 52.70s/it]\n",
            "2024-01-06 22:45:08 9187b1b72b1a Coach[206] INFO NEW/PREV WINS : 14 / 6 ; DRAWS : 0\n",
            "2024-01-06 22:45:08 9187b1b72b1a Coach[206] INFO ACCEPTING NEW MODEL\n"
          ]
        },
        {
          "name": "stdout",
          "output_type": "stream",
          "text": [
            "Checkpoint Directory exists! \n",
            "Checkpoint Directory exists! \n"
          ]
        },
        {
          "name": "stderr",
          "output_type": "stream",
          "text": [
            "2024-01-06 22:45:09 9187b1b72b1a Coach[206] INFO Starting Iter #13 ...\n",
            "Self Play: 100%|██████████| 25/25 [09:47<00:00, 23.49s/it]\n"
          ]
        },
        {
          "name": "stdout",
          "output_type": "stream",
          "text": [
            "Checkpoint Directory exists! \n",
            "Epoch 1/10\n",
            "775/775 [==============================] - 95s 122ms/step - loss: 0.6942 - pi_loss: 0.4285 - v_loss: 0.2656\n",
            "Epoch 2/10\n",
            "775/775 [==============================] - 96s 124ms/step - loss: 0.6589 - pi_loss: 0.4064 - v_loss: 0.2525\n",
            "Epoch 3/10\n",
            "775/775 [==============================] - 95s 122ms/step - loss: 0.6381 - pi_loss: 0.3958 - v_loss: 0.2423\n",
            "Epoch 4/10\n",
            "775/775 [==============================] - 95s 122ms/step - loss: 0.6327 - pi_loss: 0.3939 - v_loss: 0.2388\n",
            "Epoch 5/10\n",
            "775/775 [==============================] - 96s 124ms/step - loss: 0.6244 - pi_loss: 0.3910 - v_loss: 0.2333\n",
            "Epoch 6/10\n",
            "775/775 [==============================] - 95s 122ms/step - loss: 0.6201 - pi_loss: 0.3872 - v_loss: 0.2329\n",
            "Epoch 7/10\n",
            "775/775 [==============================] - 95s 123ms/step - loss: 0.6158 - pi_loss: 0.3856 - v_loss: 0.2301\n",
            "Epoch 8/10\n",
            "775/775 [==============================] - 96s 124ms/step - loss: 0.6128 - pi_loss: 0.3855 - v_loss: 0.2273\n",
            "Epoch 9/10\n",
            "775/775 [==============================] - 95s 122ms/step - loss: 0.6087 - pi_loss: 0.3830 - v_loss: 0.2257\n",
            "Epoch 10/10\n",
            "775/775 [==============================] - 96s 124ms/step - loss: 0.6106 - pi_loss: 0.3847 - v_loss: 0.2259\n"
          ]
        },
        {
          "name": "stderr",
          "output_type": "stream",
          "text": [
            "2024-01-06 23:10:57 9187b1b72b1a Coach[206] INFO PITTING AGAINST PREVIOUS VERSION\n",
            "Arena.playGames (1): 100%|██████████| 10/10 [06:09<00:00, 36.97s/it]\n",
            "Arena.playGames (2): 100%|██████████| 10/10 [09:19<00:00, 55.92s/it]\n",
            "2024-01-06 23:26:26 9187b1b72b1a Coach[206] INFO NEW/PREV WINS : 4 / 16 ; DRAWS : 0\n",
            "2024-01-06 23:26:26 9187b1b72b1a Coach[206] INFO REJECTING NEW MODEL\n",
            "2024-01-06 23:26:28 9187b1b72b1a Coach[206] INFO Starting Iter #14 ...\n",
            "Self Play: 100%|██████████| 25/25 [15:38<00:00, 37.55s/it]\n"
          ]
        },
        {
          "name": "stdout",
          "output_type": "stream",
          "text": [
            "Checkpoint Directory exists! \n",
            "Epoch 1/10\n",
            "856/856 [==============================] - 112s 130ms/step - loss: 0.8375 - pi_loss: 0.4977 - v_loss: 0.3398\n",
            "Epoch 2/10\n",
            "856/856 [==============================] - 108s 127ms/step - loss: 0.7489 - pi_loss: 0.4423 - v_loss: 0.3066\n",
            "Epoch 3/10\n",
            "856/856 [==============================] - 110s 128ms/step - loss: 0.7109 - pi_loss: 0.4211 - v_loss: 0.2898\n",
            "Epoch 4/10\n",
            "856/856 [==============================] - 112s 131ms/step - loss: 0.6916 - pi_loss: 0.4121 - v_loss: 0.2795\n",
            "Epoch 5/10\n",
            "856/856 [==============================] - 110s 128ms/step - loss: 0.6768 - pi_loss: 0.4047 - v_loss: 0.2720\n",
            "Epoch 6/10\n",
            "856/856 [==============================] - 113s 132ms/step - loss: 0.6650 - pi_loss: 0.3995 - v_loss: 0.2655\n",
            "Epoch 7/10\n",
            "856/856 [==============================] - 110s 128ms/step - loss: 0.6612 - pi_loss: 0.3976 - v_loss: 0.2636\n",
            "Epoch 8/10\n",
            "856/856 [==============================] - 111s 130ms/step - loss: 0.6520 - pi_loss: 0.3937 - v_loss: 0.2583\n",
            "Epoch 9/10\n",
            "856/856 [==============================] - 114s 134ms/step - loss: 0.6486 - pi_loss: 0.3911 - v_loss: 0.2575\n",
            "Epoch 10/10\n",
            "856/856 [==============================] - 113s 132ms/step - loss: 0.6433 - pi_loss: 0.3901 - v_loss: 0.2533\n"
          ]
        },
        {
          "name": "stderr",
          "output_type": "stream",
          "text": [
            "2024-01-07 00:00:46 9187b1b72b1a Coach[206] INFO PITTING AGAINST PREVIOUS VERSION\n",
            "Arena.playGames (1): 100%|██████████| 10/10 [07:40<00:00, 46.03s/it]\n",
            "Arena.playGames (2): 100%|██████████| 10/10 [07:43<00:00, 46.38s/it]\n",
            "2024-01-07 00:16:10 9187b1b72b1a Coach[206] INFO NEW/PREV WINS : 12 / 4 ; DRAWS : 4\n",
            "2024-01-07 00:16:10 9187b1b72b1a Coach[206] INFO ACCEPTING NEW MODEL\n"
          ]
        },
        {
          "name": "stdout",
          "output_type": "stream",
          "text": [
            "Checkpoint Directory exists! \n",
            "Checkpoint Directory exists! \n"
          ]
        },
        {
          "name": "stderr",
          "output_type": "stream",
          "text": [
            "2024-01-07 00:16:11 9187b1b72b1a Coach[206] INFO Starting Iter #15 ...\n",
            "Self Play:  92%|█████████▏| 23/25 [10:51<01:17, 38.51s/it]"
          ]
        }
      ],
      "source": [
        "args = dotdict({\n",
        "    'numIters':20,\n",
        "    'numEps': 25,              # Number of complete self-play games to simulate during a new iteration.\n",
        "    'tempThreshold': 15,        #\n",
        "    'updateThreshold': 0.6,     # During arena playoff, new neural net will be accepted if threshold or more of games are won.\n",
        "    'maxlenOfQueue': 50000,    # Number of game examples to train the neural networks.\n",
        "    'numMCTSSims': 25,          # Number of games moves for MCTS to simulate.\n",
        "    'arenaCompare': 20,         # Number of games to play during arena play to determine if new net will be accepted.\n",
        "    'cpuct': 1,\n",
        "\n",
        "    'checkpoint': '/content/drive/MyDrive/trabalho2_liacd/models/ataxx/5x5',\n",
        "    'load_model': True,\n",
        "    'load_folder_file': ('/content/drive/MyDrive/trabalho2_liacd/models/ataxx/5x5', 'best.h5'),\n",
        "    'numItersForTrainExamplesHistory': 20,\n",
        "\n",
        "})\n",
        "\n",
        "\n",
        "log.info('Loading %s...', Game.__name__)\n",
        "g = Game(5)\n",
        "\n",
        "log.info('Loading %s...', nn.__name__)\n",
        "nnet = nn(g)\n",
        "\n",
        "if args.load_model:\n",
        "    log.info('Loading checkpoint \"%s/%s\"...', args.load_folder_file[0], args.load_folder_file[1])\n",
        "    nnet.load_model(args.load_folder_file[0], args.load_folder_file[1])\n",
        "else:\n",
        "    log.warning('Not loading a checkpoint!')\n",
        "\n",
        "log.info('Loading the Coach...')\n",
        "c = Coach(g, nnet, args)\n",
        "\n",
        "if args.load_model:\n",
        "    log.info(\"Loading 'trainExamples' from file...\")\n",
        "    c.loadTrainExamples()\n",
        "\n",
        "log.info('Starting the learning process 🎉')\n",
        "c.learn()\n",
        "\n"
      ]
    },
    {
      "cell_type": "markdown",
      "metadata": {
        "id": "WOod-AgZNkNR"
      },
      "source": [
        "#Décimo Sétimo Treino"
      ]
    },
    {
      "cell_type": "code",
      "execution_count": null,
      "metadata": {
        "colab": {
          "background_save": true,
          "base_uri": "https://localhost:8080/"
        },
        "id": "NQNMgTJRNnbg",
        "outputId": "b9e80b8e-e570-4134-c150-ced8300d022c"
      },
      "outputs": [
        {
          "name": "stderr",
          "output_type": "stream",
          "text": [
            "2024-01-08 17:54:49 0a342fe909ff __main__[746] INFO Loading AtaxxGame...\n",
            "2024-01-08 17:54:49 0a342fe909ff __main__[746] INFO Loading NNetWrapper...\n",
            "2024-01-08 17:54:49 0a342fe909ff __main__[746] INFO Loading checkpoint \"/content/drive/MyDrive/trabalho2_liacd/models/ataxx/5x5/best.h5\"...\n",
            "2024-01-08 17:54:53 0a342fe909ff __main__[746] INFO Loading the Coach...\n",
            "2024-01-08 17:54:53 0a342fe909ff __main__[746] INFO Loading 'trainExamples' from file...\n",
            "2024-01-08 17:54:53 0a342fe909ff Coach[746] WARNING File \"/content/drive/MyDrive/trabalho2_liacd/models/ataxx/5x5/best.h5.examples\" with trainExamples not found!\n",
            "2024-01-08 17:54:56 0a342fe909ff __main__[746] INFO Starting the learning process 🎉\n",
            "2024-01-08 17:54:56 0a342fe909ff Coach[746] INFO Starting Iter #1 ...\n",
            "Self Play: 100%|██████████| 25/25 [12:37<00:00, 30.29s/it]\n"
          ]
        },
        {
          "name": "stdout",
          "output_type": "stream",
          "text": [
            "Checkpoint Directory exists! \n"
          ]
        },
        {
          "name": "stderr",
          "output_type": "stream",
          "text": [
            "/usr/local/lib/python3.10/dist-packages/keras/src/engine/training.py:3103: UserWarning: You are saving your model as an HDF5 file via `model.save()`. This file format is considered legacy. We recommend using instead the native Keras format, e.g. `model.save('my_model.keras')`.\n",
            "  saving_api.save_model(\n"
          ]
        },
        {
          "name": "stdout",
          "output_type": "stream",
          "text": [
            "Epoch 1/10\n",
            "70/70 [==============================] - 12s 158ms/step - loss: 1.6437 - pi_loss: 0.8955 - v_loss: 0.7482\n",
            "Epoch 2/10\n",
            "70/70 [==============================] - 8s 118ms/step - loss: 1.2279 - pi_loss: 0.6377 - v_loss: 0.5902\n",
            "Epoch 3/10\n",
            "70/70 [==============================] - 10s 145ms/step - loss: 1.0607 - pi_loss: 0.5465 - v_loss: 0.5142\n",
            "Epoch 4/10\n",
            "70/70 [==============================] - 10s 143ms/step - loss: 0.9642 - pi_loss: 0.4879 - v_loss: 0.4763\n",
            "Epoch 5/10\n",
            "70/70 [==============================] - 9s 124ms/step - loss: 0.9136 - pi_loss: 0.4633 - v_loss: 0.4502\n",
            "Epoch 6/10\n",
            "70/70 [==============================] - 10s 149ms/step - loss: 0.8683 - pi_loss: 0.4473 - v_loss: 0.4210\n",
            "Epoch 7/10\n",
            "70/70 [==============================] - 8s 116ms/step - loss: 0.8415 - pi_loss: 0.4259 - v_loss: 0.4156\n",
            "Epoch 8/10\n",
            "70/70 [==============================] - 10s 149ms/step - loss: 0.8087 - pi_loss: 0.4143 - v_loss: 0.3944\n",
            "Epoch 9/10\n",
            "70/70 [==============================] - 8s 113ms/step - loss: 0.7883 - pi_loss: 0.4077 - v_loss: 0.3805\n",
            "Epoch 10/10\n",
            "70/70 [==============================] - 11s 150ms/step - loss: 0.7739 - pi_loss: 0.4044 - v_loss: 0.3696\n"
          ]
        },
        {
          "name": "stderr",
          "output_type": "stream",
          "text": [
            "2024-01-08 18:09:59 0a342fe909ff Coach[746] INFO PITTING AGAINST PREVIOUS VERSION\n",
            "Arena.playGames (1): 100%|██████████| 10/10 [07:21<00:00, 44.11s/it]\n",
            "Arena.playGames (2): 100%|██████████| 10/10 [07:06<00:00, 42.66s/it]\n",
            "2024-01-08 18:24:27 0a342fe909ff Coach[746] INFO NEW/PREV WINS : 13 / 7 ; DRAWS : 0\n",
            "2024-01-08 18:24:27 0a342fe909ff Coach[746] INFO ACCEPTING NEW MODEL\n"
          ]
        },
        {
          "name": "stdout",
          "output_type": "stream",
          "text": [
            "Checkpoint Directory exists! \n",
            "Checkpoint Directory exists! \n"
          ]
        },
        {
          "name": "stderr",
          "output_type": "stream",
          "text": [
            "2024-01-08 18:24:29 0a342fe909ff Coach[746] INFO Starting Iter #2 ...\n",
            "Self Play: 100%|██████████| 25/25 [12:08<00:00, 29.12s/it]\n"
          ]
        },
        {
          "name": "stdout",
          "output_type": "stream",
          "text": [
            "Checkpoint Directory exists! \n",
            "Epoch 1/10\n",
            "131/131 [==============================] - 19s 135ms/step - loss: 1.4098 - pi_loss: 0.7209 - v_loss: 0.6889\n",
            "Epoch 2/10\n",
            "131/131 [==============================] - 17s 134ms/step - loss: 1.1958 - pi_loss: 0.6011 - v_loss: 0.5947\n",
            "Epoch 3/10\n",
            "131/131 [==============================] - 17s 130ms/step - loss: 1.0920 - pi_loss: 0.5477 - v_loss: 0.5443\n",
            "Epoch 4/10\n",
            "131/131 [==============================] - 17s 130ms/step - loss: 1.0051 - pi_loss: 0.5090 - v_loss: 0.4961\n",
            "Epoch 5/10\n",
            "131/131 [==============================] - 17s 130ms/step - loss: 0.9511 - pi_loss: 0.4840 - v_loss: 0.4671\n",
            "Epoch 6/10\n",
            "131/131 [==============================] - 17s 129ms/step - loss: 0.9063 - pi_loss: 0.4673 - v_loss: 0.4390\n",
            "Epoch 7/10\n",
            "131/131 [==============================] - 17s 129ms/step - loss: 0.8709 - pi_loss: 0.4572 - v_loss: 0.4138\n",
            "Epoch 8/10\n",
            "131/131 [==============================] - 17s 132ms/step - loss: 0.8351 - pi_loss: 0.4476 - v_loss: 0.3875\n",
            "Epoch 9/10\n",
            "131/131 [==============================] - 18s 135ms/step - loss: 0.8150 - pi_loss: 0.4403 - v_loss: 0.3746\n",
            "Epoch 10/10\n",
            "131/131 [==============================] - 18s 137ms/step - loss: 0.8004 - pi_loss: 0.4378 - v_loss: 0.3626\n"
          ]
        },
        {
          "name": "stderr",
          "output_type": "stream",
          "text": [
            "2024-01-08 18:40:05 0a342fe909ff Coach[746] INFO PITTING AGAINST PREVIOUS VERSION\n",
            "Arena.playGames (1): 100%|██████████| 10/10 [09:14<00:00, 55.47s/it]\n",
            "Arena.playGames (2): 100%|██████████| 10/10 [09:07<00:00, 54.71s/it]\n",
            "2024-01-08 18:58:27 0a342fe909ff Coach[746] INFO NEW/PREV WINS : 5 / 14 ; DRAWS : 1\n",
            "2024-01-08 18:58:27 0a342fe909ff Coach[746] INFO REJECTING NEW MODEL\n",
            "2024-01-08 18:58:30 0a342fe909ff Coach[746] INFO Starting Iter #3 ...\n",
            "Self Play: 100%|██████████| 25/25 [11:37<00:00, 27.91s/it]\n"
          ]
        },
        {
          "name": "stdout",
          "output_type": "stream",
          "text": [
            "Checkpoint Directory exists! \n",
            "Epoch 1/10\n",
            "184/184 [==============================] - 29s 143ms/step - loss: 1.4822 - pi_loss: 0.7905 - v_loss: 0.6917\n",
            "Epoch 2/10\n",
            "184/184 [==============================] - 23s 125ms/step - loss: 1.2543 - pi_loss: 0.6580 - v_loss: 0.5963\n",
            "Epoch 3/10\n",
            "184/184 [==============================] - 26s 142ms/step - loss: 1.1366 - pi_loss: 0.5911 - v_loss: 0.5456\n",
            "Epoch 4/10\n",
            "184/184 [==============================] - 24s 130ms/step - loss: 1.0553 - pi_loss: 0.5565 - v_loss: 0.4988\n",
            "Epoch 5/10\n",
            "184/184 [==============================] - 26s 144ms/step - loss: 0.9900 - pi_loss: 0.5306 - v_loss: 0.4594\n",
            "Epoch 6/10\n",
            "184/184 [==============================] - 23s 128ms/step - loss: 0.9340 - pi_loss: 0.5032 - v_loss: 0.4309\n",
            "Epoch 7/10\n",
            "184/184 [==============================] - 27s 146ms/step - loss: 0.9054 - pi_loss: 0.4918 - v_loss: 0.4136\n",
            "Epoch 8/10\n",
            "184/184 [==============================] - 24s 132ms/step - loss: 0.8672 - pi_loss: 0.4774 - v_loss: 0.3899\n",
            "Epoch 9/10\n",
            "184/184 [==============================] - 27s 146ms/step - loss: 0.8467 - pi_loss: 0.4654 - v_loss: 0.3813\n",
            "Epoch 10/10\n",
            "184/184 [==============================] - 25s 135ms/step - loss: 0.8282 - pi_loss: 0.4610 - v_loss: 0.3672\n"
          ]
        },
        {
          "name": "stderr",
          "output_type": "stream",
          "text": [
            "2024-01-08 19:14:36 0a342fe909ff Coach[746] INFO PITTING AGAINST PREVIOUS VERSION\n",
            "Arena.playGames (1): 100%|██████████| 10/10 [11:25<00:00, 68.54s/it]\n",
            "Arena.playGames (2): 100%|██████████| 10/10 [10:15<00:00, 61.53s/it]\n",
            "2024-01-08 19:36:16 0a342fe909ff Coach[746] INFO NEW/PREV WINS : 8 / 10 ; DRAWS : 2\n",
            "2024-01-08 19:36:16 0a342fe909ff Coach[746] INFO REJECTING NEW MODEL\n",
            "2024-01-08 19:36:21 0a342fe909ff Coach[746] INFO Starting Iter #4 ...\n",
            "Self Play: 100%|██████████| 25/25 [13:59<00:00, 33.57s/it]\n"
          ]
        },
        {
          "name": "stdout",
          "output_type": "stream",
          "text": [
            "Checkpoint Directory exists! \n",
            "Epoch 1/10\n",
            "248/248 [==============================] - 35s 133ms/step - loss: 1.5090 - pi_loss: 0.8351 - v_loss: 0.6739\n",
            "Epoch 2/10\n",
            "248/248 [==============================] - 34s 137ms/step - loss: 1.2805 - pi_loss: 0.6983 - v_loss: 0.5822\n",
            "Epoch 3/10\n",
            "248/248 [==============================] - 34s 136ms/step - loss: 1.1547 - pi_loss: 0.6269 - v_loss: 0.5278\n",
            "Epoch 4/10\n",
            "248/248 [==============================] - 34s 136ms/step - loss: 1.0572 - pi_loss: 0.5796 - v_loss: 0.4776\n",
            "Epoch 5/10\n",
            "248/248 [==============================] - 33s 135ms/step - loss: 0.9922 - pi_loss: 0.5461 - v_loss: 0.4461\n",
            "Epoch 6/10\n",
            "248/248 [==============================] - 34s 136ms/step - loss: 0.9316 - pi_loss: 0.5197 - v_loss: 0.4119\n",
            "Epoch 7/10\n",
            "248/248 [==============================] - 34s 136ms/step - loss: 0.8953 - pi_loss: 0.5006 - v_loss: 0.3947\n",
            "Epoch 8/10\n",
            "248/248 [==============================] - 36s 146ms/step - loss: 0.8567 - pi_loss: 0.4848 - v_loss: 0.3719\n",
            "Epoch 9/10\n",
            "248/248 [==============================] - 34s 135ms/step - loss: 0.8371 - pi_loss: 0.4773 - v_loss: 0.3598\n",
            "Epoch 10/10\n",
            "248/248 [==============================] - 33s 133ms/step - loss: 0.8188 - pi_loss: 0.4724 - v_loss: 0.3464\n"
          ]
        },
        {
          "name": "stderr",
          "output_type": "stream",
          "text": [
            "2024-01-08 19:56:48 0a342fe909ff Coach[746] INFO PITTING AGAINST PREVIOUS VERSION\n",
            "Arena.playGames (1): 100%|██████████| 10/10 [09:51<00:00, 59.12s/it]\n",
            "Arena.playGames (2): 100%|██████████| 10/10 [09:52<00:00, 59.30s/it]\n",
            "2024-01-08 20:16:33 0a342fe909ff Coach[746] INFO NEW/PREV WINS : 7 / 13 ; DRAWS : 0\n",
            "2024-01-08 20:16:33 0a342fe909ff Coach[746] INFO REJECTING NEW MODEL\n",
            "2024-01-08 20:16:36 0a342fe909ff Coach[746] INFO Starting Iter #5 ...\n",
            "Self Play: 100%|██████████| 25/25 [10:57<00:00, 26.28s/it]\n"
          ]
        },
        {
          "name": "stdout",
          "output_type": "stream",
          "text": [
            "Checkpoint Directory exists! \n",
            "Epoch 1/10\n",
            "301/301 [==============================] - 43s 140ms/step - loss: 1.4859 - pi_loss: 0.8578 - v_loss: 0.6282\n",
            "Epoch 2/10\n",
            "301/301 [==============================] - 40s 133ms/step - loss: 1.2414 - pi_loss: 0.7068 - v_loss: 0.5345\n",
            "Epoch 3/10\n",
            "301/301 [==============================] - 43s 143ms/step - loss: 1.1270 - pi_loss: 0.6424 - v_loss: 0.4847\n",
            "Epoch 4/10\n",
            "301/301 [==============================] - 41s 137ms/step - loss: 1.0428 - pi_loss: 0.5999 - v_loss: 0.4429\n",
            "Epoch 5/10\n",
            "301/301 [==============================] - 42s 141ms/step - loss: 0.9727 - pi_loss: 0.5648 - v_loss: 0.4078\n",
            "Epoch 6/10\n",
            "301/301 [==============================] - 40s 133ms/step - loss: 0.9258 - pi_loss: 0.5425 - v_loss: 0.3834\n",
            "Epoch 7/10\n",
            "301/301 [==============================] - 46s 154ms/step - loss: 0.8808 - pi_loss: 0.5204 - v_loss: 0.3604\n",
            "Epoch 8/10\n",
            "301/301 [==============================] - 41s 135ms/step - loss: 0.8453 - pi_loss: 0.5031 - v_loss: 0.3422\n",
            "Epoch 9/10\n",
            "301/301 [==============================] - 43s 142ms/step - loss: 0.8160 - pi_loss: 0.4867 - v_loss: 0.3293\n",
            "Epoch 10/10\n",
            "301/301 [==============================] - 41s 136ms/step - loss: 0.8038 - pi_loss: 0.4789 - v_loss: 0.3249\n"
          ]
        },
        {
          "name": "stderr",
          "output_type": "stream",
          "text": [
            "2024-01-08 20:34:38 0a342fe909ff Coach[746] INFO PITTING AGAINST PREVIOUS VERSION\n",
            "Arena.playGames (1): 100%|██████████| 10/10 [10:58<00:00, 65.87s/it]\n",
            "Arena.playGames (2): 100%|██████████| 10/10 [12:01<00:00, 72.15s/it]\n",
            "2024-01-08 20:57:39 0a342fe909ff Coach[746] INFO NEW/PREV WINS : 11 / 7 ; DRAWS : 2\n",
            "2024-01-08 20:57:39 0a342fe909ff Coach[746] INFO ACCEPTING NEW MODEL\n"
          ]
        },
        {
          "name": "stdout",
          "output_type": "stream",
          "text": [
            "Checkpoint Directory exists! \n",
            "Checkpoint Directory exists! \n"
          ]
        },
        {
          "name": "stderr",
          "output_type": "stream",
          "text": [
            "2024-01-08 20:57:40 0a342fe909ff Coach[746] INFO Starting Iter #6 ...\n",
            "Self Play: 100%|██████████| 25/25 [12:38<00:00, 30.35s/it]\n"
          ]
        },
        {
          "name": "stdout",
          "output_type": "stream",
          "text": [
            "Checkpoint Directory exists! \n",
            "Epoch 1/10\n",
            "362/362 [==============================] - 51s 140ms/step - loss: 1.0256 - pi_loss: 0.5962 - v_loss: 0.4294\n",
            "Epoch 2/10\n",
            "362/362 [==============================] - 50s 139ms/step - loss: 0.9387 - pi_loss: 0.5442 - v_loss: 0.3945\n",
            "Epoch 3/10\n",
            "362/362 [==============================] - 50s 139ms/step - loss: 0.8860 - pi_loss: 0.5168 - v_loss: 0.3692\n",
            "Epoch 4/10\n",
            "362/362 [==============================] - 52s 144ms/step - loss: 0.8493 - pi_loss: 0.4981 - v_loss: 0.3512\n",
            "Epoch 5/10\n",
            "362/362 [==============================] - 52s 144ms/step - loss: 0.8227 - pi_loss: 0.4854 - v_loss: 0.3373\n",
            "Epoch 6/10\n",
            "362/362 [==============================] - 55s 152ms/step - loss: 0.8060 - pi_loss: 0.4782 - v_loss: 0.3278\n",
            "Epoch 7/10\n",
            "362/362 [==============================] - 54s 149ms/step - loss: 0.7872 - pi_loss: 0.4709 - v_loss: 0.3163\n",
            "Epoch 8/10\n",
            "362/362 [==============================] - 51s 141ms/step - loss: 0.7802 - pi_loss: 0.4688 - v_loss: 0.3114\n",
            "Epoch 9/10\n",
            "362/362 [==============================] - 50s 139ms/step - loss: 0.7643 - pi_loss: 0.4620 - v_loss: 0.3023\n",
            "Epoch 10/10\n",
            "362/362 [==============================] - 50s 137ms/step - loss: 0.7575 - pi_loss: 0.4599 - v_loss: 0.2976\n"
          ]
        },
        {
          "name": "stderr",
          "output_type": "stream",
          "text": [
            "2024-01-08 21:19:48 0a342fe909ff Coach[746] INFO PITTING AGAINST PREVIOUS VERSION\n",
            "Arena.playGames (1): 100%|██████████| 10/10 [09:39<00:00, 57.94s/it]\n",
            "Arena.playGames (2): 100%|██████████| 10/10 [08:55<00:00, 53.57s/it]\n",
            "2024-01-08 21:38:23 0a342fe909ff Coach[746] INFO NEW/PREV WINS : 13 / 7 ; DRAWS : 0\n",
            "2024-01-08 21:38:23 0a342fe909ff Coach[746] INFO ACCEPTING NEW MODEL\n"
          ]
        },
        {
          "name": "stdout",
          "output_type": "stream",
          "text": [
            "Checkpoint Directory exists! \n",
            "Checkpoint Directory exists! \n"
          ]
        },
        {
          "name": "stderr",
          "output_type": "stream",
          "text": [
            "2024-01-08 21:38:24 0a342fe909ff Coach[746] INFO Starting Iter #7 ...\n",
            "Self Play: 100%|██████████| 25/25 [15:42<00:00, 37.68s/it]\n"
          ]
        },
        {
          "name": "stdout",
          "output_type": "stream",
          "text": [
            "Checkpoint Directory exists! \n",
            "Epoch 1/10\n",
            "435/435 [==============================] - 61s 139ms/step - loss: 1.0087 - pi_loss: 0.5869 - v_loss: 0.4219\n",
            "Epoch 2/10\n",
            "435/435 [==============================] - 61s 141ms/step - loss: 0.9147 - pi_loss: 0.5272 - v_loss: 0.3876\n",
            "Epoch 3/10\n",
            "435/435 [==============================] - 58s 133ms/step - loss: 0.8688 - pi_loss: 0.5012 - v_loss: 0.3676\n",
            "Epoch 4/10\n",
            "435/435 [==============================] - 62s 143ms/step - loss: 0.8416 - pi_loss: 0.4870 - v_loss: 0.3546\n",
            "Epoch 5/10\n",
            "435/435 [==============================] - 60s 139ms/step - loss: 0.8232 - pi_loss: 0.4782 - v_loss: 0.3449\n",
            "Epoch 6/10\n",
            "435/435 [==============================] - 62s 142ms/step - loss: 0.8036 - pi_loss: 0.4698 - v_loss: 0.3338\n",
            "Epoch 7/10\n",
            "435/435 [==============================] - 60s 137ms/step - loss: 0.7900 - pi_loss: 0.4645 - v_loss: 0.3255\n",
            "Epoch 8/10\n",
            "435/435 [==============================] - 63s 145ms/step - loss: 0.7810 - pi_loss: 0.4601 - v_loss: 0.3210\n",
            "Epoch 9/10\n",
            "435/435 [==============================] - 60s 138ms/step - loss: 0.7726 - pi_loss: 0.4572 - v_loss: 0.3153\n",
            "Epoch 10/10\n",
            "435/435 [==============================] - 60s 138ms/step - loss: 0.7670 - pi_loss: 0.4541 - v_loss: 0.3130\n"
          ]
        },
        {
          "name": "stderr",
          "output_type": "stream",
          "text": [
            "2024-01-08 22:04:34 0a342fe909ff Coach[746] INFO PITTING AGAINST PREVIOUS VERSION\n",
            "Arena.playGames (1): 100%|██████████| 10/10 [10:07<00:00, 60.76s/it]\n",
            "Arena.playGames (2): 100%|██████████| 10/10 [10:09<00:00, 60.95s/it]\n",
            "2024-01-08 22:24:51 0a342fe909ff Coach[746] INFO NEW/PREV WINS : 11 / 9 ; DRAWS : 0\n",
            "2024-01-08 22:24:51 0a342fe909ff Coach[746] INFO REJECTING NEW MODEL\n",
            "2024-01-08 22:24:55 0a342fe909ff Coach[746] INFO Starting Iter #8 ...\n",
            "Self Play: 100%|██████████| 25/25 [18:32<00:00, 44.48s/it]\n"
          ]
        },
        {
          "name": "stdout",
          "output_type": "stream",
          "text": [
            "Checkpoint Directory exists! \n",
            "Epoch 1/10\n",
            "520/520 [==============================] - 71s 133ms/step - loss: 1.1719 - pi_loss: 0.6733 - v_loss: 0.4986\n",
            "Epoch 2/10\n",
            "520/520 [==============================] - 72s 138ms/step - loss: 1.0345 - pi_loss: 0.5894 - v_loss: 0.4451\n",
            "Epoch 3/10\n",
            "520/520 [==============================] - 69s 133ms/step - loss: 0.9660 - pi_loss: 0.5528 - v_loss: 0.4132\n",
            "Epoch 4/10\n",
            "520/520 [==============================] - 70s 135ms/step - loss: 0.9146 - pi_loss: 0.5258 - v_loss: 0.3888\n",
            "Epoch 5/10\n",
            "520/520 [==============================] - 72s 138ms/step - loss: 0.8805 - pi_loss: 0.5085 - v_loss: 0.3720\n",
            "Epoch 6/10\n",
            "520/520 [==============================] - 69s 133ms/step - loss: 0.8527 - pi_loss: 0.4938 - v_loss: 0.3590\n",
            "Epoch 7/10\n",
            "520/520 [==============================] - 69s 132ms/step - loss: 0.8349 - pi_loss: 0.4843 - v_loss: 0.3506\n",
            "Epoch 8/10\n",
            "520/520 [==============================] - 71s 136ms/step - loss: 0.8214 - pi_loss: 0.4776 - v_loss: 0.3437\n",
            "Epoch 9/10\n",
            "520/520 [==============================] - 70s 136ms/step - loss: 0.8072 - pi_loss: 0.4745 - v_loss: 0.3327\n",
            "Epoch 10/10\n",
            "520/520 [==============================] - 70s 134ms/step - loss: 0.7991 - pi_loss: 0.4687 - v_loss: 0.3304\n"
          ]
        },
        {
          "name": "stderr",
          "output_type": "stream",
          "text": [
            "2024-01-08 22:55:59 0a342fe909ff Coach[746] INFO PITTING AGAINST PREVIOUS VERSION\n",
            "Arena.playGames (1): 100%|██████████| 10/10 [11:00<00:00, 66.07s/it]\n",
            "Arena.playGames (2): 100%|██████████| 10/10 [06:58<00:00, 41.85s/it]\n",
            "2024-01-08 23:13:59 0a342fe909ff Coach[746] INFO NEW/PREV WINS : 14 / 6 ; DRAWS : 0\n",
            "2024-01-08 23:13:59 0a342fe909ff Coach[746] INFO ACCEPTING NEW MODEL\n"
          ]
        },
        {
          "name": "stdout",
          "output_type": "stream",
          "text": [
            "Checkpoint Directory exists! \n",
            "Checkpoint Directory exists! \n"
          ]
        },
        {
          "name": "stderr",
          "output_type": "stream",
          "text": [
            "2024-01-08 23:14:03 0a342fe909ff Coach[746] INFO Starting Iter #9 ...\n",
            "Self Play: 100%|██████████| 25/25 [15:43<00:00, 37.72s/it]\n"
          ]
        },
        {
          "name": "stdout",
          "output_type": "stream",
          "text": [
            "Checkpoint Directory exists! \n",
            "Epoch 1/10\n",
            "596/596 [==============================] - 79s 130ms/step - loss: 0.9543 - pi_loss: 0.5572 - v_loss: 0.3972\n",
            "Epoch 2/10\n",
            "596/596 [==============================] - 78s 130ms/step - loss: 0.8909 - pi_loss: 0.5217 - v_loss: 0.3692\n",
            "Epoch 3/10\n",
            "596/596 [==============================] - 78s 131ms/step - loss: 0.8514 - pi_loss: 0.5001 - v_loss: 0.3512\n",
            "Epoch 4/10\n",
            "596/596 [==============================] - 79s 133ms/step - loss: 0.8299 - pi_loss: 0.4927 - v_loss: 0.3372\n",
            "Epoch 5/10\n",
            "596/596 [==============================] - 78s 131ms/step - loss: 0.8131 - pi_loss: 0.4830 - v_loss: 0.3301\n",
            "Epoch 6/10\n",
            "596/596 [==============================] - 77s 130ms/step - loss: 0.7994 - pi_loss: 0.4771 - v_loss: 0.3223\n",
            "Epoch 7/10\n",
            "596/596 [==============================] - 77s 130ms/step - loss: 0.7876 - pi_loss: 0.4719 - v_loss: 0.3157\n",
            "Epoch 8/10\n",
            "596/596 [==============================] - 78s 130ms/step - loss: 0.7836 - pi_loss: 0.4705 - v_loss: 0.3131\n",
            "Epoch 9/10\n",
            "596/596 [==============================] - 81s 135ms/step - loss: 0.7750 - pi_loss: 0.4649 - v_loss: 0.3101\n",
            "Epoch 10/10\n",
            "596/596 [==============================] - 78s 131ms/step - loss: 0.7720 - pi_loss: 0.4630 - v_loss: 0.3090\n"
          ]
        },
        {
          "name": "stderr",
          "output_type": "stream",
          "text": [
            "2024-01-08 23:42:59 0a342fe909ff Coach[746] INFO PITTING AGAINST PREVIOUS VERSION\n",
            "Arena.playGames (1): 100%|██████████| 10/10 [09:07<00:00, 54.71s/it]\n",
            "Arena.playGames (2): 100%|██████████| 10/10 [09:55<00:00, 59.54s/it]\n",
            "2024-01-09 00:02:01 0a342fe909ff Coach[746] INFO NEW/PREV WINS : 8 / 5 ; DRAWS : 7\n",
            "2024-01-09 00:02:01 0a342fe909ff Coach[746] INFO ACCEPTING NEW MODEL\n"
          ]
        },
        {
          "name": "stdout",
          "output_type": "stream",
          "text": [
            "Checkpoint Directory exists! \n",
            "Checkpoint Directory exists! \n"
          ]
        },
        {
          "name": "stderr",
          "output_type": "stream",
          "text": [
            "2024-01-09 00:02:05 0a342fe909ff Coach[746] INFO Starting Iter #10 ...\n",
            "Self Play: 100%|██████████| 25/25 [14:35<00:00, 35.00s/it]\n"
          ]
        },
        {
          "name": "stdout",
          "output_type": "stream",
          "text": [
            "Checkpoint Directory exists! \n",
            "Epoch 1/10\n",
            "663/663 [==============================] - 88s 133ms/step - loss: 0.9108 - pi_loss: 0.5450 - v_loss: 0.3658\n",
            "Epoch 2/10\n",
            "663/663 [==============================] - 90s 136ms/step - loss: 0.8581 - pi_loss: 0.5090 - v_loss: 0.3491\n",
            "Epoch 3/10\n",
            "663/663 [==============================] - 95s 144ms/step - loss: 0.8260 - pi_loss: 0.4934 - v_loss: 0.3326\n",
            "Epoch 4/10\n",
            "663/663 [==============================] - 92s 139ms/step - loss: 0.8105 - pi_loss: 0.4829 - v_loss: 0.3276\n",
            "Epoch 5/10\n",
            "663/663 [==============================] - 93s 140ms/step - loss: 0.7908 - pi_loss: 0.4720 - v_loss: 0.3188\n",
            "Epoch 6/10\n",
            "663/663 [==============================] - 91s 137ms/step - loss: 0.7814 - pi_loss: 0.4688 - v_loss: 0.3127\n",
            "Epoch 7/10\n",
            "663/663 [==============================] - 90s 136ms/step - loss: 0.7734 - pi_loss: 0.4649 - v_loss: 0.3086\n",
            "Epoch 8/10\n",
            "663/663 [==============================] - 89s 135ms/step - loss: 0.7683 - pi_loss: 0.4630 - v_loss: 0.3053\n",
            "Epoch 9/10\n",
            "663/663 [==============================] - 90s 136ms/step - loss: 0.7654 - pi_loss: 0.4615 - v_loss: 0.3039\n",
            "Epoch 10/10\n",
            "663/663 [==============================] - 90s 136ms/step - loss: 0.7611 - pi_loss: 0.4611 - v_loss: 0.3000\n"
          ]
        },
        {
          "name": "stderr",
          "output_type": "stream",
          "text": [
            "2024-01-09 00:32:11 0a342fe909ff Coach[746] INFO PITTING AGAINST PREVIOUS VERSION\n",
            "Arena.playGames (1): 100%|██████████| 10/10 [08:16<00:00, 49.62s/it]\n",
            "Arena.playGames (2): 100%|██████████| 10/10 [08:01<00:00, 48.13s/it]\n",
            "2024-01-09 00:48:28 0a342fe909ff Coach[746] INFO NEW/PREV WINS : 12 / 8 ; DRAWS : 0\n",
            "2024-01-09 00:48:28 0a342fe909ff Coach[746] INFO ACCEPTING NEW MODEL\n"
          ]
        },
        {
          "name": "stdout",
          "output_type": "stream",
          "text": [
            "Checkpoint Directory exists! \n",
            "Checkpoint Directory exists! \n"
          ]
        },
        {
          "name": "stderr",
          "output_type": "stream",
          "text": [
            "2024-01-09 00:48:33 0a342fe909ff Coach[746] INFO Starting Iter #11 ...\n",
            "Self Play: 100%|██████████| 25/25 [14:47<00:00, 35.50s/it]\n"
          ]
        },
        {
          "name": "stdout",
          "output_type": "stream",
          "text": [
            "Checkpoint Directory exists! \n",
            "Epoch 1/10\n",
            "736/736 [==============================] - 93s 126ms/step - loss: 0.9212 - pi_loss: 0.5494 - v_loss: 0.3718\n",
            "Epoch 2/10\n",
            "736/736 [==============================] - 94s 128ms/step - loss: 0.8585 - pi_loss: 0.5086 - v_loss: 0.3498\n",
            "Epoch 3/10\n",
            "736/736 [==============================] - 93s 127ms/step - loss: 0.8304 - pi_loss: 0.4924 - v_loss: 0.3380\n",
            "Epoch 4/10\n",
            "736/736 [==============================] - 92s 126ms/step - loss: 0.8106 - pi_loss: 0.4829 - v_loss: 0.3277\n",
            "Epoch 5/10\n",
            "736/736 [==============================] - 93s 127ms/step - loss: 0.7968 - pi_loss: 0.4758 - v_loss: 0.3210\n",
            "Epoch 6/10\n",
            "736/736 [==============================] - 93s 127ms/step - loss: 0.7828 - pi_loss: 0.4697 - v_loss: 0.3130\n",
            "Epoch 7/10\n",
            "736/736 [==============================] - 94s 127ms/step - loss: 0.7785 - pi_loss: 0.4680 - v_loss: 0.3105\n",
            "Epoch 8/10\n",
            "736/736 [==============================] - 93s 126ms/step - loss: 0.7671 - pi_loss: 0.4623 - v_loss: 0.3049\n",
            "Epoch 9/10\n",
            "736/736 [==============================] - 93s 127ms/step - loss: 0.7635 - pi_loss: 0.4607 - v_loss: 0.3028\n",
            "Epoch 10/10\n",
            "736/736 [==============================] - 93s 126ms/step - loss: 0.7604 - pi_loss: 0.4592 - v_loss: 0.3011\n"
          ]
        },
        {
          "name": "stderr",
          "output_type": "stream",
          "text": [
            "2024-01-09 01:19:02 0a342fe909ff Coach[746] INFO PITTING AGAINST PREVIOUS VERSION\n",
            "Arena.playGames (1):  50%|█████     | 5/10 [05:06<05:07, 61.41s/it]"
          ]
        }
      ],
      "source": [
        "args = dotdict({\n",
        "    'numIters':20,\n",
        "    'numEps': 25,              # Number of complete self-play games to simulate during a new iteration.\n",
        "    'tempThreshold': 15,        #\n",
        "    'updateThreshold': 0.6,     # During arena playoff, new neural net will be accepted if threshold or more of games are won.\n",
        "    'maxlenOfQueue': 50000,    # Number of game examples to train the neural networks.\n",
        "    'numMCTSSims': 25,          # Number of games moves for MCTS to simulate.\n",
        "    'arenaCompare': 20,         # Number of games to play during arena play to determine if new net will be accepted.\n",
        "    'cpuct': 1,\n",
        "\n",
        "    'checkpoint': '/content/drive/MyDrive/trabalho2_liacd/models/ataxx/5x5',\n",
        "    'load_model': True,\n",
        "    'load_folder_file': ('/content/drive/MyDrive/trabalho2_liacd/models/ataxx/5x5', 'best.h5'),\n",
        "    'numItersForTrainExamplesHistory': 20,\n",
        "\n",
        "})\n",
        "\n",
        "\n",
        "log.info('Loading %s...', Game.__name__)\n",
        "g = Game(5)\n",
        "\n",
        "log.info('Loading %s...', nn.__name__)\n",
        "nnet = nn(g)\n",
        "\n",
        "if args.load_model:\n",
        "    log.info('Loading checkpoint \"%s/%s\"...', args.load_folder_file[0], args.load_folder_file[1])\n",
        "    nnet.load_model(args.load_folder_file[0], args.load_folder_file[1])\n",
        "else:\n",
        "    log.warning('Not loading a checkpoint!')\n",
        "\n",
        "log.info('Loading the Coach...')\n",
        "c = Coach(g, nnet, args)\n",
        "\n",
        "if args.load_model:\n",
        "    log.info(\"Loading 'trainExamples' from file...\")\n",
        "    c.loadTrainExamples()\n",
        "\n",
        "log.info('Starting the learning process 🎉')\n",
        "c.learn()\n",
        "\n"
      ]
    },
    {
      "cell_type": "markdown",
      "metadata": {
        "id": "L-XiSZgId4qO"
      },
      "source": [
        "#Décimo Oitavo Treino"
      ]
    },
    {
      "cell_type": "code",
      "execution_count": null,
      "metadata": {
        "colab": {
          "background_save": true,
          "base_uri": "https://localhost:8080/"
        },
        "id": "MBWQBX5oNnzw",
        "outputId": "7b9608e5-03c6-4e15-9b2e-041fd930b54b"
      },
      "outputs": [
        {
          "name": "stderr",
          "output_type": "stream",
          "text": [
            "2024-01-09 18:24:41 a4cc4a176bae __main__[371] INFO Loading AtaxxGame...\n",
            "2024-01-09 18:24:41 a4cc4a176bae __main__[371] INFO Loading NNetWrapper...\n",
            "2024-01-09 18:24:41 a4cc4a176bae __main__[371] INFO Loading checkpoint \"/content/drive/MyDrive/trabalho2_liacd/models/ataxx/5x5/best.h5\"...\n",
            "2024-01-09 18:24:44 a4cc4a176bae __main__[371] INFO Loading the Coach...\n",
            "2024-01-09 18:24:44 a4cc4a176bae __main__[371] INFO Loading 'trainExamples' from file...\n",
            "2024-01-09 18:24:44 a4cc4a176bae Coach[371] WARNING File \"/content/drive/MyDrive/trabalho2_liacd/models/ataxx/5x5/best.h5.examples\" with trainExamples not found!\n",
            "2024-01-09 18:24:46 a4cc4a176bae __main__[371] INFO Starting the learning process 🎉\n",
            "2024-01-09 18:24:46 a4cc4a176bae Coach[371] INFO Starting Iter #1 ...\n",
            "Self Play: 100%|██████████| 25/25 [10:10<00:00, 24.40s/it]\n"
          ]
        },
        {
          "name": "stdout",
          "output_type": "stream",
          "text": [
            "Checkpoint Directory exists! \n"
          ]
        },
        {
          "name": "stderr",
          "output_type": "stream",
          "text": [
            "/usr/local/lib/python3.10/dist-packages/keras/src/engine/training.py:3103: UserWarning: You are saving your model as an HDF5 file via `model.save()`. This file format is considered legacy. We recommend using instead the native Keras format, e.g. `model.save('my_model.keras')`.\n",
            "  saving_api.save_model(\n"
          ]
        },
        {
          "name": "stdout",
          "output_type": "stream",
          "text": [
            "Epoch 1/10\n",
            "61/61 [==============================] - 10s 144ms/step - loss: 1.9299 - pi_loss: 1.2195 - v_loss: 0.7104\n",
            "Epoch 2/10\n",
            "61/61 [==============================] - 6s 106ms/step - loss: 1.4089 - pi_loss: 0.8801 - v_loss: 0.5288\n",
            "Epoch 3/10\n",
            "61/61 [==============================] - 9s 141ms/step - loss: 1.2135 - pi_loss: 0.7647 - v_loss: 0.4488\n",
            "Epoch 4/10\n",
            "61/61 [==============================] - 6s 100ms/step - loss: 1.0833 - pi_loss: 0.7080 - v_loss: 0.3752\n",
            "Epoch 5/10\n",
            "61/61 [==============================] - 8s 139ms/step - loss: 0.9707 - pi_loss: 0.6376 - v_loss: 0.3332\n",
            "Epoch 6/10\n",
            "61/61 [==============================] - 6s 104ms/step - loss: 0.9174 - pi_loss: 0.6136 - v_loss: 0.3037\n",
            "Epoch 7/10\n",
            "61/61 [==============================] - 8s 128ms/step - loss: 0.8770 - pi_loss: 0.5855 - v_loss: 0.2916\n",
            "Epoch 8/10\n",
            "61/61 [==============================] - 7s 114ms/step - loss: 0.8186 - pi_loss: 0.5567 - v_loss: 0.2619\n",
            "Epoch 9/10\n",
            "61/61 [==============================] - 7s 120ms/step - loss: 0.7992 - pi_loss: 0.5514 - v_loss: 0.2478\n",
            "Epoch 10/10\n",
            "61/61 [==============================] - 7s 118ms/step - loss: 0.7817 - pi_loss: 0.5321 - v_loss: 0.2496\n"
          ]
        },
        {
          "name": "stderr",
          "output_type": "stream",
          "text": [
            "2024-01-09 18:36:14 a4cc4a176bae Coach[371] INFO PITTING AGAINST PREVIOUS VERSION\n",
            "Arena.playGames (1): 100%|██████████| 10/10 [09:59<00:00, 59.98s/it]\n",
            "Arena.playGames (2): 100%|██████████| 10/10 [06:27<00:00, 38.77s/it]\n",
            "2024-01-09 18:52:41 a4cc4a176bae Coach[371] INFO NEW/PREV WINS : 13 / 7 ; DRAWS : 0\n",
            "2024-01-09 18:52:41 a4cc4a176bae Coach[371] INFO ACCEPTING NEW MODEL\n"
          ]
        },
        {
          "name": "stdout",
          "output_type": "stream",
          "text": [
            "Checkpoint Directory exists! \n",
            "Checkpoint Directory exists! \n"
          ]
        },
        {
          "name": "stderr",
          "output_type": "stream",
          "text": [
            "2024-01-09 18:52:43 a4cc4a176bae Coach[371] INFO Starting Iter #2 ...\n",
            "Self Play: 100%|██████████| 25/25 [15:04<00:00, 36.18s/it]\n"
          ]
        },
        {
          "name": "stdout",
          "output_type": "stream",
          "text": [
            "Checkpoint Directory exists! \n",
            "Epoch 1/10\n",
            "139/139 [==============================] - 17s 126ms/step - loss: 1.5176 - pi_loss: 0.8791 - v_loss: 0.6385\n",
            "Epoch 2/10\n",
            "139/139 [==============================] - 17s 123ms/step - loss: 1.2718 - pi_loss: 0.7424 - v_loss: 0.5295\n",
            "Epoch 3/10\n",
            "139/139 [==============================] - 18s 128ms/step - loss: 1.1603 - pi_loss: 0.6813 - v_loss: 0.4790\n",
            "Epoch 4/10\n",
            "139/139 [==============================] - 18s 132ms/step - loss: 1.0566 - pi_loss: 0.6207 - v_loss: 0.4359\n",
            "Epoch 5/10\n",
            "139/139 [==============================] - 18s 131ms/step - loss: 0.9971 - pi_loss: 0.5963 - v_loss: 0.4008\n",
            "Epoch 6/10\n",
            "139/139 [==============================] - 19s 136ms/step - loss: 0.9348 - pi_loss: 0.5639 - v_loss: 0.3709\n",
            "Epoch 7/10\n",
            "139/139 [==============================] - 18s 128ms/step - loss: 0.9006 - pi_loss: 0.5476 - v_loss: 0.3531\n",
            "Epoch 8/10\n",
            "139/139 [==============================] - 17s 126ms/step - loss: 0.8578 - pi_loss: 0.5255 - v_loss: 0.3323\n",
            "Epoch 9/10\n",
            "139/139 [==============================] - 18s 128ms/step - loss: 0.8390 - pi_loss: 0.5144 - v_loss: 0.3246\n",
            "Epoch 10/10\n",
            "139/139 [==============================] - 19s 134ms/step - loss: 0.8242 - pi_loss: 0.5027 - v_loss: 0.3216\n"
          ]
        },
        {
          "name": "stderr",
          "output_type": "stream",
          "text": [
            "2024-01-09 19:10:50 a4cc4a176bae Coach[371] INFO PITTING AGAINST PREVIOUS VERSION\n",
            "Arena.playGames (1): 100%|██████████| 10/10 [07:46<00:00, 46.68s/it]\n",
            "Arena.playGames (2): 100%|██████████| 10/10 [09:12<00:00, 55.27s/it]\n",
            "2024-01-09 19:27:50 a4cc4a176bae Coach[371] INFO NEW/PREV WINS : 9 / 11 ; DRAWS : 0\n",
            "2024-01-09 19:27:50 a4cc4a176bae Coach[371] INFO REJECTING NEW MODEL\n",
            "2024-01-09 19:27:52 a4cc4a176bae Coach[371] INFO Starting Iter #3 ...\n",
            "Self Play: 100%|██████████| 25/25 [07:42<00:00, 18.49s/it]\n"
          ]
        },
        {
          "name": "stdout",
          "output_type": "stream",
          "text": [
            "Checkpoint Directory exists! \n",
            "Epoch 1/10\n",
            "182/182 [==============================] - 24s 122ms/step - loss: 1.5664 - pi_loss: 0.9091 - v_loss: 0.6574\n",
            "Epoch 2/10\n",
            "182/182 [==============================] - 20s 112ms/step - loss: 1.2966 - pi_loss: 0.7528 - v_loss: 0.5439\n",
            "Epoch 3/10\n",
            "182/182 [==============================] - 22s 122ms/step - loss: 1.1813 - pi_loss: 0.6881 - v_loss: 0.4932\n",
            "Epoch 4/10\n",
            "182/182 [==============================] - 21s 114ms/step - loss: 1.0861 - pi_loss: 0.6397 - v_loss: 0.4464\n",
            "Epoch 5/10\n",
            "182/182 [==============================] - 20s 112ms/step - loss: 1.0182 - pi_loss: 0.6060 - v_loss: 0.4122\n",
            "Epoch 6/10\n",
            "182/182 [==============================] - 23s 124ms/step - loss: 0.9627 - pi_loss: 0.5825 - v_loss: 0.3801\n",
            "Epoch 7/10\n",
            "182/182 [==============================] - 20s 110ms/step - loss: 0.9273 - pi_loss: 0.5602 - v_loss: 0.3671\n",
            "Epoch 8/10\n",
            "182/182 [==============================] - 20s 107ms/step - loss: 0.8968 - pi_loss: 0.5432 - v_loss: 0.3536\n",
            "Epoch 9/10\n",
            "182/182 [==============================] - 21s 114ms/step - loss: 0.8730 - pi_loss: 0.5308 - v_loss: 0.3422\n",
            "Epoch 10/10\n",
            "182/182 [==============================] - 20s 111ms/step - loss: 0.8543 - pi_loss: 0.5168 - v_loss: 0.3375\n"
          ]
        },
        {
          "name": "stderr",
          "output_type": "stream",
          "text": [
            "2024-01-09 19:40:00 a4cc4a176bae Coach[371] INFO PITTING AGAINST PREVIOUS VERSION\n",
            "Arena.playGames (1): 100%|██████████| 10/10 [07:38<00:00, 45.88s/it]\n",
            "Arena.playGames (2): 100%|██████████| 10/10 [08:23<00:00, 50.32s/it]\n",
            "2024-01-09 19:56:02 a4cc4a176bae Coach[371] INFO NEW/PREV WINS : 7 / 13 ; DRAWS : 0\n",
            "2024-01-09 19:56:02 a4cc4a176bae Coach[371] INFO REJECTING NEW MODEL\n",
            "2024-01-09 19:56:03 a4cc4a176bae Coach[371] INFO Starting Iter #4 ...\n",
            "Self Play: 100%|██████████| 25/25 [12:24<00:00, 29.77s/it]\n"
          ]
        },
        {
          "name": "stdout",
          "output_type": "stream",
          "text": [
            "Checkpoint Directory exists! \n",
            "Epoch 1/10\n",
            "248/248 [==============================] - 30s 116ms/step - loss: 1.6182 - pi_loss: 0.9467 - v_loss: 0.6716\n",
            "Epoch 2/10\n",
            "248/248 [==============================] - 29s 115ms/step - loss: 1.3434 - pi_loss: 0.7722 - v_loss: 0.5712\n",
            "Epoch 3/10\n",
            "248/248 [==============================] - 28s 114ms/step - loss: 1.2064 - pi_loss: 0.7018 - v_loss: 0.5046\n",
            "Epoch 4/10\n",
            "248/248 [==============================] - 28s 113ms/step - loss: 1.1172 - pi_loss: 0.6538 - v_loss: 0.4634\n",
            "Epoch 5/10\n",
            "248/248 [==============================] - 27s 108ms/step - loss: 1.0427 - pi_loss: 0.6144 - v_loss: 0.4283\n",
            "Epoch 6/10\n",
            "248/248 [==============================] - 29s 116ms/step - loss: 0.9882 - pi_loss: 0.5833 - v_loss: 0.4050\n",
            "Epoch 7/10\n",
            "248/248 [==============================] - 29s 116ms/step - loss: 0.9377 - pi_loss: 0.5587 - v_loss: 0.3791\n",
            "Epoch 8/10\n",
            "248/248 [==============================] - 28s 115ms/step - loss: 0.9014 - pi_loss: 0.5459 - v_loss: 0.3555\n",
            "Epoch 9/10\n",
            "248/248 [==============================] - 29s 117ms/step - loss: 0.8837 - pi_loss: 0.5316 - v_loss: 0.3521\n",
            "Epoch 10/10\n",
            "248/248 [==============================] - 28s 111ms/step - loss: 0.8655 - pi_loss: 0.5177 - v_loss: 0.3479\n"
          ]
        },
        {
          "name": "stderr",
          "output_type": "stream",
          "text": [
            "2024-01-09 20:13:53 a4cc4a176bae Coach[371] INFO PITTING AGAINST PREVIOUS VERSION\n",
            "Arena.playGames (1): 100%|██████████| 10/10 [07:35<00:00, 45.53s/it]\n",
            "Arena.playGames (2): 100%|██████████| 10/10 [08:33<00:00, 51.31s/it]\n",
            "2024-01-09 20:30:02 a4cc4a176bae Coach[371] INFO NEW/PREV WINS : 8 / 12 ; DRAWS : 0\n",
            "2024-01-09 20:30:02 a4cc4a176bae Coach[371] INFO REJECTING NEW MODEL\n",
            "2024-01-09 20:30:03 a4cc4a176bae Coach[371] INFO Starting Iter #5 ...\n",
            "Self Play: 100%|██████████| 25/25 [11:45<00:00, 28.23s/it]\n"
          ]
        },
        {
          "name": "stdout",
          "output_type": "stream",
          "text": [
            "Checkpoint Directory exists! \n",
            "Epoch 1/10\n",
            "314/314 [==============================] - 37s 112ms/step - loss: 1.6737 - pi_loss: 0.9647 - v_loss: 0.7091\n",
            "Epoch 2/10\n",
            "314/314 [==============================] - 35s 111ms/step - loss: 1.4063 - pi_loss: 0.8043 - v_loss: 0.6020\n",
            "Epoch 3/10\n",
            "314/314 [==============================] - 37s 116ms/step - loss: 1.2645 - pi_loss: 0.7234 - v_loss: 0.5410\n",
            "Epoch 4/10\n",
            "314/314 [==============================] - 39s 125ms/step - loss: 1.1702 - pi_loss: 0.6760 - v_loss: 0.4943\n",
            "Epoch 5/10\n",
            "314/314 [==============================] - 36s 114ms/step - loss: 1.0902 - pi_loss: 0.6335 - v_loss: 0.4567\n",
            "Epoch 6/10\n",
            "314/314 [==============================] - 36s 116ms/step - loss: 1.0271 - pi_loss: 0.5990 - v_loss: 0.4281\n",
            "Epoch 7/10\n",
            "314/314 [==============================] - 36s 115ms/step - loss: 0.9843 - pi_loss: 0.5793 - v_loss: 0.4050\n",
            "Epoch 8/10\n",
            "314/314 [==============================] - 35s 111ms/step - loss: 0.9387 - pi_loss: 0.5535 - v_loss: 0.3852\n",
            "Epoch 9/10\n",
            "314/314 [==============================] - 36s 113ms/step - loss: 0.9150 - pi_loss: 0.5402 - v_loss: 0.3748\n",
            "Epoch 10/10\n",
            "314/314 [==============================] - 38s 120ms/step - loss: 0.8844 - pi_loss: 0.5278 - v_loss: 0.3566\n"
          ]
        },
        {
          "name": "stderr",
          "output_type": "stream",
          "text": [
            "2024-01-09 20:48:17 a4cc4a176bae Coach[371] INFO PITTING AGAINST PREVIOUS VERSION\n",
            "Arena.playGames (1): 100%|██████████| 10/10 [07:54<00:00, 47.42s/it]\n",
            "Arena.playGames (2): 100%|██████████| 10/10 [08:25<00:00, 50.58s/it]\n",
            "2024-01-09 21:04:37 a4cc4a176bae Coach[371] INFO NEW/PREV WINS : 14 / 6 ; DRAWS : 0\n",
            "2024-01-09 21:04:37 a4cc4a176bae Coach[371] INFO ACCEPTING NEW MODEL\n"
          ]
        },
        {
          "name": "stdout",
          "output_type": "stream",
          "text": [
            "Checkpoint Directory exists! \n",
            "Checkpoint Directory exists! \n"
          ]
        },
        {
          "name": "stderr",
          "output_type": "stream",
          "text": [
            "2024-01-09 21:04:40 a4cc4a176bae Coach[371] INFO Starting Iter #6 ...\n",
            "Self Play: 100%|██████████| 25/25 [13:21<00:00, 32.06s/it]\n"
          ]
        },
        {
          "name": "stdout",
          "output_type": "stream",
          "text": [
            "Checkpoint Directory exists! \n",
            "Epoch 1/10\n",
            "387/387 [==============================] - 43s 110ms/step - loss: 1.0767 - pi_loss: 0.6351 - v_loss: 0.4416\n",
            "Epoch 2/10\n",
            "387/387 [==============================] - 44s 112ms/step - loss: 0.9944 - pi_loss: 0.5875 - v_loss: 0.4069\n",
            "Epoch 3/10\n",
            "387/387 [==============================] - 44s 113ms/step - loss: 0.9462 - pi_loss: 0.5609 - v_loss: 0.3853\n",
            "Epoch 4/10\n",
            "387/387 [==============================] - 44s 114ms/step - loss: 0.9077 - pi_loss: 0.5365 - v_loss: 0.3712\n",
            "Epoch 5/10\n",
            "387/387 [==============================] - 43s 112ms/step - loss: 0.8917 - pi_loss: 0.5261 - v_loss: 0.3656\n",
            "Epoch 6/10\n",
            "387/387 [==============================] - 44s 114ms/step - loss: 0.8614 - pi_loss: 0.5130 - v_loss: 0.3483\n",
            "Epoch 7/10\n",
            "387/387 [==============================] - 46s 119ms/step - loss: 0.8450 - pi_loss: 0.5033 - v_loss: 0.3416\n",
            "Epoch 8/10\n",
            "387/387 [==============================] - 46s 118ms/step - loss: 0.8272 - pi_loss: 0.4945 - v_loss: 0.3327\n",
            "Epoch 9/10\n",
            "387/387 [==============================] - 46s 118ms/step - loss: 0.8196 - pi_loss: 0.4891 - v_loss: 0.3305\n",
            "Epoch 10/10\n",
            "387/387 [==============================] - 45s 115ms/step - loss: 0.8122 - pi_loss: 0.4868 - v_loss: 0.3254\n"
          ]
        },
        {
          "name": "stderr",
          "output_type": "stream",
          "text": [
            "2024-01-09 21:26:29 a4cc4a176bae Coach[371] INFO PITTING AGAINST PREVIOUS VERSION\n",
            "Arena.playGames (1): 100%|██████████| 10/10 [08:21<00:00, 50.14s/it]\n",
            "Arena.playGames (2): 100%|██████████| 10/10 [08:41<00:00, 52.17s/it]\n",
            "2024-01-09 21:43:32 a4cc4a176bae Coach[371] INFO NEW/PREV WINS : 12 / 8 ; DRAWS : 0\n",
            "2024-01-09 21:43:32 a4cc4a176bae Coach[371] INFO ACCEPTING NEW MODEL\n"
          ]
        },
        {
          "name": "stdout",
          "output_type": "stream",
          "text": [
            "Checkpoint Directory exists! \n",
            "Checkpoint Directory exists! \n"
          ]
        },
        {
          "name": "stderr",
          "output_type": "stream",
          "text": [
            "2024-01-09 21:43:35 a4cc4a176bae Coach[371] INFO Starting Iter #7 ...\n",
            "Self Play: 100%|██████████| 25/25 [11:50<00:00, 28.44s/it]\n"
          ]
        },
        {
          "name": "stdout",
          "output_type": "stream",
          "text": [
            "Checkpoint Directory exists! \n",
            "Epoch 1/10\n",
            "451/451 [==============================] - 51s 114ms/step - loss: 1.0203 - pi_loss: 0.6006 - v_loss: 0.4197\n",
            "Epoch 2/10\n",
            "451/451 [==============================] - 55s 121ms/step - loss: 0.9320 - pi_loss: 0.5436 - v_loss: 0.3884\n",
            "Epoch 3/10\n",
            "451/451 [==============================] - 54s 119ms/step - loss: 0.8853 - pi_loss: 0.5208 - v_loss: 0.3645\n",
            "Epoch 4/10\n",
            "451/451 [==============================] - 52s 114ms/step - loss: 0.8619 - pi_loss: 0.5105 - v_loss: 0.3514\n",
            "Epoch 5/10\n",
            "451/451 [==============================] - 53s 117ms/step - loss: 0.8339 - pi_loss: 0.4939 - v_loss: 0.3400\n",
            "Epoch 6/10\n",
            "451/451 [==============================] - 51s 114ms/step - loss: 0.8264 - pi_loss: 0.4913 - v_loss: 0.3351\n",
            "Epoch 7/10\n",
            "451/451 [==============================] - 51s 114ms/step - loss: 0.8133 - pi_loss: 0.4827 - v_loss: 0.3306\n",
            "Epoch 8/10\n",
            "451/451 [==============================] - 56s 124ms/step - loss: 0.8005 - pi_loss: 0.4752 - v_loss: 0.3253\n",
            "Epoch 9/10\n",
            "451/451 [==============================] - 53s 117ms/step - loss: 0.8001 - pi_loss: 0.4757 - v_loss: 0.3244\n",
            "Epoch 10/10\n",
            "451/451 [==============================] - 54s 120ms/step - loss: 0.7875 - pi_loss: 0.4709 - v_loss: 0.3166\n"
          ]
        },
        {
          "name": "stderr",
          "output_type": "stream",
          "text": [
            "2024-01-09 22:04:54 a4cc4a176bae Coach[371] INFO PITTING AGAINST PREVIOUS VERSION\n",
            "Arena.playGames (1): 100%|██████████| 10/10 [08:12<00:00, 49.28s/it]\n",
            "Arena.playGames (2): 100%|██████████| 10/10 [09:49<00:00, 58.98s/it]\n",
            "2024-01-09 22:22:57 a4cc4a176bae Coach[371] INFO NEW/PREV WINS : 14 / 6 ; DRAWS : 0\n",
            "2024-01-09 22:22:57 a4cc4a176bae Coach[371] INFO ACCEPTING NEW MODEL\n"
          ]
        },
        {
          "name": "stdout",
          "output_type": "stream",
          "text": [
            "Checkpoint Directory exists! \n",
            "Checkpoint Directory exists! \n"
          ]
        },
        {
          "name": "stderr",
          "output_type": "stream",
          "text": [
            "2024-01-09 22:22:58 a4cc4a176bae Coach[371] INFO Starting Iter #8 ...\n",
            "Self Play: 100%|██████████| 25/25 [12:42<00:00, 30.50s/it]\n"
          ]
        },
        {
          "name": "stdout",
          "output_type": "stream",
          "text": [
            "Checkpoint Directory exists! \n",
            "Epoch 1/10\n",
            "516/516 [==============================] - 59s 114ms/step - loss: 0.9368 - pi_loss: 0.5627 - v_loss: 0.3741\n",
            "Epoch 2/10\n",
            "516/516 [==============================] - 60s 116ms/step - loss: 0.8711 - pi_loss: 0.5231 - v_loss: 0.3480\n",
            "Epoch 3/10\n",
            "516/516 [==============================] - 59s 115ms/step - loss: 0.8420 - pi_loss: 0.5020 - v_loss: 0.3400\n",
            "Epoch 4/10\n",
            "516/516 [==============================] - 59s 113ms/step - loss: 0.8206 - pi_loss: 0.4901 - v_loss: 0.3305\n",
            "Epoch 5/10\n",
            "516/516 [==============================] - 60s 116ms/step - loss: 0.8105 - pi_loss: 0.4832 - v_loss: 0.3272\n",
            "Epoch 6/10\n",
            "516/516 [==============================] - 60s 115ms/step - loss: 0.7982 - pi_loss: 0.4780 - v_loss: 0.3202\n",
            "Epoch 7/10\n",
            "516/516 [==============================] - 59s 115ms/step - loss: 0.7926 - pi_loss: 0.4752 - v_loss: 0.3174\n",
            "Epoch 8/10\n",
            "516/516 [==============================] - 58s 112ms/step - loss: 0.7805 - pi_loss: 0.4670 - v_loss: 0.3135\n",
            "Epoch 9/10\n",
            "516/516 [==============================] - 59s 115ms/step - loss: 0.7772 - pi_loss: 0.4673 - v_loss: 0.3099\n",
            "Epoch 10/10\n",
            "516/516 [==============================] - 60s 116ms/step - loss: 0.7748 - pi_loss: 0.4653 - v_loss: 0.3095\n"
          ]
        },
        {
          "name": "stderr",
          "output_type": "stream",
          "text": [
            "2024-01-09 22:45:38 a4cc4a176bae Coach[371] INFO PITTING AGAINST PREVIOUS VERSION\n",
            "Arena.playGames (1): 100%|██████████| 10/10 [07:51<00:00, 47.15s/it]\n",
            "Arena.playGames (2): 100%|██████████| 10/10 [07:28<00:00, 44.83s/it]\n",
            "2024-01-09 23:00:58 a4cc4a176bae Coach[371] INFO NEW/PREV WINS : 13 / 7 ; DRAWS : 0\n",
            "2024-01-09 23:00:58 a4cc4a176bae Coach[371] INFO ACCEPTING NEW MODEL\n"
          ]
        },
        {
          "name": "stdout",
          "output_type": "stream",
          "text": [
            "Checkpoint Directory exists! \n"
          ]
        },
        {
          "name": "stderr",
          "output_type": "stream",
          "text": [
            "2024-01-09 23:01:00 a4cc4a176bae Coach[371] INFO Starting Iter #9 ...\n"
          ]
        },
        {
          "name": "stdout",
          "output_type": "stream",
          "text": [
            "Checkpoint Directory exists! \n"
          ]
        },
        {
          "name": "stderr",
          "output_type": "stream",
          "text": [
            "Self Play: 100%|██████████| 25/25 [10:22<00:00, 24.89s/it]\n"
          ]
        },
        {
          "name": "stdout",
          "output_type": "stream",
          "text": [
            "Checkpoint Directory exists! \n",
            "Epoch 1/10\n",
            "575/575 [==============================] - 63s 110ms/step - loss: 0.9273 - pi_loss: 0.5510 - v_loss: 0.3763\n",
            "Epoch 2/10\n",
            "575/575 [==============================] - 64s 112ms/step - loss: 0.8654 - pi_loss: 0.5096 - v_loss: 0.3558\n",
            "Epoch 3/10\n",
            "575/575 [==============================] - 62s 108ms/step - loss: 0.8360 - pi_loss: 0.4913 - v_loss: 0.3446\n",
            "Epoch 4/10\n",
            "575/575 [==============================] - 62s 109ms/step - loss: 0.8226 - pi_loss: 0.4840 - v_loss: 0.3386\n",
            "Epoch 5/10\n",
            "575/575 [==============================] - 63s 110ms/step - loss: 0.8103 - pi_loss: 0.4766 - v_loss: 0.3337\n",
            "Epoch 6/10\n",
            "575/575 [==============================] - 62s 108ms/step - loss: 0.8015 - pi_loss: 0.4728 - v_loss: 0.3286\n",
            "Epoch 7/10\n",
            "575/575 [==============================] - 63s 110ms/step - loss: 0.7972 - pi_loss: 0.4726 - v_loss: 0.3246\n",
            "Epoch 8/10\n",
            "575/575 [==============================] - 62s 108ms/step - loss: 0.7908 - pi_loss: 0.4658 - v_loss: 0.3250\n",
            "Epoch 9/10\n",
            "575/575 [==============================] - 62s 108ms/step - loss: 0.7874 - pi_loss: 0.4657 - v_loss: 0.3217\n",
            "Epoch 10/10\n",
            "575/575 [==============================] - 64s 111ms/step - loss: 0.7815 - pi_loss: 0.4632 - v_loss: 0.3183\n"
          ]
        },
        {
          "name": "stderr",
          "output_type": "stream",
          "text": [
            "2024-01-09 23:22:52 a4cc4a176bae Coach[371] INFO PITTING AGAINST PREVIOUS VERSION\n",
            "Arena.playGames (1): 100%|██████████| 10/10 [06:55<00:00, 41.59s/it]\n",
            "Arena.playGames (2): 100%|██████████| 10/10 [06:29<00:00, 38.96s/it]\n",
            "2024-01-09 23:36:18 a4cc4a176bae Coach[371] INFO NEW/PREV WINS : 13 / 6 ; DRAWS : 1\n",
            "2024-01-09 23:36:18 a4cc4a176bae Coach[371] INFO ACCEPTING NEW MODEL\n"
          ]
        },
        {
          "name": "stdout",
          "output_type": "stream",
          "text": [
            "Checkpoint Directory exists! \n",
            "Checkpoint Directory exists! \n"
          ]
        },
        {
          "name": "stderr",
          "output_type": "stream",
          "text": [
            "2024-01-09 23:36:20 a4cc4a176bae Coach[371] INFO Starting Iter #10 ...\n",
            "Self Play: 100%|██████████| 25/25 [08:55<00:00, 21.41s/it]\n"
          ]
        },
        {
          "name": "stdout",
          "output_type": "stream",
          "text": [
            "Checkpoint Directory exists! \n",
            "Epoch 1/10\n",
            "628/628 [==============================] - 68s 108ms/step - loss: 0.8801 - pi_loss: 0.5235 - v_loss: 0.3566\n",
            "Epoch 2/10\n",
            "628/628 [==============================] - 69s 110ms/step - loss: 0.8326 - pi_loss: 0.4924 - v_loss: 0.3403\n",
            "Epoch 3/10\n",
            "628/628 [==============================] - 69s 109ms/step - loss: 0.8173 - pi_loss: 0.4806 - v_loss: 0.3366\n",
            "Epoch 4/10\n",
            "628/628 [==============================] - 68s 109ms/step - loss: 0.8019 - pi_loss: 0.4724 - v_loss: 0.3295\n",
            "Epoch 5/10\n",
            "628/628 [==============================] - 67s 107ms/step - loss: 0.7902 - pi_loss: 0.4663 - v_loss: 0.3239\n",
            "Epoch 6/10\n",
            "628/628 [==============================] - 69s 109ms/step - loss: 0.7893 - pi_loss: 0.4660 - v_loss: 0.3233\n",
            "Epoch 7/10\n",
            "628/628 [==============================] - 69s 109ms/step - loss: 0.7829 - pi_loss: 0.4630 - v_loss: 0.3199\n",
            "Epoch 8/10\n",
            "628/628 [==============================] - 68s 108ms/step - loss: 0.7819 - pi_loss: 0.4634 - v_loss: 0.3185\n",
            "Epoch 9/10\n",
            "628/628 [==============================] - 68s 108ms/step - loss: 0.7795 - pi_loss: 0.4614 - v_loss: 0.3182\n",
            "Epoch 10/10\n",
            "628/628 [==============================] - 69s 109ms/step - loss: 0.7759 - pi_loss: 0.4589 - v_loss: 0.3169\n"
          ]
        },
        {
          "name": "stderr",
          "output_type": "stream",
          "text": [
            "2024-01-09 23:57:44 a4cc4a176bae Coach[371] INFO PITTING AGAINST PREVIOUS VERSION\n",
            "Arena.playGames (1): 100%|██████████| 10/10 [08:28<00:00, 50.88s/it]\n",
            "Arena.playGames (2): 100%|██████████| 10/10 [08:51<00:00, 53.19s/it]\n",
            "2024-01-10 00:15:05 a4cc4a176bae Coach[371] INFO NEW/PREV WINS : 9 / 11 ; DRAWS : 0\n",
            "2024-01-10 00:15:05 a4cc4a176bae Coach[371] INFO REJECTING NEW MODEL\n",
            "2024-01-10 00:15:07 a4cc4a176bae Coach[371] INFO Starting Iter #11 ...\n",
            "Self Play: 100%|██████████| 25/25 [12:40<00:00, 30.43s/it]\n"
          ]
        },
        {
          "name": "stdout",
          "output_type": "stream",
          "text": [
            "Checkpoint Directory exists! \n",
            "Epoch 1/10\n",
            "698/698 [==============================] - 82s 115ms/step - loss: 0.9946 - pi_loss: 0.5749 - v_loss: 0.4197\n",
            "Epoch 2/10\n",
            "698/698 [==============================] - 77s 110ms/step - loss: 0.9187 - pi_loss: 0.5251 - v_loss: 0.3936\n",
            "Epoch 3/10\n",
            "698/698 [==============================] - 79s 113ms/step - loss: 0.8842 - pi_loss: 0.5045 - v_loss: 0.3797\n",
            "Epoch 4/10\n",
            "698/698 [==============================] - 76s 109ms/step - loss: 0.8603 - pi_loss: 0.4896 - v_loss: 0.3707\n",
            "Epoch 5/10\n",
            "698/698 [==============================] - 77s 110ms/step - loss: 0.8416 - pi_loss: 0.4810 - v_loss: 0.3605\n",
            "Epoch 6/10\n",
            "698/698 [==============================] - 78s 112ms/step - loss: 0.8314 - pi_loss: 0.4776 - v_loss: 0.3538\n",
            "Epoch 7/10\n",
            "698/698 [==============================] - 77s 110ms/step - loss: 0.8180 - pi_loss: 0.4714 - v_loss: 0.3466\n",
            "Epoch 8/10\n",
            "698/698 [==============================] - 79s 113ms/step - loss: 0.8139 - pi_loss: 0.4699 - v_loss: 0.3440\n",
            "Epoch 9/10\n",
            "698/698 [==============================] - 76s 109ms/step - loss: 0.8057 - pi_loss: 0.4656 - v_loss: 0.3401\n",
            "Epoch 10/10\n",
            "698/698 [==============================] - 77s 110ms/step - loss: 0.8030 - pi_loss: 0.4642 - v_loss: 0.3388\n"
          ]
        },
        {
          "name": "stderr",
          "output_type": "stream",
          "text": [
            "2024-01-10 00:41:18 a4cc4a176bae Coach[371] INFO PITTING AGAINST PREVIOUS VERSION\n",
            "Arena.playGames (1): 100%|██████████| 10/10 [07:37<00:00, 45.74s/it]\n",
            "Arena.playGames (2): 100%|██████████| 10/10 [07:52<00:00, 47.26s/it]\n",
            "2024-01-10 00:56:48 a4cc4a176bae Coach[371] INFO NEW/PREV WINS : 7 / 13 ; DRAWS : 0\n",
            "2024-01-10 00:56:48 a4cc4a176bae Coach[371] INFO REJECTING NEW MODEL\n",
            "2024-01-10 00:56:49 a4cc4a176bae Coach[371] INFO Starting Iter #12 ...\n",
            "Self Play: 100%|██████████| 25/25 [10:19<00:00, 24.79s/it]\n"
          ]
        },
        {
          "name": "stdout",
          "output_type": "stream",
          "text": [
            "Checkpoint Directory exists! \n",
            "Epoch 1/10\n",
            "756/756 [==============================] - 84s 110ms/step - loss: 1.0736 - pi_loss: 0.6170 - v_loss: 0.4565\n",
            "Epoch 2/10\n",
            "756/756 [==============================] - 81s 107ms/step - loss: 0.9686 - pi_loss: 0.5517 - v_loss: 0.4169\n",
            "Epoch 3/10\n",
            "756/756 [==============================] - 80s 105ms/step - loss: 0.9228 - pi_loss: 0.5227 - v_loss: 0.4001\n",
            "Epoch 4/10\n",
            "756/756 [==============================] - 81s 107ms/step - loss: 0.8927 - pi_loss: 0.5064 - v_loss: 0.3862\n",
            "Epoch 5/10\n",
            "756/756 [==============================] - 80s 106ms/step - loss: 0.8613 - pi_loss: 0.4903 - v_loss: 0.3710\n",
            "Epoch 6/10\n",
            "756/756 [==============================] - 79s 105ms/step - loss: 0.8539 - pi_loss: 0.4866 - v_loss: 0.3673\n",
            "Epoch 7/10\n",
            "756/756 [==============================] - 80s 106ms/step - loss: 0.8379 - pi_loss: 0.4783 - v_loss: 0.3596\n",
            "Epoch 8/10\n",
            "756/756 [==============================] - 79s 105ms/step - loss: 0.8289 - pi_loss: 0.4743 - v_loss: 0.3546\n",
            "Epoch 9/10\n",
            "756/756 [==============================] - 80s 106ms/step - loss: 0.8207 - pi_loss: 0.4709 - v_loss: 0.3498\n",
            "Epoch 10/10\n",
            "756/756 [==============================] - 79s 105ms/step - loss: 0.8151 - pi_loss: 0.4683 - v_loss: 0.3468\n"
          ]
        },
        {
          "name": "stderr",
          "output_type": "stream",
          "text": [
            "2024-01-10 01:20:41 a4cc4a176bae Coach[371] INFO PITTING AGAINST PREVIOUS VERSION\n",
            "Arena.playGames (1):  50%|█████     | 5/10 [03:30<03:27, 41.54s/it]"
          ]
        }
      ],
      "source": [
        "args = dotdict({\n",
        "    'numIters':20,\n",
        "    'numEps': 25,              # Number of complete self-play games to simulate during a new iteration.\n",
        "    'tempThreshold': 15,        #\n",
        "    'updateThreshold': 0.6,     # During arena playoff, new neural net will be accepted if threshold or more of games are won.\n",
        "    'maxlenOfQueue': 50000,    # Number of game examples to train the neural networks.\n",
        "    'numMCTSSims': 25,          # Number of games moves for MCTS to simulate.\n",
        "    'arenaCompare': 20,         # Number of games to play during arena play to determine if new net will be accepted.\n",
        "    'cpuct': 1,\n",
        "\n",
        "    'checkpoint': '/content/drive/MyDrive/trabalho2_liacd/models/ataxx/5x5',\n",
        "    'load_model': True,\n",
        "    'load_folder_file': ('/content/drive/MyDrive/trabalho2_liacd/models/ataxx/5x5', 'best.h5'),\n",
        "    'numItersForTrainExamplesHistory': 20,\n",
        "\n",
        "})\n",
        "\n",
        "\n",
        "log.info('Loading %s...', Game.__name__)\n",
        "g = Game(5)\n",
        "\n",
        "log.info('Loading %s...', nn.__name__)\n",
        "nnet = nn(g)\n",
        "\n",
        "if args.load_model:\n",
        "    log.info('Loading checkpoint \"%s/%s\"...', args.load_folder_file[0], args.load_folder_file[1])\n",
        "    nnet.load_model(args.load_folder_file[0], args.load_folder_file[1])\n",
        "else:\n",
        "    log.warning('Not loading a checkpoint!')\n",
        "\n",
        "log.info('Loading the Coach...')\n",
        "c = Coach(g, nnet, args)\n",
        "\n",
        "if args.load_model:\n",
        "    log.info(\"Loading 'trainExamples' from file...\")\n",
        "    c.loadTrainExamples()\n",
        "\n",
        "log.info('Starting the learning process 🎉')\n",
        "c.learn()\n",
        "\n"
      ]
    },
    {
      "cell_type": "markdown",
      "metadata": {
        "id": "YxQ4HC5e0h8c"
      },
      "source": [
        "#Décimo Nono Treino"
      ]
    },
    {
      "cell_type": "code",
      "execution_count": null,
      "metadata": {
        "colab": {
          "background_save": true,
          "base_uri": "https://localhost:8080/"
        },
        "id": "fIyvPw1Z0j8_",
        "outputId": "592e9671-9222-48ff-a32d-d6afe1dff51b"
      },
      "outputs": [
        {
          "name": "stderr",
          "output_type": "stream",
          "text": [
            "2024-01-10 14:41:37 4c6138a7df06 __main__[446] INFO Loading AtaxxGame...\n",
            "2024-01-10 14:41:37 4c6138a7df06 __main__[446] INFO Loading NNetWrapper...\n",
            "2024-01-10 14:41:38 4c6138a7df06 __main__[446] INFO Loading checkpoint \"/content/drive/MyDrive/trabalho2_liacd/models/ataxx/5x5/best.h5\"...\n",
            "2024-01-10 14:41:40 4c6138a7df06 __main__[446] INFO Loading the Coach...\n",
            "2024-01-10 14:41:40 4c6138a7df06 __main__[446] INFO Loading 'trainExamples' from file...\n",
            "2024-01-10 14:41:40 4c6138a7df06 Coach[446] WARNING File \"/content/drive/MyDrive/trabalho2_liacd/models/ataxx/5x5/best.h5.examples\" with trainExamples not found!\n",
            "2024-01-10 14:41:42 4c6138a7df06 __main__[446] INFO Starting the learning process 🎉\n",
            "2024-01-10 14:41:42 4c6138a7df06 Coach[446] INFO Starting Iter #1 ...\n",
            "Self Play: 100%|██████████| 25/25 [12:05<00:00, 29.00s/it]\n"
          ]
        },
        {
          "name": "stdout",
          "output_type": "stream",
          "text": [
            "Checkpoint Directory exists! \n"
          ]
        },
        {
          "name": "stderr",
          "output_type": "stream",
          "text": [
            "/usr/local/lib/python3.10/dist-packages/keras/src/engine/training.py:3103: UserWarning: You are saving your model as an HDF5 file via `model.save()`. This file format is considered legacy. We recommend using instead the native Keras format, e.g. `model.save('my_model.keras')`.\n",
            "  saving_api.save_model(\n"
          ]
        },
        {
          "name": "stdout",
          "output_type": "stream",
          "text": [
            "Epoch 1/10\n",
            "66/66 [==============================] - 12s 159ms/step - loss: 1.7507 - pi_loss: 0.9445 - v_loss: 0.8062\n",
            "Epoch 2/10\n",
            "66/66 [==============================] - 8s 121ms/step - loss: 1.2444 - pi_loss: 0.6390 - v_loss: 0.6054\n",
            "Epoch 3/10\n",
            "66/66 [==============================] - 10s 160ms/step - loss: 1.0571 - pi_loss: 0.5435 - v_loss: 0.5136\n",
            "Epoch 4/10\n",
            "66/66 [==============================] - 9s 132ms/step - loss: 0.9465 - pi_loss: 0.4929 - v_loss: 0.4536\n",
            "Epoch 5/10\n",
            "66/66 [==============================] - 9s 136ms/step - loss: 0.8531 - pi_loss: 0.4539 - v_loss: 0.3992\n",
            "Epoch 6/10\n",
            "66/66 [==============================] - 8s 123ms/step - loss: 0.7989 - pi_loss: 0.4334 - v_loss: 0.3655\n",
            "Epoch 7/10\n",
            "66/66 [==============================] - 9s 134ms/step - loss: 0.7593 - pi_loss: 0.4201 - v_loss: 0.3392\n",
            "Epoch 8/10\n",
            "66/66 [==============================] - 8s 126ms/step - loss: 0.7369 - pi_loss: 0.4167 - v_loss: 0.3201\n",
            "Epoch 9/10\n",
            "66/66 [==============================] - 9s 138ms/step - loss: 0.6978 - pi_loss: 0.3982 - v_loss: 0.2996\n",
            "Epoch 10/10\n",
            "66/66 [==============================] - 9s 143ms/step - loss: 0.6881 - pi_loss: 0.4004 - v_loss: 0.2877\n"
          ]
        },
        {
          "name": "stderr",
          "output_type": "stream",
          "text": [
            "2024-01-10 14:56:12 4c6138a7df06 Coach[446] INFO PITTING AGAINST PREVIOUS VERSION\n",
            "Arena.playGames (1): 100%|██████████| 10/10 [07:15<00:00, 43.51s/it]\n",
            "Arena.playGames (2): 100%|██████████| 10/10 [09:59<00:00, 59.95s/it]\n",
            "2024-01-10 15:13:27 4c6138a7df06 Coach[446] INFO NEW/PREV WINS : 11 / 9 ; DRAWS : 0\n",
            "2024-01-10 15:13:27 4c6138a7df06 Coach[446] INFO REJECTING NEW MODEL\n",
            "2024-01-10 15:13:28 4c6138a7df06 Coach[446] INFO Starting Iter #2 ...\n",
            "Self Play: 100%|██████████| 25/25 [13:08<00:00, 31.53s/it]\n"
          ]
        },
        {
          "name": "stdout",
          "output_type": "stream",
          "text": [
            "Checkpoint Directory exists! \n",
            "Epoch 1/10\n",
            "138/138 [==============================] - 20s 133ms/step - loss: 1.6459 - pi_loss: 0.8886 - v_loss: 0.7573\n",
            "Epoch 2/10\n",
            "138/138 [==============================] - 18s 128ms/step - loss: 1.2573 - pi_loss: 0.6496 - v_loss: 0.6077\n",
            "Epoch 3/10\n",
            "138/138 [==============================] - 18s 128ms/step - loss: 1.0785 - pi_loss: 0.5523 - v_loss: 0.5262\n",
            "Epoch 4/10\n",
            "138/138 [==============================] - 18s 128ms/step - loss: 0.9716 - pi_loss: 0.4988 - v_loss: 0.4728\n",
            "Epoch 5/10\n",
            "138/138 [==============================] - 18s 129ms/step - loss: 0.8968 - pi_loss: 0.4649 - v_loss: 0.4319\n",
            "Epoch 6/10\n",
            "138/138 [==============================] - 18s 129ms/step - loss: 0.8500 - pi_loss: 0.4455 - v_loss: 0.4046\n",
            "Epoch 7/10\n",
            "138/138 [==============================] - 18s 128ms/step - loss: 0.8119 - pi_loss: 0.4278 - v_loss: 0.3841\n",
            "Epoch 8/10\n",
            "138/138 [==============================] - 18s 128ms/step - loss: 0.7756 - pi_loss: 0.4144 - v_loss: 0.3612\n",
            "Epoch 9/10\n",
            "138/138 [==============================] - 22s 157ms/step - loss: 0.7469 - pi_loss: 0.4033 - v_loss: 0.3436\n",
            "Epoch 10/10\n",
            "138/138 [==============================] - 18s 132ms/step - loss: 0.7336 - pi_loss: 0.3977 - v_loss: 0.3359\n"
          ]
        },
        {
          "name": "stderr",
          "output_type": "stream",
          "text": [
            "2024-01-10 15:30:03 4c6138a7df06 Coach[446] INFO PITTING AGAINST PREVIOUS VERSION\n",
            "Arena.playGames (1): 100%|██████████| 10/10 [07:39<00:00, 45.98s/it]\n",
            "Arena.playGames (2): 100%|██████████| 10/10 [08:51<00:00, 53.16s/it]\n",
            "2024-01-10 15:46:34 4c6138a7df06 Coach[446] INFO NEW/PREV WINS : 7 / 9 ; DRAWS : 4\n",
            "2024-01-10 15:46:34 4c6138a7df06 Coach[446] INFO REJECTING NEW MODEL\n",
            "2024-01-10 15:46:36 4c6138a7df06 Coach[446] INFO Starting Iter #3 ...\n",
            "Self Play: 100%|██████████| 25/25 [11:48<00:00, 28.33s/it]\n"
          ]
        },
        {
          "name": "stdout",
          "output_type": "stream",
          "text": [
            "Checkpoint Directory exists! \n",
            "Epoch 1/10\n",
            "203/203 [==============================] - 30s 142ms/step - loss: 1.6069 - pi_loss: 0.8694 - v_loss: 0.7375\n",
            "Epoch 2/10\n",
            "203/203 [==============================] - 28s 139ms/step - loss: 1.2550 - pi_loss: 0.6607 - v_loss: 0.5943\n",
            "Epoch 3/10\n",
            "203/203 [==============================] - 28s 135ms/step - loss: 1.1052 - pi_loss: 0.5759 - v_loss: 0.5292\n",
            "Epoch 4/10\n",
            "203/203 [==============================] - 31s 152ms/step - loss: 0.9907 - pi_loss: 0.5149 - v_loss: 0.4758\n",
            "Epoch 5/10\n",
            "203/203 [==============================] - 28s 138ms/step - loss: 0.9150 - pi_loss: 0.4825 - v_loss: 0.4325\n",
            "Epoch 6/10\n",
            "203/203 [==============================] - 26s 130ms/step - loss: 0.8612 - pi_loss: 0.4526 - v_loss: 0.4086\n",
            "Epoch 7/10\n",
            "203/203 [==============================] - 28s 140ms/step - loss: 0.8171 - pi_loss: 0.4349 - v_loss: 0.3822\n",
            "Epoch 8/10\n",
            "203/203 [==============================] - 28s 140ms/step - loss: 0.7819 - pi_loss: 0.4170 - v_loss: 0.3649\n",
            "Epoch 9/10\n",
            "203/203 [==============================] - 26s 128ms/step - loss: 0.7624 - pi_loss: 0.4096 - v_loss: 0.3528\n",
            "Epoch 10/10\n",
            "203/203 [==============================] - 28s 140ms/step - loss: 0.7405 - pi_loss: 0.3998 - v_loss: 0.3407\n"
          ]
        },
        {
          "name": "stderr",
          "output_type": "stream",
          "text": [
            "2024-01-10 16:03:50 4c6138a7df06 Coach[446] INFO PITTING AGAINST PREVIOUS VERSION\n",
            "Arena.playGames (1): 100%|██████████| 10/10 [07:03<00:00, 42.35s/it]\n",
            "Arena.playGames (2): 100%|██████████| 10/10 [11:12<00:00, 67.22s/it]\n",
            "2024-01-10 16:22:05 4c6138a7df06 Coach[446] INFO NEW/PREV WINS : 5 / 15 ; DRAWS : 0\n",
            "2024-01-10 16:22:05 4c6138a7df06 Coach[446] INFO REJECTING NEW MODEL\n",
            "2024-01-10 16:22:07 4c6138a7df06 Coach[446] INFO Starting Iter #4 ...\n",
            "Self Play: 100%|██████████| 25/25 [10:55<00:00, 26.20s/it]\n"
          ]
        },
        {
          "name": "stdout",
          "output_type": "stream",
          "text": [
            "Checkpoint Directory exists! \n",
            "Epoch 1/10\n",
            "260/260 [==============================] - 36s 130ms/step - loss: 1.5541 - pi_loss: 0.8643 - v_loss: 0.6898\n",
            "Epoch 2/10\n",
            "260/260 [==============================] - 34s 130ms/step - loss: 1.2187 - pi_loss: 0.6583 - v_loss: 0.5605\n",
            "Epoch 3/10\n",
            "260/260 [==============================] - 34s 133ms/step - loss: 1.0718 - pi_loss: 0.5751 - v_loss: 0.4967\n",
            "Epoch 4/10\n",
            "260/260 [==============================] - 34s 131ms/step - loss: 0.9737 - pi_loss: 0.5215 - v_loss: 0.4522\n",
            "Epoch 5/10\n",
            "260/260 [==============================] - 36s 137ms/step - loss: 0.8999 - pi_loss: 0.4863 - v_loss: 0.4136\n",
            "Epoch 6/10\n",
            "260/260 [==============================] - 34s 131ms/step - loss: 0.8441 - pi_loss: 0.4554 - v_loss: 0.3887\n",
            "Epoch 7/10\n",
            "260/260 [==============================] - 34s 132ms/step - loss: 0.8049 - pi_loss: 0.4367 - v_loss: 0.3682\n",
            "Epoch 8/10\n",
            "260/260 [==============================] - 34s 131ms/step - loss: 0.7722 - pi_loss: 0.4206 - v_loss: 0.3516\n",
            "Epoch 9/10\n",
            "260/260 [==============================] - 34s 131ms/step - loss: 0.7534 - pi_loss: 0.4132 - v_loss: 0.3402\n",
            "Epoch 10/10\n",
            "260/260 [==============================] - 34s 131ms/step - loss: 0.7237 - pi_loss: 0.3988 - v_loss: 0.3249\n"
          ]
        },
        {
          "name": "stderr",
          "output_type": "stream",
          "text": [
            "2024-01-10 16:39:29 4c6138a7df06 Coach[446] INFO PITTING AGAINST PREVIOUS VERSION\n",
            "Arena.playGames (1): 100%|██████████| 10/10 [06:46<00:00, 40.63s/it]\n",
            "Arena.playGames (2): 100%|██████████| 10/10 [09:38<00:00, 57.85s/it]\n",
            "2024-01-10 16:55:54 4c6138a7df06 Coach[446] INFO NEW/PREV WINS : 12 / 7 ; DRAWS : 1\n",
            "2024-01-10 16:55:54 4c6138a7df06 Coach[446] INFO ACCEPTING NEW MODEL\n"
          ]
        },
        {
          "name": "stdout",
          "output_type": "stream",
          "text": [
            "Checkpoint Directory exists! \n",
            "Checkpoint Directory exists! \n"
          ]
        },
        {
          "name": "stderr",
          "output_type": "stream",
          "text": [
            "2024-01-10 16:55:56 4c6138a7df06 Coach[446] INFO Starting Iter #5 ...\n",
            "Self Play: 100%|██████████| 25/25 [12:45<00:00, 30.63s/it]\n"
          ]
        },
        {
          "name": "stdout",
          "output_type": "stream",
          "text": [
            "Checkpoint Directory exists! \n",
            "Epoch 1/10\n",
            "325/325 [==============================] - 44s 136ms/step - loss: 0.9457 - pi_loss: 0.5293 - v_loss: 0.4164\n",
            "Epoch 2/10\n",
            "325/325 [==============================] - 46s 142ms/step - loss: 0.8568 - pi_loss: 0.4740 - v_loss: 0.3827\n",
            "Epoch 3/10\n",
            "325/325 [==============================] - 41s 128ms/step - loss: 0.8042 - pi_loss: 0.4463 - v_loss: 0.3579\n",
            "Epoch 4/10\n",
            "325/325 [==============================] - 44s 135ms/step - loss: 0.7698 - pi_loss: 0.4287 - v_loss: 0.3411\n",
            "Epoch 5/10\n",
            "325/325 [==============================] - 42s 131ms/step - loss: 0.7447 - pi_loss: 0.4158 - v_loss: 0.3289\n",
            "Epoch 6/10\n",
            "325/325 [==============================] - 42s 130ms/step - loss: 0.7198 - pi_loss: 0.4051 - v_loss: 0.3147\n",
            "Epoch 7/10\n",
            "325/325 [==============================] - 44s 135ms/step - loss: 0.7078 - pi_loss: 0.4004 - v_loss: 0.3074\n",
            "Epoch 8/10\n",
            "325/325 [==============================] - 44s 135ms/step - loss: 0.6986 - pi_loss: 0.3947 - v_loss: 0.3039\n",
            "Epoch 9/10\n",
            "325/325 [==============================] - 45s 138ms/step - loss: 0.6857 - pi_loss: 0.3885 - v_loss: 0.2973\n",
            "Epoch 10/10\n",
            "325/325 [==============================] - 44s 136ms/step - loss: 0.6800 - pi_loss: 0.3867 - v_loss: 0.2932\n"
          ]
        },
        {
          "name": "stderr",
          "output_type": "stream",
          "text": [
            "2024-01-10 17:16:03 4c6138a7df06 Coach[446] INFO PITTING AGAINST PREVIOUS VERSION\n",
            "Arena.playGames (1): 100%|██████████| 10/10 [09:24<00:00, 56.42s/it]\n",
            "Arena.playGames (2): 100%|██████████| 10/10 [10:01<00:00, 60.12s/it]\n",
            "2024-01-10 17:35:28 4c6138a7df06 Coach[446] INFO NEW/PREV WINS : 11 / 9 ; DRAWS : 0\n",
            "2024-01-10 17:35:28 4c6138a7df06 Coach[446] INFO REJECTING NEW MODEL\n",
            "2024-01-10 17:35:30 4c6138a7df06 Coach[446] INFO Starting Iter #6 ...\n",
            "Self Play: 100%|██████████| 25/25 [12:59<00:00, 31.19s/it]\n"
          ]
        },
        {
          "name": "stdout",
          "output_type": "stream",
          "text": [
            "Checkpoint Directory exists! \n",
            "Epoch 1/10\n",
            "384/384 [==============================] - 52s 132ms/step - loss: 1.0552 - pi_loss: 0.5908 - v_loss: 0.4644\n",
            "Epoch 2/10\n",
            "384/384 [==============================] - 51s 132ms/step - loss: 0.9277 - pi_loss: 0.5161 - v_loss: 0.4116\n",
            "Epoch 3/10\n",
            "384/384 [==============================] - 50s 129ms/step - loss: 0.8660 - pi_loss: 0.4851 - v_loss: 0.3809\n",
            "Epoch 4/10\n",
            "384/384 [==============================] - 51s 134ms/step - loss: 0.8130 - pi_loss: 0.4585 - v_loss: 0.3545\n",
            "Epoch 5/10\n",
            "384/384 [==============================] - 51s 133ms/step - loss: 0.7782 - pi_loss: 0.4430 - v_loss: 0.3353\n",
            "Epoch 6/10\n",
            "384/384 [==============================] - 50s 129ms/step - loss: 0.7598 - pi_loss: 0.4325 - v_loss: 0.3273\n",
            "Epoch 7/10\n",
            "384/384 [==============================] - 50s 130ms/step - loss: 0.7394 - pi_loss: 0.4217 - v_loss: 0.3177\n",
            "Epoch 8/10\n",
            "384/384 [==============================] - 50s 130ms/step - loss: 0.7224 - pi_loss: 0.4123 - v_loss: 0.3101\n",
            "Epoch 9/10\n",
            "384/384 [==============================] - 51s 132ms/step - loss: 0.7106 - pi_loss: 0.4060 - v_loss: 0.3046\n",
            "Epoch 10/10\n",
            "384/384 [==============================] - 52s 136ms/step - loss: 0.7040 - pi_loss: 0.4029 - v_loss: 0.3011\n"
          ]
        },
        {
          "name": "stderr",
          "output_type": "stream",
          "text": [
            "2024-01-10 17:57:01 4c6138a7df06 Coach[446] INFO PITTING AGAINST PREVIOUS VERSION\n",
            "Arena.playGames (1): 100%|██████████| 10/10 [10:09<00:00, 61.00s/it]\n",
            "Arena.playGames (2): 100%|██████████| 10/10 [07:25<00:00, 44.57s/it]\n",
            "2024-01-10 18:14:37 4c6138a7df06 Coach[446] INFO NEW/PREV WINS : 14 / 6 ; DRAWS : 0\n",
            "2024-01-10 18:14:37 4c6138a7df06 Coach[446] INFO ACCEPTING NEW MODEL\n"
          ]
        },
        {
          "name": "stdout",
          "output_type": "stream",
          "text": [
            "Checkpoint Directory exists! \n",
            "Checkpoint Directory exists! \n"
          ]
        },
        {
          "name": "stderr",
          "output_type": "stream",
          "text": [
            "2024-01-10 18:14:40 4c6138a7df06 Coach[446] INFO Starting Iter #7 ...\n",
            "Self Play: 100%|██████████| 25/25 [14:15<00:00, 34.22s/it]\n"
          ]
        },
        {
          "name": "stdout",
          "output_type": "stream",
          "text": [
            "Checkpoint Directory exists! \n",
            "Epoch 1/10\n",
            "457/457 [==============================] - 61s 134ms/step - loss: 0.8672 - pi_loss: 0.4972 - v_loss: 0.3700\n",
            "Epoch 2/10\n",
            "457/457 [==============================] - 60s 132ms/step - loss: 0.7986 - pi_loss: 0.4542 - v_loss: 0.3444\n",
            "Epoch 3/10\n",
            "457/457 [==============================] - 63s 138ms/step - loss: 0.7617 - pi_loss: 0.4323 - v_loss: 0.3294\n",
            "Epoch 4/10\n",
            "457/457 [==============================] - 59s 130ms/step - loss: 0.7381 - pi_loss: 0.4219 - v_loss: 0.3163\n",
            "Epoch 5/10\n",
            "457/457 [==============================] - 60s 130ms/step - loss: 0.7243 - pi_loss: 0.4132 - v_loss: 0.3111\n",
            "Epoch 6/10\n",
            "457/457 [==============================] - 61s 133ms/step - loss: 0.7129 - pi_loss: 0.4092 - v_loss: 0.3037\n",
            "Epoch 7/10\n",
            "457/457 [==============================] - 63s 139ms/step - loss: 0.7032 - pi_loss: 0.4057 - v_loss: 0.2975\n",
            "Epoch 8/10\n",
            "457/457 [==============================] - 58s 128ms/step - loss: 0.6915 - pi_loss: 0.4014 - v_loss: 0.2900\n",
            "Epoch 9/10\n",
            "457/457 [==============================] - 60s 132ms/step - loss: 0.6851 - pi_loss: 0.3957 - v_loss: 0.2894\n",
            "Epoch 10/10\n",
            "457/457 [==============================] - 60s 131ms/step - loss: 0.6806 - pi_loss: 0.3945 - v_loss: 0.2861\n"
          ]
        },
        {
          "name": "stderr",
          "output_type": "stream",
          "text": [
            "2024-01-10 18:39:22 4c6138a7df06 Coach[446] INFO PITTING AGAINST PREVIOUS VERSION\n",
            "Arena.playGames (1): 100%|██████████| 10/10 [08:52<00:00, 53.22s/it]\n",
            "Arena.playGames (2): 100%|██████████| 10/10 [06:15<00:00, 37.58s/it]\n",
            "2024-01-10 18:54:30 4c6138a7df06 Coach[446] INFO NEW/PREV WINS : 16 / 4 ; DRAWS : 0\n",
            "2024-01-10 18:54:30 4c6138a7df06 Coach[446] INFO ACCEPTING NEW MODEL\n"
          ]
        },
        {
          "name": "stdout",
          "output_type": "stream",
          "text": [
            "Checkpoint Directory exists! \n",
            "Checkpoint Directory exists! \n"
          ]
        },
        {
          "name": "stderr",
          "output_type": "stream",
          "text": [
            "2024-01-10 18:54:33 4c6138a7df06 Coach[446] INFO Starting Iter #8 ...\n",
            "Self Play: 100%|██████████| 25/25 [13:37<00:00, 32.72s/it]\n"
          ]
        },
        {
          "name": "stdout",
          "output_type": "stream",
          "text": [
            "Checkpoint Directory exists! \n",
            "Epoch 1/10\n",
            "525/525 [==============================] - 71s 136ms/step - loss: 0.8144 - pi_loss: 0.4873 - v_loss: 0.3271\n",
            "Epoch 2/10\n",
            "525/525 [==============================] - 69s 132ms/step - loss: 0.7465 - pi_loss: 0.4408 - v_loss: 0.3057\n",
            "Epoch 3/10\n",
            "525/525 [==============================] - 68s 130ms/step - loss: 0.7174 - pi_loss: 0.4239 - v_loss: 0.2935\n",
            "Epoch 4/10\n",
            "525/525 [==============================] - 70s 134ms/step - loss: 0.6983 - pi_loss: 0.4123 - v_loss: 0.2860\n",
            "Epoch 5/10\n",
            "525/525 [==============================] - 68s 129ms/step - loss: 0.6874 - pi_loss: 0.4075 - v_loss: 0.2799\n",
            "Epoch 6/10\n",
            "525/525 [==============================] - 67s 129ms/step - loss: 0.6736 - pi_loss: 0.4016 - v_loss: 0.2721\n",
            "Epoch 7/10\n",
            "525/525 [==============================] - 68s 129ms/step - loss: 0.6691 - pi_loss: 0.3988 - v_loss: 0.2702\n",
            "Epoch 8/10\n",
            "525/525 [==============================] - 71s 134ms/step - loss: 0.6636 - pi_loss: 0.3957 - v_loss: 0.2679\n",
            "Epoch 9/10\n",
            "525/525 [==============================] - 68s 130ms/step - loss: 0.6589 - pi_loss: 0.3937 - v_loss: 0.2653\n",
            "Epoch 10/10\n",
            "525/525 [==============================] - 68s 130ms/step - loss: 0.6538 - pi_loss: 0.3912 - v_loss: 0.2626\n"
          ]
        },
        {
          "name": "stderr",
          "output_type": "stream",
          "text": [
            "2024-01-10 19:20:38 4c6138a7df06 Coach[446] INFO PITTING AGAINST PREVIOUS VERSION\n",
            "Arena.playGames (1): 100%|██████████| 10/10 [08:15<00:00, 49.60s/it]\n",
            "Arena.playGames (2): 100%|██████████| 10/10 [07:48<00:00, 46.86s/it]\n",
            "2024-01-10 19:36:43 4c6138a7df06 Coach[446] INFO NEW/PREV WINS : 12 / 8 ; DRAWS : 0\n",
            "2024-01-10 19:36:43 4c6138a7df06 Coach[446] INFO ACCEPTING NEW MODEL\n"
          ]
        },
        {
          "name": "stdout",
          "output_type": "stream",
          "text": [
            "Checkpoint Directory exists! \n",
            "Checkpoint Directory exists! \n"
          ]
        },
        {
          "name": "stderr",
          "output_type": "stream",
          "text": [
            "2024-01-10 19:36:45 4c6138a7df06 Coach[446] INFO Starting Iter #9 ...\n",
            "Self Play: 100%|██████████| 25/25 [14:03<00:00, 33.72s/it]\n"
          ]
        },
        {
          "name": "stdout",
          "output_type": "stream",
          "text": [
            "Checkpoint Directory exists! \n",
            "Epoch 1/10\n",
            "598/598 [==============================] - 80s 134ms/step - loss: 0.7568 - pi_loss: 0.4631 - v_loss: 0.2937\n",
            "Epoch 2/10\n",
            "598/598 [==============================] - 78s 130ms/step - loss: 0.7004 - pi_loss: 0.4212 - v_loss: 0.2791\n",
            "Epoch 3/10\n",
            "598/598 [==============================] - 76s 127ms/step - loss: 0.6820 - pi_loss: 0.4084 - v_loss: 0.2736\n",
            "Epoch 4/10\n",
            "598/598 [==============================] - 79s 132ms/step - loss: 0.6724 - pi_loss: 0.4033 - v_loss: 0.2692\n",
            "Epoch 5/10\n",
            "598/598 [==============================] - 77s 129ms/step - loss: 0.6588 - pi_loss: 0.3965 - v_loss: 0.2624\n",
            "Epoch 6/10\n",
            "598/598 [==============================] - 80s 133ms/step - loss: 0.6549 - pi_loss: 0.3954 - v_loss: 0.2596\n",
            "Epoch 7/10\n",
            "598/598 [==============================] - 78s 131ms/step - loss: 0.6509 - pi_loss: 0.3923 - v_loss: 0.2585\n",
            "Epoch 8/10\n",
            "598/598 [==============================] - 76s 128ms/step - loss: 0.6433 - pi_loss: 0.3889 - v_loss: 0.2544\n",
            "Epoch 9/10\n",
            "598/598 [==============================] - 77s 129ms/step - loss: 0.6448 - pi_loss: 0.3892 - v_loss: 0.2556\n",
            "Epoch 10/10\n",
            "598/598 [==============================] - 77s 129ms/step - loss: 0.6389 - pi_loss: 0.3852 - v_loss: 0.2536\n"
          ]
        },
        {
          "name": "stderr",
          "output_type": "stream",
          "text": [
            "2024-01-10 20:04:16 4c6138a7df06 Coach[446] INFO PITTING AGAINST PREVIOUS VERSION\n",
            "Arena.playGames (1): 100%|██████████| 10/10 [08:09<00:00, 48.91s/it]\n",
            "Arena.playGames (2): 100%|██████████| 10/10 [04:48<00:00, 28.82s/it]\n",
            "2024-01-10 20:17:14 4c6138a7df06 Coach[446] INFO NEW/PREV WINS : 12 / 8 ; DRAWS : 0\n",
            "2024-01-10 20:17:14 4c6138a7df06 Coach[446] INFO ACCEPTING NEW MODEL\n"
          ]
        },
        {
          "name": "stdout",
          "output_type": "stream",
          "text": [
            "Checkpoint Directory exists! \n",
            "Checkpoint Directory exists! \n"
          ]
        },
        {
          "name": "stderr",
          "output_type": "stream",
          "text": [
            "2024-01-10 20:17:16 4c6138a7df06 Coach[446] INFO Starting Iter #10 ...\n",
            "Self Play: 100%|██████████| 25/25 [12:23<00:00, 29.74s/it]\n"
          ]
        },
        {
          "name": "stdout",
          "output_type": "stream",
          "text": [
            "Checkpoint Directory exists! \n",
            "Epoch 1/10\n",
            "662/662 [==============================] - 90s 137ms/step - loss: 0.7415 - pi_loss: 0.4553 - v_loss: 0.2862\n",
            "Epoch 2/10\n",
            "662/662 [==============================] - 88s 133ms/step - loss: 0.6947 - pi_loss: 0.4208 - v_loss: 0.2739\n",
            "Epoch 3/10\n",
            "662/662 [==============================] - 89s 135ms/step - loss: 0.6734 - pi_loss: 0.4044 - v_loss: 0.2690\n",
            "Epoch 4/10\n",
            "662/662 [==============================] - 90s 135ms/step - loss: 0.6612 - pi_loss: 0.3984 - v_loss: 0.2629\n",
            "Epoch 5/10\n",
            "662/662 [==============================] - 90s 136ms/step - loss: 0.6542 - pi_loss: 0.3941 - v_loss: 0.2601\n",
            "Epoch 6/10\n",
            "662/662 [==============================] - 88s 133ms/step - loss: 0.6491 - pi_loss: 0.3910 - v_loss: 0.2581\n",
            "Epoch 7/10\n",
            "662/662 [==============================] - 93s 141ms/step - loss: 0.6434 - pi_loss: 0.3857 - v_loss: 0.2577\n",
            "Epoch 8/10\n",
            "662/662 [==============================] - 91s 137ms/step - loss: 0.6412 - pi_loss: 0.3858 - v_loss: 0.2554\n",
            "Epoch 9/10\n",
            "662/662 [==============================] - 91s 138ms/step - loss: 0.6359 - pi_loss: 0.3834 - v_loss: 0.2525\n",
            "Epoch 10/10\n",
            "662/662 [==============================] - 88s 132ms/step - loss: 0.6338 - pi_loss: 0.3828 - v_loss: 0.2510\n"
          ]
        },
        {
          "name": "stderr",
          "output_type": "stream",
          "text": [
            "2024-01-10 20:45:07 4c6138a7df06 Coach[446] INFO PITTING AGAINST PREVIOUS VERSION\n",
            "Arena.playGames (1): 100%|██████████| 10/10 [06:54<00:00, 41.43s/it]\n",
            "Arena.playGames (2): 100%|██████████| 10/10 [06:51<00:00, 41.10s/it]\n",
            "2024-01-10 20:58:53 4c6138a7df06 Coach[446] INFO NEW/PREV WINS : 10 / 10 ; DRAWS : 0\n",
            "2024-01-10 20:58:53 4c6138a7df06 Coach[446] INFO REJECTING NEW MODEL\n",
            "2024-01-10 20:58:55 4c6138a7df06 Coach[446] INFO Starting Iter #11 ...\n",
            "Self Play: 100%|██████████| 25/25 [14:30<00:00, 34.81s/it]\n"
          ]
        },
        {
          "name": "stdout",
          "output_type": "stream",
          "text": [
            "Checkpoint Directory exists! \n",
            "Epoch 1/10\n",
            "741/741 [==============================] - 102s 135ms/step - loss: 0.7788 - pi_loss: 0.4789 - v_loss: 0.2999\n",
            "Epoch 2/10\n",
            "741/741 [==============================] - 98s 132ms/step - loss: 0.7130 - pi_loss: 0.4342 - v_loss: 0.2789\n",
            "Epoch 3/10\n",
            "741/741 [==============================] - 98s 132ms/step - loss: 0.6818 - pi_loss: 0.4120 - v_loss: 0.2697\n",
            "Epoch 4/10\n",
            "741/741 [==============================] - 96s 130ms/step - loss: 0.6678 - pi_loss: 0.4046 - v_loss: 0.2632\n",
            "Epoch 5/10\n",
            "741/741 [==============================] - 99s 134ms/step - loss: 0.6558 - pi_loss: 0.3977 - v_loss: 0.2581\n",
            "Epoch 6/10\n",
            "741/741 [==============================] - 95s 128ms/step - loss: 0.6474 - pi_loss: 0.3945 - v_loss: 0.2529\n",
            "Epoch 7/10\n",
            "741/741 [==============================] - 99s 134ms/step - loss: 0.6418 - pi_loss: 0.3907 - v_loss: 0.2510\n",
            "Epoch 8/10\n",
            "741/741 [==============================] - 95s 128ms/step - loss: 0.6374 - pi_loss: 0.3874 - v_loss: 0.2500\n",
            "Epoch 9/10\n",
            "741/741 [==============================] - 99s 134ms/step - loss: 0.6353 - pi_loss: 0.3851 - v_loss: 0.2502\n",
            "Epoch 10/10\n",
            "741/741 [==============================] - 98s 132ms/step - loss: 0.6280 - pi_loss: 0.3844 - v_loss: 0.2436\n"
          ]
        },
        {
          "name": "stderr",
          "output_type": "stream",
          "text": [
            "2024-01-10 21:29:57 4c6138a7df06 Coach[446] INFO PITTING AGAINST PREVIOUS VERSION\n",
            "Arena.playGames (1): 100%|██████████| 10/10 [08:22<00:00, 50.21s/it]\n",
            "Arena.playGames (2): 100%|██████████| 10/10 [07:04<00:00, 42.44s/it]\n",
            "2024-01-10 21:45:23 4c6138a7df06 Coach[446] INFO NEW/PREV WINS : 9 / 11 ; DRAWS : 0\n",
            "2024-01-10 21:45:23 4c6138a7df06 Coach[446] INFO REJECTING NEW MODEL\n",
            "2024-01-10 21:45:25 4c6138a7df06 Coach[446] INFO Starting Iter #12 ...\n",
            "Self Play: 100%|██████████| 25/25 [14:09<00:00, 33.97s/it]\n"
          ]
        },
        {
          "name": "stdout",
          "output_type": "stream",
          "text": [
            "Checkpoint Directory exists! \n",
            "Epoch 1/10\n",
            "815/815 [==============================] - 104s 127ms/step - loss: 0.8499 - pi_loss: 0.5090 - v_loss: 0.3408\n",
            "Epoch 2/10\n",
            "815/815 [==============================] - 105s 129ms/step - loss: 0.7686 - pi_loss: 0.4533 - v_loss: 0.3154\n",
            "Epoch 3/10\n",
            "815/815 [==============================] - 103s 127ms/step - loss: 0.7294 - pi_loss: 0.4304 - v_loss: 0.2990\n",
            "Epoch 4/10\n",
            "815/815 [==============================] - 105s 128ms/step - loss: 0.7061 - pi_loss: 0.4169 - v_loss: 0.2892\n",
            "Epoch 5/10\n",
            "815/815 [==============================] - 102s 125ms/step - loss: 0.6888 - pi_loss: 0.4074 - v_loss: 0.2814\n",
            "Epoch 6/10\n",
            "815/815 [==============================] - 104s 127ms/step - loss: 0.6794 - pi_loss: 0.4024 - v_loss: 0.2770\n",
            "Epoch 7/10\n",
            "815/815 [==============================] - 103s 126ms/step - loss: 0.6688 - pi_loss: 0.3977 - v_loss: 0.2711\n",
            "Epoch 8/10\n",
            "815/815 [==============================] - 105s 129ms/step - loss: 0.6635 - pi_loss: 0.3936 - v_loss: 0.2699\n",
            "Epoch 9/10\n",
            "815/815 [==============================] - 103s 126ms/step - loss: 0.6553 - pi_loss: 0.3913 - v_loss: 0.2639\n",
            "Epoch 10/10\n",
            "815/815 [==============================] - 105s 129ms/step - loss: 0.6508 - pi_loss: 0.3861 - v_loss: 0.2646\n"
          ]
        },
        {
          "name": "stderr",
          "output_type": "stream",
          "text": [
            "2024-01-10 22:17:00 4c6138a7df06 Coach[446] INFO PITTING AGAINST PREVIOUS VERSION\n",
            "Arena.playGames (1): 100%|██████████| 10/10 [09:00<00:00, 54.01s/it]\n",
            "Arena.playGames (2): 100%|██████████| 10/10 [06:59<00:00, 41.97s/it]\n",
            "2024-01-10 22:33:00 4c6138a7df06 Coach[446] INFO NEW/PREV WINS : 13 / 7 ; DRAWS : 0\n",
            "2024-01-10 22:33:00 4c6138a7df06 Coach[446] INFO ACCEPTING NEW MODEL\n"
          ]
        },
        {
          "name": "stdout",
          "output_type": "stream",
          "text": [
            "Checkpoint Directory exists! \n",
            "Checkpoint Directory exists! \n"
          ]
        },
        {
          "name": "stderr",
          "output_type": "stream",
          "text": [
            "2024-01-10 22:33:02 4c6138a7df06 Coach[446] INFO Starting Iter #13 ...\n",
            "Self Play: 100%|██████████| 25/25 [12:50<00:00, 30.82s/it]\n"
          ]
        },
        {
          "name": "stdout",
          "output_type": "stream",
          "text": [
            "Checkpoint Directory exists! \n",
            "Epoch 1/10\n",
            "885/885 [==============================] - 113s 127ms/step - loss: 0.7577 - pi_loss: 0.4518 - v_loss: 0.3059\n",
            "Epoch 2/10\n",
            "885/885 [==============================] - 116s 131ms/step - loss: 0.7114 - pi_loss: 0.4174 - v_loss: 0.2940\n",
            "Epoch 3/10\n",
            "885/885 [==============================] - 110s 124ms/step - loss: 0.6946 - pi_loss: 0.4060 - v_loss: 0.2886\n",
            "Epoch 4/10\n",
            "885/885 [==============================] - 115s 130ms/step - loss: 0.6785 - pi_loss: 0.3987 - v_loss: 0.2799\n",
            "Epoch 5/10\n",
            "885/885 [==============================] - 115s 130ms/step - loss: 0.6722 - pi_loss: 0.3951 - v_loss: 0.2771\n",
            "Epoch 6/10\n",
            "885/885 [==============================] - 114s 129ms/step - loss: 0.6656 - pi_loss: 0.3916 - v_loss: 0.2740\n",
            "Epoch 7/10\n",
            "885/885 [==============================] - 112s 127ms/step - loss: 0.6580 - pi_loss: 0.3878 - v_loss: 0.2702\n",
            "Epoch 8/10\n",
            "885/885 [==============================] - 112s 127ms/step - loss: 0.6552 - pi_loss: 0.3865 - v_loss: 0.2686\n",
            "Epoch 9/10\n",
            "885/885 [==============================] - 113s 128ms/step - loss: 0.6473 - pi_loss: 0.3832 - v_loss: 0.2641\n",
            "Epoch 10/10\n",
            "885/885 [==============================] - 111s 125ms/step - loss: 0.6470 - pi_loss: 0.3838 - v_loss: 0.2632\n"
          ]
        },
        {
          "name": "stderr",
          "output_type": "stream",
          "text": [
            "2024-01-10 23:05:24 4c6138a7df06 Coach[446] INFO PITTING AGAINST PREVIOUS VERSION\n",
            "Arena.playGames (1): 100%|██████████| 10/10 [07:24<00:00, 44.46s/it]\n",
            "Arena.playGames (2): 100%|██████████| 10/10 [06:53<00:00, 41.38s/it]\n",
            "2024-01-10 23:19:42 4c6138a7df06 Coach[446] INFO NEW/PREV WINS : 13 / 7 ; DRAWS : 0\n",
            "2024-01-10 23:19:42 4c6138a7df06 Coach[446] INFO ACCEPTING NEW MODEL\n"
          ]
        },
        {
          "name": "stdout",
          "output_type": "stream",
          "text": [
            "Checkpoint Directory exists! \n",
            "Checkpoint Directory exists! \n"
          ]
        },
        {
          "name": "stderr",
          "output_type": "stream",
          "text": [
            "2024-01-10 23:19:44 4c6138a7df06 Coach[446] INFO Starting Iter #14 ...\n",
            "Self Play: 100%|██████████| 25/25 [13:45<00:00, 33.01s/it]\n"
          ]
        },
        {
          "name": "stdout",
          "output_type": "stream",
          "text": [
            "Checkpoint Directory exists! \n",
            "Epoch 1/10\n",
            "960/960 [==============================] - 125s 131ms/step - loss: 0.7729 - pi_loss: 0.4520 - v_loss: 0.3209\n",
            "Epoch 2/10\n",
            "960/960 [==============================] - 123s 128ms/step - loss: 0.7256 - pi_loss: 0.4222 - v_loss: 0.3034\n",
            "Epoch 3/10\n",
            "960/960 [==============================] - 123s 128ms/step - loss: 0.7030 - pi_loss: 0.4086 - v_loss: 0.2944\n",
            "Epoch 4/10\n",
            "960/960 [==============================] - 123s 128ms/step - loss: 0.6915 - pi_loss: 0.4025 - v_loss: 0.2890\n",
            "Epoch 5/10\n",
            "960/960 [==============================] - 121s 126ms/step - loss: 0.6824 - pi_loss: 0.3971 - v_loss: 0.2853\n",
            "Epoch 6/10\n",
            "960/960 [==============================] - 123s 129ms/step - loss: 0.6735 - pi_loss: 0.3937 - v_loss: 0.2798\n",
            "Epoch 7/10\n",
            "960/960 [==============================] - 123s 128ms/step - loss: 0.6701 - pi_loss: 0.3920 - v_loss: 0.2781\n",
            "Epoch 8/10\n",
            "960/960 [==============================] - 122s 127ms/step - loss: 0.6630 - pi_loss: 0.3890 - v_loss: 0.2740\n",
            "Epoch 9/10\n",
            "960/960 [==============================] - 125s 130ms/step - loss: 0.6581 - pi_loss: 0.3862 - v_loss: 0.2719\n",
            "Epoch 10/10\n",
            "960/960 [==============================] - 122s 127ms/step - loss: 0.6567 - pi_loss: 0.3863 - v_loss: 0.2704\n"
          ]
        },
        {
          "name": "stderr",
          "output_type": "stream",
          "text": [
            "2024-01-10 23:54:59 4c6138a7df06 Coach[446] INFO PITTING AGAINST PREVIOUS VERSION\n",
            "Arena.playGames (1): 100%|██████████| 10/10 [08:25<00:00, 50.57s/it]\n",
            "Arena.playGames (2): 100%|██████████| 10/10 [05:41<00:00, 34.14s/it]\n",
            "2024-01-11 00:09:06 4c6138a7df06 Coach[446] INFO NEW/PREV WINS : 8 / 12 ; DRAWS : 0\n",
            "2024-01-11 00:09:06 4c6138a7df06 Coach[446] INFO REJECTING NEW MODEL\n",
            "2024-01-11 00:09:08 4c6138a7df06 Coach[446] INFO Starting Iter #15 ...\n",
            "Self Play: 100%|██████████| 25/25 [11:25<00:00, 27.44s/it]\n"
          ]
        },
        {
          "name": "stdout",
          "output_type": "stream",
          "text": [
            "Checkpoint Directory exists! \n",
            "Epoch 1/10\n",
            "1026/1026 [==============================] - 141s 135ms/step - loss: 0.8261 - pi_loss: 0.4779 - v_loss: 0.3482\n",
            "Epoch 2/10\n",
            "1026/1026 [==============================] - 133s 129ms/step - loss: 0.7632 - pi_loss: 0.4382 - v_loss: 0.3250\n",
            "Epoch 3/10\n",
            "1026/1026 [==============================] - 130s 127ms/step - loss: 0.7326 - pi_loss: 0.4218 - v_loss: 0.3108\n",
            "Epoch 4/10\n",
            "1026/1026 [==============================] - 135s 132ms/step - loss: 0.7155 - pi_loss: 0.4138 - v_loss: 0.3016\n",
            "Epoch 5/10\n",
            "1026/1026 [==============================] - 138s 134ms/step - loss: 0.7001 - pi_loss: 0.4053 - v_loss: 0.2948\n",
            "Epoch 6/10\n",
            "1026/1026 [==============================] - 134s 131ms/step - loss: 0.6921 - pi_loss: 0.4014 - v_loss: 0.2907\n",
            "Epoch 7/10\n",
            "1026/1026 [==============================] - 134s 131ms/step - loss: 0.6822 - pi_loss: 0.3990 - v_loss: 0.2832\n",
            "Epoch 8/10\n",
            "1026/1026 [==============================] - 137s 133ms/step - loss: 0.6768 - pi_loss: 0.3952 - v_loss: 0.2816\n",
            "Epoch 9/10\n",
            "1026/1026 [==============================] - 137s 133ms/step - loss: 0.6718 - pi_loss: 0.3937 - v_loss: 0.2781\n",
            "Epoch 10/10\n",
            " 346/1026 [=========>....................] - ETA: 1:28 - loss: 0.6652 - pi_loss: 0.3901 - v_loss: 0.2751"
          ]
        }
      ],
      "source": [
        "args = dotdict({\n",
        "    'numIters':20,\n",
        "    'numEps': 25,              # Number of complete self-play games to simulate during a new iteration.\n",
        "    'tempThreshold': 15,        #\n",
        "    'updateThreshold': 0.6,     # During arena playoff, new neural net will be accepted if threshold or more of games are won.\n",
        "    'maxlenOfQueue': 50000,    # Number of game examples to train the neural networks.\n",
        "    'numMCTSSims': 25,          # Number of games moves for MCTS to simulate.\n",
        "    'arenaCompare': 20,         # Number of games to play during arena play to determine if new net will be accepted.\n",
        "    'cpuct': 1,\n",
        "\n",
        "    'checkpoint': '/content/drive/MyDrive/trabalho2_liacd/models/ataxx/5x5',\n",
        "    'load_model': True,\n",
        "    'load_folder_file': ('/content/drive/MyDrive/trabalho2_liacd/models/ataxx/5x5', 'best.h5'),\n",
        "    'numItersForTrainExamplesHistory': 20,\n",
        "\n",
        "})\n",
        "\n",
        "\n",
        "log.info('Loading %s...', Game.__name__)\n",
        "g = Game(5)\n",
        "\n",
        "log.info('Loading %s...', nn.__name__)\n",
        "nnet = nn(g)\n",
        "\n",
        "if args.load_model:\n",
        "    log.info('Loading checkpoint \"%s/%s\"...', args.load_folder_file[0], args.load_folder_file[1])\n",
        "    nnet.load_model(args.load_folder_file[0], args.load_folder_file[1])\n",
        "else:\n",
        "    log.warning('Not loading a checkpoint!')\n",
        "\n",
        "log.info('Loading the Coach...')\n",
        "c = Coach(g, nnet, args)\n",
        "\n",
        "if args.load_model:\n",
        "    log.info(\"Loading 'trainExamples' from file...\")\n",
        "    c.loadTrainExamples()\n",
        "\n",
        "log.info('Starting the learning process 🎉')\n",
        "c.learn()\n",
        "\n"
      ]
    },
    {
      "cell_type": "markdown",
      "metadata": {
        "id": "ofjXlsGGGOeG"
      },
      "source": [
        "#Vigésimo Treino"
      ]
    },
    {
      "cell_type": "code",
      "execution_count": null,
      "metadata": {
        "colab": {
          "background_save": true,
          "base_uri": "https://localhost:8080/"
        },
        "id": "Ea9YZZ-D0lGP",
        "outputId": "767cad1b-142c-4ec7-925a-a4a2cb5bb69f"
      },
      "outputs": [
        {
          "name": "stderr",
          "output_type": "stream",
          "text": [
            "2024-01-11 10:37:23 7d9bb8bb7fad __main__[381] INFO Loading AtaxxGame...\n",
            "2024-01-11 10:37:23 7d9bb8bb7fad __main__[381] INFO Loading NNetWrapper...\n",
            "2024-01-11 10:37:23 7d9bb8bb7fad __main__[381] INFO Loading checkpoint \"/content/drive/MyDrive/trabalho2_liacd/models/ataxx/5x5/best.h5\"...\n",
            "2024-01-11 10:37:25 7d9bb8bb7fad __main__[381] INFO Loading the Coach...\n",
            "2024-01-11 10:37:26 7d9bb8bb7fad __main__[381] INFO Loading 'trainExamples' from file...\n",
            "2024-01-11 10:37:26 7d9bb8bb7fad Coach[381] WARNING File \"/content/drive/MyDrive/trabalho2_liacd/models/ataxx/5x5/best.h5.examples\" with trainExamples not found!\n",
            "2024-01-11 10:37:29 7d9bb8bb7fad __main__[381] INFO Starting the learning process 🎉\n",
            "2024-01-11 10:37:29 7d9bb8bb7fad Coach[381] INFO Starting Iter #1 ...\n",
            "Self Play: 100%|██████████| 25/25 [09:16<00:00, 22.26s/it]\n"
          ]
        },
        {
          "name": "stdout",
          "output_type": "stream",
          "text": [
            "Checkpoint Directory exists! \n"
          ]
        },
        {
          "name": "stderr",
          "output_type": "stream",
          "text": [
            "/usr/local/lib/python3.10/dist-packages/keras/src/engine/training.py:3103: UserWarning: You are saving your model as an HDF5 file via `model.save()`. This file format is considered legacy. We recommend using instead the native Keras format, e.g. `model.save('my_model.keras')`.\n",
            "  saving_api.save_model(\n"
          ]
        },
        {
          "name": "stdout",
          "output_type": "stream",
          "text": [
            "Epoch 1/10\n",
            "58/58 [==============================] - 10s 149ms/step - loss: 1.4085 - pi_loss: 0.9412 - v_loss: 0.4673\n",
            "Epoch 2/10\n",
            "58/58 [==============================] - 7s 114ms/step - loss: 1.0129 - pi_loss: 0.6704 - v_loss: 0.3425\n",
            "Epoch 3/10\n",
            "58/58 [==============================] - 9s 149ms/step - loss: 0.8954 - pi_loss: 0.5945 - v_loss: 0.3009\n",
            "Epoch 4/10\n",
            "58/58 [==============================] - 7s 122ms/step - loss: 0.8213 - pi_loss: 0.5614 - v_loss: 0.2599\n",
            "Epoch 5/10\n",
            "58/58 [==============================] - 8s 143ms/step - loss: 0.7640 - pi_loss: 0.5269 - v_loss: 0.2371\n",
            "Epoch 6/10\n",
            "58/58 [==============================] - 7s 124ms/step - loss: 0.7326 - pi_loss: 0.5098 - v_loss: 0.2228\n",
            "Epoch 7/10\n",
            "58/58 [==============================] - 8s 132ms/step - loss: 0.7171 - pi_loss: 0.5024 - v_loss: 0.2147\n",
            "Epoch 8/10\n",
            "58/58 [==============================] - 7s 128ms/step - loss: 0.6920 - pi_loss: 0.4879 - v_loss: 0.2041\n",
            "Epoch 9/10\n",
            "58/58 [==============================] - 8s 131ms/step - loss: 0.6790 - pi_loss: 0.4793 - v_loss: 0.1997\n",
            "Epoch 10/10\n",
            "58/58 [==============================] - 7s 125ms/step - loss: 0.6738 - pi_loss: 0.4759 - v_loss: 0.1979\n"
          ]
        },
        {
          "name": "stderr",
          "output_type": "stream",
          "text": [
            "2024-01-11 10:48:07 7d9bb8bb7fad Coach[381] INFO PITTING AGAINST PREVIOUS VERSION\n",
            "Arena.playGames (1): 100%|██████████| 10/10 [06:54<00:00, 41.40s/it]\n",
            "Arena.playGames (2): 100%|██████████| 10/10 [05:25<00:00, 32.53s/it]\n",
            "2024-01-11 11:00:26 7d9bb8bb7fad Coach[381] INFO NEW/PREV WINS : 10 / 10 ; DRAWS : 0\n",
            "2024-01-11 11:00:26 7d9bb8bb7fad Coach[381] INFO REJECTING NEW MODEL\n",
            "2024-01-11 11:00:28 7d9bb8bb7fad Coach[381] INFO Starting Iter #2 ...\n",
            "Self Play: 100%|██████████| 25/25 [10:51<00:00, 26.05s/it]\n"
          ]
        },
        {
          "name": "stdout",
          "output_type": "stream",
          "text": [
            "Checkpoint Directory exists! \n",
            "Epoch 1/10\n",
            "122/122 [==============================] - 16s 122ms/step - loss: 1.4423 - pi_loss: 0.8770 - v_loss: 0.5652\n",
            "Epoch 2/10\n",
            "122/122 [==============================] - 15s 124ms/step - loss: 1.1257 - pi_loss: 0.6821 - v_loss: 0.4436\n",
            "Epoch 3/10\n",
            "122/122 [==============================] - 15s 127ms/step - loss: 0.9906 - pi_loss: 0.6077 - v_loss: 0.3829\n",
            "Epoch 4/10\n",
            "122/122 [==============================] - 15s 123ms/step - loss: 0.9100 - pi_loss: 0.5660 - v_loss: 0.3440\n",
            "Epoch 5/10\n",
            "122/122 [==============================] - 15s 126ms/step - loss: 0.8357 - pi_loss: 0.5317 - v_loss: 0.3041\n",
            "Epoch 6/10\n",
            "122/122 [==============================] - 15s 119ms/step - loss: 0.7972 - pi_loss: 0.5123 - v_loss: 0.2849\n",
            "Epoch 7/10\n",
            "122/122 [==============================] - 15s 125ms/step - loss: 0.7528 - pi_loss: 0.4905 - v_loss: 0.2623\n",
            "Epoch 8/10\n",
            "122/122 [==============================] - 16s 135ms/step - loss: 0.7234 - pi_loss: 0.4757 - v_loss: 0.2477\n",
            "Epoch 9/10\n",
            "122/122 [==============================] - 15s 126ms/step - loss: 0.7075 - pi_loss: 0.4677 - v_loss: 0.2398\n",
            "Epoch 10/10\n",
            "122/122 [==============================] - 16s 130ms/step - loss: 0.6888 - pi_loss: 0.4614 - v_loss: 0.2274\n"
          ]
        },
        {
          "name": "stderr",
          "output_type": "stream",
          "text": [
            "2024-01-11 11:14:45 7d9bb8bb7fad Coach[381] INFO PITTING AGAINST PREVIOUS VERSION\n",
            "Arena.playGames (1): 100%|██████████| 10/10 [05:44<00:00, 34.41s/it]\n",
            "Arena.playGames (2): 100%|██████████| 10/10 [06:34<00:00, 39.49s/it]\n",
            "2024-01-11 11:27:04 7d9bb8bb7fad Coach[381] INFO NEW/PREV WINS : 11 / 9 ; DRAWS : 0\n",
            "2024-01-11 11:27:04 7d9bb8bb7fad Coach[381] INFO REJECTING NEW MODEL\n",
            "2024-01-11 11:27:06 7d9bb8bb7fad Coach[381] INFO Starting Iter #3 ...\n",
            "Self Play: 100%|██████████| 25/25 [11:20<00:00, 27.23s/it]\n"
          ]
        },
        {
          "name": "stdout",
          "output_type": "stream",
          "text": [
            "Checkpoint Directory exists! \n",
            "Epoch 1/10\n",
            "183/183 [==============================] - 25s 131ms/step - loss: 1.4785 - pi_loss: 0.8857 - v_loss: 0.5928\n",
            "Epoch 2/10\n",
            "183/183 [==============================] - 22s 120ms/step - loss: 1.1673 - pi_loss: 0.6912 - v_loss: 0.4761\n",
            "Epoch 3/10\n",
            "183/183 [==============================] - 23s 127ms/step - loss: 1.0366 - pi_loss: 0.6175 - v_loss: 0.4191\n",
            "Epoch 4/10\n",
            "183/183 [==============================] - 23s 127ms/step - loss: 0.9412 - pi_loss: 0.5654 - v_loss: 0.3758\n",
            "Epoch 5/10\n",
            "183/183 [==============================] - 21s 116ms/step - loss: 0.8759 - pi_loss: 0.5345 - v_loss: 0.3414\n",
            "Epoch 6/10\n",
            "183/183 [==============================] - 25s 135ms/step - loss: 0.8349 - pi_loss: 0.5159 - v_loss: 0.3190\n",
            "Epoch 7/10\n",
            "183/183 [==============================] - 21s 116ms/step - loss: 0.7848 - pi_loss: 0.4902 - v_loss: 0.2947\n",
            "Epoch 8/10\n",
            "183/183 [==============================] - 23s 127ms/step - loss: 0.7520 - pi_loss: 0.4777 - v_loss: 0.2743\n",
            "Epoch 9/10\n",
            "183/183 [==============================] - 21s 116ms/step - loss: 0.7354 - pi_loss: 0.4684 - v_loss: 0.2670\n",
            "Epoch 10/10\n",
            "183/183 [==============================] - 21s 116ms/step - loss: 0.7168 - pi_loss: 0.4589 - v_loss: 0.2578\n"
          ]
        },
        {
          "name": "stderr",
          "output_type": "stream",
          "text": [
            "2024-01-11 11:42:53 7d9bb8bb7fad Coach[381] INFO PITTING AGAINST PREVIOUS VERSION\n",
            "Arena.playGames (1): 100%|██████████| 10/10 [08:06<00:00, 48.60s/it]\n",
            "Arena.playGames (2): 100%|██████████| 10/10 [06:51<00:00, 41.15s/it]\n",
            "2024-01-11 11:57:50 7d9bb8bb7fad Coach[381] INFO NEW/PREV WINS : 14 / 6 ; DRAWS : 0\n",
            "2024-01-11 11:57:50 7d9bb8bb7fad Coach[381] INFO ACCEPTING NEW MODEL\n"
          ]
        },
        {
          "name": "stdout",
          "output_type": "stream",
          "text": [
            "Checkpoint Directory exists! \n",
            "Checkpoint Directory exists! \n"
          ]
        },
        {
          "name": "stderr",
          "output_type": "stream",
          "text": [
            "2024-01-11 11:57:51 7d9bb8bb7fad Coach[381] INFO Starting Iter #4 ...\n",
            "Self Play: 100%|██████████| 25/25 [14:31<00:00, 34.88s/it]\n"
          ]
        },
        {
          "name": "stdout",
          "output_type": "stream",
          "text": [
            "Checkpoint Directory exists! \n",
            "Epoch 1/10\n",
            "264/264 [==============================] - 31s 118ms/step - loss: 0.9959 - pi_loss: 0.6248 - v_loss: 0.3710\n",
            "Epoch 2/10\n",
            "264/264 [==============================] - 33s 125ms/step - loss: 0.8667 - pi_loss: 0.5377 - v_loss: 0.3291\n",
            "Epoch 3/10\n",
            "264/264 [==============================] - 32s 121ms/step - loss: 0.8065 - pi_loss: 0.5043 - v_loss: 0.3021\n",
            "Epoch 4/10\n",
            "264/264 [==============================] - 32s 122ms/step - loss: 0.7619 - pi_loss: 0.4787 - v_loss: 0.2833\n",
            "Epoch 5/10\n",
            "264/264 [==============================] - 31s 118ms/step - loss: 0.7296 - pi_loss: 0.4633 - v_loss: 0.2662\n",
            "Epoch 6/10\n",
            "264/264 [==============================] - 33s 123ms/step - loss: 0.7077 - pi_loss: 0.4531 - v_loss: 0.2546\n",
            "Epoch 7/10\n",
            "264/264 [==============================] - 33s 126ms/step - loss: 0.6896 - pi_loss: 0.4426 - v_loss: 0.2471\n",
            "Epoch 8/10\n",
            "264/264 [==============================] - 32s 121ms/step - loss: 0.6782 - pi_loss: 0.4387 - v_loss: 0.2395\n",
            "Epoch 9/10\n",
            "264/264 [==============================] - 35s 133ms/step - loss: 0.6696 - pi_loss: 0.4328 - v_loss: 0.2368\n",
            "Epoch 10/10\n",
            "264/264 [==============================] - 33s 125ms/step - loss: 0.6613 - pi_loss: 0.4284 - v_loss: 0.2329\n"
          ]
        },
        {
          "name": "stderr",
          "output_type": "stream",
          "text": [
            "2024-01-11 12:18:49 7d9bb8bb7fad Coach[381] INFO PITTING AGAINST PREVIOUS VERSION\n",
            "Arena.playGames (1): 100%|██████████| 10/10 [09:30<00:00, 57.06s/it]\n",
            "Arena.playGames (2): 100%|██████████| 10/10 [06:32<00:00, 39.28s/it]\n",
            "2024-01-11 12:34:52 7d9bb8bb7fad Coach[381] INFO NEW/PREV WINS : 7 / 13 ; DRAWS : 0\n",
            "2024-01-11 12:34:52 7d9bb8bb7fad Coach[381] INFO REJECTING NEW MODEL\n",
            "2024-01-11 12:34:54 7d9bb8bb7fad Coach[381] INFO Starting Iter #5 ...\n",
            "Self Play: 100%|██████████| 25/25 [10:01<00:00, 24.07s/it]\n"
          ]
        },
        {
          "name": "stdout",
          "output_type": "stream",
          "text": [
            "Checkpoint Directory exists! \n",
            "Epoch 1/10\n",
            "317/317 [==============================] - 41s 124ms/step - loss: 1.0462 - pi_loss: 0.6442 - v_loss: 0.4020\n",
            "Epoch 2/10\n",
            "317/317 [==============================] - 39s 124ms/step - loss: 0.9093 - pi_loss: 0.5565 - v_loss: 0.3528\n",
            "Epoch 3/10\n",
            "317/317 [==============================] - 40s 127ms/step - loss: 0.8432 - pi_loss: 0.5188 - v_loss: 0.3245\n",
            "Epoch 4/10\n",
            "317/317 [==============================] - 42s 131ms/step - loss: 0.7974 - pi_loss: 0.4918 - v_loss: 0.3056\n",
            "Epoch 5/10\n",
            "317/317 [==============================] - 38s 121ms/step - loss: 0.7657 - pi_loss: 0.4727 - v_loss: 0.2930\n",
            "Epoch 6/10\n",
            "317/317 [==============================] - 37s 116ms/step - loss: 0.7425 - pi_loss: 0.4624 - v_loss: 0.2800\n",
            "Epoch 7/10\n",
            "317/317 [==============================] - 37s 117ms/step - loss: 0.7221 - pi_loss: 0.4506 - v_loss: 0.2715\n",
            "Epoch 8/10\n",
            "317/317 [==============================] - 36s 114ms/step - loss: 0.7062 - pi_loss: 0.4435 - v_loss: 0.2627\n",
            "Epoch 9/10\n",
            "317/317 [==============================] - 36s 114ms/step - loss: 0.6965 - pi_loss: 0.4381 - v_loss: 0.2584\n",
            "Epoch 10/10\n",
            "317/317 [==============================] - 38s 118ms/step - loss: 0.6876 - pi_loss: 0.4311 - v_loss: 0.2564\n"
          ]
        },
        {
          "name": "stderr",
          "output_type": "stream",
          "text": [
            "2024-01-11 12:52:25 7d9bb8bb7fad Coach[381] INFO PITTING AGAINST PREVIOUS VERSION\n",
            "Arena.playGames (1): 100%|██████████| 10/10 [07:25<00:00, 44.54s/it]\n",
            "Arena.playGames (2): 100%|██████████| 10/10 [07:27<00:00, 44.72s/it]\n",
            "2024-01-11 13:07:17 7d9bb8bb7fad Coach[381] INFO NEW/PREV WINS : 7 / 13 ; DRAWS : 0\n",
            "2024-01-11 13:07:17 7d9bb8bb7fad Coach[381] INFO REJECTING NEW MODEL\n",
            "2024-01-11 13:07:20 7d9bb8bb7fad Coach[381] INFO Starting Iter #6 ...\n",
            "Self Play: 100%|██████████| 25/25 [09:56<00:00, 23.85s/it]\n"
          ]
        },
        {
          "name": "stdout",
          "output_type": "stream",
          "text": [
            "Checkpoint Directory exists! \n",
            "Epoch 1/10\n",
            "372/372 [==============================] - 46s 121ms/step - loss: 1.0782 - pi_loss: 0.6545 - v_loss: 0.4238\n",
            "Epoch 2/10\n",
            "372/372 [==============================] - 43s 116ms/step - loss: 0.9194 - pi_loss: 0.5609 - v_loss: 0.3586\n",
            "Epoch 3/10\n",
            "372/372 [==============================] - 43s 115ms/step - loss: 0.8481 - pi_loss: 0.5184 - v_loss: 0.3297\n",
            "Epoch 4/10\n",
            "372/372 [==============================] - 44s 117ms/step - loss: 0.7955 - pi_loss: 0.4898 - v_loss: 0.3058\n",
            "Epoch 5/10\n",
            "372/372 [==============================] - 44s 118ms/step - loss: 0.7616 - pi_loss: 0.4696 - v_loss: 0.2920\n",
            "Epoch 6/10\n",
            "372/372 [==============================] - 45s 120ms/step - loss: 0.7418 - pi_loss: 0.4633 - v_loss: 0.2784\n",
            "Epoch 7/10\n",
            "372/372 [==============================] - 44s 120ms/step - loss: 0.7206 - pi_loss: 0.4499 - v_loss: 0.2706\n",
            "Epoch 8/10\n",
            "372/372 [==============================] - 44s 119ms/step - loss: 0.7016 - pi_loss: 0.4400 - v_loss: 0.2616\n",
            "Epoch 9/10\n",
            "372/372 [==============================] - 42s 114ms/step - loss: 0.6919 - pi_loss: 0.4334 - v_loss: 0.2584\n",
            "Epoch 10/10\n",
            "372/372 [==============================] - 44s 119ms/step - loss: 0.6866 - pi_loss: 0.4327 - v_loss: 0.2538\n"
          ]
        },
        {
          "name": "stderr",
          "output_type": "stream",
          "text": [
            "2024-01-11 13:24:43 7d9bb8bb7fad Coach[381] INFO PITTING AGAINST PREVIOUS VERSION\n",
            "Arena.playGames (1): 100%|██████████| 10/10 [07:31<00:00, 45.16s/it]\n",
            "Arena.playGames (2): 100%|██████████| 10/10 [07:43<00:00, 46.38s/it]\n",
            "2024-01-11 13:39:58 7d9bb8bb7fad Coach[381] INFO NEW/PREV WINS : 12 / 8 ; DRAWS : 0\n",
            "2024-01-11 13:39:58 7d9bb8bb7fad Coach[381] INFO ACCEPTING NEW MODEL\n"
          ]
        },
        {
          "name": "stdout",
          "output_type": "stream",
          "text": [
            "Checkpoint Directory exists! \n",
            "Checkpoint Directory exists! \n"
          ]
        },
        {
          "name": "stderr",
          "output_type": "stream",
          "text": [
            "2024-01-11 13:40:02 7d9bb8bb7fad Coach[381] INFO Starting Iter #7 ...\n",
            "Self Play: 100%|██████████| 25/25 [15:55<00:00, 38.20s/it]\n"
          ]
        },
        {
          "name": "stdout",
          "output_type": "stream",
          "text": [
            "Checkpoint Directory exists! \n",
            "Epoch 1/10\n",
            "456/456 [==============================] - 54s 119ms/step - loss: 0.9407 - pi_loss: 0.5495 - v_loss: 0.3912\n",
            "Epoch 2/10\n",
            "456/456 [==============================] - 53s 117ms/step - loss: 0.8574 - pi_loss: 0.4951 - v_loss: 0.3622\n",
            "Epoch 3/10\n",
            "456/456 [==============================] - 53s 117ms/step - loss: 0.8121 - pi_loss: 0.4693 - v_loss: 0.3428\n",
            "Epoch 4/10\n",
            "456/456 [==============================] - 54s 119ms/step - loss: 0.7845 - pi_loss: 0.4522 - v_loss: 0.3323\n",
            "Epoch 5/10\n",
            "456/456 [==============================] - 52s 115ms/step - loss: 0.7573 - pi_loss: 0.4412 - v_loss: 0.3161\n",
            "Epoch 6/10\n",
            "456/456 [==============================] - 52s 115ms/step - loss: 0.7406 - pi_loss: 0.4329 - v_loss: 0.3077\n",
            "Epoch 7/10\n",
            "456/456 [==============================] - 53s 117ms/step - loss: 0.7266 - pi_loss: 0.4258 - v_loss: 0.3008\n",
            "Epoch 8/10\n",
            "456/456 [==============================] - 53s 116ms/step - loss: 0.7142 - pi_loss: 0.4230 - v_loss: 0.2912\n",
            "Epoch 9/10\n",
            "456/456 [==============================] - 55s 120ms/step - loss: 0.7036 - pi_loss: 0.4154 - v_loss: 0.2882\n",
            "Epoch 10/10\n",
            "456/456 [==============================] - 53s 116ms/step - loss: 0.6970 - pi_loss: 0.4157 - v_loss: 0.2813\n"
          ]
        },
        {
          "name": "stderr",
          "output_type": "stream",
          "text": [
            "2024-01-11 14:05:25 7d9bb8bb7fad Coach[381] INFO PITTING AGAINST PREVIOUS VERSION\n",
            "Arena.playGames (1): 100%|██████████| 10/10 [08:20<00:00, 50.07s/it]\n",
            "Arena.playGames (2): 100%|██████████| 10/10 [06:58<00:00, 41.89s/it]\n",
            "2024-01-11 14:20:44 7d9bb8bb7fad Coach[381] INFO NEW/PREV WINS : 9 / 10 ; DRAWS : 1\n",
            "2024-01-11 14:20:44 7d9bb8bb7fad Coach[381] INFO REJECTING NEW MODEL\n",
            "2024-01-11 14:20:47 7d9bb8bb7fad Coach[381] INFO Starting Iter #8 ...\n",
            "Self Play: 100%|██████████| 25/25 [13:07<00:00, 31.49s/it]\n"
          ]
        },
        {
          "name": "stdout",
          "output_type": "stream",
          "text": [
            "Checkpoint Directory exists! \n",
            "Epoch 1/10\n",
            "530/530 [==============================] - 67s 124ms/step - loss: 1.0466 - pi_loss: 0.6029 - v_loss: 0.4436\n",
            "Epoch 2/10\n",
            "530/530 [==============================] - 61s 115ms/step - loss: 0.9230 - pi_loss: 0.5280 - v_loss: 0.3950\n",
            "Epoch 3/10\n",
            "530/530 [==============================] - 61s 116ms/step - loss: 0.8594 - pi_loss: 0.4895 - v_loss: 0.3699\n",
            "Epoch 4/10\n",
            "530/530 [==============================] - 61s 115ms/step - loss: 0.8257 - pi_loss: 0.4714 - v_loss: 0.3543\n",
            "Epoch 5/10\n",
            "530/530 [==============================] - 61s 116ms/step - loss: 0.7890 - pi_loss: 0.4529 - v_loss: 0.3361\n",
            "Epoch 6/10\n",
            "530/530 [==============================] - 61s 116ms/step - loss: 0.7742 - pi_loss: 0.4437 - v_loss: 0.3305\n",
            "Epoch 7/10\n",
            "530/530 [==============================] - 61s 115ms/step - loss: 0.7560 - pi_loss: 0.4367 - v_loss: 0.3193\n",
            "Epoch 8/10\n",
            "530/530 [==============================] - 60s 114ms/step - loss: 0.7378 - pi_loss: 0.4258 - v_loss: 0.3120\n",
            "Epoch 9/10\n",
            "530/530 [==============================] - 61s 115ms/step - loss: 0.7275 - pi_loss: 0.4204 - v_loss: 0.3072\n",
            "Epoch 10/10\n",
            "530/530 [==============================] - 64s 121ms/step - loss: 0.7164 - pi_loss: 0.4167 - v_loss: 0.2998\n"
          ]
        },
        {
          "name": "stderr",
          "output_type": "stream",
          "text": [
            "2024-01-11 14:44:18 7d9bb8bb7fad Coach[381] INFO PITTING AGAINST PREVIOUS VERSION\n",
            "Arena.playGames (1): 100%|██████████| 10/10 [07:16<00:00, 43.68s/it]\n",
            "Arena.playGames (2): 100%|██████████| 10/10 [06:32<00:00, 39.22s/it]\n",
            "2024-01-11 14:58:07 7d9bb8bb7fad Coach[381] INFO NEW/PREV WINS : 4 / 12 ; DRAWS : 4\n",
            "2024-01-11 14:58:07 7d9bb8bb7fad Coach[381] INFO REJECTING NEW MODEL\n",
            "2024-01-11 14:58:09 7d9bb8bb7fad Coach[381] INFO Starting Iter #9 ...\n",
            "Self Play: 100%|██████████| 25/25 [09:40<00:00, 23.21s/it]\n"
          ]
        },
        {
          "name": "stdout",
          "output_type": "stream",
          "text": [
            "Checkpoint Directory exists! \n",
            "Epoch 1/10\n",
            "588/588 [==============================] - 68s 113ms/step - loss: 1.0706 - pi_loss: 0.6097 - v_loss: 0.4609\n",
            "Epoch 2/10\n",
            "588/588 [==============================] - 64s 110ms/step - loss: 0.9316 - pi_loss: 0.5319 - v_loss: 0.3997\n",
            "Epoch 3/10\n",
            "588/588 [==============================] - 65s 110ms/step - loss: 0.8708 - pi_loss: 0.4972 - v_loss: 0.3737\n",
            "Epoch 4/10\n",
            "588/588 [==============================] - 65s 110ms/step - loss: 0.8304 - pi_loss: 0.4756 - v_loss: 0.3548\n",
            "Epoch 5/10\n",
            "588/588 [==============================] - 66s 112ms/step - loss: 0.7966 - pi_loss: 0.4550 - v_loss: 0.3416\n",
            "Epoch 6/10\n",
            "588/588 [==============================] - 66s 111ms/step - loss: 0.7753 - pi_loss: 0.4452 - v_loss: 0.3301\n",
            "Epoch 7/10\n",
            "588/588 [==============================] - 65s 110ms/step - loss: 0.7569 - pi_loss: 0.4370 - v_loss: 0.3199\n",
            "Epoch 8/10\n",
            "588/588 [==============================] - 65s 110ms/step - loss: 0.7463 - pi_loss: 0.4318 - v_loss: 0.3145\n",
            "Epoch 9/10\n",
            "588/588 [==============================] - 65s 110ms/step - loss: 0.7299 - pi_loss: 0.4213 - v_loss: 0.3086\n",
            "Epoch 10/10\n",
            "588/588 [==============================] - 65s 110ms/step - loss: 0.7221 - pi_loss: 0.4193 - v_loss: 0.3029\n"
          ]
        },
        {
          "name": "stderr",
          "output_type": "stream",
          "text": [
            "2024-01-11 15:19:19 7d9bb8bb7fad Coach[381] INFO PITTING AGAINST PREVIOUS VERSION\n",
            "Arena.playGames (1): 100%|██████████| 10/10 [07:40<00:00, 46.07s/it]\n",
            "Arena.playGames (2): 100%|██████████| 10/10 [07:38<00:00, 45.86s/it]\n",
            "2024-01-11 15:34:38 7d9bb8bb7fad Coach[381] INFO NEW/PREV WINS : 8 / 11 ; DRAWS : 1\n",
            "2024-01-11 15:34:38 7d9bb8bb7fad Coach[381] INFO REJECTING NEW MODEL\n",
            "2024-01-11 15:34:40 7d9bb8bb7fad Coach[381] INFO Starting Iter #10 ...\n",
            "Self Play: 100%|██████████| 25/25 [12:34<00:00, 30.18s/it]\n"
          ]
        },
        {
          "name": "stdout",
          "output_type": "stream",
          "text": [
            "Checkpoint Directory exists! \n",
            "Epoch 1/10\n",
            "662/662 [==============================] - 80s 118ms/step - loss: 1.1352 - pi_loss: 0.6355 - v_loss: 0.4998\n",
            "Epoch 2/10\n",
            "662/662 [==============================] - 75s 114ms/step - loss: 0.9863 - pi_loss: 0.5468 - v_loss: 0.4395\n",
            "Epoch 3/10\n",
            "662/662 [==============================] - 76s 115ms/step - loss: 0.9155 - pi_loss: 0.5113 - v_loss: 0.4042\n",
            "Epoch 4/10\n",
            "662/662 [==============================] - 75s 113ms/step - loss: 0.8686 - pi_loss: 0.4876 - v_loss: 0.3809\n",
            "Epoch 5/10\n",
            "662/662 [==============================] - 74s 112ms/step - loss: 0.8289 - pi_loss: 0.4651 - v_loss: 0.3638\n",
            "Epoch 6/10\n",
            "662/662 [==============================] - 75s 114ms/step - loss: 0.8052 - pi_loss: 0.4535 - v_loss: 0.3517\n",
            "Epoch 7/10\n",
            "662/662 [==============================] - 75s 113ms/step - loss: 0.7818 - pi_loss: 0.4420 - v_loss: 0.3398\n",
            "Epoch 8/10\n",
            "662/662 [==============================] - 75s 114ms/step - loss: 0.7638 - pi_loss: 0.4325 - v_loss: 0.3313\n",
            "Epoch 9/10\n",
            "662/662 [==============================] - 74s 113ms/step - loss: 0.7497 - pi_loss: 0.4276 - v_loss: 0.3221\n",
            "Epoch 10/10\n",
            "662/662 [==============================] - 74s 112ms/step - loss: 0.7381 - pi_loss: 0.4212 - v_loss: 0.3169\n"
          ]
        },
        {
          "name": "stderr",
          "output_type": "stream",
          "text": [
            "2024-01-11 15:59:55 7d9bb8bb7fad Coach[381] INFO PITTING AGAINST PREVIOUS VERSION\n",
            "Arena.playGames (1): 100%|██████████| 10/10 [07:54<00:00, 47.43s/it]\n",
            "Arena.playGames (2): 100%|██████████| 10/10 [08:33<00:00, 51.35s/it]\n",
            "2024-01-11 16:16:23 7d9bb8bb7fad Coach[381] INFO NEW/PREV WINS : 15 / 4 ; DRAWS : 1\n",
            "2024-01-11 16:16:23 7d9bb8bb7fad Coach[381] INFO ACCEPTING NEW MODEL\n"
          ]
        },
        {
          "name": "stdout",
          "output_type": "stream",
          "text": [
            "Checkpoint Directory exists! \n",
            "Checkpoint Directory exists! \n"
          ]
        },
        {
          "name": "stderr",
          "output_type": "stream",
          "text": [
            "2024-01-11 16:16:26 7d9bb8bb7fad Coach[381] INFO Starting Iter #11 ...\n",
            "Self Play: 100%|██████████| 25/25 [09:02<00:00, 21.69s/it]\n"
          ]
        },
        {
          "name": "stdout",
          "output_type": "stream",
          "text": [
            "Checkpoint Directory exists! \n",
            "Epoch 1/10\n",
            "713/713 [==============================] - 80s 113ms/step - loss: 0.8114 - pi_loss: 0.4737 - v_loss: 0.3377\n",
            "Epoch 2/10\n",
            "713/713 [==============================] - 79s 111ms/step - loss: 0.7714 - pi_loss: 0.4482 - v_loss: 0.3233\n",
            "Epoch 3/10\n",
            "713/713 [==============================] - 79s 111ms/step - loss: 0.7508 - pi_loss: 0.4366 - v_loss: 0.3141\n",
            "Epoch 4/10\n",
            "713/713 [==============================] - 81s 114ms/step - loss: 0.7372 - pi_loss: 0.4288 - v_loss: 0.3084\n",
            "Epoch 5/10\n",
            "713/713 [==============================] - 81s 113ms/step - loss: 0.7276 - pi_loss: 0.4230 - v_loss: 0.3045\n",
            "Epoch 6/10\n",
            "713/713 [==============================] - 79s 111ms/step - loss: 0.7195 - pi_loss: 0.4207 - v_loss: 0.2988\n",
            "Epoch 7/10\n",
            "713/713 [==============================] - 79s 111ms/step - loss: 0.7125 - pi_loss: 0.4159 - v_loss: 0.2967\n",
            "Epoch 8/10\n",
            "713/713 [==============================] - 79s 111ms/step - loss: 0.7063 - pi_loss: 0.4140 - v_loss: 0.2923\n",
            "Epoch 9/10\n",
            "713/713 [==============================] - 80s 112ms/step - loss: 0.7031 - pi_loss: 0.4129 - v_loss: 0.2902\n",
            "Epoch 10/10\n",
            "713/713 [==============================] - 79s 111ms/step - loss: 0.6973 - pi_loss: 0.4079 - v_loss: 0.2894\n"
          ]
        },
        {
          "name": "stderr",
          "output_type": "stream",
          "text": [
            "2024-01-11 16:38:58 7d9bb8bb7fad Coach[381] INFO PITTING AGAINST PREVIOUS VERSION\n",
            "Arena.playGames (1): 100%|██████████| 10/10 [07:05<00:00, 42.57s/it]\n",
            "Arena.playGames (2): 100%|██████████| 10/10 [05:30<00:00, 33.08s/it]\n",
            "2024-01-11 16:51:34 7d9bb8bb7fad Coach[381] INFO NEW/PREV WINS : 9 / 11 ; DRAWS : 0\n",
            "2024-01-11 16:51:34 7d9bb8bb7fad Coach[381] INFO REJECTING NEW MODEL\n",
            "2024-01-11 16:51:36 7d9bb8bb7fad Coach[381] INFO Starting Iter #12 ...\n",
            "Self Play: 100%|██████████| 25/25 [12:22<00:00, 29.70s/it]\n"
          ]
        },
        {
          "name": "stdout",
          "output_type": "stream",
          "text": [
            "Checkpoint Directory exists! \n",
            "Epoch 1/10\n",
            "783/783 [==============================] - 91s 114ms/step - loss: 0.8987 - pi_loss: 0.5245 - v_loss: 0.3742\n",
            "Epoch 2/10\n",
            "783/783 [==============================] - 89s 114ms/step - loss: 0.8298 - pi_loss: 0.4792 - v_loss: 0.3506\n",
            "Epoch 3/10\n",
            "783/783 [==============================] - 89s 114ms/step - loss: 0.7936 - pi_loss: 0.4588 - v_loss: 0.3348\n",
            "Epoch 4/10\n",
            "783/783 [==============================] - 89s 113ms/step - loss: 0.7717 - pi_loss: 0.4456 - v_loss: 0.3261\n",
            "Epoch 5/10\n",
            "783/783 [==============================] - 90s 114ms/step - loss: 0.7603 - pi_loss: 0.4374 - v_loss: 0.3230\n",
            "Epoch 6/10\n",
            "783/783 [==============================] - 87s 111ms/step - loss: 0.7480 - pi_loss: 0.4307 - v_loss: 0.3173\n",
            "Epoch 7/10\n",
            "783/783 [==============================] - 89s 114ms/step - loss: 0.7350 - pi_loss: 0.4265 - v_loss: 0.3085\n",
            "Epoch 8/10\n",
            "783/783 [==============================] - 90s 114ms/step - loss: 0.7292 - pi_loss: 0.4201 - v_loss: 0.3091\n",
            "Epoch 9/10\n",
            "783/783 [==============================] - 87s 111ms/step - loss: 0.7232 - pi_loss: 0.4189 - v_loss: 0.3043\n",
            "Epoch 10/10\n",
            "783/783 [==============================] - 89s 114ms/step - loss: 0.7176 - pi_loss: 0.4154 - v_loss: 0.3022\n"
          ]
        },
        {
          "name": "stderr",
          "output_type": "stream",
          "text": [
            "2024-01-11 17:19:30 7d9bb8bb7fad Coach[381] INFO PITTING AGAINST PREVIOUS VERSION\n",
            "Arena.playGames (1): 100%|██████████| 10/10 [08:23<00:00, 50.37s/it]\n",
            "Arena.playGames (2): 100%|██████████| 10/10 [06:10<00:00, 37.10s/it]\n",
            "2024-01-11 17:34:04 7d9bb8bb7fad Coach[381] INFO NEW/PREV WINS : 14 / 4 ; DRAWS : 2\n",
            "2024-01-11 17:34:04 7d9bb8bb7fad Coach[381] INFO ACCEPTING NEW MODEL\n"
          ]
        },
        {
          "name": "stdout",
          "output_type": "stream",
          "text": [
            "Checkpoint Directory exists! \n",
            "Checkpoint Directory exists! \n"
          ]
        },
        {
          "name": "stderr",
          "output_type": "stream",
          "text": [
            "2024-01-11 17:34:07 7d9bb8bb7fad Coach[381] INFO Starting Iter #13 ...\n",
            "Self Play: 100%|██████████| 25/25 [11:23<00:00, 27.35s/it]\n"
          ]
        },
        {
          "name": "stdout",
          "output_type": "stream",
          "text": [
            "Checkpoint Directory exists! \n",
            "Epoch 1/10\n",
            "847/847 [==============================] - 95s 112ms/step - loss: 0.8110 - pi_loss: 0.4696 - v_loss: 0.3414\n",
            "Epoch 2/10\n",
            "847/847 [==============================] - 96s 113ms/step - loss: 0.7721 - pi_loss: 0.4435 - v_loss: 0.3286\n",
            "Epoch 3/10\n",
            "847/847 [==============================] - 96s 113ms/step - loss: 0.7576 - pi_loss: 0.4340 - v_loss: 0.3236\n",
            "Epoch 4/10\n",
            "847/847 [==============================] - 96s 114ms/step - loss: 0.7430 - pi_loss: 0.4263 - v_loss: 0.3167\n",
            "Epoch 5/10\n",
            "847/847 [==============================] - 95s 112ms/step - loss: 0.7365 - pi_loss: 0.4217 - v_loss: 0.3148\n",
            "Epoch 6/10\n",
            "847/847 [==============================] - 95s 113ms/step - loss: 0.7253 - pi_loss: 0.4168 - v_loss: 0.3085\n",
            "Epoch 7/10\n",
            "847/847 [==============================] - 95s 112ms/step - loss: 0.7170 - pi_loss: 0.4137 - v_loss: 0.3034\n",
            "Epoch 8/10\n",
            "847/847 [==============================] - 95s 112ms/step - loss: 0.7180 - pi_loss: 0.4139 - v_loss: 0.3040\n",
            "Epoch 9/10\n",
            "847/847 [==============================] - 95s 112ms/step - loss: 0.7085 - pi_loss: 0.4091 - v_loss: 0.2995\n",
            "Epoch 10/10\n",
            "847/847 [==============================] - 95s 112ms/step - loss: 0.7069 - pi_loss: 0.4089 - v_loss: 0.2980\n"
          ]
        },
        {
          "name": "stderr",
          "output_type": "stream",
          "text": [
            "2024-01-11 18:02:01 7d9bb8bb7fad Coach[381] INFO PITTING AGAINST PREVIOUS VERSION\n",
            "Arena.playGames (1): 100%|██████████| 10/10 [07:15<00:00, 43.59s/it]\n",
            "Arena.playGames (2): 100%|██████████| 10/10 [08:34<00:00, 51.50s/it]\n",
            "2024-01-11 18:17:52 7d9bb8bb7fad Coach[381] INFO NEW/PREV WINS : 7 / 12 ; DRAWS : 1\n",
            "2024-01-11 18:17:52 7d9bb8bb7fad Coach[381] INFO REJECTING NEW MODEL\n",
            "2024-01-11 18:17:54 7d9bb8bb7fad Coach[381] INFO Starting Iter #14 ...\n",
            "Self Play: 100%|██████████| 25/25 [10:31<00:00, 25.27s/it]\n"
          ]
        },
        {
          "name": "stdout",
          "output_type": "stream",
          "text": [
            "Checkpoint Directory exists! \n",
            "Epoch 1/10\n",
            "909/909 [==============================] - 104s 113ms/step - loss: 0.8824 - pi_loss: 0.4975 - v_loss: 0.3849\n",
            "Epoch 2/10\n",
            "909/909 [==============================] - 102s 112ms/step - loss: 0.8232 - pi_loss: 0.4598 - v_loss: 0.3634\n",
            "Epoch 3/10\n",
            "909/909 [==============================] - 103s 113ms/step - loss: 0.7888 - pi_loss: 0.4425 - v_loss: 0.3463\n",
            "Epoch 4/10\n",
            "909/909 [==============================] - 101s 111ms/step - loss: 0.7743 - pi_loss: 0.4350 - v_loss: 0.3393\n",
            "Epoch 5/10\n",
            "909/909 [==============================] - 103s 114ms/step - loss: 0.7588 - pi_loss: 0.4279 - v_loss: 0.3310\n",
            "Epoch 6/10\n",
            "909/909 [==============================] - 102s 112ms/step - loss: 0.7528 - pi_loss: 0.4249 - v_loss: 0.3279\n",
            "Epoch 7/10\n",
            "909/909 [==============================] - 103s 113ms/step - loss: 0.7404 - pi_loss: 0.4185 - v_loss: 0.3218\n",
            "Epoch 8/10\n",
            "909/909 [==============================] - 102s 113ms/step - loss: 0.7351 - pi_loss: 0.4177 - v_loss: 0.3174\n",
            "Epoch 9/10\n",
            "909/909 [==============================] - 102s 112ms/step - loss: 0.7302 - pi_loss: 0.4155 - v_loss: 0.3147\n",
            "Epoch 10/10\n",
            "909/909 [==============================] - 102s 112ms/step - loss: 0.7258 - pi_loss: 0.4130 - v_loss: 0.3128\n"
          ]
        },
        {
          "name": "stderr",
          "output_type": "stream",
          "text": [
            "2024-01-11 18:45:39 7d9bb8bb7fad Coach[381] INFO PITTING AGAINST PREVIOUS VERSION\n",
            "Arena.playGames (1): 100%|██████████| 10/10 [07:56<00:00, 47.62s/it]\n",
            "Arena.playGames (2): 100%|██████████| 10/10 [08:20<00:00, 50.00s/it]\n",
            "2024-01-11 19:01:56 7d9bb8bb7fad Coach[381] INFO NEW/PREV WINS : 10 / 10 ; DRAWS : 0\n",
            "2024-01-11 19:01:56 7d9bb8bb7fad Coach[381] INFO REJECTING NEW MODEL\n",
            "2024-01-11 19:01:58 7d9bb8bb7fad Coach[381] INFO Starting Iter #15 ...\n",
            "Self Play: 100%|██████████| 25/25 [10:05<00:00, 24.21s/it]\n"
          ]
        },
        {
          "name": "stdout",
          "output_type": "stream",
          "text": [
            "Checkpoint Directory exists! \n",
            "Epoch 1/10\n",
            "968/968 [==============================] - 110s 112ms/step - loss: 0.9182 - pi_loss: 0.5199 - v_loss: 0.3982\n",
            "Epoch 2/10\n",
            "968/968 [==============================] - 108s 112ms/step - loss: 0.8446 - pi_loss: 0.4743 - v_loss: 0.3703\n",
            "Epoch 3/10\n",
            "968/968 [==============================] - 107s 111ms/step - loss: 0.8058 - pi_loss: 0.4544 - v_loss: 0.3514\n",
            "Epoch 4/10\n",
            "968/968 [==============================] - 108s 111ms/step - loss: 0.7831 - pi_loss: 0.4415 - v_loss: 0.3416\n",
            "Epoch 5/10\n",
            "968/968 [==============================] - 107s 111ms/step - loss: 0.7697 - pi_loss: 0.4347 - v_loss: 0.3351\n",
            "Epoch 6/10\n",
            "968/968 [==============================] - 108s 112ms/step - loss: 0.7592 - pi_loss: 0.4296 - v_loss: 0.3296\n",
            "Epoch 7/10\n",
            "968/968 [==============================] - 108s 112ms/step - loss: 0.7502 - pi_loss: 0.4255 - v_loss: 0.3248\n",
            "Epoch 8/10\n",
            "968/968 [==============================] - 108s 112ms/step - loss: 0.7402 - pi_loss: 0.4224 - v_loss: 0.3178\n",
            "Epoch 9/10\n",
            "968/968 [==============================] - 108s 112ms/step - loss: 0.7321 - pi_loss: 0.4185 - v_loss: 0.3136\n",
            "Epoch 10/10\n",
            "968/968 [==============================] - 108s 112ms/step - loss: 0.7265 - pi_loss: 0.4144 - v_loss: 0.3121\n"
          ]
        },
        {
          "name": "stderr",
          "output_type": "stream",
          "text": [
            "2024-01-11 19:30:14 7d9bb8bb7fad Coach[381] INFO PITTING AGAINST PREVIOUS VERSION\n",
            "Arena.playGames (1): 100%|██████████| 10/10 [07:18<00:00, 43.83s/it]\n",
            "Arena.playGames (2): 100%|██████████| 10/10 [06:29<00:00, 38.91s/it]\n",
            "2024-01-11 19:44:01 7d9bb8bb7fad Coach[381] INFO NEW/PREV WINS : 13 / 7 ; DRAWS : 0\n",
            "2024-01-11 19:44:01 7d9bb8bb7fad Coach[381] INFO ACCEPTING NEW MODEL\n"
          ]
        },
        {
          "name": "stdout",
          "output_type": "stream",
          "text": [
            "Checkpoint Directory exists! \n",
            "Checkpoint Directory exists! \n"
          ]
        },
        {
          "name": "stderr",
          "output_type": "stream",
          "text": [
            "2024-01-11 19:44:03 7d9bb8bb7fad Coach[381] INFO Starting Iter #16 ...\n",
            "Self Play: 100%|██████████| 25/25 [09:43<00:00, 23.34s/it]\n"
          ]
        },
        {
          "name": "stdout",
          "output_type": "stream",
          "text": [
            "Checkpoint Directory exists! \n",
            "Epoch 1/10\n",
            "1030/1030 [==============================] - 116s 113ms/step - loss: 0.7747 - pi_loss: 0.4351 - v_loss: 0.3396\n",
            "Epoch 2/10\n",
            "1030/1030 [==============================] - 118s 114ms/step - loss: 0.7475 - pi_loss: 0.4194 - v_loss: 0.3280\n",
            "Epoch 3/10\n",
            "1030/1030 [==============================] - 117s 113ms/step - loss: 0.7410 - pi_loss: 0.4153 - v_loss: 0.3257\n",
            "Epoch 4/10\n",
            "1030/1030 [==============================] - 119s 115ms/step - loss: 0.7316 - pi_loss: 0.4105 - v_loss: 0.3212\n",
            "Epoch 5/10\n",
            "1030/1030 [==============================] - 116s 112ms/step - loss: 0.7298 - pi_loss: 0.4085 - v_loss: 0.3213\n",
            "Epoch 6/10\n",
            "1030/1030 [==============================] - 118s 114ms/step - loss: 0.7235 - pi_loss: 0.4069 - v_loss: 0.3166\n",
            "Epoch 7/10\n",
            "1030/1030 [==============================] - 116s 113ms/step - loss: 0.7218 - pi_loss: 0.4058 - v_loss: 0.3160\n",
            "Epoch 8/10\n",
            "1030/1030 [==============================] - 118s 115ms/step - loss: 0.7177 - pi_loss: 0.4046 - v_loss: 0.3131\n",
            "Epoch 9/10\n",
            "1030/1030 [==============================] - 116s 113ms/step - loss: 0.7146 - pi_loss: 0.4025 - v_loss: 0.3120\n",
            "Epoch 10/10\n",
            "1030/1030 [==============================] - 118s 114ms/step - loss: 0.7142 - pi_loss: 0.4019 - v_loss: 0.3123\n"
          ]
        },
        {
          "name": "stderr",
          "output_type": "stream",
          "text": [
            "2024-01-11 20:14:18 7d9bb8bb7fad Coach[381] INFO PITTING AGAINST PREVIOUS VERSION\n",
            "Arena.playGames (1): 100%|██████████| 10/10 [07:46<00:00, 46.70s/it]\n",
            "Arena.playGames (2): 100%|██████████| 10/10 [07:32<00:00, 45.21s/it]\n",
            "2024-01-11 20:29:37 7d9bb8bb7fad Coach[381] INFO NEW/PREV WINS : 12 / 8 ; DRAWS : 0\n",
            "2024-01-11 20:29:37 7d9bb8bb7fad Coach[381] INFO ACCEPTING NEW MODEL\n"
          ]
        },
        {
          "name": "stdout",
          "output_type": "stream",
          "text": [
            "Checkpoint Directory exists! \n",
            "Checkpoint Directory exists! \n"
          ]
        },
        {
          "name": "stderr",
          "output_type": "stream",
          "text": [
            "2024-01-11 20:29:39 7d9bb8bb7fad Coach[381] INFO Starting Iter #17 ...\n",
            "Self Play: 100%|██████████| 25/25 [11:20<00:00, 27.21s/it]\n"
          ]
        },
        {
          "name": "stdout",
          "output_type": "stream",
          "text": [
            "Checkpoint Directory exists! \n",
            "Epoch 1/10\n",
            "1095/1095 [==============================] - 122s 112ms/step - loss: 0.7887 - pi_loss: 0.4464 - v_loss: 0.3423\n",
            "Epoch 2/10\n",
            "1095/1095 [==============================] - 121s 111ms/step - loss: 0.7528 - pi_loss: 0.4234 - v_loss: 0.3294\n",
            "Epoch 3/10\n",
            "1095/1095 [==============================] - 121s 110ms/step - loss: 0.7377 - pi_loss: 0.4154 - v_loss: 0.3223\n",
            "Epoch 4/10\n",
            "1095/1095 [==============================] - 122s 111ms/step - loss: 0.7278 - pi_loss: 0.4095 - v_loss: 0.3184\n",
            "Epoch 5/10\n",
            "1095/1095 [==============================] - 122s 111ms/step - loss: 0.7203 - pi_loss: 0.4055 - v_loss: 0.3147\n",
            "Epoch 6/10\n",
            "1095/1095 [==============================] - 121s 111ms/step - loss: 0.7158 - pi_loss: 0.4034 - v_loss: 0.3124\n",
            "Epoch 7/10\n",
            "1095/1095 [==============================] - 121s 110ms/step - loss: 0.7117 - pi_loss: 0.4031 - v_loss: 0.3086\n",
            "Epoch 8/10\n",
            "1095/1095 [==============================] - 120s 109ms/step - loss: 0.7081 - pi_loss: 0.4006 - v_loss: 0.3075\n",
            "Epoch 9/10\n",
            "1095/1095 [==============================] - 121s 110ms/step - loss: 0.7068 - pi_loss: 0.4003 - v_loss: 0.3065\n",
            "Epoch 10/10\n",
            "1095/1095 [==============================] - 121s 111ms/step - loss: 0.7020 - pi_loss: 0.3990 - v_loss: 0.3031\n"
          ]
        },
        {
          "name": "stderr",
          "output_type": "stream",
          "text": [
            "2024-01-11 21:01:21 7d9bb8bb7fad Coach[381] INFO PITTING AGAINST PREVIOUS VERSION\n",
            "Arena.playGames (1): 100%|██████████| 10/10 [08:01<00:00, 48.16s/it]\n",
            "Arena.playGames (2): 100%|██████████| 10/10 [06:56<00:00, 41.64s/it]\n",
            "2024-01-11 21:16:19 7d9bb8bb7fad Coach[381] INFO NEW/PREV WINS : 12 / 8 ; DRAWS : 0\n",
            "2024-01-11 21:16:19 7d9bb8bb7fad Coach[381] INFO ACCEPTING NEW MODEL\n"
          ]
        },
        {
          "name": "stdout",
          "output_type": "stream",
          "text": [
            "Checkpoint Directory exists! \n",
            "Checkpoint Directory exists! \n"
          ]
        },
        {
          "name": "stderr",
          "output_type": "stream",
          "text": [
            "2024-01-11 21:16:21 7d9bb8bb7fad Coach[381] INFO Starting Iter #18 ...\n",
            "Self Play: 100%|██████████| 25/25 [09:56<00:00, 23.88s/it]\n"
          ]
        },
        {
          "name": "stdout",
          "output_type": "stream",
          "text": [
            "Checkpoint Directory exists! \n",
            "Epoch 1/10\n",
            "1151/1151 [==============================] - 132s 115ms/step - loss: 0.7797 - pi_loss: 0.4352 - v_loss: 0.3445\n",
            "Epoch 2/10\n",
            "1151/1151 [==============================] - 131s 114ms/step - loss: 0.7474 - pi_loss: 0.4173 - v_loss: 0.3301\n",
            "Epoch 3/10\n",
            "1151/1151 [==============================] - 129s 112ms/step - loss: 0.7334 - pi_loss: 0.4105 - v_loss: 0.3229\n",
            "Epoch 4/10\n",
            "1151/1151 [==============================] - 129s 112ms/step - loss: 0.7249 - pi_loss: 0.4073 - v_loss: 0.3176\n",
            "Epoch 5/10\n",
            "1151/1151 [==============================] - 133s 116ms/step - loss: 0.7196 - pi_loss: 0.4049 - v_loss: 0.3147\n",
            "Epoch 6/10\n",
            "1151/1151 [==============================] - 129s 112ms/step - loss: 0.7131 - pi_loss: 0.4015 - v_loss: 0.3116\n",
            "Epoch 7/10\n",
            "1151/1151 [==============================] - 129s 112ms/step - loss: 0.7096 - pi_loss: 0.4026 - v_loss: 0.3070\n",
            "Epoch 8/10\n",
            "1151/1151 [==============================] - 128s 111ms/step - loss: 0.7082 - pi_loss: 0.4009 - v_loss: 0.3073\n",
            "Epoch 9/10\n",
            "1151/1151 [==============================] - 123s 107ms/step - loss: 0.7043 - pi_loss: 0.4002 - v_loss: 0.3041\n",
            "Epoch 10/10\n",
            "1151/1151 [==============================] - 124s 108ms/step - loss: 0.7033 - pi_loss: 0.3990 - v_loss: 0.3042\n"
          ]
        },
        {
          "name": "stderr",
          "output_type": "stream",
          "text": [
            "2024-01-11 21:48:52 7d9bb8bb7fad Coach[381] INFO PITTING AGAINST PREVIOUS VERSION\n",
            "Arena.playGames (1): 100%|██████████| 10/10 [08:47<00:00, 52.78s/it]\n",
            "Arena.playGames (2): 100%|██████████| 10/10 [07:26<00:00, 44.61s/it]\n",
            "2024-01-11 22:05:05 7d9bb8bb7fad Coach[381] INFO NEW/PREV WINS : 7 / 13 ; DRAWS : 0\n",
            "2024-01-11 22:05:05 7d9bb8bb7fad Coach[381] INFO REJECTING NEW MODEL\n",
            "2024-01-11 22:05:08 7d9bb8bb7fad Coach[381] INFO Starting Iter #19 ...\n",
            "Self Play: 100%|██████████| 25/25 [11:57<00:00, 28.70s/it]\n"
          ]
        },
        {
          "name": "stdout",
          "output_type": "stream",
          "text": [
            "Checkpoint Directory exists! \n",
            "Epoch 1/10\n",
            "1218/1218 [==============================] - 132s 107ms/step - loss: 0.8531 - pi_loss: 0.4731 - v_loss: 0.3800\n",
            "Epoch 2/10\n",
            "1218/1218 [==============================] - 131s 107ms/step - loss: 0.7991 - pi_loss: 0.4401 - v_loss: 0.3591\n",
            "Epoch 3/10\n",
            "1218/1218 [==============================] - 131s 107ms/step - loss: 0.7742 - pi_loss: 0.4283 - v_loss: 0.3459\n",
            "Epoch 4/10\n",
            "1218/1218 [==============================] - 131s 108ms/step - loss: 0.7580 - pi_loss: 0.4201 - v_loss: 0.3379\n",
            "Epoch 5/10\n",
            "1218/1218 [==============================] - 132s 108ms/step - loss: 0.7441 - pi_loss: 0.4146 - v_loss: 0.3295\n",
            "Epoch 6/10\n",
            "1218/1218 [==============================] - 131s 108ms/step - loss: 0.7397 - pi_loss: 0.4136 - v_loss: 0.3261\n",
            "Epoch 7/10\n",
            "1218/1218 [==============================] - 132s 108ms/step - loss: 0.7313 - pi_loss: 0.4098 - v_loss: 0.3215\n",
            "Epoch 8/10\n",
            "1218/1218 [==============================] - 132s 108ms/step - loss: 0.7269 - pi_loss: 0.4087 - v_loss: 0.3181\n",
            "Epoch 9/10\n",
            "1218/1218 [==============================] - 131s 108ms/step - loss: 0.7226 - pi_loss: 0.4060 - v_loss: 0.3166\n",
            "Epoch 10/10\n",
            "1218/1218 [==============================] - 131s 108ms/step - loss: 0.7199 - pi_loss: 0.4050 - v_loss: 0.3149\n"
          ]
        },
        {
          "name": "stderr",
          "output_type": "stream",
          "text": [
            "2024-01-11 22:39:13 7d9bb8bb7fad Coach[381] INFO PITTING AGAINST PREVIOUS VERSION\n",
            "Arena.playGames (1): 100%|██████████| 10/10 [08:12<00:00, 49.24s/it]\n",
            "Arena.playGames (2): 100%|██████████| 10/10 [07:16<00:00, 43.68s/it]\n",
            "2024-01-11 22:54:43 7d9bb8bb7fad Coach[381] INFO NEW/PREV WINS : 2 / 18 ; DRAWS : 0\n",
            "2024-01-11 22:54:43 7d9bb8bb7fad Coach[381] INFO REJECTING NEW MODEL\n",
            "2024-01-11 22:54:45 7d9bb8bb7fad Coach[381] INFO Starting Iter #20 ...\n",
            "Self Play: 100%|██████████| 25/25 [09:25<00:00, 22.63s/it]\n"
          ]
        },
        {
          "name": "stdout",
          "output_type": "stream",
          "text": [
            "Checkpoint Directory exists! \n",
            "Epoch 1/10\n",
            "1274/1274 [==============================] - 145s 112ms/step - loss: 0.8897 - pi_loss: 0.4957 - v_loss: 0.3940\n",
            "Epoch 2/10\n",
            "1274/1274 [==============================] - 144s 113ms/step - loss: 0.8238 - pi_loss: 0.4524 - v_loss: 0.3714\n",
            "Epoch 3/10\n",
            "1274/1274 [==============================] - 145s 114ms/step - loss: 0.7947 - pi_loss: 0.4376 - v_loss: 0.3570\n",
            "Epoch 4/10\n",
            "1274/1274 [==============================] - 143s 112ms/step - loss: 0.7738 - pi_loss: 0.4283 - v_loss: 0.3455\n",
            "Epoch 5/10\n",
            "1274/1274 [==============================] - 148s 116ms/step - loss: 0.7600 - pi_loss: 0.4228 - v_loss: 0.3372\n",
            "Epoch 6/10\n",
            "1274/1274 [==============================] - 142s 111ms/step - loss: 0.7525 - pi_loss: 0.4191 - v_loss: 0.3334\n",
            "Epoch 7/10\n",
            "1274/1274 [==============================] - 148s 116ms/step - loss: 0.7438 - pi_loss: 0.4142 - v_loss: 0.3296\n",
            "Epoch 8/10\n",
            "1274/1274 [==============================] - 149s 117ms/step - loss: 0.7402 - pi_loss: 0.4134 - v_loss: 0.3267\n",
            "Epoch 9/10\n",
            "1274/1274 [==============================] - 151s 119ms/step - loss: 0.7345 - pi_loss: 0.4114 - v_loss: 0.3231\n",
            "Epoch 10/10\n",
            "1274/1274 [==============================] - 152s 119ms/step - loss: 0.7298 - pi_loss: 0.4084 - v_loss: 0.3213\n"
          ]
        },
        {
          "name": "stderr",
          "output_type": "stream",
          "text": [
            "2024-01-11 23:29:44 7d9bb8bb7fad Coach[381] INFO PITTING AGAINST PREVIOUS VERSION\n",
            "Arena.playGames (1): 100%|██████████| 10/10 [05:55<00:00, 35.57s/it]\n",
            "Arena.playGames (2): 100%|██████████| 10/10 [07:41<00:00, 46.16s/it]\n",
            "2024-01-11 23:43:21 7d9bb8bb7fad Coach[381] INFO NEW/PREV WINS : 14 / 4 ; DRAWS : 2\n",
            "2024-01-11 23:43:21 7d9bb8bb7fad Coach[381] INFO ACCEPTING NEW MODEL\n"
          ]
        },
        {
          "name": "stdout",
          "output_type": "stream",
          "text": [
            "Checkpoint Directory exists! \n",
            "Checkpoint Directory exists! \n"
          ]
        }
      ],
      "source": [
        "args = dotdict({\n",
        "    'numIters':20,\n",
        "    'numEps': 25,              # Number of complete self-play games to simulate during a new iteration.\n",
        "    'tempThreshold': 15,        #\n",
        "    'updateThreshold': 0.6,     # During arena playoff, new neural net will be accepted if threshold or more of games are won.\n",
        "    'maxlenOfQueue': 50000,    # Number of game examples to train the neural networks.\n",
        "    'numMCTSSims': 25,          # Number of games moves for MCTS to simulate.\n",
        "    'arenaCompare': 20,         # Number of games to play during arena play to determine if new net will be accepted.\n",
        "    'cpuct': 1,\n",
        "\n",
        "    'checkpoint': '/content/drive/MyDrive/trabalho2_liacd/models/ataxx/5x5',\n",
        "    'load_model': True,\n",
        "    'load_folder_file': ('/content/drive/MyDrive/trabalho2_liacd/models/ataxx/5x5', 'best.h5'),\n",
        "    'numItersForTrainExamplesHistory': 20,\n",
        "\n",
        "})\n",
        "\n",
        "\n",
        "log.info('Loading %s...', Game.__name__)\n",
        "g = Game(5)\n",
        "\n",
        "log.info('Loading %s...', nn.__name__)\n",
        "nnet = nn(g)\n",
        "\n",
        "if args.load_model:\n",
        "    log.info('Loading checkpoint \"%s/%s\"...', args.load_folder_file[0], args.load_folder_file[1])\n",
        "    nnet.load_model(args.load_folder_file[0], args.load_folder_file[1])\n",
        "else:\n",
        "    log.warning('Not loading a checkpoint!')\n",
        "\n",
        "log.info('Loading the Coach...')\n",
        "c = Coach(g, nnet, args)\n",
        "\n",
        "if args.load_model:\n",
        "    log.info(\"Loading 'trainExamples' from file...\")\n",
        "    c.loadTrainExamples()\n",
        "\n",
        "log.info('Starting the learning process 🎉')\n",
        "c.learn()\n",
        "\n"
      ]
    },
    {
      "cell_type": "markdown",
      "source": [
        "Fomos treinando até à data de entrega, ainda seria possivel melhorá-lo com mais treino"
      ],
      "metadata": {
        "id": "D0i_sywjjxcU"
      }
    }
  ],
  "metadata": {
    "colab": {
      "provenance": []
    },
    "kernelspec": {
      "display_name": "Python 3",
      "name": "python3"
    },
    "language_info": {
      "name": "python"
    }
  },
  "nbformat": 4,
  "nbformat_minor": 0
}