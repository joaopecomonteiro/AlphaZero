{
  "cells": [
    {
      "cell_type": "markdown",
      "source": [
        "Este notebook serviu para treinar o modelo para o jogo ataxx com o tabuleiro 4x4."
      ],
      "metadata": {
        "id": "viHVPZg4jiBf"
      }
    },
    {
      "cell_type": "code",
      "execution_count": null,
      "metadata": {
        "colab": {
          "base_uri": "https://localhost:8080/"
        },
        "id": "--Jm-jZOCbmN",
        "outputId": "515d0279-27ed-4055-9c6d-cf5742621d1a"
      },
      "outputs": [
        {
          "output_type": "stream",
          "name": "stdout",
          "text": [
            "Mounted at /content/drive\n"
          ]
        }
      ],
      "source": [
        "from google.colab import drive\n",
        "drive.mount('/content/drive')"
      ]
    },
    {
      "cell_type": "code",
      "execution_count": null,
      "metadata": {
        "id": "xubxtmgoTGq5"
      },
      "outputs": [],
      "source": [
        "import os\n",
        "import sys\n"
      ]
    },
    {
      "cell_type": "code",
      "execution_count": null,
      "metadata": {
        "id": "mDpFODLqTGtT"
      },
      "outputs": [],
      "source": [
        "os.chdir('/content/drive/MyDrive/trabalho2_liacd')\n",
        "sys.path.append('/content/drive/MyDrive/trabalho2_liacd')"
      ]
    },
    {
      "cell_type": "code",
      "execution_count": null,
      "metadata": {
        "colab": {
          "base_uri": "https://localhost:8080/"
        },
        "id": "PWleyfTQTGvp",
        "outputId": "eb8a8ecb-1d4a-46db-805e-b9625b7e3e7d"
      },
      "outputs": [
        {
          "output_type": "stream",
          "name": "stdout",
          "text": [
            "/content/drive/MyDrive/trabalho2_liacd\n"
          ]
        }
      ],
      "source": [
        "!pwd"
      ]
    },
    {
      "cell_type": "code",
      "execution_count": null,
      "metadata": {
        "colab": {
          "base_uri": "https://localhost:8080/"
        },
        "id": "jaWO3JxGT5by",
        "outputId": "c3ddcf61-f2f2-40c2-e992-b9b1edd1143b"
      },
      "outputs": [
        {
          "output_type": "stream",
          "name": "stdout",
          "text": [
            "Collecting coloredlogs\n",
            "  Downloading coloredlogs-15.0.1-py2.py3-none-any.whl (46 kB)\n",
            "\u001b[2K     \u001b[90m━━━━━━━━━━━━━━━━━━━━━━━━━━━━━━━━━━━━━━━━\u001b[0m \u001b[32m46.0/46.0 kB\u001b[0m \u001b[31m534.1 kB/s\u001b[0m eta \u001b[36m0:00:00\u001b[0m\n",
            "\u001b[?25hCollecting humanfriendly>=9.1 (from coloredlogs)\n",
            "  Downloading humanfriendly-10.0-py2.py3-none-any.whl (86 kB)\n",
            "\u001b[2K     \u001b[90m━━━━━━━━━━━━━━━━━━━━━━━━━━━━━━━━━━━━━━━━\u001b[0m \u001b[32m86.8/86.8 kB\u001b[0m \u001b[31m3.3 MB/s\u001b[0m eta \u001b[36m0:00:00\u001b[0m\n",
            "\u001b[?25hInstalling collected packages: humanfriendly, coloredlogs\n",
            "Successfully installed coloredlogs-15.0.1 humanfriendly-10.0\n"
          ]
        }
      ],
      "source": [
        "!pip install coloredlogs"
      ]
    },
    {
      "cell_type": "code",
      "execution_count": null,
      "metadata": {
        "colab": {
          "base_uri": "https://localhost:8080/"
        },
        "id": "r-gnK2NxTGx9",
        "outputId": "64bfdd1b-adfd-40cc-c034-a2d291e80abf"
      },
      "outputs": [
        {
          "output_type": "stream",
          "name": "stdout",
          "text": [
            "pygame 2.5.2 (SDL 2.28.2, Python 3.10.12)\n",
            "Hello from the pygame community. https://www.pygame.org/contribute.html\n"
          ]
        }
      ],
      "source": [
        "import logging\n",
        "\n",
        "import coloredlogs\n",
        "from importlib import reload\n",
        "\n",
        "\n",
        "\n",
        "from Coach import Coach\n",
        "from Ataxx.AtaxxGame import AtaxxGame as Game\n",
        "from Ataxx.tensorflow.NNet import NNetWrapper as nn\n",
        "from utils import *\n"
      ]
    },
    {
      "cell_type": "code",
      "execution_count": null,
      "metadata": {
        "id": "XfrC_QhEViQC"
      },
      "outputs": [],
      "source": [
        "log = logging.getLogger(__name__)\n",
        "\n",
        "coloredlogs.install(level='INFO')"
      ]
    },
    {
      "cell_type": "code",
      "execution_count": null,
      "metadata": {
        "colab": {
          "base_uri": "https://localhost:8080/"
        },
        "id": "hVt7KnlxkhHT",
        "outputId": "e7fb91db-664d-4a7e-f9c3-f509cbf75477"
      },
      "outputs": [
        {
          "output_type": "execute_result",
          "data": {
            "text/plain": [
              "1000"
            ]
          },
          "metadata": {},
          "execution_count": 9
        }
      ],
      "source": [
        "sys.getrecursionlimit()"
      ]
    },
    {
      "cell_type": "code",
      "execution_count": null,
      "metadata": {
        "id": "T2_Cd2rMXSYM"
      },
      "outputs": [],
      "source": [
        "sys.setrecursionlimit(1000000000)"
      ]
    },
    {
      "cell_type": "markdown",
      "source": [
        "#Primeiro Treino"
      ],
      "metadata": {
        "id": "ui9l-6_BYCXt"
      }
    },
    {
      "cell_type": "code",
      "execution_count": null,
      "metadata": {
        "id": "yev1VposVj3H"
      },
      "outputs": [],
      "source": [
        "args = dotdict({\n",
        "    'numIters': 5,\n",
        "    'numEps': 25,              # Number of complete self-play games to simulate during a new iteration.\n",
        "    'tempThreshold': 15,        #\n",
        "    'updateThreshold': 0.6,     # During arena playoff, new neural net will be accepted if threshold or more of games are won.\n",
        "    'maxlenOfQueue': 50000,    # Number of game examples to train the neural networks.\n",
        "    'numMCTSSims': 25,          # Number of games moves for MCTS to simulate.\n",
        "    'arenaCompare': 20,         # Number of games to play during arena play to determine if new net will be accepted.\n",
        "    'cpuct': 1,\n",
        "\n",
        "    'checkpoint': '/content/drive/MyDrive/trabalho2_liacd/models/ataxx/4x4',\n",
        "    'load_model': False,\n",
        "    'load_folder_file': ('/content/drive/MyDrive/trabalho2_liacd/models/ataxx/4x4', 'best.h5'),\n",
        "    'numItersForTrainExamplesHistory': 20,\n",
        "\n",
        "})\n"
      ]
    },
    {
      "cell_type": "code",
      "execution_count": null,
      "metadata": {
        "colab": {
          "base_uri": "https://localhost:8080/"
        },
        "id": "WkpkDzxTVj5b",
        "outputId": "602af8e5-ec55-4f34-9f4b-0650d303f475"
      },
      "outputs": [
        {
          "output_type": "stream",
          "name": "stderr",
          "text": [
            "2023-12-24 15:15:42 84f8cbc58361 __main__[81049] INFO Loading AtaxxGame...\n",
            "2023-12-24 15:15:42 84f8cbc58361 __main__[81049] INFO Loading NNetWrapper...\n",
            "2023-12-24 15:15:42 84f8cbc58361 __main__[81049] WARNING Not loading a checkpoint!\n",
            "2023-12-24 15:15:42 84f8cbc58361 __main__[81049] INFO Loading the Coach...\n",
            "2023-12-24 15:15:43 84f8cbc58361 __main__[81049] INFO Starting the learning process 🎉\n",
            "2023-12-24 15:15:43 84f8cbc58361 Coach[81049] INFO Starting Iter #1 ...\n",
            "Self Play: 100%|██████████| 25/25 [04:41<00:00, 11.27s/it]\n",
            "/usr/local/lib/python3.10/dist-packages/keras/src/engine/training.py:3103: UserWarning: You are saving your model as an HDF5 file via `model.save()`. This file format is considered legacy. We recommend using instead the native Keras format, e.g. `model.save('my_model.keras')`.\n",
            "  saving_api.save_model(\n"
          ]
        },
        {
          "output_type": "stream",
          "name": "stdout",
          "text": [
            "Checkpoint Directory exists! \n",
            "okok\n",
            "(1456, 4, 4, 1)\n",
            "Epoch 1/10\n",
            "23/23 [==============================] - 5s 100ms/step - loss: 4.3154 - pi_loss: 2.9279 - v_loss: 1.3875\n",
            "Epoch 2/10\n",
            "23/23 [==============================] - 4s 157ms/step - loss: 3.6860 - pi_loss: 2.5123 - v_loss: 1.1737\n",
            "Epoch 3/10\n",
            "23/23 [==============================] - 3s 144ms/step - loss: 3.4355 - pi_loss: 2.3764 - v_loss: 1.0591\n",
            "Epoch 4/10\n",
            "23/23 [==============================] - 2s 100ms/step - loss: 3.3495 - pi_loss: 2.2920 - v_loss: 1.0576\n",
            "Epoch 5/10\n",
            "23/23 [==============================] - 2s 100ms/step - loss: 3.1518 - pi_loss: 2.2457 - v_loss: 0.9061\n",
            "Epoch 6/10\n",
            "23/23 [==============================] - 2s 99ms/step - loss: 3.0585 - pi_loss: 2.1761 - v_loss: 0.8824\n",
            "Epoch 7/10\n",
            "23/23 [==============================] - 2s 99ms/step - loss: 2.9547 - pi_loss: 2.1298 - v_loss: 0.8249\n",
            "Epoch 8/10\n",
            "23/23 [==============================] - 3s 150ms/step - loss: 2.9895 - pi_loss: 2.1026 - v_loss: 0.8868\n",
            "Epoch 9/10\n",
            "23/23 [==============================] - 4s 155ms/step - loss: 2.8842 - pi_loss: 2.0573 - v_loss: 0.8269\n",
            "Epoch 10/10\n",
            "23/23 [==============================] - 2s 100ms/step - loss: 2.7719 - pi_loss: 2.0352 - v_loss: 0.7367\n"
          ]
        },
        {
          "output_type": "stream",
          "name": "stderr",
          "text": [
            "2023-12-24 15:20:56 84f8cbc58361 Coach[81049] INFO PITTING AGAINST PREVIOUS VERSION\n",
            "Arena.playGames (1): 100%|██████████| 10/10 [03:20<00:00, 20.01s/it]\n",
            "Arena.playGames (2): 100%|██████████| 10/10 [01:43<00:00, 10.31s/it]\n",
            "2023-12-24 15:25:59 84f8cbc58361 Coach[81049] INFO NEW/PREV WINS : 18 / 1 ; DRAWS : 1\n",
            "2023-12-24 15:25:59 84f8cbc58361 Coach[81049] INFO ACCEPTING NEW MODEL\n"
          ]
        },
        {
          "output_type": "stream",
          "name": "stdout",
          "text": [
            "Checkpoint Directory exists! \n",
            "Checkpoint Directory exists! \n"
          ]
        },
        {
          "output_type": "stream",
          "name": "stderr",
          "text": [
            "2023-12-24 15:25:59 84f8cbc58361 Coach[81049] INFO Starting Iter #2 ...\n",
            "Self Play: 100%|██████████| 25/25 [04:48<00:00, 11.56s/it]\n"
          ]
        },
        {
          "output_type": "stream",
          "name": "stdout",
          "text": [
            "Checkpoint Directory exists! \n",
            "okok\n",
            "(3200, 4, 4, 1)\n",
            "Epoch 1/10\n",
            "50/50 [==============================] - 5s 98ms/step - loss: 2.9545 - pi_loss: 2.0774 - v_loss: 0.8770\n",
            "Epoch 2/10\n",
            "50/50 [==============================] - 6s 112ms/step - loss: 2.6941 - pi_loss: 1.8899 - v_loss: 0.8042\n",
            "Epoch 3/10\n",
            "50/50 [==============================] - 7s 133ms/step - loss: 2.5520 - pi_loss: 1.7914 - v_loss: 0.7605\n",
            "Epoch 4/10\n",
            "50/50 [==============================] - 5s 98ms/step - loss: 2.4263 - pi_loss: 1.7173 - v_loss: 0.7090\n",
            "Epoch 5/10\n",
            "50/50 [==============================] - 6s 117ms/step - loss: 2.3193 - pi_loss: 1.6491 - v_loss: 0.6702\n",
            "Epoch 6/10\n",
            "50/50 [==============================] - 6s 127ms/step - loss: 2.2560 - pi_loss: 1.5963 - v_loss: 0.6597\n",
            "Epoch 7/10\n",
            "50/50 [==============================] - 5s 99ms/step - loss: 2.1973 - pi_loss: 1.5783 - v_loss: 0.6190\n",
            "Epoch 8/10\n",
            "50/50 [==============================] - 6s 119ms/step - loss: 2.1275 - pi_loss: 1.5425 - v_loss: 0.5850\n",
            "Epoch 9/10\n",
            "50/50 [==============================] - 6s 123ms/step - loss: 2.0954 - pi_loss: 1.5246 - v_loss: 0.5708\n",
            "Epoch 10/10\n",
            "50/50 [==============================] - 5s 97ms/step - loss: 2.0778 - pi_loss: 1.5110 - v_loss: 0.5667\n"
          ]
        },
        {
          "output_type": "stream",
          "name": "stderr",
          "text": [
            "2023-12-24 15:31:46 84f8cbc58361 Coach[81049] INFO PITTING AGAINST PREVIOUS VERSION\n",
            "Arena.playGames (1): 100%|██████████| 10/10 [00:57<00:00,  5.78s/it]\n",
            "Arena.playGames (2): 100%|██████████| 10/10 [00:51<00:00,  5.19s/it]\n",
            "2023-12-24 15:33:36 84f8cbc58361 Coach[81049] INFO NEW/PREV WINS : 9 / 11 ; DRAWS : 0\n",
            "2023-12-24 15:33:36 84f8cbc58361 Coach[81049] INFO REJECTING NEW MODEL\n",
            "2023-12-24 15:33:38 84f8cbc58361 Coach[81049] INFO Starting Iter #3 ...\n",
            "Self Play: 100%|██████████| 25/25 [05:01<00:00, 12.05s/it]\n"
          ]
        },
        {
          "output_type": "stream",
          "name": "stdout",
          "text": [
            "Checkpoint Directory exists! \n",
            "okok\n",
            "(4984, 4, 4, 1)\n",
            "Epoch 1/10\n",
            "78/78 [==============================] - 14s 147ms/step - loss: 2.9124 - pi_loss: 1.9901 - v_loss: 0.9223\n",
            "Epoch 2/10\n",
            "78/78 [==============================] - 8s 98ms/step - loss: 2.6129 - pi_loss: 1.7673 - v_loss: 0.8456\n",
            "Epoch 3/10\n",
            "78/78 [==============================] - 10s 126ms/step - loss: 2.3605 - pi_loss: 1.6124 - v_loss: 0.7481\n",
            "Epoch 4/10\n",
            "78/78 [==============================] - 7s 96ms/step - loss: 2.2574 - pi_loss: 1.5559 - v_loss: 0.7015\n",
            "Epoch 5/10\n",
            "78/78 [==============================] - 10s 124ms/step - loss: 2.1665 - pi_loss: 1.4947 - v_loss: 0.6717\n",
            "Epoch 6/10\n",
            "78/78 [==============================] - 8s 99ms/step - loss: 2.1072 - pi_loss: 1.4626 - v_loss: 0.6446\n",
            "Epoch 7/10\n",
            "78/78 [==============================] - 10s 123ms/step - loss: 2.0491 - pi_loss: 1.4386 - v_loss: 0.6105\n",
            "Epoch 8/10\n",
            "78/78 [==============================] - 8s 104ms/step - loss: 2.0078 - pi_loss: 1.4066 - v_loss: 0.6012\n",
            "Epoch 9/10\n",
            "78/78 [==============================] - 9s 118ms/step - loss: 1.9758 - pi_loss: 1.3969 - v_loss: 0.5789\n",
            "Epoch 10/10\n",
            "78/78 [==============================] - 9s 110ms/step - loss: 1.9627 - pi_loss: 1.3891 - v_loss: 0.5736\n"
          ]
        },
        {
          "output_type": "stream",
          "name": "stderr",
          "text": [
            "2023-12-24 15:41:04 84f8cbc58361 Coach[81049] INFO PITTING AGAINST PREVIOUS VERSION\n",
            "Arena.playGames (1): 100%|██████████| 10/10 [01:24<00:00,  8.43s/it]\n",
            "Arena.playGames (2): 100%|██████████| 10/10 [00:07<00:00,  1.37it/s]\n",
            "2023-12-24 15:42:36 84f8cbc58361 Coach[81049] INFO NEW/PREV WINS : 12 / 8 ; DRAWS : 0\n",
            "2023-12-24 15:42:36 84f8cbc58361 Coach[81049] INFO ACCEPTING NEW MODEL\n"
          ]
        },
        {
          "output_type": "stream",
          "name": "stdout",
          "text": [
            "Checkpoint Directory exists! \n",
            "Checkpoint Directory exists! \n"
          ]
        },
        {
          "output_type": "stream",
          "name": "stderr",
          "text": [
            "2023-12-24 15:42:37 84f8cbc58361 Coach[81049] INFO Starting Iter #4 ...\n",
            "Self Play: 100%|██████████| 25/25 [05:13<00:00, 12.54s/it]\n"
          ]
        },
        {
          "output_type": "stream",
          "name": "stdout",
          "text": [
            "Checkpoint Directory exists! \n",
            "okok\n",
            "(6928, 4, 4, 1)\n",
            "Epoch 1/10\n",
            "109/109 [==============================] - 13s 119ms/step - loss: 2.0564 - pi_loss: 1.3935 - v_loss: 0.6629\n",
            "Epoch 2/10\n",
            "109/109 [==============================] - 11s 103ms/step - loss: 1.9744 - pi_loss: 1.3556 - v_loss: 0.6188\n",
            "Epoch 3/10\n",
            "109/109 [==============================] - 12s 109ms/step - loss: 1.9518 - pi_loss: 1.3392 - v_loss: 0.6125\n",
            "Epoch 4/10\n",
            "109/109 [==============================] - 12s 114ms/step - loss: 1.9194 - pi_loss: 1.3233 - v_loss: 0.5960\n",
            "Epoch 5/10\n",
            "109/109 [==============================] - 13s 115ms/step - loss: 1.8877 - pi_loss: 1.3058 - v_loss: 0.5818\n",
            "Epoch 6/10\n",
            "109/109 [==============================] - 11s 98ms/step - loss: 1.8836 - pi_loss: 1.3012 - v_loss: 0.5824\n",
            "Epoch 7/10\n",
            "109/109 [==============================] - 13s 116ms/step - loss: 1.8471 - pi_loss: 1.2797 - v_loss: 0.5674\n",
            "Epoch 8/10\n",
            "109/109 [==============================] - 13s 118ms/step - loss: 1.8266 - pi_loss: 1.2712 - v_loss: 0.5554\n",
            "Epoch 9/10\n",
            "109/109 [==============================] - 12s 112ms/step - loss: 1.8242 - pi_loss: 1.2762 - v_loss: 0.5479\n",
            "Epoch 10/10\n",
            "109/109 [==============================] - 11s 100ms/step - loss: 1.8087 - pi_loss: 1.2669 - v_loss: 0.5418\n"
          ]
        },
        {
          "output_type": "stream",
          "name": "stderr",
          "text": [
            "2023-12-24 15:50:15 84f8cbc58361 Coach[81049] INFO PITTING AGAINST PREVIOUS VERSION\n",
            "Arena.playGames (1): 100%|██████████| 10/10 [00:05<00:00,  1.68it/s]\n",
            "Arena.playGames (2): 100%|██████████| 10/10 [00:06<00:00,  1.66it/s]\n",
            "2023-12-24 15:50:27 84f8cbc58361 Coach[81049] INFO NEW/PREV WINS : 10 / 10 ; DRAWS : 0\n",
            "2023-12-24 15:50:27 84f8cbc58361 Coach[81049] INFO REJECTING NEW MODEL\n",
            "2023-12-24 15:50:28 84f8cbc58361 Coach[81049] INFO Starting Iter #5 ...\n",
            "Self Play: 100%|██████████| 25/25 [02:38<00:00,  6.34s/it]\n"
          ]
        },
        {
          "output_type": "stream",
          "name": "stdout",
          "text": [
            "Checkpoint Directory exists! \n",
            "okok\n",
            "(7984, 4, 4, 1)\n",
            "Epoch 1/10\n",
            "125/125 [==============================] - 16s 114ms/step - loss: 2.0289 - pi_loss: 1.3885 - v_loss: 0.6404\n",
            "Epoch 2/10\n",
            "125/125 [==============================] - 14s 111ms/step - loss: 1.9737 - pi_loss: 1.3387 - v_loss: 0.6350\n",
            "Epoch 3/10\n",
            "125/125 [==============================] - 14s 110ms/step - loss: 1.9259 - pi_loss: 1.3168 - v_loss: 0.6091\n",
            "Epoch 4/10\n",
            "125/125 [==============================] - 14s 116ms/step - loss: 1.8922 - pi_loss: 1.3013 - v_loss: 0.5909\n",
            "Epoch 5/10\n",
            "125/125 [==============================] - 15s 118ms/step - loss: 1.8630 - pi_loss: 1.2782 - v_loss: 0.5848\n",
            "Epoch 6/10\n",
            "125/125 [==============================] - 15s 118ms/step - loss: 1.8478 - pi_loss: 1.2753 - v_loss: 0.5725\n",
            "Epoch 7/10\n",
            "125/125 [==============================] - 15s 118ms/step - loss: 1.8269 - pi_loss: 1.2609 - v_loss: 0.5660\n",
            "Epoch 8/10\n",
            "125/125 [==============================] - 15s 117ms/step - loss: 1.8113 - pi_loss: 1.2518 - v_loss: 0.5595\n",
            "Epoch 9/10\n",
            "125/125 [==============================] - 14s 109ms/step - loss: 1.7841 - pi_loss: 1.2428 - v_loss: 0.5413\n",
            "Epoch 10/10\n",
            "125/125 [==============================] - 14s 111ms/step - loss: 1.7753 - pi_loss: 1.2355 - v_loss: 0.5398\n"
          ]
        },
        {
          "output_type": "stream",
          "name": "stderr",
          "text": [
            "2023-12-24 15:56:32 84f8cbc58361 Coach[81049] INFO PITTING AGAINST PREVIOUS VERSION\n",
            "Arena.playGames (1): 100%|██████████| 10/10 [00:05<00:00,  1.73it/s]\n",
            "Arena.playGames (2): 100%|██████████| 10/10 [00:06<00:00,  1.51it/s]\n",
            "2023-12-24 15:56:44 84f8cbc58361 Coach[81049] INFO NEW/PREV WINS : 10 / 10 ; DRAWS : 0\n",
            "2023-12-24 15:56:44 84f8cbc58361 Coach[81049] INFO REJECTING NEW MODEL\n"
          ]
        }
      ],
      "source": [
        "log.info('Loading %s...', Game.__name__)\n",
        "g = Game(4)\n",
        "\n",
        "log.info('Loading %s...', nn.__name__)\n",
        "nnet = nn(g)\n",
        "\n",
        "if args.load_model:\n",
        "    log.info('Loading checkpoint \"%s/%s\"...', args.load_folder_file[0], args.load_folder_file[1])\n",
        "    nnet.load_model(args.load_folder_file[0], args.load_folder_file[1])\n",
        "else:\n",
        "    log.warning('Not loading a checkpoint!')\n",
        "\n",
        "log.info('Loading the Coach...')\n",
        "c = Coach(g, nnet, args)\n",
        "\n",
        "if args.load_model:\n",
        "    log.info(\"Loading 'trainExamples' from file...\")\n",
        "    c.loadTrainExamples()\n",
        "\n",
        "log.info('Starting the learning process 🎉')\n",
        "c.learn()"
      ]
    },
    {
      "cell_type": "markdown",
      "source": [
        "#Segundo Treino"
      ],
      "metadata": {
        "id": "27us34mUYEdv"
      }
    },
    {
      "cell_type": "code",
      "execution_count": null,
      "metadata": {
        "id": "6wJnVBKpcEgW",
        "colab": {
          "base_uri": "https://localhost:8080/"
        },
        "outputId": "f7ca3cf2-9dc1-45c8-e8e9-9aae068a7945"
      },
      "outputs": [
        {
          "output_type": "stream",
          "name": "stderr",
          "text": [
            "2024-01-06 15:25:41 73325d0dc639 __main__[205] INFO Loading AtaxxGame...\n",
            "2024-01-06 15:25:41 73325d0dc639 __main__[205] INFO Loading NNetWrapper...\n",
            "2024-01-06 15:25:41 73325d0dc639 __main__[205] INFO Loading checkpoint \"/content/drive/MyDrive/trabalho2_liacd/models/ataxx/4x4/best.h5\"...\n",
            "2024-01-06 15:25:43 73325d0dc639 __main__[205] INFO Loading the Coach...\n",
            "2024-01-06 15:25:44 73325d0dc639 __main__[205] INFO Loading 'trainExamples' from file...\n",
            "2024-01-06 15:25:44 73325d0dc639 Coach[205] WARNING File \"/content/drive/MyDrive/trabalho2_liacd/models/ataxx/4x4/best.h5.examples\" with trainExamples not found!\n"
          ]
        },
        {
          "name": "stdout",
          "output_type": "stream",
          "text": [
            "Continue? [y|n]y\n"
          ]
        },
        {
          "output_type": "stream",
          "name": "stderr",
          "text": [
            "2024-01-06 15:25:45 73325d0dc639 __main__[205] INFO Starting the learning process 🎉\n",
            "2024-01-06 15:25:45 73325d0dc639 Coach[205] INFO Starting Iter #1 ...\n",
            "Self Play: 100%|██████████| 25/25 [04:15<00:00, 10.21s/it]\n"
          ]
        },
        {
          "output_type": "stream",
          "name": "stdout",
          "text": [
            "Checkpoint Directory exists! \n"
          ]
        },
        {
          "output_type": "stream",
          "name": "stderr",
          "text": [
            "/usr/local/lib/python3.10/dist-packages/keras/src/engine/training.py:3103: UserWarning: You are saving your model as an HDF5 file via `model.save()`. This file format is considered legacy. We recommend using instead the native Keras format, e.g. `model.save('my_model.keras')`.\n",
            "  saving_api.save_model(\n"
          ]
        },
        {
          "output_type": "stream",
          "name": "stdout",
          "text": [
            "Epoch 1/10\n",
            "28/28 [==============================] - 5s 97ms/step - loss: 2.2380 - pi_loss: 1.3811 - v_loss: 0.8570\n",
            "Epoch 2/10\n",
            "28/28 [==============================] - 4s 141ms/step - loss: 1.7872 - pi_loss: 1.2016 - v_loss: 0.5856\n",
            "Epoch 3/10\n",
            "28/28 [==============================] - 4s 125ms/step - loss: 1.6289 - pi_loss: 1.1133 - v_loss: 0.5156\n",
            "Epoch 4/10\n",
            "28/28 [==============================] - 3s 97ms/step - loss: 1.5644 - pi_loss: 1.0799 - v_loss: 0.4845\n",
            "Epoch 5/10\n",
            "28/28 [==============================] - 3s 95ms/step - loss: 1.4923 - pi_loss: 1.0434 - v_loss: 0.4489\n",
            "Epoch 6/10\n",
            "28/28 [==============================] - 3s 96ms/step - loss: 1.4300 - pi_loss: 1.0165 - v_loss: 0.4135\n",
            "Epoch 7/10\n",
            "28/28 [==============================] - 4s 129ms/step - loss: 1.4228 - pi_loss: 1.0098 - v_loss: 0.4130\n",
            "Epoch 8/10\n",
            "28/28 [==============================] - 4s 140ms/step - loss: 1.3865 - pi_loss: 0.9947 - v_loss: 0.3918\n",
            "Epoch 9/10\n",
            "28/28 [==============================] - 3s 94ms/step - loss: 1.3683 - pi_loss: 0.9883 - v_loss: 0.3800\n",
            "Epoch 10/10\n",
            "28/28 [==============================] - 3s 96ms/step - loss: 1.3486 - pi_loss: 0.9736 - v_loss: 0.3749\n"
          ]
        },
        {
          "output_type": "stream",
          "name": "stderr",
          "text": [
            "2024-01-06 15:30:35 73325d0dc639 Coach[205] INFO PITTING AGAINST PREVIOUS VERSION\n",
            "Arena.playGames (1): 100%|██████████| 10/10 [00:04<00:00,  2.09it/s]\n",
            "Arena.playGames (2): 100%|██████████| 10/10 [00:35<00:00,  3.59s/it]\n",
            "2024-01-06 15:31:16 73325d0dc639 Coach[205] INFO NEW/PREV WINS : 9 / 10 ; DRAWS : 1\n",
            "2024-01-06 15:31:16 73325d0dc639 Coach[205] INFO REJECTING NEW MODEL\n",
            "2024-01-06 15:31:17 73325d0dc639 Coach[205] INFO Starting Iter #2 ...\n",
            "Self Play:  80%|████████  | 20/25 [03:10<01:07, 13.43s/it]2024-01-06 15:34:37 73325d0dc639 MCTS[205] WARNING Max depth reached!\n",
            "Self Play: 100%|██████████| 25/25 [04:12<00:00, 10.09s/it]\n"
          ]
        },
        {
          "output_type": "stream",
          "name": "stdout",
          "text": [
            "Checkpoint Directory exists! \n",
            "Epoch 1/10\n",
            "53/53 [==============================] - 6s 95ms/step - loss: 2.1295 - pi_loss: 1.3396 - v_loss: 0.7899\n",
            "Epoch 2/10\n",
            "53/53 [==============================] - 7s 138ms/step - loss: 1.8556 - pi_loss: 1.1920 - v_loss: 0.6636\n",
            "Epoch 3/10\n",
            "53/53 [==============================] - 5s 94ms/step - loss: 1.7285 - pi_loss: 1.1055 - v_loss: 0.6230\n",
            "Epoch 4/10\n",
            "53/53 [==============================] - 5s 98ms/step - loss: 1.6663 - pi_loss: 1.0783 - v_loss: 0.5879\n",
            "Epoch 5/10\n",
            "53/53 [==============================] - 7s 130ms/step - loss: 1.6229 - pi_loss: 1.0555 - v_loss: 0.5674\n",
            "Epoch 6/10\n",
            "53/53 [==============================] - 5s 95ms/step - loss: 1.5846 - pi_loss: 1.0454 - v_loss: 0.5392\n",
            "Epoch 7/10\n",
            "53/53 [==============================] - 6s 105ms/step - loss: 1.5679 - pi_loss: 1.0215 - v_loss: 0.5464\n",
            "Epoch 8/10\n",
            "53/53 [==============================] - 7s 123ms/step - loss: 1.5188 - pi_loss: 1.0090 - v_loss: 0.5099\n",
            "Epoch 9/10\n",
            "53/53 [==============================] - 5s 92ms/step - loss: 1.5009 - pi_loss: 1.0007 - v_loss: 0.5001\n",
            "Epoch 10/10\n",
            "53/53 [==============================] - 6s 113ms/step - loss: 1.4701 - pi_loss: 0.9853 - v_loss: 0.4848\n"
          ]
        },
        {
          "output_type": "stream",
          "name": "stderr",
          "text": [
            "2024-01-06 15:36:29 73325d0dc639 Coach[205] INFO PITTING AGAINST PREVIOUS VERSION\n",
            "Arena.playGames (1): 100%|██████████| 10/10 [00:05<00:00,  1.88it/s]\n",
            "Arena.playGames (2): 100%|██████████| 10/10 [00:03<00:00,  2.95it/s]\n",
            "2024-01-06 15:36:38 73325d0dc639 Coach[205] INFO NEW/PREV WINS : 10 / 10 ; DRAWS : 0\n",
            "2024-01-06 15:36:38 73325d0dc639 Coach[205] INFO REJECTING NEW MODEL\n",
            "2024-01-06 15:36:39 73325d0dc639 Coach[205] INFO Starting Iter #3 ...\n",
            "Self Play:  24%|██▍       | 6/25 [01:04<03:34, 11.29s/it]2024-01-06 15:37:52 73325d0dc639 MCTS[205] WARNING Max depth reached!\n",
            "Self Play: 100%|██████████| 25/25 [05:08<00:00, 12.35s/it]\n"
          ]
        },
        {
          "output_type": "stream",
          "name": "stdout",
          "text": [
            "Checkpoint Directory exists! \n",
            "Epoch 1/10\n",
            "84/84 [==============================] - 11s 116ms/step - loss: 2.0407 - pi_loss: 1.3018 - v_loss: 0.7389\n",
            "Epoch 2/10\n",
            "84/84 [==============================] - 8s 100ms/step - loss: 1.8166 - pi_loss: 1.1549 - v_loss: 0.6617\n",
            "Epoch 3/10\n",
            "84/84 [==============================] - 10s 123ms/step - loss: 1.7347 - pi_loss: 1.1082 - v_loss: 0.6265\n",
            "Epoch 4/10\n",
            "84/84 [==============================] - 9s 103ms/step - loss: 1.6817 - pi_loss: 1.0711 - v_loss: 0.6107\n",
            "Epoch 5/10\n",
            "84/84 [==============================] - 10s 121ms/step - loss: 1.6311 - pi_loss: 1.0438 - v_loss: 0.5873\n",
            "Epoch 6/10\n",
            "84/84 [==============================] - 9s 107ms/step - loss: 1.6014 - pi_loss: 1.0348 - v_loss: 0.5666\n",
            "Epoch 7/10\n",
            "84/84 [==============================] - 10s 116ms/step - loss: 1.5606 - pi_loss: 1.0056 - v_loss: 0.5550\n",
            "Epoch 8/10\n",
            "84/84 [==============================] - 10s 120ms/step - loss: 1.5524 - pi_loss: 0.9973 - v_loss: 0.5551\n",
            "Epoch 9/10\n",
            "84/84 [==============================] - 9s 101ms/step - loss: 1.5148 - pi_loss: 0.9848 - v_loss: 0.5300\n",
            "Epoch 10/10\n",
            "84/84 [==============================] - 10s 124ms/step - loss: 1.4993 - pi_loss: 0.9805 - v_loss: 0.5188\n"
          ]
        },
        {
          "output_type": "stream",
          "name": "stderr",
          "text": [
            "2024-01-06 15:44:12 73325d0dc639 Coach[205] INFO PITTING AGAINST PREVIOUS VERSION\n",
            "Arena.playGames (1): 100%|██████████| 10/10 [00:06<00:00,  1.61it/s]\n",
            "Arena.playGames (2): 100%|██████████| 10/10 [00:04<00:00,  2.41it/s]\n",
            "2024-01-06 15:44:23 73325d0dc639 Coach[205] INFO NEW/PREV WINS : 10 / 10 ; DRAWS : 0\n",
            "2024-01-06 15:44:23 73325d0dc639 Coach[205] INFO REJECTING NEW MODEL\n",
            "2024-01-06 15:44:24 73325d0dc639 Coach[205] INFO Starting Iter #4 ...\n",
            "Self Play: 100%|██████████| 25/25 [03:49<00:00,  9.19s/it]\n"
          ]
        },
        {
          "output_type": "stream",
          "name": "stdout",
          "text": [
            "Checkpoint Directory exists! \n",
            "Epoch 1/10\n",
            "106/106 [==============================] - 12s 104ms/step - loss: 2.0550 - pi_loss: 1.3073 - v_loss: 0.7478\n",
            "Epoch 2/10\n",
            "106/106 [==============================] - 12s 110ms/step - loss: 1.8249 - pi_loss: 1.1656 - v_loss: 0.6593\n",
            "Epoch 3/10\n",
            "106/106 [==============================] - 12s 118ms/step - loss: 1.7527 - pi_loss: 1.1166 - v_loss: 0.6362\n",
            "Epoch 4/10\n",
            "106/106 [==============================] - 12s 114ms/step - loss: 1.7139 - pi_loss: 1.0940 - v_loss: 0.6199\n",
            "Epoch 5/10\n",
            "106/106 [==============================] - 11s 100ms/step - loss: 1.6645 - pi_loss: 1.0651 - v_loss: 0.5994\n",
            "Epoch 6/10\n",
            "106/106 [==============================] - 13s 119ms/step - loss: 1.6294 - pi_loss: 1.0428 - v_loss: 0.5866\n",
            "Epoch 7/10\n",
            "106/106 [==============================] - 13s 121ms/step - loss: 1.6073 - pi_loss: 1.0329 - v_loss: 0.5744\n",
            "Epoch 8/10\n",
            "106/106 [==============================] - 12s 112ms/step - loss: 1.5857 - pi_loss: 1.0225 - v_loss: 0.5632\n",
            "Epoch 9/10\n",
            "106/106 [==============================] - 11s 104ms/step - loss: 1.5651 - pi_loss: 1.0084 - v_loss: 0.5567\n",
            "Epoch 10/10\n",
            "106/106 [==============================] - 13s 120ms/step - loss: 1.5334 - pi_loss: 0.9969 - v_loss: 0.5365\n"
          ]
        },
        {
          "output_type": "stream",
          "name": "stderr",
          "text": [
            "2024-01-06 15:50:39 73325d0dc639 Coach[205] INFO PITTING AGAINST PREVIOUS VERSION\n",
            "Arena.playGames (1): 100%|██████████| 10/10 [00:04<00:00,  2.27it/s]\n",
            "Arena.playGames (2): 100%|██████████| 10/10 [00:04<00:00,  2.48it/s]\n",
            "2024-01-06 15:50:47 73325d0dc639 Coach[205] INFO NEW/PREV WINS : 10 / 10 ; DRAWS : 0\n",
            "2024-01-06 15:50:47 73325d0dc639 Coach[205] INFO REJECTING NEW MODEL\n",
            "2024-01-06 15:50:48 73325d0dc639 Coach[205] INFO Starting Iter #5 ...\n",
            "Self Play: 100%|██████████| 25/25 [04:48<00:00, 11.53s/it]\n"
          ]
        },
        {
          "output_type": "stream",
          "name": "stdout",
          "text": [
            "Checkpoint Directory exists! \n",
            "Epoch 1/10\n",
            "134/134 [==============================] - 16s 111ms/step - loss: 2.0306 - pi_loss: 1.2945 - v_loss: 0.7361\n",
            "Epoch 2/10\n",
            "134/134 [==============================] - 14s 108ms/step - loss: 1.8296 - pi_loss: 1.1681 - v_loss: 0.6614\n",
            "Epoch 3/10\n",
            "134/134 [==============================] - 14s 108ms/step - loss: 1.7664 - pi_loss: 1.1168 - v_loss: 0.6496\n",
            "Epoch 4/10\n",
            "134/134 [==============================] - 14s 101ms/step - loss: 1.7291 - pi_loss: 1.0948 - v_loss: 0.6344\n",
            "Epoch 5/10\n",
            "134/134 [==============================] - 13s 99ms/step - loss: 1.6941 - pi_loss: 1.0669 - v_loss: 0.6272\n",
            "Epoch 6/10\n",
            "134/134 [==============================] - 14s 105ms/step - loss: 1.6698 - pi_loss: 1.0555 - v_loss: 0.6143\n",
            "Epoch 7/10\n",
            "134/134 [==============================] - 14s 108ms/step - loss: 1.6395 - pi_loss: 1.0414 - v_loss: 0.5980\n",
            "Epoch 8/10\n",
            "134/134 [==============================] - 14s 107ms/step - loss: 1.6233 - pi_loss: 1.0276 - v_loss: 0.5957\n",
            "Epoch 9/10\n",
            "134/134 [==============================] - 14s 106ms/step - loss: 1.5890 - pi_loss: 1.0085 - v_loss: 0.5804\n",
            "Epoch 10/10\n",
            "134/134 [==============================] - 14s 106ms/step - loss: 1.5904 - pi_loss: 1.0086 - v_loss: 0.5818\n"
          ]
        },
        {
          "output_type": "stream",
          "name": "stderr",
          "text": [
            "2024-01-06 15:58:01 73325d0dc639 Coach[205] INFO PITTING AGAINST PREVIOUS VERSION\n",
            "Arena.playGames (1): 100%|██████████| 10/10 [00:04<00:00,  2.15it/s]\n",
            "Arena.playGames (2): 100%|██████████| 10/10 [00:03<00:00,  2.71it/s]\n",
            "2024-01-06 15:58:09 73325d0dc639 Coach[205] INFO NEW/PREV WINS : 10 / 10 ; DRAWS : 0\n",
            "2024-01-06 15:58:09 73325d0dc639 Coach[205] INFO REJECTING NEW MODEL\n",
            "2024-01-06 15:58:11 73325d0dc639 Coach[205] INFO Starting Iter #6 ...\n",
            "Self Play: 100%|██████████| 25/25 [05:32<00:00, 13.32s/it]\n"
          ]
        },
        {
          "output_type": "stream",
          "name": "stdout",
          "text": [
            "Checkpoint Directory exists! \n",
            "Epoch 1/10\n",
            "169/169 [==============================] - 22s 121ms/step - loss: 1.9879 - pi_loss: 1.2767 - v_loss: 0.7112\n",
            "Epoch 2/10\n",
            "169/169 [==============================] - 20s 118ms/step - loss: 1.8236 - pi_loss: 1.1573 - v_loss: 0.6663\n",
            "Epoch 3/10\n",
            "169/169 [==============================] - 20s 116ms/step - loss: 1.7455 - pi_loss: 1.1077 - v_loss: 0.6378\n",
            "Epoch 4/10\n",
            "169/169 [==============================] - 19s 111ms/step - loss: 1.7106 - pi_loss: 1.0823 - v_loss: 0.6284\n",
            "Epoch 5/10\n",
            "169/169 [==============================] - 20s 116ms/step - loss: 1.6763 - pi_loss: 1.0531 - v_loss: 0.6233\n",
            "Epoch 6/10\n",
            "169/169 [==============================] - 20s 120ms/step - loss: 1.6595 - pi_loss: 1.0431 - v_loss: 0.6165\n",
            "Epoch 7/10\n",
            "169/169 [==============================] - 20s 119ms/step - loss: 1.6320 - pi_loss: 1.0319 - v_loss: 0.6002\n",
            "Epoch 8/10\n",
            "169/169 [==============================] - 19s 113ms/step - loss: 1.6091 - pi_loss: 1.0160 - v_loss: 0.5931\n",
            "Epoch 9/10\n",
            "169/169 [==============================] - 21s 122ms/step - loss: 1.5850 - pi_loss: 0.9964 - v_loss: 0.5885\n",
            "Epoch 10/10\n",
            "169/169 [==============================] - 20s 121ms/step - loss: 1.5674 - pi_loss: 0.9918 - v_loss: 0.5756\n"
          ]
        },
        {
          "output_type": "stream",
          "name": "stderr",
          "text": [
            "2024-01-06 16:07:06 73325d0dc639 Coach[205] INFO PITTING AGAINST PREVIOUS VERSION\n",
            "Arena.playGames (1): 100%|██████████| 10/10 [00:05<00:00,  1.92it/s]\n",
            "Arena.playGames (2): 100%|██████████| 10/10 [00:03<00:00,  2.90it/s]\n",
            "2024-01-06 16:07:14 73325d0dc639 Coach[205] INFO NEW/PREV WINS : 10 / 10 ; DRAWS : 0\n",
            "2024-01-06 16:07:14 73325d0dc639 Coach[205] INFO REJECTING NEW MODEL\n",
            "2024-01-06 16:07:16 73325d0dc639 Coach[205] INFO Starting Iter #7 ...\n",
            "Self Play: 100%|██████████| 25/25 [06:26<00:00, 15.45s/it]\n"
          ]
        },
        {
          "output_type": "stream",
          "name": "stdout",
          "text": [
            "Checkpoint Directory exists! \n",
            "Epoch 1/10\n",
            "204/204 [==============================] - 25s 114ms/step - loss: 1.9757 - pi_loss: 1.2755 - v_loss: 0.7001\n",
            "Epoch 2/10\n",
            "204/204 [==============================] - 23s 115ms/step - loss: 1.7932 - pi_loss: 1.1490 - v_loss: 0.6443\n",
            "Epoch 3/10\n",
            "204/204 [==============================] - 24s 117ms/step - loss: 1.7427 - pi_loss: 1.1099 - v_loss: 0.6329\n",
            "Epoch 4/10\n",
            "204/204 [==============================] - 24s 117ms/step - loss: 1.7018 - pi_loss: 1.0749 - v_loss: 0.6268\n",
            "Epoch 5/10\n",
            "204/204 [==============================] - 25s 124ms/step - loss: 1.6718 - pi_loss: 1.0548 - v_loss: 0.6170\n",
            "Epoch 6/10\n",
            "204/204 [==============================] - 23s 112ms/step - loss: 1.6509 - pi_loss: 1.0428 - v_loss: 0.6082\n",
            "Epoch 7/10\n",
            "204/204 [==============================] - 25s 121ms/step - loss: 1.6088 - pi_loss: 1.0197 - v_loss: 0.5891\n",
            "Epoch 8/10\n",
            "204/204 [==============================] - 23s 110ms/step - loss: 1.5938 - pi_loss: 1.0104 - v_loss: 0.5834\n",
            "Epoch 9/10\n",
            "204/204 [==============================] - 25s 121ms/step - loss: 1.5810 - pi_loss: 1.0014 - v_loss: 0.5797\n",
            "Epoch 10/10\n",
            "204/204 [==============================] - 25s 121ms/step - loss: 1.5629 - pi_loss: 0.9919 - v_loss: 0.5711\n"
          ]
        },
        {
          "output_type": "stream",
          "name": "stderr",
          "text": [
            "2024-01-06 16:18:08 73325d0dc639 Coach[205] INFO PITTING AGAINST PREVIOUS VERSION\n",
            "Arena.playGames (1): 100%|██████████| 10/10 [00:05<00:00,  1.99it/s]\n",
            "Arena.playGames (2): 100%|██████████| 10/10 [00:05<00:00,  1.90it/s]\n",
            "2024-01-06 16:18:18 73325d0dc639 Coach[205] INFO NEW/PREV WINS : 10 / 10 ; DRAWS : 0\n",
            "2024-01-06 16:18:18 73325d0dc639 Coach[205] INFO REJECTING NEW MODEL\n",
            "2024-01-06 16:18:19 73325d0dc639 Coach[205] INFO Starting Iter #8 ...\n",
            "Self Play: 100%|██████████| 25/25 [04:42<00:00, 11.30s/it]\n"
          ]
        },
        {
          "output_type": "stream",
          "name": "stdout",
          "text": [
            "Checkpoint Directory exists! \n",
            "Epoch 1/10\n",
            "231/231 [==============================] - 25s 103ms/step - loss: 1.9496 - pi_loss: 1.2628 - v_loss: 0.6868\n",
            "Epoch 2/10\n",
            "231/231 [==============================] - 26s 111ms/step - loss: 1.8031 - pi_loss: 1.1555 - v_loss: 0.6477\n",
            "Epoch 3/10\n",
            "231/231 [==============================] - 23s 102ms/step - loss: 1.7494 - pi_loss: 1.1140 - v_loss: 0.6354\n",
            "Epoch 4/10\n",
            "231/231 [==============================] - 25s 109ms/step - loss: 1.7056 - pi_loss: 1.0841 - v_loss: 0.6215\n",
            "Epoch 5/10\n",
            "231/231 [==============================] - 24s 103ms/step - loss: 1.6772 - pi_loss: 1.0626 - v_loss: 0.6146\n",
            "Epoch 6/10\n",
            "231/231 [==============================] - 26s 113ms/step - loss: 1.6498 - pi_loss: 1.0446 - v_loss: 0.6053\n",
            "Epoch 7/10\n",
            "231/231 [==============================] - 23s 101ms/step - loss: 1.6328 - pi_loss: 1.0271 - v_loss: 0.6057\n",
            "Epoch 8/10\n",
            "231/231 [==============================] - 26s 110ms/step - loss: 1.6042 - pi_loss: 1.0117 - v_loss: 0.5925\n",
            "Epoch 9/10\n",
            "231/231 [==============================] - 23s 101ms/step - loss: 1.5881 - pi_loss: 1.0034 - v_loss: 0.5847\n",
            "Epoch 10/10\n",
            "231/231 [==============================] - 25s 110ms/step - loss: 1.5706 - pi_loss: 0.9960 - v_loss: 0.5746\n"
          ]
        },
        {
          "output_type": "stream",
          "name": "stderr",
          "text": [
            "2024-01-06 16:27:27 73325d0dc639 Coach[205] INFO PITTING AGAINST PREVIOUS VERSION\n",
            "Arena.playGames (1): 100%|██████████| 10/10 [00:04<00:00,  2.23it/s]\n",
            "Arena.playGames (2): 100%|██████████| 10/10 [00:04<00:00,  2.23it/s]\n",
            "2024-01-06 16:27:36 73325d0dc639 Coach[205] INFO NEW/PREV WINS : 10 / 10 ; DRAWS : 0\n",
            "2024-01-06 16:27:36 73325d0dc639 Coach[205] INFO REJECTING NEW MODEL\n",
            "2024-01-06 16:27:37 73325d0dc639 Coach[205] INFO Starting Iter #9 ...\n",
            "Self Play: 100%|██████████| 25/25 [05:26<00:00, 13.04s/it]\n"
          ]
        },
        {
          "output_type": "stream",
          "name": "stdout",
          "text": [
            "Checkpoint Directory exists! \n",
            "Epoch 1/10\n",
            "263/263 [==============================] - 31s 112ms/step - loss: 1.9359 - pi_loss: 1.2599 - v_loss: 0.6760\n",
            "Epoch 2/10\n",
            "263/263 [==============================] - 27s 103ms/step - loss: 1.7695 - pi_loss: 1.1390 - v_loss: 0.6304\n",
            "Epoch 3/10\n",
            "263/263 [==============================] - 30s 113ms/step - loss: 1.7157 - pi_loss: 1.0964 - v_loss: 0.6192\n",
            "Epoch 4/10\n",
            "263/263 [==============================] - 29s 109ms/step - loss: 1.6782 - pi_loss: 1.0719 - v_loss: 0.6063\n",
            "Epoch 5/10\n",
            "263/263 [==============================] - 28s 107ms/step - loss: 1.6495 - pi_loss: 1.0517 - v_loss: 0.5978\n",
            "Epoch 6/10\n",
            "263/263 [==============================] - 28s 105ms/step - loss: 1.6217 - pi_loss: 1.0301 - v_loss: 0.5916\n",
            "Epoch 7/10\n",
            "263/263 [==============================] - 29s 110ms/step - loss: 1.5957 - pi_loss: 1.0168 - v_loss: 0.5789\n",
            "Epoch 8/10\n",
            "263/263 [==============================] - 28s 108ms/step - loss: 1.5818 - pi_loss: 1.0048 - v_loss: 0.5771\n",
            "Epoch 9/10\n",
            "263/263 [==============================] - 26s 100ms/step - loss: 1.5621 - pi_loss: 0.9902 - v_loss: 0.5719\n",
            "Epoch 10/10\n",
            "263/263 [==============================] - 29s 110ms/step - loss: 1.5456 - pi_loss: 0.9825 - v_loss: 0.5631\n"
          ]
        },
        {
          "output_type": "stream",
          "name": "stderr",
          "text": [
            "2024-01-06 16:38:29 73325d0dc639 Coach[205] INFO PITTING AGAINST PREVIOUS VERSION\n",
            "Arena.playGames (1): 100%|██████████| 10/10 [00:04<00:00,  2.26it/s]\n",
            "Arena.playGames (2): 100%|██████████| 10/10 [00:05<00:00,  1.91it/s]\n",
            "2024-01-06 16:38:38 73325d0dc639 Coach[205] INFO NEW/PREV WINS : 10 / 10 ; DRAWS : 0\n",
            "2024-01-06 16:38:38 73325d0dc639 Coach[205] INFO REJECTING NEW MODEL\n",
            "2024-01-06 16:38:39 73325d0dc639 Coach[205] INFO Starting Iter #10 ...\n",
            "Self Play:  64%|██████▍   | 16/25 [03:49<02:07, 14.20s/it]2024-01-06 16:42:38 73325d0dc639 MCTS[205] WARNING Max depth reached!\n",
            "2024-01-06 16:42:47 73325d0dc639 MCTS[205] WARNING Max depth reached!\n",
            "Self Play: 100%|██████████| 25/25 [06:17<00:00, 15.10s/it]\n"
          ]
        },
        {
          "output_type": "stream",
          "name": "stdout",
          "text": [
            "Checkpoint Directory exists! \n",
            "Epoch 1/10\n",
            "298/298 [==============================] - 34s 108ms/step - loss: 1.8760 - pi_loss: 1.2358 - v_loss: 0.6403\n",
            "Epoch 2/10\n",
            "298/298 [==============================] - 32s 107ms/step - loss: 1.7227 - pi_loss: 1.1194 - v_loss: 0.6034\n",
            "Epoch 3/10\n",
            "298/298 [==============================] - 32s 106ms/step - loss: 1.6686 - pi_loss: 1.0785 - v_loss: 0.5900\n",
            "Epoch 4/10\n",
            "298/298 [==============================] - 32s 106ms/step - loss: 1.6316 - pi_loss: 1.0484 - v_loss: 0.5832\n",
            "Epoch 5/10\n",
            "298/298 [==============================] - 32s 106ms/step - loss: 1.6005 - pi_loss: 1.0239 - v_loss: 0.5766\n",
            "Epoch 6/10\n",
            "298/298 [==============================] - 32s 107ms/step - loss: 1.5767 - pi_loss: 1.0083 - v_loss: 0.5684\n",
            "Epoch 7/10\n",
            "298/298 [==============================] - 32s 106ms/step - loss: 1.5642 - pi_loss: 0.9990 - v_loss: 0.5652\n",
            "Epoch 8/10\n",
            "298/298 [==============================] - 32s 107ms/step - loss: 1.5436 - pi_loss: 0.9828 - v_loss: 0.5608\n",
            "Epoch 9/10\n",
            "298/298 [==============================] - 32s 107ms/step - loss: 1.5173 - pi_loss: 0.9695 - v_loss: 0.5478\n",
            "Epoch 10/10\n",
            "298/298 [==============================] - 32s 107ms/step - loss: 1.5108 - pi_loss: 0.9624 - v_loss: 0.5484\n"
          ]
        },
        {
          "output_type": "stream",
          "name": "stderr",
          "text": [
            "2024-01-06 16:50:22 73325d0dc639 Coach[205] INFO PITTING AGAINST PREVIOUS VERSION\n",
            "Arena.playGames (1): 100%|██████████| 10/10 [00:04<00:00,  2.27it/s]\n",
            "Arena.playGames (2): 100%|██████████| 10/10 [00:03<00:00,  2.57it/s]\n",
            "2024-01-06 16:50:30 73325d0dc639 Coach[205] INFO NEW/PREV WINS : 10 / 10 ; DRAWS : 0\n",
            "2024-01-06 16:50:30 73325d0dc639 Coach[205] INFO REJECTING NEW MODEL\n",
            "2024-01-06 16:50:31 73325d0dc639 Coach[205] INFO Starting Iter #11 ...\n",
            "Self Play: 100%|██████████| 25/25 [04:43<00:00, 11.32s/it]\n"
          ]
        },
        {
          "output_type": "stream",
          "name": "stdout",
          "text": [
            "Checkpoint Directory exists! \n",
            "Epoch 1/10\n",
            "326/326 [==============================] - 35s 104ms/step - loss: 1.8781 - pi_loss: 1.2330 - v_loss: 0.6450\n",
            "Epoch 2/10\n",
            "326/326 [==============================] - 34s 103ms/step - loss: 1.7219 - pi_loss: 1.1176 - v_loss: 0.6043\n",
            "Epoch 3/10\n",
            "326/326 [==============================] - 34s 105ms/step - loss: 1.6686 - pi_loss: 1.0744 - v_loss: 0.5942\n",
            "Epoch 4/10\n",
            "326/326 [==============================] - 34s 103ms/step - loss: 1.6295 - pi_loss: 1.0458 - v_loss: 0.5837\n",
            "Epoch 5/10\n",
            "326/326 [==============================] - 34s 103ms/step - loss: 1.6059 - pi_loss: 1.0261 - v_loss: 0.5798\n",
            "Epoch 6/10\n",
            "326/326 [==============================] - 34s 103ms/step - loss: 1.5793 - pi_loss: 1.0037 - v_loss: 0.5755\n",
            "Epoch 7/10\n",
            "326/326 [==============================] - 34s 103ms/step - loss: 1.5620 - pi_loss: 0.9938 - v_loss: 0.5682\n",
            "Epoch 8/10\n",
            "326/326 [==============================] - 34s 105ms/step - loss: 1.5394 - pi_loss: 0.9765 - v_loss: 0.5629\n",
            "Epoch 9/10\n",
            "326/326 [==============================] - 35s 106ms/step - loss: 1.5237 - pi_loss: 0.9707 - v_loss: 0.5530\n",
            "Epoch 10/10\n",
            "326/326 [==============================] - 34s 105ms/step - loss: 1.5062 - pi_loss: 0.9580 - v_loss: 0.5482\n"
          ]
        },
        {
          "output_type": "stream",
          "name": "stderr",
          "text": [
            "2024-01-06 17:01:40 73325d0dc639 Coach[205] INFO PITTING AGAINST PREVIOUS VERSION\n",
            "Arena.playGames (1): 100%|██████████| 10/10 [00:04<00:00,  2.23it/s]\n",
            "Arena.playGames (2): 100%|██████████| 10/10 [00:04<00:00,  2.45it/s]\n",
            "2024-01-06 17:01:48 73325d0dc639 Coach[205] INFO NEW/PREV WINS : 10 / 10 ; DRAWS : 0\n",
            "2024-01-06 17:01:48 73325d0dc639 Coach[205] INFO REJECTING NEW MODEL\n",
            "2024-01-06 17:01:50 73325d0dc639 Coach[205] INFO Starting Iter #12 ...\n",
            "Self Play: 100%|██████████| 25/25 [05:09<00:00, 12.40s/it]\n"
          ]
        },
        {
          "output_type": "stream",
          "name": "stdout",
          "text": [
            "Checkpoint Directory exists! \n",
            "Epoch 1/10\n",
            "357/357 [==============================] - 40s 106ms/step - loss: 1.8766 - pi_loss: 1.2353 - v_loss: 0.6412\n",
            "Epoch 2/10\n",
            "357/357 [==============================] - 38s 106ms/step - loss: 1.7148 - pi_loss: 1.1099 - v_loss: 0.6049\n",
            "Epoch 3/10\n",
            "357/357 [==============================] - 39s 110ms/step - loss: 1.6718 - pi_loss: 1.0741 - v_loss: 0.5977\n",
            "Epoch 4/10\n",
            "357/357 [==============================] - 38s 106ms/step - loss: 1.6284 - pi_loss: 1.0427 - v_loss: 0.5857\n",
            "Epoch 5/10\n",
            "357/357 [==============================] - 39s 109ms/step - loss: 1.6068 - pi_loss: 1.0240 - v_loss: 0.5828\n",
            "Epoch 6/10\n",
            "357/357 [==============================] - 39s 109ms/step - loss: 1.5800 - pi_loss: 1.0057 - v_loss: 0.5743\n",
            "Epoch 7/10\n",
            "357/357 [==============================] - 37s 104ms/step - loss: 1.5593 - pi_loss: 0.9900 - v_loss: 0.5693\n",
            "Epoch 8/10\n",
            "357/357 [==============================] - 38s 105ms/step - loss: 1.5368 - pi_loss: 0.9777 - v_loss: 0.5591\n",
            "Epoch 9/10\n",
            "357/357 [==============================] - 39s 110ms/step - loss: 1.5209 - pi_loss: 0.9664 - v_loss: 0.5545\n",
            "Epoch 10/10\n",
            "357/357 [==============================] - 38s 106ms/step - loss: 1.5045 - pi_loss: 0.9567 - v_loss: 0.5478\n"
          ]
        },
        {
          "output_type": "stream",
          "name": "stderr",
          "text": [
            "2024-01-06 17:13:27 73325d0dc639 Coach[205] INFO PITTING AGAINST PREVIOUS VERSION\n",
            "Arena.playGames (1): 100%|██████████| 10/10 [00:05<00:00,  1.87it/s]\n",
            "Arena.playGames (2): 100%|██████████| 10/10 [00:05<00:00,  1.88it/s]\n",
            "2024-01-06 17:13:37 73325d0dc639 Coach[205] INFO NEW/PREV WINS : 10 / 10 ; DRAWS : 0\n",
            "2024-01-06 17:13:37 73325d0dc639 Coach[205] INFO REJECTING NEW MODEL\n",
            "2024-01-06 17:13:38 73325d0dc639 Coach[205] INFO Starting Iter #13 ...\n",
            "Self Play: 100%|██████████| 25/25 [03:11<00:00,  7.67s/it]\n"
          ]
        },
        {
          "output_type": "stream",
          "name": "stdout",
          "text": [
            "Checkpoint Directory exists! \n",
            "Epoch 1/10\n",
            "378/378 [==============================] - 43s 112ms/step - loss: 1.8428 - pi_loss: 1.2189 - v_loss: 0.6239\n",
            "Epoch 2/10\n",
            "378/378 [==============================] - 41s 108ms/step - loss: 1.6958 - pi_loss: 1.1015 - v_loss: 0.5943\n",
            "Epoch 3/10\n",
            "378/378 [==============================] - 42s 111ms/step - loss: 1.6529 - pi_loss: 1.0692 - v_loss: 0.5836\n",
            "Epoch 4/10\n",
            "378/378 [==============================] - 40s 105ms/step - loss: 1.6169 - pi_loss: 1.0408 - v_loss: 0.5761\n",
            "Epoch 5/10\n",
            "378/378 [==============================] - 42s 112ms/step - loss: 1.5843 - pi_loss: 1.0164 - v_loss: 0.5679\n",
            "Epoch 6/10\n",
            "378/378 [==============================] - 40s 107ms/step - loss: 1.5641 - pi_loss: 1.0019 - v_loss: 0.5623\n",
            "Epoch 7/10\n",
            "378/378 [==============================] - 41s 109ms/step - loss: 1.5458 - pi_loss: 0.9875 - v_loss: 0.5583\n",
            "Epoch 8/10\n",
            "378/378 [==============================] - 41s 108ms/step - loss: 1.5209 - pi_loss: 0.9712 - v_loss: 0.5497\n",
            "Epoch 9/10\n",
            "378/378 [==============================] - 41s 109ms/step - loss: 1.5082 - pi_loss: 0.9623 - v_loss: 0.5459\n",
            "Epoch 10/10\n",
            "378/378 [==============================] - 40s 105ms/step - loss: 1.4939 - pi_loss: 0.9557 - v_loss: 0.5383\n"
          ]
        },
        {
          "output_type": "stream",
          "name": "stderr",
          "text": [
            "2024-01-06 17:24:15 73325d0dc639 Coach[205] INFO PITTING AGAINST PREVIOUS VERSION\n",
            "Arena.playGames (1): 100%|██████████| 10/10 [00:05<00:00,  1.90it/s]\n",
            "Arena.playGames (2): 100%|██████████| 10/10 [00:03<00:00,  2.56it/s]\n",
            "2024-01-06 17:24:25 73325d0dc639 Coach[205] INFO NEW/PREV WINS : 10 / 10 ; DRAWS : 0\n",
            "2024-01-06 17:24:25 73325d0dc639 Coach[205] INFO REJECTING NEW MODEL\n",
            "2024-01-06 17:24:26 73325d0dc639 Coach[205] INFO Starting Iter #14 ...\n",
            "Self Play: 100%|██████████| 25/25 [02:55<00:00,  7.00s/it]\n"
          ]
        },
        {
          "output_type": "stream",
          "name": "stdout",
          "text": [
            "Checkpoint Directory exists! \n",
            "Epoch 1/10\n",
            "396/396 [==============================] - 44s 108ms/step - loss: 1.8527 - pi_loss: 1.2174 - v_loss: 0.6353\n",
            "Epoch 2/10\n",
            "396/396 [==============================] - 41s 102ms/step - loss: 1.7050 - pi_loss: 1.1047 - v_loss: 0.6003\n",
            "Epoch 3/10\n",
            "396/396 [==============================] - 43s 108ms/step - loss: 1.6596 - pi_loss: 1.0690 - v_loss: 0.5906\n",
            "Epoch 4/10\n",
            "396/396 [==============================] - 41s 105ms/step - loss: 1.6264 - pi_loss: 1.0474 - v_loss: 0.5789\n",
            "Epoch 5/10\n",
            "396/396 [==============================] - 42s 106ms/step - loss: 1.5975 - pi_loss: 1.0228 - v_loss: 0.5746\n",
            "Epoch 6/10\n",
            "396/396 [==============================] - 42s 105ms/step - loss: 1.5733 - pi_loss: 1.0046 - v_loss: 0.5687\n",
            "Epoch 7/10\n",
            "396/396 [==============================] - 42s 105ms/step - loss: 1.5540 - pi_loss: 0.9914 - v_loss: 0.5626\n",
            "Epoch 8/10\n",
            "396/396 [==============================] - 43s 108ms/step - loss: 1.5346 - pi_loss: 0.9795 - v_loss: 0.5551\n",
            "Epoch 9/10\n",
            "396/396 [==============================] - 40s 102ms/step - loss: 1.5204 - pi_loss: 0.9668 - v_loss: 0.5536\n",
            "Epoch 10/10\n",
            "396/396 [==============================] - 42s 107ms/step - loss: 1.5026 - pi_loss: 0.9566 - v_loss: 0.5460\n"
          ]
        },
        {
          "output_type": "stream",
          "name": "stderr",
          "text": [
            "2024-01-06 17:34:46 73325d0dc639 Coach[205] INFO PITTING AGAINST PREVIOUS VERSION\n",
            "Arena.playGames (1): 100%|██████████| 10/10 [00:05<00:00,  1.78it/s]\n",
            "Arena.playGames (2): 100%|██████████| 10/10 [00:03<00:00,  2.56it/s]\n",
            "2024-01-06 17:34:56 73325d0dc639 Coach[205] INFO NEW/PREV WINS : 10 / 10 ; DRAWS : 0\n",
            "2024-01-06 17:34:56 73325d0dc639 Coach[205] INFO REJECTING NEW MODEL\n",
            "2024-01-06 17:34:57 73325d0dc639 Coach[205] INFO Starting Iter #15 ...\n",
            "Self Play: 100%|██████████| 25/25 [04:40<00:00, 11.21s/it]\n"
          ]
        },
        {
          "output_type": "stream",
          "name": "stdout",
          "text": [
            "Checkpoint Directory exists! \n",
            "Epoch 1/10\n",
            "424/424 [==============================] - 47s 109ms/step - loss: 1.8289 - pi_loss: 1.2191 - v_loss: 0.6098\n",
            "Epoch 2/10\n",
            "424/424 [==============================] - 47s 110ms/step - loss: 1.6911 - pi_loss: 1.1117 - v_loss: 0.5794\n",
            "Epoch 3/10\n",
            "424/424 [==============================] - 47s 111ms/step - loss: 1.6408 - pi_loss: 1.0694 - v_loss: 0.5714\n",
            "Epoch 4/10\n",
            "424/424 [==============================] - 44s 104ms/step - loss: 1.6077 - pi_loss: 1.0446 - v_loss: 0.5631\n",
            "Epoch 5/10\n",
            "424/424 [==============================] - 45s 105ms/step - loss: 1.5783 - pi_loss: 1.0226 - v_loss: 0.5557\n",
            "Epoch 6/10\n",
            "424/424 [==============================] - 46s 108ms/step - loss: 1.5546 - pi_loss: 1.0032 - v_loss: 0.5514\n",
            "Epoch 7/10\n",
            "424/424 [==============================] - 46s 109ms/step - loss: 1.5401 - pi_loss: 0.9954 - v_loss: 0.5447\n",
            "Epoch 8/10\n",
            "424/424 [==============================] - 46s 108ms/step - loss: 1.5225 - pi_loss: 0.9818 - v_loss: 0.5407\n",
            "Epoch 9/10\n",
            "424/424 [==============================] - 47s 110ms/step - loss: 1.5069 - pi_loss: 0.9715 - v_loss: 0.5354\n",
            "Epoch 10/10\n",
            "424/424 [==============================] - 49s 115ms/step - loss: 1.4824 - pi_loss: 0.9587 - v_loss: 0.5237\n"
          ]
        },
        {
          "output_type": "stream",
          "name": "stderr",
          "text": [
            "2024-01-06 17:48:03 73325d0dc639 Coach[205] INFO PITTING AGAINST PREVIOUS VERSION\n",
            "Arena.playGames (1): 100%|██████████| 10/10 [00:06<00:00,  1.63it/s]\n",
            "Arena.playGames (2): 100%|██████████| 10/10 [00:05<00:00,  1.78it/s]\n",
            "2024-01-06 17:48:15 73325d0dc639 Coach[205] INFO NEW/PREV WINS : 10 / 10 ; DRAWS : 0\n",
            "2024-01-06 17:48:15 73325d0dc639 Coach[205] INFO REJECTING NEW MODEL\n"
          ]
        }
      ],
      "source": [
        "args = dotdict({\n",
        "    'numIters': 15,\n",
        "    'numEps': 25,              # Number of complete self-play games to simulate during a new iteration.\n",
        "    'tempThreshold': 15,        #\n",
        "    'updateThreshold': 0.6,     # During arena playoff, new neural net will be accepted if threshold or more of games are won.\n",
        "    'maxlenOfQueue': 50000,    # Number of game examples to train the neural networks.\n",
        "    'numMCTSSims': 25,          # Number of games moves for MCTS to simulate.\n",
        "    'arenaCompare': 20,         # Number of games to play during arena play to determine if new net will be accepted.\n",
        "    'cpuct': 1,\n",
        "\n",
        "    'checkpoint': '/content/drive/MyDrive/trabalho2_liacd/models/ataxx/4x4',\n",
        "    'load_model': True,\n",
        "    'load_folder_file': ('/content/drive/MyDrive/trabalho2_liacd/models/ataxx/4x4', 'best.h5'),\n",
        "    'numItersForTrainExamplesHistory': 20,\n",
        "\n",
        "})\n",
        "\n",
        "\n",
        "log.info('Loading %s...', Game.__name__)\n",
        "g = Game(4)\n",
        "\n",
        "log.info('Loading %s...', nn.__name__)\n",
        "nnet = nn(g)\n",
        "\n",
        "if args.load_model:\n",
        "    log.info('Loading checkpoint \"%s/%s\"...', args.load_folder_file[0], args.load_folder_file[1])\n",
        "    nnet.load_model(args.load_folder_file[0], args.load_folder_file[1])\n",
        "else:\n",
        "    log.warning('Not loading a checkpoint!')\n",
        "\n",
        "log.info('Loading the Coach...')\n",
        "c = Coach(g, nnet, args)\n",
        "\n",
        "if args.load_model:\n",
        "    log.info(\"Loading 'trainExamples' from file...\")\n",
        "    c.loadTrainExamples()\n",
        "\n",
        "log.info('Starting the learning process 🎉')\n",
        "c.learn()"
      ]
    },
    {
      "cell_type": "markdown",
      "source": [
        "Como os jogos após de cada iteração ficava sempre 10-10 paramos o treino pois assumimos que ganha sempre o jogador 1, que é o normal para o ataxx com este tamanho"
      ],
      "metadata": {
        "id": "XHWeaGuTiVlj"
      }
    }
  ],
  "metadata": {
    "colab": {
      "provenance": []
    },
    "kernelspec": {
      "display_name": "Python 3",
      "name": "python3"
    },
    "language_info": {
      "name": "python"
    }
  },
  "nbformat": 4,
  "nbformat_minor": 0
}