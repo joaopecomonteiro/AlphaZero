{
  "nbformat": 4,
  "nbformat_minor": 0,
  "metadata": {
    "colab": {
      "provenance": []
    },
    "kernelspec": {
      "name": "python3",
      "display_name": "Python 3"
    },
    "language_info": {
      "name": "python"
    }
  },
  "cells": [
    {
      "cell_type": "markdown",
      "source": [
        "Este notebook serviu para treinar o modelo para o jogo ataxx com o tabuleiro de tamanho variável com a terceira abordagem (treinar com os dados dos 3 tamanhos ao mesmo tempo)."
      ],
      "metadata": {
        "id": "WOHtHDH3l0WF"
      }
    },
    {
      "cell_type": "code",
      "execution_count": 1,
      "metadata": {
        "colab": {
          "base_uri": "https://localhost:8080/"
        },
        "id": "GLDMYbo6GWaq",
        "outputId": "24b3b122-c142-496b-92da-eda377883cde"
      },
      "outputs": [
        {
          "output_type": "stream",
          "name": "stdout",
          "text": [
            "Mounted at /content/drive\n"
          ]
        }
      ],
      "source": [
        "from google.colab import drive\n",
        "drive.mount('/content/drive')"
      ]
    },
    {
      "cell_type": "code",
      "source": [
        "import os\n",
        "import sys\n",
        "\n",
        "os.chdir('/content/drive/MyDrive/trabalho2_liacd')\n",
        "sys.path.append('/content/drive/MyDrive/trabalho2_liacd')"
      ],
      "metadata": {
        "id": "Kls-6JziIFR1"
      },
      "execution_count": 2,
      "outputs": []
    },
    {
      "cell_type": "code",
      "source": [
        "from pickle import Pickler, Unpickler\n",
        "from random import shuffle"
      ],
      "metadata": {
        "id": "9R-2oSWVIq3z"
      },
      "execution_count": 3,
      "outputs": []
    },
    {
      "cell_type": "code",
      "source": [
        "from Coach import Coach\n",
        "from Ataxx.AtaxxGame import AtaxxGame as Game\n",
        "from Ataxx.tensorflow_flex.NNetFlex import NNetWrapperFlex as nn\n",
        "from utils import *"
      ],
      "metadata": {
        "id": "U7iiy4xFGcFx",
        "colab": {
          "base_uri": "https://localhost:8080/"
        },
        "outputId": "fb989e5c-52e8-4b55-a042-db6d7e577573"
      },
      "execution_count": 4,
      "outputs": [
        {
          "output_type": "stream",
          "name": "stdout",
          "text": [
            "pygame 2.5.2 (SDL 2.28.2, Python 3.10.12)\n",
            "Hello from the pygame community. https://www.pygame.org/contribute.html\n"
          ]
        }
      ]
    },
    {
      "cell_type": "code",
      "source": [
        "examples = []\n",
        "for size in [4, 5, 6]:\n",
        "\n",
        "  if size == 6:\n",
        "    for i in [1, 2]:\n",
        "      examplesFile = f\"/content/drive/MyDrive/trabalho2_liacd/models/ataxx/dados_Flex/A{size}x{size}_{i}.h5.examples\"\n",
        "      with open(examplesFile, \"rb\") as f:\n",
        "        trainExamplesHistory = Unpickler(f).load()\n",
        "      examples += trainExamplesHistory\n",
        "  else:\n",
        "    examplesFile = f\"/content/drive/MyDrive/trabalho2_liacd/models/ataxx/dados_Flex/A{size}x{size}.h5.examples\"\n",
        "    with open(examplesFile, \"rb\") as f:\n",
        "      trainExamplesHistory = Unpickler(f).load()\n",
        "    examples += trainExamplesHistory\n",
        "\n"
      ],
      "metadata": {
        "id": "t7DKl1_0IBzR"
      },
      "execution_count": 5,
      "outputs": []
    },
    {
      "cell_type": "code",
      "source": [
        "trainExamples = []\n",
        "for e in examples:\n",
        "    trainExamples.extend(e)\n",
        "shuffle(trainExamples)\n",
        "\n",
        "print(len(trainExamples))"
      ],
      "metadata": {
        "colab": {
          "base_uri": "https://localhost:8080/"
        },
        "id": "BypwElWGOsn2",
        "outputId": "6ad5e85d-ef04-4572-d993-2a9d631120f5"
      },
      "execution_count": 7,
      "outputs": [
        {
          "output_type": "stream",
          "name": "stdout",
          "text": [
            "201264\n"
          ]
        }
      ]
    },
    {
      "cell_type": "code",
      "source": [
        "g = Game(6) #O tamanho do tabuleiro não impacta o treino\n",
        "\n",
        "nnet = nn(g)\n",
        "\n",
        "nnet.train(trainExamples)\n",
        "\n",
        "nnet.save_model(folder=\"/content/drive/MyDrive/trabalho2_liacd/models/ataxx/dados_Flex\", filename=\"best.h5\")"
      ],
      "metadata": {
        "colab": {
          "base_uri": "https://localhost:8080/"
        },
        "id": "YdWo9P3JGc57",
        "outputId": "da05c4b9-ddae-4175-db98-222116768aee"
      },
      "execution_count": 8,
      "outputs": [
        {
          "metadata": {
            "tags": null
          },
          "name": "stderr",
          "output_type": "stream",
          "text": [
            "/content/drive/MyDrive/trabalho2_liacd/Ataxx/tensorflow_flex/NNetFlex.py:44: VisibleDeprecationWarning: Creating an ndarray from ragged nested sequences (which is a list-or-tuple of lists-or-tuples-or ndarrays with different lengths or shapes) is deprecated. If you meant to do this, you must specify 'dtype=object' when creating the ndarray.\n",
            "  input_boards = np.asarray(input_boards)\n",
            "/content/drive/MyDrive/trabalho2_liacd/Ataxx/tensorflow_flex/NNetFlex.py:59: VisibleDeprecationWarning: Creating an ndarray from ragged nested sequences (which is a list-or-tuple of lists-or-tuples-or ndarrays with different lengths or shapes) is deprecated. If you meant to do this, you must specify 'dtype=object' when creating the ndarray.\n",
            "  target_pis = np.asarray(target_pis)\n"
          ]
        },
        {
          "output_type": "stream",
          "name": "stdout",
          "text": [
            "Epoch 1/50\n",
            "3145/3145 [==============================] - 573s 181ms/step - loss: 2.7843 - pi_loss: 2.0583 - v_loss: 0.7260\n",
            "Epoch 2/50\n",
            "3145/3145 [==============================] - 569s 181ms/step - loss: 1.9752 - pi_loss: 1.3319 - v_loss: 0.6433\n",
            "Epoch 3/50\n",
            "3145/3145 [==============================] - 563s 179ms/step - loss: 1.7783 - pi_loss: 1.1619 - v_loss: 0.6165\n",
            "Epoch 4/50\n",
            "3145/3145 [==============================] - 564s 179ms/step - loss: 1.6429 - pi_loss: 1.0537 - v_loss: 0.5891\n",
            "Epoch 5/50\n",
            "3145/3145 [==============================] - 602s 192ms/step - loss: 1.5271 - pi_loss: 0.9655 - v_loss: 0.5616\n",
            "Epoch 6/50\n",
            "3145/3145 [==============================] - 564s 179ms/step - loss: 1.4289 - pi_loss: 0.8962 - v_loss: 0.5327\n",
            "Epoch 7/50\n",
            "3145/3145 [==============================] - 564s 179ms/step - loss: 1.3497 - pi_loss: 0.8422 - v_loss: 0.5075\n",
            "Epoch 8/50\n",
            "3145/3145 [==============================] - 582s 185ms/step - loss: 1.2838 - pi_loss: 0.7985 - v_loss: 0.4852\n",
            "Epoch 9/50\n",
            "3145/3145 [==============================] - 570s 181ms/step - loss: 1.2281 - pi_loss: 0.7638 - v_loss: 0.4642\n",
            "Epoch 10/50\n",
            "3145/3145 [==============================] - 573s 182ms/step - loss: 1.1861 - pi_loss: 0.7378 - v_loss: 0.4484\n",
            "Epoch 11/50\n",
            "3145/3145 [==============================] - 569s 181ms/step - loss: 1.1456 - pi_loss: 0.7146 - v_loss: 0.4310\n",
            "Epoch 12/50\n",
            "3145/3145 [==============================] - 568s 181ms/step - loss: 1.1160 - pi_loss: 0.6971 - v_loss: 0.4189\n",
            "Epoch 13/50\n",
            "3145/3145 [==============================] - 573s 182ms/step - loss: 1.0866 - pi_loss: 0.6821 - v_loss: 0.4045\n",
            "Epoch 14/50\n",
            "3145/3145 [==============================] - 577s 184ms/step - loss: 1.0602 - pi_loss: 0.6657 - v_loss: 0.3945\n",
            "Epoch 15/50\n",
            "3145/3145 [==============================] - 583s 185ms/step - loss: 1.0428 - pi_loss: 0.6564 - v_loss: 0.3864\n",
            "Epoch 16/50\n",
            "3145/3145 [==============================] - 577s 184ms/step - loss: 1.0251 - pi_loss: 0.6473 - v_loss: 0.3778\n",
            "Epoch 17/50\n",
            "3145/3145 [==============================] - 574s 183ms/step - loss: 1.0064 - pi_loss: 0.6378 - v_loss: 0.3686\n",
            "Epoch 18/50\n",
            "3145/3145 [==============================] - 578s 184ms/step - loss: 0.9923 - pi_loss: 0.6297 - v_loss: 0.3626\n",
            "Epoch 19/50\n",
            "3145/3145 [==============================] - 574s 183ms/step - loss: 0.9772 - pi_loss: 0.6212 - v_loss: 0.3560\n",
            "Epoch 20/50\n",
            "3145/3145 [==============================] - 578s 184ms/step - loss: 0.9654 - pi_loss: 0.6152 - v_loss: 0.3502\n",
            "Epoch 21/50\n",
            "3145/3145 [==============================] - 568s 181ms/step - loss: 0.9536 - pi_loss: 0.6089 - v_loss: 0.3447\n",
            "Epoch 22/50\n",
            "3145/3145 [==============================] - 571s 182ms/step - loss: 0.9438 - pi_loss: 0.6036 - v_loss: 0.3401\n",
            "Epoch 23/50\n",
            "3145/3145 [==============================] - 572s 182ms/step - loss: 0.9342 - pi_loss: 0.5986 - v_loss: 0.3356\n",
            "Epoch 24/50\n",
            "3145/3145 [==============================] - 564s 179ms/step - loss: 0.9240 - pi_loss: 0.5939 - v_loss: 0.3301\n",
            "Epoch 25/50\n",
            "3145/3145 [==============================] - 552s 176ms/step - loss: 0.9152 - pi_loss: 0.5890 - v_loss: 0.3262\n",
            "Epoch 26/50\n",
            "3145/3145 [==============================] - 553s 176ms/step - loss: 0.9070 - pi_loss: 0.5849 - v_loss: 0.3221\n",
            "Epoch 27/50\n",
            "3145/3145 [==============================] - 550s 175ms/step - loss: 0.8988 - pi_loss: 0.5817 - v_loss: 0.3172\n",
            "Epoch 28/50\n",
            "3145/3145 [==============================] - 550s 175ms/step - loss: 0.8925 - pi_loss: 0.5778 - v_loss: 0.3146\n",
            "Epoch 29/50\n",
            "3145/3145 [==============================] - 565s 180ms/step - loss: 0.8882 - pi_loss: 0.5756 - v_loss: 0.3126\n",
            "Epoch 30/50\n",
            "3145/3145 [==============================] - 561s 178ms/step - loss: 0.8813 - pi_loss: 0.5716 - v_loss: 0.3097\n",
            "Epoch 31/50\n",
            "3145/3145 [==============================] - 561s 178ms/step - loss: 0.8750 - pi_loss: 0.5699 - v_loss: 0.3051\n",
            "Epoch 32/50\n",
            "3145/3145 [==============================] - 558s 177ms/step - loss: 0.8709 - pi_loss: 0.5668 - v_loss: 0.3040\n",
            "Epoch 33/50\n",
            "3145/3145 [==============================] - 562s 179ms/step - loss: 0.8640 - pi_loss: 0.5641 - v_loss: 0.2998\n",
            "Epoch 34/50\n",
            "3145/3145 [==============================] - 565s 180ms/step - loss: 0.8600 - pi_loss: 0.5614 - v_loss: 0.2986\n",
            "Epoch 35/50\n",
            "3145/3145 [==============================] - 561s 178ms/step - loss: 0.8560 - pi_loss: 0.5591 - v_loss: 0.2969\n",
            "Epoch 36/50\n",
            "3145/3145 [==============================] - 570s 181ms/step - loss: 0.8505 - pi_loss: 0.5562 - v_loss: 0.2942\n",
            "Epoch 37/50\n",
            "3145/3145 [==============================] - 561s 178ms/step - loss: 0.8458 - pi_loss: 0.5540 - v_loss: 0.2918\n",
            "Epoch 38/50\n",
            "3145/3145 [==============================] - 560s 178ms/step - loss: 0.8443 - pi_loss: 0.5539 - v_loss: 0.2904\n",
            "Epoch 39/50\n",
            "3145/3145 [==============================] - 626s 199ms/step - loss: 0.8396 - pi_loss: 0.5510 - v_loss: 0.2886\n",
            "Epoch 40/50\n",
            "3145/3145 [==============================] - 644s 205ms/step - loss: 0.8341 - pi_loss: 0.5486 - v_loss: 0.2855\n",
            "Epoch 41/50\n",
            "3145/3145 [==============================] - 566s 180ms/step - loss: 0.8316 - pi_loss: 0.5475 - v_loss: 0.2841\n",
            "Epoch 42/50\n",
            "3145/3145 [==============================] - 559s 178ms/step - loss: 0.8294 - pi_loss: 0.5469 - v_loss: 0.2825\n",
            "Epoch 43/50\n",
            "3145/3145 [==============================] - 554s 176ms/step - loss: 0.8243 - pi_loss: 0.5443 - v_loss: 0.2799\n",
            "Epoch 44/50\n",
            "3145/3145 [==============================] - 561s 178ms/step - loss: 0.8224 - pi_loss: 0.5424 - v_loss: 0.2800\n",
            "Epoch 45/50\n",
            "3145/3145 [==============================] - 558s 177ms/step - loss: 0.8185 - pi_loss: 0.5404 - v_loss: 0.2781\n",
            "Epoch 46/50\n",
            "3145/3145 [==============================] - 556s 177ms/step - loss: 0.8170 - pi_loss: 0.5403 - v_loss: 0.2767\n",
            "Epoch 47/50\n",
            "3145/3145 [==============================] - 560s 178ms/step - loss: 0.8146 - pi_loss: 0.5385 - v_loss: 0.2761\n",
            "Epoch 48/50\n",
            "3145/3145 [==============================] - 552s 175ms/step - loss: 0.8106 - pi_loss: 0.5370 - v_loss: 0.2736\n",
            "Epoch 49/50\n",
            "3145/3145 [==============================] - 559s 178ms/step - loss: 0.8095 - pi_loss: 0.5359 - v_loss: 0.2737\n",
            "Epoch 50/50\n",
            "3145/3145 [==============================] - 556s 177ms/step - loss: 0.8079 - pi_loss: 0.5352 - v_loss: 0.2728\n",
            "Checkpoint Directory exists! \n"
          ]
        },
        {
          "output_type": "stream",
          "name": "stderr",
          "text": [
            "/usr/local/lib/python3.10/dist-packages/keras/src/engine/training.py:3103: UserWarning: You are saving your model as an HDF5 file via `model.save()`. This file format is considered legacy. We recommend using instead the native Keras format, e.g. `model.save('my_model.keras')`.\n",
            "  saving_api.save_model(\n"
          ]
        }
      ]
    }
  ]
}