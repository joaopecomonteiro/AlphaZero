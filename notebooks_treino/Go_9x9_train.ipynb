{
  "cells": [
    {
      "cell_type": "markdown",
      "source": [
        "Este notebook serviu para treinar o modelo para o jogo go com o tabuleiro 9x9."
      ],
      "metadata": {
        "id": "pGWoicn8nB9m"
      }
    },
    {
      "cell_type": "code",
      "execution_count": 1,
      "metadata": {
        "colab": {
          "base_uri": "https://localhost:8080/"
        },
        "id": "9dHQaGdSbG5b",
        "outputId": "5cd787cb-997a-4212-c162-0177e2eae27d"
      },
      "outputs": [
        {
          "output_type": "stream",
          "name": "stdout",
          "text": [
            "Mounted at /content/drive\n"
          ]
        }
      ],
      "source": [
        "from google.colab import drive\n",
        "drive.mount('/content/drive')"
      ]
    },
    {
      "cell_type": "code",
      "execution_count": 2,
      "metadata": {
        "id": "SpD_Kzh5bLBh"
      },
      "outputs": [],
      "source": [
        "import os\n",
        "import sys\n"
      ]
    },
    {
      "cell_type": "code",
      "execution_count": 3,
      "metadata": {
        "id": "pt0QncGvbLD5"
      },
      "outputs": [],
      "source": [
        "os.chdir('/content/drive/MyDrive/go_trabalho2_liacd')\n",
        "sys.path.append('/content/drive/MyDrive/go_trabalho2_liacd')"
      ]
    },
    {
      "cell_type": "code",
      "execution_count": 4,
      "metadata": {
        "colab": {
          "base_uri": "https://localhost:8080/"
        },
        "id": "WhEiganWbLGH",
        "outputId": "df41c8cf-4e7b-49cc-9fb9-d4dc983666db"
      },
      "outputs": [
        {
          "output_type": "stream",
          "name": "stdout",
          "text": [
            "/content/drive/MyDrive/go_trabalho2_liacd\n"
          ]
        }
      ],
      "source": [
        "!pwd"
      ]
    },
    {
      "cell_type": "code",
      "execution_count": 5,
      "metadata": {
        "colab": {
          "base_uri": "https://localhost:8080/"
        },
        "id": "zN9xHyA-bLIn",
        "outputId": "5e556e9f-fd92-4962-9e58-1d9c4821f93a"
      },
      "outputs": [
        {
          "output_type": "stream",
          "name": "stdout",
          "text": [
            "Collecting coloredlogs\n",
            "  Downloading coloredlogs-15.0.1-py2.py3-none-any.whl (46 kB)\n",
            "\u001b[2K     \u001b[90m━━━━━━━━━━━━━━━━━━━━━━━━━━━━━━━━━━━━━━━━\u001b[0m \u001b[32m46.0/46.0 kB\u001b[0m \u001b[31m1.7 MB/s\u001b[0m eta \u001b[36m0:00:00\u001b[0m\n",
            "\u001b[?25hCollecting humanfriendly>=9.1 (from coloredlogs)\n",
            "  Downloading humanfriendly-10.0-py2.py3-none-any.whl (86 kB)\n",
            "\u001b[2K     \u001b[90m━━━━━━━━━━━━━━━━━━━━━━━━━━━━━━━━━━━━━━━━\u001b[0m \u001b[32m86.8/86.8 kB\u001b[0m \u001b[31m4.0 MB/s\u001b[0m eta \u001b[36m0:00:00\u001b[0m\n",
            "\u001b[?25hInstalling collected packages: humanfriendly, coloredlogs\n",
            "Successfully installed coloredlogs-15.0.1 humanfriendly-10.0\n"
          ]
        }
      ],
      "source": [
        "!pip install coloredlogs"
      ]
    },
    {
      "cell_type": "code",
      "execution_count": 6,
      "metadata": {
        "colab": {
          "base_uri": "https://localhost:8080/"
        },
        "id": "_-BZpIV2bLKs",
        "outputId": "1948f5ef-4665-4937-f36f-8c228a7ad445"
      },
      "outputs": [
        {
          "output_type": "stream",
          "name": "stdout",
          "text": [
            "pygame 2.5.2 (SDL 2.28.2, Python 3.10.12)\n",
            "Hello from the pygame community. https://www.pygame.org/contribute.html\n"
          ]
        }
      ],
      "source": [
        "import logging\n",
        "\n",
        "import coloredlogs\n",
        "from importlib import reload\n",
        "\n",
        "\n",
        "\n",
        "from Coach import Coach\n",
        "from Go.GoGame import GoGame as Game\n",
        "from Go.tensorflow.NNet import NNetWrapper as nn\n",
        "from utils import *\n"
      ]
    },
    {
      "cell_type": "code",
      "execution_count": 7,
      "metadata": {
        "id": "FoWvPRlLbLNB"
      },
      "outputs": [],
      "source": [
        "log = logging.getLogger(__name__)\n",
        "\n",
        "coloredlogs.install(level='INFO')"
      ]
    },
    {
      "cell_type": "code",
      "execution_count": 8,
      "metadata": {
        "colab": {
          "base_uri": "https://localhost:8080/"
        },
        "id": "m3etpj9XbLPR",
        "outputId": "52e7f6e1-9eb7-4359-f572-7e35ab1056be"
      },
      "outputs": [
        {
          "output_type": "execute_result",
          "data": {
            "text/plain": [
              "1000"
            ]
          },
          "metadata": {},
          "execution_count": 8
        }
      ],
      "source": [
        "sys.getrecursionlimit()\n"
      ]
    },
    {
      "cell_type": "code",
      "execution_count": 9,
      "metadata": {
        "id": "cyC3b1ZXbLRo"
      },
      "outputs": [],
      "source": [
        "sys.setrecursionlimit(1000000000)\n"
      ]
    },
    {
      "cell_type": "markdown",
      "metadata": {
        "id": "Aihxrr3nbXfP"
      },
      "source": [
        "#Primeiro Treino"
      ]
    },
    {
      "cell_type": "code",
      "execution_count": null,
      "metadata": {
        "colab": {
          "background_save": true,
          "base_uri": "https://localhost:8080/"
        },
        "id": "yaiK86ncbYt2",
        "outputId": "ae25dc4b-0636-42e8-d221-1499ed09f936"
      },
      "outputs": [
        {
          "name": "stderr",
          "output_type": "stream",
          "text": [
            "2023-12-28 22:24:18 67aef418c39f __main__[811787] INFO Loading GoGame...\n",
            "2023-12-28 22:24:18 67aef418c39f __main__[811787] INFO Loading NNetWrapper...\n",
            "2023-12-28 22:24:18 67aef418c39f __main__[811787] WARNING Not loading a checkpoint!\n",
            "2023-12-28 22:24:18 67aef418c39f __main__[811787] INFO Loading the Coach...\n",
            "2023-12-28 22:24:19 67aef418c39f __main__[811787] INFO Starting the learning process 🎉\n",
            "2023-12-28 22:24:19 67aef418c39f Coach[811787] INFO Starting Iter #1 ...\n",
            "Self Play: 100%|██████████| 15/15 [10:09<00:00, 40.63s/it]\n"
          ]
        },
        {
          "name": "stdout",
          "output_type": "stream",
          "text": [
            "Checkpoint Directory exists! \n"
          ]
        },
        {
          "name": "stderr",
          "output_type": "stream",
          "text": [
            "/usr/local/lib/python3.10/dist-packages/keras/src/engine/training.py:3103: UserWarning: You are saving your model as an HDF5 file via `model.save()`. This file format is considered legacy. We recommend using instead the native Keras format, e.g. `model.save('my_model.keras')`.\n",
            "  saving_api.save_model(\n"
          ]
        },
        {
          "name": "stdout",
          "output_type": "stream",
          "text": [
            "Epoch 1/10\n",
            "42/42 [==============================] - 21s 427ms/step - loss: 4.8029 - pi_loss: 4.1967 - v_loss: 0.6062\n",
            "Epoch 2/10\n",
            "42/42 [==============================] - 18s 421ms/step - loss: 3.9000 - pi_loss: 3.6704 - v_loss: 0.2296\n",
            "Epoch 3/10\n",
            "42/42 [==============================] - 18s 425ms/step - loss: 3.6097 - pi_loss: 3.4233 - v_loss: 0.1864\n",
            "Epoch 4/10\n",
            "42/42 [==============================] - 18s 433ms/step - loss: 3.4020 - pi_loss: 3.2601 - v_loss: 0.1420\n",
            "Epoch 5/10\n",
            "42/42 [==============================] - 18s 433ms/step - loss: 3.2397 - pi_loss: 3.1535 - v_loss: 0.0862\n",
            "Epoch 6/10\n",
            "42/42 [==============================] - 18s 429ms/step - loss: 3.1825 - pi_loss: 3.0911 - v_loss: 0.0914\n",
            "Epoch 7/10\n",
            "42/42 [==============================] - 20s 481ms/step - loss: 3.0644 - pi_loss: 3.0060 - v_loss: 0.0584\n",
            "Epoch 8/10\n",
            "42/42 [==============================] - 18s 427ms/step - loss: 3.0512 - pi_loss: 2.9603 - v_loss: 0.0910\n",
            "Epoch 9/10\n",
            "42/42 [==============================] - 18s 418ms/step - loss: 2.9645 - pi_loss: 2.8994 - v_loss: 0.0650\n",
            "Epoch 10/10\n",
            "42/42 [==============================] - 28s 676ms/step - loss: 2.8997 - pi_loss: 2.8484 - v_loss: 0.0514\n"
          ]
        },
        {
          "name": "stderr",
          "output_type": "stream",
          "text": [
            "2023-12-28 22:37:45 67aef418c39f Coach[811787] INFO PITTING AGAINST PREVIOUS VERSION\n",
            "Arena.playGames (1): 100%|██████████| 10/10 [06:35<00:00, 39.52s/it]\n",
            "Arena.playGames (2): 100%|██████████| 10/10 [06:25<00:00, 38.56s/it]\n",
            "2023-12-28 22:50:46 67aef418c39f Coach[811787] INFO NEW/PREV WINS : 9 / 11 ; DRAWS : 0\n",
            "2023-12-28 22:50:46 67aef418c39f Coach[811787] INFO REJECTING NEW MODEL\n",
            "2023-12-28 22:50:47 67aef418c39f Coach[811787] INFO Starting Iter #2 ...\n",
            "Self Play: 100%|██████████| 15/15 [12:47<00:00, 51.13s/it]\n"
          ]
        },
        {
          "name": "stdout",
          "output_type": "stream",
          "text": [
            "Checkpoint Directory exists! \n",
            "Epoch 1/10\n",
            "92/92 [==============================] - 41s 427ms/step - loss: 4.7958 - pi_loss: 4.0539 - v_loss: 0.7419\n",
            "Epoch 2/10\n",
            "92/92 [==============================] - 44s 474ms/step - loss: 4.0515 - pi_loss: 3.6507 - v_loss: 0.4008\n",
            "Epoch 3/10\n",
            "92/92 [==============================] - 38s 414ms/step - loss: 3.7020 - pi_loss: 3.4609 - v_loss: 0.2411\n",
            "Epoch 4/10\n",
            "92/92 [==============================] - 40s 434ms/step - loss: 3.5252 - pi_loss: 3.3245 - v_loss: 0.2007\n",
            "Epoch 5/10\n",
            "92/92 [==============================] - 39s 423ms/step - loss: 3.3530 - pi_loss: 3.2018 - v_loss: 0.1512\n",
            "Epoch 6/10\n",
            "92/92 [==============================] - 39s 419ms/step - loss: 3.2102 - pi_loss: 3.0994 - v_loss: 0.1108\n",
            "Epoch 7/10\n",
            "92/92 [==============================] - 41s 446ms/step - loss: 3.1252 - pi_loss: 3.0191 - v_loss: 0.1061\n",
            "Epoch 8/10\n",
            "92/92 [==============================] - 38s 416ms/step - loss: 3.0004 - pi_loss: 2.9205 - v_loss: 0.0799\n",
            "Epoch 9/10\n",
            "92/92 [==============================] - 38s 415ms/step - loss: 2.9460 - pi_loss: 2.8611 - v_loss: 0.0848\n",
            "Epoch 10/10\n",
            "92/92 [==============================] - 41s 444ms/step - loss: 2.8628 - pi_loss: 2.7900 - v_loss: 0.0728\n"
          ]
        },
        {
          "name": "stderr",
          "output_type": "stream",
          "text": [
            "2023-12-28 23:11:03 67aef418c39f Coach[811787] INFO PITTING AGAINST PREVIOUS VERSION\n",
            "Arena.playGames (1): 100%|██████████| 10/10 [04:34<00:00, 27.43s/it]\n",
            "Arena.playGames (2): 100%|██████████| 10/10 [07:08<00:00, 42.85s/it]\n",
            "2023-12-28 23:22:45 67aef418c39f Coach[811787] INFO NEW/PREV WINS : 7 / 13 ; DRAWS : 0\n",
            "2023-12-28 23:22:45 67aef418c39f Coach[811787] INFO REJECTING NEW MODEL\n",
            "2023-12-28 23:22:48 67aef418c39f Coach[811787] INFO Starting Iter #3 ...\n",
            "Self Play: 100%|██████████| 15/15 [10:01<00:00, 40.13s/it]\n"
          ]
        },
        {
          "name": "stdout",
          "output_type": "stream",
          "text": [
            "Checkpoint Directory exists! \n",
            "Epoch 1/10\n",
            "131/131 [==============================] - 57s 426ms/step - loss: 4.8810 - pi_loss: 4.0300 - v_loss: 0.8510\n",
            "Epoch 2/10\n",
            "131/131 [==============================] - 57s 430ms/step - loss: 4.1814 - pi_loss: 3.7005 - v_loss: 0.4809\n",
            "Epoch 3/10\n",
            "131/131 [==============================] - 55s 417ms/step - loss: 3.8208 - pi_loss: 3.5318 - v_loss: 0.2889\n",
            "Epoch 4/10\n",
            "131/131 [==============================] - 56s 428ms/step - loss: 3.5830 - pi_loss: 3.3887 - v_loss: 0.1944\n",
            "Epoch 5/10\n",
            "131/131 [==============================] - 56s 425ms/step - loss: 3.4282 - pi_loss: 3.2665 - v_loss: 0.1617\n",
            "Epoch 6/10\n",
            "131/131 [==============================] - 55s 417ms/step - loss: 3.2925 - pi_loss: 3.1691 - v_loss: 0.1233\n",
            "Epoch 7/10\n",
            "131/131 [==============================] - 56s 429ms/step - loss: 3.1758 - pi_loss: 3.0688 - v_loss: 0.1070\n",
            "Epoch 8/10\n",
            "131/131 [==============================] - 61s 464ms/step - loss: 3.0755 - pi_loss: 2.9820 - v_loss: 0.0935\n",
            "Epoch 9/10\n",
            "131/131 [==============================] - 55s 420ms/step - loss: 3.0108 - pi_loss: 2.9242 - v_loss: 0.0866\n",
            "Epoch 10/10\n",
            "131/131 [==============================] - 55s 420ms/step - loss: 2.9333 - pi_loss: 2.8511 - v_loss: 0.0823\n"
          ]
        },
        {
          "name": "stderr",
          "output_type": "stream",
          "text": [
            "2023-12-28 23:42:16 67aef418c39f Coach[811787] INFO PITTING AGAINST PREVIOUS VERSION\n",
            "Arena.playGames (1): 100%|██████████| 10/10 [04:41<00:00, 28.14s/it]\n",
            "Arena.playGames (2): 100%|██████████| 10/10 [04:06<00:00, 24.65s/it]\n",
            "2023-12-28 23:51:04 67aef418c39f Coach[811787] INFO NEW/PREV WINS : 5 / 15 ; DRAWS : 0\n",
            "2023-12-28 23:51:04 67aef418c39f Coach[811787] INFO REJECTING NEW MODEL\n",
            "2023-12-28 23:51:07 67aef418c39f Coach[811787] INFO Starting Iter #4 ...\n",
            "Self Play: 100%|██████████| 15/15 [11:09<00:00, 44.65s/it]\n"
          ]
        },
        {
          "name": "stdout",
          "output_type": "stream",
          "text": [
            "Checkpoint Directory exists! \n",
            "Epoch 1/10\n",
            "176/176 [==============================] - 74s 414ms/step - loss: 4.8071 - pi_loss: 4.0341 - v_loss: 0.7730\n",
            "Epoch 2/10\n",
            "176/176 [==============================] - 72s 408ms/step - loss: 4.2307 - pi_loss: 3.7443 - v_loss: 0.4865\n",
            "Epoch 3/10\n",
            "176/176 [==============================] - 73s 414ms/step - loss: 3.9126 - pi_loss: 3.5739 - v_loss: 0.3387\n",
            "Epoch 4/10\n",
            "176/176 [==============================] - 71s 405ms/step - loss: 3.6498 - pi_loss: 3.4351 - v_loss: 0.2147\n",
            "Epoch 5/10\n",
            "176/176 [==============================] - 72s 411ms/step - loss: 3.4813 - pi_loss: 3.3194 - v_loss: 0.1619\n",
            "Epoch 6/10\n",
            "176/176 [==============================] - 72s 408ms/step - loss: 3.3409 - pi_loss: 3.2067 - v_loss: 0.1342\n",
            "Epoch 7/10\n",
            "176/176 [==============================] - 71s 401ms/step - loss: 3.2445 - pi_loss: 3.1180 - v_loss: 0.1264\n",
            "Epoch 8/10\n",
            "176/176 [==============================] - 72s 410ms/step - loss: 3.1643 - pi_loss: 3.0482 - v_loss: 0.1162\n",
            "Epoch 9/10\n",
            "176/176 [==============================] - 72s 410ms/step - loss: 3.0616 - pi_loss: 2.9666 - v_loss: 0.0950\n",
            "Epoch 10/10\n",
            "176/176 [==============================] - 74s 420ms/step - loss: 2.9950 - pi_loss: 2.8956 - v_loss: 0.0994\n"
          ]
        },
        {
          "name": "stderr",
          "output_type": "stream",
          "text": [
            "2023-12-29 00:14:45 67aef418c39f Coach[811787] INFO PITTING AGAINST PREVIOUS VERSION\n",
            "Arena.playGames (1): 100%|██████████| 10/10 [03:08<00:00, 18.87s/it]\n",
            "Arena.playGames (2): 100%|██████████| 10/10 [02:19<00:00, 13.98s/it]\n",
            "2023-12-29 00:20:14 67aef418c39f Coach[811787] INFO NEW/PREV WINS : 5 / 15 ; DRAWS : 0\n",
            "2023-12-29 00:20:14 67aef418c39f Coach[811787] INFO REJECTING NEW MODEL\n",
            "2023-12-29 00:20:16 67aef418c39f Coach[811787] INFO Starting Iter #5 ...\n",
            "Self Play: 100%|██████████| 15/15 [10:22<00:00, 41.51s/it]\n"
          ]
        },
        {
          "name": "stdout",
          "output_type": "stream",
          "text": [
            "Checkpoint Directory exists! \n",
            "Epoch 1/10\n",
            "216/216 [==============================] - 90s 411ms/step - loss: 4.8125 - pi_loss: 4.0220 - v_loss: 0.7904\n",
            "Epoch 2/10\n",
            "216/216 [==============================] - 86s 400ms/step - loss: 4.2351 - pi_loss: 3.7463 - v_loss: 0.4889\n",
            "Epoch 3/10\n",
            "216/216 [==============================] - 88s 407ms/step - loss: 3.8995 - pi_loss: 3.5775 - v_loss: 0.3220\n",
            "Epoch 4/10\n",
            "216/216 [==============================] - 88s 409ms/step - loss: 3.6784 - pi_loss: 3.4431 - v_loss: 0.2353\n",
            "Epoch 5/10\n",
            "216/216 [==============================] - 87s 405ms/step - loss: 3.5207 - pi_loss: 3.3343 - v_loss: 0.1864\n",
            "Epoch 6/10\n",
            "216/216 [==============================] - 89s 410ms/step - loss: 3.3939 - pi_loss: 3.2320 - v_loss: 0.1619\n",
            "Epoch 7/10\n",
            "216/216 [==============================] - 89s 410ms/step - loss: 3.2802 - pi_loss: 3.1431 - v_loss: 0.1371\n",
            "Epoch 8/10\n",
            "216/216 [==============================] - 88s 408ms/step - loss: 3.1771 - pi_loss: 3.0565 - v_loss: 0.1206\n",
            "Epoch 9/10\n",
            "216/216 [==============================] - 88s 408ms/step - loss: 3.1168 - pi_loss: 2.9899 - v_loss: 0.1268\n",
            "Epoch 10/10\n",
            "216/216 [==============================] - 86s 399ms/step - loss: 3.0489 - pi_loss: 2.9210 - v_loss: 0.1280\n"
          ]
        },
        {
          "name": "stderr",
          "output_type": "stream",
          "text": [
            "2023-12-29 00:46:09 67aef418c39f Coach[811787] INFO PITTING AGAINST PREVIOUS VERSION\n",
            "Arena.playGames (1): 100%|██████████| 10/10 [03:29<00:00, 20.95s/it]\n",
            "Arena.playGames (2): 100%|██████████| 10/10 [02:03<00:00, 12.37s/it]\n",
            "2023-12-29 00:51:42 67aef418c39f Coach[811787] INFO NEW/PREV WINS : 4 / 16 ; DRAWS : 0\n",
            "2023-12-29 00:51:42 67aef418c39f Coach[811787] INFO REJECTING NEW MODEL\n"
          ]
        }
      ],
      "source": [
        "args = dotdict({\n",
        "    'numIters': 20,\n",
        "    'numEps': 15,              # Number of complete self-play games to simulate during a new iteration.\n",
        "    'tempThreshold': 15,        #\n",
        "    'updateThreshold': 0.6,     # During arena playoff, new neural net will be accepted if threshold or more of games are won.\n",
        "    'maxlenOfQueue': 50000,    # Number of game examples to train the neural networks.\n",
        "    'numMCTSSims': 25,          # Number of games moves for MCTS to simulate.\n",
        "    'arenaCompare': 20,         # Number of games to play during arena play to determine if new net will be accepted.\n",
        "    'cpuct': 1,\n",
        "\n",
        "    'checkpoint': '/content/drive/MyDrive/go_trabalho2_liacd/models/go/9x9',\n",
        "    'load_model': False,\n",
        "    'load_folder_file': ('/content/drive/MyDrive/go_trabalho2_liacd/models/go/9x9', 'best.h5'),\n",
        "    'numItersForTrainExamplesHistory': 20,\n",
        "\n",
        "})\n",
        "\n",
        "\n",
        "\n",
        "log.info('Loading %s...', Game.__name__)\n",
        "g = Game(9)\n",
        "\n",
        "log.info('Loading %s...', nn.__name__)\n",
        "nnet = nn(g)\n",
        "\n",
        "if args.load_model:\n",
        "    log.info('Loading checkpoint \"%s/%s\"...', args.load_folder_file[0], args.load_folder_file[1])\n",
        "    nnet.load_model(args.load_folder_file[0], args.load_folder_file[1])\n",
        "else:\n",
        "    log.warning('Not loading a checkpoint!')\n",
        "\n",
        "log.info('Loading the Coach...')\n",
        "c = Coach(g, nnet, args)\n",
        "\n",
        "if args.load_model:\n",
        "    log.info(\"Loading 'trainExamples' from file...\")\n",
        "    c.loadTrainExamples()\n",
        "\n",
        "log.info('Starting the learning process 🎉')\n",
        "c.learn()\n",
        "\n"
      ]
    },
    {
      "cell_type": "markdown",
      "metadata": {
        "id": "6aNl10kJIqDj"
      },
      "source": [
        "#Segundo Treino"
      ]
    },
    {
      "cell_type": "code",
      "execution_count": null,
      "metadata": {
        "colab": {
          "background_save": true,
          "base_uri": "https://localhost:8080/"
        },
        "id": "08IawxbBbZGY",
        "outputId": "c275082d-90a5-4c9c-a348-515df60314ec"
      },
      "outputs": [
        {
          "name": "stderr",
          "output_type": "stream",
          "text": [
            "2023-12-29 15:13:26 510aa79c93a8 __main__[1743] INFO Loading GoGame...\n",
            "2023-12-29 15:13:26 510aa79c93a8 __main__[1743] INFO Loading NNetWrapper...\n",
            "2023-12-29 15:13:26 510aa79c93a8 __main__[1743] INFO Loading checkpoint \"/content/drive/MyDrive/go_trabalho2_liacd/models/go/9x9/best.h5\"...\n",
            "2023-12-29 15:13:28 510aa79c93a8 __main__[1743] INFO Loading the Coach...\n",
            "2023-12-29 15:13:28 510aa79c93a8 __main__[1743] INFO Loading 'trainExamples' from file...\n",
            "2023-12-29 15:13:28 510aa79c93a8 Coach[1743] INFO File with trainExamples found. Loading it...\n",
            "2023-12-29 15:13:29 510aa79c93a8 Coach[1743] INFO Loading done!\n",
            "2023-12-29 15:13:29 510aa79c93a8 __main__[1743] INFO Starting the learning process 🎉\n",
            "2023-12-29 15:13:29 510aa79c93a8 Coach[1743] INFO Starting Iter #1 ...\n"
          ]
        },
        {
          "name": "stdout",
          "output_type": "stream",
          "text": [
            "Checkpoint Directory exists! \n"
          ]
        },
        {
          "name": "stderr",
          "output_type": "stream",
          "text": [
            "/usr/local/lib/python3.10/dist-packages/keras/src/engine/training.py:3103: UserWarning: You are saving your model as an HDF5 file via `model.save()`. This file format is considered legacy. We recommend using instead the native Keras format, e.g. `model.save('my_model.keras')`.\n",
            "  saving_api.save_model(\n"
          ]
        },
        {
          "name": "stdout",
          "output_type": "stream",
          "text": [
            "Epoch 1/10\n",
            "216/216 [==============================] - 102s 457ms/step - loss: 4.8268 - pi_loss: 4.0300 - v_loss: 0.7968\n",
            "Epoch 2/10\n",
            "216/216 [==============================] - 104s 483ms/step - loss: 4.2622 - pi_loss: 3.7487 - v_loss: 0.5135\n",
            "Epoch 3/10\n",
            "216/216 [==============================] - 93s 433ms/step - loss: 3.9477 - pi_loss: 3.5891 - v_loss: 0.3586\n",
            "Epoch 4/10\n",
            "216/216 [==============================] - 95s 437ms/step - loss: 3.6999 - pi_loss: 3.4607 - v_loss: 0.2391\n",
            "Epoch 5/10\n",
            "216/216 [==============================] - 95s 441ms/step - loss: 3.5371 - pi_loss: 3.3434 - v_loss: 0.1937\n",
            "Epoch 6/10\n",
            "216/216 [==============================] - 93s 430ms/step - loss: 3.4287 - pi_loss: 3.2543 - v_loss: 0.1744\n",
            "Epoch 7/10\n",
            "216/216 [==============================] - 95s 438ms/step - loss: 3.2922 - pi_loss: 3.1525 - v_loss: 0.1397\n",
            "Epoch 8/10\n",
            "216/216 [==============================] - 107s 498ms/step - loss: 3.2075 - pi_loss: 3.0768 - v_loss: 0.1306\n",
            "Epoch 9/10\n",
            "216/216 [==============================] - 95s 442ms/step - loss: 3.1225 - pi_loss: 3.0008 - v_loss: 0.1217\n",
            "Epoch 10/10\n",
            "216/216 [==============================] - 94s 437ms/step - loss: 3.0460 - pi_loss: 2.9289 - v_loss: 0.1170\n"
          ]
        },
        {
          "name": "stderr",
          "output_type": "stream",
          "text": [
            "2023-12-29 15:29:51 510aa79c93a8 Coach[1743] INFO PITTING AGAINST PREVIOUS VERSION\n",
            "Arena.playGames (1): 100%|██████████| 10/10 [02:30<00:00, 15.06s/it]\n",
            "Arena.playGames (2): 100%|██████████| 10/10 [06:55<00:00, 41.56s/it]\n",
            "2023-12-29 15:39:17 510aa79c93a8 Coach[1743] INFO NEW/PREV WINS : 4 / 16 ; DRAWS : 0\n",
            "2023-12-29 15:39:17 510aa79c93a8 Coach[1743] INFO REJECTING NEW MODEL\n",
            "2023-12-29 15:39:19 510aa79c93a8 Coach[1743] INFO Starting Iter #2 ...\n",
            "Self Play: 100%|██████████| 15/15 [10:43<00:00, 42.90s/it]\n"
          ]
        },
        {
          "name": "stdout",
          "output_type": "stream",
          "text": [
            "Checkpoint Directory exists! \n",
            "Epoch 1/10\n",
            "258/258 [==============================] - 114s 437ms/step - loss: 4.7485 - pi_loss: 3.9938 - v_loss: 0.7547\n",
            "Epoch 2/10\n",
            "258/258 [==============================] - 110s 426ms/step - loss: 4.2067 - pi_loss: 3.7201 - v_loss: 0.4866\n",
            "Epoch 3/10\n",
            "258/258 [==============================] - 116s 450ms/step - loss: 3.9081 - pi_loss: 3.5537 - v_loss: 0.3544\n",
            "Epoch 4/10\n",
            "258/258 [==============================] - 112s 436ms/step - loss: 3.6853 - pi_loss: 3.4209 - v_loss: 0.2644\n",
            "Epoch 5/10\n",
            "258/258 [==============================] - 111s 430ms/step - loss: 3.5296 - pi_loss: 3.3190 - v_loss: 0.2106\n",
            "Epoch 6/10\n",
            "258/258 [==============================] - 111s 430ms/step - loss: 3.3854 - pi_loss: 3.2188 - v_loss: 0.1666\n",
            "Epoch 7/10\n",
            "258/258 [==============================] - 113s 440ms/step - loss: 3.2964 - pi_loss: 3.1427 - v_loss: 0.1537\n",
            "Epoch 8/10\n",
            "258/258 [==============================] - 112s 434ms/step - loss: 3.1949 - pi_loss: 3.0585 - v_loss: 0.1364\n",
            "Epoch 9/10\n",
            "258/258 [==============================] - 111s 430ms/step - loss: 3.0966 - pi_loss: 2.9724 - v_loss: 0.1242\n",
            "Epoch 10/10\n",
            "258/258 [==============================] - 112s 435ms/step - loss: 3.0173 - pi_loss: 2.9087 - v_loss: 0.1085\n"
          ]
        },
        {
          "name": "stderr",
          "output_type": "stream",
          "text": [
            "2023-12-29 16:08:56 510aa79c93a8 Coach[1743] INFO PITTING AGAINST PREVIOUS VERSION\n",
            "Arena.playGames (1): 100%|██████████| 10/10 [04:47<00:00, 28.76s/it]\n",
            "Arena.playGames (2): 100%|██████████| 10/10 [01:40<00:00, 10.05s/it]\n",
            "2023-12-29 16:15:24 510aa79c93a8 Coach[1743] INFO NEW/PREV WINS : 6 / 14 ; DRAWS : 0\n",
            "2023-12-29 16:15:24 510aa79c93a8 Coach[1743] INFO REJECTING NEW MODEL\n",
            "2023-12-29 16:15:26 510aa79c93a8 Coach[1743] INFO Starting Iter #3 ...\n",
            "Self Play: 100%|██████████| 15/15 [12:52<00:00, 51.47s/it]\n"
          ]
        },
        {
          "name": "stdout",
          "output_type": "stream",
          "text": [
            "Checkpoint Directory exists! \n",
            "Epoch 1/10\n",
            "303/303 [==============================] - 148s 484ms/step - loss: 4.8297 - pi_loss: 4.0286 - v_loss: 0.8011\n",
            "Epoch 2/10\n",
            "303/303 [==============================] - 131s 431ms/step - loss: 4.2494 - pi_loss: 3.7450 - v_loss: 0.5044\n",
            "Epoch 3/10\n",
            "303/303 [==============================] - 131s 432ms/step - loss: 3.9365 - pi_loss: 3.5865 - v_loss: 0.3501\n",
            "Epoch 4/10\n",
            "303/303 [==============================] - 132s 435ms/step - loss: 3.7545 - pi_loss: 3.4712 - v_loss: 0.2832\n",
            "Epoch 5/10\n",
            "303/303 [==============================] - 143s 471ms/step - loss: 3.5750 - pi_loss: 3.3742 - v_loss: 0.2009\n",
            "Epoch 6/10\n",
            "303/303 [==============================] - 132s 435ms/step - loss: 3.4529 - pi_loss: 3.2801 - v_loss: 0.1727\n",
            "Epoch 7/10\n",
            "303/303 [==============================] - 132s 435ms/step - loss: 3.3520 - pi_loss: 3.1994 - v_loss: 0.1526\n",
            "Epoch 8/10\n",
            "303/303 [==============================] - 133s 438ms/step - loss: 3.2563 - pi_loss: 3.1221 - v_loss: 0.1342\n",
            "Epoch 9/10\n",
            "303/303 [==============================] - 131s 434ms/step - loss: 3.1898 - pi_loss: 3.0514 - v_loss: 0.1384\n",
            "Epoch 10/10\n",
            "303/303 [==============================] - 141s 467ms/step - loss: 3.1154 - pi_loss: 2.9861 - v_loss: 0.1293\n"
          ]
        },
        {
          "name": "stderr",
          "output_type": "stream",
          "text": [
            "2023-12-29 16:51:01 510aa79c93a8 Coach[1743] INFO PITTING AGAINST PREVIOUS VERSION\n",
            "Arena.playGames (1): 100%|██████████| 10/10 [03:21<00:00, 20.17s/it]\n",
            "Arena.playGames (2): 100%|██████████| 10/10 [02:35<00:00, 15.57s/it]\n",
            "2023-12-29 16:56:59 510aa79c93a8 Coach[1743] INFO NEW/PREV WINS : 2 / 18 ; DRAWS : 0\n",
            "2023-12-29 16:56:59 510aa79c93a8 Coach[1743] INFO REJECTING NEW MODEL\n",
            "2023-12-29 16:57:01 510aa79c93a8 Coach[1743] INFO Starting Iter #4 ...\n",
            "Self Play: 100%|██████████| 15/15 [12:29<00:00, 49.99s/it]\n"
          ]
        },
        {
          "name": "stdout",
          "output_type": "stream",
          "text": [
            "Checkpoint Directory exists! \n",
            "Epoch 1/10\n",
            "347/347 [==============================] - 142s 402ms/step - loss: 4.8350 - pi_loss: 4.0136 - v_loss: 0.8214\n",
            "Epoch 2/10\n",
            "347/347 [==============================] - 139s 400ms/step - loss: 4.2539 - pi_loss: 3.7556 - v_loss: 0.4983\n",
            "Epoch 3/10\n",
            "347/347 [==============================] - 143s 413ms/step - loss: 3.9456 - pi_loss: 3.5994 - v_loss: 0.3462\n",
            "Epoch 4/10\n",
            "347/347 [==============================] - 140s 404ms/step - loss: 3.7369 - pi_loss: 3.4808 - v_loss: 0.2561\n",
            "Epoch 5/10\n",
            "347/347 [==============================] - 148s 427ms/step - loss: 3.5902 - pi_loss: 3.3859 - v_loss: 0.2043\n",
            "Epoch 6/10\n",
            "347/347 [==============================] - 150s 431ms/step - loss: 3.4727 - pi_loss: 3.2967 - v_loss: 0.1760\n",
            "Epoch 7/10\n",
            "347/347 [==============================] - 152s 439ms/step - loss: 3.3657 - pi_loss: 3.2130 - v_loss: 0.1527\n",
            "Epoch 8/10\n",
            "347/347 [==============================] - 145s 418ms/step - loss: 3.2697 - pi_loss: 3.1320 - v_loss: 0.1377\n",
            "Epoch 9/10\n",
            "347/347 [==============================] - 141s 407ms/step - loss: 3.1817 - pi_loss: 3.0508 - v_loss: 0.1309\n",
            "Epoch 10/10\n",
            "347/347 [==============================] - 139s 400ms/step - loss: 3.0991 - pi_loss: 2.9783 - v_loss: 0.1208\n"
          ]
        },
        {
          "name": "stderr",
          "output_type": "stream",
          "text": [
            "2023-12-29 17:33:40 510aa79c93a8 Coach[1743] INFO PITTING AGAINST PREVIOUS VERSION\n",
            "Arena.playGames (1): 100%|██████████| 10/10 [02:44<00:00, 16.41s/it]\n",
            "Arena.playGames (2): 100%|██████████| 10/10 [03:54<00:00, 23.45s/it]\n",
            "2023-12-29 17:40:19 510aa79c93a8 Coach[1743] INFO NEW/PREV WINS : 3 / 17 ; DRAWS : 0\n",
            "2023-12-29 17:40:19 510aa79c93a8 Coach[1743] INFO REJECTING NEW MODEL\n",
            "2023-12-29 17:40:21 510aa79c93a8 Coach[1743] INFO Starting Iter #5 ...\n",
            "Self Play: 100%|██████████| 15/15 [08:47<00:00, 35.14s/it]\n"
          ]
        },
        {
          "name": "stdout",
          "output_type": "stream",
          "text": [
            "Checkpoint Directory exists! \n",
            "Epoch 1/10\n",
            "380/380 [==============================] - 169s 439ms/step - loss: 4.8042 - pi_loss: 4.0039 - v_loss: 0.8003\n",
            "Epoch 2/10\n",
            "380/380 [==============================] - 162s 425ms/step - loss: 4.2233 - pi_loss: 3.7426 - v_loss: 0.4807\n",
            "Epoch 3/10\n",
            "380/380 [==============================] - 162s 426ms/step - loss: 3.9373 - pi_loss: 3.5900 - v_loss: 0.3473\n",
            "Epoch 4/10\n",
            "380/380 [==============================] - 160s 421ms/step - loss: 3.7426 - pi_loss: 3.4774 - v_loss: 0.2652\n",
            "Epoch 5/10\n",
            "380/380 [==============================] - 162s 427ms/step - loss: 3.6005 - pi_loss: 3.3859 - v_loss: 0.2146\n",
            "Epoch 6/10\n",
            "380/380 [==============================] - 165s 435ms/step - loss: 3.4828 - pi_loss: 3.2937 - v_loss: 0.1892\n",
            "Epoch 7/10\n",
            "380/380 [==============================] - 161s 425ms/step - loss: 3.3819 - pi_loss: 3.2155 - v_loss: 0.1664\n",
            "Epoch 8/10\n",
            "380/380 [==============================] - 160s 421ms/step - loss: 3.2893 - pi_loss: 3.1345 - v_loss: 0.1548\n",
            "Epoch 9/10\n",
            "380/380 [==============================] - 162s 427ms/step - loss: 3.2005 - pi_loss: 3.0593 - v_loss: 0.1412\n",
            "Epoch 10/10\n",
            "380/380 [==============================] - 164s 433ms/step - loss: 3.1120 - pi_loss: 2.9824 - v_loss: 0.1296\n"
          ]
        },
        {
          "name": "stderr",
          "output_type": "stream",
          "text": [
            "2023-12-29 18:16:42 510aa79c93a8 Coach[1743] INFO PITTING AGAINST PREVIOUS VERSION\n",
            "Arena.playGames (1): 100%|██████████| 10/10 [02:49<00:00, 16.90s/it]\n",
            "Arena.playGames (2): 100%|██████████| 10/10 [04:48<00:00, 28.83s/it]\n",
            "2023-12-29 18:24:20 510aa79c93a8 Coach[1743] INFO NEW/PREV WINS : 3 / 17 ; DRAWS : 0\n",
            "2023-12-29 18:24:20 510aa79c93a8 Coach[1743] INFO REJECTING NEW MODEL\n",
            "2023-12-29 18:24:22 510aa79c93a8 Coach[1743] INFO Starting Iter #6 ...\n",
            "Self Play: 100%|██████████| 15/15 [09:05<00:00, 36.39s/it]\n"
          ]
        },
        {
          "name": "stdout",
          "output_type": "stream",
          "text": [
            "Checkpoint Directory exists! \n",
            "Epoch 1/10\n",
            "414/414 [==============================] - 182s 437ms/step - loss: 4.8145 - pi_loss: 3.9869 - v_loss: 0.8276\n",
            "Epoch 2/10\n",
            "414/414 [==============================] - 190s 460ms/step - loss: 4.1996 - pi_loss: 3.7168 - v_loss: 0.4828\n",
            "Epoch 3/10\n",
            "414/414 [==============================] - 183s 442ms/step - loss: 3.9103 - pi_loss: 3.5739 - v_loss: 0.3364\n",
            "Epoch 4/10\n",
            "414/414 [==============================] - 185s 448ms/step - loss: 3.7316 - pi_loss: 3.4693 - v_loss: 0.2623\n",
            "Epoch 5/10\n",
            "414/414 [==============================] - 191s 462ms/step - loss: 3.5963 - pi_loss: 3.3794 - v_loss: 0.2169\n",
            "Epoch 6/10\n",
            "414/414 [==============================] - 182s 439ms/step - loss: 3.4894 - pi_loss: 3.3008 - v_loss: 0.1886\n",
            "Epoch 7/10\n",
            "414/414 [==============================] - 182s 440ms/step - loss: 3.3921 - pi_loss: 3.2162 - v_loss: 0.1760\n",
            "Epoch 8/10\n",
            "414/414 [==============================] - 193s 466ms/step - loss: 3.2914 - pi_loss: 3.1376 - v_loss: 0.1538\n",
            "Epoch 9/10\n",
            "414/414 [==============================] - 179s 430ms/step - loss: 3.2051 - pi_loss: 3.0602 - v_loss: 0.1449\n",
            "Epoch 10/10\n",
            "414/414 [==============================] - 179s 433ms/step - loss: 3.1176 - pi_loss: 2.9840 - v_loss: 0.1335\n"
          ]
        },
        {
          "name": "stderr",
          "output_type": "stream",
          "text": [
            "2023-12-29 19:04:28 510aa79c93a8 Coach[1743] INFO PITTING AGAINST PREVIOUS VERSION\n",
            "Arena.playGames (1): 100%|██████████| 10/10 [03:51<00:00, 23.16s/it]\n",
            "Arena.playGames (2): 100%|██████████| 10/10 [02:31<00:00, 15.18s/it]\n",
            "2023-12-29 19:10:52 510aa79c93a8 Coach[1743] INFO NEW/PREV WINS : 6 / 14 ; DRAWS : 0\n",
            "2023-12-29 19:10:52 510aa79c93a8 Coach[1743] INFO REJECTING NEW MODEL\n",
            "2023-12-29 19:10:54 510aa79c93a8 Coach[1743] INFO Starting Iter #7 ...\n",
            "Self Play: 100%|██████████| 15/15 [13:16<00:00, 53.10s/it]\n"
          ]
        },
        {
          "name": "stdout",
          "output_type": "stream",
          "text": [
            "Checkpoint Directory exists! \n",
            "Epoch 1/10\n",
            "463/463 [==============================] - 199s 428ms/step - loss: 4.7810 - pi_loss: 3.9666 - v_loss: 0.8144\n",
            "Epoch 2/10\n",
            "463/463 [==============================] - 200s 431ms/step - loss: 4.1777 - pi_loss: 3.6987 - v_loss: 0.4790\n",
            "Epoch 3/10\n",
            "463/463 [==============================] - 202s 436ms/step - loss: 3.8910 - pi_loss: 3.5524 - v_loss: 0.3387\n",
            "Epoch 4/10\n",
            "463/463 [==============================] - 197s 427ms/step - loss: 3.7216 - pi_loss: 3.4537 - v_loss: 0.2679\n",
            "Epoch 5/10\n",
            "463/463 [==============================] - 197s 424ms/step - loss: 3.5914 - pi_loss: 3.3661 - v_loss: 0.2253\n",
            "Epoch 6/10\n",
            "463/463 [==============================] - 200s 432ms/step - loss: 3.4741 - pi_loss: 3.2816 - v_loss: 0.1925\n",
            "Epoch 7/10\n",
            "463/463 [==============================] - 198s 427ms/step - loss: 3.3669 - pi_loss: 3.1999 - v_loss: 0.1671\n",
            "Epoch 8/10\n",
            "463/463 [==============================] - 198s 429ms/step - loss: 3.2828 - pi_loss: 3.1286 - v_loss: 0.1543\n",
            "Epoch 9/10\n",
            "463/463 [==============================] - 199s 429ms/step - loss: 3.1973 - pi_loss: 3.0500 - v_loss: 0.1473\n",
            "Epoch 10/10\n",
            "463/463 [==============================] - 199s 430ms/step - loss: 3.0956 - pi_loss: 2.9638 - v_loss: 0.1318\n"
          ]
        },
        {
          "name": "stderr",
          "output_type": "stream",
          "text": [
            "2023-12-29 19:57:47 510aa79c93a8 Coach[1743] INFO PITTING AGAINST PREVIOUS VERSION\n",
            "Arena.playGames (1): 100%|██████████| 10/10 [02:25<00:00, 14.59s/it]\n",
            "Arena.playGames (2): 100%|██████████| 10/10 [01:13<00:00,  7.36s/it]\n",
            "2023-12-29 20:01:27 510aa79c93a8 Coach[1743] INFO NEW/PREV WINS : 2 / 18 ; DRAWS : 0\n",
            "2023-12-29 20:01:27 510aa79c93a8 Coach[1743] INFO REJECTING NEW MODEL\n",
            "2023-12-29 20:01:29 510aa79c93a8 Coach[1743] INFO Starting Iter #8 ...\n",
            "Self Play: 100%|██████████| 15/15 [09:39<00:00, 38.65s/it]\n"
          ]
        },
        {
          "name": "stdout",
          "output_type": "stream",
          "text": [
            "Checkpoint Directory exists! \n",
            "Epoch 1/10\n",
            "501/501 [==============================] - 214s 424ms/step - loss: 4.7822 - pi_loss: 3.9606 - v_loss: 0.8216\n",
            "Epoch 2/10\n",
            "501/501 [==============================] - 215s 429ms/step - loss: 4.1886 - pi_loss: 3.6994 - v_loss: 0.4892\n",
            "Epoch 3/10\n",
            "501/501 [==============================] - 213s 425ms/step - loss: 3.9064 - pi_loss: 3.5605 - v_loss: 0.3459\n",
            "Epoch 4/10\n",
            "501/501 [==============================] - 214s 427ms/step - loss: 3.7141 - pi_loss: 3.4541 - v_loss: 0.2600\n",
            "Epoch 5/10\n",
            "501/501 [==============================] - 215s 430ms/step - loss: 3.5911 - pi_loss: 3.3704 - v_loss: 0.2207\n",
            "Epoch 6/10\n",
            "501/501 [==============================] - 216s 431ms/step - loss: 3.4779 - pi_loss: 3.2849 - v_loss: 0.1930\n",
            "Epoch 7/10\n",
            "501/501 [==============================] - 217s 432ms/step - loss: 3.3684 - pi_loss: 3.1981 - v_loss: 0.1703\n",
            "Epoch 8/10\n",
            "501/501 [==============================] - 220s 439ms/step - loss: 3.2807 - pi_loss: 3.1199 - v_loss: 0.1608\n",
            "Epoch 9/10\n",
            "501/501 [==============================] - 215s 429ms/step - loss: 3.1817 - pi_loss: 3.0369 - v_loss: 0.1448\n",
            "Epoch 10/10\n",
            "501/501 [==============================] - 211s 422ms/step - loss: 3.0881 - pi_loss: 2.9521 - v_loss: 0.1360\n"
          ]
        },
        {
          "name": "stderr",
          "output_type": "stream",
          "text": [
            "2023-12-29 20:47:46 510aa79c93a8 Coach[1743] INFO PITTING AGAINST PREVIOUS VERSION\n",
            "Arena.playGames (1): 100%|██████████| 10/10 [03:48<00:00, 22.83s/it]\n",
            "Arena.playGames (2): 100%|██████████| 10/10 [03:26<00:00, 20.69s/it]\n",
            "2023-12-29 20:55:01 510aa79c93a8 Coach[1743] INFO NEW/PREV WINS : 2 / 18 ; DRAWS : 0\n",
            "2023-12-29 20:55:01 510aa79c93a8 Coach[1743] INFO REJECTING NEW MODEL\n",
            "2023-12-29 20:55:03 510aa79c93a8 Coach[1743] INFO Starting Iter #9 ...\n",
            "Self Play: 100%|██████████| 15/15 [09:53<00:00, 39.57s/it]\n"
          ]
        },
        {
          "name": "stdout",
          "output_type": "stream",
          "text": [
            "Checkpoint Directory exists! \n",
            "Epoch 1/10\n",
            "537/537 [==============================] - 229s 422ms/step - loss: 4.7944 - pi_loss: 3.9608 - v_loss: 0.8336\n",
            "Epoch 2/10\n",
            "537/537 [==============================] - 231s 430ms/step - loss: 4.1814 - pi_loss: 3.6896 - v_loss: 0.4918\n",
            "Epoch 3/10\n",
            "537/537 [==============================] - 224s 418ms/step - loss: 3.8838 - pi_loss: 3.5554 - v_loss: 0.3284\n",
            "Epoch 4/10\n",
            "537/537 [==============================] - 227s 422ms/step - loss: 3.7135 - pi_loss: 3.4551 - v_loss: 0.2584\n",
            "Epoch 5/10\n",
            "537/537 [==============================] - 229s 427ms/step - loss: 3.5857 - pi_loss: 3.3668 - v_loss: 0.2189\n",
            "Epoch 6/10\n",
            "537/537 [==============================] - 226s 421ms/step - loss: 3.4930 - pi_loss: 3.2915 - v_loss: 0.2016\n",
            "Epoch 7/10\n",
            "537/537 [==============================] - 227s 423ms/step - loss: 3.3878 - pi_loss: 3.2128 - v_loss: 0.1750\n",
            "Epoch 8/10\n",
            "537/537 [==============================] - 229s 426ms/step - loss: 3.2973 - pi_loss: 3.1364 - v_loss: 0.1609\n",
            "Epoch 9/10\n",
            "537/537 [==============================] - 228s 425ms/step - loss: 3.2076 - pi_loss: 3.0572 - v_loss: 0.1504\n",
            "Epoch 10/10\n",
            "537/537 [==============================] - 232s 433ms/step - loss: 3.1170 - pi_loss: 2.9769 - v_loss: 0.1401\n"
          ]
        },
        {
          "name": "stderr",
          "output_type": "stream",
          "text": [
            "2023-12-29 21:43:34 510aa79c93a8 Coach[1743] INFO PITTING AGAINST PREVIOUS VERSION\n",
            "Arena.playGames (1): 100%|██████████| 10/10 [03:54<00:00, 23.45s/it]\n",
            "Arena.playGames (2): 100%|██████████| 10/10 [01:48<00:00, 10.89s/it]\n",
            "2023-12-29 21:49:18 510aa79c93a8 Coach[1743] INFO NEW/PREV WINS : 3 / 17 ; DRAWS : 0\n",
            "2023-12-29 21:49:18 510aa79c93a8 Coach[1743] INFO REJECTING NEW MODEL\n",
            "2023-12-29 21:49:20 510aa79c93a8 Coach[1743] INFO Starting Iter #10 ...\n",
            "Self Play: 100%|██████████| 15/15 [09:25<00:00, 37.71s/it]\n"
          ]
        },
        {
          "name": "stdout",
          "output_type": "stream",
          "text": [
            "Checkpoint Directory exists! \n",
            "Epoch 1/10\n",
            "575/575 [==============================] - 253s 438ms/step - loss: 4.7938 - pi_loss: 3.9437 - v_loss: 0.8502\n",
            "Epoch 2/10\n",
            "575/575 [==============================] - 247s 430ms/step - loss: 4.1673 - pi_loss: 3.6800 - v_loss: 0.4873\n",
            "Epoch 3/10\n",
            "575/575 [==============================] - 245s 427ms/step - loss: 3.8802 - pi_loss: 3.5479 - v_loss: 0.3323\n",
            "Epoch 4/10\n",
            "575/575 [==============================] - 251s 436ms/step - loss: 3.7076 - pi_loss: 3.4441 - v_loss: 0.2635\n",
            "Epoch 5/10\n",
            "575/575 [==============================] - 249s 432ms/step - loss: 3.5814 - pi_loss: 3.3607 - v_loss: 0.2207\n",
            "Epoch 6/10\n",
            "575/575 [==============================] - 253s 440ms/step - loss: 3.4840 - pi_loss: 3.2849 - v_loss: 0.1992\n",
            "Epoch 7/10\n",
            "575/575 [==============================] - 251s 437ms/step - loss: 3.3817 - pi_loss: 3.2023 - v_loss: 0.1794\n",
            "Epoch 8/10\n",
            "575/575 [==============================] - 247s 429ms/step - loss: 3.2846 - pi_loss: 3.1223 - v_loss: 0.1623\n",
            "Epoch 9/10\n",
            "575/575 [==============================] - 250s 435ms/step - loss: 3.2007 - pi_loss: 3.0446 - v_loss: 0.1561\n",
            "Epoch 10/10\n",
            "575/575 [==============================] - 247s 429ms/step - loss: 3.1085 - pi_loss: 2.9640 - v_loss: 0.1445\n"
          ]
        },
        {
          "name": "stderr",
          "output_type": "stream",
          "text": [
            "2023-12-29 22:41:25 510aa79c93a8 Coach[1743] INFO PITTING AGAINST PREVIOUS VERSION\n",
            "Arena.playGames (1): 100%|██████████| 10/10 [06:10<00:00, 37.04s/it]\n",
            "Arena.playGames (2): 100%|██████████| 10/10 [02:13<00:00, 13.32s/it]\n",
            "2023-12-29 22:49:49 510aa79c93a8 Coach[1743] INFO NEW/PREV WINS : 6 / 14 ; DRAWS : 0\n",
            "2023-12-29 22:49:49 510aa79c93a8 Coach[1743] INFO REJECTING NEW MODEL\n",
            "2023-12-29 22:49:51 510aa79c93a8 Coach[1743] INFO Starting Iter #11 ...\n",
            "Self Play: 100%|██████████| 15/15 [08:27<00:00, 33.83s/it]\n"
          ]
        },
        {
          "name": "stdout",
          "output_type": "stream",
          "text": [
            "Checkpoint Directory exists! \n",
            "Epoch 1/10\n",
            "607/607 [==============================] - 265s 434ms/step - loss: 4.7836 - pi_loss: 3.9348 - v_loss: 0.8488\n",
            "Epoch 2/10\n",
            "607/607 [==============================] - 259s 426ms/step - loss: 4.1600 - pi_loss: 3.6763 - v_loss: 0.4838\n",
            "Epoch 3/10\n",
            "607/607 [==============================] - 260s 428ms/step - loss: 3.8777 - pi_loss: 3.5412 - v_loss: 0.3365\n",
            "Epoch 4/10\n",
            "607/607 [==============================] - 259s 426ms/step - loss: 3.7216 - pi_loss: 3.4485 - v_loss: 0.2731\n",
            "Epoch 5/10\n",
            "607/607 [==============================] - 260s 428ms/step - loss: 3.5901 - pi_loss: 3.3647 - v_loss: 0.2254\n",
            "Epoch 6/10\n",
            "607/607 [==============================] - 260s 428ms/step - loss: 3.4895 - pi_loss: 3.2872 - v_loss: 0.2023\n",
            "Epoch 7/10\n",
            "607/607 [==============================] - 260s 429ms/step - loss: 3.4012 - pi_loss: 3.2152 - v_loss: 0.1859\n",
            "Epoch 8/10\n",
            "607/607 [==============================] - 258s 425ms/step - loss: 3.2990 - pi_loss: 3.1361 - v_loss: 0.1630\n",
            "Epoch 9/10\n",
            "607/607 [==============================] - 259s 427ms/step - loss: 3.2038 - pi_loss: 3.0531 - v_loss: 0.1507\n",
            "Epoch 10/10\n",
            "607/607 [==============================] - 257s 423ms/step - loss: 3.1216 - pi_loss: 2.9731 - v_loss: 0.1485\n"
          ]
        },
        {
          "name": "stderr",
          "output_type": "stream",
          "text": [
            "2023-12-29 23:41:57 510aa79c93a8 Coach[1743] INFO PITTING AGAINST PREVIOUS VERSION\n",
            "Arena.playGames (1): 100%|██████████| 10/10 [03:02<00:00, 18.29s/it]\n",
            "Arena.playGames (2): 100%|██████████| 10/10 [02:13<00:00, 13.31s/it]\n",
            "2023-12-29 23:47:14 510aa79c93a8 Coach[1743] INFO NEW/PREV WINS : 4 / 16 ; DRAWS : 0\n",
            "2023-12-29 23:47:14 510aa79c93a8 Coach[1743] INFO REJECTING NEW MODEL\n",
            "2023-12-29 23:47:15 510aa79c93a8 Coach[1743] INFO Starting Iter #12 ...\n",
            "Self Play: 100%|██████████| 15/15 [09:24<00:00, 37.61s/it]\n"
          ]
        },
        {
          "name": "stdout",
          "output_type": "stream",
          "text": [
            "Checkpoint Directory exists! \n",
            "Epoch 1/10\n",
            "641/641 [==============================] - 268s 416ms/step - loss: 4.7649 - pi_loss: 3.9256 - v_loss: 0.8393\n",
            "Epoch 2/10\n",
            "641/641 [==============================] - 260s 406ms/step - loss: 4.1513 - pi_loss: 3.6697 - v_loss: 0.4816\n",
            "Epoch 3/10\n",
            "641/641 [==============================] - 268s 419ms/step - loss: 3.8835 - pi_loss: 3.5431 - v_loss: 0.3404\n",
            "Epoch 4/10\n",
            "641/641 [==============================] - 263s 411ms/step - loss: 3.7310 - pi_loss: 3.4495 - v_loss: 0.2814\n",
            "Epoch 5/10\n",
            "641/641 [==============================] - 262s 409ms/step - loss: 3.6062 - pi_loss: 3.3699 - v_loss: 0.2362\n",
            "Epoch 6/10\n",
            "641/641 [==============================] - 264s 412ms/step - loss: 3.4991 - pi_loss: 3.2942 - v_loss: 0.2049\n",
            "Epoch 7/10\n",
            "641/641 [==============================] - 262s 409ms/step - loss: 3.4046 - pi_loss: 3.2126 - v_loss: 0.1920\n",
            "Epoch 8/10\n",
            "641/641 [==============================] - 265s 413ms/step - loss: 3.3133 - pi_loss: 3.1395 - v_loss: 0.1737\n",
            "Epoch 9/10\n",
            "641/641 [==============================] - 261s 408ms/step - loss: 3.2149 - pi_loss: 3.0538 - v_loss: 0.1610\n",
            "Epoch 10/10\n",
            "641/641 [==============================] - 268s 418ms/step - loss: 3.1177 - pi_loss: 2.9701 - v_loss: 0.1475\n"
          ]
        },
        {
          "name": "stderr",
          "output_type": "stream",
          "text": [
            "2023-12-30 00:41:00 510aa79c93a8 Coach[1743] INFO PITTING AGAINST PREVIOUS VERSION\n",
            "Arena.playGames (1): 100%|██████████| 10/10 [04:29<00:00, 26.91s/it]\n",
            "Arena.playGames (2): 100%|██████████| 10/10 [03:12<00:00, 19.22s/it]\n",
            "2023-12-30 00:48:41 510aa79c93a8 Coach[1743] INFO NEW/PREV WINS : 3 / 17 ; DRAWS : 0\n",
            "2023-12-30 00:48:41 510aa79c93a8 Coach[1743] INFO REJECTING NEW MODEL\n",
            "2023-12-30 00:48:43 510aa79c93a8 Coach[1743] INFO Starting Iter #13 ...\n",
            "Self Play: 100%|██████████| 15/15 [12:34<00:00, 50.30s/it]\n"
          ]
        },
        {
          "name": "stdout",
          "output_type": "stream",
          "text": [
            "Checkpoint Directory exists! \n",
            "Epoch 1/10\n",
            "683/683 [==============================] - 302s 438ms/step - loss: 4.7590 - pi_loss: 3.9229 - v_loss: 0.8361\n",
            "Epoch 2/10\n",
            "683/683 [==============================] - 301s 440ms/step - loss: 4.1556 - pi_loss: 3.6699 - v_loss: 0.4856\n",
            "Epoch 3/10\n",
            "683/683 [==============================] - 292s 428ms/step - loss: 3.8914 - pi_loss: 3.5449 - v_loss: 0.3464\n",
            "Epoch 4/10\n",
            "683/683 [==============================] - 290s 425ms/step - loss: 3.7343 - pi_loss: 3.4545 - v_loss: 0.2798\n",
            "Epoch 5/10\n",
            "683/683 [==============================] - 290s 424ms/step - loss: 3.6139 - pi_loss: 3.3730 - v_loss: 0.2409\n",
            "Epoch 6/10\n",
            "683/683 [==============================] - 285s 417ms/step - loss: 3.5031 - pi_loss: 3.2928 - v_loss: 0.2103\n",
            "Epoch 7/10\n",
            "683/683 [==============================] - 288s 422ms/step - loss: 3.4074 - pi_loss: 3.2174 - v_loss: 0.1900\n",
            "Epoch 8/10\n",
            "683/683 [==============================] - 287s 421ms/step - loss: 3.3138 - pi_loss: 3.1378 - v_loss: 0.1760\n",
            "Epoch 9/10\n",
            "683/683 [==============================] - 303s 444ms/step - loss: 3.2243 - pi_loss: 3.0598 - v_loss: 0.1645\n",
            "Epoch 10/10\n",
            "683/683 [==============================] - 303s 444ms/step - loss: 3.1247 - pi_loss: 2.9778 - v_loss: 0.1470\n"
          ]
        },
        {
          "name": "stderr",
          "output_type": "stream",
          "text": [
            "2023-12-30 01:51:02 510aa79c93a8 Coach[1743] INFO PITTING AGAINST PREVIOUS VERSION\n",
            "Arena.playGames (1): 100%|██████████| 10/10 [03:26<00:00, 20.64s/it]\n",
            "Arena.playGames (2): 100%|██████████| 10/10 [02:45<00:00, 16.51s/it]\n",
            "2023-12-30 01:57:13 510aa79c93a8 Coach[1743] INFO NEW/PREV WINS : 2 / 18 ; DRAWS : 0\n",
            "2023-12-30 01:57:13 510aa79c93a8 Coach[1743] INFO REJECTING NEW MODEL\n",
            "2023-12-30 01:57:15 510aa79c93a8 Coach[1743] INFO Starting Iter #14 ...\n",
            "Self Play: 100%|██████████| 15/15 [13:48<00:00, 55.23s/it]\n"
          ]
        },
        {
          "name": "stdout",
          "output_type": "stream",
          "text": [
            "Checkpoint Directory exists! \n",
            "Epoch 1/10\n",
            "733/733 [==============================] - 310s 421ms/step - loss: 4.7472 - pi_loss: 3.9072 - v_loss: 0.8400\n",
            "Epoch 2/10\n",
            "733/733 [==============================] - 306s 418ms/step - loss: 4.1343 - pi_loss: 3.6539 - v_loss: 0.4804\n",
            "Epoch 3/10\n",
            "733/733 [==============================] - 310s 423ms/step - loss: 3.8851 - pi_loss: 3.5335 - v_loss: 0.3517\n",
            "Epoch 4/10\n",
            "733/733 [==============================] - 310s 423ms/step - loss: 3.7248 - pi_loss: 3.4448 - v_loss: 0.2800\n",
            "Epoch 5/10\n",
            "733/733 [==============================] - 307s 419ms/step - loss: 3.6068 - pi_loss: 3.3666 - v_loss: 0.2403\n",
            "Epoch 6/10\n",
            "733/733 [==============================] - 311s 424ms/step - loss: 3.4953 - pi_loss: 3.2864 - v_loss: 0.2089\n",
            "Epoch 7/10\n",
            "733/733 [==============================] - 315s 430ms/step - loss: 3.3978 - pi_loss: 3.2065 - v_loss: 0.1913\n",
            "Epoch 8/10\n",
            "733/733 [==============================] - 306s 418ms/step - loss: 3.3049 - pi_loss: 3.1285 - v_loss: 0.1764\n",
            "Epoch 9/10\n",
            "733/733 [==============================] - 308s 420ms/step - loss: 3.2105 - pi_loss: 3.0472 - v_loss: 0.1632\n",
            "Epoch 10/10\n",
            "733/733 [==============================] - 305s 416ms/step - loss: 3.1112 - pi_loss: 2.9590 - v_loss: 0.1523\n"
          ]
        },
        {
          "name": "stderr",
          "output_type": "stream",
          "text": [
            "2023-12-30 03:03:49 510aa79c93a8 Coach[1743] INFO PITTING AGAINST PREVIOUS VERSION\n",
            "Arena.playGames (1): 100%|██████████| 10/10 [03:12<00:00, 19.22s/it]\n",
            "Arena.playGames (2): 100%|██████████| 10/10 [01:48<00:00, 10.82s/it]\n",
            "2023-12-30 03:08:50 510aa79c93a8 Coach[1743] INFO NEW/PREV WINS : 4 / 16 ; DRAWS : 0\n",
            "2023-12-30 03:08:50 510aa79c93a8 Coach[1743] INFO REJECTING NEW MODEL\n",
            "2023-12-30 03:08:52 510aa79c93a8 Coach[1743] INFO Starting Iter #15 ...\n",
            "Self Play: 100%|██████████| 15/15 [11:38<00:00, 46.60s/it]\n"
          ]
        },
        {
          "name": "stdout",
          "output_type": "stream",
          "text": [
            "Checkpoint Directory exists! \n",
            "Epoch 1/10\n",
            "776/776 [==============================] - 325s 417ms/step - loss: 4.7855 - pi_loss: 3.9202 - v_loss: 0.8653\n",
            "Epoch 2/10\n",
            "776/776 [==============================] - 340s 438ms/step - loss: 4.1469 - pi_loss: 3.6581 - v_loss: 0.4888\n",
            "Epoch 3/10\n",
            "776/776 [==============================] - 326s 420ms/step - loss: 3.8797 - pi_loss: 3.5373 - v_loss: 0.3424\n",
            "Epoch 4/10\n",
            "776/776 [==============================] - 338s 436ms/step - loss: 3.7351 - pi_loss: 3.4508 - v_loss: 0.2843\n",
            "Epoch 5/10\n",
            "776/776 [==============================] - 332s 428ms/step - loss: 3.6148 - pi_loss: 3.3723 - v_loss: 0.2425\n",
            "Epoch 6/10\n",
            "776/776 [==============================] - 340s 439ms/step - loss: 3.5098 - pi_loss: 3.2948 - v_loss: 0.2151\n",
            "Epoch 7/10\n",
            "776/776 [==============================] - 337s 434ms/step - loss: 3.4104 - pi_loss: 3.2155 - v_loss: 0.1949\n",
            "Epoch 8/10\n",
            "776/776 [==============================] - 343s 442ms/step - loss: 3.3072 - pi_loss: 3.1304 - v_loss: 0.1768\n",
            "Epoch 9/10\n",
            "776/776 [==============================] - 329s 424ms/step - loss: 3.2029 - pi_loss: 3.0415 - v_loss: 0.1614\n",
            "Epoch 10/10\n",
            "344/776 [============>.................] - ETA: 3:08 - loss: 3.0441 - pi_loss: 2.9010 - v_loss: 0.1431"
          ]
        }
      ],
      "source": [
        "args = dotdict({\n",
        "    'numIters': 20,\n",
        "    'numEps': 15,              # Number of complete self-play games to simulate during a new iteration.\n",
        "    'tempThreshold': 15,        #\n",
        "    'updateThreshold': 0.6,     # During arena playoff, new neural net will be accepted if threshold or more of games are won.\n",
        "    'maxlenOfQueue': 50000,    # Number of game examples to train the neural networks.\n",
        "    'numMCTSSims': 25,          # Number of games moves for MCTS to simulate.\n",
        "    'arenaCompare': 20,         # Number of games to play during arena play to determine if new net will be accepted.\n",
        "    'cpuct': 1,\n",
        "\n",
        "    'checkpoint': '/content/drive/MyDrive/go_trabalho2_liacd/models/go/9x9',\n",
        "    'load_model': True,\n",
        "    'load_folder_file': ('/content/drive/MyDrive/go_trabalho2_liacd/models/go/9x9', 'best.h5'),\n",
        "    'numItersForTrainExamplesHistory': 20,\n",
        "\n",
        "})\n",
        "\n",
        "\n",
        "\n",
        "log.info('Loading %s...', Game.__name__)\n",
        "g = Game(9)\n",
        "\n",
        "log.info('Loading %s...', nn.__name__)\n",
        "nnet = nn(g)\n",
        "\n",
        "if args.load_model:\n",
        "    log.info('Loading checkpoint \"%s/%s\"...', args.load_folder_file[0], args.load_folder_file[1])\n",
        "    nnet.load_model(args.load_folder_file[0], args.load_folder_file[1])\n",
        "else:\n",
        "    log.warning('Not loading a checkpoint!')\n",
        "\n",
        "log.info('Loading the Coach...')\n",
        "c = Coach(g, nnet, args)\n",
        "\n",
        "if args.load_model:\n",
        "    log.info(\"Loading 'trainExamples' from file...\")\n",
        "    c.loadTrainExamples()\n",
        "\n",
        "log.info('Starting the learning process 🎉')\n",
        "c.learn()\n",
        "\n"
      ]
    },
    {
      "cell_type": "markdown",
      "metadata": {
        "id": "bLzCLPXlspSd"
      },
      "source": [
        "#Terceiro Treino"
      ]
    },
    {
      "cell_type": "code",
      "execution_count": null,
      "metadata": {
        "colab": {
          "background_save": true,
          "base_uri": "https://localhost:8080/"
        },
        "id": "2pjP9ugesrE3",
        "outputId": "73f087e7-bc43-4c2a-aa8c-cf5e6c492662"
      },
      "outputs": [
        {
          "name": "stderr",
          "output_type": "stream",
          "text": [
            "2023-12-30 12:28:51 720763aea7d1 __main__[111] INFO Loading GoGame...\n",
            "2023-12-30 12:28:51 720763aea7d1 __main__[111] INFO Loading NNetWrapper...\n",
            "2023-12-30 12:28:51 720763aea7d1 __main__[111] INFO Loading checkpoint \"/content/drive/MyDrive/go_trabalho2_liacd/models/go/9x9/best.h5\"...\n",
            "2023-12-30 12:28:53 720763aea7d1 __main__[111] INFO Loading the Coach...\n",
            "2023-12-30 12:28:53 720763aea7d1 __main__[111] INFO Loading 'trainExamples' from file...\n",
            "2023-12-30 12:28:53 720763aea7d1 Coach[111] INFO File with trainExamples found. Loading it...\n",
            "2023-12-30 12:28:56 720763aea7d1 Coach[111] INFO Loading done!\n",
            "2023-12-30 12:28:56 720763aea7d1 __main__[111] INFO Starting the learning process 🎉\n",
            "2023-12-30 12:28:56 720763aea7d1 Coach[111] INFO Starting Iter #1 ...\n"
          ]
        },
        {
          "name": "stdout",
          "output_type": "stream",
          "text": [
            "Checkpoint Directory exists! \n"
          ]
        },
        {
          "name": "stderr",
          "output_type": "stream",
          "text": [
            "/usr/local/lib/python3.10/dist-packages/keras/src/engine/training.py:3103: UserWarning: You are saving your model as an HDF5 file via `model.save()`. This file format is considered legacy. We recommend using instead the native Keras format, e.g. `model.save('my_model.keras')`.\n",
            "  saving_api.save_model(\n"
          ]
        },
        {
          "name": "stdout",
          "output_type": "stream",
          "text": [
            "Epoch 1/10\n",
            "776/776 [==============================] - 194s 248ms/step - loss: 4.7764 - pi_loss: 3.9180 - v_loss: 0.8584\n",
            "Epoch 2/10\n",
            "776/776 [==============================] - 188s 242ms/step - loss: 4.1427 - pi_loss: 3.6593 - v_loss: 0.4834\n",
            "Epoch 3/10\n",
            "776/776 [==============================] - 200s 257ms/step - loss: 3.8856 - pi_loss: 3.5375 - v_loss: 0.3480\n",
            "Epoch 4/10\n",
            "776/776 [==============================] - 202s 260ms/step - loss: 3.7332 - pi_loss: 3.4486 - v_loss: 0.2846\n",
            "Epoch 5/10\n",
            "776/776 [==============================] - 200s 258ms/step - loss: 3.6141 - pi_loss: 3.3707 - v_loss: 0.2434\n",
            "Epoch 6/10\n",
            "776/776 [==============================] - 209s 269ms/step - loss: 3.5090 - pi_loss: 3.2968 - v_loss: 0.2122\n",
            "Epoch 7/10\n",
            "776/776 [==============================] - 203s 261ms/step - loss: 3.4081 - pi_loss: 3.2144 - v_loss: 0.1937\n",
            "Epoch 8/10\n",
            "776/776 [==============================] - 201s 259ms/step - loss: 3.3113 - pi_loss: 3.1364 - v_loss: 0.1749\n",
            "Epoch 9/10\n",
            "776/776 [==============================] - 209s 269ms/step - loss: 3.2112 - pi_loss: 3.0496 - v_loss: 0.1616\n",
            "Epoch 10/10\n",
            "776/776 [==============================] - 202s 260ms/step - loss: 3.1162 - pi_loss: 2.9628 - v_loss: 0.1534\n"
          ]
        },
        {
          "name": "stderr",
          "output_type": "stream",
          "text": [
            "2023-12-30 13:03:31 720763aea7d1 Coach[111] INFO PITTING AGAINST PREVIOUS VERSION\n",
            "Arena.playGames (1): 100%|██████████| 10/10 [01:59<00:00, 11.96s/it]\n",
            "Arena.playGames (2): 100%|██████████| 10/10 [03:19<00:00, 19.93s/it]\n",
            "2023-12-30 13:08:50 720763aea7d1 Coach[111] INFO NEW/PREV WINS : 7 / 13 ; DRAWS : 0\n",
            "2023-12-30 13:08:50 720763aea7d1 Coach[111] INFO REJECTING NEW MODEL\n",
            "2023-12-30 13:08:51 720763aea7d1 Coach[111] INFO Starting Iter #2 ...\n",
            "Self Play: 100%|██████████| 15/15 [06:19<00:00, 25.28s/it]\n"
          ]
        },
        {
          "name": "stdout",
          "output_type": "stream",
          "text": [
            "Checkpoint Directory exists! \n",
            "Epoch 1/10\n",
            "813/813 [==============================] - 211s 258ms/step - loss: 4.7740 - pi_loss: 3.9125 - v_loss: 0.8615\n",
            "Epoch 2/10\n",
            "813/813 [==============================] - 209s 257ms/step - loss: 4.1286 - pi_loss: 3.6522 - v_loss: 0.4765\n",
            "Epoch 3/10\n",
            "813/813 [==============================] - 209s 257ms/step - loss: 3.8804 - pi_loss: 3.5318 - v_loss: 0.3486\n",
            "Epoch 4/10\n",
            "813/813 [==============================] - 211s 260ms/step - loss: 3.7295 - pi_loss: 3.4441 - v_loss: 0.2855\n",
            "Epoch 5/10\n",
            "813/813 [==============================] - 210s 258ms/step - loss: 3.6166 - pi_loss: 3.3636 - v_loss: 0.2531\n",
            "Epoch 6/10\n",
            "813/813 [==============================] - 209s 257ms/step - loss: 3.5015 - pi_loss: 3.2834 - v_loss: 0.2181\n",
            "Epoch 7/10\n",
            "813/813 [==============================] - 210s 259ms/step - loss: 3.3959 - pi_loss: 3.2007 - v_loss: 0.1952\n",
            "Epoch 8/10\n",
            "813/813 [==============================] - 209s 257ms/step - loss: 3.2978 - pi_loss: 3.1193 - v_loss: 0.1785\n",
            "Epoch 9/10\n",
            "813/813 [==============================] - 208s 256ms/step - loss: 3.1997 - pi_loss: 3.0330 - v_loss: 0.1667\n",
            "Epoch 10/10\n",
            "813/813 [==============================] - 208s 256ms/step - loss: 3.1074 - pi_loss: 2.9541 - v_loss: 0.1532\n"
          ]
        },
        {
          "name": "stderr",
          "output_type": "stream",
          "text": [
            "2023-12-30 13:50:47 720763aea7d1 Coach[111] INFO PITTING AGAINST PREVIOUS VERSION\n",
            "Arena.playGames (1): 100%|██████████| 10/10 [01:35<00:00,  9.52s/it]\n",
            "Arena.playGames (2): 100%|██████████| 10/10 [01:48<00:00, 10.86s/it]\n",
            "2023-12-30 13:54:11 720763aea7d1 Coach[111] INFO NEW/PREV WINS : 3 / 17 ; DRAWS : 0\n",
            "2023-12-30 13:54:11 720763aea7d1 Coach[111] INFO REJECTING NEW MODEL\n",
            "2023-12-30 13:54:13 720763aea7d1 Coach[111] INFO Starting Iter #3 ...\n",
            "Self Play: 100%|██████████| 15/15 [09:15<00:00, 37.01s/it]\n",
            "2023-12-30 14:03:28 720763aea7d1 Coach[111] WARNING Removing the oldest entry in trainExamples. len(trainExamplesHistory) = 21\n"
          ]
        },
        {
          "name": "stdout",
          "output_type": "stream",
          "text": [
            "Checkpoint Directory exists! \n",
            "Epoch 1/10\n",
            "825/825 [==============================] - 221s 266ms/step - loss: 4.7495 - pi_loss: 3.9072 - v_loss: 0.8423\n",
            "Epoch 2/10\n",
            "825/825 [==============================] - 211s 256ms/step - loss: 4.1236 - pi_loss: 3.6527 - v_loss: 0.4709\n",
            "Epoch 3/10\n",
            "825/825 [==============================] - 218s 264ms/step - loss: 3.8793 - pi_loss: 3.5330 - v_loss: 0.3464\n",
            "Epoch 4/10\n",
            "825/825 [==============================] - 217s 263ms/step - loss: 3.7231 - pi_loss: 3.4420 - v_loss: 0.2811\n",
            "Epoch 5/10\n",
            "825/825 [==============================] - 215s 260ms/step - loss: 3.6058 - pi_loss: 3.3626 - v_loss: 0.2431\n",
            "Epoch 6/10\n",
            "825/825 [==============================] - 221s 268ms/step - loss: 3.4995 - pi_loss: 3.2853 - v_loss: 0.2142\n",
            "Epoch 7/10\n",
            "825/825 [==============================] - 212s 258ms/step - loss: 3.3998 - pi_loss: 3.2009 - v_loss: 0.1989\n",
            "Epoch 8/10\n",
            "825/825 [==============================] - 215s 260ms/step - loss: 3.2963 - pi_loss: 3.1188 - v_loss: 0.1775\n",
            "Epoch 9/10\n",
            "825/825 [==============================] - 220s 266ms/step - loss: 3.1996 - pi_loss: 3.0342 - v_loss: 0.1654\n",
            "Epoch 10/10\n",
            "825/825 [==============================] - 213s 258ms/step - loss: 3.0981 - pi_loss: 2.9455 - v_loss: 0.1526\n"
          ]
        },
        {
          "name": "stderr",
          "output_type": "stream",
          "text": [
            "2023-12-30 14:40:07 720763aea7d1 Coach[111] INFO PITTING AGAINST PREVIOUS VERSION\n",
            "Arena.playGames (1): 100%|██████████| 10/10 [03:53<00:00, 23.30s/it]\n",
            "Arena.playGames (2): 100%|██████████| 10/10 [03:19<00:00, 19.99s/it]\n",
            "2023-12-30 14:47:20 720763aea7d1 Coach[111] INFO NEW/PREV WINS : 2 / 18 ; DRAWS : 0\n",
            "2023-12-30 14:47:20 720763aea7d1 Coach[111] INFO REJECTING NEW MODEL\n",
            "2023-12-30 14:47:21 720763aea7d1 Coach[111] INFO Starting Iter #4 ...\n",
            "Self Play: 100%|██████████| 15/15 [05:18<00:00, 21.25s/it]\n",
            "2023-12-30 14:52:40 720763aea7d1 Coach[111] WARNING Removing the oldest entry in trainExamples. len(trainExamplesHistory) = 21\n"
          ]
        },
        {
          "name": "stdout",
          "output_type": "stream",
          "text": [
            "Checkpoint Directory exists! \n",
            "Epoch 1/10\n",
            "808/808 [==============================] - 209s 257ms/step - loss: 4.7677 - pi_loss: 3.9218 - v_loss: 0.8459\n",
            "Epoch 2/10\n",
            "808/808 [==============================] - 208s 257ms/step - loss: 4.1475 - pi_loss: 3.6578 - v_loss: 0.4897\n",
            "Epoch 3/10\n",
            "808/808 [==============================] - 206s 255ms/step - loss: 3.8928 - pi_loss: 3.5374 - v_loss: 0.3554\n",
            "Epoch 4/10\n",
            "808/808 [==============================] - 208s 257ms/step - loss: 3.7407 - pi_loss: 3.4486 - v_loss: 0.2920\n",
            "Epoch 5/10\n",
            "808/808 [==============================] - 207s 256ms/step - loss: 3.6178 - pi_loss: 3.3645 - v_loss: 0.2533\n",
            "Epoch 6/10\n",
            "808/808 [==============================] - 207s 257ms/step - loss: 3.5117 - pi_loss: 3.2874 - v_loss: 0.2243\n",
            "Epoch 7/10\n",
            "808/808 [==============================] - 207s 256ms/step - loss: 3.4079 - pi_loss: 3.2059 - v_loss: 0.2020\n",
            "Epoch 8/10\n",
            "808/808 [==============================] - 210s 260ms/step - loss: 3.3055 - pi_loss: 3.1187 - v_loss: 0.1867\n",
            "Epoch 9/10\n",
            "808/808 [==============================] - 210s 260ms/step - loss: 3.2071 - pi_loss: 3.0344 - v_loss: 0.1726\n",
            "Epoch 10/10\n",
            "808/808 [==============================] - 207s 257ms/step - loss: 3.1061 - pi_loss: 2.9457 - v_loss: 0.1604\n"
          ]
        },
        {
          "name": "stderr",
          "output_type": "stream",
          "text": [
            "2023-12-30 15:28:18 720763aea7d1 Coach[111] INFO PITTING AGAINST PREVIOUS VERSION\n",
            "Arena.playGames (1): 100%|██████████| 10/10 [03:09<00:00, 18.99s/it]\n",
            "Arena.playGames (2): 100%|██████████| 10/10 [00:54<00:00,  5.46s/it]\n",
            "2023-12-30 15:32:23 720763aea7d1 Coach[111] INFO NEW/PREV WINS : 2 / 18 ; DRAWS : 0\n",
            "2023-12-30 15:32:23 720763aea7d1 Coach[111] INFO REJECTING NEW MODEL\n",
            "2023-12-30 15:32:24 720763aea7d1 Coach[111] INFO Starting Iter #5 ...\n",
            "Self Play: 100%|██████████| 15/15 [06:51<00:00, 27.44s/it]\n",
            "2023-12-30 15:39:16 720763aea7d1 Coach[111] WARNING Removing the oldest entry in trainExamples. len(trainExamplesHistory) = 21\n"
          ]
        },
        {
          "name": "stdout",
          "output_type": "stream",
          "text": [
            "Checkpoint Directory exists! \n",
            "Epoch 1/10\n",
            "810/810 [==============================] - 208s 255ms/step - loss: 4.7832 - pi_loss: 3.9225 - v_loss: 0.8607\n",
            "Epoch 2/10\n",
            "810/810 [==============================] - 207s 255ms/step - loss: 4.1625 - pi_loss: 3.6672 - v_loss: 0.4953\n",
            "Epoch 3/10\n",
            "810/810 [==============================] - 214s 264ms/step - loss: 3.9017 - pi_loss: 3.5410 - v_loss: 0.3607\n",
            "Epoch 4/10\n",
            "810/810 [==============================] - 214s 264ms/step - loss: 3.7435 - pi_loss: 3.4504 - v_loss: 0.2931\n",
            "Epoch 5/10\n",
            "810/810 [==============================] - 211s 260ms/step - loss: 3.6181 - pi_loss: 3.3656 - v_loss: 0.2525\n",
            "Epoch 6/10\n",
            "810/810 [==============================] - 217s 268ms/step - loss: 3.5162 - pi_loss: 3.2878 - v_loss: 0.2284\n",
            "Epoch 7/10\n",
            "810/810 [==============================] - 211s 260ms/step - loss: 3.4099 - pi_loss: 3.2055 - v_loss: 0.2045\n",
            "Epoch 8/10\n",
            "810/810 [==============================] - 211s 260ms/step - loss: 3.3051 - pi_loss: 3.1188 - v_loss: 0.1864\n",
            "Epoch 9/10\n",
            "810/810 [==============================] - 217s 268ms/step - loss: 3.2106 - pi_loss: 3.0363 - v_loss: 0.1743\n",
            "Epoch 10/10\n",
            "810/810 [==============================] - 208s 257ms/step - loss: 3.1104 - pi_loss: 2.9488 - v_loss: 0.1615\n"
          ]
        },
        {
          "name": "stderr",
          "output_type": "stream",
          "text": [
            "2023-12-30 16:14:47 720763aea7d1 Coach[111] INFO PITTING AGAINST PREVIOUS VERSION\n",
            "Arena.playGames (1): 100%|██████████| 10/10 [01:50<00:00, 11.03s/it]\n",
            "Arena.playGames (2): 100%|██████████| 10/10 [02:24<00:00, 14.45s/it]\n",
            "2023-12-30 16:19:02 720763aea7d1 Coach[111] INFO NEW/PREV WINS : 5 / 15 ; DRAWS : 0\n",
            "2023-12-30 16:19:02 720763aea7d1 Coach[111] INFO REJECTING NEW MODEL\n",
            "2023-12-30 16:19:04 720763aea7d1 Coach[111] INFO Starting Iter #6 ...\n",
            "Self Play: 100%|██████████| 15/15 [07:05<00:00, 28.37s/it]\n",
            "2023-12-30 16:26:09 720763aea7d1 Coach[111] WARNING Removing the oldest entry in trainExamples. len(trainExamplesHistory) = 21\n"
          ]
        },
        {
          "name": "stdout",
          "output_type": "stream",
          "text": [
            "Checkpoint Directory exists! \n",
            "Epoch 1/10\n",
            "808/808 [==============================] - 210s 259ms/step - loss: 4.7797 - pi_loss: 3.9232 - v_loss: 0.8565\n",
            "Epoch 2/10\n",
            "808/808 [==============================] - 207s 257ms/step - loss: 4.1515 - pi_loss: 3.6639 - v_loss: 0.4876\n",
            "Epoch 3/10\n",
            "808/808 [==============================] - 207s 257ms/step - loss: 3.8993 - pi_loss: 3.5423 - v_loss: 0.3570\n",
            "Epoch 4/10\n",
            "808/808 [==============================] - 208s 257ms/step - loss: 3.7375 - pi_loss: 3.4514 - v_loss: 0.2860\n",
            "Epoch 5/10\n",
            "808/808 [==============================] - 207s 257ms/step - loss: 3.6290 - pi_loss: 3.3725 - v_loss: 0.2566\n",
            "Epoch 6/10\n",
            "808/808 [==============================] - 206s 255ms/step - loss: 3.5175 - pi_loss: 3.2915 - v_loss: 0.2261\n",
            "Epoch 7/10\n",
            "808/808 [==============================] - 206s 255ms/step - loss: 3.4153 - pi_loss: 3.2100 - v_loss: 0.2053\n",
            "Epoch 8/10\n",
            "808/808 [==============================] - 206s 255ms/step - loss: 3.3124 - pi_loss: 3.1248 - v_loss: 0.1877\n",
            "Epoch 9/10\n",
            "808/808 [==============================] - 208s 257ms/step - loss: 3.2092 - pi_loss: 3.0394 - v_loss: 0.1698\n",
            "Epoch 10/10\n",
            "808/808 [==============================] - 206s 255ms/step - loss: 3.1173 - pi_loss: 2.9571 - v_loss: 0.1602\n"
          ]
        },
        {
          "name": "stderr",
          "output_type": "stream",
          "text": [
            "2023-12-30 17:01:47 720763aea7d1 Coach[111] INFO PITTING AGAINST PREVIOUS VERSION\n",
            "Arena.playGames (1): 100%|██████████| 10/10 [01:15<00:00,  7.50s/it]\n",
            "Arena.playGames (2): 100%|██████████| 10/10 [01:10<00:00,  7.03s/it]\n",
            "2023-12-30 17:04:12 720763aea7d1 Coach[111] INFO NEW/PREV WINS : 3 / 17 ; DRAWS : 0\n",
            "2023-12-30 17:04:12 720763aea7d1 Coach[111] INFO REJECTING NEW MODEL\n",
            "2023-12-30 17:04:14 720763aea7d1 Coach[111] INFO Starting Iter #7 ...\n",
            "Self Play: 100%|██████████| 15/15 [06:35<00:00, 26.36s/it]\n",
            "2023-12-30 17:10:49 720763aea7d1 Coach[111] WARNING Removing the oldest entry in trainExamples. len(trainExamplesHistory) = 21\n"
          ]
        },
        {
          "name": "stdout",
          "output_type": "stream",
          "text": [
            "Checkpoint Directory exists! \n",
            "Epoch 1/10\n",
            "809/809 [==============================] - 220s 271ms/step - loss: 4.8091 - pi_loss: 3.9336 - v_loss: 0.8755\n",
            "Epoch 2/10\n",
            "809/809 [==============================] - 212s 262ms/step - loss: 4.1626 - pi_loss: 3.6643 - v_loss: 0.4983\n",
            "Epoch 3/10\n",
            "809/809 [==============================] - 219s 271ms/step - loss: 3.8999 - pi_loss: 3.5408 - v_loss: 0.3591\n",
            "Epoch 4/10\n",
            "809/809 [==============================] - 212s 262ms/step - loss: 3.7460 - pi_loss: 3.4509 - v_loss: 0.2951\n",
            "Epoch 5/10\n",
            "809/809 [==============================] - 211s 261ms/step - loss: 3.6241 - pi_loss: 3.3702 - v_loss: 0.2539\n",
            "Epoch 6/10\n",
            "809/809 [==============================] - 218s 269ms/step - loss: 3.5110 - pi_loss: 3.2863 - v_loss: 0.2248\n",
            "Epoch 7/10\n",
            "809/809 [==============================] - 213s 263ms/step - loss: 3.4076 - pi_loss: 3.2051 - v_loss: 0.2025\n",
            "Epoch 8/10\n",
            "809/809 [==============================] - 210s 259ms/step - loss: 3.3055 - pi_loss: 3.1183 - v_loss: 0.1872\n",
            "Epoch 9/10\n",
            "809/809 [==============================] - 219s 270ms/step - loss: 3.2060 - pi_loss: 3.0337 - v_loss: 0.1723\n",
            "Epoch 10/10\n",
            "809/809 [==============================] - 211s 260ms/step - loss: 3.1156 - pi_loss: 2.9519 - v_loss: 0.1637\n"
          ]
        },
        {
          "name": "stderr",
          "output_type": "stream",
          "text": [
            "2023-12-30 17:47:26 720763aea7d1 Coach[111] INFO PITTING AGAINST PREVIOUS VERSION\n",
            "Arena.playGames (1): 100%|██████████| 10/10 [02:04<00:00, 12.41s/it]\n",
            "Arena.playGames (2): 100%|██████████| 10/10 [01:09<00:00,  6.95s/it]\n",
            "2023-12-30 17:50:40 720763aea7d1 Coach[111] INFO NEW/PREV WINS : 3 / 17 ; DRAWS : 0\n",
            "2023-12-30 17:50:40 720763aea7d1 Coach[111] INFO REJECTING NEW MODEL\n",
            "2023-12-30 17:50:42 720763aea7d1 Coach[111] INFO Starting Iter #8 ...\n",
            "Self Play: 100%|██████████| 15/15 [06:25<00:00, 25.72s/it]\n",
            "2023-12-30 17:57:07 720763aea7d1 Coach[111] WARNING Removing the oldest entry in trainExamples. len(trainExamplesHistory) = 21\n"
          ]
        },
        {
          "name": "stdout",
          "output_type": "stream",
          "text": [
            "Checkpoint Directory exists! \n",
            "Epoch 1/10\n",
            "804/804 [==============================] - 206s 255ms/step - loss: 4.8381 - pi_loss: 3.9348 - v_loss: 0.9033\n",
            "Epoch 2/10\n",
            "804/804 [==============================] - 200s 248ms/step - loss: 4.2038 - pi_loss: 3.6778 - v_loss: 0.5261\n",
            "Epoch 3/10\n",
            "804/804 [==============================] - 201s 250ms/step - loss: 3.9239 - pi_loss: 3.5562 - v_loss: 0.3677\n",
            "Epoch 4/10\n",
            "804/804 [==============================] - 199s 247ms/step - loss: 3.7703 - pi_loss: 3.4671 - v_loss: 0.3031\n",
            "Epoch 5/10\n",
            "804/804 [==============================] - 201s 249ms/step - loss: 3.6466 - pi_loss: 3.3843 - v_loss: 0.2623\n",
            "Epoch 6/10\n",
            "804/804 [==============================] - 198s 247ms/step - loss: 3.5334 - pi_loss: 3.3059 - v_loss: 0.2276\n",
            "Epoch 7/10\n",
            "804/804 [==============================] - 200s 249ms/step - loss: 3.4344 - pi_loss: 3.2277 - v_loss: 0.2067\n",
            "Epoch 8/10\n",
            "804/804 [==============================] - 199s 248ms/step - loss: 3.3329 - pi_loss: 3.1386 - v_loss: 0.1943\n",
            "Epoch 9/10\n",
            "804/804 [==============================] - 199s 247ms/step - loss: 3.2320 - pi_loss: 3.0561 - v_loss: 0.1759\n",
            "Epoch 10/10\n",
            "804/804 [==============================] - 200s 249ms/step - loss: 3.1382 - pi_loss: 2.9737 - v_loss: 0.1644\n"
          ]
        },
        {
          "name": "stderr",
          "output_type": "stream",
          "text": [
            "2023-12-30 18:30:46 720763aea7d1 Coach[111] INFO PITTING AGAINST PREVIOUS VERSION\n",
            "Arena.playGames (1): 100%|██████████| 10/10 [01:50<00:00, 11.06s/it]\n",
            "Arena.playGames (2): 100%|██████████| 10/10 [01:46<00:00, 10.63s/it]\n",
            "2023-12-30 18:34:23 720763aea7d1 Coach[111] INFO NEW/PREV WINS : 4 / 16 ; DRAWS : 0\n",
            "2023-12-30 18:34:23 720763aea7d1 Coach[111] INFO REJECTING NEW MODEL\n",
            "2023-12-30 18:34:24 720763aea7d1 Coach[111] INFO Starting Iter #9 ...\n",
            "Self Play: 100%|██████████| 15/15 [07:38<00:00, 30.53s/it]\n",
            "2023-12-30 18:42:02 720763aea7d1 Coach[111] WARNING Removing the oldest entry in trainExamples. len(trainExamplesHistory) = 21\n"
          ]
        },
        {
          "name": "stdout",
          "output_type": "stream",
          "text": [
            "Checkpoint Directory exists! \n",
            "Epoch 1/10\n",
            "802/802 [==============================] - 197s 244ms/step - loss: 4.8245 - pi_loss: 3.9289 - v_loss: 0.8956\n",
            "Epoch 2/10\n",
            "802/802 [==============================] - 198s 247ms/step - loss: 4.1807 - pi_loss: 3.6687 - v_loss: 0.5121\n",
            "Epoch 3/10\n",
            "802/802 [==============================] - 195s 243ms/step - loss: 3.9215 - pi_loss: 3.5537 - v_loss: 0.3678\n",
            "Epoch 4/10\n",
            "802/802 [==============================] - 196s 245ms/step - loss: 3.7596 - pi_loss: 3.4618 - v_loss: 0.2978\n",
            "Epoch 5/10\n",
            "802/802 [==============================] - 198s 247ms/step - loss: 3.6338 - pi_loss: 3.3837 - v_loss: 0.2501\n",
            "Epoch 6/10\n",
            "802/802 [==============================] - 199s 249ms/step - loss: 3.5351 - pi_loss: 3.3096 - v_loss: 0.2256\n",
            "Epoch 7/10\n",
            "802/802 [==============================] - 197s 246ms/step - loss: 3.4312 - pi_loss: 3.2283 - v_loss: 0.2029\n",
            "Epoch 8/10\n",
            "802/802 [==============================] - 199s 248ms/step - loss: 3.3290 - pi_loss: 3.1406 - v_loss: 0.1884\n",
            "Epoch 9/10\n",
            "802/802 [==============================] - 197s 245ms/step - loss: 3.2314 - pi_loss: 3.0613 - v_loss: 0.1701\n",
            "Epoch 10/10\n",
            "802/802 [==============================] - 198s 247ms/step - loss: 3.1398 - pi_loss: 2.9780 - v_loss: 0.1618\n"
          ]
        },
        {
          "name": "stderr",
          "output_type": "stream",
          "text": [
            "2023-12-30 19:15:40 720763aea7d1 Coach[111] INFO PITTING AGAINST PREVIOUS VERSION\n",
            "Arena.playGames (1): 100%|██████████| 10/10 [02:12<00:00, 13.26s/it]\n",
            "Arena.playGames (2): 100%|██████████| 10/10 [00:33<00:00,  3.38s/it]\n",
            "2023-12-30 19:18:27 720763aea7d1 Coach[111] INFO NEW/PREV WINS : 6 / 14 ; DRAWS : 0\n",
            "2023-12-30 19:18:27 720763aea7d1 Coach[111] INFO REJECTING NEW MODEL\n",
            "2023-12-30 19:18:28 720763aea7d1 Coach[111] INFO Starting Iter #10 ...\n",
            "Self Play: 100%|██████████| 15/15 [07:20<00:00, 29.35s/it]\n",
            "2023-12-30 19:25:49 720763aea7d1 Coach[111] WARNING Removing the oldest entry in trainExamples. len(trainExamplesHistory) = 21\n"
          ]
        },
        {
          "name": "stdout",
          "output_type": "stream",
          "text": [
            "Checkpoint Directory exists! \n",
            "Epoch 1/10\n",
            "802/802 [==============================] - 210s 260ms/step - loss: 4.7985 - pi_loss: 3.9296 - v_loss: 0.8689\n",
            "Epoch 2/10\n",
            "802/802 [==============================] - 209s 260ms/step - loss: 4.1933 - pi_loss: 3.6759 - v_loss: 0.5175\n",
            "Epoch 3/10\n",
            "802/802 [==============================] - 207s 258ms/step - loss: 3.9220 - pi_loss: 3.5559 - v_loss: 0.3660\n",
            "Epoch 4/10\n",
            "802/802 [==============================] - 207s 259ms/step - loss: 3.7655 - pi_loss: 3.4683 - v_loss: 0.2972\n",
            "Epoch 5/10\n",
            "802/802 [==============================] - 208s 259ms/step - loss: 3.6427 - pi_loss: 3.3914 - v_loss: 0.2513\n",
            "Epoch 6/10\n",
            "802/802 [==============================] - 207s 258ms/step - loss: 3.5340 - pi_loss: 3.3098 - v_loss: 0.2241\n",
            "Epoch 7/10\n",
            "802/802 [==============================] - 207s 258ms/step - loss: 3.4334 - pi_loss: 3.2303 - v_loss: 0.2031\n",
            "Epoch 8/10\n",
            "802/802 [==============================] - 208s 259ms/step - loss: 3.3427 - pi_loss: 3.1547 - v_loss: 0.1880\n",
            "Epoch 9/10\n",
            "802/802 [==============================] - 207s 258ms/step - loss: 3.2450 - pi_loss: 3.0706 - v_loss: 0.1744\n",
            "Epoch 10/10\n",
            "802/802 [==============================] - 208s 259ms/step - loss: 3.1531 - pi_loss: 2.9904 - v_loss: 0.1627\n"
          ]
        },
        {
          "name": "stderr",
          "output_type": "stream",
          "text": [
            "2023-12-30 20:00:41 720763aea7d1 Coach[111] INFO PITTING AGAINST PREVIOUS VERSION\n",
            "Arena.playGames (1): 100%|██████████| 10/10 [02:37<00:00, 15.78s/it]\n",
            "Arena.playGames (2): 100%|██████████| 10/10 [01:45<00:00, 10.55s/it]\n",
            "2023-12-30 20:05:05 720763aea7d1 Coach[111] INFO NEW/PREV WINS : 5 / 15 ; DRAWS : 0\n",
            "2023-12-30 20:05:05 720763aea7d1 Coach[111] INFO REJECTING NEW MODEL\n",
            "2023-12-30 20:05:06 720763aea7d1 Coach[111] INFO Starting Iter #11 ...\n",
            "Self Play: 100%|██████████| 15/15 [05:32<00:00, 22.19s/it]\n",
            "2023-12-30 20:10:39 720763aea7d1 Coach[111] WARNING Removing the oldest entry in trainExamples. len(trainExamplesHistory) = 21\n"
          ]
        },
        {
          "name": "stdout",
          "output_type": "stream",
          "text": [
            "Checkpoint Directory exists! \n",
            "Epoch 1/10\n",
            "801/801 [==============================] - 208s 258ms/step - loss: 4.8203 - pi_loss: 3.9293 - v_loss: 0.8911\n",
            "Epoch 2/10\n",
            "801/801 [==============================] - 204s 255ms/step - loss: 4.1863 - pi_loss: 3.6815 - v_loss: 0.5048\n",
            "Epoch 3/10\n",
            "801/801 [==============================] - 206s 257ms/step - loss: 3.9074 - pi_loss: 3.5582 - v_loss: 0.3493\n",
            "Epoch 4/10\n",
            "801/801 [==============================] - 206s 257ms/step - loss: 3.7562 - pi_loss: 3.4707 - v_loss: 0.2855\n",
            "Epoch 5/10\n",
            "801/801 [==============================] - 205s 256ms/step - loss: 3.6320 - pi_loss: 3.3887 - v_loss: 0.2433\n",
            "Epoch 6/10\n",
            "801/801 [==============================] - 206s 257ms/step - loss: 3.5235 - pi_loss: 3.3083 - v_loss: 0.2152\n",
            "Epoch 7/10\n",
            "801/801 [==============================] - 205s 256ms/step - loss: 3.4247 - pi_loss: 3.2307 - v_loss: 0.1941\n",
            "Epoch 8/10\n",
            "801/801 [==============================] - 205s 256ms/step - loss: 3.3228 - pi_loss: 3.1463 - v_loss: 0.1765\n",
            "Epoch 9/10\n",
            "801/801 [==============================] - 207s 258ms/step - loss: 3.2268 - pi_loss: 3.0609 - v_loss: 0.1660\n",
            "Epoch 10/10\n",
            "801/801 [==============================] - 205s 256ms/step - loss: 3.1386 - pi_loss: 2.9810 - v_loss: 0.1577\n"
          ]
        },
        {
          "name": "stderr",
          "output_type": "stream",
          "text": [
            "2023-12-30 20:45:17 720763aea7d1 Coach[111] INFO PITTING AGAINST PREVIOUS VERSION\n",
            "Arena.playGames (1): 100%|██████████| 10/10 [01:39<00:00,  9.96s/it]\n",
            "Arena.playGames (2): 100%|██████████| 10/10 [02:08<00:00, 12.83s/it]\n",
            "2023-12-30 20:49:05 720763aea7d1 Coach[111] INFO NEW/PREV WINS : 7 / 13 ; DRAWS : 0\n",
            "2023-12-30 20:49:05 720763aea7d1 Coach[111] INFO REJECTING NEW MODEL\n",
            "2023-12-30 20:49:07 720763aea7d1 Coach[111] INFO Starting Iter #12 ...\n",
            "Self Play: 100%|██████████| 15/15 [09:07<00:00, 36.50s/it]\n",
            "2023-12-30 20:58:14 720763aea7d1 Coach[111] WARNING Removing the oldest entry in trainExamples. len(trainExamplesHistory) = 21\n"
          ]
        },
        {
          "name": "stdout",
          "output_type": "stream",
          "text": [
            "Checkpoint Directory exists! \n",
            "Epoch 1/10\n",
            "819/819 [==============================] - 216s 263ms/step - loss: 4.8109 - pi_loss: 3.9289 - v_loss: 0.8820\n",
            "Epoch 2/10\n",
            "819/819 [==============================] - 213s 260ms/step - loss: 4.1614 - pi_loss: 3.6806 - v_loss: 0.4807\n",
            "Epoch 3/10\n",
            "819/819 [==============================] - 215s 262ms/step - loss: 3.9004 - pi_loss: 3.5611 - v_loss: 0.3394\n",
            "Epoch 4/10\n",
            "819/819 [==============================] - 215s 263ms/step - loss: 3.7498 - pi_loss: 3.4711 - v_loss: 0.2787\n",
            "Epoch 5/10\n",
            "819/819 [==============================] - 213s 260ms/step - loss: 3.6278 - pi_loss: 3.3909 - v_loss: 0.2369\n",
            "Epoch 6/10\n",
            "819/819 [==============================] - 212s 258ms/step - loss: 3.5258 - pi_loss: 3.3116 - v_loss: 0.2143\n",
            "Epoch 7/10\n",
            "819/819 [==============================] - 214s 261ms/step - loss: 3.4245 - pi_loss: 3.2366 - v_loss: 0.1879\n",
            "Epoch 8/10\n",
            "819/819 [==============================] - 211s 258ms/step - loss: 3.3258 - pi_loss: 3.1527 - v_loss: 0.1731\n",
            "Epoch 9/10\n",
            "819/819 [==============================] - 211s 257ms/step - loss: 3.2312 - pi_loss: 3.0663 - v_loss: 0.1648\n",
            "Epoch 10/10\n",
            "819/819 [==============================] - 213s 260ms/step - loss: 3.1346 - pi_loss: 2.9832 - v_loss: 0.1513\n"
          ]
        },
        {
          "name": "stderr",
          "output_type": "stream",
          "text": [
            "2023-12-30 21:34:52 720763aea7d1 Coach[111] INFO PITTING AGAINST PREVIOUS VERSION\n",
            "Arena.playGames (1): 100%|██████████| 10/10 [02:31<00:00, 15.18s/it]\n",
            "Arena.playGames (2): 100%|██████████| 10/10 [01:19<00:00,  7.94s/it]\n",
            "2023-12-30 21:38:43 720763aea7d1 Coach[111] INFO NEW/PREV WINS : 3 / 17 ; DRAWS : 0\n",
            "2023-12-30 21:38:43 720763aea7d1 Coach[111] INFO REJECTING NEW MODEL\n",
            "2023-12-30 21:38:45 720763aea7d1 Coach[111] INFO Starting Iter #13 ...\n",
            "Self Play: 100%|██████████| 15/15 [06:38<00:00, 26.53s/it]\n",
            "2023-12-30 21:45:23 720763aea7d1 Coach[111] WARNING Removing the oldest entry in trainExamples. len(trainExamplesHistory) = 21\n"
          ]
        },
        {
          "name": "stdout",
          "output_type": "stream",
          "text": [
            "Checkpoint Directory exists! \n",
            "Epoch 1/10\n",
            "809/809 [==============================] - 217s 266ms/step - loss: 4.8488 - pi_loss: 3.9416 - v_loss: 0.9072\n",
            "Epoch 2/10\n",
            "809/809 [==============================] - 217s 269ms/step - loss: 4.1936 - pi_loss: 3.6921 - v_loss: 0.5015\n",
            "Epoch 3/10\n",
            "809/809 [==============================] - 216s 267ms/step - loss: 3.9249 - pi_loss: 3.5710 - v_loss: 0.3539\n",
            "Epoch 4/10\n",
            "809/809 [==============================] - 217s 268ms/step - loss: 3.7579 - pi_loss: 3.4818 - v_loss: 0.2760\n",
            "Epoch 5/10\n",
            "809/809 [==============================] - 216s 268ms/step - loss: 3.6346 - pi_loss: 3.3956 - v_loss: 0.2390\n",
            "Epoch 6/10\n",
            "809/809 [==============================] - 217s 268ms/step - loss: 3.5277 - pi_loss: 3.3183 - v_loss: 0.2094\n",
            "Epoch 7/10\n",
            "809/809 [==============================] - 214s 265ms/step - loss: 3.4308 - pi_loss: 3.2365 - v_loss: 0.1943\n",
            "Epoch 8/10\n",
            "809/809 [==============================] - 215s 265ms/step - loss: 3.3255 - pi_loss: 3.1491 - v_loss: 0.1764\n",
            "Epoch 9/10\n",
            "809/809 [==============================] - 215s 265ms/step - loss: 3.2267 - pi_loss: 3.0651 - v_loss: 0.1616\n",
            "Epoch 10/10\n",
            "809/809 [==============================] - 213s 263ms/step - loss: 3.1231 - pi_loss: 2.9685 - v_loss: 0.1546\n"
          ]
        },
        {
          "name": "stderr",
          "output_type": "stream",
          "text": [
            "2023-12-30 22:22:09 720763aea7d1 Coach[111] INFO PITTING AGAINST PREVIOUS VERSION\n",
            "Arena.playGames (1): 100%|██████████| 10/10 [02:06<00:00, 12.62s/it]\n",
            "Arena.playGames (2): 100%|██████████| 10/10 [00:55<00:00,  5.57s/it]\n",
            "2023-12-30 22:25:11 720763aea7d1 Coach[111] INFO NEW/PREV WINS : 7 / 13 ; DRAWS : 0\n",
            "2023-12-30 22:25:11 720763aea7d1 Coach[111] INFO REJECTING NEW MODEL\n",
            "2023-12-30 22:25:12 720763aea7d1 Coach[111] INFO Starting Iter #14 ...\n",
            "Self Play: 100%|██████████| 15/15 [07:00<00:00, 28.01s/it]\n",
            "2023-12-30 22:32:12 720763aea7d1 Coach[111] WARNING Removing the oldest entry in trainExamples. len(trainExamplesHistory) = 21\n"
          ]
        },
        {
          "name": "stdout",
          "output_type": "stream",
          "text": [
            "Checkpoint Directory exists! \n",
            "Epoch 1/10\n",
            "810/810 [==============================] - 220s 269ms/step - loss: 4.8829 - pi_loss: 3.9570 - v_loss: 0.9258\n",
            "Epoch 2/10\n",
            "810/810 [==============================] - 216s 267ms/step - loss: 4.2264 - pi_loss: 3.6965 - v_loss: 0.5299\n",
            "Epoch 3/10\n",
            "810/810 [==============================] - 218s 269ms/step - loss: 3.9441 - pi_loss: 3.5711 - v_loss: 0.3730\n",
            "Epoch 4/10\n",
            "810/810 [==============================] - 214s 265ms/step - loss: 3.7715 - pi_loss: 3.4762 - v_loss: 0.2954\n",
            "Epoch 5/10\n",
            "810/810 [==============================] - 214s 264ms/step - loss: 3.6456 - pi_loss: 3.3985 - v_loss: 0.2470\n",
            "Epoch 6/10\n",
            "810/810 [==============================] - 217s 268ms/step - loss: 3.5356 - pi_loss: 3.3163 - v_loss: 0.2193\n",
            "Epoch 7/10\n",
            "810/810 [==============================] - 216s 267ms/step - loss: 3.4339 - pi_loss: 3.2361 - v_loss: 0.1977\n",
            "Epoch 8/10\n",
            "810/810 [==============================] - 216s 266ms/step - loss: 3.3255 - pi_loss: 3.1476 - v_loss: 0.1779\n",
            "Epoch 9/10\n",
            "810/810 [==============================] - 214s 264ms/step - loss: 3.2343 - pi_loss: 3.0653 - v_loss: 0.1690\n",
            "Epoch 10/10\n",
            "810/810 [==============================] - 215s 266ms/step - loss: 3.1340 - pi_loss: 2.9821 - v_loss: 0.1519\n"
          ]
        },
        {
          "name": "stderr",
          "output_type": "stream",
          "text": [
            "2023-12-30 23:08:30 720763aea7d1 Coach[111] INFO PITTING AGAINST PREVIOUS VERSION\n",
            "Arena.playGames (1): 100%|██████████| 10/10 [03:37<00:00, 21.71s/it]\n",
            "Arena.playGames (2): 100%|██████████| 10/10 [02:12<00:00, 13.29s/it]\n",
            "2023-12-30 23:14:20 720763aea7d1 Coach[111] INFO NEW/PREV WINS : 6 / 14 ; DRAWS : 0\n",
            "2023-12-30 23:14:20 720763aea7d1 Coach[111] INFO REJECTING NEW MODEL\n",
            "2023-12-30 23:14:22 720763aea7d1 Coach[111] INFO Starting Iter #15 ...\n",
            "Self Play: 100%|██████████| 15/15 [07:07<00:00, 28.48s/it]\n",
            "2023-12-30 23:21:29 720763aea7d1 Coach[111] WARNING Removing the oldest entry in trainExamples. len(trainExamplesHistory) = 21\n"
          ]
        },
        {
          "name": "stdout",
          "output_type": "stream",
          "text": [
            "Checkpoint Directory exists! \n",
            "Epoch 1/10\n",
            "816/816 [==============================] - 216s 264ms/step - loss: 4.8890 - pi_loss: 3.9559 - v_loss: 0.9331\n",
            "Epoch 2/10\n",
            "816/816 [==============================] - 213s 261ms/step - loss: 4.2198 - pi_loss: 3.7047 - v_loss: 0.5151\n",
            "Epoch 3/10\n",
            "816/816 [==============================] - 213s 262ms/step - loss: 3.9334 - pi_loss: 3.5789 - v_loss: 0.3545\n",
            "Epoch 4/10\n",
            "816/816 [==============================] - 214s 263ms/step - loss: 3.7789 - pi_loss: 3.4919 - v_loss: 0.2870\n",
            "Epoch 5/10\n",
            "816/816 [==============================] - 213s 262ms/step - loss: 3.6500 - pi_loss: 3.4113 - v_loss: 0.2387\n",
            "Epoch 6/10\n",
            "816/816 [==============================] - 214s 262ms/step - loss: 3.5528 - pi_loss: 3.3330 - v_loss: 0.2198\n",
            "Epoch 7/10\n",
            "816/816 [==============================] - 213s 261ms/step - loss: 3.4394 - pi_loss: 3.2467 - v_loss: 0.1927\n",
            "Epoch 8/10\n",
            "816/816 [==============================] - 214s 262ms/step - loss: 3.3412 - pi_loss: 3.1625 - v_loss: 0.1787\n",
            "Epoch 9/10\n",
            "816/816 [==============================] - 212s 260ms/step - loss: 3.2428 - pi_loss: 3.0812 - v_loss: 0.1616\n",
            "Epoch 10/10\n",
            "816/816 [==============================] - 214s 262ms/step - loss: 3.1469 - pi_loss: 2.9955 - v_loss: 0.1514\n"
          ]
        },
        {
          "name": "stderr",
          "output_type": "stream",
          "text": [
            "2023-12-30 23:58:07 720763aea7d1 Coach[111] INFO PITTING AGAINST PREVIOUS VERSION\n",
            "Arena.playGames (1): 100%|██████████| 10/10 [00:46<00:00,  4.65s/it]\n",
            "Arena.playGames (2): 100%|██████████| 10/10 [01:51<00:00, 11.11s/it]\n",
            "2023-12-31 00:00:45 720763aea7d1 Coach[111] INFO NEW/PREV WINS : 6 / 14 ; DRAWS : 0\n",
            "2023-12-31 00:00:45 720763aea7d1 Coach[111] INFO REJECTING NEW MODEL\n",
            "2023-12-31 00:00:46 720763aea7d1 Coach[111] INFO Starting Iter #16 ...\n",
            "Self Play: 100%|██████████| 15/15 [05:52<00:00, 23.49s/it]\n",
            "2023-12-31 00:06:39 720763aea7d1 Coach[111] WARNING Removing the oldest entry in trainExamples. len(trainExamplesHistory) = 21\n"
          ]
        },
        {
          "name": "stdout",
          "output_type": "stream",
          "text": [
            "Checkpoint Directory exists! \n",
            "Epoch 1/10\n",
            "813/813 [==============================] - 222s 272ms/step - loss: 4.8662 - pi_loss: 3.9606 - v_loss: 0.9056\n",
            "Epoch 2/10\n",
            "813/813 [==============================] - 215s 264ms/step - loss: 4.2043 - pi_loss: 3.7045 - v_loss: 0.4999\n",
            "Epoch 3/10\n",
            "813/813 [==============================] - 212s 261ms/step - loss: 3.9336 - pi_loss: 3.5869 - v_loss: 0.3467\n",
            "Epoch 4/10\n",
            "813/813 [==============================] - 214s 263ms/step - loss: 3.7826 - pi_loss: 3.4971 - v_loss: 0.2855\n",
            "Epoch 5/10\n",
            "813/813 [==============================] - 212s 261ms/step - loss: 3.6520 - pi_loss: 3.4142 - v_loss: 0.2378\n",
            "Epoch 6/10\n",
            "813/813 [==============================] - 213s 261ms/step - loss: 3.5499 - pi_loss: 3.3333 - v_loss: 0.2167\n",
            "Epoch 7/10\n",
            "813/813 [==============================] - 211s 260ms/step - loss: 3.4449 - pi_loss: 3.2499 - v_loss: 0.1950\n",
            "Epoch 8/10\n",
            "813/813 [==============================] - 213s 262ms/step - loss: 3.3407 - pi_loss: 3.1684 - v_loss: 0.1724\n",
            "Epoch 9/10\n",
            "813/813 [==============================] - 210s 259ms/step - loss: 3.2385 - pi_loss: 3.0787 - v_loss: 0.1599\n",
            "Epoch 10/10\n",
            "813/813 [==============================] - 211s 260ms/step - loss: 3.1455 - pi_loss: 2.9960 - v_loss: 0.1495\n"
          ]
        },
        {
          "name": "stderr",
          "output_type": "stream",
          "text": [
            "2023-12-31 00:42:26 720763aea7d1 Coach[111] INFO PITTING AGAINST PREVIOUS VERSION\n",
            "Arena.playGames (1): 100%|██████████| 10/10 [00:41<00:00,  4.19s/it]\n",
            "Arena.playGames (2): 100%|██████████| 10/10 [01:12<00:00,  7.23s/it]\n",
            "2023-12-31 00:44:20 720763aea7d1 Coach[111] INFO NEW/PREV WINS : 8 / 12 ; DRAWS : 0\n",
            "2023-12-31 00:44:20 720763aea7d1 Coach[111] INFO REJECTING NEW MODEL\n",
            "2023-12-31 00:44:21 720763aea7d1 Coach[111] INFO Starting Iter #17 ...\n",
            "Self Play: 100%|██████████| 15/15 [07:01<00:00, 28.12s/it]\n",
            "2023-12-31 00:51:23 720763aea7d1 Coach[111] WARNING Removing the oldest entry in trainExamples. len(trainExamplesHistory) = 21\n"
          ]
        },
        {
          "name": "stdout",
          "output_type": "stream",
          "text": [
            "Checkpoint Directory exists! \n",
            "Epoch 1/10\n",
            "825/825 [==============================] - 207s 250ms/step - loss: 4.8481 - pi_loss: 3.9486 - v_loss: 0.8995\n",
            "Epoch 2/10\n",
            "825/825 [==============================] - 207s 251ms/step - loss: 4.1944 - pi_loss: 3.6979 - v_loss: 0.4966\n",
            "Epoch 3/10\n",
            "825/825 [==============================] - 206s 249ms/step - loss: 3.9346 - pi_loss: 3.5803 - v_loss: 0.3543\n",
            "Epoch 4/10\n",
            "825/825 [==============================] - 207s 251ms/step - loss: 3.7774 - pi_loss: 3.4907 - v_loss: 0.2867\n",
            "Epoch 5/10\n",
            "825/825 [==============================] - 206s 249ms/step - loss: 3.6580 - pi_loss: 3.4135 - v_loss: 0.2445\n",
            "Epoch 6/10\n",
            "825/825 [==============================] - 203s 246ms/step - loss: 3.5461 - pi_loss: 3.3286 - v_loss: 0.2175\n",
            "Epoch 7/10\n",
            "825/825 [==============================] - 202s 245ms/step - loss: 3.4397 - pi_loss: 3.2485 - v_loss: 0.1912\n",
            "Epoch 8/10\n",
            "825/825 [==============================] - 202s 245ms/step - loss: 3.3394 - pi_loss: 3.1608 - v_loss: 0.1786\n",
            "Epoch 9/10\n",
            "825/825 [==============================] - 201s 244ms/step - loss: 3.2320 - pi_loss: 3.0728 - v_loss: 0.1592\n",
            "Epoch 10/10\n",
            "825/825 [==============================] - 201s 243ms/step - loss: 3.1387 - pi_loss: 2.9874 - v_loss: 0.1514\n"
          ]
        },
        {
          "name": "stderr",
          "output_type": "stream",
          "text": [
            "2023-12-31 01:26:03 720763aea7d1 Coach[111] INFO PITTING AGAINST PREVIOUS VERSION\n",
            "Arena.playGames (1): 100%|██████████| 10/10 [03:19<00:00, 19.92s/it]\n",
            "Arena.playGames (2): 100%|██████████| 10/10 [02:31<00:00, 15.12s/it]\n",
            "2023-12-31 01:31:54 720763aea7d1 Coach[111] INFO NEW/PREV WINS : 5 / 15 ; DRAWS : 0\n",
            "2023-12-31 01:31:54 720763aea7d1 Coach[111] INFO REJECTING NEW MODEL\n",
            "2023-12-31 01:31:55 720763aea7d1 Coach[111] INFO Starting Iter #18 ...\n",
            "Self Play: 100%|██████████| 15/15 [07:53<00:00, 31.55s/it]\n",
            "2023-12-31 01:39:49 720763aea7d1 Coach[111] WARNING Removing the oldest entry in trainExamples. len(trainExamplesHistory) = 21\n"
          ]
        },
        {
          "name": "stdout",
          "output_type": "stream",
          "text": [
            "Checkpoint Directory exists! \n",
            "Epoch 1/10\n",
            "835/835 [==============================] - 209s 250ms/step - loss: 4.8661 - pi_loss: 3.9553 - v_loss: 0.9108\n",
            "Epoch 2/10\n",
            "835/835 [==============================] - 206s 247ms/step - loss: 4.2048 - pi_loss: 3.7122 - v_loss: 0.4926\n",
            "Epoch 3/10\n",
            "835/835 [==============================] - 214s 256ms/step - loss: 3.9417 - pi_loss: 3.5945 - v_loss: 0.3472\n",
            "Epoch 4/10\n",
            "835/835 [==============================] - 215s 258ms/step - loss: 3.7883 - pi_loss: 3.5064 - v_loss: 0.2819\n",
            "Epoch 5/10\n",
            "835/835 [==============================] - 213s 255ms/step - loss: 3.6640 - pi_loss: 3.4246 - v_loss: 0.2394\n",
            "Epoch 6/10\n",
            "835/835 [==============================] - 216s 258ms/step - loss: 3.5526 - pi_loss: 3.3443 - v_loss: 0.2083\n",
            "Epoch 7/10\n",
            "835/835 [==============================] - 213s 256ms/step - loss: 3.4524 - pi_loss: 3.2625 - v_loss: 0.1899\n",
            "Epoch 8/10\n",
            "835/835 [==============================] - 215s 258ms/step - loss: 3.3408 - pi_loss: 3.1750 - v_loss: 0.1658\n",
            "Epoch 9/10\n",
            "835/835 [==============================] - 215s 257ms/step - loss: 3.2452 - pi_loss: 3.0890 - v_loss: 0.1563\n",
            "Epoch 10/10\n",
            "835/835 [==============================] - 214s 257ms/step - loss: 3.1415 - pi_loss: 3.0019 - v_loss: 0.1396\n"
          ]
        },
        {
          "name": "stderr",
          "output_type": "stream",
          "text": [
            "2023-12-31 02:16:26 720763aea7d1 Coach[111] INFO PITTING AGAINST PREVIOUS VERSION\n",
            "Arena.playGames (1): 100%|██████████| 10/10 [01:40<00:00, 10.08s/it]\n",
            "Arena.playGames (2): 100%|██████████| 10/10 [01:47<00:00, 10.73s/it]\n",
            "2023-12-31 02:19:54 720763aea7d1 Coach[111] INFO NEW/PREV WINS : 9 / 11 ; DRAWS : 0\n",
            "2023-12-31 02:19:54 720763aea7d1 Coach[111] INFO REJECTING NEW MODEL\n",
            "2023-12-31 02:19:55 720763aea7d1 Coach[111] INFO Starting Iter #19 ...\n",
            "Self Play: 100%|██████████| 15/15 [05:26<00:00, 21.76s/it]\n",
            "2023-12-31 02:25:22 720763aea7d1 Coach[111] WARNING Removing the oldest entry in trainExamples. len(trainExamplesHistory) = 21\n"
          ]
        },
        {
          "name": "stdout",
          "output_type": "stream",
          "text": [
            "Checkpoint Directory exists! \n",
            "Epoch 1/10\n",
            "826/826 [==============================] - 209s 252ms/step - loss: 4.8604 - pi_loss: 3.9558 - v_loss: 0.9046\n",
            "Epoch 2/10\n",
            "826/826 [==============================] - 207s 251ms/step - loss: 4.1799 - pi_loss: 3.7023 - v_loss: 0.4776\n",
            "Epoch 3/10\n",
            "826/826 [==============================] - 206s 250ms/step - loss: 3.9192 - pi_loss: 3.5823 - v_loss: 0.3369\n",
            "Epoch 4/10\n",
            "826/826 [==============================] - 208s 252ms/step - loss: 3.7728 - pi_loss: 3.4964 - v_loss: 0.2764\n",
            "Epoch 5/10\n",
            "826/826 [==============================] - 206s 250ms/step - loss: 3.6466 - pi_loss: 3.4142 - v_loss: 0.2324\n",
            "Epoch 6/10\n",
            "826/826 [==============================] - 207s 250ms/step - loss: 3.5441 - pi_loss: 3.3362 - v_loss: 0.2078\n",
            "Epoch 7/10\n",
            "826/826 [==============================] - 206s 249ms/step - loss: 3.4370 - pi_loss: 3.2534 - v_loss: 0.1837\n",
            "Epoch 8/10\n",
            "826/826 [==============================] - 206s 250ms/step - loss: 3.3354 - pi_loss: 3.1692 - v_loss: 0.1662\n",
            "Epoch 9/10\n",
            "826/826 [==============================] - 205s 248ms/step - loss: 3.2232 - pi_loss: 3.0690 - v_loss: 0.1542\n",
            "Epoch 10/10\n",
            "568/826 [===================>..........] - ETA: 1:04 - loss: 3.1035 - pi_loss: 2.9641 - v_loss: 0.1394"
          ]
        }
      ],
      "source": [
        "args = dotdict({\n",
        "    'numIters': 20,\n",
        "    'numEps': 15,              # Number of complete self-play games to simulate during a new iteration.\n",
        "    'tempThreshold': 15,        #\n",
        "    'updateThreshold': 0.6,     # During arena playoff, new neural net will be accepted if threshold or more of games are won.\n",
        "    'maxlenOfQueue': 50000,    # Number of game examples to train the neural networks.\n",
        "    'numMCTSSims': 25,          # Number of games moves for MCTS to simulate.\n",
        "    'arenaCompare': 20,         # Number of games to play during arena play to determine if new net will be accepted.\n",
        "    'cpuct': 1,\n",
        "\n",
        "    'checkpoint': '/content/drive/MyDrive/go_trabalho2_liacd/models/go/9x9',\n",
        "    'load_model': True,\n",
        "    'load_folder_file': ('/content/drive/MyDrive/go_trabalho2_liacd/models/go/9x9', 'best.h5'),\n",
        "    'numItersForTrainExamplesHistory': 20,\n",
        "\n",
        "})\n",
        "\n",
        "\n",
        "\n",
        "log.info('Loading %s...', Game.__name__)\n",
        "g = Game(9)\n",
        "\n",
        "log.info('Loading %s...', nn.__name__)\n",
        "nnet = nn(g)\n",
        "\n",
        "if args.load_model:\n",
        "    log.info('Loading checkpoint \"%s/%s\"...', args.load_folder_file[0], args.load_folder_file[1])\n",
        "    nnet.load_model(args.load_folder_file[0], args.load_folder_file[1])\n",
        "else:\n",
        "    log.warning('Not loading a checkpoint!')\n",
        "\n",
        "log.info('Loading the Coach...')\n",
        "c = Coach(g, nnet, args)\n",
        "\n",
        "if args.load_model:\n",
        "    log.info(\"Loading 'trainExamples' from file...\")\n",
        "    c.loadTrainExamples()\n",
        "\n",
        "log.info('Starting the learning process 🎉')\n",
        "c.learn()\n",
        "\n"
      ]
    },
    {
      "cell_type": "markdown",
      "metadata": {
        "id": "wjXRY5uc_cmT"
      },
      "source": [
        "#Quarto Treino"
      ]
    },
    {
      "cell_type": "code",
      "execution_count": null,
      "metadata": {
        "colab": {
          "background_save": true,
          "base_uri": "https://localhost:8080/"
        },
        "id": "D4H1mUmJ_d0u",
        "outputId": "909581dd-89a3-49da-84f6-49741a7c20d9"
      },
      "outputs": [
        {
          "name": "stderr",
          "output_type": "stream",
          "text": [
            "2023-12-31 13:11:59 0193d9696948 __main__[129] INFO Loading GoGame...\n",
            "2023-12-31 13:11:59 0193d9696948 __main__[129] INFO Loading NNetWrapper...\n",
            "2023-12-31 13:11:59 0193d9696948 __main__[129] INFO Loading checkpoint \"/content/drive/MyDrive/go_trabalho2_liacd/models/go/9x9/best.h5\"...\n",
            "2023-12-31 13:12:02 0193d9696948 __main__[129] INFO Loading the Coach...\n",
            "2023-12-31 13:12:02 0193d9696948 __main__[129] INFO Loading 'trainExamples' from file...\n",
            "2023-12-31 13:12:02 0193d9696948 Coach[129] INFO File with trainExamples found. Loading it...\n",
            "2023-12-31 13:12:06 0193d9696948 Coach[129] INFO Loading done!\n",
            "2023-12-31 13:12:06 0193d9696948 __main__[129] INFO Starting the learning process 🎉\n",
            "2023-12-31 13:12:06 0193d9696948 Coach[129] INFO Starting Iter #1 ...\n"
          ]
        },
        {
          "name": "stdout",
          "output_type": "stream",
          "text": [
            "Checkpoint Directory exists! \n"
          ]
        },
        {
          "name": "stderr",
          "output_type": "stream",
          "text": [
            "/usr/local/lib/python3.10/dist-packages/keras/src/engine/training.py:3103: UserWarning: You are saving your model as an HDF5 file via `model.save()`. This file format is considered legacy. We recommend using instead the native Keras format, e.g. `model.save('my_model.keras')`.\n",
            "  saving_api.save_model(\n"
          ]
        },
        {
          "name": "stdout",
          "output_type": "stream",
          "text": [
            "Epoch 1/10\n",
            "826/826 [==============================] - 323s 389ms/step - loss: 4.8502 - pi_loss: 3.9605 - v_loss: 0.8897\n",
            "Epoch 2/10\n",
            "826/826 [==============================] - 318s 385ms/step - loss: 4.2023 - pi_loss: 3.7141 - v_loss: 0.4882\n",
            "Epoch 3/10\n",
            "826/826 [==============================] - 322s 390ms/step - loss: 3.9375 - pi_loss: 3.5941 - v_loss: 0.3434\n",
            "Epoch 4/10\n",
            "826/826 [==============================] - 319s 386ms/step - loss: 3.7836 - pi_loss: 3.5042 - v_loss: 0.2793\n",
            "Epoch 5/10\n",
            "826/826 [==============================] - 325s 392ms/step - loss: 3.6679 - pi_loss: 3.4283 - v_loss: 0.2397\n",
            "Epoch 6/10\n",
            "826/826 [==============================] - 326s 394ms/step - loss: 3.5654 - pi_loss: 3.3513 - v_loss: 0.2141\n",
            "Epoch 7/10\n",
            "826/826 [==============================] - 316s 383ms/step - loss: 3.4562 - pi_loss: 3.2673 - v_loss: 0.1889\n",
            "Epoch 8/10\n",
            "826/826 [==============================] - 328s 397ms/step - loss: 3.3575 - pi_loss: 3.1853 - v_loss: 0.1721\n",
            "Epoch 9/10\n",
            "826/826 [==============================] - 316s 383ms/step - loss: 3.2559 - pi_loss: 3.0975 - v_loss: 0.1584\n",
            "Epoch 10/10\n",
            "826/826 [==============================] - 327s 396ms/step - loss: 3.1613 - pi_loss: 3.0168 - v_loss: 0.1445\n"
          ]
        },
        {
          "name": "stderr",
          "output_type": "stream",
          "text": [
            "2023-12-31 14:06:48 0193d9696948 Coach[129] INFO PITTING AGAINST PREVIOUS VERSION\n",
            "Arena.playGames (1): 100%|██████████| 10/10 [04:13<00:00, 25.30s/it]\n",
            "Arena.playGames (2): 100%|██████████| 10/10 [02:50<00:00, 17.07s/it]\n",
            "2023-12-31 14:13:52 0193d9696948 Coach[129] INFO NEW/PREV WINS : 5 / 15 ; DRAWS : 0\n",
            "2023-12-31 14:13:52 0193d9696948 Coach[129] INFO REJECTING NEW MODEL\n",
            "2023-12-31 14:13:54 0193d9696948 Coach[129] INFO Starting Iter #2 ...\n",
            "Self Play: 100%|██████████| 15/15 [08:44<00:00, 34.95s/it]\n",
            "2023-12-31 14:22:39 0193d9696948 Coach[129] WARNING Removing the oldest entry in trainExamples. len(trainExamplesHistory) = 21\n"
          ]
        },
        {
          "name": "stdout",
          "output_type": "stream",
          "text": [
            "Checkpoint Directory exists! \n",
            "Epoch 1/10\n",
            "812/812 [==============================] - 316s 387ms/step - loss: 4.8610 - pi_loss: 3.9749 - v_loss: 0.8860\n",
            "Epoch 2/10\n",
            "812/812 [==============================] - 312s 384ms/step - loss: 4.2012 - pi_loss: 3.7209 - v_loss: 0.4803\n",
            "Epoch 3/10\n",
            "812/812 [==============================] - 316s 389ms/step - loss: 3.9383 - pi_loss: 3.5986 - v_loss: 0.3397\n",
            "Epoch 4/10\n",
            "812/812 [==============================] - 311s 383ms/step - loss: 3.7811 - pi_loss: 3.5108 - v_loss: 0.2703\n",
            "Epoch 5/10\n",
            "812/812 [==============================] - 314s 386ms/step - loss: 3.6654 - pi_loss: 3.4331 - v_loss: 0.2323\n",
            "Epoch 6/10\n",
            "812/812 [==============================] - 309s 381ms/step - loss: 3.5576 - pi_loss: 3.3524 - v_loss: 0.2052\n",
            "Epoch 7/10\n",
            "812/812 [==============================] - 326s 402ms/step - loss: 3.4600 - pi_loss: 3.2758 - v_loss: 0.1843\n",
            "Epoch 8/10\n",
            "812/812 [==============================] - 322s 397ms/step - loss: 3.3547 - pi_loss: 3.1837 - v_loss: 0.1710\n",
            "Epoch 9/10\n",
            "812/812 [==============================] - 313s 385ms/step - loss: 3.2544 - pi_loss: 3.1020 - v_loss: 0.1524\n",
            "Epoch 10/10\n",
            "812/812 [==============================] - 311s 383ms/step - loss: 3.1639 - pi_loss: 3.0221 - v_loss: 0.1418\n"
          ]
        },
        {
          "name": "stderr",
          "output_type": "stream",
          "text": [
            "2023-12-31 15:16:22 0193d9696948 Coach[129] INFO PITTING AGAINST PREVIOUS VERSION\n",
            "Arena.playGames (1): 100%|██████████| 10/10 [03:37<00:00, 21.70s/it]\n",
            "Arena.playGames (2): 100%|██████████| 10/10 [06:04<00:00, 36.47s/it]\n",
            "2023-12-31 15:26:04 0193d9696948 Coach[129] INFO NEW/PREV WINS : 5 / 15 ; DRAWS : 0\n",
            "2023-12-31 15:26:04 0193d9696948 Coach[129] INFO REJECTING NEW MODEL\n",
            "2023-12-31 15:26:06 0193d9696948 Coach[129] INFO Starting Iter #3 ...\n",
            "Self Play: 100%|██████████| 15/15 [08:38<00:00, 34.60s/it]\n",
            "2023-12-31 15:34:45 0193d9696948 Coach[129] WARNING Removing the oldest entry in trainExamples. len(trainExamplesHistory) = 21\n"
          ]
        },
        {
          "name": "stdout",
          "output_type": "stream",
          "text": [
            "Checkpoint Directory exists! \n",
            "Epoch 1/10\n",
            "804/804 [==============================] - 307s 380ms/step - loss: 4.8590 - pi_loss: 3.9698 - v_loss: 0.8892\n",
            "Epoch 2/10\n",
            "804/804 [==============================] - 317s 394ms/step - loss: 4.2053 - pi_loss: 3.7113 - v_loss: 0.4940\n",
            "Epoch 3/10\n",
            "804/804 [==============================] - 309s 384ms/step - loss: 3.9358 - pi_loss: 3.5909 - v_loss: 0.3449\n",
            "Epoch 4/10\n",
            "804/804 [==============================] - 314s 390ms/step - loss: 3.7735 - pi_loss: 3.5010 - v_loss: 0.2725\n",
            "Epoch 5/10\n",
            "804/804 [==============================] - 311s 387ms/step - loss: 3.6617 - pi_loss: 3.4226 - v_loss: 0.2391\n",
            "Epoch 6/10\n",
            "804/804 [==============================] - 313s 389ms/step - loss: 3.5506 - pi_loss: 3.3404 - v_loss: 0.2101\n",
            "Epoch 7/10\n",
            "804/804 [==============================] - 313s 389ms/step - loss: 3.4404 - pi_loss: 3.2608 - v_loss: 0.1795\n",
            "Epoch 8/10\n",
            "804/804 [==============================] - 309s 385ms/step - loss: 3.3454 - pi_loss: 3.1760 - v_loss: 0.1693\n",
            "Epoch 9/10\n",
            "804/804 [==============================] - 313s 390ms/step - loss: 3.2458 - pi_loss: 3.0882 - v_loss: 0.1576\n",
            "Epoch 10/10\n",
            "804/804 [==============================] - 307s 382ms/step - loss: 3.1477 - pi_loss: 3.0026 - v_loss: 0.1451\n"
          ]
        },
        {
          "name": "stderr",
          "output_type": "stream",
          "text": [
            "2023-12-31 16:27:28 0193d9696948 Coach[129] INFO PITTING AGAINST PREVIOUS VERSION\n",
            "Arena.playGames (1): 100%|██████████| 10/10 [01:57<00:00, 11.75s/it]\n",
            "Arena.playGames (2): 100%|██████████| 10/10 [01:28<00:00,  8.80s/it]\n",
            "2023-12-31 16:30:54 0193d9696948 Coach[129] INFO NEW/PREV WINS : 4 / 16 ; DRAWS : 0\n",
            "2023-12-31 16:30:54 0193d9696948 Coach[129] INFO REJECTING NEW MODEL\n",
            "2023-12-31 16:30:56 0193d9696948 Coach[129] INFO Starting Iter #4 ...\n",
            "Self Play: 100%|██████████| 15/15 [07:47<00:00, 31.18s/it]\n",
            "2023-12-31 16:38:44 0193d9696948 Coach[129] WARNING Removing the oldest entry in trainExamples. len(trainExamplesHistory) = 21\n"
          ]
        },
        {
          "name": "stdout",
          "output_type": "stream",
          "text": [
            "Checkpoint Directory exists! \n",
            "Epoch 1/10\n",
            "800/800 [==============================] - 295s 366ms/step - loss: 4.8460 - pi_loss: 3.9689 - v_loss: 0.8771\n",
            "Epoch 2/10\n",
            "800/800 [==============================] - 293s 366ms/step - loss: 4.1960 - pi_loss: 3.7187 - v_loss: 0.4772\n",
            "Epoch 3/10\n",
            "800/800 [==============================] - 295s 369ms/step - loss: 3.9366 - pi_loss: 3.5979 - v_loss: 0.3387\n",
            "Epoch 4/10\n",
            "800/800 [==============================] - 294s 367ms/step - loss: 3.7841 - pi_loss: 3.5092 - v_loss: 0.2749\n",
            "Epoch 5/10\n",
            "800/800 [==============================] - 295s 369ms/step - loss: 3.6608 - pi_loss: 3.4261 - v_loss: 0.2347\n",
            "Epoch 6/10\n",
            "800/800 [==============================] - 297s 371ms/step - loss: 3.5559 - pi_loss: 3.3488 - v_loss: 0.2071\n",
            "Epoch 7/10\n",
            "800/800 [==============================] - 300s 376ms/step - loss: 3.4500 - pi_loss: 3.2649 - v_loss: 0.1851\n",
            "Epoch 8/10\n",
            "800/800 [==============================] - 300s 375ms/step - loss: 3.3583 - pi_loss: 3.1881 - v_loss: 0.1703\n",
            "Epoch 9/10\n",
            "800/800 [==============================] - 299s 374ms/step - loss: 3.2573 - pi_loss: 3.1032 - v_loss: 0.1541\n",
            "Epoch 10/10\n",
            "800/800 [==============================] - 300s 375ms/step - loss: 3.1599 - pi_loss: 3.0158 - v_loss: 0.1441\n"
          ]
        },
        {
          "name": "stderr",
          "output_type": "stream",
          "text": [
            "2023-12-31 17:29:32 0193d9696948 Coach[129] INFO PITTING AGAINST PREVIOUS VERSION\n",
            "Arena.playGames (1): 100%|██████████| 10/10 [02:57<00:00, 17.74s/it]\n",
            "Arena.playGames (2): 100%|██████████| 10/10 [01:34<00:00,  9.43s/it]\n",
            "2023-12-31 17:34:04 0193d9696948 Coach[129] INFO NEW/PREV WINS : 4 / 16 ; DRAWS : 0\n",
            "2023-12-31 17:34:04 0193d9696948 Coach[129] INFO REJECTING NEW MODEL\n",
            "2023-12-31 17:34:05 0193d9696948 Coach[129] INFO Starting Iter #5 ...\n",
            "Self Play: 100%|██████████| 15/15 [12:47<00:00, 51.15s/it]\n",
            "2023-12-31 17:46:53 0193d9696948 Coach[129] WARNING Removing the oldest entry in trainExamples. len(trainExamplesHistory) = 21\n"
          ]
        },
        {
          "name": "stdout",
          "output_type": "stream",
          "text": [
            "Checkpoint Directory exists! \n",
            "Epoch 1/10\n",
            "793/793 [==============================] - 308s 386ms/step - loss: 4.8712 - pi_loss: 3.9717 - v_loss: 0.8995\n",
            "Epoch 2/10\n",
            "793/793 [==============================] - 310s 391ms/step - loss: 4.2016 - pi_loss: 3.7153 - v_loss: 0.4864\n",
            "Epoch 3/10\n",
            "793/793 [==============================] - 310s 391ms/step - loss: 3.9387 - pi_loss: 3.6022 - v_loss: 0.3365\n",
            "Epoch 4/10\n",
            "793/793 [==============================] - 318s 401ms/step - loss: 3.7756 - pi_loss: 3.5100 - v_loss: 0.2656\n",
            "Epoch 5/10\n",
            "793/793 [==============================] - 311s 392ms/step - loss: 3.6617 - pi_loss: 3.4341 - v_loss: 0.2277\n",
            "Epoch 6/10\n",
            "793/793 [==============================] - 318s 402ms/step - loss: 3.5525 - pi_loss: 3.3510 - v_loss: 0.2015\n",
            "Epoch 7/10\n",
            "793/793 [==============================] - 313s 394ms/step - loss: 3.4543 - pi_loss: 3.2758 - v_loss: 0.1785\n",
            "Epoch 8/10\n",
            "793/793 [==============================] - 314s 396ms/step - loss: 3.3598 - pi_loss: 3.1994 - v_loss: 0.1603\n",
            "Epoch 9/10\n",
            "793/793 [==============================] - 309s 389ms/step - loss: 3.2641 - pi_loss: 3.1153 - v_loss: 0.1488\n",
            "Epoch 10/10\n",
            "793/793 [==============================] - 311s 392ms/step - loss: 3.1688 - pi_loss: 3.0305 - v_loss: 0.1383\n"
          ]
        },
        {
          "name": "stderr",
          "output_type": "stream",
          "text": [
            "2023-12-31 18:39:39 0193d9696948 Coach[129] INFO PITTING AGAINST PREVIOUS VERSION\n",
            "Arena.playGames (1): 100%|██████████| 10/10 [04:49<00:00, 29.00s/it]\n",
            "Arena.playGames (2): 100%|██████████| 10/10 [03:36<00:00, 21.67s/it]\n",
            "2023-12-31 18:48:06 0193d9696948 Coach[129] INFO NEW/PREV WINS : 3 / 17 ; DRAWS : 0\n",
            "2023-12-31 18:48:06 0193d9696948 Coach[129] INFO REJECTING NEW MODEL\n",
            "2023-12-31 18:48:08 0193d9696948 Coach[129] INFO Starting Iter #6 ...\n",
            "Self Play: 100%|██████████| 15/15 [10:04<00:00, 40.33s/it]\n",
            "2023-12-31 18:58:13 0193d9696948 Coach[129] WARNING Removing the oldest entry in trainExamples. len(trainExamplesHistory) = 21\n"
          ]
        },
        {
          "name": "stdout",
          "output_type": "stream",
          "text": [
            "Checkpoint Directory exists! \n",
            "Epoch 1/10\n",
            "804/804 [==============================] - 328s 405ms/step - loss: 4.8659 - pi_loss: 3.9648 - v_loss: 0.9010\n",
            "Epoch 2/10\n",
            "804/804 [==============================] - 321s 399ms/step - loss: 4.2001 - pi_loss: 3.7064 - v_loss: 0.4937\n",
            "Epoch 3/10\n",
            "804/804 [==============================] - 330s 411ms/step - loss: 3.9367 - pi_loss: 3.5905 - v_loss: 0.3461\n",
            "Epoch 4/10\n",
            "804/804 [==============================] - 325s 404ms/step - loss: 3.7732 - pi_loss: 3.4997 - v_loss: 0.2734\n",
            "Epoch 5/10\n",
            "804/804 [==============================] - 323s 401ms/step - loss: 3.6527 - pi_loss: 3.4191 - v_loss: 0.2336\n",
            "Epoch 6/10\n",
            "804/804 [==============================] - 323s 402ms/step - loss: 3.5491 - pi_loss: 3.3441 - v_loss: 0.2050\n",
            "Epoch 7/10\n",
            "804/804 [==============================] - 319s 397ms/step - loss: 3.4490 - pi_loss: 3.2643 - v_loss: 0.1847\n",
            "Epoch 8/10\n",
            "804/804 [==============================] - 310s 385ms/step - loss: 3.3494 - pi_loss: 3.1813 - v_loss: 0.1682\n",
            "Epoch 9/10\n",
            "804/804 [==============================] - 322s 401ms/step - loss: 3.2488 - pi_loss: 3.0984 - v_loss: 0.1504\n",
            "Epoch 10/10\n",
            "804/804 [==============================] - 313s 389ms/step - loss: 3.1544 - pi_loss: 3.0128 - v_loss: 0.1416\n"
          ]
        },
        {
          "name": "stderr",
          "output_type": "stream",
          "text": [
            "2023-12-31 19:52:08 0193d9696948 Coach[129] INFO PITTING AGAINST PREVIOUS VERSION\n",
            "Arena.playGames (1): 100%|██████████| 10/10 [03:31<00:00, 21.19s/it]\n",
            "Arena.playGames (2): 100%|██████████| 10/10 [03:54<00:00, 23.48s/it]\n",
            "2023-12-31 19:59:35 0193d9696948 Coach[129] INFO NEW/PREV WINS : 4 / 16 ; DRAWS : 0\n",
            "2023-12-31 19:59:35 0193d9696948 Coach[129] INFO REJECTING NEW MODEL\n",
            "2023-12-31 19:59:37 0193d9696948 Coach[129] INFO Starting Iter #7 ...\n",
            "Self Play: 100%|██████████| 15/15 [11:03<00:00, 44.21s/it]\n",
            "2023-12-31 20:10:40 0193d9696948 Coach[129] WARNING Removing the oldest entry in trainExamples. len(trainExamplesHistory) = 21\n"
          ]
        },
        {
          "name": "stdout",
          "output_type": "stream",
          "text": [
            "Checkpoint Directory exists! \n",
            "Epoch 1/10\n",
            "805/805 [==============================] - 320s 395ms/step - loss: 4.8485 - pi_loss: 3.9575 - v_loss: 0.8910\n",
            "Epoch 2/10\n",
            "805/805 [==============================] - 312s 388ms/step - loss: 4.1928 - pi_loss: 3.7004 - v_loss: 0.4924\n",
            "Epoch 3/10\n",
            "805/805 [==============================] - 316s 393ms/step - loss: 3.9261 - pi_loss: 3.5786 - v_loss: 0.3475\n",
            "Epoch 4/10\n",
            "805/805 [==============================] - 315s 392ms/step - loss: 3.7673 - pi_loss: 3.4902 - v_loss: 0.2771\n",
            "Epoch 5/10\n",
            "805/805 [==============================] - 310s 386ms/step - loss: 3.6472 - pi_loss: 3.4124 - v_loss: 0.2348\n",
            "Epoch 6/10\n",
            "805/805 [==============================] - 313s 389ms/step - loss: 3.5431 - pi_loss: 3.3365 - v_loss: 0.2066\n",
            "Epoch 7/10\n",
            "805/805 [==============================] - 317s 394ms/step - loss: 3.4300 - pi_loss: 3.2482 - v_loss: 0.1818\n",
            "Epoch 8/10\n",
            "805/805 [==============================] - 311s 387ms/step - loss: 3.3343 - pi_loss: 3.1678 - v_loss: 0.1665\n",
            "Epoch 9/10\n",
            "805/805 [==============================] - 314s 390ms/step - loss: 3.2380 - pi_loss: 3.0846 - v_loss: 0.1534\n",
            "Epoch 10/10\n",
            "805/805 [==============================] - 315s 392ms/step - loss: 3.1427 - pi_loss: 3.0010 - v_loss: 0.1417\n"
          ]
        },
        {
          "name": "stderr",
          "output_type": "stream",
          "text": [
            "2023-12-31 21:04:26 0193d9696948 Coach[129] INFO PITTING AGAINST PREVIOUS VERSION\n",
            "Arena.playGames (1): 100%|██████████| 10/10 [02:52<00:00, 17.22s/it]\n",
            "Arena.playGames (2): 100%|██████████| 10/10 [01:52<00:00, 11.26s/it]\n",
            "2023-12-31 21:09:11 0193d9696948 Coach[129] INFO NEW/PREV WINS : 5 / 15 ; DRAWS : 0\n",
            "2023-12-31 21:09:11 0193d9696948 Coach[129] INFO REJECTING NEW MODEL\n",
            "2023-12-31 21:09:14 0193d9696948 Coach[129] INFO Starting Iter #8 ...\n",
            "Self Play: 100%|██████████| 15/15 [07:40<00:00, 30.71s/it]\n",
            "2023-12-31 21:16:54 0193d9696948 Coach[129] WARNING Removing the oldest entry in trainExamples. len(trainExamplesHistory) = 21\n"
          ]
        },
        {
          "name": "stdout",
          "output_type": "stream",
          "text": [
            "Checkpoint Directory exists! \n",
            "Epoch 1/10\n",
            "794/794 [==============================] - 293s 366ms/step - loss: 4.8552 - pi_loss: 3.9559 - v_loss: 0.8992\n",
            "Epoch 2/10\n",
            "794/794 [==============================] - 291s 367ms/step - loss: 4.1807 - pi_loss: 3.6981 - v_loss: 0.4826\n",
            "Epoch 3/10\n",
            "794/794 [==============================] - 303s 382ms/step - loss: 3.9210 - pi_loss: 3.5786 - v_loss: 0.3424\n",
            "Epoch 4/10\n",
            "794/794 [==============================] - 292s 368ms/step - loss: 3.7693 - pi_loss: 3.4882 - v_loss: 0.2811\n",
            "Epoch 5/10\n",
            "794/794 [==============================] - 296s 373ms/step - loss: 3.6539 - pi_loss: 3.4145 - v_loss: 0.2395\n",
            "Epoch 6/10\n",
            "794/794 [==============================] - 295s 371ms/step - loss: 3.5388 - pi_loss: 3.3301 - v_loss: 0.2087\n",
            "Epoch 7/10\n",
            "794/794 [==============================] - 292s 368ms/step - loss: 3.4408 - pi_loss: 3.2538 - v_loss: 0.1870\n",
            "Epoch 8/10\n",
            "794/794 [==============================] - 297s 374ms/step - loss: 3.3341 - pi_loss: 3.1678 - v_loss: 0.1663\n",
            "Epoch 9/10\n",
            "794/794 [==============================] - 297s 374ms/step - loss: 3.2479 - pi_loss: 3.0878 - v_loss: 0.1601\n",
            "Epoch 10/10\n",
            "794/794 [==============================] - 304s 383ms/step - loss: 3.1457 - pi_loss: 3.0051 - v_loss: 0.1407\n"
          ]
        },
        {
          "name": "stderr",
          "output_type": "stream",
          "text": [
            "2023-12-31 22:06:42 0193d9696948 Coach[129] INFO PITTING AGAINST PREVIOUS VERSION\n",
            "Arena.playGames (1):  70%|███████   | 7/10 [05:13<02:05, 41.75s/it]"
          ]
        }
      ],
      "source": [
        "args = dotdict({\n",
        "    'numIters': 20,\n",
        "    'numEps': 15,              # Number of complete self-play games to simulate during a new iteration.\n",
        "    'tempThreshold': 15,        #\n",
        "    'updateThreshold': 0.6,     # During arena playoff, new neural net will be accepted if threshold or more of games are won.\n",
        "    'maxlenOfQueue': 100000,    # Number of game examples to train the neural networks.\n",
        "    'numMCTSSims': 25,          # Number of games moves for MCTS to simulate.\n",
        "    'arenaCompare': 20,         # Number of games to play during arena play to determine if new net will be accepted.\n",
        "    'cpuct': 1,\n",
        "\n",
        "    'checkpoint': '/content/drive/MyDrive/go_trabalho2_liacd/models/go/9x9',\n",
        "    'load_model': True,\n",
        "    'load_folder_file': ('/content/drive/MyDrive/go_trabalho2_liacd/models/go/9x9', 'best.h5'),\n",
        "    'numItersForTrainExamplesHistory': 20,\n",
        "\n",
        "})\n",
        "\n",
        "\n",
        "\n",
        "log.info('Loading %s...', Game.__name__)\n",
        "g = Game(9)\n",
        "\n",
        "log.info('Loading %s...', nn.__name__)\n",
        "nnet = nn(g)\n",
        "\n",
        "if args.load_model:\n",
        "    log.info('Loading checkpoint \"%s/%s\"...', args.load_folder_file[0], args.load_folder_file[1])\n",
        "    nnet.load_model(args.load_folder_file[0], args.load_folder_file[1])\n",
        "else:\n",
        "    log.warning('Not loading a checkpoint!')\n",
        "\n",
        "log.info('Loading the Coach...')\n",
        "c = Coach(g, nnet, args)\n",
        "\n",
        "if args.load_model:\n",
        "    log.info(\"Loading 'trainExamples' from file...\")\n",
        "    c.loadTrainExamples()\n",
        "\n",
        "log.info('Starting the learning process 🎉')\n",
        "c.learn()\n",
        "\n"
      ]
    },
    {
      "cell_type": "markdown",
      "metadata": {
        "id": "_Ex9vcV1lxmJ"
      },
      "source": [
        "#Sexto Treino"
      ]
    },
    {
      "cell_type": "code",
      "execution_count": null,
      "metadata": {
        "colab": {
          "background_save": true,
          "base_uri": "https://localhost:8080/"
        },
        "id": "1Ni9P0pDAEyz",
        "outputId": "3a230a4a-4f63-4cf5-a3f0-26b19360549f"
      },
      "outputs": [
        {
          "name": "stderr",
          "output_type": "stream",
          "text": [
            "2024-01-01 15:15:30 a9b152bd9976 __main__[364] INFO Loading GoGame...\n",
            "2024-01-01 15:15:30 a9b152bd9976 __main__[364] INFO Loading NNetWrapper...\n",
            "2024-01-01 15:15:30 a9b152bd9976 __main__[364] INFO Loading checkpoint \"/content/drive/MyDrive/go_trabalho2_liacd/models/go/9x9/best.h5\"...\n",
            "2024-01-01 15:15:31 a9b152bd9976 __main__[364] INFO Loading the Coach...\n",
            "2024-01-01 15:15:31 a9b152bd9976 __main__[364] INFO Loading 'trainExamples' from file...\n",
            "2024-01-01 15:15:31 a9b152bd9976 Coach[364] INFO File with trainExamples found. Loading it...\n",
            "2024-01-01 15:15:36 a9b152bd9976 Coach[364] INFO Loading done!\n",
            "2024-01-01 15:15:36 a9b152bd9976 __main__[364] INFO Starting the learning process 🎉\n",
            "2024-01-01 15:15:36 a9b152bd9976 Coach[364] INFO Starting Iter #1 ...\n"
          ]
        },
        {
          "name": "stdout",
          "output_type": "stream",
          "text": [
            "Checkpoint Directory exists! \n"
          ]
        },
        {
          "name": "stderr",
          "output_type": "stream",
          "text": [
            "/usr/local/lib/python3.10/dist-packages/keras/src/engine/training.py:3103: UserWarning: You are saving your model as an HDF5 file via `model.save()`. This file format is considered legacy. We recommend using instead the native Keras format, e.g. `model.save('my_model.keras')`.\n",
            "  saving_api.save_model(\n"
          ]
        },
        {
          "name": "stdout",
          "output_type": "stream",
          "text": [
            "Epoch 1/10\n",
            "791/791 [==============================] - 304s 382ms/step - loss: 4.8492 - pi_loss: 3.9485 - v_loss: 0.9008\n",
            "Epoch 2/10\n",
            "791/791 [==============================] - 296s 374ms/step - loss: 4.2088 - pi_loss: 3.7026 - v_loss: 0.5062\n",
            "Epoch 3/10\n",
            "791/791 [==============================] - 304s 385ms/step - loss: 3.9416 - pi_loss: 3.5823 - v_loss: 0.3593\n",
            "Epoch 4/10\n",
            "791/791 [==============================] - 316s 399ms/step - loss: 3.7777 - pi_loss: 3.4881 - v_loss: 0.2896\n",
            "Epoch 5/10\n",
            "791/791 [==============================] - 313s 395ms/step - loss: 3.6522 - pi_loss: 3.4109 - v_loss: 0.2414\n",
            "Epoch 6/10\n",
            "791/791 [==============================] - 306s 386ms/step - loss: 3.5407 - pi_loss: 3.3310 - v_loss: 0.2097\n",
            "Epoch 7/10\n",
            "791/791 [==============================] - 316s 400ms/step - loss: 3.4296 - pi_loss: 3.2460 - v_loss: 0.1836\n",
            "Epoch 8/10\n",
            "791/791 [==============================] - 304s 385ms/step - loss: 3.3358 - pi_loss: 3.1675 - v_loss: 0.1683\n",
            "Epoch 9/10\n",
            "791/791 [==============================] - 318s 402ms/step - loss: 3.2385 - pi_loss: 3.0831 - v_loss: 0.1554\n",
            "Epoch 10/10\n",
            "791/791 [==============================] - 307s 388ms/step - loss: 3.1471 - pi_loss: 3.0017 - v_loss: 0.1454\n"
          ]
        },
        {
          "name": "stderr",
          "output_type": "stream",
          "text": [
            "2024-01-01 16:07:18 a9b152bd9976 Coach[364] INFO PITTING AGAINST PREVIOUS VERSION\n",
            "Arena.playGames (1): 100%|██████████| 10/10 [04:09<00:00, 24.98s/it]\n",
            "Arena.playGames (2): 100%|██████████| 10/10 [03:35<00:00, 21.52s/it]\n",
            "2024-01-01 16:15:03 a9b152bd9976 Coach[364] INFO NEW/PREV WINS : 2 / 18 ; DRAWS : 0\n",
            "2024-01-01 16:15:03 a9b152bd9976 Coach[364] INFO REJECTING NEW MODEL\n",
            "2024-01-01 16:15:05 a9b152bd9976 Coach[364] INFO Starting Iter #2 ...\n",
            "Self Play: 100%|██████████| 15/15 [09:26<00:00, 37.76s/it]\n",
            "2024-01-01 16:24:31 a9b152bd9976 Coach[364] WARNING Removing the oldest entry in trainExamples. len(trainExamplesHistory) = 21\n"
          ]
        },
        {
          "name": "stdout",
          "output_type": "stream",
          "text": [
            "Checkpoint Directory exists! \n",
            "Epoch 1/10\n",
            "792/792 [==============================] - 310s 389ms/step - loss: 4.8298 - pi_loss: 3.9444 - v_loss: 0.8854\n",
            "Epoch 2/10\n",
            "792/792 [==============================] - 316s 399ms/step - loss: 4.2136 - pi_loss: 3.7050 - v_loss: 0.5087\n",
            "Epoch 3/10\n",
            "792/792 [==============================] - 309s 390ms/step - loss: 3.9406 - pi_loss: 3.5764 - v_loss: 0.3642\n",
            "Epoch 4/10\n",
            "792/792 [==============================] - 303s 383ms/step - loss: 3.7731 - pi_loss: 3.4882 - v_loss: 0.2849\n",
            "Epoch 5/10\n",
            "792/792 [==============================] - 308s 389ms/step - loss: 3.6513 - pi_loss: 3.4074 - v_loss: 0.2439\n",
            "Epoch 6/10\n",
            "792/792 [==============================] - 303s 383ms/step - loss: 3.5425 - pi_loss: 3.3302 - v_loss: 0.2123\n",
            "Epoch 7/10\n",
            "792/792 [==============================] - 307s 387ms/step - loss: 3.4449 - pi_loss: 3.2529 - v_loss: 0.1920\n",
            "Epoch 8/10\n",
            "792/792 [==============================] - 302s 382ms/step - loss: 3.3314 - pi_loss: 3.1618 - v_loss: 0.1696\n",
            "Epoch 9/10\n",
            "792/792 [==============================] - 314s 396ms/step - loss: 3.2376 - pi_loss: 3.0800 - v_loss: 0.1576\n",
            "Epoch 10/10\n",
            "792/792 [==============================] - 320s 404ms/step - loss: 3.1428 - pi_loss: 2.9969 - v_loss: 0.1459\n"
          ]
        },
        {
          "name": "stderr",
          "output_type": "stream",
          "text": [
            "2024-01-01 17:17:20 a9b152bd9976 Coach[364] INFO PITTING AGAINST PREVIOUS VERSION\n",
            "Arena.playGames (1): 100%|██████████| 10/10 [02:28<00:00, 14.81s/it]\n",
            "Arena.playGames (2): 100%|██████████| 10/10 [02:29<00:00, 14.96s/it]\n",
            "2024-01-01 17:22:18 a9b152bd9976 Coach[364] INFO NEW/PREV WINS : 6 / 14 ; DRAWS : 0\n",
            "2024-01-01 17:22:18 a9b152bd9976 Coach[364] INFO REJECTING NEW MODEL\n",
            "2024-01-01 17:22:20 a9b152bd9976 Coach[364] INFO Starting Iter #3 ...\n",
            "Self Play: 100%|██████████| 15/15 [09:23<00:00, 37.54s/it]\n",
            "2024-01-01 17:31:43 a9b152bd9976 Coach[364] WARNING Removing the oldest entry in trainExamples. len(trainExamplesHistory) = 21\n"
          ]
        },
        {
          "name": "stdout",
          "output_type": "stream",
          "text": [
            "Checkpoint Directory exists! \n",
            "Epoch 1/10\n",
            "788/788 [==============================] - 295s 373ms/step - loss: 4.7854 - pi_loss: 3.9202 - v_loss: 0.8652\n",
            "Epoch 2/10\n",
            "788/788 [==============================] - 292s 371ms/step - loss: 4.1554 - pi_loss: 3.6739 - v_loss: 0.4816\n",
            "Epoch 3/10\n",
            "788/788 [==============================] - 307s 390ms/step - loss: 3.9074 - pi_loss: 3.5597 - v_loss: 0.3477\n",
            "Epoch 4/10\n",
            "788/788 [==============================] - 298s 378ms/step - loss: 3.7571 - pi_loss: 3.4709 - v_loss: 0.2862\n",
            "Epoch 5/10\n",
            "788/788 [==============================] - 308s 391ms/step - loss: 3.6339 - pi_loss: 3.3937 - v_loss: 0.2402\n",
            "Epoch 6/10\n",
            "788/788 [==============================] - 297s 377ms/step - loss: 3.5263 - pi_loss: 3.3190 - v_loss: 0.2073\n",
            "Epoch 7/10\n",
            "788/788 [==============================] - 307s 390ms/step - loss: 3.4231 - pi_loss: 3.2378 - v_loss: 0.1852\n",
            "Epoch 8/10\n",
            "788/788 [==============================] - 297s 377ms/step - loss: 3.3269 - pi_loss: 3.1583 - v_loss: 0.1685\n",
            "Epoch 9/10\n",
            "788/788 [==============================] - 309s 392ms/step - loss: 3.2317 - pi_loss: 3.0784 - v_loss: 0.1534\n",
            "Epoch 10/10\n",
            "788/788 [==============================] - 298s 378ms/step - loss: 3.1366 - pi_loss: 2.9941 - v_loss: 0.1425\n"
          ]
        },
        {
          "name": "stderr",
          "output_type": "stream",
          "text": [
            "2024-01-01 18:22:26 a9b152bd9976 Coach[364] INFO PITTING AGAINST PREVIOUS VERSION\n",
            "Arena.playGames (1): 100%|██████████| 10/10 [00:52<00:00,  5.28s/it]\n",
            "Arena.playGames (2): 100%|██████████| 10/10 [01:03<00:00,  6.39s/it]\n",
            "2024-01-01 18:24:23 a9b152bd9976 Coach[364] INFO NEW/PREV WINS : 8 / 12 ; DRAWS : 0\n",
            "2024-01-01 18:24:23 a9b152bd9976 Coach[364] INFO REJECTING NEW MODEL\n",
            "2024-01-01 18:24:26 a9b152bd9976 Coach[364] INFO Starting Iter #4 ...\n",
            "Self Play: 100%|██████████| 15/15 [09:45<00:00, 39.04s/it]\n",
            "2024-01-01 18:34:11 a9b152bd9976 Coach[364] WARNING Removing the oldest entry in trainExamples. len(trainExamplesHistory) = 21\n"
          ]
        },
        {
          "name": "stdout",
          "output_type": "stream",
          "text": [
            "Checkpoint Directory exists! \n",
            "Epoch 1/10\n",
            "784/784 [==============================] - 292s 371ms/step - loss: 4.8051 - pi_loss: 3.9274 - v_loss: 0.8777\n",
            "Epoch 2/10\n",
            "784/784 [==============================] - 290s 370ms/step - loss: 4.1898 - pi_loss: 3.6899 - v_loss: 0.4999\n",
            "Epoch 3/10\n",
            "784/784 [==============================] - 292s 373ms/step - loss: 3.9353 - pi_loss: 3.5738 - v_loss: 0.3614\n",
            "Epoch 4/10\n",
            "784/784 [==============================] - 292s 372ms/step - loss: 3.7785 - pi_loss: 3.4877 - v_loss: 0.2908\n",
            "Epoch 5/10\n",
            "784/784 [==============================] - 289s 369ms/step - loss: 3.6555 - pi_loss: 3.4085 - v_loss: 0.2470\n",
            "Epoch 6/10\n",
            "784/784 [==============================] - 292s 373ms/step - loss: 3.5482 - pi_loss: 3.3335 - v_loss: 0.2146\n",
            "Epoch 7/10\n",
            "784/784 [==============================] - 291s 371ms/step - loss: 3.4499 - pi_loss: 3.2553 - v_loss: 0.1945\n",
            "Epoch 8/10\n",
            "784/784 [==============================] - 292s 373ms/step - loss: 3.3434 - pi_loss: 3.1736 - v_loss: 0.1698\n",
            "Epoch 9/10\n",
            "784/784 [==============================] - 291s 370ms/step - loss: 3.2480 - pi_loss: 3.0891 - v_loss: 0.1589\n",
            "Epoch 10/10\n",
            "784/784 [==============================] - 293s 374ms/step - loss: 3.1578 - pi_loss: 3.0089 - v_loss: 0.1489\n"
          ]
        },
        {
          "name": "stderr",
          "output_type": "stream",
          "text": [
            "2024-01-01 19:23:06 a9b152bd9976 Coach[364] INFO PITTING AGAINST PREVIOUS VERSION\n",
            "Arena.playGames (1): 100%|██████████| 10/10 [02:22<00:00, 14.27s/it]\n",
            "Arena.playGames (2): 100%|██████████| 10/10 [02:31<00:00, 15.11s/it]\n",
            "2024-01-01 19:28:00 a9b152bd9976 Coach[364] INFO NEW/PREV WINS : 6 / 14 ; DRAWS : 0\n",
            "2024-01-01 19:28:00 a9b152bd9976 Coach[364] INFO REJECTING NEW MODEL\n",
            "2024-01-01 19:28:02 a9b152bd9976 Coach[364] INFO Starting Iter #5 ...\n",
            "Self Play: 100%|██████████| 15/15 [08:10<00:00, 32.69s/it]\n",
            "2024-01-01 19:36:12 a9b152bd9976 Coach[364] WARNING Removing the oldest entry in trainExamples. len(trainExamplesHistory) = 21\n"
          ]
        },
        {
          "name": "stdout",
          "output_type": "stream",
          "text": [
            "Checkpoint Directory exists! \n",
            "Epoch 1/10\n",
            "787/787 [==============================] - 294s 371ms/step - loss: 4.7942 - pi_loss: 3.9351 - v_loss: 0.8591\n",
            "Epoch 2/10\n",
            "787/787 [==============================] - 289s 368ms/step - loss: 4.1653 - pi_loss: 3.6882 - v_loss: 0.4772\n",
            "Epoch 3/10\n",
            "787/787 [==============================] - 308s 391ms/step - loss: 3.9150 - pi_loss: 3.5704 - v_loss: 0.3446\n",
            "Epoch 4/10\n",
            "787/787 [==============================] - 296s 376ms/step - loss: 3.7595 - pi_loss: 3.4838 - v_loss: 0.2757\n",
            "Epoch 5/10\n",
            "787/787 [==============================] - 298s 379ms/step - loss: 3.6425 - pi_loss: 3.4070 - v_loss: 0.2355\n",
            "Epoch 6/10\n",
            "787/787 [==============================] - 296s 376ms/step - loss: 3.5313 - pi_loss: 3.3298 - v_loss: 0.2015\n",
            "Epoch 7/10\n",
            "787/787 [==============================] - 298s 378ms/step - loss: 3.4367 - pi_loss: 3.2508 - v_loss: 0.1858\n",
            "Epoch 8/10\n",
            "787/787 [==============================] - 297s 377ms/step - loss: 3.3329 - pi_loss: 3.1700 - v_loss: 0.1628\n",
            "Epoch 9/10\n",
            "787/787 [==============================] - 295s 374ms/step - loss: 3.2393 - pi_loss: 3.0864 - v_loss: 0.1529\n",
            "Epoch 10/10\n",
            "787/787 [==============================] - 298s 379ms/step - loss: 3.1492 - pi_loss: 3.0063 - v_loss: 0.1429\n"
          ]
        },
        {
          "name": "stderr",
          "output_type": "stream",
          "text": [
            "2024-01-01 20:25:59 a9b152bd9976 Coach[364] INFO PITTING AGAINST PREVIOUS VERSION\n",
            "Arena.playGames (1): 100%|██████████| 10/10 [01:48<00:00, 10.86s/it]\n",
            "Arena.playGames (2): 100%|██████████| 10/10 [02:53<00:00, 17.38s/it]\n",
            "2024-01-01 20:30:42 a9b152bd9976 Coach[364] INFO NEW/PREV WINS : 6 / 14 ; DRAWS : 0\n",
            "2024-01-01 20:30:42 a9b152bd9976 Coach[364] INFO REJECTING NEW MODEL\n",
            "2024-01-01 20:30:44 a9b152bd9976 Coach[364] INFO Starting Iter #6 ...\n",
            "Self Play: 100%|██████████| 15/15 [10:06<00:00, 40.46s/it]\n",
            "2024-01-01 20:40:51 a9b152bd9976 Coach[364] WARNING Removing the oldest entry in trainExamples. len(trainExamplesHistory) = 21\n"
          ]
        },
        {
          "name": "stdout",
          "output_type": "stream",
          "text": [
            "Checkpoint Directory exists! \n",
            "Epoch 1/10\n",
            "778/778 [==============================] - 293s 375ms/step - loss: 4.8034 - pi_loss: 3.9478 - v_loss: 0.8556\n",
            "Epoch 2/10\n",
            "778/778 [==============================] - 300s 386ms/step - loss: 4.1720 - pi_loss: 3.6922 - v_loss: 0.4798\n",
            "Epoch 3/10\n",
            "778/778 [==============================] - 295s 380ms/step - loss: 3.9198 - pi_loss: 3.5773 - v_loss: 0.3425\n",
            "Epoch 4/10\n",
            "778/778 [==============================] - 294s 377ms/step - loss: 3.7683 - pi_loss: 3.4867 - v_loss: 0.2816\n",
            "Epoch 5/10\n",
            "778/778 [==============================] - 295s 379ms/step - loss: 3.6445 - pi_loss: 3.4110 - v_loss: 0.2336\n",
            "Epoch 6/10\n",
            "778/778 [==============================] - 293s 377ms/step - loss: 3.5416 - pi_loss: 3.3368 - v_loss: 0.2047\n",
            "Epoch 7/10\n",
            "778/778 [==============================] - 293s 376ms/step - loss: 3.4473 - pi_loss: 3.2584 - v_loss: 0.1889\n",
            "Epoch 8/10\n",
            "778/778 [==============================] - 294s 378ms/step - loss: 3.3475 - pi_loss: 3.1804 - v_loss: 0.1670\n",
            "Epoch 9/10\n",
            "778/778 [==============================] - 290s 372ms/step - loss: 3.2492 - pi_loss: 3.0955 - v_loss: 0.1538\n",
            "Epoch 10/10\n",
            "778/778 [==============================] - 293s 376ms/step - loss: 3.1678 - pi_loss: 3.0208 - v_loss: 0.1469\n"
          ]
        },
        {
          "name": "stderr",
          "output_type": "stream",
          "text": [
            "2024-01-01 21:30:11 a9b152bd9976 Coach[364] INFO PITTING AGAINST PREVIOUS VERSION\n",
            "Arena.playGames (1): 100%|██████████| 10/10 [02:52<00:00, 17.29s/it]\n",
            "Arena.playGames (2): 100%|██████████| 10/10 [01:31<00:00,  9.17s/it]\n",
            "2024-01-01 21:34:35 a9b152bd9976 Coach[364] INFO NEW/PREV WINS : 8 / 12 ; DRAWS : 0\n",
            "2024-01-01 21:34:35 a9b152bd9976 Coach[364] INFO REJECTING NEW MODEL\n",
            "2024-01-01 21:34:37 a9b152bd9976 Coach[364] INFO Starting Iter #7 ...\n",
            "Self Play: 100%|██████████| 15/15 [10:15<00:00, 41.04s/it]\n",
            "2024-01-01 21:44:53 a9b152bd9976 Coach[364] WARNING Removing the oldest entry in trainExamples. len(trainExamplesHistory) = 21\n"
          ]
        },
        {
          "name": "stdout",
          "output_type": "stream",
          "text": [
            "Checkpoint Directory exists! \n",
            "Epoch 1/10\n",
            "786/786 [==============================] - 294s 373ms/step - loss: 4.7968 - pi_loss: 3.9298 - v_loss: 0.8669\n",
            "Epoch 2/10\n",
            "786/786 [==============================] - 294s 374ms/step - loss: 4.1587 - pi_loss: 3.6764 - v_loss: 0.4823\n",
            "Epoch 3/10\n",
            "786/786 [==============================] - 291s 369ms/step - loss: 3.9058 - pi_loss: 3.5584 - v_loss: 0.3474\n",
            "Epoch 4/10\n",
            "786/786 [==============================] - 295s 375ms/step - loss: 3.7550 - pi_loss: 3.4707 - v_loss: 0.2842\n",
            "Epoch 5/10\n",
            "786/786 [==============================] - 294s 374ms/step - loss: 3.6375 - pi_loss: 3.3963 - v_loss: 0.2413\n",
            "Epoch 6/10\n",
            "786/786 [==============================] - 290s 369ms/step - loss: 3.5409 - pi_loss: 3.3243 - v_loss: 0.2166\n",
            "Epoch 7/10\n",
            "786/786 [==============================] - 294s 374ms/step - loss: 3.4350 - pi_loss: 3.2441 - v_loss: 0.1909\n",
            "Epoch 8/10\n",
            "786/786 [==============================] - 292s 372ms/step - loss: 3.3369 - pi_loss: 3.1608 - v_loss: 0.1760\n",
            "Epoch 9/10\n",
            "786/786 [==============================] - 292s 372ms/step - loss: 3.2466 - pi_loss: 3.0829 - v_loss: 0.1637\n",
            "Epoch 10/10\n",
            "786/786 [==============================] - 295s 375ms/step - loss: 3.1578 - pi_loss: 3.0034 - v_loss: 0.1543\n"
          ]
        },
        {
          "name": "stderr",
          "output_type": "stream",
          "text": [
            "2024-01-01 22:34:42 a9b152bd9976 Coach[364] INFO PITTING AGAINST PREVIOUS VERSION\n",
            "Arena.playGames (1): 100%|██████████| 10/10 [01:44<00:00, 10.44s/it]\n",
            "Arena.playGames (2): 100%|██████████| 10/10 [02:59<00:00, 17.98s/it]\n",
            "2024-01-01 22:39:26 a9b152bd9976 Coach[364] INFO NEW/PREV WINS : 5 / 15 ; DRAWS : 0\n",
            "2024-01-01 22:39:26 a9b152bd9976 Coach[364] INFO REJECTING NEW MODEL\n",
            "2024-01-01 22:39:28 a9b152bd9976 Coach[364] INFO Starting Iter #8 ...\n",
            "Self Play: 100%|██████████| 15/15 [11:26<00:00, 45.77s/it]\n",
            "2024-01-01 22:50:54 a9b152bd9976 Coach[364] WARNING Removing the oldest entry in trainExamples. len(trainExamplesHistory) = 21\n"
          ]
        },
        {
          "name": "stdout",
          "output_type": "stream",
          "text": [
            "Checkpoint Directory exists! \n",
            "Epoch 1/10\n",
            "796/796 [==============================] - 297s 372ms/step - loss: 4.7808 - pi_loss: 3.9346 - v_loss: 0.8462\n",
            "Epoch 2/10\n",
            "796/796 [==============================] - 295s 371ms/step - loss: 4.1547 - pi_loss: 3.6891 - v_loss: 0.4656\n",
            "Epoch 3/10\n",
            "796/796 [==============================] - 291s 365ms/step - loss: 3.9015 - pi_loss: 3.5695 - v_loss: 0.3320\n",
            "Epoch 4/10\n",
            "796/796 [==============================] - 288s 362ms/step - loss: 3.7518 - pi_loss: 3.4793 - v_loss: 0.2725\n",
            "Epoch 5/10\n",
            "796/796 [==============================] - 292s 367ms/step - loss: 3.6440 - pi_loss: 3.4056 - v_loss: 0.2383\n",
            "Epoch 6/10\n",
            "796/796 [==============================] - 291s 366ms/step - loss: 3.5378 - pi_loss: 3.3258 - v_loss: 0.2120\n",
            "Epoch 7/10\n",
            "796/796 [==============================] - 287s 361ms/step - loss: 3.4413 - pi_loss: 3.2502 - v_loss: 0.1911\n",
            "Epoch 8/10\n",
            "796/796 [==============================] - 292s 367ms/step - loss: 3.3428 - pi_loss: 3.1697 - v_loss: 0.1732\n",
            "Epoch 9/10\n",
            "796/796 [==============================] - 291s 365ms/step - loss: 3.2473 - pi_loss: 3.0893 - v_loss: 0.1580\n",
            "Epoch 10/10\n",
            "796/796 [==============================] - 289s 363ms/step - loss: 3.1516 - pi_loss: 3.0033 - v_loss: 0.1483\n"
          ]
        },
        {
          "name": "stderr",
          "output_type": "stream",
          "text": [
            "2024-01-01 23:40:39 a9b152bd9976 Coach[364] INFO PITTING AGAINST PREVIOUS VERSION\n",
            "Arena.playGames (1): 100%|██████████| 10/10 [02:02<00:00, 12.28s/it]\n",
            "Arena.playGames (2): 100%|██████████| 10/10 [02:14<00:00, 13.40s/it]\n",
            "2024-01-01 23:44:56 a9b152bd9976 Coach[364] INFO NEW/PREV WINS : 6 / 14 ; DRAWS : 0\n",
            "2024-01-01 23:44:56 a9b152bd9976 Coach[364] INFO REJECTING NEW MODEL\n",
            "2024-01-01 23:44:58 a9b152bd9976 Coach[364] INFO Starting Iter #9 ...\n",
            "Self Play: 100%|██████████| 15/15 [09:47<00:00, 39.14s/it]\n",
            "2024-01-01 23:54:45 a9b152bd9976 Coach[364] WARNING Removing the oldest entry in trainExamples. len(trainExamplesHistory) = 21\n"
          ]
        },
        {
          "name": "stdout",
          "output_type": "stream",
          "text": [
            "Checkpoint Directory exists! \n",
            "Epoch 1/10\n",
            "798/798 [==============================] - 294s 366ms/step - loss: 4.7762 - pi_loss: 3.9241 - v_loss: 0.8521\n",
            "Epoch 2/10\n",
            "798/798 [==============================] - 294s 369ms/step - loss: 4.1503 - pi_loss: 3.6757 - v_loss: 0.4746\n",
            "Epoch 3/10\n",
            "798/798 [==============================] - 305s 382ms/step - loss: 3.8971 - pi_loss: 3.5562 - v_loss: 0.3409\n",
            "Epoch 4/10\n",
            "798/798 [==============================] - 296s 371ms/step - loss: 3.7466 - pi_loss: 3.4707 - v_loss: 0.2759\n",
            "Epoch 5/10\n",
            "798/798 [==============================] - 298s 373ms/step - loss: 3.6255 - pi_loss: 3.3893 - v_loss: 0.2362\n",
            "Epoch 6/10\n",
            "798/798 [==============================] - 298s 373ms/step - loss: 3.5182 - pi_loss: 3.3104 - v_loss: 0.2078\n",
            "Epoch 7/10\n",
            "798/798 [==============================] - 298s 373ms/step - loss: 3.4164 - pi_loss: 3.2284 - v_loss: 0.1880\n",
            "Epoch 8/10\n",
            "798/798 [==============================] - 294s 369ms/step - loss: 3.3182 - pi_loss: 3.1465 - v_loss: 0.1717\n",
            "Epoch 9/10\n",
            "798/798 [==============================] - 297s 372ms/step - loss: 3.2293 - pi_loss: 3.0704 - v_loss: 0.1589\n",
            "Epoch 10/10\n",
            "798/798 [==============================] - 297s 373ms/step - loss: 3.1339 - pi_loss: 2.9857 - v_loss: 0.1482\n"
          ]
        },
        {
          "name": "stderr",
          "output_type": "stream",
          "text": [
            "2024-01-02 00:44:35 a9b152bd9976 Coach[364] INFO PITTING AGAINST PREVIOUS VERSION\n",
            "Arena.playGames (1): 100%|██████████| 10/10 [03:15<00:00, 19.58s/it]\n",
            "Arena.playGames (2): 100%|██████████| 10/10 [03:21<00:00, 20.18s/it]\n",
            "2024-01-02 00:51:12 a9b152bd9976 Coach[364] INFO NEW/PREV WINS : 8 / 12 ; DRAWS : 0\n",
            "2024-01-02 00:51:12 a9b152bd9976 Coach[364] INFO REJECTING NEW MODEL\n",
            "2024-01-02 00:51:14 a9b152bd9976 Coach[364] INFO Starting Iter #10 ...\n",
            "Self Play: 100%|██████████| 15/15 [07:53<00:00, 31.58s/it]\n",
            "2024-01-02 00:59:07 a9b152bd9976 Coach[364] WARNING Removing the oldest entry in trainExamples. len(trainExamplesHistory) = 21\n"
          ]
        },
        {
          "name": "stdout",
          "output_type": "stream",
          "text": [
            "Checkpoint Directory exists! \n",
            "Epoch 1/10\n",
            "795/795 [==============================] - 294s 369ms/step - loss: 4.7786 - pi_loss: 3.9287 - v_loss: 0.8499\n",
            "Epoch 2/10\n",
            "795/795 [==============================] - 293s 368ms/step - loss: 4.1441 - pi_loss: 3.6749 - v_loss: 0.4692\n",
            "Epoch 3/10\n",
            "795/795 [==============================] - 301s 379ms/step - loss: 3.8992 - pi_loss: 3.5599 - v_loss: 0.3392\n",
            "Epoch 4/10\n",
            "795/795 [==============================] - 293s 369ms/step - loss: 3.7433 - pi_loss: 3.4719 - v_loss: 0.2714\n",
            "Epoch 5/10\n",
            "795/795 [==============================] - 297s 374ms/step - loss: 3.6268 - pi_loss: 3.3951 - v_loss: 0.2317\n",
            "Epoch 6/10\n",
            "795/795 [==============================] - 301s 378ms/step - loss: 3.5262 - pi_loss: 3.3201 - v_loss: 0.2060\n",
            "Epoch 7/10\n",
            "795/795 [==============================] - 308s 387ms/step - loss: 3.4322 - pi_loss: 3.2438 - v_loss: 0.1884\n",
            "Epoch 8/10\n",
            "795/795 [==============================] - 312s 393ms/step - loss: 3.3322 - pi_loss: 3.1594 - v_loss: 0.1728\n",
            "Epoch 9/10\n",
            "795/795 [==============================] - 299s 376ms/step - loss: 3.2368 - pi_loss: 3.0784 - v_loss: 0.1585\n",
            "Epoch 10/10\n",
            "176/795 [=====>........................] - ETA: 4:11 - loss: 3.0452 - pi_loss: 2.9051 - v_loss: 0.1401"
          ]
        }
      ],
      "source": [
        "args = dotdict({\n",
        "    'numIters': 20,\n",
        "    'numEps': 15,              # Number of complete self-play games to simulate during a new iteration.\n",
        "    'tempThreshold': 15,        #\n",
        "    'updateThreshold': 0.6,     # During arena playoff, new neural net will be accepted if threshold or more of games are won.\n",
        "    'maxlenOfQueue': 100000,    # Number of game examples to train the neural networks.\n",
        "    'numMCTSSims': 25,          # Number of games moves for MCTS to simulate.\n",
        "    'arenaCompare': 20,         # Number of games to play during arena play to determine if new net will be accepted.\n",
        "    'cpuct': 1,\n",
        "\n",
        "    'checkpoint': '/content/drive/MyDrive/go_trabalho2_liacd/models/go/9x9',\n",
        "    'load_model': True,\n",
        "    'load_folder_file': ('/content/drive/MyDrive/go_trabalho2_liacd/models/go/9x9', 'best.h5'),\n",
        "    'numItersForTrainExamplesHistory': 20,\n",
        "\n",
        "})\n",
        "\n",
        "\n",
        "\n",
        "log.info('Loading %s...', Game.__name__)\n",
        "g = Game(9)\n",
        "\n",
        "log.info('Loading %s...', nn.__name__)\n",
        "nnet = nn(g)\n",
        "\n",
        "if args.load_model:\n",
        "    log.info('Loading checkpoint \"%s/%s\"...', args.load_folder_file[0], args.load_folder_file[1])\n",
        "    nnet.load_model(args.load_folder_file[0], args.load_folder_file[1])\n",
        "else:\n",
        "    log.warning('Not loading a checkpoint!')\n",
        "\n",
        "log.info('Loading the Coach...')\n",
        "c = Coach(g, nnet, args)\n",
        "\n",
        "if args.load_model:\n",
        "    log.info(\"Loading 'trainExamples' from file...\")\n",
        "    c.loadTrainExamples()\n",
        "\n",
        "log.info('Starting the learning process 🎉')\n",
        "c.learn()\n",
        "\n"
      ]
    },
    {
      "cell_type": "markdown",
      "metadata": {
        "id": "zI1e_46R-yvA"
      },
      "source": [
        "#Sétimo Treino"
      ]
    },
    {
      "cell_type": "code",
      "execution_count": null,
      "metadata": {
        "colab": {
          "background_save": true,
          "base_uri": "https://localhost:8080/"
        },
        "id": "GzJyyU-Cl1P5",
        "outputId": "3633cf13-4d0f-417f-f957-ca03d649ae28"
      },
      "outputs": [
        {
          "name": "stderr",
          "output_type": "stream",
          "text": [
            "2024-01-02 11:42:35 a41ae22bc5d2 __main__[180] INFO Loading GoGame...\n",
            "2024-01-02 11:42:35 a41ae22bc5d2 __main__[180] INFO Loading NNetWrapper...\n",
            "2024-01-02 11:42:36 a41ae22bc5d2 __main__[180] INFO Loading checkpoint \"/content/drive/MyDrive/go_trabalho2_liacd/models/go/9x9/best.h5\"...\n",
            "2024-01-02 11:42:38 a41ae22bc5d2 __main__[180] INFO Loading the Coach...\n",
            "2024-01-02 11:42:39 a41ae22bc5d2 __main__[180] INFO Loading 'trainExamples' from file...\n",
            "2024-01-02 11:42:39 a41ae22bc5d2 Coach[180] INFO File with trainExamples found. Loading it...\n",
            "2024-01-02 11:42:43 a41ae22bc5d2 Coach[180] INFO Loading done!\n",
            "2024-01-02 11:42:43 a41ae22bc5d2 __main__[180] INFO Starting the learning process 🎉\n",
            "2024-01-02 11:42:43 a41ae22bc5d2 Coach[180] INFO Starting Iter #1 ...\n"
          ]
        },
        {
          "name": "stdout",
          "output_type": "stream",
          "text": [
            "Checkpoint Directory exists! \n"
          ]
        },
        {
          "name": "stderr",
          "output_type": "stream",
          "text": [
            "/usr/local/lib/python3.10/dist-packages/keras/src/engine/training.py:3103: UserWarning: You are saving your model as an HDF5 file via `model.save()`. This file format is considered legacy. We recommend using instead the native Keras format, e.g. `model.save('my_model.keras')`.\n",
            "  saving_api.save_model(\n"
          ]
        },
        {
          "name": "stdout",
          "output_type": "stream",
          "text": [
            "Epoch 1/10\n",
            "795/795 [==============================] - 332s 416ms/step - loss: 4.7564 - pi_loss: 3.9315 - v_loss: 0.8249\n",
            "Epoch 2/10\n",
            "795/795 [==============================] - 319s 401ms/step - loss: 4.1546 - pi_loss: 3.6843 - v_loss: 0.4703\n",
            "Epoch 3/10\n",
            "795/795 [==============================] - 319s 402ms/step - loss: 3.9125 - pi_loss: 3.5699 - v_loss: 0.3425\n",
            "Epoch 4/10\n",
            "795/795 [==============================] - 311s 392ms/step - loss: 3.7534 - pi_loss: 3.4781 - v_loss: 0.2753\n",
            "Epoch 5/10\n",
            "795/795 [==============================] - 307s 386ms/step - loss: 3.6347 - pi_loss: 3.3988 - v_loss: 0.2359\n",
            "Epoch 6/10\n",
            "795/795 [==============================] - 307s 386ms/step - loss: 3.5319 - pi_loss: 3.3238 - v_loss: 0.2081\n",
            "Epoch 7/10\n",
            "795/795 [==============================] - 312s 393ms/step - loss: 3.4306 - pi_loss: 3.2421 - v_loss: 0.1886\n",
            "Epoch 8/10\n",
            "795/795 [==============================] - 309s 389ms/step - loss: 3.3322 - pi_loss: 3.1616 - v_loss: 0.1705\n",
            "Epoch 9/10\n",
            "795/795 [==============================] - 314s 395ms/step - loss: 3.2398 - pi_loss: 3.0800 - v_loss: 0.1598\n",
            "Epoch 10/10\n",
            "795/795 [==============================] - 310s 390ms/step - loss: 3.1550 - pi_loss: 3.0065 - v_loss: 0.1485\n"
          ]
        },
        {
          "name": "stderr",
          "output_type": "stream",
          "text": [
            "2024-01-02 12:35:25 a41ae22bc5d2 Coach[180] INFO PITTING AGAINST PREVIOUS VERSION\n",
            "Arena.playGames (1): 100%|██████████| 10/10 [03:35<00:00, 21.57s/it]\n",
            "Arena.playGames (2): 100%|██████████| 10/10 [02:07<00:00, 12.75s/it]\n",
            "2024-01-02 12:41:08 a41ae22bc5d2 Coach[180] INFO NEW/PREV WINS : 6 / 14 ; DRAWS : 0\n",
            "2024-01-02 12:41:08 a41ae22bc5d2 Coach[180] INFO REJECTING NEW MODEL\n",
            "2024-01-02 12:41:10 a41ae22bc5d2 Coach[180] INFO Starting Iter #2 ...\n",
            "Self Play: 100%|██████████| 15/15 [07:42<00:00, 30.84s/it]\n",
            "2024-01-02 12:48:53 a41ae22bc5d2 Coach[180] WARNING Removing the oldest entry in trainExamples. len(trainExamplesHistory) = 21\n"
          ]
        },
        {
          "name": "stdout",
          "output_type": "stream",
          "text": [
            "Checkpoint Directory exists! \n",
            "Epoch 1/10\n",
            "784/784 [==============================] - 305s 388ms/step - loss: 4.7733 - pi_loss: 3.9234 - v_loss: 0.8499\n",
            "Epoch 2/10\n",
            "784/784 [==============================] - 306s 390ms/step - loss: 4.1453 - pi_loss: 3.6764 - v_loss: 0.4689\n",
            "Epoch 3/10\n",
            "784/784 [==============================] - 310s 395ms/step - loss: 3.8921 - pi_loss: 3.5588 - v_loss: 0.3333\n",
            "Epoch 4/10\n",
            "784/784 [==============================] - 319s 406ms/step - loss: 3.7425 - pi_loss: 3.4746 - v_loss: 0.2679\n",
            "Epoch 5/10\n",
            "784/784 [==============================] - 314s 400ms/step - loss: 3.6267 - pi_loss: 3.3951 - v_loss: 0.2315\n",
            "Epoch 6/10\n",
            "784/784 [==============================] - 315s 402ms/step - loss: 3.5174 - pi_loss: 3.3194 - v_loss: 0.1980\n",
            "Epoch 7/10\n",
            "784/784 [==============================] - 319s 406ms/step - loss: 3.4249 - pi_loss: 3.2445 - v_loss: 0.1804\n",
            "Epoch 8/10\n",
            "784/784 [==============================] - 314s 401ms/step - loss: 3.3199 - pi_loss: 3.1576 - v_loss: 0.1623\n",
            "Epoch 9/10\n",
            "784/784 [==============================] - 313s 400ms/step - loss: 3.2365 - pi_loss: 3.0821 - v_loss: 0.1544\n",
            "Epoch 10/10\n",
            "784/784 [==============================] - 318s 405ms/step - loss: 3.1526 - pi_loss: 3.0071 - v_loss: 0.1455\n"
          ]
        },
        {
          "name": "stderr",
          "output_type": "stream",
          "text": [
            "2024-01-02 13:41:42 a41ae22bc5d2 Coach[180] INFO PITTING AGAINST PREVIOUS VERSION\n",
            "Arena.playGames (1): 100%|██████████| 10/10 [04:07<00:00, 24.73s/it]\n",
            "Arena.playGames (2): 100%|██████████| 10/10 [02:52<00:00, 17.24s/it]\n",
            "2024-01-02 13:48:41 a41ae22bc5d2 Coach[180] INFO NEW/PREV WINS : 1 / 19 ; DRAWS : 0\n",
            "2024-01-02 13:48:41 a41ae22bc5d2 Coach[180] INFO REJECTING NEW MODEL\n",
            "2024-01-02 13:48:43 a41ae22bc5d2 Coach[180] INFO Starting Iter #3 ...\n",
            "Self Play: 100%|██████████| 15/15 [08:34<00:00, 34.31s/it]\n",
            "2024-01-02 13:57:18 a41ae22bc5d2 Coach[180] WARNING Removing the oldest entry in trainExamples. len(trainExamplesHistory) = 21\n"
          ]
        },
        {
          "name": "stdout",
          "output_type": "stream",
          "text": [
            "Checkpoint Directory exists! \n",
            "Epoch 1/10\n",
            "775/775 [==============================] - 325s 416ms/step - loss: 4.7735 - pi_loss: 3.9160 - v_loss: 0.8574\n",
            "Epoch 2/10\n",
            "775/775 [==============================] - 320s 413ms/step - loss: 4.1592 - pi_loss: 3.6713 - v_loss: 0.4879\n",
            "Epoch 3/10\n",
            "775/775 [==============================] - 324s 419ms/step - loss: 3.8910 - pi_loss: 3.5491 - v_loss: 0.3420\n",
            "Epoch 4/10\n",
            "775/775 [==============================] - 319s 412ms/step - loss: 3.7433 - pi_loss: 3.4610 - v_loss: 0.2823\n",
            "Epoch 5/10\n",
            "775/775 [==============================] - 321s 414ms/step - loss: 3.6186 - pi_loss: 3.3840 - v_loss: 0.2346\n",
            "Epoch 6/10\n",
            "775/775 [==============================] - 325s 419ms/step - loss: 3.5236 - pi_loss: 3.3119 - v_loss: 0.2117\n",
            "Epoch 7/10\n",
            "775/775 [==============================] - 319s 412ms/step - loss: 3.4191 - pi_loss: 3.2377 - v_loss: 0.1814\n",
            "Epoch 8/10\n",
            "775/775 [==============================] - 320s 413ms/step - loss: 3.3237 - pi_loss: 3.1532 - v_loss: 0.1706\n",
            "Epoch 9/10\n",
            "775/775 [==============================] - 322s 416ms/step - loss: 3.2345 - pi_loss: 3.0768 - v_loss: 0.1578\n",
            "Epoch 10/10\n",
            "775/775 [==============================] - 324s 418ms/step - loss: 3.1446 - pi_loss: 2.9989 - v_loss: 0.1457\n"
          ]
        },
        {
          "name": "stderr",
          "output_type": "stream",
          "text": [
            "2024-01-02 14:52:03 a41ae22bc5d2 Coach[180] INFO PITTING AGAINST PREVIOUS VERSION\n",
            "Arena.playGames (1): 100%|██████████| 10/10 [02:06<00:00, 12.63s/it]\n",
            "Arena.playGames (2): 100%|██████████| 10/10 [02:01<00:00, 12.16s/it]\n",
            "2024-01-02 14:56:11 a41ae22bc5d2 Coach[180] INFO NEW/PREV WINS : 8 / 12 ; DRAWS : 0\n",
            "2024-01-02 14:56:11 a41ae22bc5d2 Coach[180] INFO REJECTING NEW MODEL\n",
            "2024-01-02 14:56:13 a41ae22bc5d2 Coach[180] INFO Starting Iter #4 ...\n",
            "Self Play: 100%|██████████| 15/15 [12:05<00:00, 48.39s/it]\n",
            "2024-01-02 15:08:19 a41ae22bc5d2 Coach[180] WARNING Removing the oldest entry in trainExamples. len(trainExamplesHistory) = 21\n"
          ]
        },
        {
          "name": "stdout",
          "output_type": "stream",
          "text": [
            "Checkpoint Directory exists! \n",
            "Epoch 1/10\n",
            "786/786 [==============================] - 328s 415ms/step - loss: 4.7619 - pi_loss: 3.9109 - v_loss: 0.8510\n",
            "Epoch 2/10\n",
            "786/786 [==============================] - 333s 423ms/step - loss: 4.1465 - pi_loss: 3.6659 - v_loss: 0.4806\n",
            "Epoch 3/10\n",
            "786/786 [==============================] - 331s 421ms/step - loss: 3.8928 - pi_loss: 3.5472 - v_loss: 0.3456\n",
            "Epoch 4/10\n",
            "786/786 [==============================] - 326s 415ms/step - loss: 3.7392 - pi_loss: 3.4600 - v_loss: 0.2792\n",
            "Epoch 5/10\n",
            "786/786 [==============================] - 326s 415ms/step - loss: 3.6151 - pi_loss: 3.3773 - v_loss: 0.2379\n",
            "Epoch 6/10\n",
            "786/786 [==============================] - 333s 423ms/step - loss: 3.5144 - pi_loss: 3.3014 - v_loss: 0.2130\n",
            "Epoch 7/10\n",
            "786/786 [==============================] - 329s 418ms/step - loss: 3.4103 - pi_loss: 3.2213 - v_loss: 0.1889\n",
            "Epoch 8/10\n",
            "786/786 [==============================] - 329s 419ms/step - loss: 3.3119 - pi_loss: 3.1387 - v_loss: 0.1732\n",
            "Epoch 9/10\n",
            "786/786 [==============================] - 326s 415ms/step - loss: 3.2164 - pi_loss: 3.0538 - v_loss: 0.1626\n",
            "Epoch 10/10\n",
            "786/786 [==============================] - 329s 418ms/step - loss: 3.1279 - pi_loss: 2.9787 - v_loss: 0.1492\n"
          ]
        },
        {
          "name": "stderr",
          "output_type": "stream",
          "text": [
            "2024-01-02 16:04:04 a41ae22bc5d2 Coach[180] INFO PITTING AGAINST PREVIOUS VERSION\n",
            "Arena.playGames (1): 100%|██████████| 10/10 [02:16<00:00, 13.68s/it]\n",
            "Arena.playGames (2): 100%|██████████| 10/10 [02:58<00:00, 17.88s/it]\n",
            "2024-01-02 16:09:20 a41ae22bc5d2 Coach[180] INFO NEW/PREV WINS : 9 / 11 ; DRAWS : 0\n",
            "2024-01-02 16:09:20 a41ae22bc5d2 Coach[180] INFO REJECTING NEW MODEL\n",
            "2024-01-02 16:09:22 a41ae22bc5d2 Coach[180] INFO Starting Iter #5 ...\n",
            "Self Play: 100%|██████████| 15/15 [08:03<00:00, 32.22s/it]\n",
            "2024-01-02 16:17:25 a41ae22bc5d2 Coach[180] WARNING Removing the oldest entry in trainExamples. len(trainExamplesHistory) = 21\n"
          ]
        },
        {
          "name": "stdout",
          "output_type": "stream",
          "text": [
            "Checkpoint Directory exists! \n",
            "Epoch 1/10\n",
            "784/784 [==============================] - 325s 413ms/step - loss: 4.7667 - pi_loss: 3.9131 - v_loss: 0.8535\n",
            "Epoch 2/10\n",
            "784/784 [==============================] - 320s 408ms/step - loss: 4.1340 - pi_loss: 3.6632 - v_loss: 0.4708\n",
            "Epoch 3/10\n",
            "784/784 [==============================] - 320s 409ms/step - loss: 3.8880 - pi_loss: 3.5484 - v_loss: 0.3396\n",
            "Epoch 4/10\n",
            "784/784 [==============================] - 321s 409ms/step - loss: 3.7417 - pi_loss: 3.4630 - v_loss: 0.2787\n",
            "Epoch 5/10\n",
            "784/784 [==============================] - 321s 409ms/step - loss: 3.6184 - pi_loss: 3.3862 - v_loss: 0.2322\n",
            "Epoch 6/10\n",
            "784/784 [==============================] - 321s 409ms/step - loss: 3.5127 - pi_loss: 3.3052 - v_loss: 0.2075\n",
            "Epoch 7/10\n",
            "784/784 [==============================] - 323s 412ms/step - loss: 3.4213 - pi_loss: 3.2328 - v_loss: 0.1885\n",
            "Epoch 8/10\n",
            "784/784 [==============================] - 322s 411ms/step - loss: 3.3197 - pi_loss: 3.1494 - v_loss: 0.1703\n",
            "Epoch 9/10\n",
            "784/784 [==============================] - 321s 410ms/step - loss: 3.2276 - pi_loss: 3.0681 - v_loss: 0.1595\n",
            "Epoch 10/10\n",
            "784/784 [==============================] - 322s 410ms/step - loss: 3.1359 - pi_loss: 2.9887 - v_loss: 0.1472\n"
          ]
        },
        {
          "name": "stderr",
          "output_type": "stream",
          "text": [
            "2024-01-02 17:12:14 a41ae22bc5d2 Coach[180] INFO PITTING AGAINST PREVIOUS VERSION\n",
            "Arena.playGames (1): 100%|██████████| 10/10 [02:38<00:00, 15.86s/it]\n",
            "Arena.playGames (2): 100%|██████████| 10/10 [00:50<00:00,  5.10s/it]\n",
            "2024-01-02 17:15:43 a41ae22bc5d2 Coach[180] INFO NEW/PREV WINS : 7 / 13 ; DRAWS : 0\n",
            "2024-01-02 17:15:43 a41ae22bc5d2 Coach[180] INFO REJECTING NEW MODEL\n",
            "2024-01-02 17:15:46 a41ae22bc5d2 Coach[180] INFO Starting Iter #6 ...\n",
            "Self Play: 100%|██████████| 15/15 [08:52<00:00, 35.51s/it]\n",
            "2024-01-02 17:24:39 a41ae22bc5d2 Coach[180] WARNING Removing the oldest entry in trainExamples. len(trainExamplesHistory) = 21\n"
          ]
        },
        {
          "name": "stdout",
          "output_type": "stream",
          "text": [
            "Checkpoint Directory exists! \n",
            "Epoch 1/10\n",
            "786/786 [==============================] - 324s 410ms/step - loss: 4.7294 - pi_loss: 3.9016 - v_loss: 0.8278\n",
            "Epoch 2/10\n",
            "786/786 [==============================] - 331s 421ms/step - loss: 4.1069 - pi_loss: 3.6568 - v_loss: 0.4501\n",
            "Epoch 3/10\n",
            "786/786 [==============================] - 325s 413ms/step - loss: 3.8814 - pi_loss: 3.5459 - v_loss: 0.3354\n",
            "Epoch 4/10\n",
            "786/786 [==============================] - 325s 414ms/step - loss: 3.7363 - pi_loss: 3.4607 - v_loss: 0.2756\n",
            "Epoch 5/10\n",
            "786/786 [==============================] - 324s 413ms/step - loss: 3.6135 - pi_loss: 3.3812 - v_loss: 0.2322\n",
            "Epoch 6/10\n",
            "786/786 [==============================] - 325s 413ms/step - loss: 3.5127 - pi_loss: 3.3080 - v_loss: 0.2047\n",
            "Epoch 7/10\n",
            "786/786 [==============================] - 325s 413ms/step - loss: 3.4165 - pi_loss: 3.2327 - v_loss: 0.1838\n",
            "Epoch 8/10\n",
            "786/786 [==============================] - 325s 413ms/step - loss: 3.3185 - pi_loss: 3.1536 - v_loss: 0.1649\n",
            "Epoch 9/10\n",
            "786/786 [==============================] - 326s 414ms/step - loss: 3.2344 - pi_loss: 3.0755 - v_loss: 0.1589\n",
            "Epoch 10/10\n",
            "786/786 [==============================] - 329s 419ms/step - loss: 3.1425 - pi_loss: 2.9976 - v_loss: 0.1450\n"
          ]
        },
        {
          "name": "stderr",
          "output_type": "stream",
          "text": [
            "2024-01-02 18:19:19 a41ae22bc5d2 Coach[180] INFO PITTING AGAINST PREVIOUS VERSION\n",
            "Arena.playGames (1): 100%|██████████| 10/10 [01:47<00:00, 10.75s/it]\n",
            "Arena.playGames (2): 100%|██████████| 10/10 [02:04<00:00, 12.41s/it]\n",
            "2024-01-02 18:23:11 a41ae22bc5d2 Coach[180] INFO NEW/PREV WINS : 6 / 14 ; DRAWS : 0\n",
            "2024-01-02 18:23:11 a41ae22bc5d2 Coach[180] INFO REJECTING NEW MODEL\n",
            "2024-01-02 18:23:13 a41ae22bc5d2 Coach[180] INFO Starting Iter #7 ...\n",
            "Self Play: 100%|██████████| 15/15 [10:44<00:00, 43.00s/it]\n",
            "2024-01-02 18:33:58 a41ae22bc5d2 Coach[180] WARNING Removing the oldest entry in trainExamples. len(trainExamplesHistory) = 21\n"
          ]
        },
        {
          "name": "stdout",
          "output_type": "stream",
          "text": [
            "Checkpoint Directory exists! \n",
            "Epoch 1/10\n",
            "798/798 [==============================] - 335s 413ms/step - loss: 4.7133 - pi_loss: 3.8964 - v_loss: 0.8169\n",
            "Epoch 2/10\n",
            "798/798 [==============================] - 332s 416ms/step - loss: 4.1193 - pi_loss: 3.6516 - v_loss: 0.4676\n",
            "Epoch 3/10\n",
            "798/798 [==============================] - 329s 413ms/step - loss: 3.8749 - pi_loss: 3.5416 - v_loss: 0.3333\n",
            "Epoch 4/10\n",
            "798/798 [==============================] - 330s 413ms/step - loss: 3.7312 - pi_loss: 3.4561 - v_loss: 0.2751\n",
            "Epoch 5/10\n",
            "798/798 [==============================] - 330s 414ms/step - loss: 3.6159 - pi_loss: 3.3824 - v_loss: 0.2335\n",
            "Epoch 6/10\n",
            "798/798 [==============================] - 329s 412ms/step - loss: 3.5127 - pi_loss: 3.3059 - v_loss: 0.2068\n",
            "Epoch 7/10\n",
            "798/798 [==============================] - 329s 412ms/step - loss: 3.4170 - pi_loss: 3.2275 - v_loss: 0.1895\n",
            "Epoch 8/10\n",
            "798/798 [==============================] - 329s 412ms/step - loss: 3.3287 - pi_loss: 3.1551 - v_loss: 0.1736\n",
            "Epoch 9/10\n",
            "798/798 [==============================] - 328s 411ms/step - loss: 3.2305 - pi_loss: 3.0734 - v_loss: 0.1571\n",
            "Epoch 10/10\n",
            "798/798 [==============================] - 329s 412ms/step - loss: 3.1352 - pi_loss: 2.9925 - v_loss: 0.1427\n"
          ]
        },
        {
          "name": "stderr",
          "output_type": "stream",
          "text": [
            "2024-01-02 19:29:21 a41ae22bc5d2 Coach[180] INFO PITTING AGAINST PREVIOUS VERSION\n",
            "Arena.playGames (1): 100%|██████████| 10/10 [04:01<00:00, 24.14s/it]\n",
            "Arena.playGames (2): 100%|██████████| 10/10 [01:31<00:00,  9.16s/it]\n",
            "2024-01-02 19:34:54 a41ae22bc5d2 Coach[180] INFO NEW/PREV WINS : 5 / 15 ; DRAWS : 0\n",
            "2024-01-02 19:34:54 a41ae22bc5d2 Coach[180] INFO REJECTING NEW MODEL\n",
            "2024-01-02 19:34:56 a41ae22bc5d2 Coach[180] INFO Starting Iter #8 ...\n",
            "Self Play: 100%|██████████| 15/15 [09:12<00:00, 36.80s/it]\n",
            "2024-01-02 19:44:08 a41ae22bc5d2 Coach[180] WARNING Removing the oldest entry in trainExamples. len(trainExamplesHistory) = 21\n"
          ]
        },
        {
          "name": "stdout",
          "output_type": "stream",
          "text": [
            "Checkpoint Directory exists! \n",
            "Epoch 1/10\n",
            "788/788 [==============================] - 324s 409ms/step - loss: 4.7343 - pi_loss: 3.9081 - v_loss: 0.8262\n",
            "Epoch 2/10\n",
            "788/788 [==============================] - 323s 409ms/step - loss: 4.1312 - pi_loss: 3.6572 - v_loss: 0.4740\n",
            "Epoch 3/10\n",
            "788/788 [==============================] - 335s 425ms/step - loss: 3.8867 - pi_loss: 3.5437 - v_loss: 0.3430\n",
            "Epoch 4/10\n",
            "788/788 [==============================] - 333s 423ms/step - loss: 3.7381 - pi_loss: 3.4576 - v_loss: 0.2805\n",
            "Epoch 5/10\n",
            "788/788 [==============================] - 336s 426ms/step - loss: 3.6204 - pi_loss: 3.3814 - v_loss: 0.2390\n",
            "Epoch 6/10\n",
            "788/788 [==============================] - 332s 421ms/step - loss: 3.5226 - pi_loss: 3.3093 - v_loss: 0.2133\n",
            "Epoch 7/10\n",
            "788/788 [==============================] - 333s 423ms/step - loss: 3.4229 - pi_loss: 3.2331 - v_loss: 0.1898\n",
            "Epoch 8/10\n",
            "788/788 [==============================] - 334s 423ms/step - loss: 3.3304 - pi_loss: 3.1543 - v_loss: 0.1761\n",
            "Epoch 9/10\n",
            "788/788 [==============================] - 327s 415ms/step - loss: 3.2323 - pi_loss: 3.0717 - v_loss: 0.1606\n",
            "Epoch 10/10\n",
            "788/788 [==============================] - 331s 421ms/step - loss: 3.1369 - pi_loss: 2.9900 - v_loss: 0.1469\n"
          ]
        },
        {
          "name": "stderr",
          "output_type": "stream",
          "text": [
            "2024-01-02 20:39:52 a41ae22bc5d2 Coach[180] INFO PITTING AGAINST PREVIOUS VERSION\n",
            "Arena.playGames (1): 100%|██████████| 10/10 [04:38<00:00, 27.84s/it]\n",
            "Arena.playGames (2): 100%|██████████| 10/10 [01:22<00:00,  8.22s/it]\n",
            "2024-01-02 20:45:53 a41ae22bc5d2 Coach[180] INFO NEW/PREV WINS : 3 / 17 ; DRAWS : 0\n",
            "2024-01-02 20:45:53 a41ae22bc5d2 Coach[180] INFO REJECTING NEW MODEL\n",
            "2024-01-02 20:45:55 a41ae22bc5d2 Coach[180] INFO Starting Iter #9 ...\n",
            "Self Play: 100%|██████████| 15/15 [10:39<00:00, 42.65s/it]\n",
            "2024-01-02 20:56:35 a41ae22bc5d2 Coach[180] WARNING Removing the oldest entry in trainExamples. len(trainExamplesHistory) = 21\n"
          ]
        },
        {
          "name": "stdout",
          "output_type": "stream",
          "text": [
            "Checkpoint Directory exists! \n",
            "Epoch 1/10\n",
            "786/786 [==============================] - 326s 413ms/step - loss: 4.7722 - pi_loss: 3.9208 - v_loss: 0.8514\n",
            "Epoch 2/10\n",
            "786/786 [==============================] - 335s 426ms/step - loss: 4.1223 - pi_loss: 3.6656 - v_loss: 0.4568\n",
            "Epoch 3/10\n",
            "786/786 [==============================] - 325s 414ms/step - loss: 3.8872 - pi_loss: 3.5527 - v_loss: 0.3345\n",
            "Epoch 4/10\n",
            "786/786 [==============================] - 326s 415ms/step - loss: 3.7325 - pi_loss: 3.4674 - v_loss: 0.2652\n",
            "Epoch 5/10\n",
            "786/786 [==============================] - 327s 416ms/step - loss: 3.6178 - pi_loss: 3.3868 - v_loss: 0.2309\n",
            "Epoch 6/10\n",
            "786/786 [==============================] - 324s 413ms/step - loss: 3.5148 - pi_loss: 3.3156 - v_loss: 0.1992\n",
            "Epoch 7/10\n",
            "786/786 [==============================] - 325s 414ms/step - loss: 3.4235 - pi_loss: 3.2384 - v_loss: 0.1851\n",
            "Epoch 8/10\n",
            "786/786 [==============================] - 325s 414ms/step - loss: 3.3246 - pi_loss: 3.1598 - v_loss: 0.1648\n",
            "Epoch 9/10\n",
            "786/786 [==============================] - 326s 414ms/step - loss: 3.2349 - pi_loss: 3.0790 - v_loss: 0.1558\n",
            "Epoch 10/10\n",
            "786/786 [==============================] - 325s 414ms/step - loss: 3.1427 - pi_loss: 2.9963 - v_loss: 0.1464\n"
          ]
        },
        {
          "name": "stderr",
          "output_type": "stream",
          "text": [
            "2024-01-02 21:52:22 a41ae22bc5d2 Coach[180] INFO PITTING AGAINST PREVIOUS VERSION\n",
            "Arena.playGames (1): 100%|██████████| 10/10 [03:28<00:00, 20.84s/it]\n",
            "Arena.playGames (2): 100%|██████████| 10/10 [02:47<00:00, 16.72s/it]\n",
            "2024-01-02 21:58:37 a41ae22bc5d2 Coach[180] INFO NEW/PREV WINS : 5 / 15 ; DRAWS : 0\n",
            "2024-01-02 21:58:37 a41ae22bc5d2 Coach[180] INFO REJECTING NEW MODEL\n",
            "2024-01-02 21:58:40 a41ae22bc5d2 Coach[180] INFO Starting Iter #10 ...\n",
            "Self Play: 100%|██████████| 15/15 [07:50<00:00, 31.39s/it]\n",
            "2024-01-02 22:06:30 a41ae22bc5d2 Coach[180] WARNING Removing the oldest entry in trainExamples. len(trainExamplesHistory) = 21\n"
          ]
        },
        {
          "name": "stdout",
          "output_type": "stream",
          "text": [
            "Checkpoint Directory exists! \n",
            "Epoch 1/10\n",
            "777/777 [==============================] - 326s 418ms/step - loss: 4.7696 - pi_loss: 3.9221 - v_loss: 0.8475\n",
            "Epoch 2/10\n",
            "777/777 [==============================] - 326s 420ms/step - loss: 4.1458 - pi_loss: 3.6736 - v_loss: 0.4723\n",
            "Epoch 3/10\n",
            "777/777 [==============================] - 326s 419ms/step - loss: 3.8989 - pi_loss: 3.5588 - v_loss: 0.3400\n",
            "Epoch 4/10\n",
            "777/777 [==============================] - 325s 419ms/step - loss: 3.7482 - pi_loss: 3.4733 - v_loss: 0.2749\n",
            "Epoch 5/10\n",
            "777/777 [==============================] - 328s 422ms/step - loss: 3.6391 - pi_loss: 3.4027 - v_loss: 0.2365\n",
            "Epoch 6/10\n",
            "777/777 [==============================] - 325s 418ms/step - loss: 3.5286 - pi_loss: 3.3252 - v_loss: 0.2033\n",
            "Epoch 7/10\n",
            "777/777 [==============================] - 325s 418ms/step - loss: 3.4410 - pi_loss: 3.2515 - v_loss: 0.1896\n",
            "Epoch 8/10\n",
            "777/777 [==============================] - 322s 415ms/step - loss: 3.3338 - pi_loss: 3.1665 - v_loss: 0.1673\n",
            "Epoch 9/10\n",
            "777/777 [==============================] - 325s 418ms/step - loss: 3.2378 - pi_loss: 3.0845 - v_loss: 0.1533\n",
            "Epoch 10/10\n",
            "777/777 [==============================] - 318s 409ms/step - loss: 3.1519 - pi_loss: 3.0070 - v_loss: 0.1450\n"
          ]
        },
        {
          "name": "stderr",
          "output_type": "stream",
          "text": [
            "2024-01-02 23:01:06 a41ae22bc5d2 Coach[180] INFO PITTING AGAINST PREVIOUS VERSION\n",
            "Arena.playGames (1): 100%|██████████| 10/10 [03:56<00:00, 23.66s/it]\n",
            "Arena.playGames (2): 100%|██████████| 10/10 [01:50<00:00, 11.06s/it]\n",
            "2024-01-02 23:06:54 a41ae22bc5d2 Coach[180] INFO NEW/PREV WINS : 3 / 17 ; DRAWS : 0\n",
            "2024-01-02 23:06:54 a41ae22bc5d2 Coach[180] INFO REJECTING NEW MODEL\n",
            "2024-01-02 23:06:56 a41ae22bc5d2 Coach[180] INFO Starting Iter #11 ...\n",
            "Self Play: 100%|██████████| 15/15 [07:53<00:00, 31.60s/it]\n",
            "2024-01-02 23:14:50 a41ae22bc5d2 Coach[180] WARNING Removing the oldest entry in trainExamples. len(trainExamplesHistory) = 21\n"
          ]
        },
        {
          "name": "stdout",
          "output_type": "stream",
          "text": [
            "Checkpoint Directory exists! \n",
            "Epoch 1/10\n",
            "778/778 [==============================] - 318s 406ms/step - loss: 4.8010 - pi_loss: 3.9223 - v_loss: 0.8787\n",
            "Epoch 2/10\n",
            "778/778 [==============================] - 327s 420ms/step - loss: 4.1496 - pi_loss: 3.6693 - v_loss: 0.4803\n",
            "Epoch 3/10\n",
            "778/778 [==============================] - 319s 410ms/step - loss: 3.8936 - pi_loss: 3.5545 - v_loss: 0.3392\n",
            "Epoch 4/10\n",
            "778/778 [==============================] - 319s 410ms/step - loss: 3.7420 - pi_loss: 3.4729 - v_loss: 0.2691\n",
            "Epoch 5/10\n",
            "778/778 [==============================] - 318s 408ms/step - loss: 3.6242 - pi_loss: 3.3900 - v_loss: 0.2342\n",
            "Epoch 6/10\n",
            "778/778 [==============================] - 318s 409ms/step - loss: 3.5183 - pi_loss: 3.3147 - v_loss: 0.2035\n",
            "Epoch 7/10\n",
            "778/778 [==============================] - 317s 408ms/step - loss: 3.4208 - pi_loss: 3.2403 - v_loss: 0.1805\n",
            "Epoch 8/10\n",
            "778/778 [==============================] - 318s 409ms/step - loss: 3.3159 - pi_loss: 3.1511 - v_loss: 0.1649\n",
            "Epoch 9/10\n",
            "778/778 [==============================] - 318s 409ms/step - loss: 3.2377 - pi_loss: 3.0792 - v_loss: 0.1585\n",
            "Epoch 10/10\n",
            "778/778 [==============================] - 319s 410ms/step - loss: 3.1312 - pi_loss: 2.9884 - v_loss: 0.1428\n"
          ]
        },
        {
          "name": "stderr",
          "output_type": "stream",
          "text": [
            "2024-01-03 00:08:25 a41ae22bc5d2 Coach[180] INFO PITTING AGAINST PREVIOUS VERSION\n",
            "Arena.playGames (1): 100%|██████████| 10/10 [03:24<00:00, 20.46s/it]\n",
            "Arena.playGames (2): 100%|██████████| 10/10 [01:04<00:00,  6.46s/it]\n",
            "2024-01-03 00:12:54 a41ae22bc5d2 Coach[180] INFO NEW/PREV WINS : 5 / 15 ; DRAWS : 0\n",
            "2024-01-03 00:12:54 a41ae22bc5d2 Coach[180] INFO REJECTING NEW MODEL\n",
            "2024-01-03 00:12:56 a41ae22bc5d2 Coach[180] INFO Starting Iter #12 ...\n",
            "Self Play: 100%|██████████| 15/15 [11:13<00:00, 44.88s/it]\n",
            "2024-01-03 00:24:09 a41ae22bc5d2 Coach[180] WARNING Removing the oldest entry in trainExamples. len(trainExamplesHistory) = 21\n"
          ]
        },
        {
          "name": "stdout",
          "output_type": "stream",
          "text": [
            "Checkpoint Directory exists! \n",
            "Epoch 1/10\n",
            "784/784 [==============================] - 321s 407ms/step - loss: 4.8110 - pi_loss: 3.9380 - v_loss: 0.8730\n",
            "Epoch 2/10\n",
            "784/784 [==============================] - 318s 405ms/step - loss: 4.1713 - pi_loss: 3.6910 - v_loss: 0.4803\n",
            "Epoch 3/10\n",
            "784/784 [==============================] - 318s 405ms/step - loss: 3.9131 - pi_loss: 3.5752 - v_loss: 0.3379\n",
            "Epoch 4/10\n",
            "784/784 [==============================] - 318s 406ms/step - loss: 3.7564 - pi_loss: 3.4901 - v_loss: 0.2662\n",
            "Epoch 5/10\n",
            "784/784 [==============================] - 319s 407ms/step - loss: 3.6408 - pi_loss: 3.4154 - v_loss: 0.2254\n",
            "Epoch 6/10\n",
            "784/784 [==============================] - 318s 405ms/step - loss: 3.5368 - pi_loss: 3.3386 - v_loss: 0.1982\n",
            "Epoch 7/10\n",
            "784/784 [==============================] - 318s 405ms/step - loss: 3.4411 - pi_loss: 3.2608 - v_loss: 0.1804\n",
            "Epoch 8/10\n",
            "784/784 [==============================] - 317s 405ms/step - loss: 3.3559 - pi_loss: 3.1880 - v_loss: 0.1679\n",
            "Epoch 9/10\n",
            "784/784 [==============================] - 318s 405ms/step - loss: 3.2563 - pi_loss: 3.1084 - v_loss: 0.1479\n",
            "Epoch 10/10\n",
            "784/784 [==============================] - 317s 404ms/step - loss: 3.1611 - pi_loss: 3.0242 - v_loss: 0.1370\n"
          ]
        },
        {
          "name": "stderr",
          "output_type": "stream",
          "text": [
            "2024-01-03 01:17:31 a41ae22bc5d2 Coach[180] INFO PITTING AGAINST PREVIOUS VERSION\n",
            "Arena.playGames (1): 100%|██████████| 10/10 [01:43<00:00, 10.40s/it]\n",
            "Arena.playGames (2): 100%|██████████| 10/10 [03:56<00:00, 23.68s/it]\n",
            "2024-01-03 01:23:12 a41ae22bc5d2 Coach[180] INFO NEW/PREV WINS : 4 / 16 ; DRAWS : 0\n",
            "2024-01-03 01:23:12 a41ae22bc5d2 Coach[180] INFO REJECTING NEW MODEL\n",
            "2024-01-03 01:23:15 a41ae22bc5d2 Coach[180] INFO Starting Iter #13 ...\n",
            "Self Play: 100%|██████████| 15/15 [11:39<00:00, 46.63s/it]\n",
            "2024-01-03 01:34:54 a41ae22bc5d2 Coach[180] WARNING Removing the oldest entry in trainExamples. len(trainExamplesHistory) = 21\n"
          ]
        },
        {
          "name": "stdout",
          "output_type": "stream",
          "text": [
            "Checkpoint Directory exists! \n",
            "Epoch 1/10\n",
            "792/792 [==============================] - 323s 406ms/step - loss: 4.8217 - pi_loss: 3.9380 - v_loss: 0.8838\n",
            "Epoch 2/10\n",
            "323/792 [===========>..................] - ETA: 3:00 - loss: 4.2439 - pi_loss: 3.7038 - v_loss: 0.5401"
          ]
        }
      ],
      "source": [
        "args = dotdict({\n",
        "    'numIters': 20,\n",
        "    'numEps': 15,              # Number of complete self-play games to simulate during a new iteration.\n",
        "    'tempThreshold': 15,        #\n",
        "    'updateThreshold': 0.6,     # During arena playoff, new neural net will be accepted if threshold or more of games are won.\n",
        "    'maxlenOfQueue': 100000,    # Number of game examples to train the neural networks.\n",
        "    'numMCTSSims': 25,          # Number of games moves for MCTS to simulate.\n",
        "    'arenaCompare': 20,         # Number of games to play during arena play to determine if new net will be accepted.\n",
        "    'cpuct': 1,\n",
        "\n",
        "    'checkpoint': '/content/drive/MyDrive/go_trabalho2_liacd/models/go/9x9',\n",
        "    'load_model': True,\n",
        "    'load_folder_file': ('/content/drive/MyDrive/go_trabalho2_liacd/models/go/9x9', 'best.h5'),\n",
        "    'numItersForTrainExamplesHistory': 20,\n",
        "\n",
        "})\n",
        "\n",
        "\n",
        "\n",
        "log.info('Loading %s...', Game.__name__)\n",
        "g = Game(9)\n",
        "\n",
        "log.info('Loading %s...', nn.__name__)\n",
        "nnet = nn(g)\n",
        "\n",
        "if args.load_model:\n",
        "    log.info('Loading checkpoint \"%s/%s\"...', args.load_folder_file[0], args.load_folder_file[1])\n",
        "    nnet.load_model(args.load_folder_file[0], args.load_folder_file[1])\n",
        "else:\n",
        "    log.warning('Not loading a checkpoint!')\n",
        "\n",
        "log.info('Loading the Coach...')\n",
        "c = Coach(g, nnet, args)\n",
        "\n",
        "if args.load_model:\n",
        "    log.info(\"Loading 'trainExamples' from file...\")\n",
        "    c.loadTrainExamples()\n",
        "\n",
        "log.info('Starting the learning process 🎉')\n",
        "c.learn()\n",
        "\n"
      ]
    },
    {
      "cell_type": "markdown",
      "metadata": {
        "id": "DSWRh3BIEJLX"
      },
      "source": [
        "#Oitavo Treino"
      ]
    },
    {
      "cell_type": "code",
      "execution_count": null,
      "metadata": {
        "colab": {
          "base_uri": "https://localhost:8080/"
        },
        "id": "M8KPdIyLEVRp",
        "outputId": "6e1e6aaf-7bb3-45ef-c9b9-4290389d934d"
      },
      "outputs": [
        {
          "name": "stderr",
          "output_type": "stream",
          "text": [
            "2024-01-03 16:04:45 419eac005376 __main__[381] INFO Loading GoGame...\n",
            "2024-01-03 16:04:45 419eac005376 __main__[381] INFO Loading NNetWrapper...\n",
            "2024-01-03 16:04:46 419eac005376 __main__[381] INFO Loading checkpoint \"/content/drive/MyDrive/go_trabalho2_liacd/models/go/9x9/best.h5\"...\n",
            "2024-01-03 16:04:50 419eac005376 __main__[381] INFO Loading the Coach...\n",
            "2024-01-03 16:04:50 419eac005376 __main__[381] INFO Loading 'trainExamples' from file...\n",
            "2024-01-03 16:04:50 419eac005376 Coach[381] INFO File with trainExamples found. Loading it...\n",
            "2024-01-03 16:04:54 419eac005376 Coach[381] INFO Loading done!\n",
            "2024-01-03 16:04:54 419eac005376 __main__[381] INFO Starting the learning process 🎉\n",
            "2024-01-03 16:04:54 419eac005376 Coach[381] INFO Starting Iter #1 ...\n"
          ]
        },
        {
          "name": "stdout",
          "output_type": "stream",
          "text": [
            "Checkpoint Directory exists! \n"
          ]
        },
        {
          "name": "stderr",
          "output_type": "stream",
          "text": [
            "/usr/local/lib/python3.10/dist-packages/keras/src/engine/training.py:3103: UserWarning: You are saving your model as an HDF5 file via `model.save()`. This file format is considered legacy. We recommend using instead the native Keras format, e.g. `model.save('my_model.keras')`.\n",
            "  saving_api.save_model(\n"
          ]
        },
        {
          "name": "stdout",
          "output_type": "stream",
          "text": [
            "Epoch 1/10\n",
            "792/792 [==============================] - 400s 503ms/step - loss: 4.8154 - pi_loss: 3.9344 - v_loss: 0.8809\n",
            "Epoch 2/10\n",
            "792/792 [==============================] - 406s 513ms/step - loss: 4.1630 - pi_loss: 3.6876 - v_loss: 0.4754\n",
            "Epoch 3/10\n",
            "792/792 [==============================] - 419s 529ms/step - loss: 3.9001 - pi_loss: 3.5675 - v_loss: 0.3326\n",
            "Epoch 4/10\n",
            "792/792 [==============================] - 419s 529ms/step - loss: 3.7428 - pi_loss: 3.4808 - v_loss: 0.2620\n",
            "Epoch 5/10\n",
            "792/792 [==============================] - 397s 501ms/step - loss: 3.6224 - pi_loss: 3.4028 - v_loss: 0.2196\n",
            "Epoch 6/10\n",
            "792/792 [==============================] - 410s 518ms/step - loss: 3.5140 - pi_loss: 3.3231 - v_loss: 0.1910\n",
            "Epoch 7/10\n",
            "792/792 [==============================] - 409s 517ms/step - loss: 3.4285 - pi_loss: 3.2496 - v_loss: 0.1789\n",
            "Epoch 8/10\n",
            "792/792 [==============================] - 398s 503ms/step - loss: 3.3287 - pi_loss: 3.1707 - v_loss: 0.1581\n",
            "Epoch 9/10\n",
            "792/792 [==============================] - 406s 513ms/step - loss: 3.2361 - pi_loss: 3.0880 - v_loss: 0.1481\n",
            "Epoch 10/10\n",
            "792/792 [==============================] - 405s 511ms/step - loss: 3.1355 - pi_loss: 3.0049 - v_loss: 0.1306\n"
          ]
        },
        {
          "name": "stderr",
          "output_type": "stream",
          "text": [
            "2024-01-03 17:13:44 419eac005376 Coach[381] INFO PITTING AGAINST PREVIOUS VERSION\n",
            "Arena.playGames (1): 100%|██████████| 10/10 [04:14<00:00, 25.50s/it]\n",
            "Arena.playGames (2): 100%|██████████| 10/10 [02:59<00:00, 17.95s/it]\n",
            "2024-01-03 17:20:58 419eac005376 Coach[381] INFO NEW/PREV WINS : 6 / 14 ; DRAWS : 0\n",
            "2024-01-03 17:20:58 419eac005376 Coach[381] INFO REJECTING NEW MODEL\n",
            "2024-01-03 17:21:01 419eac005376 Coach[381] INFO Starting Iter #2 ...\n",
            "Self Play: 100%|██████████| 15/15 [11:11<00:00, 44.75s/it]\n",
            "2024-01-03 17:32:12 419eac005376 Coach[381] WARNING Removing the oldest entry in trainExamples. len(trainExamplesHistory) = 21\n"
          ]
        },
        {
          "name": "stdout",
          "output_type": "stream",
          "text": [
            "Checkpoint Directory exists! \n",
            "Epoch 1/10\n",
            "790/790 [==============================] - 380s 478ms/step - loss: 4.8511 - pi_loss: 3.9476 - v_loss: 0.9036\n",
            "Epoch 2/10\n",
            "790/790 [==============================] - 376s 477ms/step - loss: 4.1885 - pi_loss: 3.6847 - v_loss: 0.5038\n",
            "Epoch 3/10\n",
            "790/790 [==============================] - 377s 477ms/step - loss: 3.9090 - pi_loss: 3.5634 - v_loss: 0.3457\n",
            "Epoch 4/10\n",
            "790/790 [==============================] - 376s 476ms/step - loss: 3.7427 - pi_loss: 3.4741 - v_loss: 0.2686\n",
            "Epoch 5/10\n",
            "422/790 [===============>..............] - ETA: 2:56 - loss: 3.6121 - pi_loss: 3.3777 - v_loss: 0.2344"
          ]
        }
      ],
      "source": [
        "args = dotdict({\n",
        "    'numIters': 20,\n",
        "    'numEps': 15,              # Number of complete self-play games to simulate during a new iteration.\n",
        "    'tempThreshold': 15,        #\n",
        "    'updateThreshold': 0.6,     # During arena playoff, new neural net will be accepted if threshold or more of games are won.\n",
        "    'maxlenOfQueue': 100000,    # Number of game examples to train the neural networks.\n",
        "    'numMCTSSims': 25,          # Number of games moves for MCTS to simulate.\n",
        "    'arenaCompare': 20,         # Number of games to play during arena play to determine if new net will be accepted.\n",
        "    'cpuct': 1,\n",
        "\n",
        "    'checkpoint': '/content/drive/MyDrive/go_trabalho2_liacd/models/go/9x9',\n",
        "    'load_model': True,\n",
        "    'load_folder_file': ('/content/drive/MyDrive/go_trabalho2_liacd/models/go/9x9', 'best.h5'),\n",
        "    'numItersForTrainExamplesHistory': 20,\n",
        "\n",
        "})\n",
        "\n",
        "\n",
        "\n",
        "log.info('Loading %s...', Game.__name__)\n",
        "g = Game(9)\n",
        "\n",
        "log.info('Loading %s...', nn.__name__)\n",
        "nnet = nn(g)\n",
        "\n",
        "if args.load_model:\n",
        "    log.info('Loading checkpoint \"%s/%s\"...', args.load_folder_file[0], args.load_folder_file[1])\n",
        "    nnet.load_model(args.load_folder_file[0], args.load_folder_file[1])\n",
        "else:\n",
        "    log.warning('Not loading a checkpoint!')\n",
        "\n",
        "log.info('Loading the Coach...')\n",
        "c = Coach(g, nnet, args)\n",
        "\n",
        "if args.load_model:\n",
        "    log.info(\"Loading 'trainExamples' from file...\")\n",
        "    c.loadTrainExamples()\n",
        "\n",
        "log.info('Starting the learning process 🎉')\n",
        "c.learn()\n",
        "\n"
      ]
    },
    {
      "cell_type": "markdown",
      "metadata": {
        "id": "B2Th5zYzXbMh"
      },
      "source": [
        "#Primeiro Treino Com A Nova Função De Score"
      ]
    },
    {
      "cell_type": "code",
      "execution_count": null,
      "metadata": {
        "colab": {
          "background_save": true,
          "base_uri": "https://localhost:8080/"
        },
        "id": "_tT8_ohTXe6r",
        "outputId": "2d9ef0d0-d444-4d68-ca94-5807f61c7049"
      },
      "outputs": [
        {
          "name": "stderr",
          "output_type": "stream",
          "text": [
            "2024-01-11 19:05:13 d355fa53f372 __main__[1187] INFO Loading GoGame...\n",
            "2024-01-11 19:05:13 d355fa53f372 __main__[1187] INFO Loading NNetWrapper...\n",
            "2024-01-11 19:05:13 d355fa53f372 __main__[1187] WARNING Not loading a checkpoint!\n",
            "2024-01-11 19:05:13 d355fa53f372 __main__[1187] INFO Loading the Coach...\n",
            "2024-01-11 19:05:14 d355fa53f372 __main__[1187] INFO Starting the learning process 🎉\n",
            "2024-01-11 19:05:14 d355fa53f372 Coach[1187] INFO Starting Iter #1 ...\n",
            "Self Play: 100%|██████████| 15/15 [12:07<00:00, 48.52s/it]\n"
          ]
        },
        {
          "name": "stdout",
          "output_type": "stream",
          "text": [
            "Checkpoint Directory exists! \n"
          ]
        },
        {
          "name": "stderr",
          "output_type": "stream",
          "text": [
            "/usr/local/lib/python3.10/dist-packages/keras/src/engine/training.py:3103: UserWarning: You are saving your model as an HDF5 file via `model.save()`. This file format is considered legacy. We recommend using instead the native Keras format, e.g. `model.save('my_model.keras')`.\n",
            "  saving_api.save_model(\n"
          ]
        },
        {
          "name": "stdout",
          "output_type": "stream",
          "text": [
            "Epoch 1/10\n",
            "43/43 [==============================] - 23s 486ms/step - loss: 5.0125 - pi_loss: 4.2633 - v_loss: 0.7492\n",
            "Epoch 2/10\n",
            "43/43 [==============================] - 23s 526ms/step - loss: 4.1361 - pi_loss: 3.7361 - v_loss: 0.4000\n",
            "Epoch 3/10\n",
            "43/43 [==============================] - 22s 509ms/step - loss: 3.8535 - pi_loss: 3.5598 - v_loss: 0.2937\n",
            "Epoch 4/10\n",
            "43/43 [==============================] - 21s 491ms/step - loss: 3.6805 - pi_loss: 3.4142 - v_loss: 0.2663\n",
            "Epoch 5/10\n",
            "43/43 [==============================] - 21s 483ms/step - loss: 3.5246 - pi_loss: 3.3073 - v_loss: 0.2173\n",
            "Epoch 6/10\n",
            "43/43 [==============================] - 23s 528ms/step - loss: 3.4038 - pi_loss: 3.2085 - v_loss: 0.1953\n",
            "Epoch 7/10\n",
            "43/43 [==============================] - 21s 494ms/step - loss: 3.3036 - pi_loss: 3.1518 - v_loss: 0.1518\n",
            "Epoch 8/10\n",
            "43/43 [==============================] - 21s 488ms/step - loss: 3.2403 - pi_loss: 3.0757 - v_loss: 0.1646\n",
            "Epoch 9/10\n",
            "43/43 [==============================] - 21s 500ms/step - loss: 3.1839 - pi_loss: 3.0454 - v_loss: 0.1385\n",
            "Epoch 10/10\n",
            "43/43 [==============================] - 23s 528ms/step - loss: 3.1127 - pi_loss: 2.9696 - v_loss: 0.1431\n"
          ]
        },
        {
          "name": "stderr",
          "output_type": "stream",
          "text": [
            "2024-01-11 19:21:49 d355fa53f372 Coach[1187] INFO PITTING AGAINST PREVIOUS VERSION\n",
            "Arena.playGames (1): 100%|██████████| 10/10 [08:16<00:00, 49.66s/it]\n",
            "Arena.playGames (2): 100%|██████████| 10/10 [07:20<00:00, 44.06s/it]\n",
            "2024-01-11 19:37:26 d355fa53f372 Coach[1187] INFO NEW/PREV WINS : 8 / 12 ; DRAWS : 0\n",
            "2024-01-11 19:37:26 d355fa53f372 Coach[1187] INFO REJECTING NEW MODEL\n",
            "2024-01-11 19:37:27 d355fa53f372 Coach[1187] INFO Starting Iter #2 ...\n",
            "Self Play: 100%|██████████| 15/15 [15:10<00:00, 60.70s/it]\n"
          ]
        },
        {
          "name": "stdout",
          "output_type": "stream",
          "text": [
            "Checkpoint Directory exists! \n",
            "Epoch 1/10\n",
            "87/87 [==============================] - 46s 518ms/step - loss: 4.9898 - pi_loss: 4.3157 - v_loss: 0.6741\n",
            "Epoch 2/10\n",
            "87/87 [==============================] - 56s 648ms/step - loss: 4.3735 - pi_loss: 3.9534 - v_loss: 0.4201\n",
            "Epoch 3/10\n",
            "87/87 [==============================] - 44s 508ms/step - loss: 4.1590 - pi_loss: 3.7991 - v_loss: 0.3599\n",
            "Epoch 4/10\n",
            "87/87 [==============================] - 44s 508ms/step - loss: 3.9660 - pi_loss: 3.6468 - v_loss: 0.3192\n",
            "Epoch 5/10\n",
            "87/87 [==============================] - 46s 525ms/step - loss: 3.7915 - pi_loss: 3.5097 - v_loss: 0.2818\n",
            "Epoch 6/10\n",
            "87/87 [==============================] - 44s 501ms/step - loss: 3.6521 - pi_loss: 3.4186 - v_loss: 0.2335\n",
            "Epoch 7/10\n",
            "87/87 [==============================] - 46s 525ms/step - loss: 3.5426 - pi_loss: 3.3395 - v_loss: 0.2031\n",
            "Epoch 8/10\n",
            "87/87 [==============================] - 45s 523ms/step - loss: 3.4334 - pi_loss: 3.2501 - v_loss: 0.1834\n",
            "Epoch 9/10\n",
            "87/87 [==============================] - 43s 495ms/step - loss: 3.3214 - pi_loss: 3.1635 - v_loss: 0.1579\n",
            "Epoch 10/10\n",
            "87/87 [==============================] - 46s 526ms/step - loss: 3.2748 - pi_loss: 3.1177 - v_loss: 0.1571\n"
          ]
        },
        {
          "name": "stderr",
          "output_type": "stream",
          "text": [
            "2024-01-11 20:01:05 d355fa53f372 Coach[1187] INFO PITTING AGAINST PREVIOUS VERSION\n",
            "Arena.playGames (1): 100%|██████████| 10/10 [05:16<00:00, 31.66s/it]\n",
            "Arena.playGames (2): 100%|██████████| 10/10 [05:55<00:00, 35.54s/it]\n",
            "2024-01-11 20:12:17 d355fa53f372 Coach[1187] INFO NEW/PREV WINS : 9 / 11 ; DRAWS : 0\n",
            "2024-01-11 20:12:17 d355fa53f372 Coach[1187] INFO REJECTING NEW MODEL\n",
            "2024-01-11 20:12:20 d355fa53f372 Coach[1187] INFO Starting Iter #3 ...\n",
            "Self Play: 100%|██████████| 15/15 [12:03<00:00, 48.22s/it]\n"
          ]
        },
        {
          "name": "stdout",
          "output_type": "stream",
          "text": [
            "Checkpoint Directory exists! \n",
            "Epoch 1/10\n",
            "126/126 [==============================] - 66s 509ms/step - loss: 5.0200 - pi_loss: 4.2545 - v_loss: 0.7655\n",
            "Epoch 2/10\n",
            "126/126 [==============================] - 63s 497ms/step - loss: 4.4459 - pi_loss: 3.9418 - v_loss: 0.5041\n",
            "Epoch 3/10\n",
            "126/126 [==============================] - 65s 514ms/step - loss: 4.1539 - pi_loss: 3.7800 - v_loss: 0.3739\n",
            "Epoch 4/10\n",
            "126/126 [==============================] - 65s 513ms/step - loss: 3.9518 - pi_loss: 3.6431 - v_loss: 0.3086\n",
            "Epoch 5/10\n",
            "126/126 [==============================] - 63s 504ms/step - loss: 3.7689 - pi_loss: 3.5269 - v_loss: 0.2421\n",
            "Epoch 6/10\n",
            "126/126 [==============================] - 62s 494ms/step - loss: 3.6493 - pi_loss: 3.4233 - v_loss: 0.2260\n",
            "Epoch 7/10\n",
            "126/126 [==============================] - 64s 509ms/step - loss: 3.5440 - pi_loss: 3.3398 - v_loss: 0.2041\n",
            "Epoch 8/10\n",
            "126/126 [==============================] - 64s 510ms/step - loss: 3.4270 - pi_loss: 3.2572 - v_loss: 0.1698\n",
            "Epoch 9/10\n",
            "126/126 [==============================] - 64s 507ms/step - loss: 3.3498 - pi_loss: 3.1862 - v_loss: 0.1636\n",
            "Epoch 10/10\n",
            "126/126 [==============================] - 63s 496ms/step - loss: 3.2811 - pi_loss: 3.1332 - v_loss: 0.1479\n"
          ]
        },
        {
          "name": "stderr",
          "output_type": "stream",
          "text": [
            "2024-01-11 20:35:55 d355fa53f372 Coach[1187] INFO PITTING AGAINST PREVIOUS VERSION\n",
            "Arena.playGames (1): 100%|██████████| 10/10 [06:18<00:00, 37.82s/it]\n",
            "Arena.playGames (2): 100%|██████████| 10/10 [05:03<00:00, 30.32s/it]\n",
            "2024-01-11 20:47:16 d355fa53f372 Coach[1187] INFO NEW/PREV WINS : 10 / 10 ; DRAWS : 0\n",
            "2024-01-11 20:47:16 d355fa53f372 Coach[1187] INFO REJECTING NEW MODEL\n",
            "2024-01-11 20:47:19 d355fa53f372 Coach[1187] INFO Starting Iter #4 ...\n",
            "Self Play: 100%|██████████| 15/15 [10:51<00:00, 43.42s/it]\n"
          ]
        },
        {
          "name": "stdout",
          "output_type": "stream",
          "text": [
            "Checkpoint Directory exists! \n",
            "Epoch 1/10\n",
            "163/163 [==============================] - 100s 607ms/step - loss: 4.9958 - pi_loss: 4.2056 - v_loss: 0.7902\n",
            "Epoch 2/10\n",
            "163/163 [==============================] - 84s 518ms/step - loss: 4.4819 - pi_loss: 3.9327 - v_loss: 0.5492\n",
            "Epoch 3/10\n",
            "163/163 [==============================] - 88s 540ms/step - loss: 4.1897 - pi_loss: 3.7765 - v_loss: 0.4131\n",
            "Epoch 4/10\n",
            "163/163 [==============================] - 84s 519ms/step - loss: 3.9313 - pi_loss: 3.6420 - v_loss: 0.2893\n",
            "Epoch 5/10\n",
            "163/163 [==============================] - 84s 517ms/step - loss: 3.7851 - pi_loss: 3.5317 - v_loss: 0.2534\n",
            "Epoch 6/10\n",
            "163/163 [==============================] - 84s 513ms/step - loss: 3.6671 - pi_loss: 3.4434 - v_loss: 0.2237\n",
            "Epoch 7/10\n",
            "163/163 [==============================] - 83s 512ms/step - loss: 3.5729 - pi_loss: 3.3716 - v_loss: 0.2013\n",
            "Epoch 8/10\n",
            "163/163 [==============================] - 93s 574ms/step - loss: 3.4601 - pi_loss: 3.2866 - v_loss: 0.1735\n",
            "Epoch 9/10\n",
            "163/163 [==============================] - 84s 516ms/step - loss: 3.3749 - pi_loss: 3.2101 - v_loss: 0.1648\n",
            "Epoch 10/10\n",
            "163/163 [==============================] - 84s 513ms/step - loss: 3.3141 - pi_loss: 3.1561 - v_loss: 0.1580\n"
          ]
        },
        {
          "name": "stderr",
          "output_type": "stream",
          "text": [
            "2024-01-11 21:13:40 d355fa53f372 Coach[1187] INFO PITTING AGAINST PREVIOUS VERSION\n",
            "Arena.playGames (1): 100%|██████████| 10/10 [02:51<00:00, 17.14s/it]\n",
            "Arena.playGames (2): 100%|██████████| 10/10 [03:48<00:00, 22.90s/it]\n",
            "2024-01-11 21:20:21 d355fa53f372 Coach[1187] INFO NEW/PREV WINS : 7 / 13 ; DRAWS : 0\n",
            "2024-01-11 21:20:21 d355fa53f372 Coach[1187] INFO REJECTING NEW MODEL\n",
            "2024-01-11 21:20:23 d355fa53f372 Coach[1187] INFO Starting Iter #5 ...\n",
            "Self Play: 100%|██████████| 15/15 [12:12<00:00, 48.83s/it]\n"
          ]
        },
        {
          "name": "stdout",
          "output_type": "stream",
          "text": [
            "Checkpoint Directory exists! \n",
            "Epoch 1/10\n",
            "198/198 [==============================] - 103s 513ms/step - loss: 5.0298 - pi_loss: 4.2184 - v_loss: 0.8114\n",
            "Epoch 2/10\n",
            "198/198 [==============================] - 101s 510ms/step - loss: 4.4916 - pi_loss: 3.9582 - v_loss: 0.5334\n",
            "Epoch 3/10\n",
            "198/198 [==============================] - 101s 511ms/step - loss: 4.1889 - pi_loss: 3.8126 - v_loss: 0.3764\n",
            "Epoch 4/10\n",
            "198/198 [==============================] - 101s 510ms/step - loss: 3.9932 - pi_loss: 3.6969 - v_loss: 0.2963\n",
            "Epoch 5/10\n",
            "198/198 [==============================] - 101s 512ms/step - loss: 3.8230 - pi_loss: 3.5756 - v_loss: 0.2474\n",
            "Epoch 6/10\n",
            "198/198 [==============================] - 101s 508ms/step - loss: 3.6995 - pi_loss: 3.4832 - v_loss: 0.2163\n",
            "Epoch 7/10\n",
            "198/198 [==============================] - 97s 491ms/step - loss: 3.6004 - pi_loss: 3.4116 - v_loss: 0.1889\n",
            "Epoch 8/10\n",
            "198/198 [==============================] - 97s 489ms/step - loss: 3.5089 - pi_loss: 3.3330 - v_loss: 0.1759\n",
            "Epoch 9/10\n",
            "198/198 [==============================] - 96s 487ms/step - loss: 3.4281 - pi_loss: 3.2651 - v_loss: 0.1631\n",
            "Epoch 10/10\n",
            "198/198 [==============================] - 98s 496ms/step - loss: 3.3398 - pi_loss: 3.1865 - v_loss: 0.1533\n"
          ]
        },
        {
          "name": "stderr",
          "output_type": "stream",
          "text": [
            "2024-01-11 21:50:08 d355fa53f372 Coach[1187] INFO PITTING AGAINST PREVIOUS VERSION\n",
            "Arena.playGames (1): 100%|██████████| 10/10 [03:13<00:00, 19.35s/it]\n",
            "Arena.playGames (2): 100%|██████████| 10/10 [03:22<00:00, 20.26s/it]\n",
            "2024-01-11 21:56:44 d355fa53f372 Coach[1187] INFO NEW/PREV WINS : 9 / 11 ; DRAWS : 0\n",
            "2024-01-11 21:56:44 d355fa53f372 Coach[1187] INFO REJECTING NEW MODEL\n",
            "2024-01-11 21:56:47 d355fa53f372 Coach[1187] INFO Starting Iter #6 ...\n",
            "Self Play: 100%|██████████| 15/15 [13:25<00:00, 53.71s/it]\n"
          ]
        },
        {
          "name": "stdout",
          "output_type": "stream",
          "text": [
            "Checkpoint Directory exists! \n",
            "Epoch 1/10\n",
            "239/239 [==============================] - 118s 486ms/step - loss: 5.0327 - pi_loss: 4.1912 - v_loss: 0.8415\n",
            "Epoch 2/10\n",
            "239/239 [==============================] - 118s 495ms/step - loss: 4.4940 - pi_loss: 3.9624 - v_loss: 0.5316\n",
            "Epoch 3/10\n",
            "239/239 [==============================] - 116s 485ms/step - loss: 4.2007 - pi_loss: 3.8067 - v_loss: 0.3940\n",
            "Epoch 4/10\n",
            "239/239 [==============================] - 118s 491ms/step - loss: 3.9903 - pi_loss: 3.6841 - v_loss: 0.3062\n",
            "Epoch 5/10\n",
            "239/239 [==============================] - 116s 487ms/step - loss: 3.8474 - pi_loss: 3.5835 - v_loss: 0.2639\n",
            "Epoch 6/10\n",
            "239/239 [==============================] - 117s 487ms/step - loss: 3.7133 - pi_loss: 3.4904 - v_loss: 0.2230\n",
            "Epoch 7/10\n",
            "239/239 [==============================] - 115s 483ms/step - loss: 3.6114 - pi_loss: 3.4104 - v_loss: 0.2010\n",
            "Epoch 8/10\n",
            "239/239 [==============================] - 117s 487ms/step - loss: 3.5249 - pi_loss: 3.3331 - v_loss: 0.1918\n",
            "Epoch 9/10\n",
            "239/239 [==============================] - 114s 479ms/step - loss: 3.4510 - pi_loss: 3.2704 - v_loss: 0.1806\n",
            "Epoch 10/10\n",
            "239/239 [==============================] - 117s 488ms/step - loss: 3.3603 - pi_loss: 3.1907 - v_loss: 0.1697\n"
          ]
        },
        {
          "name": "stderr",
          "output_type": "stream",
          "text": [
            "2024-01-11 22:30:46 d355fa53f372 Coach[1187] INFO PITTING AGAINST PREVIOUS VERSION\n",
            "Arena.playGames (1): 100%|██████████| 10/10 [04:06<00:00, 24.68s/it]\n",
            "Arena.playGames (2): 100%|██████████| 10/10 [01:36<00:00,  9.69s/it]\n",
            "2024-01-11 22:36:30 d355fa53f372 Coach[1187] INFO NEW/PREV WINS : 7 / 13 ; DRAWS : 0\n",
            "2024-01-11 22:36:30 d355fa53f372 Coach[1187] INFO REJECTING NEW MODEL\n",
            "2024-01-11 22:36:32 d355fa53f372 Coach[1187] INFO Starting Iter #7 ...\n",
            "Self Play: 100%|██████████| 15/15 [12:54<00:00, 51.66s/it]\n"
          ]
        },
        {
          "name": "stdout",
          "output_type": "stream",
          "text": [
            "Checkpoint Directory exists! \n",
            "Epoch 1/10\n",
            "280/280 [==============================] - 137s 483ms/step - loss: 4.9641 - pi_loss: 4.1582 - v_loss: 0.8059\n",
            "Epoch 2/10\n",
            "280/280 [==============================] - 136s 485ms/step - loss: 4.4490 - pi_loss: 3.9237 - v_loss: 0.5253\n",
            "Epoch 3/10\n",
            "280/280 [==============================] - 136s 486ms/step - loss: 4.1698 - pi_loss: 3.7787 - v_loss: 0.3911\n",
            "Epoch 4/10\n",
            "280/280 [==============================] - 137s 488ms/step - loss: 3.9731 - pi_loss: 3.6653 - v_loss: 0.3077\n",
            "Epoch 5/10\n",
            "280/280 [==============================] - 135s 481ms/step - loss: 3.8289 - pi_loss: 3.5683 - v_loss: 0.2606\n",
            "Epoch 6/10\n",
            "280/280 [==============================] - 136s 485ms/step - loss: 3.7004 - pi_loss: 3.4766 - v_loss: 0.2238\n",
            "Epoch 7/10\n",
            "280/280 [==============================] - 137s 490ms/step - loss: 3.5921 - pi_loss: 3.3919 - v_loss: 0.2002\n",
            "Epoch 8/10\n",
            "280/280 [==============================] - 136s 487ms/step - loss: 3.5102 - pi_loss: 3.3200 - v_loss: 0.1902\n",
            "Epoch 9/10\n",
            "280/280 [==============================] - 135s 483ms/step - loss: 3.4242 - pi_loss: 3.2465 - v_loss: 0.1778\n",
            "Epoch 10/10\n",
            "280/280 [==============================] - 138s 491ms/step - loss: 3.3437 - pi_loss: 3.1759 - v_loss: 0.1678\n"
          ]
        },
        {
          "name": "stderr",
          "output_type": "stream",
          "text": [
            "2024-01-11 23:12:20 d355fa53f372 Coach[1187] INFO PITTING AGAINST PREVIOUS VERSION\n",
            "Arena.playGames (1): 100%|██████████| 10/10 [03:18<00:00, 19.89s/it]\n",
            "Arena.playGames (2): 100%|██████████| 10/10 [05:46<00:00, 34.62s/it]\n",
            "2024-01-11 23:21:25 d355fa53f372 Coach[1187] INFO NEW/PREV WINS : 7 / 13 ; DRAWS : 0\n",
            "2024-01-11 23:21:25 d355fa53f372 Coach[1187] INFO REJECTING NEW MODEL\n",
            "2024-01-11 23:21:27 d355fa53f372 Coach[1187] INFO Starting Iter #8 ...\n",
            "Self Play: 100%|██████████| 15/15 [11:45<00:00, 47.05s/it]\n"
          ]
        },
        {
          "name": "stdout",
          "output_type": "stream",
          "text": [
            "Checkpoint Directory exists! \n",
            "Epoch 1/10\n",
            "318/318 [==============================] - 154s 477ms/step - loss: 4.9954 - pi_loss: 4.1433 - v_loss: 0.8521\n",
            "Epoch 2/10\n",
            "318/318 [==============================] - 153s 479ms/step - loss: 4.4925 - pi_loss: 3.9225 - v_loss: 0.5700\n",
            "Epoch 3/10\n",
            "318/318 [==============================] - 153s 480ms/step - loss: 4.1719 - pi_loss: 3.7700 - v_loss: 0.4019\n",
            "Epoch 4/10\n",
            "318/318 [==============================] - 152s 479ms/step - loss: 3.9610 - pi_loss: 3.6552 - v_loss: 0.3058\n",
            "Epoch 5/10\n",
            "318/318 [==============================] - 152s 477ms/step - loss: 3.8228 - pi_loss: 3.5578 - v_loss: 0.2650\n",
            "Epoch 6/10\n",
            "318/318 [==============================] - 150s 472ms/step - loss: 3.7023 - pi_loss: 3.4719 - v_loss: 0.2303\n",
            "Epoch 7/10\n",
            "318/318 [==============================] - 152s 478ms/step - loss: 3.5998 - pi_loss: 3.3909 - v_loss: 0.2089\n",
            "Epoch 8/10\n",
            "318/318 [==============================] - 152s 479ms/step - loss: 3.4959 - pi_loss: 3.3098 - v_loss: 0.1861\n",
            "Epoch 9/10\n",
            "318/318 [==============================] - 152s 478ms/step - loss: 3.4261 - pi_loss: 3.2463 - v_loss: 0.1798\n",
            "Epoch 10/10\n",
            "318/318 [==============================] - 150s 472ms/step - loss: 3.3408 - pi_loss: 3.1713 - v_loss: 0.1695\n"
          ]
        },
        {
          "name": "stderr",
          "output_type": "stream",
          "text": [
            "2024-01-11 23:58:43 d355fa53f372 Coach[1187] INFO PITTING AGAINST PREVIOUS VERSION\n",
            "Arena.playGames (1): 100%|██████████| 10/10 [05:05<00:00, 30.52s/it]\n",
            "Arena.playGames (2): 100%|██████████| 10/10 [06:54<00:00, 41.40s/it]\n",
            "2024-01-12 00:10:42 d355fa53f372 Coach[1187] INFO NEW/PREV WINS : 10 / 10 ; DRAWS : 0\n",
            "2024-01-12 00:10:42 d355fa53f372 Coach[1187] INFO REJECTING NEW MODEL\n",
            "2024-01-12 00:10:45 d355fa53f372 Coach[1187] INFO Starting Iter #9 ...\n",
            "Self Play: 100%|██████████| 15/15 [14:02<00:00, 56.16s/it]\n"
          ]
        },
        {
          "name": "stdout",
          "output_type": "stream",
          "text": [
            "Checkpoint Directory exists! \n",
            "Epoch 1/10\n",
            "360/360 [==============================] - 177s 486ms/step - loss: 4.9873 - pi_loss: 4.1524 - v_loss: 0.8349\n",
            "Epoch 2/10\n",
            "360/360 [==============================] - 174s 483ms/step - loss: 4.4761 - pi_loss: 3.9186 - v_loss: 0.5575\n",
            "Epoch 3/10\n",
            "360/360 [==============================] - 175s 485ms/step - loss: 4.1648 - pi_loss: 3.7673 - v_loss: 0.3975\n",
            "Epoch 4/10\n",
            "197/360 [===============>..............] - ETA: 1:20 - loss: 3.9426 - pi_loss: 3.6347 - v_loss: 0.3079"
          ]
        }
      ],
      "source": [
        "args = dotdict({\n",
        "    'numIters': 20,\n",
        "    'numEps': 15,              # Number of complete self-play games to simulate during a new iteration.\n",
        "    'tempThreshold': 15,        #\n",
        "    'updateThreshold': 0.6,     # During arena playoff, new neural net will be accepted if threshold or more of games are won.\n",
        "    'maxlenOfQueue': 100000,    # Number of game examples to train the neural networks.\n",
        "    'numMCTSSims': 25,          # Number of games moves for MCTS to simulate.\n",
        "    'arenaCompare': 20,         # Number of games to play during arena play to determine if new net will be accepted.\n",
        "    'cpuct': 1,\n",
        "\n",
        "    'checkpoint': '/content/drive/MyDrive/go_trabalho2_liacd/models/go/9x9',\n",
        "    'load_model': False,\n",
        "    'load_folder_file': ('/content/drive/MyDrive/go_trabalho2_liacd/models/go/9x9', 'best.h5'),\n",
        "    'numItersForTrainExamplesHistory': 20,\n",
        "\n",
        "})\n",
        "\n",
        "\n",
        "\n",
        "log.info('Loading %s...', Game.__name__)\n",
        "g = Game(9)\n",
        "\n",
        "log.info('Loading %s...', nn.__name__)\n",
        "nnet = nn(g)\n",
        "\n",
        "if args.load_model:\n",
        "    log.info('Loading checkpoint \"%s/%s\"...', args.load_folder_file[0], args.load_folder_file[1])\n",
        "    nnet.load_model(args.load_folder_file[0], args.load_folder_file[1])\n",
        "else:\n",
        "    log.warning('Not loading a checkpoint!')\n",
        "\n",
        "log.info('Loading the Coach...')\n",
        "c = Coach(g, nnet, args)\n",
        "\n",
        "if args.load_model:\n",
        "    log.info(\"Loading 'trainExamples' from file...\")\n",
        "    c.loadTrainExamples()\n",
        "\n",
        "log.info('Starting the learning process 🎉')\n",
        "c.learn()\n",
        "\n"
      ]
    },
    {
      "cell_type": "markdown",
      "source": [
        "#Segundo Treino Com A Nova Função De Score"
      ],
      "metadata": {
        "id": "-0Hv2A4aQJvW"
      }
    },
    {
      "cell_type": "code",
      "execution_count": null,
      "metadata": {
        "id": "rUNYkbovXgdk",
        "colab": {
          "base_uri": "https://localhost:8080/"
        },
        "outputId": "d732ee9a-695e-4541-e662-9661c73f2279"
      },
      "outputs": [
        {
          "metadata": {
            "tags": null
          },
          "name": "stderr",
          "output_type": "stream",
          "text": [
            "2024-01-12 10:39:49 1abd6ef445f9 __main__[394] INFO Loading GoGame...\n",
            "2024-01-12 10:39:49 1abd6ef445f9 __main__[394] INFO Loading NNetWrapper...\n",
            "2024-01-12 10:39:50 1abd6ef445f9 __main__[394] INFO Loading checkpoint \"/content/drive/MyDrive/go_trabalho2_liacd/models/go/9x9/best.h5\"...\n",
            "2024-01-12 10:39:54 1abd6ef445f9 __main__[394] INFO Loading the Coach...\n",
            "2024-01-12 10:39:54 1abd6ef445f9 __main__[394] INFO Loading 'trainExamples' from file...\n",
            "2024-01-12 10:39:54 1abd6ef445f9 Coach[394] INFO File with trainExamples found. Loading it...\n",
            "2024-01-12 10:39:57 1abd6ef445f9 Coach[394] INFO Loading done!\n",
            "2024-01-12 10:39:57 1abd6ef445f9 __main__[394] INFO Starting the learning process 🎉\n",
            "2024-01-12 10:39:57 1abd6ef445f9 Coach[394] INFO Starting Iter #1 ...\n"
          ]
        },
        {
          "metadata": {
            "tags": null
          },
          "name": "stdout",
          "output_type": "stream",
          "text": [
            "Checkpoint Directory exists! \n"
          ]
        },
        {
          "metadata": {
            "tags": null
          },
          "name": "stderr",
          "output_type": "stream",
          "text": [
            "/usr/local/lib/python3.10/dist-packages/keras/src/engine/training.py:3103: UserWarning: You are saving your model as an HDF5 file via `model.save()`. This file format is considered legacy. We recommend using instead the native Keras format, e.g. `model.save('my_model.keras')`.\n",
            "  saving_api.save_model(\n"
          ]
        },
        {
          "metadata": {
            "tags": null
          },
          "name": "stdout",
          "output_type": "stream",
          "text": [
            "Epoch 1/10\n",
            "360/360 [==============================] - 152s 417ms/step - loss: 4.9959 - pi_loss: 4.1366 - v_loss: 0.8592\n",
            "Epoch 2/10\n",
            "360/360 [==============================] - 157s 437ms/step - loss: 4.4518 - pi_loss: 3.9038 - v_loss: 0.5480\n",
            "Epoch 3/10\n",
            "360/360 [==============================] - 153s 426ms/step - loss: 4.1524 - pi_loss: 3.7633 - v_loss: 0.3891\n",
            "Epoch 4/10\n",
            "360/360 [==============================] - 150s 418ms/step - loss: 3.9589 - pi_loss: 3.6527 - v_loss: 0.3063\n",
            "Epoch 5/10\n",
            "360/360 [==============================] - 152s 422ms/step - loss: 3.8141 - pi_loss: 3.5622 - v_loss: 0.2519\n",
            "Epoch 6/10\n",
            "360/360 [==============================] - 160s 445ms/step - loss: 3.7074 - pi_loss: 3.4797 - v_loss: 0.2277\n",
            "Epoch 7/10\n",
            "360/360 [==============================] - 153s 425ms/step - loss: 3.5950 - pi_loss: 3.3969 - v_loss: 0.1981\n",
            "Epoch 8/10\n",
            "360/360 [==============================] - 150s 416ms/step - loss: 3.5145 - pi_loss: 3.3237 - v_loss: 0.1908\n",
            "Epoch 9/10\n",
            "360/360 [==============================] - 153s 426ms/step - loss: 3.4156 - pi_loss: 3.2469 - v_loss: 0.1687\n",
            "Epoch 10/10\n",
            "360/360 [==============================] - 159s 441ms/step - loss: 3.3394 - pi_loss: 3.1775 - v_loss: 0.1619\n"
          ]
        },
        {
          "metadata": {
            "tags": null
          },
          "name": "stderr",
          "output_type": "stream",
          "text": [
            "2024-01-12 11:06:30 1abd6ef445f9 Coach[394] INFO PITTING AGAINST PREVIOUS VERSION\n",
            "Arena.playGames (1): 100%|██████████| 10/10 [03:16<00:00, 19.69s/it]\n",
            "Arena.playGames (2): 100%|██████████| 10/10 [02:19<00:00, 13.93s/it]\n",
            "2024-01-12 11:12:07 1abd6ef445f9 Coach[394] INFO NEW/PREV WINS : 7 / 13 ; DRAWS : 0\n",
            "2024-01-12 11:12:07 1abd6ef445f9 Coach[394] INFO REJECTING NEW MODEL\n",
            "2024-01-12 11:12:10 1abd6ef445f9 Coach[394] INFO Starting Iter #2 ...\n",
            "Self Play: 100%|██████████| 15/15 [11:44<00:00, 46.96s/it]\n"
          ]
        },
        {
          "metadata": {
            "tags": null
          },
          "name": "stdout",
          "output_type": "stream",
          "text": [
            "Checkpoint Directory exists! \n",
            "Epoch 1/10\n",
            "403/403 [==============================] - 181s 443ms/step - loss: 4.9232 - pi_loss: 4.1207 - v_loss: 0.8025\n",
            "Epoch 2/10\n",
            "403/403 [==============================] - 169s 420ms/step - loss: 4.4231 - pi_loss: 3.8879 - v_loss: 0.5352\n",
            "Epoch 3/10\n",
            "403/403 [==============================] - 168s 416ms/step - loss: 4.1450 - pi_loss: 3.7547 - v_loss: 0.3903\n",
            "Epoch 4/10\n",
            "403/403 [==============================] - 168s 418ms/step - loss: 3.9541 - pi_loss: 3.6509 - v_loss: 0.3032\n",
            "Epoch 5/10\n",
            "403/403 [==============================] - 175s 433ms/step - loss: 3.7998 - pi_loss: 3.5571 - v_loss: 0.2427\n",
            "Epoch 6/10\n",
            "403/403 [==============================] - 166s 412ms/step - loss: 3.6979 - pi_loss: 3.4791 - v_loss: 0.2188\n",
            "Epoch 7/10\n",
            "403/403 [==============================] - 167s 415ms/step - loss: 3.5972 - pi_loss: 3.3999 - v_loss: 0.1973\n",
            "Epoch 8/10\n",
            "403/403 [==============================] - 174s 431ms/step - loss: 3.5038 - pi_loss: 3.3240 - v_loss: 0.1797\n",
            "Epoch 9/10\n",
            "403/403 [==============================] - 168s 417ms/step - loss: 3.4250 - pi_loss: 3.2538 - v_loss: 0.1712\n",
            "Epoch 10/10\n",
            "403/403 [==============================] - 166s 412ms/step - loss: 3.3426 - pi_loss: 3.1828 - v_loss: 0.1597\n"
          ]
        },
        {
          "metadata": {
            "tags": null
          },
          "name": "stderr",
          "output_type": "stream",
          "text": [
            "2024-01-12 11:52:33 1abd6ef445f9 Coach[394] INFO PITTING AGAINST PREVIOUS VERSION\n",
            "Arena.playGames (1): 100%|██████████| 10/10 [01:57<00:00, 11.79s/it]\n",
            "Arena.playGames (2): 100%|██████████| 10/10 [01:36<00:00,  9.66s/it]\n",
            "2024-01-12 11:56:08 1abd6ef445f9 Coach[394] INFO NEW/PREV WINS : 4 / 16 ; DRAWS : 0\n",
            "2024-01-12 11:56:08 1abd6ef445f9 Coach[394] INFO REJECTING NEW MODEL\n",
            "2024-01-12 11:56:13 1abd6ef445f9 Coach[394] INFO Starting Iter #3 ...\n",
            "Self Play: 100%|██████████| 15/15 [12:16<00:00, 49.12s/it]\n"
          ]
        },
        {
          "metadata": {
            "tags": null
          },
          "name": "stdout",
          "output_type": "stream",
          "text": [
            "Checkpoint Directory exists! \n",
            "Epoch 1/10\n",
            "449/449 [==============================] - 185s 408ms/step - loss: 4.9063 - pi_loss: 4.1109 - v_loss: 0.7954\n",
            "Epoch 2/10\n",
            "449/449 [==============================] - 180s 401ms/step - loss: 4.3998 - pi_loss: 3.8745 - v_loss: 0.5253\n",
            "Epoch 3/10\n",
            "449/449 [==============================] - 180s 402ms/step - loss: 4.1119 - pi_loss: 3.7347 - v_loss: 0.3773\n",
            "Epoch 4/10\n",
            "449/449 [==============================] - 186s 413ms/step - loss: 3.9315 - pi_loss: 3.6334 - v_loss: 0.2981\n",
            "Epoch 5/10\n",
            "449/449 [==============================] - 182s 406ms/step - loss: 3.8031 - pi_loss: 3.5480 - v_loss: 0.2551\n",
            "Epoch 6/10\n",
            "449/449 [==============================] - 182s 405ms/step - loss: 3.6873 - pi_loss: 3.4634 - v_loss: 0.2239\n",
            "Epoch 7/10\n",
            "449/449 [==============================] - 185s 412ms/step - loss: 3.5862 - pi_loss: 3.3856 - v_loss: 0.2006\n",
            "Epoch 8/10\n",
            "449/449 [==============================] - 183s 407ms/step - loss: 3.4913 - pi_loss: 3.3068 - v_loss: 0.1845\n",
            "Epoch 9/10\n",
            "449/449 [==============================] - 181s 404ms/step - loss: 3.4018 - pi_loss: 3.2315 - v_loss: 0.1704\n",
            "Epoch 10/10\n",
            "449/449 [==============================] - 183s 407ms/step - loss: 3.3126 - pi_loss: 3.1540 - v_loss: 0.1585\n"
          ]
        },
        {
          "metadata": {
            "tags": null
          },
          "name": "stderr",
          "output_type": "stream",
          "text": [
            "2024-01-12 12:40:08 1abd6ef445f9 Coach[394] INFO PITTING AGAINST PREVIOUS VERSION\n",
            "Arena.playGames (1): 100%|██████████| 10/10 [04:47<00:00, 28.77s/it]\n",
            "Arena.playGames (2): 100%|██████████| 10/10 [02:42<00:00, 16.29s/it]\n",
            "2024-01-12 12:47:39 1abd6ef445f9 Coach[394] INFO NEW/PREV WINS : 9 / 11 ; DRAWS : 0\n",
            "2024-01-12 12:47:39 1abd6ef445f9 Coach[394] INFO REJECTING NEW MODEL\n",
            "2024-01-12 12:47:42 1abd6ef445f9 Coach[394] INFO Starting Iter #4 ...\n",
            "Self Play: 100%|██████████| 15/15 [12:23<00:00, 49.59s/it]\n"
          ]
        },
        {
          "metadata": {
            "tags": null
          },
          "name": "stdout",
          "output_type": "stream",
          "text": [
            "Checkpoint Directory exists! \n",
            "Epoch 1/10\n",
            "496/496 [==============================] - 202s 402ms/step - loss: 4.8940 - pi_loss: 4.0890 - v_loss: 0.8050\n",
            "Epoch 2/10\n",
            "496/496 [==============================] - 202s 408ms/step - loss: 4.3632 - pi_loss: 3.8541 - v_loss: 0.5091\n",
            "Epoch 3/10\n",
            "496/496 [==============================] - 213s 429ms/step - loss: 4.0937 - pi_loss: 3.7212 - v_loss: 0.3725\n",
            "Epoch 4/10\n",
            "496/496 [==============================] - 204s 411ms/step - loss: 3.9145 - pi_loss: 3.6173 - v_loss: 0.2971\n",
            "Epoch 5/10\n",
            "496/496 [==============================] - 206s 415ms/step - loss: 3.7907 - pi_loss: 3.5313 - v_loss: 0.2594\n",
            "Epoch 6/10\n",
            "496/496 [==============================] - 209s 422ms/step - loss: 3.6789 - pi_loss: 3.4487 - v_loss: 0.2301\n",
            "Epoch 7/10\n",
            "496/496 [==============================] - 201s 405ms/step - loss: 3.5680 - pi_loss: 3.3668 - v_loss: 0.2012\n",
            "Epoch 8/10\n",
            "496/496 [==============================] - 203s 408ms/step - loss: 3.4819 - pi_loss: 3.2952 - v_loss: 0.1867\n",
            "Epoch 9/10\n",
            "496/496 [==============================] - 216s 436ms/step - loss: 3.3900 - pi_loss: 3.2143 - v_loss: 0.1757\n",
            "Epoch 10/10\n",
            "496/496 [==============================] - 201s 406ms/step - loss: 3.2983 - pi_loss: 3.1365 - v_loss: 0.1618\n"
          ]
        },
        {
          "metadata": {
            "tags": null
          },
          "name": "stderr",
          "output_type": "stream",
          "text": [
            "2024-01-12 13:34:45 1abd6ef445f9 Coach[394] INFO PITTING AGAINST PREVIOUS VERSION\n",
            "Arena.playGames (1): 100%|██████████| 10/10 [04:19<00:00, 25.96s/it]\n",
            "Arena.playGames (2): 100%|██████████| 10/10 [05:22<00:00, 32.28s/it]\n",
            "2024-01-12 13:44:28 1abd6ef445f9 Coach[394] INFO NEW/PREV WINS : 6 / 14 ; DRAWS : 0\n",
            "2024-01-12 13:44:28 1abd6ef445f9 Coach[394] INFO REJECTING NEW MODEL\n",
            "2024-01-12 13:44:31 1abd6ef445f9 Coach[394] INFO Starting Iter #5 ...\n",
            "Self Play: 100%|██████████| 15/15 [13:48<00:00, 55.24s/it]\n"
          ]
        },
        {
          "metadata": {
            "tags": null
          },
          "name": "stdout",
          "output_type": "stream",
          "text": [
            "Checkpoint Directory exists! \n",
            "Epoch 1/10\n",
            "545/545 [==============================] - 223s 408ms/step - loss: 4.8829 - pi_loss: 4.0785 - v_loss: 0.8044\n",
            "Epoch 2/10\n",
            "545/545 [==============================] - 221s 406ms/step - loss: 4.3472 - pi_loss: 3.8473 - v_loss: 0.4999\n",
            "Epoch 3/10\n",
            "545/545 [==============================] - 219s 403ms/step - loss: 4.0807 - pi_loss: 3.7175 - v_loss: 0.3632\n",
            "Epoch 4/10\n",
            "545/545 [==============================] - 224s 412ms/step - loss: 3.9193 - pi_loss: 3.6225 - v_loss: 0.2968\n",
            "Epoch 5/10\n",
            "545/545 [==============================] - 228s 419ms/step - loss: 3.7910 - pi_loss: 3.5336 - v_loss: 0.2574\n",
            "Epoch 6/10\n",
            "545/545 [==============================] - 233s 427ms/step - loss: 3.6725 - pi_loss: 3.4548 - v_loss: 0.2177\n",
            "Epoch 7/10\n",
            "545/545 [==============================] - 229s 421ms/step - loss: 3.5818 - pi_loss: 3.3754 - v_loss: 0.2064\n",
            "Epoch 8/10\n",
            "545/545 [==============================] - 232s 426ms/step - loss: 3.4832 - pi_loss: 3.2929 - v_loss: 0.1903\n",
            "Epoch 9/10\n",
            "545/545 [==============================] - 224s 411ms/step - loss: 3.3862 - pi_loss: 3.2091 - v_loss: 0.1771\n",
            "Epoch 10/10\n",
            "545/545 [==============================] - 227s 417ms/step - loss: 3.3003 - pi_loss: 3.1376 - v_loss: 0.1627\n"
          ]
        },
        {
          "metadata": {
            "tags": null
          },
          "name": "stderr",
          "output_type": "stream",
          "text": [
            "2024-01-12 14:36:19 1abd6ef445f9 Coach[394] INFO PITTING AGAINST PREVIOUS VERSION\n",
            "Arena.playGames (1): 100%|██████████| 10/10 [02:37<00:00, 15.77s/it]\n",
            "Arena.playGames (2): 100%|██████████| 10/10 [01:11<00:00,  7.13s/it]\n",
            "2024-01-12 14:40:08 1abd6ef445f9 Coach[394] INFO NEW/PREV WINS : 5 / 15 ; DRAWS : 0\n",
            "2024-01-12 14:40:08 1abd6ef445f9 Coach[394] INFO REJECTING NEW MODEL\n",
            "2024-01-12 14:40:10 1abd6ef445f9 Coach[394] INFO Starting Iter #6 ...\n",
            "Self Play: 100%|██████████| 15/15 [10:18<00:00, 41.22s/it]\n"
          ]
        },
        {
          "metadata": {
            "tags": null
          },
          "name": "stdout",
          "output_type": "stream",
          "text": [
            "Checkpoint Directory exists! \n",
            "Epoch 1/10\n",
            "583/583 [==============================] - 237s 404ms/step - loss: 4.8634 - pi_loss: 4.0746 - v_loss: 0.7888\n",
            "Epoch 2/10\n",
            "583/583 [==============================] - 233s 399ms/step - loss: 4.3411 - pi_loss: 3.8388 - v_loss: 0.5023\n",
            "Epoch 3/10\n",
            "583/583 [==============================] - 230s 395ms/step - loss: 4.0662 - pi_loss: 3.7072 - v_loss: 0.3590\n",
            "Epoch 4/10\n",
            "583/583 [==============================] - 235s 403ms/step - loss: 3.9155 - pi_loss: 3.6179 - v_loss: 0.2977\n",
            "Epoch 5/10\n",
            "583/583 [==============================] - 232s 399ms/step - loss: 3.7855 - pi_loss: 3.5297 - v_loss: 0.2559\n",
            "Epoch 6/10\n",
            "583/583 [==============================] - 234s 401ms/step - loss: 3.6774 - pi_loss: 3.4504 - v_loss: 0.2270\n",
            "Epoch 7/10\n",
            "583/583 [==============================] - 234s 401ms/step - loss: 3.5716 - pi_loss: 3.3681 - v_loss: 0.2034\n",
            "Epoch 8/10\n",
            "583/583 [==============================] - 235s 403ms/step - loss: 3.4768 - pi_loss: 3.2905 - v_loss: 0.1863\n",
            "Epoch 9/10\n",
            "583/583 [==============================] - 233s 400ms/step - loss: 3.3756 - pi_loss: 3.2004 - v_loss: 0.1752\n",
            "Epoch 10/10\n",
            "583/583 [==============================] - 233s 400ms/step - loss: 3.2848 - pi_loss: 3.1263 - v_loss: 0.1586\n"
          ]
        },
        {
          "metadata": {
            "tags": null
          },
          "name": "stderr",
          "output_type": "stream",
          "text": [
            "2024-01-12 15:30:10 1abd6ef445f9 Coach[394] INFO PITTING AGAINST PREVIOUS VERSION\n",
            "Arena.playGames (1): 100%|██████████| 10/10 [02:56<00:00, 17.60s/it]\n",
            "Arena.playGames (2): 100%|██████████| 10/10 [02:27<00:00, 14.77s/it]\n",
            "2024-01-12 15:35:34 1abd6ef445f9 Coach[394] INFO NEW/PREV WINS : 7 / 13 ; DRAWS : 0\n",
            "2024-01-12 15:35:34 1abd6ef445f9 Coach[394] INFO REJECTING NEW MODEL\n",
            "2024-01-12 15:35:36 1abd6ef445f9 Coach[394] INFO Starting Iter #7 ...\n",
            "Self Play: 100%|██████████| 15/15 [11:41<00:00, 46.77s/it]\n"
          ]
        },
        {
          "metadata": {
            "tags": null
          },
          "name": "stdout",
          "output_type": "stream",
          "text": [
            "Checkpoint Directory exists! \n",
            "Epoch 1/10\n",
            "628/628 [==============================] - 252s 398ms/step - loss: 4.8662 - pi_loss: 4.0734 - v_loss: 0.7927\n",
            "Epoch 2/10\n",
            "628/628 [==============================] - 250s 398ms/step - loss: 4.3506 - pi_loss: 3.8450 - v_loss: 0.5056\n",
            "Epoch 3/10\n",
            "628/628 [==============================] - 252s 401ms/step - loss: 4.0931 - pi_loss: 3.7220 - v_loss: 0.3711\n",
            "Epoch 4/10\n",
            "628/628 [==============================] - 252s 402ms/step - loss: 3.9288 - pi_loss: 3.6248 - v_loss: 0.3040\n",
            "Epoch 5/10\n",
            "628/628 [==============================] - 247s 394ms/step - loss: 3.7934 - pi_loss: 3.5386 - v_loss: 0.2548\n",
            "Epoch 6/10\n",
            "628/628 [==============================] - 244s 388ms/step - loss: 3.6885 - pi_loss: 3.4622 - v_loss: 0.2264\n",
            "Epoch 7/10\n",
            "628/628 [==============================] - 244s 388ms/step - loss: 3.5839 - pi_loss: 3.3798 - v_loss: 0.2041\n",
            "Epoch 8/10\n",
            "628/628 [==============================] - 242s 386ms/step - loss: 3.4909 - pi_loss: 3.2990 - v_loss: 0.1920\n",
            "Epoch 9/10\n",
            "628/628 [==============================] - 247s 393ms/step - loss: 3.3904 - pi_loss: 3.2179 - v_loss: 0.1725\n",
            "Epoch 10/10\n",
            "628/628 [==============================] - 245s 390ms/step - loss: 3.2971 - pi_loss: 3.1365 - v_loss: 0.1606\n"
          ]
        },
        {
          "metadata": {
            "tags": null
          },
          "name": "stderr",
          "output_type": "stream",
          "text": [
            "2024-01-12 16:29:00 1abd6ef445f9 Coach[394] INFO PITTING AGAINST PREVIOUS VERSION\n",
            "Arena.playGames (1): 100%|██████████| 10/10 [03:26<00:00, 20.70s/it]\n",
            "Arena.playGames (2): 100%|██████████| 10/10 [02:05<00:00, 12.59s/it]\n",
            "2024-01-12 16:34:33 1abd6ef445f9 Coach[394] INFO NEW/PREV WINS : 7 / 13 ; DRAWS : 0\n",
            "2024-01-12 16:34:33 1abd6ef445f9 Coach[394] INFO REJECTING NEW MODEL\n",
            "2024-01-12 16:34:36 1abd6ef445f9 Coach[394] INFO Starting Iter #8 ...\n",
            "Self Play: 100%|██████████| 15/15 [14:04<00:00, 56.30s/it]\n"
          ]
        },
        {
          "output_type": "stream",
          "name": "stdout",
          "text": [
            "Checkpoint Directory exists! \n",
            "Epoch 1/10\n",
            "676/676 [==============================] - 273s 401ms/step - loss: 4.8683 - pi_loss: 4.0793 - v_loss: 0.7890\n",
            "Epoch 2/10\n",
            "676/676 [==============================] - 265s 391ms/step - loss: 4.3384 - pi_loss: 3.8440 - v_loss: 0.4943\n",
            "Epoch 3/10\n",
            "676/676 [==============================] - 271s 400ms/step - loss: 4.0768 - pi_loss: 3.7228 - v_loss: 0.3540\n",
            "Epoch 4/10\n",
            "676/676 [==============================] - 279s 413ms/step - loss: 3.9248 - pi_loss: 3.6316 - v_loss: 0.2932\n",
            "Epoch 5/10\n",
            "676/676 [==============================] - 272s 402ms/step - loss: 3.7926 - pi_loss: 3.5472 - v_loss: 0.2454\n",
            "Epoch 6/10\n",
            "676/676 [==============================] - 270s 400ms/step - loss: 3.6925 - pi_loss: 3.4720 - v_loss: 0.2206\n",
            "Epoch 7/10\n",
            "676/676 [==============================] - 273s 404ms/step - loss: 3.5925 - pi_loss: 3.3903 - v_loss: 0.2021\n",
            "Epoch 8/10\n",
            "676/676 [==============================] - 277s 410ms/step - loss: 3.4848 - pi_loss: 3.3060 - v_loss: 0.1788\n",
            "Epoch 9/10\n",
            "676/676 [==============================] - 276s 407ms/step - loss: 3.3975 - pi_loss: 3.2324 - v_loss: 0.1650\n",
            "Epoch 10/10\n",
            "676/676 [==============================] - 271s 400ms/step - loss: 3.3025 - pi_loss: 3.1470 - v_loss: 0.1555\n"
          ]
        },
        {
          "output_type": "stream",
          "name": "stderr",
          "text": [
            "2024-01-12 17:35:25 1abd6ef445f9 Coach[394] INFO PITTING AGAINST PREVIOUS VERSION\n",
            "Arena.playGames (1): 100%|██████████| 10/10 [02:23<00:00, 14.34s/it]\n",
            "Arena.playGames (2): 100%|██████████| 10/10 [01:19<00:00,  7.96s/it]\n",
            "2024-01-12 17:39:08 1abd6ef445f9 Coach[394] INFO NEW/PREV WINS : 6 / 14 ; DRAWS : 0\n",
            "2024-01-12 17:39:08 1abd6ef445f9 Coach[394] INFO REJECTING NEW MODEL\n",
            "2024-01-12 17:39:11 1abd6ef445f9 Coach[394] INFO Starting Iter #9 ...\n",
            "Self Play: 100%|██████████| 15/15 [12:35<00:00, 50.34s/it]\n"
          ]
        },
        {
          "output_type": "stream",
          "name": "stdout",
          "text": [
            "Checkpoint Directory exists! \n",
            "Epoch 1/10\n",
            "722/722 [==============================] - 297s 408ms/step - loss: 4.8536 - pi_loss: 4.0771 - v_loss: 0.7765\n",
            "Epoch 2/10\n",
            "722/722 [==============================] - 282s 391ms/step - loss: 4.3285 - pi_loss: 3.8404 - v_loss: 0.4881\n",
            "Epoch 3/10\n",
            "722/722 [==============================] - 289s 400ms/step - loss: 4.0809 - pi_loss: 3.7200 - v_loss: 0.3610\n",
            "Epoch 4/10\n",
            "722/722 [==============================] - 289s 400ms/step - loss: 3.9222 - pi_loss: 3.6278 - v_loss: 0.2944\n",
            "Epoch 5/10\n",
            "722/722 [==============================] - 297s 412ms/step - loss: 3.7979 - pi_loss: 3.5489 - v_loss: 0.2490\n",
            "Epoch 6/10\n",
            "722/722 [==============================] - 294s 408ms/step - loss: 3.6890 - pi_loss: 3.4693 - v_loss: 0.2197\n",
            "Epoch 7/10\n",
            "722/722 [==============================] - 286s 396ms/step - loss: 3.5912 - pi_loss: 3.3885 - v_loss: 0.2027\n",
            "Epoch 8/10\n",
            "722/722 [==============================] - 291s 404ms/step - loss: 3.4863 - pi_loss: 3.3052 - v_loss: 0.1811\n",
            "Epoch 9/10\n",
            "722/722 [==============================] - 289s 401ms/step - loss: 3.3860 - pi_loss: 3.2163 - v_loss: 0.1697\n",
            "Epoch 10/10\n",
            "722/722 [==============================] - 284s 393ms/step - loss: 3.2903 - pi_loss: 3.1340 - v_loss: 0.1563\n"
          ]
        },
        {
          "output_type": "stream",
          "name": "stderr",
          "text": [
            "2024-01-12 18:40:27 1abd6ef445f9 Coach[394] INFO PITTING AGAINST PREVIOUS VERSION\n",
            "Arena.playGames (1): 100%|██████████| 10/10 [02:11<00:00, 13.15s/it]\n",
            "Arena.playGames (2): 100%|██████████| 10/10 [01:26<00:00,  8.67s/it]\n",
            "2024-01-12 18:44:05 1abd6ef445f9 Coach[394] INFO NEW/PREV WINS : 8 / 12 ; DRAWS : 0\n",
            "2024-01-12 18:44:05 1abd6ef445f9 Coach[394] INFO REJECTING NEW MODEL\n",
            "2024-01-12 18:44:08 1abd6ef445f9 Coach[394] INFO Starting Iter #10 ...\n",
            "Self Play: 100%|██████████| 15/15 [16:02<00:00, 64.17s/it]\n"
          ]
        },
        {
          "output_type": "stream",
          "name": "stdout",
          "text": [
            "Checkpoint Directory exists! \n",
            "Epoch 1/10\n",
            "779/779 [==============================] - 328s 417ms/step - loss: 4.8472 - pi_loss: 4.0709 - v_loss: 0.7763\n",
            "Epoch 2/10\n",
            "779/779 [==============================] - 320s 410ms/step - loss: 4.3353 - pi_loss: 3.8358 - v_loss: 0.4995\n",
            "Epoch 3/10\n",
            "779/779 [==============================] - 319s 409ms/step - loss: 4.0911 - pi_loss: 3.7192 - v_loss: 0.3720\n",
            "Epoch 4/10\n",
            "779/779 [==============================] - 325s 417ms/step - loss: 3.9264 - pi_loss: 3.6327 - v_loss: 0.2937\n",
            "Epoch 5/10\n",
            "779/779 [==============================] - 313s 402ms/step - loss: 3.8018 - pi_loss: 3.5438 - v_loss: 0.2580\n",
            "Epoch 6/10\n",
            "779/779 [==============================] - 317s 407ms/step - loss: 3.6939 - pi_loss: 3.4677 - v_loss: 0.2262\n",
            "Epoch 7/10\n",
            "779/779 [==============================] - 309s 397ms/step - loss: 3.5839 - pi_loss: 3.3818 - v_loss: 0.2021\n",
            "Epoch 8/10\n",
            "779/779 [==============================] - 320s 410ms/step - loss: 3.4802 - pi_loss: 3.2971 - v_loss: 0.1831\n",
            "Epoch 9/10\n",
            "779/779 [==============================] - 313s 402ms/step - loss: 3.3789 - pi_loss: 3.2065 - v_loss: 0.1724\n",
            "Epoch 10/10\n",
            "779/779 [==============================] - 332s 427ms/step - loss: 3.2715 - pi_loss: 3.1140 - v_loss: 0.1574\n"
          ]
        },
        {
          "output_type": "stream",
          "name": "stderr",
          "text": [
            "2024-01-12 19:53:51 1abd6ef445f9 Coach[394] INFO PITTING AGAINST PREVIOUS VERSION\n",
            "Arena.playGames (1): 100%|██████████| 10/10 [01:47<00:00, 10.77s/it]\n",
            "Arena.playGames (2): 100%|██████████| 10/10 [03:02<00:00, 18.25s/it]\n",
            "2024-01-12 19:58:42 1abd6ef445f9 Coach[394] INFO NEW/PREV WINS : 4 / 16 ; DRAWS : 0\n",
            "2024-01-12 19:58:42 1abd6ef445f9 Coach[394] INFO REJECTING NEW MODEL\n",
            "2024-01-12 19:58:44 1abd6ef445f9 Coach[394] INFO Starting Iter #11 ...\n",
            "Self Play: 100%|██████████| 15/15 [09:52<00:00, 39.52s/it]\n"
          ]
        },
        {
          "output_type": "stream",
          "name": "stdout",
          "text": [
            "Checkpoint Directory exists! \n",
            "Epoch 1/10\n",
            "818/818 [==============================] - 332s 404ms/step - loss: 4.8491 - pi_loss: 4.0573 - v_loss: 0.7918\n",
            "Epoch 2/10\n",
            "818/818 [==============================] - 331s 405ms/step - loss: 4.3189 - pi_loss: 3.8264 - v_loss: 0.4925\n",
            "Epoch 3/10\n",
            "818/818 [==============================] - 326s 398ms/step - loss: 4.0805 - pi_loss: 3.7138 - v_loss: 0.3667\n",
            "Epoch 4/10\n",
            "818/818 [==============================] - 323s 395ms/step - loss: 3.9237 - pi_loss: 3.6255 - v_loss: 0.2982\n",
            "Epoch 5/10\n",
            "818/818 [==============================] - 325s 397ms/step - loss: 3.8058 - pi_loss: 3.5471 - v_loss: 0.2587\n",
            "Epoch 6/10\n",
            "818/818 [==============================] - 323s 395ms/step - loss: 3.6847 - pi_loss: 3.4602 - v_loss: 0.2245\n",
            "Epoch 7/10\n",
            "818/818 [==============================] - 323s 395ms/step - loss: 3.5884 - pi_loss: 3.3808 - v_loss: 0.2076\n",
            "Epoch 8/10\n",
            "818/818 [==============================] - 324s 396ms/step - loss: 3.4787 - pi_loss: 3.2926 - v_loss: 0.1862\n",
            "Epoch 9/10\n",
            "818/818 [==============================] - 326s 399ms/step - loss: 3.3730 - pi_loss: 3.2002 - v_loss: 0.1728\n",
            "Epoch 10/10\n",
            "818/818 [==============================] - 323s 394ms/step - loss: 3.2771 - pi_loss: 3.1142 - v_loss: 0.1629\n"
          ]
        },
        {
          "output_type": "stream",
          "name": "stderr",
          "text": [
            "2024-01-12 21:03:19 1abd6ef445f9 Coach[394] INFO PITTING AGAINST PREVIOUS VERSION\n",
            "Arena.playGames (1): 100%|██████████| 10/10 [03:24<00:00, 20.44s/it]\n",
            "Arena.playGames (2): 100%|██████████| 10/10 [00:41<00:00,  4.11s/it]\n",
            "2024-01-12 21:07:24 1abd6ef445f9 Coach[394] INFO NEW/PREV WINS : 6 / 14 ; DRAWS : 0\n",
            "2024-01-12 21:07:24 1abd6ef445f9 Coach[394] INFO REJECTING NEW MODEL\n",
            "2024-01-12 21:07:27 1abd6ef445f9 Coach[394] INFO Starting Iter #12 ...\n",
            "Self Play: 100%|██████████| 15/15 [13:43<00:00, 54.88s/it]\n"
          ]
        },
        {
          "output_type": "stream",
          "name": "stdout",
          "text": [
            "Checkpoint Directory exists! \n",
            "Epoch 1/10\n",
            "870/870 [==============================] - 350s 400ms/step - loss: 4.8407 - pi_loss: 4.0498 - v_loss: 0.7910\n",
            "Epoch 2/10\n",
            "870/870 [==============================] - 354s 407ms/step - loss: 4.3122 - pi_loss: 3.8159 - v_loss: 0.4962\n",
            "Epoch 3/10\n",
            "519/870 [================>.............] - ETA: 2:22 - loss: 4.0782 - pi_loss: 3.7030 - v_loss: 0.3752"
          ]
        },
        {
          "output_type": "stream",
          "name": "stderr",
          "text": [
            "2024-01-12 21:36:50 1abd6ef445f9 root[394] ERROR Internal Python error in the inspect module.\n",
            "Below is the traceback from this internal error.\n",
            "\n",
            "2024-01-12 21:36:50 1abd6ef445f9 root[394] INFO \n",
            "Unfortunately, your original traceback can not be constructed.\n",
            "\n",
            "2024-01-12 21:36:50 1abd6ef445f9 root[394] ERROR Internal Python error in the inspect module.\n",
            "Below is the traceback from this internal error.\n",
            "\n",
            "2024-01-12 21:36:50 1abd6ef445f9 root[394] INFO \n",
            "Unfortunately, your original traceback can not be constructed.\n",
            "\n",
            "2024-01-12 21:36:51 1abd6ef445f9 root[394] ERROR Internal Python error in the inspect module.\n",
            "Below is the traceback from this internal error.\n",
            "\n",
            "2024-01-12 21:36:51 1abd6ef445f9 root[394] INFO \n",
            "Unfortunately, your original traceback can not be constructed.\n",
            "\n"
          ]
        },
        {
          "output_type": "stream",
          "name": "stdout",
          "text": [
            "Traceback (most recent call last):\n",
            "  File \"/usr/local/lib/python3.10/dist-packages/IPython/core/interactiveshell.py\", line 3553, in run_code\n",
            "    exec(code_obj, self.user_global_ns, self.user_ns)\n",
            "  File \"<ipython-input-12-c2d02c826ba3>\", line 40, in <cell line: 40>\n",
            "    c.learn()\n",
            "  File \"/content/drive/MyDrive/go_trabalho2_liacd/Coach.py\", line 115, in learn\n",
            "    self.nnet.train(trainExamples)\n",
            "  File \"/content/drive/MyDrive/go_trabalho2_liacd/Go/tensorflow/NNet.py\", line 46, in train\n",
            "    self.nnet.model.fit(x = exp_input_boards, y = [target_pis, target_vs], batch_size = args.batch_size, epochs = args.epochs)\n",
            "  File \"/usr/local/lib/python3.10/dist-packages/keras/src/utils/traceback_utils.py\", line 65, in error_handler\n",
            "    return fn(*args, **kwargs)\n",
            "  File \"/usr/local/lib/python3.10/dist-packages/keras/src/engine/training.py\", line 1807, in fit\n",
            "    tmp_logs = self.train_function(iterator)\n",
            "  File \"/usr/local/lib/python3.10/dist-packages/tensorflow/python/util/traceback_utils.py\", line 150, in error_handler\n",
            "    return fn(*args, **kwargs)\n",
            "  File \"/usr/local/lib/python3.10/dist-packages/tensorflow/python/eager/polymorphic_function/polymorphic_function.py\", line 832, in __call__\n",
            "    result = self._call(*args, **kwds)\n",
            "  File \"/usr/local/lib/python3.10/dist-packages/tensorflow/python/eager/polymorphic_function/polymorphic_function.py\", line 877, in _call\n",
            "    results = tracing_compilation.call_function(\n",
            "  File \"/usr/local/lib/python3.10/dist-packages/tensorflow/python/eager/polymorphic_function/tracing_compilation.py\", line 139, in call_function\n",
            "    return function._call_flat(  # pylint: disable=protected-access\n",
            "  File \"/usr/local/lib/python3.10/dist-packages/tensorflow/python/eager/polymorphic_function/concrete_function.py\", line 1323, in _call_flat\n",
            "    return self._inference_function.call_preflattened(args)\n",
            "  File \"/usr/local/lib/python3.10/dist-packages/tensorflow/python/eager/polymorphic_function/atomic_function.py\", line 216, in call_preflattened\n",
            "    flat_outputs = self.call_flat(*args)\n",
            "  File \"/usr/local/lib/python3.10/dist-packages/tensorflow/python/eager/polymorphic_function/atomic_function.py\", line 251, in call_flat\n",
            "    outputs = self._bound_context.call_function(\n",
            "  File \"/usr/local/lib/python3.10/dist-packages/tensorflow/python/eager/context.py\", line 1486, in call_function\n",
            "    outputs = execute.execute(\n",
            "  File \"/usr/local/lib/python3.10/dist-packages/tensorflow/python/eager/execute.py\", line 53, in quick_execute\n",
            "    tensors = pywrap_tfe.TFE_Py_Execute(ctx._handle, device_name, op_name,\n",
            "KeyboardInterrupt\n",
            "\n",
            "During handling of the above exception, another exception occurred:\n",
            "\n",
            "Traceback (most recent call last):\n",
            "  File \"/usr/local/lib/python3.10/dist-packages/IPython/core/interactiveshell.py\", line 2099, in showtraceback\n",
            "    stb = value._render_traceback_()\n",
            "AttributeError: 'KeyboardInterrupt' object has no attribute '_render_traceback_'\n",
            "\n",
            "During handling of the above exception, another exception occurred:\n",
            "\n",
            "Traceback (most recent call last):\n",
            "  File \"/usr/local/lib/python3.10/dist-packages/IPython/core/ultratb.py\", line 1101, in get_records\n",
            "    return _fixed_getinnerframes(etb, number_of_lines_of_context, tb_offset)\n",
            "  File \"/usr/local/lib/python3.10/dist-packages/IPython/core/ultratb.py\", line 248, in wrapped\n",
            "    return f(*args, **kwargs)\n",
            "  File \"/usr/local/lib/python3.10/dist-packages/IPython/core/ultratb.py\", line 281, in _fixed_getinnerframes\n",
            "    records = fix_frame_records_filenames(inspect.getinnerframes(etb, context))\n",
            "  File \"/usr/lib/python3.10/inspect.py\", line 1662, in getinnerframes\n",
            "    frameinfo = (tb.tb_frame,) + getframeinfo(tb, context)\n",
            "  File \"/usr/lib/python3.10/inspect.py\", line 1620, in getframeinfo\n",
            "    filename = getsourcefile(frame) or getfile(frame)\n",
            "  File \"/usr/lib/python3.10/inspect.py\", line 829, in getsourcefile\n",
            "    module = getmodule(object, filename)\n",
            "  File \"/usr/lib/python3.10/inspect.py\", line 861, in getmodule\n",
            "    file = getabsfile(object, _filename)\n",
            "  File \"/usr/lib/python3.10/inspect.py\", line 845, in getabsfile\n",
            "    return os.path.normcase(os.path.abspath(_filename))\n",
            "  File \"/usr/lib/python3.10/posixpath.py\", line 384, in abspath\n",
            "    cwd = os.getcwd()\n",
            "OSError: [Errno 107] Transport endpoint is not connected\n",
            "Traceback (most recent call last):\n",
            "  File \"/usr/local/lib/python3.10/dist-packages/IPython/core/interactiveshell.py\", line 3553, in run_code\n",
            "    exec(code_obj, self.user_global_ns, self.user_ns)\n",
            "  File \"<ipython-input-12-c2d02c826ba3>\", line 40, in <cell line: 40>\n",
            "    c.learn()\n",
            "  File \"/content/drive/MyDrive/go_trabalho2_liacd/Coach.py\", line 115, in learn\n",
            "    self.nnet.train(trainExamples)\n",
            "  File \"/content/drive/MyDrive/go_trabalho2_liacd/Go/tensorflow/NNet.py\", line 46, in train\n",
            "    self.nnet.model.fit(x = exp_input_boards, y = [target_pis, target_vs], batch_size = args.batch_size, epochs = args.epochs)\n",
            "  File \"/usr/local/lib/python3.10/dist-packages/keras/src/utils/traceback_utils.py\", line 65, in error_handler\n",
            "    return fn(*args, **kwargs)\n",
            "  File \"/usr/local/lib/python3.10/dist-packages/keras/src/engine/training.py\", line 1807, in fit\n",
            "    tmp_logs = self.train_function(iterator)\n",
            "  File \"/usr/local/lib/python3.10/dist-packages/tensorflow/python/util/traceback_utils.py\", line 150, in error_handler\n",
            "    return fn(*args, **kwargs)\n",
            "  File \"/usr/local/lib/python3.10/dist-packages/tensorflow/python/eager/polymorphic_function/polymorphic_function.py\", line 832, in __call__\n",
            "    result = self._call(*args, **kwds)\n",
            "  File \"/usr/local/lib/python3.10/dist-packages/tensorflow/python/eager/polymorphic_function/polymorphic_function.py\", line 877, in _call\n",
            "    results = tracing_compilation.call_function(\n",
            "  File \"/usr/local/lib/python3.10/dist-packages/tensorflow/python/eager/polymorphic_function/tracing_compilation.py\", line 139, in call_function\n",
            "    return function._call_flat(  # pylint: disable=protected-access\n",
            "  File \"/usr/local/lib/python3.10/dist-packages/tensorflow/python/eager/polymorphic_function/concrete_function.py\", line 1323, in _call_flat\n",
            "    return self._inference_function.call_preflattened(args)\n",
            "  File \"/usr/local/lib/python3.10/dist-packages/tensorflow/python/eager/polymorphic_function/atomic_function.py\", line 216, in call_preflattened\n",
            "    flat_outputs = self.call_flat(*args)\n",
            "  File \"/usr/local/lib/python3.10/dist-packages/tensorflow/python/eager/polymorphic_function/atomic_function.py\", line 251, in call_flat\n",
            "    outputs = self._bound_context.call_function(\n",
            "  File \"/usr/local/lib/python3.10/dist-packages/tensorflow/python/eager/context.py\", line 1486, in call_function\n",
            "    outputs = execute.execute(\n",
            "  File \"/usr/local/lib/python3.10/dist-packages/tensorflow/python/eager/execute.py\", line 53, in quick_execute\n",
            "    tensors = pywrap_tfe.TFE_Py_Execute(ctx._handle, device_name, op_name,\n",
            "KeyboardInterrupt\n",
            "\n",
            "During handling of the above exception, another exception occurred:\n",
            "\n",
            "Traceback (most recent call last):\n",
            "  File \"/usr/local/lib/python3.10/dist-packages/IPython/core/interactiveshell.py\", line 2099, in showtraceback\n",
            "    stb = value._render_traceback_()\n",
            "AttributeError: 'KeyboardInterrupt' object has no attribute '_render_traceback_'\n",
            "\n",
            "During handling of the above exception, another exception occurred:\n",
            "\n",
            "Traceback (most recent call last):\n",
            "  File \"/usr/local/lib/python3.10/dist-packages/IPython/core/interactiveshell.py\", line 3473, in run_ast_nodes\n",
            "    if (await self.run_code(code, result,  async_=asy)):\n",
            "  File \"/usr/local/lib/python3.10/dist-packages/IPython/core/interactiveshell.py\", line 3575, in run_code\n",
            "    self.showtraceback(running_compiled_code=True)\n",
            "  File \"/usr/local/lib/python3.10/dist-packages/IPython/core/interactiveshell.py\", line 2101, in showtraceback\n",
            "    stb = self.InteractiveTB.structured_traceback(etype,\n",
            "  File \"/usr/local/lib/python3.10/dist-packages/IPython/core/ultratb.py\", line 1367, in structured_traceback\n",
            "    return FormattedTB.structured_traceback(\n",
            "  File \"/usr/local/lib/python3.10/dist-packages/IPython/core/ultratb.py\", line 1267, in structured_traceback\n",
            "    return VerboseTB.structured_traceback(\n",
            "  File \"/usr/local/lib/python3.10/dist-packages/IPython/core/ultratb.py\", line 1124, in structured_traceback\n",
            "    formatted_exception = self.format_exception_as_a_whole(etype, evalue, etb, number_of_lines_of_context,\n",
            "  File \"/usr/local/lib/python3.10/dist-packages/IPython/core/ultratb.py\", line 1082, in format_exception_as_a_whole\n",
            "    last_unique, recursion_repeat = find_recursion(orig_etype, evalue, records)\n",
            "  File \"/usr/local/lib/python3.10/dist-packages/IPython/core/ultratb.py\", line 382, in find_recursion\n",
            "    return len(records), 0\n",
            "TypeError: object of type 'NoneType' has no len()\n",
            "\n",
            "During handling of the above exception, another exception occurred:\n",
            "\n",
            "Traceback (most recent call last):\n",
            "  File \"/usr/local/lib/python3.10/dist-packages/IPython/core/interactiveshell.py\", line 2099, in showtraceback\n",
            "    stb = value._render_traceback_()\n",
            "AttributeError: 'TypeError' object has no attribute '_render_traceback_'\n",
            "\n",
            "During handling of the above exception, another exception occurred:\n",
            "\n",
            "Traceback (most recent call last):\n",
            "  File \"/usr/local/lib/python3.10/dist-packages/IPython/core/ultratb.py\", line 1101, in get_records\n",
            "    return _fixed_getinnerframes(etb, number_of_lines_of_context, tb_offset)\n",
            "  File \"/usr/local/lib/python3.10/dist-packages/IPython/core/ultratb.py\", line 248, in wrapped\n",
            "    return f(*args, **kwargs)\n",
            "  File \"/usr/local/lib/python3.10/dist-packages/IPython/core/ultratb.py\", line 281, in _fixed_getinnerframes\n",
            "    records = fix_frame_records_filenames(inspect.getinnerframes(etb, context))\n",
            "  File \"/usr/lib/python3.10/inspect.py\", line 1662, in getinnerframes\n",
            "    frameinfo = (tb.tb_frame,) + getframeinfo(tb, context)\n",
            "  File \"/usr/lib/python3.10/inspect.py\", line 1620, in getframeinfo\n",
            "    filename = getsourcefile(frame) or getfile(frame)\n",
            "  File \"/usr/lib/python3.10/inspect.py\", line 829, in getsourcefile\n",
            "    module = getmodule(object, filename)\n",
            "  File \"/usr/lib/python3.10/inspect.py\", line 861, in getmodule\n",
            "    file = getabsfile(object, _filename)\n",
            "  File \"/usr/lib/python3.10/inspect.py\", line 845, in getabsfile\n",
            "    return os.path.normcase(os.path.abspath(_filename))\n",
            "  File \"/usr/lib/python3.10/posixpath.py\", line 384, in abspath\n",
            "    cwd = os.getcwd()\n",
            "OSError: [Errno 107] Transport endpoint is not connected\n",
            "Traceback (most recent call last):\n",
            "  File \"/usr/local/lib/python3.10/dist-packages/IPython/core/interactiveshell.py\", line 3553, in run_code\n",
            "    exec(code_obj, self.user_global_ns, self.user_ns)\n",
            "  File \"<ipython-input-12-c2d02c826ba3>\", line 40, in <cell line: 40>\n",
            "    c.learn()\n",
            "  File \"/content/drive/MyDrive/go_trabalho2_liacd/Coach.py\", line 115, in learn\n",
            "    self.nnet.train(trainExamples)\n",
            "  File \"/content/drive/MyDrive/go_trabalho2_liacd/Go/tensorflow/NNet.py\", line 46, in train\n",
            "    self.nnet.model.fit(x = exp_input_boards, y = [target_pis, target_vs], batch_size = args.batch_size, epochs = args.epochs)\n",
            "  File \"/usr/local/lib/python3.10/dist-packages/keras/src/utils/traceback_utils.py\", line 65, in error_handler\n",
            "    return fn(*args, **kwargs)\n",
            "  File \"/usr/local/lib/python3.10/dist-packages/keras/src/engine/training.py\", line 1807, in fit\n",
            "    tmp_logs = self.train_function(iterator)\n",
            "  File \"/usr/local/lib/python3.10/dist-packages/tensorflow/python/util/traceback_utils.py\", line 150, in error_handler\n",
            "    return fn(*args, **kwargs)\n",
            "  File \"/usr/local/lib/python3.10/dist-packages/tensorflow/python/eager/polymorphic_function/polymorphic_function.py\", line 832, in __call__\n",
            "    result = self._call(*args, **kwds)\n",
            "  File \"/usr/local/lib/python3.10/dist-packages/tensorflow/python/eager/polymorphic_function/polymorphic_function.py\", line 877, in _call\n",
            "    results = tracing_compilation.call_function(\n",
            "  File \"/usr/local/lib/python3.10/dist-packages/tensorflow/python/eager/polymorphic_function/tracing_compilation.py\", line 139, in call_function\n",
            "    return function._call_flat(  # pylint: disable=protected-access\n",
            "  File \"/usr/local/lib/python3.10/dist-packages/tensorflow/python/eager/polymorphic_function/concrete_function.py\", line 1323, in _call_flat\n",
            "    return self._inference_function.call_preflattened(args)\n",
            "  File \"/usr/local/lib/python3.10/dist-packages/tensorflow/python/eager/polymorphic_function/atomic_function.py\", line 216, in call_preflattened\n",
            "    flat_outputs = self.call_flat(*args)\n",
            "  File \"/usr/local/lib/python3.10/dist-packages/tensorflow/python/eager/polymorphic_function/atomic_function.py\", line 251, in call_flat\n",
            "    outputs = self._bound_context.call_function(\n",
            "  File \"/usr/local/lib/python3.10/dist-packages/tensorflow/python/eager/context.py\", line 1486, in call_function\n",
            "    outputs = execute.execute(\n",
            "  File \"/usr/local/lib/python3.10/dist-packages/tensorflow/python/eager/execute.py\", line 53, in quick_execute\n",
            "    tensors = pywrap_tfe.TFE_Py_Execute(ctx._handle, device_name, op_name,\n",
            "KeyboardInterrupt\n",
            "\n",
            "During handling of the above exception, another exception occurred:\n",
            "\n",
            "Traceback (most recent call last):\n",
            "  File \"/usr/local/lib/python3.10/dist-packages/IPython/core/interactiveshell.py\", line 2099, in showtraceback\n",
            "    stb = value._render_traceback_()\n",
            "AttributeError: 'KeyboardInterrupt' object has no attribute '_render_traceback_'\n",
            "\n",
            "During handling of the above exception, another exception occurred:\n",
            "\n",
            "Traceback (most recent call last):\n",
            "  File \"/usr/local/lib/python3.10/dist-packages/IPython/core/interactiveshell.py\", line 3473, in run_ast_nodes\n",
            "    if (await self.run_code(code, result,  async_=asy)):\n",
            "  File \"/usr/local/lib/python3.10/dist-packages/IPython/core/interactiveshell.py\", line 3575, in run_code\n",
            "    self.showtraceback(running_compiled_code=True)\n",
            "  File \"/usr/local/lib/python3.10/dist-packages/IPython/core/interactiveshell.py\", line 2101, in showtraceback\n",
            "    stb = self.InteractiveTB.structured_traceback(etype,\n",
            "  File \"/usr/local/lib/python3.10/dist-packages/IPython/core/ultratb.py\", line 1367, in structured_traceback\n",
            "    return FormattedTB.structured_traceback(\n",
            "  File \"/usr/local/lib/python3.10/dist-packages/IPython/core/ultratb.py\", line 1267, in structured_traceback\n",
            "    return VerboseTB.structured_traceback(\n",
            "  File \"/usr/local/lib/python3.10/dist-packages/IPython/core/ultratb.py\", line 1124, in structured_traceback\n",
            "    formatted_exception = self.format_exception_as_a_whole(etype, evalue, etb, number_of_lines_of_context,\n",
            "  File \"/usr/local/lib/python3.10/dist-packages/IPython/core/ultratb.py\", line 1082, in format_exception_as_a_whole\n",
            "    last_unique, recursion_repeat = find_recursion(orig_etype, evalue, records)\n",
            "  File \"/usr/local/lib/python3.10/dist-packages/IPython/core/ultratb.py\", line 382, in find_recursion\n",
            "    return len(records), 0\n",
            "TypeError: object of type 'NoneType' has no len()\n",
            "\n",
            "During handling of the above exception, another exception occurred:\n",
            "\n",
            "Traceback (most recent call last):\n",
            "  File \"/usr/local/lib/python3.10/dist-packages/IPython/core/interactiveshell.py\", line 2099, in showtraceback\n",
            "    stb = value._render_traceback_()\n",
            "AttributeError: 'TypeError' object has no attribute '_render_traceback_'\n",
            "\n",
            "During handling of the above exception, another exception occurred:\n",
            "\n",
            "Traceback (most recent call last):\n",
            "  File \"/usr/local/lib/python3.10/dist-packages/IPython/core/interactiveshell.py\", line 3030, in _run_cell\n",
            "    return runner(coro)\n",
            "  File \"/usr/local/lib/python3.10/dist-packages/IPython/core/async_helpers.py\", line 78, in _pseudo_sync_runner\n",
            "    coro.send(None)\n",
            "  File \"/usr/local/lib/python3.10/dist-packages/IPython/core/interactiveshell.py\", line 3257, in run_cell_async\n",
            "    has_raised = await self.run_ast_nodes(code_ast.body, cell_name,\n",
            "  File \"/usr/local/lib/python3.10/dist-packages/IPython/core/interactiveshell.py\", line 3492, in run_ast_nodes\n",
            "    self.showtraceback()\n",
            "  File \"/usr/local/lib/python3.10/dist-packages/IPython/core/interactiveshell.py\", line 2101, in showtraceback\n",
            "    stb = self.InteractiveTB.structured_traceback(etype,\n",
            "  File \"/usr/local/lib/python3.10/dist-packages/IPython/core/ultratb.py\", line 1367, in structured_traceback\n",
            "    return FormattedTB.structured_traceback(\n",
            "  File \"/usr/local/lib/python3.10/dist-packages/IPython/core/ultratb.py\", line 1267, in structured_traceback\n",
            "    return VerboseTB.structured_traceback(\n",
            "  File \"/usr/local/lib/python3.10/dist-packages/IPython/core/ultratb.py\", line 1142, in structured_traceback\n",
            "    formatted_exceptions += self.format_exception_as_a_whole(etype, evalue, etb, lines_of_context,\n",
            "  File \"/usr/local/lib/python3.10/dist-packages/IPython/core/ultratb.py\", line 1082, in format_exception_as_a_whole\n",
            "    last_unique, recursion_repeat = find_recursion(orig_etype, evalue, records)\n",
            "  File \"/usr/local/lib/python3.10/dist-packages/IPython/core/ultratb.py\", line 382, in find_recursion\n",
            "    return len(records), 0\n",
            "TypeError: object of type 'NoneType' has no len()\n",
            "\n",
            "During handling of the above exception, another exception occurred:\n",
            "\n",
            "Traceback (most recent call last):\n",
            "  File \"/usr/local/lib/python3.10/dist-packages/IPython/core/interactiveshell.py\", line 2099, in showtraceback\n",
            "    stb = value._render_traceback_()\n",
            "AttributeError: 'TypeError' object has no attribute '_render_traceback_'\n",
            "\n",
            "During handling of the above exception, another exception occurred:\n",
            "\n",
            "Traceback (most recent call last):\n",
            "  File \"/usr/local/lib/python3.10/dist-packages/IPython/core/ultratb.py\", line 1101, in get_records\n",
            "    return _fixed_getinnerframes(etb, number_of_lines_of_context, tb_offset)\n",
            "  File \"/usr/local/lib/python3.10/dist-packages/IPython/core/ultratb.py\", line 248, in wrapped\n",
            "    return f(*args, **kwargs)\n",
            "  File \"/usr/local/lib/python3.10/dist-packages/IPython/core/ultratb.py\", line 281, in _fixed_getinnerframes\n",
            "    records = fix_frame_records_filenames(inspect.getinnerframes(etb, context))\n",
            "  File \"/usr/lib/python3.10/inspect.py\", line 1662, in getinnerframes\n",
            "    frameinfo = (tb.tb_frame,) + getframeinfo(tb, context)\n",
            "  File \"/usr/lib/python3.10/inspect.py\", line 1620, in getframeinfo\n",
            "    filename = getsourcefile(frame) or getfile(frame)\n",
            "  File \"/usr/lib/python3.10/inspect.py\", line 829, in getsourcefile\n",
            "    module = getmodule(object, filename)\n",
            "  File \"/usr/lib/python3.10/inspect.py\", line 861, in getmodule\n",
            "    file = getabsfile(object, _filename)\n",
            "  File \"/usr/lib/python3.10/inspect.py\", line 845, in getabsfile\n",
            "    return os.path.normcase(os.path.abspath(_filename))\n",
            "  File \"/usr/lib/python3.10/posixpath.py\", line 384, in abspath\n",
            "    cwd = os.getcwd()\n",
            "OSError: [Errno 107] Transport endpoint is not connected\n"
          ]
        }
      ],
      "source": [
        "args = dotdict({\n",
        "    'numIters': 20,\n",
        "    'numEps': 15,              # Number of complete self-play games to simulate during a new iteration.\n",
        "    'tempThreshold': 15,        #\n",
        "    'updateThreshold': 0.6,     # During arena playoff, new neural net will be accepted if threshold or more of games are won.\n",
        "    'maxlenOfQueue': 100000,    # Number of game examples to train the neural networks.\n",
        "    'numMCTSSims': 25,          # Number of games moves for MCTS to simulate.\n",
        "    'arenaCompare': 20,         # Number of games to play during arena play to determine if new net will be accepted.\n",
        "    'cpuct': 1,\n",
        "\n",
        "    'checkpoint': '/content/drive/MyDrive/go_trabalho2_liacd/models/go/9x9',\n",
        "    'load_model': True,\n",
        "    'load_folder_file': ('/content/drive/MyDrive/go_trabalho2_liacd/models/go/9x9', 'best.h5'),\n",
        "    'numItersForTrainExamplesHistory': 20,\n",
        "\n",
        "})\n",
        "\n",
        "\n",
        "\n",
        "log.info('Loading %s...', Game.__name__)\n",
        "g = Game(9)\n",
        "\n",
        "log.info('Loading %s...', nn.__name__)\n",
        "nnet = nn(g)\n",
        "\n",
        "if args.load_model:\n",
        "    log.info('Loading checkpoint \"%s/%s\"...', args.load_folder_file[0], args.load_folder_file[1])\n",
        "    nnet.load_model(args.load_folder_file[0], args.load_folder_file[1])\n",
        "else:\n",
        "    log.warning('Not loading a checkpoint!')\n",
        "\n",
        "log.info('Loading the Coach...')\n",
        "c = Coach(g, nnet, args)\n",
        "\n",
        "if args.load_model:\n",
        "    log.info(\"Loading 'trainExamples' from file...\")\n",
        "    c.loadTrainExamples()\n",
        "\n",
        "log.info('Starting the learning process 🎉')\n",
        "c.learn()\n",
        "\n"
      ]
    },
    {
      "cell_type": "markdown",
      "source": [
        "Como mudamos de estratégia perto da data de entrega, não tivemos muito tempo para treinar. Se começassemos com esta estratégia desde o inicio do treino talvez tivessemos melhores resultados"
      ],
      "metadata": {
        "id": "VbCSiHj0m7v6"
      }
    }
  ],
  "metadata": {
    "colab": {
      "provenance": []
    },
    "kernelspec": {
      "display_name": "Python 3",
      "name": "python3"
    },
    "language_info": {
      "name": "python"
    }
  },
  "nbformat": 4,
  "nbformat_minor": 0
}