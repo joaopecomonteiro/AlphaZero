{
  "cells": [
    {
      "cell_type": "markdown",
      "source": [
        "Este notebook serviu para treinar o modelo para o jogo go com o tabuleiro 7x7."
      ],
      "metadata": {
        "id": "jLZhvxJxmO-t"
      }
    },
    {
      "cell_type": "code",
      "execution_count": 1,
      "metadata": {
        "colab": {
          "base_uri": "https://localhost:8080/"
        },
        "id": "zp9ws6kANET7",
        "outputId": "a5f855fa-c7af-4d8c-8409-ae61420dee07"
      },
      "outputs": [
        {
          "output_type": "stream",
          "name": "stdout",
          "text": [
            "Mounted at /content/drive\n"
          ]
        }
      ],
      "source": [
        "from google.colab import drive\n",
        "drive.mount('/content/drive')"
      ]
    },
    {
      "cell_type": "code",
      "execution_count": 2,
      "metadata": {
        "id": "rW54r7oxNnXi"
      },
      "outputs": [],
      "source": [
        "import os\n",
        "import sys\n"
      ]
    },
    {
      "cell_type": "code",
      "execution_count": 3,
      "metadata": {
        "id": "3NsK8FkjNnZQ"
      },
      "outputs": [],
      "source": [
        "os.chdir('/content/drive/MyDrive/go_trabalho2_liacd')\n",
        "sys.path.append('/content/drive/MyDrive/go_trabalho2_liacd')"
      ]
    },
    {
      "cell_type": "code",
      "execution_count": 4,
      "metadata": {
        "colab": {
          "base_uri": "https://localhost:8080/"
        },
        "id": "-9iqRby-NneH",
        "outputId": "440b8eb7-e7b5-4af7-a891-fa7a1e0981c0"
      },
      "outputs": [
        {
          "output_type": "stream",
          "name": "stdout",
          "text": [
            "/content/drive/MyDrive/go_trabalho2_liacd\n"
          ]
        }
      ],
      "source": [
        "!pwd"
      ]
    },
    {
      "cell_type": "code",
      "execution_count": 5,
      "metadata": {
        "colab": {
          "base_uri": "https://localhost:8080/"
        },
        "id": "zT7syZtjNnfi",
        "outputId": "3be01ded-a227-49c8-9408-72ff90cb5b9f"
      },
      "outputs": [
        {
          "output_type": "stream",
          "name": "stdout",
          "text": [
            "Collecting coloredlogs\n",
            "  Downloading coloredlogs-15.0.1-py2.py3-none-any.whl (46 kB)\n",
            "\u001b[2K     \u001b[90m━━━━━━━━━━━━━━━━━━━━━━━━━━━━━━━━━━━━━━━━\u001b[0m \u001b[32m46.0/46.0 kB\u001b[0m \u001b[31m1.8 MB/s\u001b[0m eta \u001b[36m0:00:00\u001b[0m\n",
            "\u001b[?25hCollecting humanfriendly>=9.1 (from coloredlogs)\n",
            "  Downloading humanfriendly-10.0-py2.py3-none-any.whl (86 kB)\n",
            "\u001b[2K     \u001b[90m━━━━━━━━━━━━━━━━━━━━━━━━━━━━━━━━━━━━━━━━\u001b[0m \u001b[32m86.8/86.8 kB\u001b[0m \u001b[31m6.7 MB/s\u001b[0m eta \u001b[36m0:00:00\u001b[0m\n",
            "\u001b[?25hInstalling collected packages: humanfriendly, coloredlogs\n",
            "Successfully installed coloredlogs-15.0.1 humanfriendly-10.0\n"
          ]
        }
      ],
      "source": [
        "!pip install coloredlogs"
      ]
    },
    {
      "cell_type": "code",
      "execution_count": 6,
      "metadata": {
        "colab": {
          "base_uri": "https://localhost:8080/"
        },
        "id": "L9lZfLHNNnhG",
        "outputId": "c7bf6184-8c2c-426c-935b-fc5c90dc30b7"
      },
      "outputs": [
        {
          "output_type": "stream",
          "name": "stdout",
          "text": [
            "pygame 2.5.2 (SDL 2.28.2, Python 3.10.12)\n",
            "Hello from the pygame community. https://www.pygame.org/contribute.html\n"
          ]
        }
      ],
      "source": [
        "import logging\n",
        "\n",
        "import coloredlogs\n",
        "from importlib import reload\n",
        "\n",
        "\n",
        "\n",
        "from Coach import Coach\n",
        "from Go.GoGame import GoGame as Game\n",
        "from Go.tensorflow.NNet import NNetWrapper as nn\n",
        "from utils import *\n"
      ]
    },
    {
      "cell_type": "code",
      "execution_count": 7,
      "metadata": {
        "id": "LQejCMWgN3Jr"
      },
      "outputs": [],
      "source": [
        "log = logging.getLogger(__name__)\n",
        "\n",
        "coloredlogs.install(level='INFO')"
      ]
    },
    {
      "cell_type": "code",
      "execution_count": 8,
      "metadata": {
        "colab": {
          "base_uri": "https://localhost:8080/"
        },
        "id": "xkEUnTP4Nniq",
        "outputId": "3b6f69d5-dce2-4141-81db-91713b98038a"
      },
      "outputs": [
        {
          "output_type": "execute_result",
          "data": {
            "text/plain": [
              "1000"
            ]
          },
          "metadata": {},
          "execution_count": 8
        }
      ],
      "source": [
        "sys.getrecursionlimit()\n"
      ]
    },
    {
      "cell_type": "code",
      "execution_count": 9,
      "metadata": {
        "id": "BZa61Nf9N5KY"
      },
      "outputs": [],
      "source": [
        "sys.setrecursionlimit(1000000000)\n"
      ]
    },
    {
      "cell_type": "markdown",
      "metadata": {
        "id": "Q5qFKg4DN6Oe"
      },
      "source": [
        "#Primeiro Treino"
      ]
    },
    {
      "cell_type": "code",
      "execution_count": null,
      "metadata": {
        "colab": {
          "background_save": true,
          "base_uri": "https://localhost:8080/"
        },
        "id": "TeKRhD-RN8T2",
        "outputId": "8a552e2d-e759-4680-c670-34a4f1c5ebb6"
      },
      "outputs": [
        {
          "name": "stderr",
          "output_type": "stream",
          "text": [
            "2023-12-29 15:11:56 6c01efd87e42 __main__[1582] INFO Loading GoGame...\n",
            "2023-12-29 15:11:56 6c01efd87e42 __main__[1582] INFO Loading NNetWrapper...\n",
            "2023-12-29 15:11:56 6c01efd87e42 __main__[1582] WARNING Not loading a checkpoint!\n",
            "2023-12-29 15:11:56 6c01efd87e42 __main__[1582] INFO Loading the Coach...\n",
            "2023-12-29 15:11:56 6c01efd87e42 __main__[1582] INFO Starting the learning process 🎉\n",
            "2023-12-29 15:11:56 6c01efd87e42 Coach[1582] INFO Starting Iter #1 ...\n",
            "Self Play: 100%|██████████| 25/25 [47:55<00:00, 115.02s/it]\n"
          ]
        },
        {
          "name": "stdout",
          "output_type": "stream",
          "text": [
            "Checkpoint Directory exists! \n"
          ]
        },
        {
          "name": "stderr",
          "output_type": "stream",
          "text": [
            "/usr/local/lib/python3.10/dist-packages/keras/src/engine/training.py:3103: UserWarning: You are saving your model as an HDF5 file via `model.save()`. This file format is considered legacy. We recommend using instead the native Keras format, e.g. `model.save('my_model.keras')`.\n",
            "  saving_api.save_model(\n"
          ]
        },
        {
          "name": "stdout",
          "output_type": "stream",
          "text": [
            "Epoch 1/10\n",
            "171/171 [==============================] - 54s 295ms/step - loss: 4.8880 - pi_loss: 4.0151 - v_loss: 0.8729\n",
            "Epoch 2/10\n",
            "171/171 [==============================] - 43s 249ms/step - loss: 4.2760 - pi_loss: 3.7682 - v_loss: 0.5079\n",
            "Epoch 3/10\n",
            "171/171 [==============================] - 44s 259ms/step - loss: 3.9464 - pi_loss: 3.6560 - v_loss: 0.2904\n",
            "Epoch 4/10\n",
            "171/171 [==============================] - 44s 259ms/step - loss: 3.7223 - pi_loss: 3.5313 - v_loss: 0.1910\n",
            "Epoch 5/10\n",
            "171/171 [==============================] - 41s 238ms/step - loss: 3.5486 - pi_loss: 3.3911 - v_loss: 0.1576\n",
            "Epoch 6/10\n",
            "171/171 [==============================] - 43s 249ms/step - loss: 3.3952 - pi_loss: 3.2568 - v_loss: 0.1385\n",
            "Epoch 7/10\n",
            "171/171 [==============================] - 38s 223ms/step - loss: 3.2163 - pi_loss: 3.0895 - v_loss: 0.1268\n",
            "Epoch 8/10\n",
            "171/171 [==============================] - 43s 251ms/step - loss: 3.0512 - pi_loss: 2.9351 - v_loss: 0.1161\n",
            "Epoch 9/10\n",
            "171/171 [==============================] - 40s 233ms/step - loss: 2.9073 - pi_loss: 2.7968 - v_loss: 0.1106\n",
            "Epoch 10/10\n",
            "171/171 [==============================] - 44s 260ms/step - loss: 2.7870 - pi_loss: 2.6715 - v_loss: 0.1155\n"
          ]
        },
        {
          "name": "stderr",
          "output_type": "stream",
          "text": [
            "2023-12-29 16:07:24 6c01efd87e42 Coach[1582] INFO PITTING AGAINST PREVIOUS VERSION\n",
            "Arena.playGames (1): 100%|██████████| 10/10 [15:52<00:00, 95.28s/it]\n",
            "Arena.playGames (2): 100%|██████████| 10/10 [15:15<00:00, 91.53s/it]\n",
            "2023-12-29 16:38:32 6c01efd87e42 Coach[1582] INFO NEW/PREV WINS : 3 / 17 ; DRAWS : 0\n",
            "2023-12-29 16:38:32 6c01efd87e42 Coach[1582] INFO REJECTING NEW MODEL\n",
            "2023-12-29 16:38:33 6c01efd87e42 Coach[1582] INFO Starting Iter #2 ...\n",
            "Self Play:  20%|██        | 5/25 [10:04<39:04, 117.24s/it]2023-12-29 16:51:10 6c01efd87e42 MCTS[1582] WARNING Max depth reached!\n",
            "Self Play: 100%|██████████| 25/25 [49:23<00:00, 118.54s/it]\n"
          ]
        },
        {
          "name": "stdout",
          "output_type": "stream",
          "text": [
            "Checkpoint Directory exists! \n",
            "Epoch 1/10\n",
            "339/339 [==============================] - 81s 234ms/step - loss: 4.8299 - pi_loss: 3.9400 - v_loss: 0.8899\n",
            "Epoch 2/10\n",
            "339/339 [==============================] - 78s 231ms/step - loss: 4.1617 - pi_loss: 3.7415 - v_loss: 0.4203\n",
            "Epoch 3/10\n",
            "339/339 [==============================] - 77s 227ms/step - loss: 3.8666 - pi_loss: 3.6120 - v_loss: 0.2546\n",
            "Epoch 4/10\n",
            "339/339 [==============================] - 81s 239ms/step - loss: 3.6381 - pi_loss: 3.4440 - v_loss: 0.1941\n",
            "Epoch 5/10\n",
            "339/339 [==============================] - 78s 230ms/step - loss: 3.4287 - pi_loss: 3.2416 - v_loss: 0.1872\n",
            "Epoch 6/10\n",
            "339/339 [==============================] - 79s 233ms/step - loss: 3.2278 - pi_loss: 3.0696 - v_loss: 0.1582\n",
            "Epoch 7/10\n",
            "339/339 [==============================] - 81s 240ms/step - loss: 3.0510 - pi_loss: 2.9149 - v_loss: 0.1361\n",
            "Epoch 8/10\n",
            "339/339 [==============================] - 80s 236ms/step - loss: 2.9109 - pi_loss: 2.7824 - v_loss: 0.1285\n",
            "Epoch 9/10\n",
            "339/339 [==============================] - 78s 231ms/step - loss: 2.7749 - pi_loss: 2.6625 - v_loss: 0.1124\n",
            "Epoch 10/10\n",
            "339/339 [==============================] - 80s 236ms/step - loss: 2.6436 - pi_loss: 2.5359 - v_loss: 0.1076\n"
          ]
        },
        {
          "name": "stderr",
          "output_type": "stream",
          "text": [
            "2023-12-29 17:41:19 6c01efd87e42 Coach[1582] INFO PITTING AGAINST PREVIOUS VERSION\n",
            "Arena.playGames (1): 100%|██████████| 10/10 [18:20<00:00, 110.01s/it]\n",
            "Arena.playGames (2): 100%|██████████| 10/10 [20:17<00:00, 121.74s/it]\n",
            "2023-12-29 18:19:57 6c01efd87e42 Coach[1582] INFO NEW/PREV WINS : 10 / 10 ; DRAWS : 0\n",
            "2023-12-29 18:19:57 6c01efd87e42 Coach[1582] INFO REJECTING NEW MODEL\n",
            "2023-12-29 18:19:59 6c01efd87e42 Coach[1582] INFO Starting Iter #3 ...\n",
            "Self Play:  44%|████▍     | 11/25 [22:07<26:49, 114.98s/it]2023-12-29 18:44:04 6c01efd87e42 MCTS[1582] WARNING Max depth reached!\n",
            "2023-12-29 18:44:38 6c01efd87e42 MCTS[1582] WARNING Max depth reached!\n",
            "Self Play: 100%|██████████| 25/25 [51:12<00:00, 122.92s/it]\n"
          ]
        },
        {
          "name": "stdout",
          "output_type": "stream",
          "text": [
            "Checkpoint Directory exists! \n",
            "Epoch 1/10\n",
            "504/504 [==============================] - 123s 240ms/step - loss: 4.7911 - pi_loss: 3.9054 - v_loss: 0.8857\n",
            "Epoch 2/10\n",
            "504/504 [==============================] - 119s 236ms/step - loss: 4.1300 - pi_loss: 3.7260 - v_loss: 0.4040\n",
            "Epoch 3/10\n",
            "504/504 [==============================] - 122s 243ms/step - loss: 3.8407 - pi_loss: 3.5812 - v_loss: 0.2594\n",
            "Epoch 4/10\n",
            "504/504 [==============================] - 119s 237ms/step - loss: 3.5976 - pi_loss: 3.3765 - v_loss: 0.2211\n",
            "Epoch 5/10\n",
            "504/504 [==============================] - 121s 240ms/step - loss: 3.3911 - pi_loss: 3.1973 - v_loss: 0.1938\n",
            "Epoch 6/10\n",
            "504/504 [==============================] - 121s 240ms/step - loss: 3.2036 - pi_loss: 3.0456 - v_loss: 0.1580\n",
            "Epoch 7/10\n",
            "504/504 [==============================] - 121s 240ms/step - loss: 3.0565 - pi_loss: 2.9139 - v_loss: 0.1426\n",
            "Epoch 8/10\n",
            "504/504 [==============================] - 119s 236ms/step - loss: 2.9141 - pi_loss: 2.7808 - v_loss: 0.1333\n",
            "Epoch 9/10\n",
            "504/504 [==============================] - 119s 237ms/step - loss: 2.7774 - pi_loss: 2.6546 - v_loss: 0.1228\n",
            "Epoch 10/10\n",
            "504/504 [==============================] - 121s 240ms/step - loss: 2.6416 - pi_loss: 2.5295 - v_loss: 0.1121\n"
          ]
        },
        {
          "name": "stderr",
          "output_type": "stream",
          "text": [
            "2023-12-29 19:31:26 6c01efd87e42 Coach[1582] INFO PITTING AGAINST PREVIOUS VERSION\n",
            "Arena.playGames (1): 100%|██████████| 10/10 [16:23<00:00, 98.35s/it]\n",
            "Arena.playGames (2): 100%|██████████| 10/10 [16:50<00:00, 101.07s/it]\n",
            "2023-12-29 20:04:40 6c01efd87e42 Coach[1582] INFO NEW/PREV WINS : 7 / 13 ; DRAWS : 0\n",
            "2023-12-29 20:04:40 6c01efd87e42 Coach[1582] INFO REJECTING NEW MODEL\n",
            "2023-12-29 20:04:42 6c01efd87e42 Coach[1582] INFO Starting Iter #4 ...\n",
            "Self Play:  52%|█████▏    | 13/25 [25:18<23:23, 116.99s/it]2023-12-29 20:32:26 6c01efd87e42 MCTS[1582] WARNING Max depth reached!\n",
            "Self Play: 100%|██████████| 25/25 [48:05<00:00, 115.41s/it]\n"
          ]
        },
        {
          "name": "stdout",
          "output_type": "stream",
          "text": [
            "Checkpoint Directory exists! \n",
            "Epoch 1/10\n",
            "656/656 [==============================] - 157s 236ms/step - loss: 4.8018 - pi_loss: 3.8828 - v_loss: 0.9190\n",
            "Epoch 2/10\n",
            "656/656 [==============================] - 153s 233ms/step - loss: 4.1301 - pi_loss: 3.6923 - v_loss: 0.4378\n",
            "Epoch 3/10\n",
            "656/656 [==============================] - 154s 235ms/step - loss: 3.7842 - pi_loss: 3.4915 - v_loss: 0.2927\n",
            "Epoch 4/10\n",
            "656/656 [==============================] - 155s 237ms/step - loss: 3.5209 - pi_loss: 3.2887 - v_loss: 0.2322\n",
            "Epoch 5/10\n",
            "656/656 [==============================] - 161s 245ms/step - loss: 3.3304 - pi_loss: 3.1326 - v_loss: 0.1978\n",
            "Epoch 6/10\n",
            "656/656 [==============================] - 154s 235ms/step - loss: 3.1791 - pi_loss: 3.0102 - v_loss: 0.1688\n",
            "Epoch 7/10\n",
            "656/656 [==============================] - 157s 239ms/step - loss: 3.0398 - pi_loss: 2.8881 - v_loss: 0.1516\n",
            "Epoch 8/10\n",
            "656/656 [==============================] - 152s 232ms/step - loss: 2.9026 - pi_loss: 2.7668 - v_loss: 0.1357\n",
            "Epoch 9/10\n",
            "656/656 [==============================] - 157s 240ms/step - loss: 2.7742 - pi_loss: 2.6438 - v_loss: 0.1303\n",
            "Epoch 10/10\n",
            "656/656 [==============================] - 150s 228ms/step - loss: 2.6356 - pi_loss: 2.5187 - v_loss: 0.1169\n"
          ]
        },
        {
          "name": "stderr",
          "output_type": "stream",
          "text": [
            "2023-12-29 21:18:51 6c01efd87e42 Coach[1582] INFO PITTING AGAINST PREVIOUS VERSION\n",
            "Arena.playGames (1): 100%|██████████| 10/10 [16:23<00:00, 98.36s/it] \n",
            "Arena.playGames (2): 100%|██████████| 10/10 [18:30<00:00, 111.02s/it]\n",
            "2023-12-29 21:53:44 6c01efd87e42 Coach[1582] INFO NEW/PREV WINS : 9 / 11 ; DRAWS : 0\n",
            "2023-12-29 21:53:44 6c01efd87e42 Coach[1582] INFO REJECTING NEW MODEL\n",
            "2023-12-29 21:53:46 6c01efd87e42 Coach[1582] INFO Starting Iter #5 ...\n",
            "Self Play:  20%|██        | 5/25 [09:36<36:51, 110.57s/it]2023-12-29 22:05:23 6c01efd87e42 MCTS[1582] WARNING Max depth reached!\n",
            "2023-12-29 22:06:06 6c01efd87e42 MCTS[1582] WARNING Max depth reached!\n",
            "2023-12-29 22:06:10 6c01efd87e42 MCTS[1582] WARNING Max depth reached!\n",
            "2023-12-29 22:06:12 6c01efd87e42 MCTS[1582] WARNING Max depth reached!\n",
            "2023-12-29 22:06:22 6c01efd87e42 MCTS[1582] WARNING Max depth reached!\n",
            "2023-12-29 22:06:28 6c01efd87e42 MCTS[1582] WARNING Max depth reached!\n",
            "Self Play: 100%|██████████| 25/25 [49:51<00:00, 119.64s/it]\n"
          ]
        },
        {
          "name": "stdout",
          "output_type": "stream",
          "text": [
            "Checkpoint Directory exists! \n",
            "Epoch 1/10\n",
            "817/817 [==============================] - 186s 225ms/step - loss: 4.7953 - pi_loss: 3.8671 - v_loss: 0.9282\n",
            "Epoch 2/10\n",
            "817/817 [==============================] - 175s 214ms/step - loss: 4.1433 - pi_loss: 3.6744 - v_loss: 0.4689\n",
            "Epoch 3/10\n",
            "817/817 [==============================] - 179s 219ms/step - loss: 3.7510 - pi_loss: 3.4428 - v_loss: 0.3082\n",
            "Epoch 4/10\n",
            "817/817 [==============================] - 181s 221ms/step - loss: 3.5067 - pi_loss: 3.2595 - v_loss: 0.2473\n",
            "Epoch 5/10\n",
            "817/817 [==============================] - 179s 218ms/step - loss: 3.3238 - pi_loss: 3.1249 - v_loss: 0.1989\n",
            "Epoch 6/10\n",
            "817/817 [==============================] - 181s 222ms/step - loss: 3.1805 - pi_loss: 3.0049 - v_loss: 0.1756\n",
            "Epoch 7/10\n",
            "817/817 [==============================] - 181s 222ms/step - loss: 3.0485 - pi_loss: 2.8900 - v_loss: 0.1585\n",
            "Epoch 8/10\n",
            "817/817 [==============================] - 179s 219ms/step - loss: 2.9074 - pi_loss: 2.7687 - v_loss: 0.1387\n",
            "Epoch 9/10\n",
            "817/817 [==============================] - 180s 220ms/step - loss: 2.7802 - pi_loss: 2.6495 - v_loss: 0.1307\n",
            "Epoch 10/10\n",
            "817/817 [==============================] - 183s 225ms/step - loss: 2.6517 - pi_loss: 2.5323 - v_loss: 0.1194\n"
          ]
        },
        {
          "name": "stderr",
          "output_type": "stream",
          "text": [
            "2023-12-29 23:13:57 6c01efd87e42 Coach[1582] INFO PITTING AGAINST PREVIOUS VERSION\n",
            "Arena.playGames (1): 100%|██████████| 10/10 [17:20<00:00, 104.04s/it]\n",
            "Arena.playGames (2):  90%|█████████ | 9/10 [17:52<01:45, 105.30s/it]2023-12-29 23:51:39 6c01efd87e42 MCTS[1582] WARNING Max depth reached!\n",
            "2023-12-29 23:51:43 6c01efd87e42 MCTS[1582] WARNING Max depth reached!\n",
            "2023-12-29 23:51:46 6c01efd87e42 Arena[1582] ERROR Action 44 is not valid!\n",
            "Arena.playGames (2):  90%|█████████ | 9/10 [20:27<02:16, 136.43s/it]\n",
            "2023-12-29 23:51:46 6c01efd87e42 root[1582] ERROR Internal Python error in the inspect module.\n",
            "Below is the traceback from this internal error.\n",
            "\n",
            "2023-12-29 23:51:46 6c01efd87e42 root[1582] INFO \n",
            "Unfortunately, your original traceback can not be constructed.\n",
            "\n",
            "2023-12-29 23:51:46 6c01efd87e42 root[1582] ERROR Internal Python error in the inspect module.\n",
            "Below is the traceback from this internal error.\n",
            "\n",
            "2023-12-29 23:51:46 6c01efd87e42 root[1582] INFO \n",
            "Unfortunately, your original traceback can not be constructed.\n",
            "\n",
            "2023-12-29 23:51:46 6c01efd87e42 root[1582] ERROR Internal Python error in the inspect module.\n",
            "Below is the traceback from this internal error.\n",
            "\n",
            "2023-12-29 23:51:46 6c01efd87e42 root[1582] INFO \n",
            "Unfortunately, your original traceback can not be constructed.\n",
            "\n"
          ]
        },
        {
          "name": "stdout",
          "output_type": "stream",
          "text": [
            "Traceback (most recent call last):\n",
            "  File \"/usr/local/lib/python3.10/dist-packages/IPython/core/interactiveshell.py\", line 3553, in run_code\n",
            "    exec(code_obj, self.user_global_ns, self.user_ns)\n",
            "  File \"<ipython-input-10-f932e8c0f9a6>\", line 40, in <cell line: 40>\n",
            "    c.learn()\n",
            "  File \"/content/drive/MyDrive/go_trabalho2_liacd/Coach.py\", line 121, in learn\n",
            "    pwins, nwins, draws = arena.playGames(self.args.arenaCompare)\n",
            "  File \"/content/drive/MyDrive/go_trabalho2_liacd/Arena.py\", line 128, in playGames\n",
            "    gameResult = self.playGame(verbose=verbose)\n",
            "  File \"/content/drive/MyDrive/go_trabalho2_liacd/Arena.py\", line 87, in playGame\n",
            "    assert valids[action] > 0\n",
            "AssertionError\n",
            "\n",
            "During handling of the above exception, another exception occurred:\n",
            "\n",
            "Traceback (most recent call last):\n",
            "  File \"/usr/local/lib/python3.10/dist-packages/IPython/core/interactiveshell.py\", line 2099, in showtraceback\n",
            "    stb = value._render_traceback_()\n",
            "AttributeError: 'AssertionError' object has no attribute '_render_traceback_'\n",
            "\n",
            "During handling of the above exception, another exception occurred:\n",
            "\n",
            "Traceback (most recent call last):\n",
            "  File \"/usr/local/lib/python3.10/dist-packages/IPython/core/ultratb.py\", line 1101, in get_records\n",
            "    return _fixed_getinnerframes(etb, number_of_lines_of_context, tb_offset)\n",
            "  File \"/usr/local/lib/python3.10/dist-packages/IPython/core/ultratb.py\", line 248, in wrapped\n",
            "    return f(*args, **kwargs)\n",
            "  File \"/usr/local/lib/python3.10/dist-packages/IPython/core/ultratb.py\", line 281, in _fixed_getinnerframes\n",
            "    records = fix_frame_records_filenames(inspect.getinnerframes(etb, context))\n",
            "  File \"/usr/lib/python3.10/inspect.py\", line 1662, in getinnerframes\n",
            "    frameinfo = (tb.tb_frame,) + getframeinfo(tb, context)\n",
            "  File \"/usr/lib/python3.10/inspect.py\", line 1620, in getframeinfo\n",
            "    filename = getsourcefile(frame) or getfile(frame)\n",
            "  File \"/usr/lib/python3.10/inspect.py\", line 829, in getsourcefile\n",
            "    module = getmodule(object, filename)\n",
            "  File \"/usr/lib/python3.10/inspect.py\", line 861, in getmodule\n",
            "    file = getabsfile(object, _filename)\n",
            "  File \"/usr/lib/python3.10/inspect.py\", line 845, in getabsfile\n",
            "    return os.path.normcase(os.path.abspath(_filename))\n",
            "  File \"/usr/lib/python3.10/posixpath.py\", line 384, in abspath\n",
            "    cwd = os.getcwd()\n",
            "OSError: [Errno 107] Transport endpoint is not connected\n",
            "Traceback (most recent call last):\n",
            "  File \"/usr/local/lib/python3.10/dist-packages/IPython/core/interactiveshell.py\", line 3553, in run_code\n",
            "    exec(code_obj, self.user_global_ns, self.user_ns)\n",
            "  File \"<ipython-input-10-f932e8c0f9a6>\", line 40, in <cell line: 40>\n",
            "    c.learn()\n",
            "  File \"/content/drive/MyDrive/go_trabalho2_liacd/Coach.py\", line 121, in learn\n",
            "    pwins, nwins, draws = arena.playGames(self.args.arenaCompare)\n",
            "  File \"/content/drive/MyDrive/go_trabalho2_liacd/Arena.py\", line 128, in playGames\n",
            "    gameResult = self.playGame(verbose=verbose)\n",
            "  File \"/content/drive/MyDrive/go_trabalho2_liacd/Arena.py\", line 87, in playGame\n",
            "    assert valids[action] > 0\n",
            "AssertionError\n",
            "\n",
            "During handling of the above exception, another exception occurred:\n",
            "\n",
            "Traceback (most recent call last):\n",
            "  File \"/usr/local/lib/python3.10/dist-packages/IPython/core/interactiveshell.py\", line 2099, in showtraceback\n",
            "    stb = value._render_traceback_()\n",
            "AttributeError: 'AssertionError' object has no attribute '_render_traceback_'\n",
            "\n",
            "During handling of the above exception, another exception occurred:\n",
            "\n",
            "Traceback (most recent call last):\n",
            "  File \"/usr/local/lib/python3.10/dist-packages/IPython/core/interactiveshell.py\", line 3473, in run_ast_nodes\n",
            "    if (await self.run_code(code, result,  async_=asy)):\n",
            "  File \"/usr/local/lib/python3.10/dist-packages/IPython/core/interactiveshell.py\", line 3575, in run_code\n",
            "    self.showtraceback(running_compiled_code=True)\n",
            "  File \"/usr/local/lib/python3.10/dist-packages/IPython/core/interactiveshell.py\", line 2101, in showtraceback\n",
            "    stb = self.InteractiveTB.structured_traceback(etype,\n",
            "  File \"/usr/local/lib/python3.10/dist-packages/IPython/core/ultratb.py\", line 1367, in structured_traceback\n",
            "    return FormattedTB.structured_traceback(\n",
            "  File \"/usr/local/lib/python3.10/dist-packages/IPython/core/ultratb.py\", line 1267, in structured_traceback\n",
            "    return VerboseTB.structured_traceback(\n",
            "  File \"/usr/local/lib/python3.10/dist-packages/IPython/core/ultratb.py\", line 1124, in structured_traceback\n",
            "    formatted_exception = self.format_exception_as_a_whole(etype, evalue, etb, number_of_lines_of_context,\n",
            "  File \"/usr/local/lib/python3.10/dist-packages/IPython/core/ultratb.py\", line 1082, in format_exception_as_a_whole\n",
            "    last_unique, recursion_repeat = find_recursion(orig_etype, evalue, records)\n",
            "  File \"/usr/local/lib/python3.10/dist-packages/IPython/core/ultratb.py\", line 382, in find_recursion\n",
            "    return len(records), 0\n",
            "TypeError: object of type 'NoneType' has no len()\n",
            "\n",
            "During handling of the above exception, another exception occurred:\n",
            "\n",
            "Traceback (most recent call last):\n",
            "  File \"/usr/local/lib/python3.10/dist-packages/IPython/core/interactiveshell.py\", line 2099, in showtraceback\n",
            "    stb = value._render_traceback_()\n",
            "AttributeError: 'TypeError' object has no attribute '_render_traceback_'\n",
            "\n",
            "During handling of the above exception, another exception occurred:\n",
            "\n",
            "Traceback (most recent call last):\n",
            "  File \"/usr/local/lib/python3.10/dist-packages/IPython/core/ultratb.py\", line 1101, in get_records\n",
            "    return _fixed_getinnerframes(etb, number_of_lines_of_context, tb_offset)\n",
            "  File \"/usr/local/lib/python3.10/dist-packages/IPython/core/ultratb.py\", line 248, in wrapped\n",
            "    return f(*args, **kwargs)\n",
            "  File \"/usr/local/lib/python3.10/dist-packages/IPython/core/ultratb.py\", line 281, in _fixed_getinnerframes\n",
            "    records = fix_frame_records_filenames(inspect.getinnerframes(etb, context))\n",
            "  File \"/usr/lib/python3.10/inspect.py\", line 1662, in getinnerframes\n",
            "    frameinfo = (tb.tb_frame,) + getframeinfo(tb, context)\n",
            "  File \"/usr/lib/python3.10/inspect.py\", line 1620, in getframeinfo\n",
            "    filename = getsourcefile(frame) or getfile(frame)\n",
            "  File \"/usr/lib/python3.10/inspect.py\", line 829, in getsourcefile\n",
            "    module = getmodule(object, filename)\n",
            "  File \"/usr/lib/python3.10/inspect.py\", line 861, in getmodule\n",
            "    file = getabsfile(object, _filename)\n",
            "  File \"/usr/lib/python3.10/inspect.py\", line 845, in getabsfile\n",
            "    return os.path.normcase(os.path.abspath(_filename))\n",
            "  File \"/usr/lib/python3.10/posixpath.py\", line 384, in abspath\n",
            "    cwd = os.getcwd()\n",
            "OSError: [Errno 107] Transport endpoint is not connected\n",
            "Traceback (most recent call last):\n",
            "  File \"/usr/local/lib/python3.10/dist-packages/IPython/core/interactiveshell.py\", line 3553, in run_code\n",
            "    exec(code_obj, self.user_global_ns, self.user_ns)\n",
            "  File \"<ipython-input-10-f932e8c0f9a6>\", line 40, in <cell line: 40>\n",
            "    c.learn()\n",
            "  File \"/content/drive/MyDrive/go_trabalho2_liacd/Coach.py\", line 121, in learn\n",
            "    pwins, nwins, draws = arena.playGames(self.args.arenaCompare)\n",
            "  File \"/content/drive/MyDrive/go_trabalho2_liacd/Arena.py\", line 128, in playGames\n",
            "    gameResult = self.playGame(verbose=verbose)\n",
            "  File \"/content/drive/MyDrive/go_trabalho2_liacd/Arena.py\", line 87, in playGame\n",
            "    assert valids[action] > 0\n",
            "AssertionError\n",
            "\n",
            "During handling of the above exception, another exception occurred:\n",
            "\n",
            "Traceback (most recent call last):\n",
            "  File \"/usr/local/lib/python3.10/dist-packages/IPython/core/interactiveshell.py\", line 2099, in showtraceback\n",
            "    stb = value._render_traceback_()\n",
            "AttributeError: 'AssertionError' object has no attribute '_render_traceback_'\n",
            "\n",
            "During handling of the above exception, another exception occurred:\n",
            "\n",
            "Traceback (most recent call last):\n",
            "  File \"/usr/local/lib/python3.10/dist-packages/IPython/core/interactiveshell.py\", line 3473, in run_ast_nodes\n",
            "    if (await self.run_code(code, result,  async_=asy)):\n",
            "  File \"/usr/local/lib/python3.10/dist-packages/IPython/core/interactiveshell.py\", line 3575, in run_code\n",
            "    self.showtraceback(running_compiled_code=True)\n",
            "  File \"/usr/local/lib/python3.10/dist-packages/IPython/core/interactiveshell.py\", line 2101, in showtraceback\n",
            "    stb = self.InteractiveTB.structured_traceback(etype,\n",
            "  File \"/usr/local/lib/python3.10/dist-packages/IPython/core/ultratb.py\", line 1367, in structured_traceback\n",
            "    return FormattedTB.structured_traceback(\n",
            "  File \"/usr/local/lib/python3.10/dist-packages/IPython/core/ultratb.py\", line 1267, in structured_traceback\n",
            "    return VerboseTB.structured_traceback(\n",
            "  File \"/usr/local/lib/python3.10/dist-packages/IPython/core/ultratb.py\", line 1124, in structured_traceback\n",
            "    formatted_exception = self.format_exception_as_a_whole(etype, evalue, etb, number_of_lines_of_context,\n",
            "  File \"/usr/local/lib/python3.10/dist-packages/IPython/core/ultratb.py\", line 1082, in format_exception_as_a_whole\n",
            "    last_unique, recursion_repeat = find_recursion(orig_etype, evalue, records)\n",
            "  File \"/usr/local/lib/python3.10/dist-packages/IPython/core/ultratb.py\", line 382, in find_recursion\n",
            "    return len(records), 0\n",
            "TypeError: object of type 'NoneType' has no len()\n",
            "\n",
            "During handling of the above exception, another exception occurred:\n",
            "\n",
            "Traceback (most recent call last):\n",
            "  File \"/usr/local/lib/python3.10/dist-packages/IPython/core/interactiveshell.py\", line 2099, in showtraceback\n",
            "    stb = value._render_traceback_()\n",
            "AttributeError: 'TypeError' object has no attribute '_render_traceback_'\n",
            "\n",
            "During handling of the above exception, another exception occurred:\n",
            "\n",
            "Traceback (most recent call last):\n",
            "  File \"/usr/local/lib/python3.10/dist-packages/IPython/core/interactiveshell.py\", line 3030, in _run_cell\n",
            "    return runner(coro)\n",
            "  File \"/usr/local/lib/python3.10/dist-packages/IPython/core/async_helpers.py\", line 78, in _pseudo_sync_runner\n",
            "    coro.send(None)\n",
            "  File \"/usr/local/lib/python3.10/dist-packages/IPython/core/interactiveshell.py\", line 3257, in run_cell_async\n",
            "    has_raised = await self.run_ast_nodes(code_ast.body, cell_name,\n",
            "  File \"/usr/local/lib/python3.10/dist-packages/IPython/core/interactiveshell.py\", line 3492, in run_ast_nodes\n",
            "    self.showtraceback()\n",
            "  File \"/usr/local/lib/python3.10/dist-packages/IPython/core/interactiveshell.py\", line 2101, in showtraceback\n",
            "    stb = self.InteractiveTB.structured_traceback(etype,\n",
            "  File \"/usr/local/lib/python3.10/dist-packages/IPython/core/ultratb.py\", line 1367, in structured_traceback\n",
            "    return FormattedTB.structured_traceback(\n",
            "  File \"/usr/local/lib/python3.10/dist-packages/IPython/core/ultratb.py\", line 1267, in structured_traceback\n",
            "    return VerboseTB.structured_traceback(\n",
            "  File \"/usr/local/lib/python3.10/dist-packages/IPython/core/ultratb.py\", line 1142, in structured_traceback\n",
            "    formatted_exceptions += self.format_exception_as_a_whole(etype, evalue, etb, lines_of_context,\n",
            "  File \"/usr/local/lib/python3.10/dist-packages/IPython/core/ultratb.py\", line 1082, in format_exception_as_a_whole\n",
            "    last_unique, recursion_repeat = find_recursion(orig_etype, evalue, records)\n",
            "  File \"/usr/local/lib/python3.10/dist-packages/IPython/core/ultratb.py\", line 382, in find_recursion\n",
            "    return len(records), 0\n",
            "TypeError: object of type 'NoneType' has no len()\n",
            "\n",
            "During handling of the above exception, another exception occurred:\n",
            "\n",
            "Traceback (most recent call last):\n",
            "  File \"/usr/local/lib/python3.10/dist-packages/IPython/core/interactiveshell.py\", line 2099, in showtraceback\n",
            "    stb = value._render_traceback_()\n",
            "AttributeError: 'TypeError' object has no attribute '_render_traceback_'\n",
            "\n",
            "During handling of the above exception, another exception occurred:\n",
            "\n",
            "Traceback (most recent call last):\n",
            "  File \"/usr/local/lib/python3.10/dist-packages/IPython/core/ultratb.py\", line 1101, in get_records\n",
            "    return _fixed_getinnerframes(etb, number_of_lines_of_context, tb_offset)\n",
            "  File \"/usr/local/lib/python3.10/dist-packages/IPython/core/ultratb.py\", line 248, in wrapped\n",
            "    return f(*args, **kwargs)\n",
            "  File \"/usr/local/lib/python3.10/dist-packages/IPython/core/ultratb.py\", line 281, in _fixed_getinnerframes\n",
            "    records = fix_frame_records_filenames(inspect.getinnerframes(etb, context))\n",
            "  File \"/usr/lib/python3.10/inspect.py\", line 1662, in getinnerframes\n",
            "    frameinfo = (tb.tb_frame,) + getframeinfo(tb, context)\n",
            "  File \"/usr/lib/python3.10/inspect.py\", line 1620, in getframeinfo\n",
            "    filename = getsourcefile(frame) or getfile(frame)\n",
            "  File \"/usr/lib/python3.10/inspect.py\", line 829, in getsourcefile\n",
            "    module = getmodule(object, filename)\n",
            "  File \"/usr/lib/python3.10/inspect.py\", line 861, in getmodule\n",
            "    file = getabsfile(object, _filename)\n",
            "  File \"/usr/lib/python3.10/inspect.py\", line 845, in getabsfile\n",
            "    return os.path.normcase(os.path.abspath(_filename))\n",
            "  File \"/usr/lib/python3.10/posixpath.py\", line 384, in abspath\n",
            "    cwd = os.getcwd()\n",
            "OSError: [Errno 107] Transport endpoint is not connected\n"
          ]
        }
      ],
      "source": [
        "args = dotdict({\n",
        "    'numIters': 20,\n",
        "    'numEps': 25,              # Number of complete self-play games to simulate during a new iteration.\n",
        "    'tempThreshold': 15,        #\n",
        "    'updateThreshold': 0.6,     # During arena playoff, new neural net will be accepted if threshold or more of games are won.\n",
        "    'maxlenOfQueue': 50000,    # Number of game examples to train the neural networks.\n",
        "    'numMCTSSims': 25,          # Number of games moves for MCTS to simulate.\n",
        "    'arenaCompare': 20,         # Number of games to play during arena play to determine if new net will be accepted.\n",
        "    'cpuct': 1,\n",
        "\n",
        "    'checkpoint': '/content/drive/MyDrive/go_trabalho2_liacd/models/go/7x7',\n",
        "    'load_model': False,\n",
        "    'load_folder_file': ('/content/drive/MyDrive/go_trabalho2_liacd/models/go/7x7', 'best.h5'),\n",
        "    'numItersForTrainExamplesHistory': 20,\n",
        "\n",
        "})\n",
        "\n",
        "\n",
        "\n",
        "log.info('Loading %s...', Game.__name__)\n",
        "g = Game(7)\n",
        "\n",
        "log.info('Loading %s...', nn.__name__)\n",
        "nnet = nn(g)\n",
        "\n",
        "if args.load_model:\n",
        "    log.info('Loading checkpoint \"%s/%s\"...', args.load_folder_file[0], args.load_folder_file[1])\n",
        "    nnet.load_model(args.load_folder_file[0], args.load_folder_file[1])\n",
        "else:\n",
        "    log.warning('Not loading a checkpoint!')\n",
        "\n",
        "log.info('Loading the Coach...')\n",
        "c = Coach(g, nnet, args)\n",
        "\n",
        "if args.load_model:\n",
        "    log.info(\"Loading 'trainExamples' from file...\")\n",
        "    c.loadTrainExamples()\n",
        "\n",
        "log.info('Starting the learning process 🎉')\n",
        "c.learn()\n",
        "\n"
      ]
    },
    {
      "cell_type": "markdown",
      "metadata": {
        "id": "tiWgzWFIvd65"
      },
      "source": [
        "#Segundo Treino"
      ]
    },
    {
      "cell_type": "code",
      "execution_count": null,
      "metadata": {
        "colab": {
          "background_save": true,
          "base_uri": "https://localhost:8080/"
        },
        "id": "Hnogbb7cvfrR",
        "outputId": "418f3ae6-1f02-455a-98cb-11f59cea5c0c"
      },
      "outputs": [
        {
          "name": "stderr",
          "output_type": "stream",
          "text": [
            "2023-12-29 23:55:41 6c01efd87e42 __main__[1504863] INFO Loading GoGame...\n",
            "2023-12-29 23:55:41 6c01efd87e42 __main__[1504863] INFO Loading NNetWrapper...\n",
            "2023-12-29 23:55:42 6c01efd87e42 __main__[1504863] INFO Loading checkpoint \"/content/drive/MyDrive/go_trabalho2_liacd/models/go/7x7/best.h5\"...\n",
            "2023-12-29 23:55:43 6c01efd87e42 __main__[1504863] INFO Loading the Coach...\n",
            "2023-12-29 23:55:43 6c01efd87e42 __main__[1504863] INFO Loading 'trainExamples' from file...\n",
            "2023-12-29 23:55:43 6c01efd87e42 Coach[1504863] INFO File with trainExamples found. Loading it...\n",
            "2023-12-29 23:55:47 6c01efd87e42 Coach[1504863] INFO Loading done!\n",
            "2023-12-29 23:55:47 6c01efd87e42 __main__[1504863] INFO Starting the learning process 🎉\n",
            "2023-12-29 23:55:47 6c01efd87e42 Coach[1504863] INFO Starting Iter #1 ...\n"
          ]
        },
        {
          "name": "stdout",
          "output_type": "stream",
          "text": [
            "Checkpoint Directory exists! \n"
          ]
        },
        {
          "name": "stderr",
          "output_type": "stream",
          "text": [
            "/usr/local/lib/python3.10/dist-packages/keras/src/engine/training.py:3103: UserWarning: You are saving your model as an HDF5 file via `model.save()`. This file format is considered legacy. We recommend using instead the native Keras format, e.g. `model.save('my_model.keras')`.\n",
            "  saving_api.save_model(\n"
          ]
        },
        {
          "name": "stdout",
          "output_type": "stream",
          "text": [
            "Epoch 1/10\n",
            "817/817 [==============================] - 205s 244ms/step - loss: 4.7817 - pi_loss: 3.8566 - v_loss: 0.9251\n",
            "Epoch 2/10\n",
            "817/817 [==============================] - 207s 253ms/step - loss: 4.1267 - pi_loss: 3.6669 - v_loss: 0.4598\n",
            "Epoch 3/10\n",
            "817/817 [==============================] - 198s 243ms/step - loss: 3.7482 - pi_loss: 3.4444 - v_loss: 0.3038\n",
            "Epoch 4/10\n",
            "817/817 [==============================] - 196s 240ms/step - loss: 3.4945 - pi_loss: 3.2558 - v_loss: 0.2387\n",
            "Epoch 5/10\n",
            "817/817 [==============================] - 191s 234ms/step - loss: 3.3146 - pi_loss: 3.1179 - v_loss: 0.1967\n",
            "Epoch 6/10\n",
            "817/817 [==============================] - 183s 224ms/step - loss: 3.1672 - pi_loss: 2.9974 - v_loss: 0.1699\n",
            "Epoch 7/10\n",
            "817/817 [==============================] - 184s 226ms/step - loss: 3.0282 - pi_loss: 2.8790 - v_loss: 0.1491\n",
            "Epoch 8/10\n",
            "817/817 [==============================] - 182s 222ms/step - loss: 2.8975 - pi_loss: 2.7603 - v_loss: 0.1372\n",
            "Epoch 9/10\n",
            "817/817 [==============================] - 181s 221ms/step - loss: 2.7638 - pi_loss: 2.6350 - v_loss: 0.1287\n",
            "Epoch 10/10\n",
            "817/817 [==============================] - 190s 232ms/step - loss: 2.6384 - pi_loss: 2.5179 - v_loss: 0.1205\n"
          ]
        },
        {
          "name": "stderr",
          "output_type": "stream",
          "text": [
            "2023-12-30 00:28:28 6c01efd87e42 Coach[1504863] INFO PITTING AGAINST PREVIOUS VERSION\n",
            "Arena.playGames (1): 100%|██████████| 10/10 [17:15<00:00, 103.50s/it]\n",
            "Arena.playGames (2): 100%|██████████| 10/10 [14:44<00:00, 88.41s/it]\n",
            "2023-12-30 01:00:27 6c01efd87e42 Coach[1504863] INFO NEW/PREV WINS : 10 / 10 ; DRAWS : 0\n",
            "2023-12-30 01:00:27 6c01efd87e42 Coach[1504863] INFO REJECTING NEW MODEL\n",
            "2023-12-30 01:00:28 6c01efd87e42 Coach[1504863] INFO Starting Iter #2 ...\n",
            "Self Play: 100%|██████████| 25/25 [51:32<00:00, 123.69s/it]\n"
          ]
        },
        {
          "name": "stdout",
          "output_type": "stream",
          "text": [
            "Checkpoint Directory exists! \n",
            "Epoch 1/10\n",
            "994/994 [==============================] - 228s 226ms/step - loss: 4.7478 - pi_loss: 3.8347 - v_loss: 0.9131\n",
            "Epoch 2/10\n",
            "994/994 [==============================] - 218s 219ms/step - loss: 4.0451 - pi_loss: 3.5917 - v_loss: 0.4535\n",
            "Epoch 3/10\n",
            "994/994 [==============================] - 230s 231ms/step - loss: 3.6444 - pi_loss: 3.3396 - v_loss: 0.3049\n",
            "Epoch 4/10\n",
            "994/994 [==============================] - 219s 221ms/step - loss: 3.4252 - pi_loss: 3.1895 - v_loss: 0.2357\n",
            "Epoch 5/10\n",
            "994/994 [==============================] - 221s 223ms/step - loss: 3.2661 - pi_loss: 3.0707 - v_loss: 0.1954\n",
            "Epoch 6/10\n",
            "994/994 [==============================] - 222s 224ms/step - loss: 3.1202 - pi_loss: 2.9538 - v_loss: 0.1665\n",
            "Epoch 7/10\n",
            "994/994 [==============================] - 226s 227ms/step - loss: 2.9873 - pi_loss: 2.8383 - v_loss: 0.1490\n",
            "Epoch 8/10\n",
            "994/994 [==============================] - 223s 224ms/step - loss: 2.8541 - pi_loss: 2.7146 - v_loss: 0.1396\n",
            "Epoch 9/10\n",
            "994/994 [==============================] - 227s 228ms/step - loss: 2.7115 - pi_loss: 2.5863 - v_loss: 0.1252\n",
            "Epoch 10/10\n",
            "994/994 [==============================] - 216s 218ms/step - loss: 2.5837 - pi_loss: 2.4664 - v_loss: 0.1173\n"
          ]
        },
        {
          "name": "stderr",
          "output_type": "stream",
          "text": [
            "2023-12-30 02:29:42 6c01efd87e42 Coach[1504863] INFO PITTING AGAINST PREVIOUS VERSION\n",
            "Arena.playGames (1): 100%|██████████| 10/10 [19:15<00:00, 115.59s/it]\n",
            "Arena.playGames (2): 100%|██████████| 10/10 [17:39<00:00, 105.92s/it]\n",
            "2023-12-30 03:06:37 6c01efd87e42 Coach[1504863] INFO NEW/PREV WINS : 7 / 13 ; DRAWS : 0\n",
            "2023-12-30 03:06:37 6c01efd87e42 Coach[1504863] INFO REJECTING NEW MODEL\n",
            "2023-12-30 03:06:40 6c01efd87e42 Coach[1504863] INFO Starting Iter #3 ...\n",
            "Self Play: 100%|██████████| 25/25 [47:33<00:00, 114.12s/it]\n"
          ]
        },
        {
          "name": "stdout",
          "output_type": "stream",
          "text": [
            "Checkpoint Directory exists! \n",
            "Epoch 1/10\n",
            " 323/1152 [=======>......................] - ETA: 3:01 - loss: 5.0866 - pi_loss: 3.9394 - v_loss: 1.1472"
          ]
        }
      ],
      "source": [
        "args = dotdict({\n",
        "    'numIters': 20,\n",
        "    'numEps': 25,              # Number of complete self-play games to simulate during a new iteration.\n",
        "    'tempThreshold': 15,        #\n",
        "    'updateThreshold': 0.6,     # During arena playoff, new neural net will be accepted if threshold or more of games are won.\n",
        "    'maxlenOfQueue': 50000,    # Number of game examples to train the neural networks.\n",
        "    'numMCTSSims': 25,          # Number of games moves for MCTS to simulate.\n",
        "    'arenaCompare': 20,         # Number of games to play during arena play to determine if new net will be accepted.\n",
        "    'cpuct': 1,\n",
        "\n",
        "    'checkpoint': '/content/drive/MyDrive/go_trabalho2_liacd/models/go/7x7',\n",
        "    'load_model': True,\n",
        "    'load_folder_file': ('/content/drive/MyDrive/go_trabalho2_liacd/models/go/7x7', 'best.h5'),\n",
        "    'numItersForTrainExamplesHistory': 20,\n",
        "\n",
        "})\n",
        "\n",
        "\n",
        "\n",
        "log.info('Loading %s...', Game.__name__)\n",
        "g = Game(7)\n",
        "\n",
        "log.info('Loading %s...', nn.__name__)\n",
        "nnet = nn(g)\n",
        "\n",
        "if args.load_model:\n",
        "    log.info('Loading checkpoint \"%s/%s\"...', args.load_folder_file[0], args.load_folder_file[1])\n",
        "    nnet.load_model(args.load_folder_file[0], args.load_folder_file[1])\n",
        "else:\n",
        "    log.warning('Not loading a checkpoint!')\n",
        "\n",
        "log.info('Loading the Coach...')\n",
        "c = Coach(g, nnet, args)\n",
        "\n",
        "if args.load_model:\n",
        "    log.info(\"Loading 'trainExamples' from file...\")\n",
        "    c.loadTrainExamples()\n",
        "\n",
        "log.info('Starting the learning process 🎉')\n",
        "c.learn()\n",
        "\n"
      ]
    },
    {
      "cell_type": "markdown",
      "metadata": {
        "id": "MeW-Mqj4r5cA"
      },
      "source": [
        "#Terceiro Treino\n"
      ]
    },
    {
      "cell_type": "code",
      "execution_count": null,
      "metadata": {
        "colab": {
          "background_save": true,
          "base_uri": "https://localhost:8080/"
        },
        "id": "SgHfzlPS_2Fc",
        "outputId": "535d238b-0e2c-4834-f545-a7d433dff423"
      },
      "outputs": [
        {
          "name": "stderr",
          "output_type": "stream",
          "text": [
            "2023-12-30 12:28:37 4b69efae3033 __main__[517] INFO Loading GoGame...\n",
            "2023-12-30 12:28:37 4b69efae3033 __main__[517] INFO Loading NNetWrapper...\n",
            "2023-12-30 12:28:37 4b69efae3033 __main__[517] INFO Loading checkpoint \"/content/drive/MyDrive/go_trabalho2_liacd/models/go/7x7/best.h5\"...\n",
            "2023-12-30 12:28:41 4b69efae3033 __main__[517] INFO Loading the Coach...\n",
            "2023-12-30 12:28:41 4b69efae3033 __main__[517] INFO Loading 'trainExamples' from file...\n",
            "2023-12-30 12:28:41 4b69efae3033 Coach[517] INFO File with trainExamples found. Loading it...\n",
            "2023-12-30 12:28:45 4b69efae3033 Coach[517] INFO Loading done!\n",
            "2023-12-30 12:28:45 4b69efae3033 __main__[517] INFO Starting the learning process 🎉\n",
            "2023-12-30 12:28:45 4b69efae3033 Coach[517] INFO Starting Iter #1 ...\n"
          ]
        },
        {
          "name": "stdout",
          "output_type": "stream",
          "text": [
            "Checkpoint Directory exists! \n"
          ]
        },
        {
          "name": "stderr",
          "output_type": "stream",
          "text": [
            "/usr/local/lib/python3.10/dist-packages/keras/src/engine/training.py:3103: UserWarning: You are saving your model as an HDF5 file via `model.save()`. This file format is considered legacy. We recommend using instead the native Keras format, e.g. `model.save('my_model.keras')`.\n",
            "  saving_api.save_model(\n"
          ]
        },
        {
          "name": "stdout",
          "output_type": "stream",
          "text": [
            "Epoch 1/10\n",
            "656/656 [==============================] - 165s 248ms/step - loss: 4.7883 - pi_loss: 3.8711 - v_loss: 0.9172\n",
            "Epoch 2/10\n",
            "656/656 [==============================] - 154s 235ms/step - loss: 4.1351 - pi_loss: 3.6978 - v_loss: 0.4373\n",
            "Epoch 3/10\n",
            "656/656 [==============================] - 167s 254ms/step - loss: 3.7934 - pi_loss: 3.5068 - v_loss: 0.2866\n",
            "Epoch 4/10\n",
            "656/656 [==============================] - 159s 242ms/step - loss: 3.5339 - pi_loss: 3.2993 - v_loss: 0.2345\n",
            "Epoch 5/10\n",
            "656/656 [==============================] - 160s 245ms/step - loss: 3.3324 - pi_loss: 3.1407 - v_loss: 0.1917\n",
            "Epoch 6/10\n",
            "656/656 [==============================] - 159s 243ms/step - loss: 3.1808 - pi_loss: 3.0129 - v_loss: 0.1679\n",
            "Epoch 7/10\n",
            "656/656 [==============================] - 167s 254ms/step - loss: 3.0291 - pi_loss: 2.8793 - v_loss: 0.1498\n",
            "Epoch 8/10\n",
            "656/656 [==============================] - 158s 242ms/step - loss: 2.8930 - pi_loss: 2.7590 - v_loss: 0.1340\n",
            "Epoch 9/10\n",
            "656/656 [==============================] - 162s 248ms/step - loss: 2.7593 - pi_loss: 2.6365 - v_loss: 0.1228\n",
            "Epoch 10/10\n",
            "656/656 [==============================] - 160s 244ms/step - loss: 2.6208 - pi_loss: 2.5032 - v_loss: 0.1176\n"
          ]
        },
        {
          "name": "stderr",
          "output_type": "stream",
          "text": [
            "2023-12-30 12:55:51 4b69efae3033 Coach[517] INFO PITTING AGAINST PREVIOUS VERSION\n",
            "Arena.playGames (1): 100%|██████████| 10/10 [13:55<00:00, 83.54s/it]\n",
            "Arena.playGames (2): 100%|██████████| 10/10 [15:15<00:00, 91.58s/it]\n",
            "2023-12-30 13:25:02 4b69efae3033 Coach[517] INFO NEW/PREV WINS : 6 / 14 ; DRAWS : 0\n",
            "2023-12-30 13:25:02 4b69efae3033 Coach[517] INFO REJECTING NEW MODEL\n",
            "2023-12-30 13:25:04 4b69efae3033 Coach[517] INFO Starting Iter #2 ...\n",
            "Self Play: 100%|██████████| 25/25 [39:01<00:00, 93.64s/it]\n"
          ]
        },
        {
          "name": "stdout",
          "output_type": "stream",
          "text": [
            "Checkpoint Directory exists! \n",
            "Epoch 1/10\n",
            "803/803 [==============================] - 201s 248ms/step - loss: 4.8046 - pi_loss: 3.8764 - v_loss: 0.9282\n",
            "Epoch 2/10\n",
            "803/803 [==============================] - 205s 256ms/step - loss: 4.1421 - pi_loss: 3.7031 - v_loss: 0.4391\n",
            "Epoch 3/10\n",
            "803/803 [==============================] - 201s 250ms/step - loss: 3.7929 - pi_loss: 3.4939 - v_loss: 0.2989\n",
            "Epoch 4/10\n",
            "803/803 [==============================] - 204s 255ms/step - loss: 3.5250 - pi_loss: 3.2896 - v_loss: 0.2354\n",
            "Epoch 5/10\n",
            "803/803 [==============================] - 197s 246ms/step - loss: 3.3447 - pi_loss: 3.1466 - v_loss: 0.1980\n",
            "Epoch 6/10\n",
            "803/803 [==============================] - 195s 242ms/step - loss: 3.1864 - pi_loss: 3.0179 - v_loss: 0.1686\n",
            "Epoch 7/10\n",
            "803/803 [==============================] - 197s 245ms/step - loss: 3.0542 - pi_loss: 2.9018 - v_loss: 0.1524\n",
            "Epoch 8/10\n",
            "803/803 [==============================] - 193s 241ms/step - loss: 2.9172 - pi_loss: 2.7806 - v_loss: 0.1366\n",
            "Epoch 9/10\n",
            "803/803 [==============================] - 198s 247ms/step - loss: 2.7917 - pi_loss: 2.6654 - v_loss: 0.1263\n",
            "Epoch 10/10\n",
            "803/803 [==============================] - 197s 245ms/step - loss: 2.6612 - pi_loss: 2.5436 - v_loss: 0.1175\n"
          ]
        },
        {
          "name": "stderr",
          "output_type": "stream",
          "text": [
            "2023-12-30 14:37:44 4b69efae3033 Coach[517] INFO PITTING AGAINST PREVIOUS VERSION\n",
            "Arena.playGames (1): 100%|██████████| 10/10 [15:11<00:00, 91.13s/it]\n",
            "Arena.playGames (2): 100%|██████████| 10/10 [09:38<00:00, 57.82s/it]\n",
            "2023-12-30 15:02:34 4b69efae3033 Coach[517] INFO NEW/PREV WINS : 9 / 11 ; DRAWS : 0\n",
            "2023-12-30 15:02:34 4b69efae3033 Coach[517] INFO REJECTING NEW MODEL\n",
            "2023-12-30 15:02:36 4b69efae3033 Coach[517] INFO Starting Iter #3 ...\n",
            "Self Play:  32%|███▏      | 8/25 [15:04<32:18, 114.02s/it]2023-12-30 15:19:38 4b69efae3033 MCTS[517] WARNING Max depth reached!\n",
            "Self Play:  92%|█████████▏| 23/25 [41:28<03:06, 93.17s/it] 2023-12-30 15:45:53 4b69efae3033 MCTS[517] WARNING Max depth reached!\n",
            "2023-12-30 15:45:56 4b69efae3033 MCTS[517] WARNING Max depth reached!\n",
            "Self Play: 100%|██████████| 25/25 [45:06<00:00, 108.27s/it]\n"
          ]
        },
        {
          "name": "stdout",
          "output_type": "stream",
          "text": [
            "Checkpoint Directory exists! \n",
            "Epoch 1/10\n",
            "970/970 [==============================] - 226s 230ms/step - loss: 4.7374 - pi_loss: 3.8670 - v_loss: 0.8704\n",
            "Epoch 2/10\n",
            "970/970 [==============================] - 214s 221ms/step - loss: 4.1240 - pi_loss: 3.6737 - v_loss: 0.4503\n",
            "Epoch 3/10\n",
            "970/970 [==============================] - 216s 223ms/step - loss: 3.7239 - pi_loss: 3.4137 - v_loss: 0.3101\n",
            "Epoch 4/10\n",
            "970/970 [==============================] - 218s 225ms/step - loss: 3.4729 - pi_loss: 3.2372 - v_loss: 0.2357\n",
            "Epoch 5/10\n",
            "970/970 [==============================] - 221s 228ms/step - loss: 3.3177 - pi_loss: 3.1162 - v_loss: 0.2015\n",
            "Epoch 6/10\n",
            "970/970 [==============================] - 227s 234ms/step - loss: 3.1743 - pi_loss: 3.0035 - v_loss: 0.1708\n",
            "Epoch 7/10\n",
            "970/970 [==============================] - 221s 228ms/step - loss: 3.0387 - pi_loss: 2.8893 - v_loss: 0.1495\n",
            "Epoch 8/10\n",
            "970/970 [==============================] - 222s 229ms/step - loss: 2.9151 - pi_loss: 2.7791 - v_loss: 0.1360\n",
            "Epoch 9/10\n",
            "970/970 [==============================] - 221s 228ms/step - loss: 2.7952 - pi_loss: 2.6687 - v_loss: 0.1265\n",
            "Epoch 10/10\n",
            "970/970 [==============================] - 220s 227ms/step - loss: 2.6709 - pi_loss: 2.5521 - v_loss: 0.1187\n"
          ]
        },
        {
          "name": "stderr",
          "output_type": "stream",
          "text": [
            "2023-12-30 16:24:48 4b69efae3033 Coach[517] INFO PITTING AGAINST PREVIOUS VERSION\n",
            "Arena.playGames (1):  90%|█████████ | 9/10 [16:35<01:49, 109.78s/it]2023-12-30 16:42:53 4b69efae3033 MCTS[517] WARNING Max depth reached!\n",
            "Arena.playGames (1): 100%|██████████| 10/10 [18:06<00:00, 108.61s/it]\n",
            "Arena.playGames (2): 100%|██████████| 10/10 [14:53<00:00, 89.33s/it]\n",
            "2023-12-30 16:57:47 4b69efae3033 Coach[517] INFO NEW/PREV WINS : 7 / 13 ; DRAWS : 0\n",
            "2023-12-30 16:57:47 4b69efae3033 Coach[517] INFO REJECTING NEW MODEL\n",
            "2023-12-30 16:57:50 4b69efae3033 Coach[517] INFO Starting Iter #4 ...\n",
            "Self Play: 100%|██████████| 25/25 [42:16<00:00, 101.48s/it]\n"
          ]
        },
        {
          "name": "stdout",
          "output_type": "stream",
          "text": [
            "Checkpoint Directory exists! \n",
            "Epoch 1/10\n",
            "1120/1120 [==============================] - 271s 239ms/step - loss: 4.6901 - pi_loss: 3.8309 - v_loss: 0.8592\n",
            "Epoch 2/10\n",
            "1120/1120 [==============================] - 262s 234ms/step - loss: 4.0424 - pi_loss: 3.6049 - v_loss: 0.4375\n",
            "Epoch 3/10\n",
            "1120/1120 [==============================] - 266s 237ms/step - loss: 3.6560 - pi_loss: 3.3570 - v_loss: 0.2991\n",
            "Epoch 4/10\n",
            "1120/1120 [==============================] - 263s 235ms/step - loss: 3.4446 - pi_loss: 3.2068 - v_loss: 0.2378\n",
            "Epoch 5/10\n",
            "1120/1120 [==============================] - 267s 238ms/step - loss: 3.2863 - pi_loss: 3.0943 - v_loss: 0.1921\n",
            "Epoch 6/10\n",
            "1120/1120 [==============================] - 261s 233ms/step - loss: 3.1484 - pi_loss: 2.9870 - v_loss: 0.1614\n",
            "Epoch 7/10\n",
            "1120/1120 [==============================] - 266s 237ms/step - loss: 3.0288 - pi_loss: 2.8816 - v_loss: 0.1472\n",
            "Epoch 8/10\n",
            "1120/1120 [==============================] - 271s 242ms/step - loss: 2.9010 - pi_loss: 2.7699 - v_loss: 0.1311\n",
            "Epoch 9/10\n",
            "1120/1120 [==============================] - 258s 231ms/step - loss: 2.7810 - pi_loss: 2.6588 - v_loss: 0.1222\n",
            "Epoch 10/10\n",
            "1120/1120 [==============================] - 269s 240ms/step - loss: 2.6591 - pi_loss: 2.5451 - v_loss: 0.1140\n"
          ]
        },
        {
          "name": "stderr",
          "output_type": "stream",
          "text": [
            "2023-12-30 18:24:49 4b69efae3033 Coach[517] INFO PITTING AGAINST PREVIOUS VERSION\n",
            "Arena.playGames (1): 100%|██████████| 10/10 [17:00<00:00, 102.07s/it]\n",
            "Arena.playGames (2): 100%|██████████| 10/10 [15:39<00:00, 93.93s/it]\n",
            "2023-12-30 18:57:29 4b69efae3033 Coach[517] INFO NEW/PREV WINS : 8 / 12 ; DRAWS : 0\n",
            "2023-12-30 18:57:29 4b69efae3033 Coach[517] INFO REJECTING NEW MODEL\n",
            "2023-12-30 18:57:32 4b69efae3033 Coach[517] INFO Starting Iter #5 ...\n",
            "Self Play: 100%|██████████| 25/25 [44:45<00:00, 107.44s/it]\n"
          ]
        },
        {
          "name": "stdout",
          "output_type": "stream",
          "text": [
            "Checkpoint Directory exists! \n",
            "Epoch 1/10\n",
            "1277/1277 [==============================] - 291s 226ms/step - loss: 4.6810 - pi_loss: 3.8208 - v_loss: 0.8602\n",
            "Epoch 2/10\n",
            "1277/1277 [==============================] - 290s 227ms/step - loss: 4.0392 - pi_loss: 3.5564 - v_loss: 0.4828\n",
            "Epoch 3/10\n",
            "1277/1277 [==============================] - 288s 225ms/step - loss: 3.6430 - pi_loss: 3.3185 - v_loss: 0.3246\n",
            "Epoch 4/10\n",
            "1277/1277 [==============================] - 286s 224ms/step - loss: 3.4298 - pi_loss: 3.1886 - v_loss: 0.2412\n",
            "Epoch 5/10\n",
            "1277/1277 [==============================] - 290s 227ms/step - loss: 3.2823 - pi_loss: 3.0838 - v_loss: 0.1985\n",
            "Epoch 6/10\n",
            "1277/1277 [==============================] - 286s 224ms/step - loss: 3.1514 - pi_loss: 2.9815 - v_loss: 0.1699\n",
            "Epoch 7/10\n",
            "1277/1277 [==============================] - 290s 227ms/step - loss: 3.0369 - pi_loss: 2.8853 - v_loss: 0.1516\n",
            "Epoch 8/10\n",
            "1277/1277 [==============================] - 288s 225ms/step - loss: 2.9086 - pi_loss: 2.7719 - v_loss: 0.1367\n",
            "Epoch 9/10\n",
            "1277/1277 [==============================] - 288s 226ms/step - loss: 2.7876 - pi_loss: 2.6618 - v_loss: 0.1259\n",
            "Epoch 10/10\n",
            "1277/1277 [==============================] - 284s 223ms/step - loss: 2.6632 - pi_loss: 2.5483 - v_loss: 0.1149\n"
          ]
        },
        {
          "name": "stderr",
          "output_type": "stream",
          "text": [
            "2023-12-30 20:31:04 4b69efae3033 Coach[517] INFO PITTING AGAINST PREVIOUS VERSION\n",
            "Arena.playGames (1): 100%|██████████| 10/10 [17:28<00:00, 104.84s/it]\n",
            "Arena.playGames (2): 100%|██████████| 10/10 [18:09<00:00, 108.91s/it]\n",
            "2023-12-30 21:06:41 4b69efae3033 Coach[517] INFO NEW/PREV WINS : 9 / 11 ; DRAWS : 0\n",
            "2023-12-30 21:06:41 4b69efae3033 Coach[517] INFO REJECTING NEW MODEL\n",
            "2023-12-30 21:06:44 4b69efae3033 Coach[517] INFO Starting Iter #6 ...\n",
            "Self Play: 100%|██████████| 25/25 [42:54<00:00, 102.99s/it]\n"
          ]
        },
        {
          "name": "stdout",
          "output_type": "stream",
          "text": [
            "Checkpoint Directory exists! \n",
            "Epoch 1/10\n",
            "1430/1430 [==============================] - 323s 225ms/step - loss: 4.6801 - pi_loss: 3.8209 - v_loss: 0.8592\n",
            "Epoch 2/10\n",
            "1430/1430 [==============================] - 316s 221ms/step - loss: 3.9980 - pi_loss: 3.4799 - v_loss: 0.5181\n",
            "Epoch 3/10\n",
            "1430/1430 [==============================] - 320s 224ms/step - loss: 3.6138 - pi_loss: 3.2847 - v_loss: 0.3291\n",
            "Epoch 4/10\n",
            "1430/1430 [==============================] - 311s 218ms/step - loss: 3.4217 - pi_loss: 3.1739 - v_loss: 0.2477\n",
            "Epoch 5/10\n",
            "1430/1430 [==============================] - 323s 226ms/step - loss: 3.2813 - pi_loss: 3.0768 - v_loss: 0.2045\n",
            "Epoch 6/10\n",
            "1430/1430 [==============================] - 312s 218ms/step - loss: 3.1572 - pi_loss: 2.9839 - v_loss: 0.1734\n",
            "Epoch 7/10\n",
            "1430/1430 [==============================] - 323s 226ms/step - loss: 3.0415 - pi_loss: 2.8867 - v_loss: 0.1548\n",
            "Epoch 8/10\n",
            "1430/1430 [==============================] - 316s 221ms/step - loss: 2.9190 - pi_loss: 2.7796 - v_loss: 0.1394\n",
            "Epoch 9/10\n",
            "1430/1430 [==============================] - 330s 230ms/step - loss: 2.8038 - pi_loss: 2.6731 - v_loss: 0.1308\n",
            "Epoch 10/10\n",
            "1430/1430 [==============================] - 315s 220ms/step - loss: 2.6905 - pi_loss: 2.5706 - v_loss: 0.1199\n"
          ]
        },
        {
          "name": "stderr",
          "output_type": "stream",
          "text": [
            "2023-12-30 22:43:09 4b69efae3033 Coach[517] INFO PITTING AGAINST PREVIOUS VERSION\n",
            "Arena.playGames (1):  20%|██        | 2/10 [03:12<12:46, 95.84s/it]2023-12-30 22:48:15 4b69efae3033 MCTS[517] WARNING Max depth reached!\n",
            "Arena.playGames (1): 100%|██████████| 10/10 [16:17<00:00, 97.72s/it]\n",
            "Arena.playGames (2): 100%|██████████| 10/10 [17:46<00:00, 106.63s/it]\n",
            "2023-12-30 23:17:13 4b69efae3033 Coach[517] INFO NEW/PREV WINS : 10 / 10 ; DRAWS : 0\n",
            "2023-12-30 23:17:13 4b69efae3033 Coach[517] INFO REJECTING NEW MODEL\n",
            "2023-12-30 23:17:16 4b69efae3033 Coach[517] INFO Starting Iter #7 ...\n",
            "Self Play: 100%|██████████| 25/25 [37:00<00:00, 88.80s/it]\n"
          ]
        },
        {
          "name": "stdout",
          "output_type": "stream",
          "text": [
            "Checkpoint Directory exists! \n",
            "Epoch 1/10\n",
            "1576/1576 [==============================] - 342s 216ms/step - loss: 4.6472 - pi_loss: 3.7928 - v_loss: 0.8544\n",
            "Epoch 2/10\n",
            "1576/1576 [==============================] - 342s 217ms/step - loss: 3.9625 - pi_loss: 3.4504 - v_loss: 0.5121\n",
            "Epoch 3/10\n",
            "1576/1576 [==============================] - 331s 210ms/step - loss: 3.6080 - pi_loss: 3.2726 - v_loss: 0.3354\n",
            "Epoch 4/10\n",
            "1576/1576 [==============================] - 324s 206ms/step - loss: 3.4186 - pi_loss: 3.1666 - v_loss: 0.2521\n",
            "Epoch 5/10\n",
            "1576/1576 [==============================] - 325s 206ms/step - loss: 3.2846 - pi_loss: 3.0773 - v_loss: 0.2073\n",
            "Epoch 6/10\n",
            "1576/1576 [==============================] - 320s 203ms/step - loss: 3.1629 - pi_loss: 2.9829 - v_loss: 0.1800\n",
            "Epoch 7/10\n",
            "1576/1576 [==============================] - 324s 206ms/step - loss: 3.0408 - pi_loss: 2.8838 - v_loss: 0.1571\n",
            "Epoch 8/10\n",
            "1576/1576 [==============================] - 322s 204ms/step - loss: 2.9220 - pi_loss: 2.7819 - v_loss: 0.1401\n",
            "Epoch 9/10\n",
            "1576/1576 [==============================] - 324s 206ms/step - loss: 2.8025 - pi_loss: 2.6731 - v_loss: 0.1294\n",
            "Epoch 10/10\n",
            "1576/1576 [==============================] - 320s 203ms/step - loss: 2.6866 - pi_loss: 2.5652 - v_loss: 0.1214\n"
          ]
        },
        {
          "name": "stderr",
          "output_type": "stream",
          "text": [
            "2023-12-31 00:50:08 4b69efae3033 Coach[517] INFO PITTING AGAINST PREVIOUS VERSION\n",
            "Arena.playGames (1): 100%|██████████| 10/10 [12:46<00:00, 76.61s/it]\n",
            "Arena.playGames (2): 100%|██████████| 10/10 [11:28<00:00, 68.81s/it]\n",
            "2023-12-31 01:14:22 4b69efae3033 Coach[517] INFO NEW/PREV WINS : 7 / 13 ; DRAWS : 0\n",
            "2023-12-31 01:14:22 4b69efae3033 Coach[517] INFO REJECTING NEW MODEL\n",
            "2023-12-31 01:14:26 4b69efae3033 Coach[517] INFO Starting Iter #8 ...\n",
            "Self Play:  36%|███▌      | 9/25 [12:23<22:34, 84.66s/it]2023-12-31 01:28:21 4b69efae3033 MCTS[517] WARNING Max depth reached!\n",
            "Self Play: 100%|██████████| 25/25 [34:03<00:00, 81.74s/it]\n"
          ]
        },
        {
          "name": "stdout",
          "output_type": "stream",
          "text": [
            "Checkpoint Directory exists! \n",
            "Epoch 1/10\n",
            "1716/1716 [==============================] - 352s 204ms/step - loss: 4.6267 - pi_loss: 3.7857 - v_loss: 0.8411\n",
            "Epoch 2/10\n",
            "1716/1716 [==============================] - 348s 203ms/step - loss: 3.9613 - pi_loss: 3.4340 - v_loss: 0.5273\n",
            "Epoch 3/10\n",
            "1716/1716 [==============================] - 342s 199ms/step - loss: 3.6121 - pi_loss: 3.2690 - v_loss: 0.3431\n",
            "Epoch 4/10\n",
            "1716/1716 [==============================] - 347s 202ms/step - loss: 3.4353 - pi_loss: 3.1731 - v_loss: 0.2622\n",
            "Epoch 5/10\n",
            "1716/1716 [==============================] - 351s 205ms/step - loss: 3.3015 - pi_loss: 3.0847 - v_loss: 0.2168\n",
            "Epoch 6/10\n",
            "1716/1716 [==============================] - 354s 206ms/step - loss: 3.1759 - pi_loss: 2.9920 - v_loss: 0.1839\n",
            "Epoch 7/10\n",
            "1716/1716 [==============================] - 348s 203ms/step - loss: 3.0646 - pi_loss: 2.9021 - v_loss: 0.1625\n",
            "Epoch 8/10\n",
            "1716/1716 [==============================] - 358s 208ms/step - loss: 2.9440 - pi_loss: 2.7994 - v_loss: 0.1446\n",
            "Epoch 9/10\n",
            "1716/1716 [==============================] - 346s 202ms/step - loss: 2.8322 - pi_loss: 2.6995 - v_loss: 0.1327\n",
            "Epoch 10/10\n",
            "1716/1716 [==============================] - 346s 202ms/step - loss: 2.7233 - pi_loss: 2.5988 - v_loss: 0.1245\n"
          ]
        },
        {
          "name": "stderr",
          "output_type": "stream",
          "text": [
            "2023-12-31 02:47:19 4b69efae3033 Coach[517] INFO PITTING AGAINST PREVIOUS VERSION\n",
            "Arena.playGames (1):  80%|████████  | 8/10 [10:09<02:31, 75.56s/it]"
          ]
        }
      ],
      "source": [
        "args = dotdict({\n",
        "    'numIters': 20,\n",
        "    'numEps': 25,              # Number of complete self-play games to simulate during a new iteration.\n",
        "    'tempThreshold': 15,        #\n",
        "    'updateThreshold': 0.6,     # During arena playoff, new neural net will be accepted if threshold or more of games are won.\n",
        "    'maxlenOfQueue': 50000,    # Number of game examples to train the neural networks.\n",
        "    'numMCTSSims': 25,          # Number of games moves for MCTS to simulate.\n",
        "    'arenaCompare': 20,         # Number of games to play during arena play to determine if new net will be accepted.\n",
        "    'cpuct': 1,\n",
        "\n",
        "    'checkpoint': '/content/drive/MyDrive/go_trabalho2_liacd/models/go/7x7',\n",
        "    'load_model': True,\n",
        "    'load_folder_file': ('/content/drive/MyDrive/go_trabalho2_liacd/models/go/7x7', 'best.h5'),\n",
        "    'numItersForTrainExamplesHistory': 20,\n",
        "\n",
        "})\n",
        "\n",
        "\n",
        "\n",
        "log.info('Loading %s...', Game.__name__)\n",
        "g = Game(7)\n",
        "\n",
        "log.info('Loading %s...', nn.__name__)\n",
        "nnet = nn(g)\n",
        "\n",
        "if args.load_model:\n",
        "    log.info('Loading checkpoint \"%s/%s\"...', args.load_folder_file[0], args.load_folder_file[1])\n",
        "    nnet.load_model(args.load_folder_file[0], args.load_folder_file[1])\n",
        "else:\n",
        "    log.warning('Not loading a checkpoint!')\n",
        "\n",
        "log.info('Loading the Coach...')\n",
        "c = Coach(g, nnet, args)\n",
        "\n",
        "if args.load_model:\n",
        "    log.info(\"Loading 'trainExamples' from file...\")\n",
        "    c.loadTrainExamples()\n",
        "\n",
        "log.info('Starting the learning process 🎉')\n",
        "c.learn()\n",
        "\n"
      ]
    },
    {
      "cell_type": "markdown",
      "metadata": {
        "id": "FStEGwtZ_GFJ"
      },
      "source": [
        "#Quarto Treino"
      ]
    },
    {
      "cell_type": "code",
      "execution_count": null,
      "metadata": {
        "colab": {
          "background_save": true,
          "base_uri": "https://localhost:8080/"
        },
        "id": "K9y7890m_I7m",
        "outputId": "bc3d97e3-59af-4ee8-d27f-d2b06a40f3ca"
      },
      "outputs": [
        {
          "name": "stderr",
          "output_type": "stream",
          "text": [
            "2023-12-31 13:10:50 dcb4d3d810e7 __main__[910] INFO Loading GoGame...\n",
            "2023-12-31 13:10:50 dcb4d3d810e7 __main__[910] INFO Loading NNetWrapper...\n",
            "2023-12-31 13:10:50 dcb4d3d810e7 __main__[910] INFO Loading checkpoint \"/content/drive/MyDrive/go_trabalho2_liacd/models/go/7x7/best.h5\"...\n",
            "2023-12-31 13:10:51 dcb4d3d810e7 __main__[910] INFO Loading the Coach...\n",
            "2023-12-31 13:10:52 dcb4d3d810e7 __main__[910] INFO Loading 'trainExamples' from file...\n",
            "2023-12-31 13:10:52 dcb4d3d810e7 Coach[910] INFO File with trainExamples found. Loading it...\n",
            "2023-12-31 13:10:56 dcb4d3d810e7 Coach[910] INFO Loading done!\n",
            "2023-12-31 13:10:56 dcb4d3d810e7 __main__[910] INFO Starting the learning process 🎉\n",
            "2023-12-31 13:10:56 dcb4d3d810e7 Coach[910] INFO Starting Iter #1 ...\n"
          ]
        },
        {
          "name": "stdout",
          "output_type": "stream",
          "text": [
            "Checkpoint Directory exists! \n"
          ]
        },
        {
          "name": "stderr",
          "output_type": "stream",
          "text": [
            "/usr/local/lib/python3.10/dist-packages/keras/src/engine/training.py:3103: UserWarning: You are saving your model as an HDF5 file via `model.save()`. This file format is considered legacy. We recommend using instead the native Keras format, e.g. `model.save('my_model.keras')`.\n",
            "  saving_api.save_model(\n"
          ]
        },
        {
          "name": "stdout",
          "output_type": "stream",
          "text": [
            "Epoch 1/10\n",
            "1716/1716 [==============================] - 424s 246ms/step - loss: 4.6345 - pi_loss: 3.7749 - v_loss: 0.8595\n",
            "Epoch 2/10\n",
            "1716/1716 [==============================] - 432s 252ms/step - loss: 3.9749 - pi_loss: 3.4421 - v_loss: 0.5327\n",
            "Epoch 3/10\n",
            "1716/1716 [==============================] - 427s 249ms/step - loss: 3.6209 - pi_loss: 3.2794 - v_loss: 0.3415\n",
            "Epoch 4/10\n",
            "1716/1716 [==============================] - 430s 251ms/step - loss: 3.4386 - pi_loss: 3.1802 - v_loss: 0.2583\n",
            "Epoch 5/10\n",
            "1716/1716 [==============================] - 432s 252ms/step - loss: 3.3011 - pi_loss: 3.0870 - v_loss: 0.2140\n",
            "Epoch 6/10\n",
            "1716/1716 [==============================] - 431s 251ms/step - loss: 3.1788 - pi_loss: 2.9991 - v_loss: 0.1797\n",
            "Epoch 7/10\n",
            "1716/1716 [==============================] - 429s 250ms/step - loss: 3.0617 - pi_loss: 2.9012 - v_loss: 0.1605\n",
            "Epoch 8/10\n",
            "1716/1716 [==============================] - 423s 246ms/step - loss: 2.9486 - pi_loss: 2.8032 - v_loss: 0.1455\n",
            "Epoch 9/10\n",
            "1716/1716 [==============================] - 430s 250ms/step - loss: 2.8315 - pi_loss: 2.6982 - v_loss: 0.1333\n",
            "Epoch 10/10\n",
            "1716/1716 [==============================] - 430s 251ms/step - loss: 2.7222 - pi_loss: 2.5984 - v_loss: 0.1237\n"
          ]
        },
        {
          "name": "stderr",
          "output_type": "stream",
          "text": [
            "2023-12-31 14:23:50 dcb4d3d810e7 Coach[910] INFO PITTING AGAINST PREVIOUS VERSION\n",
            "Arena.playGames (1):  40%|████      | 4/10 [06:32<09:58, 99.74s/it]2023-12-31 14:31:54 dcb4d3d810e7 MCTS[910] WARNING Max depth reached!\n",
            "2023-12-31 14:32:11 dcb4d3d810e7 MCTS[910] WARNING Max depth reached!\n",
            "Arena.playGames (1): 100%|██████████| 10/10 [17:04<00:00, 102.48s/it]\n",
            "Arena.playGames (2): 100%|██████████| 10/10 [18:11<00:00, 109.12s/it]\n",
            "2023-12-31 14:59:06 dcb4d3d810e7 Coach[910] INFO NEW/PREV WINS : 13 / 7 ; DRAWS : 0\n",
            "2023-12-31 14:59:06 dcb4d3d810e7 Coach[910] INFO ACCEPTING NEW MODEL\n"
          ]
        },
        {
          "name": "stdout",
          "output_type": "stream",
          "text": [
            "Checkpoint Directory exists! \n",
            "Checkpoint Directory exists! \n"
          ]
        },
        {
          "name": "stderr",
          "output_type": "stream",
          "text": [
            "2023-12-31 14:59:08 dcb4d3d810e7 Coach[910] INFO Starting Iter #2 ...\n",
            "Self Play:  32%|███▏      | 8/25 [16:48<34:08, 120.47s/it]2023-12-31 15:18:41 dcb4d3d810e7 MCTS[910] WARNING Max depth reached!\n",
            "2023-12-31 15:18:51 dcb4d3d810e7 MCTS[910] WARNING Max depth reached!\n",
            "Self Play:  72%|███████▏  | 18/25 [37:38<13:21, 114.54s/it]2023-12-31 15:39:00 dcb4d3d810e7 MCTS[910] WARNING Max depth reached!\n",
            "2023-12-31 15:39:02 dcb4d3d810e7 MCTS[910] WARNING Max depth reached!\n",
            "Self Play:  84%|████████▍ | 21/25 [44:01<07:43, 115.76s/it]2023-12-31 15:45:01 dcb4d3d810e7 MCTS[910] WARNING Max depth reached!\n",
            "Self Play: 100%|██████████| 25/25 [52:26<00:00, 125.87s/it]\n"
          ]
        },
        {
          "name": "stdout",
          "output_type": "stream",
          "text": [
            "Checkpoint Directory exists! \n",
            "Epoch 1/10\n",
            "1889/1889 [==============================] - 509s 270ms/step - loss: 2.7661 - pi_loss: 2.5968 - v_loss: 0.1693\n",
            "Epoch 2/10\n",
            "1889/1889 [==============================] - 505s 267ms/step - loss: 2.6146 - pi_loss: 2.4868 - v_loss: 0.1278\n",
            "Epoch 3/10\n",
            "1889/1889 [==============================] - 507s 268ms/step - loss: 2.5000 - pi_loss: 2.3846 - v_loss: 0.1154\n",
            "Epoch 4/10\n",
            "1889/1889 [==============================] - 512s 271ms/step - loss: 2.4001 - pi_loss: 2.2896 - v_loss: 0.1105\n",
            "Epoch 5/10\n",
            "1889/1889 [==============================] - 505s 268ms/step - loss: 2.3176 - pi_loss: 2.2106 - v_loss: 0.1070\n",
            "Epoch 6/10\n",
            "1889/1889 [==============================] - 498s 264ms/step - loss: 2.2333 - pi_loss: 2.1281 - v_loss: 0.1052\n",
            "Epoch 7/10\n",
            "1889/1889 [==============================] - 504s 267ms/step - loss: 2.1543 - pi_loss: 2.0527 - v_loss: 0.1016\n",
            "Epoch 8/10\n",
            "1889/1889 [==============================] - 507s 268ms/step - loss: 2.0892 - pi_loss: 1.9929 - v_loss: 0.0962\n",
            "Epoch 9/10\n",
            "1889/1889 [==============================] - 501s 265ms/step - loss: 2.0307 - pi_loss: 1.9341 - v_loss: 0.0966\n",
            "Epoch 10/10\n",
            "1889/1889 [==============================] - 497s 263ms/step - loss: 1.9751 - pi_loss: 1.8820 - v_loss: 0.0932\n"
          ]
        },
        {
          "name": "stderr",
          "output_type": "stream",
          "text": [
            "2023-12-31 17:16:20 dcb4d3d810e7 Coach[910] INFO PITTING AGAINST PREVIOUS VERSION\n",
            "Arena.playGames (1): 100%|██████████| 10/10 [05:02<00:00, 30.22s/it]\n",
            "Arena.playGames (2): 100%|██████████| 10/10 [00:01<00:00,  5.58it/s]\n",
            "2023-12-31 17:21:24 dcb4d3d810e7 Coach[910] INFO NEW/PREV WINS : 10 / 10 ; DRAWS : 0\n",
            "2023-12-31 17:21:24 dcb4d3d810e7 Coach[910] INFO REJECTING NEW MODEL\n",
            "2023-12-31 17:21:26 dcb4d3d810e7 Coach[910] INFO Starting Iter #3 ...\n",
            "Self Play:   8%|▊         | 2/25 [04:01<46:30, 121.33s/it]2023-12-31 17:27:45 dcb4d3d810e7 MCTS[910] WARNING Max depth reached!\n",
            "Self Play:  40%|████      | 10/25 [23:05<35:25, 141.70s/it]2023-12-31 17:46:25 dcb4d3d810e7 MCTS[910] WARNING Max depth reached!\n",
            "Self Play:  60%|██████    | 15/25 [34:23<23:00, 138.07s/it]2023-12-31 17:58:16 dcb4d3d810e7 MCTS[910] WARNING Max depth reached!\n",
            "2023-12-31 17:59:00 dcb4d3d810e7 MCTS[910] WARNING Max depth reached!\n",
            "Self Play: 100%|██████████| 25/25 [54:41<00:00, 131.27s/it]\n"
          ]
        },
        {
          "name": "stdout",
          "output_type": "stream",
          "text": [
            "Checkpoint Directory exists! \n",
            "Epoch 1/10\n",
            "2071/2071 [==============================] - 570s 274ms/step - loss: 2.8887 - pi_loss: 2.6640 - v_loss: 0.2246\n",
            "Epoch 2/10\n",
            "2071/2071 [==============================] - 594s 287ms/step - loss: 2.7013 - pi_loss: 2.5489 - v_loss: 0.1524\n",
            "Epoch 3/10\n",
            "2071/2071 [==============================] - 550s 265ms/step - loss: 2.5821 - pi_loss: 2.4419 - v_loss: 0.1401\n",
            "Epoch 4/10\n",
            "2071/2071 [==============================] - 543s 262ms/step - loss: 2.4713 - pi_loss: 2.3445 - v_loss: 0.1268\n",
            "Epoch 5/10\n",
            "2071/2071 [==============================] - 550s 266ms/step - loss: 2.3754 - pi_loss: 2.2548 - v_loss: 0.1206\n",
            "Epoch 6/10\n",
            "2071/2071 [==============================] - 542s 262ms/step - loss: 2.2873 - pi_loss: 2.1710 - v_loss: 0.1163\n",
            "Epoch 7/10\n",
            "2071/2071 [==============================] - 552s 267ms/step - loss: 2.2024 - pi_loss: 2.0903 - v_loss: 0.1122\n",
            "Epoch 8/10\n",
            "2071/2071 [==============================] - 556s 268ms/step - loss: 2.1293 - pi_loss: 2.0226 - v_loss: 0.1067\n",
            "Epoch 9/10\n",
            "2071/2071 [==============================] - 546s 263ms/step - loss: 2.0663 - pi_loss: 1.9613 - v_loss: 0.1050\n",
            "Epoch 10/10\n",
            "2071/2071 [==============================] - 550s 266ms/step - loss: 2.0076 - pi_loss: 1.9047 - v_loss: 0.1029\n"
          ]
        },
        {
          "name": "stderr",
          "output_type": "stream",
          "text": [
            "2023-12-31 19:50:14 dcb4d3d810e7 Coach[910] INFO PITTING AGAINST PREVIOUS VERSION\n",
            "Arena.playGames (1): 100%|██████████| 10/10 [06:36<00:00, 39.69s/it]\n",
            "Arena.playGames (2): 100%|██████████| 10/10 [00:02<00:00,  4.14it/s]\n",
            "2023-12-31 19:56:53 dcb4d3d810e7 Coach[910] INFO NEW/PREV WINS : 9 / 11 ; DRAWS : 0\n",
            "2023-12-31 19:56:53 dcb4d3d810e7 Coach[910] INFO REJECTING NEW MODEL\n",
            "2023-12-31 19:56:55 dcb4d3d810e7 Coach[910] INFO Starting Iter #4 ...\n",
            "Self Play: 100%|██████████| 25/25 [46:28<00:00, 111.54s/it]\n"
          ]
        },
        {
          "name": "stdout",
          "output_type": "stream",
          "text": [
            "Checkpoint Directory exists! \n",
            "Epoch 1/10\n",
            "2233/2233 [==============================] - 580s 259ms/step - loss: 2.9809 - pi_loss: 2.7156 - v_loss: 0.2653\n",
            "Epoch 2/10\n",
            "2233/2233 [==============================] - 561s 251ms/step - loss: 2.7700 - pi_loss: 2.5987 - v_loss: 0.1712\n",
            "Epoch 3/10\n",
            "2233/2233 [==============================] - 521s 233ms/step - loss: 2.6435 - pi_loss: 2.4918 - v_loss: 0.1517\n",
            "Epoch 4/10\n",
            "2233/2233 [==============================] - 532s 238ms/step - loss: 2.5334 - pi_loss: 2.3950 - v_loss: 0.1384\n",
            "Epoch 5/10\n",
            "2233/2233 [==============================] - 554s 248ms/step - loss: 2.4288 - pi_loss: 2.2983 - v_loss: 0.1305\n",
            "Epoch 6/10\n",
            "2233/2233 [==============================] - 571s 256ms/step - loss: 2.3383 - pi_loss: 2.2130 - v_loss: 0.1253\n",
            "Epoch 7/10\n",
            "2233/2233 [==============================] - 574s 257ms/step - loss: 2.2510 - pi_loss: 2.1294 - v_loss: 0.1215\n",
            "Epoch 8/10\n",
            "2233/2233 [==============================] - 589s 264ms/step - loss: 2.1830 - pi_loss: 2.0659 - v_loss: 0.1170\n",
            "Epoch 9/10\n",
            "2233/2233 [==============================] - 595s 266ms/step - loss: 2.1105 - pi_loss: 1.9974 - v_loss: 0.1132\n",
            "Epoch 10/10\n",
            " 487/2233 [=====>........................] - ETA: 7:54 - loss: 1.9407 - pi_loss: 1.8326 - v_loss: 0.1081"
          ]
        }
      ],
      "source": [
        "args = dotdict({\n",
        "    'numIters': 20,\n",
        "    'numEps': 25,              # Number of complete self-play games to simulate during a new iteration.\n",
        "    'tempThreshold': 15,        #\n",
        "    'updateThreshold': 0.6,     # During arena playoff, new neural net will be accepted if threshold or more of games are won.\n",
        "    'maxlenOfQueue': 100000,    # Number of game examples to train the neural networks.\n",
        "    'numMCTSSims': 25,          # Number of games moves for MCTS to simulate.\n",
        "    'arenaCompare': 20,         # Number of games to play during arena play to determine if new net will be accepted.\n",
        "    'cpuct': 1,\n",
        "\n",
        "    'checkpoint': '/content/drive/MyDrive/go_trabalho2_liacd/models/go/7x7',\n",
        "    'load_model': True,\n",
        "    'load_folder_file': ('/content/drive/MyDrive/go_trabalho2_liacd/models/go/7x7', 'best.h5'),\n",
        "    'numItersForTrainExamplesHistory': 20,\n",
        "\n",
        "})\n",
        "\n",
        "\n",
        "\n",
        "log.info('Loading %s...', Game.__name__)\n",
        "g = Game(7)\n",
        "\n",
        "log.info('Loading %s...', nn.__name__)\n",
        "nnet = nn(g)\n",
        "\n",
        "if args.load_model:\n",
        "    log.info('Loading checkpoint \"%s/%s\"...', args.load_folder_file[0], args.load_folder_file[1])\n",
        "    nnet.load_model(args.load_folder_file[0], args.load_folder_file[1])\n",
        "else:\n",
        "    log.warning('Not loading a checkpoint!')\n",
        "\n",
        "log.info('Loading the Coach...')\n",
        "c = Coach(g, nnet, args)\n",
        "\n",
        "if args.load_model:\n",
        "    log.info(\"Loading 'trainExamples' from file...\")\n",
        "    c.loadTrainExamples()\n",
        "\n",
        "log.info('Starting the learning process 🎉')\n",
        "c.learn()\n",
        "\n"
      ]
    },
    {
      "cell_type": "markdown",
      "metadata": {
        "id": "2ZlqeBhhk76g"
      },
      "source": [
        "#Quinto Treino"
      ]
    },
    {
      "cell_type": "code",
      "execution_count": null,
      "metadata": {
        "colab": {
          "background_save": true,
          "base_uri": "https://localhost:8080/"
        },
        "id": "OSzbQvIwk98x",
        "outputId": "ebf839e0-c49a-4d2f-aa64-7dc335bbe9a0"
      },
      "outputs": [
        {
          "name": "stderr",
          "output_type": "stream",
          "text": [
            "2024-01-01 15:13:18 1908c89538f2 __main__[2445] INFO Loading GoGame...\n",
            "2024-01-01 15:13:18 1908c89538f2 __main__[2445] INFO Loading NNetWrapper...\n",
            "2024-01-01 15:13:19 1908c89538f2 __main__[2445] INFO Loading checkpoint \"/content/drive/MyDrive/go_trabalho2_liacd/models/go/7x7/best.h5\"...\n",
            "2024-01-01 15:13:20 1908c89538f2 __main__[2445] INFO Loading the Coach...\n",
            "2024-01-01 15:13:20 1908c89538f2 __main__[2445] INFO Loading 'trainExamples' from file...\n",
            "2024-01-01 15:13:20 1908c89538f2 Coach[2445] WARNING File \"/content/drive/MyDrive/go_trabalho2_liacd/models/go/7x7/best.h5.examples\" with trainExamples not found!\n",
            "2024-01-01 15:13:23 1908c89538f2 __main__[2445] INFO Starting the learning process 🎉\n",
            "2024-01-01 15:13:23 1908c89538f2 Coach[2445] INFO Starting Iter #1 ...\n",
            "Self Play:  84%|████████▍ | 21/25 [33:27<06:30, 97.50s/it]2024-01-01 15:48:30 1908c89538f2 MCTS[2445] WARNING Max depth reached!\n",
            "2024-01-01 15:48:44 1908c89538f2 MCTS[2445] WARNING Max depth reached!\n",
            "2024-01-01 15:49:03 1908c89538f2 MCTS[2445] WARNING Max depth reached!\n",
            "Self Play: 100%|██████████| 25/25 [41:54<00:00, 100.60s/it]\n"
          ]
        },
        {
          "name": "stdout",
          "output_type": "stream",
          "text": [
            "Checkpoint Directory exists! \n"
          ]
        },
        {
          "name": "stderr",
          "output_type": "stream",
          "text": [
            "/usr/local/lib/python3.10/dist-packages/keras/src/engine/training.py:3103: UserWarning: You are saving your model as an HDF5 file via `model.save()`. This file format is considered legacy. We recommend using instead the native Keras format, e.g. `model.save('my_model.keras')`.\n",
            "  saving_api.save_model(\n"
          ]
        },
        {
          "name": "stdout",
          "output_type": "stream",
          "text": [
            "Epoch 1/10\n",
            "172/172 [==============================] - 38s 213ms/step - loss: 3.9345 - pi_loss: 3.2805 - v_loss: 0.6540\n",
            "Epoch 2/10\n",
            "172/172 [==============================] - 37s 217ms/step - loss: 3.0140 - pi_loss: 2.8419 - v_loss: 0.1720\n",
            "Epoch 3/10\n",
            "172/172 [==============================] - 38s 218ms/step - loss: 2.6335 - pi_loss: 2.5082 - v_loss: 0.1253\n",
            "Epoch 4/10\n",
            "172/172 [==============================] - 38s 224ms/step - loss: 2.3419 - pi_loss: 2.2391 - v_loss: 0.1027\n",
            "Epoch 5/10\n",
            "172/172 [==============================] - 37s 217ms/step - loss: 2.0712 - pi_loss: 1.9790 - v_loss: 0.0922\n",
            "Epoch 6/10\n",
            "172/172 [==============================] - 37s 214ms/step - loss: 1.8558 - pi_loss: 1.7704 - v_loss: 0.0854\n",
            "Epoch 7/10\n",
            "172/172 [==============================] - 38s 221ms/step - loss: 1.6722 - pi_loss: 1.5878 - v_loss: 0.0844\n",
            "Epoch 8/10\n",
            "172/172 [==============================] - 41s 236ms/step - loss: 1.5324 - pi_loss: 1.4466 - v_loss: 0.0858\n",
            "Epoch 9/10\n",
            "172/172 [==============================] - 35s 203ms/step - loss: 1.4171 - pi_loss: 1.3395 - v_loss: 0.0776\n",
            "Epoch 10/10\n",
            "172/172 [==============================] - 37s 215ms/step - loss: 1.3367 - pi_loss: 1.2590 - v_loss: 0.0777\n"
          ]
        },
        {
          "name": "stderr",
          "output_type": "stream",
          "text": [
            "2024-01-01 16:01:48 1908c89538f2 Coach[2445] INFO PITTING AGAINST PREVIOUS VERSION\n",
            "Arena.playGames (1): 100%|██████████| 10/10 [04:33<00:00, 27.40s/it]\n",
            "Arena.playGames (2): 100%|██████████| 10/10 [00:01<00:00,  5.75it/s]\n",
            "2024-01-01 16:06:23 1908c89538f2 Coach[2445] INFO NEW/PREV WINS : 10 / 10 ; DRAWS : 0\n",
            "2024-01-01 16:06:23 1908c89538f2 Coach[2445] INFO REJECTING NEW MODEL\n",
            "2024-01-01 16:06:26 1908c89538f2 Coach[2445] INFO Starting Iter #2 ...\n",
            "Self Play:  32%|███▏      | 8/25 [12:08<25:00, 88.24s/it]2024-01-01 16:19:56 1908c89538f2 MCTS[2445] WARNING Max depth reached!\n",
            "2024-01-01 16:19:59 1908c89538f2 MCTS[2445] WARNING Max depth reached!\n",
            "Self Play:  88%|████████▊ | 22/25 [35:33<05:04, 101.41s/it]2024-01-01 16:43:52 1908c89538f2 MCTS[2445] WARNING Max depth reached!\n",
            "Self Play: 100%|██████████| 25/25 [41:06<00:00, 98.65s/it] \n"
          ]
        },
        {
          "name": "stdout",
          "output_type": "stream",
          "text": [
            "Checkpoint Directory exists! \n",
            "Epoch 1/10\n",
            "335/335 [==============================] - 80s 236ms/step - loss: 3.8441 - pi_loss: 3.2389 - v_loss: 0.6052\n",
            "Epoch 2/10\n",
            "335/335 [==============================] - 71s 213ms/step - loss: 3.0852 - pi_loss: 2.8884 - v_loss: 0.1968\n",
            "Epoch 3/10\n",
            "335/335 [==============================] - 76s 226ms/step - loss: 2.7643 - pi_loss: 2.6173 - v_loss: 0.1470\n",
            "Epoch 4/10\n",
            "335/335 [==============================] - 72s 214ms/step - loss: 2.4841 - pi_loss: 2.3623 - v_loss: 0.1218\n",
            "Epoch 5/10\n",
            "335/335 [==============================] - 71s 213ms/step - loss: 2.2462 - pi_loss: 2.1369 - v_loss: 0.1093\n",
            "Epoch 6/10\n",
            "335/335 [==============================] - 73s 218ms/step - loss: 2.0381 - pi_loss: 1.9339 - v_loss: 0.1042\n",
            "Epoch 7/10\n",
            "335/335 [==============================] - 74s 220ms/step - loss: 1.8495 - pi_loss: 1.7563 - v_loss: 0.0932\n",
            "Epoch 8/10\n",
            "335/335 [==============================] - 71s 213ms/step - loss: 1.7044 - pi_loss: 1.6141 - v_loss: 0.0903\n",
            "Epoch 9/10\n",
            "335/335 [==============================] - 79s 236ms/step - loss: 1.5704 - pi_loss: 1.4806 - v_loss: 0.0897\n",
            "Epoch 10/10\n",
            "335/335 [==============================] - 76s 228ms/step - loss: 1.4578 - pi_loss: 1.3747 - v_loss: 0.0830\n"
          ]
        },
        {
          "name": "stderr",
          "output_type": "stream",
          "text": [
            "2024-01-01 17:01:04 1908c89538f2 Coach[2445] INFO PITTING AGAINST PREVIOUS VERSION\n",
            "Arena.playGames (1): 100%|██████████| 10/10 [04:57<00:00, 29.74s/it]\n",
            "Arena.playGames (2): 100%|██████████| 10/10 [00:01<00:00,  5.66it/s]\n",
            "2024-01-01 17:06:03 1908c89538f2 Coach[2445] INFO NEW/PREV WINS : 10 / 10 ; DRAWS : 0\n",
            "2024-01-01 17:06:03 1908c89538f2 Coach[2445] INFO REJECTING NEW MODEL\n",
            "2024-01-01 17:06:05 1908c89538f2 Coach[2445] INFO Starting Iter #3 ...\n",
            "Self Play:  40%|████      | 10/25 [17:25<26:18, 105.23s/it]2024-01-01 17:25:49 1908c89538f2 MCTS[2445] WARNING Max depth reached!\n",
            "2024-01-01 17:25:54 1908c89538f2 MCTS[2445] WARNING Max depth reached!\n",
            "Self Play: 100%|██████████| 25/25 [42:11<00:00, 101.28s/it]\n"
          ]
        },
        {
          "name": "stdout",
          "output_type": "stream",
          "text": [
            "Checkpoint Directory exists! \n",
            "Epoch 1/10\n",
            "498/498 [==============================] - 110s 218ms/step - loss: 3.8424 - pi_loss: 3.2164 - v_loss: 0.6260\n",
            "Epoch 2/10\n",
            "498/498 [==============================] - 105s 211ms/step - loss: 3.1209 - pi_loss: 2.8866 - v_loss: 0.2342\n",
            "Epoch 3/10\n",
            "498/498 [==============================] - 105s 210ms/step - loss: 2.8034 - pi_loss: 2.6403 - v_loss: 0.1630\n",
            "Epoch 4/10\n",
            "498/498 [==============================] - 107s 215ms/step - loss: 2.5505 - pi_loss: 2.4102 - v_loss: 0.1403\n",
            "Epoch 5/10\n",
            "498/498 [==============================] - 106s 212ms/step - loss: 2.3194 - pi_loss: 2.1920 - v_loss: 0.1274\n",
            "Epoch 6/10\n",
            "498/498 [==============================] - 105s 211ms/step - loss: 2.1042 - pi_loss: 1.9893 - v_loss: 0.1149\n",
            "Epoch 7/10\n",
            "498/498 [==============================] - 104s 210ms/step - loss: 1.9410 - pi_loss: 1.8271 - v_loss: 0.1139\n",
            "Epoch 8/10\n",
            "498/498 [==============================] - 108s 217ms/step - loss: 1.7757 - pi_loss: 1.6699 - v_loss: 0.1057\n",
            "Epoch 9/10\n",
            "498/498 [==============================] - 106s 214ms/step - loss: 1.6436 - pi_loss: 1.5451 - v_loss: 0.0985\n",
            "Epoch 10/10\n",
            "498/498 [==============================] - 109s 220ms/step - loss: 1.5423 - pi_loss: 1.4460 - v_loss: 0.0963\n"
          ]
        },
        {
          "name": "stderr",
          "output_type": "stream",
          "text": [
            "2024-01-01 18:06:54 1908c89538f2 Coach[2445] INFO PITTING AGAINST PREVIOUS VERSION\n",
            "Arena.playGames (1): 100%|██████████| 10/10 [05:17<00:00, 31.78s/it]\n",
            "Arena.playGames (2): 100%|██████████| 10/10 [00:01<00:00,  5.65it/s]\n",
            "2024-01-01 18:12:13 1908c89538f2 Coach[2445] INFO NEW/PREV WINS : 10 / 10 ; DRAWS : 0\n",
            "2024-01-01 18:12:13 1908c89538f2 Coach[2445] INFO REJECTING NEW MODEL\n",
            "2024-01-01 18:12:16 1908c89538f2 Coach[2445] INFO Starting Iter #4 ...\n",
            "Self Play:   8%|▊         | 2/25 [04:03<45:27, 118.59s/it]2024-01-01 18:18:18 1908c89538f2 MCTS[2445] WARNING Max depth reached!\n",
            "Self Play:  12%|█▏        | 3/25 [06:07<44:23, 121.06s/it]2024-01-01 18:19:59 1908c89538f2 MCTS[2445] WARNING Max depth reached!\n",
            "Self Play: 100%|██████████| 25/25 [42:23<00:00, 101.76s/it]\n"
          ]
        },
        {
          "name": "stdout",
          "output_type": "stream",
          "text": [
            "Checkpoint Directory exists! \n",
            "Epoch 1/10\n",
            "667/667 [==============================] - 145s 214ms/step - loss: 3.8628 - pi_loss: 3.2071 - v_loss: 0.6557\n",
            "Epoch 2/10\n",
            "667/667 [==============================] - 146s 219ms/step - loss: 3.1636 - pi_loss: 2.9009 - v_loss: 0.2626\n",
            "Epoch 3/10\n",
            "667/667 [==============================] - 142s 213ms/step - loss: 2.8598 - pi_loss: 2.6801 - v_loss: 0.1797\n",
            "Epoch 4/10\n",
            "667/667 [==============================] - 139s 208ms/step - loss: 2.6149 - pi_loss: 2.4608 - v_loss: 0.1540\n",
            "Epoch 5/10\n",
            "667/667 [==============================] - 140s 209ms/step - loss: 2.3906 - pi_loss: 2.2557 - v_loss: 0.1349\n",
            "Epoch 6/10\n",
            "667/667 [==============================] - 144s 217ms/step - loss: 2.1957 - pi_loss: 2.0723 - v_loss: 0.1234\n",
            "Epoch 7/10\n",
            "667/667 [==============================] - 150s 225ms/step - loss: 2.0161 - pi_loss: 1.9007 - v_loss: 0.1154\n",
            "Epoch 8/10\n",
            "667/667 [==============================] - 145s 218ms/step - loss: 1.8681 - pi_loss: 1.7569 - v_loss: 0.1111\n",
            "Epoch 9/10\n",
            "667/667 [==============================] - 142s 213ms/step - loss: 1.7350 - pi_loss: 1.6282 - v_loss: 0.1068\n",
            "Epoch 10/10\n",
            "667/667 [==============================] - 147s 220ms/step - loss: 1.6200 - pi_loss: 1.5190 - v_loss: 0.1010\n"
          ]
        },
        {
          "name": "stderr",
          "output_type": "stream",
          "text": [
            "2024-01-01 19:19:16 1908c89538f2 Coach[2445] INFO PITTING AGAINST PREVIOUS VERSION\n",
            "Arena.playGames (1): 100%|██████████| 10/10 [04:27<00:00, 26.72s/it]\n",
            "Arena.playGames (2): 100%|██████████| 10/10 [00:01<00:00,  5.69it/s]\n",
            "2024-01-01 19:23:45 1908c89538f2 Coach[2445] INFO NEW/PREV WINS : 10 / 10 ; DRAWS : 0\n",
            "2024-01-01 19:23:45 1908c89538f2 Coach[2445] INFO REJECTING NEW MODEL\n",
            "2024-01-01 19:23:47 1908c89538f2 Coach[2445] INFO Starting Iter #5 ...\n",
            "Self Play:   4%|▍         | 1/25 [02:10<52:19, 130.83s/it]2024-01-01 19:27:39 1908c89538f2 MCTS[2445] WARNING Max depth reached!\n",
            "Self Play:  72%|███████▏  | 18/25 [31:57<11:08, 95.52s/it] 2024-01-01 19:58:01 1908c89538f2 MCTS[2445] WARNING Max depth reached!\n",
            "2024-01-01 19:58:03 1908c89538f2 MCTS[2445] WARNING Max depth reached!\n",
            "Self Play: 100%|██████████| 25/25 [43:25<00:00, 104.23s/it]\n"
          ]
        },
        {
          "name": "stdout",
          "output_type": "stream",
          "text": [
            "Checkpoint Directory exists! \n",
            "Epoch 1/10\n",
            "890/890 [==============================] - 176s 196ms/step - loss: 3.6337 - pi_loss: 3.0046 - v_loss: 0.6291\n",
            "Epoch 2/10\n",
            "890/890 [==============================] - 173s 194ms/step - loss: 2.9923 - pi_loss: 2.7396 - v_loss: 0.2527\n",
            "Epoch 3/10\n",
            "890/890 [==============================] - 172s 194ms/step - loss: 2.7097 - pi_loss: 2.5331 - v_loss: 0.1766\n",
            "Epoch 4/10\n",
            "890/890 [==============================] - 175s 196ms/step - loss: 2.4972 - pi_loss: 2.3475 - v_loss: 0.1497\n",
            "Epoch 5/10\n",
            "890/890 [==============================] - 172s 193ms/step - loss: 2.2937 - pi_loss: 2.1608 - v_loss: 0.1329\n",
            "Epoch 6/10\n",
            "890/890 [==============================] - 171s 193ms/step - loss: 2.1173 - pi_loss: 1.9959 - v_loss: 0.1214\n",
            "Epoch 7/10\n",
            "890/890 [==============================] - 173s 195ms/step - loss: 1.9525 - pi_loss: 1.8383 - v_loss: 0.1142\n",
            "Epoch 8/10\n",
            "890/890 [==============================] - 172s 193ms/step - loss: 1.8080 - pi_loss: 1.7002 - v_loss: 0.1077\n",
            "Epoch 9/10\n",
            "890/890 [==============================] - 172s 193ms/step - loss: 1.6890 - pi_loss: 1.5843 - v_loss: 0.1047\n",
            "Epoch 10/10\n",
            "890/890 [==============================] - 174s 196ms/step - loss: 1.5844 - pi_loss: 1.4819 - v_loss: 0.1025\n"
          ]
        },
        {
          "name": "stderr",
          "output_type": "stream",
          "text": [
            "2024-01-01 20:36:50 1908c89538f2 Coach[2445] INFO PITTING AGAINST PREVIOUS VERSION\n",
            "Arena.playGames (1): 100%|██████████| 10/10 [05:31<00:00, 33.14s/it]\n",
            "Arena.playGames (2): 100%|██████████| 10/10 [00:01<00:00,  5.80it/s]\n",
            "2024-01-01 20:42:23 1908c89538f2 Coach[2445] INFO NEW/PREV WINS : 10 / 10 ; DRAWS : 0\n",
            "2024-01-01 20:42:23 1908c89538f2 Coach[2445] INFO REJECTING NEW MODEL\n",
            "2024-01-01 20:42:25 1908c89538f2 Coach[2445] INFO Starting Iter #6 ...\n",
            "Self Play:   0%|          | 0/25 [00:00<?, ?it/s]2024-01-01 20:44:00 1908c89538f2 MCTS[2445] WARNING Max depth reached!\n",
            "Self Play:  48%|████▊     | 12/25 [20:41<21:26, 98.97s/it]2024-01-01 21:04:18 1908c89538f2 MCTS[2445] WARNING Max depth reached!\n",
            "Self Play:  96%|█████████▌| 24/25 [40:52<01:35, 95.55s/it] 2024-01-01 21:24:27 1908c89538f2 MCTS[2445] WARNING Max depth reached!\n",
            "2024-01-01 21:25:53 1908c89538f2 MCTS[2445] WARNING Max depth reached!\n",
            "2024-01-01 21:26:03 1908c89538f2 MCTS[2445] WARNING Max depth reached!\n",
            "Self Play: 100%|██████████| 25/25 [43:43<00:00, 104.94s/it]\n"
          ]
        },
        {
          "name": "stdout",
          "output_type": "stream",
          "text": [
            "Checkpoint Directory exists! \n",
            "Epoch 1/10\n",
            "1066/1066 [==============================] - 219s 204ms/step - loss: 3.6511 - pi_loss: 3.0134 - v_loss: 0.6377\n",
            "Epoch 2/10\n",
            "1066/1066 [==============================] - 213s 200ms/step - loss: 3.0307 - pi_loss: 2.7631 - v_loss: 0.2677\n",
            "Epoch 3/10\n",
            "1066/1066 [==============================] - 217s 204ms/step - loss: 2.7528 - pi_loss: 2.5638 - v_loss: 0.1889\n",
            "Epoch 4/10\n",
            "1066/1066 [==============================] - 221s 207ms/step - loss: 2.5459 - pi_loss: 2.3886 - v_loss: 0.1574\n",
            "Epoch 5/10\n",
            "1066/1066 [==============================] - 207s 194ms/step - loss: 2.3496 - pi_loss: 2.2074 - v_loss: 0.1423\n",
            "Epoch 6/10\n",
            "1066/1066 [==============================] - 216s 202ms/step - loss: 2.1727 - pi_loss: 2.0441 - v_loss: 0.1286\n",
            "Epoch 7/10\n",
            "1066/1066 [==============================] - 208s 195ms/step - loss: 2.0047 - pi_loss: 1.8828 - v_loss: 0.1219\n",
            "Epoch 8/10\n",
            "1066/1066 [==============================] - 210s 197ms/step - loss: 1.8677 - pi_loss: 1.7514 - v_loss: 0.1163\n",
            "Epoch 9/10\n",
            "1066/1066 [==============================] - 214s 201ms/step - loss: 1.7471 - pi_loss: 1.6354 - v_loss: 0.1118\n",
            "Epoch 10/10\n",
            "1066/1066 [==============================] - 218s 204ms/step - loss: 1.6416 - pi_loss: 1.5353 - v_loss: 0.1063\n"
          ]
        },
        {
          "name": "stderr",
          "output_type": "stream",
          "text": [
            "2024-01-01 22:02:08 1908c89538f2 Coach[2445] INFO PITTING AGAINST PREVIOUS VERSION\n",
            "Arena.playGames (1): 100%|██████████| 10/10 [06:12<00:00, 37.30s/it]\n",
            "Arena.playGames (2): 100%|██████████| 10/10 [00:01<00:00,  5.68it/s]\n",
            "2024-01-01 22:08:22 1908c89538f2 Coach[2445] INFO NEW/PREV WINS : 10 / 10 ; DRAWS : 0\n",
            "2024-01-01 22:08:22 1908c89538f2 Coach[2445] INFO REJECTING NEW MODEL\n",
            "2024-01-01 22:08:25 1908c89538f2 Coach[2445] INFO Starting Iter #7 ...\n",
            "Self Play: 100%|██████████| 25/25 [41:34<00:00, 99.78s/it]\n"
          ]
        },
        {
          "name": "stdout",
          "output_type": "stream",
          "text": [
            "Checkpoint Directory exists! \n",
            "Epoch 1/10\n",
            "1234/1234 [==============================] - 242s 195ms/step - loss: 3.6697 - pi_loss: 3.0330 - v_loss: 0.6368\n",
            "Epoch 2/10\n",
            "1234/1234 [==============================] - 242s 196ms/step - loss: 3.0690 - pi_loss: 2.7891 - v_loss: 0.2799\n",
            "Epoch 3/10\n",
            "1234/1234 [==============================] - 236s 191ms/step - loss: 2.7975 - pi_loss: 2.6007 - v_loss: 0.1968\n",
            "Epoch 4/10\n",
            "1234/1234 [==============================] - 238s 193ms/step - loss: 2.5913 - pi_loss: 2.4267 - v_loss: 0.1646\n",
            "Epoch 5/10\n",
            "1234/1234 [==============================] - 234s 190ms/step - loss: 2.3993 - pi_loss: 2.2531 - v_loss: 0.1462\n",
            "Epoch 6/10\n",
            "1234/1234 [==============================] - 237s 192ms/step - loss: 2.2242 - pi_loss: 2.0900 - v_loss: 0.1342\n",
            "Epoch 7/10\n",
            "1234/1234 [==============================] - 234s 190ms/step - loss: 2.0683 - pi_loss: 1.9418 - v_loss: 0.1265\n",
            "Epoch 8/10\n",
            "1234/1234 [==============================] - 237s 192ms/step - loss: 1.9225 - pi_loss: 1.8029 - v_loss: 0.1197\n",
            "Epoch 9/10\n",
            "1234/1234 [==============================] - 234s 190ms/step - loss: 1.8080 - pi_loss: 1.6919 - v_loss: 0.1161\n",
            "Epoch 10/10\n",
            "1234/1234 [==============================] - 236s 192ms/step - loss: 1.7024 - pi_loss: 1.5914 - v_loss: 0.1110\n"
          ]
        },
        {
          "name": "stderr",
          "output_type": "stream",
          "text": [
            "2024-01-01 23:30:42 1908c89538f2 Coach[2445] INFO PITTING AGAINST PREVIOUS VERSION\n",
            "Arena.playGames (1): 100%|██████████| 10/10 [04:50<00:00, 29.00s/it]\n",
            "Arena.playGames (2): 100%|██████████| 10/10 [00:01<00:00,  5.87it/s]\n",
            "2024-01-01 23:35:34 1908c89538f2 Coach[2445] INFO NEW/PREV WINS : 10 / 10 ; DRAWS : 0\n",
            "2024-01-01 23:35:34 1908c89538f2 Coach[2445] INFO REJECTING NEW MODEL\n",
            "2024-01-01 23:35:36 1908c89538f2 Coach[2445] INFO Starting Iter #8 ...\n",
            "Self Play:   0%|          | 0/25 [00:00<?, ?it/s]2024-01-01 23:36:38 1908c89538f2 MCTS[2445] WARNING Max depth reached!\n",
            "2024-01-01 23:36:41 1908c89538f2 MCTS[2445] WARNING Max depth reached!\n",
            "Self Play:  12%|█▏        | 3/25 [05:36<41:52, 114.22s/it]2024-01-01 23:43:14 1908c89538f2 MCTS[2445] WARNING Max depth reached!\n",
            "2024-01-01 23:43:38 1908c89538f2 MCTS[2445] WARNING Max depth reached!\n",
            "2024-01-01 23:43:46 1908c89538f2 MCTS[2445] WARNING Max depth reached!\n",
            "Self Play:  52%|█████▏    | 13/25 [23:34<20:28, 102.41s/it]2024-01-02 00:00:46 1908c89538f2 MCTS[2445] WARNING Max depth reached!\n",
            "Self Play:  84%|████████▍ | 21/25 [37:52<07:20, 110.16s/it]2024-01-02 00:15:18 1908c89538f2 MCTS[2445] WARNING Max depth reached!\n",
            "2024-01-02 00:15:19 1908c89538f2 MCTS[2445] WARNING Max depth reached!\n",
            "2024-01-02 00:15:22 1908c89538f2 MCTS[2445] WARNING Max depth reached!\n",
            "2024-01-02 00:15:24 1908c89538f2 MCTS[2445] WARNING Max depth reached!\n",
            "Self Play: 100%|██████████| 25/25 [45:02<00:00, 108.10s/it]\n"
          ]
        },
        {
          "name": "stdout",
          "output_type": "stream",
          "text": [
            "Checkpoint Directory exists! \n",
            "Epoch 1/10\n",
            "1416/1416 [==============================] - 274s 192ms/step - loss: 3.6790 - pi_loss: 3.0347 - v_loss: 0.6444\n",
            "Epoch 2/10\n",
            "1416/1416 [==============================] - 269s 190ms/step - loss: 3.0867 - pi_loss: 2.7960 - v_loss: 0.2907\n",
            "Epoch 3/10\n",
            "1416/1416 [==============================] - 272s 192ms/step - loss: 2.8215 - pi_loss: 2.6160 - v_loss: 0.2055\n",
            "Epoch 4/10\n",
            "1416/1416 [==============================] - 271s 192ms/step - loss: 2.6121 - pi_loss: 2.4435 - v_loss: 0.1686\n",
            "Epoch 5/10\n",
            "1416/1416 [==============================] - 269s 190ms/step - loss: 2.4285 - pi_loss: 2.2768 - v_loss: 0.1518\n",
            "Epoch 6/10\n",
            "1416/1416 [==============================] - 270s 190ms/step - loss: 2.2510 - pi_loss: 2.1134 - v_loss: 0.1376\n",
            "Epoch 7/10\n",
            "1416/1416 [==============================] - 271s 192ms/step - loss: 2.1025 - pi_loss: 1.9713 - v_loss: 0.1312\n",
            "Epoch 8/10\n",
            "1416/1416 [==============================] - 269s 190ms/step - loss: 1.9686 - pi_loss: 1.8455 - v_loss: 0.1231\n",
            "Epoch 9/10\n",
            "1416/1416 [==============================] - 271s 191ms/step - loss: 1.8515 - pi_loss: 1.7337 - v_loss: 0.1178\n",
            "Epoch 10/10\n",
            "1416/1416 [==============================] - 269s 190ms/step - loss: 1.7529 - pi_loss: 1.6371 - v_loss: 0.1158\n"
          ]
        },
        {
          "name": "stderr",
          "output_type": "stream",
          "text": [
            "2024-01-02 01:06:25 1908c89538f2 Coach[2445] INFO PITTING AGAINST PREVIOUS VERSION\n",
            "Arena.playGames (1): 100%|██████████| 10/10 [05:29<00:00, 32.91s/it]\n",
            "Arena.playGames (2): 100%|██████████| 10/10 [00:01<00:00,  5.81it/s]\n",
            "2024-01-02 01:11:56 1908c89538f2 Coach[2445] INFO NEW/PREV WINS : 10 / 10 ; DRAWS : 0\n",
            "2024-01-02 01:11:56 1908c89538f2 Coach[2445] INFO REJECTING NEW MODEL\n",
            "2024-01-02 01:11:58 1908c89538f2 Coach[2445] INFO Starting Iter #9 ...\n",
            "Self Play:  28%|██▊       | 7/25 [12:32<30:15, 100.86s/it]2024-01-02 01:26:04 1908c89538f2 MCTS[2445] WARNING Max depth reached!\n",
            "Self Play:  56%|█████▌    | 14/25 [23:54<18:32, 101.09s/it]2024-01-02 01:38:01 1908c89538f2 MCTS[2445] WARNING Max depth reached!\n",
            "Self Play:  72%|███████▏  | 18/25 [30:48<10:58, 94.06s/it] "
          ]
        }
      ],
      "source": [
        "args = dotdict({\n",
        "    'numIters': 20,\n",
        "    'numEps': 25,              # Number of complete self-play games to simulate during a new iteration.\n",
        "    'tempThreshold': 15,        #\n",
        "    'updateThreshold': 0.6,     # During arena playoff, new neural net will be accepted if threshold or more of games are won.\n",
        "    'maxlenOfQueue': 100000,    # Number of game examples to train the neural networks.\n",
        "    'numMCTSSims': 25,          # Number of games moves for MCTS to simulate.\n",
        "    'arenaCompare': 20,         # Number of games to play during arena play to determine if new net will be accepted.\n",
        "    'cpuct': 1,\n",
        "\n",
        "    'checkpoint': '/content/drive/MyDrive/go_trabalho2_liacd/models/go/7x7',\n",
        "    'load_model': True,\n",
        "    'load_folder_file': ('/content/drive/MyDrive/go_trabalho2_liacd/models/go/7x7', 'best.h5'),\n",
        "    'numItersForTrainExamplesHistory': 20,\n",
        "\n",
        "})\n",
        "\n",
        "\n",
        "\n",
        "log.info('Loading %s...', Game.__name__)\n",
        "g = Game(7)\n",
        "\n",
        "log.info('Loading %s...', nn.__name__)\n",
        "nnet = nn(g)\n",
        "\n",
        "if args.load_model:\n",
        "    log.info('Loading checkpoint \"%s/%s\"...', args.load_folder_file[0], args.load_folder_file[1])\n",
        "    nnet.load_model(args.load_folder_file[0], args.load_folder_file[1])\n",
        "else:\n",
        "    log.warning('Not loading a checkpoint!')\n",
        "\n",
        "log.info('Loading the Coach...')\n",
        "c = Coach(g, nnet, args)\n",
        "\n",
        "if args.load_model:\n",
        "    log.info(\"Loading 'trainExamples' from file...\")\n",
        "    c.loadTrainExamples()\n",
        "\n",
        "log.info('Starting the learning process 🎉')\n",
        "c.learn()\n",
        "\n"
      ]
    },
    {
      "cell_type": "markdown",
      "metadata": {
        "id": "NxMZJ3_j-l9S"
      },
      "source": [
        "#Sexto Treino"
      ]
    },
    {
      "cell_type": "code",
      "execution_count": null,
      "metadata": {
        "colab": {
          "background_save": true,
          "base_uri": "https://localhost:8080/"
        },
        "id": "Pdc5dsOX-nHa",
        "outputId": "6173887a-72a6-4365-f345-e588748f1562"
      },
      "outputs": [
        {
          "name": "stderr",
          "output_type": "stream",
          "text": [
            "2024-01-02 11:41:27 ed9ad58e777c __main__[867] INFO Loading GoGame...\n",
            "2024-01-02 11:41:27 ed9ad58e777c __main__[867] INFO Loading NNetWrapper...\n",
            "2024-01-02 11:41:28 ed9ad58e777c __main__[867] INFO Loading checkpoint \"/content/drive/MyDrive/go_trabalho2_liacd/models/go/7x7/best.h5\"...\n",
            "2024-01-02 11:41:31 ed9ad58e777c __main__[867] INFO Loading the Coach...\n",
            "2024-01-02 11:41:31 ed9ad58e777c __main__[867] INFO Loading 'trainExamples' from file...\n",
            "2024-01-02 11:41:31 ed9ad58e777c Coach[867] INFO File with trainExamples found. Loading it...\n",
            "2024-01-02 11:41:38 ed9ad58e777c Coach[867] INFO Loading done!\n",
            "2024-01-02 11:41:38 ed9ad58e777c __main__[867] INFO Starting the learning process 🎉\n",
            "2024-01-02 11:41:38 ed9ad58e777c Coach[867] INFO Starting Iter #1 ...\n"
          ]
        },
        {
          "name": "stdout",
          "output_type": "stream",
          "text": [
            "Checkpoint Directory exists! \n"
          ]
        },
        {
          "name": "stderr",
          "output_type": "stream",
          "text": [
            "/usr/local/lib/python3.10/dist-packages/keras/src/engine/training.py:3103: UserWarning: You are saving your model as an HDF5 file via `model.save()`. This file format is considered legacy. We recommend using instead the native Keras format, e.g. `model.save('my_model.keras')`.\n",
            "  saving_api.save_model(\n"
          ]
        },
        {
          "name": "stdout",
          "output_type": "stream",
          "text": [
            "Epoch 1/10\n",
            "1593/1593 [==============================] - 442s 276ms/step - loss: 3.6942 - pi_loss: 3.0403 - v_loss: 0.6539\n",
            "Epoch 2/10\n",
            "1593/1593 [==============================] - 442s 277ms/step - loss: 3.1237 - pi_loss: 2.8182 - v_loss: 0.3055\n",
            "Epoch 3/10\n",
            "1593/1593 [==============================] - 435s 273ms/step - loss: 2.8560 - pi_loss: 2.6374 - v_loss: 0.2186\n",
            "Epoch 4/10\n",
            "1593/1593 [==============================] - 438s 275ms/step - loss: 2.6528 - pi_loss: 2.4712 - v_loss: 0.1816\n",
            "Epoch 5/10\n",
            "1593/1593 [==============================] - 432s 271ms/step - loss: 2.4682 - pi_loss: 2.3091 - v_loss: 0.1591\n",
            "Epoch 6/10\n",
            "1593/1593 [==============================] - 430s 270ms/step - loss: 2.3039 - pi_loss: 2.1588 - v_loss: 0.1450\n",
            "Epoch 7/10\n",
            "1593/1593 [==============================] - 435s 273ms/step - loss: 2.1549 - pi_loss: 2.0187 - v_loss: 0.1362\n",
            "Epoch 8/10\n",
            "1593/1593 [==============================] - 439s 276ms/step - loss: 2.0259 - pi_loss: 1.8940 - v_loss: 0.1319\n",
            "Epoch 9/10\n",
            "1593/1593 [==============================] - 438s 275ms/step - loss: 1.8957 - pi_loss: 1.7717 - v_loss: 0.1241\n",
            "Epoch 10/10\n",
            "1593/1593 [==============================] - 438s 275ms/step - loss: 1.7932 - pi_loss: 1.6734 - v_loss: 0.1198\n"
          ]
        },
        {
          "name": "stderr",
          "output_type": "stream",
          "text": [
            "2024-01-02 12:55:28 ed9ad58e777c Coach[867] INFO PITTING AGAINST PREVIOUS VERSION\n",
            "Arena.playGames (1): 100%|██████████| 10/10 [13:04<00:00, 78.45s/it]\n",
            "Arena.playGames (2): 100%|██████████| 10/10 [00:01<00:00,  5.62it/s]\n",
            "2024-01-02 13:08:34 ed9ad58e777c Coach[867] INFO NEW/PREV WINS : 9 / 11 ; DRAWS : 0\n",
            "2024-01-02 13:08:34 ed9ad58e777c Coach[867] INFO REJECTING NEW MODEL\n",
            "2024-01-02 13:08:36 ed9ad58e777c Coach[867] INFO Starting Iter #2 ...\n",
            "Self Play:   4%|▍         | 1/25 [01:52<44:48, 112.01s/it]2024-01-02 13:12:58 ed9ad58e777c MCTS[867] WARNING Max depth reached!\n",
            "Self Play:  48%|████▊     | 12/25 [27:21<30:34, 141.11s/it]2024-01-02 13:38:12 ed9ad58e777c MCTS[867] WARNING Max depth reached!\n",
            "Self Play:  68%|██████▊   | 17/25 [38:55<18:48, 141.02s/it]2024-01-02 13:49:39 ed9ad58e777c MCTS[867] WARNING Max depth reached!\n",
            "Self Play:  96%|█████████▌| 24/25 [53:52<02:07, 127.87s/it]2024-01-02 14:04:13 ed9ad58e777c MCTS[867] WARNING Max depth reached!\n",
            "Self Play: 100%|██████████| 25/25 [56:29<00:00, 135.59s/it]\n"
          ]
        },
        {
          "name": "stdout",
          "output_type": "stream",
          "text": [
            "Checkpoint Directory exists! \n",
            "Epoch 1/10\n",
            "1774/1774 [==============================] - 457s 256ms/step - loss: 3.7085 - pi_loss: 3.0463 - v_loss: 0.6622\n",
            "Epoch 2/10\n",
            "1774/1774 [==============================] - 443s 250ms/step - loss: 3.1369 - pi_loss: 2.8228 - v_loss: 0.3141\n",
            "Epoch 3/10\n",
            "1774/1774 [==============================] - 444s 250ms/step - loss: 2.8744 - pi_loss: 2.6503 - v_loss: 0.2241\n",
            "Epoch 4/10\n",
            "1774/1774 [==============================] - 452s 255ms/step - loss: 2.6761 - pi_loss: 2.4910 - v_loss: 0.1851\n",
            "Epoch 5/10\n",
            "1774/1774 [==============================] - 447s 252ms/step - loss: 2.4987 - pi_loss: 2.3338 - v_loss: 0.1648\n",
            "Epoch 6/10\n",
            "1774/1774 [==============================] - 468s 264ms/step - loss: 2.3393 - pi_loss: 2.1894 - v_loss: 0.1500\n",
            "Epoch 7/10\n",
            "1774/1774 [==============================] - 449s 253ms/step - loss: 2.1925 - pi_loss: 2.0517 - v_loss: 0.1408\n",
            "Epoch 8/10\n",
            "1774/1774 [==============================] - 447s 252ms/step - loss: 2.0536 - pi_loss: 1.9226 - v_loss: 0.1310\n",
            "Epoch 9/10\n",
            "1774/1774 [==============================] - 443s 250ms/step - loss: 1.9375 - pi_loss: 1.8097 - v_loss: 0.1279\n",
            "Epoch 10/10\n",
            "1774/1774 [==============================] - 446s 252ms/step - loss: 1.8369 - pi_loss: 1.7132 - v_loss: 0.1237\n"
          ]
        },
        {
          "name": "stderr",
          "output_type": "stream",
          "text": [
            "2024-01-02 15:21:10 ed9ad58e777c Coach[867] INFO PITTING AGAINST PREVIOUS VERSION\n",
            "Arena.playGames (1):  30%|███       | 3/10 [06:40<15:46, 135.21s/it]2024-01-02 15:29:54 ed9ad58e777c MCTS[867] WARNING Max depth reached!\n",
            "Arena.playGames (1): 100%|██████████| 10/10 [11:03<00:00, 66.34s/it]\n",
            "Arena.playGames (2): 100%|██████████| 10/10 [00:01<00:00,  5.56it/s]\n",
            "2024-01-02 15:32:16 ed9ad58e777c Coach[867] INFO NEW/PREV WINS : 10 / 10 ; DRAWS : 0\n",
            "2024-01-02 15:32:16 ed9ad58e777c Coach[867] INFO REJECTING NEW MODEL\n",
            "2024-01-02 15:32:17 ed9ad58e777c Coach[867] INFO Starting Iter #3 ...\n",
            "Self Play:  24%|██▍       | 6/25 [13:05<42:24, 133.93s/it]2024-01-02 15:47:32 ed9ad58e777c MCTS[867] WARNING Max depth reached!\n",
            "Self Play:  40%|████      | 10/25 [21:52<32:36, 130.41s/it]2024-01-02 15:56:33 ed9ad58e777c MCTS[867] WARNING Max depth reached!\n",
            "Self Play:  52%|█████▏    | 13/25 [28:57<26:55, 134.59s/it]2024-01-02 16:02:51 ed9ad58e777c MCTS[867] WARNING Max depth reached!\n",
            "Self Play:  76%|███████▌  | 19/25 [41:03<11:48, 118.15s/it]2024-01-02 16:15:29 ed9ad58e777c MCTS[867] WARNING Max depth reached!\n",
            "Self Play: 100%|██████████| 25/25 [54:20<00:00, 130.44s/it]\n"
          ]
        },
        {
          "name": "stdout",
          "output_type": "stream",
          "text": [
            "Checkpoint Directory exists! \n",
            "Epoch 1/10\n",
            "1953/1953 [==============================] - 567s 289ms/step - loss: 3.7160 - pi_loss: 3.0438 - v_loss: 0.6722\n",
            "Epoch 2/10\n",
            "1953/1953 [==============================] - 559s 286ms/step - loss: 3.1479 - pi_loss: 2.8228 - v_loss: 0.3251\n",
            "Epoch 3/10\n",
            "1953/1953 [==============================] - 560s 287ms/step - loss: 2.8913 - pi_loss: 2.6563 - v_loss: 0.2350\n",
            "Epoch 4/10\n",
            "1953/1953 [==============================] - 559s 286ms/step - loss: 2.6923 - pi_loss: 2.4996 - v_loss: 0.1927\n",
            "Epoch 5/10\n",
            "1953/1953 [==============================] - 555s 284ms/step - loss: 2.5205 - pi_loss: 2.3507 - v_loss: 0.1699\n",
            "Epoch 6/10\n",
            "1953/1953 [==============================] - 546s 280ms/step - loss: 2.3624 - pi_loss: 2.2061 - v_loss: 0.1563\n",
            "Epoch 7/10\n",
            "1953/1953 [==============================] - 510s 261ms/step - loss: 2.2171 - pi_loss: 2.0711 - v_loss: 0.1460\n",
            "Epoch 8/10\n",
            "1953/1953 [==============================] - 500s 256ms/step - loss: 2.0866 - pi_loss: 1.9477 - v_loss: 0.1389\n",
            "Epoch 9/10\n",
            "1953/1953 [==============================] - 511s 262ms/step - loss: 1.9721 - pi_loss: 1.8409 - v_loss: 0.1312\n",
            "Epoch 10/10\n",
            "1953/1953 [==============================] - 502s 257ms/step - loss: 1.8597 - pi_loss: 1.7342 - v_loss: 0.1255\n"
          ]
        },
        {
          "name": "stderr",
          "output_type": "stream",
          "text": [
            "2024-01-02 17:57:39 ed9ad58e777c Coach[867] INFO PITTING AGAINST PREVIOUS VERSION\n",
            "Arena.playGames (1): 100%|██████████| 10/10 [04:54<00:00, 29.41s/it]\n",
            "Arena.playGames (2): 100%|██████████| 10/10 [00:01<00:00,  5.22it/s]\n",
            "2024-01-02 18:02:35 ed9ad58e777c Coach[867] INFO NEW/PREV WINS : 9 / 11 ; DRAWS : 0\n",
            "2024-01-02 18:02:35 ed9ad58e777c Coach[867] INFO REJECTING NEW MODEL\n",
            "2024-01-02 18:02:37 ed9ad58e777c Coach[867] INFO Starting Iter #4 ...\n",
            "Self Play:   4%|▍         | 1/25 [01:58<47:14, 118.12s/it]2024-01-02 18:07:14 ed9ad58e777c MCTS[867] WARNING Max depth reached!\n",
            "Self Play:  32%|███▏      | 8/25 [17:38<36:50, 130.03s/it]2024-01-02 18:22:12 ed9ad58e777c MCTS[867] WARNING Max depth reached!\n",
            "Self Play:  64%|██████▍   | 16/25 [35:02<18:53, 125.93s/it]2024-01-02 18:39:38 ed9ad58e777c MCTS[867] WARNING Max depth reached!\n",
            "Self Play:  88%|████████▊ | 22/25 [47:07<05:55, 118.34s/it]2024-01-02 18:51:50 ed9ad58e777c MCTS[867] WARNING Max depth reached!\n",
            "Self Play: 100%|██████████| 25/25 [53:56<00:00, 129.47s/it]\n"
          ]
        },
        {
          "name": "stdout",
          "output_type": "stream",
          "text": [
            "Checkpoint Directory exists! \n",
            "Epoch 1/10\n",
            "2121/2121 [==============================] - 565s 265ms/step - loss: 3.7256 - pi_loss: 3.0470 - v_loss: 0.6786\n",
            "Epoch 2/10\n",
            "2121/2121 [==============================] - 565s 266ms/step - loss: 3.1716 - pi_loss: 2.8342 - v_loss: 0.3373\n",
            "Epoch 3/10\n",
            "2121/2121 [==============================] - 575s 271ms/step - loss: 2.9157 - pi_loss: 2.6737 - v_loss: 0.2420\n",
            "Epoch 4/10\n",
            "2121/2121 [==============================] - 582s 275ms/step - loss: 2.7174 - pi_loss: 2.5204 - v_loss: 0.1970\n",
            "Epoch 5/10\n",
            "2121/2121 [==============================] - 560s 264ms/step - loss: 2.5525 - pi_loss: 2.3763 - v_loss: 0.1762\n",
            "Epoch 6/10\n",
            "2121/2121 [==============================] - 587s 277ms/step - loss: 2.3948 - pi_loss: 2.2356 - v_loss: 0.1592\n",
            "Epoch 7/10\n",
            "2121/2121 [==============================] - 579s 273ms/step - loss: 2.2544 - pi_loss: 2.1063 - v_loss: 0.1481\n",
            "Epoch 8/10\n",
            "2121/2121 [==============================] - 573s 270ms/step - loss: 2.1219 - pi_loss: 1.9822 - v_loss: 0.1397\n",
            "Epoch 9/10\n",
            "2121/2121 [==============================] - 559s 264ms/step - loss: 2.0139 - pi_loss: 1.8777 - v_loss: 0.1361\n",
            "Epoch 10/10\n",
            "2121/2121 [==============================] - 566s 267ms/step - loss: 1.9054 - pi_loss: 1.7723 - v_loss: 0.1332\n"
          ]
        },
        {
          "name": "stderr",
          "output_type": "stream",
          "text": [
            "2024-01-02 20:32:39 ed9ad58e777c Coach[867] INFO PITTING AGAINST PREVIOUS VERSION\n",
            "Arena.playGames (1): 100%|██████████| 10/10 [05:48<00:00, 34.90s/it]\n",
            "Arena.playGames (2): 100%|██████████| 10/10 [00:01<00:00,  5.34it/s]\n",
            "2024-01-02 20:38:30 ed9ad58e777c Coach[867] INFO NEW/PREV WINS : 10 / 10 ; DRAWS : 0\n",
            "2024-01-02 20:38:30 ed9ad58e777c Coach[867] INFO REJECTING NEW MODEL\n",
            "2024-01-02 20:38:31 ed9ad58e777c Coach[867] INFO Starting Iter #5 ...\n",
            "Self Play:  16%|█▌        | 4/25 [08:10<44:39, 127.60s/it]2024-01-02 20:48:10 ed9ad58e777c MCTS[867] WARNING Max depth reached!\n",
            "2024-01-02 20:49:41 ed9ad58e777c MCTS[867] WARNING Max depth reached!\n",
            "Self Play:  48%|████▊     | 12/25 [28:19<29:29, 136.08s/it]2024-01-02 21:08:41 ed9ad58e777c MCTS[867] WARNING Max depth reached!\n",
            "2024-01-02 21:08:47 ed9ad58e777c MCTS[867] WARNING Max depth reached!\n",
            "2024-01-02 21:09:12 ed9ad58e777c MCTS[867] WARNING Max depth reached!\n",
            "Self Play:  88%|████████▊ | 22/25 [49:37<06:22, 127.57s/it]2024-01-02 21:30:40 ed9ad58e777c MCTS[867] WARNING Max depth reached!\n",
            "Self Play: 100%|██████████| 25/25 [56:55<00:00, 136.63s/it]\n"
          ]
        },
        {
          "name": "stdout",
          "output_type": "stream",
          "text": [
            "Checkpoint Directory exists! \n",
            "Epoch 1/10\n",
            "2337/2337 [==============================] - 618s 263ms/step - loss: 3.6895 - pi_loss: 3.0074 - v_loss: 0.6821\n",
            "Epoch 2/10\n",
            "2337/2337 [==============================] - 610s 261ms/step - loss: 3.1444 - pi_loss: 2.7965 - v_loss: 0.3479\n",
            "Epoch 3/10\n",
            "2337/2337 [==============================] - 602s 258ms/step - loss: 2.8858 - pi_loss: 2.6358 - v_loss: 0.2500\n",
            "Epoch 4/10\n",
            "2337/2337 [==============================] - 615s 263ms/step - loss: 2.6981 - pi_loss: 2.4926 - v_loss: 0.2055\n",
            "Epoch 5/10\n",
            "2337/2337 [==============================] - 616s 263ms/step - loss: 2.5316 - pi_loss: 2.3541 - v_loss: 0.1775\n",
            "Epoch 6/10\n",
            "2337/2337 [==============================] - 602s 258ms/step - loss: 2.3817 - pi_loss: 2.2187 - v_loss: 0.1630\n",
            "Epoch 7/10\n",
            "2337/2337 [==============================] - 566s 242ms/step - loss: 2.2456 - pi_loss: 2.0925 - v_loss: 0.1531\n",
            "Epoch 8/10\n",
            "2337/2337 [==============================] - 567s 243ms/step - loss: 2.1184 - pi_loss: 1.9726 - v_loss: 0.1458\n",
            "Epoch 9/10\n",
            "2337/2337 [==============================] - 553s 237ms/step - loss: 2.0037 - pi_loss: 1.8655 - v_loss: 0.1382\n",
            "Epoch 10/10\n",
            "2337/2337 [==============================] - 558s 239ms/step - loss: 1.9047 - pi_loss: 1.7704 - v_loss: 0.1344\n"
          ]
        },
        {
          "name": "stderr",
          "output_type": "stream",
          "text": [
            "2024-01-02 23:15:49 ed9ad58e777c Coach[867] INFO PITTING AGAINST PREVIOUS VERSION\n",
            "Arena.playGames (1): 100%|██████████| 10/10 [05:28<00:00, 32.86s/it]\n",
            "Arena.playGames (2): 100%|██████████| 10/10 [00:02<00:00,  4.47it/s]\n",
            "2024-01-02 23:21:19 ed9ad58e777c Coach[867] INFO NEW/PREV WINS : 10 / 10 ; DRAWS : 0\n",
            "2024-01-02 23:21:19 ed9ad58e777c Coach[867] INFO REJECTING NEW MODEL\n",
            "2024-01-02 23:21:21 ed9ad58e777c Coach[867] INFO Starting Iter #6 ...\n",
            "Self Play:   4%|▍         | 1/25 [01:09<27:57, 69.91s/it]2024-01-02 23:24:13 ed9ad58e777c MCTS[867] WARNING Max depth reached!\n",
            "2024-01-02 23:24:15 ed9ad58e777c MCTS[867] WARNING Max depth reached!\n",
            "Self Play:  52%|█████▏    | 13/25 [26:27<26:14, 131.19s/it]2024-01-02 23:49:50 ed9ad58e777c MCTS[867] WARNING Max depth reached!\n",
            "Self Play:  96%|█████████▌| 24/25 [51:49<01:58, 118.41s/it]2024-01-03 00:15:29 ed9ad58e777c MCTS[867] WARNING Max depth reached!\n",
            "2024-01-03 00:16:50 ed9ad58e777c MCTS[867] WARNING Max depth reached!\n",
            "Self Play: 100%|██████████| 25/25 [56:11<00:00, 134.88s/it]\n"
          ]
        },
        {
          "name": "stdout",
          "output_type": "stream",
          "text": [
            "Checkpoint Directory exists! \n",
            "Epoch 1/10\n",
            "2517/2517 [==============================] - 612s 242ms/step - loss: 3.6804 - pi_loss: 3.0018 - v_loss: 0.6786\n",
            "Epoch 2/10\n",
            "2517/2517 [==============================] - 609s 242ms/step - loss: 3.1455 - pi_loss: 2.7955 - v_loss: 0.3501\n",
            "Epoch 3/10\n",
            "2517/2517 [==============================] - 603s 240ms/step - loss: 2.8918 - pi_loss: 2.6400 - v_loss: 0.2518\n",
            "Epoch 4/10\n",
            "2517/2517 [==============================] - 607s 241ms/step - loss: 2.7022 - pi_loss: 2.4939 - v_loss: 0.2083\n",
            "Epoch 5/10\n",
            "2517/2517 [==============================] - 603s 240ms/step - loss: 2.5461 - pi_loss: 2.3634 - v_loss: 0.1827\n",
            "Epoch 6/10\n",
            "2517/2517 [==============================] - 604s 240ms/step - loss: 2.4024 - pi_loss: 2.2358 - v_loss: 0.1666\n",
            "Epoch 7/10\n",
            "2517/2517 [==============================] - 600s 238ms/step - loss: 2.2669 - pi_loss: 2.1122 - v_loss: 0.1546\n",
            "Epoch 8/10\n",
            "2517/2517 [==============================] - 602s 239ms/step - loss: 2.1458 - pi_loss: 1.9976 - v_loss: 0.1483\n",
            "Epoch 9/10\n",
            " 603/2517 [======>.......................] - ETA: 7:37 - loss: 1.9296 - pi_loss: 1.7929 - v_loss: 0.1367"
          ]
        }
      ],
      "source": [
        "args = dotdict({\n",
        "    'numIters': 20,\n",
        "    'numEps': 25,              # Number of complete self-play games to simulate during a new iteration.\n",
        "    'tempThreshold': 15,        #\n",
        "    'updateThreshold': 0.6,     # During arena playoff, new neural net will be accepted if threshold or more of games are won.\n",
        "    'maxlenOfQueue': 100000,    # Number of game examples to train the neural networks.\n",
        "    'numMCTSSims': 25,          # Number of games moves for MCTS to simulate.\n",
        "    'arenaCompare': 20,         # Number of games to play during arena play to determine if new net will be accepted.\n",
        "    'cpuct': 1,\n",
        "\n",
        "    'checkpoint': '/content/drive/MyDrive/go_trabalho2_liacd/models/go/7x7',\n",
        "    'load_model': True,\n",
        "    'load_folder_file': ('/content/drive/MyDrive/go_trabalho2_liacd/models/go/7x7', 'best.h5'),\n",
        "    'numItersForTrainExamplesHistory': 20,\n",
        "\n",
        "})\n",
        "\n",
        "\n",
        "\n",
        "log.info('Loading %s...', Game.__name__)\n",
        "g = Game(7)\n",
        "\n",
        "log.info('Loading %s...', nn.__name__)\n",
        "nnet = nn(g)\n",
        "\n",
        "if args.load_model:\n",
        "    log.info('Loading checkpoint \"%s/%s\"...', args.load_folder_file[0], args.load_folder_file[1])\n",
        "    nnet.load_model(args.load_folder_file[0], args.load_folder_file[1])\n",
        "else:\n",
        "    log.warning('Not loading a checkpoint!')\n",
        "\n",
        "log.info('Loading the Coach...')\n",
        "c = Coach(g, nnet, args)\n",
        "\n",
        "if args.load_model:\n",
        "    log.info(\"Loading 'trainExamples' from file...\")\n",
        "    c.loadTrainExamples()\n",
        "\n",
        "log.info('Starting the learning process 🎉')\n",
        "c.learn()\n",
        "\n"
      ]
    },
    {
      "cell_type": "markdown",
      "metadata": {
        "id": "_cJ4dhfaDrPS"
      },
      "source": [
        "#Sétimo Treino"
      ]
    },
    {
      "cell_type": "code",
      "execution_count": null,
      "metadata": {
        "colab": {
          "background_save": true,
          "base_uri": "https://localhost:8080/"
        },
        "id": "5g9XhyXfDtIA",
        "outputId": "76ff0f10-1702-49e4-a5df-2d5da6120657"
      },
      "outputs": [
        {
          "name": "stderr",
          "output_type": "stream",
          "text": [
            "2024-01-03 16:02:36 586f1db1a631 __main__[1346] INFO Loading GoGame...\n",
            "2024-01-03 16:02:36 586f1db1a631 __main__[1346] INFO Loading NNetWrapper...\n",
            "2024-01-03 16:02:36 586f1db1a631 __main__[1346] INFO Loading checkpoint \"/content/drive/MyDrive/go_trabalho2_liacd/models/go/7x7/best.h5\"...\n",
            "2024-01-03 16:02:38 586f1db1a631 __main__[1346] INFO Loading the Coach...\n",
            "2024-01-03 16:02:39 586f1db1a631 __main__[1346] INFO Loading 'trainExamples' from file...\n",
            "2024-01-03 16:02:39 586f1db1a631 Coach[1346] INFO File with trainExamples found. Loading it...\n",
            "2024-01-03 16:02:46 586f1db1a631 Coach[1346] INFO Loading done!\n",
            "2024-01-03 16:02:46 586f1db1a631 __main__[1346] INFO Starting the learning process 🎉\n",
            "2024-01-03 16:02:46 586f1db1a631 Coach[1346] INFO Starting Iter #1 ...\n"
          ]
        },
        {
          "name": "stdout",
          "output_type": "stream",
          "text": [
            "Checkpoint Directory exists! \n"
          ]
        },
        {
          "name": "stderr",
          "output_type": "stream",
          "text": [
            "/usr/local/lib/python3.10/dist-packages/keras/src/engine/training.py:3103: UserWarning: You are saving your model as an HDF5 file via `model.save()`. This file format is considered legacy. We recommend using instead the native Keras format, e.g. `model.save('my_model.keras')`.\n",
            "  saving_api.save_model(\n"
          ]
        },
        {
          "name": "stdout",
          "output_type": "stream",
          "text": [
            "Epoch 1/10\n",
            "2517/2517 [==============================] - 562s 222ms/step - loss: 3.6865 - pi_loss: 3.0037 - v_loss: 0.6828\n",
            "Epoch 2/10\n",
            "2517/2517 [==============================] - 559s 222ms/step - loss: 3.1428 - pi_loss: 2.7912 - v_loss: 0.3516\n",
            "Epoch 3/10\n",
            "2517/2517 [==============================] - 557s 221ms/step - loss: 2.8950 - pi_loss: 2.6427 - v_loss: 0.2523\n",
            "Epoch 4/10\n",
            "2517/2517 [==============================] - 557s 221ms/step - loss: 2.7077 - pi_loss: 2.5003 - v_loss: 0.2073\n",
            "Epoch 5/10\n",
            "2517/2517 [==============================] - 555s 220ms/step - loss: 2.5490 - pi_loss: 2.3667 - v_loss: 0.1823\n",
            "Epoch 6/10\n",
            "2517/2517 [==============================] - 557s 221ms/step - loss: 2.4032 - pi_loss: 2.2358 - v_loss: 0.1674\n",
            "Epoch 7/10\n",
            "2517/2517 [==============================] - 559s 222ms/step - loss: 2.2680 - pi_loss: 2.1145 - v_loss: 0.1535\n",
            "Epoch 8/10\n",
            "2517/2517 [==============================] - 557s 221ms/step - loss: 2.1446 - pi_loss: 1.9976 - v_loss: 0.1470\n",
            "Epoch 9/10\n",
            "2517/2517 [==============================] - 556s 221ms/step - loss: 2.0366 - pi_loss: 1.8968 - v_loss: 0.1399\n",
            "Epoch 10/10\n",
            "2517/2517 [==============================] - 557s 221ms/step - loss: 1.9418 - pi_loss: 1.8073 - v_loss: 0.1345\n"
          ]
        },
        {
          "name": "stderr",
          "output_type": "stream",
          "text": [
            "2024-01-03 17:36:48 586f1db1a631 Coach[1346] INFO PITTING AGAINST PREVIOUS VERSION\n",
            "Arena.playGames (1): 100%|██████████| 10/10 [04:32<00:00, 27.22s/it]\n",
            "Arena.playGames (2): 100%|██████████| 10/10 [00:01<00:00,  5.71it/s]\n",
            "2024-01-03 17:41:22 586f1db1a631 Coach[1346] INFO NEW/PREV WINS : 10 / 10 ; DRAWS : 0\n",
            "2024-01-03 17:41:22 586f1db1a631 Coach[1346] INFO REJECTING NEW MODEL\n",
            "2024-01-03 17:41:23 586f1db1a631 Coach[1346] INFO Starting Iter #2 ...\n",
            "Self Play:  32%|███▏      | 8/25 [13:02<28:44, 101.46s/it]2024-01-03 17:56:34 586f1db1a631 MCTS[1346] WARNING Max depth reached!\n",
            "Self Play:  48%|████▊     | 12/25 [20:40<23:15, 107.38s/it]2024-01-03 18:03:49 586f1db1a631 MCTS[1346] WARNING Max depth reached!\n",
            "Self Play:  56%|█████▌    | 14/25 [24:04<19:00, 103.69s/it]2024-01-03 18:07:01 586f1db1a631 MCTS[1346] WARNING Max depth reached!\n",
            "Self Play:  60%|██████    | 15/25 [25:55<17:40, 106.00s/it]2024-01-03 18:09:19 586f1db1a631 MCTS[1346] WARNING Max depth reached!\n",
            "2024-01-03 18:09:29 586f1db1a631 MCTS[1346] WARNING Max depth reached!\n",
            "2024-01-03 18:09:37 586f1db1a631 MCTS[1346] WARNING Max depth reached!\n",
            "Self Play:  64%|██████▍   | 16/25 [28:39<18:31, 123.47s/it]2024-01-03 18:11:46 586f1db1a631 MCTS[1346] WARNING Max depth reached!\n",
            "2024-01-03 18:11:53 586f1db1a631 MCTS[1346] WARNING Max depth reached!\n",
            "2024-01-03 18:12:05 586f1db1a631 MCTS[1346] WARNING Max depth reached!\n",
            "Self Play: 100%|██████████| 25/25 [42:35<00:00, 102.22s/it]\n"
          ]
        },
        {
          "name": "stdout",
          "output_type": "stream",
          "text": [
            "Checkpoint Directory exists! \n",
            "Epoch 1/10\n",
            "2682/2682 [==============================] - 571s 212ms/step - loss: 3.6785 - pi_loss: 3.0030 - v_loss: 0.6755\n",
            "Epoch 2/10\n",
            "2682/2682 [==============================] - 574s 214ms/step - loss: 3.1486 - pi_loss: 2.7950 - v_loss: 0.3536\n",
            "Epoch 3/10\n",
            "2682/2682 [==============================] - 569s 212ms/step - loss: 2.9016 - pi_loss: 2.6460 - v_loss: 0.2556\n",
            "Epoch 4/10\n",
            "2682/2682 [==============================] - 577s 215ms/step - loss: 2.7185 - pi_loss: 2.5074 - v_loss: 0.2111\n",
            "Epoch 5/10\n",
            "2682/2682 [==============================] - 578s 215ms/step - loss: 2.5617 - pi_loss: 2.3747 - v_loss: 0.1870\n",
            "Epoch 6/10\n",
            "2682/2682 [==============================] - 573s 214ms/step - loss: 2.4185 - pi_loss: 2.2484 - v_loss: 0.1701\n",
            "Epoch 7/10\n",
            "2682/2682 [==============================] - 573s 214ms/step - loss: 2.2908 - pi_loss: 2.1327 - v_loss: 0.1581\n",
            "Epoch 8/10\n",
            "2682/2682 [==============================] - 578s 216ms/step - loss: 2.1662 - pi_loss: 2.0174 - v_loss: 0.1488\n",
            "Epoch 9/10\n",
            "2682/2682 [==============================] - 580s 216ms/step - loss: 2.0567 - pi_loss: 1.9150 - v_loss: 0.1417\n",
            "Epoch 10/10\n",
            "2682/2682 [==============================] - 581s 217ms/step - loss: 1.9593 - pi_loss: 1.8225 - v_loss: 0.1368\n"
          ]
        },
        {
          "name": "stderr",
          "output_type": "stream",
          "text": [
            "2024-01-03 20:01:14 586f1db1a631 Coach[1346] INFO PITTING AGAINST PREVIOUS VERSION\n",
            "Arena.playGames (1): 100%|██████████| 10/10 [04:13<00:00, 25.32s/it]\n",
            "Arena.playGames (2): 100%|██████████| 10/10 [00:01<00:00,  5.80it/s]\n",
            "2024-01-03 20:05:29 586f1db1a631 Coach[1346] INFO NEW/PREV WINS : 10 / 10 ; DRAWS : 0\n",
            "2024-01-03 20:05:29 586f1db1a631 Coach[1346] INFO REJECTING NEW MODEL\n",
            "2024-01-03 20:05:30 586f1db1a631 Coach[1346] INFO Starting Iter #3 ...\n",
            "Self Play:   0%|          | 0/25 [00:00<?, ?it/s]2024-01-03 20:07:02 586f1db1a631 MCTS[1346] WARNING Max depth reached!\n",
            "2024-01-03 20:07:05 586f1db1a631 MCTS[1346] WARNING Max depth reached!\n",
            "Self Play:  56%|█████▌    | 14/25 [24:05<18:28, 100.80s/it]2024-01-03 20:31:31 586f1db1a631 MCTS[1346] WARNING Max depth reached!\n",
            "Self Play:  60%|██████    | 15/25 [26:15<18:14, 109.42s/it]"
          ]
        }
      ],
      "source": [
        "args = dotdict({\n",
        "    'numIters': 20,\n",
        "    'numEps': 25,              # Number of complete self-play games to simulate during a new iteration.\n",
        "    'tempThreshold': 15,        #\n",
        "    'updateThreshold': 0.6,     # During arena playoff, new neural net will be accepted if threshold or more of games are won.\n",
        "    'maxlenOfQueue': 100000,    # Number of game examples to train the neural networks.\n",
        "    'numMCTSSims': 25,          # Number of games moves for MCTS to simulate.\n",
        "    'arenaCompare': 20,         # Number of games to play during arena play to determine if new net will be accepted.\n",
        "    'cpuct': 1,\n",
        "\n",
        "    'checkpoint': '/content/drive/MyDrive/go_trabalho2_liacd/models/go/7x7',\n",
        "    'load_model': True,\n",
        "    'load_folder_file': ('/content/drive/MyDrive/go_trabalho2_liacd/models/go/7x7', 'best.h5'),\n",
        "    'numItersForTrainExamplesHistory': 20,\n",
        "\n",
        "})\n",
        "\n",
        "\n",
        "\n",
        "log.info('Loading %s...', Game.__name__)\n",
        "g = Game(7)\n",
        "\n",
        "log.info('Loading %s...', nn.__name__)\n",
        "nnet = nn(g)\n",
        "\n",
        "if args.load_model:\n",
        "    log.info('Loading checkpoint \"%s/%s\"...', args.load_folder_file[0], args.load_folder_file[1])\n",
        "    nnet.load_model(args.load_folder_file[0], args.load_folder_file[1])\n",
        "else:\n",
        "    log.warning('Not loading a checkpoint!')\n",
        "\n",
        "log.info('Loading the Coach...')\n",
        "c = Coach(g, nnet, args)\n",
        "\n",
        "if args.load_model:\n",
        "    log.info(\"Loading 'trainExamples' from file...\")\n",
        "    c.loadTrainExamples()\n",
        "\n",
        "log.info('Starting the learning process 🎉')\n",
        "c.learn()\n",
        "\n"
      ]
    },
    {
      "cell_type": "markdown",
      "metadata": {
        "id": "XNC5buKqXJYU"
      },
      "source": [
        "#Primeiro Treino Com A Nova Função De Score"
      ]
    },
    {
      "cell_type": "code",
      "execution_count": null,
      "metadata": {
        "colab": {
          "background_save": true,
          "base_uri": "https://localhost:8080/"
        },
        "id": "RfWQ2MhNXNgL",
        "outputId": "28e832f0-d333-4fc5-96cf-dc7949bece07"
      },
      "outputs": [
        {
          "name": "stderr",
          "output_type": "stream",
          "text": [
            "2024-01-11 16:31:28 82a51fd04846 __main__[978] INFO Loading GoGame...\n",
            "2024-01-11 16:31:28 82a51fd04846 __main__[978] INFO Loading NNetWrapper...\n",
            "2024-01-11 16:31:29 82a51fd04846 __main__[978] WARNING Not loading a checkpoint!\n",
            "2024-01-11 16:31:29 82a51fd04846 __main__[978] INFO Loading the Coach...\n",
            "2024-01-11 16:31:29 82a51fd04846 __main__[978] INFO Starting the learning process 🎉\n",
            "2024-01-11 16:31:29 82a51fd04846 Coach[978] INFO Starting Iter #1 ...\n",
            "Self Play:  48%|████▊     | 12/25 [22:12<26:26, 122.03s/it]2024-01-11 16:55:23 82a51fd04846 MCTS[978] WARNING Max depth reached!\n",
            "Self Play: 100%|██████████| 25/25 [47:39<00:00, 114.39s/it]\n"
          ]
        },
        {
          "name": "stdout",
          "output_type": "stream",
          "text": [
            "Checkpoint Directory exists! \n"
          ]
        },
        {
          "name": "stderr",
          "output_type": "stream",
          "text": [
            "/usr/local/lib/python3.10/dist-packages/keras/src/engine/training.py:3103: UserWarning: You are saving your model as an HDF5 file via `model.save()`. This file format is considered legacy. We recommend using instead the native Keras format, e.g. `model.save('my_model.keras')`.\n",
            "  saving_api.save_model(\n"
          ]
        },
        {
          "name": "stdout",
          "output_type": "stream",
          "text": [
            "Epoch 1/10\n",
            "247/247 [==============================] - 62s 243ms/step - loss: 3.4374 - pi_loss: 3.1079 - v_loss: 0.3295\n",
            "Epoch 2/10\n",
            "247/247 [==============================] - 60s 245ms/step - loss: 3.0825 - pi_loss: 2.9007 - v_loss: 0.1818\n",
            "Epoch 3/10\n",
            "247/247 [==============================] - 58s 232ms/step - loss: 2.9489 - pi_loss: 2.8130 - v_loss: 0.1359\n",
            "Epoch 4/10\n",
            "247/247 [==============================] - 60s 244ms/step - loss: 2.8233 - pi_loss: 2.7099 - v_loss: 0.1133\n",
            "Epoch 5/10\n",
            "247/247 [==============================] - 60s 244ms/step - loss: 2.6640 - pi_loss: 2.5538 - v_loss: 0.1102\n",
            "Epoch 6/10\n",
            "247/247 [==============================] - 62s 253ms/step - loss: 2.4969 - pi_loss: 2.3892 - v_loss: 0.1077\n",
            "Epoch 7/10\n",
            "247/247 [==============================] - 60s 243ms/step - loss: 2.3109 - pi_loss: 2.2275 - v_loss: 0.0835\n",
            "Epoch 8/10\n",
            "247/247 [==============================] - 61s 245ms/step - loss: 2.1897 - pi_loss: 2.1051 - v_loss: 0.0846\n",
            "Epoch 9/10\n",
            "247/247 [==============================] - 60s 242ms/step - loss: 2.0619 - pi_loss: 1.9814 - v_loss: 0.0805\n",
            "Epoch 10/10\n",
            "247/247 [==============================] - 58s 236ms/step - loss: 1.9594 - pi_loss: 1.8865 - v_loss: 0.0729\n"
          ]
        },
        {
          "name": "stderr",
          "output_type": "stream",
          "text": [
            "2024-01-11 17:29:37 82a51fd04846 Coach[978] INFO PITTING AGAINST PREVIOUS VERSION\n",
            "Arena.playGames (1):  80%|████████  | 8/10 [16:03<03:48, 114.05s/it]2024-01-11 17:47:15 82a51fd04846 MCTS[978] WARNING Max depth reached!\n",
            "Arena.playGames (1): 100%|██████████| 10/10 [20:17<00:00, 121.79s/it]\n",
            "Arena.playGames (2): 100%|██████████| 10/10 [20:52<00:00, 125.21s/it]\n",
            "2024-01-11 18:10:47 82a51fd04846 Coach[978] INFO NEW/PREV WINS : 16 / 4 ; DRAWS : 0\n",
            "2024-01-11 18:10:47 82a51fd04846 Coach[978] INFO ACCEPTING NEW MODEL\n"
          ]
        },
        {
          "name": "stdout",
          "output_type": "stream",
          "text": [
            "Checkpoint Directory exists! \n",
            "Checkpoint Directory exists! \n"
          ]
        },
        {
          "name": "stderr",
          "output_type": "stream",
          "text": [
            "2024-01-11 18:10:49 82a51fd04846 Coach[978] INFO Starting Iter #2 ...\n",
            "Self Play:  48%|████▊     | 12/25 [24:59<28:45, 132.73s/it]2024-01-11 18:37:42 82a51fd04846 MCTS[978] WARNING Max depth reached!\n",
            "Self Play:  60%|██████    | 15/25 [32:01<21:55, 131.52s/it]2024-01-11 18:44:57 82a51fd04846 MCTS[978] WARNING Max depth reached!\n",
            "2024-01-11 18:45:12 82a51fd04846 MCTS[978] WARNING Max depth reached!\n",
            "Self Play:  72%|███████▏  | 18/25 [38:59<15:44, 134.88s/it]2024-01-11 18:51:57 82a51fd04846 MCTS[978] WARNING Max depth reached!\n",
            "Self Play: 100%|██████████| 25/25 [53:18<00:00, 127.92s/it]\n"
          ]
        },
        {
          "name": "stdout",
          "output_type": "stream",
          "text": [
            "Checkpoint Directory exists! \n",
            "Epoch 1/10\n",
            "429/429 [==============================] - 100s 233ms/step - loss: 2.7593 - pi_loss: 2.4249 - v_loss: 0.3344\n",
            "Epoch 2/10\n",
            "429/429 [==============================] - 97s 225ms/step - loss: 2.3825 - pi_loss: 2.2205 - v_loss: 0.1620\n",
            "Epoch 3/10\n",
            "429/429 [==============================] - 98s 228ms/step - loss: 2.2112 - pi_loss: 2.0796 - v_loss: 0.1317\n",
            "Epoch 4/10\n",
            "429/429 [==============================] - 95s 221ms/step - loss: 2.0618 - pi_loss: 1.9444 - v_loss: 0.1174\n",
            "Epoch 5/10\n",
            "429/429 [==============================] - 96s 224ms/step - loss: 1.9489 - pi_loss: 1.8406 - v_loss: 0.1083\n",
            "Epoch 6/10\n",
            "429/429 [==============================] - 97s 225ms/step - loss: 1.8254 - pi_loss: 1.7283 - v_loss: 0.0971\n",
            "Epoch 7/10\n",
            "429/429 [==============================] - 97s 227ms/step - loss: 1.7399 - pi_loss: 1.6413 - v_loss: 0.0986\n",
            "Epoch 8/10\n",
            "429/429 [==============================] - 97s 226ms/step - loss: 1.6264 - pi_loss: 1.5359 - v_loss: 0.0905\n",
            "Epoch 9/10\n",
            "429/429 [==============================] - 97s 226ms/step - loss: 1.5528 - pi_loss: 1.4686 - v_loss: 0.0842\n",
            "Epoch 10/10\n",
            "429/429 [==============================] - 98s 228ms/step - loss: 1.4709 - pi_loss: 1.3886 - v_loss: 0.0823\n"
          ]
        },
        {
          "name": "stderr",
          "output_type": "stream",
          "text": [
            "2024-01-11 19:20:38 82a51fd04846 Coach[978] INFO PITTING AGAINST PREVIOUS VERSION\n",
            "Arena.playGames (1):  20%|██        | 2/10 [03:39<14:39, 109.94s/it]2024-01-11 19:26:27 82a51fd04846 MCTS[978] WARNING Max depth reached!\n",
            "Arena.playGames (1): 100%|██████████| 10/10 [20:33<00:00, 123.32s/it]\n",
            "Arena.playGames (2): 100%|██████████| 10/10 [20:04<00:00, 120.41s/it]\n",
            "2024-01-11 20:01:15 82a51fd04846 Coach[978] INFO NEW/PREV WINS : 18 / 2 ; DRAWS : 0\n",
            "2024-01-11 20:01:15 82a51fd04846 Coach[978] INFO ACCEPTING NEW MODEL\n"
          ]
        },
        {
          "name": "stdout",
          "output_type": "stream",
          "text": [
            "Checkpoint Directory exists! \n",
            "Checkpoint Directory exists! \n"
          ]
        },
        {
          "name": "stderr",
          "output_type": "stream",
          "text": [
            "2024-01-11 20:01:17 82a51fd04846 Coach[978] INFO Starting Iter #3 ...\n",
            "Self Play:  44%|████▍     | 11/25 [23:35<31:35, 135.39s/it]2024-01-11 20:26:53 82a51fd04846 MCTS[978] WARNING Max depth reached!\n",
            "2024-01-11 20:27:01 82a51fd04846 MCTS[978] WARNING Max depth reached!\n",
            "2024-01-11 20:27:14 82a51fd04846 MCTS[978] WARNING Max depth reached!\n",
            "2024-01-11 20:27:25 82a51fd04846 MCTS[978] WARNING Max depth reached!\n",
            "2024-01-11 20:27:31 82a51fd04846 MCTS[978] WARNING Max depth reached!\n",
            "Self Play: 100%|██████████| 25/25 [55:31<00:00, 133.28s/it]\n"
          ]
        },
        {
          "name": "stdout",
          "output_type": "stream",
          "text": [
            "Checkpoint Directory exists! \n",
            "Epoch 1/10\n",
            "628/628 [==============================] - 142s 226ms/step - loss: 2.2016 - pi_loss: 1.9065 - v_loss: 0.2952\n",
            "Epoch 2/10\n",
            "628/628 [==============================] - 141s 225ms/step - loss: 1.8431 - pi_loss: 1.6769 - v_loss: 0.1662\n",
            "Epoch 3/10\n",
            "628/628 [==============================] - 140s 223ms/step - loss: 1.6862 - pi_loss: 1.5543 - v_loss: 0.1319\n",
            "Epoch 4/10\n",
            "628/628 [==============================] - 138s 220ms/step - loss: 1.5749 - pi_loss: 1.4609 - v_loss: 0.1140\n",
            "Epoch 5/10\n",
            "628/628 [==============================] - 142s 226ms/step - loss: 1.4808 - pi_loss: 1.3739 - v_loss: 0.1069\n",
            "Epoch 6/10\n",
            "628/628 [==============================] - 139s 221ms/step - loss: 1.3997 - pi_loss: 1.3015 - v_loss: 0.0981\n",
            "Epoch 7/10\n",
            "628/628 [==============================] - 141s 225ms/step - loss: 1.3243 - pi_loss: 1.2328 - v_loss: 0.0915\n",
            "Epoch 8/10\n",
            "628/628 [==============================] - 139s 221ms/step - loss: 1.2780 - pi_loss: 1.1869 - v_loss: 0.0911\n",
            "Epoch 9/10\n",
            "628/628 [==============================] - 141s 224ms/step - loss: 1.2354 - pi_loss: 1.1436 - v_loss: 0.0917\n",
            "Epoch 10/10\n",
            "628/628 [==============================] - 141s 225ms/step - loss: 1.1863 - pi_loss: 1.0999 - v_loss: 0.0864\n"
          ]
        },
        {
          "name": "stderr",
          "output_type": "stream",
          "text": [
            "2024-01-11 21:21:26 82a51fd04846 Coach[978] INFO PITTING AGAINST PREVIOUS VERSION\n",
            "Arena.playGames (1): 100%|██████████| 10/10 [20:24<00:00, 122.46s/it]\n",
            "Arena.playGames (2):  40%|████      | 4/10 [07:59<12:24, 124.09s/it]2024-01-11 21:51:47 82a51fd04846 MCTS[978] WARNING Max depth reached!\n",
            "Arena.playGames (2): 100%|██████████| 10/10 [18:45<00:00, 112.57s/it]\n",
            "2024-01-11 22:00:36 82a51fd04846 Coach[978] INFO NEW/PREV WINS : 10 / 10 ; DRAWS : 0\n",
            "2024-01-11 22:00:36 82a51fd04846 Coach[978] INFO REJECTING NEW MODEL\n",
            "2024-01-11 22:00:38 82a51fd04846 Coach[978] INFO Starting Iter #4 ...\n",
            "Self Play:   8%|▊         | 2/25 [04:19<49:07, 128.14s/it]2024-01-11 22:06:57 82a51fd04846 MCTS[978] WARNING Max depth reached!\n",
            "Self Play:  96%|█████████▌| 24/25 [51:23<02:14, 134.29s/it]2024-01-11 22:53:48 82a51fd04846 MCTS[978] WARNING Max depth reached!\n",
            "Self Play: 100%|██████████| 25/25 [54:25<00:00, 130.62s/it]\n"
          ]
        },
        {
          "name": "stdout",
          "output_type": "stream",
          "text": [
            "Checkpoint Directory exists! \n",
            "Epoch 1/10\n",
            "829/829 [==============================] - 162s 194ms/step - loss: 2.6049 - pi_loss: 2.1612 - v_loss: 0.4437\n",
            "Epoch 2/10\n",
            "829/829 [==============================] - 160s 193ms/step - loss: 2.1278 - pi_loss: 1.8983 - v_loss: 0.2295\n",
            "Epoch 3/10\n",
            "829/829 [==============================] - 160s 194ms/step - loss: 1.9267 - pi_loss: 1.7527 - v_loss: 0.1741\n",
            "Epoch 4/10\n",
            "829/829 [==============================] - 163s 196ms/step - loss: 1.7787 - pi_loss: 1.6302 - v_loss: 0.1484\n",
            "Epoch 5/10\n",
            "829/829 [==============================] - 160s 193ms/step - loss: 1.6691 - pi_loss: 1.5344 - v_loss: 0.1347\n",
            "Epoch 6/10\n",
            "829/829 [==============================] - 160s 193ms/step - loss: 1.5628 - pi_loss: 1.4365 - v_loss: 0.1263\n",
            "Epoch 7/10\n",
            "829/829 [==============================] - 160s 193ms/step - loss: 1.4609 - pi_loss: 1.3445 - v_loss: 0.1164\n",
            "Epoch 8/10\n",
            "829/829 [==============================] - 160s 193ms/step - loss: 1.3999 - pi_loss: 1.2909 - v_loss: 0.1090\n",
            "Epoch 9/10\n",
            "829/829 [==============================] - 159s 192ms/step - loss: 1.3379 - pi_loss: 1.2271 - v_loss: 0.1109\n",
            "Epoch 10/10\n",
            "829/829 [==============================] - 160s 192ms/step - loss: 1.2777 - pi_loss: 1.1757 - v_loss: 0.1020\n"
          ]
        },
        {
          "name": "stderr",
          "output_type": "stream",
          "text": [
            "2024-01-11 23:22:01 82a51fd04846 Coach[978] INFO PITTING AGAINST PREVIOUS VERSION\n",
            "Arena.playGames (1): 100%|██████████| 10/10 [19:05<00:00, 114.54s/it]\n",
            "Arena.playGames (2): 100%|██████████| 10/10 [19:27<00:00, 116.76s/it]\n",
            "2024-01-12 00:00:34 82a51fd04846 Coach[978] INFO NEW/PREV WINS : 17 / 3 ; DRAWS : 0\n",
            "2024-01-12 00:00:34 82a51fd04846 Coach[978] INFO ACCEPTING NEW MODEL\n"
          ]
        },
        {
          "name": "stdout",
          "output_type": "stream",
          "text": [
            "Checkpoint Directory exists! \n",
            "Checkpoint Directory exists! \n"
          ]
        },
        {
          "name": "stderr",
          "output_type": "stream",
          "text": [
            "2024-01-12 00:00:38 82a51fd04846 Coach[978] INFO Starting Iter #5 ...\n",
            "Self Play:   8%|▊         | 2/25 [04:52<56:57, 148.60s/it]2024-01-12 00:07:21 82a51fd04846 MCTS[978] WARNING Max depth reached!\n",
            "Self Play:  12%|█▏        | 3/25 [06:43<48:12, 131.49s/it]2024-01-12 00:09:11 82a51fd04846 MCTS[978] WARNING Max depth reached!\n",
            "Self Play:  56%|█████▌    | 14/25 [28:58<21:12, 115.72s/it]"
          ]
        }
      ],
      "source": [
        "args = dotdict({\n",
        "    'numIters': 20,\n",
        "    'numEps': 25,              # Number of complete self-play games to simulate during a new iteration.\n",
        "    'tempThreshold': 15,        #\n",
        "    'updateThreshold': 0.6,     # During arena playoff, new neural net will be accepted if threshold or more of games are won.\n",
        "    'maxlenOfQueue': 100000,    # Number of game examples to train the neural networks.\n",
        "    'numMCTSSims': 25,          # Number of games moves for MCTS to simulate.\n",
        "    'arenaCompare': 20,         # Number of games to play during arena play to determine if new net will be accepted.\n",
        "    'cpuct': 1,\n",
        "\n",
        "    'checkpoint': '/content/drive/MyDrive/go_trabalho2_liacd/models/go/7x7',\n",
        "    'load_model': False,\n",
        "    'load_folder_file': ('/content/drive/MyDrive/go_trabalho2_liacd/models/go/7x7', 'best.h5'),\n",
        "    'numItersForTrainExamplesHistory': 20,\n",
        "\n",
        "})\n",
        "\n",
        "\n",
        "\n",
        "log.info('Loading %s...', Game.__name__)\n",
        "g = Game(7)\n",
        "\n",
        "log.info('Loading %s...', nn.__name__)\n",
        "nnet = nn(g)\n",
        "\n",
        "if args.load_model:\n",
        "    log.info('Loading checkpoint \"%s/%s\"...', args.load_folder_file[0], args.load_folder_file[1])\n",
        "    nnet.load_model(args.load_folder_file[0], args.load_folder_file[1])\n",
        "else:\n",
        "    log.warning('Not loading a checkpoint!')\n",
        "\n",
        "log.info('Loading the Coach...')\n",
        "c = Coach(g, nnet, args)\n",
        "\n",
        "if args.load_model:\n",
        "    log.info(\"Loading 'trainExamples' from file...\")\n",
        "    c.loadTrainExamples()\n",
        "\n",
        "log.info('Starting the learning process 🎉')\n",
        "c.learn()\n",
        "\n"
      ]
    },
    {
      "cell_type": "markdown",
      "source": [
        "#Segundo Treino Com A Nova Função De Score"
      ],
      "metadata": {
        "id": "h5vAMlc9PtSI"
      }
    },
    {
      "cell_type": "code",
      "source": [
        "args = dotdict({\n",
        "    'numIters': 20,\n",
        "    'numEps': 25,              # Number of complete self-play games to simulate during a new iteration.\n",
        "    'tempThreshold': 15,        #\n",
        "    'updateThreshold': 0.6,     # During arena playoff, new neural net will be accepted if threshold or more of games are won.\n",
        "    'maxlenOfQueue': 100000,    # Number of game examples to train the neural networks.\n",
        "    'numMCTSSims': 25,          # Number of games moves for MCTS to simulate.\n",
        "    'arenaCompare': 20,         # Number of games to play during arena play to determine if new net will be accepted.\n",
        "    'cpuct': 1,\n",
        "\n",
        "    'checkpoint': '/content/drive/MyDrive/go_trabalho2_liacd/models/go/7x7',\n",
        "    'load_model': True,\n",
        "    'load_folder_file': ('/content/drive/MyDrive/go_trabalho2_liacd/models/go/7x7', 'best.h5'),\n",
        "    'numItersForTrainExamplesHistory': 20,\n",
        "\n",
        "})\n",
        "\n",
        "\n",
        "\n",
        "log.info('Loading %s...', Game.__name__)\n",
        "g = Game(7)\n",
        "\n",
        "log.info('Loading %s...', nn.__name__)\n",
        "nnet = nn(g)\n",
        "\n",
        "if args.load_model:\n",
        "    log.info('Loading checkpoint \"%s/%s\"...', args.load_folder_file[0], args.load_folder_file[1])\n",
        "    nnet.load_model(args.load_folder_file[0], args.load_folder_file[1])\n",
        "else:\n",
        "    log.warning('Not loading a checkpoint!')\n",
        "\n",
        "log.info('Loading the Coach...')\n",
        "c = Coach(g, nnet, args)\n",
        "\n",
        "if args.load_model:\n",
        "    log.info(\"Loading 'trainExamples' from file...\")\n",
        "    c.loadTrainExamples()\n",
        "\n",
        "log.info('Starting the learning process 🎉')\n",
        "c.learn()\n",
        "\n"
      ],
      "metadata": {
        "colab": {
          "base_uri": "https://localhost:8080/"
        },
        "id": "0aJbNAtzPwQ4",
        "outputId": "cf83694e-d2b7-4921-a03a-e67b0c920648"
      },
      "execution_count": null,
      "outputs": [
        {
          "metadata": {
            "tags": null
          },
          "name": "stderr",
          "output_type": "stream",
          "text": [
            "2024-01-12 10:38:27 5a87d7437bf0 __main__[366] INFO Loading GoGame...\n",
            "2024-01-12 10:38:27 5a87d7437bf0 __main__[366] INFO Loading NNetWrapper...\n",
            "2024-01-12 10:38:28 5a87d7437bf0 __main__[366] INFO Loading checkpoint \"/content/drive/MyDrive/go_trabalho2_liacd/models/go/7x7/best.h5\"...\n",
            "2024-01-12 10:38:32 5a87d7437bf0 __main__[366] INFO Loading the Coach...\n",
            "2024-01-12 10:38:32 5a87d7437bf0 __main__[366] INFO Loading 'trainExamples' from file...\n",
            "2024-01-12 10:38:32 5a87d7437bf0 Coach[366] INFO File with trainExamples found. Loading it...\n",
            "2024-01-12 10:38:34 5a87d7437bf0 Coach[366] INFO Loading done!\n",
            "2024-01-12 10:38:34 5a87d7437bf0 __main__[366] INFO Starting the learning process 🎉\n",
            "2024-01-12 10:38:34 5a87d7437bf0 Coach[366] INFO Starting Iter #1 ...\n"
          ]
        },
        {
          "metadata": {
            "tags": null
          },
          "name": "stdout",
          "output_type": "stream",
          "text": [
            "Checkpoint Directory exists! \n"
          ]
        },
        {
          "metadata": {
            "tags": null
          },
          "name": "stderr",
          "output_type": "stream",
          "text": [
            "/usr/local/lib/python3.10/dist-packages/keras/src/engine/training.py:3103: UserWarning: You are saving your model as an HDF5 file via `model.save()`. This file format is considered legacy. We recommend using instead the native Keras format, e.g. `model.save('my_model.keras')`.\n",
            "  saving_api.save_model(\n"
          ]
        },
        {
          "metadata": {
            "tags": null
          },
          "name": "stdout",
          "output_type": "stream",
          "text": [
            "Epoch 1/10\n",
            "829/829 [==============================] - 118s 141ms/step - loss: 1.2244 - pi_loss: 1.1257 - v_loss: 0.0987\n",
            "Epoch 2/10\n",
            "829/829 [==============================] - 115s 139ms/step - loss: 1.1945 - pi_loss: 1.0945 - v_loss: 0.0999\n",
            "Epoch 3/10\n",
            "829/829 [==============================] - 117s 142ms/step - loss: 1.1524 - pi_loss: 1.0571 - v_loss: 0.0954\n",
            "Epoch 4/10\n",
            "829/829 [==============================] - 119s 143ms/step - loss: 1.1259 - pi_loss: 1.0331 - v_loss: 0.0928\n",
            "Epoch 5/10\n",
            "829/829 [==============================] - 118s 142ms/step - loss: 1.0916 - pi_loss: 0.9998 - v_loss: 0.0918\n",
            "Epoch 6/10\n",
            "829/829 [==============================] - 119s 144ms/step - loss: 1.0682 - pi_loss: 0.9793 - v_loss: 0.0889\n",
            "Epoch 7/10\n",
            "829/829 [==============================] - 120s 144ms/step - loss: 1.0475 - pi_loss: 0.9587 - v_loss: 0.0888\n",
            "Epoch 8/10\n",
            "829/829 [==============================] - 118s 143ms/step - loss: 1.0325 - pi_loss: 0.9443 - v_loss: 0.0881\n",
            "Epoch 9/10\n",
            "829/829 [==============================] - 123s 149ms/step - loss: 1.0081 - pi_loss: 0.9209 - v_loss: 0.0872\n",
            "Epoch 10/10\n",
            "829/829 [==============================] - 120s 145ms/step - loss: 0.9988 - pi_loss: 0.9125 - v_loss: 0.0863\n"
          ]
        },
        {
          "metadata": {
            "tags": null
          },
          "name": "stderr",
          "output_type": "stream",
          "text": [
            "2024-01-12 10:58:32 5a87d7437bf0 Coach[366] INFO PITTING AGAINST PREVIOUS VERSION\n",
            "Arena.playGames (1):   0%|          | 0/10 [00:00<?, ?it/s]2024-01-12 10:59:45 5a87d7437bf0 MCTS[366] WARNING Max depth reached!\n",
            "2024-01-12 11:00:38 5a87d7437bf0 MCTS[366] WARNING Max depth reached!\n",
            "2024-01-12 11:00:55 5a87d7437bf0 MCTS[366] WARNING Max depth reached!\n",
            "Arena.playGames (1): 100%|██████████| 10/10 [14:21<00:00, 86.14s/it]\n",
            "Arena.playGames (2):  50%|█████     | 5/10 [06:49<06:41, 80.31s/it]2024-01-12 11:21:02 5a87d7437bf0 MCTS[366] WARNING Max depth reached!\n",
            "Arena.playGames (2):  90%|█████████ | 9/10 [12:23<01:24, 84.27s/it]2024-01-12 11:26:36 5a87d7437bf0 MCTS[366] WARNING Max depth reached!\n",
            "2024-01-12 11:26:44 5a87d7437bf0 MCTS[366] WARNING Max depth reached!\n",
            "2024-01-12 11:26:51 5a87d7437bf0 MCTS[366] WARNING Max depth reached!\n",
            "2024-01-12 11:27:05 5a87d7437bf0 MCTS[366] WARNING Max depth reached!\n",
            "2024-01-12 11:27:09 5a87d7437bf0 MCTS[366] WARNING Max depth reached!\n",
            "2024-01-12 11:27:24 5a87d7437bf0 MCTS[366] WARNING Max depth reached!\n",
            "Arena.playGames (2): 100%|██████████| 10/10 [14:57<00:00, 89.77s/it] \n",
            "2024-01-12 11:27:51 5a87d7437bf0 Coach[366] INFO NEW/PREV WINS : 8 / 12 ; DRAWS : 0\n",
            "2024-01-12 11:27:51 5a87d7437bf0 Coach[366] INFO REJECTING NEW MODEL\n",
            "2024-01-12 11:27:53 5a87d7437bf0 Coach[366] INFO Starting Iter #2 ...\n",
            "Self Play: 100%|██████████| 25/25 [33:26<00:00, 80.26s/it]\n"
          ]
        },
        {
          "metadata": {
            "tags": null
          },
          "name": "stdout",
          "output_type": "stream",
          "text": [
            "Checkpoint Directory exists! \n",
            "Epoch 1/10\n",
            "1014/1014 [==============================] - 145s 142ms/step - loss: 1.7063 - pi_loss: 1.5165 - v_loss: 0.1898\n",
            "Epoch 2/10\n",
            "1014/1014 [==============================] - 143s 141ms/step - loss: 1.4871 - pi_loss: 1.3551 - v_loss: 0.1321\n",
            "Epoch 3/10\n",
            "1014/1014 [==============================] - 143s 141ms/step - loss: 1.3930 - pi_loss: 1.2730 - v_loss: 0.1200\n",
            "Epoch 4/10\n",
            "1014/1014 [==============================] - 144s 142ms/step - loss: 1.3035 - pi_loss: 1.1922 - v_loss: 0.1113\n",
            "Epoch 5/10\n",
            "1014/1014 [==============================] - 144s 142ms/step - loss: 1.2528 - pi_loss: 1.1465 - v_loss: 0.1063\n",
            "Epoch 6/10\n",
            "1014/1014 [==============================] - 143s 141ms/step - loss: 1.2117 - pi_loss: 1.1071 - v_loss: 0.1046\n",
            "Epoch 7/10\n",
            "1014/1014 [==============================] - 144s 142ms/step - loss: 1.1741 - pi_loss: 1.0700 - v_loss: 0.1041\n",
            "Epoch 8/10\n",
            "1014/1014 [==============================] - 143s 141ms/step - loss: 1.1364 - pi_loss: 1.0367 - v_loss: 0.0998\n",
            "Epoch 9/10\n",
            "1014/1014 [==============================] - 144s 142ms/step - loss: 1.1055 - pi_loss: 1.0069 - v_loss: 0.0986\n",
            "Epoch 10/10\n",
            "1014/1014 [==============================] - 144s 142ms/step - loss: 1.0844 - pi_loss: 0.9871 - v_loss: 0.0974\n"
          ]
        },
        {
          "metadata": {
            "tags": null
          },
          "name": "stderr",
          "output_type": "stream",
          "text": [
            "2024-01-12 12:25:55 5a87d7437bf0 Coach[366] INFO PITTING AGAINST PREVIOUS VERSION\n",
            "Arena.playGames (1):  90%|█████████ | 9/10 [12:56<01:25, 85.46s/it]2024-01-12 12:40:08 5a87d7437bf0 MCTS[366] WARNING Max depth reached!\n",
            "2024-01-12 12:40:11 5a87d7437bf0 MCTS[366] WARNING Max depth reached!\n",
            "Arena.playGames (1): 100%|██████████| 10/10 [14:18<00:00, 85.86s/it]\n",
            "Arena.playGames (2):  40%|████      | 4/10 [05:11<08:01, 80.30s/it]2024-01-12 12:46:50 5a87d7437bf0 MCTS[366] WARNING Max depth reached!\n",
            "Arena.playGames (2): 100%|██████████| 10/10 [12:51<00:00, 77.13s/it]\n",
            "2024-01-12 12:53:05 5a87d7437bf0 Coach[366] INFO NEW/PREV WINS : 13 / 7 ; DRAWS : 0\n",
            "2024-01-12 12:53:05 5a87d7437bf0 Coach[366] INFO ACCEPTING NEW MODEL\n"
          ]
        },
        {
          "metadata": {
            "tags": null
          },
          "name": "stdout",
          "output_type": "stream",
          "text": [
            "Checkpoint Directory exists! \n",
            "Checkpoint Directory exists! \n"
          ]
        },
        {
          "metadata": {
            "tags": null
          },
          "name": "stderr",
          "output_type": "stream",
          "text": [
            "2024-01-12 12:53:09 5a87d7437bf0 Coach[366] INFO Starting Iter #3 ...\n",
            "Self Play:  40%|████      | 10/25 [13:05<19:51, 79.41s/it]2024-01-12 13:07:27 5a87d7437bf0 MCTS[366] WARNING Max depth reached!\n",
            "Self Play: 100%|██████████| 25/25 [33:46<00:00, 81.07s/it]\n"
          ]
        },
        {
          "metadata": {
            "tags": null
          },
          "name": "stdout",
          "output_type": "stream",
          "text": [
            "Checkpoint Directory exists! \n",
            "Epoch 1/10\n",
            "1194/1194 [==============================] - 186s 156ms/step - loss: 1.5307 - pi_loss: 1.3392 - v_loss: 0.1915\n",
            "Epoch 2/10\n",
            "1194/1194 [==============================] - 183s 154ms/step - loss: 1.3053 - pi_loss: 1.1707 - v_loss: 0.1347\n",
            "Epoch 3/10\n",
            "1194/1194 [==============================] - 184s 154ms/step - loss: 1.2286 - pi_loss: 1.1103 - v_loss: 0.1184\n",
            "Epoch 4/10\n",
            "1194/1194 [==============================] - 181s 152ms/step - loss: 1.1671 - pi_loss: 1.0540 - v_loss: 0.1131\n",
            "Epoch 5/10\n",
            "1194/1194 [==============================] - 180s 151ms/step - loss: 1.1297 - pi_loss: 1.0230 - v_loss: 0.1067\n",
            "Epoch 6/10\n",
            "1194/1194 [==============================] - 181s 152ms/step - loss: 1.0997 - pi_loss: 0.9940 - v_loss: 0.1057\n",
            "Epoch 7/10\n",
            "1194/1194 [==============================] - 182s 152ms/step - loss: 1.0585 - pi_loss: 0.9568 - v_loss: 0.1017\n",
            "Epoch 8/10\n",
            "1194/1194 [==============================] - 180s 151ms/step - loss: 1.0406 - pi_loss: 0.9394 - v_loss: 0.1013\n",
            "Epoch 9/10\n",
            "1194/1194 [==============================] - 179s 150ms/step - loss: 1.0271 - pi_loss: 0.9307 - v_loss: 0.0964\n",
            "Epoch 10/10\n",
            "1194/1194 [==============================] - 181s 152ms/step - loss: 1.0052 - pi_loss: 0.9086 - v_loss: 0.0966\n"
          ]
        },
        {
          "metadata": {
            "tags": null
          },
          "name": "stderr",
          "output_type": "stream",
          "text": [
            "2024-01-12 13:57:33 5a87d7437bf0 Coach[366] INFO PITTING AGAINST PREVIOUS VERSION\n",
            "Arena.playGames (1):  40%|████      | 4/10 [06:07<09:22, 93.68s/it]2024-01-12 14:05:08 5a87d7437bf0 MCTS[366] WARNING Max depth reached!\n",
            "Arena.playGames (1): 100%|██████████| 10/10 [15:22<00:00, 92.23s/it]\n",
            "Arena.playGames (2):   0%|          | 0/10 [00:00<?, ?it/s]2024-01-12 14:14:18 5a87d7437bf0 MCTS[366] WARNING Max depth reached!\n",
            "Arena.playGames (2):  30%|███       | 3/10 [03:46<08:41, 74.48s/it]2024-01-12 14:18:03 5a87d7437bf0 MCTS[366] WARNING Max depth reached!\n",
            "Arena.playGames (2): 100%|██████████| 10/10 [14:22<00:00, 86.22s/it]\n",
            "2024-01-12 14:27:18 5a87d7437bf0 Coach[366] INFO NEW/PREV WINS : 8 / 12 ; DRAWS : 0\n",
            "2024-01-12 14:27:18 5a87d7437bf0 Coach[366] INFO REJECTING NEW MODEL\n",
            "2024-01-12 14:27:20 5a87d7437bf0 Coach[366] INFO Starting Iter #4 ...\n",
            "Self Play:  44%|████▍     | 11/25 [17:02<21:01, 90.12s/it]2024-01-12 14:45:51 5a87d7437bf0 MCTS[366] WARNING Max depth reached!\n",
            "Self Play: 100%|██████████| 25/25 [37:00<00:00, 88.81s/it]\n"
          ]
        },
        {
          "metadata": {
            "tags": null
          },
          "name": "stdout",
          "output_type": "stream",
          "text": [
            "Checkpoint Directory exists! \n",
            "Epoch 1/10\n",
            "1391/1391 [==============================] - 204s 146ms/step - loss: 1.8350 - pi_loss: 1.5804 - v_loss: 0.2546\n",
            "Epoch 2/10\n",
            "1391/1391 [==============================] - 202s 145ms/step - loss: 1.5084 - pi_loss: 1.3478 - v_loss: 0.1606\n",
            "Epoch 3/10\n",
            "1391/1391 [==============================] - 203s 146ms/step - loss: 1.3874 - pi_loss: 1.2520 - v_loss: 0.1353\n",
            "Epoch 4/10\n",
            "1391/1391 [==============================] - 202s 145ms/step - loss: 1.3081 - pi_loss: 1.1831 - v_loss: 0.1250\n",
            "Epoch 5/10\n",
            "1391/1391 [==============================] - 203s 146ms/step - loss: 1.2483 - pi_loss: 1.1297 - v_loss: 0.1187\n",
            "Epoch 6/10\n",
            "1391/1391 [==============================] - 203s 146ms/step - loss: 1.1916 - pi_loss: 1.0786 - v_loss: 0.1130\n",
            "Epoch 7/10\n",
            "1391/1391 [==============================] - 203s 146ms/step - loss: 1.1525 - pi_loss: 1.0395 - v_loss: 0.1130\n",
            "Epoch 8/10\n",
            "1391/1391 [==============================] - 202s 145ms/step - loss: 1.1153 - pi_loss: 1.0084 - v_loss: 0.1069\n",
            "Epoch 9/10\n",
            "1391/1391 [==============================] - 202s 145ms/step - loss: 1.0892 - pi_loss: 0.9827 - v_loss: 0.1065\n",
            "Epoch 10/10\n",
            "1391/1391 [==============================] - 202s 145ms/step - loss: 1.0656 - pi_loss: 0.9635 - v_loss: 0.1020\n"
          ]
        },
        {
          "metadata": {
            "tags": null
          },
          "name": "stderr",
          "output_type": "stream",
          "text": [
            "2024-01-12 15:39:01 5a87d7437bf0 Coach[366] INFO PITTING AGAINST PREVIOUS VERSION\n",
            "Arena.playGames (1): 100%|██████████| 10/10 [15:26<00:00, 92.64s/it]\n",
            "Arena.playGames (2): 100%|██████████| 10/10 [15:07<00:00, 90.76s/it]\n",
            "2024-01-12 16:09:35 5a87d7437bf0 Coach[366] INFO NEW/PREV WINS : 10 / 10 ; DRAWS : 0\n",
            "2024-01-12 16:09:35 5a87d7437bf0 Coach[366] INFO REJECTING NEW MODEL\n",
            "2024-01-12 16:09:38 5a87d7437bf0 Coach[366] INFO Starting Iter #5 ...\n",
            "Self Play:  24%|██▍       | 6/25 [08:52<27:34, 87.05s/it]2024-01-12 16:19:57 5a87d7437bf0 MCTS[366] WARNING Max depth reached!\n",
            "Self Play:  40%|████      | 10/25 [14:28<21:27, 85.82s/it]2024-01-12 16:25:30 5a87d7437bf0 MCTS[366] WARNING Max depth reached!\n",
            "Self Play:  52%|█████▏    | 13/25 [18:25<16:14, 81.23s/it]2024-01-12 16:29:27 5a87d7437bf0 MCTS[366] WARNING Max depth reached!\n",
            "2024-01-12 16:29:35 5a87d7437bf0 MCTS[366] WARNING Max depth reached!\n",
            "Self Play:  56%|█████▌    | 14/25 [20:13<16:23, 89.39s/it]2024-01-12 16:31:24 5a87d7437bf0 MCTS[366] WARNING Max depth reached!\n",
            "Self Play: 100%|██████████| 25/25 [36:15<00:00, 87.04s/it]\n"
          ]
        },
        {
          "output_type": "stream",
          "name": "stdout",
          "text": [
            "Checkpoint Directory exists! \n",
            "Epoch 1/10\n",
            "1583/1583 [==============================] - 239s 150ms/step - loss: 2.0522 - pi_loss: 1.7456 - v_loss: 0.3066\n",
            "Epoch 2/10\n",
            "1583/1583 [==============================] - 239s 151ms/step - loss: 1.6920 - pi_loss: 1.5002 - v_loss: 0.1918\n",
            "Epoch 3/10\n",
            "1583/1583 [==============================] - 234s 148ms/step - loss: 1.5374 - pi_loss: 1.3834 - v_loss: 0.1541\n",
            "Epoch 4/10\n",
            "1583/1583 [==============================] - 234s 148ms/step - loss: 1.4339 - pi_loss: 1.2958 - v_loss: 0.1382\n",
            "Epoch 5/10\n",
            "1583/1583 [==============================] - 235s 149ms/step - loss: 1.3586 - pi_loss: 1.2294 - v_loss: 0.1292\n",
            "Epoch 6/10\n",
            "1583/1583 [==============================] - 239s 151ms/step - loss: 1.2903 - pi_loss: 1.1676 - v_loss: 0.1227\n",
            "Epoch 7/10\n",
            "1583/1583 [==============================] - 240s 152ms/step - loss: 1.2314 - pi_loss: 1.1137 - v_loss: 0.1177\n",
            "Epoch 8/10\n",
            "1583/1583 [==============================] - 238s 151ms/step - loss: 1.1931 - pi_loss: 1.0752 - v_loss: 0.1179\n",
            "Epoch 9/10\n",
            "1583/1583 [==============================] - 235s 148ms/step - loss: 1.1573 - pi_loss: 1.0451 - v_loss: 0.1122\n",
            "Epoch 10/10\n",
            "1583/1583 [==============================] - 233s 147ms/step - loss: 1.1239 - pi_loss: 1.0143 - v_loss: 0.1096\n"
          ]
        },
        {
          "output_type": "stream",
          "name": "stderr",
          "text": [
            "2024-01-12 17:26:35 5a87d7437bf0 Coach[366] INFO PITTING AGAINST PREVIOUS VERSION\n",
            "Arena.playGames (1):  60%|██████    | 6/10 [08:54<06:27, 96.87s/it]2024-01-12 17:37:01 5a87d7437bf0 MCTS[366] WARNING Max depth reached!\n",
            "2024-01-12 17:37:03 5a87d7437bf0 MCTS[366] WARNING Max depth reached!\n",
            "2024-01-12 17:37:06 5a87d7437bf0 MCTS[366] WARNING Max depth reached!\n",
            "2024-01-12 17:37:09 5a87d7437bf0 MCTS[366] WARNING Max depth reached!\n",
            "2024-01-12 17:37:10 5a87d7437bf0 Arena[366] ERROR Action 27 is not valid!\n",
            "Arena.playGames (1):  60%|██████    | 6/10 [10:35<07:03, 105.88s/it]\n",
            "2024-01-12 17:37:10 5a87d7437bf0 root[366] ERROR Internal Python error in the inspect module.\n",
            "Below is the traceback from this internal error.\n",
            "\n",
            "2024-01-12 17:37:11 5a87d7437bf0 root[366] INFO \n",
            "Unfortunately, your original traceback can not be constructed.\n",
            "\n",
            "2024-01-12 17:37:11 5a87d7437bf0 root[366] ERROR Internal Python error in the inspect module.\n",
            "Below is the traceback from this internal error.\n",
            "\n",
            "2024-01-12 17:37:11 5a87d7437bf0 root[366] INFO \n",
            "Unfortunately, your original traceback can not be constructed.\n",
            "\n",
            "2024-01-12 17:37:11 5a87d7437bf0 root[366] ERROR Internal Python error in the inspect module.\n",
            "Below is the traceback from this internal error.\n",
            "\n",
            "2024-01-12 17:37:11 5a87d7437bf0 root[366] INFO \n",
            "Unfortunately, your original traceback can not be constructed.\n",
            "\n"
          ]
        },
        {
          "output_type": "stream",
          "name": "stdout",
          "text": [
            "Traceback (most recent call last):\n",
            "  File \"/usr/local/lib/python3.10/dist-packages/IPython/core/interactiveshell.py\", line 3553, in run_code\n",
            "    exec(code_obj, self.user_global_ns, self.user_ns)\n",
            "  File \"<ipython-input-10-a41e002e1b7e>\", line 40, in <cell line: 40>\n",
            "    c.learn()\n",
            "  File \"/content/drive/MyDrive/go_trabalho2_liacd/Coach.py\", line 121, in learn\n",
            "    pwins, nwins, draws = arena.playGames(self.args.arenaCompare)\n",
            "  File \"/content/drive/MyDrive/go_trabalho2_liacd/Arena.py\", line 117, in playGames\n",
            "    gameResult = self.playGame(verbose=verbose)\n",
            "  File \"/content/drive/MyDrive/go_trabalho2_liacd/Arena.py\", line 87, in playGame\n",
            "    assert valids[action] > 0\n",
            "AssertionError\n",
            "\n",
            "During handling of the above exception, another exception occurred:\n",
            "\n",
            "Traceback (most recent call last):\n",
            "  File \"/usr/local/lib/python3.10/dist-packages/IPython/core/interactiveshell.py\", line 2099, in showtraceback\n",
            "    stb = value._render_traceback_()\n",
            "AttributeError: 'AssertionError' object has no attribute '_render_traceback_'\n",
            "\n",
            "During handling of the above exception, another exception occurred:\n",
            "\n",
            "Traceback (most recent call last):\n",
            "  File \"/usr/local/lib/python3.10/dist-packages/IPython/core/ultratb.py\", line 1101, in get_records\n",
            "    return _fixed_getinnerframes(etb, number_of_lines_of_context, tb_offset)\n",
            "  File \"/usr/local/lib/python3.10/dist-packages/IPython/core/ultratb.py\", line 248, in wrapped\n",
            "    return f(*args, **kwargs)\n",
            "  File \"/usr/local/lib/python3.10/dist-packages/IPython/core/ultratb.py\", line 281, in _fixed_getinnerframes\n",
            "    records = fix_frame_records_filenames(inspect.getinnerframes(etb, context))\n",
            "  File \"/usr/lib/python3.10/inspect.py\", line 1662, in getinnerframes\n",
            "    frameinfo = (tb.tb_frame,) + getframeinfo(tb, context)\n",
            "  File \"/usr/lib/python3.10/inspect.py\", line 1620, in getframeinfo\n",
            "    filename = getsourcefile(frame) or getfile(frame)\n",
            "  File \"/usr/lib/python3.10/inspect.py\", line 829, in getsourcefile\n",
            "    module = getmodule(object, filename)\n",
            "  File \"/usr/lib/python3.10/inspect.py\", line 861, in getmodule\n",
            "    file = getabsfile(object, _filename)\n",
            "  File \"/usr/lib/python3.10/inspect.py\", line 845, in getabsfile\n",
            "    return os.path.normcase(os.path.abspath(_filename))\n",
            "  File \"/usr/lib/python3.10/posixpath.py\", line 384, in abspath\n",
            "    cwd = os.getcwd()\n",
            "OSError: [Errno 107] Transport endpoint is not connected\n",
            "Traceback (most recent call last):\n",
            "  File \"/usr/local/lib/python3.10/dist-packages/IPython/core/interactiveshell.py\", line 3553, in run_code\n",
            "    exec(code_obj, self.user_global_ns, self.user_ns)\n",
            "  File \"<ipython-input-10-a41e002e1b7e>\", line 40, in <cell line: 40>\n",
            "    c.learn()\n",
            "  File \"/content/drive/MyDrive/go_trabalho2_liacd/Coach.py\", line 121, in learn\n",
            "    pwins, nwins, draws = arena.playGames(self.args.arenaCompare)\n",
            "  File \"/content/drive/MyDrive/go_trabalho2_liacd/Arena.py\", line 117, in playGames\n",
            "    gameResult = self.playGame(verbose=verbose)\n",
            "  File \"/content/drive/MyDrive/go_trabalho2_liacd/Arena.py\", line 87, in playGame\n",
            "    assert valids[action] > 0\n",
            "AssertionError\n",
            "\n",
            "During handling of the above exception, another exception occurred:\n",
            "\n",
            "Traceback (most recent call last):\n",
            "  File \"/usr/local/lib/python3.10/dist-packages/IPython/core/interactiveshell.py\", line 2099, in showtraceback\n",
            "    stb = value._render_traceback_()\n",
            "AttributeError: 'AssertionError' object has no attribute '_render_traceback_'\n",
            "\n",
            "During handling of the above exception, another exception occurred:\n",
            "\n",
            "Traceback (most recent call last):\n",
            "  File \"/usr/local/lib/python3.10/dist-packages/IPython/core/interactiveshell.py\", line 3473, in run_ast_nodes\n",
            "    if (await self.run_code(code, result,  async_=asy)):\n",
            "  File \"/usr/local/lib/python3.10/dist-packages/IPython/core/interactiveshell.py\", line 3575, in run_code\n",
            "    self.showtraceback(running_compiled_code=True)\n",
            "  File \"/usr/local/lib/python3.10/dist-packages/IPython/core/interactiveshell.py\", line 2101, in showtraceback\n",
            "    stb = self.InteractiveTB.structured_traceback(etype,\n",
            "  File \"/usr/local/lib/python3.10/dist-packages/IPython/core/ultratb.py\", line 1367, in structured_traceback\n",
            "    return FormattedTB.structured_traceback(\n",
            "  File \"/usr/local/lib/python3.10/dist-packages/IPython/core/ultratb.py\", line 1267, in structured_traceback\n",
            "    return VerboseTB.structured_traceback(\n",
            "  File \"/usr/local/lib/python3.10/dist-packages/IPython/core/ultratb.py\", line 1124, in structured_traceback\n",
            "    formatted_exception = self.format_exception_as_a_whole(etype, evalue, etb, number_of_lines_of_context,\n",
            "  File \"/usr/local/lib/python3.10/dist-packages/IPython/core/ultratb.py\", line 1082, in format_exception_as_a_whole\n",
            "    last_unique, recursion_repeat = find_recursion(orig_etype, evalue, records)\n",
            "  File \"/usr/local/lib/python3.10/dist-packages/IPython/core/ultratb.py\", line 382, in find_recursion\n",
            "    return len(records), 0\n",
            "TypeError: object of type 'NoneType' has no len()\n",
            "\n",
            "During handling of the above exception, another exception occurred:\n",
            "\n",
            "Traceback (most recent call last):\n",
            "  File \"/usr/local/lib/python3.10/dist-packages/IPython/core/interactiveshell.py\", line 2099, in showtraceback\n",
            "    stb = value._render_traceback_()\n",
            "AttributeError: 'TypeError' object has no attribute '_render_traceback_'\n",
            "\n",
            "During handling of the above exception, another exception occurred:\n",
            "\n",
            "Traceback (most recent call last):\n",
            "  File \"/usr/local/lib/python3.10/dist-packages/IPython/core/ultratb.py\", line 1101, in get_records\n",
            "    return _fixed_getinnerframes(etb, number_of_lines_of_context, tb_offset)\n",
            "  File \"/usr/local/lib/python3.10/dist-packages/IPython/core/ultratb.py\", line 248, in wrapped\n",
            "    return f(*args, **kwargs)\n",
            "  File \"/usr/local/lib/python3.10/dist-packages/IPython/core/ultratb.py\", line 281, in _fixed_getinnerframes\n",
            "    records = fix_frame_records_filenames(inspect.getinnerframes(etb, context))\n",
            "  File \"/usr/lib/python3.10/inspect.py\", line 1662, in getinnerframes\n",
            "    frameinfo = (tb.tb_frame,) + getframeinfo(tb, context)\n",
            "  File \"/usr/lib/python3.10/inspect.py\", line 1620, in getframeinfo\n",
            "    filename = getsourcefile(frame) or getfile(frame)\n",
            "  File \"/usr/lib/python3.10/inspect.py\", line 829, in getsourcefile\n",
            "    module = getmodule(object, filename)\n",
            "  File \"/usr/lib/python3.10/inspect.py\", line 861, in getmodule\n",
            "    file = getabsfile(object, _filename)\n",
            "  File \"/usr/lib/python3.10/inspect.py\", line 845, in getabsfile\n",
            "    return os.path.normcase(os.path.abspath(_filename))\n",
            "  File \"/usr/lib/python3.10/posixpath.py\", line 384, in abspath\n",
            "    cwd = os.getcwd()\n",
            "OSError: [Errno 107] Transport endpoint is not connected\n",
            "Traceback (most recent call last):\n",
            "  File \"/usr/local/lib/python3.10/dist-packages/IPython/core/interactiveshell.py\", line 3553, in run_code\n",
            "    exec(code_obj, self.user_global_ns, self.user_ns)\n",
            "  File \"<ipython-input-10-a41e002e1b7e>\", line 40, in <cell line: 40>\n",
            "    c.learn()\n",
            "  File \"/content/drive/MyDrive/go_trabalho2_liacd/Coach.py\", line 121, in learn\n",
            "    pwins, nwins, draws = arena.playGames(self.args.arenaCompare)\n",
            "  File \"/content/drive/MyDrive/go_trabalho2_liacd/Arena.py\", line 117, in playGames\n",
            "    gameResult = self.playGame(verbose=verbose)\n",
            "  File \"/content/drive/MyDrive/go_trabalho2_liacd/Arena.py\", line 87, in playGame\n",
            "    assert valids[action] > 0\n",
            "AssertionError\n",
            "\n",
            "During handling of the above exception, another exception occurred:\n",
            "\n",
            "Traceback (most recent call last):\n",
            "  File \"/usr/local/lib/python3.10/dist-packages/IPython/core/interactiveshell.py\", line 2099, in showtraceback\n",
            "    stb = value._render_traceback_()\n",
            "AttributeError: 'AssertionError' object has no attribute '_render_traceback_'\n",
            "\n",
            "During handling of the above exception, another exception occurred:\n",
            "\n",
            "Traceback (most recent call last):\n",
            "  File \"/usr/local/lib/python3.10/dist-packages/IPython/core/interactiveshell.py\", line 3473, in run_ast_nodes\n",
            "    if (await self.run_code(code, result,  async_=asy)):\n",
            "  File \"/usr/local/lib/python3.10/dist-packages/IPython/core/interactiveshell.py\", line 3575, in run_code\n",
            "    self.showtraceback(running_compiled_code=True)\n",
            "  File \"/usr/local/lib/python3.10/dist-packages/IPython/core/interactiveshell.py\", line 2101, in showtraceback\n",
            "    stb = self.InteractiveTB.structured_traceback(etype,\n",
            "  File \"/usr/local/lib/python3.10/dist-packages/IPython/core/ultratb.py\", line 1367, in structured_traceback\n",
            "    return FormattedTB.structured_traceback(\n",
            "  File \"/usr/local/lib/python3.10/dist-packages/IPython/core/ultratb.py\", line 1267, in structured_traceback\n",
            "    return VerboseTB.structured_traceback(\n",
            "  File \"/usr/local/lib/python3.10/dist-packages/IPython/core/ultratb.py\", line 1124, in structured_traceback\n",
            "    formatted_exception = self.format_exception_as_a_whole(etype, evalue, etb, number_of_lines_of_context,\n",
            "  File \"/usr/local/lib/python3.10/dist-packages/IPython/core/ultratb.py\", line 1082, in format_exception_as_a_whole\n",
            "    last_unique, recursion_repeat = find_recursion(orig_etype, evalue, records)\n",
            "  File \"/usr/local/lib/python3.10/dist-packages/IPython/core/ultratb.py\", line 382, in find_recursion\n",
            "    return len(records), 0\n",
            "TypeError: object of type 'NoneType' has no len()\n",
            "\n",
            "During handling of the above exception, another exception occurred:\n",
            "\n",
            "Traceback (most recent call last):\n",
            "  File \"/usr/local/lib/python3.10/dist-packages/IPython/core/interactiveshell.py\", line 2099, in showtraceback\n",
            "    stb = value._render_traceback_()\n",
            "AttributeError: 'TypeError' object has no attribute '_render_traceback_'\n",
            "\n",
            "During handling of the above exception, another exception occurred:\n",
            "\n",
            "Traceback (most recent call last):\n",
            "  File \"/usr/local/lib/python3.10/dist-packages/IPython/core/interactiveshell.py\", line 3030, in _run_cell\n",
            "    return runner(coro)\n",
            "  File \"/usr/local/lib/python3.10/dist-packages/IPython/core/async_helpers.py\", line 78, in _pseudo_sync_runner\n",
            "    coro.send(None)\n",
            "  File \"/usr/local/lib/python3.10/dist-packages/IPython/core/interactiveshell.py\", line 3257, in run_cell_async\n",
            "    has_raised = await self.run_ast_nodes(code_ast.body, cell_name,\n",
            "  File \"/usr/local/lib/python3.10/dist-packages/IPython/core/interactiveshell.py\", line 3492, in run_ast_nodes\n",
            "    self.showtraceback()\n",
            "  File \"/usr/local/lib/python3.10/dist-packages/IPython/core/interactiveshell.py\", line 2101, in showtraceback\n",
            "    stb = self.InteractiveTB.structured_traceback(etype,\n",
            "  File \"/usr/local/lib/python3.10/dist-packages/IPython/core/ultratb.py\", line 1367, in structured_traceback\n",
            "    return FormattedTB.structured_traceback(\n",
            "  File \"/usr/local/lib/python3.10/dist-packages/IPython/core/ultratb.py\", line 1267, in structured_traceback\n",
            "    return VerboseTB.structured_traceback(\n",
            "  File \"/usr/local/lib/python3.10/dist-packages/IPython/core/ultratb.py\", line 1142, in structured_traceback\n",
            "    formatted_exceptions += self.format_exception_as_a_whole(etype, evalue, etb, lines_of_context,\n",
            "  File \"/usr/local/lib/python3.10/dist-packages/IPython/core/ultratb.py\", line 1082, in format_exception_as_a_whole\n",
            "    last_unique, recursion_repeat = find_recursion(orig_etype, evalue, records)\n",
            "  File \"/usr/local/lib/python3.10/dist-packages/IPython/core/ultratb.py\", line 382, in find_recursion\n",
            "    return len(records), 0\n",
            "TypeError: object of type 'NoneType' has no len()\n",
            "\n",
            "During handling of the above exception, another exception occurred:\n",
            "\n",
            "Traceback (most recent call last):\n",
            "  File \"/usr/local/lib/python3.10/dist-packages/IPython/core/interactiveshell.py\", line 2099, in showtraceback\n",
            "    stb = value._render_traceback_()\n",
            "AttributeError: 'TypeError' object has no attribute '_render_traceback_'\n",
            "\n",
            "During handling of the above exception, another exception occurred:\n",
            "\n",
            "Traceback (most recent call last):\n",
            "  File \"/usr/local/lib/python3.10/dist-packages/IPython/core/ultratb.py\", line 1101, in get_records\n",
            "    return _fixed_getinnerframes(etb, number_of_lines_of_context, tb_offset)\n",
            "  File \"/usr/local/lib/python3.10/dist-packages/IPython/core/ultratb.py\", line 248, in wrapped\n",
            "    return f(*args, **kwargs)\n",
            "  File \"/usr/local/lib/python3.10/dist-packages/IPython/core/ultratb.py\", line 281, in _fixed_getinnerframes\n",
            "    records = fix_frame_records_filenames(inspect.getinnerframes(etb, context))\n",
            "  File \"/usr/lib/python3.10/inspect.py\", line 1662, in getinnerframes\n",
            "    frameinfo = (tb.tb_frame,) + getframeinfo(tb, context)\n",
            "  File \"/usr/lib/python3.10/inspect.py\", line 1620, in getframeinfo\n",
            "    filename = getsourcefile(frame) or getfile(frame)\n",
            "  File \"/usr/lib/python3.10/inspect.py\", line 829, in getsourcefile\n",
            "    module = getmodule(object, filename)\n",
            "  File \"/usr/lib/python3.10/inspect.py\", line 861, in getmodule\n",
            "    file = getabsfile(object, _filename)\n",
            "  File \"/usr/lib/python3.10/inspect.py\", line 845, in getabsfile\n",
            "    return os.path.normcase(os.path.abspath(_filename))\n",
            "  File \"/usr/lib/python3.10/posixpath.py\", line 384, in abspath\n",
            "    cwd = os.getcwd()\n",
            "OSError: [Errno 107] Transport endpoint is not connected\n"
          ]
        }
      ]
    },
    {
      "cell_type": "markdown",
      "source": [
        "Como mudamos de estratégia perto da data de entrega, não tivemos muito tempo para treinar. Se começassemos com esta estratégia desde o inicio do treino talvez tivessemos melhores resultados"
      ],
      "metadata": {
        "id": "FQ2EYL1Tmb0j"
      }
    }
  ],
  "metadata": {
    "colab": {
      "provenance": []
    },
    "kernelspec": {
      "display_name": "Python 3",
      "name": "python3"
    },
    "language_info": {
      "name": "python"
    }
  },
  "nbformat": 4,
  "nbformat_minor": 0
}